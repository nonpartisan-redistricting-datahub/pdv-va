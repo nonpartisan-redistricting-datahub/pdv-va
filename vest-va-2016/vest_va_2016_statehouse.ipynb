{
 "cells": [
  {
   "cell_type": "code",
   "execution_count": 2,
   "metadata": {},
   "outputs": [],
   "source": [
    "import pandas as pd\n",
    "import geopandas as gpd\n",
    "import matplotlib.pyplot as plt\n",
    "import maup\n",
    "from zipfile import ZipFile\n",
    "import numpy as np\n",
    "import os\n",
    "import shutil"
   ]
  },
  {
   "cell_type": "code",
   "execution_count": 8,
   "metadata": {},
   "outputs": [
    {
     "data": {
      "text/plain": [
       "Index(['COUNTYFP', 'LOCALITY', 'VTDST', 'PRECINCT', 'HOD_DIST', 'S16HODDEM',\n",
       "       'S16HODREP', 'S16HODWRI', 'geometry'],\n",
       "      dtype='object')"
      ]
     },
     "execution_count": 8,
     "metadata": {},
     "output_type": "execute_result"
    }
   ],
   "source": [
    "final.columns"
   ]
  },
  {
   "cell_type": "markdown",
   "metadata": {},
   "source": [
    "# State House Special Election"
   ]
  },
  {
   "cell_type": "code",
   "execution_count": 5,
   "metadata": {},
   "outputs": [
    {
     "data": {
      "text/plain": [
       "'/Users/lilyfalk/sandbox/pdv-va'"
      ]
     },
     "execution_count": 5,
     "metadata": {},
     "output_type": "execute_result"
    }
   ],
   "source": [
    "pwd"
   ]
  },
  {
   "cell_type": "code",
   "execution_count": 6,
   "metadata": {},
   "outputs": [
    {
     "data": {
      "text/html": [
       "<div>\n",
       "<style scoped>\n",
       "    .dataframe tbody tr th:only-of-type {\n",
       "        vertical-align: middle;\n",
       "    }\n",
       "\n",
       "    .dataframe tbody tr th {\n",
       "        vertical-align: top;\n",
       "    }\n",
       "\n",
       "    .dataframe thead th {\n",
       "        text-align: right;\n",
       "    }\n",
       "</style>\n",
       "<table border=\"1\" class=\"dataframe\">\n",
       "  <thead>\n",
       "    <tr style=\"text-align: right;\">\n",
       "      <th></th>\n",
       "      <th>COUNTYFP</th>\n",
       "      <th>LOCALITY</th>\n",
       "      <th>VTDST</th>\n",
       "      <th>PRECINCT</th>\n",
       "      <th>HOD_DIST</th>\n",
       "      <th>S16HODDEM</th>\n",
       "      <th>S16HODREP</th>\n",
       "      <th>S16HODWRI</th>\n",
       "      <th>geometry</th>\n",
       "    </tr>\n",
       "  </thead>\n",
       "  <tbody>\n",
       "    <tr>\n",
       "      <th>0</th>\n",
       "      <td>095</td>\n",
       "      <td>James City County</td>\n",
       "      <td>000101</td>\n",
       "      <td>Berkeley A</td>\n",
       "      <td>093</td>\n",
       "      <td>1109</td>\n",
       "      <td>1681</td>\n",
       "      <td>14</td>\n",
       "      <td>POLYGON Z ((-76.82290 37.23270 0.00000, -76.81...</td>\n",
       "    </tr>\n",
       "    <tr>\n",
       "      <th>1</th>\n",
       "      <td>095</td>\n",
       "      <td>James City County</td>\n",
       "      <td>000201</td>\n",
       "      <td>Jamestown A</td>\n",
       "      <td>093</td>\n",
       "      <td>490</td>\n",
       "      <td>409</td>\n",
       "      <td>3</td>\n",
       "      <td>POLYGON Z ((-76.75462 37.26158 0.00000, -76.75...</td>\n",
       "    </tr>\n",
       "    <tr>\n",
       "      <th>2</th>\n",
       "      <td>095</td>\n",
       "      <td>James City County</td>\n",
       "      <td>000501</td>\n",
       "      <td>Roberts A</td>\n",
       "      <td>093</td>\n",
       "      <td>860</td>\n",
       "      <td>608</td>\n",
       "      <td>3</td>\n",
       "      <td>POLYGON Z ((-76.65883 37.20304 0.00000, -76.64...</td>\n",
       "    </tr>\n",
       "    <tr>\n",
       "      <th>3</th>\n",
       "      <td>095</td>\n",
       "      <td>James City County</td>\n",
       "      <td>000502</td>\n",
       "      <td>Roberts B</td>\n",
       "      <td>093</td>\n",
       "      <td>914</td>\n",
       "      <td>1727</td>\n",
       "      <td>6</td>\n",
       "      <td>POLYGON Z ((-76.70027 37.24874 0.00000, -76.70...</td>\n",
       "    </tr>\n",
       "    <tr>\n",
       "      <th>4</th>\n",
       "      <td>095</td>\n",
       "      <td>James City County</td>\n",
       "      <td>000503</td>\n",
       "      <td>Roberts C</td>\n",
       "      <td>093</td>\n",
       "      <td>327</td>\n",
       "      <td>194</td>\n",
       "      <td>3</td>\n",
       "      <td>POLYGON Z ((-76.68089 37.26080 0.00000, -76.68...</td>\n",
       "    </tr>\n",
       "  </tbody>\n",
       "</table>\n",
       "</div>"
      ],
      "text/plain": [
       "  COUNTYFP           LOCALITY   VTDST     PRECINCT HOD_DIST  S16HODDEM  \\\n",
       "0      095  James City County  000101   Berkeley A      093       1109   \n",
       "1      095  James City County  000201  Jamestown A      093        490   \n",
       "2      095  James City County  000501    Roberts A      093        860   \n",
       "3      095  James City County  000502    Roberts B      093        914   \n",
       "4      095  James City County  000503    Roberts C      093        327   \n",
       "\n",
       "   S16HODREP  S16HODWRI                                           geometry  \n",
       "0       1681         14  POLYGON Z ((-76.82290 37.23270 0.00000, -76.81...  \n",
       "1        409          3  POLYGON Z ((-76.75462 37.26158 0.00000, -76.75...  \n",
       "2        608          3  POLYGON Z ((-76.65883 37.20304 0.00000, -76.64...  \n",
       "3       1727          6  POLYGON Z ((-76.70027 37.24874 0.00000, -76.70...  \n",
       "4        194          3  POLYGON Z ((-76.68089 37.26080 0.00000, -76.68...  "
      ]
     },
     "execution_count": 6,
     "metadata": {},
     "output_type": "execute_result"
    }
   ],
   "source": [
    "final = gpd.read_file('./vest_va_2016/va_2016_statehouse_special/va_2016_statehouse_special.shp')\n",
    "final.head()"
   ]
  },
  {
   "cell_type": "code",
   "execution_count": 7,
   "metadata": {},
   "outputs": [],
   "source": [
    "county_dict = pd.Series(final['COUNTYFP'].values, index = final['LOCALITY']).to_dict()"
   ]
  },
  {
   "cell_type": "markdown",
   "metadata": {},
   "source": [
    "# Raw Election Results"
   ]
  },
  {
   "cell_type": "markdown",
   "metadata": {},
   "source": [
    "### District 77"
   ]
  },
  {
   "cell_type": "code",
   "execution_count": 9,
   "metadata": {},
   "outputs": [],
   "source": [
    "df77 = pd.read_csv('./vest_va_2016/Virginia_Elections_Database__2016_House_of_Delegates_General_Election_District_77_including_precincts.csv')"
   ]
  },
  {
   "cell_type": "code",
   "execution_count": 10,
   "metadata": {},
   "outputs": [
    {
     "data": {
      "text/html": [
       "<div>\n",
       "<style scoped>\n",
       "    .dataframe tbody tr th:only-of-type {\n",
       "        vertical-align: middle;\n",
       "    }\n",
       "\n",
       "    .dataframe tbody tr th {\n",
       "        vertical-align: top;\n",
       "    }\n",
       "\n",
       "    .dataframe thead th {\n",
       "        text-align: right;\n",
       "    }\n",
       "</style>\n",
       "<table border=\"1\" class=\"dataframe\">\n",
       "  <thead>\n",
       "    <tr style=\"text-align: right;\">\n",
       "      <th></th>\n",
       "      <th>County/City</th>\n",
       "      <th>Ward</th>\n",
       "      <th>Pct</th>\n",
       "      <th>Clifton Eugene Hayes, Jr</th>\n",
       "      <th>All Others</th>\n",
       "      <th>Total Votes Cast</th>\n",
       "    </tr>\n",
       "  </thead>\n",
       "  <tbody>\n",
       "    <tr>\n",
       "      <th>0</th>\n",
       "      <td>NaN</td>\n",
       "      <td>NaN</td>\n",
       "      <td>NaN</td>\n",
       "      <td>Democratic</td>\n",
       "      <td>NaN</td>\n",
       "      <td>NaN</td>\n",
       "    </tr>\n",
       "    <tr>\n",
       "      <th>1</th>\n",
       "      <td>Chesapeake City</td>\n",
       "      <td>-</td>\n",
       "      <td>3 - Camelot</td>\n",
       "      <td>1,831</td>\n",
       "      <td>27.0</td>\n",
       "      <td>1,858</td>\n",
       "    </tr>\n",
       "    <tr>\n",
       "      <th>2</th>\n",
       "      <td>Chesapeake City</td>\n",
       "      <td>-</td>\n",
       "      <td>5 - Crestwood</td>\n",
       "      <td>1,394</td>\n",
       "      <td>35.0</td>\n",
       "      <td>1,429</td>\n",
       "    </tr>\n",
       "    <tr>\n",
       "      <th>3</th>\n",
       "      <td>Chesapeake City</td>\n",
       "      <td>-</td>\n",
       "      <td>8 - South Norfolk Recreation</td>\n",
       "      <td>1,405</td>\n",
       "      <td>77.0</td>\n",
       "      <td>1,482</td>\n",
       "    </tr>\n",
       "    <tr>\n",
       "      <th>4</th>\n",
       "      <td>Chesapeake City</td>\n",
       "      <td>-</td>\n",
       "      <td>10 - Oscar Smith</td>\n",
       "      <td>647</td>\n",
       "      <td>47.0</td>\n",
       "      <td>694</td>\n",
       "    </tr>\n",
       "  </tbody>\n",
       "</table>\n",
       "</div>"
      ],
      "text/plain": [
       "       County/City Ward                           Pct  \\\n",
       "0              NaN  NaN                           NaN   \n",
       "1  Chesapeake City    -                   3 - Camelot   \n",
       "2  Chesapeake City    -                 5 - Crestwood   \n",
       "3  Chesapeake City    -  8 - South Norfolk Recreation   \n",
       "4  Chesapeake City    -              10 - Oscar Smith   \n",
       "\n",
       "  Clifton Eugene Hayes, Jr  All Others Total Votes Cast  \n",
       "0               Democratic         NaN              NaN  \n",
       "1                    1,831        27.0            1,858  \n",
       "2                    1,394        35.0            1,429  \n",
       "3                    1,405        77.0            1,482  \n",
       "4                      647        47.0              694  "
      ]
     },
     "execution_count": 10,
     "metadata": {},
     "output_type": "execute_result"
    }
   ],
   "source": [
    "df77.head()"
   ]
  },
  {
   "cell_type": "code",
   "execution_count": 11,
   "metadata": {},
   "outputs": [
    {
     "data": {
      "text/plain": [
       "3"
      ]
     },
     "execution_count": 11,
     "metadata": {},
     "output_type": "execute_result"
    }
   ],
   "source": [
    "df77['County/City'].nunique()"
   ]
  },
  {
   "cell_type": "code",
   "execution_count": 12,
   "metadata": {},
   "outputs": [
    {
     "data": {
      "text/plain": [
       "(31, 6)"
      ]
     },
     "execution_count": 12,
     "metadata": {},
     "output_type": "execute_result"
    }
   ],
   "source": [
    "df77.shape"
   ]
  },
  {
   "cell_type": "code",
   "execution_count": 13,
   "metadata": {},
   "outputs": [],
   "source": [
    "df77 = df77.iloc[1:]\n",
    "df77 = df77.drop(['Ward'], axis = 1)\n",
    "df77['HOD_DIST'] = '77'\n",
    "column_dict = {'County/City': 'LOCALITY', 'Clifton Eugene Hayes, Jr': 'S16HODDEM', \n",
    "               'All Others': 'S16HODWRI',\n",
    "              'Michael Paul Mullin': 'S16HODDEM', 'Heather Lynn Cordasco': 'S16HODREP'\n",
    "              }\n",
    "\n",
    "df77['LOCALITY'] = df77['County/City']\n",
    "df77['S16HODDEM'] = df77['Clifton Eugene Hayes, Jr']\n",
    "df77['S16HODWRI'] = df77['All Others']\n",
    "df77 = df77.drop(['County/City', 'Clifton Eugene Hayes, Jr', 'All Others'], axis = 1)"
   ]
  },
  {
   "cell_type": "code",
   "execution_count": 14,
   "metadata": {},
   "outputs": [
    {
     "data": {
      "text/html": [
       "<div>\n",
       "<style scoped>\n",
       "    .dataframe tbody tr th:only-of-type {\n",
       "        vertical-align: middle;\n",
       "    }\n",
       "\n",
       "    .dataframe tbody tr th {\n",
       "        vertical-align: top;\n",
       "    }\n",
       "\n",
       "    .dataframe thead th {\n",
       "        text-align: right;\n",
       "    }\n",
       "</style>\n",
       "<table border=\"1\" class=\"dataframe\">\n",
       "  <thead>\n",
       "    <tr style=\"text-align: right;\">\n",
       "      <th></th>\n",
       "      <th>Pct</th>\n",
       "      <th>Total Votes Cast</th>\n",
       "      <th>HOD_DIST</th>\n",
       "      <th>LOCALITY</th>\n",
       "      <th>S16HODDEM</th>\n",
       "      <th>S16HODWRI</th>\n",
       "    </tr>\n",
       "  </thead>\n",
       "  <tbody>\n",
       "    <tr>\n",
       "      <th>1</th>\n",
       "      <td>3 - Camelot</td>\n",
       "      <td>1,858</td>\n",
       "      <td>77</td>\n",
       "      <td>Chesapeake City</td>\n",
       "      <td>1,831</td>\n",
       "      <td>27.0</td>\n",
       "    </tr>\n",
       "    <tr>\n",
       "      <th>2</th>\n",
       "      <td>5 - Crestwood</td>\n",
       "      <td>1,429</td>\n",
       "      <td>77</td>\n",
       "      <td>Chesapeake City</td>\n",
       "      <td>1,394</td>\n",
       "      <td>35.0</td>\n",
       "    </tr>\n",
       "    <tr>\n",
       "      <th>3</th>\n",
       "      <td>8 - South Norfolk Recreation</td>\n",
       "      <td>1,482</td>\n",
       "      <td>77</td>\n",
       "      <td>Chesapeake City</td>\n",
       "      <td>1,405</td>\n",
       "      <td>77.0</td>\n",
       "    </tr>\n",
       "    <tr>\n",
       "      <th>4</th>\n",
       "      <td>10 - Oscar Smith</td>\n",
       "      <td>694</td>\n",
       "      <td>77</td>\n",
       "      <td>Chesapeake City</td>\n",
       "      <td>647</td>\n",
       "      <td>47.0</td>\n",
       "    </tr>\n",
       "    <tr>\n",
       "      <th>5</th>\n",
       "      <td>12 - Georgetown</td>\n",
       "      <td>1,253</td>\n",
       "      <td>77</td>\n",
       "      <td>Chesapeake City</td>\n",
       "      <td>1,217</td>\n",
       "      <td>36.0</td>\n",
       "    </tr>\n",
       "  </tbody>\n",
       "</table>\n",
       "</div>"
      ],
      "text/plain": [
       "                            Pct Total Votes Cast HOD_DIST         LOCALITY  \\\n",
       "1                   3 - Camelot            1,858       77  Chesapeake City   \n",
       "2                 5 - Crestwood            1,429       77  Chesapeake City   \n",
       "3  8 - South Norfolk Recreation            1,482       77  Chesapeake City   \n",
       "4              10 - Oscar Smith              694       77  Chesapeake City   \n",
       "5               12 - Georgetown            1,253       77  Chesapeake City   \n",
       "\n",
       "  S16HODDEM  S16HODWRI  \n",
       "1     1,831       27.0  \n",
       "2     1,394       35.0  \n",
       "3     1,405       77.0  \n",
       "4       647       47.0  \n",
       "5     1,217       36.0  "
      ]
     },
     "execution_count": 14,
     "metadata": {},
     "output_type": "execute_result"
    }
   ],
   "source": [
    "df77.head()"
   ]
  },
  {
   "cell_type": "code",
   "execution_count": 15,
   "metadata": {},
   "outputs": [
    {
     "data": {
      "text/plain": [
       "3"
      ]
     },
     "execution_count": 15,
     "metadata": {},
     "output_type": "execute_result"
    }
   ],
   "source": [
    "df77.LOCALITY.nunique()"
   ]
  },
  {
   "cell_type": "code",
   "execution_count": 16,
   "metadata": {},
   "outputs": [],
   "source": [
    "df77['COUNTYFP'] = df77['LOCALITY'].map(county_dict)"
   ]
  },
  {
   "cell_type": "code",
   "execution_count": 17,
   "metadata": {},
   "outputs": [
    {
     "data": {
      "text/plain": [
       "{'James City County': '095',\n",
       " 'York County': '199',\n",
       " 'Chesapeake City': '550',\n",
       " 'Newport News City': '700',\n",
       " 'Suffolk City': '800',\n",
       " 'Williamsburg City': '830'}"
      ]
     },
     "execution_count": 17,
     "metadata": {},
     "output_type": "execute_result"
    }
   ],
   "source": [
    "county_dict"
   ]
  },
  {
   "cell_type": "code",
   "execution_count": 18,
   "metadata": {},
   "outputs": [
    {
     "data": {
      "text/plain": [
       "Chesapeake City    20\n",
       "Suffolk City        9\n",
       "TOTALS              1\n",
       "Name: LOCALITY, dtype: int64"
      ]
     },
     "execution_count": 18,
     "metadata": {},
     "output_type": "execute_result"
    }
   ],
   "source": [
    "df77['LOCALITY'].value_counts()"
   ]
  },
  {
   "cell_type": "code",
   "execution_count": 19,
   "metadata": {},
   "outputs": [
    {
     "data": {
      "text/plain": [
       "2"
      ]
     },
     "execution_count": 19,
     "metadata": {},
     "output_type": "execute_result"
    }
   ],
   "source": [
    "df77.COUNTYFP.nunique()"
   ]
  },
  {
   "cell_type": "code",
   "execution_count": 20,
   "metadata": {},
   "outputs": [
    {
     "data": {
      "text/plain": [
       "550    20\n",
       "800     9\n",
       "Name: COUNTYFP, dtype: int64"
      ]
     },
     "execution_count": 20,
     "metadata": {},
     "output_type": "execute_result"
    }
   ],
   "source": [
    "df77.COUNTYFP.value_counts()"
   ]
  },
  {
   "cell_type": "code",
   "execution_count": 21,
   "metadata": {},
   "outputs": [],
   "source": [
    "df77['S16HODDEM'] = df77['S16HODDEM'].map(lambda x: str(x).replace(',', '')).astype(str).astype(float).astype(int)\n",
    "df77['S16HODWRI'] = df77['S16HODWRI'].map(lambda x: str(x).replace(',', '')).astype(str).astype(float).astype(int)"
   ]
  },
  {
   "cell_type": "code",
   "execution_count": 22,
   "metadata": {},
   "outputs": [
    {
     "data": {
      "text/html": [
       "<div>\n",
       "<style scoped>\n",
       "    .dataframe tbody tr th:only-of-type {\n",
       "        vertical-align: middle;\n",
       "    }\n",
       "\n",
       "    .dataframe tbody tr th {\n",
       "        vertical-align: top;\n",
       "    }\n",
       "\n",
       "    .dataframe thead th {\n",
       "        text-align: right;\n",
       "    }\n",
       "</style>\n",
       "<table border=\"1\" class=\"dataframe\">\n",
       "  <thead>\n",
       "    <tr style=\"text-align: right;\">\n",
       "      <th></th>\n",
       "      <th>S16HODDEM</th>\n",
       "      <th>S16HODWRI</th>\n",
       "    </tr>\n",
       "    <tr>\n",
       "      <th>COUNTYFP</th>\n",
       "      <th></th>\n",
       "      <th></th>\n",
       "    </tr>\n",
       "  </thead>\n",
       "  <tbody>\n",
       "    <tr>\n",
       "      <th>550</th>\n",
       "      <td>21701</td>\n",
       "      <td>793</td>\n",
       "    </tr>\n",
       "    <tr>\n",
       "      <th>800</th>\n",
       "      <td>5415</td>\n",
       "      <td>64</td>\n",
       "    </tr>\n",
       "  </tbody>\n",
       "</table>\n",
       "</div>"
      ],
      "text/plain": [
       "          S16HODDEM  S16HODWRI\n",
       "COUNTYFP                      \n",
       "550           21701        793\n",
       "800            5415         64"
      ]
     },
     "execution_count": 22,
     "metadata": {},
     "output_type": "execute_result"
    }
   ],
   "source": [
    "df77.groupby(['COUNTYFP']).sum()"
   ]
  },
  {
   "cell_type": "markdown",
   "metadata": {},
   "source": [
    "### District 93"
   ]
  },
  {
   "cell_type": "code",
   "execution_count": 23,
   "metadata": {},
   "outputs": [],
   "source": [
    "df93 = pd.read_csv('./vest_va_2016/Virginia_Elections_Database__2016_House_of_Delegates_General_Election_District_93_including_precincts.csv')"
   ]
  },
  {
   "cell_type": "code",
   "execution_count": 24,
   "metadata": {},
   "outputs": [
    {
     "data": {
      "text/html": [
       "<div>\n",
       "<style scoped>\n",
       "    .dataframe tbody tr th:only-of-type {\n",
       "        vertical-align: middle;\n",
       "    }\n",
       "\n",
       "    .dataframe tbody tr th {\n",
       "        vertical-align: top;\n",
       "    }\n",
       "\n",
       "    .dataframe thead th {\n",
       "        text-align: right;\n",
       "    }\n",
       "</style>\n",
       "<table border=\"1\" class=\"dataframe\">\n",
       "  <thead>\n",
       "    <tr style=\"text-align: right;\">\n",
       "      <th></th>\n",
       "      <th>County/City</th>\n",
       "      <th>Ward</th>\n",
       "      <th>Pct</th>\n",
       "      <th>Michael Paul Mullin</th>\n",
       "      <th>Heather Lynn Cordasco</th>\n",
       "      <th>All Others</th>\n",
       "      <th>Total Votes Cast</th>\n",
       "    </tr>\n",
       "  </thead>\n",
       "  <tbody>\n",
       "    <tr>\n",
       "      <th>0</th>\n",
       "      <td>NaN</td>\n",
       "      <td>NaN</td>\n",
       "      <td>NaN</td>\n",
       "      <td>Democratic</td>\n",
       "      <td>Republican</td>\n",
       "      <td>NaN</td>\n",
       "      <td>NaN</td>\n",
       "    </tr>\n",
       "    <tr>\n",
       "      <th>1</th>\n",
       "      <td>James City County</td>\n",
       "      <td>-</td>\n",
       "      <td>101 - Berkeley A</td>\n",
       "      <td>886</td>\n",
       "      <td>1,383</td>\n",
       "      <td>9.0</td>\n",
       "      <td>2,278</td>\n",
       "    </tr>\n",
       "    <tr>\n",
       "      <th>2</th>\n",
       "      <td>James City County</td>\n",
       "      <td>-</td>\n",
       "      <td>104- Berkeley D</td>\n",
       "      <td>324</td>\n",
       "      <td>341</td>\n",
       "      <td>1.0</td>\n",
       "      <td>666</td>\n",
       "    </tr>\n",
       "    <tr>\n",
       "      <th>3</th>\n",
       "      <td>James City County</td>\n",
       "      <td>-</td>\n",
       "      <td>201 - Jamestown A</td>\n",
       "      <td>391</td>\n",
       "      <td>337</td>\n",
       "      <td>2.0</td>\n",
       "      <td>730</td>\n",
       "    </tr>\n",
       "    <tr>\n",
       "      <th>4</th>\n",
       "      <td>James City County</td>\n",
       "      <td>-</td>\n",
       "      <td>501 - Roberts A</td>\n",
       "      <td>687</td>\n",
       "      <td>500</td>\n",
       "      <td>2.0</td>\n",
       "      <td>1,189</td>\n",
       "    </tr>\n",
       "  </tbody>\n",
       "</table>\n",
       "</div>"
      ],
      "text/plain": [
       "         County/City Ward                Pct Michael Paul Mullin  \\\n",
       "0                NaN  NaN                NaN          Democratic   \n",
       "1  James City County    -   101 - Berkeley A                 886   \n",
       "2  James City County    -    104- Berkeley D                 324   \n",
       "3  James City County    -  201 - Jamestown A                 391   \n",
       "4  James City County    -    501 - Roberts A                 687   \n",
       "\n",
       "  Heather Lynn Cordasco  All Others Total Votes Cast  \n",
       "0            Republican         NaN              NaN  \n",
       "1                 1,383         9.0            2,278  \n",
       "2                   341         1.0              666  \n",
       "3                   337         2.0              730  \n",
       "4                   500         2.0            1,189  "
      ]
     },
     "execution_count": 24,
     "metadata": {},
     "output_type": "execute_result"
    }
   ],
   "source": [
    "df93.head()"
   ]
  },
  {
   "cell_type": "code",
   "execution_count": 25,
   "metadata": {},
   "outputs": [
    {
     "name": "stdout",
     "output_type": "stream",
     "text": [
      "5\n",
      "4\n"
     ]
    }
   ],
   "source": [
    "print(df93['County/City'].nunique())\n",
    "df93 = df93.iloc[1:]\n",
    "df93['HOD_DIST'] = '93'\n",
    "df93['LOCALITY'] = df93['County/City']\n",
    "df93['S16HODDEM'] = df93['Michael Paul Mullin']\n",
    "df93['S16HODREP'] = df93['Heather Lynn Cordasco']\n",
    "df93['S16HODWRI'] = df93['All Others']\n",
    "df93 = df93.drop(['County/City', 'Michael Paul Mullin', 'Heather Lynn Cordasco', 'All Others', 'Ward'], axis = 1)\n",
    "\n",
    "df93['COUNTYFP'] = df93['LOCALITY'].map(county_dict)\n",
    "print(df93['COUNTYFP'].nunique())\n",
    "\n",
    "df93['S16HODDEM'] = df93['S16HODDEM'].map(lambda x: str(x).replace(',', '')).astype(str).astype(float).astype(int)\n",
    "df93['S16HODREP'] = df93['S16HODREP'].map(lambda x: str(x).replace(',', '')).astype(str).astype(float).astype(int)\n",
    "df93['S16HODWRI'] = df93['S16HODWRI'].map(lambda x: str(x).replace(',', '')).astype(str).astype(float).astype(int)"
   ]
  },
  {
   "cell_type": "code",
   "execution_count": 26,
   "metadata": {},
   "outputs": [
    {
     "data": {
      "text/plain": [
       "700    11\n",
       "095     9\n",
       "199     5\n",
       "830     4\n",
       "Name: COUNTYFP, dtype: int64"
      ]
     },
     "execution_count": 26,
     "metadata": {},
     "output_type": "execute_result"
    }
   ],
   "source": [
    "df93.COUNTYFP.value_counts()"
   ]
  },
  {
   "cell_type": "code",
   "execution_count": 27,
   "metadata": {},
   "outputs": [
    {
     "data": {
      "text/plain": [
       "Newport News City    11\n",
       "James City County     9\n",
       "York County           5\n",
       "Williamsburg City     4\n",
       "TOTALS                1\n",
       "Name: LOCALITY, dtype: int64"
      ]
     },
     "execution_count": 27,
     "metadata": {},
     "output_type": "execute_result"
    }
   ],
   "source": [
    "df93.LOCALITY.value_counts()"
   ]
  },
  {
   "cell_type": "code",
   "execution_count": 28,
   "metadata": {},
   "outputs": [
    {
     "data": {
      "text/html": [
       "<div>\n",
       "<style scoped>\n",
       "    .dataframe tbody tr th:only-of-type {\n",
       "        vertical-align: middle;\n",
       "    }\n",
       "\n",
       "    .dataframe tbody tr th {\n",
       "        vertical-align: top;\n",
       "    }\n",
       "\n",
       "    .dataframe thead th {\n",
       "        text-align: right;\n",
       "    }\n",
       "</style>\n",
       "<table border=\"1\" class=\"dataframe\">\n",
       "  <thead>\n",
       "    <tr style=\"text-align: right;\">\n",
       "      <th></th>\n",
       "      <th>S16HODDEM</th>\n",
       "      <th>S16HODREP</th>\n",
       "      <th>S16HODWRI</th>\n",
       "    </tr>\n",
       "    <tr>\n",
       "      <th>COUNTYFP</th>\n",
       "      <th></th>\n",
       "      <th></th>\n",
       "      <th></th>\n",
       "    </tr>\n",
       "  </thead>\n",
       "  <tbody>\n",
       "    <tr>\n",
       "      <th>095</th>\n",
       "      <td>5296</td>\n",
       "      <td>6499</td>\n",
       "      <td>31</td>\n",
       "    </tr>\n",
       "    <tr>\n",
       "      <th>199</th>\n",
       "      <td>1615</td>\n",
       "      <td>3148</td>\n",
       "      <td>14</td>\n",
       "    </tr>\n",
       "    <tr>\n",
       "      <th>700</th>\n",
       "      <td>8641</td>\n",
       "      <td>5475</td>\n",
       "      <td>35</td>\n",
       "    </tr>\n",
       "    <tr>\n",
       "      <th>830</th>\n",
       "      <td>4865</td>\n",
       "      <td>2512</td>\n",
       "      <td>17</td>\n",
       "    </tr>\n",
       "  </tbody>\n",
       "</table>\n",
       "</div>"
      ],
      "text/plain": [
       "          S16HODDEM  S16HODREP  S16HODWRI\n",
       "COUNTYFP                                 \n",
       "095            5296       6499         31\n",
       "199            1615       3148         14\n",
       "700            8641       5475         35\n",
       "830            4865       2512         17"
      ]
     },
     "execution_count": 28,
     "metadata": {},
     "output_type": "execute_result"
    }
   ],
   "source": [
    "df93.groupby(['COUNTYFP']).sum()"
   ]
  },
  {
   "cell_type": "code",
   "execution_count": 29,
   "metadata": {},
   "outputs": [
    {
     "data": {
      "text/plain": [
       "(30, 8)"
      ]
     },
     "execution_count": 29,
     "metadata": {},
     "output_type": "execute_result"
    }
   ],
   "source": [
    "df93.shape"
   ]
  },
  {
   "cell_type": "code",
   "execution_count": 30,
   "metadata": {},
   "outputs": [
    {
     "data": {
      "text/plain": [
       "077    25\n",
       "093    21\n",
       "Name: HOD_DIST, dtype: int64"
      ]
     },
     "execution_count": 30,
     "metadata": {},
     "output_type": "execute_result"
    }
   ],
   "source": [
    "final.HOD_DIST.value_counts()"
   ]
  },
  {
   "cell_type": "markdown",
   "metadata": {},
   "source": [
    "## Districts 77 and 93 together"
   ]
  },
  {
   "cell_type": "code",
   "execution_count": 31,
   "metadata": {},
   "outputs": [],
   "source": [
    "elections = []\n",
    "elections.append(df77)\n",
    "elections.append(df93)\n",
    "df = pd.concat(elections, axis = 0)\n",
    "\n",
    "df = df[df['LOCALITY'] != 'TOTALS']\n",
    "\n",
    "df = df.reset_index()"
   ]
  },
  {
   "cell_type": "markdown",
   "metadata": {},
   "source": [
    "## Reallocate Absentee Votes"
   ]
  },
  {
   "cell_type": "code",
   "execution_count": 32,
   "metadata": {},
   "outputs": [
    {
     "data": {
      "text/plain": [
       "700    11\n",
       "095     9\n",
       "199     5\n",
       "830     4\n",
       "Name: COUNTYFP, dtype: int64"
      ]
     },
     "execution_count": 32,
     "metadata": {},
     "output_type": "execute_result"
    }
   ],
   "source": [
    "df93.COUNTYFP.value_counts()"
   ]
  },
  {
   "cell_type": "code",
   "execution_count": 33,
   "metadata": {},
   "outputs": [
    {
     "data": {
      "text/plain": [
       "550    20\n",
       "800     9\n",
       "Name: COUNTYFP, dtype: int64"
      ]
     },
     "execution_count": 33,
     "metadata": {},
     "output_type": "execute_result"
    }
   ],
   "source": [
    "df77.COUNTYFP.value_counts() #no overlap in counties so no need to incorporate district to reallocate"
   ]
  },
  {
   "cell_type": "code",
   "execution_count": 34,
   "metadata": {},
   "outputs": [],
   "source": [
    "df = df.fillna(0)"
   ]
  },
  {
   "cell_type": "code",
   "execution_count": 35,
   "metadata": {},
   "outputs": [],
   "source": [
    "def get_absentee_frac(prec_tot, county_tot, absentee_tot):\n",
    "    '''A spec specifies in first line what function will do\n",
    "    Returns fraction of county absentee votes for a precinct for a candidate\n",
    "    \n",
    "    Keyword arguments: (put inputs to funtions and say what they should be)\n",
    "    precinct vote total for given candidate (int)\n",
    "    county vote total for given candidate, absentee and provisional votes not included (int)\n",
    "    absentee vote total for county for given candidate (int)\n",
    "    \n",
    "    \"Pure function\" bc only relies on inputs and outputs - only variables are ones that were passed as arguments\n",
    "    '''\n",
    "    if county_tot != 0:\n",
    "        prec_frac = prec_tot/county_tot\n",
    "        absentee_frac = prec_frac*absentee_tot\n",
    "    else:\n",
    "        absentee_frac = 0\n",
    "    return absentee_frac"
   ]
  },
  {
   "cell_type": "code",
   "execution_count": 36,
   "metadata": {},
   "outputs": [
    {
     "data": {
      "text/html": [
       "<div>\n",
       "<style scoped>\n",
       "    .dataframe tbody tr th:only-of-type {\n",
       "        vertical-align: middle;\n",
       "    }\n",
       "\n",
       "    .dataframe tbody tr th {\n",
       "        vertical-align: top;\n",
       "    }\n",
       "\n",
       "    .dataframe thead th {\n",
       "        text-align: right;\n",
       "    }\n",
       "</style>\n",
       "<table border=\"1\" class=\"dataframe\">\n",
       "  <thead>\n",
       "    <tr style=\"text-align: right;\">\n",
       "      <th></th>\n",
       "      <th>index</th>\n",
       "      <th>Pct</th>\n",
       "      <th>Total Votes Cast</th>\n",
       "      <th>HOD_DIST</th>\n",
       "      <th>LOCALITY</th>\n",
       "      <th>S16HODDEM</th>\n",
       "      <th>S16HODWRI</th>\n",
       "      <th>COUNTYFP</th>\n",
       "      <th>S16HODREP</th>\n",
       "    </tr>\n",
       "  </thead>\n",
       "  <tbody>\n",
       "    <tr>\n",
       "      <th>18</th>\n",
       "      <td>19</td>\n",
       "      <td>Ab - Central Absentee Precinct</td>\n",
       "      <td>2,939</td>\n",
       "      <td>77</td>\n",
       "      <td>Chesapeake City</td>\n",
       "      <td>2867</td>\n",
       "      <td>72</td>\n",
       "      <td>550</td>\n",
       "      <td>0.0</td>\n",
       "    </tr>\n",
       "    <tr>\n",
       "      <th>19</th>\n",
       "      <td>20</td>\n",
       "      <td>Provisional</td>\n",
       "      <td>16</td>\n",
       "      <td>77</td>\n",
       "      <td>Chesapeake City</td>\n",
       "      <td>16</td>\n",
       "      <td>0</td>\n",
       "      <td>550</td>\n",
       "      <td>0.0</td>\n",
       "    </tr>\n",
       "    <tr>\n",
       "      <th>27</th>\n",
       "      <td>28</td>\n",
       "      <td>Ab - Central Absentee Precinct</td>\n",
       "      <td>877</td>\n",
       "      <td>77</td>\n",
       "      <td>Suffolk City</td>\n",
       "      <td>868</td>\n",
       "      <td>9</td>\n",
       "      <td>800</td>\n",
       "      <td>0.0</td>\n",
       "    </tr>\n",
       "    <tr>\n",
       "      <th>28</th>\n",
       "      <td>29</td>\n",
       "      <td>Provisional</td>\n",
       "      <td>3</td>\n",
       "      <td>77</td>\n",
       "      <td>Suffolk City</td>\n",
       "      <td>3</td>\n",
       "      <td>0</td>\n",
       "      <td>800</td>\n",
       "      <td>0.0</td>\n",
       "    </tr>\n",
       "    <tr>\n",
       "      <th>36</th>\n",
       "      <td>8</td>\n",
       "      <td>Ab - Central Absentee Precinct</td>\n",
       "      <td>2,222</td>\n",
       "      <td>93</td>\n",
       "      <td>James City County</td>\n",
       "      <td>1066</td>\n",
       "      <td>9</td>\n",
       "      <td>095</td>\n",
       "      <td>1147.0</td>\n",
       "    </tr>\n",
       "    <tr>\n",
       "      <th>37</th>\n",
       "      <td>9</td>\n",
       "      <td>Provisional</td>\n",
       "      <td>6</td>\n",
       "      <td>93</td>\n",
       "      <td>James City County</td>\n",
       "      <td>1</td>\n",
       "      <td>1</td>\n",
       "      <td>095</td>\n",
       "      <td>4.0</td>\n",
       "    </tr>\n",
       "    <tr>\n",
       "      <th>47</th>\n",
       "      <td>19</td>\n",
       "      <td>Ab - Central Absentee Precinct</td>\n",
       "      <td>1,145</td>\n",
       "      <td>93</td>\n",
       "      <td>Newport News City</td>\n",
       "      <td>776</td>\n",
       "      <td>3</td>\n",
       "      <td>700</td>\n",
       "      <td>366.0</td>\n",
       "    </tr>\n",
       "    <tr>\n",
       "      <th>48</th>\n",
       "      <td>20</td>\n",
       "      <td>Provisional</td>\n",
       "      <td>13</td>\n",
       "      <td>93</td>\n",
       "      <td>Newport News City</td>\n",
       "      <td>6</td>\n",
       "      <td>0</td>\n",
       "      <td>700</td>\n",
       "      <td>7.0</td>\n",
       "    </tr>\n",
       "    <tr>\n",
       "      <th>51</th>\n",
       "      <td>23</td>\n",
       "      <td>Ab - Central Absentee Precinct</td>\n",
       "      <td>898</td>\n",
       "      <td>93</td>\n",
       "      <td>Williamsburg City</td>\n",
       "      <td>545</td>\n",
       "      <td>0</td>\n",
       "      <td>830</td>\n",
       "      <td>353.0</td>\n",
       "    </tr>\n",
       "    <tr>\n",
       "      <th>52</th>\n",
       "      <td>24</td>\n",
       "      <td>Provisional</td>\n",
       "      <td>12</td>\n",
       "      <td>93</td>\n",
       "      <td>Williamsburg City</td>\n",
       "      <td>6</td>\n",
       "      <td>0</td>\n",
       "      <td>830</td>\n",
       "      <td>6.0</td>\n",
       "    </tr>\n",
       "    <tr>\n",
       "      <th>56</th>\n",
       "      <td>28</td>\n",
       "      <td>Ab - Central Absentee Precinct</td>\n",
       "      <td>499</td>\n",
       "      <td>93</td>\n",
       "      <td>York County</td>\n",
       "      <td>201</td>\n",
       "      <td>2</td>\n",
       "      <td>199</td>\n",
       "      <td>296.0</td>\n",
       "    </tr>\n",
       "    <tr>\n",
       "      <th>57</th>\n",
       "      <td>29</td>\n",
       "      <td>Provisional</td>\n",
       "      <td>3</td>\n",
       "      <td>93</td>\n",
       "      <td>York County</td>\n",
       "      <td>3</td>\n",
       "      <td>0</td>\n",
       "      <td>199</td>\n",
       "      <td>0.0</td>\n",
       "    </tr>\n",
       "  </tbody>\n",
       "</table>\n",
       "</div>"
      ],
      "text/plain": [
       "    index                             Pct Total Votes Cast HOD_DIST  \\\n",
       "18     19  Ab - Central Absentee Precinct            2,939       77   \n",
       "19     20                     Provisional               16       77   \n",
       "27     28  Ab - Central Absentee Precinct              877       77   \n",
       "28     29                     Provisional                3       77   \n",
       "36      8  Ab - Central Absentee Precinct            2,222       93   \n",
       "37      9                     Provisional                6       93   \n",
       "47     19  Ab - Central Absentee Precinct            1,145       93   \n",
       "48     20                     Provisional               13       93   \n",
       "51     23  Ab - Central Absentee Precinct              898       93   \n",
       "52     24                     Provisional               12       93   \n",
       "56     28  Ab - Central Absentee Precinct              499       93   \n",
       "57     29                     Provisional                3       93   \n",
       "\n",
       "             LOCALITY  S16HODDEM  S16HODWRI COUNTYFP  S16HODREP  \n",
       "18    Chesapeake City       2867         72      550        0.0  \n",
       "19    Chesapeake City         16          0      550        0.0  \n",
       "27       Suffolk City        868          9      800        0.0  \n",
       "28       Suffolk City          3          0      800        0.0  \n",
       "36  James City County       1066          9      095     1147.0  \n",
       "37  James City County          1          1      095        4.0  \n",
       "47  Newport News City        776          3      700      366.0  \n",
       "48  Newport News City          6          0      700        7.0  \n",
       "51  Williamsburg City        545          0      830      353.0  \n",
       "52  Williamsburg City          6          0      830        6.0  \n",
       "56        York County        201          2      199      296.0  \n",
       "57        York County          3          0      199        0.0  "
      ]
     },
     "execution_count": 36,
     "metadata": {},
     "output_type": "execute_result"
    }
   ],
   "source": [
    "absentee_and_prov = df[(df['Pct'].map(lambda x: 'Absentee' in str(x))) | (df['Pct'].map(lambda x: 'Provisional' in str(x)))]\n",
    "absentee_and_prov"
   ]
  },
  {
   "cell_type": "code",
   "execution_count": 37,
   "metadata": {},
   "outputs": [
    {
     "data": {
      "text/plain": [
       "6"
      ]
     },
     "execution_count": 37,
     "metadata": {},
     "output_type": "execute_result"
    }
   ],
   "source": [
    "absentee_and_prov.COUNTYFP.nunique()"
   ]
  },
  {
   "cell_type": "code",
   "execution_count": 38,
   "metadata": {},
   "outputs": [
    {
     "data": {
      "text/plain": [
       "6"
      ]
     },
     "execution_count": 38,
     "metadata": {},
     "output_type": "execute_result"
    }
   ],
   "source": [
    "df.COUNTYFP.nunique()"
   ]
  },
  {
   "cell_type": "code",
   "execution_count": 39,
   "metadata": {},
   "outputs": [
    {
     "data": {
      "text/html": [
       "<div>\n",
       "<style scoped>\n",
       "    .dataframe tbody tr th:only-of-type {\n",
       "        vertical-align: middle;\n",
       "    }\n",
       "\n",
       "    .dataframe tbody tr th {\n",
       "        vertical-align: top;\n",
       "    }\n",
       "\n",
       "    .dataframe thead th {\n",
       "        text-align: right;\n",
       "    }\n",
       "</style>\n",
       "<table border=\"1\" class=\"dataframe\">\n",
       "  <thead>\n",
       "    <tr style=\"text-align: right;\">\n",
       "      <th></th>\n",
       "      <th>index</th>\n",
       "      <th>S16HODDEM</th>\n",
       "      <th>S16HODWRI</th>\n",
       "      <th>S16HODREP</th>\n",
       "    </tr>\n",
       "    <tr>\n",
       "      <th>COUNTYFP</th>\n",
       "      <th></th>\n",
       "      <th></th>\n",
       "      <th></th>\n",
       "      <th></th>\n",
       "    </tr>\n",
       "  </thead>\n",
       "  <tbody>\n",
       "    <tr>\n",
       "      <th>095</th>\n",
       "      <td>17</td>\n",
       "      <td>1067</td>\n",
       "      <td>10</td>\n",
       "      <td>1151.0</td>\n",
       "    </tr>\n",
       "    <tr>\n",
       "      <th>199</th>\n",
       "      <td>57</td>\n",
       "      <td>204</td>\n",
       "      <td>2</td>\n",
       "      <td>296.0</td>\n",
       "    </tr>\n",
       "    <tr>\n",
       "      <th>550</th>\n",
       "      <td>39</td>\n",
       "      <td>2883</td>\n",
       "      <td>72</td>\n",
       "      <td>0.0</td>\n",
       "    </tr>\n",
       "    <tr>\n",
       "      <th>700</th>\n",
       "      <td>39</td>\n",
       "      <td>782</td>\n",
       "      <td>3</td>\n",
       "      <td>373.0</td>\n",
       "    </tr>\n",
       "    <tr>\n",
       "      <th>800</th>\n",
       "      <td>57</td>\n",
       "      <td>871</td>\n",
       "      <td>9</td>\n",
       "      <td>0.0</td>\n",
       "    </tr>\n",
       "    <tr>\n",
       "      <th>830</th>\n",
       "      <td>47</td>\n",
       "      <td>551</td>\n",
       "      <td>0</td>\n",
       "      <td>359.0</td>\n",
       "    </tr>\n",
       "  </tbody>\n",
       "</table>\n",
       "</div>"
      ],
      "text/plain": [
       "          index  S16HODDEM  S16HODWRI  S16HODREP\n",
       "COUNTYFP                                        \n",
       "095          17       1067         10     1151.0\n",
       "199          57        204          2      296.0\n",
       "550          39       2883         72        0.0\n",
       "700          39        782          3      373.0\n",
       "800          57        871          9        0.0\n",
       "830          47        551          0      359.0"
      ]
     },
     "execution_count": 39,
     "metadata": {},
     "output_type": "execute_result"
    }
   ],
   "source": [
    "groupby_absentee_and_prov_tot = absentee_and_prov.groupby(['COUNTYFP']).sum()\n",
    "groupby_absentee_and_prov_tot"
   ]
  },
  {
   "cell_type": "code",
   "execution_count": 40,
   "metadata": {},
   "outputs": [],
   "source": [
    "groupby_county_df_tot = df.groupby(['COUNTYFP']).sum()\n",
    "df_no_absent_or_provisional = df[(df['Pct'].map(lambda x: 'Absentee' not in str(x))) & (df['Pct'].map(lambda x: 'Provisional' not in str(x)))\n",
    "                                & (df['LOCALITY'] != 'TOTALS')]\n",
    "groupby_county_tot_no_absentee = df_no_absent_or_provisional.groupby('COUNTYFP').sum()"
   ]
  },
  {
   "cell_type": "code",
   "execution_count": 41,
   "metadata": {},
   "outputs": [],
   "source": [
    "df_with_absentee_reallocated = df_no_absent_or_provisional.copy()\n",
    "for index, precinct_total_row_by_candidate in df_no_absent_or_provisional.iterrows():\n",
    "    #print(precinct_total_row_by_candidate)\n",
    "    county_fips = precinct_total_row_by_candidate['COUNTYFP']\n",
    "    county_total_row_by_candidate_no_absentee = groupby_county_tot_no_absentee.loc[county_fips]\n",
    "    county_absentee_and_provisional_by_candidate = groupby_absentee_and_prov_tot.loc[county_fips]\n",
    "    #print(precinct_total_row_by_candidate, county_total_row_by_candidate_no_absentee, county_absentee_and_provisional_by_candidate)\n",
    "    for candidate, votes in county_total_row_by_candidate_no_absentee.to_dict().items():\n",
    "        prec_tot = precinct_total_row_by_candidate[candidate]\n",
    "        #print('precinct total: ', prec_tot)\n",
    "        county_tot = votes\n",
    "        #print('county total: ', county_tot)\n",
    "        absentee_tot = county_absentee_and_provisional_by_candidate[candidate]\n",
    "        #print('absentee total: ', absentee_tot)\n",
    "        absentee_frac = get_absentee_frac(prec_tot, county_tot, absentee_tot)\n",
    "        #print('absentee votes to allocate to precinct: ', absentee_frac)\n",
    "        prec_with_absentee_allocation = round(prec_tot + absentee_frac)\n",
    "        #print('new precinct total: ', prec_with_absentee_allocation)\n",
    "        df_with_absentee_reallocated.loc[index, candidate] = round(prec_with_absentee_allocation) #index is row, candidate is column"
   ]
  },
  {
   "cell_type": "code",
   "execution_count": 42,
   "metadata": {},
   "outputs": [
    {
     "data": {
      "text/plain": [
       "(46, 9)"
      ]
     },
     "execution_count": 42,
     "metadata": {},
     "output_type": "execute_result"
    }
   ],
   "source": [
    "df_with_absentee_reallocated.shape"
   ]
  },
  {
   "cell_type": "code",
   "execution_count": 43,
   "metadata": {},
   "outputs": [
    {
     "data": {
      "text/plain": [
       "(46, 9)"
      ]
     },
     "execution_count": 43,
     "metadata": {},
     "output_type": "execute_result"
    }
   ],
   "source": [
    "final.shape"
   ]
  },
  {
   "cell_type": "markdown",
   "metadata": {},
   "source": [
    "## Check column sums"
   ]
  },
  {
   "cell_type": "code",
   "execution_count": 44,
   "metadata": {},
   "outputs": [
    {
     "data": {
      "text/plain": [
       "Index(['index', 'Pct', 'Total Votes Cast', 'HOD_DIST', 'LOCALITY', 'S16HODDEM',\n",
       "       'S16HODWRI', 'COUNTYFP', 'S16HODREP'],\n",
       "      dtype='object')"
      ]
     },
     "execution_count": 44,
     "metadata": {},
     "output_type": "execute_result"
    }
   ],
   "source": [
    "df_with_absentee_reallocated.columns"
   ]
  },
  {
   "cell_type": "code",
   "execution_count": 45,
   "metadata": {},
   "outputs": [],
   "source": [
    "column_list = ['S16HODDEM', 'S16HODWRI', 'S16HODREP']"
   ]
  },
  {
   "cell_type": "code",
   "execution_count": 46,
   "metadata": {},
   "outputs": [],
   "source": [
    "groupby_county_final = final.groupby('COUNTYFP').sum()\n",
    "groupby_df_with_absentee_reallocated = df_with_absentee_reallocated.groupby('COUNTYFP').sum()\n",
    "df_absentee_reallocate_with_final = pd.merge(groupby_df_with_absentee_reallocated, groupby_county_final, on = 'COUNTYFP', how = 'inner', suffixes = ('_x', '_y'))"
   ]
  },
  {
   "cell_type": "code",
   "execution_count": 47,
   "metadata": {},
   "outputs": [],
   "source": [
    "def sum_checker(df, column_list):\n",
    "    list_max = 0\n",
    "    for i in column_list:\n",
    "        left_sum = df[i+'_x'].sum()\n",
    "        right_sum = df[i+'_y'].sum()\n",
    "        if (left_sum == right_sum):\n",
    "            print('column: ', i, ' have the same sums')\n",
    "        \n",
    "        else:\n",
    "            diff = abs(left_sum - right_sum)\n",
    "            percent = abs(left_sum - right_sum)/left_sum\n",
    "            print('column: ', i)\n",
    "            print('RDH sum is ', str(left_sum))\n",
    "            print('Partner sum is ', str(right_sum))\n",
    "            print('their (absolute) difference is ', str(diff))\n",
    "            print('As a percentage of DF1 this is ', str(round(percent*100,5)) + '%')\n",
    "            if (percent>list_max):\n",
    "                list_max = percent\n",
    "            print('')\n",
    "    print('The max difference (as a percent of the total of on DF column is: ', str(round(list_max,5)))"
   ]
  },
  {
   "cell_type": "code",
   "execution_count": 48,
   "metadata": {},
   "outputs": [
    {
     "name": "stdout",
     "output_type": "stream",
     "text": [
      "column:  S16HODDEM\n",
      "RDH sum is  47536.0\n",
      "Partner sum is  47533\n",
      "their (absolute) difference is  3.0\n",
      "As a percentage of DF1 this is  0.00631%\n",
      "\n",
      "column:  S16HODWRI\n",
      "RDH sum is  955.0\n",
      "Partner sum is  954\n",
      "their (absolute) difference is  1.0\n",
      "As a percentage of DF1 this is  0.10471%\n",
      "\n",
      "column:  S16HODREP\n",
      "RDH sum is  17635.0\n",
      "Partner sum is  17634\n",
      "their (absolute) difference is  1.0\n",
      "As a percentage of DF1 this is  0.00567%\n",
      "\n",
      "The max difference (as a percent of the total of on DF column is:  0.00105\n"
     ]
    }
   ],
   "source": [
    "sum_checker(df_absentee_reallocate_with_final, column_list)"
   ]
  },
  {
   "cell_type": "code",
   "execution_count": 49,
   "metadata": {},
   "outputs": [
    {
     "data": {
      "text/plain": [
       "46"
      ]
     },
     "execution_count": 49,
     "metadata": {},
     "output_type": "execute_result"
    }
   ],
   "source": [
    "(df_with_absentee_reallocated.COUNTYFP + df_with_absentee_reallocated.Pct.str.slice(stop = 3)).nunique()"
   ]
  },
  {
   "cell_type": "code",
   "execution_count": 50,
   "metadata": {},
   "outputs": [
    {
     "data": {
      "text/plain": [
       "46"
      ]
     },
     "execution_count": 50,
     "metadata": {},
     "output_type": "execute_result"
    }
   ],
   "source": [
    "(final.COUNTYFP + final.VTDST.str.slice(start = 3)).nunique()"
   ]
  },
  {
   "cell_type": "markdown",
   "metadata": {},
   "source": [
    "### Create unique id to enable merge"
   ]
  },
  {
   "cell_type": "code",
   "execution_count": 51,
   "metadata": {},
   "outputs": [
    {
     "data": {
      "text/plain": [
       "{'55010 ',\n",
       " '55012 ',\n",
       " '55018 ',\n",
       " '55022 ',\n",
       " '55024 ',\n",
       " '55025 ',\n",
       " '55026 ',\n",
       " '55028 ',\n",
       " '55029 ',\n",
       " '5503 -',\n",
       " '55030 ',\n",
       " '55031 ',\n",
       " '55032 ',\n",
       " '55045 ',\n",
       " '55048 ',\n",
       " '5505 -',\n",
       " '55055 ',\n",
       " '5508 -',\n",
       " '8301 -',\n",
       " '8302 -'}"
      ]
     },
     "execution_count": 51,
     "metadata": {},
     "output_type": "execute_result"
    }
   ],
   "source": [
    "set(df_with_absentee_reallocated.COUNTYFP + df_with_absentee_reallocated.Pct.str.slice(stop = 3)) - set(final.COUNTYFP + final.VTDST.str.slice(start = 3))"
   ]
  },
  {
   "cell_type": "code",
   "execution_count": 52,
   "metadata": {},
   "outputs": [],
   "source": [
    "def vtdst_changer(vtdst):\n",
    "    if (vtdst[1:3] == ' -'):\n",
    "        two_lead_zero = '00' + vtdst[:1]\n",
    "        return two_lead_zero\n",
    "    elif (vtdst[1:3] == '- '):\n",
    "        two_lead_zero = '00' + vtdst[:1]\n",
    "        return two_lead_zero\n",
    "    elif (vtdst[-1:] == ' '):\n",
    "        one_lead_zero = '0' + vtdst[:2]\n",
    "        return one_lead_zero\n",
    "    elif (vtdst[-1:] == '-'):\n",
    "        one_lead_zero = '0' + vtdst[:2]\n",
    "        return one_lead_zero\n",
    "    else:\n",
    "        return vtdst"
   ]
  },
  {
   "cell_type": "code",
   "execution_count": 53,
   "metadata": {},
   "outputs": [
    {
     "data": {
      "text/html": [
       "<div>\n",
       "<style scoped>\n",
       "    .dataframe tbody tr th:only-of-type {\n",
       "        vertical-align: middle;\n",
       "    }\n",
       "\n",
       "    .dataframe tbody tr th {\n",
       "        vertical-align: top;\n",
       "    }\n",
       "\n",
       "    .dataframe thead th {\n",
       "        text-align: right;\n",
       "    }\n",
       "</style>\n",
       "<table border=\"1\" class=\"dataframe\">\n",
       "  <thead>\n",
       "    <tr style=\"text-align: right;\">\n",
       "      <th></th>\n",
       "      <th>index</th>\n",
       "      <th>Pct</th>\n",
       "      <th>Total Votes Cast</th>\n",
       "      <th>HOD_DIST</th>\n",
       "      <th>LOCALITY</th>\n",
       "      <th>S16HODDEM</th>\n",
       "      <th>S16HODWRI</th>\n",
       "      <th>COUNTYFP</th>\n",
       "      <th>S16HODREP</th>\n",
       "      <th>vtdst</th>\n",
       "    </tr>\n",
       "  </thead>\n",
       "  <tbody>\n",
       "    <tr>\n",
       "      <th>0</th>\n",
       "      <td>1.0</td>\n",
       "      <td>3 - Camelot</td>\n",
       "      <td>1,858</td>\n",
       "      <td>77</td>\n",
       "      <td>Chesapeake City</td>\n",
       "      <td>2112.0</td>\n",
       "      <td>30.0</td>\n",
       "      <td>550</td>\n",
       "      <td>0.0</td>\n",
       "      <td>003</td>\n",
       "    </tr>\n",
       "    <tr>\n",
       "      <th>1</th>\n",
       "      <td>2.0</td>\n",
       "      <td>5 - Crestwood</td>\n",
       "      <td>1,429</td>\n",
       "      <td>77</td>\n",
       "      <td>Chesapeake City</td>\n",
       "      <td>1608.0</td>\n",
       "      <td>38.0</td>\n",
       "      <td>550</td>\n",
       "      <td>0.0</td>\n",
       "      <td>005</td>\n",
       "    </tr>\n",
       "    <tr>\n",
       "      <th>2</th>\n",
       "      <td>4.0</td>\n",
       "      <td>8 - South Norfolk Recreation</td>\n",
       "      <td>1,482</td>\n",
       "      <td>77</td>\n",
       "      <td>Chesapeake City</td>\n",
       "      <td>1620.0</td>\n",
       "      <td>85.0</td>\n",
       "      <td>550</td>\n",
       "      <td>0.0</td>\n",
       "      <td>008</td>\n",
       "    </tr>\n",
       "    <tr>\n",
       "      <th>3</th>\n",
       "      <td>5.0</td>\n",
       "      <td>10 - Oscar Smith</td>\n",
       "      <td>694</td>\n",
       "      <td>77</td>\n",
       "      <td>Chesapeake City</td>\n",
       "      <td>746.0</td>\n",
       "      <td>52.0</td>\n",
       "      <td>550</td>\n",
       "      <td>0.0</td>\n",
       "      <td>010</td>\n",
       "    </tr>\n",
       "    <tr>\n",
       "      <th>4</th>\n",
       "      <td>6.0</td>\n",
       "      <td>12 - Georgetown</td>\n",
       "      <td>1,253</td>\n",
       "      <td>77</td>\n",
       "      <td>Chesapeake City</td>\n",
       "      <td>1403.0</td>\n",
       "      <td>40.0</td>\n",
       "      <td>550</td>\n",
       "      <td>0.0</td>\n",
       "      <td>012</td>\n",
       "    </tr>\n",
       "  </tbody>\n",
       "</table>\n",
       "</div>"
      ],
      "text/plain": [
       "   index                           Pct Total Votes Cast HOD_DIST  \\\n",
       "0    1.0                   3 - Camelot            1,858       77   \n",
       "1    2.0                 5 - Crestwood            1,429       77   \n",
       "2    4.0  8 - South Norfolk Recreation            1,482       77   \n",
       "3    5.0              10 - Oscar Smith              694       77   \n",
       "4    6.0               12 - Georgetown            1,253       77   \n",
       "\n",
       "          LOCALITY  S16HODDEM  S16HODWRI COUNTYFP  S16HODREP vtdst  \n",
       "0  Chesapeake City     2112.0       30.0      550        0.0   003  \n",
       "1  Chesapeake City     1608.0       38.0      550        0.0   005  \n",
       "2  Chesapeake City     1620.0       85.0      550        0.0   008  \n",
       "3  Chesapeake City      746.0       52.0      550        0.0   010  \n",
       "4  Chesapeake City     1403.0       40.0      550        0.0   012  "
      ]
     },
     "execution_count": 53,
     "metadata": {},
     "output_type": "execute_result"
    }
   ],
   "source": [
    "df_with_absentee_reallocated['vtdst'] = df_with_absentee_reallocated.Pct.str.slice(stop = 3)\n",
    "df_with_absentee_reallocated['vtdst'] = df_with_absentee_reallocated['vtdst'].apply(vtdst_changer)\n",
    "df_with_absentee_reallocated.head()"
   ]
  },
  {
   "cell_type": "code",
   "execution_count": 54,
   "metadata": {},
   "outputs": [
    {
     "data": {
      "text/html": [
       "<div>\n",
       "<style scoped>\n",
       "    .dataframe tbody tr th:only-of-type {\n",
       "        vertical-align: middle;\n",
       "    }\n",
       "\n",
       "    .dataframe tbody tr th {\n",
       "        vertical-align: top;\n",
       "    }\n",
       "\n",
       "    .dataframe thead th {\n",
       "        text-align: right;\n",
       "    }\n",
       "</style>\n",
       "<table border=\"1\" class=\"dataframe\">\n",
       "  <thead>\n",
       "    <tr style=\"text-align: right;\">\n",
       "      <th></th>\n",
       "      <th>index</th>\n",
       "      <th>Pct</th>\n",
       "      <th>Total Votes Cast</th>\n",
       "      <th>HOD_DIST</th>\n",
       "      <th>LOCALITY</th>\n",
       "      <th>S16HODDEM</th>\n",
       "      <th>S16HODWRI</th>\n",
       "      <th>COUNTYFP</th>\n",
       "      <th>S16HODREP</th>\n",
       "      <th>vtdst</th>\n",
       "      <th>unique_id</th>\n",
       "    </tr>\n",
       "  </thead>\n",
       "  <tbody>\n",
       "    <tr>\n",
       "      <th>0</th>\n",
       "      <td>1.0</td>\n",
       "      <td>3 - Camelot</td>\n",
       "      <td>1,858</td>\n",
       "      <td>77</td>\n",
       "      <td>Chesapeake City</td>\n",
       "      <td>2112.0</td>\n",
       "      <td>30.0</td>\n",
       "      <td>550</td>\n",
       "      <td>0.0</td>\n",
       "      <td>003</td>\n",
       "      <td>550003</td>\n",
       "    </tr>\n",
       "    <tr>\n",
       "      <th>1</th>\n",
       "      <td>2.0</td>\n",
       "      <td>5 - Crestwood</td>\n",
       "      <td>1,429</td>\n",
       "      <td>77</td>\n",
       "      <td>Chesapeake City</td>\n",
       "      <td>1608.0</td>\n",
       "      <td>38.0</td>\n",
       "      <td>550</td>\n",
       "      <td>0.0</td>\n",
       "      <td>005</td>\n",
       "      <td>550005</td>\n",
       "    </tr>\n",
       "    <tr>\n",
       "      <th>2</th>\n",
       "      <td>4.0</td>\n",
       "      <td>8 - South Norfolk Recreation</td>\n",
       "      <td>1,482</td>\n",
       "      <td>77</td>\n",
       "      <td>Chesapeake City</td>\n",
       "      <td>1620.0</td>\n",
       "      <td>85.0</td>\n",
       "      <td>550</td>\n",
       "      <td>0.0</td>\n",
       "      <td>008</td>\n",
       "      <td>550008</td>\n",
       "    </tr>\n",
       "    <tr>\n",
       "      <th>3</th>\n",
       "      <td>5.0</td>\n",
       "      <td>10 - Oscar Smith</td>\n",
       "      <td>694</td>\n",
       "      <td>77</td>\n",
       "      <td>Chesapeake City</td>\n",
       "      <td>746.0</td>\n",
       "      <td>52.0</td>\n",
       "      <td>550</td>\n",
       "      <td>0.0</td>\n",
       "      <td>010</td>\n",
       "      <td>550010</td>\n",
       "    </tr>\n",
       "    <tr>\n",
       "      <th>4</th>\n",
       "      <td>6.0</td>\n",
       "      <td>12 - Georgetown</td>\n",
       "      <td>1,253</td>\n",
       "      <td>77</td>\n",
       "      <td>Chesapeake City</td>\n",
       "      <td>1403.0</td>\n",
       "      <td>40.0</td>\n",
       "      <td>550</td>\n",
       "      <td>0.0</td>\n",
       "      <td>012</td>\n",
       "      <td>550012</td>\n",
       "    </tr>\n",
       "  </tbody>\n",
       "</table>\n",
       "</div>"
      ],
      "text/plain": [
       "   index                           Pct Total Votes Cast HOD_DIST  \\\n",
       "0    1.0                   3 - Camelot            1,858       77   \n",
       "1    2.0                 5 - Crestwood            1,429       77   \n",
       "2    4.0  8 - South Norfolk Recreation            1,482       77   \n",
       "3    5.0              10 - Oscar Smith              694       77   \n",
       "4    6.0               12 - Georgetown            1,253       77   \n",
       "\n",
       "          LOCALITY  S16HODDEM  S16HODWRI COUNTYFP  S16HODREP vtdst unique_id  \n",
       "0  Chesapeake City     2112.0       30.0      550        0.0   003    550003  \n",
       "1  Chesapeake City     1608.0       38.0      550        0.0   005    550005  \n",
       "2  Chesapeake City     1620.0       85.0      550        0.0   008    550008  \n",
       "3  Chesapeake City      746.0       52.0      550        0.0   010    550010  \n",
       "4  Chesapeake City     1403.0       40.0      550        0.0   012    550012  "
      ]
     },
     "execution_count": 54,
     "metadata": {},
     "output_type": "execute_result"
    }
   ],
   "source": [
    "df_with_absentee_reallocated['unique_id'] = df_with_absentee_reallocated['COUNTYFP'] + df_with_absentee_reallocated['vtdst']\n",
    "df_with_absentee_reallocated.head()"
   ]
  },
  {
   "cell_type": "code",
   "execution_count": 55,
   "metadata": {},
   "outputs": [],
   "source": [
    "final['unique_id'] = final.COUNTYFP + final.VTDST.str.slice(start = 3)"
   ]
  },
  {
   "cell_type": "code",
   "execution_count": 56,
   "metadata": {},
   "outputs": [
    {
     "name": "stdout",
     "output_type": "stream",
     "text": [
      "set()\n",
      "set()\n"
     ]
    }
   ],
   "source": [
    "print(set(df_with_absentee_reallocated.unique_id) - set(final.unique_id))\n",
    "print(set(final.unique_id) - set(df_with_absentee_reallocated.unique_id))"
   ]
  },
  {
   "cell_type": "markdown",
   "metadata": {},
   "source": [
    "# Shapefile"
   ]
  },
  {
   "cell_type": "code",
   "execution_count": 57,
   "metadata": {
    "collapsed": true,
    "jupyter": {
     "outputs_hidden": true
    }
   },
   "outputs": [
    {
     "name": "stdout",
     "output_type": "stream",
     "text": [
      "51580  added to list\n",
      "51117  added to list\n",
      "51121  added to list\n",
      "51119  added to list\n",
      "51770  added to list\n",
      "51181  added to list\n",
      "51175  added to list\n",
      "51143  added to list\n",
      "51520  added to list\n",
      "51127  added to list\n",
      "51740  added to list\n",
      "51111  added to list\n",
      "51145  added to list\n",
      "51510  added to list\n",
      "51187  added to list\n",
      "51173  added to list\n",
      "51001  added to list\n",
      "51650  added to list\n",
      "51037  added to list\n",
      "51063  added to list\n",
      "51097  added to list\n",
      "51099  added to list\n",
      "51009  added to list\n",
      "51660  added to list\n",
      "51036  added to list\n",
      "51031  added to list\n",
      "51007  added to list\n",
      "51053  added to list\n",
      "51065  added to list\n",
      "51091  added to list\n",
      "51047  added to list\n",
      "51071  added to list\n",
      "51085  added to list\n",
      "51049  added to list\n",
      "51620  added to list\n",
      "51680  added to list\n",
      "51025  added to list\n",
      "51013  added to list\n",
      "51810  added to list\n",
      "51077  added to list\n",
      "51083  added to list\n",
      "51079  added to list\n",
      "51610  added to list\n",
      "51041  added to list\n",
      "51015  added to list\n",
      "51023  added to list\n",
      "51820  added to list\n",
      "51169  added to list\n",
      "51700  added to list\n",
      "51193  added to list\n",
      "51167  added to list\n",
      "51133  added to list\n",
      "51550  added to list\n",
      "51595  added to list\n",
      "51105  added to list\n",
      "51159  added to list\n",
      "51730  added to list\n",
      "51195  added to list\n",
      "51161  added to list\n",
      "51157  added to list\n",
      "51103  added to list\n",
      "51135  added to list\n",
      "51790  added to list\n",
      "51720  added to list\n",
      "51149  added to list\n",
      "51171  added to list\n",
      "51185  added to list\n",
      "51147  added to list\n",
      "51570  added to list\n",
      "51113  added to list\n",
      "51125  added to list\n",
      "51141  added to list\n",
      "51710  added to list\n",
      "51179  added to list\n",
      "51177  added to list\n",
      "51183  added to list\n",
      "51775  added to list\n",
      "51540  added to list\n",
      "51115  added to list\n",
      "51093  added to list\n",
      "51067  added to list\n",
      "51600  added to list\n",
      "51069  added to list\n",
      "51051  added to list\n",
      "51005  added to list\n",
      "51830  added to list\n",
      "51033  added to list\n",
      "51057  added to list\n",
      "51095  added to list\n",
      "51061  added to list\n",
      "51630  added to list\n",
      "51059  added to list\n",
      "51690  added to list\n",
      "51035  added to list\n",
      "51800  added to list\n",
      "51003  added to list\n",
      "51670  added to list\n",
      "51019  added to list\n",
      "51683  added to list\n",
      "51021  added to list\n",
      "51017  added to list\n",
      "51840  added to list\n",
      "51043  added to list\n",
      "51081  added to list\n",
      "51075  added to list\n",
      "51011  added to list\n",
      "51678  added to list\n",
      "51640  added to list\n",
      "51029  added to list\n",
      "51685  added to list\n",
      "51027  added to list\n",
      "51087  added to list\n",
      "51073  added to list\n",
      "51089  added to list\n",
      "51045  added to list\n",
      "51137  added to list\n",
      "51750  added to list\n",
      "51139  added to list\n",
      "51101  added to list\n",
      "51155  added to list\n",
      "51199  added to list\n",
      "51163  added to list\n",
      "51735  added to list\n",
      "51197  added to list\n",
      "51590  added to list\n",
      "51107  added to list\n",
      "51131  added to list\n",
      "51760  added to list\n",
      "51109  added to list\n",
      "51165  added to list\n",
      "51191  added to list\n",
      "51153  added to list\n",
      "51530  added to list\n",
      "51580  added to list\n",
      "51117  added to list\n",
      "51121  added to list\n",
      "51119  added to list\n",
      "51770  added to list\n",
      "51181  added to list\n",
      "51175  added to list\n",
      "51143  added to list\n",
      "51520  added to list\n",
      "51127  added to list\n",
      "51740  added to list\n",
      "51111  added to list\n",
      "51145  added to list\n",
      "51510  added to list\n",
      "51187  added to list\n",
      "51173  added to list\n",
      "51001  added to list\n",
      "51650  added to list\n",
      "51037  added to list\n",
      "51063  added to list\n",
      "51097  added to list\n",
      "51099  added to list\n",
      "51009  added to list\n",
      "51660  added to list\n",
      "51036  added to list\n",
      "51031  added to list\n",
      "51007  added to list\n",
      "51053  added to list\n",
      "51065  added to list\n",
      "51091  added to list\n",
      "51047  added to list\n",
      "51071  added to list\n",
      "51085  added to list\n",
      "51049  added to list\n",
      "51620  added to list\n",
      "51680  added to list\n",
      "51025  added to list\n",
      "51013  added to list\n",
      "51810  added to list\n",
      "51077  added to list\n",
      "51083  added to list\n",
      "51079  added to list\n",
      "51610  added to list\n",
      "51041  added to list\n",
      "51015  added to list\n",
      "51023  added to list\n",
      "51820  added to list\n",
      "51169  added to list\n",
      "51700  added to list\n",
      "51193  added to list\n",
      "51167  added to list\n",
      "51133  added to list\n",
      "51550  added to list\n",
      "51595  added to list\n",
      "51105  added to list\n",
      "51159  added to list\n",
      "51730  added to list\n",
      "51195  added to list\n",
      "51161  added to list\n",
      "51157  added to list\n",
      "51103  added to list\n",
      "51135  added to list\n",
      "51790  added to list\n",
      "51720  added to list\n",
      "51149  added to list\n",
      "51171  added to list\n",
      "51185  added to list\n",
      "51147  added to list\n",
      "51570  added to list\n",
      "51113  added to list\n",
      "51125  added to list\n",
      "51141  added to list\n",
      "51710  added to list\n",
      "51179  added to list\n",
      "51177  added to list\n",
      "51183  added to list\n",
      "51775  added to list\n",
      "51540  added to list\n",
      "51115  added to list\n",
      "51093  added to list\n",
      "51067  added to list\n",
      "51600  added to list\n",
      "51069  added to list\n",
      "51051  added to list\n",
      "51005  added to list\n",
      "51830  added to list\n",
      "51033  added to list\n",
      "51057  added to list\n",
      "51095  added to list\n",
      "51061  added to list\n",
      "51630  added to list\n",
      "51059  added to list\n",
      "51690  added to list\n",
      "51035  added to list\n",
      "51800  added to list\n",
      "51003  added to list\n",
      "51670  added to list\n",
      "51019  added to list\n",
      "51683  added to list\n",
      "51021  added to list\n",
      "51017  added to list\n",
      "51840  added to list\n",
      "51043  added to list\n",
      "51081  added to list\n",
      "51075  added to list\n",
      "51011  added to list\n",
      "51678  added to list\n",
      "51640  added to list\n",
      "51029  added to list\n",
      "51685  added to list\n",
      "51027  added to list\n",
      "51087  added to list\n",
      "51073  added to list\n",
      "51089  added to list\n",
      "51045  added to list\n",
      "51137  added to list\n",
      "51750  added to list\n",
      "51139  added to list\n",
      "51101  added to list\n",
      "51155  added to list\n",
      "51199  added to list\n",
      "51163  added to list\n",
      "51735  added to list\n",
      "51197  added to list\n",
      "51590  added to list\n",
      "51107  added to list\n",
      "51131  added to list\n",
      "51760  added to list\n",
      "51109  added to list\n",
      "51165  added to list\n",
      "51191  added to list\n",
      "51153  added to list\n",
      "51530  added to list\n"
     ]
    }
   ],
   "source": [
    "county_fips = []\n",
    "for directory in os.listdir('./vest_va_2016/census_shps_by_county_all_unzip/'):\n",
    "    if not directory[0] == '.':\n",
    "        county_fips.append(directory[-5:])\n",
    "        \n",
    "proj = final.crs   \n",
    "\n",
    "county_vtds = []\n",
    "for i in county_fips: #i dont have fips_codes file\n",
    "    ref = './vest_va_2016/census_shps_by_county_all_unzip/partnership_shapefiles_19v2_'\n",
    "    vtd_ref = ref + i + '/PVS_19_v2_vtd_' + i + '.shp' \n",
    "    vtd_shp = gpd.read_file(vtd_ref)\n",
    "    print(i, ' added to list')\n",
    "    county_vtds.append(vtd_shp)\n",
    "\n",
    "global shp_vtd\n",
    "shp_vtd = gpd.GeoDataFrame(pd.concat(county_vtds, axis = 0) , crs = proj) \n",
    "\n",
    "county_sldl = []\n",
    "for i in county_fips: #i dont have fips_codes file\n",
    "    ref = './vest_va_2016/census_shps_by_county_all_unzip/partnership_shapefiles_19v2_'\n",
    "    sldl_ref = ref + i + '/PVS_19_v2_sldl_' + i + '.shp' #PVS_19_v2_sldl_51650\n",
    "    sldl_shp = gpd.read_file(sldl_ref)\n",
    "    print(i, ' added to list')\n",
    "    county_sldl.append(sldl_shp)\n",
    "\n",
    "global shp_sldl\n",
    "shp_sldl = gpd.GeoDataFrame(pd.concat(county_sldl, axis = 0) , crs = proj) \n",
    "\n",
    "overlay = gpd.overlay(shp_sldl, shp_vtd, how='intersection', make_valid=True, keep_geom_type=True)\n",
    "shp = overlay[(overlay.SLDLST == '077') | (overlay.SLDLST == '093')]"
   ]
  },
  {
   "cell_type": "code",
   "execution_count": 58,
   "metadata": {},
   "outputs": [
    {
     "data": {
      "text/plain": [
       "<matplotlib.axes._subplots.AxesSubplot at 0x7faef3bd3970>"
      ]
     },
     "execution_count": 58,
     "metadata": {},
     "output_type": "execute_result"
    },
    {
     "data": {
      "image/png": "[encoded data removed]",
      "text/plain": [
       "<Figure size 432x288 with 1 Axes>"
      ]
     },
     "metadata": {
      "needs_background": "light"
     },
     "output_type": "display_data"
    },
    {
     "data": {
      "image/png": "[encoded data removed]",
      "text/plain": [
       "<Figure size 432x288 with 1 Axes>"
      ]
     },
     "metadata": {
      "needs_background": "light"
     },
     "output_type": "display_data"
    }
   ],
   "source": [
    "shp.plot()\n",
    "final.plot()"
   ]
  },
  {
   "cell_type": "code",
   "execution_count": 59,
   "metadata": {},
   "outputs": [
    {
     "data": {
      "text/plain": [
       "(43, 42)"
      ]
     },
     "execution_count": 59,
     "metadata": {},
     "output_type": "execute_result"
    }
   ],
   "source": [
    "shp.shape"
   ]
  },
  {
   "cell_type": "code",
   "execution_count": 60,
   "metadata": {},
   "outputs": [
    {
     "data": {
      "text/plain": [
       "(46, 10)"
      ]
     },
     "execution_count": 60,
     "metadata": {},
     "output_type": "execute_result"
    }
   ],
   "source": [
    "final.shape"
   ]
  },
  {
   "cell_type": "code",
   "execution_count": 61,
   "metadata": {},
   "outputs": [
    {
     "data": {
      "text/plain": [
       "Index(['STATEFP_1', 'COUNTYFP_1', 'SLDLST', 'NAMELSAD_1', 'LSAD_1', 'PARTFLG',\n",
       "       'CHNG_TYPE_1', 'EFF_DATE', 'NEW_NAME', 'NEW_CODE', 'RELTYPE1',\n",
       "       'RELTYPE2', 'RELTYPE3', 'RELTYPE4', 'RELTYPE5', 'REL_ENT1', 'REL_ENT2',\n",
       "       'REL_ENT3', 'REL_ENT4', 'REL_ENT5', 'RELATE_1', 'JUSTIFY_1', 'LSY',\n",
       "       'NAME_1', 'VINTAGE_1', 'FUNCSTAT_1', 'STATEFP_2', 'COUNTYFP_2', 'VTDST',\n",
       "       'NAMELSAD_2', 'VTDI', 'LSAD_2', 'CHNG_TYPE_2', 'ORIG_NAME', 'ORIG_CODE',\n",
       "       'RELATE_2', 'NAME_2', 'VINTAGE_2', 'FUNCSTAT_2', 'JUSTIFY_2', 'MTFCC',\n",
       "       'geometry'],\n",
       "      dtype='object')"
      ]
     },
     "execution_count": 61,
     "metadata": {},
     "output_type": "execute_result"
    }
   ],
   "source": [
    "shp.columns"
   ]
  },
  {
   "cell_type": "code",
   "execution_count": 62,
   "metadata": {},
   "outputs": [
    {
     "name": "stdout",
     "output_type": "stream",
     "text": [
      "{'095042', '095041'}\n",
      "{'700108', '199401', '700211', '800601', '095104'}\n"
     ]
    }
   ],
   "source": [
    "print((set(shp.COUNTYFP_1 + shp.VTDST.str.slice(start = 3)) - set(final.COUNTYFP + final.VTDST.str.slice(start = 3))))\n",
    "print((set(final.COUNTYFP + final.VTDST.str.slice(start = 3)) - set(shp.COUNTYFP_1 + shp.VTDST.str.slice(start = 3))))"
   ]
  },
  {
   "cell_type": "code",
   "execution_count": 74,
   "metadata": {},
   "outputs": [
    {
     "data": {
      "text/html": [
       "<div>\n",
       "<style scoped>\n",
       "    .dataframe tbody tr th:only-of-type {\n",
       "        vertical-align: middle;\n",
       "    }\n",
       "\n",
       "    .dataframe tbody tr th {\n",
       "        vertical-align: top;\n",
       "    }\n",
       "\n",
       "    .dataframe thead th {\n",
       "        text-align: right;\n",
       "    }\n",
       "</style>\n",
       "<table border=\"1\" class=\"dataframe\">\n",
       "  <thead>\n",
       "    <tr style=\"text-align: right;\">\n",
       "      <th></th>\n",
       "      <th>COUNTYFP</th>\n",
       "      <th>LOCALITY</th>\n",
       "      <th>VTDST</th>\n",
       "      <th>PRECINCT</th>\n",
       "      <th>HOD_DIST</th>\n",
       "      <th>S16HODDEM</th>\n",
       "      <th>S16HODREP</th>\n",
       "      <th>S16HODWRI</th>\n",
       "      <th>geometry</th>\n",
       "      <th>unique_id</th>\n",
       "    </tr>\n",
       "  </thead>\n",
       "  <tbody>\n",
       "    <tr>\n",
       "      <th>34</th>\n",
       "      <td>095</td>\n",
       "      <td>James City County</td>\n",
       "      <td>000104</td>\n",
       "      <td>Berkeley D</td>\n",
       "      <td>093</td>\n",
       "      <td>406</td>\n",
       "      <td>414</td>\n",
       "      <td>1</td>\n",
       "      <td>MULTIPOLYGON Z (((-76.75418 37.24672 0.00000, ...</td>\n",
       "      <td>095104</td>\n",
       "    </tr>\n",
       "  </tbody>\n",
       "</table>\n",
       "</div>"
      ],
      "text/plain": [
       "   COUNTYFP           LOCALITY   VTDST    PRECINCT HOD_DIST  S16HODDEM  \\\n",
       "34      095  James City County  000104  Berkeley D      093        406   \n",
       "\n",
       "    S16HODREP  S16HODWRI                                           geometry  \\\n",
       "34        414          1  MULTIPOLYGON Z (((-76.75418 37.24672 0.00000, ...   \n",
       "\n",
       "   unique_id  \n",
       "34    095104  "
      ]
     },
     "execution_count": 74,
     "metadata": {},
     "output_type": "execute_result"
    }
   ],
   "source": [
    "final[final.unique_id == '095104']"
   ]
  },
  {
   "cell_type": "code",
   "execution_count": 63,
   "metadata": {},
   "outputs": [
    {
     "name": "stderr",
     "output_type": "stream",
     "text": [
      "/Users/lilyfalk/anaconda3/lib/python3.8/site-packages/geopandas/geodataframe.py:853: SettingWithCopyWarning: \n",
      "A value is trying to be set on a copy of a slice from a DataFrame.\n",
      "Try using .loc[row_indexer,col_indexer] = value instead\n",
      "\n",
      "See the caveats in the documentation: https://pandas.pydata.org/pandas-docs/stable/user_guide/indexing.html#returning-a-view-versus-a-copy\n",
      "  super(GeoDataFrame, self).__setitem__(key, value)\n"
     ]
    }
   ],
   "source": [
    "shp['unique_id'] = shp['COUNTYFP_1'] + shp['VTDST'].str.slice(start = 3)"
   ]
  },
  {
   "cell_type": "code",
   "execution_count": 64,
   "metadata": {},
   "outputs": [
    {
     "data": {
      "text/plain": [
       "<matplotlib.axes._subplots.AxesSubplot at 0x7faf10d79fd0>"
      ]
     },
     "execution_count": 64,
     "metadata": {},
     "output_type": "execute_result"
    },
    {
     "data": {
      "image/png": "[encoded data removed]",
      "text/plain": [
       "<Figure size 432x288 with 1 Axes>"
      ]
     },
     "metadata": {
      "needs_background": "light"
     },
     "output_type": "display_data"
    },
    {
     "data": {
      "image/png": "[encoded data removed]",
      "text/plain": [
       "<Figure size 432x288 with 1 Axes>"
      ]
     },
     "metadata": {
      "needs_background": "light"
     },
     "output_type": "display_data"
    }
   ],
   "source": [
    "shp[(shp['unique_id'] == '095041') | (shp['unique_id'] == '095042')].plot()\n",
    "final[final['unique_id'] == '095104'].plot()"
   ]
  },
  {
   "cell_type": "code",
   "execution_count": 65,
   "metadata": {},
   "outputs": [],
   "source": [
    "id_095_dict = {'095041': '095104', '095042': '095104'}"
   ]
  },
  {
   "cell_type": "code",
   "execution_count": 66,
   "metadata": {},
   "outputs": [
    {
     "name": "stderr",
     "output_type": "stream",
     "text": [
      "/Users/lilyfalk/anaconda3/lib/python3.8/site-packages/geopandas/geodataframe.py:853: SettingWithCopyWarning: \n",
      "A value is trying to be set on a copy of a slice from a DataFrame.\n",
      "Try using .loc[row_indexer,col_indexer] = value instead\n",
      "\n",
      "See the caveats in the documentation: https://pandas.pydata.org/pandas-docs/stable/user_guide/indexing.html#returning-a-view-versus-a-copy\n",
      "  super(GeoDataFrame, self).__setitem__(key, value)\n",
      "/Users/lilyfalk/anaconda3/lib/python3.8/site-packages/pandas/core/indexing.py:1743: SettingWithCopyWarning: \n",
      "A value is trying to be set on a copy of a slice from a DataFrame.\n",
      "Try using .loc[row_indexer,col_indexer] = value instead\n",
      "\n",
      "See the caveats in the documentation: https://pandas.pydata.org/pandas-docs/stable/user_guide/indexing.html#returning-a-view-versus-a-copy\n",
      "  isetter(ilocs[0], value)\n"
     ]
    },
    {
     "data": {
      "text/html": [
       "<div>\n",
       "<style scoped>\n",
       "    .dataframe tbody tr th:only-of-type {\n",
       "        vertical-align: middle;\n",
       "    }\n",
       "\n",
       "    .dataframe tbody tr th {\n",
       "        vertical-align: top;\n",
       "    }\n",
       "\n",
       "    .dataframe thead th {\n",
       "        text-align: right;\n",
       "    }\n",
       "</style>\n",
       "<table border=\"1\" class=\"dataframe\">\n",
       "  <thead>\n",
       "    <tr style=\"text-align: right;\">\n",
       "      <th></th>\n",
       "      <th>STATEFP_1</th>\n",
       "      <th>COUNTYFP_1</th>\n",
       "      <th>SLDLST</th>\n",
       "      <th>NAMELSAD_1</th>\n",
       "      <th>LSAD_1</th>\n",
       "      <th>PARTFLG</th>\n",
       "      <th>CHNG_TYPE_1</th>\n",
       "      <th>EFF_DATE</th>\n",
       "      <th>NEW_NAME</th>\n",
       "      <th>NEW_CODE</th>\n",
       "      <th>...</th>\n",
       "      <th>ORIG_CODE</th>\n",
       "      <th>RELATE_2</th>\n",
       "      <th>NAME_2</th>\n",
       "      <th>VINTAGE_2</th>\n",
       "      <th>FUNCSTAT_2</th>\n",
       "      <th>JUSTIFY_2</th>\n",
       "      <th>MTFCC</th>\n",
       "      <th>geometry</th>\n",
       "      <th>unique_id</th>\n",
       "      <th>unique_id_1</th>\n",
       "    </tr>\n",
       "  </thead>\n",
       "  <tbody>\n",
       "    <tr>\n",
       "      <th>167</th>\n",
       "      <td>51</td>\n",
       "      <td>095</td>\n",
       "      <td>093</td>\n",
       "      <td>State House District 93</td>\n",
       "      <td>LL</td>\n",
       "      <td>Y</td>\n",
       "      <td>None</td>\n",
       "      <td>None</td>\n",
       "      <td>None</td>\n",
       "      <td>None</td>\n",
       "      <td>...</td>\n",
       "      <td>None</td>\n",
       "      <td>None</td>\n",
       "      <td>Berkeley D Part 1</td>\n",
       "      <td>90</td>\n",
       "      <td>S</td>\n",
       "      <td>None</td>\n",
       "      <td>G5240</td>\n",
       "      <td>POLYGON Z ((-76.72393 37.18125 0.00000, -76.72...</td>\n",
       "      <td>095104</td>\n",
       "      <td>095041</td>\n",
       "    </tr>\n",
       "    <tr>\n",
       "      <th>1703</th>\n",
       "      <td>51</td>\n",
       "      <td>095</td>\n",
       "      <td>093</td>\n",
       "      <td>State House District 93</td>\n",
       "      <td>LL</td>\n",
       "      <td>Y</td>\n",
       "      <td>None</td>\n",
       "      <td>None</td>\n",
       "      <td>None</td>\n",
       "      <td>None</td>\n",
       "      <td>...</td>\n",
       "      <td>None</td>\n",
       "      <td>None</td>\n",
       "      <td>Berkeley D Part 2</td>\n",
       "      <td>90</td>\n",
       "      <td>S</td>\n",
       "      <td>None</td>\n",
       "      <td>G5240</td>\n",
       "      <td>POLYGON Z ((-76.75393 37.24534 0.00000, -76.75...</td>\n",
       "      <td>095104</td>\n",
       "      <td>095042</td>\n",
       "    </tr>\n",
       "  </tbody>\n",
       "</table>\n",
       "<p>2 rows × 44 columns</p>\n",
       "</div>"
      ],
      "text/plain": [
       "     STATEFP_1 COUNTYFP_1 SLDLST               NAMELSAD_1 LSAD_1 PARTFLG  \\\n",
       "167         51        095    093  State House District 93     LL       Y   \n",
       "1703        51        095    093  State House District 93     LL       Y   \n",
       "\n",
       "     CHNG_TYPE_1 EFF_DATE NEW_NAME NEW_CODE  ... ORIG_CODE RELATE_2  \\\n",
       "167         None     None     None     None  ...      None     None   \n",
       "1703        None     None     None     None  ...      None     None   \n",
       "\n",
       "                 NAME_2 VINTAGE_2 FUNCSTAT_2 JUSTIFY_2  MTFCC  \\\n",
       "167   Berkeley D Part 1        90          S      None  G5240   \n",
       "1703  Berkeley D Part 2        90          S      None  G5240   \n",
       "\n",
       "                                               geometry unique_id unique_id_1  \n",
       "167   POLYGON Z ((-76.72393 37.18125 0.00000, -76.72...    095104      095041  \n",
       "1703  POLYGON Z ((-76.75393 37.24534 0.00000, -76.75...    095104      095042  \n",
       "\n",
       "[2 rows x 44 columns]"
      ]
     },
     "execution_count": 66,
     "metadata": {},
     "output_type": "execute_result"
    }
   ],
   "source": [
    "shp['unique_id_1'] = shp['unique_id']\n",
    "shp.loc[shp['unique_id'].isin(id_095_dict.keys()), 'unique_id'] = shp.loc[shp['unique_id'].isin(id_095_dict.keys()), 'unique_id'].map(id_095_dict)\n",
    "shp.loc[shp['unique_id_1'].isin(id_095_dict.keys())]"
   ]
  },
  {
   "cell_type": "code",
   "execution_count": 67,
   "metadata": {},
   "outputs": [],
   "source": [
    "shp = shp.dissolve(by = 'unique_id', as_index = False)"
   ]
  },
  {
   "cell_type": "code",
   "execution_count": 68,
   "metadata": {},
   "outputs": [
    {
     "data": {
      "text/html": [
       "<div>\n",
       "<style scoped>\n",
       "    .dataframe tbody tr th:only-of-type {\n",
       "        vertical-align: middle;\n",
       "    }\n",
       "\n",
       "    .dataframe tbody tr th {\n",
       "        vertical-align: top;\n",
       "    }\n",
       "\n",
       "    .dataframe thead th {\n",
       "        text-align: right;\n",
       "    }\n",
       "</style>\n",
       "<table border=\"1\" class=\"dataframe\">\n",
       "  <thead>\n",
       "    <tr style=\"text-align: right;\">\n",
       "      <th></th>\n",
       "      <th>unique_id</th>\n",
       "      <th>geometry</th>\n",
       "      <th>STATEFP_1</th>\n",
       "      <th>COUNTYFP_1</th>\n",
       "      <th>SLDLST</th>\n",
       "      <th>NAMELSAD_1</th>\n",
       "      <th>LSAD_1</th>\n",
       "      <th>PARTFLG</th>\n",
       "      <th>CHNG_TYPE_1</th>\n",
       "      <th>EFF_DATE</th>\n",
       "      <th>...</th>\n",
       "      <th>CHNG_TYPE_2</th>\n",
       "      <th>ORIG_NAME</th>\n",
       "      <th>ORIG_CODE</th>\n",
       "      <th>RELATE_2</th>\n",
       "      <th>NAME_2</th>\n",
       "      <th>VINTAGE_2</th>\n",
       "      <th>FUNCSTAT_2</th>\n",
       "      <th>JUSTIFY_2</th>\n",
       "      <th>MTFCC</th>\n",
       "      <th>unique_id_1</th>\n",
       "    </tr>\n",
       "  </thead>\n",
       "  <tbody>\n",
       "    <tr>\n",
       "      <th>1</th>\n",
       "      <td>095104</td>\n",
       "      <td>MULTIPOLYGON Z (((-76.72393 37.18125 0.00000, ...</td>\n",
       "      <td>51</td>\n",
       "      <td>095</td>\n",
       "      <td>093</td>\n",
       "      <td>State House District 93</td>\n",
       "      <td>LL</td>\n",
       "      <td>Y</td>\n",
       "      <td>None</td>\n",
       "      <td>None</td>\n",
       "      <td>...</td>\n",
       "      <td>None</td>\n",
       "      <td>None</td>\n",
       "      <td>None</td>\n",
       "      <td>None</td>\n",
       "      <td>Berkeley D Part 1</td>\n",
       "      <td>90</td>\n",
       "      <td>S</td>\n",
       "      <td>None</td>\n",
       "      <td>G5240</td>\n",
       "      <td>095041</td>\n",
       "    </tr>\n",
       "  </tbody>\n",
       "</table>\n",
       "<p>1 rows × 44 columns</p>\n",
       "</div>"
      ],
      "text/plain": [
       "  unique_id                                           geometry STATEFP_1  \\\n",
       "1    095104  MULTIPOLYGON Z (((-76.72393 37.18125 0.00000, ...        51   \n",
       "\n",
       "  COUNTYFP_1 SLDLST               NAMELSAD_1 LSAD_1 PARTFLG CHNG_TYPE_1  \\\n",
       "1        095    093  State House District 93     LL       Y        None   \n",
       "\n",
       "  EFF_DATE  ... CHNG_TYPE_2 ORIG_NAME ORIG_CODE RELATE_2             NAME_2  \\\n",
       "1     None  ...        None      None      None     None  Berkeley D Part 1   \n",
       "\n",
       "  VINTAGE_2 FUNCSTAT_2 JUSTIFY_2  MTFCC unique_id_1  \n",
       "1        90          S      None  G5240      095041  \n",
       "\n",
       "[1 rows x 44 columns]"
      ]
     },
     "execution_count": 68,
     "metadata": {},
     "output_type": "execute_result"
    }
   ],
   "source": [
    "shp.loc[shp['unique_id_1'].isin(id_095_dict.keys())]"
   ]
  },
  {
   "cell_type": "code",
   "execution_count": 69,
   "metadata": {},
   "outputs": [
    {
     "name": "stdout",
     "output_type": "stream",
     "text": [
      "set()\n",
      "{'800601', '700211', '199401', '700108'}\n"
     ]
    }
   ],
   "source": [
    "print((set(shp.unique_id) - set(final.unique_id)))\n",
    "print((set(final.unique_id) - set(shp.unique_id)))"
   ]
  },
  {
   "cell_type": "code",
   "execution_count": 70,
   "metadata": {},
   "outputs": [
    {
     "data": {
      "text/plain": [
       "<matplotlib.axes._subplots.AxesSubplot at 0x7faf10d8b7c0>"
      ]
     },
     "execution_count": 70,
     "metadata": {},
     "output_type": "execute_result"
    },
    {
     "data": {
      "image/png": "[encoded data removed]",
      "text/plain": [
       "<Figure size 432x288 with 1 Axes>"
      ]
     },
     "metadata": {
      "needs_background": "light"
     },
     "output_type": "display_data"
    }
   ],
   "source": [
    "final[final['unique_id'].isin(['199401', '800601', '700211', '700108'])].plot()"
   ]
  },
  {
   "cell_type": "code",
   "execution_count": 73,
   "metadata": {},
   "outputs": [
    {
     "data": {
      "text/plain": [
       "set()"
      ]
     },
     "execution_count": 73,
     "metadata": {},
     "output_type": "execute_result"
    }
   ],
   "source": [
    "set(final.unique_id) - set(df_with_absentee_reallocated.unique_id)"
   ]
  },
  {
   "cell_type": "code",
   "execution_count": 71,
   "metadata": {},
   "outputs": [
    {
     "data": {
      "text/html": [
       "<div>\n",
       "<style scoped>\n",
       "    .dataframe tbody tr th:only-of-type {\n",
       "        vertical-align: middle;\n",
       "    }\n",
       "\n",
       "    .dataframe tbody tr th {\n",
       "        vertical-align: top;\n",
       "    }\n",
       "\n",
       "    .dataframe thead th {\n",
       "        text-align: right;\n",
       "    }\n",
       "</style>\n",
       "<table border=\"1\" class=\"dataframe\">\n",
       "  <thead>\n",
       "    <tr style=\"text-align: right;\">\n",
       "      <th></th>\n",
       "      <th>COUNTYFP</th>\n",
       "      <th>LOCALITY</th>\n",
       "      <th>VTDST</th>\n",
       "      <th>PRECINCT</th>\n",
       "      <th>HOD_DIST</th>\n",
       "      <th>S16HODDEM</th>\n",
       "      <th>S16HODREP</th>\n",
       "      <th>S16HODWRI</th>\n",
       "      <th>geometry</th>\n",
       "      <th>unique_id</th>\n",
       "    </tr>\n",
       "  </thead>\n",
       "  <tbody>\n",
       "    <tr>\n",
       "      <th>7</th>\n",
       "      <td>199</td>\n",
       "      <td>York County</td>\n",
       "      <td>000401</td>\n",
       "      <td>HARWOODS MILL</td>\n",
       "      <td>093</td>\n",
       "      <td>492</td>\n",
       "      <td>1369</td>\n",
       "      <td>5</td>\n",
       "      <td>POLYGON Z ((-76.47686 37.14917 0.00000, -76.47...</td>\n",
       "      <td>199401</td>\n",
       "    </tr>\n",
       "    <tr>\n",
       "      <th>27</th>\n",
       "      <td>700</td>\n",
       "      <td>Newport News City</td>\n",
       "      <td>000108</td>\n",
       "      <td>Lee Hall</td>\n",
       "      <td>093</td>\n",
       "      <td>505</td>\n",
       "      <td>283</td>\n",
       "      <td>3</td>\n",
       "      <td>POLYGON Z ((-76.61098 37.16711 0.00000, -76.60...</td>\n",
       "      <td>700108</td>\n",
       "    </tr>\n",
       "    <tr>\n",
       "      <th>30</th>\n",
       "      <td>800</td>\n",
       "      <td>Suffolk City</td>\n",
       "      <td>000601</td>\n",
       "      <td>LAKESIDE</td>\n",
       "      <td>077</td>\n",
       "      <td>251</td>\n",
       "      <td>0</td>\n",
       "      <td>0</td>\n",
       "      <td>POLYGON Z ((-76.58167 36.73342 0.00000, -76.58...</td>\n",
       "      <td>800601</td>\n",
       "    </tr>\n",
       "    <tr>\n",
       "      <th>45</th>\n",
       "      <td>700</td>\n",
       "      <td>Newport News City</td>\n",
       "      <td>000211</td>\n",
       "      <td>Palmer</td>\n",
       "      <td>093</td>\n",
       "      <td>86</td>\n",
       "      <td>65</td>\n",
       "      <td>1</td>\n",
       "      <td>POLYGON Z ((-76.46814 37.11123 0.00000, -76.46...</td>\n",
       "      <td>700211</td>\n",
       "    </tr>\n",
       "  </tbody>\n",
       "</table>\n",
       "</div>"
      ],
      "text/plain": [
       "   COUNTYFP           LOCALITY   VTDST       PRECINCT HOD_DIST  S16HODDEM  \\\n",
       "7       199        York County  000401  HARWOODS MILL      093        492   \n",
       "27      700  Newport News City  000108       Lee Hall      093        505   \n",
       "30      800       Suffolk City  000601       LAKESIDE      077        251   \n",
       "45      700  Newport News City  000211         Palmer      093         86   \n",
       "\n",
       "    S16HODREP  S16HODWRI                                           geometry  \\\n",
       "7        1369          5  POLYGON Z ((-76.47686 37.14917 0.00000, -76.47...   \n",
       "27        283          3  POLYGON Z ((-76.61098 37.16711 0.00000, -76.60...   \n",
       "30          0          0  POLYGON Z ((-76.58167 36.73342 0.00000, -76.58...   \n",
       "45         65          1  POLYGON Z ((-76.46814 37.11123 0.00000, -76.46...   \n",
       "\n",
       "   unique_id  \n",
       "7     199401  \n",
       "27    700108  \n",
       "30    800601  \n",
       "45    700211  "
      ]
     },
     "execution_count": 71,
     "metadata": {},
     "output_type": "execute_result"
    }
   ],
   "source": [
    "final[final['unique_id'].isin(['199401', '800601', '700211', '700108'])]"
   ]
  },
  {
   "cell_type": "markdown",
   "metadata": {},
   "source": [
    "### Join election results and shapefile"
   ]
  },
  {
   "cell_type": "code",
   "execution_count": 11,
   "metadata": {},
   "outputs": [
    {
     "ename": "NameError",
     "evalue": "name 'df_with_absentee_reallocated' is not defined",
     "output_type": "error",
     "traceback": [
      "\u001b[0;31m---------------------------------------------------------------------------\u001b[0m",
      "\u001b[0;31mNameError\u001b[0m                                 Traceback (most recent call last)",
      "\u001b[0;32m<ipython-input-11-59cc203829ac>\u001b[0m in \u001b[0;36m<module>\u001b[0;34m\u001b[0m\n\u001b[0;32m----> 1\u001b[0;31m \u001b[0mjoin\u001b[0m \u001b[0;34m=\u001b[0m \u001b[0mgpd\u001b[0m\u001b[0;34m.\u001b[0m\u001b[0mGeoDataFrame\u001b[0m\u001b[0;34m(\u001b[0m\u001b[0mpd\u001b[0m\u001b[0;34m.\u001b[0m\u001b[0mmerge\u001b[0m\u001b[0;34m(\u001b[0m\u001b[0mdf_with_absentee_reallocated\u001b[0m\u001b[0;34m,\u001b[0m \u001b[0mshp\u001b[0m\u001b[0;34m,\u001b[0m \u001b[0mon\u001b[0m \u001b[0;34m=\u001b[0m \u001b[0;34m'unique_id'\u001b[0m\u001b[0;34m,\u001b[0m \u001b[0mhow\u001b[0m \u001b[0;34m=\u001b[0m \u001b[0;34m'outer'\u001b[0m\u001b[0;34m)\u001b[0m\u001b[0;34m,\u001b[0m \u001b[0mcrs\u001b[0m \u001b[0;34m=\u001b[0m \u001b[0mproj\u001b[0m\u001b[0;34m)\u001b[0m\u001b[0;34m\u001b[0m\u001b[0;34m\u001b[0m\u001b[0m\n\u001b[0m\u001b[1;32m      2\u001b[0m \u001b[0mjoin\u001b[0m\u001b[0;34m.\u001b[0m\u001b[0mplot\u001b[0m\u001b[0;34m(\u001b[0m\u001b[0;34m)\u001b[0m\u001b[0;34m\u001b[0m\u001b[0;34m\u001b[0m\u001b[0m\n\u001b[1;32m      3\u001b[0m \u001b[0mfinal\u001b[0m\u001b[0;34m.\u001b[0m\u001b[0mplot\u001b[0m\u001b[0;34m(\u001b[0m\u001b[0;34m)\u001b[0m\u001b[0;34m\u001b[0m\u001b[0;34m\u001b[0m\u001b[0m\n",
      "\u001b[0;31mNameError\u001b[0m: name 'df_with_absentee_reallocated' is not defined"
     ]
    }
   ],
   "source": [
    "join = gpd.GeoDataFrame(pd.merge(df_with_absentee_reallocated, shp, on = 'unique_id', how = 'outer'), crs = proj)\n",
    "join.plot()\n",
    "final.plot()"
   ]
  },
  {
   "cell_type": "code",
   "execution_count": 12,
   "metadata": {},
   "outputs": [
    {
     "data": {
      "text/html": [
       "<div>\n",
       "<style scoped>\n",
       "    .dataframe tbody tr th:only-of-type {\n",
       "        vertical-align: middle;\n",
       "    }\n",
       "\n",
       "    .dataframe tbody tr th {\n",
       "        vertical-align: top;\n",
       "    }\n",
       "\n",
       "    .dataframe thead th {\n",
       "        text-align: right;\n",
       "    }\n",
       "</style>\n",
       "<table border=\"1\" class=\"dataframe\">\n",
       "  <thead>\n",
       "    <tr style=\"text-align: right;\">\n",
       "      <th></th>\n",
       "      <th>COUNTYFP</th>\n",
       "      <th>LOCALITY</th>\n",
       "      <th>VTDST</th>\n",
       "      <th>PRECINCT</th>\n",
       "      <th>HOD_DIST</th>\n",
       "      <th>S16HODDEM</th>\n",
       "      <th>S16HODREP</th>\n",
       "      <th>S16HODWRI</th>\n",
       "      <th>geometry</th>\n",
       "    </tr>\n",
       "  </thead>\n",
       "  <tbody>\n",
       "    <tr>\n",
       "      <th>0</th>\n",
       "      <td>095</td>\n",
       "      <td>James City County</td>\n",
       "      <td>000101</td>\n",
       "      <td>Berkeley A</td>\n",
       "      <td>093</td>\n",
       "      <td>1109</td>\n",
       "      <td>1681</td>\n",
       "      <td>14</td>\n",
       "      <td>POLYGON Z ((-76.82290 37.23270 0.00000, -76.81...</td>\n",
       "    </tr>\n",
       "    <tr>\n",
       "      <th>1</th>\n",
       "      <td>095</td>\n",
       "      <td>James City County</td>\n",
       "      <td>000201</td>\n",
       "      <td>Jamestown A</td>\n",
       "      <td>093</td>\n",
       "      <td>490</td>\n",
       "      <td>409</td>\n",
       "      <td>3</td>\n",
       "      <td>POLYGON Z ((-76.75462 37.26158 0.00000, -76.75...</td>\n",
       "    </tr>\n",
       "    <tr>\n",
       "      <th>2</th>\n",
       "      <td>095</td>\n",
       "      <td>James City County</td>\n",
       "      <td>000501</td>\n",
       "      <td>Roberts A</td>\n",
       "      <td>093</td>\n",
       "      <td>860</td>\n",
       "      <td>608</td>\n",
       "      <td>3</td>\n",
       "      <td>POLYGON Z ((-76.65883 37.20304 0.00000, -76.64...</td>\n",
       "    </tr>\n",
       "    <tr>\n",
       "      <th>3</th>\n",
       "      <td>095</td>\n",
       "      <td>James City County</td>\n",
       "      <td>000502</td>\n",
       "      <td>Roberts B</td>\n",
       "      <td>093</td>\n",
       "      <td>914</td>\n",
       "      <td>1727</td>\n",
       "      <td>6</td>\n",
       "      <td>POLYGON Z ((-76.70027 37.24874 0.00000, -76.70...</td>\n",
       "    </tr>\n",
       "    <tr>\n",
       "      <th>4</th>\n",
       "      <td>095</td>\n",
       "      <td>James City County</td>\n",
       "      <td>000503</td>\n",
       "      <td>Roberts C</td>\n",
       "      <td>093</td>\n",
       "      <td>327</td>\n",
       "      <td>194</td>\n",
       "      <td>3</td>\n",
       "      <td>POLYGON Z ((-76.68089 37.26080 0.00000, -76.68...</td>\n",
       "    </tr>\n",
       "    <tr>\n",
       "      <th>5</th>\n",
       "      <td>199</td>\n",
       "      <td>York County</td>\n",
       "      <td>000202</td>\n",
       "      <td>KILN CREEK</td>\n",
       "      <td>093</td>\n",
       "      <td>675</td>\n",
       "      <td>1011</td>\n",
       "      <td>3</td>\n",
       "      <td>POLYGON Z ((-76.50610 37.15413 0.00000, -76.50...</td>\n",
       "    </tr>\n",
       "    <tr>\n",
       "      <th>6</th>\n",
       "      <td>199</td>\n",
       "      <td>York County</td>\n",
       "      <td>000303</td>\n",
       "      <td>EDGEHILL</td>\n",
       "      <td>093</td>\n",
       "      <td>448</td>\n",
       "      <td>768</td>\n",
       "      <td>6</td>\n",
       "      <td>MULTIPOLYGON Z (((-76.49125 37.19585 0.00000, ...</td>\n",
       "    </tr>\n",
       "    <tr>\n",
       "      <th>7</th>\n",
       "      <td>199</td>\n",
       "      <td>York County</td>\n",
       "      <td>000401</td>\n",
       "      <td>HARWOODS MILL</td>\n",
       "      <td>093</td>\n",
       "      <td>492</td>\n",
       "      <td>1369</td>\n",
       "      <td>5</td>\n",
       "      <td>POLYGON Z ((-76.47686 37.14917 0.00000, -76.47...</td>\n",
       "    </tr>\n",
       "    <tr>\n",
       "      <th>8</th>\n",
       "      <td>550</td>\n",
       "      <td>Chesapeake City</td>\n",
       "      <td>000003</td>\n",
       "      <td>Camelot</td>\n",
       "      <td>077</td>\n",
       "      <td>2112</td>\n",
       "      <td>0</td>\n",
       "      <td>30</td>\n",
       "      <td>POLYGON Z ((-76.36447 36.77827 0.00000, -76.36...</td>\n",
       "    </tr>\n",
       "    <tr>\n",
       "      <th>9</th>\n",
       "      <td>550</td>\n",
       "      <td>Chesapeake City</td>\n",
       "      <td>000025</td>\n",
       "      <td>St Julians</td>\n",
       "      <td>077</td>\n",
       "      <td>728</td>\n",
       "      <td>0</td>\n",
       "      <td>53</td>\n",
       "      <td>POLYGON Z ((-76.34550 36.77248 0.00000, -76.34...</td>\n",
       "    </tr>\n",
       "    <tr>\n",
       "      <th>10</th>\n",
       "      <td>550</td>\n",
       "      <td>Chesapeake City</td>\n",
       "      <td>000022</td>\n",
       "      <td>Norfolk Highlands</td>\n",
       "      <td>077</td>\n",
       "      <td>925</td>\n",
       "      <td>0</td>\n",
       "      <td>74</td>\n",
       "      <td>POLYGON Z ((-76.23548 36.80889 0.00000, -76.23...</td>\n",
       "    </tr>\n",
       "    <tr>\n",
       "      <th>11</th>\n",
       "      <td>550</td>\n",
       "      <td>Chesapeake City</td>\n",
       "      <td>000008</td>\n",
       "      <td>South Norfolk Recreation</td>\n",
       "      <td>077</td>\n",
       "      <td>1620</td>\n",
       "      <td>0</td>\n",
       "      <td>85</td>\n",
       "      <td>POLYGON Z ((-76.30867 36.77957 0.00000, -76.30...</td>\n",
       "    </tr>\n",
       "    <tr>\n",
       "      <th>12</th>\n",
       "      <td>550</td>\n",
       "      <td>Chesapeake City</td>\n",
       "      <td>000010</td>\n",
       "      <td>Oscar Smith</td>\n",
       "      <td>077</td>\n",
       "      <td>746</td>\n",
       "      <td>0</td>\n",
       "      <td>52</td>\n",
       "      <td>POLYGON Z ((-76.27889 36.81189 0.00000, -76.27...</td>\n",
       "    </tr>\n",
       "    <tr>\n",
       "      <th>13</th>\n",
       "      <td>550</td>\n",
       "      <td>Chesapeake City</td>\n",
       "      <td>000012</td>\n",
       "      <td>Georgetown</td>\n",
       "      <td>077</td>\n",
       "      <td>1403</td>\n",
       "      <td>0</td>\n",
       "      <td>39</td>\n",
       "      <td>POLYGON Z ((-76.25496 36.79836 0.00000, -76.25...</td>\n",
       "    </tr>\n",
       "    <tr>\n",
       "      <th>14</th>\n",
       "      <td>550</td>\n",
       "      <td>Chesapeake City</td>\n",
       "      <td>000026</td>\n",
       "      <td>Johnson Park</td>\n",
       "      <td>077</td>\n",
       "      <td>749</td>\n",
       "      <td>0</td>\n",
       "      <td>30</td>\n",
       "      <td>POLYGON Z ((-76.29214 36.79866 0.00000, -76.29...</td>\n",
       "    </tr>\n",
       "    <tr>\n",
       "      <th>15</th>\n",
       "      <td>550</td>\n",
       "      <td>Chesapeake City</td>\n",
       "      <td>000024</td>\n",
       "      <td>Oaklette</td>\n",
       "      <td>077</td>\n",
       "      <td>1377</td>\n",
       "      <td>0</td>\n",
       "      <td>70</td>\n",
       "      <td>POLYGON Z ((-76.25747 36.82076 0.00000, -76.25...</td>\n",
       "    </tr>\n",
       "    <tr>\n",
       "      <th>16</th>\n",
       "      <td>550</td>\n",
       "      <td>Chesapeake City</td>\n",
       "      <td>000018</td>\n",
       "      <td>Indian River</td>\n",
       "      <td>077</td>\n",
       "      <td>1217</td>\n",
       "      <td>0</td>\n",
       "      <td>52</td>\n",
       "      <td>POLYGON Z ((-76.24128 36.79288 0.00000, -76.24...</td>\n",
       "    </tr>\n",
       "    <tr>\n",
       "      <th>17</th>\n",
       "      <td>550</td>\n",
       "      <td>Chesapeake City</td>\n",
       "      <td>000028</td>\n",
       "      <td>Sunray I</td>\n",
       "      <td>077</td>\n",
       "      <td>151</td>\n",
       "      <td>0</td>\n",
       "      <td>24</td>\n",
       "      <td>POLYGON Z ((-76.46676 36.74633 0.00000, -76.46...</td>\n",
       "    </tr>\n",
       "    <tr>\n",
       "      <th>18</th>\n",
       "      <td>550</td>\n",
       "      <td>Chesapeake City</td>\n",
       "      <td>000029</td>\n",
       "      <td>Tanglewood</td>\n",
       "      <td>077</td>\n",
       "      <td>1006</td>\n",
       "      <td>0</td>\n",
       "      <td>101</td>\n",
       "      <td>POLYGON Z ((-76.24492 36.80984 0.00000, -76.24...</td>\n",
       "    </tr>\n",
       "    <tr>\n",
       "      <th>19</th>\n",
       "      <td>550</td>\n",
       "      <td>Chesapeake City</td>\n",
       "      <td>000030</td>\n",
       "      <td>South Norfolk</td>\n",
       "      <td>077</td>\n",
       "      <td>914</td>\n",
       "      <td>0</td>\n",
       "      <td>4</td>\n",
       "      <td>POLYGON Z ((-76.27703 36.82497 0.00000, -76.27...</td>\n",
       "    </tr>\n",
       "    <tr>\n",
       "      <th>20</th>\n",
       "      <td>550</td>\n",
       "      <td>Chesapeake City</td>\n",
       "      <td>000032</td>\n",
       "      <td>Providence</td>\n",
       "      <td>077</td>\n",
       "      <td>2117</td>\n",
       "      <td>0</td>\n",
       "      <td>20</td>\n",
       "      <td>POLYGON Z ((-76.26881 36.81115 0.00000, -76.26...</td>\n",
       "    </tr>\n",
       "    <tr>\n",
       "      <th>21</th>\n",
       "      <td>550</td>\n",
       "      <td>Chesapeake City</td>\n",
       "      <td>000055</td>\n",
       "      <td>Georgetown East</td>\n",
       "      <td>077</td>\n",
       "      <td>948</td>\n",
       "      <td>0</td>\n",
       "      <td>34</td>\n",
       "      <td>POLYGON Z ((-76.25541 36.80061 0.00000, -76.25...</td>\n",
       "    </tr>\n",
       "    <tr>\n",
       "      <th>22</th>\n",
       "      <td>700</td>\n",
       "      <td>Newport News City</td>\n",
       "      <td>000106</td>\n",
       "      <td>Reservoir</td>\n",
       "      <td>093</td>\n",
       "      <td>771</td>\n",
       "      <td>433</td>\n",
       "      <td>2</td>\n",
       "      <td>POLYGON Z ((-76.56457 37.16335 0.00000, -76.56...</td>\n",
       "    </tr>\n",
       "    <tr>\n",
       "      <th>23</th>\n",
       "      <td>700</td>\n",
       "      <td>Newport News City</td>\n",
       "      <td>000110</td>\n",
       "      <td>Greenwood</td>\n",
       "      <td>093</td>\n",
       "      <td>1652</td>\n",
       "      <td>715</td>\n",
       "      <td>4</td>\n",
       "      <td>POLYGON Z ((-76.59159 37.21082 0.00000, -76.59...</td>\n",
       "    </tr>\n",
       "    <tr>\n",
       "      <th>24</th>\n",
       "      <td>700</td>\n",
       "      <td>Newport News City</td>\n",
       "      <td>000201</td>\n",
       "      <td>Bland</td>\n",
       "      <td>093</td>\n",
       "      <td>353</td>\n",
       "      <td>172</td>\n",
       "      <td>2</td>\n",
       "      <td>POLYGON Z ((-76.52654 37.13518 0.00000, -76.52...</td>\n",
       "    </tr>\n",
       "    <tr>\n",
       "      <th>25</th>\n",
       "      <td>700</td>\n",
       "      <td>Newport News City</td>\n",
       "      <td>000104</td>\n",
       "      <td>McIntosh</td>\n",
       "      <td>093</td>\n",
       "      <td>1302</td>\n",
       "      <td>526</td>\n",
       "      <td>7</td>\n",
       "      <td>POLYGON Z ((-76.54533 37.16010 0.00000, -76.54...</td>\n",
       "    </tr>\n",
       "    <tr>\n",
       "      <th>26</th>\n",
       "      <td>700</td>\n",
       "      <td>Newport News City</td>\n",
       "      <td>000107</td>\n",
       "      <td>Richneck</td>\n",
       "      <td>093</td>\n",
       "      <td>1538</td>\n",
       "      <td>1232</td>\n",
       "      <td>7</td>\n",
       "      <td>POLYGON Z ((-76.52754 37.15219 0.00000, -76.52...</td>\n",
       "    </tr>\n",
       "    <tr>\n",
       "      <th>27</th>\n",
       "      <td>700</td>\n",
       "      <td>Newport News City</td>\n",
       "      <td>000108</td>\n",
       "      <td>Lee Hall</td>\n",
       "      <td>093</td>\n",
       "      <td>505</td>\n",
       "      <td>283</td>\n",
       "      <td>3</td>\n",
       "      <td>POLYGON Z ((-76.61098 37.16711 0.00000, -76.60...</td>\n",
       "    </tr>\n",
       "    <tr>\n",
       "      <th>28</th>\n",
       "      <td>700</td>\n",
       "      <td>Newport News City</td>\n",
       "      <td>000109</td>\n",
       "      <td>Windsor</td>\n",
       "      <td>093</td>\n",
       "      <td>791</td>\n",
       "      <td>590</td>\n",
       "      <td>2</td>\n",
       "      <td>POLYGON Z ((-76.52797 37.14917 0.00000, -76.52...</td>\n",
       "    </tr>\n",
       "    <tr>\n",
       "      <th>29</th>\n",
       "      <td>700</td>\n",
       "      <td>Newport News City</td>\n",
       "      <td>000218</td>\n",
       "      <td>Kiln Creek</td>\n",
       "      <td>093</td>\n",
       "      <td>1643</td>\n",
       "      <td>1459</td>\n",
       "      <td>7</td>\n",
       "      <td>POLYGON Z ((-76.52001 37.13856 0.00000, -76.51...</td>\n",
       "    </tr>\n",
       "    <tr>\n",
       "      <th>30</th>\n",
       "      <td>800</td>\n",
       "      <td>Suffolk City</td>\n",
       "      <td>000601</td>\n",
       "      <td>LAKESIDE</td>\n",
       "      <td>077</td>\n",
       "      <td>251</td>\n",
       "      <td>0</td>\n",
       "      <td>0</td>\n",
       "      <td>POLYGON Z ((-76.58167 36.73342 0.00000, -76.58...</td>\n",
       "    </tr>\n",
       "    <tr>\n",
       "      <th>31</th>\n",
       "      <td>800</td>\n",
       "      <td>Suffolk City</td>\n",
       "      <td>000403</td>\n",
       "      <td>SOUTHSIDE</td>\n",
       "      <td>077</td>\n",
       "      <td>681</td>\n",
       "      <td>0</td>\n",
       "      <td>0</td>\n",
       "      <td>POLYGON Z ((-76.62006 36.71008 0.00000, -76.62...</td>\n",
       "    </tr>\n",
       "    <tr>\n",
       "      <th>32</th>\n",
       "      <td>800</td>\n",
       "      <td>Suffolk City</td>\n",
       "      <td>000301</td>\n",
       "      <td>WHITE MARSH</td>\n",
       "      <td>077</td>\n",
       "      <td>385</td>\n",
       "      <td>0</td>\n",
       "      <td>13</td>\n",
       "      <td>POLYGON Z ((-76.59873 36.66933 0.00000, -76.59...</td>\n",
       "    </tr>\n",
       "    <tr>\n",
       "      <th>33</th>\n",
       "      <td>800</td>\n",
       "      <td>Suffolk City</td>\n",
       "      <td>000605</td>\n",
       "      <td>HOLLYWOOD</td>\n",
       "      <td>077</td>\n",
       "      <td>760</td>\n",
       "      <td>0</td>\n",
       "      <td>5</td>\n",
       "      <td>POLYGON Z ((-76.57720 36.72654 0.00000, -76.57...</td>\n",
       "    </tr>\n",
       "    <tr>\n",
       "      <th>34</th>\n",
       "      <td>095</td>\n",
       "      <td>James City County</td>\n",
       "      <td>000104</td>\n",
       "      <td>Berkeley D</td>\n",
       "      <td>093</td>\n",
       "      <td>406</td>\n",
       "      <td>414</td>\n",
       "      <td>1</td>\n",
       "      <td>MULTIPOLYGON Z (((-76.75418 37.24672 0.00000, ...</td>\n",
       "    </tr>\n",
       "    <tr>\n",
       "      <th>35</th>\n",
       "      <td>095</td>\n",
       "      <td>James City County</td>\n",
       "      <td>000504</td>\n",
       "      <td>Roberts D</td>\n",
       "      <td>093</td>\n",
       "      <td>1190</td>\n",
       "      <td>1466</td>\n",
       "      <td>1</td>\n",
       "      <td>POLYGON Z ((-76.74957 37.23549 0.00000, -76.74...</td>\n",
       "    </tr>\n",
       "    <tr>\n",
       "      <th>36</th>\n",
       "      <td>830</td>\n",
       "      <td>Williamsburg City</td>\n",
       "      <td>000002</td>\n",
       "      <td>Matoaka</td>\n",
       "      <td>093</td>\n",
       "      <td>2503</td>\n",
       "      <td>1223</td>\n",
       "      <td>11</td>\n",
       "      <td>POLYGON Z ((-76.73672 37.25925 0.00000, -76.73...</td>\n",
       "    </tr>\n",
       "    <tr>\n",
       "      <th>37</th>\n",
       "      <td>830</td>\n",
       "      <td>Williamsburg City</td>\n",
       "      <td>000001</td>\n",
       "      <td>Stryker</td>\n",
       "      <td>093</td>\n",
       "      <td>2362</td>\n",
       "      <td>1289</td>\n",
       "      <td>6</td>\n",
       "      <td>POLYGON Z ((-76.72009 37.28634 0.00000, -76.72...</td>\n",
       "    </tr>\n",
       "    <tr>\n",
       "      <th>38</th>\n",
       "      <td>800</td>\n",
       "      <td>Suffolk City</td>\n",
       "      <td>000602</td>\n",
       "      <td>OLDE TOWNE</td>\n",
       "      <td>077</td>\n",
       "      <td>462</td>\n",
       "      <td>0</td>\n",
       "      <td>17</td>\n",
       "      <td>POLYGON Z ((-76.58463 36.72676 0.00000, -76.58...</td>\n",
       "    </tr>\n",
       "    <tr>\n",
       "      <th>39</th>\n",
       "      <td>800</td>\n",
       "      <td>Suffolk City</td>\n",
       "      <td>000404</td>\n",
       "      <td>BOOKER T WASHINGTON</td>\n",
       "      <td>077</td>\n",
       "      <td>1387</td>\n",
       "      <td>0</td>\n",
       "      <td>13</td>\n",
       "      <td>POLYGON Z ((-76.60372 36.71283 0.00000, -76.59...</td>\n",
       "    </tr>\n",
       "    <tr>\n",
       "      <th>40</th>\n",
       "      <td>800</td>\n",
       "      <td>Suffolk City</td>\n",
       "      <td>000302</td>\n",
       "      <td>JOHN F KENNEDY</td>\n",
       "      <td>077</td>\n",
       "      <td>1489</td>\n",
       "      <td>0</td>\n",
       "      <td>16</td>\n",
       "      <td>POLYGON Z ((-76.55541 36.73119 0.00000, -76.56...</td>\n",
       "    </tr>\n",
       "    <tr>\n",
       "      <th>41</th>\n",
       "      <td>550</td>\n",
       "      <td>Chesapeake City</td>\n",
       "      <td>000045</td>\n",
       "      <td>Sunray II</td>\n",
       "      <td>077</td>\n",
       "      <td>520</td>\n",
       "      <td>0</td>\n",
       "      <td>29</td>\n",
       "      <td>MULTIPOLYGON Z (((-76.46678 36.74618 0.00000, ...</td>\n",
       "    </tr>\n",
       "    <tr>\n",
       "      <th>42</th>\n",
       "      <td>550</td>\n",
       "      <td>Chesapeake City</td>\n",
       "      <td>000048</td>\n",
       "      <td>Jolliff Middle School</td>\n",
       "      <td>077</td>\n",
       "      <td>1795</td>\n",
       "      <td>0</td>\n",
       "      <td>27</td>\n",
       "      <td>POLYGON Z ((-76.42447 36.79774 0.00000, -76.42...</td>\n",
       "    </tr>\n",
       "    <tr>\n",
       "      <th>43</th>\n",
       "      <td>550</td>\n",
       "      <td>Chesapeake City</td>\n",
       "      <td>000005</td>\n",
       "      <td>Crestwood</td>\n",
       "      <td>077</td>\n",
       "      <td>1607</td>\n",
       "      <td>0</td>\n",
       "      <td>38</td>\n",
       "      <td>POLYGON Z ((-76.29859 36.76704 0.00000, -76.29...</td>\n",
       "    </tr>\n",
       "    <tr>\n",
       "      <th>44</th>\n",
       "      <td>550</td>\n",
       "      <td>Chesapeake City</td>\n",
       "      <td>000031</td>\n",
       "      <td>Carver School</td>\n",
       "      <td>077</td>\n",
       "      <td>1766</td>\n",
       "      <td>0</td>\n",
       "      <td>31</td>\n",
       "      <td>POLYGON Z ((-76.25170 36.78717 0.00000, -76.25...</td>\n",
       "    </tr>\n",
       "    <tr>\n",
       "      <th>45</th>\n",
       "      <td>700</td>\n",
       "      <td>Newport News City</td>\n",
       "      <td>000211</td>\n",
       "      <td>Palmer</td>\n",
       "      <td>093</td>\n",
       "      <td>86</td>\n",
       "      <td>65</td>\n",
       "      <td>1</td>\n",
       "      <td>POLYGON Z ((-76.46814 37.11123 0.00000, -76.46...</td>\n",
       "    </tr>\n",
       "  </tbody>\n",
       "</table>\n",
       "</div>"
      ],
      "text/plain": [
       "   COUNTYFP           LOCALITY   VTDST                  PRECINCT HOD_DIST  \\\n",
       "0       095  James City County  000101                Berkeley A      093   \n",
       "1       095  James City County  000201               Jamestown A      093   \n",
       "2       095  James City County  000501                 Roberts A      093   \n",
       "3       095  James City County  000502                 Roberts B      093   \n",
       "4       095  James City County  000503                 Roberts C      093   \n",
       "5       199        York County  000202                KILN CREEK      093   \n",
       "6       199        York County  000303                  EDGEHILL      093   \n",
       "7       199        York County  000401             HARWOODS MILL      093   \n",
       "8       550    Chesapeake City  000003                   Camelot      077   \n",
       "9       550    Chesapeake City  000025                St Julians      077   \n",
       "10      550    Chesapeake City  000022         Norfolk Highlands      077   \n",
       "11      550    Chesapeake City  000008  South Norfolk Recreation      077   \n",
       "12      550    Chesapeake City  000010               Oscar Smith      077   \n",
       "13      550    Chesapeake City  000012                Georgetown      077   \n",
       "14      550    Chesapeake City  000026              Johnson Park      077   \n",
       "15      550    Chesapeake City  000024                  Oaklette      077   \n",
       "16      550    Chesapeake City  000018              Indian River      077   \n",
       "17      550    Chesapeake City  000028                  Sunray I      077   \n",
       "18      550    Chesapeake City  000029                Tanglewood      077   \n",
       "19      550    Chesapeake City  000030             South Norfolk      077   \n",
       "20      550    Chesapeake City  000032                Providence      077   \n",
       "21      550    Chesapeake City  000055           Georgetown East      077   \n",
       "22      700  Newport News City  000106                 Reservoir      093   \n",
       "23      700  Newport News City  000110                 Greenwood      093   \n",
       "24      700  Newport News City  000201                     Bland      093   \n",
       "25      700  Newport News City  000104                  McIntosh      093   \n",
       "26      700  Newport News City  000107                  Richneck      093   \n",
       "27      700  Newport News City  000108                  Lee Hall      093   \n",
       "28      700  Newport News City  000109                   Windsor      093   \n",
       "29      700  Newport News City  000218                Kiln Creek      093   \n",
       "30      800       Suffolk City  000601                  LAKESIDE      077   \n",
       "31      800       Suffolk City  000403                 SOUTHSIDE      077   \n",
       "32      800       Suffolk City  000301               WHITE MARSH      077   \n",
       "33      800       Suffolk City  000605                 HOLLYWOOD      077   \n",
       "34      095  James City County  000104                Berkeley D      093   \n",
       "35      095  James City County  000504                 Roberts D      093   \n",
       "36      830  Williamsburg City  000002                   Matoaka      093   \n",
       "37      830  Williamsburg City  000001                   Stryker      093   \n",
       "38      800       Suffolk City  000602                OLDE TOWNE      077   \n",
       "39      800       Suffolk City  000404       BOOKER T WASHINGTON      077   \n",
       "40      800       Suffolk City  000302            JOHN F KENNEDY      077   \n",
       "41      550    Chesapeake City  000045                 Sunray II      077   \n",
       "42      550    Chesapeake City  000048     Jolliff Middle School      077   \n",
       "43      550    Chesapeake City  000005                 Crestwood      077   \n",
       "44      550    Chesapeake City  000031             Carver School      077   \n",
       "45      700  Newport News City  000211                    Palmer      093   \n",
       "\n",
       "    S16HODDEM  S16HODREP  S16HODWRI  \\\n",
       "0        1109       1681         14   \n",
       "1         490        409          3   \n",
       "2         860        608          3   \n",
       "3         914       1727          6   \n",
       "4         327        194          3   \n",
       "5         675       1011          3   \n",
       "6         448        768          6   \n",
       "7         492       1369          5   \n",
       "8        2112          0         30   \n",
       "9         728          0         53   \n",
       "10        925          0         74   \n",
       "11       1620          0         85   \n",
       "12        746          0         52   \n",
       "13       1403          0         39   \n",
       "14        749          0         30   \n",
       "15       1377          0         70   \n",
       "16       1217          0         52   \n",
       "17        151          0         24   \n",
       "18       1006          0        101   \n",
       "19        914          0          4   \n",
       "20       2117          0         20   \n",
       "21        948          0         34   \n",
       "22        771        433          2   \n",
       "23       1652        715          4   \n",
       "24        353        172          2   \n",
       "25       1302        526          7   \n",
       "26       1538       1232          7   \n",
       "27        505        283          3   \n",
       "28        791        590          2   \n",
       "29       1643       1459          7   \n",
       "30        251          0          0   \n",
       "31        681          0          0   \n",
       "32        385          0         13   \n",
       "33        760          0          5   \n",
       "34        406        414          1   \n",
       "35       1190       1466          1   \n",
       "36       2503       1223         11   \n",
       "37       2362       1289          6   \n",
       "38        462          0         17   \n",
       "39       1387          0         13   \n",
       "40       1489          0         16   \n",
       "41        520          0         29   \n",
       "42       1795          0         27   \n",
       "43       1607          0         38   \n",
       "44       1766          0         31   \n",
       "45         86         65          1   \n",
       "\n",
       "                                             geometry  \n",
       "0   POLYGON Z ((-76.82290 37.23270 0.00000, -76.81...  \n",
       "1   POLYGON Z ((-76.75462 37.26158 0.00000, -76.75...  \n",
       "2   POLYGON Z ((-76.65883 37.20304 0.00000, -76.64...  \n",
       "3   POLYGON Z ((-76.70027 37.24874 0.00000, -76.70...  \n",
       "4   POLYGON Z ((-76.68089 37.26080 0.00000, -76.68...  \n",
       "5   POLYGON Z ((-76.50610 37.15413 0.00000, -76.50...  \n",
       "6   MULTIPOLYGON Z (((-76.49125 37.19585 0.00000, ...  \n",
       "7   POLYGON Z ((-76.47686 37.14917 0.00000, -76.47...  \n",
       "8   POLYGON Z ((-76.36447 36.77827 0.00000, -76.36...  \n",
       "9   POLYGON Z ((-76.34550 36.77248 0.00000, -76.34...  \n",
       "10  POLYGON Z ((-76.23548 36.80889 0.00000, -76.23...  \n",
       "11  POLYGON Z ((-76.30867 36.77957 0.00000, -76.30...  \n",
       "12  POLYGON Z ((-76.27889 36.81189 0.00000, -76.27...  \n",
       "13  POLYGON Z ((-76.25496 36.79836 0.00000, -76.25...  \n",
       "14  POLYGON Z ((-76.29214 36.79866 0.00000, -76.29...  \n",
       "15  POLYGON Z ((-76.25747 36.82076 0.00000, -76.25...  \n",
       "16  POLYGON Z ((-76.24128 36.79288 0.00000, -76.24...  \n",
       "17  POLYGON Z ((-76.46676 36.74633 0.00000, -76.46...  \n",
       "18  POLYGON Z ((-76.24492 36.80984 0.00000, -76.24...  \n",
       "19  POLYGON Z ((-76.27703 36.82497 0.00000, -76.27...  \n",
       "20  POLYGON Z ((-76.26881 36.81115 0.00000, -76.26...  \n",
       "21  POLYGON Z ((-76.25541 36.80061 0.00000, -76.25...  \n",
       "22  POLYGON Z ((-76.56457 37.16335 0.00000, -76.56...  \n",
       "23  POLYGON Z ((-76.59159 37.21082 0.00000, -76.59...  \n",
       "24  POLYGON Z ((-76.52654 37.13518 0.00000, -76.52...  \n",
       "25  POLYGON Z ((-76.54533 37.16010 0.00000, -76.54...  \n",
       "26  POLYGON Z ((-76.52754 37.15219 0.00000, -76.52...  \n",
       "27  POLYGON Z ((-76.61098 37.16711 0.00000, -76.60...  \n",
       "28  POLYGON Z ((-76.52797 37.14917 0.00000, -76.52...  \n",
       "29  POLYGON Z ((-76.52001 37.13856 0.00000, -76.51...  \n",
       "30  POLYGON Z ((-76.58167 36.73342 0.00000, -76.58...  \n",
       "31  POLYGON Z ((-76.62006 36.71008 0.00000, -76.62...  \n",
       "32  POLYGON Z ((-76.59873 36.66933 0.00000, -76.59...  \n",
       "33  POLYGON Z ((-76.57720 36.72654 0.00000, -76.57...  \n",
       "34  MULTIPOLYGON Z (((-76.75418 37.24672 0.00000, ...  \n",
       "35  POLYGON Z ((-76.74957 37.23549 0.00000, -76.74...  \n",
       "36  POLYGON Z ((-76.73672 37.25925 0.00000, -76.73...  \n",
       "37  POLYGON Z ((-76.72009 37.28634 0.00000, -76.72...  \n",
       "38  POLYGON Z ((-76.58463 36.72676 0.00000, -76.58...  \n",
       "39  POLYGON Z ((-76.60372 36.71283 0.00000, -76.59...  \n",
       "40  POLYGON Z ((-76.55541 36.73119 0.00000, -76.56...  \n",
       "41  MULTIPOLYGON Z (((-76.46678 36.74618 0.00000, ...  \n",
       "42  POLYGON Z ((-76.42447 36.79774 0.00000, -76.42...  \n",
       "43  POLYGON Z ((-76.29859 36.76704 0.00000, -76.29...  \n",
       "44  POLYGON Z ((-76.25170 36.78717 0.00000, -76.25...  \n",
       "45  POLYGON Z ((-76.46814 37.11123 0.00000, -76.46...  "
      ]
     },
     "execution_count": 12,
     "metadata": {},
     "output_type": "execute_result"
    }
   ],
   "source": [
    "final"
   ]
  },
  {
   "cell_type": "markdown",
   "metadata": {},
   "source": [
    "# Validation"
   ]
  },
  {
   "cell_type": "markdown",
   "metadata": {},
   "source": [
    "## Validating Shapefile"
   ]
  },
  {
   "cell_type": "markdown",
   "metadata": {},
   "source": [
    "Here, I merge the shp joined to the election results to the final file to compare, rather than the raw shp to final as was done is previous VA files..."
   ]
  },
  {
   "cell_type": "code",
   "execution_count": 76,
   "metadata": {},
   "outputs": [],
   "source": [
    "shp_final_merge = pd.merge(join, final, on = 'unique_id', how = 'outer', suffixes = ['_x', '_y'])\n",
    "\n",
    "join['geometry'].geom_almost_equals(final['geometry'], decimal = 0)\n",
    "\n",
    "shp_shapes = gpd.GeoDataFrame(shp_final_merge, geometry = 'geometry_x')\n",
    "final_shapes = gpd.GeoDataFrame(shp_final_merge, geometry = 'geometry_y')\n",
    "vals = shp_shapes.geom_almost_equals(final_shapes, decimal = 0)"
   ]
  },
  {
   "cell_type": "code",
   "execution_count": 77,
   "metadata": {},
   "outputs": [
    {
     "name": "stdout",
     "output_type": "stream",
     "text": [
      "True     28\n",
      "False    18\n",
      "dtype: int64\n"
     ]
    }
   ],
   "source": [
    "print(vals.value_counts())"
   ]
  },
  {
   "cell_type": "code",
   "execution_count": 78,
   "metadata": {},
   "outputs": [
    {
     "name": "stdout",
     "output_type": "stream",
     "text": [
      "550    5\n",
      "800    4\n",
      "700    4\n",
      "199    3\n",
      "830    1\n",
      "095    1\n",
      "Name: unique_id, dtype: int64\n"
     ]
    },
    {
     "data": {
      "text/plain": [
       "<matplotlib.axes._subplots.AxesSubplot at 0x7faef37877f0>"
      ]
     },
     "execution_count": 78,
     "metadata": {},
     "output_type": "execute_result"
    },
    {
     "data": {
      "image/png": "[encoded data removed]",
      "text/plain": [
       "<Figure size 432x288 with 1 Axes>"
      ]
     },
     "metadata": {
      "needs_background": "light"
     },
     "output_type": "display_data"
    }
   ],
   "source": [
    "print(shp_final_merge[~vals]['unique_id'].str[0:3].value_counts())\n",
    "diff_precincts = gpd.GeoDataFrame(shp_final_merge[~vals], geometry = 'geometry_x', crs = proj)\n",
    "\n",
    "shp_difference = gpd.overlay(shp_shapes, final_shapes, how = 'symmetric_difference')\n",
    "shp_difference.plot()"
   ]
  },
  {
   "cell_type": "code",
   "execution_count": 79,
   "metadata": {},
   "outputs": [
    {
     "name": "stdout",
     "output_type": "stream",
     "text": [
      "    index                        Pct Total Votes Cast HOD_DIST_x  \\\n",
      "0     1.0                3 - Camelot            1,858         77   \n",
      "1     2.0              5 - Crestwood            1,429         77   \n",
      "8    11.0            25 - St Julians              680         77   \n",
      "13   17.0         31 - Carver School            1,560         77   \n",
      "15   20.0             45 - Sunray II              477         77   \n",
      "18   28.0          301 - White Marsh              334         77   \n",
      "19   29.0       302 - John F Kennedy            1,263         77   \n",
      "21   32.0  404 - Booker T Washington            1,175         77   \n",
      "22   33.0             601 - Lakeside              211         77   \n",
      "26    3.0            104- Berkeley D              666         93   \n",
      "34   16.0             107 - Richneck            2,553         93   \n",
      "35   17.0             108 - Lee Hall              727         93   \n",
      "37   20.0            110 - Greenwood            2,173         93   \n",
      "39   22.0               211 - Palmer              140         93   \n",
      "41   44.0                1 - Stryker            3,205         93   \n",
      "43   43.0           202 - Kiln Creek            1,509         93   \n",
      "44   45.0             303 - Edgehill            1,092         93   \n",
      "45   47.0        401 - Harwoods Mill            1,674         93   \n",
      "\n",
      "           LOCALITY_x  S16HODDEM_x  S16HODWRI_x COUNTYFP_x  S16HODREP_x vtdst  \\\n",
      "0     Chesapeake City       2112.0         30.0        550          0.0   003   \n",
      "1     Chesapeake City       1608.0         38.0        550          0.0   005   \n",
      "8     Chesapeake City        729.0         53.0        550          0.0   025   \n",
      "13    Chesapeake City       1767.0         31.0        550          0.0   031   \n",
      "15    Chesapeake City        520.0         29.0        550          0.0   045   \n",
      "18       Suffolk City        385.0         13.0        800          0.0   301   \n",
      "19       Suffolk City       1488.0         16.0        800          0.0   302   \n",
      "21       Suffolk City       1387.0         13.0        800          0.0   404   \n",
      "22       Suffolk City        251.0          0.0        800          0.0   601   \n",
      "26  James City County        406.0          1.0        095        414.0   104   \n",
      "34  Newport News City       1538.0          7.0        700       1232.0   107   \n",
      "35  Newport News City        506.0          3.0        700        283.0   108   \n",
      "37  Newport News City       1653.0          4.0        700        715.0   110   \n",
      "39  Newport News City         86.0          1.0        700         65.0   211   \n",
      "41  Williamsburg City       2361.0          6.0        830       1289.0   001   \n",
      "43        York County        675.0          4.0        199       1011.0   202   \n",
      "44        York County        448.0          6.0        199        768.0   303   \n",
      "45        York County        492.0          5.0        199       1369.0   401   \n",
      "\n",
      "    ... unique_id_1 COUNTYFP_y         LOCALITY_y VTDST_y  \\\n",
      "0   ...      550003        550    Chesapeake City  000003   \n",
      "1   ...      550005        550    Chesapeake City  000005   \n",
      "8   ...      550025        550    Chesapeake City  000025   \n",
      "13  ...      550031        550    Chesapeake City  000031   \n",
      "15  ...      550045        550    Chesapeake City  000045   \n",
      "18  ...      800301        800       Suffolk City  000301   \n",
      "19  ...      800302        800       Suffolk City  000302   \n",
      "21  ...      800404        800       Suffolk City  000404   \n",
      "22  ...         NaN        800       Suffolk City  000601   \n",
      "26  ...      095041        095  James City County  000104   \n",
      "34  ...      700107        700  Newport News City  000107   \n",
      "35  ...         NaN        700  Newport News City  000108   \n",
      "37  ...      700110        700  Newport News City  000110   \n",
      "39  ...         NaN        700  Newport News City  000211   \n",
      "41  ...      830001        830  Williamsburg City  000001   \n",
      "43  ...      199202        199        York County  000202   \n",
      "44  ...      199303        199        York County  000303   \n",
      "45  ...         NaN        199        York County  000401   \n",
      "\n",
      "               PRECINCT HOD_DIST_y S16HODDEM_y S16HODREP_y S16HODWRI_y  \\\n",
      "0               Camelot        077        2112           0          30   \n",
      "1             Crestwood        077        1607           0          38   \n",
      "8            St Julians        077         728           0          53   \n",
      "13        Carver School        077        1766           0          31   \n",
      "15            Sunray II        077         520           0          29   \n",
      "18          WHITE MARSH        077         385           0          13   \n",
      "19       JOHN F KENNEDY        077        1489           0          16   \n",
      "21  BOOKER T WASHINGTON        077        1387           0          13   \n",
      "22             LAKESIDE        077         251           0           0   \n",
      "26           Berkeley D        093         406         414           1   \n",
      "34             Richneck        093        1538        1232           7   \n",
      "35             Lee Hall        093         505         283           3   \n",
      "37            Greenwood        093        1652         715           4   \n",
      "39               Palmer        093          86          65           1   \n",
      "41              Stryker        093        2362        1289           6   \n",
      "43           KILN CREEK        093         675        1011           3   \n",
      "44             EDGEHILL        093         448         768           6   \n",
      "45        HARWOODS MILL        093         492        1369           5   \n",
      "\n",
      "                                           geometry_y  \n",
      "0   POLYGON Z ((-76.36447 36.77827 0.00000, -76.36...  \n",
      "1   POLYGON Z ((-76.29859 36.76704 0.00000, -76.29...  \n",
      "8   POLYGON Z ((-76.34550 36.77248 0.00000, -76.34...  \n",
      "13  POLYGON Z ((-76.25170 36.78717 0.00000, -76.25...  \n",
      "15  MULTIPOLYGON Z (((-76.46678 36.74618 0.00000, ...  \n",
      "18  POLYGON Z ((-76.59873 36.66933 0.00000, -76.59...  \n",
      "19  POLYGON Z ((-76.55541 36.73119 0.00000, -76.56...  \n",
      "21  POLYGON Z ((-76.60372 36.71283 0.00000, -76.59...  \n",
      "22  POLYGON Z ((-76.58167 36.73342 0.00000, -76.58...  \n",
      "26  MULTIPOLYGON Z (((-76.75418 37.24672 0.00000, ...  \n",
      "34  POLYGON Z ((-76.52754 37.15219 0.00000, -76.52...  \n",
      "35  POLYGON Z ((-76.61098 37.16711 0.00000, -76.60...  \n",
      "37  POLYGON Z ((-76.59159 37.21082 0.00000, -76.59...  \n",
      "39  POLYGON Z ((-76.46814 37.11123 0.00000, -76.46...  \n",
      "41  POLYGON Z ((-76.72009 37.28634 0.00000, -76.72...  \n",
      "43  POLYGON Z ((-76.50610 37.15413 0.00000, -76.50...  \n",
      "44  MULTIPOLYGON Z (((-76.49125 37.19585 0.00000, ...  \n",
      "45  POLYGON Z ((-76.47686 37.14917 0.00000, -76.47...  \n",
      "\n",
      "[18 rows x 63 columns]\n"
     ]
    },
    {
     "data": {
      "image/svg+xml": [
       "<svg xmlns=\"http://www.w3.org/2000/svg\" xmlns:xlink=\"http://www.w3.org/1999/xlink\" width=\"100.0\" height=\"100.0\" viewBox=\"-76.50884448 37.09802052 0.05546696000000395 0.07307495999999958\" preserveAspectRatio=\"xMinYMin meet\"><g transform=\"matrix(1,0,0,-1,0,74.269116)\"><path fill-rule=\"evenodd\" fill=\"#66cc99\" stroke=\"#555555\" stroke-width=\"0.0014614991999999916\" opacity=\"0.6\" d=\"M -76.47097699999999,37.114444999999996 L -76.47102199999999,37.114495999999995 L -76.471036,37.114511 L -76.471183,37.114678 L -76.471873,37.115458 L -76.472084,37.115697 L -76.472606,37.116289 L -76.47269899999999,37.116392999999995 L -76.472821,37.11653 L -76.472991,37.116748 L -76.476784,37.121021999999996 L -76.480182,37.124851 L -76.480847,37.125581 L -76.481202,37.125983 L -76.481297,37.126087999999996 L -76.48147,37.126283 L -76.481703,37.126546 L -76.481988,37.126867 L -76.482286,37.127202 L -76.482519,37.127465 L -76.483628,37.128713 L -76.484807,37.130041999999996 L -76.485343,37.130648 L -76.485401,37.130711999999995 L -76.485663,37.131008 L -76.486839,37.132334 L -76.48813,37.133789 L -76.488193,37.133859 L -76.49091299999999,37.136924 L -76.492598,37.138822999999995 L -76.494654,37.14114 L -76.49664,37.143378999999996 L -76.496662,37.143402 L -76.496678,37.143421 L -76.500169,37.147352 L -76.500283,37.147482 L -76.50030199999999,37.147501999999996 L -76.50081399999999,37.148078999999996 L -76.500896,37.148185 L -76.50098299999999,37.148284 L -76.50144499999999,37.148804 L -76.502195,37.149648 L -76.503586,37.151213999999996 L -76.506008,37.153942 L -76.506046,37.153984 L -76.50613799999999,37.154088 L -76.506101,37.154129 L -76.505374,37.154941 L -76.505174,37.155114999999995 L -76.505139,37.155158 L -76.504994,37.155341 L -76.504728,37.155662 L -76.50358,37.156949999999995 L -76.502426,37.158252999999995 L -76.50175,37.158998 L -76.50138799999999,37.159377 L -76.50094,37.159815 L -76.50057,37.160151 L -76.50018399999999,37.160485 L -76.499656,37.160913 L -76.499268,37.161207 L -76.498903,37.161468 L -76.49838,37.161822 L -76.497978,37.162079 L -76.497501,37.162364 L -76.496984,37.162652 L -76.49651999999999,37.162901999999995 L -76.496297,37.163011999999995 L -76.496055,37.163131 L -76.495609,37.16334 L -76.494978,37.163610999999996 L -76.494424,37.163835 L -76.493828,37.16406 L -76.493496,37.164181 L -76.49332199999999,37.164245 L -76.490732,37.165208 L -76.490312,37.165368 L -76.489904,37.165510999999995 L -76.489487,37.165670999999996 L -76.488869,37.165898999999996 L -76.487928,37.16625 L -76.487803,37.166297 L -76.487422,37.166435 L -76.486988,37.166596999999996 L -76.483443,37.167916 L -76.482723,37.168196 L -76.482283,37.168389 L -76.48205999999999,37.16815 L -76.481516,37.16796 L -76.481101,37.167674 L -76.480718,37.167164 L -76.48051099999999,37.166669999999996 L -76.480176,37.166256 L -76.47931299999999,37.16554 L -76.47869,37.16503 L -76.478419,37.164409 L -76.478388,37.163883 L -76.478549,37.163340999999996 L -76.47871099999999,37.162576 L -76.478743,37.162304999999996 L -76.478745,37.161541 L -76.479407,37.161032999999996 L -76.480049,37.160396 L -76.480149,37.15943 L -76.47976799999999,37.158586 L -76.479247,37.156321999999996 L -76.478405,37.154117 L -76.477723,37.151786 L -76.476886,37.149208 L -76.476855,37.149167 L -76.475869,37.147903 L -76.473562,37.145783 L -76.47081399999999,37.144341 L -76.468588,37.142756999999996 L -76.46678299999999,37.141168 L -76.46613599999999,37.140665999999996 L -76.46507799999999,37.139846 L -76.463112,37.138999 L -76.460144,37.138368 L -76.458439,37.137921 L -76.458199,37.137873 L -76.457439,37.137629 L -76.457109,37.137523 L -76.457769,37.134703 L -76.458373,37.132121 L -76.458463,37.131738999999996 L -76.458592,37.131189 L -76.458741,37.130558 L -76.458984,37.129484999999995 L -76.45905599999999,37.129045999999995 L -76.459079,37.128817999999995 L -76.459096,37.128513 L -76.459094,37.128163 L -76.459076,37.127841 L -76.459037,37.127486 L -76.459018,37.127362999999995 L -76.459006,37.127286999999995 L -76.458927,37.126883 L -76.45884,37.12655 L -76.458775,37.126335999999995 L -76.458377,37.125094 L -76.457967,37.123802999999995 L -76.457737,37.123070999999996 L -76.457138,37.121176999999996 L -76.457047,37.120793 L -76.45703499999999,37.120742 L -76.456875,37.120064 L -76.456842,37.119847 L -76.456811,37.119613 L -76.456774,37.119167999999995 L -76.456706,37.118131999999996 L -76.456696,37.117976 L -76.45661,37.116645999999996 L -76.456583,37.116246 L -76.45648899999999,37.114822 L -76.456425,37.113856 L -76.456349,37.112696 L -76.45630899999999,37.112044999999995 L -76.45625299999999,37.111232 L -76.456225,37.110819 L -76.456199,37.110412 L -76.456133,37.109381 L -76.45611199999999,37.109055 L -76.456098,37.108818 L -76.456091,37.108613 L -76.45608399999999,37.108416999999996 L -76.456093,37.108098 L -76.456114,37.107865 L -76.456158,37.107575 L -76.456229,37.107274 L -76.456324,37.106958999999996 L -76.456402,37.106727 L -76.456546,37.106344 L -76.456935,37.105301 L -76.457244,37.104475 L -76.457535,37.103695 L -76.45793499999999,37.102615 L -76.458043,37.102297 L -76.45813799999999,37.102011 L -76.458383,37.101163 L -76.458449,37.100913 L -76.45848699999999,37.100769 L -76.45849799999999,37.100727 L -76.458591,37.100738 L -76.458665,37.100742 L -76.458704,37.100744 L -76.458786,37.100758 L -76.458805,37.100761 L -76.45882999999999,37.100764999999996 L -76.458849,37.100773 L -76.45890299999999,37.100795999999995 L -76.458981,37.100847 L -76.45901099999999,37.100871999999995 L -76.459032,37.100893 L -76.459074,37.100933999999995 L -76.459097,37.100975 L -76.459103,37.101009999999995 L -76.459109,37.101044 L -76.459107,37.101105 L -76.45910599999999,37.101133 L -76.459104,37.101186999999996 L -76.459097,37.101354 L -76.4591,37.101372999999995 L -76.459102,37.101382 L -76.459103,37.101391 L -76.45910599999999,37.10141 L -76.459105,37.101454 L -76.45909,37.101478 L -76.459239,37.101855 L -76.459291,37.101918 L -76.459347,37.101979 L -76.45938,37.102017 L -76.459398,37.102041 L -76.45944399999999,37.102123999999996 L -76.45946099999999,37.102148 L -76.459476,37.102168999999996 L -76.459497,37.102197 L -76.459519,37.102227 L -76.459619,37.102364 L -76.459762,37.102509 L -76.45978699999999,37.10253 L -76.45991,37.102636 L -76.45998,37.102697 L -76.460031,37.102748 L -76.460816,37.103038999999995 L -76.464987,37.107797999999995 L -76.466088,37.109010999999995 L -76.466948,37.109933999999996 L -76.46776299999999,37.110821 L -76.468143,37.111233999999996 L -76.468413,37.11154 L -76.469585,37.11287 L -76.470243,37.113614 L -76.470821,37.114267 L -76.47097699999999,37.114444999999996 z\" /></g></svg>"
      ],
      "text/plain": [
       "<shapely.geometry.polygon.Polygon at 0x7faf0587f640>"
      ]
     },
     "metadata": {},
     "output_type": "display_data"
    },
    {
     "data": {
      "image/svg+xml": [
       "<svg xmlns=\"http://www.w3.org/2000/svg\" xmlns:xlink=\"http://www.w3.org/1999/xlink\" width=\"100.0\" height=\"100.0\" viewBox=\"-76.50880748 37.09802052 0.0554299600000121 0.07307495999999958\" preserveAspectRatio=\"xMinYMin meet\"><g transform=\"matrix(1,0,0,-1,0,74.269116)\"><path fill-rule=\"evenodd\" fill=\"#66cc99\" stroke=\"#555555\" stroke-width=\"0.0014614991999999916\" opacity=\"0.6\" d=\"M -76.506101,37.154129 L -76.505374,37.154941 L -76.505174,37.155114999999995 L -76.505139,37.155158 L -76.504994,37.155341 L -76.504728,37.155662 L -76.50358,37.156949999999995 L -76.502426,37.158252999999995 L -76.50175,37.158998 L -76.50138799999999,37.159377 L -76.50094,37.159815 L -76.50057,37.160151 L -76.50018399999999,37.160485 L -76.499656,37.160913 L -76.499268,37.161207 L -76.498903,37.161468 L -76.49838,37.161822 L -76.497978,37.162079 L -76.497501,37.162364 L -76.496984,37.162652 L -76.49651999999999,37.162901999999995 L -76.496297,37.163011999999995 L -76.496055,37.163131 L -76.495609,37.16334 L -76.494978,37.163610999999996 L -76.494424,37.163835 L -76.493828,37.16406 L -76.493496,37.164181 L -76.49332199999999,37.164245 L -76.490732,37.165208 L -76.490312,37.165368 L -76.489904,37.165510999999995 L -76.489487,37.165670999999996 L -76.488869,37.165898999999996 L -76.487928,37.16625 L -76.487803,37.166297 L -76.487422,37.166435 L -76.486988,37.166596999999996 L -76.483443,37.167916 L -76.482723,37.168196 L -76.482283,37.168389 L -76.48205999999999,37.16815 L -76.481516,37.16796 L -76.481101,37.167674 L -76.480718,37.167164 L -76.48051099999999,37.166669999999996 L -76.480176,37.166256 L -76.47931299999999,37.16554 L -76.47869,37.16503 L -76.478419,37.164409 L -76.478388,37.163883 L -76.478549,37.163340999999996 L -76.47871099999999,37.162576 L -76.478743,37.162304999999996 L -76.478745,37.161541 L -76.479407,37.161032999999996 L -76.480049,37.160396 L -76.480149,37.15943 L -76.47976799999999,37.158586 L -76.479247,37.156321999999996 L -76.478405,37.154117 L -76.477723,37.151786 L -76.476886,37.149208 L -76.476855,37.149167 L -76.475869,37.147903 L -76.473562,37.145783 L -76.47081399999999,37.144341 L -76.468588,37.142756999999996 L -76.46678299999999,37.141168 L -76.46613599999999,37.140665999999996 L -76.46507799999999,37.139846 L -76.463112,37.138999 L -76.460144,37.138368 L -76.458439,37.137921 L -76.458199,37.137873 L -76.457439,37.137629 L -76.457109,37.137523 L -76.457769,37.134703 L -76.458373,37.132121 L -76.458463,37.131738999999996 L -76.458592,37.131189 L -76.458741,37.130558 L -76.458984,37.129484999999995 L -76.45905599999999,37.129045999999995 L -76.459079,37.128817999999995 L -76.459096,37.128513 L -76.459094,37.128163 L -76.459076,37.127841 L -76.459037,37.127486 L -76.459018,37.127362999999995 L -76.459006,37.127286999999995 L -76.458927,37.126883 L -76.45884,37.12655 L -76.458775,37.126335999999995 L -76.458377,37.125094 L -76.457967,37.123802999999995 L -76.457737,37.123070999999996 L -76.457138,37.121176999999996 L -76.457047,37.120793 L -76.45703499999999,37.120742 L -76.456875,37.120064 L -76.456842,37.119847 L -76.456811,37.119613 L -76.456774,37.119167999999995 L -76.456706,37.118131999999996 L -76.456696,37.117976 L -76.45661,37.116645999999996 L -76.456583,37.116246 L -76.45648899999999,37.114822 L -76.456425,37.113856 L -76.456349,37.112696 L -76.45630899999999,37.112044999999995 L -76.45625299999999,37.111232 L -76.456225,37.110819 L -76.456199,37.110412 L -76.456133,37.109381 L -76.45611199999999,37.109055 L -76.456098,37.108818 L -76.456091,37.108613 L -76.45608399999999,37.108416999999996 L -76.456093,37.108098 L -76.456114,37.107865 L -76.456158,37.107575 L -76.456229,37.107274 L -76.456324,37.106958999999996 L -76.456402,37.106727 L -76.456546,37.106344 L -76.456935,37.105301 L -76.457244,37.104475 L -76.457535,37.103695 L -76.45793499999999,37.102615 L -76.458043,37.102297 L -76.45813799999999,37.102011 L -76.458383,37.101163 L -76.458449,37.100913 L -76.45848699999999,37.100769 L -76.45849799999999,37.100727 L -76.458591,37.100738 L -76.458665,37.100742 L -76.458704,37.100744 L -76.458786,37.100758 L -76.458805,37.100761 L -76.45882999999999,37.100764999999996 L -76.458849,37.100773 L -76.45890299999999,37.100795999999995 L -76.458981,37.100847 L -76.45901099999999,37.100871999999995 L -76.459032,37.100893 L -76.459074,37.100933999999995 L -76.459097,37.100975 L -76.459103,37.101009999999995 L -76.459109,37.101044 L -76.459107,37.101105 L -76.45910599999999,37.101133 L -76.459104,37.101186999999996 L -76.459097,37.101354 L -76.4591,37.101372999999995 L -76.459102,37.101382 L -76.459103,37.101391 L -76.45910599999999,37.10141 L -76.459105,37.101454 L -76.45909,37.101478 L -76.459239,37.101855 L -76.459291,37.101918 L -76.459347,37.101979 L -76.45938,37.102017 L -76.459398,37.102041 L -76.45944399999999,37.102123999999996 L -76.45946099999999,37.102148 L -76.459476,37.102168999999996 L -76.459497,37.102197 L -76.459519,37.102227 L -76.459619,37.102364 L -76.459762,37.102509 L -76.45978699999999,37.10253 L -76.45991,37.102636 L -76.45998,37.102697 L -76.460031,37.102748 L -76.460816,37.103038999999995 L -76.464987,37.107797999999995 L -76.466088,37.109010999999995 L -76.466948,37.109933999999996 L -76.46776299999999,37.110821 L -76.468143,37.111233999999996 L -76.468413,37.11154 L -76.469585,37.11287 L -76.470243,37.113614 L -76.470821,37.114267 L -76.47097699999999,37.114444999999996 L -76.47102199999999,37.114495999999995 L -76.471036,37.114511 L -76.471183,37.114678 L -76.471873,37.115458 L -76.472084,37.115697 L -76.472606,37.116289 L -76.47269899999999,37.116392999999995 L -76.472821,37.11653 L -76.472991,37.116748 L -76.476784,37.121021999999996 L -76.480182,37.124851 L -76.480847,37.125581 L -76.481202,37.125983 L -76.481297,37.126087999999996 L -76.48147,37.126283 L -76.481703,37.126546 L -76.481988,37.126867 L -76.482286,37.127202 L -76.482519,37.127465 L -76.483628,37.128713 L -76.484807,37.130041999999996 L -76.485343,37.130648 L -76.485401,37.130711999999995 L -76.485663,37.131008 L -76.486839,37.132334 L -76.48813,37.133789 L -76.488193,37.133859 L -76.49091299999999,37.136924 L -76.492598,37.138822999999995 L -76.494654,37.14114 L -76.49664,37.143378999999996 L -76.496662,37.143402 L -76.496678,37.143421 L -76.500169,37.147352 L -76.500283,37.147482 L -76.50030199999999,37.147501999999996 L -76.50081399999999,37.148078999999996 L -76.500975,37.148288 L -76.503568,37.15123 L -76.504558,37.152363 L -76.50601,37.154025 L -76.506101,37.154129 z\" /></g></svg>"
      ],
      "text/plain": [
       "<shapely.geometry.polygon.Polygon at 0x7faf016dddc0>"
      ]
     },
     "metadata": {},
     "output_type": "display_data"
    },
    {
     "data": {
      "image/svg+xml": [
       "<svg xmlns=\"http://www.w3.org/2000/svg\" xmlns:xlink=\"http://www.w3.org/1999/xlink\" width=\"100.0\" height=\"100.0\" viewBox=\"-76.60380904 36.62346596 0.13726908000001004 0.10446207999999757\" preserveAspectRatio=\"xMinYMin meet\"><g transform=\"matrix(1,0,0,-1,0,73.351394)\"><path fill-rule=\"evenodd\" fill=\"#66cc99\" stroke=\"#555555\" stroke-width=\"0.002745381600000201\" opacity=\"0.6\" d=\"M -76.47162399999999,36.708672 L -76.47326699999999,36.695949 L -76.47574,36.677823 L -76.475837,36.677112 L -76.47588,36.676797 L -76.475899,36.676655 L -76.47591,36.676578 L -76.475915,36.676542999999995 L -76.47591899999999,36.676513 L -76.475926,36.676462 L -76.476033,36.675677 L -76.476483,36.672379 L -76.478938,36.654382 L -76.479269,36.65195 L -76.482029,36.628887999999996 L -76.482069,36.62855 L -76.547287,36.644214 L -76.553242,36.647377999999996 L -76.553653,36.647596 L -76.553679,36.647611 L -76.553795,36.647597999999995 L -76.554872,36.647526 L -76.55600799999999,36.647478 L -76.556888,36.64783 L -76.55756,36.648086 L -76.557992,36.648278 L -76.558263,36.648617 L -76.558435,36.648832999999996 L -76.558589,36.649747999999995 L -76.558865,36.650563 L -76.559688,36.651741 L -76.560321,36.652887 L -76.561195,36.653811 L -76.562477,36.655 L -76.561217,36.65677 L -76.560796,36.657395 L -76.56040399999999,36.657989 L -76.560062,36.658626 L -76.559997,36.658758999999996 L -76.559924,36.658908 L -76.55986299999999,36.659075 L -76.55982,36.659245999999996 L -76.559795,36.65942 L -76.55974499999999,36.660567 L -76.55973999999999,36.661263 L -76.559704,36.663379 L -76.559985,36.663427999999996 L -76.56040899999999,36.663481999999995 L -76.56058399999999,36.663492999999995 L -76.56076,36.663489 L -76.561015,36.66346 L -76.561565,36.663405 L -76.56217199999999,36.663328 L -76.56271,36.663275 L -76.56296499999999,36.663261999999996 L -76.56317,36.663261999999996 L -76.56342599999999,36.663275 L -76.56419,36.663353 L -76.564532,36.663409 L -76.564955,36.663492 L -76.56545799999999,36.663609 L -76.566317,36.663801 L -76.56653399999999,36.663844999999995 L -76.568426,36.664279 L -76.569339,36.664485 L -76.56953399999999,36.664519999999996 L -76.569694,36.664538 L -76.57071599999999,36.664577 L -76.571058,36.664574 L -76.571168,36.664559 L -76.571274,36.664531 L -76.571353,36.664498 L -76.571646,36.664333 L -76.571803,36.664238 L -76.572099,36.664044 L -76.572278,36.663913 L -76.574232,36.662268999999995 L -76.574407,36.662141999999996 L -76.57459399999999,36.662026 L -76.575189,36.661713999999996 L -76.57571399999999,36.661439 L -76.576317,36.661096 L -76.576447,36.661027 L -76.5766,36.660962 L -76.57676,36.660909 L -76.576892,36.660877 L -76.577095,36.660844 L -76.577742,36.660793999999996 L -76.577863,36.660782999999995 L -76.57820099999999,36.660739 L -76.57896,36.6606 L -76.580019,36.660433 L -76.58021699999999,36.66151 L -76.580282,36.661892 L -76.581651,36.661906 L -76.581929,36.661923 L -76.582104,36.661946 L -76.582959,36.662107999999996 L -76.584256,36.662363 L -76.585132,36.662538 L -76.58637399999999,36.662786 L -76.587155,36.662934 L -76.587499,36.663002 L -76.587999,36.663115 L -76.590107,36.663657 L -76.591071,36.66391 L -76.591279,36.663981 L -76.59147899999999,36.664063999999996 L -76.591684,36.664169 L -76.59174399999999,36.664203 L -76.59222199999999,36.664536 L -76.59241,36.664668 L -76.592839,36.664983 L -76.593092,36.665158 L -76.593784,36.665678 L -76.594257,36.666022999999996 L -76.595322,36.666821 L -76.596604,36.667781999999995 L -76.598154,36.668915999999996 L -76.598523,36.669184 L -76.598725,36.669334 L -76.59814899999999,36.670865 L -76.59767599999999,36.672112999999996 L -76.59662,36.674859 L -76.596237,36.675882 L -76.59518,36.67863 L -76.594849,36.679479 L -76.594241,36.681072 L -76.593718,36.682415 L -76.59332599999999,36.683458 L -76.59292099999999,36.684548 L -76.59250999999999,36.685645 L -76.59227899999999,36.686333 L -76.592075,36.686822 L -76.591707,36.687812 L -76.59114799999999,36.689302 L -76.59054499999999,36.690821 L -76.59043799999999,36.691102 L -76.589585,36.693366 L -76.588855,36.695282 L -76.588605,36.695932 L -76.588234,36.696885 L -76.587818,36.697979 L -76.587789,36.698057 L -76.587755,36.698136 L -76.58738699999999,36.699086 L -76.58681399999999,36.700607999999995 L -76.586359,36.701805 L -76.58592399999999,36.702943999999995 L -76.585634,36.703713 L -76.585523,36.704063999999995 L -76.585284,36.704736 L -76.58501199999999,36.70542 L -76.584577,36.706382 L -76.584454,36.706655 L -76.58335,36.706936 L -76.582326,36.707018999999995 L -76.581192,36.707437999999996 L -76.580736,36.707647 L -76.580407,36.707936 L -76.58,36.70829 L -76.579668,36.708467 L -76.579133,36.708611999999995 L -76.578723,36.708693 L -76.578135,36.708979 L -76.57770599999999,36.709424999999996 L -76.576985,36.70995 L -76.576672,36.710237 L -76.576652,36.710428 L -76.57645,36.710842 L -76.57615299999999,36.711161 L -76.575955,36.711335999999996 L -76.575903,36.711511 L -76.575704,36.711798 L -76.57563999999999,36.711909999999996 L -76.57563999999999,36.71217 L -76.57563999999999,36.712357 L -76.57552799999999,36.712533 L -76.575192,36.712773 L -76.575064,36.712917 L -76.574744,36.712981 L -76.5742,36.713108999999996 L -76.573904,36.713108999999996 L -76.5738,36.713108999999996 L -76.573416,36.713060999999996 L -76.572904,36.713060999999996 L -76.572808,36.713077 L -76.57216799999999,36.713204999999995 L -76.572024,36.713460999999995 L -76.571944,36.713749 L -76.571992,36.714101 L -76.572001,36.714141999999995 L -76.572056,36.714389 L -76.57207199999999,36.714678 L -76.57204,36.714998 L -76.57197599999999,36.715478999999995 L -76.57207199999999,36.715686999999996 L -76.572064,36.715717 L -76.571912,36.716344 L -76.57164,36.716921 L -76.571597,36.716986999999996 L -76.571416,36.717273 L -76.57132,36.71761 L -76.57146399999999,36.717977999999995 L -76.571209,36.718427 L -76.57076099999999,36.718908 L -76.57016899999999,36.719245 L -76.569369,36.719629999999995 L -76.568409,36.720143 L -76.56782799999999,36.720288 L -76.567449,36.720383999999996 L -76.56701699999999,36.720833 L -76.567149,36.721136 L -76.566937,36.721105 L -76.56676,36.721067 L -76.566593,36.721014 L -76.566473,36.720959 L -76.56635,36.72089 L -76.566305,36.720862 L -76.566178,36.720768 L -76.566108,36.720701999999996 L -76.566002,36.720580999999996 L -76.565912,36.720452 L -76.565851,36.720318999999996 L -76.56576299999999,36.720109 L -76.565719,36.719969 L -76.56569,36.719797 L -76.565686,36.719653 L -76.565707,36.719449999999995 L -76.56573999999999,36.719239 L -76.565788,36.719021 L -76.5659,36.718401 L -76.565963,36.718033999999996 L -76.566011,36.717794 L -76.56606599999999,36.717448999999995 L -76.566087,36.717219 L -76.56609,36.717117 L -76.56607,36.716678 L -76.566051,36.716448 L -76.565994,36.715778 L -76.56599,36.715728999999996 L -76.56596499999999,36.71533 L -76.56554,36.715356 L -76.565221,36.715368999999995 L -76.564461,36.715385999999995 L -76.563717,36.715416999999995 L -76.56311099999999,36.71543 L -76.562688,36.715438 L -76.56196,36.715464 L -76.56164199999999,36.71548 L -76.560788,36.715508 L -76.56003199999999,36.715541 L -76.558461,36.715587 L -76.55810199999999,36.715601 L -76.557785,36.715607 L -76.557326,36.715623 L -76.55644,36.715641999999995 L -76.555495,36.715681 L -76.554262,36.715722 L -76.553932,36.715737 L -76.55336,36.715748999999995 L -76.55207999999999,36.7158 L -76.54985099999999,36.715861 L -76.548934,36.71589 L -76.548525,36.715899 L -76.54646699999999,36.715969 L -76.54551099999999,36.715993999999995 L -76.54312,36.716077999999996 L -76.542735,36.716094999999996 L -76.54181799999999,36.71612 L -76.54137,36.716139 L -76.53963499999999,36.71619 L -76.539164,36.716212 L -76.538761,36.716221 L -76.538456,36.716235 L -76.537204,36.716263999999995 L -76.536641,36.716285 L -76.53631899999999,36.716293 L -76.536065,36.716305 L -76.534457,36.71635 L -76.534154,36.716364 L -76.533836,36.716367999999996 L -76.533187,36.716387999999995 L -76.53294799999999,36.7164 L -76.531735,36.716434 L -76.531121,36.716457999999996 L -76.530699,36.716467 L -76.530163,36.716485 L -76.529141,36.716511 L -76.52895699999999,36.716515 L -76.52852399999999,36.716524 L -76.52808499999999,36.716519 L -76.527401,36.716438 L -76.52663299999999,36.716311 L -76.52591199999999,36.716197 L -76.52538799999999,36.716144 L -76.525114,36.716135 L -76.524839,36.716139999999996 L -76.52427,36.716181 L -76.523978,36.716218 L -76.52348099999999,36.716308 L -76.52282199999999,36.716440999999996 L -76.521361,36.71677 L -76.52037899999999,36.716969999999996 L -76.519641,36.717134 L -76.518785,36.717318999999996 L -76.517997,36.717495 L -76.517545,36.717586 L -76.516943,36.717724 L -76.51641099999999,36.717833 L -76.51570699999999,36.717983 L -76.515121,36.718122 L -76.51307,36.718565 L -76.512242,36.71875 L -76.50840099999999,36.719553999999995 L -76.507088,36.719823 L -76.506044,36.720051 L -76.505316,36.720205 L -76.50475899999999,36.720333 L -76.504003,36.720481 L -76.503299,36.720631 L -76.502543,36.720780999999995 L -76.50088699999999,36.721135 L -76.500014,36.721306999999996 L -76.499524,36.721419 L -76.49895099999999,36.721543 L -76.498144,36.721706 L -76.497719,36.721798 L -76.496989,36.721947 L -76.495875,36.722181 L -76.495283,36.72231 L -76.49440899999999,36.722511 L -76.49378899999999,36.722633 L -76.49313,36.72277 L -76.492846,36.722843999999995 L -76.492798,36.722794 L -76.491799,36.722137 L -76.490089,36.720976 L -76.48625,36.718416999999995 L -76.47649899999999,36.711968999999996 L -76.47162399999999,36.708672 z\" /></g></svg>"
      ],
      "text/plain": [
       "<shapely.geometry.polygon.Polygon at 0x7faf10d8b040>"
      ]
     },
     "metadata": {},
     "output_type": "display_data"
    },
    {
     "data": {
      "image/svg+xml": [
       "<svg xmlns=\"http://www.w3.org/2000/svg\" xmlns:xlink=\"http://www.w3.org/1999/xlink\" width=\"100.0\" height=\"100.0\" viewBox=\"-76.60380904 36.62346596 0.13726908000001004 0.10446207999999757\" preserveAspectRatio=\"xMinYMin meet\"><g transform=\"matrix(1,0,0,-1,0,73.351394)\"><path fill-rule=\"evenodd\" fill=\"#66cc99\" stroke=\"#555555\" stroke-width=\"0.002745381600000201\" opacity=\"0.6\" d=\"M -76.598725,36.669334 L -76.59814899999999,36.670865 L -76.59767599999999,36.672112999999996 L -76.59662,36.674859 L -76.596237,36.675882 L -76.59518,36.67863 L -76.594849,36.679479 L -76.594241,36.681072 L -76.593718,36.682415 L -76.59332599999999,36.683458 L -76.59292099999999,36.684548 L -76.59250999999999,36.685645 L -76.59227899999999,36.686333 L -76.592075,36.686822 L -76.591707,36.687812 L -76.59114799999999,36.689302 L -76.59054499999999,36.690821 L -76.59043799999999,36.691102 L -76.589585,36.693366 L -76.588855,36.695282 L -76.588605,36.695932 L -76.588234,36.696885 L -76.587818,36.697979 L -76.587789,36.698057 L -76.587755,36.698136 L -76.58738699999999,36.699086 L -76.58681399999999,36.700607999999995 L -76.586359,36.701805 L -76.58592399999999,36.702943999999995 L -76.585634,36.703713 L -76.585523,36.704063999999995 L -76.585284,36.704736 L -76.58501199999999,36.70542 L -76.584577,36.706382 L -76.584454,36.706655 L -76.58335,36.706936 L -76.582326,36.707018999999995 L -76.581192,36.707437999999996 L -76.580736,36.707647 L -76.580407,36.707936 L -76.58,36.70829 L -76.579668,36.708467 L -76.579133,36.708611999999995 L -76.578723,36.708693 L -76.578135,36.708979 L -76.57770599999999,36.709424999999996 L -76.576985,36.70995 L -76.576672,36.710237 L -76.576652,36.710428 L -76.57645,36.710842 L -76.57615299999999,36.711161 L -76.575955,36.711335999999996 L -76.575903,36.711511 L -76.575704,36.711798 L -76.57563999999999,36.711909999999996 L -76.57563999999999,36.71217 L -76.573904,36.713108999999996 L -76.5738,36.713108999999996 L -76.573416,36.713060999999996 L -76.572904,36.713060999999996 L -76.572808,36.713077 L -76.57216799999999,36.713204999999995 L -76.572024,36.713460999999995 L -76.571944,36.713749 L -76.571992,36.714101 L -76.572001,36.714141999999995 L -76.572056,36.714389 L -76.57207199999999,36.714678 L -76.57204,36.714998 L -76.57197599999999,36.715478999999995 L -76.57207199999999,36.715686999999996 L -76.572064,36.715717 L -76.571912,36.716344 L -76.57164,36.716921 L -76.571597,36.716986999999996 L -76.571416,36.717273 L -76.57132,36.71761 L -76.57146399999999,36.717977999999995 L -76.571209,36.718427 L -76.57076099999999,36.718908 L -76.57016899999999,36.719245 L -76.569369,36.719629999999995 L -76.568409,36.720143 L -76.56782799999999,36.720288 L -76.567449,36.720383999999996 L -76.56701699999999,36.720833 L -76.567149,36.721136 L -76.566937,36.721105 L -76.56676,36.721067 L -76.566593,36.721014 L -76.566473,36.720959 L -76.56635,36.72089 L -76.566305,36.720862 L -76.566178,36.720768 L -76.566108,36.720701999999996 L -76.566002,36.720580999999996 L -76.565912,36.720452 L -76.565851,36.720318999999996 L -76.56576299999999,36.720109 L -76.565719,36.719969 L -76.56569,36.719797 L -76.565686,36.719653 L -76.565707,36.719449999999995 L -76.56573999999999,36.719239 L -76.565788,36.719021 L -76.5659,36.718401 L -76.565963,36.718033999999996 L -76.566011,36.717794 L -76.56606599999999,36.717448999999995 L -76.566087,36.717219 L -76.56609,36.717117 L -76.56607,36.716678 L -76.566051,36.716448 L -76.565994,36.715778 L -76.56599,36.715728999999996 L -76.56596499999999,36.71533 L -76.56554,36.715356 L -76.565221,36.715368999999995 L -76.564461,36.715385999999995 L -76.563717,36.715416999999995 L -76.56311099999999,36.71543 L -76.562688,36.715438 L -76.56196,36.715464 L -76.56164199999999,36.71548 L -76.560788,36.715508 L -76.56003199999999,36.715541 L -76.558461,36.715587 L -76.55810199999999,36.715601 L -76.557785,36.715607 L -76.557326,36.715623 L -76.55644,36.715641999999995 L -76.555495,36.715681 L -76.554262,36.715722 L -76.553932,36.715737 L -76.55336,36.715748999999995 L -76.55207999999999,36.7158 L -76.54985099999999,36.715861 L -76.548934,36.71589 L -76.548525,36.715899 L -76.54646699999999,36.715969 L -76.54551099999999,36.715993999999995 L -76.54312,36.716077999999996 L -76.542735,36.716094999999996 L -76.54181799999999,36.71612 L -76.54137,36.716139 L -76.53963499999999,36.71619 L -76.539164,36.716212 L -76.538761,36.716221 L -76.538456,36.716235 L -76.537204,36.716263999999995 L -76.536641,36.716285 L -76.53631899999999,36.716293 L -76.536065,36.716305 L -76.534457,36.71635 L -76.534154,36.716364 L -76.533836,36.716367999999996 L -76.533187,36.716387999999995 L -76.53294799999999,36.7164 L -76.531735,36.716434 L -76.531121,36.716457999999996 L -76.530699,36.716467 L -76.530163,36.716485 L -76.529141,36.716511 L -76.52895699999999,36.716515 L -76.52852399999999,36.716524 L -76.52808499999999,36.716519 L -76.527401,36.716438 L -76.52663299999999,36.716311 L -76.52591199999999,36.716197 L -76.52538799999999,36.716144 L -76.525114,36.716135 L -76.524839,36.716139999999996 L -76.52427,36.716181 L -76.523978,36.716218 L -76.52348099999999,36.716308 L -76.52282199999999,36.716440999999996 L -76.521361,36.71677 L -76.52037899999999,36.716969999999996 L -76.519641,36.717134 L -76.518785,36.717318999999996 L -76.517997,36.717495 L -76.517545,36.717586 L -76.516943,36.717724 L -76.51641099999999,36.717833 L -76.51570699999999,36.717983 L -76.515121,36.718122 L -76.51307,36.718565 L -76.512242,36.71875 L -76.50840099999999,36.719553999999995 L -76.507088,36.719823 L -76.506044,36.720051 L -76.505316,36.720205 L -76.50475899999999,36.720333 L -76.504003,36.720481 L -76.503299,36.720631 L -76.502543,36.720780999999995 L -76.50088699999999,36.721135 L -76.500014,36.721306999999996 L -76.499524,36.721419 L -76.49895099999999,36.721543 L -76.498144,36.721706 L -76.497719,36.721798 L -76.496989,36.721947 L -76.495875,36.722181 L -76.495283,36.72231 L -76.49440899999999,36.722511 L -76.49378899999999,36.722633 L -76.49313,36.72277 L -76.492846,36.722843999999995 L -76.492798,36.722794 L -76.491799,36.722137 L -76.490089,36.720976 L -76.48625,36.718416999999995 L -76.47649899999999,36.711968999999996 L -76.47162399999999,36.708672 L -76.47326699999999,36.695949 L -76.47574,36.677823 L -76.475837,36.677112 L -76.47588,36.676797 L -76.475899,36.676655 L -76.47591,36.676578 L -76.475915,36.676542999999995 L -76.47591899999999,36.676513 L -76.475926,36.676462 L -76.476033,36.675677 L -76.476483,36.672379 L -76.478938,36.654382 L -76.479269,36.65195 L -76.482029,36.628887999999996 L -76.482069,36.62855 L -76.547287,36.644214 L -76.553242,36.647377999999996 L -76.553653,36.647596 L -76.553679,36.647611 L -76.553795,36.647597999999995 L -76.554872,36.647526 L -76.55600799999999,36.647478 L -76.556888,36.64783 L -76.55756,36.648086 L -76.557992,36.648278 L -76.558263,36.648617 L -76.558435,36.648832999999996 L -76.558589,36.649747999999995 L -76.558865,36.650563 L -76.559688,36.651741 L -76.560321,36.652887 L -76.561195,36.653811 L -76.562477,36.655 L -76.561217,36.65677 L -76.560796,36.657395 L -76.56040399999999,36.657989 L -76.560062,36.658626 L -76.559997,36.658758999999996 L -76.559924,36.658908 L -76.55986299999999,36.659075 L -76.55982,36.659245999999996 L -76.559795,36.65942 L -76.55974499999999,36.660567 L -76.55973999999999,36.661263 L -76.559704,36.663379 L -76.559985,36.663427999999996 L -76.56040899999999,36.663481999999995 L -76.56058399999999,36.663492999999995 L -76.56076,36.663489 L -76.561015,36.66346 L -76.561565,36.663405 L -76.56217199999999,36.663328 L -76.56271,36.663275 L -76.56296499999999,36.663261999999996 L -76.56317,36.663261999999996 L -76.56342599999999,36.663275 L -76.56419,36.663353 L -76.564532,36.663409 L -76.564955,36.663492 L -76.56545799999999,36.663609 L -76.566317,36.663801 L -76.56653399999999,36.663844999999995 L -76.568426,36.664279 L -76.569339,36.664485 L -76.56953399999999,36.664519999999996 L -76.569694,36.664538 L -76.57071599999999,36.664577 L -76.571058,36.664574 L -76.571168,36.664559 L -76.571274,36.664531 L -76.571353,36.664498 L -76.571646,36.664333 L -76.571803,36.664238 L -76.572099,36.664044 L -76.572278,36.663913 L -76.574232,36.662268999999995 L -76.574407,36.662141999999996 L -76.57459399999999,36.662026 L -76.575189,36.661713999999996 L -76.57571399999999,36.661439 L -76.576317,36.661096 L -76.576447,36.661027 L -76.5766,36.660962 L -76.57676,36.660909 L -76.576892,36.660877 L -76.577095,36.660844 L -76.577742,36.660793999999996 L -76.577863,36.660782999999995 L -76.57820099999999,36.660739 L -76.57896,36.6606 L -76.580019,36.660433 L -76.58021699999999,36.66151 L -76.580282,36.661892 L -76.581651,36.661906 L -76.581929,36.661923 L -76.582104,36.661946 L -76.582959,36.662107999999996 L -76.584256,36.662363 L -76.585132,36.662538 L -76.58637399999999,36.662786 L -76.587155,36.662934 L -76.587499,36.663002 L -76.587999,36.663115 L -76.590107,36.663657 L -76.591071,36.66391 L -76.591279,36.663981 L -76.59147899999999,36.664063999999996 L -76.591684,36.664169 L -76.59174399999999,36.664203 L -76.59222199999999,36.664536 L -76.59241,36.664668 L -76.592839,36.664983 L -76.593092,36.665158 L -76.593784,36.665678 L -76.594257,36.666022999999996 L -76.595322,36.666821 L -76.596604,36.667781999999995 L -76.598154,36.668915999999996 L -76.598523,36.669184 L -76.598725,36.669334 z\" /></g></svg>"
      ],
      "text/plain": [
       "<shapely.geometry.polygon.Polygon at 0x7faed00bc700>"
      ]
     },
     "metadata": {},
     "output_type": "display_data"
    }
   ],
   "source": [
    "#Show a random difference\n",
    "test = shp_final_merge[~vals].sample(axis = 0, n=1).index[0]\n",
    "print(shp_final_merge[~vals])\n",
    "display(shp_final_merge.iloc[test]['geometry_x'])\n",
    "display(shp_final_merge.iloc[test]['geometry_y'])\n",
    "\n",
    "test = shp_final_merge[~vals].sample(axis = 0).index[0]\n",
    "display(shp_final_merge.iloc[test]['geometry_x'])\n",
    "display(shp_final_merge.iloc[test]['geometry_y'])"
   ]
  },
  {
   "cell_type": "markdown",
   "metadata": {},
   "source": [
    "### County 550 example"
   ]
  },
  {
   "cell_type": "code",
   "execution_count": 80,
   "metadata": {},
   "outputs": [
    {
     "name": "stdout",
     "output_type": "stream",
     "text": [
      "(18, 63)\n"
     ]
    },
    {
     "data": {
      "text/plain": [
       "<matplotlib.axes._subplots.AxesSubplot at 0x7faef676d370>"
      ]
     },
     "execution_count": 80,
     "metadata": {},
     "output_type": "execute_result"
    },
    {
     "data": {
      "image/png": "[encoded data removed]",
      "text/plain": [
       "<Figure size 432x288 with 1 Axes>"
      ]
     },
     "metadata": {
      "needs_background": "light"
     },
     "output_type": "display_data"
    }
   ],
   "source": [
    "print(shp_final_merge[shp_final_merge['unique_id'].str[0:3] == '550'].shape)\n",
    "ex_x = gpd.GeoDataFrame(shp_final_merge[shp_final_merge['unique_id'].str[0:3]== '550'], geometry = 'geometry_x', crs = proj)\n",
    "ex_y = gpd.GeoDataFrame(shp_final_merge[shp_final_merge['unique_id'].str[0:3]== '550'], geometry = 'geometry_y', crs = proj)\n",
    "\n",
    "gpd.overlay(ex_x, ex_y, how = 'symmetric_difference').plot()"
   ]
  },
  {
   "cell_type": "markdown",
   "metadata": {},
   "source": [
    "## Validating Election Results"
   ]
  },
  {
   "cell_type": "code",
   "execution_count": 82,
   "metadata": {},
   "outputs": [
    {
     "data": {
      "text/plain": [
       "Index(['COUNTYFP', 'LOCALITY', 'VTDST', 'PRECINCT', 'HOD_DIST', 'S16HODDEM',\n",
       "       'S16HODREP', 'S16HODWRI', 'geometry', 'unique_id'],\n",
       "      dtype='object')"
      ]
     },
     "execution_count": 82,
     "metadata": {},
     "output_type": "execute_result"
    }
   ],
   "source": [
    "final.columns"
   ]
  },
  {
   "cell_type": "code",
   "execution_count": 83,
   "metadata": {},
   "outputs": [],
   "source": [
    "column_list = ['S16HODDEM', 'S16HODREP', 'S16HODWRI']"
   ]
  },
  {
   "cell_type": "code",
   "execution_count": 84,
   "metadata": {},
   "outputs": [],
   "source": [
    "#From Peter's MO\n",
    "def validater_row (df, column_List):\n",
    "    matching_rows = 0\n",
    "    different_rows = 0\n",
    "    diff_list=[]\n",
    "    diff_values = []\n",
    "    max_diff = 0\n",
    "    \n",
    "    for j in range(0,len(df.index)):\n",
    "        same = True\n",
    "        for i in column_List:\n",
    "            left_Data = i + \"_x\"\n",
    "            right_Data = i + \"_y\"\n",
    "            diff = abs(df.iloc[j][left_Data]-df.iloc[j][right_Data])\n",
    "            \n",
    "            if(diff != 0):\n",
    "                diff_values.append(abs(diff))\n",
    "                same = False\n",
    "                if(np.isnan(diff)):\n",
    "                    print(\"NaN value at diff is: \", df.iloc[j]['unique_id'])\n",
    "                if (diff>max_diff):\n",
    "                    max_diff = diff\n",
    "                    #add line to check percent from total vote difference is\n",
    "                    perc_diff_from_vest = (diff/df.iloc[j][right_Data])*100\n",
    "                    print(\"New max diff is: \", str(max_diff))\n",
    "                    print('% difference from VEST total is: ', str(perc_diff_from_vest))\n",
    "                    print(df.iloc[j]['unique_id'])\n",
    "        if(same != True):\n",
    "            different_rows +=1\n",
    "            diff_list.append(df.iloc[j]['unique_id'])\n",
    "        else:\n",
    "            matching_rows +=1\n",
    "    print(\"There are \", len(df.index),\" total rows\")\n",
    "    print(different_rows,\" of these rows have election result differences\")\n",
    "    print(matching_rows,\" of these rows are the same\")\n",
    "    print(\"\")\n",
    "    print(\"The max difference between any one shared column in a row is: \", max_diff)\n",
    "    if(len(diff_values)!=0):\n",
    "        print(\"The average difference is: \", str(sum(diff_values)/len(diff_values)))\n",
    "        #add line for % of total vote that difference is\n",
    "    count_big_diff = len([i for i in diff_values if i > 10])\n",
    "    print(\"There are \", str(count_big_diff), \"precinct results with a difference greater than 5\")\n",
    "    diff_list.sort()"
   ]
  },
  {
   "cell_type": "code",
   "execution_count": 85,
   "metadata": {},
   "outputs": [],
   "source": [
    "final_join_merge = pd.merge(join, final, on = 'unique_id', how = 'inner', suffixes = ['_x', '_y'])"
   ]
  },
  {
   "cell_type": "code",
   "execution_count": 86,
   "metadata": {},
   "outputs": [
    {
     "name": "stdout",
     "output_type": "stream",
     "text": [
      "New max diff is:  1.0\n",
      "% difference from VEST total is:  0.06222775357809583\n",
      "550005\n",
      "There are  46  total rows\n",
      "20  of these rows have election result differences\n",
      "26  of these rows are the same\n",
      "\n",
      "The max difference between any one shared column in a row is:  1.0\n",
      "The average difference is:  1.0\n",
      "There are  0 precinct results with a difference greater than 5\n"
     ]
    }
   ],
   "source": [
    "validater_row(final_join_merge, column_list)"
   ]
  },
  {
   "cell_type": "code",
   "execution_count": null,
   "metadata": {},
   "outputs": [],
   "source": []
  }
 ],
 "metadata": {
  "kernelspec": {
   "display_name": "Python 3",
   "language": "python",
   "name": "python3"
  },
  "language_info": {
   "codemirror_mode": {
    "name": "ipython",
    "version": 3
   },
   "file_extension": ".py",
   "mimetype": "text/x-python",
   "name": "python",
   "nbconvert_exporter": "python",
   "pygments_lexer": "ipython3",
   "version": "3.8.3"
  }
 },
 "nbformat": 4,
 "nbformat_minor": 4
}
