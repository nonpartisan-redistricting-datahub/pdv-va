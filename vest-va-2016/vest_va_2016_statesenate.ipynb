{
 "cells": [
  {
   "cell_type": "code",
   "execution_count": 17,
   "metadata": {},
   "outputs": [],
   "source": [
    "import pandas as pd\n",
    "import geopandas as gpd\n",
    "import matplotlib.pyplot as plt\n",
    "#import maup\n",
    "from zipfile import ZipFile\n",
    "import numpy as np\n",
    "import os\n",
    "import shutil"
   ]
  },
  {
   "cell_type": "markdown",
   "metadata": {},
   "source": [
    "# State Senate Special"
   ]
  },
  {
   "cell_type": "markdown",
   "metadata": {},
   "source": [
    "## Final File Load"
   ]
  },
  {
   "cell_type": "code",
   "execution_count": 18,
   "metadata": {},
   "outputs": [
    {
     "data": {
      "text/plain": [
       "'/Users/peterhorton/Documents/RDH/pdv/pdv-va/vest-va-2016'"
      ]
     },
     "execution_count": 18,
     "metadata": {},
     "output_type": "execute_result"
    }
   ],
   "source": [
    "pwd"
   ]
  },
  {
   "cell_type": "code",
   "execution_count": 19,
   "metadata": {},
   "outputs": [
    {
     "data": {
      "text/html": [
       "<div>\n",
       "<style scoped>\n",
       "    .dataframe tbody tr th:only-of-type {\n",
       "        vertical-align: middle;\n",
       "    }\n",
       "\n",
       "    .dataframe tbody tr th {\n",
       "        vertical-align: top;\n",
       "    }\n",
       "\n",
       "    .dataframe thead th {\n",
       "        text-align: right;\n",
       "    }\n",
       "</style>\n",
       "<table border=\"1\" class=\"dataframe\">\n",
       "  <thead>\n",
       "    <tr style=\"text-align: right;\">\n",
       "      <th></th>\n",
       "      <th>COUNTYFP</th>\n",
       "      <th>LOCALITY</th>\n",
       "      <th>VTDST</th>\n",
       "      <th>PRECINCT</th>\n",
       "      <th>SOV_DIST</th>\n",
       "      <th>S16SOVDEM</th>\n",
       "      <th>S16SOVREP</th>\n",
       "      <th>S16SOVIND</th>\n",
       "      <th>S16SOVWRI</th>\n",
       "      <th>geometry</th>\n",
       "    </tr>\n",
       "  </thead>\n",
       "  <tbody>\n",
       "    <tr>\n",
       "      <th>0</th>\n",
       "      <td>095</td>\n",
       "      <td>James City County</td>\n",
       "      <td>000304</td>\n",
       "      <td>Powhatan D</td>\n",
       "      <td>001</td>\n",
       "      <td>1369</td>\n",
       "      <td>1078</td>\n",
       "      <td>85</td>\n",
       "      <td>2</td>\n",
       "      <td>POLYGON Z ((-76.76694 37.33789 0.00000, -76.76...</td>\n",
       "    </tr>\n",
       "    <tr>\n",
       "      <th>1</th>\n",
       "      <td>095</td>\n",
       "      <td>James City County</td>\n",
       "      <td>000302</td>\n",
       "      <td>Powhatan B</td>\n",
       "      <td>001</td>\n",
       "      <td>561</td>\n",
       "      <td>394</td>\n",
       "      <td>34</td>\n",
       "      <td>0</td>\n",
       "      <td>POLYGON Z ((-76.78970 37.32426 0.00000, -76.78...</td>\n",
       "    </tr>\n",
       "    <tr>\n",
       "      <th>2</th>\n",
       "      <td>095</td>\n",
       "      <td>James City County</td>\n",
       "      <td>000501</td>\n",
       "      <td>Roberts A</td>\n",
       "      <td>001</td>\n",
       "      <td>927</td>\n",
       "      <td>363</td>\n",
       "      <td>41</td>\n",
       "      <td>1</td>\n",
       "      <td>POLYGON Z ((-76.65883 37.20304 0.00000, -76.64...</td>\n",
       "    </tr>\n",
       "    <tr>\n",
       "      <th>3</th>\n",
       "      <td>095</td>\n",
       "      <td>James City County</td>\n",
       "      <td>000503</td>\n",
       "      <td>Roberts C</td>\n",
       "      <td>001</td>\n",
       "      <td>312</td>\n",
       "      <td>135</td>\n",
       "      <td>25</td>\n",
       "      <td>2</td>\n",
       "      <td>POLYGON Z ((-76.68089 37.26080 0.00000, -76.68...</td>\n",
       "    </tr>\n",
       "    <tr>\n",
       "      <th>4</th>\n",
       "      <td>199</td>\n",
       "      <td>York County</td>\n",
       "      <td>000101</td>\n",
       "      <td>QUEENS LAKE</td>\n",
       "      <td>001</td>\n",
       "      <td>847</td>\n",
       "      <td>876</td>\n",
       "      <td>48</td>\n",
       "      <td>3</td>\n",
       "      <td>POLYGON Z ((-76.68479 37.27077 0.00000, -76.68...</td>\n",
       "    </tr>\n",
       "  </tbody>\n",
       "</table>\n",
       "</div>"
      ],
      "text/plain": [
       "  COUNTYFP           LOCALITY   VTDST     PRECINCT SOV_DIST  S16SOVDEM  \\\n",
       "0      095  James City County  000304   Powhatan D      001       1369   \n",
       "1      095  James City County  000302   Powhatan B      001        561   \n",
       "2      095  James City County  000501    Roberts A      001        927   \n",
       "3      095  James City County  000503    Roberts C      001        312   \n",
       "4      199        York County  000101  QUEENS LAKE      001        847   \n",
       "\n",
       "   S16SOVREP  S16SOVIND  S16SOVWRI  \\\n",
       "0       1078         85          2   \n",
       "1        394         34          0   \n",
       "2        363         41          1   \n",
       "3        135         25          2   \n",
       "4        876         48          3   \n",
       "\n",
       "                                            geometry  \n",
       "0  POLYGON Z ((-76.76694 37.33789 0.00000, -76.76...  \n",
       "1  POLYGON Z ((-76.78970 37.32426 0.00000, -76.78...  \n",
       "2  POLYGON Z ((-76.65883 37.20304 0.00000, -76.64...  \n",
       "3  POLYGON Z ((-76.68089 37.26080 0.00000, -76.68...  \n",
       "4  POLYGON Z ((-76.68479 37.27077 0.00000, -76.68...  "
      ]
     },
     "execution_count": 19,
     "metadata": {},
     "output_type": "execute_result"
    }
   ],
   "source": [
    "final = gpd.read_file('./vest_va_2016/va_2016_statesenate_special/va_2016_statesenate_special.shp')\n",
    "final.head()"
   ]
  },
  {
   "cell_type": "code",
   "execution_count": 20,
   "metadata": {},
   "outputs": [],
   "source": [
    "county_dict = pd.Series(final['COUNTYFP'].values, index = final['LOCALITY']).to_dict()"
   ]
  },
  {
   "cell_type": "markdown",
   "metadata": {},
   "source": [
    "# Election Results"
   ]
  },
  {
   "cell_type": "markdown",
   "metadata": {},
   "source": [
    "## District 1"
   ]
  },
  {
   "cell_type": "code",
   "execution_count": 21,
   "metadata": {},
   "outputs": [],
   "source": [
    "df1 = pd.read_csv('./vest_va_2016/Virginia_Elections_Database__2016_Senate_of_Virginia_General_Election_District_1_including_precincts.csv')"
   ]
  },
  {
   "cell_type": "code",
   "execution_count": 22,
   "metadata": {},
   "outputs": [
    {
     "data": {
      "text/html": [
       "<div>\n",
       "<style scoped>\n",
       "    .dataframe tbody tr th:only-of-type {\n",
       "        vertical-align: middle;\n",
       "    }\n",
       "\n",
       "    .dataframe tbody tr th {\n",
       "        vertical-align: top;\n",
       "    }\n",
       "\n",
       "    .dataframe thead th {\n",
       "        text-align: right;\n",
       "    }\n",
       "</style>\n",
       "<table border=\"1\" class=\"dataframe\">\n",
       "  <thead>\n",
       "    <tr style=\"text-align: right;\">\n",
       "      <th></th>\n",
       "      <th>County/City</th>\n",
       "      <th>Ward</th>\n",
       "      <th>Pct</th>\n",
       "      <th>Taylor Montgomery Mason</th>\n",
       "      <th>Thomas Richard Holston</th>\n",
       "      <th>John Bernard Bloom</th>\n",
       "      <th>All Others</th>\n",
       "      <th>Total Votes Cast</th>\n",
       "    </tr>\n",
       "  </thead>\n",
       "  <tbody>\n",
       "    <tr>\n",
       "      <th>0</th>\n",
       "      <td>NaN</td>\n",
       "      <td>NaN</td>\n",
       "      <td>NaN</td>\n",
       "      <td>Democratic</td>\n",
       "      <td>Republican</td>\n",
       "      <td>Independent</td>\n",
       "      <td>NaN</td>\n",
       "      <td>NaN</td>\n",
       "    </tr>\n",
       "    <tr>\n",
       "      <th>1</th>\n",
       "      <td>Hampton City</td>\n",
       "      <td>-</td>\n",
       "      <td>204 - Forrest</td>\n",
       "      <td>209</td>\n",
       "      <td>132</td>\n",
       "      <td>11</td>\n",
       "      <td>0.0</td>\n",
       "      <td>352</td>\n",
       "    </tr>\n",
       "    <tr>\n",
       "      <th>2</th>\n",
       "      <td>Hampton City</td>\n",
       "      <td>-</td>\n",
       "      <td>208 - Kraft</td>\n",
       "      <td>1,601</td>\n",
       "      <td>1,081</td>\n",
       "      <td>146</td>\n",
       "      <td>9.0</td>\n",
       "      <td>2,837</td>\n",
       "    </tr>\n",
       "    <tr>\n",
       "      <th>3</th>\n",
       "      <td>Hampton City</td>\n",
       "      <td>-</td>\n",
       "      <td>214 - Tucker Capps</td>\n",
       "      <td>1,348</td>\n",
       "      <td>777</td>\n",
       "      <td>93</td>\n",
       "      <td>11.0</td>\n",
       "      <td>2,229</td>\n",
       "    </tr>\n",
       "    <tr>\n",
       "      <th>4</th>\n",
       "      <td>Hampton City</td>\n",
       "      <td>-</td>\n",
       "      <td>Ab - Central Absentee Precinct</td>\n",
       "      <td>362</td>\n",
       "      <td>165</td>\n",
       "      <td>20</td>\n",
       "      <td>37.0</td>\n",
       "      <td>584</td>\n",
       "    </tr>\n",
       "  </tbody>\n",
       "</table>\n",
       "</div>"
      ],
      "text/plain": [
       "    County/City Ward                             Pct Taylor Montgomery Mason  \\\n",
       "0           NaN  NaN                             NaN              Democratic   \n",
       "1  Hampton City    -                   204 - Forrest                     209   \n",
       "2  Hampton City    -                     208 - Kraft                   1,601   \n",
       "3  Hampton City    -              214 - Tucker Capps                   1,348   \n",
       "4  Hampton City    -  Ab - Central Absentee Precinct                     362   \n",
       "\n",
       "  Thomas Richard Holston John Bernard Bloom  All Others Total Votes Cast  \n",
       "0             Republican        Independent         NaN              NaN  \n",
       "1                    132                 11         0.0              352  \n",
       "2                  1,081                146         9.0            2,837  \n",
       "3                    777                 93        11.0            2,229  \n",
       "4                    165                 20        37.0              584  "
      ]
     },
     "execution_count": 22,
     "metadata": {},
     "output_type": "execute_result"
    }
   ],
   "source": [
    "df1.head()"
   ]
  },
  {
   "cell_type": "code",
   "execution_count": 23,
   "metadata": {},
   "outputs": [
    {
     "name": "stdout",
     "output_type": "stream",
     "text": [
      "7\n",
      "6\n"
     ]
    }
   ],
   "source": [
    "df1 = df1.iloc[1:]\n",
    "df1['SOV_DIST'] = '1'\n",
    "df1['LOCALITY'] = df1['County/City']\n",
    "df1['S16SOVDEM'] = df1['Taylor Montgomery Mason']\n",
    "df1['S16SOVREP'] = df1['Thomas Richard Holston']\n",
    "df1['S16SOVIND'] = df1['John Bernard Bloom']\n",
    "df1['S16SOVWRI'] = df1['All Others']\n",
    "df1 = df1.drop(['County/City', 'Taylor Montgomery Mason', 'Thomas Richard Holston', 'John Bernard Bloom', 'All Others', 'Ward'], axis = 1)\n",
    "\n",
    "df1['S16SOVDEM'] = df1['S16SOVDEM'].map(lambda x: str(x).replace(',', '')).astype(str).astype(float).astype(int)\n",
    "df1['S16SOVREP'] = df1['S16SOVREP'].map(lambda x: str(x).replace(',', '')).astype(str).astype(float).astype(int)\n",
    "df1['S16SOVIND'] = df1['S16SOVIND'].map(lambda x: str(x).replace(',', '')).astype(str).astype(float).astype(int)\n",
    "df1['S16SOVWRI'] = df1['S16SOVWRI'].map(lambda x: str(x).replace(',', '')).astype(str).astype(float).astype(int)\n",
    "\n",
    "print(df1.LOCALITY.nunique())\n",
    "df1['COUNTYFP'] = df1['LOCALITY'].map(county_dict)\n",
    "print(df1.COUNTYFP.nunique())"
   ]
  },
  {
   "cell_type": "code",
   "execution_count": 24,
   "metadata": {},
   "outputs": [
    {
     "data": {
      "text/html": [
       "<div>\n",
       "<style scoped>\n",
       "    .dataframe tbody tr th:only-of-type {\n",
       "        vertical-align: middle;\n",
       "    }\n",
       "\n",
       "    .dataframe tbody tr th {\n",
       "        vertical-align: top;\n",
       "    }\n",
       "\n",
       "    .dataframe thead th {\n",
       "        text-align: right;\n",
       "    }\n",
       "</style>\n",
       "<table border=\"1\" class=\"dataframe\">\n",
       "  <thead>\n",
       "    <tr style=\"text-align: right;\">\n",
       "      <th></th>\n",
       "      <th>S16SOVDEM</th>\n",
       "      <th>S16SOVREP</th>\n",
       "      <th>S16SOVIND</th>\n",
       "      <th>S16SOVWRI</th>\n",
       "    </tr>\n",
       "    <tr>\n",
       "      <th>COUNTYFP</th>\n",
       "      <th></th>\n",
       "      <th></th>\n",
       "      <th></th>\n",
       "      <th></th>\n",
       "    </tr>\n",
       "  </thead>\n",
       "  <tbody>\n",
       "    <tr>\n",
       "      <th>095</th>\n",
       "      <td>5083</td>\n",
       "      <td>3283</td>\n",
       "      <td>283</td>\n",
       "      <td>9</td>\n",
       "    </tr>\n",
       "    <tr>\n",
       "      <th>199</th>\n",
       "      <td>2325</td>\n",
       "      <td>1801</td>\n",
       "      <td>162</td>\n",
       "      <td>10</td>\n",
       "    </tr>\n",
       "    <tr>\n",
       "      <th>650</th>\n",
       "      <td>3524</td>\n",
       "      <td>2161</td>\n",
       "      <td>270</td>\n",
       "      <td>57</td>\n",
       "    </tr>\n",
       "    <tr>\n",
       "      <th>700</th>\n",
       "      <td>32019</td>\n",
       "      <td>21799</td>\n",
       "      <td>2487</td>\n",
       "      <td>193</td>\n",
       "    </tr>\n",
       "    <tr>\n",
       "      <th>800</th>\n",
       "      <td>1191</td>\n",
       "      <td>652</td>\n",
       "      <td>79</td>\n",
       "      <td>4</td>\n",
       "    </tr>\n",
       "    <tr>\n",
       "      <th>830</th>\n",
       "      <td>5109</td>\n",
       "      <td>2044</td>\n",
       "      <td>253</td>\n",
       "      <td>13</td>\n",
       "    </tr>\n",
       "  </tbody>\n",
       "</table>\n",
       "</div>"
      ],
      "text/plain": [
       "          S16SOVDEM  S16SOVREP  S16SOVIND  S16SOVWRI\n",
       "COUNTYFP                                            \n",
       "095            5083       3283        283          9\n",
       "199            2325       1801        162         10\n",
       "650            3524       2161        270         57\n",
       "700           32019      21799       2487        193\n",
       "800            1191        652         79          4\n",
       "830            5109       2044        253         13"
      ]
     },
     "execution_count": 24,
     "metadata": {},
     "output_type": "execute_result"
    }
   ],
   "source": [
    "df1.groupby(['COUNTYFP']).sum()"
   ]
  },
  {
   "cell_type": "markdown",
   "metadata": {},
   "source": [
    "## District 5"
   ]
  },
  {
   "cell_type": "code",
   "execution_count": 25,
   "metadata": {},
   "outputs": [],
   "source": [
    "df5 = pd.read_csv('./vest_va_2016/Virginia_Elections_Database__2016_Senate_of_Virginia_General_Election_District_5_including_precincts.csv')"
   ]
  },
  {
   "cell_type": "code",
   "execution_count": 26,
   "metadata": {},
   "outputs": [
    {
     "data": {
      "text/html": [
       "<div>\n",
       "<style scoped>\n",
       "    .dataframe tbody tr th:only-of-type {\n",
       "        vertical-align: middle;\n",
       "    }\n",
       "\n",
       "    .dataframe tbody tr th {\n",
       "        vertical-align: top;\n",
       "    }\n",
       "\n",
       "    .dataframe thead th {\n",
       "        text-align: right;\n",
       "    }\n",
       "</style>\n",
       "<table border=\"1\" class=\"dataframe\">\n",
       "  <thead>\n",
       "    <tr style=\"text-align: right;\">\n",
       "      <th></th>\n",
       "      <th>County/City</th>\n",
       "      <th>Ward</th>\n",
       "      <th>Pct</th>\n",
       "      <th>Lionell Spruill, Sr.</th>\n",
       "      <th>All Others</th>\n",
       "      <th>Total Votes Cast</th>\n",
       "    </tr>\n",
       "  </thead>\n",
       "  <tbody>\n",
       "    <tr>\n",
       "      <th>0</th>\n",
       "      <td>NaN</td>\n",
       "      <td>NaN</td>\n",
       "      <td>NaN</td>\n",
       "      <td>Democratic</td>\n",
       "      <td>NaN</td>\n",
       "      <td>NaN</td>\n",
       "    </tr>\n",
       "    <tr>\n",
       "      <th>1</th>\n",
       "      <td>Chesapeake City</td>\n",
       "      <td>-</td>\n",
       "      <td>3 - Camelot</td>\n",
       "      <td>1,881</td>\n",
       "      <td>24</td>\n",
       "      <td>1,905</td>\n",
       "    </tr>\n",
       "    <tr>\n",
       "      <th>2</th>\n",
       "      <td>Chesapeake City</td>\n",
       "      <td>-</td>\n",
       "      <td>5 - Crestwood</td>\n",
       "      <td>1,427</td>\n",
       "      <td>33</td>\n",
       "      <td>1,460</td>\n",
       "    </tr>\n",
       "    <tr>\n",
       "      <th>3</th>\n",
       "      <td>Chesapeake City</td>\n",
       "      <td>-</td>\n",
       "      <td>8 - South Norfolk Recreation</td>\n",
       "      <td>1,422</td>\n",
       "      <td>70</td>\n",
       "      <td>1,492</td>\n",
       "    </tr>\n",
       "    <tr>\n",
       "      <th>4</th>\n",
       "      <td>Chesapeake City</td>\n",
       "      <td>-</td>\n",
       "      <td>10 - Oscar Smith</td>\n",
       "      <td>664</td>\n",
       "      <td>47</td>\n",
       "      <td>711</td>\n",
       "    </tr>\n",
       "  </tbody>\n",
       "</table>\n",
       "</div>"
      ],
      "text/plain": [
       "       County/City Ward                           Pct Lionell Spruill, Sr.  \\\n",
       "0              NaN  NaN                           NaN           Democratic   \n",
       "1  Chesapeake City    -                   3 - Camelot                1,881   \n",
       "2  Chesapeake City    -                 5 - Crestwood                1,427   \n",
       "3  Chesapeake City    -  8 - South Norfolk Recreation                1,422   \n",
       "4  Chesapeake City    -              10 - Oscar Smith                  664   \n",
       "\n",
       "  All Others Total Votes Cast  \n",
       "0        NaN              NaN  \n",
       "1         24            1,905  \n",
       "2         33            1,460  \n",
       "3         70            1,492  \n",
       "4         47              711  "
      ]
     },
     "execution_count": 26,
     "metadata": {},
     "output_type": "execute_result"
    }
   ],
   "source": [
    "df5.head()"
   ]
  },
  {
   "cell_type": "code",
   "execution_count": 27,
   "metadata": {},
   "outputs": [
    {
     "name": "stdout",
     "output_type": "stream",
     "text": [
      "3\n",
      "2\n"
     ]
    }
   ],
   "source": [
    "df5 = df5.iloc[1:]\n",
    "df5['SOV_DIST'] = '5'\n",
    "df5['LOCALITY'] = df5['County/City']\n",
    "df5['S16SOVDEM'] = df5['Lionell Spruill, Sr.']\n",
    "df5['S16SOVWRI'] = df5['All Others']\n",
    "df5 = df5.drop(['County/City', 'Lionell Spruill, Sr.', 'All Others', 'Ward'], axis = 1)\n",
    "\n",
    "df5['S16SOVDEM'] = df5['S16SOVDEM'].map(lambda x: str(x).replace(',', '')).astype(str).astype(float).astype(int)\n",
    "df5['S16SOVWRI'] = df5['S16SOVWRI'].map(lambda x: str(x).replace(',', '')).astype(str).astype(float).astype(int)\n",
    "\n",
    "print(df5.LOCALITY.nunique())\n",
    "df5['COUNTYFP'] = df5['LOCALITY'].map(county_dict)\n",
    "print(df5.COUNTYFP.nunique())"
   ]
  },
  {
   "cell_type": "markdown",
   "metadata": {},
   "source": [
    "## Districts 1 and 5 together"
   ]
  },
  {
   "cell_type": "code",
   "execution_count": 28,
   "metadata": {},
   "outputs": [],
   "source": [
    "elections = []\n",
    "elections.append(df1)\n",
    "elections.append(df5)\n",
    "\n",
    "df = pd.concat(elections, axis = 0)\n",
    "df = df[df['LOCALITY'] != 'TOTALS']\n",
    "df = df.reset_index()\n",
    "df = df.fillna(0)"
   ]
  },
  {
   "cell_type": "code",
   "execution_count": 29,
   "metadata": {},
   "outputs": [],
   "source": [
    "column_list = ['S16SOVDEM', 'S16SOVREP', 'S16SOVIND', 'S16SOVWRI']"
   ]
  },
  {
   "cell_type": "code",
   "execution_count": 30,
   "metadata": {},
   "outputs": [
    {
     "name": "stdout",
     "output_type": "stream",
     "text": [
      "S16SOVDEM: EQUAL\n",
      "S16SOVREP: EQUAL\n",
      "S16SOVIND: EQUAL\n",
      "S16SOVWRI: EQUAL\n"
     ]
    }
   ],
   "source": [
    "for val in column_list:\n",
    "    vote_dif = df[val].sum()-final[val].sum()\n",
    "    if (vote_dif == 0):\n",
    "        print(val+\": EQUAL\")\n",
    "    else:\n",
    "        print(val+\": DIFFERENCE OF \" + str(vote_dif)+ \" VOTES\")"
   ]
  },
  {
   "cell_type": "code",
   "execution_count": 31,
   "metadata": {},
   "outputs": [
    {
     "name": "stdout",
     "output_type": "stream",
     "text": [
      "Counties with differences printed below:\n",
      "\n",
      "All other races in all counties are equal\n"
     ]
    }
   ],
   "source": [
    "print(\"Counties with differences printed below:\")\n",
    "diff_counties=[]\n",
    "for i in column_list:\n",
    "    diff = df.groupby(['COUNTYFP']).sum()[i]-final.groupby(['COUNTYFP']).sum()[i]\n",
    "    for val in diff[diff != 0].index.values.tolist():\n",
    "        if val not in diff_counties:\n",
    "            diff_counties.append(val)\n",
    "    if len(diff[diff != 0]!=0):\n",
    "        print(diff[diff != 0].to_string(header=False))\n",
    "print(\"\")\n",
    "print(\"All other races in all counties are equal\")"
   ]
  },
  {
   "cell_type": "code",
   "execution_count": 33,
   "metadata": {},
   "outputs": [],
   "source": [
    "absentee_and_prov = df[(df['Pct'].map(lambda x: 'Absentee' in str(x))) | (df['Pct'].map(lambda x: 'Provisional' in str(x)))]\n",
    "groupby_absentee_and_prov_tot = absentee_and_prov.groupby(['COUNTYFP']).sum()\n",
    "groupby_county_df_tot = df.groupby(['COUNTYFP']).sum()\n",
    "df_no_absent_or_provisional = df[(df['Pct'].map(lambda x: 'Absentee' not in str(x))) & (df['Pct'].map(lambda x: 'Provisional' not in str(x)))\n",
    "                                & (df['LOCALITY'] != 'TOTALS')]\n",
    "groupby_county_tot_no_absentee = df_no_absent_or_provisional.groupby('COUNTYFP').sum()"
   ]
  },
  {
   "cell_type": "code",
   "execution_count": 35,
   "metadata": {},
   "outputs": [],
   "source": [
    "df_with_absentee_reallocated = df_no_absent_or_provisional.copy()\n",
    "groupby_absentee_and_prov_tot.reset_index(inplace=True,drop=False)\n",
    "groupby_county_tot_no_absentee.reset_index(inplace=True,drop=False)\n",
    "\n",
    "to_dole_out_totals = groupby_absentee_and_prov_tot.copy()\n",
    "precinct_specific_totals = groupby_county_tot_no_absentee.copy()\n",
    "\n",
    "## PH CODE for vote allocation\n",
    "\n",
    "#countyfp_cd\n",
    "#df_no_absent_or_provisional\n",
    "\n",
    "#Create some new columns for each of these races to deal with the allocation\n",
    "for race in column_list:\n",
    "    add_var = race+\"_add\"\n",
    "    rem_var = race+\"_rem\"\n",
    "    floor_var = race+\"_floor\"\n",
    "    df_with_absentee_reallocated.loc[:,add_var]=0.0\n",
    "    df_with_absentee_reallocated.loc[:,rem_var]=0.0\n",
    "    df_with_absentee_reallocated.loc[:,floor_var]=0.0\n",
    "\n",
    "#Iterate over the rows\n",
    "#Note this function iterates over the dataframe two times so the rounded vote totals match the totals to allocate\n",
    "for index, row in df_no_absent_or_provisional.iterrows():\n",
    "    for race in column_list:\n",
    "        add_var = race+\"_add\"\n",
    "        rem_var = race+\"_rem\"\n",
    "        floor_var = race+\"_floor\"\n",
    "        #Grab the district\n",
    "        county_id = row['COUNTYFP']\n",
    "        #Get the denominator for the allocation (the precinct vote totals)\n",
    "        denom = precinct_specific_totals.loc[precinct_specific_totals['COUNTYFP']==county_id][race]\n",
    "        #Get one of the numerators, how many districtwide votes to allocate\n",
    "        numer = to_dole_out_totals.loc[to_dole_out_totals['COUNTYFP']==county_id][race]\n",
    "        #Get the vote totals for this race in this precinct\n",
    "        val = df_with_absentee_reallocated.at[index,race]\n",
    "        #Get the vote share, the precincts % of total precinct votes in the district times votes to allocate\n",
    "        if ((float(denom)==0)):\n",
    "            vote_share = 0\n",
    "        else:\n",
    "            vote_share = (float(val)/float(denom))*float(numer)\n",
    "        df_with_absentee_reallocated.at[index,add_var] = vote_share\n",
    "        #Take the decimal remainder of the allocation\n",
    "        df_with_absentee_reallocated.at[index,rem_var] = vote_share%1\n",
    "        #Take the floor of the allocation\n",
    "        df_with_absentee_reallocated.at[index,floor_var] = np.floor(vote_share)\n",
    "\n",
    "#After the first pass through, get the sums of the races by district to assist in the rounding            \n",
    "first_allocation = pd.DataFrame(df_with_absentee_reallocated.groupby(['COUNTYFP']).sum())\n",
    "\n",
    "#Now we want to iterate district by district to work on rounding\n",
    "county_list = list(to_dole_out_totals['COUNTYFP'].unique()) \n",
    "\n",
    "#Iterate over the district\n",
    "for county in county_list:\n",
    "    for race in column_list:\n",
    "        add_var = race+\"_add\"\n",
    "        rem_var = race+\"_rem\"\n",
    "        floor_var = race+\"_floor\"\n",
    "        #County how many votes still need to be allocated (because we took the floor of all the initial allocations)\n",
    "        to_go = int(np.round((int(to_dole_out_totals.loc[to_dole_out_totals['COUNTYFP']==county][race])-first_allocation.loc[first_allocation.index==county,floor_var])))\n",
    "        #Grab the n precincts with the highest remainders and round these up, where n is the # of votes that still need to be allocated\n",
    "        for index in df_with_absentee_reallocated.loc[df_with_absentee_reallocated['COUNTYFP']==county][rem_var].nlargest(to_go).index:\n",
    "            df_with_absentee_reallocated.at[index,add_var] = np.ceil(df_with_absentee_reallocated.at[index,add_var])\n",
    "\n",
    "#Iterate over every race again\n",
    "for race in column_list:\n",
    "    add_var = race+\"_add\"\n",
    "    #Round every allocation down to not add fractional votes\n",
    "    df_with_absentee_reallocated.loc[:,add_var]=np.floor(df_with_absentee_reallocated.loc[:,add_var])\n",
    "    df_with_absentee_reallocated.loc[:,race]+=df_with_absentee_reallocated.loc[:,add_var]"
   ]
  },
  {
   "cell_type": "code",
   "execution_count": 36,
   "metadata": {},
   "outputs": [
    {
     "name": "stdout",
     "output_type": "stream",
     "text": [
      "S16SOVDEM: EQUAL\n",
      "S16SOVREP: EQUAL\n",
      "S16SOVIND: EQUAL\n",
      "S16SOVWRI: EQUAL\n",
      "Counties with differences printed below:\n",
      "\n",
      "All other races in all counties are equal\n"
     ]
    }
   ],
   "source": [
    "for val in column_list:\n",
    "    vote_dif = df_with_absentee_reallocated[val].sum()-final[val].sum()\n",
    "    if (vote_dif == 0):\n",
    "        print(val+\": EQUAL\")\n",
    "    else:\n",
    "        print(val+\": DIFFERENCE OF \" + str(vote_dif)+ \" VOTES\")\n",
    "        \n",
    "        \n",
    "print(\"Counties with differences printed below:\")\n",
    "diff_counties=[]\n",
    "for i in column_list:\n",
    "    diff = df_with_absentee_reallocated.groupby(['LOCALITY']).sum()[i]-final.groupby(['LOCALITY']).sum()[i]\n",
    "    for val in diff[diff != 0].index.values.tolist():\n",
    "        if val not in diff_counties:\n",
    "            diff_counties.append(val)\n",
    "    if len(diff[diff != 0]!=0):\n",
    "        print(diff[diff != 0].to_string(header=False))\n",
    "print(\"\")\n",
    "print(\"All other races in all counties are equal\")"
   ]
  },
  {
   "cell_type": "code",
   "execution_count": null,
   "metadata": {},
   "outputs": [],
   "source": [
    "df_with_absentee_reallocated = df_no_absent_or_provisional.copy()\n",
    "for index, precinct_total_row_by_candidate in df_no_absent_or_provisional.iterrows():\n",
    "    #print(precinct_total_row_by_candidate)\n",
    "    county_fips = precinct_total_row_by_candidate['COUNTYFP']\n",
    "    county_total_row_by_candidate_no_absentee = groupby_county_tot_no_absentee.loc[county_fips]\n",
    "    county_absentee_and_provisional_by_candidate = groupby_absentee_and_prov_tot.loc[county_fips]\n",
    "    #print(precinct_total_row_by_candidate, county_total_row_by_candidate_no_absentee, county_absentee_and_provisional_by_candidate)\n",
    "    for candidate, votes in county_total_row_by_candidate_no_absentee.to_dict().items():\n",
    "        prec_tot = precinct_total_row_by_candidate[candidate]\n",
    "        #print('precinct total: ', prec_tot)\n",
    "        county_tot = votes\n",
    "        #print('county total: ', county_tot)\n",
    "        absentee_tot = county_absentee_and_provisional_by_candidate[candidate]\n",
    "        #print('absentee total: ', absentee_tot)\n",
    "        absentee_frac = get_absentee_frac(prec_tot, county_tot, absentee_tot)\n",
    "        #print('absentee votes to allocate to precinct: ', absentee_frac)\n",
    "        prec_with_absentee_allocation = round(prec_tot + absentee_frac)\n",
    "        #print('new precinct total: ', prec_with_absentee_allocation)\n",
    "        df_with_absentee_reallocated.loc[index, candidate] = round(prec_with_absentee_allocation) #index is row, candidate is column"
   ]
  },
  {
   "cell_type": "code",
   "execution_count": null,
   "metadata": {},
   "outputs": [],
   "source": [
    "df_with_absentee_reallocated.shape"
   ]
  },
  {
   "cell_type": "code",
   "execution_count": null,
   "metadata": {},
   "outputs": [],
   "source": [
    "final.shape"
   ]
  },
  {
   "cell_type": "code",
   "execution_count": null,
   "metadata": {},
   "outputs": [],
   "source": [
    "df_with_absentee_reallocated.columns"
   ]
  },
  {
   "cell_type": "code",
   "execution_count": null,
   "metadata": {},
   "outputs": [],
   "source": [
    "df1.COUNTYFP.value_counts()"
   ]
  },
  {
   "cell_type": "code",
   "execution_count": null,
   "metadata": {},
   "outputs": [],
   "source": [
    "df5.COUNTYFP.value_counts()"
   ]
  },
  {
   "cell_type": "markdown",
   "metadata": {},
   "source": [
    "## Check Column sums"
   ]
  },
  {
   "cell_type": "code",
   "execution_count": null,
   "metadata": {},
   "outputs": [],
   "source": [
    "column_list = ['S16SOVDEM', 'S16SOVREP', 'S16SOVIND', 'S16SOVWRI']"
   ]
  },
  {
   "cell_type": "code",
   "execution_count": null,
   "metadata": {},
   "outputs": [],
   "source": [
    "groupby_county_final = final.groupby('COUNTYFP').sum()\n",
    "groupby_df_with_absentee_reallocated = df_with_absentee_reallocated.groupby('COUNTYFP').sum()\n",
    "df_absentee_reallocate_with_final = pd.merge(groupby_df_with_absentee_reallocated, groupby_county_final, on = 'COUNTYFP', how = 'inner', suffixes = ('_x', '_y'))"
   ]
  },
  {
   "cell_type": "code",
   "execution_count": null,
   "metadata": {},
   "outputs": [],
   "source": [
    "def sum_checker(df, column_list):\n",
    "    list_max = 0\n",
    "    for i in column_list:\n",
    "        left_sum = df[i+'_x'].sum()\n",
    "        right_sum = df[i+'_y'].sum()\n",
    "        if (left_sum == right_sum):\n",
    "            print('column: ', i, ' have the same sums')\n",
    "        \n",
    "        else:\n",
    "            diff = abs(left_sum - right_sum)\n",
    "            percent = abs(left_sum - right_sum)/left_sum\n",
    "            print('column: ', i)\n",
    "            print('RDH sum is ', str(left_sum))\n",
    "            print('Partner sum is ', str(right_sum))\n",
    "            print('their (absolute) difference is ', str(diff))\n",
    "            print('As a percentage of DF1 this is ', str(round(percent*100,5)) + '%')\n",
    "            if (percent>list_max):\n",
    "                list_max = percent\n",
    "            print('')\n",
    "    print('The max difference (as a percent of the total of on DF column is: ', str(round(list_max,5)))"
   ]
  },
  {
   "cell_type": "code",
   "execution_count": null,
   "metadata": {},
   "outputs": [],
   "source": [
    "sum_checker(df_absentee_reallocate_with_final, column_list)"
   ]
  },
  {
   "cell_type": "markdown",
   "metadata": {},
   "source": [
    "## Create unique id"
   ]
  },
  {
   "cell_type": "code",
   "execution_count": null,
   "metadata": {},
   "outputs": [],
   "source": [
    "set(df_with_absentee_reallocated.COUNTYFP + df_with_absentee_reallocated.Pct.str.slice(stop = 3)) - set(final.COUNTYFP + final.VTDST.str.slice(start = 3))"
   ]
  },
  {
   "cell_type": "code",
   "execution_count": null,
   "metadata": {},
   "outputs": [],
   "source": [
    "def vtdst_changer(vtdst):\n",
    "    if (vtdst[1:3] == ' -'):\n",
    "        two_lead_zero = '00' + vtdst[:1]\n",
    "        return two_lead_zero\n",
    "    elif (vtdst[1:3] == '- '):\n",
    "        two_lead_zero = '00' + vtdst[:1]\n",
    "        return two_lead_zero\n",
    "    elif (vtdst[-1:] == ' '):\n",
    "        one_lead_zero = '0' + vtdst[:2]\n",
    "        return one_lead_zero\n",
    "    elif (vtdst[-1:] == '-'):\n",
    "        one_lead_zero = '0' + vtdst[:2]\n",
    "        return one_lead_zero\n",
    "    else:\n",
    "        return vtdst"
   ]
  },
  {
   "cell_type": "code",
   "execution_count": null,
   "metadata": {},
   "outputs": [],
   "source": [
    "df_with_absentee_reallocated['vtdst'] = df_with_absentee_reallocated.Pct.str.slice(stop = 3)\n",
    "df_with_absentee_reallocated['vtdst'] = df_with_absentee_reallocated['vtdst'].apply(vtdst_changer)\n",
    "df_with_absentee_reallocated.head()"
   ]
  },
  {
   "cell_type": "code",
   "execution_count": null,
   "metadata": {},
   "outputs": [],
   "source": [
    "df_with_absentee_reallocated['unique_id'] = df_with_absentee_reallocated.COUNTYFP + df_with_absentee_reallocated.vtdst\n",
    "final['unique_id'] = final.COUNTYFP + final.VTDST.str.slice(start = 3)\n",
    "print(set(df_with_absentee_reallocated.unique_id) - set(final.unique_id))\n",
    "print(set(final.unique_id) - set(df_with_absentee_reallocated.unique_id))"
   ]
  },
  {
   "cell_type": "markdown",
   "metadata": {},
   "source": [
    "# Shapefile"
   ]
  },
  {
   "cell_type": "code",
   "execution_count": null,
   "metadata": {
    "jupyter": {
     "outputs_hidden": true
    }
   },
   "outputs": [],
   "source": [
    "county_fips = []\n",
    "for directory in os.listdir('./vest_va_2016/census_shps_by_county_all_unzip/'):\n",
    "    if not directory[0] == '.':\n",
    "        county_fips.append(directory[-5:])\n",
    "        \n",
    "proj = final.crs   \n",
    "\n",
    "county_vtds = []\n",
    "for i in county_fips: #i dont have fips_codes file\n",
    "    ref = './vest_va_2016/census_shps_by_county_all_unzip/partnership_shapefiles_19v2_'\n",
    "    vtd_ref = ref + i + '/PVS_19_v2_vtd_' + i + '.shp' \n",
    "    vtd_shp = gpd.read_file(vtd_ref)\n",
    "    print(i, ' added to list')\n",
    "    county_vtds.append(vtd_shp)\n",
    "\n",
    "global shp_vtd\n",
    "shp_vtd = gpd.GeoDataFrame(pd.concat(county_vtds, axis = 0) , crs = proj) \n",
    "\n",
    "county_sldu = []\n",
    "for i in county_fips: #i dont have fips_codes file\n",
    "    ref = './vest_va_2016/census_shps_by_county_all_unzip/partnership_shapefiles_19v2_'\n",
    "    sldu_ref = ref + i + '/PVS_19_v2_sldu_' + i + '.shp' #PVS_19_v2_sldl_51650\n",
    "    sldu_shp = gpd.read_file(sldu_ref)\n",
    "    print(i, ' added to list')\n",
    "    county_sldu.append(sldu_shp)\n",
    "\n",
    "global shp_sldu\n",
    "shp_sldu = gpd.GeoDataFrame(pd.concat(county_sldu, axis = 0) , crs = proj) \n",
    "\n",
    "overlay = gpd.overlay(shp_sldu, shp_vtd, how='intersection', make_valid=True, keep_geom_type=True)\n",
    "shp = overlay[(overlay.SLDUST == '001') | (overlay.SLDUST == '005')]"
   ]
  },
  {
   "cell_type": "code",
   "execution_count": null,
   "metadata": {},
   "outputs": [],
   "source": [
    "shp.plot()\n",
    "final.plot()"
   ]
  },
  {
   "cell_type": "code",
   "execution_count": null,
   "metadata": {},
   "outputs": [],
   "source": [
    "shp.shape"
   ]
  },
  {
   "cell_type": "code",
   "execution_count": null,
   "metadata": {},
   "outputs": [],
   "source": [
    "final.shape"
   ]
  },
  {
   "cell_type": "code",
   "execution_count": null,
   "metadata": {},
   "outputs": [],
   "source": [
    "print((set(shp.COUNTYFP_1 + shp.VTDST.str.slice(start = 3)) - set(final.COUNTYFP + final.VTDST.str.slice(start = 3))))\n",
    "print((set(final.COUNTYFP + final.VTDST.str.slice(start = 3)) - set(shp.COUNTYFP_1 + shp.VTDST.str.slice(start = 3))))"
   ]
  },
  {
   "cell_type": "code",
   "execution_count": null,
   "metadata": {},
   "outputs": [],
   "source": [
    "shp['unique_id'] = shp['COUNTYFP_1'] + shp['VTDST'].str.slice(start = 3)"
   ]
  },
  {
   "cell_type": "code",
   "execution_count": null,
   "metadata": {},
   "outputs": [],
   "source": [
    "set(df_with_absentee_reallocated.SOV_DIST) - set(final.SOV_DIST)"
   ]
  },
  {
   "cell_type": "code",
   "execution_count": null,
   "metadata": {},
   "outputs": [],
   "source": [
    "shp[shp['unique_id'] == '710511']"
   ]
  },
  {
   "cell_type": "code",
   "execution_count": null,
   "metadata": {},
   "outputs": [],
   "source": [
    "shp[shp['unique_id'] == '710511'].plot()\n",
    "final[(final['unique_id'] == '710403')].plot() #(final['unique_id'] == '710218')] |  | (final['unique_id'] == '710203')\n",
    "#Within county none match up"
   ]
  },
  {
   "cell_type": "code",
   "execution_count": null,
   "metadata": {},
   "outputs": [],
   "source": [
    "set(final.unique_id) - set(df_with_absentee_reallocated.unique_id)"
   ]
  },
  {
   "cell_type": "code",
   "execution_count": null,
   "metadata": {},
   "outputs": [],
   "source": [
    "set(df_with_absentee_reallocated.unique_id) - set(shp.unique_id)"
   ]
  },
  {
   "cell_type": "code",
   "execution_count": null,
   "metadata": {},
   "outputs": [],
   "source": [
    "final[final['unique_id'].isin(list(set(df_with_absentee_reallocated.unique_id) - set(shp.unique_id)))].plot()"
   ]
  },
  {
   "cell_type": "code",
   "execution_count": null,
   "metadata": {},
   "outputs": [],
   "source": [
    "final[final['unique_id'].isin(list(set(df_with_absentee_reallocated.unique_id) - set(shp.unique_id)))]"
   ]
  },
  {
   "cell_type": "code",
   "execution_count": null,
   "metadata": {},
   "outputs": [],
   "source": [
    "set(shp.unique_id) - set(df_with_absentee_reallocated.unique_id)"
   ]
  },
  {
   "cell_type": "code",
   "execution_count": null,
   "metadata": {},
   "outputs": [],
   "source": [
    "shp[shp.unique_id == '710511']"
   ]
  },
  {
   "cell_type": "markdown",
   "metadata": {},
   "source": [
    "### Join election results and shapefile"
   ]
  },
  {
   "cell_type": "code",
   "execution_count": null,
   "metadata": {},
   "outputs": [],
   "source": [
    "join = gpd.GeoDataFrame(pd.merge(df_with_absentee_reallocated, shp, on = 'unique_id', how = 'inner'), crs = proj)\n",
    "join.plot()"
   ]
  },
  {
   "cell_type": "markdown",
   "metadata": {},
   "source": [
    "# Validation "
   ]
  },
  {
   "cell_type": "markdown",
   "metadata": {},
   "source": [
    "## Validating Shapefile"
   ]
  },
  {
   "cell_type": "markdown",
   "metadata": {},
   "source": [
    "Here, I merge the shp joined to the election results to the final file to compare"
   ]
  },
  {
   "cell_type": "code",
   "execution_count": null,
   "metadata": {},
   "outputs": [],
   "source": [
    "shp_final_merge = pd.merge(join, final, on = 'unique_id', how = 'outer', suffixes = ['_x', '_y'],indicator=True)\n",
    "\n",
    "join['geometry'].geom_almost_equals(final['geometry'], decimal = 0)\n",
    "\n",
    "shp_shapes = gpd.GeoDataFrame(shp_final_merge, geometry = 'geometry_x')\n",
    "final_shapes = gpd.GeoDataFrame(shp_final_merge, geometry = 'geometry_y')\n",
    "vals = shp_shapes.geom_almost_equals(final_shapes, decimal = 0)"
   ]
  },
  {
   "cell_type": "code",
   "execution_count": null,
   "metadata": {},
   "outputs": [],
   "source": [
    "both = shp_final_merge[shp_final_merge[\"_merge\"]==\"both\"]\n",
    "source_geoms = gpd.GeoDataFrame(both,geometry=\"geometry_x\",crs=final.crs)\n",
    "vest_geoms = gpd.GeoDataFrame(both,geometry=\"geometry_y\",crs=final.crs)\n",
    "source_geoms = source_geoms.to_crs(3857)\n",
    "vest_geoms = vest_geoms.to_crs(3857)\n",
    "source_geoms[\"geometry_x\"]=source_geoms.buffer(0)\n",
    "vest_geoms[\"geometry_y\"]=vest_geoms.buffer(0)\n",
    "vals = source_geoms.geom_almost_equals(vest_geoms,decimal=0)\n",
    "print(vals.value_counts())"
   ]
  },
  {
   "cell_type": "code",
   "execution_count": null,
   "metadata": {},
   "outputs": [],
   "source": [
    "count = 0\n",
    "area_list = []\n",
    "big_diff = pd.DataFrame(columns=[\"area\"])\n",
    "for i in range(0,len(source_geoms)):\n",
    "    diff = source_geoms.iloc[[i]].symmetric_difference(vest_geoms.iloc[[i]])\n",
    "    intersection = source_geoms.iloc[[i]].intersection(vest_geoms.iloc[[i]])\n",
    "    area = float(diff.area/10e6)\n",
    "    area_list.append(area)\n",
    "    #print(\"Area is \" + str(area))\n",
    "\n",
    "    if (area > 1):\n",
    "        count += 1\n",
    "        name = source_geoms.at[i,\"Pct\"]\n",
    "        big_diff.loc[name]=area\n",
    "        print(str(count)+\") For \" + name + \" difference in area is \" + str(area))\n",
    "        if (intersection.iloc[0].is_empty):\n",
    "            base = diff.plot(color=\"red\")\n",
    "            source_geoms.iloc[[i]].plot(color=\"orange\",ax=base)\n",
    "            vest_geoms.iloc[[i]].plot(color=\"blue\",ax=base)\n",
    "            base.set_title(name)\n",
    "        else:\n",
    "            base = diff.plot(color=\"red\")\n",
    "            source_geoms.iloc[[i]].plot(color=\"orange\",ax=base)\n",
    "            vest_geoms.iloc[[i]].plot(color=\"blue\",ax=base)\n",
    "            intersection.plot(color=\"green\",ax=base)\n",
    "            base.set_title(name)"
   ]
  },
  {
   "cell_type": "code",
   "execution_count": null,
   "metadata": {},
   "outputs": [],
   "source": [
    "df = pd.DataFrame(area_list)\n",
    "print(df.shape)\n",
    "\n",
    "print(str(len(df[df[0]==0]))+\" precincts w/ a difference of 0 km^2\")\n",
    "print(str(len(df[(df[0]<.1) & (df[0]>0)]))+ \" precincts w/ a difference between 0 and .1 km^2\")\n",
    "print(str(len(df[(df[0]<.5) & (df[0]>=.1)]))+ \" precincts w/ a difference between .1 and .5 km^2\")\n",
    "print(str(len(df[(df[0]<1) & (df[0]>=.5)]))+ \" precincts w/ a difference between .5 and 1 km^2\")\n",
    "print(str(len(df[(df[0]<2) & (df[0]>=1)]))+ \" precincts w/ a difference between 1 and 2 km^2\")\n",
    "print(str(len(df[(df[0]<5) & (df[0]>=2)]))+ \" precincts w/ a difference between 2 and 5 km^2\")\n",
    "print(str(len(df[(df[0]>=5)]))+ \" precincts w/ a difference greater than 5 km^2\")"
   ]
  },
  {
   "cell_type": "code",
   "execution_count": null,
   "metadata": {},
   "outputs": [],
   "source": [
    "print(vals.value_counts())"
   ]
  },
  {
   "cell_type": "code",
   "execution_count": null,
   "metadata": {},
   "outputs": [],
   "source": [
    "print(shp_final_merge[~vals]['unique_id'].str[0:3].value_counts())\n",
    "diff_precincts = gpd.GeoDataFrame(shp_final_merge[~vals], geometry = 'geometry_x', crs = proj)\n",
    "\n",
    "shp_difference = gpd.overlay(shp_shapes, final_shapes, how = 'symmetric_difference')\n",
    "shp_difference.plot()"
   ]
  },
  {
   "cell_type": "code",
   "execution_count": null,
   "metadata": {},
   "outputs": [],
   "source": [
    "#Show a random difference\n",
    "test = shp_final_merge[~vals].sample(axis = 0, n=1).index[0]\n",
    "print(shp_final_merge[~vals])\n",
    "display(shp_final_merge.iloc[test]['geometry_x'])\n",
    "display(shp_final_merge.iloc[test]['geometry_y'])\n",
    "\n",
    "test = shp_final_merge[~vals].sample(axis = 0).index[0]\n",
    "display(shp_final_merge.iloc[test]['geometry_x'])\n",
    "display(shp_final_merge.iloc[test]['geometry_y'])"
   ]
  },
  {
   "cell_type": "markdown",
   "metadata": {},
   "source": [
    "### County 650 ex"
   ]
  },
  {
   "cell_type": "code",
   "execution_count": null,
   "metadata": {},
   "outputs": [],
   "source": [
    "print(shp_final_merge[shp_final_merge['unique_id'].str[0:3] == '650'].shape)\n",
    "ex_x = gpd.GeoDataFrame(shp_final_merge[shp_final_merge['unique_id'].str[0:3]== '650'], geometry = 'geometry_x', crs = proj)\n",
    "ex_y = gpd.GeoDataFrame(shp_final_merge[shp_final_merge['unique_id'].str[0:3]== '650'], geometry = 'geometry_y', crs = proj)\n",
    "\n",
    "gpd.overlay(ex_x, ex_y, how = 'symmetric_difference').plot()"
   ]
  },
  {
   "cell_type": "markdown",
   "metadata": {},
   "source": [
    "## Validating Election Results"
   ]
  },
  {
   "cell_type": "code",
   "execution_count": null,
   "metadata": {},
   "outputs": [],
   "source": [
    "final.columns"
   ]
  },
  {
   "cell_type": "code",
   "execution_count": null,
   "metadata": {},
   "outputs": [],
   "source": [
    "column_list = ['S16SOVDEM', 'S16SOVREP', 'S16SOVIND', 'S16SOVWRI']"
   ]
  },
  {
   "cell_type": "code",
   "execution_count": null,
   "metadata": {},
   "outputs": [],
   "source": [
    "def validater_row (df, column_List):\n",
    "    matching_rows = 0\n",
    "    different_rows = 0\n",
    "    diff_list=[]\n",
    "    diff_values = []\n",
    "    max_diff = 0\n",
    "    for j in range(0,len(df.index)):\n",
    "        same = True\n",
    "        for i in column_List:\n",
    "            left_Data = i + \"_x\"\n",
    "            right_Data = i + \"_y\"\n",
    "            diff = abs(df.iloc[j][left_Data]-df.iloc[j][right_Data])\n",
    "            if(diff >0):\n",
    "                if(diff>0):\n",
    "                    print(i, \"{:.>72}\".format(df.iloc[j][\"Pct\"]), \"(V)\",\"{:.>5}\".format(int(df.iloc[j][right_Data])),\" (S){:.>5}\".format(int(df.iloc[j][left_Data])),\"(D):{:>5}\".format(int(df.iloc[j][right_Data])-int(df.iloc[j][left_Data])))           \n",
    "                #print(df.iloc[j]['countypct'])\n",
    "                \n",
    "                diff_values.append(abs(diff))\n",
    "                same = False\n",
    "                if(np.isnan(diff)):\n",
    "                    print(\"NaN value at diff is: \", df.iloc[j][\"Pct\"])\n",
    "                    print(df.iloc[j][left_Data])\n",
    "                    print(df.iloc[j][right_Data])\n",
    "                if (diff>max_diff):\n",
    "                    max_diff = diff\n",
    "                    #print(\"New max diff is: \", str(max_diff))\n",
    "                    #print(df.iloc[j]['cty_pct'])\n",
    "        if(same != True):\n",
    "            different_rows +=1\n",
    "            diff_list.append(df.iloc[j][\"Pct\"])\n",
    "        else:\n",
    "            matching_rows +=1\n",
    "    print(\"\")\n",
    "    print(\"There are \", len(df.index),\" total rows\")\n",
    "    print(different_rows,\" of these rows have election result differences\")\n",
    "    print(matching_rows,\" of these rows are the same\")\n",
    "    print(\"\")\n",
    "    print(\"The max difference between any one shared column in a row is: \", max_diff)\n",
    "    if(len(diff_values)!=0):\n",
    "        print(\"The average difference is: \", str(sum(diff_values)/len(diff_values)))\n",
    "    count_big_diff = len([i for i in diff_values if i > 10])\n",
    "    print(\"There are \", str(count_big_diff), \"precinct results with a difference greater than 10\")\n",
    "    diff_list.sort()\n",
    "    print(diff_list)"
   ]
  },
  {
   "cell_type": "code",
   "execution_count": null,
   "metadata": {},
   "outputs": [],
   "source": [
    "final_join_merge = pd.merge(join, final, on = 'unique_id', how = 'inner', suffixes = ['_x', '_y'])"
   ]
  },
  {
   "cell_type": "code",
   "execution_count": null,
   "metadata": {},
   "outputs": [],
   "source": [
    "validater_row(final_join_merge, column_list)"
   ]
  },
  {
   "cell_type": "code",
   "execution_count": null,
   "metadata": {},
   "outputs": [],
   "source": []
  }
 ],
 "metadata": {
  "kernelspec": {
   "display_name": "Python 3",
   "language": "python",
   "name": "python3"
  },
  "language_info": {
   "codemirror_mode": {
    "name": "ipython",
    "version": 3
   },
   "file_extension": ".py",
   "mimetype": "text/x-python",
   "name": "python",
   "nbconvert_exporter": "python",
   "pygments_lexer": "ipython3",
   "version": "3.9.2"
  }
 },
 "nbformat": 4,
 "nbformat_minor": 4
}
