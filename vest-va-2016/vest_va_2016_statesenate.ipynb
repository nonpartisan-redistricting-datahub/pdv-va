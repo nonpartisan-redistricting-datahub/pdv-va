{
 "cells": [
  {
   "cell_type": "code",
   "execution_count": 3,
   "metadata": {},
   "outputs": [],
   "source": [
    "import pandas as pd\n",
    "import geopandas as gpd\n",
    "import matplotlib.pyplot as plt\n",
    "import numpy as np\n",
    "import os"
   ]
  },
  {
   "cell_type": "markdown",
   "metadata": {},
   "source": [
    "# State Senate Special"
   ]
  },
  {
   "cell_type": "markdown",
   "metadata": {},
   "source": [
    "## Final File Load"
   ]
  },
  {
   "cell_type": "code",
   "execution_count": 4,
   "metadata": {},
   "outputs": [
    {
     "data": {
      "text/plain": [
       "'/Users/lilyfalk/sandbox/pdv-va'"
      ]
     },
     "execution_count": 4,
     "metadata": {},
     "output_type": "execute_result"
    }
   ],
   "source": [
    "pwd"
   ]
  },
  {
   "cell_type": "code",
   "execution_count": 5,
   "metadata": {},
   "outputs": [
    {
     "data": {
      "text/html": [
       "<div>\n",
       "<style scoped>\n",
       "    .dataframe tbody tr th:only-of-type {\n",
       "        vertical-align: middle;\n",
       "    }\n",
       "\n",
       "    .dataframe tbody tr th {\n",
       "        vertical-align: top;\n",
       "    }\n",
       "\n",
       "    .dataframe thead th {\n",
       "        text-align: right;\n",
       "    }\n",
       "</style>\n",
       "<table border=\"1\" class=\"dataframe\">\n",
       "  <thead>\n",
       "    <tr style=\"text-align: right;\">\n",
       "      <th></th>\n",
       "      <th>COUNTYFP</th>\n",
       "      <th>LOCALITY</th>\n",
       "      <th>VTDST</th>\n",
       "      <th>PRECINCT</th>\n",
       "      <th>SOV_DIST</th>\n",
       "      <th>S16SOVDEM</th>\n",
       "      <th>S16SOVREP</th>\n",
       "      <th>S16SOVIND</th>\n",
       "      <th>S16SOVWRI</th>\n",
       "      <th>geometry</th>\n",
       "    </tr>\n",
       "  </thead>\n",
       "  <tbody>\n",
       "    <tr>\n",
       "      <th>0</th>\n",
       "      <td>095</td>\n",
       "      <td>James City County</td>\n",
       "      <td>000304</td>\n",
       "      <td>Powhatan D</td>\n",
       "      <td>001</td>\n",
       "      <td>1369</td>\n",
       "      <td>1078</td>\n",
       "      <td>85</td>\n",
       "      <td>2</td>\n",
       "      <td>POLYGON Z ((-76.76694 37.33789 0.00000, -76.76...</td>\n",
       "    </tr>\n",
       "    <tr>\n",
       "      <th>1</th>\n",
       "      <td>095</td>\n",
       "      <td>James City County</td>\n",
       "      <td>000302</td>\n",
       "      <td>Powhatan B</td>\n",
       "      <td>001</td>\n",
       "      <td>561</td>\n",
       "      <td>394</td>\n",
       "      <td>34</td>\n",
       "      <td>0</td>\n",
       "      <td>POLYGON Z ((-76.78970 37.32426 0.00000, -76.78...</td>\n",
       "    </tr>\n",
       "    <tr>\n",
       "      <th>2</th>\n",
       "      <td>095</td>\n",
       "      <td>James City County</td>\n",
       "      <td>000501</td>\n",
       "      <td>Roberts A</td>\n",
       "      <td>001</td>\n",
       "      <td>927</td>\n",
       "      <td>363</td>\n",
       "      <td>41</td>\n",
       "      <td>1</td>\n",
       "      <td>POLYGON Z ((-76.65883 37.20304 0.00000, -76.64...</td>\n",
       "    </tr>\n",
       "    <tr>\n",
       "      <th>3</th>\n",
       "      <td>095</td>\n",
       "      <td>James City County</td>\n",
       "      <td>000503</td>\n",
       "      <td>Roberts C</td>\n",
       "      <td>001</td>\n",
       "      <td>312</td>\n",
       "      <td>135</td>\n",
       "      <td>25</td>\n",
       "      <td>2</td>\n",
       "      <td>POLYGON Z ((-76.68089 37.26080 0.00000, -76.68...</td>\n",
       "    </tr>\n",
       "    <tr>\n",
       "      <th>4</th>\n",
       "      <td>199</td>\n",
       "      <td>York County</td>\n",
       "      <td>000101</td>\n",
       "      <td>QUEENS LAKE</td>\n",
       "      <td>001</td>\n",
       "      <td>847</td>\n",
       "      <td>876</td>\n",
       "      <td>48</td>\n",
       "      <td>3</td>\n",
       "      <td>POLYGON Z ((-76.68479 37.27077 0.00000, -76.68...</td>\n",
       "    </tr>\n",
       "  </tbody>\n",
       "</table>\n",
       "</div>"
      ],
      "text/plain": [
       "  COUNTYFP           LOCALITY   VTDST     PRECINCT SOV_DIST  S16SOVDEM  \\\n",
       "0      095  James City County  000304   Powhatan D      001       1369   \n",
       "1      095  James City County  000302   Powhatan B      001        561   \n",
       "2      095  James City County  000501    Roberts A      001        927   \n",
       "3      095  James City County  000503    Roberts C      001        312   \n",
       "4      199        York County  000101  QUEENS LAKE      001        847   \n",
       "\n",
       "   S16SOVREP  S16SOVIND  S16SOVWRI  \\\n",
       "0       1078         85          2   \n",
       "1        394         34          0   \n",
       "2        363         41          1   \n",
       "3        135         25          2   \n",
       "4        876         48          3   \n",
       "\n",
       "                                            geometry  \n",
       "0  POLYGON Z ((-76.76694 37.33789 0.00000, -76.76...  \n",
       "1  POLYGON Z ((-76.78970 37.32426 0.00000, -76.78...  \n",
       "2  POLYGON Z ((-76.65883 37.20304 0.00000, -76.64...  \n",
       "3  POLYGON Z ((-76.68089 37.26080 0.00000, -76.68...  \n",
       "4  POLYGON Z ((-76.68479 37.27077 0.00000, -76.68...  "
      ]
     },
     "execution_count": 5,
     "metadata": {},
     "output_type": "execute_result"
    }
   ],
   "source": [
    "final = gpd.read_file('./vest_va_2016/va_2016_statesenate_special/va_2016_statesenate_special.shp')\n",
    "final.head()"
   ]
  },
  {
   "cell_type": "markdown",
   "metadata": {},
   "source": [
    "# Election Results\n",
    "#### Special election for state senate in VA in 2016 in districts 1 and 5"
   ]
  },
  {
   "cell_type": "markdown",
   "metadata": {},
   "source": [
    "## District 1"
   ]
  },
  {
   "cell_type": "code",
   "execution_count": 6,
   "metadata": {},
   "outputs": [
    {
     "data": {
      "text/html": [
       "<div>\n",
       "<style scoped>\n",
       "    .dataframe tbody tr th:only-of-type {\n",
       "        vertical-align: middle;\n",
       "    }\n",
       "\n",
       "    .dataframe tbody tr th {\n",
       "        vertical-align: top;\n",
       "    }\n",
       "\n",
       "    .dataframe thead th {\n",
       "        text-align: right;\n",
       "    }\n",
       "</style>\n",
       "<table border=\"1\" class=\"dataframe\">\n",
       "  <thead>\n",
       "    <tr style=\"text-align: right;\">\n",
       "      <th></th>\n",
       "      <th>County/City</th>\n",
       "      <th>Ward</th>\n",
       "      <th>Pct</th>\n",
       "      <th>Taylor Montgomery Mason</th>\n",
       "      <th>Thomas Richard Holston</th>\n",
       "      <th>John Bernard Bloom</th>\n",
       "      <th>All Others</th>\n",
       "      <th>Total Votes Cast</th>\n",
       "    </tr>\n",
       "  </thead>\n",
       "  <tbody>\n",
       "    <tr>\n",
       "      <th>0</th>\n",
       "      <td>NaN</td>\n",
       "      <td>NaN</td>\n",
       "      <td>NaN</td>\n",
       "      <td>Democratic</td>\n",
       "      <td>Republican</td>\n",
       "      <td>Independent</td>\n",
       "      <td>NaN</td>\n",
       "      <td>NaN</td>\n",
       "    </tr>\n",
       "    <tr>\n",
       "      <th>1</th>\n",
       "      <td>Hampton City</td>\n",
       "      <td>-</td>\n",
       "      <td>204 - Forrest</td>\n",
       "      <td>209</td>\n",
       "      <td>132</td>\n",
       "      <td>11</td>\n",
       "      <td>0.0</td>\n",
       "      <td>352</td>\n",
       "    </tr>\n",
       "    <tr>\n",
       "      <th>2</th>\n",
       "      <td>Hampton City</td>\n",
       "      <td>-</td>\n",
       "      <td>208 - Kraft</td>\n",
       "      <td>1,601</td>\n",
       "      <td>1,081</td>\n",
       "      <td>146</td>\n",
       "      <td>9.0</td>\n",
       "      <td>2,837</td>\n",
       "    </tr>\n",
       "    <tr>\n",
       "      <th>3</th>\n",
       "      <td>Hampton City</td>\n",
       "      <td>-</td>\n",
       "      <td>214 - Tucker Capps</td>\n",
       "      <td>1,348</td>\n",
       "      <td>777</td>\n",
       "      <td>93</td>\n",
       "      <td>11.0</td>\n",
       "      <td>2,229</td>\n",
       "    </tr>\n",
       "    <tr>\n",
       "      <th>4</th>\n",
       "      <td>Hampton City</td>\n",
       "      <td>-</td>\n",
       "      <td>Ab - Central Absentee Precinct</td>\n",
       "      <td>362</td>\n",
       "      <td>165</td>\n",
       "      <td>20</td>\n",
       "      <td>37.0</td>\n",
       "      <td>584</td>\n",
       "    </tr>\n",
       "  </tbody>\n",
       "</table>\n",
       "</div>"
      ],
      "text/plain": [
       "    County/City Ward                             Pct Taylor Montgomery Mason  \\\n",
       "0           NaN  NaN                             NaN              Democratic   \n",
       "1  Hampton City    -                   204 - Forrest                     209   \n",
       "2  Hampton City    -                     208 - Kraft                   1,601   \n",
       "3  Hampton City    -              214 - Tucker Capps                   1,348   \n",
       "4  Hampton City    -  Ab - Central Absentee Precinct                     362   \n",
       "\n",
       "  Thomas Richard Holston John Bernard Bloom  All Others Total Votes Cast  \n",
       "0             Republican        Independent         NaN              NaN  \n",
       "1                    132                 11         0.0              352  \n",
       "2                  1,081                146         9.0            2,837  \n",
       "3                    777                 93        11.0            2,229  \n",
       "4                    165                 20        37.0              584  "
      ]
     },
     "execution_count": 6,
     "metadata": {},
     "output_type": "execute_result"
    }
   ],
   "source": [
    "df1 = pd.read_csv('./vest_va_2016/Virginia_Elections_Database__2016_Senate_of_Virginia_General_Election_District_1_including_precincts.csv')\n",
    "df1.head()"
   ]
  },
  {
   "cell_type": "code",
   "execution_count": 7,
   "metadata": {},
   "outputs": [
    {
     "name": "stdout",
     "output_type": "stream",
     "text": [
      "7\n",
      "6\n"
     ]
    }
   ],
   "source": [
    "county_dict = pd.Series(final['COUNTYFP'].values, index = final['LOCALITY']).to_dict()\n",
    "\n",
    "df1 = df1.iloc[1:]\n",
    "df1['SOV_DIST'] = '1'\n",
    "df1['LOCALITY'] = df1['County/City']\n",
    "df1['S16SOVDEM'] = df1['Taylor Montgomery Mason']\n",
    "df1['S16SOVREP'] = df1['Thomas Richard Holston']\n",
    "df1['S16SOVIND'] = df1['John Bernard Bloom']\n",
    "df1['S16SOVWRI'] = df1['All Others']\n",
    "df1 = df1.drop(['County/City', 'Taylor Montgomery Mason', 'Thomas Richard Holston', 'John Bernard Bloom', 'All Others', 'Ward'], axis = 1)\n",
    "\n",
    "df1['S16SOVDEM'] = df1['S16SOVDEM'].map(lambda x: str(x).replace(',', '')).astype(str).astype(float).astype(int)\n",
    "df1['S16SOVREP'] = df1['S16SOVREP'].map(lambda x: str(x).replace(',', '')).astype(str).astype(float).astype(int)\n",
    "df1['S16SOVIND'] = df1['S16SOVIND'].map(lambda x: str(x).replace(',', '')).astype(str).astype(float).astype(int)\n",
    "df1['S16SOVWRI'] = df1['S16SOVWRI'].map(lambda x: str(x).replace(',', '')).astype(str).astype(float).astype(int)\n",
    "\n",
    "print(df1.LOCALITY.nunique())\n",
    "df1['COUNTYFP'] = df1['LOCALITY'].map(county_dict)\n",
    "print(df1.COUNTYFP.nunique())"
   ]
  },
  {
   "cell_type": "code",
   "execution_count": 15,
   "metadata": {},
   "outputs": [],
   "source": [
    "#Used to compare with VA Department of Elections\n",
    "final1 = final[final['SOV_DIST'] == '001']"
   ]
  },
  {
   "cell_type": "code",
   "execution_count": 16,
   "metadata": {},
   "outputs": [
    {
     "name": "stdout",
     "output_type": "stream",
     "text": [
      "S16SOVDEM :  49251\n",
      "S16SOVREP :  31740\n",
      "S16SOVIND :  3534\n",
      "S16SOVWRI :  286\n"
     ]
    }
   ],
   "source": [
    "column_list = ['S16SOVDEM', 'S16SOVREP', 'S16SOVIND', 'S16SOVWRI']\n",
    "for val in column_list:\n",
    "    print(val, ': ', final1[val].sum())"
   ]
  },
  {
   "cell_type": "code",
   "execution_count": 17,
   "metadata": {},
   "outputs": [
    {
     "name": "stdout",
     "output_type": "stream",
     "text": [
      "S16SOVDEM :  66989\n",
      "S16SOVREP :  0\n",
      "S16SOVIND :  0\n",
      "S16SOVWRI :  2627\n"
     ]
    }
   ],
   "source": [
    "final5 = final[final['SOV_DIST'] == '005']\n",
    "for val in column_list:\n",
    "    print(val, ': ', final5[val].sum())"
   ]
  },
  {
   "cell_type": "markdown",
   "metadata": {},
   "source": [
    "## District 5"
   ]
  },
  {
   "cell_type": "code",
   "execution_count": 12,
   "metadata": {},
   "outputs": [
    {
     "data": {
      "text/html": [
       "<div>\n",
       "<style scoped>\n",
       "    .dataframe tbody tr th:only-of-type {\n",
       "        vertical-align: middle;\n",
       "    }\n",
       "\n",
       "    .dataframe tbody tr th {\n",
       "        vertical-align: top;\n",
       "    }\n",
       "\n",
       "    .dataframe thead th {\n",
       "        text-align: right;\n",
       "    }\n",
       "</style>\n",
       "<table border=\"1\" class=\"dataframe\">\n",
       "  <thead>\n",
       "    <tr style=\"text-align: right;\">\n",
       "      <th></th>\n",
       "      <th>County/City</th>\n",
       "      <th>Ward</th>\n",
       "      <th>Pct</th>\n",
       "      <th>Lionell Spruill, Sr.</th>\n",
       "      <th>All Others</th>\n",
       "      <th>Total Votes Cast</th>\n",
       "    </tr>\n",
       "  </thead>\n",
       "  <tbody>\n",
       "    <tr>\n",
       "      <th>0</th>\n",
       "      <td>NaN</td>\n",
       "      <td>NaN</td>\n",
       "      <td>NaN</td>\n",
       "      <td>Democratic</td>\n",
       "      <td>NaN</td>\n",
       "      <td>NaN</td>\n",
       "    </tr>\n",
       "    <tr>\n",
       "      <th>1</th>\n",
       "      <td>Chesapeake City</td>\n",
       "      <td>-</td>\n",
       "      <td>3 - Camelot</td>\n",
       "      <td>1,881</td>\n",
       "      <td>24</td>\n",
       "      <td>1,905</td>\n",
       "    </tr>\n",
       "    <tr>\n",
       "      <th>2</th>\n",
       "      <td>Chesapeake City</td>\n",
       "      <td>-</td>\n",
       "      <td>5 - Crestwood</td>\n",
       "      <td>1,427</td>\n",
       "      <td>33</td>\n",
       "      <td>1,460</td>\n",
       "    </tr>\n",
       "    <tr>\n",
       "      <th>3</th>\n",
       "      <td>Chesapeake City</td>\n",
       "      <td>-</td>\n",
       "      <td>8 - South Norfolk Recreation</td>\n",
       "      <td>1,422</td>\n",
       "      <td>70</td>\n",
       "      <td>1,492</td>\n",
       "    </tr>\n",
       "    <tr>\n",
       "      <th>4</th>\n",
       "      <td>Chesapeake City</td>\n",
       "      <td>-</td>\n",
       "      <td>10 - Oscar Smith</td>\n",
       "      <td>664</td>\n",
       "      <td>47</td>\n",
       "      <td>711</td>\n",
       "    </tr>\n",
       "  </tbody>\n",
       "</table>\n",
       "</div>"
      ],
      "text/plain": [
       "       County/City Ward                           Pct Lionell Spruill, Sr.  \\\n",
       "0              NaN  NaN                           NaN           Democratic   \n",
       "1  Chesapeake City    -                   3 - Camelot                1,881   \n",
       "2  Chesapeake City    -                 5 - Crestwood                1,427   \n",
       "3  Chesapeake City    -  8 - South Norfolk Recreation                1,422   \n",
       "4  Chesapeake City    -              10 - Oscar Smith                  664   \n",
       "\n",
       "  All Others Total Votes Cast  \n",
       "0        NaN              NaN  \n",
       "1         24            1,905  \n",
       "2         33            1,460  \n",
       "3         70            1,492  \n",
       "4         47              711  "
      ]
     },
     "execution_count": 12,
     "metadata": {},
     "output_type": "execute_result"
    }
   ],
   "source": [
    "df5 = pd.read_csv('./vest_va_2016/Virginia_Elections_Database__2016_Senate_of_Virginia_General_Election_District_5_including_precincts.csv')\n",
    "df5.head()"
   ]
  },
  {
   "cell_type": "code",
   "execution_count": 13,
   "metadata": {},
   "outputs": [
    {
     "name": "stdout",
     "output_type": "stream",
     "text": [
      "3\n",
      "2\n"
     ]
    }
   ],
   "source": [
    "df5 = df5.iloc[1:]\n",
    "df5['SOV_DIST'] = '5'\n",
    "df5['LOCALITY'] = df5['County/City']\n",
    "df5['S16SOVDEM'] = df5['Lionell Spruill, Sr.']\n",
    "df5['S16SOVWRI'] = df5['All Others']\n",
    "df5 = df5.drop(['County/City', 'Lionell Spruill, Sr.', 'All Others', 'Ward'], axis = 1)\n",
    "\n",
    "df5['S16SOVDEM'] = df5['S16SOVDEM'].map(lambda x: str(x).replace(',', '')).astype(str).astype(float).astype(int)\n",
    "df5['S16SOVWRI'] = df5['S16SOVWRI'].map(lambda x: str(x).replace(',', '')).astype(str).astype(float).astype(int)\n",
    "\n",
    "print(df5.LOCALITY.nunique())\n",
    "df5['COUNTYFP'] = df5['LOCALITY'].map(county_dict)\n",
    "print(df5.COUNTYFP.nunique())"
   ]
  },
  {
   "cell_type": "code",
   "execution_count": 8,
   "metadata": {},
   "outputs": [
    {
     "ename": "NameError",
     "evalue": "name 'df5' is not defined",
     "output_type": "error",
     "traceback": [
      "\u001b[0;31m---------------------------------------------------------------------------\u001b[0m",
      "\u001b[0;31mNameError\u001b[0m                                 Traceback (most recent call last)",
      "\u001b[0;32m<ipython-input-8-6986fd1f5b9d>\u001b[0m in \u001b[0;36m<module>\u001b[0;34m\u001b[0m\n\u001b[0;32m----> 1\u001b[0;31m \u001b[0mdf5\u001b[0m\u001b[0;34m\u001b[0m\u001b[0;34m\u001b[0m\u001b[0m\n\u001b[0m",
      "\u001b[0;31mNameError\u001b[0m: name 'df5' is not defined"
     ]
    }
   ],
   "source": [
    "df5"
   ]
  },
  {
   "cell_type": "markdown",
   "metadata": {},
   "source": [
    "## Districts 1 and 5 together"
   ]
  },
  {
   "cell_type": "code",
   "execution_count": 14,
   "metadata": {},
   "outputs": [],
   "source": [
    "elections = []\n",
    "elections.append(df1)\n",
    "elections.append(df5)\n",
    "\n",
    "df = pd.concat(elections, axis = 0)\n",
    "df = df[df['LOCALITY'] != 'TOTALS']\n",
    "df = df.reset_index()\n",
    "df = df.fillna(0)"
   ]
  },
  {
   "cell_type": "code",
   "execution_count": 15,
   "metadata": {},
   "outputs": [
    {
     "name": "stdout",
     "output_type": "stream",
     "text": [
      "S16SOVDEM: EQUAL\n",
      "S16SOVREP: EQUAL\n",
      "S16SOVIND: EQUAL\n",
      "S16SOVWRI: EQUAL\n"
     ]
    }
   ],
   "source": [
    "column_list = ['S16SOVDEM', 'S16SOVREP', 'S16SOVIND', 'S16SOVWRI']\n",
    "for val in column_list:\n",
    "    vote_dif = df[val].sum()-final[val].sum()\n",
    "    if (vote_dif == 0):\n",
    "        print(val+\": EQUAL\")\n",
    "    else:\n",
    "        print(val+\": DIFFERENCE OF \" + str(vote_dif)+ \" VOTES\")"
   ]
  },
  {
   "cell_type": "code",
   "execution_count": 16,
   "metadata": {},
   "outputs": [
    {
     "name": "stdout",
     "output_type": "stream",
     "text": [
      "Counties with differences printed below:\n",
      "\n",
      "All other races in all counties are equal\n"
     ]
    }
   ],
   "source": [
    "print(\"Counties with differences printed below:\")\n",
    "diff_counties=[]\n",
    "for i in column_list:\n",
    "    diff = df.groupby(['COUNTYFP']).sum()[i]-final.groupby(['COUNTYFP']).sum()[i]\n",
    "    for val in diff[diff != 0].index.values.tolist():\n",
    "        if val not in diff_counties:\n",
    "            diff_counties.append(val)\n",
    "    if len(diff[diff != 0]!=0):\n",
    "        print(diff[diff != 0].to_string(header=False))\n",
    "print(\"\")\n",
    "print(\"All other races in all counties are equal\")"
   ]
  },
  {
   "cell_type": "code",
   "execution_count": 17,
   "metadata": {},
   "outputs": [],
   "source": [
    "absentee_and_prov = df[(df['Pct'].map(lambda x: 'Absentee' in str(x))) | (df['Pct'].map(lambda x: 'Provisional' in str(x)))]\n",
    "groupby_absentee_and_prov_tot = absentee_and_prov.groupby(['COUNTYFP']).sum()\n",
    "groupby_county_df_tot = df.groupby(['COUNTYFP']).sum()\n",
    "df_no_absent_or_provisional = df[(df['Pct'].map(lambda x: 'Absentee' not in str(x))) & (df['Pct'].map(lambda x: 'Provisional' not in str(x)))\n",
    "                                & (df['LOCALITY'] != 'TOTALS')]\n",
    "groupby_county_tot_no_absentee = df_no_absent_or_provisional.groupby('COUNTYFP').sum()"
   ]
  },
  {
   "cell_type": "code",
   "execution_count": 18,
   "metadata": {},
   "outputs": [],
   "source": [
    "df_with_absentee_reallocated = df_no_absent_or_provisional.copy()\n",
    "groupby_absentee_and_prov_tot.reset_index(inplace=True,drop=False)\n",
    "groupby_county_tot_no_absentee.reset_index(inplace=True,drop=False)\n",
    "\n",
    "to_dole_out_totals = groupby_absentee_and_prov_tot.copy()\n",
    "precinct_specific_totals = groupby_county_tot_no_absentee.copy()\n",
    "\n",
    "## PH CODE for vote allocation\n",
    "\n",
    "#countyfp_cd\n",
    "#df_no_absent_or_provisional\n",
    "\n",
    "#Create some new columns for each of these races to deal with the allocation\n",
    "for race in column_list:\n",
    "    add_var = race+\"_add\"\n",
    "    rem_var = race+\"_rem\"\n",
    "    floor_var = race+\"_floor\"\n",
    "    df_with_absentee_reallocated.loc[:,add_var]=0.0\n",
    "    df_with_absentee_reallocated.loc[:,rem_var]=0.0\n",
    "    df_with_absentee_reallocated.loc[:,floor_var]=0.0\n",
    "\n",
    "#Iterate over the rows\n",
    "#Note this function iterates over the dataframe two times so the rounded vote totals match the totals to allocate\n",
    "for index, row in df_no_absent_or_provisional.iterrows():\n",
    "    for race in column_list:\n",
    "        add_var = race+\"_add\"\n",
    "        rem_var = race+\"_rem\"\n",
    "        floor_var = race+\"_floor\"\n",
    "        #Grab the district\n",
    "        county_id = row['COUNTYFP']\n",
    "        #Get the denominator for the allocation (the precinct vote totals)\n",
    "        denom = precinct_specific_totals.loc[precinct_specific_totals['COUNTYFP']==county_id][race]\n",
    "        #Get one of the numerators, how many districtwide votes to allocate\n",
    "        numer = to_dole_out_totals.loc[to_dole_out_totals['COUNTYFP']==county_id][race]\n",
    "        #Get the vote totals for this race in this precinct\n",
    "        val = df_with_absentee_reallocated.at[index,race]\n",
    "        #Get the vote share, the precincts % of total precinct votes in the district times votes to allocate\n",
    "        if ((float(denom)==0)):\n",
    "            vote_share = 0\n",
    "        else:\n",
    "            vote_share = (float(val)/float(denom))*float(numer)\n",
    "        df_with_absentee_reallocated.at[index,add_var] = vote_share\n",
    "        #Take the decimal remainder of the allocation\n",
    "        df_with_absentee_reallocated.at[index,rem_var] = vote_share%1\n",
    "        #Take the floor of the allocation\n",
    "        df_with_absentee_reallocated.at[index,floor_var] = np.floor(vote_share)\n",
    "\n",
    "#After the first pass through, get the sums of the races by district to assist in the rounding            \n",
    "first_allocation = pd.DataFrame(df_with_absentee_reallocated.groupby(['COUNTYFP']).sum())\n",
    "\n",
    "#Now we want to iterate district by district to work on rounding\n",
    "county_list = list(to_dole_out_totals['COUNTYFP'].unique()) \n",
    "\n",
    "#Iterate over the district\n",
    "for county in county_list:\n",
    "    for race in column_list:\n",
    "        add_var = race+\"_add\"\n",
    "        rem_var = race+\"_rem\"\n",
    "        floor_var = race+\"_floor\"\n",
    "        #County how many votes still need to be allocated (because we took the floor of all the initial allocations)\n",
    "        to_go = int(np.round((int(to_dole_out_totals.loc[to_dole_out_totals['COUNTYFP']==county][race])-first_allocation.loc[first_allocation.index==county,floor_var])))\n",
    "        #Grab the n precincts with the highest remainders and round these up, where n is the # of votes that still need to be allocated\n",
    "        for index in df_with_absentee_reallocated.loc[df_with_absentee_reallocated['COUNTYFP']==county][rem_var].nlargest(to_go).index:\n",
    "            df_with_absentee_reallocated.at[index,add_var] = np.ceil(df_with_absentee_reallocated.at[index,add_var])\n",
    "\n",
    "#Iterate over every race again\n",
    "for race in column_list:\n",
    "    add_var = race+\"_add\"\n",
    "    #Round every allocation down to not add fractional votes\n",
    "    df_with_absentee_reallocated.loc[:,add_var]=np.floor(df_with_absentee_reallocated.loc[:,add_var])\n",
    "    df_with_absentee_reallocated.loc[:,race]+=df_with_absentee_reallocated.loc[:,add_var]"
   ]
  },
  {
   "cell_type": "code",
   "execution_count": 19,
   "metadata": {},
   "outputs": [
    {
     "name": "stdout",
     "output_type": "stream",
     "text": [
      "S16SOVDEM: EQUAL\n",
      "S16SOVREP: EQUAL\n",
      "S16SOVIND: EQUAL\n",
      "S16SOVWRI: EQUAL\n",
      "Counties with differences printed below:\n",
      "\n",
      "All other races in all counties are equal\n"
     ]
    }
   ],
   "source": [
    "for val in column_list:\n",
    "    vote_dif = df_with_absentee_reallocated[val].sum()-final[val].sum()\n",
    "    if (vote_dif == 0):\n",
    "        print(val+\": EQUAL\")\n",
    "    else:\n",
    "        print(val+\": DIFFERENCE OF \" + str(vote_dif)+ \" VOTES\")\n",
    "        \n",
    "        \n",
    "print(\"Counties with differences printed below:\")\n",
    "diff_counties=[]\n",
    "for i in column_list:\n",
    "    diff = df_with_absentee_reallocated.groupby(['LOCALITY']).sum()[i]-final.groupby(['LOCALITY']).sum()[i]\n",
    "    for val in diff[diff != 0].index.values.tolist():\n",
    "        if val not in diff_counties:\n",
    "            diff_counties.append(val)\n",
    "    if len(diff[diff != 0]!=0):\n",
    "        print(diff[diff != 0].to_string(header=False))\n",
    "print(\"\")\n",
    "print(\"All other races in all counties are equal\")"
   ]
  },
  {
   "cell_type": "markdown",
   "metadata": {},
   "source": [
    "## Create unique id"
   ]
  },
  {
   "cell_type": "code",
   "execution_count": 20,
   "metadata": {},
   "outputs": [
    {
     "name": "stdout",
     "output_type": "stream",
     "text": [
      "formatting cause differences in sample ids:  {'55015 ', '5505 -', '55050 ', '8301 -', '8302 -', '55056 ', '55030 ', '55053 ', '55058 ', '55048 ', '55022 ', '55025 ', '55012 ', '55011 ', '55031 ', '55013 ', '55010 ', '5503 -', '55042 ', '55032 ', '55018 ', '55040 ', '55033 ', '5508 -', '55057 ', '55029 ', '55026 ', '55055 ', '55045 ', '55024 '}\n"
     ]
    }
   ],
   "source": [
    "print('formatting cause differences in sample ids: ', set(df_with_absentee_reallocated.COUNTYFP + df_with_absentee_reallocated.Pct.str.slice(stop = 3)) - set(final.COUNTYFP + final.VTDST.str.slice(start = 3)))"
   ]
  },
  {
   "cell_type": "code",
   "execution_count": 21,
   "metadata": {},
   "outputs": [
    {
     "data": {
      "text/html": [
       "<div>\n",
       "<style scoped>\n",
       "    .dataframe tbody tr th:only-of-type {\n",
       "        vertical-align: middle;\n",
       "    }\n",
       "\n",
       "    .dataframe tbody tr th {\n",
       "        vertical-align: top;\n",
       "    }\n",
       "\n",
       "    .dataframe thead th {\n",
       "        text-align: right;\n",
       "    }\n",
       "</style>\n",
       "<table border=\"1\" class=\"dataframe\">\n",
       "  <thead>\n",
       "    <tr style=\"text-align: right;\">\n",
       "      <th></th>\n",
       "      <th>index</th>\n",
       "      <th>Pct</th>\n",
       "      <th>Total Votes Cast</th>\n",
       "      <th>SOV_DIST</th>\n",
       "      <th>LOCALITY</th>\n",
       "      <th>S16SOVDEM</th>\n",
       "      <th>S16SOVREP</th>\n",
       "      <th>S16SOVIND</th>\n",
       "      <th>S16SOVWRI</th>\n",
       "      <th>COUNTYFP</th>\n",
       "      <th>...</th>\n",
       "      <th>S16SOVREP_add</th>\n",
       "      <th>S16SOVREP_rem</th>\n",
       "      <th>S16SOVREP_floor</th>\n",
       "      <th>S16SOVIND_add</th>\n",
       "      <th>S16SOVIND_rem</th>\n",
       "      <th>S16SOVIND_floor</th>\n",
       "      <th>S16SOVWRI_add</th>\n",
       "      <th>S16SOVWRI_rem</th>\n",
       "      <th>S16SOVWRI_floor</th>\n",
       "      <th>vtdst</th>\n",
       "    </tr>\n",
       "  </thead>\n",
       "  <tbody>\n",
       "    <tr>\n",
       "      <th>0</th>\n",
       "      <td>1</td>\n",
       "      <td>204 - Forrest</td>\n",
       "      <td>352</td>\n",
       "      <td>1</td>\n",
       "      <td>Hampton City</td>\n",
       "      <td>233.0</td>\n",
       "      <td>143.0</td>\n",
       "      <td>12.0</td>\n",
       "      <td>0.0</td>\n",
       "      <td>650</td>\n",
       "      <td>...</td>\n",
       "      <td>11.0</td>\n",
       "      <td>0.342714</td>\n",
       "      <td>11.0</td>\n",
       "      <td>1.0</td>\n",
       "      <td>0.880000</td>\n",
       "      <td>0.0</td>\n",
       "      <td>0.0</td>\n",
       "      <td>0.000</td>\n",
       "      <td>0.0</td>\n",
       "      <td>204</td>\n",
       "    </tr>\n",
       "    <tr>\n",
       "      <th>1</th>\n",
       "      <td>2</td>\n",
       "      <td>208 - Kraft</td>\n",
       "      <td>2,837</td>\n",
       "      <td>1</td>\n",
       "      <td>Hampton City</td>\n",
       "      <td>1787.0</td>\n",
       "      <td>1174.0</td>\n",
       "      <td>158.0</td>\n",
       "      <td>26.0</td>\n",
       "      <td>650</td>\n",
       "      <td>...</td>\n",
       "      <td>93.0</td>\n",
       "      <td>0.889950</td>\n",
       "      <td>92.0</td>\n",
       "      <td>12.0</td>\n",
       "      <td>0.680000</td>\n",
       "      <td>11.0</td>\n",
       "      <td>17.0</td>\n",
       "      <td>0.650</td>\n",
       "      <td>16.0</td>\n",
       "      <td>208</td>\n",
       "    </tr>\n",
       "    <tr>\n",
       "      <th>2</th>\n",
       "      <td>3</td>\n",
       "      <td>214 - Tucker Capps</td>\n",
       "      <td>2,229</td>\n",
       "      <td>1</td>\n",
       "      <td>Hampton City</td>\n",
       "      <td>1504.0</td>\n",
       "      <td>844.0</td>\n",
       "      <td>100.0</td>\n",
       "      <td>31.0</td>\n",
       "      <td>650</td>\n",
       "      <td>...</td>\n",
       "      <td>67.0</td>\n",
       "      <td>0.767337</td>\n",
       "      <td>66.0</td>\n",
       "      <td>7.0</td>\n",
       "      <td>0.440000</td>\n",
       "      <td>7.0</td>\n",
       "      <td>20.0</td>\n",
       "      <td>0.350</td>\n",
       "      <td>20.0</td>\n",
       "      <td>214</td>\n",
       "    </tr>\n",
       "    <tr>\n",
       "      <th>5</th>\n",
       "      <td>6</td>\n",
       "      <td>201 - Jamestown A</td>\n",
       "      <td>730</td>\n",
       "      <td>1</td>\n",
       "      <td>James City County</td>\n",
       "      <td>490.0</td>\n",
       "      <td>318.0</td>\n",
       "      <td>19.0</td>\n",
       "      <td>0.0</td>\n",
       "      <td>095</td>\n",
       "      <td>...</td>\n",
       "      <td>36.0</td>\n",
       "      <td>0.365199</td>\n",
       "      <td>36.0</td>\n",
       "      <td>2.0</td>\n",
       "      <td>0.792969</td>\n",
       "      <td>1.0</td>\n",
       "      <td>0.0</td>\n",
       "      <td>0.000</td>\n",
       "      <td>0.0</td>\n",
       "      <td>201</td>\n",
       "    </tr>\n",
       "    <tr>\n",
       "      <th>6</th>\n",
       "      <td>7</td>\n",
       "      <td>202 - Jamestown B</td>\n",
       "      <td>2,208</td>\n",
       "      <td>1</td>\n",
       "      <td>James City County</td>\n",
       "      <td>1424.0</td>\n",
       "      <td>995.0</td>\n",
       "      <td>79.0</td>\n",
       "      <td>4.0</td>\n",
       "      <td>095</td>\n",
       "      <td>...</td>\n",
       "      <td>114.0</td>\n",
       "      <td>0.609010</td>\n",
       "      <td>113.0</td>\n",
       "      <td>8.0</td>\n",
       "      <td>0.488281</td>\n",
       "      <td>7.0</td>\n",
       "      <td>1.0</td>\n",
       "      <td>0.375</td>\n",
       "      <td>0.0</td>\n",
       "      <td>202</td>\n",
       "    </tr>\n",
       "  </tbody>\n",
       "</table>\n",
       "<p>5 rows × 23 columns</p>\n",
       "</div>"
      ],
      "text/plain": [
       "   index                 Pct Total Votes Cast SOV_DIST           LOCALITY  \\\n",
       "0      1       204 - Forrest              352        1       Hampton City   \n",
       "1      2         208 - Kraft            2,837        1       Hampton City   \n",
       "2      3  214 - Tucker Capps            2,229        1       Hampton City   \n",
       "5      6   201 - Jamestown A              730        1  James City County   \n",
       "6      7   202 - Jamestown B            2,208        1  James City County   \n",
       "\n",
       "   S16SOVDEM  S16SOVREP  S16SOVIND  S16SOVWRI COUNTYFP  ...  S16SOVREP_add  \\\n",
       "0      233.0      143.0       12.0        0.0      650  ...           11.0   \n",
       "1     1787.0     1174.0      158.0       26.0      650  ...           93.0   \n",
       "2     1504.0      844.0      100.0       31.0      650  ...           67.0   \n",
       "5      490.0      318.0       19.0        0.0      095  ...           36.0   \n",
       "6     1424.0      995.0       79.0        4.0      095  ...          114.0   \n",
       "\n",
       "   S16SOVREP_rem  S16SOVREP_floor  S16SOVIND_add  S16SOVIND_rem  \\\n",
       "0       0.342714             11.0            1.0       0.880000   \n",
       "1       0.889950             92.0           12.0       0.680000   \n",
       "2       0.767337             66.0            7.0       0.440000   \n",
       "5       0.365199             36.0            2.0       0.792969   \n",
       "6       0.609010            113.0            8.0       0.488281   \n",
       "\n",
       "   S16SOVIND_floor  S16SOVWRI_add  S16SOVWRI_rem  S16SOVWRI_floor  vtdst  \n",
       "0              0.0            0.0          0.000              0.0    204  \n",
       "1             11.0           17.0          0.650             16.0    208  \n",
       "2              7.0           20.0          0.350             20.0    214  \n",
       "5              1.0            0.0          0.000              0.0    201  \n",
       "6              7.0            1.0          0.375              0.0    202  \n",
       "\n",
       "[5 rows x 23 columns]"
      ]
     },
     "execution_count": 21,
     "metadata": {},
     "output_type": "execute_result"
    }
   ],
   "source": [
    "#Function to fix/account for above differences\n",
    "def vtdst_changer(vtdst):\n",
    "    if (vtdst[1:3] == ' -'):\n",
    "        two_lead_zero = '00' + vtdst[:1]\n",
    "        return two_lead_zero\n",
    "    elif (vtdst[1:3] == '- '):\n",
    "        two_lead_zero = '00' + vtdst[:1]\n",
    "        return two_lead_zero\n",
    "    elif (vtdst[-1:] == ' '):\n",
    "        one_lead_zero = '0' + vtdst[:2]\n",
    "        return one_lead_zero\n",
    "    elif (vtdst[-1:] == '-'):\n",
    "        one_lead_zero = '0' + vtdst[:2]\n",
    "        return one_lead_zero\n",
    "    else:\n",
    "        return vtdst\n",
    "    \n",
    "df_with_absentee_reallocated['vtdst'] = df_with_absentee_reallocated.Pct.str.slice(stop = 3)\n",
    "df_with_absentee_reallocated['vtdst'] = df_with_absentee_reallocated['vtdst'].apply(vtdst_changer)\n",
    "df_with_absentee_reallocated.head()"
   ]
  },
  {
   "cell_type": "code",
   "execution_count": 22,
   "metadata": {},
   "outputs": [
    {
     "name": "stdout",
     "output_type": "stream",
     "text": [
      "unique ids in df not in vest file:  set()\n",
      "unique ids in vest file not in df:  set()\n"
     ]
    }
   ],
   "source": [
    "df_with_absentee_reallocated['unique_id'] = df_with_absentee_reallocated.COUNTYFP + df_with_absentee_reallocated.vtdst\n",
    "final['unique_id'] = final.COUNTYFP + final.VTDST.str.slice(start = 3)\n",
    "print('unique ids in df not in vest file: ', set(df_with_absentee_reallocated.unique_id) - set(final.unique_id))\n",
    "print('unique ids in vest file not in df: ', set(final.unique_id) - set(df_with_absentee_reallocated.unique_id))"
   ]
  },
  {
   "cell_type": "markdown",
   "metadata": {},
   "source": [
    "# Shapefile"
   ]
  },
  {
   "cell_type": "code",
   "execution_count": 23,
   "metadata": {},
   "outputs": [
    {
     "data": {
      "text/plain": [
       "<AxesSubplot:>"
      ]
     },
     "execution_count": 23,
     "metadata": {},
     "output_type": "execute_result"
    },
    {
     "data": {
      "image/png": "[encoded data removed]",
      "text/plain": [
       "<Figure size 432x288 with 1 Axes>"
      ]
     },
     "metadata": {
      "needs_background": "light"
     },
     "output_type": "display_data"
    },
    {
     "data": {
      "image/png": "[encoded data removed]",
      "text/plain": [
       "<Figure size 432x288 with 1 Axes>"
      ]
     },
     "metadata": {
      "needs_background": "light"
     },
     "output_type": "display_data"
    }
   ],
   "source": [
    "county_fips = []\n",
    "for directory in os.listdir('./vest_va_2016/census_shps_by_county_all_unzip/'):\n",
    "    if not directory[0] == '.':\n",
    "        county_fips.append(directory[-5:])\n",
    "        \n",
    "proj = final.crs   \n",
    "\n",
    "county_vtds = []\n",
    "for i in county_fips: #i dont have fips_codes file\n",
    "    ref = './vest_va_2016/census_shps_by_county_all_unzip/partnership_shapefiles_19v2_'\n",
    "    vtd_ref = ref + i + '/PVS_19_v2_vtd_' + i + '.shp' \n",
    "    vtd_shp = gpd.read_file(vtd_ref)\n",
    "    #print(i, ' added to list')\n",
    "    county_vtds.append(vtd_shp)\n",
    "\n",
    "global shp_vtd\n",
    "shp_vtd = gpd.GeoDataFrame(pd.concat(county_vtds, axis = 0) , crs = proj) \n",
    "\n",
    "county_sldu = []\n",
    "for i in county_fips: #i dont have fips_codes file\n",
    "    ref = './vest_va_2016/census_shps_by_county_all_unzip/partnership_shapefiles_19v2_'\n",
    "    sldu_ref = ref + i + '/PVS_19_v2_sldu_' + i + '.shp' #PVS_19_v2_sldl_51650\n",
    "    sldu_shp = gpd.read_file(sldu_ref)\n",
    "    #print(i, ' added to list')\n",
    "    county_sldu.append(sldu_shp)\n",
    "\n",
    "global shp_sldu\n",
    "shp_sldu = gpd.GeoDataFrame(pd.concat(county_sldu, axis = 0) , crs = proj) \n",
    "\n",
    "overlay = gpd.overlay(shp_sldu, shp_vtd, how='intersection', make_valid=True, keep_geom_type=True)\n",
    "shp = overlay[(overlay.SLDUST == '001') | (overlay.SLDUST == '005')]\n",
    "\n",
    "shp.plot()\n",
    "final.plot()"
   ]
  },
  {
   "cell_type": "code",
   "execution_count": 24,
   "metadata": {},
   "outputs": [
    {
     "name": "stdout",
     "output_type": "stream",
     "text": [
      "in shp not in vest file: {'710406', '710207', '710212', '550023', '550039', '710504', '710511', '199102', '550006', '710211', '800706', '095042'}\n",
      "in vest file not in shp:  {'710403', '550040'}\n"
     ]
    },
    {
     "name": "stderr",
     "output_type": "stream",
     "text": [
      "/Users/lilyfalk/anaconda3/envs/pdv_env/lib/python3.9/site-packages/geopandas/geodataframe.py:1322: SettingWithCopyWarning: \n",
      "A value is trying to be set on a copy of a slice from a DataFrame.\n",
      "Try using .loc[row_indexer,col_indexer] = value instead\n",
      "\n",
      "See the caveats in the documentation: https://pandas.pydata.org/pandas-docs/stable/user_guide/indexing.html#returning-a-view-versus-a-copy\n",
      "  super(GeoDataFrame, self).__setitem__(key, value)\n"
     ]
    },
    {
     "data": {
      "text/html": [
       "<div>\n",
       "<style scoped>\n",
       "    .dataframe tbody tr th:only-of-type {\n",
       "        vertical-align: middle;\n",
       "    }\n",
       "\n",
       "    .dataframe tbody tr th {\n",
       "        vertical-align: top;\n",
       "    }\n",
       "\n",
       "    .dataframe thead th {\n",
       "        text-align: right;\n",
       "    }\n",
       "</style>\n",
       "<table border=\"1\" class=\"dataframe\">\n",
       "  <thead>\n",
       "    <tr style=\"text-align: right;\">\n",
       "      <th></th>\n",
       "      <th>COUNTYFP</th>\n",
       "      <th>LOCALITY</th>\n",
       "      <th>VTDST</th>\n",
       "      <th>PRECINCT</th>\n",
       "      <th>SOV_DIST</th>\n",
       "      <th>S16SOVDEM</th>\n",
       "      <th>S16SOVREP</th>\n",
       "      <th>S16SOVIND</th>\n",
       "      <th>S16SOVWRI</th>\n",
       "      <th>geometry</th>\n",
       "      <th>unique_id</th>\n",
       "    </tr>\n",
       "  </thead>\n",
       "  <tbody>\n",
       "    <tr>\n",
       "      <th>23</th>\n",
       "      <td>550</td>\n",
       "      <td>Chesapeake City</td>\n",
       "      <td>000040</td>\n",
       "      <td>River Birch</td>\n",
       "      <td>005</td>\n",
       "      <td>1658</td>\n",
       "      <td>0</td>\n",
       "      <td>0</td>\n",
       "      <td>113</td>\n",
       "      <td>POLYGON Z ((-76.23347 36.78440 0.00000, -76.23...</td>\n",
       "      <td>550040</td>\n",
       "    </tr>\n",
       "    <tr>\n",
       "      <th>81</th>\n",
       "      <td>710</td>\n",
       "      <td>Norfolk City</td>\n",
       "      <td>000403</td>\n",
       "      <td>Brambleton</td>\n",
       "      <td>005</td>\n",
       "      <td>892</td>\n",
       "      <td>0</td>\n",
       "      <td>0</td>\n",
       "      <td>3</td>\n",
       "      <td>POLYGON Z ((-76.28599 36.84207 0.00000, -76.28...</td>\n",
       "      <td>710403</td>\n",
       "    </tr>\n",
       "  </tbody>\n",
       "</table>\n",
       "</div>"
      ],
      "text/plain": [
       "   COUNTYFP         LOCALITY   VTDST     PRECINCT SOV_DIST  S16SOVDEM  \\\n",
       "23      550  Chesapeake City  000040  River Birch      005       1658   \n",
       "81      710     Norfolk City  000403   Brambleton      005        892   \n",
       "\n",
       "    S16SOVREP  S16SOVIND  S16SOVWRI  \\\n",
       "23          0          0        113   \n",
       "81          0          0          3   \n",
       "\n",
       "                                             geometry unique_id  \n",
       "23  POLYGON Z ((-76.23347 36.78440 0.00000, -76.23...    550040  \n",
       "81  POLYGON Z ((-76.28599 36.84207 0.00000, -76.28...    710403  "
      ]
     },
     "execution_count": 24,
     "metadata": {},
     "output_type": "execute_result"
    },
    {
     "data": {
      "image/png": "[encoded data removed]",
      "text/plain": [
       "<Figure size 432x288 with 1 Axes>"
      ]
     },
     "metadata": {
      "needs_background": "light"
     },
     "output_type": "display_data"
    },
    {
     "data": {
      "image/png": "[encoded data removed]",
      "text/plain": [
       "<Figure size 432x288 with 1 Axes>"
      ]
     },
     "metadata": {
      "needs_background": "light"
     },
     "output_type": "display_data"
    },
    {
     "data": {
      "image/png": "[encoded data removed]",
      "text/plain": [
       "<Figure size 432x288 with 1 Axes>"
      ]
     },
     "metadata": {
      "needs_background": "light"
     },
     "output_type": "display_data"
    }
   ],
   "source": [
    "print('in shp not in vest file:', (set(shp.COUNTYFP_1 + shp.VTDST.str.slice(start = 3)) - set(final.COUNTYFP + final.VTDST.str.slice(start = 3))))\n",
    "print('in vest file not in shp: ', (set(final.COUNTYFP + final.VTDST.str.slice(start = 3)) - set(shp.COUNTYFP_1 + shp.VTDST.str.slice(start = 3))))\n",
    "\n",
    "#assign shp unique id\n",
    "shp['unique_id'] = shp['COUNTYFP_1'] + shp['VTDST'].str.slice(start = 3)\n",
    "#look into discrepencies\n",
    "shp[shp['unique_id'] == '710511'].plot()\n",
    "final[(final['unique_id'] == '710403')].plot() #(final['unique_id'] == '710218')] |  | (final['unique_id'] == '710203')\n",
    "#Within county none match up\n",
    "final[final['unique_id'].isin(list(set(df_with_absentee_reallocated.unique_id) - set(shp.unique_id)))].plot()\n",
    "final[final['unique_id'].isin(list(set(df_with_absentee_reallocated.unique_id) - set(shp.unique_id)))]"
   ]
  },
  {
   "cell_type": "code",
   "execution_count": 43,
   "metadata": {},
   "outputs": [
    {
     "data": {
      "text/plain": [
       "['Chrysler Museum',\n",
       " 'HUNTERSVILLE',\n",
       " 'Barron Black',\n",
       " 'Lake Drummond',\n",
       " 'Deep Creek',\n",
       " 'Oak Grove',\n",
       " 'Lamberts Point',\n",
       " 'Park Place',\n",
       " 'Larrymore',\n",
       " 'Crossroads',\n",
       " 'Berkeley D Part 2',\n",
       " 'WALLER MILL']"
      ]
     },
     "execution_count": 43,
     "metadata": {},
     "output_type": "execute_result"
    }
   ],
   "source": [
    "list(shp['NAME_2'][shp.unique_id.isin(list(set(shp.COUNTYFP_1 + shp.VTDST.str.slice(start = 3)) - set(final.COUNTYFP + final.VTDST.str.slice(start = 3))))])"
   ]
  },
  {
   "cell_type": "markdown",
   "metadata": {},
   "source": [
    "### Join election results and shapefile"
   ]
  },
  {
   "cell_type": "code",
   "execution_count": 25,
   "metadata": {},
   "outputs": [
    {
     "data": {
      "text/plain": [
       "<AxesSubplot:>"
      ]
     },
     "execution_count": 25,
     "metadata": {},
     "output_type": "execute_result"
    },
    {
     "data": {
      "image/png": "[encoded data removed]",
      "text/plain": [
       "<Figure size 432x288 with 1 Axes>"
      ]
     },
     "metadata": {
      "needs_background": "light"
     },
     "output_type": "display_data"
    },
    {
     "data": {
      "image/png": "[encoded data removed]",
      "text/plain": [
       "<Figure size 432x288 with 1 Axes>"
      ]
     },
     "metadata": {
      "needs_background": "light"
     },
     "output_type": "display_data"
    }
   ],
   "source": [
    "join = gpd.GeoDataFrame(pd.merge(df_with_absentee_reallocated, shp, on = 'unique_id', how = 'outer'), crs = proj)\n",
    "join.plot()\n",
    "final.plot()"
   ]
  },
  {
   "cell_type": "markdown",
   "metadata": {},
   "source": [
    "# Validation "
   ]
  },
  {
   "cell_type": "markdown",
   "metadata": {},
   "source": [
    "## Validating Shapefile"
   ]
  },
  {
   "cell_type": "markdown",
   "metadata": {},
   "source": [
    "Here, I merge the shp joined to the election results to the final file to compare"
   ]
  },
  {
   "cell_type": "code",
   "execution_count": 26,
   "metadata": {},
   "outputs": [
    {
     "name": "stderr",
     "output_type": "stream",
     "text": [
      "/Users/lilyfalk/anaconda3/envs/pdv_env/lib/python3.9/site-packages/geopandas/base.py:32: UserWarning: The indices of the two GeoSeries are different.\n",
      "  warn(\"The indices of the two GeoSeries are different.\")\n"
     ]
    }
   ],
   "source": [
    "shp_final_merge = pd.merge(join, final, on = 'unique_id', how = 'outer', suffixes = ['_x', '_y'],indicator=True)\n",
    "\n",
    "join['geometry'].geom_almost_equals(final['geometry'], decimal = 0)\n",
    "\n",
    "shp_shapes = gpd.GeoDataFrame(shp_final_merge, geometry = 'geometry_x')\n",
    "final_shapes = gpd.GeoDataFrame(shp_final_merge, geometry = 'geometry_y')\n",
    "vals = shp_shapes.geom_almost_equals(final_shapes, decimal = 0)"
   ]
  },
  {
   "cell_type": "code",
   "execution_count": 27,
   "metadata": {},
   "outputs": [
    {
     "name": "stdout",
     "output_type": "stream",
     "text": [
      "False    97\n",
      "True      1\n",
      "dtype: int64\n"
     ]
    }
   ],
   "source": [
    "both = shp_final_merge[shp_final_merge[\"_merge\"]==\"both\"]\n",
    "source_geoms = gpd.GeoDataFrame(both,geometry=\"geometry_x\",crs=final.crs)\n",
    "vest_geoms = gpd.GeoDataFrame(both,geometry=\"geometry_y\",crs=final.crs)\n",
    "source_geoms = source_geoms.to_crs(3857)\n",
    "vest_geoms = vest_geoms.to_crs(3857)\n",
    "source_geoms[\"geometry_x\"]=source_geoms.buffer(0)\n",
    "vest_geoms[\"geometry_y\"]=vest_geoms.buffer(0)\n",
    "vals = source_geoms.geom_almost_equals(vest_geoms,decimal=0)\n",
    "print(vals.value_counts())"
   ]
  },
  {
   "cell_type": "code",
   "execution_count": 28,
   "metadata": {},
   "outputs": [
    {
     "name": "stdout",
     "output_type": "stream",
     "text": [
      "1) For 15 - B M Williams difference in area is 1.1465840915872152\n"
     ]
    },
    {
     "data": {
      "image/png": "[encoded data removed]",
      "text/plain": [
       "<Figure size 432x288 with 1 Axes>"
      ]
     },
     "metadata": {
      "needs_background": "light"
     },
     "output_type": "display_data"
    }
   ],
   "source": [
    "count = 0\n",
    "area_list = []\n",
    "big_diff = pd.DataFrame(columns=[\"area\"])\n",
    "for i in range(0,len(source_geoms)):\n",
    "    diff = source_geoms.iloc[[i]].symmetric_difference(vest_geoms.iloc[[i]])\n",
    "    intersection = source_geoms.iloc[[i]].intersection(vest_geoms.iloc[[i]])\n",
    "    area = float(diff.area/10e6)\n",
    "    area_list.append(area)\n",
    "    #print(\"Area is \" + str(area))\n",
    "\n",
    "    if (area > 1):\n",
    "        count += 1\n",
    "        name = source_geoms.at[i,\"Pct\"]\n",
    "        big_diff.loc[name]=area\n",
    "        print(str(count)+\") For \" + name + \" difference in area is \" + str(area))\n",
    "        if (intersection.iloc[0].is_empty):\n",
    "            base = diff.plot(color=\"red\")\n",
    "            source_geoms.iloc[[i]].plot(color=\"orange\",ax=base)\n",
    "            vest_geoms.iloc[[i]].plot(color=\"blue\",ax=base)\n",
    "            base.set_title(name)\n",
    "        else:\n",
    "            base = diff.plot(color=\"red\")\n",
    "            source_geoms.iloc[[i]].plot(color=\"orange\",ax=base)\n",
    "            vest_geoms.iloc[[i]].plot(color=\"blue\",ax=base)\n",
    "            intersection.plot(color=\"green\",ax=base)\n",
    "            base.set_title(name)"
   ]
  },
  {
   "cell_type": "code",
   "execution_count": 29,
   "metadata": {},
   "outputs": [
    {
     "name": "stdout",
     "output_type": "stream",
     "text": [
      "(98, 1)\n",
      "58 precincts w/ a difference of 0 km^2\n",
      "29 precincts w/ a difference between 0 and .1 km^2\n",
      "6 precincts w/ a difference between .1 and .5 km^2\n",
      "2 precincts w/ a difference between .5 and 1 km^2\n",
      "1 precincts w/ a difference between 1 and 2 km^2\n",
      "0 precincts w/ a difference between 2 and 5 km^2\n",
      "0 precincts w/ a difference greater than 5 km^2\n"
     ]
    }
   ],
   "source": [
    "df = pd.DataFrame(area_list)\n",
    "print(df.shape)\n",
    "\n",
    "print(str(len(df[df[0]==0]))+\" precincts w/ a difference of 0 km^2\")\n",
    "print(str(len(df[(df[0]<.1) & (df[0]>0)]))+ \" precincts w/ a difference between 0 and .1 km^2\")\n",
    "print(str(len(df[(df[0]<.5) & (df[0]>=.1)]))+ \" precincts w/ a difference between .1 and .5 km^2\")\n",
    "print(str(len(df[(df[0]<1) & (df[0]>=.5)]))+ \" precincts w/ a difference between .5 and 1 km^2\")\n",
    "print(str(len(df[(df[0]<2) & (df[0]>=1)]))+ \" precincts w/ a difference between 1 and 2 km^2\")\n",
    "print(str(len(df[(df[0]<5) & (df[0]>=2)]))+ \" precincts w/ a difference between 2 and 5 km^2\")\n",
    "print(str(len(df[(df[0]>=5)]))+ \" precincts w/ a difference greater than 5 km^2\")"
   ]
  },
  {
   "cell_type": "markdown",
   "metadata": {},
   "source": [
    "## Validating Election Results"
   ]
  },
  {
   "cell_type": "code",
   "execution_count": 31,
   "metadata": {},
   "outputs": [],
   "source": [
    "def validater_row (df, column_List):\n",
    "    matching_rows = 0\n",
    "    different_rows = 0\n",
    "    diff_list=[]\n",
    "    diff_values = []\n",
    "    max_diff = 0\n",
    "    for j in range(0,len(df.index)):\n",
    "        same = True\n",
    "        for i in column_List:\n",
    "            left_Data = i + \"_x\"\n",
    "            right_Data = i + \"_y\"\n",
    "            diff = abs(df.iloc[j][left_Data]-df.iloc[j][right_Data])\n",
    "            if(diff >0):\n",
    "                if(diff>0):\n",
    "                    print(i, \"{:.>72}\".format(df.iloc[j][\"unique_id\"]), \"(V)\",\"{:.>5}\".format(int(df.iloc[j][right_Data])),\" (S){:.>5}\".format(int(df.iloc[j][left_Data])),\"(D):{:>5}\".format(int(df.iloc[j][right_Data])-int(df.iloc[j][left_Data])))           \n",
    "                #print(df.iloc[j]['countypct'])\n",
    "                \n",
    "                diff_values.append(abs(diff))\n",
    "                same = False\n",
    "                if(np.isnan(diff)):\n",
    "                    print(\"NaN value at diff is: \", df.iloc[j][\"unique_id\"])\n",
    "                    print(df.iloc[j][left_Data])\n",
    "                    print(df.iloc[j][right_Data])\n",
    "                if (diff>max_diff):\n",
    "                    max_diff = diff\n",
    "                    #print(\"New max diff is: \", str(max_diff))\n",
    "                    #print(df.iloc[j]['cty_pct'])\n",
    "        if(same != True):\n",
    "            different_rows +=1\n",
    "            diff_list.append(df.iloc[j][\"unique_id\"])\n",
    "        else:\n",
    "            matching_rows +=1\n",
    "    print(\"\")\n",
    "    print(\"There are \", len(df.index),\" total rows\")\n",
    "    print(different_rows,\" of these rows have election result differences\")\n",
    "    print(matching_rows,\" of these rows are the same\")\n",
    "    print(\"\")\n",
    "    print(\"The max difference between any one shared column in a row is: \", max_diff)\n",
    "    if(len(diff_values)!=0):\n",
    "        print(\"The average difference is: \", str(sum(diff_values)/len(diff_values)))\n",
    "    count_big_diff = len([i for i in diff_values if i > 10])\n",
    "    print(\"There are \", str(count_big_diff), \"precinct results with a difference greater than 10\")\n",
    "    diff_list.sort()\n",
    "    print(diff_list)"
   ]
  },
  {
   "cell_type": "code",
   "execution_count": 34,
   "metadata": {},
   "outputs": [
    {
     "name": "stdout",
     "output_type": "stream",
     "text": [
      "S16SOVREP ..................................................................650204 (V) ..144  (S)..143 (D):    1\n",
      "S16SOVREP ..................................................................650214 (V) ..843  (S)..844 (D):   -1\n",
      "S16SOVREP ..................................................................095201 (V) ..319  (S)..318 (D):    1\n",
      "S16SOVREP ..................................................................095202 (V) ..994  (S)..995 (D):   -1\n",
      "S16SOVDEM ..................................................................095501 (V) ..927  (S)..926 (D):    1\n",
      "S16SOVREP ..................................................................095501 (V) ..363  (S)..362 (D):    1\n",
      "S16SOVDEM ..................................................................095503 (V) ..312  (S)..313 (D):   -1\n",
      "S16SOVREP ..................................................................095503 (V) ..135  (S)..136 (D):   -1\n",
      "S16SOVDEM ..................................................................700103 (V) .1508  (S).1509 (D):   -1\n",
      "S16SOVREP ..................................................................700103 (V) ..852  (S)..851 (D):    1\n",
      "S16SOVIND ..................................................................700103 (V) ..106  (S)..107 (D):   -1\n",
      "S16SOVREP ..................................................................700104 (V) ..397  (S)..398 (D):   -1\n",
      "S16SOVREP ..................................................................700105 (V) ..237  (S)..238 (D):   -1\n",
      "S16SOVIND ..................................................................700106 (V) ..119  (S)..118 (D):    1\n",
      "S16SOVDEM ..................................................................700107 (V) .1688  (S).1687 (D):    1\n",
      "S16SOVREP ..................................................................700107 (V) ..954  (S)..953 (D):    1\n",
      "S16SOVDEM ..................................................................700108 (V) .1385  (S).1386 (D):   -1\n",
      "S16SOVREP ..................................................................700109 (V) ..496  (S)..497 (D):   -1\n",
      "S16SOVIND ..................................................................700109 (V) ...55  (S)...56 (D):   -1\n",
      "S16SOVREP ..................................................................700110 (V) ..568  (S)..569 (D):   -1\n",
      "S16SOVDEM ..................................................................700201 (V) ..345  (S)..346 (D):   -1\n",
      "S16SOVREP ..................................................................700202 (V) ..880  (S)..879 (D):    1\n",
      "S16SOVIND ..................................................................700202 (V) ...87  (S)...88 (D):   -1\n",
      "S16SOVIND ..................................................................700204 (V) ..129  (S)..128 (D):    1\n",
      "S16SOVREP ..................................................................700208 (V) ..709  (S)..708 (D):    1\n",
      "S16SOVREP ..................................................................700209 (V) ..810  (S)..809 (D):    1\n",
      "S16SOVIND ..................................................................700209 (V) ..113  (S)..112 (D):    1\n",
      "S16SOVIND ..................................................................700210 (V) ..117  (S)..116 (D):    1\n",
      "S16SOVREP ..................................................................700211 (V) ..722  (S)..721 (D):    1\n",
      "S16SOVREP ..................................................................700212 (V) ..665  (S)..664 (D):    1\n",
      "S16SOVDEM ..................................................................700213 (V) ..310  (S)..311 (D):   -1\n",
      "S16SOVDEM ..................................................................700215 (V) ..584  (S)..583 (D):    1\n",
      "S16SOVREP ..................................................................700215 (V) ..408  (S)..409 (D):   -1\n",
      "S16SOVDEM ..................................................................700216 (V) ..596  (S)..595 (D):    1\n",
      "S16SOVREP ..................................................................700216 (V) ..648  (S)..647 (D):    1\n",
      "S16SOVDEM ..................................................................700217 (V) ..804  (S)..803 (D):    1\n",
      "S16SOVIND ..................................................................700218 (V) ..104  (S)..105 (D):   -1\n",
      "S16SOVREP ..................................................................700303 (V) ..267  (S)..268 (D):   -1\n",
      "S16SOVREP ..................................................................700314 (V) ..365  (S)..366 (D):   -1\n",
      "S16SOVIND ..................................................................700314 (V) ...43  (S)...44 (D):   -1\n",
      "S16SOVREP ..................................................................700315 (V) ..644  (S)..645 (D):   -1\n",
      "S16SOVIND ..................................................................700320 (V) ..131  (S)..130 (D):    1\n",
      "S16SOVREP ..................................................................830001 (V) .1064  (S).1063 (D):    1\n",
      "S16SOVREP ..................................................................830002 (V) ..980  (S)..981 (D):   -1\n",
      "S16SOVREP ..................................................................199101 (V) ..876  (S)..877 (D):   -1\n",
      "S16SOVREP ..................................................................199103 (V) ..925  (S)..924 (D):    1\n",
      "S16SOVDEM ..................................................................550008 (V) .1645  (S).1646 (D):   -1\n",
      "S16SOVDEM ..................................................................550012 (V) .1459  (S).1460 (D):   -1\n",
      "S16SOVDEM ..................................................................550030 (V) ..945  (S)..944 (D):    1\n",
      "S16SOVDEM ..................................................................550040 (V) .1658  (S).1657 (D):    1\n",
      "S16SOVDEM ..................................................................550045 (V) ..534  (S)..535 (D):   -1\n",
      "S16SOVDEM ..................................................................550055 (V) ..989  (S)..988 (D):    1\n",
      "S16SOVDEM ..................................................................710214 (V) .1618  (S).1617 (D):    1\n",
      "S16SOVWRI ..................................................................710218 (V) ..131  (S)..130 (D):    1\n",
      "S16SOVDEM ..................................................................710301 (V) .1467  (S).1468 (D):   -1\n",
      "S16SOVDEM ..................................................................710302 (V) ..937  (S)..938 (D):   -1\n",
      "S16SOVDEM ..................................................................710306 (V) ..983  (S)..982 (D):    1\n",
      "S16SOVDEM ..................................................................710310 (V) .2151  (S).2152 (D):   -1\n",
      "S16SOVDEM ..................................................................710311 (V) .2255  (S).2256 (D):   -1\n",
      "S16SOVDEM ..................................................................710404 (V) .1247  (S).1246 (D):    1\n",
      "S16SOVDEM ..................................................................710411 (V) ..524  (S)..523 (D):    1\n",
      "S16SOVWRI ..................................................................710415 (V) ...58  (S)...59 (D):   -1\n",
      "\n",
      "There are  110  total rows\n",
      "51  of these rows have election result differences\n",
      "59  of these rows are the same\n",
      "\n",
      "The max difference between any one shared column in a row is:  1.0\n",
      "The average difference is:  1.0\n",
      "There are  0 precinct results with a difference greater than 10\n",
      "['095201', '095202', '095501', '095503', '199101', '199103', '550008', '550012', '550030', '550040', '550045', '550055', '650204', '650214', '700103', '700104', '700105', '700106', '700107', '700108', '700109', '700110', '700201', '700202', '700204', '700208', '700209', '700210', '700211', '700212', '700213', '700215', '700216', '700217', '700218', '700303', '700314', '700315', '700320', '710214', '710218', '710301', '710302', '710306', '710310', '710311', '710404', '710411', '710415', '830001', '830002']\n"
     ]
    }
   ],
   "source": [
    "column_list = ['S16SOVDEM', 'S16SOVREP', 'S16SOVIND', 'S16SOVWRI']\n",
    "final_join_merge = pd.merge(join, final, on = 'unique_id', how = 'outer', suffixes = ['_x', '_y'])\n",
    "validater_row(final_join_merge, column_list)"
   ]
  },
  {
   "cell_type": "code",
   "execution_count": 37,
   "metadata": {},
   "outputs": [
    {
     "data": {
      "text/plain": [
       "(98, 11)"
      ]
     },
     "execution_count": 37,
     "metadata": {},
     "output_type": "execute_result"
    }
   ],
   "source": [
    "final.shape"
   ]
  },
  {
   "cell_type": "code",
   "execution_count": 38,
   "metadata": {},
   "outputs": [
    {
     "data": {
      "text/plain": [
       "(98, 24)"
      ]
     },
     "execution_count": 38,
     "metadata": {},
     "output_type": "execute_result"
    }
   ],
   "source": [
    "df_with_absentee_reallocated.shape"
   ]
  },
  {
   "cell_type": "code",
   "execution_count": 39,
   "metadata": {},
   "outputs": [
    {
     "data": {
      "text/plain": [
       "(110, 66)"
      ]
     },
     "execution_count": 39,
     "metadata": {},
     "output_type": "execute_result"
    }
   ],
   "source": [
    "join.shape"
   ]
  },
  {
   "cell_type": "code",
   "execution_count": 40,
   "metadata": {},
   "outputs": [
    {
     "data": {
      "text/plain": [
       "(108, 43)"
      ]
     },
     "execution_count": 40,
     "metadata": {},
     "output_type": "execute_result"
    }
   ],
   "source": [
    "shp.shape"
   ]
  },
  {
   "cell_type": "code",
   "execution_count": null,
   "metadata": {},
   "outputs": [],
   "source": []
  }
 ],
 "metadata": {
  "kernelspec": {
   "display_name": "pdv_env",
   "language": "python",
   "name": "pdv_env"
  },
  "language_info": {
   "codemirror_mode": {
    "name": "ipython",
    "version": 3
   },
   "file_extension": ".py",
   "mimetype": "text/x-python",
   "name": "python",
   "nbconvert_exporter": "python",
   "pygments_lexer": "ipython3",
   "version": "3.9.4"
  }
 },
 "nbformat": 4,
 "nbformat_minor": 4
}
