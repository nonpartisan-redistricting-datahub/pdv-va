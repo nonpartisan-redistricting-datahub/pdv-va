{
 "cells": [
  {
   "cell_type": "code",
   "execution_count": 4,
   "metadata": {},
   "outputs": [],
   "source": [
    "import pandas as pd\n",
    "import geopandas as gpd\n",
    "import matplotlib.pyplot as plt\n",
    "import maup\n",
    "from zipfile import ZipFile\n",
    "import numpy as np\n",
    "import os\n",
    "import shutil"
   ]
  },
  {
   "cell_type": "markdown",
   "metadata": {},
   "source": [
    "# State Senate Special"
   ]
  },
  {
   "cell_type": "markdown",
   "metadata": {},
   "source": [
    "## Final File Load"
   ]
  },
  {
   "cell_type": "code",
   "execution_count": 5,
   "metadata": {},
   "outputs": [
    {
     "data": {
      "text/plain": [
       "'/Users/lilyfalk/sandbox/pdv-va'"
      ]
     },
     "execution_count": 5,
     "metadata": {},
     "output_type": "execute_result"
    }
   ],
   "source": [
    "pwd"
   ]
  },
  {
   "cell_type": "code",
   "execution_count": 6,
   "metadata": {},
   "outputs": [
    {
     "data": {
      "text/html": [
       "<div>\n",
       "<style scoped>\n",
       "    .dataframe tbody tr th:only-of-type {\n",
       "        vertical-align: middle;\n",
       "    }\n",
       "\n",
       "    .dataframe tbody tr th {\n",
       "        vertical-align: top;\n",
       "    }\n",
       "\n",
       "    .dataframe thead th {\n",
       "        text-align: right;\n",
       "    }\n",
       "</style>\n",
       "<table border=\"1\" class=\"dataframe\">\n",
       "  <thead>\n",
       "    <tr style=\"text-align: right;\">\n",
       "      <th></th>\n",
       "      <th>COUNTYFP</th>\n",
       "      <th>LOCALITY</th>\n",
       "      <th>VTDST</th>\n",
       "      <th>PRECINCT</th>\n",
       "      <th>SOV_DIST</th>\n",
       "      <th>S16SOVDEM</th>\n",
       "      <th>S16SOVREP</th>\n",
       "      <th>S16SOVIND</th>\n",
       "      <th>S16SOVWRI</th>\n",
       "      <th>geometry</th>\n",
       "    </tr>\n",
       "  </thead>\n",
       "  <tbody>\n",
       "    <tr>\n",
       "      <th>0</th>\n",
       "      <td>095</td>\n",
       "      <td>James City County</td>\n",
       "      <td>000304</td>\n",
       "      <td>Powhatan D</td>\n",
       "      <td>001</td>\n",
       "      <td>1369</td>\n",
       "      <td>1078</td>\n",
       "      <td>85</td>\n",
       "      <td>2</td>\n",
       "      <td>POLYGON Z ((-76.76694 37.33789 0.00000, -76.76...</td>\n",
       "    </tr>\n",
       "    <tr>\n",
       "      <th>1</th>\n",
       "      <td>095</td>\n",
       "      <td>James City County</td>\n",
       "      <td>000302</td>\n",
       "      <td>Powhatan B</td>\n",
       "      <td>001</td>\n",
       "      <td>561</td>\n",
       "      <td>394</td>\n",
       "      <td>34</td>\n",
       "      <td>0</td>\n",
       "      <td>POLYGON Z ((-76.78970 37.32426 0.00000, -76.78...</td>\n",
       "    </tr>\n",
       "    <tr>\n",
       "      <th>2</th>\n",
       "      <td>095</td>\n",
       "      <td>James City County</td>\n",
       "      <td>000501</td>\n",
       "      <td>Roberts A</td>\n",
       "      <td>001</td>\n",
       "      <td>927</td>\n",
       "      <td>363</td>\n",
       "      <td>41</td>\n",
       "      <td>1</td>\n",
       "      <td>POLYGON Z ((-76.65883 37.20304 0.00000, -76.64...</td>\n",
       "    </tr>\n",
       "    <tr>\n",
       "      <th>3</th>\n",
       "      <td>095</td>\n",
       "      <td>James City County</td>\n",
       "      <td>000503</td>\n",
       "      <td>Roberts C</td>\n",
       "      <td>001</td>\n",
       "      <td>312</td>\n",
       "      <td>135</td>\n",
       "      <td>25</td>\n",
       "      <td>2</td>\n",
       "      <td>POLYGON Z ((-76.68089 37.26080 0.00000, -76.68...</td>\n",
       "    </tr>\n",
       "    <tr>\n",
       "      <th>4</th>\n",
       "      <td>199</td>\n",
       "      <td>York County</td>\n",
       "      <td>000101</td>\n",
       "      <td>QUEENS LAKE</td>\n",
       "      <td>001</td>\n",
       "      <td>847</td>\n",
       "      <td>876</td>\n",
       "      <td>48</td>\n",
       "      <td>3</td>\n",
       "      <td>POLYGON Z ((-76.68479 37.27077 0.00000, -76.68...</td>\n",
       "    </tr>\n",
       "  </tbody>\n",
       "</table>\n",
       "</div>"
      ],
      "text/plain": [
       "  COUNTYFP           LOCALITY   VTDST     PRECINCT SOV_DIST  S16SOVDEM  \\\n",
       "0      095  James City County  000304   Powhatan D      001       1369   \n",
       "1      095  James City County  000302   Powhatan B      001        561   \n",
       "2      095  James City County  000501    Roberts A      001        927   \n",
       "3      095  James City County  000503    Roberts C      001        312   \n",
       "4      199        York County  000101  QUEENS LAKE      001        847   \n",
       "\n",
       "   S16SOVREP  S16SOVIND  S16SOVWRI  \\\n",
       "0       1078         85          2   \n",
       "1        394         34          0   \n",
       "2        363         41          1   \n",
       "3        135         25          2   \n",
       "4        876         48          3   \n",
       "\n",
       "                                            geometry  \n",
       "0  POLYGON Z ((-76.76694 37.33789 0.00000, -76.76...  \n",
       "1  POLYGON Z ((-76.78970 37.32426 0.00000, -76.78...  \n",
       "2  POLYGON Z ((-76.65883 37.20304 0.00000, -76.64...  \n",
       "3  POLYGON Z ((-76.68089 37.26080 0.00000, -76.68...  \n",
       "4  POLYGON Z ((-76.68479 37.27077 0.00000, -76.68...  "
      ]
     },
     "execution_count": 6,
     "metadata": {},
     "output_type": "execute_result"
    }
   ],
   "source": [
    "final = gpd.read_file('./vest_va_2016/va_2016_statesenate_special/va_2016_statesenate_special.shp')\n",
    "final.head()"
   ]
  },
  {
   "cell_type": "code",
   "execution_count": 7,
   "metadata": {},
   "outputs": [],
   "source": [
    "county_dict = pd.Series(final['COUNTYFP'].values, index = final['LOCALITY']).to_dict()"
   ]
  },
  {
   "cell_type": "markdown",
   "metadata": {},
   "source": [
    "# Election Results"
   ]
  },
  {
   "cell_type": "markdown",
   "metadata": {},
   "source": [
    "## District 1"
   ]
  },
  {
   "cell_type": "code",
   "execution_count": 8,
   "metadata": {},
   "outputs": [],
   "source": [
    "df1 = pd.read_csv('./vest_va_2016/Virginia_Elections_Database__2016_Senate_of_Virginia_General_Election_District_1_including_precincts.csv')"
   ]
  },
  {
   "cell_type": "code",
   "execution_count": 9,
   "metadata": {},
   "outputs": [
    {
     "data": {
      "text/html": [
       "<div>\n",
       "<style scoped>\n",
       "    .dataframe tbody tr th:only-of-type {\n",
       "        vertical-align: middle;\n",
       "    }\n",
       "\n",
       "    .dataframe tbody tr th {\n",
       "        vertical-align: top;\n",
       "    }\n",
       "\n",
       "    .dataframe thead th {\n",
       "        text-align: right;\n",
       "    }\n",
       "</style>\n",
       "<table border=\"1\" class=\"dataframe\">\n",
       "  <thead>\n",
       "    <tr style=\"text-align: right;\">\n",
       "      <th></th>\n",
       "      <th>County/City</th>\n",
       "      <th>Ward</th>\n",
       "      <th>Pct</th>\n",
       "      <th>Taylor Montgomery Mason</th>\n",
       "      <th>Thomas Richard Holston</th>\n",
       "      <th>John Bernard Bloom</th>\n",
       "      <th>All Others</th>\n",
       "      <th>Total Votes Cast</th>\n",
       "    </tr>\n",
       "  </thead>\n",
       "  <tbody>\n",
       "    <tr>\n",
       "      <th>0</th>\n",
       "      <td>NaN</td>\n",
       "      <td>NaN</td>\n",
       "      <td>NaN</td>\n",
       "      <td>Democratic</td>\n",
       "      <td>Republican</td>\n",
       "      <td>Independent</td>\n",
       "      <td>NaN</td>\n",
       "      <td>NaN</td>\n",
       "    </tr>\n",
       "    <tr>\n",
       "      <th>1</th>\n",
       "      <td>Hampton City</td>\n",
       "      <td>-</td>\n",
       "      <td>204 - Forrest</td>\n",
       "      <td>209</td>\n",
       "      <td>132</td>\n",
       "      <td>11</td>\n",
       "      <td>0.0</td>\n",
       "      <td>352</td>\n",
       "    </tr>\n",
       "    <tr>\n",
       "      <th>2</th>\n",
       "      <td>Hampton City</td>\n",
       "      <td>-</td>\n",
       "      <td>208 - Kraft</td>\n",
       "      <td>1,601</td>\n",
       "      <td>1,081</td>\n",
       "      <td>146</td>\n",
       "      <td>9.0</td>\n",
       "      <td>2,837</td>\n",
       "    </tr>\n",
       "    <tr>\n",
       "      <th>3</th>\n",
       "      <td>Hampton City</td>\n",
       "      <td>-</td>\n",
       "      <td>214 - Tucker Capps</td>\n",
       "      <td>1,348</td>\n",
       "      <td>777</td>\n",
       "      <td>93</td>\n",
       "      <td>11.0</td>\n",
       "      <td>2,229</td>\n",
       "    </tr>\n",
       "    <tr>\n",
       "      <th>4</th>\n",
       "      <td>Hampton City</td>\n",
       "      <td>-</td>\n",
       "      <td>Ab - Central Absentee Precinct</td>\n",
       "      <td>362</td>\n",
       "      <td>165</td>\n",
       "      <td>20</td>\n",
       "      <td>37.0</td>\n",
       "      <td>584</td>\n",
       "    </tr>\n",
       "  </tbody>\n",
       "</table>\n",
       "</div>"
      ],
      "text/plain": [
       "    County/City Ward                             Pct Taylor Montgomery Mason  \\\n",
       "0           NaN  NaN                             NaN              Democratic   \n",
       "1  Hampton City    -                   204 - Forrest                     209   \n",
       "2  Hampton City    -                     208 - Kraft                   1,601   \n",
       "3  Hampton City    -              214 - Tucker Capps                   1,348   \n",
       "4  Hampton City    -  Ab - Central Absentee Precinct                     362   \n",
       "\n",
       "  Thomas Richard Holston John Bernard Bloom  All Others Total Votes Cast  \n",
       "0             Republican        Independent         NaN              NaN  \n",
       "1                    132                 11         0.0              352  \n",
       "2                  1,081                146         9.0            2,837  \n",
       "3                    777                 93        11.0            2,229  \n",
       "4                    165                 20        37.0              584  "
      ]
     },
     "execution_count": 9,
     "metadata": {},
     "output_type": "execute_result"
    }
   ],
   "source": [
    "df1.head()"
   ]
  },
  {
   "cell_type": "code",
   "execution_count": 10,
   "metadata": {},
   "outputs": [
    {
     "name": "stdout",
     "output_type": "stream",
     "text": [
      "7\n",
      "6\n"
     ]
    }
   ],
   "source": [
    "df1 = df1.iloc[1:]\n",
    "df1['SOV_DIST'] = '1'\n",
    "df1['LOCALITY'] = df1['County/City']\n",
    "df1['S16SOVDEM'] = df1['Taylor Montgomery Mason']\n",
    "df1['S16SOVREP'] = df1['Thomas Richard Holston']\n",
    "df1['S16SOVIND'] = df1['John Bernard Bloom']\n",
    "df1['S16SOVWRI'] = df1['All Others']\n",
    "df1 = df1.drop(['County/City', 'Taylor Montgomery Mason', 'Thomas Richard Holston', 'John Bernard Bloom', 'All Others', 'Ward'], axis = 1)\n",
    "\n",
    "df1['S16SOVDEM'] = df1['S16SOVDEM'].map(lambda x: str(x).replace(',', '')).astype(str).astype(float).astype(int)\n",
    "df1['S16SOVREP'] = df1['S16SOVREP'].map(lambda x: str(x).replace(',', '')).astype(str).astype(float).astype(int)\n",
    "df1['S16SOVIND'] = df1['S16SOVIND'].map(lambda x: str(x).replace(',', '')).astype(str).astype(float).astype(int)\n",
    "df1['S16SOVWRI'] = df1['S16SOVWRI'].map(lambda x: str(x).replace(',', '')).astype(str).astype(float).astype(int)\n",
    "\n",
    "print(df1.LOCALITY.nunique())\n",
    "df1['COUNTYFP'] = df1['LOCALITY'].map(county_dict)\n",
    "print(df1.COUNTYFP.nunique())"
   ]
  },
  {
   "cell_type": "code",
   "execution_count": 11,
   "metadata": {},
   "outputs": [
    {
     "data": {
      "text/html": [
       "<div>\n",
       "<style scoped>\n",
       "    .dataframe tbody tr th:only-of-type {\n",
       "        vertical-align: middle;\n",
       "    }\n",
       "\n",
       "    .dataframe tbody tr th {\n",
       "        vertical-align: top;\n",
       "    }\n",
       "\n",
       "    .dataframe thead th {\n",
       "        text-align: right;\n",
       "    }\n",
       "</style>\n",
       "<table border=\"1\" class=\"dataframe\">\n",
       "  <thead>\n",
       "    <tr style=\"text-align: right;\">\n",
       "      <th></th>\n",
       "      <th>S16SOVDEM</th>\n",
       "      <th>S16SOVREP</th>\n",
       "      <th>S16SOVIND</th>\n",
       "      <th>S16SOVWRI</th>\n",
       "    </tr>\n",
       "    <tr>\n",
       "      <th>COUNTYFP</th>\n",
       "      <th></th>\n",
       "      <th></th>\n",
       "      <th></th>\n",
       "      <th></th>\n",
       "    </tr>\n",
       "  </thead>\n",
       "  <tbody>\n",
       "    <tr>\n",
       "      <th>095</th>\n",
       "      <td>5083</td>\n",
       "      <td>3283</td>\n",
       "      <td>283</td>\n",
       "      <td>9</td>\n",
       "    </tr>\n",
       "    <tr>\n",
       "      <th>199</th>\n",
       "      <td>2325</td>\n",
       "      <td>1801</td>\n",
       "      <td>162</td>\n",
       "      <td>10</td>\n",
       "    </tr>\n",
       "    <tr>\n",
       "      <th>650</th>\n",
       "      <td>3524</td>\n",
       "      <td>2161</td>\n",
       "      <td>270</td>\n",
       "      <td>57</td>\n",
       "    </tr>\n",
       "    <tr>\n",
       "      <th>700</th>\n",
       "      <td>32019</td>\n",
       "      <td>21799</td>\n",
       "      <td>2487</td>\n",
       "      <td>193</td>\n",
       "    </tr>\n",
       "    <tr>\n",
       "      <th>800</th>\n",
       "      <td>1191</td>\n",
       "      <td>652</td>\n",
       "      <td>79</td>\n",
       "      <td>4</td>\n",
       "    </tr>\n",
       "    <tr>\n",
       "      <th>830</th>\n",
       "      <td>5109</td>\n",
       "      <td>2044</td>\n",
       "      <td>253</td>\n",
       "      <td>13</td>\n",
       "    </tr>\n",
       "  </tbody>\n",
       "</table>\n",
       "</div>"
      ],
      "text/plain": [
       "          S16SOVDEM  S16SOVREP  S16SOVIND  S16SOVWRI\n",
       "COUNTYFP                                            \n",
       "095            5083       3283        283          9\n",
       "199            2325       1801        162         10\n",
       "650            3524       2161        270         57\n",
       "700           32019      21799       2487        193\n",
       "800            1191        652         79          4\n",
       "830            5109       2044        253         13"
      ]
     },
     "execution_count": 11,
     "metadata": {},
     "output_type": "execute_result"
    }
   ],
   "source": [
    "df1.groupby(['COUNTYFP']).sum()"
   ]
  },
  {
   "cell_type": "markdown",
   "metadata": {},
   "source": [
    "## District 5"
   ]
  },
  {
   "cell_type": "code",
   "execution_count": 12,
   "metadata": {},
   "outputs": [],
   "source": [
    "df5 = pd.read_csv('./vest_va_2016/Virginia_Elections_Database__2016_Senate_of_Virginia_General_Election_District_5_including_precincts.csv')"
   ]
  },
  {
   "cell_type": "code",
   "execution_count": 13,
   "metadata": {},
   "outputs": [
    {
     "data": {
      "text/html": [
       "<div>\n",
       "<style scoped>\n",
       "    .dataframe tbody tr th:only-of-type {\n",
       "        vertical-align: middle;\n",
       "    }\n",
       "\n",
       "    .dataframe tbody tr th {\n",
       "        vertical-align: top;\n",
       "    }\n",
       "\n",
       "    .dataframe thead th {\n",
       "        text-align: right;\n",
       "    }\n",
       "</style>\n",
       "<table border=\"1\" class=\"dataframe\">\n",
       "  <thead>\n",
       "    <tr style=\"text-align: right;\">\n",
       "      <th></th>\n",
       "      <th>County/City</th>\n",
       "      <th>Ward</th>\n",
       "      <th>Pct</th>\n",
       "      <th>Lionell Spruill, Sr.</th>\n",
       "      <th>All Others</th>\n",
       "      <th>Total Votes Cast</th>\n",
       "    </tr>\n",
       "  </thead>\n",
       "  <tbody>\n",
       "    <tr>\n",
       "      <th>0</th>\n",
       "      <td>NaN</td>\n",
       "      <td>NaN</td>\n",
       "      <td>NaN</td>\n",
       "      <td>Democratic</td>\n",
       "      <td>NaN</td>\n",
       "      <td>NaN</td>\n",
       "    </tr>\n",
       "    <tr>\n",
       "      <th>1</th>\n",
       "      <td>Chesapeake City</td>\n",
       "      <td>-</td>\n",
       "      <td>3 - Camelot</td>\n",
       "      <td>1,881</td>\n",
       "      <td>24</td>\n",
       "      <td>1,905</td>\n",
       "    </tr>\n",
       "    <tr>\n",
       "      <th>2</th>\n",
       "      <td>Chesapeake City</td>\n",
       "      <td>-</td>\n",
       "      <td>5 - Crestwood</td>\n",
       "      <td>1,427</td>\n",
       "      <td>33</td>\n",
       "      <td>1,460</td>\n",
       "    </tr>\n",
       "    <tr>\n",
       "      <th>3</th>\n",
       "      <td>Chesapeake City</td>\n",
       "      <td>-</td>\n",
       "      <td>8 - South Norfolk Recreation</td>\n",
       "      <td>1,422</td>\n",
       "      <td>70</td>\n",
       "      <td>1,492</td>\n",
       "    </tr>\n",
       "    <tr>\n",
       "      <th>4</th>\n",
       "      <td>Chesapeake City</td>\n",
       "      <td>-</td>\n",
       "      <td>10 - Oscar Smith</td>\n",
       "      <td>664</td>\n",
       "      <td>47</td>\n",
       "      <td>711</td>\n",
       "    </tr>\n",
       "  </tbody>\n",
       "</table>\n",
       "</div>"
      ],
      "text/plain": [
       "       County/City Ward                           Pct Lionell Spruill, Sr.  \\\n",
       "0              NaN  NaN                           NaN           Democratic   \n",
       "1  Chesapeake City    -                   3 - Camelot                1,881   \n",
       "2  Chesapeake City    -                 5 - Crestwood                1,427   \n",
       "3  Chesapeake City    -  8 - South Norfolk Recreation                1,422   \n",
       "4  Chesapeake City    -              10 - Oscar Smith                  664   \n",
       "\n",
       "  All Others Total Votes Cast  \n",
       "0        NaN              NaN  \n",
       "1         24            1,905  \n",
       "2         33            1,460  \n",
       "3         70            1,492  \n",
       "4         47              711  "
      ]
     },
     "execution_count": 13,
     "metadata": {},
     "output_type": "execute_result"
    }
   ],
   "source": [
    "df5.head()"
   ]
  },
  {
   "cell_type": "code",
   "execution_count": 14,
   "metadata": {},
   "outputs": [
    {
     "name": "stdout",
     "output_type": "stream",
     "text": [
      "3\n",
      "2\n"
     ]
    }
   ],
   "source": [
    "df5 = df5.iloc[1:]\n",
    "df5['SOV_DIST'] = '5'\n",
    "df5['LOCALITY'] = df5['County/City']\n",
    "df5['S16SOVDEM'] = df5['Lionell Spruill, Sr.']\n",
    "df5['S16SOVWRI'] = df5['All Others']\n",
    "df5 = df5.drop(['County/City', 'Lionell Spruill, Sr.', 'All Others', 'Ward'], axis = 1)\n",
    "\n",
    "df5['S16SOVDEM'] = df5['S16SOVDEM'].map(lambda x: str(x).replace(',', '')).astype(str).astype(float).astype(int)\n",
    "df5['S16SOVWRI'] = df5['S16SOVWRI'].map(lambda x: str(x).replace(',', '')).astype(str).astype(float).astype(int)\n",
    "\n",
    "print(df5.LOCALITY.nunique())\n",
    "df5['COUNTYFP'] = df5['LOCALITY'].map(county_dict)\n",
    "print(df5.COUNTYFP.nunique())"
   ]
  },
  {
   "cell_type": "markdown",
   "metadata": {},
   "source": [
    "## Districts 1 and 5 together"
   ]
  },
  {
   "cell_type": "code",
   "execution_count": 15,
   "metadata": {},
   "outputs": [],
   "source": [
    "elections = []\n",
    "elections.append(df1)\n",
    "elections.append(df5)\n",
    "\n",
    "df = pd.concat(elections, axis = 0)\n",
    "df = df[df['LOCALITY'] != 'TOTALS']\n",
    "df = df.reset_index()\n",
    "df = df.fillna(0)"
   ]
  },
  {
   "cell_type": "code",
   "execution_count": 16,
   "metadata": {},
   "outputs": [],
   "source": [
    "def get_absentee_frac(prec_tot, county_tot, absentee_tot):\n",
    "    '''A spec specifies in first line what function will do\n",
    "    Returns fraction of county absentee votes for a precinct for a candidate\n",
    "    \n",
    "    Keyword arguments: (put inputs to funtions and say what they should be)\n",
    "    precinct vote total for given candidate (int)\n",
    "    county vote total for given candidate, absentee and provisional votes not included (int)\n",
    "    absentee vote total for county for given candidate (int)\n",
    "    \n",
    "    \"Pure function\" bc only relies on inputs and outputs - only variables are ones that were passed as arguments\n",
    "    '''\n",
    "    if county_tot != 0:\n",
    "        prec_frac = prec_tot/county_tot\n",
    "        absentee_frac = prec_frac*absentee_tot\n",
    "    else:\n",
    "        absentee_frac = 0\n",
    "    return absentee_frac"
   ]
  },
  {
   "cell_type": "code",
   "execution_count": 17,
   "metadata": {},
   "outputs": [],
   "source": [
    "absentee_and_prov = df[(df['Pct'].map(lambda x: 'Absentee' in str(x))) | (df['Pct'].map(lambda x: 'Provisional' in str(x)))]\n",
    "groupby_absentee_and_prov_tot = absentee_and_prov.groupby(['COUNTYFP']).sum()\n",
    "groupby_county_df_tot = df.groupby(['COUNTYFP']).sum()\n",
    "df_no_absent_or_provisional = df[(df['Pct'].map(lambda x: 'Absentee' not in str(x))) & (df['Pct'].map(lambda x: 'Provisional' not in str(x)))\n",
    "                                & (df['LOCALITY'] != 'TOTALS')]\n",
    "groupby_county_tot_no_absentee = df_no_absent_or_provisional.groupby('COUNTYFP').sum()"
   ]
  },
  {
   "cell_type": "code",
   "execution_count": 18,
   "metadata": {},
   "outputs": [],
   "source": [
    "df_with_absentee_reallocated = df_no_absent_or_provisional.copy()\n",
    "for index, precinct_total_row_by_candidate in df_no_absent_or_provisional.iterrows():\n",
    "    #print(precinct_total_row_by_candidate)\n",
    "    county_fips = precinct_total_row_by_candidate['COUNTYFP']\n",
    "    county_total_row_by_candidate_no_absentee = groupby_county_tot_no_absentee.loc[county_fips]\n",
    "    county_absentee_and_provisional_by_candidate = groupby_absentee_and_prov_tot.loc[county_fips]\n",
    "    #print(precinct_total_row_by_candidate, county_total_row_by_candidate_no_absentee, county_absentee_and_provisional_by_candidate)\n",
    "    for candidate, votes in county_total_row_by_candidate_no_absentee.to_dict().items():\n",
    "        prec_tot = precinct_total_row_by_candidate[candidate]\n",
    "        #print('precinct total: ', prec_tot)\n",
    "        county_tot = votes\n",
    "        #print('county total: ', county_tot)\n",
    "        absentee_tot = county_absentee_and_provisional_by_candidate[candidate]\n",
    "        #print('absentee total: ', absentee_tot)\n",
    "        absentee_frac = get_absentee_frac(prec_tot, county_tot, absentee_tot)\n",
    "        #print('absentee votes to allocate to precinct: ', absentee_frac)\n",
    "        prec_with_absentee_allocation = round(prec_tot + absentee_frac)\n",
    "        #print('new precinct total: ', prec_with_absentee_allocation)\n",
    "        df_with_absentee_reallocated.loc[index, candidate] = round(prec_with_absentee_allocation) #index is row, candidate is column"
   ]
  },
  {
   "cell_type": "code",
   "execution_count": 19,
   "metadata": {},
   "outputs": [
    {
     "data": {
      "text/plain": [
       "(98, 10)"
      ]
     },
     "execution_count": 19,
     "metadata": {},
     "output_type": "execute_result"
    }
   ],
   "source": [
    "df_with_absentee_reallocated.shape"
   ]
  },
  {
   "cell_type": "code",
   "execution_count": 20,
   "metadata": {},
   "outputs": [
    {
     "data": {
      "text/plain": [
       "(98, 10)"
      ]
     },
     "execution_count": 20,
     "metadata": {},
     "output_type": "execute_result"
    }
   ],
   "source": [
    "final.shape"
   ]
  },
  {
   "cell_type": "code",
   "execution_count": 21,
   "metadata": {},
   "outputs": [
    {
     "data": {
      "text/plain": [
       "Index(['index', 'Pct', 'Total Votes Cast', 'SOV_DIST', 'LOCALITY', 'S16SOVDEM',\n",
       "       'S16SOVREP', 'S16SOVIND', 'S16SOVWRI', 'COUNTYFP'],\n",
       "      dtype='object')"
      ]
     },
     "execution_count": 21,
     "metadata": {},
     "output_type": "execute_result"
    }
   ],
   "source": [
    "df_with_absentee_reallocated.columns"
   ]
  },
  {
   "cell_type": "code",
   "execution_count": 22,
   "metadata": {},
   "outputs": [
    {
     "data": {
      "text/plain": [
       "700    34\n",
       "095     8\n",
       "650     5\n",
       "199     4\n",
       "830     4\n",
       "800     3\n",
       "Name: COUNTYFP, dtype: int64"
      ]
     },
     "execution_count": 22,
     "metadata": {},
     "output_type": "execute_result"
    }
   ],
   "source": [
    "df1.COUNTYFP.value_counts()"
   ]
  },
  {
   "cell_type": "code",
   "execution_count": 23,
   "metadata": {},
   "outputs": [
    {
     "data": {
      "text/plain": [
       "550    30\n",
       "710    26\n",
       "Name: COUNTYFP, dtype: int64"
      ]
     },
     "execution_count": 23,
     "metadata": {},
     "output_type": "execute_result"
    }
   ],
   "source": [
    "df5.COUNTYFP.value_counts()"
   ]
  },
  {
   "cell_type": "markdown",
   "metadata": {},
   "source": [
    "## Check Column sums"
   ]
  },
  {
   "cell_type": "code",
   "execution_count": 24,
   "metadata": {},
   "outputs": [],
   "source": [
    "column_list = ['S16SOVDEM', 'S16SOVREP', 'S16SOVIND', 'S16SOVWRI']"
   ]
  },
  {
   "cell_type": "code",
   "execution_count": 25,
   "metadata": {},
   "outputs": [],
   "source": [
    "groupby_county_final = final.groupby('COUNTYFP').sum()\n",
    "groupby_df_with_absentee_reallocated = df_with_absentee_reallocated.groupby('COUNTYFP').sum()\n",
    "df_absentee_reallocate_with_final = pd.merge(groupby_df_with_absentee_reallocated, groupby_county_final, on = 'COUNTYFP', how = 'inner', suffixes = ('_x', '_y'))"
   ]
  },
  {
   "cell_type": "code",
   "execution_count": 26,
   "metadata": {},
   "outputs": [],
   "source": [
    "def sum_checker(df, column_list):\n",
    "    list_max = 0\n",
    "    for i in column_list:\n",
    "        left_sum = df[i+'_x'].sum()\n",
    "        right_sum = df[i+'_y'].sum()\n",
    "        if (left_sum == right_sum):\n",
    "            print('column: ', i, ' have the same sums')\n",
    "        \n",
    "        else:\n",
    "            diff = abs(left_sum - right_sum)\n",
    "            percent = abs(left_sum - right_sum)/left_sum\n",
    "            print('column: ', i)\n",
    "            print('RDH sum is ', str(left_sum))\n",
    "            print('Partner sum is ', str(right_sum))\n",
    "            print('their (absolute) difference is ', str(diff))\n",
    "            print('As a percentage of DF1 this is ', str(round(percent*100,5)) + '%')\n",
    "            if (percent>list_max):\n",
    "                list_max = percent\n",
    "            print('')\n",
    "    print('The max difference (as a percent of the total of on DF column is: ', str(round(list_max,5)))"
   ]
  },
  {
   "cell_type": "code",
   "execution_count": 27,
   "metadata": {},
   "outputs": [
    {
     "name": "stdout",
     "output_type": "stream",
     "text": [
      "column:  S16SOVDEM\n",
      "RDH sum is  116241.0\n",
      "Partner sum is  116240\n",
      "their (absolute) difference is  1.0\n",
      "As a percentage of DF1 this is  0.00086%\n",
      "\n",
      "column:  S16SOVREP\n",
      "RDH sum is  31737.0\n",
      "Partner sum is  31740\n",
      "their (absolute) difference is  3.0\n",
      "As a percentage of DF1 this is  0.00945%\n",
      "\n",
      "column:  S16SOVIND\n",
      "RDH sum is  3530.0\n",
      "Partner sum is  3534\n",
      "their (absolute) difference is  4.0\n",
      "As a percentage of DF1 this is  0.11331%\n",
      "\n",
      "column:  S16SOVWRI\n",
      "RDH sum is  2909.0\n",
      "Partner sum is  2913\n",
      "their (absolute) difference is  4.0\n",
      "As a percentage of DF1 this is  0.1375%\n",
      "\n",
      "The max difference (as a percent of the total of on DF column is:  0.00138\n"
     ]
    }
   ],
   "source": [
    "sum_checker(df_absentee_reallocate_with_final, column_list)"
   ]
  },
  {
   "cell_type": "markdown",
   "metadata": {},
   "source": [
    "## Create unique id"
   ]
  },
  {
   "cell_type": "code",
   "execution_count": 28,
   "metadata": {},
   "outputs": [
    {
     "data": {
      "text/plain": [
       "{'55010 ',\n",
       " '55011 ',\n",
       " '55012 ',\n",
       " '55013 ',\n",
       " '55015 ',\n",
       " '55018 ',\n",
       " '55022 ',\n",
       " '55024 ',\n",
       " '55025 ',\n",
       " '55026 ',\n",
       " '55029 ',\n",
       " '5503 -',\n",
       " '55030 ',\n",
       " '55031 ',\n",
       " '55032 ',\n",
       " '55033 ',\n",
       " '55040 ',\n",
       " '55042 ',\n",
       " '55045 ',\n",
       " '55048 ',\n",
       " '5505 -',\n",
       " '55050 ',\n",
       " '55053 ',\n",
       " '55055 ',\n",
       " '55056 ',\n",
       " '55057 ',\n",
       " '55058 ',\n",
       " '5508 -',\n",
       " '8301 -',\n",
       " '8302 -'}"
      ]
     },
     "execution_count": 28,
     "metadata": {},
     "output_type": "execute_result"
    }
   ],
   "source": [
    "set(df_with_absentee_reallocated.COUNTYFP + df_with_absentee_reallocated.Pct.str.slice(stop = 3)) - set(final.COUNTYFP + final.VTDST.str.slice(start = 3))"
   ]
  },
  {
   "cell_type": "code",
   "execution_count": 29,
   "metadata": {},
   "outputs": [],
   "source": [
    "def vtdst_changer(vtdst):\n",
    "    if (vtdst[1:3] == ' -'):\n",
    "        two_lead_zero = '00' + vtdst[:1]\n",
    "        return two_lead_zero\n",
    "    elif (vtdst[1:3] == '- '):\n",
    "        two_lead_zero = '00' + vtdst[:1]\n",
    "        return two_lead_zero\n",
    "    elif (vtdst[-1:] == ' '):\n",
    "        one_lead_zero = '0' + vtdst[:2]\n",
    "        return one_lead_zero\n",
    "    elif (vtdst[-1:] == '-'):\n",
    "        one_lead_zero = '0' + vtdst[:2]\n",
    "        return one_lead_zero\n",
    "    else:\n",
    "        return vtdst"
   ]
  },
  {
   "cell_type": "code",
   "execution_count": 30,
   "metadata": {},
   "outputs": [
    {
     "data": {
      "text/html": [
       "<div>\n",
       "<style scoped>\n",
       "    .dataframe tbody tr th:only-of-type {\n",
       "        vertical-align: middle;\n",
       "    }\n",
       "\n",
       "    .dataframe tbody tr th {\n",
       "        vertical-align: top;\n",
       "    }\n",
       "\n",
       "    .dataframe thead th {\n",
       "        text-align: right;\n",
       "    }\n",
       "</style>\n",
       "<table border=\"1\" class=\"dataframe\">\n",
       "  <thead>\n",
       "    <tr style=\"text-align: right;\">\n",
       "      <th></th>\n",
       "      <th>index</th>\n",
       "      <th>Pct</th>\n",
       "      <th>Total Votes Cast</th>\n",
       "      <th>SOV_DIST</th>\n",
       "      <th>LOCALITY</th>\n",
       "      <th>S16SOVDEM</th>\n",
       "      <th>S16SOVREP</th>\n",
       "      <th>S16SOVIND</th>\n",
       "      <th>S16SOVWRI</th>\n",
       "      <th>COUNTYFP</th>\n",
       "      <th>vtdst</th>\n",
       "    </tr>\n",
       "  </thead>\n",
       "  <tbody>\n",
       "    <tr>\n",
       "      <th>0</th>\n",
       "      <td>2.0</td>\n",
       "      <td>204 - Forrest</td>\n",
       "      <td>352</td>\n",
       "      <td>1</td>\n",
       "      <td>Hampton City</td>\n",
       "      <td>233.0</td>\n",
       "      <td>143.0</td>\n",
       "      <td>12.0</td>\n",
       "      <td>0.0</td>\n",
       "      <td>650</td>\n",
       "      <td>204</td>\n",
       "    </tr>\n",
       "    <tr>\n",
       "      <th>1</th>\n",
       "      <td>5.0</td>\n",
       "      <td>208 - Kraft</td>\n",
       "      <td>2,837</td>\n",
       "      <td>1</td>\n",
       "      <td>Hampton City</td>\n",
       "      <td>1787.0</td>\n",
       "      <td>1174.0</td>\n",
       "      <td>158.0</td>\n",
       "      <td>26.0</td>\n",
       "      <td>650</td>\n",
       "      <td>208</td>\n",
       "    </tr>\n",
       "    <tr>\n",
       "      <th>2</th>\n",
       "      <td>8.0</td>\n",
       "      <td>214 - Tucker Capps</td>\n",
       "      <td>2,229</td>\n",
       "      <td>1</td>\n",
       "      <td>Hampton City</td>\n",
       "      <td>1504.0</td>\n",
       "      <td>844.0</td>\n",
       "      <td>100.0</td>\n",
       "      <td>31.0</td>\n",
       "      <td>650</td>\n",
       "      <td>214</td>\n",
       "    </tr>\n",
       "    <tr>\n",
       "      <th>5</th>\n",
       "      <td>9.0</td>\n",
       "      <td>201 - Jamestown A</td>\n",
       "      <td>730</td>\n",
       "      <td>1</td>\n",
       "      <td>James City County</td>\n",
       "      <td>490.0</td>\n",
       "      <td>318.0</td>\n",
       "      <td>19.0</td>\n",
       "      <td>0.0</td>\n",
       "      <td>095</td>\n",
       "      <td>201</td>\n",
       "    </tr>\n",
       "    <tr>\n",
       "      <th>6</th>\n",
       "      <td>10.0</td>\n",
       "      <td>202 - Jamestown B</td>\n",
       "      <td>2,208</td>\n",
       "      <td>1</td>\n",
       "      <td>James City County</td>\n",
       "      <td>1424.0</td>\n",
       "      <td>995.0</td>\n",
       "      <td>78.0</td>\n",
       "      <td>3.0</td>\n",
       "      <td>095</td>\n",
       "      <td>202</td>\n",
       "    </tr>\n",
       "  </tbody>\n",
       "</table>\n",
       "</div>"
      ],
      "text/plain": [
       "   index                 Pct Total Votes Cast SOV_DIST           LOCALITY  \\\n",
       "0    2.0       204 - Forrest              352        1       Hampton City   \n",
       "1    5.0         208 - Kraft            2,837        1       Hampton City   \n",
       "2    8.0  214 - Tucker Capps            2,229        1       Hampton City   \n",
       "5    9.0   201 - Jamestown A              730        1  James City County   \n",
       "6   10.0   202 - Jamestown B            2,208        1  James City County   \n",
       "\n",
       "   S16SOVDEM  S16SOVREP  S16SOVIND  S16SOVWRI COUNTYFP vtdst  \n",
       "0      233.0      143.0       12.0        0.0      650   204  \n",
       "1     1787.0     1174.0      158.0       26.0      650   208  \n",
       "2     1504.0      844.0      100.0       31.0      650   214  \n",
       "5      490.0      318.0       19.0        0.0      095   201  \n",
       "6     1424.0      995.0       78.0        3.0      095   202  "
      ]
     },
     "execution_count": 30,
     "metadata": {},
     "output_type": "execute_result"
    }
   ],
   "source": [
    "df_with_absentee_reallocated['vtdst'] = df_with_absentee_reallocated.Pct.str.slice(stop = 3)\n",
    "df_with_absentee_reallocated['vtdst'] = df_with_absentee_reallocated['vtdst'].apply(vtdst_changer)\n",
    "df_with_absentee_reallocated.head()"
   ]
  },
  {
   "cell_type": "code",
   "execution_count": 31,
   "metadata": {},
   "outputs": [
    {
     "name": "stdout",
     "output_type": "stream",
     "text": [
      "set()\n",
      "set()\n"
     ]
    }
   ],
   "source": [
    "df_with_absentee_reallocated['unique_id'] = df_with_absentee_reallocated.COUNTYFP + df_with_absentee_reallocated.vtdst\n",
    "final['unique_id'] = final.COUNTYFP + final.VTDST.str.slice(start = 3)\n",
    "print(set(df_with_absentee_reallocated.unique_id) - set(final.unique_id))\n",
    "print(set(final.unique_id) - set(df_with_absentee_reallocated.unique_id))"
   ]
  },
  {
   "cell_type": "markdown",
   "metadata": {},
   "source": [
    "# Shapefile"
   ]
  },
  {
   "cell_type": "code",
   "execution_count": 32,
   "metadata": {
    "collapsed": true,
    "jupyter": {
     "outputs_hidden": true
    }
   },
   "outputs": [
    {
     "name": "stdout",
     "output_type": "stream",
     "text": [
      "51580  added to list\n",
      "51117  added to list\n",
      "51121  added to list\n",
      "51119  added to list\n",
      "51770  added to list\n",
      "51181  added to list\n",
      "51175  added to list\n",
      "51143  added to list\n",
      "51520  added to list\n",
      "51127  added to list\n",
      "51740  added to list\n",
      "51111  added to list\n",
      "51145  added to list\n",
      "51510  added to list\n",
      "51187  added to list\n",
      "51173  added to list\n",
      "51001  added to list\n",
      "51650  added to list\n",
      "51037  added to list\n",
      "51063  added to list\n",
      "51097  added to list\n",
      "51099  added to list\n",
      "51009  added to list\n",
      "51660  added to list\n",
      "51036  added to list\n",
      "51031  added to list\n",
      "51007  added to list\n",
      "51053  added to list\n",
      "51065  added to list\n",
      "51091  added to list\n",
      "51047  added to list\n",
      "51071  added to list\n",
      "51085  added to list\n",
      "51049  added to list\n",
      "51620  added to list\n",
      "51680  added to list\n",
      "51025  added to list\n",
      "51013  added to list\n",
      "51810  added to list\n",
      "51077  added to list\n",
      "51083  added to list\n",
      "51079  added to list\n",
      "51610  added to list\n",
      "51041  added to list\n",
      "51015  added to list\n",
      "51023  added to list\n",
      "51820  added to list\n",
      "51169  added to list\n",
      "51700  added to list\n",
      "51193  added to list\n",
      "51167  added to list\n",
      "51133  added to list\n",
      "51550  added to list\n",
      "51595  added to list\n",
      "51105  added to list\n",
      "51159  added to list\n",
      "51730  added to list\n",
      "51195  added to list\n",
      "51161  added to list\n",
      "51157  added to list\n",
      "51103  added to list\n",
      "51135  added to list\n",
      "51790  added to list\n",
      "51720  added to list\n",
      "51149  added to list\n",
      "51171  added to list\n",
      "51185  added to list\n",
      "51147  added to list\n",
      "51570  added to list\n",
      "51113  added to list\n",
      "51125  added to list\n",
      "51141  added to list\n",
      "51710  added to list\n",
      "51179  added to list\n",
      "51177  added to list\n",
      "51183  added to list\n",
      "51775  added to list\n",
      "51540  added to list\n",
      "51115  added to list\n",
      "51093  added to list\n",
      "51067  added to list\n",
      "51600  added to list\n",
      "51069  added to list\n",
      "51051  added to list\n",
      "51005  added to list\n",
      "51830  added to list\n",
      "51033  added to list\n",
      "51057  added to list\n",
      "51095  added to list\n",
      "51061  added to list\n",
      "51630  added to list\n",
      "51059  added to list\n",
      "51690  added to list\n",
      "51035  added to list\n",
      "51800  added to list\n",
      "51003  added to list\n",
      "51670  added to list\n",
      "51019  added to list\n",
      "51683  added to list\n",
      "51021  added to list\n",
      "51017  added to list\n",
      "51840  added to list\n",
      "51043  added to list\n",
      "51081  added to list\n",
      "51075  added to list\n",
      "51011  added to list\n",
      "51678  added to list\n",
      "51640  added to list\n",
      "51029  added to list\n",
      "51685  added to list\n",
      "51027  added to list\n",
      "51087  added to list\n",
      "51073  added to list\n",
      "51089  added to list\n",
      "51045  added to list\n",
      "51137  added to list\n",
      "51750  added to list\n",
      "51139  added to list\n",
      "51101  added to list\n",
      "51155  added to list\n",
      "51199  added to list\n",
      "51163  added to list\n",
      "51735  added to list\n",
      "51197  added to list\n",
      "51590  added to list\n",
      "51107  added to list\n",
      "51131  added to list\n",
      "51760  added to list\n",
      "51109  added to list\n",
      "51165  added to list\n",
      "51191  added to list\n",
      "51153  added to list\n",
      "51530  added to list\n",
      "51580  added to list\n",
      "51117  added to list\n",
      "51121  added to list\n",
      "51119  added to list\n",
      "51770  added to list\n",
      "51181  added to list\n",
      "51175  added to list\n",
      "51143  added to list\n",
      "51520  added to list\n",
      "51127  added to list\n",
      "51740  added to list\n",
      "51111  added to list\n",
      "51145  added to list\n",
      "51510  added to list\n",
      "51187  added to list\n",
      "51173  added to list\n",
      "51001  added to list\n",
      "51650  added to list\n",
      "51037  added to list\n",
      "51063  added to list\n",
      "51097  added to list\n",
      "51099  added to list\n",
      "51009  added to list\n",
      "51660  added to list\n",
      "51036  added to list\n",
      "51031  added to list\n",
      "51007  added to list\n",
      "51053  added to list\n",
      "51065  added to list\n",
      "51091  added to list\n",
      "51047  added to list\n",
      "51071  added to list\n",
      "51085  added to list\n",
      "51049  added to list\n",
      "51620  added to list\n",
      "51680  added to list\n",
      "51025  added to list\n",
      "51013  added to list\n",
      "51810  added to list\n",
      "51077  added to list\n",
      "51083  added to list\n",
      "51079  added to list\n",
      "51610  added to list\n",
      "51041  added to list\n",
      "51015  added to list\n",
      "51023  added to list\n",
      "51820  added to list\n",
      "51169  added to list\n",
      "51700  added to list\n",
      "51193  added to list\n",
      "51167  added to list\n",
      "51133  added to list\n",
      "51550  added to list\n",
      "51595  added to list\n",
      "51105  added to list\n",
      "51159  added to list\n",
      "51730  added to list\n",
      "51195  added to list\n",
      "51161  added to list\n",
      "51157  added to list\n",
      "51103  added to list\n",
      "51135  added to list\n",
      "51790  added to list\n",
      "51720  added to list\n",
      "51149  added to list\n",
      "51171  added to list\n",
      "51185  added to list\n",
      "51147  added to list\n",
      "51570  added to list\n",
      "51113  added to list\n",
      "51125  added to list\n",
      "51141  added to list\n",
      "51710  added to list\n",
      "51179  added to list\n",
      "51177  added to list\n",
      "51183  added to list\n",
      "51775  added to list\n",
      "51540  added to list\n",
      "51115  added to list\n",
      "51093  added to list\n",
      "51067  added to list\n",
      "51600  added to list\n",
      "51069  added to list\n",
      "51051  added to list\n",
      "51005  added to list\n",
      "51830  added to list\n",
      "51033  added to list\n",
      "51057  added to list\n",
      "51095  added to list\n",
      "51061  added to list\n",
      "51630  added to list\n",
      "51059  added to list\n",
      "51690  added to list\n",
      "51035  added to list\n",
      "51800  added to list\n",
      "51003  added to list\n",
      "51670  added to list\n",
      "51019  added to list\n",
      "51683  added to list\n",
      "51021  added to list\n",
      "51017  added to list\n",
      "51840  added to list\n",
      "51043  added to list\n",
      "51081  added to list\n",
      "51075  added to list\n",
      "51011  added to list\n",
      "51678  added to list\n",
      "51640  added to list\n",
      "51029  added to list\n",
      "51685  added to list\n",
      "51027  added to list\n",
      "51087  added to list\n",
      "51073  added to list\n",
      "51089  added to list\n",
      "51045  added to list\n",
      "51137  added to list\n",
      "51750  added to list\n",
      "51139  added to list\n",
      "51101  added to list\n",
      "51155  added to list\n",
      "51199  added to list\n",
      "51163  added to list\n",
      "51735  added to list\n",
      "51197  added to list\n",
      "51590  added to list\n",
      "51107  added to list\n",
      "51131  added to list\n",
      "51760  added to list\n",
      "51109  added to list\n",
      "51165  added to list\n",
      "51191  added to list\n",
      "51153  added to list\n",
      "51530  added to list\n"
     ]
    }
   ],
   "source": [
    "county_fips = []\n",
    "for directory in os.listdir('./vest_va_2016/census_shps_by_county_all_unzip/'):\n",
    "    if not directory[0] == '.':\n",
    "        county_fips.append(directory[-5:])\n",
    "        \n",
    "proj = final.crs   \n",
    "\n",
    "county_vtds = []\n",
    "for i in county_fips: #i dont have fips_codes file\n",
    "    ref = './vest_va_2016/census_shps_by_county_all_unzip/partnership_shapefiles_19v2_'\n",
    "    vtd_ref = ref + i + '/PVS_19_v2_vtd_' + i + '.shp' \n",
    "    vtd_shp = gpd.read_file(vtd_ref)\n",
    "    print(i, ' added to list')\n",
    "    county_vtds.append(vtd_shp)\n",
    "\n",
    "global shp_vtd\n",
    "shp_vtd = gpd.GeoDataFrame(pd.concat(county_vtds, axis = 0) , crs = proj) \n",
    "\n",
    "county_sldu = []\n",
    "for i in county_fips: #i dont have fips_codes file\n",
    "    ref = './vest_va_2016/census_shps_by_county_all_unzip/partnership_shapefiles_19v2_'\n",
    "    sldu_ref = ref + i + '/PVS_19_v2_sldu_' + i + '.shp' #PVS_19_v2_sldl_51650\n",
    "    sldu_shp = gpd.read_file(sldu_ref)\n",
    "    print(i, ' added to list')\n",
    "    county_sldu.append(sldu_shp)\n",
    "\n",
    "global shp_sldu\n",
    "shp_sldu = gpd.GeoDataFrame(pd.concat(county_sldu, axis = 0) , crs = proj) \n",
    "\n",
    "overlay = gpd.overlay(shp_sldu, shp_vtd, how='intersection', make_valid=True, keep_geom_type=True)\n",
    "shp = overlay[(overlay.SLDUST == '001') | (overlay.SLDUST == '005')]"
   ]
  },
  {
   "cell_type": "code",
   "execution_count": 33,
   "metadata": {},
   "outputs": [
    {
     "data": {
      "text/plain": [
       "<matplotlib.axes._subplots.AxesSubplot at 0x7ffaa4c5efa0>"
      ]
     },
     "execution_count": 33,
     "metadata": {},
     "output_type": "execute_result"
    },
    {
     "data": {
      "image/png": "[encoded data removed]",
      "text/plain": [
       "<Figure size 432x288 with 1 Axes>"
      ]
     },
     "metadata": {
      "needs_background": "light"
     },
     "output_type": "display_data"
    },
    {
     "data": {
      "image/png": "[encoded data removed]",
      "text/plain": [
       "<Figure size 432x288 with 1 Axes>"
      ]
     },
     "metadata": {
      "needs_background": "light"
     },
     "output_type": "display_data"
    }
   ],
   "source": [
    "shp.plot()\n",
    "final.plot()"
   ]
  },
  {
   "cell_type": "code",
   "execution_count": 34,
   "metadata": {},
   "outputs": [
    {
     "data": {
      "text/plain": [
       "(91, 42)"
      ]
     },
     "execution_count": 34,
     "metadata": {},
     "output_type": "execute_result"
    }
   ],
   "source": [
    "shp.shape"
   ]
  },
  {
   "cell_type": "code",
   "execution_count": 35,
   "metadata": {},
   "outputs": [
    {
     "data": {
      "text/plain": [
       "(98, 11)"
      ]
     },
     "execution_count": 35,
     "metadata": {},
     "output_type": "execute_result"
    }
   ],
   "source": [
    "final.shape"
   ]
  },
  {
   "cell_type": "code",
   "execution_count": 36,
   "metadata": {},
   "outputs": [
    {
     "name": "stdout",
     "output_type": "stream",
     "text": [
      "{'710511'}\n",
      "{'700219', '550040', '710203', '710403', '700305', '650204', '710218', '800704'}\n"
     ]
    }
   ],
   "source": [
    "print((set(shp.COUNTYFP_1 + shp.VTDST.str.slice(start = 3)) - set(final.COUNTYFP + final.VTDST.str.slice(start = 3))))\n",
    "print((set(final.COUNTYFP + final.VTDST.str.slice(start = 3)) - set(shp.COUNTYFP_1 + shp.VTDST.str.slice(start = 3))))"
   ]
  },
  {
   "cell_type": "code",
   "execution_count": 37,
   "metadata": {},
   "outputs": [
    {
     "name": "stderr",
     "output_type": "stream",
     "text": [
      "/Users/lilyfalk/anaconda3/lib/python3.8/site-packages/geopandas/geodataframe.py:853: SettingWithCopyWarning: \n",
      "A value is trying to be set on a copy of a slice from a DataFrame.\n",
      "Try using .loc[row_indexer,col_indexer] = value instead\n",
      "\n",
      "See the caveats in the documentation: https://pandas.pydata.org/pandas-docs/stable/user_guide/indexing.html#returning-a-view-versus-a-copy\n",
      "  super(GeoDataFrame, self).__setitem__(key, value)\n"
     ]
    }
   ],
   "source": [
    "shp['unique_id'] = shp['COUNTYFP_1'] + shp['VTDST'].str.slice(start = 3)"
   ]
  },
  {
   "cell_type": "code",
   "execution_count": 72,
   "metadata": {},
   "outputs": [
    {
     "data": {
      "text/plain": [
       "{'1', '5'}"
      ]
     },
     "execution_count": 72,
     "metadata": {},
     "output_type": "execute_result"
    }
   ],
   "source": [
    "set(df_with_absentee_reallocated.SOV_DIST) - set(final.SOV_DIST)"
   ]
  },
  {
   "cell_type": "code",
   "execution_count": 38,
   "metadata": {},
   "outputs": [
    {
     "data": {
      "text/html": [
       "<div>\n",
       "<style scoped>\n",
       "    .dataframe tbody tr th:only-of-type {\n",
       "        vertical-align: middle;\n",
       "    }\n",
       "\n",
       "    .dataframe tbody tr th {\n",
       "        vertical-align: top;\n",
       "    }\n",
       "\n",
       "    .dataframe thead th {\n",
       "        text-align: right;\n",
       "    }\n",
       "</style>\n",
       "<table border=\"1\" class=\"dataframe\">\n",
       "  <thead>\n",
       "    <tr style=\"text-align: right;\">\n",
       "      <th></th>\n",
       "      <th>STATEFP_1</th>\n",
       "      <th>COUNTYFP_1</th>\n",
       "      <th>SLDUST</th>\n",
       "      <th>NAMELSAD_1</th>\n",
       "      <th>LSAD_1</th>\n",
       "      <th>PARTFLG</th>\n",
       "      <th>CHNG_TYPE_1</th>\n",
       "      <th>EFF_DATE</th>\n",
       "      <th>NEW_NAME</th>\n",
       "      <th>NEW_CODE</th>\n",
       "      <th>...</th>\n",
       "      <th>ORIG_NAME</th>\n",
       "      <th>ORIG_CODE</th>\n",
       "      <th>RELATE_2</th>\n",
       "      <th>NAME_2</th>\n",
       "      <th>VINTAGE_2</th>\n",
       "      <th>FUNCSTAT_2</th>\n",
       "      <th>JUSTIFY_2</th>\n",
       "      <th>MTFCC</th>\n",
       "      <th>geometry</th>\n",
       "      <th>unique_id</th>\n",
       "    </tr>\n",
       "  </thead>\n",
       "  <tbody>\n",
       "    <tr>\n",
       "      <th>1525</th>\n",
       "      <td>51</td>\n",
       "      <td>710</td>\n",
       "      <td>005</td>\n",
       "      <td>State Senate District 5</td>\n",
       "      <td>LU</td>\n",
       "      <td>Y</td>\n",
       "      <td>None</td>\n",
       "      <td>None</td>\n",
       "      <td>None</td>\n",
       "      <td>None</td>\n",
       "      <td>...</td>\n",
       "      <td>None</td>\n",
       "      <td>None</td>\n",
       "      <td>None</td>\n",
       "      <td>Crossroads</td>\n",
       "      <td>90</td>\n",
       "      <td>N</td>\n",
       "      <td>None</td>\n",
       "      <td>G5240</td>\n",
       "      <td>POLYGON Z ((-76.25397 36.91611 0.00000, -76.25...</td>\n",
       "      <td>710511</td>\n",
       "    </tr>\n",
       "  </tbody>\n",
       "</table>\n",
       "<p>1 rows × 43 columns</p>\n",
       "</div>"
      ],
      "text/plain": [
       "     STATEFP_1 COUNTYFP_1 SLDUST               NAMELSAD_1 LSAD_1 PARTFLG  \\\n",
       "1525        51        710    005  State Senate District 5     LU       Y   \n",
       "\n",
       "     CHNG_TYPE_1 EFF_DATE NEW_NAME NEW_CODE  ... ORIG_NAME ORIG_CODE RELATE_2  \\\n",
       "1525        None     None     None     None  ...      None      None     None   \n",
       "\n",
       "          NAME_2 VINTAGE_2 FUNCSTAT_2 JUSTIFY_2  MTFCC  \\\n",
       "1525  Crossroads        90          N      None  G5240   \n",
       "\n",
       "                                               geometry unique_id  \n",
       "1525  POLYGON Z ((-76.25397 36.91611 0.00000, -76.25...    710511  \n",
       "\n",
       "[1 rows x 43 columns]"
      ]
     },
     "execution_count": 38,
     "metadata": {},
     "output_type": "execute_result"
    }
   ],
   "source": [
    "shp[shp['unique_id'] == '710511']"
   ]
  },
  {
   "cell_type": "code",
   "execution_count": 39,
   "metadata": {},
   "outputs": [
    {
     "data": {
      "text/plain": [
       "<matplotlib.axes._subplots.AxesSubplot at 0x7ffa40034280>"
      ]
     },
     "execution_count": 39,
     "metadata": {},
     "output_type": "execute_result"
    },
    {
     "data": {
      "image/png": "[encoded data removed]",
      "text/plain": [
       "<Figure size 432x288 with 1 Axes>"
      ]
     },
     "metadata": {
      "needs_background": "light"
     },
     "output_type": "display_data"
    },
    {
     "data": {
      "image/png": "[encoded data removed]",
      "text/plain": [
       "<Figure size 432x288 with 1 Axes>"
      ]
     },
     "metadata": {
      "needs_background": "light"
     },
     "output_type": "display_data"
    }
   ],
   "source": [
    "shp[shp['unique_id'] == '710511'].plot()\n",
    "final[(final['unique_id'] == '710403')].plot() #(final['unique_id'] == '710218')] |  | (final['unique_id'] == '710203')\n",
    "#Within county none match up"
   ]
  },
  {
   "cell_type": "code",
   "execution_count": 44,
   "metadata": {},
   "outputs": [
    {
     "data": {
      "text/plain": [
       "set()"
      ]
     },
     "execution_count": 44,
     "metadata": {},
     "output_type": "execute_result"
    }
   ],
   "source": [
    "set(final.unique_id) - set(df_with_absentee_reallocated.unique_id)"
   ]
  },
  {
   "cell_type": "code",
   "execution_count": 41,
   "metadata": {},
   "outputs": [
    {
     "data": {
      "text/plain": [
       "{'550040',\n",
       " '650204',\n",
       " '700219',\n",
       " '700305',\n",
       " '710203',\n",
       " '710218',\n",
       " '710403',\n",
       " '800704'}"
      ]
     },
     "execution_count": 41,
     "metadata": {},
     "output_type": "execute_result"
    }
   ],
   "source": [
    "set(df_with_absentee_reallocated.unique_id) - set(shp.unique_id)"
   ]
  },
  {
   "cell_type": "code",
   "execution_count": 69,
   "metadata": {},
   "outputs": [
    {
     "data": {
      "text/plain": [
       "<matplotlib.axes._subplots.AxesSubplot at 0x7ffac15b81f0>"
      ]
     },
     "execution_count": 69,
     "metadata": {},
     "output_type": "execute_result"
    },
    {
     "data": {
      "image/png": "[encoded data removed]",
      "text/plain": [
       "<Figure size 432x288 with 1 Axes>"
      ]
     },
     "metadata": {
      "needs_background": "light"
     },
     "output_type": "display_data"
    }
   ],
   "source": [
    "final[final['unique_id'].isin(list(set(df_with_absentee_reallocated.unique_id) - set(shp.unique_id)))].plot()"
   ]
  },
  {
   "cell_type": "code",
   "execution_count": 67,
   "metadata": {},
   "outputs": [
    {
     "data": {
      "text/html": [
       "<div>\n",
       "<style scoped>\n",
       "    .dataframe tbody tr th:only-of-type {\n",
       "        vertical-align: middle;\n",
       "    }\n",
       "\n",
       "    .dataframe tbody tr th {\n",
       "        vertical-align: top;\n",
       "    }\n",
       "\n",
       "    .dataframe thead th {\n",
       "        text-align: right;\n",
       "    }\n",
       "</style>\n",
       "<table border=\"1\" class=\"dataframe\">\n",
       "  <thead>\n",
       "    <tr style=\"text-align: right;\">\n",
       "      <th></th>\n",
       "      <th>COUNTYFP</th>\n",
       "      <th>LOCALITY</th>\n",
       "      <th>VTDST</th>\n",
       "      <th>PRECINCT</th>\n",
       "      <th>SOV_DIST</th>\n",
       "      <th>S16SOVDEM</th>\n",
       "      <th>S16SOVREP</th>\n",
       "      <th>S16SOVIND</th>\n",
       "      <th>S16SOVWRI</th>\n",
       "      <th>geometry</th>\n",
       "      <th>unique_id</th>\n",
       "    </tr>\n",
       "  </thead>\n",
       "  <tbody>\n",
       "    <tr>\n",
       "      <th>23</th>\n",
       "      <td>550</td>\n",
       "      <td>Chesapeake City</td>\n",
       "      <td>000040</td>\n",
       "      <td>River Birch</td>\n",
       "      <td>005</td>\n",
       "      <td>1658</td>\n",
       "      <td>0</td>\n",
       "      <td>0</td>\n",
       "      <td>113</td>\n",
       "      <td>POLYGON Z ((-76.23347 36.78440 0.00000, -76.23...</td>\n",
       "      <td>550040</td>\n",
       "    </tr>\n",
       "    <tr>\n",
       "      <th>31</th>\n",
       "      <td>650</td>\n",
       "      <td>Hampton City</td>\n",
       "      <td>000204</td>\n",
       "      <td>FORREST</td>\n",
       "      <td>001</td>\n",
       "      <td>233</td>\n",
       "      <td>144</td>\n",
       "      <td>12</td>\n",
       "      <td>0</td>\n",
       "      <td>MULTIPOLYGON Z (((-76.42989 37.03724 0.00000, ...</td>\n",
       "      <td>650204</td>\n",
       "    </tr>\n",
       "    <tr>\n",
       "      <th>56</th>\n",
       "      <td>700</td>\n",
       "      <td>Newport News City</td>\n",
       "      <td>000305</td>\n",
       "      <td>Downtown</td>\n",
       "      <td>001</td>\n",
       "      <td>290</td>\n",
       "      <td>72</td>\n",
       "      <td>21</td>\n",
       "      <td>3</td>\n",
       "      <td>POLYGON Z ((-76.48620 36.98860 0.00000, -76.48...</td>\n",
       "      <td>700305</td>\n",
       "    </tr>\n",
       "    <tr>\n",
       "      <th>58</th>\n",
       "      <td>700</td>\n",
       "      <td>Newport News City</td>\n",
       "      <td>000219</td>\n",
       "      <td>Deer Park</td>\n",
       "      <td>001</td>\n",
       "      <td>1118</td>\n",
       "      <td>545</td>\n",
       "      <td>78</td>\n",
       "      <td>8</td>\n",
       "      <td>POLYGON Z ((-76.49411 37.09133 0.00000, -76.49...</td>\n",
       "      <td>700219</td>\n",
       "    </tr>\n",
       "    <tr>\n",
       "      <th>65</th>\n",
       "      <td>710</td>\n",
       "      <td>Norfolk City</td>\n",
       "      <td>000203</td>\n",
       "      <td>Ghent Square</td>\n",
       "      <td>005</td>\n",
       "      <td>198</td>\n",
       "      <td>0</td>\n",
       "      <td>0</td>\n",
       "      <td>6</td>\n",
       "      <td>POLYGON Z ((-76.28798 36.86092 0.00000, -76.28...</td>\n",
       "      <td>710203</td>\n",
       "    </tr>\n",
       "    <tr>\n",
       "      <th>71</th>\n",
       "      <td>710</td>\n",
       "      <td>Norfolk City</td>\n",
       "      <td>000218</td>\n",
       "      <td>Willard</td>\n",
       "      <td>005</td>\n",
       "      <td>1509</td>\n",
       "      <td>0</td>\n",
       "      <td>0</td>\n",
       "      <td>131</td>\n",
       "      <td>MULTIPOLYGON Z (((-76.29326 36.89415 0.00000, ...</td>\n",
       "      <td>710218</td>\n",
       "    </tr>\n",
       "    <tr>\n",
       "      <th>81</th>\n",
       "      <td>710</td>\n",
       "      <td>Norfolk City</td>\n",
       "      <td>000403</td>\n",
       "      <td>Brambleton</td>\n",
       "      <td>005</td>\n",
       "      <td>892</td>\n",
       "      <td>0</td>\n",
       "      <td>0</td>\n",
       "      <td>3</td>\n",
       "      <td>POLYGON Z ((-76.28599 36.84207 0.00000, -76.28...</td>\n",
       "      <td>710403</td>\n",
       "    </tr>\n",
       "    <tr>\n",
       "      <th>96</th>\n",
       "      <td>800</td>\n",
       "      <td>Suffolk City</td>\n",
       "      <td>000704</td>\n",
       "      <td>BURBAGE GRANT</td>\n",
       "      <td>001</td>\n",
       "      <td>1191</td>\n",
       "      <td>652</td>\n",
       "      <td>79</td>\n",
       "      <td>4</td>\n",
       "      <td>POLYGON Z ((-76.42102 36.87823 0.00000, -76.42...</td>\n",
       "      <td>800704</td>\n",
       "    </tr>\n",
       "  </tbody>\n",
       "</table>\n",
       "</div>"
      ],
      "text/plain": [
       "   COUNTYFP           LOCALITY   VTDST       PRECINCT SOV_DIST  S16SOVDEM  \\\n",
       "23      550    Chesapeake City  000040    River Birch      005       1658   \n",
       "31      650       Hampton City  000204        FORREST      001        233   \n",
       "56      700  Newport News City  000305       Downtown      001        290   \n",
       "58      700  Newport News City  000219      Deer Park      001       1118   \n",
       "65      710       Norfolk City  000203   Ghent Square      005        198   \n",
       "71      710       Norfolk City  000218        Willard      005       1509   \n",
       "81      710       Norfolk City  000403     Brambleton      005        892   \n",
       "96      800       Suffolk City  000704  BURBAGE GRANT      001       1191   \n",
       "\n",
       "    S16SOVREP  S16SOVIND  S16SOVWRI  \\\n",
       "23          0          0        113   \n",
       "31        144         12          0   \n",
       "56         72         21          3   \n",
       "58        545         78          8   \n",
       "65          0          0          6   \n",
       "71          0          0        131   \n",
       "81          0          0          3   \n",
       "96        652         79          4   \n",
       "\n",
       "                                             geometry unique_id  \n",
       "23  POLYGON Z ((-76.23347 36.78440 0.00000, -76.23...    550040  \n",
       "31  MULTIPOLYGON Z (((-76.42989 37.03724 0.00000, ...    650204  \n",
       "56  POLYGON Z ((-76.48620 36.98860 0.00000, -76.48...    700305  \n",
       "58  POLYGON Z ((-76.49411 37.09133 0.00000, -76.49...    700219  \n",
       "65  POLYGON Z ((-76.28798 36.86092 0.00000, -76.28...    710203  \n",
       "71  MULTIPOLYGON Z (((-76.29326 36.89415 0.00000, ...    710218  \n",
       "81  POLYGON Z ((-76.28599 36.84207 0.00000, -76.28...    710403  \n",
       "96  POLYGON Z ((-76.42102 36.87823 0.00000, -76.42...    800704  "
      ]
     },
     "execution_count": 67,
     "metadata": {},
     "output_type": "execute_result"
    }
   ],
   "source": [
    "final[final['unique_id'].isin(list(set(df_with_absentee_reallocated.unique_id) - set(shp.unique_id)))]"
   ]
  },
  {
   "cell_type": "code",
   "execution_count": 42,
   "metadata": {},
   "outputs": [
    {
     "data": {
      "text/plain": [
       "{'710511'}"
      ]
     },
     "execution_count": 42,
     "metadata": {},
     "output_type": "execute_result"
    }
   ],
   "source": [
    "set(shp.unique_id) - set(df_with_absentee_reallocated.unique_id)"
   ]
  },
  {
   "cell_type": "code",
   "execution_count": 68,
   "metadata": {},
   "outputs": [
    {
     "data": {
      "text/html": [
       "<div>\n",
       "<style scoped>\n",
       "    .dataframe tbody tr th:only-of-type {\n",
       "        vertical-align: middle;\n",
       "    }\n",
       "\n",
       "    .dataframe tbody tr th {\n",
       "        vertical-align: top;\n",
       "    }\n",
       "\n",
       "    .dataframe thead th {\n",
       "        text-align: right;\n",
       "    }\n",
       "</style>\n",
       "<table border=\"1\" class=\"dataframe\">\n",
       "  <thead>\n",
       "    <tr style=\"text-align: right;\">\n",
       "      <th></th>\n",
       "      <th>STATEFP_1</th>\n",
       "      <th>COUNTYFP_1</th>\n",
       "      <th>SLDUST</th>\n",
       "      <th>NAMELSAD_1</th>\n",
       "      <th>LSAD_1</th>\n",
       "      <th>PARTFLG</th>\n",
       "      <th>CHNG_TYPE_1</th>\n",
       "      <th>EFF_DATE</th>\n",
       "      <th>NEW_NAME</th>\n",
       "      <th>NEW_CODE</th>\n",
       "      <th>...</th>\n",
       "      <th>ORIG_NAME</th>\n",
       "      <th>ORIG_CODE</th>\n",
       "      <th>RELATE_2</th>\n",
       "      <th>NAME_2</th>\n",
       "      <th>VINTAGE_2</th>\n",
       "      <th>FUNCSTAT_2</th>\n",
       "      <th>JUSTIFY_2</th>\n",
       "      <th>MTFCC</th>\n",
       "      <th>geometry</th>\n",
       "      <th>unique_id</th>\n",
       "    </tr>\n",
       "  </thead>\n",
       "  <tbody>\n",
       "    <tr>\n",
       "      <th>1525</th>\n",
       "      <td>51</td>\n",
       "      <td>710</td>\n",
       "      <td>005</td>\n",
       "      <td>State Senate District 5</td>\n",
       "      <td>LU</td>\n",
       "      <td>Y</td>\n",
       "      <td>None</td>\n",
       "      <td>None</td>\n",
       "      <td>None</td>\n",
       "      <td>None</td>\n",
       "      <td>...</td>\n",
       "      <td>None</td>\n",
       "      <td>None</td>\n",
       "      <td>None</td>\n",
       "      <td>Crossroads</td>\n",
       "      <td>90</td>\n",
       "      <td>N</td>\n",
       "      <td>None</td>\n",
       "      <td>G5240</td>\n",
       "      <td>POLYGON Z ((-76.25397 36.91611 0.00000, -76.25...</td>\n",
       "      <td>710511</td>\n",
       "    </tr>\n",
       "  </tbody>\n",
       "</table>\n",
       "<p>1 rows × 43 columns</p>\n",
       "</div>"
      ],
      "text/plain": [
       "     STATEFP_1 COUNTYFP_1 SLDUST               NAMELSAD_1 LSAD_1 PARTFLG  \\\n",
       "1525        51        710    005  State Senate District 5     LU       Y   \n",
       "\n",
       "     CHNG_TYPE_1 EFF_DATE NEW_NAME NEW_CODE  ... ORIG_NAME ORIG_CODE RELATE_2  \\\n",
       "1525        None     None     None     None  ...      None      None     None   \n",
       "\n",
       "          NAME_2 VINTAGE_2 FUNCSTAT_2 JUSTIFY_2  MTFCC  \\\n",
       "1525  Crossroads        90          N      None  G5240   \n",
       "\n",
       "                                               geometry unique_id  \n",
       "1525  POLYGON Z ((-76.25397 36.91611 0.00000, -76.25...    710511  \n",
       "\n",
       "[1 rows x 43 columns]"
      ]
     },
     "execution_count": 68,
     "metadata": {},
     "output_type": "execute_result"
    }
   ],
   "source": [
    "shp[shp.unique_id == '710511']"
   ]
  },
  {
   "cell_type": "markdown",
   "metadata": {},
   "source": [
    "### Join election results and shapefile"
   ]
  },
  {
   "cell_type": "code",
   "execution_count": 45,
   "metadata": {},
   "outputs": [
    {
     "data": {
      "text/plain": [
       "<matplotlib.axes._subplots.AxesSubplot at 0x7ffab04ffa60>"
      ]
     },
     "execution_count": 45,
     "metadata": {},
     "output_type": "execute_result"
    },
    {
     "data": {
      "image/png": "[encoded data removed]",
      "text/plain": [
       "<Figure size 432x288 with 1 Axes>"
      ]
     },
     "metadata": {
      "needs_background": "light"
     },
     "output_type": "display_data"
    }
   ],
   "source": [
    "join = gpd.GeoDataFrame(pd.merge(df_with_absentee_reallocated, shp, on = 'unique_id', how = 'inner'), crs = proj)\n",
    "join.plot()"
   ]
  },
  {
   "cell_type": "markdown",
   "metadata": {},
   "source": [
    "# Validation "
   ]
  },
  {
   "cell_type": "markdown",
   "metadata": {},
   "source": [
    "## Validating Shapefile"
   ]
  },
  {
   "cell_type": "markdown",
   "metadata": {},
   "source": [
    "Here, I merge the shp joined to the election results to the final file to compare"
   ]
  },
  {
   "cell_type": "code",
   "execution_count": 46,
   "metadata": {},
   "outputs": [
    {
     "name": "stderr",
     "output_type": "stream",
     "text": [
      "/Users/lilyfalk/anaconda3/lib/python3.8/site-packages/geopandas/base.py:39: UserWarning: The indices of the two GeoSeries are different.\n",
      "  warn(\"The indices of the two GeoSeries are different.\")\n"
     ]
    }
   ],
   "source": [
    "shp_final_merge = pd.merge(join, final, on = 'unique_id', how = 'outer', suffixes = ['_x', '_y'])\n",
    "\n",
    "join['geometry'].geom_almost_equals(final['geometry'], decimal = 0)\n",
    "\n",
    "shp_shapes = gpd.GeoDataFrame(shp_final_merge, geometry = 'geometry_x')\n",
    "final_shapes = gpd.GeoDataFrame(shp_final_merge, geometry = 'geometry_y')\n",
    "vals = shp_shapes.geom_almost_equals(final_shapes, decimal = 0)"
   ]
  },
  {
   "cell_type": "code",
   "execution_count": 47,
   "metadata": {},
   "outputs": [
    {
     "name": "stdout",
     "output_type": "stream",
     "text": [
      "True     57\n",
      "False    41\n",
      "dtype: int64\n"
     ]
    }
   ],
   "source": [
    "print(vals.value_counts())"
   ]
  },
  {
   "cell_type": "code",
   "execution_count": 48,
   "metadata": {},
   "outputs": [
    {
     "name": "stdout",
     "output_type": "stream",
     "text": [
      "700    14\n",
      "550    12\n",
      "710     9\n",
      "650     2\n",
      "830     1\n",
      "800     1\n",
      "199     1\n",
      "095     1\n",
      "Name: unique_id, dtype: int64\n"
     ]
    },
    {
     "data": {
      "text/plain": [
       "<matplotlib.axes._subplots.AxesSubplot at 0x7ffaa631eb50>"
      ]
     },
     "execution_count": 48,
     "metadata": {},
     "output_type": "execute_result"
    },
    {
     "data": {
      "image/png": "[encoded data removed]",
      "text/plain": [
       "<Figure size 432x288 with 1 Axes>"
      ]
     },
     "metadata": {
      "needs_background": "light"
     },
     "output_type": "display_data"
    }
   ],
   "source": [
    "print(shp_final_merge[~vals]['unique_id'].str[0:3].value_counts())\n",
    "diff_precincts = gpd.GeoDataFrame(shp_final_merge[~vals], geometry = 'geometry_x', crs = proj)\n",
    "\n",
    "shp_difference = gpd.overlay(shp_shapes, final_shapes, how = 'symmetric_difference')\n",
    "shp_difference.plot()"
   ]
  },
  {
   "cell_type": "code",
   "execution_count": 49,
   "metadata": {},
   "outputs": [
    {
     "name": "stdout",
     "output_type": "stream",
     "text": [
      "    index                    Pct Total Votes Cast SOV_DIST_x  \\\n",
      "1     8.0     214 - Tucker Capps            2,229          1   \n",
      "2     9.0      201 - Jamestown A              730          1   \n",
      "14   22.0         107 - Richneck            2,535          1   \n",
      "17   25.0        110 - Greenwood            2,182          1   \n",
      "21   30.0        204 - Wellesley            1,747          1   \n",
      "23   32.0        208 - Hidenwood            1,179          1   \n",
      "27   36.0        212 - Riverside            1,085          1   \n",
      "28   37.0          213 - Sanford              784          1   \n",
      "29   38.0          215 - Warwick              970          1   \n",
      "31   41.0        217 - Riverview            1,711          1   \n",
      "33   44.0           303 - Carver              952          1   \n",
      "35   47.0            314 - River              930          1   \n",
      "36   48.0       315 - Sedgefield            1,315          1   \n",
      "37   49.0          320 - Watkins            2,561          1   \n",
      "38  104.0            1 - Stryker            3,207          1   \n",
      "41  114.0         103 - Magruder            2,284          1   \n",
      "42    1.0            3 - Camelot            1,905          5   \n",
      "43    2.0          5 - Crestwood            1,460          5   \n",
      "48    8.0         13 - Gilmerton            1,136          5   \n",
      "49    9.0      15 - B M Williams            1,281          5   \n",
      "53   14.0        25 - St Julians              699          5   \n",
      "60   23.0          42 - Parkways            1,145          5   \n",
      "61   24.0         45 - Sunray II              492          5   \n",
      "63   26.0        50 - River Walk            1,267          5   \n",
      "64   27.0          53 - Fairways              834          5   \n",
      "66   30.0        56 - Green Tree            1,117          5   \n",
      "67   31.0           57 - Cypress            1,261          5   \n",
      "69   35.0           214 - Stuart            1,576          5   \n",
      "72   40.0     303 - Bowling Park            1,788          5   \n",
      "79   48.0     313 - Union Chapel              755          5   \n",
      "82   52.0     405 - Chesterfield            1,356          5   \n",
      "84   54.0         409 - Fairlawn            1,000          5   \n",
      "85   55.0  411 - Ruffner Academy              484          5   \n",
      "90    NaN                    NaN              NaN        NaN   \n",
      "91    NaN                    NaN              NaN        NaN   \n",
      "92    NaN                    NaN              NaN        NaN   \n",
      "93    NaN                    NaN              NaN        NaN   \n",
      "94    NaN                    NaN              NaN        NaN   \n",
      "95    NaN                    NaN              NaN        NaN   \n",
      "96    NaN                    NaN              NaN        NaN   \n",
      "97    NaN                    NaN              NaN        NaN   \n",
      "\n",
      "           LOCALITY_x  S16SOVDEM_x  S16SOVREP_x  S16SOVIND_x  S16SOVWRI_x  \\\n",
      "1        Hampton City       1504.0        844.0        100.0         31.0   \n",
      "2   James City County        490.0        318.0         19.0          0.0   \n",
      "14  Newport News City       1687.0        953.0        100.0          7.0   \n",
      "17  Newport News City       1701.0        569.0         97.0          2.0   \n",
      "21  Newport News City        997.0        757.0        128.0          9.0   \n",
      "23  Newport News City        511.0        708.0         48.0          7.0   \n",
      "27  Newport News City        473.0        664.0         32.0          3.0   \n",
      "28  Newport News City        311.0        492.0         44.0          0.0   \n",
      "29  Newport News City        583.0        408.0         53.0          5.0   \n",
      "31  Newport News City        803.0        987.0         54.0          5.0   \n",
      "33  Newport News City        716.0        268.0         46.0          3.0   \n",
      "35  Newport News City        593.0        365.0         44.0          5.0   \n",
      "36  Newport News City        689.0        645.0         86.0          2.0   \n",
      "37  Newport News City       1344.0       1283.0        130.0         13.0   \n",
      "38  Williamsburg City       2464.0       1063.0        126.0          8.0   \n",
      "41        York County       1478.0        924.0        114.0          7.0   \n",
      "42    Chesapeake City       2177.0          0.0          0.0         27.0   \n",
      "43    Chesapeake City       1652.0          0.0          0.0         37.0   \n",
      "48    Chesapeake City       1199.0          0.0          0.0        111.0   \n",
      "49    Chesapeake City       1392.0          0.0          0.0         87.0   \n",
      "53    Chesapeake City        754.0          0.0          0.0         53.0   \n",
      "60    Chesapeake City       1243.0          0.0          0.0         79.0   \n",
      "61    Chesapeake City        535.0          0.0          0.0         33.0   \n",
      "63    Chesapeake City       1348.0          0.0          0.0        114.0   \n",
      "64    Chesapeake City        910.0          0.0          0.0         53.0   \n",
      "66    Chesapeake City       1196.0          0.0          0.0         94.0   \n",
      "67    Chesapeake City       1360.0          0.0          0.0         96.0   \n",
      "69       Norfolk City       1617.0          0.0          0.0         94.0   \n",
      "72       Norfolk City       1920.0          0.0          0.0         19.0   \n",
      "79       Norfolk City        813.0          0.0          0.0          6.0   \n",
      "82       Norfolk City       1458.0          0.0          0.0         12.0   \n",
      "84       Norfolk City       1032.0          0.0          0.0         54.0   \n",
      "85       Norfolk City        524.0          0.0          0.0          1.0   \n",
      "90                NaN          NaN          NaN          NaN          NaN   \n",
      "91                NaN          NaN          NaN          NaN          NaN   \n",
      "92                NaN          NaN          NaN          NaN          NaN   \n",
      "93                NaN          NaN          NaN          NaN          NaN   \n",
      "94                NaN          NaN          NaN          NaN          NaN   \n",
      "95                NaN          NaN          NaN          NaN          NaN   \n",
      "96                NaN          NaN          NaN          NaN          NaN   \n",
      "97                NaN          NaN          NaN          NaN          NaN   \n",
      "\n",
      "   COUNTYFP_x  ... COUNTYFP_y         LOCALITY_y VTDST_y         PRECINCT  \\\n",
      "1         650  ...        650       Hampton City  000214     TUCKER CAPPS   \n",
      "2         095  ...        095  James City County  000201      Jamestown A   \n",
      "14        700  ...        700  Newport News City  000107         Richneck   \n",
      "17        700  ...        700  Newport News City  000110        Greenwood   \n",
      "21        700  ...        700  Newport News City  000204        Wellesley   \n",
      "23        700  ...        700  Newport News City  000208        Hidenwood   \n",
      "27        700  ...        700  Newport News City  000212        Riverside   \n",
      "28        700  ...        700  Newport News City  000213          Sanford   \n",
      "29        700  ...        700  Newport News City  000215          Warwick   \n",
      "31        700  ...        700  Newport News City  000217        Riverview   \n",
      "33        700  ...        700  Newport News City  000303           Carver   \n",
      "35        700  ...        700  Newport News City  000314            River   \n",
      "36        700  ...        700  Newport News City  000315       Sedgefield   \n",
      "37        700  ...        700  Newport News City  000320          Watkins   \n",
      "38        830  ...        830  Williamsburg City  000001          Stryker   \n",
      "41        199  ...        199        York County  000103         MAGRUDER   \n",
      "42        550  ...        550    Chesapeake City  000003          Camelot   \n",
      "43        550  ...        550    Chesapeake City  000005        Crestwood   \n",
      "48        550  ...        550    Chesapeake City  000013        Gilmerton   \n",
      "49        550  ...        550    Chesapeake City  000015     B M Williams   \n",
      "53        550  ...        550    Chesapeake City  000025       St Julians   \n",
      "60        550  ...        550    Chesapeake City  000042         Parkways   \n",
      "61        550  ...        550    Chesapeake City  000045        Sunray II   \n",
      "63        550  ...        550    Chesapeake City  000050       River Walk   \n",
      "64        550  ...        550    Chesapeake City  000053         Fairways   \n",
      "66        550  ...        550    Chesapeake City  000056       Green Tree   \n",
      "67        550  ...        550    Chesapeake City  000057          Cypress   \n",
      "69        710  ...        710       Norfolk City  000214           Stuart   \n",
      "72        710  ...        710       Norfolk City  000303     Bowling Park   \n",
      "79        710  ...        710       Norfolk City  000313     Union Chapel   \n",
      "82        710  ...        710       Norfolk City  000405     Chesterfield   \n",
      "84        710  ...        710       Norfolk City  000409         Fairlawn   \n",
      "85        710  ...        710       Norfolk City  000411  Ruffner Academy   \n",
      "90        NaN  ...        550    Chesapeake City  000040      River Birch   \n",
      "91        NaN  ...        650       Hampton City  000204          FORREST   \n",
      "92        NaN  ...        700  Newport News City  000305         Downtown   \n",
      "93        NaN  ...        700  Newport News City  000219        Deer Park   \n",
      "94        NaN  ...        710       Norfolk City  000203     Ghent Square   \n",
      "95        NaN  ...        710       Norfolk City  000218          Willard   \n",
      "96        NaN  ...        710       Norfolk City  000403       Brambleton   \n",
      "97        NaN  ...        800       Suffolk City  000704    BURBAGE GRANT   \n",
      "\n",
      "   SOV_DIST_y S16SOVDEM_y S16SOVREP_y S16SOVIND_y S16SOVWRI_y  \\\n",
      "1         001        1504         843         100          31   \n",
      "2         001         490         319          19           0   \n",
      "14        001        1688         954         100           7   \n",
      "17        001        1701         568          97           2   \n",
      "21        001         997         757         129           9   \n",
      "23        001         511         709          48           7   \n",
      "27        001         473         665          32           3   \n",
      "28        001         310         492          44           0   \n",
      "29        001         584         408          53           5   \n",
      "31        001         804         987          54           5   \n",
      "33        001         716         267          46           3   \n",
      "35        001         593         365          43           5   \n",
      "36        001         689         644          86           2   \n",
      "37        001        1344        1283         131          13   \n",
      "38        001        2464        1064         126           8   \n",
      "41        001        1478         925         114           7   \n",
      "42        005        2177           0           0          27   \n",
      "43        005        1652           0           0          37   \n",
      "48        005        1199           0           0         111   \n",
      "49        005        1392           0           0          87   \n",
      "53        005         754           0           0          53   \n",
      "60        005        1243           0           0          79   \n",
      "61        005         534           0           0          33   \n",
      "63        005        1348           0           0         114   \n",
      "64        005         910           0           0          53   \n",
      "66        005        1196           0           0          94   \n",
      "67        005        1360           0           0          96   \n",
      "69        005        1618           0           0          94   \n",
      "72        005        1920           0           0          19   \n",
      "79        005         813           0           0           6   \n",
      "82        005        1458           0           0          12   \n",
      "84        005        1032           0           0          54   \n",
      "85        005         524           0           0           1   \n",
      "90        005        1658           0           0         113   \n",
      "91        001         233         144          12           0   \n",
      "92        001         290          72          21           3   \n",
      "93        001        1118         545          78           8   \n",
      "94        005         198           0           0           6   \n",
      "95        005        1509           0           0         131   \n",
      "96        005         892           0           0           3   \n",
      "97        001        1191         652          79           4   \n",
      "\n",
      "                                           geometry_y  \n",
      "1   POLYGON Z ((-76.44972 37.04324 0.00000, -76.44...  \n",
      "2   POLYGON Z ((-76.73855 37.26132 0.00000, -76.73...  \n",
      "14  POLYGON Z ((-76.52754 37.15219 0.00000, -76.52...  \n",
      "17  POLYGON Z ((-76.59159 37.21082 0.00000, -76.59...  \n",
      "21  POLYGON Z ((-76.50933 37.07185 0.00000, -76.50...  \n",
      "23  POLYGON Z ((-76.52797 37.06825 0.00000, -76.52...  \n",
      "27  POLYGON Z ((-76.55089 37.03424 0.00000, -76.52...  \n",
      "28  POLYGON Z ((-76.56487 37.11316 0.00000, -76.56...  \n",
      "29  POLYGON Z ((-76.53593 37.02370 0.00000, -76.49...  \n",
      "31  POLYGON Z ((-76.55023 37.10154 0.00000, -76.54...  \n",
      "33  POLYGON Z ((-76.45883 37.03431 0.00000, -76.45...  \n",
      "35  POLYGON Z ((-76.49209 36.99289 0.00000, -76.48...  \n",
      "36  POLYGON Z ((-76.47149 37.05489 0.00000, -76.47...  \n",
      "37  POLYGON Z ((-76.48088 37.07043 0.00000, -76.48...  \n",
      "38  POLYGON Z ((-76.72009 37.28634 0.00000, -76.72...  \n",
      "41  POLYGON Z ((-76.67247 37.27895 0.00000, -76.67...  \n",
      "42  POLYGON Z ((-76.36447 36.77827 0.00000, -76.36...  \n",
      "43  POLYGON Z ((-76.29859 36.76704 0.00000, -76.29...  \n",
      "48  POLYGON Z ((-76.34480 36.75901 0.00000, -76.34...  \n",
      "49  POLYGON Z ((-76.24136 36.73662 0.00000, -76.24...  \n",
      "53  POLYGON Z ((-76.34550 36.77248 0.00000, -76.34...  \n",
      "60  POLYGON Z ((-76.25156 36.76446 0.00000, -76.25...  \n",
      "61  POLYGON Z ((-76.42973 36.76676 0.00000, -76.42...  \n",
      "63  POLYGON Z ((-76.29440 36.73677 0.00000, -76.29...  \n",
      "64  POLYGON Z ((-76.22763 36.76910 0.00000, -76.22...  \n",
      "66  POLYGON Z ((-76.24810 36.75531 0.00000, -76.24...  \n",
      "67  POLYGON Z ((-76.25435 36.77360 0.00000, -76.25...  \n",
      "69  POLYGON Z ((-76.27486 36.88205 0.00000, -76.27...  \n",
      "72  POLYGON Z ((-76.26687 36.85060 0.00000, -76.26...  \n",
      "79  POLYGON Z ((-76.27317 36.85139 0.00000, -76.27...  \n",
      "82  POLYGON Z ((-76.26425 36.84597 0.00000, -76.25...  \n",
      "84  POLYGON Z ((-76.19732 36.87504 0.00000, -76.19...  \n",
      "85  POLYGON Z ((-76.28529 36.84354 0.00000, -76.28...  \n",
      "90  POLYGON Z ((-76.23347 36.78440 0.00000, -76.23...  \n",
      "91  MULTIPOLYGON Z (((-76.42989 37.03724 0.00000, ...  \n",
      "92  POLYGON Z ((-76.48620 36.98860 0.00000, -76.48...  \n",
      "93  POLYGON Z ((-76.49411 37.09133 0.00000, -76.49...  \n",
      "94  POLYGON Z ((-76.28798 36.86092 0.00000, -76.28...  \n",
      "95  MULTIPOLYGON Z (((-76.29326 36.89415 0.00000, ...  \n",
      "96  POLYGON Z ((-76.28599 36.84207 0.00000, -76.28...  \n",
      "97  POLYGON Z ((-76.42102 36.87823 0.00000, -76.42...  \n",
      "\n",
      "[41 rows x 64 columns]\n"
     ]
    },
    {
     "data": {
      "image/svg+xml": [
       "<svg xmlns=\"http://www.w3.org/2000/svg\" xmlns:xlink=\"http://www.w3.org/1999/xlink\" width=\"100.0\" height=\"100.0\" viewBox=\"-76.52878655999999 37.14640643999999 0.02958011999999144 0.027913120000008007\" preserveAspectRatio=\"xMinYMin meet\"><g transform=\"matrix(1,0,0,-1,0,74.320726)\"><path fill-rule=\"evenodd\" fill=\"#66cc99\" stroke=\"#555555\" stroke-width=\"0.0005916023999998288\" opacity=\"0.6\" d=\"M -76.515102,37.173185 L -76.514985,37.173224 L -76.51487,37.173072999999995 L -76.514167,37.172075 L -76.51409799999999,37.171977 L -76.51053,37.167001 L -76.50763599999999,37.162942 L -76.506987,37.16206 L -76.505057,37.159321 L -76.504453,37.158505999999996 L -76.50490099999999,37.15801 L -76.50558099999999,37.157258 L -76.505623,37.157213999999996 L -76.504493,37.156209 L -76.504869,37.155774 L -76.505195,37.155412999999996 L -76.505332,37.15526 L -76.506222,37.154266 L -76.50625699999999,37.154222 L -76.506211,37.15417 L -76.50613799999999,37.154088 L -76.506046,37.153984 L -76.506008,37.153942 L -76.503586,37.151213999999996 L -76.502195,37.149648 L -76.50144499999999,37.148804 L -76.50098299999999,37.148284 L -76.500896,37.148185 L -76.50081399999999,37.148078999999996 L -76.50030199999999,37.147501999999996 L -76.500394,37.14752 L -76.500811,37.147602 L -76.500999,37.147648 L -76.50157399999999,37.147782 L -76.501655,37.147801 L -76.502274,37.147954 L -76.502915,37.148091 L -76.503942,37.148305 L -76.50453999999999,37.148429 L -76.504983,37.148520999999995 L -76.505281,37.148582999999995 L -76.50615499999999,37.148765999999995 L -76.506345,37.148804999999996 L -76.50709499999999,37.148961 L -76.507436,37.149032 L -76.50762,37.149071 L -76.508134,37.149177 L -76.50837899999999,37.149229999999996 L -76.508757,37.149279 L -76.508924,37.149284 L -76.509092,37.149274999999996 L -76.50925699999999,37.149253 L -76.509356,37.149232 L -76.509491,37.149195999999996 L -76.509621,37.149152 L -76.509987,37.148994 L -76.510215,37.14891 L -76.51028099999999,37.148900000000005 L -76.510335,37.148902 L -76.51039899999999,37.148919 L -76.51050599999999,37.148973 L -76.510637,37.149041 L -76.508924,37.150965 L -76.509545,37.151315 L -76.51120999999999,37.152251 L -76.511633,37.152507 L -76.51191,37.152684 L -76.51194,37.152716999999996 L -76.511955,37.152736999999995 L -76.511988,37.152768 L -76.512191,37.152885 L -76.51238699999999,37.152988 L -76.512922,37.153224 L -76.51308,37.153302 L -76.51333199999999,37.153408 L -76.51344999999999,37.153442 L -76.513573,37.153461 L -76.51401,37.153473 L -76.514316,37.153493 L -76.514804,37.153562 L -76.515113,37.153605999999996 L -76.51540299999999,37.153631 L -76.515492,37.153639 L -76.515929,37.153689 L -76.516142,37.153721 L -76.516598,37.153816 L -76.516874,37.153864 L -76.517342,37.153928 L -76.517468,37.153318999999996 L -76.517512,37.153074 L -76.51765,37.152286 L -76.517686,37.152135 L -76.51776,37.151892 L -76.51781199999999,37.151762 L -76.51790299999999,37.151575 L -76.518027,37.151365 L -76.518159,37.151177 L -76.51829599999999,37.151026 L -76.51840399999999,37.150923999999996 L -76.518545,37.150804 L -76.518754,37.150655 L -76.51933,37.150332 L -76.520804,37.149529 L -76.521014,37.149426999999996 L -76.52118899999999,37.149359 L -76.521352,37.149308 L -76.521549,37.149262 L -76.52175,37.149229999999996 L -76.521959,37.149212 L -76.52216899999999,37.149209 L -76.522379,37.149218999999995 L -76.52260299999999,37.149245 L -76.522846,37.149274999999996 L -76.523224,37.149307 L -76.523607,37.149325 L -76.52373899999999,37.149329 L -76.523797,37.149335 L -76.523912,37.149353999999995 L -76.524024,37.149381 L -76.524158,37.149426999999996 L -76.524284,37.149485999999996 L -76.524401,37.149556 L -76.524506,37.149637 L -76.524636,37.149763 L -76.525319,37.150441 L -76.525514,37.150636 L -76.525589,37.150701999999995 L -76.525717,37.150788999999996 L -76.525787,37.150825999999995 L -76.52591,37.150878 L -76.52604099999999,37.150918 L -76.52617599999999,37.150945 L -76.526699,37.150996 L -76.52769099999999,37.151083 L -76.527537,37.152193 L -76.52738699999999,37.153217999999995 L -76.527284,37.153943999999996 L -76.527143,37.154944 L -76.526958,37.156248 L -76.526842,37.157095999999996 L -76.52668899999999,37.158255 L -76.526499,37.159711 L -76.526462,37.159932999999995 L -76.526434,37.160064999999996 L -76.526393,37.160184 L -76.526331,37.160309999999996 L -76.525548,37.161575 L -76.525476,37.161699 L -76.52533799999999,37.161969 L -76.525285,37.162102 L -76.52514699999999,37.162413 L -76.525099,37.162503 L -76.524976,37.162713 L -76.52494399999999,37.16276 L -76.524611,37.163266 L -76.524406,37.163592 L -76.524147,37.164021 L -76.524068,37.164142999999996 L -76.523586,37.164845 L -76.523342,37.165182 L -76.52317699999999,37.16541 L -76.522883,37.165833 L -76.522536,37.166364 L -76.522183,37.166962 L -76.522038,37.167196 L -76.522018,37.167229 L -76.52194999999999,37.16732 L -76.521867,37.167401999999996 L -76.52179,37.16746 L -76.521704,37.167508 L -76.521563,37.167563 L -76.521463,37.167589 L -76.521076,37.167657 L -76.520507,37.167763 L -76.520319,37.167809 L -76.52008599999999,37.167878 L -76.51985599999999,37.167963 L -76.519481,37.168124999999996 L -76.51929,37.1682 L -76.519164,37.168237999999995 L -76.518373,37.168445 L -76.51835799999999,37.16845 L -76.518,37.168563 L -76.517888,37.168607 L -76.517754,37.168670999999996 L -76.517631,37.168748 L -76.517518,37.168835 L -76.517417,37.168932 L -76.517274,37.169078999999996 L -76.517104,37.16927 L -76.516972,37.169433999999995 L -76.516905,37.169516 L -76.516576,37.170034 L -76.516279,37.170587999999995 L -76.516211,37.170743 L -76.51608399999999,37.170995 L -76.515908,37.171296999999996 L -76.515793,37.171465999999995 L -76.515692,37.171586 L -76.515626,37.171693999999995 L -76.515446,37.172093 L -76.515339,37.172363 L -76.51523499999999,37.172675 L -76.51512199999999,37.173092 L -76.515102,37.173185 z\" /></g></svg>"
      ],
      "text/plain": [
       "<shapely.geometry.polygon.Polygon at 0x7ffa4101d1c0>"
      ]
     },
     "metadata": {},
     "output_type": "display_data"
    },
    {
     "data": {
      "image/svg+xml": [
       "<svg xmlns=\"http://www.w3.org/2000/svg\" xmlns:xlink=\"http://www.w3.org/1999/xlink\" width=\"100.0\" height=\"100.0\" viewBox=\"-76.52878655999999 37.14640643999999 0.02958011999999144 0.027913120000008007\" preserveAspectRatio=\"xMinYMin meet\"><g transform=\"matrix(1,0,0,-1,0,74.320726)\"><path fill-rule=\"evenodd\" fill=\"#66cc99\" stroke=\"#555555\" stroke-width=\"0.0005916023999998288\" opacity=\"0.6\" d=\"M -76.527537,37.152193 L -76.52738699999999,37.153217999999995 L -76.527284,37.153943999999996 L -76.527143,37.154944 L -76.526958,37.156248 L -76.526842,37.157095999999996 L -76.52668899999999,37.158255 L -76.526499,37.159711 L -76.526462,37.159932999999995 L -76.526434,37.160064999999996 L -76.526393,37.160184 L -76.526331,37.160309999999996 L -76.525548,37.161575 L -76.525476,37.161699 L -76.52533799999999,37.161969 L -76.525285,37.162102 L -76.52514699999999,37.162413 L -76.525099,37.162503 L -76.524976,37.162713 L -76.52494399999999,37.16276 L -76.524611,37.163266 L -76.524406,37.163592 L -76.524147,37.164021 L -76.524068,37.164142999999996 L -76.523586,37.164845 L -76.523342,37.165182 L -76.52317699999999,37.16541 L -76.522883,37.165833 L -76.522536,37.166364 L -76.522183,37.166962 L -76.522038,37.167196 L -76.522018,37.167229 L -76.52194999999999,37.16732 L -76.521867,37.167401999999996 L -76.52179,37.16746 L -76.521704,37.167508 L -76.521563,37.167563 L -76.521463,37.167589 L -76.521076,37.167657 L -76.520507,37.167763 L -76.520319,37.167809 L -76.52008599999999,37.167878 L -76.51985599999999,37.167963 L -76.519481,37.168124999999996 L -76.51929,37.1682 L -76.519164,37.168237999999995 L -76.518373,37.168445 L -76.51835799999999,37.16845 L -76.518,37.168563 L -76.517888,37.168607 L -76.517754,37.168670999999996 L -76.517631,37.168748 L -76.517518,37.168835 L -76.517417,37.168932 L -76.517274,37.169078999999996 L -76.517104,37.16927 L -76.516972,37.169433999999995 L -76.516905,37.169516 L -76.516576,37.170034 L -76.516279,37.170587999999995 L -76.516211,37.170743 L -76.51608399999999,37.170995 L -76.515908,37.171296999999996 L -76.515793,37.171465999999995 L -76.515692,37.171586 L -76.515626,37.171693999999995 L -76.515446,37.172093 L -76.515339,37.172363 L -76.51523499999999,37.172675 L -76.51512199999999,37.173092 L -76.515102,37.173185 L -76.514985,37.173224 L -76.51487,37.173072999999995 L -76.514167,37.172075 L -76.511591,37.168395 L -76.51061299999999,37.167004999999996 L -76.507999,37.163289999999996 L -76.507898,37.163148 L -76.5072,37.162208 L -76.504453,37.158505999999996 L -76.50490099999999,37.15801 L -76.50558099999999,37.157258 L -76.504463,37.156242 L -76.504877,37.155781 L -76.505177,37.155449 L -76.50533399999999,37.155277999999996 L -76.506241,37.154288 L -76.506101,37.154129 L -76.50601,37.154025 L -76.504558,37.152363 L -76.503568,37.15123 L -76.500975,37.148288 L -76.50081399999999,37.148078999999996 L -76.50030199999999,37.147501999999996 L -76.500394,37.14752 L -76.500811,37.147602 L -76.500999,37.147648 L -76.50157399999999,37.147782 L -76.501655,37.147801 L -76.502274,37.147954 L -76.502915,37.148091 L -76.503942,37.148305 L -76.50453999999999,37.148429 L -76.504983,37.148520999999995 L -76.505281,37.148582999999995 L -76.50615499999999,37.148765999999995 L -76.506345,37.148804999999996 L -76.50709499999999,37.148961 L -76.507436,37.149032 L -76.50762,37.149071 L -76.508134,37.149177 L -76.50837899999999,37.149229999999996 L -76.508757,37.149279 L -76.508924,37.149284 L -76.509092,37.149274999999996 L -76.50925699999999,37.149253 L -76.509356,37.149232 L -76.509491,37.149195999999996 L -76.509621,37.149152 L -76.509987,37.148994 L -76.510215,37.14891 L -76.51028099999999,37.148900000000005 L -76.510335,37.148902 L -76.51039899999999,37.148919 L -76.51050599999999,37.148973 L -76.510637,37.149041 L -76.508924,37.150965 L -76.509545,37.151315 L -76.51120999999999,37.152251 L -76.511633,37.152507 L -76.51191,37.152684 L -76.51194,37.152716999999996 L -76.511955,37.152736999999995 L -76.511988,37.152768 L -76.512191,37.152885 L -76.51238699999999,37.152988 L -76.512922,37.153224 L -76.51308,37.153302 L -76.51333199999999,37.153408 L -76.51344999999999,37.153442 L -76.513573,37.153461 L -76.51401,37.153473 L -76.514316,37.153493 L -76.514804,37.153562 L -76.515113,37.153605999999996 L -76.51540299999999,37.153631 L -76.515492,37.153639 L -76.515929,37.153689 L -76.516142,37.153721 L -76.516598,37.153816 L -76.516874,37.153864 L -76.517342,37.153928 L -76.517468,37.153318999999996 L -76.517512,37.153074 L -76.51765,37.152286 L -76.517686,37.152135 L -76.51776,37.151892 L -76.51781199999999,37.151762 L -76.51790299999999,37.151575 L -76.518027,37.151365 L -76.518159,37.151177 L -76.51829599999999,37.151026 L -76.51840399999999,37.150923999999996 L -76.518545,37.150804 L -76.518754,37.150655 L -76.51933,37.150332 L -76.520804,37.149529 L -76.521014,37.149426999999996 L -76.52118899999999,37.149359 L -76.521352,37.149308 L -76.521549,37.149262 L -76.52175,37.149229999999996 L -76.521959,37.149212 L -76.52216899999999,37.149209 L -76.522379,37.149218999999995 L -76.52260299999999,37.149245 L -76.522846,37.149274999999996 L -76.523224,37.149307 L -76.523607,37.149325 L -76.52373899999999,37.149329 L -76.523797,37.149335 L -76.523912,37.149353999999995 L -76.524024,37.149381 L -76.524158,37.149426999999996 L -76.524284,37.149485999999996 L -76.524401,37.149556 L -76.524506,37.149637 L -76.524636,37.149763 L -76.525319,37.150441 L -76.525514,37.150636 L -76.525589,37.150701999999995 L -76.525717,37.150788999999996 L -76.525787,37.150825999999995 L -76.52591,37.150878 L -76.52604099999999,37.150918 L -76.52617599999999,37.150945 L -76.526699,37.150996 L -76.52769099999999,37.151083 L -76.527537,37.152193 z\" /></g></svg>"
      ],
      "text/plain": [
       "<shapely.geometry.polygon.Polygon at 0x7ffaa253ca00>"
      ]
     },
     "metadata": {},
     "output_type": "display_data"
    },
    {
     "data": {
      "text/plain": [
       "None"
      ]
     },
     "metadata": {},
     "output_type": "display_data"
    },
    {
     "data": {
      "image/svg+xml": [
       "<svg xmlns=\"http://www.w3.org/2000/svg\" xmlns:xlink=\"http://www.w3.org/1999/xlink\" width=\"100.0\" height=\"100.0\" viewBox=\"-76.28742064 36.83844936 0.037736279999990074 0.026770280000000923\" preserveAspectRatio=\"xMinYMin meet\"><g transform=\"matrix(1,0,0,-1,0,73.70366899999999)\"><path fill-rule=\"evenodd\" fill=\"#66cc99\" stroke=\"#555555\" stroke-width=\"0.0007547255999998015\" opacity=\"0.6\" d=\"M -76.285992,36.84207 L -76.28587999999999,36.842416 L -76.28577899999999,36.842675 L -76.28565499999999,36.842937 L -76.285607,36.843026 L -76.28554199999999,36.843147 L -76.285522,36.843181 L -76.285484,36.843246 L -76.285401,36.843377 L -76.285355,36.843451 L -76.285294,36.84354 L -76.28506999999999,36.843835 L -76.284875,36.844063999999996 L -76.284618,36.844325 L -76.284511,36.844426999999996 L -76.284414,36.844512 L -76.284284,36.844626999999996 L -76.283791,36.845054999999995 L -76.283636,36.845200999999996 L -76.28349299999999,36.845343 L -76.28340399999999,36.845442999999996 L -76.28327399999999,36.845606 L -76.283157,36.84578 L -76.283079,36.845929999999996 L -76.283033,36.846041 L -76.28151199999999,36.845382 L -76.281207,36.845257 L -76.281022,36.845197999999996 L -76.28083099999999,36.845151 L -76.28063399999999,36.845116999999995 L -76.280394,36.845093999999996 L -76.28018999999999,36.845089 L -76.279955,36.845101 L -76.2797,36.845132 L -76.279529,36.845164 L -76.279371,36.845203 L -76.279179,36.845265 L -76.279068,36.84531 L -76.278993,36.84534 L -76.27881599999999,36.845425999999996 L -76.278719,36.845486 L -76.278572,36.845594999999996 L -76.278437,36.845715 L -76.27826499999999,36.845894 L -76.278157,36.846030999999996 L -76.27810000000001,36.846117 L -76.277976,36.846340999999995 L -76.277852,36.846607 L -76.27776899999999,36.84681 L -76.277626,36.847089 L -76.277388,36.847699 L -76.27682999999999,36.849148 L -76.276533,36.849925 L -76.276369,36.850339 L -76.276315,36.850476 L -76.27640099999999,36.850562 L -76.27671,36.850835 L -76.276946,36.851014 L -76.277114,36.851133 L -76.27753899999999,36.851433 L -76.277742,36.851576 L -76.278686,36.852238 L -76.27890699999999,36.852395 L -76.279281,36.852692 L -76.27960499999999,36.852948 L -76.27969499999999,36.853009 L -76.279883,36.853125 L -76.27991,36.853139999999996 L -76.280115,36.853252999999995 L -76.27989099999999,36.853663 L -76.279811,36.853829 L -76.279716,36.854073 L -76.279625,36.854389 L -76.2796,36.854521 L -76.279549,36.854932 L -76.279529,36.855168 L -76.279499,36.855359 L -76.279484,36.855427 L -76.279444,36.855601 L -76.27935099999999,36.855892 L -76.27927,36.856092 L -76.279169,36.856305 L -76.27911999999999,36.856407 L -76.27847899999999,36.856125999999996 L -76.27829299999999,36.856045 L -76.277247,36.855588999999995 L -76.276276,36.855165 L -76.275458,36.854808999999996 L -76.275309,36.854744 L -76.275132,36.854686 L -76.275035,36.854669 L -76.27495499999999,36.854667 L -76.274849,36.85468 L -76.274711,36.854704 L -76.274637,36.854701999999996 L -76.274548,36.854689 L -76.27447699999999,36.85467 L -76.273737,36.85631 L -76.27359799999999,36.856591 L -76.273425,36.856933999999995 L -76.273101,36.857592 L -76.272717,36.858466 L -76.272583,36.858772 L -76.271943,36.860246 L -76.271428,36.861444999999996 L -76.271311,36.861714 L -76.271086,36.862183 L -76.270377,36.863623 L -76.27027799999999,36.863822 L -76.27020999999999,36.863732 L -76.27014,36.86364 L -76.26966,36.86285 L -76.269363,36.862311 L -76.269167,36.861723 L -76.269032,36.861077 L -76.269042,36.860057 L -76.26934299999999,36.859125 L -76.269572,36.858537999999996 L -76.26992299999999,36.857915 L -76.270111,36.857625999999996 L -76.270335,36.857189 L -76.270442,36.856995 L -76.271123,36.855773 L -76.272153,36.853975 L -76.272166,36.853927999999996 L -76.272179,36.85388 L -76.272228,36.853788 L -76.272294,36.853601999999995 L -76.27245099999999,36.853164 L -76.27269199999999,36.852585 L -76.27311999999999,36.851507999999995 L -76.273167,36.851391 L -76.273184,36.851352 L -76.27217499999999,36.851245999999996 L -76.272142,36.851229 L -76.272109,36.851225 L -76.271136,36.851118 L -76.27091999999999,36.851085 L -76.270847,36.851057 L -76.27078399999999,36.851016 L -76.270763,36.850997 L -76.27062699999999,36.850819 L -76.27059299999999,36.85078 L -76.27046,36.850836 L -76.2703,36.850888999999995 L -76.270251,36.850902 L -76.270168,36.850919 L -76.269971,36.850937 L -76.26983899999999,36.850938 L -76.269674,36.850926 L -76.269362,36.850888 L -76.26895999999999,36.85084 L -76.26858,36.850789999999996 L -76.268177,36.850744999999996 L -76.267264,36.85064 L -76.266869,36.850598 L -76.266802,36.850592 L -76.266734,36.850587 L -76.266545,36.85057 L -76.266109,36.850556999999995 L -76.265959,36.850552 L -76.265577,36.850545 L -76.265051,36.850542 L -76.264916,36.850538 L -76.26423,36.850525999999995 L -76.26398999999999,36.850525999999995 L -76.26379399999999,36.850525 L -76.262732,36.850515 L -76.26172,36.850505 L -76.260885,36.850501 L -76.259974,36.850498 L -76.259124,36.850491999999996 L -76.25879599999999,36.850494999999995 L -76.25802,36.850499 L -76.257465,36.85051 L -76.25744999999999,36.849984 L -76.25743,36.849565999999996 L -76.257423,36.849309 L -76.257401,36.849091 L -76.257367,36.848917 L -76.257319,36.848766999999995 L -76.257218,36.848527 L -76.257165,36.848321999999996 L -76.257126,36.84823 L -76.257061,36.848124999999996 L -76.256998,36.848045 L -76.25688699999999,36.847937 L -76.256811,36.847878 L -76.256636,36.847757 L -76.256466,36.847660999999995 L -76.256286,36.847577 L -76.256095,36.847504 L -76.255938,36.847454 L -76.255735,36.847403 L -76.25556999999999,36.847373 L -76.255341,36.847342 L -76.255122,36.84733 L -76.25507999999999,36.847331 L -76.254938,36.847336 L -76.254757,36.847356999999995 L -76.254533,36.847391 L -76.254346,36.847432 L -76.254201,36.847473 L -76.254025,36.847536999999996 L -76.253802,36.847635 L -76.253616,36.847730999999996 L -76.253441,36.847839 L -76.25330199999999,36.847955999999996 L -76.252556,36.848580999999996 L -76.25246899999999,36.848636 L -76.252439,36.848651 L -76.252333,36.848693 L -76.25222699999999,36.848718 L -76.252113,36.848731 L -76.251997,36.848731 L -76.251905,36.848721 L -76.25179399999999,36.848696 L -76.251688,36.848658 L -76.25164699999999,36.848636 L -76.251539,36.848569999999995 L -76.251429,36.848476999999995 L -76.251353,36.848389 L -76.251294,36.848304 L -76.251243,36.848248999999996 L -76.25116899999999,36.848186999999996 L -76.251082,36.848137 L -76.25173,36.847867 L -76.251897,36.847789999999996 L -76.252027,36.847716 L -76.252191,36.847603 L -76.252282,36.847525999999995 L -76.25241799999999,36.847387 L -76.252517,36.847260999999996 L -76.2526,36.847125999999996 L -76.25267,36.846975 L -76.252702,36.846879 L -76.252731,36.846741 L -76.252748,36.846602 L -76.252749,36.846254 L -76.25739399999999,36.846112999999995 L -76.259225,36.846097 L -76.264247,36.845971 L -76.264383,36.845292 L -76.26420999999999,36.845137 L -76.264132,36.845067 L -76.263995,36.844857 L -76.263913,36.844606999999996 L -76.26370399999999,36.84446 L -76.263499,36.844279 L -76.26335999999999,36.844080999999996 L -76.26323599999999,36.84388 L -76.26312,36.843613999999995 L -76.263021,36.843154999999996 L -76.263018,36.843058 L -76.262579,36.840798 L -76.265034,36.840765 L -76.265121,36.840756999999996 L -76.26520699999999,36.84075 L -76.265889,36.840683 L -76.267219,36.840554999999995 L -76.269262,36.840247 L -76.27104899999999,36.840120999999996 L -76.274962,36.839847 L -76.276136,36.840069 L -76.281313,36.841052 L -76.28594,36.84193 L -76.286023,36.841946 L -76.285992,36.84207 z\" /></g></svg>"
      ],
      "text/plain": [
       "<shapely.geometry.polygon.Polygon at 0x7ffac071b940>"
      ]
     },
     "metadata": {},
     "output_type": "display_data"
    }
   ],
   "source": [
    "#Show a random difference\n",
    "test = shp_final_merge[~vals].sample(axis = 0, n=1).index[0]\n",
    "print(shp_final_merge[~vals])\n",
    "display(shp_final_merge.iloc[test]['geometry_x'])\n",
    "display(shp_final_merge.iloc[test]['geometry_y'])\n",
    "\n",
    "test = shp_final_merge[~vals].sample(axis = 0).index[0]\n",
    "display(shp_final_merge.iloc[test]['geometry_x'])\n",
    "display(shp_final_merge.iloc[test]['geometry_y'])"
   ]
  },
  {
   "cell_type": "markdown",
   "metadata": {},
   "source": [
    "### County 650 ex"
   ]
  },
  {
   "cell_type": "code",
   "execution_count": 50,
   "metadata": {},
   "outputs": [
    {
     "name": "stdout",
     "output_type": "stream",
     "text": [
      "(3, 64)\n"
     ]
    },
    {
     "data": {
      "text/plain": [
       "<matplotlib.axes._subplots.AxesSubplot at 0x7ffab06039a0>"
      ]
     },
     "execution_count": 50,
     "metadata": {},
     "output_type": "execute_result"
    },
    {
     "data": {
      "image/png": "[encoded data removed]",
      "text/plain": [
       "<Figure size 432x288 with 1 Axes>"
      ]
     },
     "metadata": {
      "needs_background": "light"
     },
     "output_type": "display_data"
    }
   ],
   "source": [
    "print(shp_final_merge[shp_final_merge['unique_id'].str[0:3] == '650'].shape)\n",
    "ex_x = gpd.GeoDataFrame(shp_final_merge[shp_final_merge['unique_id'].str[0:3]== '650'], geometry = 'geometry_x', crs = proj)\n",
    "ex_y = gpd.GeoDataFrame(shp_final_merge[shp_final_merge['unique_id'].str[0:3]== '650'], geometry = 'geometry_y', crs = proj)\n",
    "\n",
    "gpd.overlay(ex_x, ex_y, how = 'symmetric_difference').plot()"
   ]
  },
  {
   "cell_type": "markdown",
   "metadata": {},
   "source": [
    "## Validating Election Results"
   ]
  },
  {
   "cell_type": "code",
   "execution_count": 52,
   "metadata": {},
   "outputs": [
    {
     "data": {
      "text/plain": [
       "Index(['COUNTYFP', 'LOCALITY', 'VTDST', 'PRECINCT', 'SOV_DIST', 'S16SOVDEM',\n",
       "       'S16SOVREP', 'S16SOVIND', 'S16SOVWRI', 'geometry', 'unique_id'],\n",
       "      dtype='object')"
      ]
     },
     "execution_count": 52,
     "metadata": {},
     "output_type": "execute_result"
    }
   ],
   "source": [
    "final.columns"
   ]
  },
  {
   "cell_type": "code",
   "execution_count": 53,
   "metadata": {},
   "outputs": [],
   "source": [
    "column_list = ['S16SOVDEM', 'S16SOVREP', 'S16SOVIND', 'S16SOVWRI']"
   ]
  },
  {
   "cell_type": "code",
   "execution_count": 54,
   "metadata": {},
   "outputs": [],
   "source": [
    "def validater_row (df, column_List):\n",
    "    matching_rows = 0\n",
    "    different_rows = 0\n",
    "    diff_list=[]\n",
    "    diff_values = []\n",
    "    max_diff = 0\n",
    "    \n",
    "    for j in range(0,len(df.index)):\n",
    "        same = True\n",
    "        for i in column_List:\n",
    "            left_Data = i + \"_x\"\n",
    "            right_Data = i + \"_y\"\n",
    "            diff = abs(df.iloc[j][left_Data]-df.iloc[j][right_Data])\n",
    "            \n",
    "            if(diff != 0):\n",
    "                diff_values.append(abs(diff))\n",
    "                same = False\n",
    "                if(np.isnan(diff)):\n",
    "                    print(\"NaN value at diff is: \", df.iloc[j]['unique_id'])\n",
    "                if (diff>max_diff):\n",
    "                    max_diff = diff\n",
    "                    #add line to check percent from total vote difference is\n",
    "                    perc_diff_from_vest = (diff/df.iloc[j][right_Data])*100\n",
    "                    print(\"New max diff is: \", str(max_diff))\n",
    "                    print('% difference from VEST total is: ', str(perc_diff_from_vest))\n",
    "                    print(df.iloc[j]['unique_id'])\n",
    "        if(same != True):\n",
    "            different_rows +=1\n",
    "            diff_list.append(df.iloc[j]['unique_id'])\n",
    "        else:\n",
    "            matching_rows +=1\n",
    "    print(\"There are \", len(df.index),\" total rows\")\n",
    "    print(different_rows,\" of these rows have election result differences\")\n",
    "    print(matching_rows,\" of these rows are the same\")\n",
    "    print(\"\")\n",
    "    print(\"The max difference between any one shared column in a row is: \", max_diff)\n",
    "    if(len(diff_values)!=0):\n",
    "        print(\"The average difference is: \", str(sum(diff_values)/len(diff_values)))\n",
    "        #add line for % of total vote that difference is\n",
    "    count_big_diff = len([i for i in diff_values if i > 10])\n",
    "    print(\"There are \", str(count_big_diff), \"precinct results with a difference greater than 5\")\n",
    "    diff_list.sort()"
   ]
  },
  {
   "cell_type": "code",
   "execution_count": 65,
   "metadata": {},
   "outputs": [],
   "source": [
    "final_join_merge = pd.merge(join, final, on = 'unique_id', how = 'inner', suffixes = ['_x', '_y'])"
   ]
  },
  {
   "cell_type": "code",
   "execution_count": 66,
   "metadata": {},
   "outputs": [
    {
     "name": "stdout",
     "output_type": "stream",
     "text": [
      "New max diff is:  1.0\n",
      "% difference from VEST total is:  0.11862396204033215\n",
      "650214\n",
      "There are  90  total rows\n",
      "47  of these rows have election result differences\n",
      "43  of these rows are the same\n",
      "\n",
      "The max difference between any one shared column in a row is:  1.0\n",
      "The average difference is:  1.0\n",
      "There are  0 precinct results with a difference greater than 5\n"
     ]
    }
   ],
   "source": [
    "validater_row(final_join_merge, column_list)"
   ]
  },
  {
   "cell_type": "code",
   "execution_count": null,
   "metadata": {},
   "outputs": [],
   "source": []
  }
 ],
 "metadata": {
  "kernelspec": {
   "display_name": "Python 3",
   "language": "python",
   "name": "python3"
  },
  "language_info": {
   "codemirror_mode": {
    "name": "ipython",
    "version": 3
   },
   "file_extension": ".py",
   "mimetype": "text/x-python",
   "name": "python",
   "nbconvert_exporter": "python",
   "pygments_lexer": "ipython3",
   "version": "3.8.3"
  }
 },
 "nbformat": 4,
 "nbformat_minor": 4
}
