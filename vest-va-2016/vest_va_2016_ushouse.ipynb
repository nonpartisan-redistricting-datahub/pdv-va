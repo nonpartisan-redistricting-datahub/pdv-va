{
 "cells": [
  {
   "cell_type": "code",
   "execution_count": 1,
   "metadata": {},
   "outputs": [],
   "source": [
    "import pandas as pd\n",
    "import geopandas as gpd\n",
    "import matplotlib.pyplot as plt\n",
    "#import maup\n",
    "from zipfile import ZipFile\n",
    "import numpy as np\n",
    "import os\n",
    "import shutil\n",
    "import shapely.geometry"
   ]
  },
  {
   "cell_type": "markdown",
   "metadata": {},
   "source": [
    "# US House"
   ]
  },
  {
   "cell_type": "markdown",
   "metadata": {},
   "source": [
    "## Final File - Load"
   ]
  },
  {
   "cell_type": "code",
   "execution_count": 2,
   "metadata": {},
   "outputs": [
    {
     "name": "stdout",
     "output_type": "stream",
     "text": [
      "/Users/lilyfalk/sandbox/pdv-va\n"
     ]
    }
   ],
   "source": [
    "cd '/Users/lilyfalk/sandbox/pdv-va'"
   ]
  },
  {
   "cell_type": "code",
   "execution_count": 3,
   "metadata": {},
   "outputs": [
    {
     "data": {
      "text/html": [
       "<div>\n",
       "<style scoped>\n",
       "    .dataframe tbody tr th:only-of-type {\n",
       "        vertical-align: middle;\n",
       "    }\n",
       "\n",
       "    .dataframe tbody tr th {\n",
       "        vertical-align: top;\n",
       "    }\n",
       "\n",
       "    .dataframe thead th {\n",
       "        text-align: right;\n",
       "    }\n",
       "</style>\n",
       "<table border=\"1\" class=\"dataframe\">\n",
       "  <thead>\n",
       "    <tr style=\"text-align: right;\">\n",
       "      <th></th>\n",
       "      <th>COUNTYFP</th>\n",
       "      <th>LOCALITY</th>\n",
       "      <th>VTDST</th>\n",
       "      <th>PRECINCT</th>\n",
       "      <th>CON_DIST</th>\n",
       "      <th>G16HORDEM</th>\n",
       "      <th>G16HORREP</th>\n",
       "      <th>G16HORIND</th>\n",
       "      <th>G16HORWRI</th>\n",
       "      <th>geometry</th>\n",
       "    </tr>\n",
       "  </thead>\n",
       "  <tbody>\n",
       "    <tr>\n",
       "      <th>0</th>\n",
       "      <td>001</td>\n",
       "      <td>Accomack County</td>\n",
       "      <td>000101</td>\n",
       "      <td>Chincoteague</td>\n",
       "      <td>2</td>\n",
       "      <td>453</td>\n",
       "      <td>1319</td>\n",
       "      <td>0</td>\n",
       "      <td>2</td>\n",
       "      <td>POLYGON Z ((-75.42507 37.89957 0.00000, -75.42...</td>\n",
       "    </tr>\n",
       "    <tr>\n",
       "      <th>1</th>\n",
       "      <td>001</td>\n",
       "      <td>Accomack County</td>\n",
       "      <td>000201</td>\n",
       "      <td>Atlantic</td>\n",
       "      <td>2</td>\n",
       "      <td>144</td>\n",
       "      <td>643</td>\n",
       "      <td>0</td>\n",
       "      <td>2</td>\n",
       "      <td>POLYGON Z ((-75.59978 37.87664 0.00000, -75.59...</td>\n",
       "    </tr>\n",
       "    <tr>\n",
       "      <th>2</th>\n",
       "      <td>001</td>\n",
       "      <td>Accomack County</td>\n",
       "      <td>000202</td>\n",
       "      <td>Greenbackville</td>\n",
       "      <td>2</td>\n",
       "      <td>298</td>\n",
       "      <td>799</td>\n",
       "      <td>0</td>\n",
       "      <td>1</td>\n",
       "      <td>POLYGON Z ((-75.49919 37.93416 0.00000, -75.49...</td>\n",
       "    </tr>\n",
       "    <tr>\n",
       "      <th>3</th>\n",
       "      <td>001</td>\n",
       "      <td>Accomack County</td>\n",
       "      <td>000301</td>\n",
       "      <td>New Church</td>\n",
       "      <td>2</td>\n",
       "      <td>723</td>\n",
       "      <td>670</td>\n",
       "      <td>0</td>\n",
       "      <td>0</td>\n",
       "      <td>POLYGON Z ((-75.64987 37.92702 0.00000, -75.64...</td>\n",
       "    </tr>\n",
       "    <tr>\n",
       "      <th>4</th>\n",
       "      <td>001</td>\n",
       "      <td>Accomack County</td>\n",
       "      <td>000401</td>\n",
       "      <td>Bloxom</td>\n",
       "      <td>2</td>\n",
       "      <td>124</td>\n",
       "      <td>395</td>\n",
       "      <td>0</td>\n",
       "      <td>0</td>\n",
       "      <td>POLYGON Z ((-75.71556 37.87513 0.00000, -75.71...</td>\n",
       "    </tr>\n",
       "    <tr>\n",
       "      <th>...</th>\n",
       "      <td>...</td>\n",
       "      <td>...</td>\n",
       "      <td>...</td>\n",
       "      <td>...</td>\n",
       "      <td>...</td>\n",
       "      <td>...</td>\n",
       "      <td>...</td>\n",
       "      <td>...</td>\n",
       "      <td>...</td>\n",
       "      <td>...</td>\n",
       "    </tr>\n",
       "    <tr>\n",
       "      <th>2453</th>\n",
       "      <td>195</td>\n",
       "      <td>Wise County</td>\n",
       "      <td>000301</td>\n",
       "      <td>Big Stone Gap</td>\n",
       "      <td>9</td>\n",
       "      <td>479</td>\n",
       "      <td>1263</td>\n",
       "      <td>55</td>\n",
       "      <td>5</td>\n",
       "      <td>POLYGON Z ((-82.77275 36.84962 0.00000, -82.77...</td>\n",
       "    </tr>\n",
       "    <tr>\n",
       "      <th>2454</th>\n",
       "      <td>095</td>\n",
       "      <td>James City County</td>\n",
       "      <td>000202</td>\n",
       "      <td>Jamestown B (CD 2)</td>\n",
       "      <td>2</td>\n",
       "      <td>8</td>\n",
       "      <td>0</td>\n",
       "      <td>0</td>\n",
       "      <td>0</td>\n",
       "      <td>POLYGON Z ((-76.73414 37.28607 0.00000, -76.73...</td>\n",
       "    </tr>\n",
       "    <tr>\n",
       "      <th>2455</th>\n",
       "      <td>095</td>\n",
       "      <td>James City County</td>\n",
       "      <td>000202</td>\n",
       "      <td>Jamestown B (CD 1)</td>\n",
       "      <td>1</td>\n",
       "      <td>1242</td>\n",
       "      <td>1258</td>\n",
       "      <td>103</td>\n",
       "      <td>8</td>\n",
       "      <td>POLYGON Z ((-76.73272 37.28612 0.00000, -76.73...</td>\n",
       "    </tr>\n",
       "    <tr>\n",
       "      <th>2456</th>\n",
       "      <td>095</td>\n",
       "      <td>James City County</td>\n",
       "      <td>000504</td>\n",
       "      <td>Roberts D (CD 1)</td>\n",
       "      <td>1</td>\n",
       "      <td>13</td>\n",
       "      <td>15</td>\n",
       "      <td>1</td>\n",
       "      <td>0</td>\n",
       "      <td>POLYGON Z ((-76.74957 37.23549 0.00000, -76.74...</td>\n",
       "    </tr>\n",
       "    <tr>\n",
       "      <th>2457</th>\n",
       "      <td>095</td>\n",
       "      <td>James City County</td>\n",
       "      <td>000504</td>\n",
       "      <td>Roberts D (CD 2)</td>\n",
       "      <td>2</td>\n",
       "      <td>1076</td>\n",
       "      <td>1569</td>\n",
       "      <td>0</td>\n",
       "      <td>5</td>\n",
       "      <td>POLYGON Z ((-76.74698 37.23822 0.00000, -76.74...</td>\n",
       "    </tr>\n",
       "  </tbody>\n",
       "</table>\n",
       "<p>2458 rows × 10 columns</p>\n",
       "</div>"
      ],
      "text/plain": [
       "     COUNTYFP           LOCALITY   VTDST            PRECINCT CON_DIST  \\\n",
       "0         001    Accomack County  000101        Chincoteague        2   \n",
       "1         001    Accomack County  000201            Atlantic        2   \n",
       "2         001    Accomack County  000202      Greenbackville        2   \n",
       "3         001    Accomack County  000301          New Church        2   \n",
       "4         001    Accomack County  000401              Bloxom        2   \n",
       "...       ...                ...     ...                 ...      ...   \n",
       "2453      195        Wise County  000301       Big Stone Gap        9   \n",
       "2454      095  James City County  000202  Jamestown B (CD 2)        2   \n",
       "2455      095  James City County  000202  Jamestown B (CD 1)        1   \n",
       "2456      095  James City County  000504    Roberts D (CD 1)        1   \n",
       "2457      095  James City County  000504    Roberts D (CD 2)        2   \n",
       "\n",
       "      G16HORDEM  G16HORREP  G16HORIND  G16HORWRI  \\\n",
       "0           453       1319          0          2   \n",
       "1           144        643          0          2   \n",
       "2           298        799          0          1   \n",
       "3           723        670          0          0   \n",
       "4           124        395          0          0   \n",
       "...         ...        ...        ...        ...   \n",
       "2453        479       1263         55          5   \n",
       "2454          8          0          0          0   \n",
       "2455       1242       1258        103          8   \n",
       "2456         13         15          1          0   \n",
       "2457       1076       1569          0          5   \n",
       "\n",
       "                                               geometry  \n",
       "0     POLYGON Z ((-75.42507 37.89957 0.00000, -75.42...  \n",
       "1     POLYGON Z ((-75.59978 37.87664 0.00000, -75.59...  \n",
       "2     POLYGON Z ((-75.49919 37.93416 0.00000, -75.49...  \n",
       "3     POLYGON Z ((-75.64987 37.92702 0.00000, -75.64...  \n",
       "4     POLYGON Z ((-75.71556 37.87513 0.00000, -75.71...  \n",
       "...                                                 ...  \n",
       "2453  POLYGON Z ((-82.77275 36.84962 0.00000, -82.77...  \n",
       "2454  POLYGON Z ((-76.73414 37.28607 0.00000, -76.73...  \n",
       "2455  POLYGON Z ((-76.73272 37.28612 0.00000, -76.73...  \n",
       "2456  POLYGON Z ((-76.74957 37.23549 0.00000, -76.74...  \n",
       "2457  POLYGON Z ((-76.74698 37.23822 0.00000, -76.74...  \n",
       "\n",
       "[2458 rows x 10 columns]"
      ]
     },
     "execution_count": 3,
     "metadata": {},
     "output_type": "execute_result"
    }
   ],
   "source": [
    "final = gpd.read_file('./vest_va_2016/va_2016_ushouse/va_2016_ushouse.shp')\n",
    "final"
   ]
  },
  {
   "cell_type": "markdown",
   "metadata": {},
   "source": [
    "# Election Results: US House"
   ]
  },
  {
   "cell_type": "markdown",
   "metadata": {},
   "source": [
    "## Read in election results and append since files split accross districts"
   ]
  },
  {
   "cell_type": "code",
   "execution_count": 4,
   "metadata": {},
   "outputs": [
    {
     "data": {
      "text/plain": [
       "'/Users/lilyfalk/sandbox/pdv-va'"
      ]
     },
     "execution_count": 4,
     "metadata": {},
     "output_type": "execute_result"
    }
   ],
   "source": [
    "pwd"
   ]
  },
  {
   "cell_type": "code",
   "execution_count": 5,
   "metadata": {},
   "outputs": [
    {
     "name": "stdout",
     "output_type": "stream",
     "text": [
      "1  added to list\n",
      "2  added to list\n",
      "3  added to list\n",
      "4  added to list\n",
      "5  added to list\n",
      "6  added to list\n",
      "7  added to list\n",
      "8  added to list\n",
      "9  added to list\n",
      "10  added to list\n",
      "11  added to list\n"
     ]
    }
   ],
   "source": [
    "#Create list 1 through 11 to enable later loop to load in all 11 congressional districts\n",
    "district = [str(1), str(2), str(3), str(4), str(5), str(6), str(7), str(8), str(9), str(10), str(11)]\n",
    "#Load in all results, check party by district to match for this dictionary, then reload in and rename in code\n",
    "candidate_to_party_dict = {'Robert Joseph Wittman': 'G16HORREP',\n",
    "                           'Matthew Dew Rowe': 'G16HORDEM', \n",
    "                           'Glenda Gail Parker': 'G16HORIND',\n",
    "                           'All Others': 'G16HORWRI', \n",
    "                           'Scott William Taylor': 'G16HORREP',\n",
    "                           'Shaun D. Brown': 'G16HORDEM',\n",
    "                           'Robert Cortez Scott': 'G16HORDEM',\n",
    "                           'Martin L. Williams': 'G16HORREP',\n",
    "                           'A. Donald McEachin': 'G16HORDEM',\n",
    "                           'Michael L. Wade': 'G16HORREP',\n",
    "                           'Tom A. Garrett, Jr': 'G16HORREP',\n",
    "                           'Jane D. Dittmar': 'G16HORDEM', \n",
    "                           'Robert William Goodlatte': 'G16HORREP',\n",
    "                           'Kai Degner': 'G16HORDEM',\n",
    "                           'David A. Brat': 'G16HORREP',\n",
    "                           'Eileen Mcneil Bedell': 'G16HORDEM',\n",
    "                           'Charles Alan Hernick': 'G16HORREP',\n",
    "                           'Donald Sternoff Beyer, Jr.': 'G16HORDEM', \n",
    "                           'Julio Gracia': 'G16HORIND',\n",
    "                           'Howard Morgan Griffith': 'G16HORREP',\n",
    "                           'Derek W. Kitts': 'G16HORDEM', \n",
    "                           'Janice Allen Boyd': 'G16HORIND',\n",
    "                           'Barbara Jean Comstock': 'G16HORREP',\n",
    "                           'Luann L. Bennett': 'G16HORDEM',\n",
    "                           'Gerald Edward Connolly': 'G16HORDEM'}\n",
    "\n",
    "elections_by_district = []\n",
    "for i in district:\n",
    "    ref = './vest_va_2016/us_house_results_by_district_2016/'\n",
    "    file_name = ref + 'Virginia_Elections_Database__2016_U_S_House_General_Election_District_'+ i +'_including_precincts.csv'\n",
    "    results = pd.read_csv(file_name)\n",
    "    print(i, ' added to list')\n",
    "    results['CON_DIST'] = i\n",
    "    for col in results.columns:\n",
    "        if col in candidate_to_party_dict.keys():\n",
    "            col_new_name = candidate_to_party_dict.get(col)\n",
    "            results = results.rename(columns = {col:col_new_name})\n",
    "    elections_by_district.append(results)"
   ]
  },
  {
   "cell_type": "code",
   "execution_count": 6,
   "metadata": {},
   "outputs": [
    {
     "data": {
      "text/html": [
       "<div>\n",
       "<style scoped>\n",
       "    .dataframe tbody tr th:only-of-type {\n",
       "        vertical-align: middle;\n",
       "    }\n",
       "\n",
       "    .dataframe tbody tr th {\n",
       "        vertical-align: top;\n",
       "    }\n",
       "\n",
       "    .dataframe thead th {\n",
       "        text-align: right;\n",
       "    }\n",
       "</style>\n",
       "<table border=\"1\" class=\"dataframe\">\n",
       "  <thead>\n",
       "    <tr style=\"text-align: right;\">\n",
       "      <th></th>\n",
       "      <th>index</th>\n",
       "      <th>County/City</th>\n",
       "      <th>Ward</th>\n",
       "      <th>Pct</th>\n",
       "      <th>G16HORREP</th>\n",
       "      <th>G16HORDEM</th>\n",
       "      <th>G16HORIND</th>\n",
       "      <th>G16HORWRI</th>\n",
       "      <th>Total Votes Cast</th>\n",
       "      <th>CON_DIST</th>\n",
       "    </tr>\n",
       "  </thead>\n",
       "  <tbody>\n",
       "    <tr>\n",
       "      <th>0</th>\n",
       "      <td>0</td>\n",
       "      <td>NaN</td>\n",
       "      <td>NaN</td>\n",
       "      <td>NaN</td>\n",
       "      <td>Republican</td>\n",
       "      <td>Democratic</td>\n",
       "      <td>Independent</td>\n",
       "      <td>NaN</td>\n",
       "      <td>NaN</td>\n",
       "      <td>1</td>\n",
       "    </tr>\n",
       "    <tr>\n",
       "      <th>1</th>\n",
       "      <td>1</td>\n",
       "      <td>Caroline County</td>\n",
       "      <td>-</td>\n",
       "      <td>101 - Bowling Green</td>\n",
       "      <td>739</td>\n",
       "      <td>372</td>\n",
       "      <td>32</td>\n",
       "      <td>3</td>\n",
       "      <td>1,146</td>\n",
       "      <td>1</td>\n",
       "    </tr>\n",
       "    <tr>\n",
       "      <th>2</th>\n",
       "      <td>2</td>\n",
       "      <td>Caroline County</td>\n",
       "      <td>-</td>\n",
       "      <td>102 - Sparta</td>\n",
       "      <td>556</td>\n",
       "      <td>307</td>\n",
       "      <td>26</td>\n",
       "      <td>4</td>\n",
       "      <td>893</td>\n",
       "      <td>1</td>\n",
       "    </tr>\n",
       "    <tr>\n",
       "      <th>3</th>\n",
       "      <td>3</td>\n",
       "      <td>Caroline County</td>\n",
       "      <td>-</td>\n",
       "      <td>201 - North Madison</td>\n",
       "      <td>531</td>\n",
       "      <td>450</td>\n",
       "      <td>25</td>\n",
       "      <td>2</td>\n",
       "      <td>1,008</td>\n",
       "      <td>1</td>\n",
       "    </tr>\n",
       "    <tr>\n",
       "      <th>4</th>\n",
       "      <td>4</td>\n",
       "      <td>Caroline County</td>\n",
       "      <td>-</td>\n",
       "      <td>202 - South Madison</td>\n",
       "      <td>750</td>\n",
       "      <td>451</td>\n",
       "      <td>48</td>\n",
       "      <td>5</td>\n",
       "      <td>1,254</td>\n",
       "      <td>1</td>\n",
       "    </tr>\n",
       "  </tbody>\n",
       "</table>\n",
       "</div>"
      ],
      "text/plain": [
       "   index      County/City Ward                  Pct   G16HORREP   G16HORDEM  \\\n",
       "0      0              NaN  NaN                  NaN  Republican  Democratic   \n",
       "1      1  Caroline County    -  101 - Bowling Green         739         372   \n",
       "2      2  Caroline County    -         102 - Sparta         556         307   \n",
       "3      3  Caroline County    -  201 - North Madison         531         450   \n",
       "4      4  Caroline County    -  202 - South Madison         750         451   \n",
       "\n",
       "     G16HORIND G16HORWRI Total Votes Cast CON_DIST  \n",
       "0  Independent       NaN              NaN        1  \n",
       "1           32         3            1,146        1  \n",
       "2           26         4              893        1  \n",
       "3           25         2            1,008        1  \n",
       "4           48         5            1,254        1  "
      ]
     },
     "execution_count": 6,
     "metadata": {},
     "output_type": "execute_result"
    }
   ],
   "source": [
    "df = pd.concat(elections_by_district, axis = 0)\n",
    "df = df.reset_index()\n",
    "\n",
    "df.head()"
   ]
  },
  {
   "cell_type": "code",
   "execution_count": 7,
   "metadata": {},
   "outputs": [
    {
     "data": {
      "text/html": [
       "<div>\n",
       "<style scoped>\n",
       "    .dataframe tbody tr th:only-of-type {\n",
       "        vertical-align: middle;\n",
       "    }\n",
       "\n",
       "    .dataframe tbody tr th {\n",
       "        vertical-align: top;\n",
       "    }\n",
       "\n",
       "    .dataframe thead th {\n",
       "        text-align: right;\n",
       "    }\n",
       "</style>\n",
       "<table border=\"1\" class=\"dataframe\">\n",
       "  <thead>\n",
       "    <tr style=\"text-align: right;\">\n",
       "      <th></th>\n",
       "      <th>index</th>\n",
       "      <th>Pct</th>\n",
       "      <th>G16HORREP</th>\n",
       "      <th>G16HORDEM</th>\n",
       "      <th>G16HORIND</th>\n",
       "      <th>G16HORWRI</th>\n",
       "      <th>CON_DIST</th>\n",
       "      <th>LOCALITY</th>\n",
       "      <th>COUNTYFP</th>\n",
       "    </tr>\n",
       "  </thead>\n",
       "  <tbody>\n",
       "    <tr>\n",
       "      <th>1</th>\n",
       "      <td>1</td>\n",
       "      <td>101 - Bowling Green</td>\n",
       "      <td>739</td>\n",
       "      <td>372</td>\n",
       "      <td>32</td>\n",
       "      <td>3</td>\n",
       "      <td>1</td>\n",
       "      <td>Caroline County</td>\n",
       "      <td>033</td>\n",
       "    </tr>\n",
       "    <tr>\n",
       "      <th>2</th>\n",
       "      <td>2</td>\n",
       "      <td>102 - Sparta</td>\n",
       "      <td>556</td>\n",
       "      <td>307</td>\n",
       "      <td>26</td>\n",
       "      <td>4</td>\n",
       "      <td>1</td>\n",
       "      <td>Caroline County</td>\n",
       "      <td>033</td>\n",
       "    </tr>\n",
       "    <tr>\n",
       "      <th>3</th>\n",
       "      <td>3</td>\n",
       "      <td>201 - North Madison</td>\n",
       "      <td>531</td>\n",
       "      <td>450</td>\n",
       "      <td>25</td>\n",
       "      <td>2</td>\n",
       "      <td>1</td>\n",
       "      <td>Caroline County</td>\n",
       "      <td>033</td>\n",
       "    </tr>\n",
       "    <tr>\n",
       "      <th>4</th>\n",
       "      <td>4</td>\n",
       "      <td>202 - South Madison</td>\n",
       "      <td>750</td>\n",
       "      <td>451</td>\n",
       "      <td>48</td>\n",
       "      <td>5</td>\n",
       "      <td>1</td>\n",
       "      <td>Caroline County</td>\n",
       "      <td>033</td>\n",
       "    </tr>\n",
       "    <tr>\n",
       "      <th>5</th>\n",
       "      <td>5</td>\n",
       "      <td>301 - Port Royal</td>\n",
       "      <td>387</td>\n",
       "      <td>186</td>\n",
       "      <td>21</td>\n",
       "      <td>2</td>\n",
       "      <td>1</td>\n",
       "      <td>Caroline County</td>\n",
       "      <td>033</td>\n",
       "    </tr>\n",
       "  </tbody>\n",
       "</table>\n",
       "</div>"
      ],
      "text/plain": [
       "   index                  Pct  G16HORREP  G16HORDEM  G16HORIND  G16HORWRI  \\\n",
       "1      1  101 - Bowling Green        739        372         32          3   \n",
       "2      2         102 - Sparta        556        307         26          4   \n",
       "3      3  201 - North Madison        531        450         25          2   \n",
       "4      4  202 - South Madison        750        451         48          5   \n",
       "5      5     301 - Port Royal        387        186         21          2   \n",
       "\n",
       "  CON_DIST         LOCALITY COUNTYFP  \n",
       "1        1  Caroline County      033  \n",
       "2        1  Caroline County      033  \n",
       "3        1  Caroline County      033  \n",
       "4        1  Caroline County      033  \n",
       "5        1  Caroline County      033  "
      ]
     },
     "execution_count": 7,
     "metadata": {},
     "output_type": "execute_result"
    }
   ],
   "source": [
    "df = df[df['County/City'] != 'TOTALS']\n",
    "df['LOCALITY'] = df['County/City']\n",
    "df = df.iloc[1:]\n",
    "df = df.drop(['County/City', 'Ward', 'Total Votes Cast'], axis = 1)\n",
    "df = df.fillna(value = 0)\n",
    "df = df[(df['G16HORDEM'] != 'Democratic') & (df['G16HORREP'] != 'Republican') & (df['G16HORIND'] != 'Independent')]\n",
    "county_dict = pd.Series(final['COUNTYFP'].values, index = final['LOCALITY']).to_dict()\n",
    "df['COUNTYFP'] = df['LOCALITY'].map(county_dict)\n",
    "\n",
    "df['G16HORDEM'] = df['G16HORDEM'].map(lambda x: str(x).replace(',', ''))\n",
    "df['G16HORREP'] = df['G16HORREP'].map(lambda x: str(x).replace(',', ''))\n",
    "df['G16HORIND'] = df['G16HORIND'].map(lambda x: str(x).replace(',', ''))\n",
    "df['G16HORWRI'] = df['G16HORWRI'].map(lambda x: str(x).replace(',', ''))\n",
    "\n",
    "df['G16HORDEM'] = df['G16HORDEM'].astype(str).astype(float).astype(int)\n",
    "df['G16HORREP'] = df['G16HORREP'].astype(str).astype(float).astype(int)\n",
    "df['G16HORIND'] = df['G16HORIND'].astype(str).astype(float).astype(int)\n",
    "df['G16HORWRI'] = df['G16HORWRI'].astype(str).astype(float).astype(int)\n",
    "\n",
    "df['CON_DIST'] = df['CON_DIST'].astype(str)\n",
    "\n",
    "df.head()"
   ]
  },
  {
   "cell_type": "markdown",
   "metadata": {},
   "source": [
    "### Check column totals"
   ]
  },
  {
   "cell_type": "code",
   "execution_count": 8,
   "metadata": {},
   "outputs": [
    {
     "name": "stdout",
     "output_type": "stream",
     "text": [
      "G16HORREP: EQUAL\n",
      "G16HORDEM: EQUAL\n",
      "G16HORIND: EQUAL\n",
      "G16HORWRI: EQUAL\n"
     ]
    }
   ],
   "source": [
    "column_list = ['G16HORREP', 'G16HORDEM', 'G16HORIND', 'G16HORWRI']\n",
    "for val in column_list:\n",
    "    vote_dif = df[val].sum()-final[val].sum()\n",
    "    if (vote_dif == 0):\n",
    "        print(val+\": EQUAL\")\n",
    "    else:\n",
    "        print(val+\": DIFFERENCE OF \" + str(vote_dif)+ \" VOTES\")"
   ]
  },
  {
   "cell_type": "code",
   "execution_count": 9,
   "metadata": {},
   "outputs": [
    {
     "name": "stdout",
     "output_type": "stream",
     "text": [
      "Counties with differences printed below:\n",
      "\n",
      "All other races in all counties are equal\n"
     ]
    }
   ],
   "source": [
    "print(\"Counties with differences printed below:\")\n",
    "diff_counties=[]\n",
    "for i in column_list:\n",
    "    diff = df.groupby(['LOCALITY']).sum()[i]-final.groupby(['LOCALITY']).sum()[i]\n",
    "    for val in diff[diff != 0].index.values.tolist():\n",
    "        if val not in diff_counties:\n",
    "            diff_counties.append(val)\n",
    "    if len(diff[diff != 0]!=0):\n",
    "        print(diff[diff != 0].to_string(header=False))\n",
    "print(\"\")\n",
    "print(\"All other races in all counties are equal\")"
   ]
  },
  {
   "cell_type": "markdown",
   "metadata": {},
   "source": [
    "# Re allocate absentee votes"
   ]
  },
  {
   "cell_type": "markdown",
   "metadata": {},
   "source": [
    "### cd with county to better reallocate absentee"
   ]
  },
  {
   "cell_type": "code",
   "execution_count": 10,
   "metadata": {},
   "outputs": [
    {
     "data": {
      "text/plain": [
       "Series([], Name: Pct, dtype: int64)"
      ]
     },
     "execution_count": 10,
     "metadata": {},
     "output_type": "execute_result"
    }
   ],
   "source": [
    "cd_abs_prov_prec = df[((df['Pct'].map(lambda x: 'Absentee' in str(x))) &(df['Pct'].map(lambda x: 'CD' in str(x)))) | ((df['Pct'].map(lambda x: 'Provisional' in str(x))) & (df['Pct'].map(lambda x: 'CD' in str(x))))]\n",
    "county_with_cd_nec_list = list(cd_abs_prov_prec['COUNTYFP'])\n",
    "df['Pct'].str.slice(start = -5)[df['COUNTYFP'].isin(county_with_cd_nec_list)].value_counts()"
   ]
  },
  {
   "cell_type": "code",
   "execution_count": 11,
   "metadata": {},
   "outputs": [
    {
     "data": {
      "text/html": [
       "<div>\n",
       "<style scoped>\n",
       "    .dataframe tbody tr th:only-of-type {\n",
       "        vertical-align: middle;\n",
       "    }\n",
       "\n",
       "    .dataframe tbody tr th {\n",
       "        vertical-align: top;\n",
       "    }\n",
       "\n",
       "    .dataframe thead th {\n",
       "        text-align: right;\n",
       "    }\n",
       "</style>\n",
       "<table border=\"1\" class=\"dataframe\">\n",
       "  <thead>\n",
       "    <tr style=\"text-align: right;\">\n",
       "      <th></th>\n",
       "      <th>index</th>\n",
       "      <th>Pct</th>\n",
       "      <th>G16HORREP</th>\n",
       "      <th>G16HORDEM</th>\n",
       "      <th>G16HORIND</th>\n",
       "      <th>G16HORWRI</th>\n",
       "      <th>CON_DIST</th>\n",
       "      <th>LOCALITY</th>\n",
       "      <th>COUNTYFP</th>\n",
       "    </tr>\n",
       "  </thead>\n",
       "  <tbody>\n",
       "    <tr>\n",
       "      <th>13</th>\n",
       "      <td>13</td>\n",
       "      <td>Ab - Central Absentee Precinct</td>\n",
       "      <td>669</td>\n",
       "      <td>556</td>\n",
       "      <td>58</td>\n",
       "      <td>5</td>\n",
       "      <td>1</td>\n",
       "      <td>Caroline County</td>\n",
       "      <td>033</td>\n",
       "    </tr>\n",
       "    <tr>\n",
       "      <th>14</th>\n",
       "      <td>14</td>\n",
       "      <td>Provisional</td>\n",
       "      <td>5</td>\n",
       "      <td>6</td>\n",
       "      <td>0</td>\n",
       "      <td>0</td>\n",
       "      <td>1</td>\n",
       "      <td>Caroline County</td>\n",
       "      <td>033</td>\n",
       "    </tr>\n",
       "    <tr>\n",
       "      <th>19</th>\n",
       "      <td>19</td>\n",
       "      <td>Ab - Central Absentee Precinct</td>\n",
       "      <td>368</td>\n",
       "      <td>228</td>\n",
       "      <td>21</td>\n",
       "      <td>0</td>\n",
       "      <td>1</td>\n",
       "      <td>Essex County</td>\n",
       "      <td>057</td>\n",
       "    </tr>\n",
       "    <tr>\n",
       "      <th>20</th>\n",
       "      <td>20</td>\n",
       "      <td>Provisional</td>\n",
       "      <td>0</td>\n",
       "      <td>1</td>\n",
       "      <td>0</td>\n",
       "      <td>0</td>\n",
       "      <td>1</td>\n",
       "      <td>Essex County</td>\n",
       "      <td>057</td>\n",
       "    </tr>\n",
       "    <tr>\n",
       "      <th>25</th>\n",
       "      <td>25</td>\n",
       "      <td>Ab - Central Absentee Precinct</td>\n",
       "      <td>362</td>\n",
       "      <td>193</td>\n",
       "      <td>23</td>\n",
       "      <td>1</td>\n",
       "      <td>1</td>\n",
       "      <td>Fauquier County</td>\n",
       "      <td>061</td>\n",
       "    </tr>\n",
       "    <tr>\n",
       "      <th>...</th>\n",
       "      <td>...</td>\n",
       "      <td>...</td>\n",
       "      <td>...</td>\n",
       "      <td>...</td>\n",
       "      <td>...</td>\n",
       "      <td>...</td>\n",
       "      <td>...</td>\n",
       "      <td>...</td>\n",
       "      <td>...</td>\n",
       "    </tr>\n",
       "    <tr>\n",
       "      <th>2723</th>\n",
       "      <td>117</td>\n",
       "      <td>Provisional</td>\n",
       "      <td>0</td>\n",
       "      <td>194</td>\n",
       "      <td>0</td>\n",
       "      <td>21</td>\n",
       "      <td>11</td>\n",
       "      <td>Fairfax County</td>\n",
       "      <td>059</td>\n",
       "    </tr>\n",
       "    <tr>\n",
       "      <th>2730</th>\n",
       "      <td>124</td>\n",
       "      <td>Ab - Central Absentee Precinct</td>\n",
       "      <td>0</td>\n",
       "      <td>1891</td>\n",
       "      <td>0</td>\n",
       "      <td>207</td>\n",
       "      <td>11</td>\n",
       "      <td>Fairfax City</td>\n",
       "      <td>600</td>\n",
       "    </tr>\n",
       "    <tr>\n",
       "      <th>2731</th>\n",
       "      <td>125</td>\n",
       "      <td>Provisional</td>\n",
       "      <td>0</td>\n",
       "      <td>6</td>\n",
       "      <td>0</td>\n",
       "      <td>1</td>\n",
       "      <td>11</td>\n",
       "      <td>Fairfax City</td>\n",
       "      <td>600</td>\n",
       "    </tr>\n",
       "    <tr>\n",
       "      <th>2771</th>\n",
       "      <td>165</td>\n",
       "      <td>Ab - Central Absentee Precinct</td>\n",
       "      <td>0</td>\n",
       "      <td>14610</td>\n",
       "      <td>0</td>\n",
       "      <td>1181</td>\n",
       "      <td>11</td>\n",
       "      <td>Prince William County</td>\n",
       "      <td>153</td>\n",
       "    </tr>\n",
       "    <tr>\n",
       "      <th>2772</th>\n",
       "      <td>166</td>\n",
       "      <td>Provisional</td>\n",
       "      <td>0</td>\n",
       "      <td>32</td>\n",
       "      <td>0</td>\n",
       "      <td>3</td>\n",
       "      <td>11</td>\n",
       "      <td>Prince William County</td>\n",
       "      <td>153</td>\n",
       "    </tr>\n",
       "  </tbody>\n",
       "</table>\n",
       "<p>291 rows × 9 columns</p>\n",
       "</div>"
      ],
      "text/plain": [
       "      index                             Pct  G16HORREP  G16HORDEM  G16HORIND  \\\n",
       "13       13  Ab - Central Absentee Precinct        669        556         58   \n",
       "14       14                     Provisional          5          6          0   \n",
       "19       19  Ab - Central Absentee Precinct        368        228         21   \n",
       "20       20                     Provisional          0          1          0   \n",
       "25       25  Ab - Central Absentee Precinct        362        193         23   \n",
       "...     ...                             ...        ...        ...        ...   \n",
       "2723    117                     Provisional          0        194          0   \n",
       "2730    124  Ab - Central Absentee Precinct          0       1891          0   \n",
       "2731    125                     Provisional          0          6          0   \n",
       "2771    165  Ab - Central Absentee Precinct          0      14610          0   \n",
       "2772    166                     Provisional          0         32          0   \n",
       "\n",
       "      G16HORWRI CON_DIST               LOCALITY COUNTYFP  \n",
       "13            5        1        Caroline County      033  \n",
       "14            0        1        Caroline County      033  \n",
       "19            0        1           Essex County      057  \n",
       "20            0        1           Essex County      057  \n",
       "25            1        1        Fauquier County      061  \n",
       "...         ...      ...                    ...      ...  \n",
       "2723         21       11         Fairfax County      059  \n",
       "2730        207       11           Fairfax City      600  \n",
       "2731          1       11           Fairfax City      600  \n",
       "2771       1181       11  Prince William County      153  \n",
       "2772          3       11  Prince William County      153  \n",
       "\n",
       "[291 rows x 9 columns]"
      ]
     },
     "execution_count": 11,
     "metadata": {},
     "output_type": "execute_result"
    }
   ],
   "source": [
    "df[(df['Pct'].map(lambda x: 'Absentee' in str(x))) | (df['Pct'].map(lambda x: 'Provisional' in str(x)))]"
   ]
  },
  {
   "cell_type": "code",
   "execution_count": 12,
   "metadata": {},
   "outputs": [
    {
     "data": {
      "text/plain": [
       "059-11    117\n",
       "810-2     100\n",
       "107-10     95\n",
       "059-8      82\n",
       "087-7      69\n",
       "         ... \n",
       "685-10      5\n",
       "830-2       4\n",
       "530-6       3\n",
       "678-6       3\n",
       "720-9       2\n",
       "Length: 149, dtype: int64"
      ]
     },
     "execution_count": 12,
     "metadata": {},
     "output_type": "execute_result"
    }
   ],
   "source": [
    "(df['COUNTYFP'] + '-' + df['CON_DIST']).value_counts()"
   ]
  },
  {
   "cell_type": "code",
   "execution_count": 13,
   "metadata": {},
   "outputs": [],
   "source": [
    "df['countyfp_cd'] = df['COUNTYFP'] + '-' + df['CON_DIST']"
   ]
  },
  {
   "cell_type": "markdown",
   "metadata": {},
   "source": [
    "## Absentee Reallocation"
   ]
  },
  {
   "cell_type": "code",
   "execution_count": 14,
   "metadata": {},
   "outputs": [],
   "source": [
    "absentee_and_prov = df[(df['Pct'].map(lambda x: 'Absentee' in str(x))) | (df['Pct'].map(lambda x: 'Provisional' in str(x)))]\n",
    "groupby_absentee_and_prov_tot = absentee_and_prov.groupby(['countyfp_cd']).sum()"
   ]
  },
  {
   "cell_type": "code",
   "execution_count": 15,
   "metadata": {},
   "outputs": [],
   "source": [
    "groupby_county_df_tot = df.groupby(['countyfp_cd']).sum()\n",
    "df_no_absent_or_provisional = df[(df['Pct'].map(lambda x: 'Absentee' not in str(x))) & (df['Pct'].map(lambda x: 'Provisional' not in str(x)))\n",
    "                                & (df['LOCALITY'] != 'TOTALS')]\n",
    "groupby_county_tot_no_absentee = df_no_absent_or_provisional.groupby('countyfp_cd').sum()"
   ]
  },
  {
   "cell_type": "code",
   "execution_count": 16,
   "metadata": {},
   "outputs": [],
   "source": [
    "df_with_absentee_reallocated = df_no_absent_or_provisional.copy()\n",
    "groupby_absentee_and_prov_tot.reset_index(inplace=True,drop=False)\n",
    "groupby_county_tot_no_absentee.reset_index(inplace=True,drop=False)\n",
    "\n",
    "to_dole_out_totals = groupby_absentee_and_prov_tot.copy()\n",
    "precinct_specific_totals = groupby_county_tot_no_absentee.copy()\n",
    "\n",
    "## PH CODE for vote allocation\n",
    "\n",
    "#countyfp_cd\n",
    "#df_no_absent_or_provisional\n",
    "\n",
    "#Create some new columns for each of these races to deal with the allocation\n",
    "for race in column_list:\n",
    "    add_var = race+\"_add\"\n",
    "    rem_var = race+\"_rem\"\n",
    "    floor_var = race+\"_floor\"\n",
    "    df_with_absentee_reallocated.loc[:,add_var]=0.0\n",
    "    df_with_absentee_reallocated.loc[:,rem_var]=0.0\n",
    "    df_with_absentee_reallocated.loc[:,floor_var]=0.0\n",
    "\n",
    "#Iterate over the rows\n",
    "#Note this function iterates over the dataframe two times so the rounded vote totals match the totals to allocate\n",
    "for index, row in df_no_absent_or_provisional.iterrows():\n",
    "    for race in column_list:\n",
    "        add_var = race+\"_add\"\n",
    "        rem_var = race+\"_rem\"\n",
    "        floor_var = race+\"_floor\"\n",
    "        #Grab the district\n",
    "        county_id = row[\"countyfp_cd\"]\n",
    "        #Get the denominator for the allocation (the precinct vote totals)\n",
    "        denom = precinct_specific_totals.loc[precinct_specific_totals[\"countyfp_cd\"]==county_id][race]\n",
    "        #Get one of the numerators, how many districtwide votes to allocate\n",
    "        numer = to_dole_out_totals.loc[to_dole_out_totals[\"countyfp_cd\"]==county_id][race]\n",
    "        #Get the vote totals for this race in this precinct\n",
    "        val = df_with_absentee_reallocated.at[index,race]\n",
    "        #Get the vote share, the precincts % of total precinct votes in the district times votes to allocate\n",
    "        if ((float(denom)==0)):\n",
    "            vote_share = 0\n",
    "        else:\n",
    "            vote_share = (float(val)/float(denom))*float(numer)\n",
    "        df_with_absentee_reallocated.at[index,add_var] = vote_share\n",
    "        #Take the decimal remainder of the allocation\n",
    "        df_with_absentee_reallocated.at[index,rem_var] = vote_share%1\n",
    "        #Take the floor of the allocation\n",
    "        df_with_absentee_reallocated.at[index,floor_var] = np.floor(vote_share)\n",
    "\n",
    "#After the first pass through, get the sums of the races by district to assist in the rounding            \n",
    "first_allocation = pd.DataFrame(df_with_absentee_reallocated.groupby([\"countyfp_cd\"]).sum())\n",
    "\n",
    "#Now we want to iterate district by district to work on rounding\n",
    "county_list = list(to_dole_out_totals[\"countyfp_cd\"].unique()) \n",
    "\n",
    "#Iterate over the district\n",
    "for county in county_list:\n",
    "    for race in column_list:\n",
    "        add_var = race+\"_add\"\n",
    "        rem_var = race+\"_rem\"\n",
    "        floor_var = race+\"_floor\"\n",
    "        #County how many votes still need to be allocated (because we took the floor of all the initial allocations)\n",
    "        to_go = int(np.round((int(to_dole_out_totals.loc[to_dole_out_totals[\"countyfp_cd\"]==county][race])-first_allocation.loc[first_allocation.index==county,floor_var])))\n",
    "        #Grab the n precincts with the highest remainders and round these up, where n is the # of votes that still need to be allocated\n",
    "        for index in df_with_absentee_reallocated.loc[df_with_absentee_reallocated[\"countyfp_cd\"]==county][rem_var].nlargest(to_go).index:\n",
    "            df_with_absentee_reallocated.at[index,add_var] = np.ceil(df_with_absentee_reallocated.at[index,add_var])\n",
    "\n",
    "#Iterate over every race again\n",
    "for race in column_list:\n",
    "    add_var = race+\"_add\"\n",
    "    #Round every allocation down to not add fractional votes\n",
    "    df_with_absentee_reallocated.loc[:,add_var]=np.floor(df_with_absentee_reallocated.loc[:,add_var])\n",
    "    df_with_absentee_reallocated.loc[:,race]+=df_with_absentee_reallocated.loc[:,add_var]"
   ]
  },
  {
   "cell_type": "code",
   "execution_count": 17,
   "metadata": {},
   "outputs": [
    {
     "name": "stdout",
     "output_type": "stream",
     "text": [
      "G16HORREP: EQUAL\n",
      "G16HORDEM: EQUAL\n",
      "G16HORIND: EQUAL\n",
      "G16HORWRI: EQUAL\n",
      "Counties with differences printed below:\n",
      "\n",
      "All other races in all counties are equal\n"
     ]
    }
   ],
   "source": [
    "for val in column_list:\n",
    "    vote_dif = df_with_absentee_reallocated[val].sum()-final[val].sum()\n",
    "    if (vote_dif == 0):\n",
    "        print(val+\": EQUAL\")\n",
    "    else:\n",
    "        print(val+\": DIFFERENCE OF \" + str(vote_dif)+ \" VOTES\")\n",
    "        \n",
    "        \n",
    "print(\"Counties with differences printed below:\")\n",
    "diff_counties=[]\n",
    "for i in column_list:\n",
    "    diff = df_with_absentee_reallocated.groupby(['LOCALITY']).sum()[i]-final.groupby(['LOCALITY']).sum()[i]\n",
    "    for val in diff[diff != 0].index.values.tolist():\n",
    "        if val not in diff_counties:\n",
    "            diff_counties.append(val)\n",
    "    if len(diff[diff != 0]!=0):\n",
    "        print(diff[diff != 0].to_string(header=False))\n",
    "print(\"\")\n",
    "print(\"All other races in all counties are equal\")"
   ]
  },
  {
   "cell_type": "markdown",
   "metadata": {},
   "source": [
    "# Shapefile"
   ]
  },
  {
   "cell_type": "code",
   "execution_count": 18,
   "metadata": {},
   "outputs": [
    {
     "data": {
      "text/plain": [
       "'/Users/lilyfalk/sandbox/pdv-va'"
      ]
     },
     "execution_count": 18,
     "metadata": {},
     "output_type": "execute_result"
    }
   ],
   "source": [
    "pwd"
   ]
  },
  {
   "cell_type": "code",
   "execution_count": 19,
   "metadata": {
    "collapsed": true,
    "jupyter": {
     "outputs_hidden": true
    }
   },
   "outputs": [
    {
     "name": "stdout",
     "output_type": "stream",
     "text": [
      "51580  added to list\n",
      "51117  added to list\n",
      "51121  added to list\n",
      "51119  added to list\n",
      "51770  added to list\n",
      "51181  added to list\n",
      "51175  added to list\n",
      "51143  added to list\n",
      "51520  added to list\n",
      "51127  added to list\n",
      "51740  added to list\n",
      "51111  added to list\n",
      "51145  added to list\n",
      "51510  added to list\n",
      "51187  added to list\n",
      "51173  added to list\n",
      "51001  added to list\n",
      "51650  added to list\n",
      "51037  added to list\n",
      "51063  added to list\n",
      "51097  added to list\n",
      "51099  added to list\n",
      "51009  added to list\n",
      "51660  added to list\n",
      "51036  added to list\n",
      "51031  added to list\n",
      "51007  added to list\n",
      "51053  added to list\n",
      "51065  added to list\n",
      "51091  added to list\n",
      "51047  added to list\n",
      "51071  added to list\n",
      "51085  added to list\n",
      "51049  added to list\n",
      "51620  added to list\n",
      "51680  added to list\n",
      "51025  added to list\n",
      "51013  added to list\n",
      "51810  added to list\n",
      "51077  added to list\n",
      "51083  added to list\n",
      "51079  added to list\n",
      "51610  added to list\n",
      "51041  added to list\n",
      "51015  added to list\n",
      "51023  added to list\n",
      "51820  added to list\n",
      "51169  added to list\n",
      "51700  added to list\n",
      "51193  added to list\n",
      "51167  added to list\n",
      "51133  added to list\n",
      "51550  added to list\n",
      "51595  added to list\n",
      "51105  added to list\n",
      "51159  added to list\n",
      "51730  added to list\n",
      "51195  added to list\n",
      "51161  added to list\n",
      "51157  added to list\n",
      "51103  added to list\n",
      "51135  added to list\n",
      "51790  added to list\n",
      "51720  added to list\n",
      "51149  added to list\n",
      "51171  added to list\n",
      "51185  added to list\n",
      "51147  added to list\n",
      "51570  added to list\n",
      "51113  added to list\n",
      "51125  added to list\n",
      "51141  added to list\n",
      "51710  added to list\n",
      "51179  added to list\n",
      "51177  added to list\n",
      "51183  added to list\n",
      "51775  added to list\n",
      "51540  added to list\n",
      "51115  added to list\n",
      "51093  added to list\n",
      "51067  added to list\n",
      "51600  added to list\n",
      "51069  added to list\n",
      "51051  added to list\n",
      "51005  added to list\n",
      "51830  added to list\n",
      "51033  added to list\n",
      "51057  added to list\n",
      "51095  added to list\n",
      "51061  added to list\n",
      "51630  added to list\n",
      "51059  added to list\n",
      "51690  added to list\n",
      "51035  added to list\n",
      "51800  added to list\n",
      "51003  added to list\n",
      "51670  added to list\n",
      "51019  added to list\n",
      "51683  added to list\n",
      "51021  added to list\n",
      "51017  added to list\n",
      "51840  added to list\n",
      "51043  added to list\n",
      "51081  added to list\n",
      "51075  added to list\n",
      "51011  added to list\n",
      "51678  added to list\n",
      "51640  added to list\n",
      "51029  added to list\n",
      "51685  added to list\n",
      "51027  added to list\n",
      "51087  added to list\n",
      "51073  added to list\n",
      "51089  added to list\n",
      "51045  added to list\n",
      "51137  added to list\n",
      "51750  added to list\n",
      "51139  added to list\n",
      "51101  added to list\n",
      "51155  added to list\n",
      "51199  added to list\n",
      "51163  added to list\n",
      "51735  added to list\n",
      "51197  added to list\n",
      "51590  added to list\n",
      "51107  added to list\n",
      "51131  added to list\n",
      "51760  added to list\n",
      "51109  added to list\n",
      "51165  added to list\n",
      "51191  added to list\n",
      "51153  added to list\n",
      "51530  added to list\n"
     ]
    }
   ],
   "source": [
    "county_fips = []\n",
    "for directory in os.listdir('./vest_va_2016/census_shps_by_county_all_unzip/'):\n",
    "    if not directory[0] == '.':\n",
    "        county_fips.append(directory[-5:])\n",
    "\n",
    "proj = final.crs\n",
    "\n",
    "county_vtds = []\n",
    "\n",
    "for i in county_fips: #i dont have fips_codes file\n",
    "    ref = './vest_va_2016/census_shps_by_county_all_unzip/partnership_shapefiles_19v2_'\n",
    "    vtd_ref = ref + i + '/PVS_19_v2_vtd_' + i + '.shp' \n",
    "    vtd_shp = gpd.read_file(vtd_ref)\n",
    "    print(i, ' added to list')\n",
    "    county_vtds.append(vtd_shp)"
   ]
  },
  {
   "cell_type": "code",
   "execution_count": 20,
   "metadata": {},
   "outputs": [
    {
     "data": {
      "text/plain": [
       "<matplotlib.axes._subplots.AxesSubplot at 0x7f9c5540d9d0>"
      ]
     },
     "execution_count": 20,
     "metadata": {},
     "output_type": "execute_result"
    },
    {
     "data": {
      "image/png": "[encoded data removed]",
      "text/plain": [
       "<Figure size 432x288 with 1 Axes>"
      ]
     },
     "metadata": {
      "needs_background": "light"
     },
     "output_type": "display_data"
    },
    {
     "data": {
      "image/png": "[encoded data removed]",
      "text/plain": [
       "<Figure size 432x288 with 1 Axes>"
      ]
     },
     "metadata": {
      "needs_background": "light"
     },
     "output_type": "display_data"
    }
   ],
   "source": [
    "global shp\n",
    "shp = gpd.GeoDataFrame(pd.concat(county_vtds, axis = 0) , crs = proj) \n",
    "\n",
    "shp.plot()\n",
    "final.plot()"
   ]
  },
  {
   "cell_type": "markdown",
   "metadata": {},
   "source": [
    "### **Load in cd shapefile to enable splits later on**"
   ]
  },
  {
   "cell_type": "code",
   "execution_count": 21,
   "metadata": {
    "collapsed": true,
    "jupyter": {
     "outputs_hidden": true
    }
   },
   "outputs": [
    {
     "name": "stdout",
     "output_type": "stream",
     "text": [
      "51580  added to list\n",
      "51117  added to list\n",
      "51121  added to list\n",
      "51119  added to list\n",
      "51770  added to list\n",
      "51181  added to list\n",
      "51175  added to list\n",
      "51143  added to list\n",
      "51520  added to list\n",
      "51127  added to list\n",
      "51740  added to list\n",
      "51111  added to list\n",
      "51145  added to list\n",
      "51510  added to list\n",
      "51187  added to list\n",
      "51173  added to list\n",
      "51001  added to list\n",
      "51650  added to list\n",
      "51037  added to list\n",
      "51063  added to list\n",
      "51097  added to list\n",
      "51099  added to list\n",
      "51009  added to list\n",
      "51660  added to list\n",
      "51036  added to list\n",
      "51031  added to list\n",
      "51007  added to list\n",
      "51053  added to list\n",
      "51065  added to list\n",
      "51091  added to list\n",
      "51047  added to list\n",
      "51071  added to list\n",
      "51085  added to list\n",
      "51049  added to list\n",
      "51620  added to list\n",
      "51680  added to list\n",
      "51025  added to list\n",
      "51013  added to list\n",
      "51810  added to list\n",
      "51077  added to list\n",
      "51083  added to list\n",
      "51079  added to list\n",
      "51610  added to list\n",
      "51041  added to list\n",
      "51015  added to list\n",
      "51023  added to list\n",
      "51820  added to list\n",
      "51169  added to list\n",
      "51700  added to list\n",
      "51193  added to list\n",
      "51167  added to list\n",
      "51133  added to list\n",
      "51550  added to list\n",
      "51595  added to list\n",
      "51105  added to list\n",
      "51159  added to list\n",
      "51730  added to list\n",
      "51195  added to list\n",
      "51161  added to list\n",
      "51157  added to list\n",
      "51103  added to list\n",
      "51135  added to list\n",
      "51790  added to list\n",
      "51720  added to list\n",
      "51149  added to list\n",
      "51171  added to list\n",
      "51185  added to list\n",
      "51147  added to list\n",
      "51570  added to list\n",
      "51113  added to list\n",
      "51125  added to list\n",
      "51141  added to list\n",
      "51710  added to list\n",
      "51179  added to list\n",
      "51177  added to list\n",
      "51183  added to list\n",
      "51775  added to list\n",
      "51540  added to list\n",
      "51115  added to list\n",
      "51093  added to list\n",
      "51067  added to list\n",
      "51600  added to list\n",
      "51069  added to list\n",
      "51051  added to list\n",
      "51005  added to list\n",
      "51830  added to list\n",
      "51033  added to list\n",
      "51057  added to list\n",
      "51095  added to list\n",
      "51061  added to list\n",
      "51630  added to list\n",
      "51059  added to list\n",
      "51690  added to list\n",
      "51035  added to list\n",
      "51800  added to list\n",
      "51003  added to list\n",
      "51670  added to list\n",
      "51019  added to list\n",
      "51683  added to list\n",
      "51021  added to list\n",
      "51017  added to list\n",
      "51840  added to list\n",
      "51043  added to list\n",
      "51081  added to list\n",
      "51075  added to list\n",
      "51011  added to list\n",
      "51678  added to list\n",
      "51640  added to list\n",
      "51029  added to list\n",
      "51685  added to list\n",
      "51027  added to list\n",
      "51087  added to list\n",
      "51073  added to list\n",
      "51089  added to list\n",
      "51045  added to list\n",
      "51137  added to list\n",
      "51750  added to list\n",
      "51139  added to list\n",
      "51101  added to list\n",
      "51155  added to list\n",
      "51199  added to list\n",
      "51163  added to list\n",
      "51735  added to list\n",
      "51197  added to list\n",
      "51590  added to list\n",
      "51107  added to list\n",
      "51131  added to list\n",
      "51760  added to list\n",
      "51109  added to list\n",
      "51165  added to list\n",
      "51191  added to list\n",
      "51153  added to list\n",
      "51530  added to list\n"
     ]
    }
   ],
   "source": [
    "county_cd = []\n",
    "\n",
    "for i in county_fips: #i dont have fips_codes file\n",
    "    ref = './vest_va_2016/census_shps_by_county_all_unzip/partnership_shapefiles_19v2_'\n",
    "    cd_ref = ref + i + '/PVS_19_v2_cd_' + i + '.shp' \n",
    "    cd_shp = gpd.read_file(cd_ref)\n",
    "    print(i, ' added to list')\n",
    "    county_cd.append(cd_shp)"
   ]
  },
  {
   "cell_type": "code",
   "execution_count": 22,
   "metadata": {},
   "outputs": [
    {
     "data": {
      "text/plain": [
       "<matplotlib.axes._subplots.AxesSubplot at 0x7f9c11339f40>"
      ]
     },
     "execution_count": 22,
     "metadata": {},
     "output_type": "execute_result"
    },
    {
     "data": {
      "image/png": "[encoded data removed]",
      "text/plain": [
       "<Figure size 432x288 with 1 Axes>"
      ]
     },
     "metadata": {
      "needs_background": "light"
     },
     "output_type": "display_data"
    },
    {
     "data": {
      "image/png": "[encoded data removed]",
      "text/plain": [
       "<Figure size 432x288 with 1 Axes>"
      ]
     },
     "metadata": {
      "needs_background": "light"
     },
     "output_type": "display_data"
    }
   ],
   "source": [
    "global cd\n",
    "cd = gpd.GeoDataFrame(pd.concat(county_cd, axis = 0) , crs = proj) \n",
    "cd.plot()\n",
    "\n",
    "overlay = gpd.overlay(cd, shp, how = 'union', make_valid = True, keep_geom_type = True)\n",
    "overlay.plot()"
   ]
  },
  {
   "cell_type": "markdown",
   "metadata": {},
   "source": [
    "# Unique ID Across Files"
   ]
  },
  {
   "cell_type": "markdown",
   "metadata": {},
   "source": [
    "## Begin by getting VEST's final gdf and df to have common identifier"
   ]
  },
  {
   "cell_type": "code",
   "execution_count": 23,
   "metadata": {},
   "outputs": [
    {
     "data": {
      "text/plain": [
       "(2458, 10)"
      ]
     },
     "execution_count": 23,
     "metadata": {},
     "output_type": "execute_result"
    }
   ],
   "source": [
    "final.shape"
   ]
  },
  {
   "cell_type": "code",
   "execution_count": 24,
   "metadata": {},
   "outputs": [
    {
     "data": {
      "text/plain": [
       "(2461, 22)"
      ]
     },
     "execution_count": 24,
     "metadata": {},
     "output_type": "execute_result"
    }
   ],
   "source": [
    "df_with_absentee_reallocated.shape"
   ]
  },
  {
   "cell_type": "code",
   "execution_count": 25,
   "metadata": {},
   "outputs": [
    {
     "data": {
      "text/plain": [
       "2435"
      ]
     },
     "execution_count": 25,
     "metadata": {},
     "output_type": "execute_result"
    }
   ],
   "source": [
    "(final['COUNTYFP']+ final['VTDST'].str.slice(start = 3)).nunique()"
   ]
  },
  {
   "cell_type": "code",
   "execution_count": 26,
   "metadata": {},
   "outputs": [
    {
     "data": {
      "text/plain": [
       "24"
      ]
     },
     "execution_count": 26,
     "metadata": {},
     "output_type": "execute_result"
    }
   ],
   "source": [
    "len(set(final['COUNTYFP']+ final['VTDST'].str.slice(start = 3)) - set(shp['COUNTYFP'] + shp['VTDST'].str.slice(start = 3)))"
   ]
  },
  {
   "cell_type": "code",
   "execution_count": 27,
   "metadata": {},
   "outputs": [
    {
     "data": {
      "text/plain": [
       "2434"
      ]
     },
     "execution_count": 27,
     "metadata": {},
     "output_type": "execute_result"
    }
   ],
   "source": [
    "(df_with_absentee_reallocated['COUNTYFP'] + df_with_absentee_reallocated['Pct'].str.slice(stop = 3)).nunique()"
   ]
  },
  {
   "cell_type": "code",
   "execution_count": 28,
   "metadata": {},
   "outputs": [
    {
     "data": {
      "text/plain": [
       "360"
      ]
     },
     "execution_count": 28,
     "metadata": {},
     "output_type": "execute_result"
    }
   ],
   "source": [
    "len(set((df_with_absentee_reallocated['COUNTYFP'] + df_with_absentee_reallocated['Pct'].str.slice(stop = 3))) - set(final['COUNTYFP']+ final['VTDST'].str.slice(start = 3)))"
   ]
  },
  {
   "cell_type": "code",
   "execution_count": 29,
   "metadata": {},
   "outputs": [
    {
     "data": {
      "text/plain": [
       "361"
      ]
     },
     "execution_count": 29,
     "metadata": {},
     "output_type": "execute_result"
    }
   ],
   "source": [
    "len(set(final['COUNTYFP']+ final['VTDST'].str.slice(start = 3)) - set((df_with_absentee_reallocated['COUNTYFP'] + df_with_absentee_reallocated['Pct'].str.slice(stop = 3))))"
   ]
  },
  {
   "cell_type": "code",
   "execution_count": 30,
   "metadata": {},
   "outputs": [],
   "source": [
    "df_with_absentee_reallocated['vtdst'] = df_with_absentee_reallocated.Pct.str.slice(stop = 3)"
   ]
  },
  {
   "cell_type": "code",
   "execution_count": 31,
   "metadata": {},
   "outputs": [],
   "source": [
    "#Make election df format match VEST's \n",
    "def vtdst_changer(vtdst):\n",
    "    if (vtdst[1:3] == ' -'):\n",
    "        two_lead_zero = '00' + vtdst[:1]\n",
    "        return two_lead_zero\n",
    "    elif (vtdst[1:3] == '- '):\n",
    "        two_lead_zero = '00' + vtdst[:1]\n",
    "        return two_lead_zero\n",
    "    elif (vtdst[-1:] == ' '):\n",
    "        one_lead_zero = '0' + vtdst[:2]\n",
    "        return one_lead_zero\n",
    "    elif (vtdst[-1:] == '-'):\n",
    "        one_lead_zero = '0' + vtdst[:2]\n",
    "        return one_lead_zero\n",
    "    else:\n",
    "        return vtdst"
   ]
  },
  {
   "cell_type": "code",
   "execution_count": 32,
   "metadata": {},
   "outputs": [
    {
     "data": {
      "text/html": [
       "<div>\n",
       "<style scoped>\n",
       "    .dataframe tbody tr th:only-of-type {\n",
       "        vertical-align: middle;\n",
       "    }\n",
       "\n",
       "    .dataframe tbody tr th {\n",
       "        vertical-align: top;\n",
       "    }\n",
       "\n",
       "    .dataframe thead th {\n",
       "        text-align: right;\n",
       "    }\n",
       "</style>\n",
       "<table border=\"1\" class=\"dataframe\">\n",
       "  <thead>\n",
       "    <tr style=\"text-align: right;\">\n",
       "      <th></th>\n",
       "      <th>index</th>\n",
       "      <th>Pct</th>\n",
       "      <th>G16HORREP</th>\n",
       "      <th>G16HORDEM</th>\n",
       "      <th>G16HORIND</th>\n",
       "      <th>G16HORWRI</th>\n",
       "      <th>CON_DIST</th>\n",
       "      <th>LOCALITY</th>\n",
       "      <th>COUNTYFP</th>\n",
       "      <th>countyfp_cd</th>\n",
       "      <th>...</th>\n",
       "      <th>G16HORDEM_add</th>\n",
       "      <th>G16HORDEM_rem</th>\n",
       "      <th>G16HORDEM_floor</th>\n",
       "      <th>G16HORIND_add</th>\n",
       "      <th>G16HORIND_rem</th>\n",
       "      <th>G16HORIND_floor</th>\n",
       "      <th>G16HORWRI_add</th>\n",
       "      <th>G16HORWRI_rem</th>\n",
       "      <th>G16HORWRI_floor</th>\n",
       "      <th>vtdst</th>\n",
       "    </tr>\n",
       "  </thead>\n",
       "  <tbody>\n",
       "  </tbody>\n",
       "</table>\n",
       "<p>0 rows × 23 columns</p>\n",
       "</div>"
      ],
      "text/plain": [
       "Empty DataFrame\n",
       "Columns: [index, Pct, G16HORREP, G16HORDEM, G16HORIND, G16HORWRI, CON_DIST, LOCALITY, COUNTYFP, countyfp_cd, G16HORREP_add, G16HORREP_rem, G16HORREP_floor, G16HORDEM_add, G16HORDEM_rem, G16HORDEM_floor, G16HORIND_add, G16HORIND_rem, G16HORIND_floor, G16HORWRI_add, G16HORWRI_rem, G16HORWRI_floor, vtdst]\n",
       "Index: []\n",
       "\n",
       "[0 rows x 23 columns]"
      ]
     },
     "execution_count": 32,
     "metadata": {},
     "output_type": "execute_result"
    }
   ],
   "source": [
    "#Apply function to vtdst column of df\n",
    "df_with_absentee_reallocated['vtdst'] = df_with_absentee_reallocated['vtdst'].apply(vtdst_changer)\n",
    "#Check to make sure that funtion worked and no leading '-' remain in ids in df\n",
    "df_with_absentee_reallocated[df_with_absentee_reallocated['vtdst'].str.slice(start = -1) == '-'] "
   ]
  },
  {
   "cell_type": "code",
   "execution_count": 33,
   "metadata": {},
   "outputs": [],
   "source": [
    "#With new vtdst code, make unique id in df with county fips and the vtdst\n",
    "df_with_absentee_reallocated['unique_id'] = df_with_absentee_reallocated['COUNTYFP'] + df_with_absentee_reallocated['vtdst']"
   ]
  },
  {
   "cell_type": "code",
   "execution_count": 34,
   "metadata": {},
   "outputs": [
    {
     "data": {
      "text/plain": [
       "{'059700'}"
      ]
     },
     "execution_count": 34,
     "metadata": {},
     "output_type": "execute_result"
    }
   ],
   "source": [
    "#in preparation for creating matching unique id in vest's final df, check difference between equivalent set in final and in the df\n",
    "set(final['COUNTYFP']+ final['VTDST'].str.slice(start = 3)) - set((df_with_absentee_reallocated['unique_id']))"
   ]
  },
  {
   "cell_type": "code",
   "execution_count": 35,
   "metadata": {},
   "outputs": [],
   "source": [
    "#Match result above was good, so go ahead and create matching unique id in final gdf\n",
    "final['unique_id'] = final['COUNTYFP']+ final['VTDST'].str.slice(start = 3)"
   ]
  },
  {
   "cell_type": "code",
   "execution_count": 36,
   "metadata": {},
   "outputs": [
    {
     "data": {
      "text/plain": [
       "2435"
      ]
     },
     "execution_count": 36,
     "metadata": {},
     "output_type": "execute_result"
    }
   ],
   "source": [
    "final['unique_id'].nunique()"
   ]
  },
  {
   "cell_type": "code",
   "execution_count": 37,
   "metadata": {},
   "outputs": [],
   "source": [
    "#Because 'unique_id' does not account for all rows in the df/gdf, add congressional district to the end to make unique by CD as well\n",
    "df_with_absentee_reallocated['unique_id_1'] = df_with_absentee_reallocated['unique_id'] + '-' + df_with_absentee_reallocated['CON_DIST']\n",
    "final['unique_id_1'] = final['unique_id'] + '-' + final['CON_DIST']"
   ]
  },
  {
   "cell_type": "code",
   "execution_count": 38,
   "metadata": {},
   "outputs": [
    {
     "data": {
      "text/plain": [
       "2458"
      ]
     },
     "execution_count": 38,
     "metadata": {},
     "output_type": "execute_result"
    }
   ],
   "source": [
    "final['unique_id_1'].nunique()"
   ]
  },
  {
   "cell_type": "code",
   "execution_count": 39,
   "metadata": {},
   "outputs": [
    {
     "data": {
      "text/plain": [
       "2461"
      ]
     },
     "execution_count": 39,
     "metadata": {},
     "output_type": "execute_result"
    }
   ],
   "source": [
    "df_with_absentee_reallocated['unique_id_1'].nunique()"
   ]
  },
  {
   "cell_type": "code",
   "execution_count": 40,
   "metadata": {},
   "outputs": [
    {
     "data": {
      "text/plain": [
       "{'059700-11'}"
      ]
     },
     "execution_count": 40,
     "metadata": {},
     "output_type": "execute_result"
    }
   ],
   "source": [
    "#Again, check differences between the two data sets\n",
    "set(final['unique_id_1']) - set(df_with_absentee_reallocated['unique_id_1'])"
   ]
  },
  {
   "cell_type": "code",
   "execution_count": 41,
   "metadata": {},
   "outputs": [
    {
     "data": {
      "text/plain": [
       "{'059925-11', '550019-3', '550045-3', '800403-3'}"
      ]
     },
     "execution_count": 41,
     "metadata": {},
     "output_type": "execute_result"
    }
   ],
   "source": [
    "set(df_with_absentee_reallocated['unique_id_1']) - set(final['unique_id_1'])"
   ]
  },
  {
   "cell_type": "markdown",
   "metadata": {},
   "source": [
    "Check values that are in raw election results not in final file. Notice that each precinct has 0 votes accross the board for each candidate"
   ]
  },
  {
   "cell_type": "code",
   "execution_count": 42,
   "metadata": {},
   "outputs": [
    {
     "data": {
      "text/html": [
       "<div>\n",
       "<style scoped>\n",
       "    .dataframe tbody tr th:only-of-type {\n",
       "        vertical-align: middle;\n",
       "    }\n",
       "\n",
       "    .dataframe tbody tr th {\n",
       "        vertical-align: top;\n",
       "    }\n",
       "\n",
       "    .dataframe thead th {\n",
       "        text-align: right;\n",
       "    }\n",
       "</style>\n",
       "<table border=\"1\" class=\"dataframe\">\n",
       "  <thead>\n",
       "    <tr style=\"text-align: right;\">\n",
       "      <th></th>\n",
       "      <th>index</th>\n",
       "      <th>Pct</th>\n",
       "      <th>G16HORREP</th>\n",
       "      <th>G16HORDEM</th>\n",
       "      <th>G16HORIND</th>\n",
       "      <th>G16HORWRI</th>\n",
       "      <th>CON_DIST</th>\n",
       "      <th>LOCALITY</th>\n",
       "      <th>COUNTYFP</th>\n",
       "      <th>countyfp_cd</th>\n",
       "      <th>...</th>\n",
       "      <th>G16HORDEM_floor</th>\n",
       "      <th>G16HORIND_add</th>\n",
       "      <th>G16HORIND_rem</th>\n",
       "      <th>G16HORIND_floor</th>\n",
       "      <th>G16HORWRI_add</th>\n",
       "      <th>G16HORWRI_rem</th>\n",
       "      <th>G16HORWRI_floor</th>\n",
       "      <th>vtdst</th>\n",
       "      <th>unique_id</th>\n",
       "      <th>unique_id_1</th>\n",
       "    </tr>\n",
       "  </thead>\n",
       "  <tbody>\n",
       "    <tr>\n",
       "      <th>467</th>\n",
       "      <td>11</td>\n",
       "      <td>19 - Jolliff</td>\n",
       "      <td>0.0</td>\n",
       "      <td>0.0</td>\n",
       "      <td>0.0</td>\n",
       "      <td>0.0</td>\n",
       "      <td>3</td>\n",
       "      <td>Chesapeake City</td>\n",
       "      <td>550</td>\n",
       "      <td>550-3</td>\n",
       "      <td>...</td>\n",
       "      <td>0.0</td>\n",
       "      <td>0.0</td>\n",
       "      <td>0.0</td>\n",
       "      <td>0.0</td>\n",
       "      <td>0.0</td>\n",
       "      <td>0.0</td>\n",
       "      <td>0.0</td>\n",
       "      <td>019</td>\n",
       "      <td>550019</td>\n",
       "      <td>550019-3</td>\n",
       "    </tr>\n",
       "    <tr>\n",
       "      <th>485</th>\n",
       "      <td>29</td>\n",
       "      <td>45 - Sunray II</td>\n",
       "      <td>0.0</td>\n",
       "      <td>0.0</td>\n",
       "      <td>0.0</td>\n",
       "      <td>0.0</td>\n",
       "      <td>3</td>\n",
       "      <td>Chesapeake City</td>\n",
       "      <td>550</td>\n",
       "      <td>550-3</td>\n",
       "      <td>...</td>\n",
       "      <td>0.0</td>\n",
       "      <td>0.0</td>\n",
       "      <td>0.0</td>\n",
       "      <td>0.0</td>\n",
       "      <td>0.0</td>\n",
       "      <td>0.0</td>\n",
       "      <td>0.0</td>\n",
       "      <td>045</td>\n",
       "      <td>550045</td>\n",
       "      <td>550045-3</td>\n",
       "    </tr>\n",
       "    <tr>\n",
       "      <th>667</th>\n",
       "      <td>211</td>\n",
       "      <td>403 - Southside</td>\n",
       "      <td>0.0</td>\n",
       "      <td>0.0</td>\n",
       "      <td>0.0</td>\n",
       "      <td>0.0</td>\n",
       "      <td>3</td>\n",
       "      <td>Suffolk City</td>\n",
       "      <td>800</td>\n",
       "      <td>800-3</td>\n",
       "      <td>...</td>\n",
       "      <td>0.0</td>\n",
       "      <td>0.0</td>\n",
       "      <td>0.0</td>\n",
       "      <td>0.0</td>\n",
       "      <td>0.0</td>\n",
       "      <td>0.0</td>\n",
       "      <td>0.0</td>\n",
       "      <td>403</td>\n",
       "      <td>800403</td>\n",
       "      <td>800403-3</td>\n",
       "    </tr>\n",
       "    <tr>\n",
       "      <th>2719</th>\n",
       "      <td>113</td>\n",
       "      <td>925 - Old Mill</td>\n",
       "      <td>0.0</td>\n",
       "      <td>0.0</td>\n",
       "      <td>0.0</td>\n",
       "      <td>0.0</td>\n",
       "      <td>11</td>\n",
       "      <td>Fairfax County</td>\n",
       "      <td>059</td>\n",
       "      <td>059-11</td>\n",
       "      <td>...</td>\n",
       "      <td>0.0</td>\n",
       "      <td>0.0</td>\n",
       "      <td>0.0</td>\n",
       "      <td>0.0</td>\n",
       "      <td>0.0</td>\n",
       "      <td>0.0</td>\n",
       "      <td>0.0</td>\n",
       "      <td>925</td>\n",
       "      <td>059925</td>\n",
       "      <td>059925-11</td>\n",
       "    </tr>\n",
       "  </tbody>\n",
       "</table>\n",
       "<p>4 rows × 25 columns</p>\n",
       "</div>"
      ],
      "text/plain": [
       "      index              Pct  G16HORREP  G16HORDEM  G16HORIND  G16HORWRI  \\\n",
       "467      11     19 - Jolliff        0.0        0.0        0.0        0.0   \n",
       "485      29   45 - Sunray II        0.0        0.0        0.0        0.0   \n",
       "667     211  403 - Southside        0.0        0.0        0.0        0.0   \n",
       "2719    113   925 - Old Mill        0.0        0.0        0.0        0.0   \n",
       "\n",
       "     CON_DIST         LOCALITY COUNTYFP countyfp_cd  ...  G16HORDEM_floor  \\\n",
       "467         3  Chesapeake City      550       550-3  ...              0.0   \n",
       "485         3  Chesapeake City      550       550-3  ...              0.0   \n",
       "667         3     Suffolk City      800       800-3  ...              0.0   \n",
       "2719       11   Fairfax County      059      059-11  ...              0.0   \n",
       "\n",
       "      G16HORIND_add  G16HORIND_rem  G16HORIND_floor  G16HORWRI_add  \\\n",
       "467             0.0            0.0              0.0            0.0   \n",
       "485             0.0            0.0              0.0            0.0   \n",
       "667             0.0            0.0              0.0            0.0   \n",
       "2719            0.0            0.0              0.0            0.0   \n",
       "\n",
       "      G16HORWRI_rem  G16HORWRI_floor  vtdst  unique_id  unique_id_1  \n",
       "467             0.0              0.0    019     550019     550019-3  \n",
       "485             0.0              0.0    045     550045     550045-3  \n",
       "667             0.0              0.0    403     800403     800403-3  \n",
       "2719            0.0              0.0    925     059925    059925-11  \n",
       "\n",
       "[4 rows x 25 columns]"
      ]
     },
     "execution_count": 42,
     "metadata": {},
     "output_type": "execute_result"
    }
   ],
   "source": [
    "df_with_absentee_reallocated[df_with_absentee_reallocated['unique_id_1'].isin(list(set(df_with_absentee_reallocated['unique_id_1']) - set(final['unique_id_1'])))]"
   ]
  },
  {
   "cell_type": "markdown",
   "metadata": {},
   "source": [
    "## Consider SHP + overlay unique id to match df and final gdf"
   ]
  },
  {
   "cell_type": "code",
   "execution_count": 43,
   "metadata": {},
   "outputs": [],
   "source": [
    "shp['unique_id'] = shp['COUNTYFP'] + shp['VTDST'].str.slice(start = 3)"
   ]
  },
  {
   "cell_type": "markdown",
   "metadata": {},
   "source": [
    "Notice below that the raw shp does not have a CD column, which is why when comparing sets, I compared IDs with no CD, even though it is a more limited list."
   ]
  },
  {
   "cell_type": "code",
   "execution_count": 44,
   "metadata": {},
   "outputs": [
    {
     "data": {
      "text/html": [
       "<div>\n",
       "<style scoped>\n",
       "    .dataframe tbody tr th:only-of-type {\n",
       "        vertical-align: middle;\n",
       "    }\n",
       "\n",
       "    .dataframe tbody tr th {\n",
       "        vertical-align: top;\n",
       "    }\n",
       "\n",
       "    .dataframe thead th {\n",
       "        text-align: right;\n",
       "    }\n",
       "</style>\n",
       "<table border=\"1\" class=\"dataframe\">\n",
       "  <thead>\n",
       "    <tr style=\"text-align: right;\">\n",
       "      <th></th>\n",
       "      <th>STATEFP</th>\n",
       "      <th>COUNTYFP</th>\n",
       "      <th>VTDST</th>\n",
       "      <th>NAMELSAD</th>\n",
       "      <th>VTDI</th>\n",
       "      <th>LSAD</th>\n",
       "      <th>CHNG_TYPE</th>\n",
       "      <th>ORIG_NAME</th>\n",
       "      <th>ORIG_CODE</th>\n",
       "      <th>RELATE</th>\n",
       "      <th>NAME</th>\n",
       "      <th>VINTAGE</th>\n",
       "      <th>FUNCSTAT</th>\n",
       "      <th>JUSTIFY</th>\n",
       "      <th>MTFCC</th>\n",
       "      <th>geometry</th>\n",
       "      <th>unique_id</th>\n",
       "    </tr>\n",
       "  </thead>\n",
       "  <tbody>\n",
       "    <tr>\n",
       "      <th>0</th>\n",
       "      <td>51</td>\n",
       "      <td>580</td>\n",
       "      <td>000101</td>\n",
       "      <td>Precinct 1-1</td>\n",
       "      <td>A</td>\n",
       "      <td>00</td>\n",
       "      <td>None</td>\n",
       "      <td>None</td>\n",
       "      <td>None</td>\n",
       "      <td>None</td>\n",
       "      <td>Precinct 1-1</td>\n",
       "      <td>90</td>\n",
       "      <td>N</td>\n",
       "      <td>None</td>\n",
       "      <td>G5240</td>\n",
       "      <td>POLYGON Z ((-80.00136 37.78983 0.00000, -80.00...</td>\n",
       "      <td>580101</td>\n",
       "    </tr>\n",
       "    <tr>\n",
       "      <th>1</th>\n",
       "      <td>51</td>\n",
       "      <td>580</td>\n",
       "      <td>000201</td>\n",
       "      <td>Precinct 2-1</td>\n",
       "      <td>A</td>\n",
       "      <td>00</td>\n",
       "      <td>None</td>\n",
       "      <td>None</td>\n",
       "      <td>None</td>\n",
       "      <td>None</td>\n",
       "      <td>Precinct 2-1</td>\n",
       "      <td>90</td>\n",
       "      <td>N</td>\n",
       "      <td>None</td>\n",
       "      <td>G5240</td>\n",
       "      <td>POLYGON Z ((-79.99129 37.79115 0.00000, -79.99...</td>\n",
       "      <td>580201</td>\n",
       "    </tr>\n",
       "    <tr>\n",
       "      <th>2</th>\n",
       "      <td>51</td>\n",
       "      <td>580</td>\n",
       "      <td>000301</td>\n",
       "      <td>Precinct 3-1</td>\n",
       "      <td>A</td>\n",
       "      <td>00</td>\n",
       "      <td>None</td>\n",
       "      <td>None</td>\n",
       "      <td>None</td>\n",
       "      <td>None</td>\n",
       "      <td>Precinct 3-1</td>\n",
       "      <td>90</td>\n",
       "      <td>N</td>\n",
       "      <td>None</td>\n",
       "      <td>G5240</td>\n",
       "      <td>POLYGON Z ((-79.99661 37.78701 0.00000, -79.99...</td>\n",
       "      <td>580301</td>\n",
       "    </tr>\n",
       "    <tr>\n",
       "      <th>3</th>\n",
       "      <td>51</td>\n",
       "      <td>580</td>\n",
       "      <td>000401</td>\n",
       "      <td>Precinct 4-1</td>\n",
       "      <td>A</td>\n",
       "      <td>00</td>\n",
       "      <td>None</td>\n",
       "      <td>None</td>\n",
       "      <td>None</td>\n",
       "      <td>None</td>\n",
       "      <td>Precinct 4-1</td>\n",
       "      <td>90</td>\n",
       "      <td>N</td>\n",
       "      <td>None</td>\n",
       "      <td>G5240</td>\n",
       "      <td>POLYGON Z ((-79.99797 37.78069 0.00000, -79.99...</td>\n",
       "      <td>580401</td>\n",
       "    </tr>\n",
       "    <tr>\n",
       "      <th>4</th>\n",
       "      <td>51</td>\n",
       "      <td>580</td>\n",
       "      <td>000501</td>\n",
       "      <td>Precinct 5-1</td>\n",
       "      <td>A</td>\n",
       "      <td>00</td>\n",
       "      <td>None</td>\n",
       "      <td>None</td>\n",
       "      <td>None</td>\n",
       "      <td>None</td>\n",
       "      <td>Precinct 5-1</td>\n",
       "      <td>90</td>\n",
       "      <td>N</td>\n",
       "      <td>None</td>\n",
       "      <td>G5240</td>\n",
       "      <td>POLYGON Z ((-80.00899 37.76259 0.00000, -80.00...</td>\n",
       "      <td>580501</td>\n",
       "    </tr>\n",
       "  </tbody>\n",
       "</table>\n",
       "</div>"
      ],
      "text/plain": [
       "  STATEFP COUNTYFP   VTDST      NAMELSAD VTDI LSAD CHNG_TYPE ORIG_NAME  \\\n",
       "0      51      580  000101  Precinct 1-1    A   00      None      None   \n",
       "1      51      580  000201  Precinct 2-1    A   00      None      None   \n",
       "2      51      580  000301  Precinct 3-1    A   00      None      None   \n",
       "3      51      580  000401  Precinct 4-1    A   00      None      None   \n",
       "4      51      580  000501  Precinct 5-1    A   00      None      None   \n",
       "\n",
       "  ORIG_CODE RELATE          NAME VINTAGE FUNCSTAT JUSTIFY  MTFCC  \\\n",
       "0      None   None  Precinct 1-1      90        N    None  G5240   \n",
       "1      None   None  Precinct 2-1      90        N    None  G5240   \n",
       "2      None   None  Precinct 3-1      90        N    None  G5240   \n",
       "3      None   None  Precinct 4-1      90        N    None  G5240   \n",
       "4      None   None  Precinct 5-1      90        N    None  G5240   \n",
       "\n",
       "                                            geometry unique_id  \n",
       "0  POLYGON Z ((-80.00136 37.78983 0.00000, -80.00...    580101  \n",
       "1  POLYGON Z ((-79.99129 37.79115 0.00000, -79.99...    580201  \n",
       "2  POLYGON Z ((-79.99661 37.78701 0.00000, -79.99...    580301  \n",
       "3  POLYGON Z ((-79.99797 37.78069 0.00000, -79.99...    580401  \n",
       "4  POLYGON Z ((-80.00899 37.76259 0.00000, -80.00...    580501  "
      ]
     },
     "execution_count": 44,
     "metadata": {},
     "output_type": "execute_result"
    }
   ],
   "source": [
    "shp.head()"
   ]
  },
  {
   "cell_type": "code",
   "execution_count": 45,
   "metadata": {},
   "outputs": [
    {
     "data": {
      "text/plain": [
       "50"
      ]
     },
     "execution_count": 45,
     "metadata": {},
     "output_type": "execute_result"
    }
   ],
   "source": [
    "len(set(shp['unique_id']) - set(final['unique_id']))"
   ]
  },
  {
   "cell_type": "code",
   "execution_count": 46,
   "metadata": {},
   "outputs": [
    {
     "data": {
      "text/plain": [
       "24"
      ]
     },
     "execution_count": 46,
     "metadata": {},
     "output_type": "execute_result"
    }
   ],
   "source": [
    "len(set(final['unique_id']) - set(shp['unique_id']))"
   ]
  },
  {
   "cell_type": "markdown",
   "metadata": {},
   "source": [
    "Use overlay shp because it does have the CD column available... **Question** - will this impact the geometry matches? - CD lines cut through precincts in a bad way?"
   ]
  },
  {
   "cell_type": "code",
   "execution_count": 47,
   "metadata": {},
   "outputs": [],
   "source": [
    "overlay['unique_id'] = overlay['COUNTYFP_1'] + overlay['VTDST'].str.slice(start = 3) "
   ]
  },
  {
   "cell_type": "code",
   "execution_count": 48,
   "metadata": {},
   "outputs": [
    {
     "data": {
      "text/plain": [
       "2447"
      ]
     },
     "execution_count": 48,
     "metadata": {},
     "output_type": "execute_result"
    }
   ],
   "source": [
    "overlay['unique_id'].nunique()"
   ]
  },
  {
   "cell_type": "code",
   "execution_count": 49,
   "metadata": {},
   "outputs": [
    {
     "name": "stdout",
     "output_type": "stream",
     "text": [
      "(2453, 43)\n",
      "(2462, 17)\n"
     ]
    }
   ],
   "source": [
    "print(overlay.shape)\n",
    "print(shp.shape)"
   ]
  },
  {
   "cell_type": "code",
   "execution_count": 50,
   "metadata": {},
   "outputs": [
    {
     "name": "stdout",
     "output_type": "stream",
     "text": [
      "set()\n",
      "14\n"
     ]
    }
   ],
   "source": [
    "print(set(overlay['unique_id']) - set(shp['unique_id']))\n",
    "print(len(set(shp['unique_id'])-set(overlay['unique_id'])))"
   ]
  },
  {
   "cell_type": "markdown",
   "metadata": {},
   "source": [
    "In order to account for the precincts in shp not in overlay, join the two"
   ]
  },
  {
   "cell_type": "code",
   "execution_count": 51,
   "metadata": {},
   "outputs": [
    {
     "data": {
      "text/plain": [
       "Index(['STATEFP_1', 'COUNTYFP_1', 'CDFP', 'CDTYP', 'NAMELSAD_1', 'LSAD_1',\n",
       "       'PARTFLG', 'CHNG_TYPE_1', 'EFF_DATE', 'NEW_CODE', 'RELTYPE1',\n",
       "       'RELTYPE2', 'RELTYPE3', 'RELTYPE4', 'RELTYPE5', 'REL_ENT1', 'REL_ENT2',\n",
       "       'REL_ENT3', 'REL_ENT4', 'REL_ENT5', 'RELATE_1', 'JUSTIFY_1', 'CDSESSN',\n",
       "       'NAME_1', 'VINTAGE_1', 'FUNCSTAT_1', 'STATEFP_2', 'COUNTYFP_2', 'VTDST',\n",
       "       'NAMELSAD_2', 'VTDI', 'LSAD_2', 'CHNG_TYPE_2', 'ORIG_NAME', 'ORIG_CODE',\n",
       "       'RELATE_2', 'NAME_2', 'VINTAGE_2', 'FUNCSTAT_2', 'JUSTIFY_2', 'MTFCC',\n",
       "       'geometry', 'unique_id'],\n",
       "      dtype='object')"
      ]
     },
     "execution_count": 51,
     "metadata": {},
     "output_type": "execute_result"
    }
   ],
   "source": [
    "overlay.columns"
   ]
  },
  {
   "cell_type": "code",
   "execution_count": 52,
   "metadata": {},
   "outputs": [
    {
     "name": "stderr",
     "output_type": "stream",
     "text": [
      "<ipython-input-52-7a853ff08c61>:1: FutureWarning: Assigning CRS to a GeoDataFrame without a geometry column is now deprecated and will not be supported in the future.\n",
      "  overlay_w_shp = gpd.GeoDataFrame(pd.merge(overlay, shp, on = 'unique_id', how = 'outer'), crs = proj)\n"
     ]
    },
    {
     "data": {
      "text/plain": [
       "(2469, 59)"
      ]
     },
     "execution_count": 52,
     "metadata": {},
     "output_type": "execute_result"
    }
   ],
   "source": [
    "overlay_w_shp = gpd.GeoDataFrame(pd.merge(overlay, shp, on = 'unique_id', how = 'outer'), crs = proj)\n",
    "overlay_w_shp.shape"
   ]
  },
  {
   "cell_type": "code",
   "execution_count": 53,
   "metadata": {},
   "outputs": [],
   "source": [
    "#Inorder to compare geometries later, need to make the column that has the overlay geometries \"geometry\" instead of \"geometry_x\". Then, for the spots where that value is null, insert the shp geometry.\n",
    "overlay_w_shp['geometry'] = overlay_w_shp['geometry_x']\n",
    "overlay_w_shp.loc[overlay_w_shp['geometry_x'] == None, 'geometry'] = overlay_w_shp.loc[overlay_w_shp['geometry_x'] == None, 'geometry_y']"
   ]
  },
  {
   "cell_type": "code",
   "execution_count": 54,
   "metadata": {},
   "outputs": [
    {
     "data": {
      "text/plain": [
       "2461"
      ]
     },
     "execution_count": 54,
     "metadata": {},
     "output_type": "execute_result"
    }
   ],
   "source": [
    "#Drop the old geo columns to avoid confusion\n",
    "overlay_w_shp = overlay_w_shp.drop(['geometry_x', 'geometry_y'], axis = 1)\n",
    "overlay_w_shp['unique_id'].nunique()"
   ]
  },
  {
   "cell_type": "code",
   "execution_count": 55,
   "metadata": {},
   "outputs": [
    {
     "data": {
      "text/plain": [
       "(2469, 58)"
      ]
     },
     "execution_count": 55,
     "metadata": {},
     "output_type": "execute_result"
    }
   ],
   "source": [
    "overlay_w_shp.shape"
   ]
  },
  {
   "cell_type": "code",
   "execution_count": 56,
   "metadata": {},
   "outputs": [
    {
     "data": {
      "text/plain": [
       "(2458, 12)"
      ]
     },
     "execution_count": 56,
     "metadata": {},
     "output_type": "execute_result"
    }
   ],
   "source": [
    "final.shape"
   ]
  },
  {
   "cell_type": "markdown",
   "metadata": {},
   "source": [
    "`CON_DIST` in final and df does not have leading zero, so need to make the same in overlay gdf"
   ]
  },
  {
   "cell_type": "code",
   "execution_count": 57,
   "metadata": {},
   "outputs": [
    {
     "data": {
      "text/plain": [
       "09    339\n",
       "05    306\n",
       "04    252\n",
       "06    229\n",
       "07    216\n",
       "01    216\n",
       "10    208\n",
       "03    195\n",
       "02    167\n",
       "08    166\n",
       "11    159\n",
       "Name: CDFP, dtype: int64"
      ]
     },
     "execution_count": 57,
     "metadata": {},
     "output_type": "execute_result"
    }
   ],
   "source": [
    "overlay.CDFP.value_counts()"
   ]
  },
  {
   "cell_type": "code",
   "execution_count": 58,
   "metadata": {},
   "outputs": [
    {
     "data": {
      "text/plain": [
       "0        9\n",
       "1        9\n",
       "2        9\n",
       "3        9\n",
       "4        9\n",
       "        ..\n",
       "2448    11\n",
       "2449    11\n",
       "2450    11\n",
       "2451    11\n",
       "2452    11\n",
       "Name: CDFP, Length: 2453, dtype: object"
      ]
     },
     "execution_count": 58,
     "metadata": {},
     "output_type": "execute_result"
    }
   ],
   "source": [
    "overlay.CDFP.str.lstrip('0')"
   ]
  },
  {
   "cell_type": "code",
   "execution_count": 59,
   "metadata": {},
   "outputs": [
    {
     "data": {
      "text/plain": [
       "09    341\n",
       "05    306\n",
       "04    252\n",
       "06    229\n",
       "07    216\n",
       "01    216\n",
       "10    208\n",
       "03    195\n",
       "02    167\n",
       "08    166\n",
       "11    159\n",
       "Name: CDFP, dtype: int64"
      ]
     },
     "execution_count": 59,
     "metadata": {},
     "output_type": "execute_result"
    }
   ],
   "source": [
    "overlay_w_shp.CDFP.value_counts()"
   ]
  },
  {
   "cell_type": "code",
   "execution_count": 60,
   "metadata": {},
   "outputs": [
    {
     "data": {
      "text/plain": [
       "0         9\n",
       "1         9\n",
       "2         9\n",
       "3         9\n",
       "4         9\n",
       "       ... \n",
       "2464    NaN\n",
       "2465    NaN\n",
       "2466    NaN\n",
       "2467    NaN\n",
       "2468    NaN\n",
       "Name: CDFP, Length: 2469, dtype: object"
      ]
     },
     "execution_count": 60,
     "metadata": {},
     "output_type": "execute_result"
    }
   ],
   "source": [
    "overlay_w_shp.CDFP.str.lstrip('0')"
   ]
  },
  {
   "cell_type": "code",
   "execution_count": 61,
   "metadata": {},
   "outputs": [],
   "source": [
    "overlay_w_shp['unique_id_1'] = overlay_w_shp['unique_id'] + '-' + overlay_w_shp['CDFP'].str.lstrip('0')"
   ]
  },
  {
   "cell_type": "code",
   "execution_count": 62,
   "metadata": {},
   "outputs": [
    {
     "data": {
      "text/plain": [
       "2452"
      ]
     },
     "execution_count": 62,
     "metadata": {},
     "output_type": "execute_result"
    }
   ],
   "source": [
    "overlay_w_shp.unique_id_1.nunique()"
   ]
  },
  {
   "cell_type": "code",
   "execution_count": 63,
   "metadata": {},
   "outputs": [
    {
     "data": {
      "text/plain": [
       "(2469, 59)"
      ]
     },
     "execution_count": 63,
     "metadata": {},
     "output_type": "execute_result"
    }
   ],
   "source": [
    "overlay_w_shp.shape"
   ]
  },
  {
   "cell_type": "code",
   "execution_count": 64,
   "metadata": {},
   "outputs": [
    {
     "data": {
      "text/plain": [
       "2461"
      ]
     },
     "execution_count": 64,
     "metadata": {},
     "output_type": "execute_result"
    }
   ],
   "source": [
    "overlay_w_shp.unique_id.nunique()"
   ]
  },
  {
   "cell_type": "code",
   "execution_count": 65,
   "metadata": {},
   "outputs": [
    {
     "data": {
      "text/html": [
       "<div>\n",
       "<style scoped>\n",
       "    .dataframe tbody tr th:only-of-type {\n",
       "        vertical-align: middle;\n",
       "    }\n",
       "\n",
       "    .dataframe tbody tr th {\n",
       "        vertical-align: top;\n",
       "    }\n",
       "\n",
       "    .dataframe thead th {\n",
       "        text-align: right;\n",
       "    }\n",
       "</style>\n",
       "<table border=\"1\" class=\"dataframe\">\n",
       "  <thead>\n",
       "    <tr style=\"text-align: right;\">\n",
       "      <th></th>\n",
       "      <th>unique_id</th>\n",
       "      <th>unique_id_1</th>\n",
       "    </tr>\n",
       "  </thead>\n",
       "  <tbody>\n",
       "    <tr>\n",
       "      <th>0</th>\n",
       "      <td>580101</td>\n",
       "      <td>580101-9</td>\n",
       "    </tr>\n",
       "    <tr>\n",
       "      <th>1</th>\n",
       "      <td>580201</td>\n",
       "      <td>580201-9</td>\n",
       "    </tr>\n",
       "    <tr>\n",
       "      <th>2</th>\n",
       "      <td>580301</td>\n",
       "      <td>580301-9</td>\n",
       "    </tr>\n",
       "    <tr>\n",
       "      <th>3</th>\n",
       "      <td>580401</td>\n",
       "      <td>580401-9</td>\n",
       "    </tr>\n",
       "    <tr>\n",
       "      <th>4</th>\n",
       "      <td>580501</td>\n",
       "      <td>580501-9</td>\n",
       "    </tr>\n",
       "  </tbody>\n",
       "</table>\n",
       "</div>"
      ],
      "text/plain": [
       "  unique_id unique_id_1\n",
       "0    580101    580101-9\n",
       "1    580201    580201-9\n",
       "2    580301    580301-9\n",
       "3    580401    580401-9\n",
       "4    580501    580501-9"
      ]
     },
     "execution_count": 65,
     "metadata": {},
     "output_type": "execute_result"
    }
   ],
   "source": [
    "#unique_id has more unique values than unique_id_1 when there are fewer components\n",
    "overlay_w_shp[['unique_id', 'unique_id_1']].head()"
   ]
  },
  {
   "cell_type": "code",
   "execution_count": 66,
   "metadata": {},
   "outputs": [
    {
     "data": {
      "text/plain": [
       "Index(['121032-9'], dtype='object')"
      ]
     },
     "execution_count": 66,
     "metadata": {},
     "output_type": "execute_result"
    }
   ],
   "source": [
    "(overlay_w_shp['unique_id_1'].value_counts()[overlay_w_shp['unique_id_1'].value_counts()>1]).index"
   ]
  },
  {
   "cell_type": "code",
   "execution_count": 67,
   "metadata": {},
   "outputs": [
    {
     "data": {
      "text/html": [
       "<div>\n",
       "<style scoped>\n",
       "    .dataframe tbody tr th:only-of-type {\n",
       "        vertical-align: middle;\n",
       "    }\n",
       "\n",
       "    .dataframe tbody tr th {\n",
       "        vertical-align: top;\n",
       "    }\n",
       "\n",
       "    .dataframe thead th {\n",
       "        text-align: right;\n",
       "    }\n",
       "</style>\n",
       "<table border=\"1\" class=\"dataframe\">\n",
       "  <thead>\n",
       "    <tr style=\"text-align: right;\">\n",
       "      <th></th>\n",
       "      <th>unique_id</th>\n",
       "      <th>unique_id_1</th>\n",
       "    </tr>\n",
       "  </thead>\n",
       "  <tbody>\n",
       "    <tr>\n",
       "      <th>67</th>\n",
       "      <td>121032</td>\n",
       "      <td>121032-9</td>\n",
       "    </tr>\n",
       "    <tr>\n",
       "      <th>68</th>\n",
       "      <td>121032</td>\n",
       "      <td>121032-9</td>\n",
       "    </tr>\n",
       "    <tr>\n",
       "      <th>69</th>\n",
       "      <td>121032</td>\n",
       "      <td>121032-9</td>\n",
       "    </tr>\n",
       "    <tr>\n",
       "      <th>70</th>\n",
       "      <td>121032</td>\n",
       "      <td>121032-9</td>\n",
       "    </tr>\n",
       "  </tbody>\n",
       "</table>\n",
       "</div>"
      ],
      "text/plain": [
       "   unique_id unique_id_1\n",
       "67    121032    121032-9\n",
       "68    121032    121032-9\n",
       "69    121032    121032-9\n",
       "70    121032    121032-9"
      ]
     },
     "execution_count": 67,
     "metadata": {},
     "output_type": "execute_result"
    }
   ],
   "source": [
    "overlay_w_shp[['unique_id', 'unique_id_1']][overlay_w_shp.unique_id_1 == '121032-9']"
   ]
  },
  {
   "cell_type": "code",
   "execution_count": 68,
   "metadata": {},
   "outputs": [
    {
     "data": {
      "text/plain": [
       "59"
      ]
     },
     "execution_count": 68,
     "metadata": {},
     "output_type": "execute_result"
    }
   ],
   "source": [
    "len(set(overlay_w_shp.unique_id_1) - set(final.unique_id_1))"
   ]
  },
  {
   "cell_type": "code",
   "execution_count": 69,
   "metadata": {},
   "outputs": [
    {
     "data": {
      "text/plain": [
       "64"
      ]
     },
     "execution_count": 69,
     "metadata": {},
     "output_type": "execute_result"
    }
   ],
   "source": [
    "len(set(final.unique_id_1) - set(overlay_w_shp.unique_id_1))"
   ]
  },
  {
   "cell_type": "markdown",
   "metadata": {},
   "source": [
    "## Create unique_id(2) to account for doubles in unique_id list, esp since better match rate with shp with unique id"
   ]
  },
  {
   "cell_type": "code",
   "execution_count": 70,
   "metadata": {},
   "outputs": [
    {
     "name": "stdout",
     "output_type": "stream",
     "text": [
      "Double in df, not in final:  {'550045', '800403', '059925', '550019'}\n",
      "Double in final, not in df:  set()\n",
      "Index(['800504', '089304', '550019', '177103', '650215', '800403', '089505',\n",
      "       '550045', '095202', '177402', '059513', '177704', '710104', '153110',\n",
      "       '059925', '177702', '177703', '800602', '153609', '153112', '800302',\n",
      "       '550020', '153312', '800404', '095504', '153210', '710101'],\n",
      "      dtype='object')\n"
     ]
    }
   ],
   "source": [
    "df_id_count = df_with_absentee_reallocated['unique_id'].value_counts()\n",
    "df_double_list = df_id_count[df_id_count > 1].index\n",
    "final_id_count = final.unique_id.value_counts()\n",
    "final_double_list = final_id_count[final_id_count > 1].index\n",
    "print('Double in df, not in final: ', set(df_double_list) - set(final_double_list))\n",
    "print('Double in final, not in df: ',set(final_double_list) - set(df_double_list))\n",
    "print(df_double_list)"
   ]
  },
  {
   "cell_type": "markdown",
   "metadata": {},
   "source": [
    "### Investigate values that double in df not doubled in final that need to be merged to other items"
   ]
  },
  {
   "cell_type": "code",
   "execution_count": 71,
   "metadata": {},
   "outputs": [
    {
     "data": {
      "text/html": [
       "<div>\n",
       "<style scoped>\n",
       "    .dataframe tbody tr th:only-of-type {\n",
       "        vertical-align: middle;\n",
       "    }\n",
       "\n",
       "    .dataframe tbody tr th {\n",
       "        vertical-align: top;\n",
       "    }\n",
       "\n",
       "    .dataframe thead th {\n",
       "        text-align: right;\n",
       "    }\n",
       "</style>\n",
       "<table border=\"1\" class=\"dataframe\">\n",
       "  <thead>\n",
       "    <tr style=\"text-align: right;\">\n",
       "      <th></th>\n",
       "      <th>index</th>\n",
       "      <th>Pct</th>\n",
       "      <th>G16HORREP</th>\n",
       "      <th>G16HORDEM</th>\n",
       "      <th>G16HORIND</th>\n",
       "      <th>G16HORWRI</th>\n",
       "      <th>CON_DIST</th>\n",
       "      <th>LOCALITY</th>\n",
       "      <th>COUNTYFP</th>\n",
       "      <th>countyfp_cd</th>\n",
       "      <th>...</th>\n",
       "      <th>G16HORDEM_floor</th>\n",
       "      <th>G16HORIND_add</th>\n",
       "      <th>G16HORIND_rem</th>\n",
       "      <th>G16HORIND_floor</th>\n",
       "      <th>G16HORWRI_add</th>\n",
       "      <th>G16HORWRI_rem</th>\n",
       "      <th>G16HORWRI_floor</th>\n",
       "      <th>vtdst</th>\n",
       "      <th>unique_id</th>\n",
       "      <th>unique_id_1</th>\n",
       "    </tr>\n",
       "  </thead>\n",
       "  <tbody>\n",
       "    <tr>\n",
       "      <th>467</th>\n",
       "      <td>11</td>\n",
       "      <td>19 - Jolliff</td>\n",
       "      <td>0.0</td>\n",
       "      <td>0.0</td>\n",
       "      <td>0.0</td>\n",
       "      <td>0.0</td>\n",
       "      <td>3</td>\n",
       "      <td>Chesapeake City</td>\n",
       "      <td>550</td>\n",
       "      <td>550-3</td>\n",
       "      <td>...</td>\n",
       "      <td>0.0</td>\n",
       "      <td>0.0</td>\n",
       "      <td>0.0</td>\n",
       "      <td>0.0</td>\n",
       "      <td>0.0</td>\n",
       "      <td>0.000000</td>\n",
       "      <td>0.0</td>\n",
       "      <td>019</td>\n",
       "      <td>550019</td>\n",
       "      <td>550019-3</td>\n",
       "    </tr>\n",
       "    <tr>\n",
       "      <th>485</th>\n",
       "      <td>29</td>\n",
       "      <td>45 - Sunray II</td>\n",
       "      <td>0.0</td>\n",
       "      <td>0.0</td>\n",
       "      <td>0.0</td>\n",
       "      <td>0.0</td>\n",
       "      <td>3</td>\n",
       "      <td>Chesapeake City</td>\n",
       "      <td>550</td>\n",
       "      <td>550-3</td>\n",
       "      <td>...</td>\n",
       "      <td>0.0</td>\n",
       "      <td>0.0</td>\n",
       "      <td>0.0</td>\n",
       "      <td>0.0</td>\n",
       "      <td>0.0</td>\n",
       "      <td>0.000000</td>\n",
       "      <td>0.0</td>\n",
       "      <td>045</td>\n",
       "      <td>550045</td>\n",
       "      <td>550045-3</td>\n",
       "    </tr>\n",
       "    <tr>\n",
       "      <th>667</th>\n",
       "      <td>211</td>\n",
       "      <td>403 - Southside</td>\n",
       "      <td>0.0</td>\n",
       "      <td>0.0</td>\n",
       "      <td>0.0</td>\n",
       "      <td>0.0</td>\n",
       "      <td>3</td>\n",
       "      <td>Suffolk City</td>\n",
       "      <td>800</td>\n",
       "      <td>800-3</td>\n",
       "      <td>...</td>\n",
       "      <td>0.0</td>\n",
       "      <td>0.0</td>\n",
       "      <td>0.0</td>\n",
       "      <td>0.0</td>\n",
       "      <td>0.0</td>\n",
       "      <td>0.000000</td>\n",
       "      <td>0.0</td>\n",
       "      <td>403</td>\n",
       "      <td>800403</td>\n",
       "      <td>800403-3</td>\n",
       "    </tr>\n",
       "    <tr>\n",
       "      <th>693</th>\n",
       "      <td>14</td>\n",
       "      <td>19 - Jolliff</td>\n",
       "      <td>973.0</td>\n",
       "      <td>393.0</td>\n",
       "      <td>0.0</td>\n",
       "      <td>9.0</td>\n",
       "      <td>4</td>\n",
       "      <td>Chesapeake City</td>\n",
       "      <td>550</td>\n",
       "      <td>550-4</td>\n",
       "      <td>...</td>\n",
       "      <td>73.0</td>\n",
       "      <td>0.0</td>\n",
       "      <td>0.0</td>\n",
       "      <td>0.0</td>\n",
       "      <td>1.0</td>\n",
       "      <td>0.339901</td>\n",
       "      <td>1.0</td>\n",
       "      <td>019</td>\n",
       "      <td>550019</td>\n",
       "      <td>550019-4</td>\n",
       "    </tr>\n",
       "    <tr>\n",
       "      <th>703</th>\n",
       "      <td>24</td>\n",
       "      <td>45 - Sunray II</td>\n",
       "      <td>262.0</td>\n",
       "      <td>412.0</td>\n",
       "      <td>0.0</td>\n",
       "      <td>6.0</td>\n",
       "      <td>4</td>\n",
       "      <td>Chesapeake City</td>\n",
       "      <td>550</td>\n",
       "      <td>550-4</td>\n",
       "      <td>...</td>\n",
       "      <td>77.0</td>\n",
       "      <td>0.0</td>\n",
       "      <td>0.0</td>\n",
       "      <td>0.0</td>\n",
       "      <td>1.0</td>\n",
       "      <td>0.837438</td>\n",
       "      <td>0.0</td>\n",
       "      <td>045</td>\n",
       "      <td>550045</td>\n",
       "      <td>550045-4</td>\n",
       "    </tr>\n",
       "    <tr>\n",
       "      <th>924</th>\n",
       "      <td>245</td>\n",
       "      <td>403 - Southside</td>\n",
       "      <td>98.0</td>\n",
       "      <td>742.0</td>\n",
       "      <td>0.0</td>\n",
       "      <td>0.0</td>\n",
       "      <td>4</td>\n",
       "      <td>Suffolk City</td>\n",
       "      <td>800</td>\n",
       "      <td>800-4</td>\n",
       "      <td>...</td>\n",
       "      <td>127.0</td>\n",
       "      <td>0.0</td>\n",
       "      <td>0.0</td>\n",
       "      <td>0.0</td>\n",
       "      <td>0.0</td>\n",
       "      <td>0.000000</td>\n",
       "      <td>0.0</td>\n",
       "      <td>403</td>\n",
       "      <td>800403</td>\n",
       "      <td>800403-4</td>\n",
       "    </tr>\n",
       "    <tr>\n",
       "      <th>2441</th>\n",
       "      <td>53</td>\n",
       "      <td>925 - Old Mill</td>\n",
       "      <td>702.0</td>\n",
       "      <td>926.0</td>\n",
       "      <td>0.0</td>\n",
       "      <td>5.0</td>\n",
       "      <td>10</td>\n",
       "      <td>Fairfax County</td>\n",
       "      <td>059</td>\n",
       "      <td>059-10</td>\n",
       "      <td>...</td>\n",
       "      <td>264.0</td>\n",
       "      <td>0.0</td>\n",
       "      <td>0.0</td>\n",
       "      <td>0.0</td>\n",
       "      <td>1.0</td>\n",
       "      <td>0.337580</td>\n",
       "      <td>1.0</td>\n",
       "      <td>925</td>\n",
       "      <td>059925</td>\n",
       "      <td>059925-10</td>\n",
       "    </tr>\n",
       "    <tr>\n",
       "      <th>2719</th>\n",
       "      <td>113</td>\n",
       "      <td>925 - Old Mill</td>\n",
       "      <td>0.0</td>\n",
       "      <td>0.0</td>\n",
       "      <td>0.0</td>\n",
       "      <td>0.0</td>\n",
       "      <td>11</td>\n",
       "      <td>Fairfax County</td>\n",
       "      <td>059</td>\n",
       "      <td>059-11</td>\n",
       "      <td>...</td>\n",
       "      <td>0.0</td>\n",
       "      <td>0.0</td>\n",
       "      <td>0.0</td>\n",
       "      <td>0.0</td>\n",
       "      <td>0.0</td>\n",
       "      <td>0.000000</td>\n",
       "      <td>0.0</td>\n",
       "      <td>925</td>\n",
       "      <td>059925</td>\n",
       "      <td>059925-11</td>\n",
       "    </tr>\n",
       "  </tbody>\n",
       "</table>\n",
       "<p>8 rows × 25 columns</p>\n",
       "</div>"
      ],
      "text/plain": [
       "      index              Pct  G16HORREP  G16HORDEM  G16HORIND  G16HORWRI  \\\n",
       "467      11     19 - Jolliff        0.0        0.0        0.0        0.0   \n",
       "485      29   45 - Sunray II        0.0        0.0        0.0        0.0   \n",
       "667     211  403 - Southside        0.0        0.0        0.0        0.0   \n",
       "693      14     19 - Jolliff      973.0      393.0        0.0        9.0   \n",
       "703      24   45 - Sunray II      262.0      412.0        0.0        6.0   \n",
       "924     245  403 - Southside       98.0      742.0        0.0        0.0   \n",
       "2441     53   925 - Old Mill      702.0      926.0        0.0        5.0   \n",
       "2719    113   925 - Old Mill        0.0        0.0        0.0        0.0   \n",
       "\n",
       "     CON_DIST         LOCALITY COUNTYFP countyfp_cd  ...  G16HORDEM_floor  \\\n",
       "467         3  Chesapeake City      550       550-3  ...              0.0   \n",
       "485         3  Chesapeake City      550       550-3  ...              0.0   \n",
       "667         3     Suffolk City      800       800-3  ...              0.0   \n",
       "693         4  Chesapeake City      550       550-4  ...             73.0   \n",
       "703         4  Chesapeake City      550       550-4  ...             77.0   \n",
       "924         4     Suffolk City      800       800-4  ...            127.0   \n",
       "2441       10   Fairfax County      059      059-10  ...            264.0   \n",
       "2719       11   Fairfax County      059      059-11  ...              0.0   \n",
       "\n",
       "      G16HORIND_add  G16HORIND_rem  G16HORIND_floor  G16HORWRI_add  \\\n",
       "467             0.0            0.0              0.0            0.0   \n",
       "485             0.0            0.0              0.0            0.0   \n",
       "667             0.0            0.0              0.0            0.0   \n",
       "693             0.0            0.0              0.0            1.0   \n",
       "703             0.0            0.0              0.0            1.0   \n",
       "924             0.0            0.0              0.0            0.0   \n",
       "2441            0.0            0.0              0.0            1.0   \n",
       "2719            0.0            0.0              0.0            0.0   \n",
       "\n",
       "      G16HORWRI_rem  G16HORWRI_floor  vtdst  unique_id  unique_id_1  \n",
       "467        0.000000              0.0    019     550019     550019-3  \n",
       "485        0.000000              0.0    045     550045     550045-3  \n",
       "667        0.000000              0.0    403     800403     800403-3  \n",
       "693        0.339901              1.0    019     550019     550019-4  \n",
       "703        0.837438              0.0    045     550045     550045-4  \n",
       "924        0.000000              0.0    403     800403     800403-4  \n",
       "2441       0.337580              1.0    925     059925    059925-10  \n",
       "2719       0.000000              0.0    925     059925    059925-11  \n",
       "\n",
       "[8 rows x 25 columns]"
      ]
     },
     "execution_count": 71,
     "metadata": {},
     "output_type": "execute_result"
    }
   ],
   "source": [
    "df_with_absentee_reallocated[df_with_absentee_reallocated.unique_id.isin(set(df_double_list) - set(final_double_list))]"
   ]
  },
  {
   "cell_type": "code",
   "execution_count": 72,
   "metadata": {},
   "outputs": [
    {
     "data": {
      "text/html": [
       "<div>\n",
       "<style scoped>\n",
       "    .dataframe tbody tr th:only-of-type {\n",
       "        vertical-align: middle;\n",
       "    }\n",
       "\n",
       "    .dataframe tbody tr th {\n",
       "        vertical-align: top;\n",
       "    }\n",
       "\n",
       "    .dataframe thead th {\n",
       "        text-align: right;\n",
       "    }\n",
       "</style>\n",
       "<table border=\"1\" class=\"dataframe\">\n",
       "  <thead>\n",
       "    <tr style=\"text-align: right;\">\n",
       "      <th></th>\n",
       "      <th>index</th>\n",
       "      <th>Pct</th>\n",
       "      <th>G16HORREP</th>\n",
       "      <th>G16HORDEM</th>\n",
       "      <th>G16HORIND</th>\n",
       "      <th>G16HORWRI</th>\n",
       "      <th>CON_DIST</th>\n",
       "      <th>LOCALITY</th>\n",
       "      <th>COUNTYFP</th>\n",
       "      <th>countyfp_cd</th>\n",
       "      <th>...</th>\n",
       "      <th>G16HORDEM_floor</th>\n",
       "      <th>G16HORIND_add</th>\n",
       "      <th>G16HORIND_rem</th>\n",
       "      <th>G16HORIND_floor</th>\n",
       "      <th>G16HORWRI_add</th>\n",
       "      <th>G16HORWRI_rem</th>\n",
       "      <th>G16HORWRI_floor</th>\n",
       "      <th>vtdst</th>\n",
       "      <th>unique_id</th>\n",
       "      <th>unique_id_1</th>\n",
       "    </tr>\n",
       "  </thead>\n",
       "  <tbody>\n",
       "    <tr>\n",
       "      <th>667</th>\n",
       "      <td>211</td>\n",
       "      <td>403 - Southside</td>\n",
       "      <td>0.0</td>\n",
       "      <td>0.0</td>\n",
       "      <td>0.0</td>\n",
       "      <td>0.0</td>\n",
       "      <td>3</td>\n",
       "      <td>Suffolk City</td>\n",
       "      <td>800</td>\n",
       "      <td>800-3</td>\n",
       "      <td>...</td>\n",
       "      <td>0.0</td>\n",
       "      <td>0.0</td>\n",
       "      <td>0.0</td>\n",
       "      <td>0.0</td>\n",
       "      <td>0.0</td>\n",
       "      <td>0.0</td>\n",
       "      <td>0.0</td>\n",
       "      <td>403</td>\n",
       "      <td>800403</td>\n",
       "      <td>800403-3</td>\n",
       "    </tr>\n",
       "    <tr>\n",
       "      <th>924</th>\n",
       "      <td>245</td>\n",
       "      <td>403 - Southside</td>\n",
       "      <td>98.0</td>\n",
       "      <td>742.0</td>\n",
       "      <td>0.0</td>\n",
       "      <td>0.0</td>\n",
       "      <td>4</td>\n",
       "      <td>Suffolk City</td>\n",
       "      <td>800</td>\n",
       "      <td>800-4</td>\n",
       "      <td>...</td>\n",
       "      <td>127.0</td>\n",
       "      <td>0.0</td>\n",
       "      <td>0.0</td>\n",
       "      <td>0.0</td>\n",
       "      <td>0.0</td>\n",
       "      <td>0.0</td>\n",
       "      <td>0.0</td>\n",
       "      <td>403</td>\n",
       "      <td>800403</td>\n",
       "      <td>800403-4</td>\n",
       "    </tr>\n",
       "  </tbody>\n",
       "</table>\n",
       "<p>2 rows × 25 columns</p>\n",
       "</div>"
      ],
      "text/plain": [
       "     index              Pct  G16HORREP  G16HORDEM  G16HORIND  G16HORWRI  \\\n",
       "667    211  403 - Southside        0.0        0.0        0.0        0.0   \n",
       "924    245  403 - Southside       98.0      742.0        0.0        0.0   \n",
       "\n",
       "    CON_DIST      LOCALITY COUNTYFP countyfp_cd  ...  G16HORDEM_floor  \\\n",
       "667        3  Suffolk City      800       800-3  ...              0.0   \n",
       "924        4  Suffolk City      800       800-4  ...            127.0   \n",
       "\n",
       "     G16HORIND_add  G16HORIND_rem  G16HORIND_floor  G16HORWRI_add  \\\n",
       "667            0.0            0.0              0.0            0.0   \n",
       "924            0.0            0.0              0.0            0.0   \n",
       "\n",
       "     G16HORWRI_rem  G16HORWRI_floor  vtdst  unique_id  unique_id_1  \n",
       "667            0.0              0.0    403     800403     800403-3  \n",
       "924            0.0              0.0    403     800403     800403-4  \n",
       "\n",
       "[2 rows x 25 columns]"
      ]
     },
     "execution_count": 72,
     "metadata": {},
     "output_type": "execute_result"
    }
   ],
   "source": [
    "df_with_absentee_reallocated[df_with_absentee_reallocated['unique_id'] == '800403']"
   ]
  },
  {
   "cell_type": "code",
   "execution_count": 73,
   "metadata": {},
   "outputs": [
    {
     "data": {
      "text/html": [
       "<div>\n",
       "<style scoped>\n",
       "    .dataframe tbody tr th:only-of-type {\n",
       "        vertical-align: middle;\n",
       "    }\n",
       "\n",
       "    .dataframe tbody tr th {\n",
       "        vertical-align: top;\n",
       "    }\n",
       "\n",
       "    .dataframe thead th {\n",
       "        text-align: right;\n",
       "    }\n",
       "</style>\n",
       "<table border=\"1\" class=\"dataframe\">\n",
       "  <thead>\n",
       "    <tr style=\"text-align: right;\">\n",
       "      <th></th>\n",
       "      <th>COUNTYFP</th>\n",
       "      <th>LOCALITY</th>\n",
       "      <th>VTDST</th>\n",
       "      <th>PRECINCT</th>\n",
       "      <th>CON_DIST</th>\n",
       "      <th>G16HORDEM</th>\n",
       "      <th>G16HORREP</th>\n",
       "      <th>G16HORIND</th>\n",
       "      <th>G16HORWRI</th>\n",
       "      <th>geometry</th>\n",
       "      <th>unique_id</th>\n",
       "      <th>unique_id_1</th>\n",
       "    </tr>\n",
       "  </thead>\n",
       "  <tbody>\n",
       "    <tr>\n",
       "      <th>2061</th>\n",
       "      <td>800</td>\n",
       "      <td>Suffolk City</td>\n",
       "      <td>000403</td>\n",
       "      <td>SOUTHSIDE</td>\n",
       "      <td>4</td>\n",
       "      <td>742</td>\n",
       "      <td>98</td>\n",
       "      <td>0</td>\n",
       "      <td>0</td>\n",
       "      <td>POLYGON Z ((-76.62006 36.71008 0.00000, -76.62...</td>\n",
       "      <td>800403</td>\n",
       "      <td>800403-4</td>\n",
       "    </tr>\n",
       "  </tbody>\n",
       "</table>\n",
       "</div>"
      ],
      "text/plain": [
       "     COUNTYFP      LOCALITY   VTDST   PRECINCT CON_DIST  G16HORDEM  G16HORREP  \\\n",
       "2061      800  Suffolk City  000403  SOUTHSIDE        4        742         98   \n",
       "\n",
       "      G16HORIND  G16HORWRI                                           geometry  \\\n",
       "2061          0          0  POLYGON Z ((-76.62006 36.71008 0.00000, -76.62...   \n",
       "\n",
       "     unique_id unique_id_1  \n",
       "2061    800403    800403-4  "
      ]
     },
     "execution_count": 73,
     "metadata": {},
     "output_type": "execute_result"
    }
   ],
   "source": [
    "final[(final['COUNTYFP'] == '800') &  (final['PRECINCT'].str.contains('SOUTH'))] "
   ]
  },
  {
   "cell_type": "markdown",
   "metadata": {},
   "source": [
    "- 800403-3 has zero votes and not present in final - cut"
   ]
  },
  {
   "cell_type": "code",
   "execution_count": 74,
   "metadata": {},
   "outputs": [
    {
     "data": {
      "text/html": [
       "<div>\n",
       "<style scoped>\n",
       "    .dataframe tbody tr th:only-of-type {\n",
       "        vertical-align: middle;\n",
       "    }\n",
       "\n",
       "    .dataframe tbody tr th {\n",
       "        vertical-align: top;\n",
       "    }\n",
       "\n",
       "    .dataframe thead th {\n",
       "        text-align: right;\n",
       "    }\n",
       "</style>\n",
       "<table border=\"1\" class=\"dataframe\">\n",
       "  <thead>\n",
       "    <tr style=\"text-align: right;\">\n",
       "      <th></th>\n",
       "      <th>index</th>\n",
       "      <th>Pct</th>\n",
       "      <th>G16HORREP</th>\n",
       "      <th>G16HORDEM</th>\n",
       "      <th>G16HORIND</th>\n",
       "      <th>G16HORWRI</th>\n",
       "      <th>CON_DIST</th>\n",
       "      <th>LOCALITY</th>\n",
       "      <th>COUNTYFP</th>\n",
       "      <th>countyfp_cd</th>\n",
       "      <th>...</th>\n",
       "      <th>G16HORDEM_floor</th>\n",
       "      <th>G16HORIND_add</th>\n",
       "      <th>G16HORIND_rem</th>\n",
       "      <th>G16HORIND_floor</th>\n",
       "      <th>G16HORWRI_add</th>\n",
       "      <th>G16HORWRI_rem</th>\n",
       "      <th>G16HORWRI_floor</th>\n",
       "      <th>vtdst</th>\n",
       "      <th>unique_id</th>\n",
       "      <th>unique_id_1</th>\n",
       "    </tr>\n",
       "  </thead>\n",
       "  <tbody>\n",
       "    <tr>\n",
       "      <th>485</th>\n",
       "      <td>29</td>\n",
       "      <td>45 - Sunray II</td>\n",
       "      <td>0.0</td>\n",
       "      <td>0.0</td>\n",
       "      <td>0.0</td>\n",
       "      <td>0.0</td>\n",
       "      <td>3</td>\n",
       "      <td>Chesapeake City</td>\n",
       "      <td>550</td>\n",
       "      <td>550-3</td>\n",
       "      <td>...</td>\n",
       "      <td>0.0</td>\n",
       "      <td>0.0</td>\n",
       "      <td>0.0</td>\n",
       "      <td>0.0</td>\n",
       "      <td>0.0</td>\n",
       "      <td>0.000000</td>\n",
       "      <td>0.0</td>\n",
       "      <td>045</td>\n",
       "      <td>550045</td>\n",
       "      <td>550045-3</td>\n",
       "    </tr>\n",
       "    <tr>\n",
       "      <th>703</th>\n",
       "      <td>24</td>\n",
       "      <td>45 - Sunray II</td>\n",
       "      <td>262.0</td>\n",
       "      <td>412.0</td>\n",
       "      <td>0.0</td>\n",
       "      <td>6.0</td>\n",
       "      <td>4</td>\n",
       "      <td>Chesapeake City</td>\n",
       "      <td>550</td>\n",
       "      <td>550-4</td>\n",
       "      <td>...</td>\n",
       "      <td>77.0</td>\n",
       "      <td>0.0</td>\n",
       "      <td>0.0</td>\n",
       "      <td>0.0</td>\n",
       "      <td>1.0</td>\n",
       "      <td>0.837438</td>\n",
       "      <td>0.0</td>\n",
       "      <td>045</td>\n",
       "      <td>550045</td>\n",
       "      <td>550045-4</td>\n",
       "    </tr>\n",
       "  </tbody>\n",
       "</table>\n",
       "<p>2 rows × 25 columns</p>\n",
       "</div>"
      ],
      "text/plain": [
       "     index             Pct  G16HORREP  G16HORDEM  G16HORIND  G16HORWRI  \\\n",
       "485     29  45 - Sunray II        0.0        0.0        0.0        0.0   \n",
       "703     24  45 - Sunray II      262.0      412.0        0.0        6.0   \n",
       "\n",
       "    CON_DIST         LOCALITY COUNTYFP countyfp_cd  ...  G16HORDEM_floor  \\\n",
       "485        3  Chesapeake City      550       550-3  ...              0.0   \n",
       "703        4  Chesapeake City      550       550-4  ...             77.0   \n",
       "\n",
       "     G16HORIND_add  G16HORIND_rem  G16HORIND_floor  G16HORWRI_add  \\\n",
       "485            0.0            0.0              0.0            0.0   \n",
       "703            0.0            0.0              0.0            1.0   \n",
       "\n",
       "     G16HORWRI_rem  G16HORWRI_floor  vtdst  unique_id  unique_id_1  \n",
       "485       0.000000              0.0    045     550045     550045-3  \n",
       "703       0.837438              0.0    045     550045     550045-4  \n",
       "\n",
       "[2 rows x 25 columns]"
      ]
     },
     "execution_count": 74,
     "metadata": {},
     "output_type": "execute_result"
    }
   ],
   "source": [
    "df_with_absentee_reallocated[df_with_absentee_reallocated['unique_id'] == '550045']"
   ]
  },
  {
   "cell_type": "code",
   "execution_count": 75,
   "metadata": {},
   "outputs": [
    {
     "data": {
      "text/html": [
       "<div>\n",
       "<style scoped>\n",
       "    .dataframe tbody tr th:only-of-type {\n",
       "        vertical-align: middle;\n",
       "    }\n",
       "\n",
       "    .dataframe tbody tr th {\n",
       "        vertical-align: top;\n",
       "    }\n",
       "\n",
       "    .dataframe thead th {\n",
       "        text-align: right;\n",
       "    }\n",
       "</style>\n",
       "<table border=\"1\" class=\"dataframe\">\n",
       "  <thead>\n",
       "    <tr style=\"text-align: right;\">\n",
       "      <th></th>\n",
       "      <th>COUNTYFP</th>\n",
       "      <th>LOCALITY</th>\n",
       "      <th>VTDST</th>\n",
       "      <th>PRECINCT</th>\n",
       "      <th>CON_DIST</th>\n",
       "      <th>G16HORDEM</th>\n",
       "      <th>G16HORREP</th>\n",
       "      <th>G16HORIND</th>\n",
       "      <th>G16HORWRI</th>\n",
       "      <th>geometry</th>\n",
       "      <th>unique_id</th>\n",
       "      <th>unique_id_1</th>\n",
       "    </tr>\n",
       "  </thead>\n",
       "  <tbody>\n",
       "    <tr>\n",
       "      <th>1696</th>\n",
       "      <td>550</td>\n",
       "      <td>Chesapeake City</td>\n",
       "      <td>000045</td>\n",
       "      <td>Sunray II</td>\n",
       "      <td>4</td>\n",
       "      <td>413</td>\n",
       "      <td>262</td>\n",
       "      <td>0</td>\n",
       "      <td>6</td>\n",
       "      <td>POLYGON Z ((-76.42973 36.76676 0.00000, -76.42...</td>\n",
       "      <td>550045</td>\n",
       "      <td>550045-4</td>\n",
       "    </tr>\n",
       "  </tbody>\n",
       "</table>\n",
       "</div>"
      ],
      "text/plain": [
       "     COUNTYFP         LOCALITY   VTDST   PRECINCT CON_DIST  G16HORDEM  \\\n",
       "1696      550  Chesapeake City  000045  Sunray II        4        413   \n",
       "\n",
       "      G16HORREP  G16HORIND  G16HORWRI  \\\n",
       "1696        262          0          6   \n",
       "\n",
       "                                               geometry unique_id unique_id_1  \n",
       "1696  POLYGON Z ((-76.42973 36.76676 0.00000, -76.42...    550045    550045-4  "
      ]
     },
     "execution_count": 75,
     "metadata": {},
     "output_type": "execute_result"
    }
   ],
   "source": [
    "final[final.unique_id == '550045']"
   ]
  },
  {
   "cell_type": "markdown",
   "metadata": {},
   "source": [
    "- 550045-3 has zero votes in df and not present in final - cut"
   ]
  },
  {
   "cell_type": "code",
   "execution_count": 76,
   "metadata": {},
   "outputs": [
    {
     "data": {
      "text/html": [
       "<div>\n",
       "<style scoped>\n",
       "    .dataframe tbody tr th:only-of-type {\n",
       "        vertical-align: middle;\n",
       "    }\n",
       "\n",
       "    .dataframe tbody tr th {\n",
       "        vertical-align: top;\n",
       "    }\n",
       "\n",
       "    .dataframe thead th {\n",
       "        text-align: right;\n",
       "    }\n",
       "</style>\n",
       "<table border=\"1\" class=\"dataframe\">\n",
       "  <thead>\n",
       "    <tr style=\"text-align: right;\">\n",
       "      <th></th>\n",
       "      <th>index</th>\n",
       "      <th>Pct</th>\n",
       "      <th>G16HORREP</th>\n",
       "      <th>G16HORDEM</th>\n",
       "      <th>G16HORIND</th>\n",
       "      <th>G16HORWRI</th>\n",
       "      <th>CON_DIST</th>\n",
       "      <th>LOCALITY</th>\n",
       "      <th>COUNTYFP</th>\n",
       "      <th>countyfp_cd</th>\n",
       "      <th>...</th>\n",
       "      <th>G16HORDEM_floor</th>\n",
       "      <th>G16HORIND_add</th>\n",
       "      <th>G16HORIND_rem</th>\n",
       "      <th>G16HORIND_floor</th>\n",
       "      <th>G16HORWRI_add</th>\n",
       "      <th>G16HORWRI_rem</th>\n",
       "      <th>G16HORWRI_floor</th>\n",
       "      <th>vtdst</th>\n",
       "      <th>unique_id</th>\n",
       "      <th>unique_id_1</th>\n",
       "    </tr>\n",
       "  </thead>\n",
       "  <tbody>\n",
       "    <tr>\n",
       "      <th>2441</th>\n",
       "      <td>53</td>\n",
       "      <td>925 - Old Mill</td>\n",
       "      <td>702.0</td>\n",
       "      <td>926.0</td>\n",
       "      <td>0.0</td>\n",
       "      <td>5.0</td>\n",
       "      <td>10</td>\n",
       "      <td>Fairfax County</td>\n",
       "      <td>059</td>\n",
       "      <td>059-10</td>\n",
       "      <td>...</td>\n",
       "      <td>264.0</td>\n",
       "      <td>0.0</td>\n",
       "      <td>0.0</td>\n",
       "      <td>0.0</td>\n",
       "      <td>1.0</td>\n",
       "      <td>0.33758</td>\n",
       "      <td>1.0</td>\n",
       "      <td>925</td>\n",
       "      <td>059925</td>\n",
       "      <td>059925-10</td>\n",
       "    </tr>\n",
       "    <tr>\n",
       "      <th>2719</th>\n",
       "      <td>113</td>\n",
       "      <td>925 - Old Mill</td>\n",
       "      <td>0.0</td>\n",
       "      <td>0.0</td>\n",
       "      <td>0.0</td>\n",
       "      <td>0.0</td>\n",
       "      <td>11</td>\n",
       "      <td>Fairfax County</td>\n",
       "      <td>059</td>\n",
       "      <td>059-11</td>\n",
       "      <td>...</td>\n",
       "      <td>0.0</td>\n",
       "      <td>0.0</td>\n",
       "      <td>0.0</td>\n",
       "      <td>0.0</td>\n",
       "      <td>0.0</td>\n",
       "      <td>0.00000</td>\n",
       "      <td>0.0</td>\n",
       "      <td>925</td>\n",
       "      <td>059925</td>\n",
       "      <td>059925-11</td>\n",
       "    </tr>\n",
       "  </tbody>\n",
       "</table>\n",
       "<p>2 rows × 25 columns</p>\n",
       "</div>"
      ],
      "text/plain": [
       "      index             Pct  G16HORREP  G16HORDEM  G16HORIND  G16HORWRI  \\\n",
       "2441     53  925 - Old Mill      702.0      926.0        0.0        5.0   \n",
       "2719    113  925 - Old Mill        0.0        0.0        0.0        0.0   \n",
       "\n",
       "     CON_DIST        LOCALITY COUNTYFP countyfp_cd  ...  G16HORDEM_floor  \\\n",
       "2441       10  Fairfax County      059      059-10  ...            264.0   \n",
       "2719       11  Fairfax County      059      059-11  ...              0.0   \n",
       "\n",
       "      G16HORIND_add  G16HORIND_rem  G16HORIND_floor  G16HORWRI_add  \\\n",
       "2441            0.0            0.0              0.0            1.0   \n",
       "2719            0.0            0.0              0.0            0.0   \n",
       "\n",
       "      G16HORWRI_rem  G16HORWRI_floor  vtdst  unique_id  unique_id_1  \n",
       "2441        0.33758              1.0    925     059925    059925-10  \n",
       "2719        0.00000              0.0    925     059925    059925-11  \n",
       "\n",
       "[2 rows x 25 columns]"
      ]
     },
     "execution_count": 76,
     "metadata": {},
     "output_type": "execute_result"
    }
   ],
   "source": [
    "df_with_absentee_reallocated[df_with_absentee_reallocated['unique_id'] == '059925']"
   ]
  },
  {
   "cell_type": "code",
   "execution_count": 77,
   "metadata": {},
   "outputs": [
    {
     "data": {
      "text/html": [
       "<div>\n",
       "<style scoped>\n",
       "    .dataframe tbody tr th:only-of-type {\n",
       "        vertical-align: middle;\n",
       "    }\n",
       "\n",
       "    .dataframe tbody tr th {\n",
       "        vertical-align: top;\n",
       "    }\n",
       "\n",
       "    .dataframe thead th {\n",
       "        text-align: right;\n",
       "    }\n",
       "</style>\n",
       "<table border=\"1\" class=\"dataframe\">\n",
       "  <thead>\n",
       "    <tr style=\"text-align: right;\">\n",
       "      <th></th>\n",
       "      <th>COUNTYFP</th>\n",
       "      <th>LOCALITY</th>\n",
       "      <th>VTDST</th>\n",
       "      <th>PRECINCT</th>\n",
       "      <th>CON_DIST</th>\n",
       "      <th>G16HORDEM</th>\n",
       "      <th>G16HORREP</th>\n",
       "      <th>G16HORIND</th>\n",
       "      <th>G16HORWRI</th>\n",
       "      <th>geometry</th>\n",
       "      <th>unique_id</th>\n",
       "      <th>unique_id_1</th>\n",
       "    </tr>\n",
       "  </thead>\n",
       "  <tbody>\n",
       "    <tr>\n",
       "      <th>638</th>\n",
       "      <td>059</td>\n",
       "      <td>Fairfax County</td>\n",
       "      <td>000925</td>\n",
       "      <td>Old Mill</td>\n",
       "      <td>10</td>\n",
       "      <td>926</td>\n",
       "      <td>703</td>\n",
       "      <td>0</td>\n",
       "      <td>5</td>\n",
       "      <td>POLYGON Z ((-77.47726 38.81506 0.00000, -77.47...</td>\n",
       "      <td>059925</td>\n",
       "      <td>059925-10</td>\n",
       "    </tr>\n",
       "  </tbody>\n",
       "</table>\n",
       "</div>"
      ],
      "text/plain": [
       "    COUNTYFP        LOCALITY   VTDST  PRECINCT CON_DIST  G16HORDEM  G16HORREP  \\\n",
       "638      059  Fairfax County  000925  Old Mill       10        926        703   \n",
       "\n",
       "     G16HORIND  G16HORWRI                                           geometry  \\\n",
       "638          0          5  POLYGON Z ((-77.47726 38.81506 0.00000, -77.47...   \n",
       "\n",
       "    unique_id unique_id_1  \n",
       "638    059925   059925-10  "
      ]
     },
     "execution_count": 77,
     "metadata": {},
     "output_type": "execute_result"
    }
   ],
   "source": [
    "final[final.unique_id == '059925']"
   ]
  },
  {
   "cell_type": "markdown",
   "metadata": {},
   "source": [
    "- 059925-11 has zero votes in df and not present in final - cut"
   ]
  },
  {
   "cell_type": "code",
   "execution_count": 78,
   "metadata": {},
   "outputs": [
    {
     "data": {
      "text/html": [
       "<div>\n",
       "<style scoped>\n",
       "    .dataframe tbody tr th:only-of-type {\n",
       "        vertical-align: middle;\n",
       "    }\n",
       "\n",
       "    .dataframe tbody tr th {\n",
       "        vertical-align: top;\n",
       "    }\n",
       "\n",
       "    .dataframe thead th {\n",
       "        text-align: right;\n",
       "    }\n",
       "</style>\n",
       "<table border=\"1\" class=\"dataframe\">\n",
       "  <thead>\n",
       "    <tr style=\"text-align: right;\">\n",
       "      <th></th>\n",
       "      <th>index</th>\n",
       "      <th>Pct</th>\n",
       "      <th>G16HORREP</th>\n",
       "      <th>G16HORDEM</th>\n",
       "      <th>G16HORIND</th>\n",
       "      <th>G16HORWRI</th>\n",
       "      <th>CON_DIST</th>\n",
       "      <th>LOCALITY</th>\n",
       "      <th>COUNTYFP</th>\n",
       "      <th>countyfp_cd</th>\n",
       "      <th>...</th>\n",
       "      <th>G16HORDEM_floor</th>\n",
       "      <th>G16HORIND_add</th>\n",
       "      <th>G16HORIND_rem</th>\n",
       "      <th>G16HORIND_floor</th>\n",
       "      <th>G16HORWRI_add</th>\n",
       "      <th>G16HORWRI_rem</th>\n",
       "      <th>G16HORWRI_floor</th>\n",
       "      <th>vtdst</th>\n",
       "      <th>unique_id</th>\n",
       "      <th>unique_id_1</th>\n",
       "    </tr>\n",
       "  </thead>\n",
       "  <tbody>\n",
       "    <tr>\n",
       "      <th>467</th>\n",
       "      <td>11</td>\n",
       "      <td>19 - Jolliff</td>\n",
       "      <td>0.0</td>\n",
       "      <td>0.0</td>\n",
       "      <td>0.0</td>\n",
       "      <td>0.0</td>\n",
       "      <td>3</td>\n",
       "      <td>Chesapeake City</td>\n",
       "      <td>550</td>\n",
       "      <td>550-3</td>\n",
       "      <td>...</td>\n",
       "      <td>0.0</td>\n",
       "      <td>0.0</td>\n",
       "      <td>0.0</td>\n",
       "      <td>0.0</td>\n",
       "      <td>0.0</td>\n",
       "      <td>0.000000</td>\n",
       "      <td>0.0</td>\n",
       "      <td>019</td>\n",
       "      <td>550019</td>\n",
       "      <td>550019-3</td>\n",
       "    </tr>\n",
       "    <tr>\n",
       "      <th>693</th>\n",
       "      <td>14</td>\n",
       "      <td>19 - Jolliff</td>\n",
       "      <td>973.0</td>\n",
       "      <td>393.0</td>\n",
       "      <td>0.0</td>\n",
       "      <td>9.0</td>\n",
       "      <td>4</td>\n",
       "      <td>Chesapeake City</td>\n",
       "      <td>550</td>\n",
       "      <td>550-4</td>\n",
       "      <td>...</td>\n",
       "      <td>73.0</td>\n",
       "      <td>0.0</td>\n",
       "      <td>0.0</td>\n",
       "      <td>0.0</td>\n",
       "      <td>1.0</td>\n",
       "      <td>0.339901</td>\n",
       "      <td>1.0</td>\n",
       "      <td>019</td>\n",
       "      <td>550019</td>\n",
       "      <td>550019-4</td>\n",
       "    </tr>\n",
       "  </tbody>\n",
       "</table>\n",
       "<p>2 rows × 25 columns</p>\n",
       "</div>"
      ],
      "text/plain": [
       "     index           Pct  G16HORREP  G16HORDEM  G16HORIND  G16HORWRI CON_DIST  \\\n",
       "467     11  19 - Jolliff        0.0        0.0        0.0        0.0        3   \n",
       "693     14  19 - Jolliff      973.0      393.0        0.0        9.0        4   \n",
       "\n",
       "            LOCALITY COUNTYFP countyfp_cd  ...  G16HORDEM_floor  \\\n",
       "467  Chesapeake City      550       550-3  ...              0.0   \n",
       "693  Chesapeake City      550       550-4  ...             73.0   \n",
       "\n",
       "     G16HORIND_add  G16HORIND_rem  G16HORIND_floor  G16HORWRI_add  \\\n",
       "467            0.0            0.0              0.0            0.0   \n",
       "693            0.0            0.0              0.0            1.0   \n",
       "\n",
       "     G16HORWRI_rem  G16HORWRI_floor  vtdst  unique_id  unique_id_1  \n",
       "467       0.000000              0.0    019     550019     550019-3  \n",
       "693       0.339901              1.0    019     550019     550019-4  \n",
       "\n",
       "[2 rows x 25 columns]"
      ]
     },
     "execution_count": 78,
     "metadata": {},
     "output_type": "execute_result"
    }
   ],
   "source": [
    "df_with_absentee_reallocated[df_with_absentee_reallocated['unique_id'] == '550019']"
   ]
  },
  {
   "cell_type": "code",
   "execution_count": 79,
   "metadata": {},
   "outputs": [
    {
     "data": {
      "text/html": [
       "<div>\n",
       "<style scoped>\n",
       "    .dataframe tbody tr th:only-of-type {\n",
       "        vertical-align: middle;\n",
       "    }\n",
       "\n",
       "    .dataframe tbody tr th {\n",
       "        vertical-align: top;\n",
       "    }\n",
       "\n",
       "    .dataframe thead th {\n",
       "        text-align: right;\n",
       "    }\n",
       "</style>\n",
       "<table border=\"1\" class=\"dataframe\">\n",
       "  <thead>\n",
       "    <tr style=\"text-align: right;\">\n",
       "      <th></th>\n",
       "      <th>COUNTYFP</th>\n",
       "      <th>LOCALITY</th>\n",
       "      <th>VTDST</th>\n",
       "      <th>PRECINCT</th>\n",
       "      <th>CON_DIST</th>\n",
       "      <th>G16HORDEM</th>\n",
       "      <th>G16HORREP</th>\n",
       "      <th>G16HORIND</th>\n",
       "      <th>G16HORWRI</th>\n",
       "      <th>geometry</th>\n",
       "      <th>unique_id</th>\n",
       "      <th>unique_id_1</th>\n",
       "    </tr>\n",
       "  </thead>\n",
       "  <tbody>\n",
       "    <tr>\n",
       "      <th>1688</th>\n",
       "      <td>550</td>\n",
       "      <td>Chesapeake City</td>\n",
       "      <td>000019</td>\n",
       "      <td>Jolliff</td>\n",
       "      <td>4</td>\n",
       "      <td>393</td>\n",
       "      <td>973</td>\n",
       "      <td>0</td>\n",
       "      <td>9</td>\n",
       "      <td>POLYGON Z ((-76.46335 36.77079 0.00000, -76.46...</td>\n",
       "      <td>550019</td>\n",
       "      <td>550019-4</td>\n",
       "    </tr>\n",
       "  </tbody>\n",
       "</table>\n",
       "</div>"
      ],
      "text/plain": [
       "     COUNTYFP         LOCALITY   VTDST PRECINCT CON_DIST  G16HORDEM  \\\n",
       "1688      550  Chesapeake City  000019  Jolliff        4        393   \n",
       "\n",
       "      G16HORREP  G16HORIND  G16HORWRI  \\\n",
       "1688        973          0          9   \n",
       "\n",
       "                                               geometry unique_id unique_id_1  \n",
       "1688  POLYGON Z ((-76.46335 36.77079 0.00000, -76.46...    550019    550019-4  "
      ]
     },
     "execution_count": 79,
     "metadata": {},
     "output_type": "execute_result"
    }
   ],
   "source": [
    "final[final['unique_id'] == '550019']"
   ]
  },
  {
   "cell_type": "markdown",
   "metadata": {},
   "source": [
    "- 550019-3 has zero votes in df and not present in final - cut"
   ]
  },
  {
   "cell_type": "markdown",
   "metadata": {},
   "source": [
    "#### cut out df values not present in final"
   ]
  },
  {
   "cell_type": "code",
   "execution_count": 80,
   "metadata": {},
   "outputs": [],
   "source": [
    "df_cut_unique_id_1_list = ['800403-3', '550045-3', '059925-11', '550019-3']\n",
    "df_with_absentee_reallocated = df_with_absentee_reallocated[~df_with_absentee_reallocated['unique_id_1'].isin(df_cut_unique_id_1_list)]"
   ]
  },
  {
   "cell_type": "code",
   "execution_count": 81,
   "metadata": {},
   "outputs": [
    {
     "data": {
      "text/plain": [
       "(2457, 25)"
      ]
     },
     "execution_count": 81,
     "metadata": {},
     "output_type": "execute_result"
    }
   ],
   "source": [
    "df_with_absentee_reallocated.shape"
   ]
  },
  {
   "cell_type": "code",
   "execution_count": 82,
   "metadata": {},
   "outputs": [
    {
     "name": "stdout",
     "output_type": "stream",
     "text": [
      "Double in df, not in final:  set()\n",
      "Double in final, not in df:  set()\n",
      "Index(['153110', '177402', '059513', '710104', '177704', '089304', '800504',\n",
      "       '177103', '177702', '153210', '095504', '550020', '153112', '153312',\n",
      "       '800404', '800302', '710101', '177703', '650215', '800602', '089505',\n",
      "       '153609', '095202'],\n",
      "      dtype='object')\n"
     ]
    }
   ],
   "source": [
    "df_id_count = df_with_absentee_reallocated['unique_id'].value_counts()\n",
    "df_double_list = df_id_count[df_id_count > 1].index\n",
    "final_id_count = final.unique_id.value_counts()\n",
    "final_double_list = final_id_count[final_id_count > 1].index\n",
    "print('Double in df, not in final: ', set(df_double_list) - set(final_double_list))\n",
    "print('Double in final, not in df: ',set(final_double_list) - set(df_double_list))\n",
    "print(df_double_list)"
   ]
  },
  {
   "cell_type": "markdown",
   "metadata": {},
   "source": [
    "See that after running that double lists match up"
   ]
  },
  {
   "cell_type": "code",
   "execution_count": 83,
   "metadata": {},
   "outputs": [],
   "source": [
    "# make new column unique_id_2 with unique id everywhere except where double values, items replaced with unique_id_1 values\n",
    "df_with_absentee_reallocated['unique_id_2'] = df_with_absentee_reallocated['unique_id']\n",
    "df_with_absentee_reallocated.loc[df_with_absentee_reallocated['unique_id'].isin(final_double_list), 'unique_id_2'] = df_with_absentee_reallocated.loc[df_with_absentee_reallocated['unique_id'].isin(final_double_list), 'unique_id_1']\n",
    "final['unique_id_2'] = final['unique_id']\n",
    "final.loc[final['unique_id'].isin(final_double_list), 'unique_id_2'] = final.loc[final['unique_id'].isin(final_double_list), 'unique_id_1']"
   ]
  },
  {
   "cell_type": "markdown",
   "metadata": {},
   "source": [
    "### Apply double to overlay_w_shp as well"
   ]
  },
  {
   "cell_type": "code",
   "execution_count": 84,
   "metadata": {},
   "outputs": [],
   "source": [
    "overlay_w_shp['unique_id_2'] = overlay_w_shp['unique_id']\n",
    "overlay_w_shp.loc[overlay_w_shp['unique_id'].isin(df_double_list), 'unique_id_2'] = overlay_w_shp.loc[overlay_w_shp['unique_id'].isin(df_double_list), 'unique_id_1']"
   ]
  },
  {
   "cell_type": "code",
   "execution_count": 85,
   "metadata": {},
   "outputs": [
    {
     "data": {
      "text/plain": [
       "52"
      ]
     },
     "execution_count": 85,
     "metadata": {},
     "output_type": "execute_result"
    }
   ],
   "source": [
    "len(set(overlay_w_shp.unique_id_2) - set(final.unique_id_2))"
   ]
  },
  {
   "cell_type": "code",
   "execution_count": 86,
   "metadata": {},
   "outputs": [
    {
     "data": {
      "text/plain": [
       "54"
      ]
     },
     "execution_count": 86,
     "metadata": {},
     "output_type": "execute_result"
    }
   ],
   "source": [
    "len(set(df_with_absentee_reallocated.unique_id_2) -  set(overlay_w_shp.unique_id_2) )"
   ]
  },
  {
   "cell_type": "code",
   "execution_count": 87,
   "metadata": {},
   "outputs": [
    {
     "name": "stdout",
     "output_type": "stream",
     "text": [
      "50\n",
      "24\n"
     ]
    }
   ],
   "source": [
    "#Recall... so we see that adding more unique ids has not worsened the situation...\n",
    "print(len(set(overlay_w_shp.unique_id) - set(final.unique_id)))\n",
    "print(len(set(df_with_absentee_reallocated.unique_id) -  set(overlay_w_shp.unique_id)))"
   ]
  },
  {
   "cell_type": "markdown",
   "metadata": {},
   "source": [
    "## Begin hand matching work comparing in Excel, then plotting here"
   ]
  },
  {
   "cell_type": "code",
   "execution_count": 88,
   "metadata": {},
   "outputs": [
    {
     "data": {
      "text/plain": [
       "(2469, 60)"
      ]
     },
     "execution_count": 88,
     "metadata": {},
     "output_type": "execute_result"
    }
   ],
   "source": [
    "overlay_w_shp.shape"
   ]
  },
  {
   "cell_type": "code",
   "execution_count": 89,
   "metadata": {},
   "outputs": [
    {
     "data": {
      "text/plain": [
       "<matplotlib.axes._subplots.AxesSubplot at 0x7f9c54ef02b0>"
      ]
     },
     "execution_count": 89,
     "metadata": {},
     "output_type": "execute_result"
    },
    {
     "data": {
      "image/png": "[encoded data removed]",
      "text/plain": [
       "<Figure size 432x288 with 1 Axes>"
      ]
     },
     "metadata": {
      "needs_background": "light"
     },
     "output_type": "display_data"
    }
   ],
   "source": [
    "overlay_w_shp['geometry'].plot()"
   ]
  },
  {
   "cell_type": "code",
   "execution_count": 90,
   "metadata": {},
   "outputs": [
    {
     "data": {
      "text/plain": [
       "<matplotlib.axes._subplots.AxesSubplot at 0x7f9c642c7b80>"
      ]
     },
     "execution_count": 90,
     "metadata": {},
     "output_type": "execute_result"
    },
    {
     "data": {
      "image/png": "[encoded data removed]",
      "text/plain": [
       "<Figure size 432x288 with 1 Axes>"
      ]
     },
     "metadata": {
      "needs_background": "light"
     },
     "output_type": "display_data"
    },
    {
     "data": {
      "image/png": "[encoded data removed]",
      "text/plain": [
       "<Figure size 432x288 with 1 Axes>"
      ]
     },
     "metadata": {
      "needs_background": "light"
     },
     "output_type": "display_data"
    }
   ],
   "source": [
    "overlay_w_shp['geometry'][(overlay_w_shp['unique_id_2'] == '550065')].plot() #looks like it could be bottom sliver of final id\n",
    "final[final['unique_id_2'] == '550040'].plot()"
   ]
  },
  {
   "cell_type": "code",
   "execution_count": 91,
   "metadata": {},
   "outputs": [
    {
     "data": {
      "text/plain": [
       "<matplotlib.axes._subplots.AxesSubplot at 0x7f9c41897ee0>"
      ]
     },
     "execution_count": 91,
     "metadata": {},
     "output_type": "execute_result"
    },
    {
     "data": {
      "image/png": "[encoded data removed]",
      "text/plain": [
       "<Figure size 432x288 with 1 Axes>"
      ]
     },
     "metadata": {
      "needs_background": "light"
     },
     "output_type": "display_data"
    },
    {
     "data": {
      "image/png": "[encoded data removed]",
      "text/plain": [
       "<Figure size 432x288 with 1 Axes>"
      ]
     },
     "metadata": {
      "needs_background": "light"
     },
     "output_type": "display_data"
    }
   ],
   "source": [
    "#Example of comparing individual precinct id to test for match\n",
    "shp[(shp['unique_id'] == '059630')].plot()\n",
    "final[(final['unique_id_2'] == '059625')].plot()"
   ]
  },
  {
   "cell_type": "code",
   "execution_count": 92,
   "metadata": {},
   "outputs": [
    {
     "data": {
      "text/plain": [
       "<matplotlib.axes._subplots.AxesSubplot at 0x7f9c6454fe20>"
      ]
     },
     "execution_count": 92,
     "metadata": {},
     "output_type": "execute_result"
    },
    {
     "data": {
      "image/png": "[encoded data removed]",
      "text/plain": [
       "<Figure size 432x288 with 1 Axes>"
      ]
     },
     "metadata": {
      "needs_background": "light"
     },
     "output_type": "display_data"
    },
    {
     "data": {
      "image/png": "[encoded data removed]",
      "text/plain": [
       "<Figure size 432x288 with 1 Axes>"
      ]
     },
     "metadata": {
      "needs_background": "light"
     },
     "output_type": "display_data"
    }
   ],
   "source": [
    "overlay_w_shp[overlay_w_shp.unique_id_1 == '710511-3'].plot() #looks like it could be bottom sliver of final id\n",
    "final[final['unique_id_1'] == '710511-2'].plot()"
   ]
  },
  {
   "cell_type": "markdown",
   "metadata": {},
   "source": [
    "### Based on hand matching, find that the following modifications should be made"
   ]
  },
  {
   "cell_type": "code",
   "execution_count": 93,
   "metadata": {},
   "outputs": [],
   "source": [
    "overlay_w_shp_to_df_dict = {\n",
    "    '077011': '077401',\n",
    "    '077012': '077401',\n",
    "    '095041': '095104',\n",
    "  #  '095042-2': '095104',\n",
    "    '107422': '107419',\n",
    "    '153061': '153106',\n",
    "    '191021': '191702',\n",
    "    '191022': '191702',\n",
    "    '520041':  '520004',\n",
    "    '520042':  '520004',\n",
    "    '685031': '685003',\n",
    "    '685032': '685003',\n",
    "}"
   ]
  },
  {
   "cell_type": "code",
   "execution_count": 94,
   "metadata": {},
   "outputs": [
    {
     "data": {
      "text/plain": [
       "11"
      ]
     },
     "execution_count": 94,
     "metadata": {},
     "output_type": "execute_result"
    }
   ],
   "source": [
    "len(overlay_w_shp_to_df_dict)"
   ]
  },
  {
   "cell_type": "markdown",
   "metadata": {},
   "source": [
    "Map values using hand-made dict above."
   ]
  },
  {
   "cell_type": "code",
   "execution_count": 95,
   "metadata": {},
   "outputs": [],
   "source": [
    "overlay_w_shp.loc[overlay_w_shp['unique_id_2'].isin(overlay_w_shp_to_df_dict.keys()), 'unique_id_2'] = overlay_w_shp.loc[overlay_w_shp['unique_id_2'].isin(overlay_w_shp_to_df_dict.keys()), 'unique_id_2'].map(overlay_w_shp_to_df_dict)"
   ]
  },
  {
   "cell_type": "code",
   "execution_count": 96,
   "metadata": {},
   "outputs": [
    {
     "data": {
      "text/html": [
       "<div>\n",
       "<style scoped>\n",
       "    .dataframe tbody tr th:only-of-type {\n",
       "        vertical-align: middle;\n",
       "    }\n",
       "\n",
       "    .dataframe tbody tr th {\n",
       "        vertical-align: top;\n",
       "    }\n",
       "\n",
       "    .dataframe thead th {\n",
       "        text-align: right;\n",
       "    }\n",
       "</style>\n",
       "<table border=\"1\" class=\"dataframe\">\n",
       "  <thead>\n",
       "    <tr style=\"text-align: right;\">\n",
       "      <th></th>\n",
       "      <th>STATEFP_1</th>\n",
       "      <th>COUNTYFP_1</th>\n",
       "      <th>CDFP</th>\n",
       "      <th>CDTYP</th>\n",
       "      <th>NAMELSAD_1</th>\n",
       "      <th>LSAD_1</th>\n",
       "      <th>PARTFLG</th>\n",
       "      <th>CHNG_TYPE_1</th>\n",
       "      <th>EFF_DATE</th>\n",
       "      <th>NEW_CODE</th>\n",
       "      <th>...</th>\n",
       "      <th>ORIG_CODE_y</th>\n",
       "      <th>RELATE</th>\n",
       "      <th>NAME</th>\n",
       "      <th>VINTAGE</th>\n",
       "      <th>FUNCSTAT</th>\n",
       "      <th>JUSTIFY</th>\n",
       "      <th>MTFCC_y</th>\n",
       "      <th>geometry</th>\n",
       "      <th>unique_id_1</th>\n",
       "      <th>unique_id_2</th>\n",
       "    </tr>\n",
       "  </thead>\n",
       "  <tbody>\n",
       "  </tbody>\n",
       "</table>\n",
       "<p>0 rows × 60 columns</p>\n",
       "</div>"
      ],
      "text/plain": [
       "Empty GeoDataFrame\n",
       "Columns: [STATEFP_1, COUNTYFP_1, CDFP, CDTYP, NAMELSAD_1, LSAD_1, PARTFLG, CHNG_TYPE_1, EFF_DATE, NEW_CODE, RELTYPE1, RELTYPE2, RELTYPE3, RELTYPE4, RELTYPE5, REL_ENT1, REL_ENT2, REL_ENT3, REL_ENT4, REL_ENT5, RELATE_1, JUSTIFY_1, CDSESSN, NAME_1, VINTAGE_1, FUNCSTAT_1, STATEFP_2, COUNTYFP_2, VTDST_x, NAMELSAD_2, VTDI_x, LSAD_2, CHNG_TYPE_2, ORIG_NAME_x, ORIG_CODE_x, RELATE_2, NAME_2, VINTAGE_2, FUNCSTAT_2, JUSTIFY_2, MTFCC_x, unique_id, STATEFP, COUNTYFP, VTDST_y, NAMELSAD, VTDI_y, LSAD, CHNG_TYPE, ORIG_NAME_y, ORIG_CODE_y, RELATE, NAME, VINTAGE, FUNCSTAT, JUSTIFY, MTFCC_y, geometry, unique_id_1, unique_id_2]\n",
       "Index: []\n",
       "\n",
       "[0 rows x 60 columns]"
      ]
     },
     "execution_count": 96,
     "metadata": {},
     "output_type": "execute_result"
    }
   ],
   "source": [
    "overlay_w_shp[overlay_w_shp['unique_id_2'].isin(overlay_w_shp_to_df_dict.keys())]"
   ]
  },
  {
   "cell_type": "code",
   "execution_count": 97,
   "metadata": {},
   "outputs": [
    {
     "data": {
      "text/plain": [
       "41"
      ]
     },
     "execution_count": 97,
     "metadata": {},
     "output_type": "execute_result"
    }
   ],
   "source": [
    "len(set(overlay_w_shp.unique_id_2) - set(final.unique_id_2))"
   ]
  },
  {
   "cell_type": "code",
   "execution_count": 98,
   "metadata": {},
   "outputs": [
    {
     "data": {
      "text/plain": [
       "47"
      ]
     },
     "execution_count": 98,
     "metadata": {},
     "output_type": "execute_result"
    }
   ],
   "source": [
    "len(set(final.unique_id_2) - set(overlay_w_shp.unique_id_2))"
   ]
  },
  {
   "cell_type": "code",
   "execution_count": 99,
   "metadata": {},
   "outputs": [
    {
     "data": {
      "text/plain": [
       "<matplotlib.axes._subplots.AxesSubplot at 0x7f9c41a00a30>"
      ]
     },
     "execution_count": 99,
     "metadata": {},
     "output_type": "execute_result"
    },
    {
     "data": {
      "image/png": "[encoded data removed]",
      "text/plain": [
       "<Figure size 432x288 with 1 Axes>"
      ]
     },
     "metadata": {
      "needs_background": "light"
     },
     "output_type": "display_data"
    },
    {
     "data": {
      "image/png": "[encoded data removed]",
      "text/plain": [
       "<Figure size 432x288 with 1 Axes>"
      ]
     },
     "metadata": {
      "needs_background": "light"
     },
     "output_type": "display_data"
    }
   ],
   "source": [
    "overlay_w_shp['geometry'][overlay_w_shp['unique_id_2'].isin(overlay_w_shp_to_df_dict.values())].plot()\n",
    "final[final['unique_id_2'].isin(overlay_w_shp_to_df_dict.values())].plot()"
   ]
  },
  {
   "cell_type": "markdown",
   "metadata": {},
   "source": [
    "Below we see the set of precincts in `VEST's final file` that do not appear in the `shapefile from the Census`, and plotted below is those in the `Census shapefile` not in `VEST's final file`. Overall, can see visually that they do not overlap well, and so it makes sense that they do not have a clear match. "
   ]
  },
  {
   "cell_type": "code",
   "execution_count": 100,
   "metadata": {},
   "outputs": [
    {
     "data": {
      "text/plain": [
       "<matplotlib.axes._subplots.AxesSubplot at 0x7f9c10fcd880>"
      ]
     },
     "execution_count": 100,
     "metadata": {},
     "output_type": "execute_result"
    },
    {
     "data": {
      "image/png": "[encoded data removed]",
      "text/plain": [
       "<Figure size 432x288 with 1 Axes>"
      ]
     },
     "metadata": {
      "needs_background": "light"
     },
     "output_type": "display_data"
    },
    {
     "data": {
      "image/png": "[encoded data removed]",
      "text/plain": [
       "<Figure size 432x288 with 1 Axes>"
      ]
     },
     "metadata": {
      "needs_background": "light"
     },
     "output_type": "display_data"
    }
   ],
   "source": [
    "final[final['unique_id_2'].isin(set(final['unique_id_2']) - set(overlay_w_shp['unique_id_2']))].plot()\n",
    "overlay_w_shp['geometry'][overlay_w_shp['unique_id_2'].isin(set(overlay_w_shp['unique_id_2']) - set(final['unique_id_2']))].plot()"
   ]
  },
  {
   "cell_type": "markdown",
   "metadata": {},
   "source": [
    "## Join election results and shapefile"
   ]
  },
  {
   "cell_type": "code",
   "execution_count": 101,
   "metadata": {},
   "outputs": [
    {
     "data": {
      "text/plain": [
       "<matplotlib.axes._subplots.AxesSubplot at 0x7f9c647902b0>"
      ]
     },
     "execution_count": 101,
     "metadata": {},
     "output_type": "execute_result"
    },
    {
     "data": {
      "image/png": "[encoded data removed]",
      "text/plain": [
       "<Figure size 432x288 with 1 Axes>"
      ]
     },
     "metadata": {
      "needs_background": "light"
     },
     "output_type": "display_data"
    },
    {
     "data": {
      "image/png": "[encoded data removed]",
      "text/plain": [
       "<Figure size 432x288 with 1 Axes>"
      ]
     },
     "metadata": {
      "needs_background": "light"
     },
     "output_type": "display_data"
    }
   ],
   "source": [
    "join = gpd.GeoDataFrame(pd.merge(df_with_absentee_reallocated, overlay_w_shp, on = 'unique_id_2', how = 'outer'), crs = proj)\n",
    "join.plot()\n",
    "final.plot()"
   ]
  },
  {
   "cell_type": "code",
   "execution_count": 102,
   "metadata": {},
   "outputs": [
    {
     "data": {
      "text/plain": [
       "(2516, 85)"
      ]
     },
     "execution_count": 102,
     "metadata": {},
     "output_type": "execute_result"
    }
   ],
   "source": [
    "join.shape"
   ]
  },
  {
   "cell_type": "markdown",
   "metadata": {},
   "source": [
    "# Validation"
   ]
  },
  {
   "cell_type": "markdown",
   "metadata": {},
   "source": [
    "## Shapefile validation"
   ]
  },
  {
   "cell_type": "code",
   "execution_count": 103,
   "metadata": {},
   "outputs": [
    {
     "name": "stderr",
     "output_type": "stream",
     "text": [
      "/Users/lilyfalk/anaconda3/lib/python3.8/site-packages/geopandas/base.py:39: UserWarning: The indices of the two GeoSeries are different.\n",
      "  warn(\"The indices of the two GeoSeries are different.\")\n"
     ]
    },
    {
     "data": {
      "text/plain": [
       "0       False\n",
       "0       False\n",
       "0       False\n",
       "0       False\n",
       "0       False\n",
       "        ...  \n",
       "2453    False\n",
       "2454    False\n",
       "2455    False\n",
       "2456    False\n",
       "2457    False\n",
       "Length: 4676, dtype: bool"
      ]
     },
     "execution_count": 103,
     "metadata": {},
     "output_type": "execute_result"
    }
   ],
   "source": [
    "shp_final_merge = pd.merge(join, final, on = 'unique_id_2', how = 'outer', suffixes = ['_x', '_y'],indicator=True)\n",
    "shp['geometry'].geom_almost_equals(final['geometry'], decimal = 0)"
   ]
  },
  {
   "cell_type": "code",
   "execution_count": 104,
   "metadata": {},
   "outputs": [
    {
     "name": "stdout",
     "output_type": "stream",
     "text": [
      "True     1777\n",
      "False     689\n",
      "dtype: int64\n"
     ]
    }
   ],
   "source": [
    "both = shp_final_merge[shp_final_merge[\"_merge\"]==\"both\"]\n",
    "source_geoms = gpd.GeoDataFrame(both,geometry=\"geometry_x\",crs=final.crs)\n",
    "vest_geoms = gpd.GeoDataFrame(both,geometry=\"geometry_y\",crs=final.crs)\n",
    "source_geoms = source_geoms.to_crs(final.crs)\n",
    "vest_geoms = vest_geoms.to_crs(final.crs)\n",
    "source_geoms[\"geometry_x\"]=source_geoms.buffer(0)\n",
    "vest_geoms[\"geometry_y\"]=vest_geoms.buffer(0)\n",
    "vals = source_geoms.geom_almost_equals(vest_geoms,decimal=0)\n",
    "print(vals.value_counts())"
   ]
  },
  {
   "cell_type": "code",
   "execution_count": 105,
   "metadata": {},
   "outputs": [
    {
     "name": "stderr",
     "output_type": "stream",
     "text": [
      "<ipython-input-105-787353f6cb91>:7: UserWarning: Geometry is in a geographic CRS. Results from 'area' are likely incorrect. Use 'GeoSeries.to_crs()' to re-project geometries to a projected CRS before this operation.\n",
      "\n",
      "  area = float(diff.area/10e6)\n"
     ]
    }
   ],
   "source": [
    "count = 0\n",
    "area_list = []\n",
    "big_diff = pd.DataFrame(columns=[\"area\"])\n",
    "for i in range(0,len(source_geoms)):\n",
    "    diff = source_geoms.iloc[[i]].symmetric_difference(vest_geoms.iloc[[i]])\n",
    "    intersection = source_geoms.iloc[[i]].intersection(vest_geoms.iloc[[i]])\n",
    "    area = float(diff.area/10e6)\n",
    "    area_list.append(area)\n",
    "    #print(\"Area is \" + str(area))\n",
    "\n",
    "    if (area > 1):\n",
    "        count += 1\n",
    "        name = source_geoms.at[i,\"Pct\"]\n",
    "        big_diff.loc[name]=area\n",
    "        print(str(count)+\") For \" + name + \" difference in area is \" + str(area))\n",
    "        if (intersection.iloc[0].is_empty):\n",
    "            base = diff.plot(color=\"red\")\n",
    "            source_geoms.iloc[[i]].plot(color=\"orange\",ax=base)\n",
    "            vest_geoms.iloc[[i]].plot(color=\"blue\",ax=base)\n",
    "            base.set_title(name)\n",
    "        else:\n",
    "            base = diff.plot(color=\"red\")\n",
    "            source_geoms.iloc[[i]].plot(color=\"orange\",ax=base)\n",
    "            vest_geoms.iloc[[i]].plot(color=\"blue\",ax=base)\n",
    "            intersection.plot(color=\"green\",ax=base)\n",
    "            base.set_title(name)"
   ]
  },
  {
   "cell_type": "code",
   "execution_count": 106,
   "metadata": {},
   "outputs": [
    {
     "name": "stdout",
     "output_type": "stream",
     "text": [
      "(2466, 1)\n",
      "1740 precincts w/ a difference of 0 km^2\n",
      "679 precincts w/ a difference between 0 and .1 km^2\n",
      "0 precincts w/ a difference between .1 and .5 km^2\n",
      "0 precincts w/ a difference between .5 and 1 km^2\n",
      "0 precincts w/ a difference between 1 and 2 km^2\n",
      "0 precincts w/ a difference between 2 and 5 km^2\n",
      "0 precincts w/ a difference greater than 5 km^2\n"
     ]
    }
   ],
   "source": [
    "df = pd.DataFrame(area_list)\n",
    "print(df.shape)\n",
    "\n",
    "print(str(len(df[df[0]==0]))+\" precincts w/ a difference of 0 km^2\")\n",
    "print(str(len(df[(df[0]<.1) & (df[0]>0)]))+ \" precincts w/ a difference between 0 and .1 km^2\")\n",
    "print(str(len(df[(df[0]<.5) & (df[0]>=.1)]))+ \" precincts w/ a difference between .1 and .5 km^2\")\n",
    "print(str(len(df[(df[0]<1) & (df[0]>=.5)]))+ \" precincts w/ a difference between .5 and 1 km^2\")\n",
    "print(str(len(df[(df[0]<2) & (df[0]>=1)]))+ \" precincts w/ a difference between 1 and 2 km^2\")\n",
    "print(str(len(df[(df[0]<5) & (df[0]>=2)]))+ \" precincts w/ a difference between 2 and 5 km^2\")\n",
    "print(str(len(df[(df[0]>=5)]))+ \" precincts w/ a difference greater than 5 km^2\")"
   ]
  },
  {
   "cell_type": "markdown",
   "metadata": {},
   "source": [
    "## Precint level election result check"
   ]
  },
  {
   "cell_type": "code",
   "execution_count": 107,
   "metadata": {},
   "outputs": [],
   "source": [
    "final_df_merge = pd.merge(join, final, how = 'outer', on = 'unique_id_2')"
   ]
  },
  {
   "cell_type": "code",
   "execution_count": 108,
   "metadata": {},
   "outputs": [],
   "source": [
    "col_list = ['G16HORREP', 'G16HORDEM', 'G16HORIND', 'G16HORWRI']"
   ]
  },
  {
   "cell_type": "code",
   "execution_count": 109,
   "metadata": {},
   "outputs": [],
   "source": [
    "def validater_row (df, column_List):\n",
    "    matching_rows = 0\n",
    "    different_rows = 0\n",
    "    diff_list=[]\n",
    "    diff_values = []\n",
    "    max_diff = 0\n",
    "    for j in range(0,len(df.index)):\n",
    "        same = True\n",
    "        for i in column_List:\n",
    "            left_Data = i + \"_x\"\n",
    "            right_Data = i + \"_y\"\n",
    "            diff = abs(df.iloc[j][left_Data]-df.iloc[j][right_Data])\n",
    "            if(diff >0):\n",
    "                if(diff>0):\n",
    "                    print(i, \"{:.>72}\".format(df.iloc[j][\"Pct\"]), \"(V)\",\"{:.>5}\".format(int(df.iloc[j][right_Data])),\" (S){:.>5}\".format(int(df.iloc[j][left_Data])),\"(D):{:>5}\".format(int(df.iloc[j][right_Data])-int(df.iloc[j][left_Data])))           \n",
    "                #print(df.iloc[j]['countypct'])\n",
    "                \n",
    "                diff_values.append(abs(diff))\n",
    "                same = False\n",
    "                if(np.isnan(diff)):\n",
    "                    print(\"NaN value at diff is: \", df.iloc[j][\"Pct\"])\n",
    "                    print(df.iloc[j][left_Data])\n",
    "                    print(df.iloc[j][right_Data])\n",
    "                if (diff>max_diff):\n",
    "                    max_diff = diff\n",
    "                    #print(\"New max diff is: \", str(max_diff))\n",
    "                    #print(df.iloc[j]['cty_pct'])\n",
    "        if(same != True):\n",
    "            different_rows +=1\n",
    "            diff_list.append(df.iloc[j][\"Pct\"])\n",
    "        else:\n",
    "            matching_rows +=1\n",
    "    print(\"\")\n",
    "    print(\"There are \", len(df.index),\" total rows\")\n",
    "    print(different_rows,\" of these rows have election result differences\")\n",
    "    print(matching_rows,\" of these rows are the same\")\n",
    "    print(\"\")\n",
    "    print(\"The max difference between any one shared column in a row is: \", max_diff)\n",
    "    if(len(diff_values)!=0):\n",
    "        print(\"The average difference is: \", str(sum(diff_values)/len(diff_values)))\n",
    "    count_big_diff = len([i for i in diff_values if i > 10])\n",
    "    print(\"There are \", str(count_big_diff), \"precinct results with a difference greater than 10\")\n",
    "    diff_list.sort()\n",
    "    print(diff_list)"
   ]
  },
  {
   "cell_type": "code",
   "execution_count": 110,
   "metadata": {},
   "outputs": [
    {
     "name": "stdout",
     "output_type": "stream",
     "text": [
      "G16HORREP .....................................................101 - Bowling Green (V) ..814  (S)..813 (D):    1\n",
      "G16HORREP ............................................................102 - Sparta (V) ..611  (S)..612 (D):   -1\n",
      "G16HORDEM .....................................................201 - North Madison (V) ..497  (S)..496 (D):    1\n",
      "G16HORREP .....................................................202 - South Madison (V) ..826  (S)..825 (D):    1\n",
      "G16HORREP ..........................................................302 - Woodford (V) ..858  (S)..857 (D):    1\n",
      "G16HORREP .....................................................402 - Carmel Church (V) ..246  (S)..247 (D):   -1\n",
      "G16HORREP ..............................................................602 - Lake (V) ..544  (S)..545 (D):   -1\n",
      "G16HORDEM ..............................................................602 - Lake (V) ..336  (S)..337 (D):   -1\n",
      "G16HORREP ...........................................................102 - Catlett (V) .1655  (S).1656 (D):   -1\n",
      "G16HORDEM ..............................................................104 - Lois (V) ..244  (S)..245 (D):   -1\n",
      "G16HORREP .......................................................301 - Morrisville (V) .1166  (S).1165 (D):    1\n",
      "G16HORDEM ..........................................................303 - Bealeton (V) ..863  (S)..862 (D):    1\n",
      "G16HORDEM .........................................101 - Precinct 1 - District One (V) .1434  (S).1435 (D):   -1\n",
      "G16HORDEM .........................................201 - Precinct 1 - District Two (V) .1455  (S).1454 (D):    1\n",
      "G16HORWRI .........................................201 - Precinct 1 - District Two (V) ....9  (S)....8 (D):    1\n",
      "G16HORWRI .......................................301 - Precinct 1 - District Three (V) ....5  (S)....6 (D):   -1\n",
      "G16HORREP ........................................401 - Precinct 1 - District Four (V) ..397  (S)..398 (D):   -1\n",
      "G16HORREP ........................................402 - Precinct 2 - District Four (V) ..341  (S)..340 (D):    1\n",
      "G16HORDEM .......................................................301 - White Marsh (V) ..421  (S)..420 (D):    1\n",
      "G16HORREP ......................................................402 - Sarahs Creek (V) .1192  (S).1191 (D):    1\n",
      "G16HORREP ..........................................................501 - Achilles (V) .1861  (S).1862 (D):   -1\n",
      "G16HORDEM ............................................................502 - Walker (V) ..415  (S)..416 (D):   -1\n",
      "G16HORIND ...........................................................101 - Ashland (V) ...67  (S)...66 (D):    1\n",
      "G16HORREP ...........................................................105 - Berkley (V) ..565  (S)..566 (D):   -1\n",
      "G16HORDEM ......................................................106 - Kersey Creek (V) ..335  (S)..336 (D):   -1\n",
      "G16HORIND ......................................................107 - Chickahominy (V) ...50  (S)...51 (D):   -1\n",
      "G16HORREP ............................................................202 - Blunts (V) ..705  (S)..704 (D):    1\n",
      "G16HORDEM ............................................................202 - Blunts (V) ..358  (S)..359 (D):   -1\n",
      "G16HORIND .................................................203 - Wilmington Parish (V) ...39  (S)...40 (D):   -1\n",
      "G16HORREP ........................................................206 - Courthouse (V) ..770  (S)..769 (D):    1\n",
      "G16HORDEM .........................................................208 - Oak Knoll (V) ..432  (S)..433 (D):   -1\n",
      "G16HORIND .........................................................208 - Oak Knoll (V) ...38  (S)...39 (D):   -1\n",
      "G16HORREP ..........................................................210 - Oak Hill (V) ..427  (S)..428 (D):   -1\n",
      "G16HORDEM ..............................................................301 - Clay (V) ..486  (S)..485 (D):    1\n",
      "G16HORDEM .......................................................303 - Shady Grove (V) ..467  (S)..466 (D):    1\n",
      "G16HORDEM .............................................................304 - Atlee (V) .1186  (S).1187 (D):   -1\n",
      "G16HORIND .............................................................304 - Atlee (V) ..109  (S)..108 (D):    1\n",
      "G16HORDEM .......................................................305 - Cool Spring (V) ..618  (S)..617 (D):    1\n",
      "G16HORREP .......................................................401 - Battlefield (V) .1711  (S).1712 (D):   -1\n",
      "G16HORREP .......................................................403 - Cold Harbor (V) .1864  (S).1863 (D):    1\n",
      "G16HORIND .......................................................403 - Cold Harbor (V) ...91  (S)...90 (D):    1\n",
      "G16HORREP .......................................................404 - Black Creek (V) .1855  (S).1854 (D):    1\n",
      "G16HORDEM .......................................................404 - Black Creek (V) ..432  (S)..433 (D):   -1\n",
      "G16HORREP ......................................................405 - Pebble Creek (V) ..880  (S)..879 (D):    1\n",
      "G16HORREP .......................................................502 - Rural Point (V) .1449  (S).1450 (D):   -1\n",
      "G16HORDEM .......................................................502 - Rural Point (V) ..524  (S)..523 (D):    1\n",
      "G16HORDEM ............................................................503 - Newman (V) ..570  (S)..569 (D):    1\n",
      "G16HORDEM ...........................................................504 - Studley (V) ..231  (S)..232 (D):   -1\n",
      "G16HORDEM .......................................................505 - Totopotomoy (V) ..224  (S)..225 (D):   -1\n",
      "G16HORIND .......................................................505 - Totopotomoy (V) ...27  (S)...28 (D):   -1\n",
      "G16HORDEM ........................................................506 - Georgetown (V) ..372  (S)..373 (D):   -1\n",
      "G16HORIND ........................................................506 - Georgetown (V) ...50  (S)...51 (D):   -1\n",
      "G16HORDEM .....................................................507 - Laurel Meadow (V) ..485  (S)..484 (D):    1\n",
      "G16HORDEM .........................................................602 - Lee Davis (V) ..533  (S)..532 (D):    1\n",
      "G16HORIND .........................................................602 - Lee Davis (V) ...87  (S)...86 (D):    1\n",
      "G16HORREP ........................................................701 - Farrington (V) .1350  (S).1351 (D):   -1\n",
      "G16HORDEM ........................................................702 - Montpelier (V) ..571  (S)..570 (D):    1\n",
      "G16HORDEM .........................................................703 - Rockville (V) ..504  (S)..503 (D):    1\n",
      "G16HORIND ............................................................704 - Elmont (V) ...82  (S)...81 (D):    1\n",
      "G16HORDEM ........................................................705 - South Anna (V) ..307  (S)..308 (D):   -1\n",
      "G16HORREP ........................................................101 - Berkeley A (V) .1717  (S).1716 (D):    1\n",
      "G16HORDEM ........................................................101 - Berkeley A (V) ..905  (S)..904 (D):    1\n",
      "G16HORDEM ........................................................102 - Berkeley B (V) ..689  (S)..690 (D):   -1\n",
      "G16HORREP .......................................................202 - Jamestown B (V) .1258  (S).1259 (D):   -1\n",
      "G16HORREP .......................................................203 - Jamestown C (V) .1363  (S).1362 (D):    1\n",
      "G16HORDEM .......................................................203 - Jamestown C (V) ..731  (S)..732 (D):   -1\n",
      "G16HORREP .......................................................204 - Jamestown D (V) .1969  (S).1970 (D):   -1\n",
      "G16HORREP ........................................................302 - Powhatan B (V) ..463  (S)..462 (D):    1\n",
      "G16HORREP ........................................................304 - Powhatan D (V) .1321  (S).1322 (D):   -1\n",
      "G16HORDEM ......................................................401 - Stonehouse A (V) .1041  (S).1040 (D):    1\n",
      "G16HORREP ............................................................201 - Clarks (V) ..543  (S)..542 (D):    1\n",
      "G16HORREP ......................................................301 - Shacklefords (V) ..451  (S)..452 (D):   -1\n",
      "G16HORDEM ............................................................201 - Monroe (V) ..761  (S)..760 (D):    1\n",
      "G16HORDEM ............................................................401 - Shiloh (V) ..798  (S)..799 (D):   -1\n",
      "G16HORDEM ........................................................101 - West Point (V) ..410  (S)..409 (D):    1\n",
      "G16HORIND ........................................................101 - West Point (V) ...65  (S)...64 (D):    1\n",
      "G16HORIND ........................................................201 - Sweet Hall (V) ...25  (S)...26 (D):   -1\n",
      "G16HORIND ............................................................301 - Aylett (V) ...42  (S)...43 (D):   -1\n",
      "G16HORDEM .........................................................501 - Mangohick (V) ..578  (S)..579 (D):   -1\n",
      "G16HORIND .........................................................501 - Mangohick (V) ...46  (S)...45 (D):    1\n",
      "G16HORDEM ......................................................101 - Precinct 1-1 (V) ..396  (S)..397 (D):   -1\n",
      "G16HORREP ......................................................301 - Precinct 3-1 (V) ..765  (S)..764 (D):    1\n",
      "G16HORREP ......................................................302 - Precinct 3-2 (V) ..350  (S)..351 (D):   -1\n",
      "G16HORIND ......................................................302 - Precinct 3-2 (V) ...12  (S)...13 (D):   -1\n",
      "G16HORDEM ......................................................401 - Precinct 4-1 (V) ..625  (S)..624 (D):    1\n",
      "G16HORIND ......................................................401 - Precinct 4-1 (V) ...39  (S)...38 (D):    1\n",
      "G16HORDEM ........................................................201 - New Market (V) ..266  (S)..267 (D):   -1\n",
      "G16HORDEM .......................................................302 - Church View (V) ..397  (S)..396 (D):    1\n",
      "G16HORREP ...................................................103 - Southern Branch (V) .1328  (S).1327 (D):    1\n",
      "G16HORDEM ...........................................................201 - Quinton (V) ..491  (S)..490 (D):    1\n",
      "G16HORDEM ........................................................302 - Cumberland (V) ..370  (S)..371 (D):   -1\n",
      "G16HORREP ................................................502 - Chickahominy River (V) ..932  (S)..933 (D):   -1\n",
      "G16HORREP ................................................................201 - 2a (V) .1057  (S).1058 (D):   -1\n",
      "G16HORREP ................................................................301 - 3a (V) ..313  (S)..312 (D):    1\n",
      "G16HORREP .......................................................101 - Brentsville (V) .1519  (S).1520 (D):   -1\n",
      "G16HORREP .......................................................102 - Cedar Point (V) .1753  (S).1752 (D):    1\n",
      "G16HORIND .......................................................102 - Cedar Point (V) ..150  (S)..151 (D):   -1\n",
      "G16HORREP ........................................................104 - Nokesville (V) .1483  (S).1484 (D):   -1\n",
      "G16HORREP .........................................................105 - Limestone (V) .1551  (S).1552 (D):   -1\n",
      "G16HORDEM .........................................................105 - Limestone (V) .1329  (S).1330 (D):   -1\n",
      "G16HORREP ..........................................................106 - Westgate (V) ..497  (S)..498 (D):   -1\n",
      "G16HORDEM ......................................................109 - Piney Branch (V) .1271  (S).1272 (D):   -1\n",
      "G16HORDEM ....................................................110 - Buckland Mills (V) ..210  (S)..211 (D):   -1\n",
      "G16HORDEM .......................................................111 - Bristow Run (V) .1589  (S).1588 (D):    1\n",
      "G16HORREP ..........................................................202 - Marshall (V) .1528  (S).1529 (D):   -1\n",
      "G16HORREP .............................................................204 - Ellis (V) ..925  (S)..924 (D):    1\n",
      "G16HORDEM .............................................................206 - Coles (V) ..662  (S)..661 (D):    1\n",
      "G16HORDEM .............................................................206 - Coles (V) ..662  (S)..661 (D):    1\n",
      "G16HORDEM ..........................................................312 - Triangle (V) ..300  (S)..301 (D):   -1\n",
      "G16HORDEM ..........................................................313 - Cardinal (V) ..831  (S)..830 (D):    1\n",
      "G16HORREP ......................................................314 - Cabin Branch (V) ..704  (S)..703 (D):    1\n",
      "G16HORDEM .........................................................405 - Stonewall (V) .1522  (S).1521 (D):    1\n",
      "G16HORIND .........................................................405 - Stonewall (V) ..154  (S)..153 (D):    1\n",
      "G16HORDEM .........................................................405 - Stonewall (V) .1522  (S).1521 (D):    1\n",
      "G16HORIND .........................................................405 - Stonewall (V) ..154  (S)..153 (D):    1\n",
      "G16HORREP ............................................................411 - Mullen (V) ..600  (S)..599 (D):    1\n",
      "G16HORREP ............................................................411 - Mullen (V) ..600  (S)..599 (D):    1\n",
      "G16HORREP ...........................................................505 - Mohican (V) ..866  (S)..865 (D):    1\n",
      "G16HORDEM ...........................................................505 - Mohican (V) .1066  (S).1067 (D):   -1\n",
      "G16HORDEM ..........................................................509 - Mc Coart (V) ..823  (S)..822 (D):    1\n",
      "G16HORDEM ..........................................................403 - Lee Hill (V) .1382  (S).1381 (D):    1\n",
      "G16HORDEM ..........................................................703 - Fairview (V) ..164  (S)..165 (D):   -1\n",
      "G16HORDEM ..........................................................101 - Hartwood (V) .1014  (S).1013 (D):    1\n",
      "G16HORIND ..........................................................101 - Hartwood (V) ..135  (S)..134 (D):    1\n",
      "G16HORREP ...........................................................103 - Simpson (V) .1471  (S).1472 (D):   -1\n",
      "G16HORREP ...........................................................104 - College (V) .1810  (S).1809 (D):    1\n",
      "G16HORIND ...........................................................104 - College (V) ...99  (S)..100 (D):   -1\n",
      "G16HORREP .........................................................201 - Rock Hill (V) .1316  (S).1317 (D):   -1\n",
      "G16HORIND .........................................................201 - Rock Hill (V) ...77  (S)...78 (D):   -1\n",
      "G16HORREP ..............................................................203 - Ruby (V) .1504  (S).1505 (D):   -1\n",
      "G16HORIND ..............................................................203 - Ruby (V) ...84  (S)...85 (D):   -1\n",
      "G16HORIND .........................................................204 - Stefaniga (V) ...62  (S)...63 (D):   -1\n",
      "G16HORIND .........................................................302 - Widewater (V) ..127  (S)..126 (D):    1\n",
      "G16HORDEM ...........................................................303 - Harbour (V) ..544  (S)..545 (D):   -1\n",
      "G16HORREP ...........................................................304 - Barrett (V) ..558  (S)..557 (D):    1\n",
      "G16HORREP .............................................................401 - Aquia (V) ..329  (S)..330 (D):   -1\n",
      "G16HORDEM .............................................................401 - Aquia (V) ..512  (S)..513 (D):   -1\n",
      "G16HORIND ........................................................402 - Courthouse (V) ..136  (S)..135 (D):    1\n",
      "G16HORDEM .................................................404 - Government Island (V) ..683  (S)..684 (D):   -1\n",
      "G16HORDEM ..........................................................502 - Falmouth (V) ..837  (S)..836 (D):    1\n",
      "G16HORDEM .............................................................504 - Gayle (V) .1027  (S).1026 (D):    1\n",
      "G16HORDEM ........................................................601 - Ferry Farm (V) ..726  (S)..727 (D):   -1\n",
      "G16HORREP .........................................................603 - White Oak (V) .1886  (S).1885 (D):    1\n",
      "G16HORDEM .......................................................604 - England Run (V) ..823  (S)..822 (D):    1\n",
      "G16HORIND ...........................................................702 - Whitson (V) ..117  (S)..116 (D):    1\n",
      "G16HORREP ...........................................................703 - Hampton (V) .1895  (S).1894 (D):    1\n",
      "G16HORDEM ......................................................102 - Precinct 1-2 (V) ..272  (S)..271 (D):    1\n",
      "G16HORIND ......................................................102 - Precinct 1-2 (V) ...13  (S)...14 (D):   -1\n",
      "G16HORDEM ......................................................501 - Precinct 5-1 (V) ..487  (S)..488 (D):   -1\n",
      "G16HORIND ......................................................501 - Precinct 5-1 (V) ...55  (S)...54 (D):    1\n",
      "G16HORREP ......................................................101 - Chincoteague (V) .1319  (S).1318 (D):    1\n",
      "G16HORDEM ........................................................301 - New Church (V) ..723  (S)..724 (D):   -1\n",
      "G16HORREP ............................................................401 - Bloxom (V) ..395  (S)..396 (D):   -1\n",
      "G16HORDEM ..........................................................402 - Parksley (V) ..198  (S)..199 (D):   -1\n",
      "G16HORREP .............................................................403 - Saxis (V) ..168  (S)..169 (D):   -1\n",
      "G16HORREP ............................................................701 - Nandua (V) .1239  (S).1238 (D):    1\n",
      "G16HORDEM ............................................................701 - Nandua (V) ..726  (S)..725 (D):    1\n",
      "G16HORDEM ...........................................................901 - Painter (V) .1028  (S).1027 (D):    1\n",
      "G16HORREP ............................................................205 - Asbury (V) .2100  (S).2099 (D):    1\n",
      "G16HORREP ..........................................................213 - Phillips (V) .1741  (S).1742 (D):   -1\n",
      "G16HORDEM .........................................................502 - Roberts B (V) ..737  (S)..738 (D):   -1\n",
      "G16HORDEM .........................................................504 - Roberts D (V) .1076  (S).1075 (D):    1\n",
      "G16HORREP ............................................................101 - Granby (V) ....8  (S)....9 (D):   -1\n",
      "G16HORDEM .........................................................104 - Titustown (V) ..279  (S)..280 (D):   -1\n",
      "G16HORDEM ........................................................106 - Zion Grace (V) .1039  (S).1040 (D):   -1\n",
      "G16HORREP ............................................................217 - Wesley (V) ..611  (S)..610 (D):    1\n",
      "G16HORREP ......................................................406 - Barron Black (V) ..577  (S)..576 (D):    1\n",
      "G16HORDEM ......................................................406 - Barron Black (V) ..600  (S)..599 (D):    1\n",
      "G16HORREP ...........................................................507 - Pretlow (V) ..898  (S)..899 (D):   -1\n",
      "G16HORDEM ........................................................511 - Crossroads (V) ..792  (S)..791 (D):    1\n",
      "G16HORWRI .........................................................1 - North Beach (V) ...19  (S)...18 (D):    1\n",
      "G16HORREP .........................................................3 - Ocean Lakes (V) .1132  (S).1131 (D):    1\n",
      "G16HORREP .............................................................5 - Seatack (V) .1121  (S).1122 (D):   -1\n",
      "G16HORDEM ............................................................7 - Kingston (V) ..357  (S)..356 (D):    1\n",
      "G16HORDEM .......................................................8 - London Bridge (V) ..870  (S)..871 (D):   -1\n",
      "G16HORREP .........................................................10 - Great Neck (V) .1845  (S).1846 (D):   -1\n",
      "G16HORDEM .........................................................11 - Cape Henry (V) ..736  (S)..737 (D):   -1\n",
      "G16HORREP ..............................................................12 - Plaza (V) .1199  (S).1198 (D):    1\n",
      "G16HORDEM ..............................................................12 - Plaza (V) ..995  (S)..994 (D):    1\n",
      "G16HORDEM .......................................................13 - Mt Trashmore (V) ..850  (S)..851 (D):   -1\n",
      "G16HORDEM .......................................................21 - Davis Corner (V) .1382  (S).1383 (D):   -1\n",
      "G16HORREP .......................................................22 - Point O View (V) .1184  (S).1183 (D):    1\n",
      "G16HORREP ..........................................................26 - Fairfield (V) .1293  (S).1292 (D):    1\n",
      "G16HORDEM ..............................................................27 - Edwin (V) ..616  (S)..617 (D):   -1\n",
      "G16HORREP .............................................................28 - Thalia (V) .1107  (S).1108 (D):   -1\n",
      "G16HORDEM .............................................................28 - Thalia (V) ..509  (S)..508 (D):    1\n",
      "G16HORREP ............................................................29 - Holland (V) ..990  (S)..991 (D):   -1\n",
      "G16HORREP ...........................................................30 - Red Wing (V) .1352  (S).1351 (D):    1\n",
      "G16HORDEM ...........................................................30 - Red Wing (V) ..452  (S)..451 (D):    1\n",
      "G16HORREP .............................................................32 - Creeds (V) ..969  (S)..970 (D):   -1\n",
      "G16HORWRI .........................................................35 - Courthouse (V) ....2  (S)....3 (D):   -1\n",
      "G16HORREP ..........................................................38 - Witchduck (V) .1917  (S).1916 (D):    1\n",
      "G16HORDEM ..........................................................38 - Witchduck (V) ..686  (S)..687 (D):   -1\n",
      "G16HORDEM ............................................................42 - Brandon (V) ..864  (S)..865 (D):   -1\n",
      "G16HORREP ............................................................43 - Bellamy (V) ..939  (S)..940 (D):   -1\n",
      "G16HORREP ........................................................44 - Centerville (V) .1591  (S).1592 (D):   -1\n",
      "G16HORREP ..........................................................46 - Green Run (V) ..837  (S)..838 (D):   -1\n",
      "G16HORDEM ..........................................................46 - Green Run (V) .1008  (S).1007 (D):    1\n",
      "G16HORREP ........................................................47 - Kings Grant (V) .2025  (S).2024 (D):    1\n",
      "G16HORREP ....................................................51 - Stratford Chase (V) .1257  (S).1256 (D):    1\n",
      "G16HORDEM ..........................................................56 - Edinburgh (V) ..313  (S)..312 (D):    1\n",
      "G16HORREP ............................................................60 - Foxfire (V) .1838  (S).1839 (D):   -1\n",
      "G16HORREP ..........................................................62 - Landstown (V) .1439  (S).1438 (D):    1\n",
      "G16HORDEM ..........................................................62 - Landstown (V) ..812  (S)..813 (D):   -1\n",
      "G16HORREP .............................................................63 - Culver (V) .1794  (S).1795 (D):   -1\n",
      "G16HORDEM ...........................................................65 - Colonial (V) ..742  (S)..743 (D):   -1\n",
      "G16HORDEM ......................................................67 - Eastern Shore (V) ..458  (S)..457 (D):    1\n",
      "G16HORDEM ............................................................74 - Buckner (V) ..938  (S)..937 (D):    1\n",
      "G16HORREP .......................................................78 - Indian Lakes (V) .1027  (S).1028 (D):   -1\n",
      "G16HORREP ..........................................................81 - Rock Lake (V) .1133  (S).1132 (D):    1\n",
      "G16HORDEM ..........................................................82 - Shelburne (V) ..528  (S)..527 (D):    1\n",
      "G16HORREP ...........................................................84 - Tallwood (V) .1148  (S).1147 (D):    1\n",
      "G16HORREP ..............................................................85 - Upton (V) .1909  (S).1908 (D):    1\n",
      "G16HORDEM ..............................................................85 - Upton (V) ..742  (S)..743 (D):   -1\n",
      "G16HORDEM ............................................................86 - Haygood (V) ..724  (S)..725 (D):   -1\n",
      "G16HORDEM .........................................................90 - Lake Joyce (V) ..369  (S)..368 (D):    1\n",
      "G16HORREP ..........................................................91 - Lexington (V) ..998  (S)..999 (D):   -1\n",
      "G16HORREP ........................................................92 - Little Neck (V) .1177  (S).1176 (D):    1\n",
      "G16HORREP ...........................................................95 - Dam Neck (V) ..881  (S)..882 (D):   -1\n",
      "G16HORDEM ...........................................................95 - Dam Neck (V) ..439  (S)..438 (D):    1\n",
      "G16HORREP .......................................................102 - Waller Mill (V) .1475  (S).1476 (D):   -1\n",
      "G16HORDEM ...........................................................301 - Seaford (V) ..554  (S)..555 (D):   -1\n",
      "G16HORREP ..........................................................302 - Yorktown (V) .1557  (S).1556 (D):    1\n",
      "G16HORDEM ..........................................................303 - Edgehill (V) ..981  (S)..980 (D):    1\n",
      "G16HORDEM .....................................................401 - Harwoods Mill (V) ..653  (S)..654 (D):   -1\n",
      "G16HORDEM ..............................................................402 - Dare (V) ..665  (S)..664 (D):    1\n",
      "G16HORDEM ...........................................................403 - Grafton (V) ..463  (S)..464 (D):   -1\n",
      "G16HORDEM ..............................................................501 - Tabb (V) ..880  (S)..879 (D):    1\n",
      "G16HORREP ...........................................................5 - Crestwood (V) ..216  (S)..217 (D):   -1\n",
      "G16HORREP ........................................................10 - Oscar Smith (V) ..469  (S)..470 (D):   -1\n",
      "G16HORREP ........................................................11 - Geneva Park (V) ..898  (S)..897 (D):    1\n",
      "G16HORREP ..........................................................13 - Gilmerton (V) ..906  (S)..905 (D):    1\n",
      "G16HORREP .......................................................15 - B M Williams (V) ..664  (S)..663 (D):    1\n",
      "G16HORDEM .........................................................21 - Fellowship (V) ..767  (S)..766 (D):    1\n",
      "G16HORDEM .........................................................25 - St Julians (V) ..535  (S)..536 (D):   -1\n",
      "G16HORDEM ......................................................31 - Carver School (V) .1660  (S).1661 (D):   -1\n",
      "G16HORREP .........................................................32 - Providence (V) ..162  (S)..163 (D):   -1\n",
      "G16HORDEM ...........................................................33 - Westover (V) ..436  (S)..437 (D):   -1\n",
      "G16HORDEM ........................................................35 - Taylor Road (V) ..859  (S)..858 (D):    1\n",
      "G16HORREP ........................................................40 - River Birch (V) .1045  (S).1044 (D):    1\n",
      "G16HORREP ...........................................................42 - Parkways (V) ..705  (S)..704 (D):    1\n",
      "G16HORREP ..........................................................44 - Nansemond (V) ..595  (S)..596 (D):   -1\n",
      "G16HORREP .........................................................54 - Pughsville (V) ..562  (S)..563 (D):   -1\n",
      "G16HORREP ....................................................55 - Georgetown East (V) ..257  (S)..258 (D):   -1\n",
      "G16HORDEM ....................................................55 - Georgetown East (V) ..873  (S)..872 (D):    1\n",
      "G16HORREP ............................................................57 - Cypress (V) ..738  (S)..737 (D):    1\n",
      "G16HORDEM ......................................................101 - Precinct 1-1 (V) ..286  (S)..287 (D):   -1\n",
      "G16HORDEM ......................................................201 - Precinct 2-1 (V) ..316  (S)..317 (D):   -1\n",
      "G16HORDEM ......................................................301 - Precinct 3-1 (V) ..551  (S)..550 (D):    1\n",
      "G16HORDEM ......................................................501 - Precinct 5-1 (V) ..489  (S)..488 (D):    1\n",
      "G16HORDEM ..........................................................101 - Aberdeen (V) .1405  (S).1404 (D):    1\n",
      "G16HORREP .........................................................103 - City Hall (V) ..192  (S)..193 (D):   -1\n",
      "G16HORDEM .........................................................103 - City Hall (V) .1010  (S).1009 (D):    1\n",
      "G16HORREP ......................................................105 - East Hampton (V) ..319  (S)..318 (D):    1\n",
      "G16HORREP ............................................................108 - Thomas (V) ..264  (S)..263 (D):    1\n",
      "G16HORDEM ............................................................108 - Thomas (V) .2071  (S).2072 (D):   -1\n",
      "G16HORDEM ............................................................109 - Phenix (V) .2064  (S).2065 (D):   -1\n",
      "G16HORDEM .............................................................115 - Wythe (V) ..673  (S)..672 (D):    1\n",
      "G16HORREP .............................................................116 - Jones (V) ..202  (S)..203 (D):   -1\n",
      "G16HORREP ........................................................117 - Kecoughtan (V) ..383  (S)..382 (D):    1\n",
      "G16HORDEM ........................................................117 - Kecoughtan (V) .1220  (S).1221 (D):   -1\n",
      "G16HORDEM ...........................................................204 - Forrest (V) .1244  (S).1245 (D):   -1\n",
      "G16HORDEM ............................................................210 - Machen (V) .2289  (S).2288 (D):    1\n",
      "G16HORREP ............................................................212 - Bethel (V) ..752  (S)..753 (D):   -1\n",
      "G16HORREP ........................................................101 - Smithfield (V) .1600  (S).1599 (D):    1\n",
      "G16HORDEM ........................................................101 - Smithfield (V) ..896  (S)..895 (D):    1\n",
      "G16HORREP .....................................................102 - Cypress Creek (V) .1224  (S).1223 (D):    1\n",
      "G16HORREP ..........................................................301 - Rushmere (V) ..802  (S)..803 (D):   -1\n",
      "G16HORDEM ..............................................................302 - Pons (V) .1186  (S).1185 (D):    1\n",
      "G16HORREP ...........................................................501 - Walters (V) ..640  (S)..641 (D):   -1\n",
      "G16HORDEM ..............................................................504 - Zuni (V) ..369  (S)..370 (D):   -1\n",
      "G16HORDEM ............................................................505 - Raynor (V) ..196  (S)..197 (D):   -1\n",
      "G16HORDEM ...........................................................103 - Jenkins (V) .1593  (S).1592 (D):    1\n",
      "G16HORDEM ..........................................................104 - Mcintosh (V) .1398  (S).1399 (D):   -1\n",
      "G16HORDEM ......................................................105 - Oyster Point (V) ..350  (S)..351 (D):   -1\n",
      "G16HORREP ..........................................................107 - Richneck (V) .1001  (S).1000 (D):    1\n",
      "G16HORREP ..........................................................108 - Lee Hall (V) ..475  (S)..476 (D):   -1\n",
      "G16HORDEM ..........................................................108 - Lee Hall (V) .1422  (S).1421 (D):    1\n",
      "G16HORDEM ...........................................................109 - Windsor (V) ..824  (S)..823 (D):    1\n",
      "G16HORREP .........................................................110 - Greenwood (V) ..599  (S)..598 (D):    1\n",
      "G16HORDEM .........................................................110 - Greenwood (V) .1715  (S).1714 (D):    1\n",
      "G16HORDEM .............................................................201 - Bland (V) ..364  (S)..365 (D):   -1\n",
      "G16HORDEM ...........................................................203 - Charles (V) .1340  (S).1341 (D):   -1\n",
      "G16HORDEM ........................................................205 - Deep Creek (V) ..873  (S)..872 (D):    1\n",
      "G16HORDEM .........................................................208 - Hidenwood (V) ..492  (S)..491 (D):    1\n",
      "G16HORREP ............................................................211 - Palmer (V) ..801  (S)..800 (D):    1\n",
      "G16HORDEM .........................................................212 - Riverside (V) ..436  (S)..437 (D):   -1\n",
      "G16HORREP ...........................................................213 - Sanford (V) ..523  (S)..524 (D):   -1\n",
      "G16HORREP .............................................................216 - Yates (V) ..699  (S)..698 (D):    1\n",
      "G16HORDEM ........................................................218 - Kiln Creek (V) .1642  (S).1641 (D):    1\n",
      "G16HORREP ........................................................302 - Briarfield (V) ..262  (S)..263 (D):   -1\n",
      "G16HORDEM ........................................................302 - Briarfield (V) .1267  (S).1268 (D):   -1\n",
      "G16HORREP ..........................................................309 - Magruder (V) ...21  (S)...22 (D):   -1\n",
      "G16HORDEM .........................................................311 - Newmarket (V) .1402  (S).1403 (D):   -1\n",
      "G16HORREP .............................................................314 - River (V) ..379  (S)..380 (D):   -1\n",
      "G16HORREP ..........................................................319 - Saunders (V) ..973  (S)..972 (D):    1\n",
      "G16HORREP ......................................................201 - Old Dominion (V) .1133  (S).1132 (D):    1\n",
      "G16HORREP ...................................................207 - Lambert's Point (V) ..313  (S)..314 (D):   -1\n",
      "G16HORREP .................................................208 - Larchmont Library (V) ..332  (S)..331 (D):    1\n",
      "G16HORDEM .................................................208 - Larchmont Library (V) ..377  (S)..376 (D):    1\n",
      "G16HORREP ...........................................................218 - Willard (V) .1043  (S).1042 (D):    1\n",
      "G16HORREP ........................................................301 - Ballentine (V) ..186  (S)..187 (D):   -1\n",
      "G16HORDEM ........................................................301 - Ballentine (V) .1438  (S).1437 (D):    1\n",
      "G16HORDEM .....................................................302 - Tanners Creek (V) ..865  (S)..864 (D):    1\n",
      "G16HORDEM ..............................................304 - Coleman Place School (V) ..820  (S)..821 (D):   -1\n",
      "G16HORREP ..........................................................311 - Sherwood (V) ..795  (S)..796 (D):   -1\n",
      "G16HORDEM ...........................................................402 - Berkley (V) .1308  (S).1309 (D):   -1\n",
      "G16HORDEM ........................................................403 - Brambleton (V) ..883  (S)..882 (D):    1\n",
      "G16HORDEM .......................................................404 - Campostella (V) .1295  (S).1296 (D):   -1\n",
      "G16HORREP ..........................................................409 - Fairlawn (V) ..468  (S)..467 (D):    1\n",
      "G16HORDEM ..........................................................409 - Fairlawn (V) ..844  (S)..845 (D):   -1\n",
      "G16HORREP .........................................................412 - Ingleside (V) ..164  (S)..165 (D):   -1\n",
      "G16HORREP ......................................................413 - Poplar Halls (V) ..299  (S)..300 (D):   -1\n",
      "G16HORREP ...........................................415 - Lake Taylor High School (V) ..455  (S)..454 (D):    1\n",
      "G16HORREP .....................................10 - Port Norfolk Recreation Center (V) ..280  (S)..281 (D):   -1\n",
      "G16HORDEM ...........................................14 - Emily N. Spong Preschool (V) .1111  (S).1110 (D):    1\n",
      "G16HORREP ..............................................16 - Cradock Middle School (V) ..355  (S)..356 (D):   -1\n",
      "G16HORREP ....................................19 - Fairview Heights Baptist Church (V) ..327  (S)..328 (D):   -1\n",
      "G16HORREP ........................................20 - Noble Street Baptist Church (V) ..249  (S)..250 (D):   -1\n",
      "G16HORREP ...........................................23 - Westhaven Baptist Church (V) ..695  (S)..694 (D):    1\n",
      "G16HORREP .......................................................24 - Willett Hall (V) ..360  (S)..359 (D):    1\n",
      "G16HORREP .............................29 - Saint Andrew's United Methodist Church (V) ..591  (S)..590 (D):    1\n",
      "G16HORDEM ..................................................30 - The Rescue Church (V) ..468  (S)..467 (D):    1\n",
      "G16HORREP .....................................32 - Hodges Manor Elementary School (V) ..589  (S)..588 (D):    1\n",
      "G16HORDEM ............................................33- Pinecrest Baptist Church (V) ..328  (S)..329 (D):   -1\n",
      "G16HORREP ...............................................38 - Grove Baptist Church (V) ..277  (S)..278 (D):   -1\n",
      "G16HORREP .........................................39 - River Shore Baptist Church (V) ..635  (S)..634 (D):    1\n",
      "G16HORDEM .........................................39 - River Shore Baptist Church (V) .1745  (S).1746 (D):   -1\n",
      "G16HORDEM ......................................................101 - Belleharbour (V) ..952  (S)..951 (D):    1\n",
      "G16HORREP ............................................................102 - Driver (V) .1909  (S).1910 (D):   -1\n",
      "G16HORDEM ..........................................................201 - Ebenezer (V) ..486  (S)..485 (D):    1\n",
      "G16HORREP .........................................................204 - Hillpoint (V) ..631  (S)..630 (D):    1\n",
      "G16HORDEM .......................................................504 - Lake Cohoon (V) ..207  (S)..208 (D):   -1\n",
      "G16HORDEM ........................................................602 - Olde Towne (V) ..369  (S)..368 (D):    1\n",
      "G16HORREP ............................................................604 - Wilroy (V) ..670  (S)..669 (D):    1\n",
      "G16HORDEM .........................................................605 - Hollywood (V) ..812  (S)..813 (D):   -1\n",
      "G16HORREP .......................................................702 - Harbourview (V) .1070  (S).1071 (D):   -1\n",
      "G16HORREP .....................................................704 - Burbage Grant (V) ..698  (S)..697 (D):    1\n",
      "G16HORDEM .....................................................704 - Burbage Grant (V) .1403  (S).1404 (D):   -1\n",
      "G16HORREP ......................................................706 - Huntersville (V) ..320  (S)..321 (D):   -1\n",
      "G16HORREP ......................................................101 - Precinct 1-1 (V) ..616  (S)..615 (D):    1\n",
      "G16HORREP ......................................................301 - Precinct 3-1 (V) ..507  (S)..508 (D):   -1\n",
      "G16HORREP ........................................................1 - Great Bridge (V) .1407  (S).1406 (D):    1\n",
      "G16HORREP ..........................................................7 - Greenbrier (V) .1414  (S).1413 (D):    1\n",
      "G16HORDEM ..........................................................7 - Greenbrier (V) ..770  (S)..771 (D):   -1\n",
      "G16HORREP .......................................................17 - Indian Creek (V) .1130  (S).1131 (D):   -1\n",
      "G16HORDEM .......................................................17 - Indian Creek (V) ..285  (S)..284 (D):    1\n",
      "G16HORREP ........................................................20 - E W Chittum (V) .1289  (S).1288 (D):    1\n",
      "G16HORDEM ........................................................20 - E W Chittum (V) ..797  (S)..796 (D):    1\n",
      "G16HORREP ...........................................................28 - Sunray I (V) ..211  (S)..212 (D):   -1\n",
      "G16HORREP ..............................................34 - Hickory Middle School (V) .2120  (S).2119 (D):    1\n",
      "G16HORREP ........................................36 - Great Bridge Baptist Church (V) ..710  (S)..709 (D):    1\n",
      "G16HORDEM ........................................36 - Great Bridge Baptist Church (V) ..354  (S)..353 (D):    1\n",
      "G16HORDEM ......................................................39 - Lake Drummond (V) ..232  (S)..233 (D):   -1\n",
      "G16HORDEM ........................................................41 - John T West (V) .1367  (S).1366 (D):    1\n",
      "G16HORREP ..................................................43 - Pleasant Crossing (V) .1215  (S).1214 (D):    1\n",
      "G16HORDEM ..........................................................45 - Sunray II (V) ..413  (S)..412 (D):    1\n",
      "G16HORREP ......................................................46 - Bells Mill II (V) .1067  (S).1068 (D):   -1\n",
      "G16HORDEM ..........................................................47 - Green Sea (V) ..242  (S)..243 (D):   -1\n",
      "G16HORREP ........................................................51 - Coopers Way (V) .1812  (S).1813 (D):   -1\n",
      "G16HORREP ......................................................52 - Shipyard Road (V) ..900  (S)..901 (D):   -1\n",
      "G16HORREP .........................................................58 - Expressway (V) ..274  (S)..275 (D):   -1\n",
      "G16HORDEM ........................................................60 - Parker Road (V) ..679  (S)..680 (D):   -1\n",
      "G16HORREP ........................................................61 - Centerville (V) .1286  (S).1285 (D):    1\n",
      "G16HORREP ......................................................63 - Poplar Branch (V) .1051  (S).1052 (D):   -1\n",
      "G16HORDEM ......................................................63 - Poplar Branch (V) ..276  (S)..277 (D):   -1\n",
      "G16HORDEM ..............................................................203 - Bird (V) ..329  (S)..328 (D):    1\n",
      "G16HORDEM ......................................................209 - Salem Church (V) .1346  (S).1345 (D):    1\n",
      "G16HORREP ..............................................................211 - Nash (V) .2250  (S).2251 (D):   -1\n",
      "G16HORDEM ..............................................................211 - Nash (V) ..928  (S)..929 (D):   -1\n",
      "G16HORREP ...........................................................301 - Ettrick (V) ..589  (S)..588 (D):    1\n",
      "G16HORDEM .............................................................305 - Beach (V) ..226  (S)..227 (D):   -1\n",
      "G16HORREP ...................................................206 - Central Gardens (V) ...74  (S)...75 (D):   -1\n",
      "G16HORREP ..........................................................209 - Glen Lea (V) ..193  (S)..192 (D):    1\n",
      "G16HORDEM ..........................................................209 - Glen Lea (V) .1063  (S).1062 (D):    1\n",
      "G16HORREP ..................................................211 - Highland Gardens (V) ...59  (S)...60 (D):   -1\n",
      "G16HORDEM ...........................................................501 - Antioch (V) ..374  (S)..375 (D):   -1\n",
      "G16HORREP ......................................................503 - Chickahominy (V) ..934  (S)..933 (D):    1\n",
      "G16HORREP ...........................................................504 - Donahoe (V) ..468  (S)..469 (D):   -1\n",
      "G16HORDEM .............................................................505 - Dorey (V) ..943  (S)..944 (D):   -1\n",
      "G16HORDEM ..................................................508 - Highland Springs (V) .1300  (S).1299 (D):    1\n",
      "G16HORDEM ...........................................................510 - Mehfoud (V) .1015  (S).1014 (D):    1\n",
      "G16HORWRI ..........................................................511 - Montrose (V) ...12  (S)...11 (D):    1\n",
      "G16HORWRI .............................................................514 - Rolfe (V) ....6  (S)....7 (D):   -1\n",
      "G16HORDEM .........................................................516 - Sullivans (V) ..962  (S)..963 (D):   -1\n",
      "G16HORREP .........................................................518 - Whitlocks (V) ..945  (S)..944 (D):    1\n",
      "G16HORDEM ..........................................................201 - Ward Two (V) ..863  (S)..862 (D):    1\n",
      "G16HORDEM .........................................................501 - Ward Five (V) ..473  (S)..474 (D):   -1\n",
      "G16HORREP .........................................101 - First Ward First Precinct (V) ..205  (S)..204 (D):    1\n",
      "G16HORDEM ........................................201 - Second Ward First Precinct (V) .1971  (S).1970 (D):    1\n",
      "G16HORREP .........................................301 - Third Ward First Precinct (V) ..504  (S)..505 (D):   -1\n",
      "G16HORDEM .......................................701 - Seventh Ward First Precinct (V) .1756  (S).1757 (D):   -1\n",
      "G16HORDEM ...................................................102 - One Hundred Two (V) ..437  (S)..438 (D):   -1\n",
      "G16HORDEM ..................................................105 - One Hundred Five (V) ..776  (S)..775 (D):    1\n",
      "G16HORREP ................................................111 - One Hundred Eleven (V) ..648  (S)..647 (D):    1\n",
      "G16HORDEM ................................................111 - One Hundred Eleven (V) ..692  (S)..691 (D):    1\n",
      "G16HORREP ................................................112 - One Hundred Twelve (V) ..490  (S)..491 (D):   -1\n",
      "G16HORREP ..............................................114 - One Hundred Fourteen (V) ..623  (S)..622 (D):    1\n",
      "G16HORDEM .................................................203 - Two Hundred Three (V) .1524  (S).1525 (D):   -1\n",
      "G16HORREP ..................................................204 - Two Hundred Four (V) ..602  (S)..601 (D):    1\n",
      "G16HORREP ...................................................206 - Two Hundred Six (V) ..433  (S)..434 (D):   -1\n",
      "G16HORREP .................................................207 - Two Hundred Seven (V) ..577  (S)..576 (D):    1\n",
      "G16HORDEM .................................................207 - Two Hundred Seven (V) .1345  (S).1346 (D):   -1\n",
      "G16HORDEM .................................................208 - Two Hundred Eight (V) .1458  (S).1459 (D):   -1\n",
      "G16HORDEM .................................................301 - Three Hundred One (V) ..876  (S)..875 (D):    1\n",
      "G16HORREP ...............................................303 - Three Hundred Three (V) ...95  (S)...96 (D):   -1\n",
      "G16HORREP ...............................................307 - Three Hundred Seven (V) ..316  (S)..317 (D):   -1\n",
      "G16HORREP ...............................................308 - Three Hundred Eight (V) ..346  (S)..347 (D):   -1\n",
      "G16HORDEM .................................................310 - Three Hundred Ten (V) ..582  (S)..581 (D):    1\n",
      "G16HORREP ..................................................402 - Four Hundred Two (V) ..753  (S)..752 (D):    1\n",
      "G16HORREP .................................................404 - Four Hundred Four (V) ..572  (S)..571 (D):    1\n",
      "G16HORREP .................................................409 - Four Hundred Nine (V) .1165  (S).1164 (D):    1\n",
      "G16HORREP ..................................................410 - Four Hundred Ten (V) ..506  (S)..507 (D):   -1\n",
      "G16HORREP ...............................................412 - Four Hundred Twelve (V) ..388  (S)..389 (D):   -1\n",
      "G16HORREP .............................................413 - Four Hundred Thirteen (V) ..543  (S)..542 (D):    1\n",
      "G16HORDEM .............................................413 - Four Hundred Thirteen (V) ..903  (S)..902 (D):    1\n",
      "G16HORREP .............................................414 - Four Hundred Fourteen (V) ..724  (S)..723 (D):    1\n",
      "G16HORDEM ................................................503 - Five Hundred Three (V) .1624  (S).1625 (D):   -1\n",
      "G16HORDEM .................................................505 - Five Hundred Five (V) ..915  (S)..914 (D):    1\n",
      "G16HORDEM ................................................508 - Five Hundred Eight (V) ..764  (S)..763 (D):    1\n",
      "G16HORREP .................................................607 - Six Hundred Seven (V) ..402  (S)..403 (D):   -1\n",
      "G16HORREP ...............................................708 - Seven Hundred Eight (V) ..577  (S)..576 (D):    1\n",
      "G16HORDEM .................................................806 - Eight Hundred Six (V) .1345  (S).1346 (D):   -1\n",
      "G16HORREP .................................................810 - Eight Hundred Ten (V) ..139  (S)..140 (D):   -1\n",
      "G16HORDEM .................................................810 - Eight Hundred Ten (V) ..985  (S)..984 (D):    1\n",
      "G16HORDEM ............................................814 - Eight Hundred Fourteen (V) ..931  (S)..930 (D):    1\n",
      "G16HORREP ................................................903 - Nine Hundred Three (V) ..213  (S)..214 (D):   -1\n",
      "G16HORDEM ................................................903 - Nine Hundred Three (V) .1374  (S).1375 (D):   -1\n",
      "G16HORDEM .................................................909 - Nine Hundred Nine (V) .1430  (S).1431 (D):   -1\n",
      "G16HORDEM ...............................................911 - Nine Hundred Eleven (V) .1179  (S).1180 (D):   -1\n",
      "G16HORREP .......................................................301 - White Marsh (V) ..210  (S)..211 (D):   -1\n",
      "G16HORDEM ...........................................................401 - Airport (V) ..399  (S)..400 (D):   -1\n",
      "G16HORREP .......................................................402 - Whaleyville (V) ..932  (S)..931 (D):    1\n",
      "G16HORREP ...........................................................502 - Holland (V) .1364  (S).1363 (D):    1\n",
      "G16HORDEM ..........................................................601 - Lakeside (V) .1032  (S).1031 (D):    1\n",
      "G16HORREP ..........................................603 - Elephants Fork/westhaven (V) ..311  (S)..312 (D):   -1\n",
      "G16HORDEM ...........................................................101 - Waverly (V) ..576  (S)..575 (D):    1\n",
      "G16HORDEM ........................................................301 - Courthouse (V) ..227  (S)..228 (D):   -1\n",
      "G16HORDEM .........................................................401 - Mars Hill (V) ..444  (S)..443 (D):    1\n",
      "G16HORDEM .............................................................501 - Henry (V) ..346  (S)..347 (D):   -1\n",
      "G16HORREP .......................................................103 - Branchlands (V) ..261  (S)..262 (D):   -1\n",
      "G16HORDEM .......................................................201 - Jack Jouett (V) ..980  (S)..981 (D):   -1\n",
      "G16HORDEM ........................................................203 - Georgetown (V) .1470  (S).1471 (D):   -1\n",
      "G16HORREP ..........................................................204 - Belfield (V) ..401  (S)..400 (D):    1\n",
      "G16HORREP ..........................................................304 - East Ivy (V) ..345  (S)..346 (D):   -1\n",
      "G16HORREP ..............................................................405 - Cale (V) .1171  (S).1170 (D):    1\n",
      "G16HORREP ...........................................................501 - Keswick (V) ..473  (S)..472 (D):    1\n",
      "G16HORREP .........................................................503 - Hollymead (V) ..897  (S)..898 (D):   -1\n",
      "G16HORDEM .........................................................503 - Hollymead (V) .1042  (S).1041 (D):    1\n",
      "G16HORDEM ............................................................601 - Crozet (V) .1737  (S).1736 (D):    1\n",
      "G16HORREP ......................................................202 - Spout Spring (V) .1021  (S).1020 (D):    1\n",
      "G16HORREP .........................................................302 - Stonewall (V) ..695  (S)..696 (D):   -1\n",
      "G16HORDEM .................................................102 - Hardy Vol Fire Co (V) ..182  (S)..183 (D):   -1\n",
      "G16HORREP ........................................104 - Stewartsville Rescue Squad (V) ..933  (S)..932 (D):    1\n",
      "G16HORREP ................................................203 - Moneta Elem School (V) .1423  (S).1422 (D):    1\n",
      "G16HORDEM ................................................203 - Moneta Elem School (V) ..495  (S)..494 (D):    1\n",
      "G16HORREP .............................................204 - Quaker Baptist Church (V) ..457  (S)..458 (D):   -1\n",
      "G16HORREP ............................................305 - Huddleston Elem School (V) ..552  (S)..553 (D):   -1\n",
      "G16HORDEM .........................................603 - Thaxton Baptist Church #1 (V) ...80  (S)...81 (D):   -1\n",
      "G16HORDEM ............................................604 - Bedford Welcome Center (V) ..577  (S)..576 (D):    1\n",
      "G16HORREP ...........................................................101 - Brodnax (V) ..189  (S)..190 (D):   -1\n",
      "G16HORDEM ........................................................102 - Rock Store (V) ..243  (S)..242 (D):    1\n",
      "G16HORREP ...........................................................103 - Tillman (V) ..485  (S)..484 (D):    1\n",
      "G16HORDEM ............................................................303 - Elmore (V) ..169  (S)..170 (D):   -1\n",
      "G16HORDEM ...........................................................304 - Seymour (V) ..177  (S)..178 (D):   -1\n",
      "G16HORDEM ......................................................402 - King's Store (V) ..268  (S)..267 (D):    1\n",
      "G16HORREP .........................................................401 - Maysville (V) ..734  (S)..733 (D):    1\n",
      "G16HORREP ..........................................................502 - Glenmore (V) ..328  (S)..329 (D):   -1\n",
      "G16HORDEM ........................................................102 - New London (V) ..456  (S)..457 (D):   -1\n",
      "G16HORREP ...................................................202 - Bedford Springs (V) .1860  (S).1859 (D):    1\n",
      "G16HORDEM .......................................................302 - Otter River (V) ..190  (S)..191 (D):   -1\n",
      "G16HORDEM .........................................................303 - Altavista (V) ..700  (S)..699 (D):    1\n",
      "G16HORREP .......................................................501 - Spring Hill (V) .1981  (S).1980 (D):    1\n",
      "G16HORREP ...........................................................602 - Concord (V) .1554  (S).1555 (D):   -1\n",
      "G16HORDEM ...........................................................602 - Concord (V) ..522  (S)..521 (D):    1\n",
      "G16HORREP .....................................................703 - Morris Church (V) ..506  (S)..507 (D):   -1\n",
      "G16HORREP .............................................................102 - Clark (V) ..517  (S)..516 (D):    1\n",
      "G16HORREP ............................................................202 - Walker (V) ..742  (S)..743 (D):   -1\n",
      "G16HORREP ........................................................101 - Precinct 1 (V) ..656  (S)..655 (D):    1\n",
      "G16HORREP ........................................................401 - Precinct 4 (V) ..591  (S)..592 (D):   -1\n",
      "G16HORDEM ............................................................1 - Ward One (V) ..407  (S)..408 (D):   -1\n",
      "G16HORDEM ............................................................2 - Ward Two (V) ..358  (S)..359 (D):   -1\n",
      "G16HORREP ..........................................................3 - Ward Three (V) ..383  (S)..384 (D):   -1\n",
      "G16HORDEM ..........................................................3 - Ward Three (V) ..790  (S)..789 (D):    1\n",
      "G16HORREP ..........................................................7 - Ward Seven (V) ..190  (S)..191 (D):   -1\n",
      "G16HORDEM ..........................................................7 - Ward Seven (V) ..875  (S)..874 (D):    1\n",
      "G16HORDEM ...........................................................9 - Ward Nine (V) ..457  (S)..458 (D):   -1\n",
      "G16HORDEM ...........................................................10 - Ward Ten (V) ..649  (S)..648 (D):    1\n",
      "G16HORREP ........................................................11 - Ward Eleven (V) ..603  (S)..602 (D):    1\n",
      "G16HORREP ........................................................12 - Ward Twelve (V) ..734  (S)..733 (D):    1\n",
      "G16HORDEM ......................................................13 - Ward Thirteen (V) ..946  (S)..945 (D):    1\n",
      "G16HORDEM .......................................................16 - Ward Sixteen (V) ..623  (S)..624 (D):   -1\n",
      "G16HORREP ........................................................101 - Kettle Run (V) ..745  (S)..744 (D):    1\n",
      "G16HORDEM ..........................................................103 - Casanova (V) ..386  (S)..387 (D):   -1\n",
      "G16HORREP .....................................................106 - Baldwin Ridge (V) ..818  (S)..817 (D):    1\n",
      "G16HORREP ..........................................................401 - Marshall (V) .1372  (S).1373 (D):   -1\n",
      "G16HORDEM ..........................................................401 - Marshall (V) ..816  (S)..815 (D):    1\n",
      "G16HORDEM .............................................................402 - Leeds (V) ..809  (S)..808 (D):    1\n",
      "G16HORDEM ........................................................501 - The Plains (V) ..816  (S)..815 (D):    1\n",
      "G16HORREP .....................................................502 - New Baltimore (V) .1397  (S).1398 (D):   -1\n",
      "G16HORDEM .....................................................502 - New Baltimore (V) ..621  (S)..622 (D):   -1\n",
      "G16HORDEM .........................................................503 - Broad Run (V) ..558  (S)..559 (D):   -1\n",
      "G16HORREP ...........................................................101 - Palmyra (V) .1715  (S).1716 (D):   -1\n",
      "G16HORREP ........................................................401 - Cunningham (V) .1906  (S).1905 (D):    1\n",
      "G16HORDEM ...........................................................103 - Scruggs (V) ..708  (S)..707 (D):    1\n",
      "G16HORDEM ...........................................................202 - Penhook (V) ..323  (S)..324 (D):   -1\n",
      "G16HORDEM ............................................................204 - Dudley (V) ..276  (S)..277 (D):   -1\n",
      "G16HORREP ........................................................301 - Snow Creek (V) ..607  (S)..608 (D):   -1\n",
      "G16HORREP .............................................................401 - Henry (V) .1048  (S).1047 (D):    1\n",
      "G16HORREP ............................................................402 - Ferrum (V) ..522  (S)..523 (D):   -1\n",
      "G16HORREP .........................................................501 - Waidsboro (V) ..666  (S)..667 (D):   -1\n",
      "G16HORREP ...........................................................503 - Bowmans (V) ..478  (S)..479 (D):   -1\n",
      "G16HORREP .......................................................601 - Boones Mill (V) .1164  (S).1163 (D):    1\n",
      "G16HORREP ..........................................................602 - Bonbrook (V) .1104  (S).1103 (D):    1\n",
      "G16HORREP ......................................................603 - Coopers Cove (V) ..876  (S)..875 (D):    1\n",
      "G16HORREP ..................................................701 - Rocky Mount East (V) ..920  (S)..919 (D):    1\n",
      "G16HORDEM ..................................................701 - Rocky Mount East (V) ..595  (S)..594 (D):    1\n",
      "G16HORREP ..................................................702 - Rocky Mount West (V) ..637  (S)..638 (D):   -1\n",
      "G16HORREP .........................................................102 - Swift Run (V) ..915  (S)..914 (D):    1\n",
      "G16HORREP ............................................................401 - Midway (V) .1725  (S).1726 (D):   -1\n",
      "G16HORREP ...........................................................102 - Liberty (V) ..240  (S)..241 (D):   -1\n",
      "G16HORDEM ...........................................................102 - Liberty (V) ..163  (S)..164 (D):   -1\n",
      "G16HORREP ..................................................103 - Republican Grove (V) ..462  (S)..463 (D):   -1\n",
      "G16HORREP ............................................................203 - Clover (V) ..463  (S)..464 (D):   -1\n",
      "G16HORDEM ............................................................203 - Clover (V) ..414  (S)..415 (D):   -1\n",
      "G16HORREP .............................................................305 - Sinai (V) ..465  (S)..466 (D):   -1\n",
      "G16HORDEM .............................................................305 - Sinai (V) ..686  (S)..685 (D):    1\n",
      "G16HORREP ........................................................401 - Courthouse (V) ..513  (S)..512 (D):    1\n",
      "G16HORREP .........................................................502 - Dan River (V) ..973  (S)..972 (D):    1\n",
      "G16HORDEM .........................................................502 - Dan River (V) ..449  (S)..448 (D):    1\n",
      "G16HORDEM ........................................................503 - Scottsburg (V) ..133  (S)..134 (D):   -1\n",
      "G16HORREP ......................................................601 - Black Walnut (V) ..563  (S)..562 (D):    1\n",
      "G16HORDEM .........................................................603 - Mt Carmel (V) ..508  (S)..507 (D):    1\n",
      "G16HORREP ..............................................................701 - Hyco (V) ..838  (S)..837 (D):    1\n",
      "G16HORREP ............................................................702 - Midway (V) ..648  (S)..647 (D):    1\n",
      "G16HORREP .........................................................703 - Virgilina (V) ..408  (S)..409 (D):   -1\n",
      "G16HORDEM ............................................................1 - Oak Park (V) ..327  (S)..328 (D):   -1\n",
      "G16HORDEM .............................................................5 - Madison (V) ..443  (S)..442 (D):    1\n",
      "G16HORREP ..........................................................7 - Brightwood (V) ..957  (S)..956 (D):    1\n",
      "G16HORREP .......................................................8 - Criglersville (V) ..416  (S)..417 (D):   -1\n",
      "G16HORDEM .....................................................101 - Wrights Store (V) ..242  (S)..243 (D):   -1\n",
      "G16HORDEM ......................................202 - Bluestone Senior High School (V) ..123  (S)..124 (D):   -1\n",
      "G16HORDEM ...............................................203 - Chase City Vfw Post (V) ..333  (S)..332 (D):    1\n",
      "G16HORREP ........................................................501 - South Hill (V) ..964  (S)..963 (D):    1\n",
      "G16HORREP .......................................................601 - Baskerville (V) ..462  (S)..461 (D):    1\n",
      "G16HORDEM .......................................................601 - Baskerville (V) ..216  (S)..217 (D):   -1\n",
      "G16HORREP .......................................................602 - Union Level (V) ..298  (S)..299 (D):   -1\n",
      "G16HORDEM ........................................................701 - Chase City (V) ..280  (S)..279 (D):    1\n",
      "G16HORDEM ..........................................................801 - Finchley (V) ...96  (S)...97 (D):   -1\n",
      "G16HORREP .........................................................802 - Bluestone (V) ..589  (S)..588 (D):    1\n",
      "G16HORDEM ......................................803 - Chase City Elementary School (V) ..255  (S)..254 (D):    1\n",
      "G16HORREP ...........................................................901 - Averett (V) ..180  (S)..181 (D):   -1\n",
      "G16HORREP ...................................................902 - Buffalo Springs (V) ..298  (S)..299 (D):   -1\n",
      "G16HORDEM .......................................................903 - Clarksville (V) ..394  (S)..393 (D):    1\n",
      "G16HORDEM ..........................................................101 - Rockfish (V) ..809  (S)..810 (D):   -1\n",
      "G16HORDEM .........................................................302 - Gladstone (V) ...97  (S)...96 (D):    1\n",
      "G16HORREP .............................................................501 - Faber (V) ..321  (S)..322 (D):   -1\n",
      "G16HORREP ........................................................502 - Nellysford (V) ..675  (S)..674 (D):    1\n",
      "G16HORREP ...........................................................105 - Chatham (V) ..597  (S)..598 (D):   -1\n",
      "G16HORREP .......................................................108 - West Blairs (V) ..425  (S)..426 (D):   -1\n",
      "G16HORREP ............................................................206 - Climax (V) ..518  (S)..519 (D):   -1\n",
      "G16HORDEM ............................................................207 - Gretna (V) ..385  (S)..386 (D):   -1\n",
      "G16HORREP ...........................................................402 - Keeling (V) ..761  (S)..760 (D):    1\n",
      "G16HORDEM ...........................................................404 - Kentuck (V) ..438  (S)..439 (D):   -1\n",
      "G16HORREP ..........................................................405 - Ringgold (V) .1337  (S).1336 (D):    1\n",
      "G16HORDEM ..........................................................405 - Ringgold (V) ..527  (S)..526 (D):    1\n",
      "G16HORREP ..............................................................501 - Hurt (V) .1074  (S).1073 (D):    1\n",
      "G16HORREP ........................................................603 - Stony Mill (V) ..919  (S)..918 (D):    1\n",
      "G16HORDEM ..........................................................605 - Whitmell (V) ..255  (S)..256 (D):   -1\n",
      "G16HORREP .........................................................606 - Brosville (V) ..505  (S)..506 (D):   -1\n",
      "G16HORDEM .........................................................606 - Brosville (V) ..479  (S)..478 (D):    1\n",
      "G16HORDEM .........................................................704 - Mt Hermon (V) ..549  (S)..548 (D):    1\n",
      "G16HORDEM .........................................................101 - Farmville (V) ..551  (S)..552 (D):   -1\n",
      "G16HORREP ...........................................................201 - Lockett (V) ..822  (S)..821 (D):    1\n",
      "G16HORREP .............................................................301 - Leigh (V) ..404  (S)..405 (D):   -1\n",
      "G16HORREP ...........................................................401 - Hampden (V) ..506  (S)..507 (D):   -1\n",
      "G16HORDEM ..........................................................601 - Prospect (V) ..714  (S)..713 (D):    1\n",
      "G16HORREP ..........................................................701 - West End (V) ..592  (S)..591 (D):    1\n",
      "G16HORREP ........................................................201 - Amissville (V) ..628  (S)..629 (D):   -1\n",
      "G16HORREP .......................................................501 - Chester Gap (V) ..297  (S)..296 (D):    1\n",
      "G16HORREP ..........................................102 - Stuarts Draft Elementary (V) ..891  (S)..892 (D):   -1\n",
      "G16HORDEM ..........................................102 - Stuarts Draft Elementary (V) ..338  (S)..339 (D):   -1\n",
      "G16HORREP ............................................................103 - Verona (V) .1441  (S).1440 (D):    1\n",
      "G16HORDEM ...........................................................201 - Crimora (V) ..411  (S)..410 (D):    1\n",
      "G16HORREP .......................................................401 - Buffalo Gap (V) ..798  (S)..799 (D):   -1\n",
      "G16HORDEM .......................................................401 - Buffalo Gap (V) ..249  (S)..250 (D):   -1\n",
      "G16HORREP .........................................................404 - Deerfield (V) ..268  (S)..269 (D):   -1\n",
      "G16HORDEM .........................................................404 - Deerfield (V) ...61  (S)...62 (D):   -1\n",
      "G16HORDEM .......................................................405 - Cedar Green (V) ..409  (S)..408 (D):    1\n",
      "G16HORDEM ..........................................................601 - Sherando (V) ..258  (S)..259 (D):   -1\n",
      "G16HORDEM .........................................................603 - Lyndhurst (V) ..430  (S)..429 (D):    1\n",
      "G16HORREP .............................................................801 - Dooms (V) .1114  (S).1113 (D):    1\n",
      "G16HORREP ............................................................803 - Wilson (V) .1316  (S).1315 (D):    1\n",
      "G16HORDEM ............................................................803 - Wilson (V) ..619  (S)..618 (D):    1\n",
      "G16HORREP ....................................................102 - Mountain Grove (V) ...72  (S)...71 (D):    1\n",
      "G16HORREP .......................................................201 - Hot Springs (V) ..235  (S)..236 (D):   -1\n",
      "G16HORREP ..........................................................301 - Fairview (V) ..298  (S)..299 (D):   -1\n",
      "G16HORREP ..........................................................401 - Millboro (V) ..366  (S)..365 (D):    1\n",
      "G16HORREP ................................................301 - New London Academy (V) .2382  (S).2383 (D):   -1\n",
      "G16HORREP ..........................................401 - Forest Elementary School (V) .1559  (S).1558 (D):    1\n",
      "G16HORREP ..........................................403 - Knights Of Columbus Bldg (V) .1970  (S).1971 (D):   -1\n",
      "G16HORDEM ..........................................403 - Knights Of Columbus Bldg (V) ..494  (S)..493 (D):    1\n",
      "G16HORREP ...........................................404 - St. Paul Baptist Church (V) .1436  (S).1435 (D):    1\n",
      "G16HORDEM .......................................505 - Boonsboro Elementary School (V) ..441  (S)..442 (D):   -1\n",
      "G16HORREP ............................................506 - Boonsboro Ruritan Club (V) .2131  (S).2132 (D):   -1\n",
      "G16HORREP ..............................................601 - Montvale Elem School (V) ..998  (S)..997 (D):    1\n",
      "G16HORREP .........................................................101 - Daleville (V) .1408  (S).1407 (D):    1\n",
      "G16HORREP ........................................................403 - Eagle Rock (V) ..823  (S)..824 (D):   -1\n",
      "G16HORDEM .........................................................406 - Fincastle (V) ..511  (S)..510 (D):    1\n",
      "G16HORREP ........................................................501 - Troutville (V) ..895  (S)..896 (D):   -1\n",
      "G16HORDEM ........................................................501 - Troutville (V) ..238  (S)..239 (D):   -1\n",
      "G16HORREP ........................................................502 - Cloverdale (V) .1813  (S).1812 (D):    1\n",
      "G16HORREP .........................................................101 - Northeast (V) ..956  (S)..955 (D):    1\n",
      "G16HORREP ......................................................102 - East Central (V) ..377  (S)..378 (D):   -1\n",
      "G16HORDEM ......................................................102 - East Central (V) ..744  (S)..745 (D):   -1\n",
      "G16HORDEM .........................................................103 - Southeast (V) .1357  (S).1356 (D):    1\n",
      "G16HORREP .........................................................201 - Northwest (V) ..950  (S)..951 (D):   -1\n",
      "G16HORREP .........................................................202 - Southwest (V) .1062  (S).1061 (D):    1\n",
      "G16HORDEM .........................................................202 - Southwest (V) .1385  (S).1384 (D):    1\n",
      "G16HORDEM ..............................................................203 - West (V) .1265  (S).1266 (D):   -1\n",
      "G16HORDEM ........................................102 - First Ward Second Precinct (V) ..895  (S)..894 (D):    1\n",
      "G16HORDEM .........................................103 - First Ward Third Precinct (V) ..694  (S)..695 (D):   -1\n",
      "G16HORREP ........................................104 - First Ward Fourth Precinct (V) ..470  (S)..471 (D):   -1\n",
      "G16HORDEM .......................................202 - Second Ward Second Precinct (V) .1426  (S).1425 (D):    1\n",
      "G16HORDEM .......................................204 - Second Ward Fourth Precinct (V) ..332  (S)..333 (D):   -1\n",
      "G16HORREP ........................................302 - Third Ward Second Precinct (V) .3033  (S).3032 (D):    1\n",
      "G16HORREP .........................................303 - Third Ward Third Precinct (V) ..901  (S)..902 (D):   -1\n",
      "G16HORDEM ........................................304 - Third Ward Fourth Precinct (V) ..393  (S)..394 (D):   -1\n",
      "G16HORREP ........................................401 - Fourth Ward First Precinct (V) .2247  (S).2246 (D):    1\n",
      "G16HORDEM ........................................403 - Fourth Ward Third Precinct (V) ..897  (S)..896 (D):    1\n",
      "G16HORREP ........................................................101 - West Luray (V) .1441  (S).1442 (D):   -1\n",
      "G16HORDEM ........................................................101 - West Luray (V) ..590  (S)..591 (D):   -1\n",
      "G16HORDEM ........................................................201 - East Luray (V) ..613  (S)..612 (D):    1\n",
      "G16HORREP ........................................................301 - Marksville (V) .1795  (S).1794 (D):    1\n",
      "G16HORREP ...........................................................401 - Newport (V) .1386  (S).1387 (D):   -1\n",
      "G16HORREP ........................................................501 - Shenandoah (V) .1676  (S).1675 (D):    1\n",
      "G16HORREP ........................................................201 - Plantation (V) .1069  (S).1068 (D):    1\n",
      "G16HORDEM .....................................................203 - Mountain View (V) ..641  (S)..642 (D):   -1\n",
      "G16HORDEM ..........................................................205 - Orchards (V) ..668  (S)..667 (D):    1\n",
      "G16HORREP ...........................................................206 - Hollins (V) ..544  (S)..545 (D):   -1\n",
      "G16HORDEM .......................................................302 - Poages Mill (V) ..632  (S)..633 (D):   -1\n",
      "G16HORREP .....................................................303 - Windsor Hills (V) ..906  (S)..905 (D):    1\n",
      "G16HORDEM .........................................................304 - Oak Grove (V) ..808  (S)..807 (D):    1\n",
      "G16HORDEM .......................................................305 - Castle Rock (V) ..901  (S)..900 (D):    1\n",
      "G16HORREP ........................................................405 - Lindenwood (V) .2128  (S).2129 (D):   -1\n",
      "G16HORDEM ........................................................405 - Lindenwood (V) ..763  (S)..762 (D):    1\n",
      "G16HORREP .......................................................501 - Cotton Hill (V) ..934  (S)..933 (D):    1\n",
      "G16HORDEM .......................................................501 - Cotton Hill (V) ..399  (S)..400 (D):   -1\n",
      "G16HORREP .......................................................502 - Penn Forest (V) ..794  (S)..795 (D):   -1\n",
      "G16HORDEM .......................................................503 - Cave Spring (V) ..471  (S)..472 (D):   -1\n",
      "G16HORDEM .............................................................504 - Ogden (V) ..596  (S)..597 (D):   -1\n",
      "G16HORREP ........................................................505 - Clearbrook (V) ..820  (S)..819 (D):    1\n",
      "G16HORREP ......................................................506 - Mount Vernon (V) ..764  (S)..765 (D):   -1\n",
      "G16HORDEM .....................................................507 - Hunting Hills (V) ..665  (S)..664 (D):    1\n",
      "G16HORDEM .........................................................1 -Peters Creek (V) .1223  (S).1222 (D):    1\n",
      "G16HORDEM .........................................................3 -Preston Park (V) ..706  (S)..705 (D):    1\n",
      "G16HORREP .....................................................4 - Williamson Road (V) ..935  (S)..936 (D):   -1\n",
      "G16HORREP ...........................................................7 - Southeast (V) ..886  (S)..887 (D):   -1\n",
      "G16HORDEM .....................................................8 - Lincoln Terrace (V) .1058  (S).1059 (D):   -1\n",
      "G16HORDEM ...............................................10 - Old Southwest-Wasena (V) .1137  (S).1136 (D):    1\n",
      "G16HORREP ......................................................11 - Raleigh Court (V) .1028  (S).1027 (D):    1\n",
      "G16HORREP ......................................................15 - Grandin Court (V) .1020  (S).1019 (D):    1\n",
      "G16HORREP .............................................................17 - Lee-Hi (V) ..980  (S)..979 (D):    1\n",
      "G16HORDEM .............................................................17 - Lee-Hi (V) ..969  (S)..970 (D):   -1\n",
      "G16HORDEM .......................................................19 - Summit Hills (V) ..882  (S)..883 (D):   -1\n",
      "G16HORREP ........................................................21 - Eureka Park (V) ..325  (S)..326 (D):   -1\n",
      "G16HORDEM ...........................................................101 - Airport (V) ..357  (S)..356 (D):    1\n",
      "G16HORREP .........................................................102 - Ben Salem (V) ..487  (S)..486 (D):    1\n",
      "G16HORDEM ....................................................202 - Highland Belle (V) ..390  (S)..389 (D):    1\n",
      "G16HORDEM ....................................................302 - Natural Bridge (V) ..178  (S)..179 (D):   -1\n",
      "G16HORDEM .....................................................402 - Mountain View (V) ..207  (S)..208 (D):   -1\n",
      "G16HORREP ........................................................502 - Meadowview (V) ..414  (S)..415 (D):   -1\n",
      "G16HORDEM .......................................................102 - Timberville (V) ..277  (S)..278 (D):   -1\n",
      "G16HORREP ......................................................105 - Lacey Spring (V) ..680  (S)..679 (D):    1\n",
      "G16HORDEM ..............................................................202 - Edom (V) ..600  (S)..599 (D):    1\n",
      "G16HORREP ............................................................203 - Dayton (V) ..560  (S)..561 (D):   -1\n",
      "G16HORREP ................................................305 - Massanetta Springs (V) .1003  (S).1002 (D):    1\n",
      "G16HORREP .......................................................401 - Bridgewater (V) .1618  (S).1619 (D):   -1\n",
      "G16HORREP .......................................................403 - Mt Crawford (V) ..152  (S)..153 (D):   -1\n",
      "G16HORREP ............................................................501 - Elkton (V) .1020  (S).1019 (D):    1\n",
      "G16HORDEM ............................................................501 - Elkton (V) ..364  (S)..365 (D):   -1\n",
      "G16HORREP .........................................................502 - Swift Run (V) .1619  (S).1620 (D):   -1\n",
      "G16HORREP ........................................................504 - South Fork (V) ..710  (S)..709 (D):    1\n",
      "G16HORDEM .........................................................505 - Stony Run (V) ..580  (S)..579 (D):    1\n",
      "G16HORREP ....................................................101 - Orkney Springs (V) ..666  (S)..665 (D):    1\n",
      "G16HORDEM ....................................................101 - Orkney Springs (V) ..252  (S)..253 (D):   -1\n",
      "G16HORDEM ........................................................103 - New Market (V) ..589  (S)..588 (D):    1\n",
      "G16HORREP ...........................................................303 - St Luke (V) .1212  (S).1213 (D):   -1\n",
      "G16HORDEM .......................................................501 - Cedar Creek (V) ...38  (S)...39 (D):   -1\n",
      "G16HORDEM ........................................................503 - Toms Brook (V) ..496  (S)..495 (D):    1\n",
      "G16HORREP ....................................................504 - Lebanon Church (V) .1117  (S).1118 (D):   -1\n",
      "G16HORDEM ....................................................504 - Lebanon Church (V) ..303  (S)..304 (D):   -1\n",
      "G16HORREP .........................................................601 - Strasburg (V) .2119  (S).2118 (D):    1\n",
      "G16HORDEM .........................................................601 - Strasburg (V) ..923  (S)..922 (D):    1\n",
      "G16HORDEM .........................................................102 - Otterburn (V) ..543  (S)..544 (D):   -1\n",
      "G16HORREP ...................................................401 - East Shenandoah (V) .1934  (S).1933 (D):    1\n",
      "G16HORDEM ...................................................401 - East Shenandoah (V) ..613  (S)..612 (D):    1\n",
      "G16HORREP .........................................................504 - Browntown (V) ..422  (S)..423 (D):   -1\n",
      "G16HORDEM ..............................................................1 - Ward A (V) ..656  (S)..657 (D):   -1\n",
      "G16HORDEM ..............................................................2 - Ward B (V) .1016  (S).1015 (D):    1\n",
      "G16HORDEM ..............................................................3 - Ward C (V) ..753  (S)..754 (D):   -1\n",
      "G16HORDEM ..............................................................4 - Ward D (V) .1129  (S).1128 (D):    1\n",
      "G16HORREP ........................................................101 - Number One (V) ..847  (S)..848 (D):   -1\n",
      "G16HORREP .......................................................501 - Number Five (V) .1037  (S).1036 (D):    1\n",
      "G16HORREP .....................................................105 - Drewrys Bluff (V) ..765  (S)..764 (D):    1\n",
      "G16HORREP ............................................................202 - Beulah (V) ..934  (S)..933 (D):    1\n",
      "G16HORREP ............................................................204 - Jacobs (V) ..780  (S)..779 (D):    1\n",
      "G16HORDEM .......................................................208 - Meadowbrook (V) .1561  (S).1562 (D):   -1\n",
      "G16HORREP ........................................................210 - Five Forks (V) .1232  (S).1231 (D):    1\n",
      "G16HORDEM ........................................................212 - St. Luke's (V) ..592  (S)..593 (D):   -1\n",
      "G16HORREP .........................................................213 - Southside (V) ..789  (S)..788 (D):    1\n",
      "G16HORREP .............................................................307 - Cosby (V) .1961  (S).1962 (D):   -1\n",
      "G16HORREP ..................................................308 - South Manchester (V) ..447  (S)..448 (D):   -1\n",
      "G16HORREP ..........................................................310 - Tomahawk (V) .1637  (S).1638 (D):   -1\n",
      "G16HORDEM ..........................................................310 - Tomahawk (V) ..975  (S)..974 (D):    1\n",
      "G16HORREP ........................................................316 - Spring Run (V) .1591  (S).1592 (D):   -1\n",
      "G16HORREP ..........................................................317 - Birkdale (V) .1975  (S).1976 (D):   -1\n",
      "G16HORREP ............................................................402 - Genito (V) .2221  (S).2220 (D):    1\n",
      "G16HORDEM ...........................................................407 - Monacan (V) ..562  (S)..563 (D):   -1\n",
      "G16HORREP ..........................................................410 - Wagstaff (V) ..776  (S)..775 (D):    1\n",
      "G16HORDEM .......................................................411 - Swift Creek (V) .1033  (S).1032 (D):    1\n",
      "G16HORDEM ....................................................416 - Evergreen West (V) ..571  (S)..572 (D):   -1\n",
      "G16HORREP .........................................................417 - Edgewater (V) ..720  (S)..719 (D):    1\n",
      "G16HORREP .........................................................502 - Crestwood (V) ..728  (S)..727 (D):    1\n",
      "G16HORDEM .........................................................502 - Crestwood (V) ..621  (S)..622 (D):   -1\n",
      "G16HORREP ........................................................503 - Midlothian (V) .1507  (S).1508 (D):   -1\n",
      "G16HORREP .........................................................507 - Salisbury (V) .2218  (S).2217 (D):    1\n",
      "G16HORDEM ..........................................................509 - Cranbeck (V) ..887  (S)..886 (D):    1\n",
      "G16HORREP ..........................................................510 - Sycamore (V) .1709  (S).1710 (D):   -1\n",
      "G16HORREP ..........................................................513 - Beaufont (V) ..375  (S)..376 (D):   -1\n",
      "G16HORDEM ..........................................................513 - Beaufont (V) ..840  (S)..839 (D):    1\n",
      "G16HORREP ..........................................................513 - Beaufont (V) ..375  (S)..376 (D):   -1\n",
      "G16HORDEM ..........................................................513 - Beaufont (V) ..840  (S)..839 (D):    1\n",
      "G16HORREP .............................................................515 - Davis (V) ..449  (S)..450 (D):   -1\n",
      "G16HORDEM .........................................................516 - Pocoshock (V) ..955  (S)..954 (D):    1\n",
      "G16HORREP ..........................................................517 - Roseland (V) ..589  (S)..590 (D):   -1\n",
      "G16HORREP ......................................................101 - West Fairfax (V) .1560  (S).1559 (D):    1\n",
      "G16HORREP ......................................................201 - East Fairfax (V) .1173  (S).1172 (D):    1\n",
      "G16HORDEM ......................................................201 - East Fairfax (V) .1273  (S).1272 (D):    1\n",
      "G16HORREP .....................................................302 - Eggbornsville (V) .1060  (S).1061 (D):   -1\n",
      "G16HORREP ...........................................................303 - Cardova (V) ..779  (S)..780 (D):   -1\n",
      "G16HORREP ..........................................................401 - Eldorado (V) .1018  (S).1019 (D):   -1\n",
      "G16HORREP ....................................................702 - Brandy Station (V) .1308  (S).1307 (D):    1\n",
      "G16HORDEM ............................................................703 - Lignum (V) ..300  (S)..301 (D):   -1\n",
      "G16HORREP ..............................................................101 - Fife (V) ..607  (S)..606 (D):    1\n",
      "G16HORDEM ..............................................................101 - Fife (V) ..379  (S)..380 (D):   -1\n",
      "G16HORREP .......................................................102 - Hadensville (V) .1032  (S).1033 (D):   -1\n",
      "G16HORREP ........................................................202 - Sandy Hook (V) .1176  (S).1177 (D):   -1\n",
      "G16HORDEM ........................................................202 - Sandy Hook (V) ..826  (S)..825 (D):    1\n",
      "G16HORREP ......................................................401 - Shallow Well (V) ..811  (S)..810 (D):    1\n",
      "G16HORDEM ......................................................401 - Shallow Well (V) ..474  (S)..473 (D):    1\n",
      "G16HORDEM ........................................................502 - Blair Road (V) ..331  (S)..332 (D):   -1\n",
      "G16HORDEM ...........................................................101 - Coalpit (V) .1254  (S).1253 (D):    1\n",
      "G16HORDEM .........................................................102 - Dumbarton (V) .1527  (S).1526 (D):    1\n",
      "G16HORREP ..........................................................104 - Glenside (V) ..367  (S)..368 (D):   -1\n",
      "G16HORREP ..........................................................107 - Hilliard (V) ..431  (S)..432 (D):   -1\n",
      "G16HORREP .....................................................108 - Hungary Creek (V) .1625  (S).1626 (D):   -1\n",
      "G16HORDEM ...........................................................110 - Johnson (V) ..455  (S)..456 (D):   -1\n",
      "G16HORREP ............................................................112 - Longan (V) .1081  (S).1082 (D):   -1\n",
      "G16HORDEM ............................................................112 - Longan (V) .1067  (S).1068 (D):   -1\n",
      "G16HORDEM ....................................................113 - Maude Trevvett (V) ..421  (S)..422 (D):   -1\n",
      "G16HORDEM ......................................................115 - Staples Mill (V) .1212  (S).1211 (D):    1\n",
      "G16HORDEM ..........................................................117 - Westwood (V) ..787  (S)..788 (D):   -1\n",
      "G16HORDEM ...........................................................203 - Belmont (V) .1118  (S).1119 (D):   -1\n",
      "G16HORDEM .........................................................204 - Brookland (V) ..251  (S)..250 (D):    1\n",
      "G16HORREP ......................................................207 - Chamberlayne (V) ..531  (S)..530 (D):    1\n",
      "G16HORREP .........................................................210 - Greenwood (V) ..273  (S)..272 (D):    1\n",
      "G16HORDEM .........................................................210 - Greenwood (V) ..896  (S)..895 (D):    1\n",
      "G16HORWRI ........................................................212 - Hollybrook (V) ....4  (S)....5 (D):   -1\n",
      "G16HORDEM ...........................................................213 - Hungary (V) ..861  (S)..860 (D):    1\n",
      "G16HORWRI ...........................................................213 - Hungary (V) ....4  (S)....5 (D):   -1\n",
      "G16HORREP ..........................................................214 - Longdale (V) ..476  (S)..475 (D):    1\n",
      "G16HORREP ..........................................................219 - Randolph (V) ...58  (S)...59 (D):   -1\n",
      "G16HORDEM ..........................................................219 - Randolph (V) ..200  (S)..199 (D):    1\n",
      "G16HORDEM ........................................................302 - Cedarfield (V) ..754  (S)..755 (D):   -1\n",
      "G16HORREP .........................................................303 - Innsbrook (V) .1116  (S).1115 (D):    1\n",
      "G16HORWRI ......................................................305 - Nuckols Farm (V) ....4  (S)....5 (D):   -1\n",
      "G16HORREP ........................................................306 - Pocahontas (V) .1048  (S).1049 (D):   -1\n",
      "G16HORREP .......................................................308 - Rivers Edge (V) .1378  (S).1379 (D):   -1\n",
      "G16HORWRI .......................................................310 - Shady Grove (V) ...18  (S)...17 (D):    1\n",
      "G16HORWRI ........................................................311 - Short Pump (V) ...12  (S)...11 (D):    1\n",
      "G16HORREP .......................................................314 - Three Chopt (V) .1158  (S).1157 (D):    1\n",
      "G16HORREP ............................................................315 - Tucker (V) ..818  (S)..817 (D):    1\n",
      "G16HORDEM ........................................................401 - Quioccasin (V) .1050  (S).1051 (D):   -1\n",
      "G16HORDEM ........................................................403 - Derbyshire (V) ..529  (S)..528 (D):    1\n",
      "G16HORWRI ............................................................405 - Gayton (V) ...13  (S)...12 (D):    1\n",
      "G16HORREP ............................................................406 - Godwin (V) .1006  (S).1007 (D):   -1\n",
      "G16HORREP ..........................................................409 - Maybeury (V) .1148  (S).1147 (D):    1\n",
      "G16HORREP .........................................................411 - Pemberton (V) ..777  (S)..776 (D):    1\n",
      "G16HORDEM .........................................................412 - Pinchbeck (V) .1101  (S).1102 (D):   -1\n",
      "G16HORDEM ..........................................................415 - Skipwith (V) ..617  (S)..616 (D):    1\n",
      "G16HORREP ........................................................416 - Spottswood (V) ..490  (S)..489 (D):    1\n",
      "G16HORDEM ..........................................................417 - Tuckahoe (V) ..832  (S)..833 (D):   -1\n",
      "G16HORREP ..........................................................418 - Welborne (V) ..675  (S)..676 (D):   -1\n",
      "G16HORDEM .........................................................201 - Louisa #1 (V) ..408  (S)..409 (D):   -1\n",
      "G16HORDEM ................................................301 - Patrick Henry No 1 (V) .1047  (S).1046 (D):    1\n",
      "G16HORREP ...........................................................401 - Mineral (V) .1246  (S).1245 (D):    1\n",
      "G16HORREP ............................................................502 - Cuckoo (V) ..630  (S)..631 (D):   -1\n",
      "G16HORDEM ............................................................502 - Cuckoo (V) ..328  (S)..329 (D):   -1\n",
      "G16HORDEM .....................................................701 - Sheltons Mill (V) ..414  (S)..413 (D):    1\n",
      "G16HORDEM ........................................................301 - Three West (V) ..889  (S)..888 (D):    1\n",
      "G16HORREP .........................................................401 - Four West (V) .1306  (S).1307 (D):   -1\n",
      "G16HORREP ........................................................501 - Five South (V) .1202  (S).1201 (D):    1\n",
      "G16HORDEM ........................................................502 - Five North (V) ..735  (S)..736 (D):   -1\n",
      "G16HORREP ..........................................................101 - Subletts (V) .1503  (S).1504 (D):   -1\n",
      "G16HORREP ..................................................201 - Powhatan Station (V) .1210  (S).1211 (D):   -1\n",
      "G16HORDEM ..........................................................301 - Bethesda (V) ..396  (S)..397 (D):   -1\n",
      "G16HORREP .....................................................302 - Lee's Landing (V) ..917  (S)..916 (D):    1\n",
      "G16HORREP ...............................................401 - Powhatan Courthouse (V) .1901  (S).1900 (D):    1\n",
      "G16HORDEM ...............................................401 - Powhatan Courthouse (V) ..512  (S)..511 (D):    1\n",
      "G16HORDEM .................................................501 - Smith Cross Roads (V) ..523  (S)..522 (D):    1\n",
      "G16HORDEM .........................................................502 - Pineville (V) ..274  (S)..275 (D):   -1\n",
      "G16HORREP ...........................................................101 - Partlow (V) .1331  (S).1332 (D):   -1\n",
      "G16HORDEM ....................................................103 - Travelers Rest (V) ..872  (S)..873 (D):   -1\n",
      "G16HORREP ........................................................301 - Plank Road (V) .1531  (S).1532 (D):   -1\n",
      "G16HORDEM .........................................................302 - Hazel Run (V) .1229  (S).1228 (D):    1\n",
      "G16HORREP .........................................................303 - Riverbend (V) .1932  (S).1931 (D):    1\n",
      "G16HORDEM ........................................................504 - Courthouse (V) ..785  (S)..786 (D):   -1\n",
      "G16HORREP .............................................................505 - Brock (V) .1686  (S).1685 (D):    1\n",
      "G16HORREP .............................................................601 - Salem (V) .1514  (S).1515 (D):   -1\n",
      "G16HORREP .....................................................602 - Smith Station (V) .1895  (S).1894 (D):    1\n",
      "G16HORDEM .....................................................602 - Smith Station (V) .1645  (S).1644 (D):    1\n",
      "G16HORREP ............................................101 - Ladrey Senior Building (V) ..565  (S)..564 (D):    1\n",
      "G16HORREP .....................................................104 - Durant Center (V) ..569  (S)..568 (D):    1\n",
      "G16HORDEM .....................................................104 - Durant Center (V) .1629  (S).1628 (D):    1\n",
      "G16HORREP ........................................................105 - Lee Center (V) ..865  (S)..864 (D):    1\n",
      "G16HORIND ........................................................105 - Lee Center (V) ..107  (S)..108 (D):   -1\n",
      "G16HORDEM .................................................106 - Cora Kelly Center (V) .2852  (S).2853 (D):   -1\n",
      "G16HORIND .................................................106 - Cora Kelly Center (V) ..155  (S)..154 (D):    1\n",
      "G16HORDEM ......................................108 - George Washington Middle Sch (V) .2776  (S).2777 (D):   -1\n",
      "G16HORDEM ......................................................201 - Maury School (V) .1716  (S).1715 (D):    1\n",
      "G16HORREP ...............................................202 - George Mason School (V) ..779  (S)..780 (D):   -1\n",
      "G16HORREP ............................................203 - Agudas Achim Synagogue (V) ..565  (S)..564 (D):    1\n",
      "G16HORIND ..........................................204 - Blessed Sacrament Church (V) ...52  (S)...53 (D):   -1\n",
      "G16HORDEM ..........................................205 - Douglas Macarthur School (V) .1993  (S).1994 (D):   -1\n",
      "G16HORDEM ..................................................208 - Nova Arts Center (V) .2131  (S).2132 (D):   -1\n",
      "G16HORREP .....................................................210 - The Hermitage (V) ..454  (S)..455 (D):   -1\n",
      "G16HORREP ..........................................302 - Patrick Henry Rec Center (V) ..457  (S)..458 (D):   -1\n",
      "G16HORDEM ..........................................302 - Patrick Henry Rec Center (V) .1741  (S).1740 (D):    1\n",
      "G16HORIND ..............................................304 - Samuel Tucker School (V) ..184  (S)..183 (D):    1\n",
      "G16HORREP ........................................................307 - South Port (V) ..474  (S)..475 (D):   -1\n",
      "G16HORDEM .....................................308 - Cameron Station Community Ctr (V) .1770  (S).1769 (D):    1\n",
      "G16HORREP ...........................................................1 - Arlington (V) ..340  (S)..339 (D):    1\n",
      "G16HORREP ............................................................5 - Barcroft (V) ..466  (S)..465 (D):    1\n",
      "G16HORIND ............................................................5 - Barcroft (V) ..113  (S)..114 (D):   -1\n",
      "G16HORREP ................................................................8 - Hume (V) ..780  (S)..781 (D):   -1\n",
      "G16HORIND .............................................................10 - Wilson (V) ..125  (S)..124 (D):    1\n",
      "G16HORDEM ..................................................11 - East Falls Church (V) .1108  (S).1109 (D):   -1\n",
      "G16HORDEM ........................................................12 - Fairlington (V) .1698  (S).1699 (D):   -1\n",
      "G16HORDEM ........................................................13 - Glen Carlyn (V) .1296  (S).1295 (D):    1\n",
      "G16HORDEM .......................................................16 - Lyon Village (V) .1672  (S).1673 (D):   -1\n",
      "G16HORREP ............................................................19 - Rosslyn (V) ..690  (S)..691 (D):   -1\n",
      "G16HORIND .................................................21 - Virginia Highlands (V) ..133  (S)..132 (D):    1\n",
      "G16HORREP ...................................................25 - Arlington Forest (V) ..470  (S)..469 (D):    1\n",
      "G16HORDEM ...........................................................26 - Fillmore (V) .2474  (S).2475 (D):   -1\n",
      "G16HORIND ...........................................................26 - Fillmore (V) ..161  (S)..160 (D):    1\n",
      "G16HORIND ..........................................................27 - Jefferson (V) ..102  (S)..103 (D):   -1\n",
      "G16HORDEM ..........................................................28 - Claremont (V) .2278  (S).2277 (D):    1\n",
      "G16HORIND ..............................................................30 - Glebe (V) ..133  (S)..132 (D):    1\n",
      "G16HORDEM ............................................................35 - Madison (V) .1267  (S).1266 (D):    1\n",
      "G16HORDEM ...........................................................36 - Marshall (V) .1669  (S).1670 (D):   -1\n",
      "G16HORIND .....................................................38 - Arlington View (V) ..121  (S)..120 (D):    1\n",
      "G16HORREP ............................................................39 - Ashlawn (V) ..375  (S)..374 (D):    1\n",
      "G16HORREP ....................................................40 - Virginia Square (V) ..852  (S)..853 (D):   -1\n",
      "G16HORDEM ....................................................40 - Virginia Square (V) .1956  (S).1955 (D):    1\n",
      "G16HORIND .....................................................43 - Arlington Mill (V) ..117  (S)..118 (D):   -1\n",
      "G16HORREP ............................................................46 - Central (V) ..861  (S)..862 (D):   -1\n",
      "G16HORIND ............................................................46 - Central (V) ...98  (S)...99 (D):   -1\n",
      "G16HORDEM .........................................................48 - Courtlands (V) .1183  (S).1182 (D):    1\n",
      "G16HORDEM .............................................................49 - Monroe (V) .1096  (S).1097 (D):   -1\n",
      "G16HORDEM .............................................................51 - Taylor (V) ..546  (S)..545 (D):    1\n",
      "G16HORIND ............................................................52 - Gunston (V) ...90  (S)...91 (D):   -1\n",
      "G16HORDEM ......................................................302 - Chesterbrook (V) .1083  (S).1082 (D):    1\n",
      "G16HORDEM ...........................................................305 - El Nido (V) ..993  (S)..994 (D):   -1\n",
      "G16HORDEM ...........................................................307 - Haycock (V) .1147  (S).1146 (D):    1\n",
      "G16HORREP .............................................................310 - Kirby (V) ..533  (S)..532 (D):    1\n",
      "G16HORDEM .............................................................310 - Kirby (V) ..891  (S)..892 (D):   -1\n",
      "G16HORIND .............................................................310 - Kirby (V) ...41  (S)...42 (D):   -1\n",
      "G16HORDEM ........................................................312 - Longfellow (V) .1121  (S).1120 (D):    1\n",
      "G16HORDEM ............................................................315 - Pimmit (V) .1625  (S).1626 (D):   -1\n",
      "G16HORIND ............................................................315 - Pimmit (V) ..150  (S)..149 (D):    1\n",
      "G16HORDEM .........................................................316 - Salona #1 (V) ..369  (S)..368 (D):    1\n",
      "G16HORREP .......................................................317 - Westhampton (V) ..586  (S)..585 (D):    1\n",
      "G16HORREP ......................................................318 - Westmoreland (V) ..423  (S)..424 (D):   -1\n",
      "G16HORREP .........................................................333 - Salona #2 (V) ..476  (S)..475 (D):    1\n",
      "G16HORREP .........................................................404 - Franconia (V) ..759  (S)..760 (D):   -1\n",
      "G16HORREP ..........................................................405 - Groveton (V) ..329  (S)..330 (D):   -1\n",
      "G16HORIND ...........................................................409 - Pioneer (V) ..166  (S)..165 (D):    1\n",
      "G16HORIND ....................................................411 - Virginia Hills (V) ...92  (S)...93 (D):   -1\n",
      "G16HORWRI ..........................................................417 - Garfield (V) ...20  (S)...19 (D):    1\n",
      "G16HORIND ..........................................................418 - Lynbrook (V) ..105  (S)..106 (D):   -1\n",
      "G16HORIND ..............................................................419 - Lane (V) ..112  (S)..113 (D):   -1\n",
      "G16HORREP ..........................................................423 - Clermont (V) ..759  (S)..760 (D):   -1\n",
      "G16HORREP ......................................................427 - Island Creek (V) ..644  (S)..643 (D):    1\n",
      "G16HORREP ......................................................429 - Hybla Valley (V) ..339  (S)..340 (D):   -1\n",
      "G16HORDEM ......................................................429 - Hybla Valley (V) .1983  (S).1984 (D):   -1\n",
      "G16HORDEM ...........................................................501 - Baileys (V) .1783  (S).1782 (D):    1\n",
      "G16HORREP .......................................................505 - Glen Forest (V) ..518  (S)..517 (D):    1\n",
      "G16HORIND .......................................................505 - Glen Forest (V) ..143  (S)..142 (D):    1\n",
      "G16HORDEM .........................................................506 - Holmes #1 (V) ..344  (S)..345 (D):   -1\n",
      "G16HORDEM ......................................................513 - Saint Albans (V) ..421  (S)..420 (D):    1\n",
      "G16HORDEM ..........................................................515 - Westlawn (V) ..954  (S)..955 (D):   -1\n",
      "G16HORDEM ..........................................................517 - Willston (V) .1001  (S).1002 (D):   -1\n",
      "G16HORDEM ...........................................................520 - Skyline (V) .1394  (S).1395 (D):   -1\n",
      "G16HORIND ...........................................................520 - Skyline (V) ...73  (S)...74 (D):   -1\n",
      "G16HORIND ...............................................................523 - Poe (V) ...86  (S)...87 (D):   -1\n",
      "G16HORREP ..........................................................526 - Bren Mar (V) ..628  (S)..627 (D):    1\n",
      "G16HORREP ............................................................527 - Edsall (V) ..496  (S)..495 (D):    1\n",
      "G16HORDEM .......................................................601 - Belle Haven (V) ..994  (S)..995 (D):   -1\n",
      "G16HORDEM .........................................................602 - Belleview (V) .1134  (S).1133 (D):    1\n",
      "G16HORDEM ..........................................................604 - Bucknell (V) .1877  (S).1876 (D):    1\n",
      "G16HORDEM .......................................................606 - Hollin Hall (V) .1194  (S).1193 (D):    1\n",
      "G16HORIND ........................................................607 - Huntington (V) ..148  (S)..147 (D):    1\n",
      "G16HORREP ..........................................................608 - Kirkside (V) ..393  (S)..394 (D):   -1\n",
      "G16HORDEM ..........................................................608 - Kirkside (V) .1070  (S).1069 (D):    1\n",
      "G16HORDEM ............................................................609 - Marlan (V) ..951  (S)..952 (D):   -1\n",
      "G16HORIND ............................................................609 - Marlan (V) ...54  (S)...55 (D):   -1\n",
      "G16HORREP ..........................................................610 - Sherwood (V) ..409  (S)..410 (D):   -1\n",
      "G16HORDEM ..........................................................610 - Sherwood (V) .1065  (S).1064 (D):    1\n",
      "G16HORDEM .........................................................611 - Stratford (V) .1198  (S).1197 (D):    1\n",
      "G16HORDEM ...........................................................616 - Gunston (V) .1006  (S).1007 (D):   -1\n",
      "G16HORREP .........................................................621 - Grosvenor (V) ..480  (S)..479 (D):    1\n",
      "G16HORIND .........................................................621 - Grosvenor (V) ..112  (S)..113 (D):   -1\n",
      "G16HORDEM .............................................................623 - Alban (V) .1544  (S).1545 (D):   -1\n",
      "G16HORREP .....................................................625 - Lorton Center (V) ..502  (S)..501 (D):    1\n",
      "G16HORWRI .....................................................625 - Lorton Center (V) ....2  (S)....3 (D):   -1\n",
      "G16HORIND ..........................................................626 - Saratoga (V) ..136  (S)..135 (D):    1\n",
      "G16HORIND ..........................................................627 - Woodlawn (V) ..188  (S)..187 (D):    1\n",
      "G16HORREP ......................................................703 - Fort Buffalo (V) ..419  (S)..420 (D):   -1\n",
      "G16HORIND .................................................705 - Graham - Greenway (V) ..156  (S)..155 (D):    1\n",
      "G16HORREP ..........................................................708 - Marshall (V) ..980  (S)..981 (D):   -1\n",
      "G16HORDEM ............................................................712 - Shreve (V) ..822  (S)..823 (D):   -1\n",
      "G16HORDEM .......................................................713 - Timber Lane (V) .1685  (S).1684 (D):    1\n",
      "G16HORIND ..........................................................726 - Magarity (V) ..128  (S)..127 (D):    1\n",
      "G16HORREP ..........................................................1 - First Ward (V) ..588  (S)..589 (D):   -1\n",
      "G16HORIND ..........................................................1 - First Ward (V) ..139  (S)..138 (D):    1\n",
      "G16HORIND .........................................................2 - Second Ward (V) ...84  (S)...85 (D):   -1\n",
      "G16HORREP ..........................................................3 - Third Ward (V) ..618  (S)..617 (D):    1\n",
      "G16HORREP .........................................................202 - Dolly Ann (V) ..403  (S)..404 (D):   -1\n",
      "G16HORDEM .........................................................202 - Dolly Ann (V) ..137  (S)..138 (D):   -1\n",
      "G16HORREP .....................................................502 - Peters Switch (V) ..614  (S)..613 (D):    1\n",
      "G16HORDEM ........................................................601 - District 1 (V) ..375  (S)..374 (D):    1\n",
      "G16HORREP ...........................................................101 - Bastian (V) ..301  (S)..302 (D):   -1\n",
      "G16HORREP .........................................................401 - Rocky Gap (V) ..616  (S)..615 (D):    1\n",
      "G16HORREP ..........................................................1 - First Ward (V) ..814  (S)..813 (D):    1\n",
      "G16HORIND ..........................................................1 - First Ward (V) ...43  (S)...44 (D):   -1\n",
      "G16HORDEM .........................................................2 - Second Ward (V) ..524  (S)..523 (D):    1\n",
      "G16HORDEM ..........................................................3 - Third Ward (V) ..415  (S)..416 (D):   -1\n",
      "G16HORREP .........................................................4 - Fourth Ward (V) .2069  (S).2070 (D):   -1\n",
      "G16HORIND .........................................................4 - Fourth Ward (V) ...67  (S)...66 (D):    1\n",
      "G16HORREP .........................................................4 - Fourth Ward (V) .2069  (S).2070 (D):   -1\n",
      "G16HORIND .........................................................4 - Fourth Ward (V) ...67  (S)...66 (D):    1\n",
      "G16HORREP ............................................................103 - Hurley (V) ..749  (S)..748 (D):    1\n",
      "G16HORREP ............................................................201 - Grassy (V) ...67  (S)...68 (D):   -1\n",
      "G16HORDEM ............................................................501 - Prater (V) ..224  (S)..223 (D):    1\n",
      "G16HORDEM ............................................................602 - Garden (V) ..156  (S)..157 (D):   -1\n",
      "G16HORREP ...........................................................102 - St Paul (V) ..638  (S)..637 (D):    1\n",
      "G16HORDEM ......................................................201 - Hillsville B (V) ..354  (S)..353 (D):    1\n",
      "G16HORREP .......................................................202 - Laurel Fork (V) ..393  (S)..394 (D):   -1\n",
      "G16HORIND ......................................................301 - Hillsville C (V) ...63  (S)...62 (D):    1\n",
      "G16HORDEM ........................................................402 - Woodlawn D (V) ..270  (S)..271 (D):   -1\n",
      "G16HORIND ........................................................402 - Woodlawn D (V) ...38  (S)...39 (D):   -1\n",
      "G16HORREP .........................................................405 - Oakland A (V) ..439  (S)..440 (D):   -1\n",
      "G16HORREP ...........................................................501 - Vaughan (V) ..331  (S)..332 (D):   -1\n",
      "G16HORREP ........................................................502 - Gladeville (V) ..835  (S)..834 (D):    1\n",
      "G16HORREP ............................................................504 - Laurel (V) ..518  (S)..517 (D):    1\n",
      "G16HORREP ......................................................101 - Locust Grove (V) .1125  (S).1124 (D):    1\n",
      "G16HORREP ........................................................301 - Courthouse (V) ..889  (S)..890 (D):   -1\n",
      "G16HORREP ................................................................1 - East (V) ..667  (S)..666 (D):    1\n",
      "G16HORREP ...............................................................3 - South (V) ..392  (S)..393 (D):   -1\n",
      "G16HORDEM ...........................................................103 - Narrows (V) ..349  (S)..350 (D):   -1\n",
      "G16HORDEM ........................................................201 - Pearisburg (V) ..411  (S)..410 (D):    1\n",
      "G16HORREP ................................................501 - Bassett Number One (V) ..367  (S)..368 (D):   -1\n",
      "G16HORREP .......................................................503 - Stanleytown (V) .1097  (S).1096 (D):    1\n",
      "G16HORREP .........................................................2 - Precinct #2 (V) ..500  (S)..501 (D):   -1\n",
      "G16HORDEM .........................................................4 - Precinct #4 (V) ..706  (S)..705 (D):    1\n",
      "G16HORREP .........................................................5 - Precinct #5 (V) .1092  (S).1091 (D):    1\n",
      "G16HORDEM .........................................................5 - Precinct #5 (V) ..463  (S)..464 (D):   -1\n",
      "G16HORDEM ......................................................102 - Precinct A-2 (V) .1232  (S).1231 (D):    1\n",
      "G16HORREP ......................................................202 - Precinct B-2 (V) .1317  (S).1316 (D):    1\n",
      "G16HORDEM ......................................................203 - Precinct B-3 (V) ..542  (S)..543 (D):   -1\n",
      "G16HORREP ......................................................204 - Precinct B-4 (V) .1523  (S).1522 (D):    1\n",
      "G16HORDEM ......................................................204 - Precinct B-4 (V) .1112  (S).1113 (D):   -1\n",
      "G16HORREP ......................................................301 - Precinct C-1 (V) .1371  (S).1370 (D):    1\n",
      "G16HORREP ......................................................303 - Precinct C-3 (V) ..464  (S)..465 (D):   -1\n",
      "G16HORDEM ......................................................401 - Precinct D-1 (V) ..387  (S)..388 (D):   -1\n",
      "G16HORREP ......................................................402 - Precinct D-2 (V) .1284  (S).1283 (D):    1\n",
      "G16HORREP ......................................................501 - Precinct E-1 (V) .1045  (S).1046 (D):   -1\n",
      "G16HORREP ......................................................601 - Precinct F-1 (V) ..847  (S)..848 (D):   -1\n",
      "G16HORDEM ......................................................602 - Precinct F-2 (V) .1359  (S).1358 (D):    1\n",
      "G16HORDEM ......................................................701 - Precinct G-1 (V) .1668  (S).1667 (D):    1\n",
      "G16HORREP ......................................................702 - Precinct G-2 (V) ..663  (S)..664 (D):   -1\n",
      "G16HORDEM .........................................................102 - New River (V) ..683  (S)..682 (D):    1\n",
      "G16HORREP ........................................................103 - West Cloyd (V) ..741  (S)..740 (D):    1\n",
      "G16HORDEM ............................................................301 - Dublin (V) ..423  (S)..424 (D):   -1\n",
      "G16HORREP .........................................................304 - Snowville (V) ..704  (S)..705 (D):   -1\n",
      "G16HORREP .........................................................104 - Northside (V) ..706  (S)..707 (D):   -1\n",
      "G16HORREP ......................................................105 - Peters Creek (V) .1593  (S).1592 (D):    1\n",
      "G16HORDEM ......................................................105 - Peters Creek (V) ..684  (S)..683 (D):    1\n",
      "G16HORDEM ...................................................107 - Bennett Springs (V) ..152  (S)..153 (D):   -1\n",
      "G16HORDEM ......................................................102 - Copper Creek (V) ..165  (S)..166 (D):   -1\n",
      "G16HORREP .............................................................202 - Dante (V) ..203  (S)..204 (D):   -1\n",
      "G16HORREP ......................................................402 - Swords Creek (V) .1041  (S).1040 (D):    1\n",
      "G16HORREP ......................................................501 - West Lebanon (V) .1285  (S).1284 (D):    1\n",
      "G16HORDEM ......................................................501 - West Lebanon (V) ..547  (S)..546 (D):    1\n",
      "G16HORREP ......................................................601 - East Lebanon (V) ..775  (S)..776 (D):   -1\n",
      "G16HORREP ........................................................101 - Weber City (V) ..547  (S)..546 (D):    1\n",
      "G16HORREP ..............................................................102 - Yuma (V) ..724  (S)..723 (D):    1\n",
      "G16HORREP ...................................................202 - Weber City East (V) ..456  (S)..457 (D):   -1\n",
      "G16HORREP ......................................................301 - Nickelsville (V) ..502  (S)..501 (D):    1\n",
      "G16HORREP .........................................................302 - Snowflake (V) ..404  (S)..405 (D):   -1\n",
      "G16HORREP ..........................................................504 - Rye Cove (V) ..455  (S)..456 (D):   -1\n",
      "G16HORDEM .........................................................101 - Saltville (V) ..496  (S)..495 (D):    1\n",
      "G16HORDEM .......................................................202 - Rich Valley (V) ..172  (S)..173 (D):   -1\n",
      "G16HORREP .........................................................301 - Chilhowie (V) .1185  (S).1184 (D):    1\n",
      "G16HORREP ............................................................501 - Atkins (V) ..874  (S)..875 (D):   -1\n",
      "G16HORDEM ....................................................601 - Royal Oak East (V) ..278  (S)..277 (D):    1\n",
      "G16HORREP ...........................................................701 - Adwolfe (V) ..970  (S)..969 (D):    1\n",
      "G16HORDEM ...........................................................701 - Adwolfe (V) ..183  (S)..184 (D):   -1\n",
      "G16HORREP .......................................................702 - Sugar Grove (V) ..517  (S)..518 (D):   -1\n",
      "G16HORREP ........................................................103 - Boissevain (V) ..188  (S)..189 (D):   -1\n",
      "G16HORREP .....................................................305 - Pounding Mill (V) ..526  (S)..525 (D):    1\n",
      "G16HORDEM .....................................................101 - East Abingdon (V) ..695  (S)..694 (D):    1\n",
      "G16HORREP .....................................................102 - West Abingdon (V) ..789  (S)..788 (D):    1\n",
      "G16HORDEM ......................................................204 Woodland Hills (V) ..292  (S)..293 (D):   -1\n",
      "G16HORREP ...........................................................301 - Watauga (V) .1487  (S).1488 (D):   -1\n",
      "G16HORDEM ...........................................................301 - Watauga (V) ..466  (S)..465 (D):    1\n",
      "G16HORDEM ....................................................302 - South Abingdon (V) ..593  (S)..592 (D):    1\n",
      "G16HORDEM ..........................................................502 - Damascus (V) ..315  (S)..316 (D):   -1\n",
      "G16HORREP ...........................................................602 - Mendota (V) ..295  (S)..296 (D):   -1\n",
      "G16HORREP ..................................................603 - Valley Institute (V) .1057  (S).1056 (D):    1\n",
      "G16HORDEM ........................................................701 - High Point (V) ..226  (S)..227 (D):   -1\n",
      "G16HORREP ....................................................302 - East Stone Gap (V) .1438  (S).1437 (D):    1\n",
      "G16HORREP .....................................................402 - South Coeburn (V) .1314  (S).1315 (D):   -1\n",
      "G16HORREP .....................................................102 - Rural Retreat (V) .1305  (S).1306 (D):   -1\n",
      "G16HORDEM .....................................................102 - Rural Retreat (V) ..316  (S)..315 (D):    1\n",
      "G16HORREP ...................................................203 - West Wytheville (V) .1360  (S).1359 (D):    1\n",
      "G16HORDEM ...................................................303 - East Wytheville (V) ..612  (S)..613 (D):   -1\n",
      "G16HORDEM .....................................................401 - Fort Chiswell (V) ..227  (S)..226 (D):    1\n",
      "G16HORDEM ...........................................................502 - Sheffey (V) ..198  (S)..199 (D):   -1\n",
      "G16HORREP ........................................................401 - White Post (V) ..975  (S)..974 (D):    1\n",
      "G16HORREP ........................................................502 - Blue Ridge (V) ..273  (S)..274 (D):   -1\n",
      "G16HORWRI ..........................................................229 - Fox Mill (V) ...25  (S)...24 (D):    1\n",
      "G16HORREP ......................................................301 - Chain Bridge (V) .1158  (S).1159 (D):   -1\n",
      "G16HORDEM ......................................................301 - Chain Bridge (V) .1102  (S).1103 (D):   -1\n",
      "G16HORREP .........................................................303 - Churchill (V) ..562  (S)..561 (D):    1\n",
      "G16HORREP ............................................................304 - Cooper (V) ..844  (S)..843 (D):    1\n",
      "G16HORDEM ...........................................................309 - Kenmore (V) .1197  (S).1198 (D):   -1\n",
      "G16HORREP ...........................................................311 - Langley (V) ..797  (S)..796 (D):    1\n",
      "G16HORREP .........................................................321 - Clearview (V) .1582  (S).1581 (D):    1\n",
      "G16HORDEM .........................................................327 - Sugarland (V) .1618  (S).1617 (D):    1\n",
      "G16HORDEM ...........................................................803 - Clifton (V) .1285  (S).1286 (D):   -1\n",
      "G16HORDEM ..........................................................815 - Woodyard (V) ..930  (S)..931 (D):   -1\n",
      "G16HORWRI .......................................................839 - Silverbrook (V) ...17  (S)...18 (D):   -1\n",
      "G16HORDEM .....................................................849 - Newgate North (V) ..766  (S)..765 (D):    1\n",
      "G16HORDEM ..........................................................905 - Franklin (V) ..464  (S)..463 (D):    1\n",
      "G16HORREP ..............................................................911 - Navy (V) .1272  (S).1273 (D):   -1\n",
      "G16HORDEM ..............................................................911 - Navy (V) .1477  (S).1476 (D):    1\n",
      "G16HORREP ......................................................915 - Virginia Run (V) .1365  (S).1366 (D):   -1\n",
      "G16HORREP .........................................................921 - Deer Park (V) .1365  (S).1366 (D):   -1\n",
      "G16HORREP ..........................................................925 - Old Mill (V) ..703  (S)..702 (D):    1\n",
      "G16HORREP .....................................................929 - Difficult Run (V) ..318  (S)..319 (D):   -1\n",
      "G16HORREP ..............................................................102 - Gore (V) .1481  (S).1480 (D):    1\n",
      "G16HORDEM .........................................................103 - Kernstown (V) ..591  (S)..590 (D):    1\n",
      "G16HORREP .......................................................104 - Cedar Creek (V) ..916  (S)..917 (D):   -1\n",
      "G16HORDEM .......................................................104 - Cedar Creek (V) ..355  (S)..356 (D):   -1\n",
      "G16HORREP .....................................................201 - Gainesborough (V) ..916  (S)..917 (D):   -1\n",
      "G16HORDEM .....................................................201 - Gainesborough (V) ..216  (S)..217 (D):   -1\n",
      "G16HORDEM .............................................................202 - Albin (V) ..437  (S)..438 (D):   -1\n",
      "G16HORREP ...........................................................203 - Redland (V) .1652  (S).1651 (D):    1\n",
      "G16HORDEM ..............................................................204 - Nain (V) ..452  (S)..453 (D):   -1\n",
      "G16HORREP .......................................................301 - Clear Brook (V) ..905  (S)..906 (D):   -1\n",
      "G16HORREP ....................................................401 - Carpers Valley (V) .1373  (S).1372 (D):    1\n",
      "G16HORREP ........................................................402 - Shenandoah (V) ..719  (S)..720 (D):   -1\n",
      "G16HORDEM .....................................................403 - Parkin's Mill (V) ..580  (S)..579 (D):    1\n",
      "G16HORDEM .....................................................501 - Stephens City (V) ..651  (S)..650 (D):    1\n",
      "G16HORDEM ........................................................503 - Canterburg (V) ..681  (S)..680 (D):    1\n",
      "G16HORREP .........................................................601 - Millbrook (V) ..966  (S)..965 (D):    1\n",
      "G16HORDEM .........................................................601 - Millbrook (V) ..467  (S)..468 (D):   -1\n",
      "G16HORDEM ........................................................602 - Ash Hollow (V) ..721  (S)..720 (D):    1\n",
      "G16HORREP ............................................................117 - Carter (V) ..407  (S)..408 (D):   -1\n",
      "G16HORREP ............................................................119 - Arcola (V) .1665  (S).1666 (D):   -1\n",
      "G16HORDEM .........................................................121 - Town Hall (V) ..667  (S)..666 (D):    1\n",
      "G16HORREP ....................................................122 - Hutchison Farm (V) .1183  (S).1184 (D):   -1\n",
      "G16HORREP ....................................................123 - Cardinal Ridge (V) ..747  (S)..746 (D):    1\n",
      "G16HORDEM ........................................................125 - Rock Ridge (V) .1067  (S).1068 (D):   -1\n",
      "G16HORREP .....................................................209 - Potomac Falls (V) ..969  (S)..968 (D):    1\n",
      "G16HORDEM .....................................................209 - Potomac Falls (V) .1121  (S).1122 (D):   -1\n",
      "G16HORDEM .......................................................213 - Countryside (V) ..505  (S)..504 (D):    1\n",
      "G16HORDEM ...................................................214 - Sugarland North (V) .1273  (S).1274 (D):   -1\n",
      "G16HORDEM .........................................................305 - Philomont (V) ..381  (S)..382 (D):   -1\n",
      "G16HORDEM .......................................................312 - Briar Woods (V) .1175  (S).1176 (D):   -1\n",
      "G16HORDEM .........................................................313 - Pinebrook (V) .2295  (S).2296 (D):   -1\n",
      "G16HORDEM ...................................................318 - Madison's Trust (V) ..657  (S)..656 (D):    1\n",
      "G16HORREP .................................................401 - West Lovettsville (V) .1652  (S).1653 (D):   -1\n",
      "G16HORREP .......................................................407 - Harper Park (V) ..716  (S)..715 (D):    1\n",
      "G16HORDEM .......................................................407 - Harper Park (V) ..673  (S)..672 (D):    1\n",
      "G16HORDEM .................................................411 - East Lovettsville (V) ..672  (S)..671 (D):    1\n",
      "G16HORREP .....................................................419 - J. L. Simpson (V) .1398  (S).1399 (D):   -1\n",
      "G16HORDEM .....................................................419 - J. L. Simpson (V) ..732  (S)..731 (D):    1\n",
      "G16HORDEM .....................................................501 - West Leesburg (V) .1083  (S).1084 (D):   -1\n",
      "G16HORDEM .......................................................504 - Smarts Mill (V) .1094  (S).1095 (D):   -1\n",
      "G16HORDEM .......................................................505 - Cool Spring (V) .1094  (S).1095 (D):   -1\n",
      "G16HORREP .......................................................508 - Balls Bluff (V) .1221  (S).1222 (D):   -1\n",
      "G16HORDEM ...........................................................509 - Tolbert (V) .1493  (S).1492 (D):    1\n",
      "G16HORDEM ..........................................................510 - Heritage (V) ..603  (S)..602 (D):    1\n",
      "G16HORDEM .........................................................617 - Oak Grove (V) ..705  (S)..704 (D):    1\n",
      "G16HORDEM ....................................................620 - Russell Branch (V) .1305  (S).1306 (D):   -1\n",
      "G16HORDEM ....................................................621 - Dominion Trail (V) .1451  (S).1450 (D):    1\n",
      "G16HORREP ..................................................622 - Farmwell Station (V) ..950  (S)..949 (D):    1\n",
      "G16HORDEM ..................................................622 - Farmwell Station (V) .1412  (S).1411 (D):    1\n",
      "G16HORREP .......................................................626 - Ashby Ponds (V) ..490  (S)..491 (D):   -1\n",
      "G16HORDEM .......................................................626 - Ashby Ponds (V) ..451  (S)..452 (D):   -1\n",
      "G16HORREP ................................................628 - Moorefield Station (V) ..944  (S)..943 (D):    1\n",
      "G16HORDEM ................................................628 - Moorefield Station (V) .1278  (S).1279 (D):   -1\n",
      "G16HORREP .........................................................702 - Park View (V) ..710  (S)..709 (D):    1\n",
      "G16HORDEM .....................................................815 - Belmont Ridge (V) ..938  (S)..937 (D):    1\n",
      "G16HORREP ...................................................819 - Heritage Church (V) ..950  (S)..949 (D):    1\n",
      "G16HORDEM ................................................................1 - Dean (V) .1752  (S).1753 (D):   -1\n",
      "G16HORDEM .............................................................5 - Baldwin (V) .1794  (S).1793 (D):    1\n",
      "G16HORDEM ........................................................1 - Precinct One (V) .1090  (S).1089 (D):    1\n",
      "G16HORDEM ........................................................2 - Precinct Two (V) ..970  (S)..971 (D):   -1\n",
      "G16HORREP ....................................................110 - Buckland Mills (V) ..686  (S)..687 (D):   -1\n",
      "G16HORDEM .........................................................401 - Evergreen (V) ..871  (S)..872 (D):   -1\n",
      "G16HORREP .......................................................402 - Battlefield (V) .1543  (S).1542 (D):    1\n",
      "G16HORDEM .......................................................402 - Battlefield (V) ..779  (S)..780 (D):   -1\n",
      "G16HORREP ..........................................................403 - Bull Run (V) .1069  (S).1070 (D):   -1\n",
      "G16HORDEM ..........................................................403 - Bull Run (V) ..949  (S)..948 (D):    1\n",
      "G16HORDEM .............................................................406 - Alvey (V) ..290  (S)..289 (D):    1\n",
      "G16HORREP .............................................................409 - Tyler (V) .1399  (S).1398 (D):    1\n",
      "G16HORDEM .............................................................409 - Tyler (V) .1467  (S).1468 (D):   -1\n",
      "G16HORREP .........................................................412 - Catharpin (V) .1142  (S).1141 (D):    1\n",
      "G16HORDEM .........................................................412 - Catharpin (V) ..547  (S)..546 (D):    1\n",
      "G16HORREP ........................................................510 - Yates Ford (V) .1057  (S).1058 (D):   -1\n",
      "G16HORREP .........................................................101 - Merrimans (V) .1171  (S).1170 (D):    1\n",
      "G16HORDEM ..........................................................102 - Old Town (V) ..700  (S)..701 (D):   -1\n",
      "G16HORREP ......................................................301 - War Memorial (V) ..980  (S)..981 (D):   -1\n",
      "G16HORDEM ......................................................301 - War Memorial (V) ..954  (S)..953 (D):    1\n",
      "G16HORDEM ................................................401 - Frederick Douglass (V) ..423  (S)..424 (D):   -1\n",
      "G16HORDEM .....................................................402 - Rolling Hills (V) ..764  (S)..763 (D):    1\n",
      "G16HORDEM ............................................................104 - Chapel (V) .1190  (S).1191 (D):   -1\n",
      "G16HORWRI ............................................................104 - Chapel (V) ..350  (S)..349 (D):    1\n",
      "G16HORDEM ..........................................................105 - Fairview (V) .2453  (S).2452 (D):    1\n",
      "G16HORWRI ..........................................................105 - Fairview (V) ..563  (S)..562 (D):    1\n",
      "G16HORWRI ........................................................108 - Kings Park (V) ..236  (S)..237 (D):   -1\n",
      "G16HORDEM .................................................110 - North Springfield (V) .2247  (S).2248 (D):   -1\n",
      "G16HORWRI ........................................................113 - Canterbury (V) ..395  (S)..394 (D):    1\n",
      "G16HORDEM ...........................................................117 - Woodson (V) .1422  (S).1421 (D):    1\n",
      "G16HORDEM .....................................................118 - Lake Braddock (V) .2234  (S).2235 (D):   -1\n",
      "G16HORWRI .....................................................118 - Lake Braddock (V) ..316  (S)..317 (D):   -1\n",
      "G16HORDEM ............................................................119 - Laurel (V) .2198  (S).2199 (D):   -1\n",
      "G16HORDEM ..........................................................120 - Sideburn (V) .1528  (S).1527 (D):    1\n",
      "G16HORWRI ..........................................................120 - Sideburn (V) ..575  (S)..574 (D):    1\n",
      "G16HORWRI ..........................................................123 - Robinson (V) ..575  (S)..574 (D):    1\n",
      "G16HORWRI ......................................................127 - Burke Centre (V) ..457  (S)..456 (D):    1\n",
      "G16HORWRI ..........................................................128 - Cardinal (V) ..241  (S)..242 (D):   -1\n",
      "G16HORDEM ........................................................129 - Keene Mill (V) ..997  (S)..998 (D):   -1\n",
      "G16HORDEM ......................................................130 - Terra Centre (V) .1326  (S).1327 (D):   -1\n",
      "G16HORDEM ........................................................134 - University (V) .2628  (S).2627 (D):    1\n",
      "G16HORWRI .........................................................201 - Armstrong (V) ..390  (S)..389 (D):    1\n",
      "G16HORDEM ........................................................202 - Flint Hill (V) .1475  (S).1474 (D):    1\n",
      "G16HORWRI ........................................................202 - Flint Hill (V) ..362  (S)..361 (D):    1\n",
      "G16HORWRI ............................................................203 - Floris (V) ..289  (S)..290 (D):   -1\n",
      "G16HORDEM .........................................................208 - Reston #1 (V) .1800  (S).1799 (D):    1\n",
      "G16HORDEM .........................................................213 - Vienna #1 (V) .2049  (S).2050 (D):   -1\n",
      "G16HORDEM ...........................................................220 - Dogwood (V) .2286  (S).2287 (D):   -1\n",
      "G16HORDEM ............................................................225 - Hughes (V) .2291  (S).2292 (D):   -1\n",
      "G16HORWRI ..........................................................226 - Wolftrap (V) ..289  (S)..290 (D):   -1\n",
      "G16HORDEM .......................................................233 - North Point (V) .1646  (S).1645 (D):    1\n",
      "G16HORDEM ............................................................234 - Aldrin (V) .1497  (S).1496 (D):    1\n",
      "G16HORWRI ............................................................234 - Aldrin (V) ..167  (S)..168 (D):   -1\n",
      "G16HORWRI ........................................................235 - Frying Pan (V) ..241  (S)..242 (D):   -1\n",
      "G16HORDEM ............................................................236 - Stuart (V) ..730  (S)..729 (D):    1\n",
      "G16HORDEM ............................................................237 - Mcnair (V) .2290  (S).2291 (D):   -1\n",
      "G16HORDEM ......................................................238 - Cameron Glen (V) .1497  (S).1496 (D):    1\n",
      "G16HORWRI ......................................................238 - Cameron Glen (V) ..268  (S)..269 (D):   -1\n",
      "G16HORWRI ........................................................319 - Herndon #1 (V) ..236  (S)..237 (D):   -1\n",
      "G16HORDEM .........................................................325 - Hutchison (V) .1348  (S).1349 (D):   -1\n",
      "G16HORDEM ............................................................332 - Coates (V) .1992  (S).1993 (D):   -1\n",
      "G16HORWRI .........................................................618 - Newington (V) ..399  (S)..398 (D):    1\n",
      "G16HORWRI .............................................................701 - Blake (V) ..404  (S)..403 (D):    1\n",
      "G16HORDEM ......................................................704 - Freedom Hill (V) .1159  (S).1160 (D):   -1\n",
      "G16HORWRI ......................................................704 - Freedom Hill (V) ..204  (S)..205 (D):   -1\n",
      "G16HORWRI ............................................................707 - Mantua (V) ..204  (S)..205 (D):   -1\n",
      "G16HORDEM .............................................................709 - Mosby (V) .1756  (S).1755 (D):    1\n",
      "G16HORWRI ............................................................714 - Walker (V) ..236  (S)..237 (D):   -1\n",
      "G16HORWRI ...........................................................720 - Thoreau (V) ..268  (S)..269 (D):   -1\n",
      "G16HORWRI ............................................................727 - Oakton (V) ..363  (S)..362 (D):    1\n",
      "G16HORDEM ............................................................731 - Tysons (V) .1379  (S).1378 (D):    1\n",
      "G16HORWRI ..........................................................732 - Oak Marr (V) ..345  (S)..344 (D):    1\n",
      "G16HORWRI ............................................................733 - Kilmer (V) ..241  (S)..242 (D):   -1\n",
      "G16HORDEM ...........................................................735 - Rotonda (V) ..642  (S)..641 (D):    1\n",
      "G16HORDEM .............................................................801 - Burke (V) .2488  (S).2487 (D):    1\n",
      "G16HORWRI .............................................................801 - Burke (V) ..430  (S)..429 (D):    1\n",
      "G16HORDEM .......................................................807 - Hunt Valley (V) .1076  (S).1077 (D):   -1\n",
      "G16HORDEM ........................................................825 - Cherry Run (V) .1471  (S).1470 (D):    1\n",
      "G16HORWRI ........................................................825 - Cherry Run (V) ..361  (S)..360 (D):    1\n",
      "G16HORDEM ............................................................827 - Irving (V) .1370  (S).1371 (D):   -1\n",
      "G16HORWRI ............................................................827 - Irving (V) ..252  (S)..253 (D):   -1\n",
      "G16HORDEM ........................................................833 - White Oaks (V) .1721  (S).1720 (D):    1\n",
      "G16HORWRI ..................................................840 - West Springfield (V) ..446  (S)..445 (D):    1\n",
      "G16HORDEM ...........................................................842 - Parkway (V) .1124  (S).1125 (D):   -1\n",
      "G16HORWRI ...........................................................842 - Parkway (V) ..382  (S)..381 (D):    1\n",
      "G16HORDEM ........................................................843 - Fair Lakes (V) .1725  (S).1724 (D):    1\n",
      "G16HORWRI ......................................................910 - London Towne (V) ..332  (S)..333 (D):   -1\n",
      "G16HORDEM ......................................................919 - Green Trails (V) .2269  (S).2270 (D):   -1\n",
      "G16HORDEM ............................................................926 - Powell (V) .2514  (S).2513 (D):    1\n",
      "G16HORDEM ...........................................................933 - Compton (V) ..419  (S)..420 (D):   -1\n",
      "G16HORDEM ..........................................................201 - Saunders (V) .1457  (S).1456 (D):    1\n",
      "G16HORWRI .......................................................311 - Swans Creek (V) ..147  (S)..148 (D):   -1\n",
      "G16HORDEM ..........................................................312 - Triangle (V) .1346  (S).1345 (D):    1\n",
      "G16HORDEM ........................................................503 - Old Bridge (V) .1354  (S).1353 (D):    1\n",
      "G16HORDEM .........................................................504 - Rockledge (V) ..990  (S)..991 (D):   -1\n",
      "G16HORWRI .........................................................504 - Rockledge (V) ..181  (S)..182 (D):   -1\n",
      "G16HORWRI ..........................................................513 - Lynnwood (V) ..310  (S)..309 (D):    1\n",
      "G16HORWRI ..........................................................514 - Antietam (V) ..360  (S)..359 (D):    1\n",
      "G16HORWRI ........................................................608 - Enterprise (V) ..118  (S)..119 (D):   -1\n",
      "G16HORWRI ........................................................610 - Fitzgerald (V) ..494  (S)..493 (D):    1\n",
      "G16HORDEM ..............................................................703 - Lynn (V) .1108  (S).1109 (D):   -1\n",
      "G16HORDEM ......................................................705 - Potomac View (V) ..961  (S)..962 (D):   -1\n",
      "G16HORDEM ........................................................708 - River Oaks (V) .1722  (S).1723 (D):   -1\n",
      "G16HORDEM .......................................................712 - Leesylvania (V) .1370  (S).1369 (D):    1\n",
      "\n",
      "There are  2516  total rows\n",
      "1050  of these rows have election result differences\n",
      "1466  of these rows are the same\n",
      "\n",
      "The max difference between any one shared column in a row is:  1.0\n",
      "The average difference is:  1.0\n",
      "There are  0 precinct results with a difference greater than 10\n",
      "['1 - Arlington', '1 - Dean', '1 - East', '1 - First Ward', '1 - First Ward', '1 - Great Bridge', '1 - North Beach', '1 - Oak Park', '1 - Precinct One', '1 - Ward A', '1 - Ward One', '1 -Peters Creek', '10 - Great Neck', '10 - Old Southwest-Wasena', '10 - Oscar Smith', '10 - Port Norfolk Recreation Center', '10 - Ward Ten', '10 - Wilson', '101 - Aberdeen', '101 - Airport', '101 - Ashland', '101 - Bastian', '101 - Belleharbour', '101 - Berkeley A', '101 - Bowling Green', '101 - Brentsville', '101 - Brodnax', '101 - Chincoteague', '101 - Coalpit', '101 - Daleville', '101 - East Abingdon', '101 - Farmville', '101 - Fife', '101 - First Ward First Precinct', '101 - Granby', '101 - Hartwood', '101 - Kettle Run', '101 - Ladrey Senior Building', '101 - Locust Grove', '101 - Merrimans', '101 - Northeast', '101 - Number One', '101 - Orkney Springs', '101 - Palmyra', '101 - Partlow', '101 - Precinct 1', '101 - Precinct 1 - District One', '101 - Precinct 1-1', '101 - Precinct 1-1', '101 - Precinct 1-1', '101 - Rockfish', '101 - Saltville', '101 - Smithfield', '101 - Subletts', '101 - Waverly', '101 - Weber City', '101 - West Fairfax', '101 - West Luray', '101 - West Point', '101 - Wrights Store', '102 - Ben Salem', '102 - Berkeley B', '102 - Catlett', '102 - Cedar Point', '102 - Clark', '102 - Copper Creek', '102 - Cypress Creek', '102 - Driver', '102 - Dumbarton', '102 - East Central', '102 - First Ward Second Precinct', '102 - Gore', '102 - Hadensville', '102 - Hardy Vol Fire Co', '102 - Liberty', '102 - Mountain Grove', '102 - New London', '102 - New River', '102 - Old Town', '102 - One Hundred Two', '102 - Otterburn', '102 - Precinct 1-2', '102 - Precinct A-2', '102 - Rock Store', '102 - Rural Retreat', '102 - Sparta', '102 - St Paul', '102 - Stuarts Draft Elementary', '102 - Swift Run', '102 - Timberville', '102 - Waller Mill', '102 - West Abingdon', '102 - Yuma', '103 - Boissevain', '103 - Branchlands', '103 - Casanova', '103 - City Hall', '103 - First Ward Third Precinct', '103 - Hurley', '103 - Jenkins', '103 - Kernstown', '103 - Narrows', '103 - New Market', '103 - Republican Grove', '103 - Scruggs', '103 - Simpson', '103 - Southeast', '103 - Southern Branch', '103 - Tillman', '103 - Travelers Rest', '103 - Verona', '103 - West Cloyd', '104 - Cedar Creek', '104 - Chapel', '104 - College', '104 - Durant Center', '104 - First Ward Fourth Precinct', '104 - Glenside', '104 - Lois', '104 - Mcintosh', '104 - Nokesville', '104 - Northside', '104 - Stewartsville Rescue Squad', '104 - Titustown', '105 - Berkley', '105 - Chatham', '105 - Drewrys Bluff', '105 - East Hampton', '105 - Fairview', '105 - Lacey Spring', '105 - Lee Center', '105 - Limestone', '105 - One Hundred Five', '105 - Oyster Point', '105 - Peters Creek', '106 - Baldwin Ridge', '106 - Cora Kelly Center', '106 - Kersey Creek', '106 - Westgate', '106 - Zion Grace', '107 - Bennett Springs', '107 - Chickahominy', '107 - Hilliard', '107 - Richneck', '108 - George Washington Middle Sch', '108 - Hungary Creek', '108 - Kings Park', '108 - Lee Hall', '108 - Thomas', '108 - West Blairs', '109 - Phenix', '109 - Piney Branch', '109 - Windsor', '11 - Cape Henry', '11 - East Falls Church', '11 - Geneva Park', '11 - Raleigh Court', '11 - Ward Eleven', '110 - Buckland Mills', '110 - Buckland Mills', '110 - Greenwood', '110 - Johnson', '110 - North Springfield', '111 - Bristow Run', '111 - One Hundred Eleven', '112 - Longan', '112 - One Hundred Twelve', '113 - Canterbury', '113 - Maude Trevvett', '114 - One Hundred Fourteen', '115 - Staples Mill', '115 - Wythe', '116 - Jones', '117 - Carter', '117 - Kecoughtan', '117 - Westwood', '117 - Woodson', '118 - Lake Braddock', '119 - Arcola', '119 - Laurel', '12 - Fairlington', '12 - Plaza', '12 - Ward Twelve', '120 - Sideburn', '121 - Town Hall', '122 - Hutchison Farm', '123 - Cardinal Ridge', '123 - Robinson', '125 - Rock Ridge', '127 - Burke Centre', '128 - Cardinal', '129 - Keene Mill', '13 - Gilmerton', '13 - Glen Carlyn', '13 - Mt Trashmore', '13 - Ward Thirteen', '130 - Terra Centre', '134 - University', '14 - Emily N. Spong Preschool', '15 - B M Williams', '15 - Grandin Court', '16 - Cradock Middle School', '16 - Lyon Village', '16 - Ward Sixteen', '17 - Indian Creek', '17 - Lee-Hi', '19 - Fairview Heights Baptist Church', '19 - Rosslyn', '19 - Summit Hills', '2 - Precinct #2', '2 - Precinct Two', '2 - Second Ward', '2 - Second Ward', '2 - Ward B', '2 - Ward Two', '20 - E W Chittum', '20 - Noble Street Baptist Church', '201 - 2a', '201 - Amissville', '201 - Armstrong', '201 - Bland', '201 - Clarks', '201 - Crimora', '201 - East Fairfax', '201 - East Luray', '201 - Ebenezer', '201 - Gainesborough', '201 - Grassy', '201 - Hillsville B', '201 - Hot Springs', '201 - Jack Jouett', '201 - Lockett', '201 - Louisa #1', '201 - Maury School', '201 - Monroe', '201 - New Market', '201 - North Madison', '201 - Northwest', '201 - Old Dominion', '201 - Pearisburg', '201 - Plantation', '201 - Powhatan Station', '201 - Precinct 1 - District Two', '201 - Precinct 2-1', '201 - Quinton', '201 - Rock Hill', '201 - Saunders', '201 - Second Ward First Precinct', '201 - Sweet Hall', '201 - Ward Two', '202 - Albin', '202 - Bedford Springs', '202 - Beulah', '202 - Bluestone Senior High School', '202 - Blunts', '202 - Dante', '202 - Dolly Ann', '202 - Edom', '202 - Flint Hill', '202 - George Mason School', '202 - Highland Belle', '202 - Jamestown B', '202 - Laurel Fork', '202 - Marshall', '202 - Penhook', '202 - Precinct B-2', '202 - Rich Valley', '202 - Sandy Hook', '202 - Second Ward Second Precinct', '202 - South Madison', '202 - Southwest', '202 - Spout Spring', '202 - Walker', '202 - Weber City East', '203 - Agudas Achim Synagogue', '203 - Belmont', '203 - Bird', '203 - Charles', '203 - Chase City Vfw Post', '203 - Clover', '203 - Dayton', '203 - Floris', '203 - Georgetown', '203 - Jamestown C', '203 - Moneta Elem School', '203 - Mountain View', '203 - Precinct B-3', '203 - Redland', '203 - Ruby', '203 - Two Hundred Three', '203 - West', '203 - West Wytheville', '203 - Wilmington Parish', '204 - Belfield', '204 - Blessed Sacrament Church', '204 - Brookland', '204 - Dudley', '204 - Ellis', '204 - Forrest', '204 - Hillpoint', '204 - Jacobs', '204 - Jamestown D', '204 - Nain', '204 - Precinct B-4', '204 - Quaker Baptist Church', '204 - Second Ward Fourth Precinct', '204 - Stefaniga', '204 - Two Hundred Four', '204 Woodland Hills', '205 - Asbury', '205 - Deep Creek', '205 - Douglas Macarthur School', '205 - Orchards', '206 - Central Gardens', '206 - Climax', '206 - Coles', '206 - Coles', '206 - Courthouse', '206 - Hollins', '206 - Two Hundred Six', '207 - Chamberlayne', '207 - Gretna', \"207 - Lambert's Point\", '207 - Two Hundred Seven', '208 - Hidenwood', '208 - Larchmont Library', '208 - Meadowbrook', '208 - Nova Arts Center', '208 - Oak Knoll', '208 - Reston #1', '208 - Two Hundred Eight', '209 - Glen Lea', '209 - Potomac Falls', '209 - Salem Church', '21 - Davis Corner', '21 - Eureka Park', '21 - Fellowship', '21 - Virginia Highlands', '210 - Five Forks', '210 - Greenwood', '210 - Machen', '210 - Oak Hill', '210 - The Hermitage', '211 - Highland Gardens', '211 - Nash', '211 - Palmer', '212 - Bethel', '212 - Hollybrook', '212 - Riverside', \"212 - St. Luke's\", '213 - Countryside', '213 - Hungary', '213 - Phillips', '213 - Sanford', '213 - Southside', '213 - Vienna #1', '214 - Longdale', '214 - Sugarland North', '216 - Yates', '217 - Wesley', '218 - Kiln Creek', '218 - Willard', '219 - Randolph', '22 - Point O View', '220 - Dogwood', '225 - Hughes', '226 - Wolftrap', '229 - Fox Mill', '23 - Westhaven Baptist Church', '233 - North Point', '234 - Aldrin', '235 - Frying Pan', '236 - Stuart', '237 - Mcnair', '238 - Cameron Glen', '24 - Willett Hall', '25 - Arlington Forest', '25 - St Julians', '26 - Fairfield', '26 - Fillmore', '27 - Edwin', '27 - Jefferson', '28 - Claremont', '28 - Sunray I', '28 - Thalia', '29 - Holland', \"29 - Saint Andrew's United Methodist Church\", '3 - Ocean Lakes', '3 - South', '3 - Third Ward', '3 - Third Ward', '3 - Ward C', '3 - Ward Three', '3 -Preston Park', '30 - Glebe', '30 - Red Wing', '30 - The Rescue Church', '301 - 3a', '301 - Aylett', '301 - Ballentine', '301 - Bethesda', '301 - Chain Bridge', '301 - Chilhowie', '301 - Clay', '301 - Clear Brook', '301 - Courthouse', '301 - Courthouse', '301 - Dublin', '301 - Ettrick', '301 - Fairview', '301 - Hillsville C', '301 - Leigh', '301 - Marksville', '301 - Morrisville', '301 - New Church', '301 - New London Academy', '301 - Nickelsville', '301 - Patrick Henry No 1', '301 - Plank Road', '301 - Precinct 1 - District Three', '301 - Precinct 3-1', '301 - Precinct 3-1', '301 - Precinct 3-1', '301 - Precinct C-1', '301 - Rushmere', '301 - Seaford', '301 - Shacklefords', '301 - Snow Creek', '301 - Third Ward First Precinct', '301 - Three Hundred One', '301 - Three West', '301 - War Memorial', '301 - Watauga', '301 - White Marsh', '301 - White Marsh', '302 - Briarfield', '302 - Cedarfield', '302 - Chesterbrook', '302 - Church View', '302 - Cumberland', '302 - East Stone Gap', '302 - Eggbornsville', '302 - Gladstone', '302 - Hazel Run', \"302 - Lee's Landing\", '302 - Natural Bridge', '302 - Otter River', '302 - Patrick Henry Rec Center', '302 - Poages Mill', '302 - Pons', '302 - Powhatan B', '302 - Precinct 3-2', '302 - Snowflake', '302 - South Abingdon', '302 - Stonewall', '302 - Tanners Creek', '302 - Third Ward Second Precinct', '302 - Widewater', '302 - Woodford', '302 - Yorktown', '303 - Altavista', '303 - Bealeton', '303 - Cardova', '303 - Churchill', '303 - East Wytheville', '303 - Edgehill', '303 - Elmore', '303 - Harbour', '303 - Innsbrook', '303 - Precinct C-3', '303 - Riverbend', '303 - Shady Grove', '303 - St Luke', '303 - Third Ward Third Precinct', '303 - Three Hundred Three', '303 - Windsor Hills', '304 - Atlee', '304 - Barrett', '304 - Coleman Place School', '304 - Cooper', '304 - East Ivy', '304 - Oak Grove', '304 - Powhatan D', '304 - Samuel Tucker School', '304 - Seymour', '304 - Snowville', '304 - Third Ward Fourth Precinct', '305 - Beach', '305 - Castle Rock', '305 - Cool Spring', '305 - El Nido', '305 - Huddleston Elem School', '305 - Massanetta Springs', '305 - Nuckols Farm', '305 - Philomont', '305 - Pounding Mill', '305 - Sinai', '306 - Pocahontas', '307 - Cosby', '307 - Haycock', '307 - South Port', '307 - Three Hundred Seven', '308 - Cameron Station Community Ctr', '308 - Rivers Edge', '308 - South Manchester', '308 - Three Hundred Eight', '309 - Kenmore', '309 - Magruder', '31 - Carver School', '310 - Kirby', '310 - Shady Grove', '310 - Three Hundred Ten', '310 - Tomahawk', '311 - Langley', '311 - Newmarket', '311 - Sherwood', '311 - Short Pump', '311 - Swans Creek', '312 - Briar Woods', '312 - Longfellow', '312 - Triangle', '312 - Triangle', '313 - Cardinal', '313 - Pinebrook', '314 - Cabin Branch', '314 - River', '314 - Three Chopt', '315 - Pimmit', '315 - Tucker', '316 - Salona #1', '316 - Spring Run', '317 - Birkdale', '317 - Westhampton', \"318 - Madison's Trust\", '318 - Westmoreland', '319 - Herndon #1', '319 - Saunders', '32 - Creeds', '32 - Hodges Manor Elementary School', '32 - Providence', '321 - Clearview', '325 - Hutchison', '327 - Sugarland', '33 - Westover', '33- Pinecrest Baptist Church', '332 - Coates', '333 - Salona #2', '34 - Hickory Middle School', '35 - Courthouse', '35 - Madison', '35 - Taylor Road', '36 - Great Bridge Baptist Church', '36 - Marshall', '38 - Arlington View', '38 - Grove Baptist Church', '38 - Witchduck', '39 - Ashlawn', '39 - Lake Drummond', '39 - River Shore Baptist Church', '4 - Fourth Ward', '4 - Fourth Ward', '4 - Precinct #4', '4 - Ward D', '4 - Williamson Road', '40 - River Birch', '40 - Virginia Square', '401 - Airport', '401 - Aquia', '401 - Battlefield', '401 - Bloxom', '401 - Bridgewater', '401 - Buffalo Gap', '401 - Carpers Valley', '401 - Courthouse', '401 - Cunningham', '401 - East Shenandoah', '401 - Eldorado', '401 - Evergreen', '401 - Forest Elementary School', '401 - Fort Chiswell', '401 - Four West', '401 - Fourth Ward First Precinct', '401 - Frederick Douglass', '401 - Hampden', '401 - Harwoods Mill', '401 - Henry', '401 - Mars Hill', '401 - Marshall', '401 - Maysville', '401 - Midway', '401 - Millboro', '401 - Mineral', '401 - Newport', '401 - Powhatan Courthouse', '401 - Precinct 1 - District Four', '401 - Precinct 4', '401 - Precinct 4-1', '401 - Precinct D-1', '401 - Quioccasin', '401 - Rocky Gap', '401 - Shallow Well', '401 - Shiloh', '401 - Stonehouse A', '401 - West Lovettsville', '401 - White Post', '402 - Battlefield', '402 - Berkley', '402 - Carmel Church', '402 - Courthouse', '402 - Dare', '402 - Ferrum', '402 - Four Hundred Two', '402 - Genito', '402 - Keeling', \"402 - King's Store\", '402 - Leeds', '402 - Mountain View', '402 - Parksley', '402 - Precinct 2 - District Four', '402 - Precinct D-2', '402 - Rolling Hills', '402 - Sarahs Creek', '402 - Shenandoah', '402 - South Coeburn', '402 - Swords Creek', '402 - Whaleyville', '402 - Woodlawn D', '403 - Brambleton', '403 - Bull Run', '403 - Cold Harbor', '403 - Derbyshire', '403 - Eagle Rock', '403 - Fourth Ward Third Precinct', '403 - Grafton', '403 - Knights Of Columbus Bldg', '403 - Lee Hill', '403 - Mt Crawford', \"403 - Parkin's Mill\", '403 - Saxis', '404 - Black Creek', '404 - Campostella', '404 - Deerfield', '404 - Four Hundred Four', '404 - Franconia', '404 - Government Island', '404 - Kentuck', '404 - St. Paul Baptist Church', '405 - Cale', '405 - Cedar Green', '405 - Gayton', '405 - Groveton', '405 - Lindenwood', '405 - Oakland A', '405 - Pebble Creek', '405 - Ringgold', '405 - Stonewall', '405 - Stonewall', '406 - Alvey', '406 - Barron Black', '406 - Fincastle', '406 - Godwin', '407 - Harper Park', '407 - Monacan', '409 - Fairlawn', '409 - Four Hundred Nine', '409 - Maybeury', '409 - Pioneer', '409 - Tyler', '41 - John T West', '410 - Four Hundred Ten', '410 - Wagstaff', '411 - East Lovettsville', '411 - Mullen', '411 - Mullen', '411 - Pemberton', '411 - Swift Creek', '411 - Virginia Hills', '412 - Catharpin', '412 - Four Hundred Twelve', '412 - Ingleside', '412 - Pinchbeck', '413 - Four Hundred Thirteen', '413 - Poplar Halls', '414 - Four Hundred Fourteen', '415 - Lake Taylor High School', '415 - Skipwith', '416 - Evergreen West', '416 - Spottswood', '417 - Edgewater', '417 - Garfield', '417 - Tuckahoe', '418 - Lynbrook', '418 - Welborne', '419 - J. L. Simpson', '419 - Lane', '42 - Brandon', '42 - Parkways', '423 - Clermont', '427 - Island Creek', '429 - Hybla Valley', '43 - Arlington Mill', '43 - Bellamy', '43 - Pleasant Crossing', '44 - Centerville', '44 - Nansemond', '45 - Sunray II', '46 - Bells Mill II', '46 - Central', '46 - Green Run', '47 - Green Sea', '47 - Kings Grant', '48 - Courtlands', '49 - Monroe', '5 - Baldwin', '5 - Barcroft', '5 - Crestwood', '5 - Madison', '5 - Precinct #5', '5 - Seatack', '501 - Achilles', '501 - Antioch', '501 - Atkins', '501 - Baileys', '501 - Bassett Number One', '501 - Cedar Creek', '501 - Chester Gap', '501 - Cotton Hill', '501 - Elkton', '501 - Faber', '501 - Five South', '501 - Henry', '501 - Hurt', '501 - Keswick', '501 - Mangohick', '501 - Number Five', '501 - Prater', '501 - Precinct 5-1', '501 - Precinct 5-1', '501 - Precinct E-1', '501 - Shenandoah', '501 - Smith Cross Roads', '501 - South Hill', '501 - Spring Hill', '501 - Stephens City', '501 - Tabb', '501 - The Plains', '501 - Troutville', '501 - Vaughan', '501 - Waidsboro', '501 - Walters', '501 - Ward Five', '501 - West Lebanon', '501 - West Leesburg', '502 - Blair Road', '502 - Blue Ridge', '502 - Chickahominy River', '502 - Cloverdale', '502 - Crestwood', '502 - Cuckoo', '502 - Damascus', '502 - Dan River', '502 - Falmouth', '502 - Five North', '502 - Gladeville', '502 - Glenmore', '502 - Holland', '502 - Meadowview', '502 - Nellysford', '502 - New Baltimore', '502 - Penn Forest', '502 - Peters Switch', '502 - Pineville', '502 - Roberts B', '502 - Rural Point', '502 - Sheffey', '502 - Swift Run', '502 - Walker', '503 - Bowmans', '503 - Broad Run', '503 - Canterburg', '503 - Cave Spring', '503 - Chickahominy', '503 - Five Hundred Three', '503 - Hollymead', '503 - Midlothian', '503 - Newman', '503 - Old Bridge', '503 - Scottsburg', '503 - Stanleytown', '503 - Toms Brook', '504 - Browntown', '504 - Courthouse', '504 - Donahoe', '504 - Gayle', '504 - Lake Cohoon', '504 - Laurel', '504 - Lebanon Church', '504 - Ogden', '504 - Roberts D', '504 - Rockledge', '504 - Rye Cove', '504 - Smarts Mill', '504 - South Fork', '504 - Studley', '504 - Zuni', '505 - Boonsboro Elementary School', '505 - Brock', '505 - Clearbrook', '505 - Cool Spring', '505 - Dorey', '505 - Five Hundred Five', '505 - Glen Forest', '505 - Mohican', '505 - Raynor', '505 - Stony Run', '505 - Totopotomoy', '506 - Boonsboro Ruritan Club', '506 - Georgetown', '506 - Holmes #1', '506 - Mount Vernon', '507 - Hunting Hills', '507 - Laurel Meadow', '507 - Pretlow', '507 - Salisbury', '508 - Balls Bluff', '508 - Five Hundred Eight', '508 - Highland Springs', '509 - Cranbeck', '509 - Mc Coart', '509 - Tolbert', '51 - Coopers Way', '51 - Stratford Chase', '51 - Taylor', '510 - Heritage', '510 - Mehfoud', '510 - Sycamore', '510 - Yates Ford', '511 - Crossroads', '511 - Montrose', '513 - Beaufont', '513 - Beaufont', '513 - Lynnwood', '513 - Saint Albans', '514 - Antietam', '514 - Rolfe', '515 - Davis', '515 - Westlawn', '516 - Pocoshock', '516 - Sullivans', '517 - Roseland', '517 - Willston', '518 - Whitlocks', '52 - Gunston', '52 - Shipyard Road', '520 - Skyline', '523 - Poe', '526 - Bren Mar', '527 - Edsall', '54 - Pughsville', '55 - Georgetown East', '56 - Edinburgh', '57 - Cypress', '58 - Expressway', '60 - Foxfire', '60 - Parker Road', '601 - Baskerville', '601 - Belle Haven', '601 - Black Walnut', '601 - Boones Mill', '601 - Crozet', '601 - District 1', '601 - East Lebanon', '601 - Ferry Farm', '601 - Lakeside', '601 - Millbrook', '601 - Montvale Elem School', '601 - Precinct F-1', '601 - Prospect', '601 - Royal Oak East', '601 - Salem', '601 - Sherando', '601 - Strasburg', '602 - Ash Hollow', '602 - Belleview', '602 - Bonbrook', '602 - Concord', '602 - Garden', '602 - Lake', '602 - Lee Davis', '602 - Mendota', '602 - Olde Towne', '602 - Precinct F-2', '602 - Smith Station', '602 - Union Level', '603 - Coopers Cove', '603 - Elephants Fork/westhaven', '603 - Lyndhurst', '603 - Mt Carmel', '603 - Stony Mill', '603 - Thaxton Baptist Church #1', '603 - Valley Institute', '603 - White Oak', '604 - Bedford Welcome Center', '604 - Bucknell', '604 - England Run', '604 - Wilroy', '605 - Hollywood', '605 - Whitmell', '606 - Brosville', '606 - Hollin Hall', '607 - Huntington', '607 - Six Hundred Seven', '608 - Enterprise', '608 - Kirkside', '609 - Marlan', '61 - Centerville', '610 - Fitzgerald', '610 - Sherwood', '611 - Stratford', '616 - Gunston', '617 - Oak Grove', '618 - Newington', '62 - Landstown', '620 - Russell Branch', '621 - Dominion Trail', '621 - Grosvenor', '622 - Farmwell Station', '623 - Alban', '625 - Lorton Center', '626 - Ashby Ponds', '626 - Saratoga', '627 - Woodlawn', '628 - Moorefield Station', '63 - Culver', '63 - Poplar Branch', '65 - Colonial', '67 - Eastern Shore', '7 - Brightwood', '7 - Greenbrier', '7 - Kingston', '7 - Southeast', '7 - Ward Seven', '701 - Adwolfe', '701 - Blake', '701 - Chase City', '701 - Farrington', '701 - High Point', '701 - Hyco', '701 - Nandua', '701 - Precinct G-1', '701 - Rocky Mount East', '701 - Seventh Ward First Precinct', '701 - Sheltons Mill', '701 - West End', '702 - Brandy Station', '702 - Harbourview', '702 - Midway', '702 - Montpelier', '702 - Park View', '702 - Precinct G-2', '702 - Rocky Mount West', '702 - Sugar Grove', '702 - Whitson', '703 - Fairview', '703 - Fort Buffalo', '703 - Hampton', '703 - Lignum', '703 - Lynn', '703 - Morris Church', '703 - Rockville', '703 - Virgilina', '704 - Burbage Grant', '704 - Elmont', '704 - Freedom Hill', '704 - Mt Hermon', '705 - Graham - Greenway', '705 - Potomac View', '705 - South Anna', '706 - Huntersville', '707 - Mantua', '708 - Marshall', '708 - River Oaks', '708 - Seven Hundred Eight', '709 - Mosby', '712 - Leesylvania', '712 - Shreve', '713 - Timber Lane', '714 - Walker', '720 - Thoreau', '726 - Magarity', '727 - Oakton', '731 - Tysons', '732 - Oak Marr', '733 - Kilmer', '735 - Rotonda', '74 - Buckner', '78 - Indian Lakes', '8 - Criglersville', '8 - Hume', '8 - Lincoln Terrace', '8 - London Bridge', '801 - Burke', '801 - Dooms', '801 - Finchley', '802 - Bluestone', '803 - Chase City Elementary School', '803 - Clifton', '803 - Wilson', '806 - Eight Hundred Six', '807 - Hunt Valley', '81 - Rock Lake', '810 - Eight Hundred Ten', '814 - Eight Hundred Fourteen', '815 - Belmont Ridge', '815 - Woodyard', '819 - Heritage Church', '82 - Shelburne', '825 - Cherry Run', '827 - Irving', '833 - White Oaks', '839 - Silverbrook', '84 - Tallwood', '840 - West Springfield', '842 - Parkway', '843 - Fair Lakes', '849 - Newgate North', '85 - Upton', '86 - Haygood', '9 - Ward Nine', '90 - Lake Joyce', '901 - Averett', '901 - Painter', '902 - Buffalo Springs', '903 - Clarksville', '903 - Nine Hundred Three', '905 - Franklin', '909 - Nine Hundred Nine', '91 - Lexington', '910 - London Towne', '911 - Navy', '911 - Nine Hundred Eleven', '915 - Virginia Run', '919 - Green Trails', '92 - Little Neck', '921 - Deer Park', '925 - Old Mill', '926 - Powell', '929 - Difficult Run', '933 - Compton', '95 - Dam Neck']\n"
     ]
    }
   ],
   "source": [
    "validater_row(final_df_merge, col_list)"
   ]
  },
  {
   "cell_type": "code",
   "execution_count": 112,
   "metadata": {},
   "outputs": [
    {
     "data": {
      "text/html": [
       "<div>\n",
       "<style scoped>\n",
       "    .dataframe tbody tr th:only-of-type {\n",
       "        vertical-align: middle;\n",
       "    }\n",
       "\n",
       "    .dataframe tbody tr th {\n",
       "        vertical-align: top;\n",
       "    }\n",
       "\n",
       "    .dataframe thead th {\n",
       "        text-align: right;\n",
       "    }\n",
       "</style>\n",
       "<table border=\"1\" class=\"dataframe\">\n",
       "  <thead>\n",
       "    <tr style=\"text-align: right;\">\n",
       "      <th></th>\n",
       "      <th>0</th>\n",
       "    </tr>\n",
       "  </thead>\n",
       "  <tbody>\n",
       "    <tr>\n",
       "      <th>0</th>\n",
       "      <td>0.000000e+00</td>\n",
       "    </tr>\n",
       "    <tr>\n",
       "      <th>1</th>\n",
       "      <td>4.831260e-12</td>\n",
       "    </tr>\n",
       "    <tr>\n",
       "      <th>2</th>\n",
       "      <td>0.000000e+00</td>\n",
       "    </tr>\n",
       "    <tr>\n",
       "      <th>3</th>\n",
       "      <td>0.000000e+00</td>\n",
       "    </tr>\n",
       "    <tr>\n",
       "      <th>4</th>\n",
       "      <td>1.940532e-12</td>\n",
       "    </tr>\n",
       "  </tbody>\n",
       "</table>\n",
       "</div>"
      ],
      "text/plain": [
       "              0\n",
       "0  0.000000e+00\n",
       "1  4.831260e-12\n",
       "2  0.000000e+00\n",
       "3  0.000000e+00\n",
       "4  1.940532e-12"
      ]
     },
     "execution_count": 112,
     "metadata": {},
     "output_type": "execute_result"
    }
   ],
   "source": [
    "df.head()"
   ]
  },
  {
   "cell_type": "code",
   "execution_count": null,
   "metadata": {},
   "outputs": [],
   "source": []
  }
 ],
 "metadata": {
  "kernelspec": {
   "display_name": "Python 3",
   "language": "python",
   "name": "python3"
  },
  "language_info": {
   "codemirror_mode": {
    "name": "ipython",
    "version": 3
   },
   "file_extension": ".py",
   "mimetype": "text/x-python",
   "name": "python",
   "nbconvert_exporter": "python",
   "pygments_lexer": "ipython3",
   "version": "3.8.3"
  }
 },
 "nbformat": 4,
 "nbformat_minor": 4
}
