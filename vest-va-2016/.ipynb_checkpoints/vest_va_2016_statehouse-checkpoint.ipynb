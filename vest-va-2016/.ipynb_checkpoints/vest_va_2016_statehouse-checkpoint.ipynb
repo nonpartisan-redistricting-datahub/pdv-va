{
 "cells": [
  {
   "cell_type": "code",
   "execution_count": 34,
   "metadata": {},
   "outputs": [],
   "source": [
    "import pandas as pd\n",
    "import geopandas as gpd\n",
    "import matplotlib.pyplot as plt\n",
    "import numpy as np\n",
    "import os"
   ]
  },
  {
   "cell_type": "markdown",
   "metadata": {},
   "source": [
    "# State House Special Election"
   ]
  },
  {
   "cell_type": "code",
   "execution_count": 2,
   "metadata": {},
   "outputs": [
    {
     "name": "stdout",
     "output_type": "stream",
     "text": [
      "/Users/lilyfalk/sandbox/pdv-va\n"
     ]
    }
   ],
   "source": [
    "cd ../../"
   ]
  },
  {
   "cell_type": "code",
   "execution_count": 35,
   "metadata": {},
   "outputs": [
    {
     "data": {
      "text/html": [
       "<div>\n",
       "<style scoped>\n",
       "    .dataframe tbody tr th:only-of-type {\n",
       "        vertical-align: middle;\n",
       "    }\n",
       "\n",
       "    .dataframe tbody tr th {\n",
       "        vertical-align: top;\n",
       "    }\n",
       "\n",
       "    .dataframe thead th {\n",
       "        text-align: right;\n",
       "    }\n",
       "</style>\n",
       "<table border=\"1\" class=\"dataframe\">\n",
       "  <thead>\n",
       "    <tr style=\"text-align: right;\">\n",
       "      <th></th>\n",
       "      <th>COUNTYFP</th>\n",
       "      <th>LOCALITY</th>\n",
       "      <th>VTDST</th>\n",
       "      <th>PRECINCT</th>\n",
       "      <th>HOD_DIST</th>\n",
       "      <th>S16HODDEM</th>\n",
       "      <th>S16HODREP</th>\n",
       "      <th>S16HODWRI</th>\n",
       "      <th>geometry</th>\n",
       "    </tr>\n",
       "  </thead>\n",
       "  <tbody>\n",
       "    <tr>\n",
       "      <th>0</th>\n",
       "      <td>095</td>\n",
       "      <td>James City County</td>\n",
       "      <td>000101</td>\n",
       "      <td>Berkeley A</td>\n",
       "      <td>093</td>\n",
       "      <td>1109</td>\n",
       "      <td>1681</td>\n",
       "      <td>14</td>\n",
       "      <td>POLYGON Z ((-76.82290 37.23270 0.00000, -76.81...</td>\n",
       "    </tr>\n",
       "    <tr>\n",
       "      <th>1</th>\n",
       "      <td>095</td>\n",
       "      <td>James City County</td>\n",
       "      <td>000201</td>\n",
       "      <td>Jamestown A</td>\n",
       "      <td>093</td>\n",
       "      <td>490</td>\n",
       "      <td>409</td>\n",
       "      <td>3</td>\n",
       "      <td>POLYGON Z ((-76.75462 37.26158 0.00000, -76.75...</td>\n",
       "    </tr>\n",
       "    <tr>\n",
       "      <th>2</th>\n",
       "      <td>095</td>\n",
       "      <td>James City County</td>\n",
       "      <td>000501</td>\n",
       "      <td>Roberts A</td>\n",
       "      <td>093</td>\n",
       "      <td>860</td>\n",
       "      <td>608</td>\n",
       "      <td>3</td>\n",
       "      <td>POLYGON Z ((-76.65883 37.20304 0.00000, -76.64...</td>\n",
       "    </tr>\n",
       "    <tr>\n",
       "      <th>3</th>\n",
       "      <td>095</td>\n",
       "      <td>James City County</td>\n",
       "      <td>000502</td>\n",
       "      <td>Roberts B</td>\n",
       "      <td>093</td>\n",
       "      <td>914</td>\n",
       "      <td>1727</td>\n",
       "      <td>6</td>\n",
       "      <td>POLYGON Z ((-76.70027 37.24874 0.00000, -76.70...</td>\n",
       "    </tr>\n",
       "    <tr>\n",
       "      <th>4</th>\n",
       "      <td>095</td>\n",
       "      <td>James City County</td>\n",
       "      <td>000503</td>\n",
       "      <td>Roberts C</td>\n",
       "      <td>093</td>\n",
       "      <td>327</td>\n",
       "      <td>194</td>\n",
       "      <td>3</td>\n",
       "      <td>POLYGON Z ((-76.68089 37.26080 0.00000, -76.68...</td>\n",
       "    </tr>\n",
       "  </tbody>\n",
       "</table>\n",
       "</div>"
      ],
      "text/plain": [
       "  COUNTYFP           LOCALITY   VTDST     PRECINCT HOD_DIST  S16HODDEM  \\\n",
       "0      095  James City County  000101   Berkeley A      093       1109   \n",
       "1      095  James City County  000201  Jamestown A      093        490   \n",
       "2      095  James City County  000501    Roberts A      093        860   \n",
       "3      095  James City County  000502    Roberts B      093        914   \n",
       "4      095  James City County  000503    Roberts C      093        327   \n",
       "\n",
       "   S16HODREP  S16HODWRI                                           geometry  \n",
       "0       1681         14  POLYGON Z ((-76.82290 37.23270 0.00000, -76.81...  \n",
       "1        409          3  POLYGON Z ((-76.75462 37.26158 0.00000, -76.75...  \n",
       "2        608          3  POLYGON Z ((-76.65883 37.20304 0.00000, -76.64...  \n",
       "3       1727          6  POLYGON Z ((-76.70027 37.24874 0.00000, -76.70...  \n",
       "4        194          3  POLYGON Z ((-76.68089 37.26080 0.00000, -76.68...  "
      ]
     },
     "execution_count": 35,
     "metadata": {},
     "output_type": "execute_result"
    }
   ],
   "source": [
    "final = gpd.read_file('./vest_va_2016/va_2016_statehouse_special/va_2016_statehouse_special.shp')\n",
    "final.head()"
   ]
  },
  {
   "cell_type": "markdown",
   "metadata": {},
   "source": [
    "# Raw Election Results\n",
    "#### Special House elections in VA in Districts 77 and 93 in 2016"
   ]
  },
  {
   "cell_type": "markdown",
   "metadata": {},
   "source": [
    "### District 77"
   ]
  },
  {
   "cell_type": "code",
   "execution_count": 36,
   "metadata": {},
   "outputs": [
    {
     "data": {
      "text/html": [
       "<div>\n",
       "<style scoped>\n",
       "    .dataframe tbody tr th:only-of-type {\n",
       "        vertical-align: middle;\n",
       "    }\n",
       "\n",
       "    .dataframe tbody tr th {\n",
       "        vertical-align: top;\n",
       "    }\n",
       "\n",
       "    .dataframe thead th {\n",
       "        text-align: right;\n",
       "    }\n",
       "</style>\n",
       "<table border=\"1\" class=\"dataframe\">\n",
       "  <thead>\n",
       "    <tr style=\"text-align: right;\">\n",
       "      <th></th>\n",
       "      <th>County/City</th>\n",
       "      <th>Ward</th>\n",
       "      <th>Pct</th>\n",
       "      <th>Clifton Eugene Hayes, Jr</th>\n",
       "      <th>All Others</th>\n",
       "      <th>Total Votes Cast</th>\n",
       "    </tr>\n",
       "  </thead>\n",
       "  <tbody>\n",
       "    <tr>\n",
       "      <th>0</th>\n",
       "      <td>NaN</td>\n",
       "      <td>NaN</td>\n",
       "      <td>NaN</td>\n",
       "      <td>Democratic</td>\n",
       "      <td>NaN</td>\n",
       "      <td>NaN</td>\n",
       "    </tr>\n",
       "    <tr>\n",
       "      <th>1</th>\n",
       "      <td>Chesapeake City</td>\n",
       "      <td>-</td>\n",
       "      <td>3 - Camelot</td>\n",
       "      <td>1,831</td>\n",
       "      <td>27.0</td>\n",
       "      <td>1,858</td>\n",
       "    </tr>\n",
       "    <tr>\n",
       "      <th>2</th>\n",
       "      <td>Chesapeake City</td>\n",
       "      <td>-</td>\n",
       "      <td>5 - Crestwood</td>\n",
       "      <td>1,394</td>\n",
       "      <td>35.0</td>\n",
       "      <td>1,429</td>\n",
       "    </tr>\n",
       "    <tr>\n",
       "      <th>3</th>\n",
       "      <td>Chesapeake City</td>\n",
       "      <td>-</td>\n",
       "      <td>8 - South Norfolk Recreation</td>\n",
       "      <td>1,405</td>\n",
       "      <td>77.0</td>\n",
       "      <td>1,482</td>\n",
       "    </tr>\n",
       "    <tr>\n",
       "      <th>4</th>\n",
       "      <td>Chesapeake City</td>\n",
       "      <td>-</td>\n",
       "      <td>10 - Oscar Smith</td>\n",
       "      <td>647</td>\n",
       "      <td>47.0</td>\n",
       "      <td>694</td>\n",
       "    </tr>\n",
       "  </tbody>\n",
       "</table>\n",
       "</div>"
      ],
      "text/plain": [
       "       County/City Ward                           Pct  \\\n",
       "0              NaN  NaN                           NaN   \n",
       "1  Chesapeake City    -                   3 - Camelot   \n",
       "2  Chesapeake City    -                 5 - Crestwood   \n",
       "3  Chesapeake City    -  8 - South Norfolk Recreation   \n",
       "4  Chesapeake City    -              10 - Oscar Smith   \n",
       "\n",
       "  Clifton Eugene Hayes, Jr  All Others Total Votes Cast  \n",
       "0               Democratic         NaN              NaN  \n",
       "1                    1,831        27.0            1,858  \n",
       "2                    1,394        35.0            1,429  \n",
       "3                    1,405        77.0            1,482  \n",
       "4                      647        47.0              694  "
      ]
     },
     "execution_count": 36,
     "metadata": {},
     "output_type": "execute_result"
    }
   ],
   "source": [
    "df77 = pd.read_csv('./vest_va_2016/Virginia_Elections_Database__2016_House_of_Delegates_General_Election_District_77_including_precincts.csv')\n",
    "df77.head()"
   ]
  },
  {
   "cell_type": "code",
   "execution_count": 37,
   "metadata": {},
   "outputs": [
    {
     "data": {
      "text/html": [
       "<div>\n",
       "<style scoped>\n",
       "    .dataframe tbody tr th:only-of-type {\n",
       "        vertical-align: middle;\n",
       "    }\n",
       "\n",
       "    .dataframe tbody tr th {\n",
       "        vertical-align: top;\n",
       "    }\n",
       "\n",
       "    .dataframe thead th {\n",
       "        text-align: right;\n",
       "    }\n",
       "</style>\n",
       "<table border=\"1\" class=\"dataframe\">\n",
       "  <thead>\n",
       "    <tr style=\"text-align: right;\">\n",
       "      <th></th>\n",
       "      <th>Pct</th>\n",
       "      <th>Total Votes Cast</th>\n",
       "      <th>HOD_DIST</th>\n",
       "      <th>LOCALITY</th>\n",
       "      <th>S16HODDEM</th>\n",
       "      <th>S16HODWRI</th>\n",
       "      <th>COUNTYFP</th>\n",
       "    </tr>\n",
       "  </thead>\n",
       "  <tbody>\n",
       "    <tr>\n",
       "      <th>1</th>\n",
       "      <td>3 - Camelot</td>\n",
       "      <td>1,858</td>\n",
       "      <td>77</td>\n",
       "      <td>Chesapeake City</td>\n",
       "      <td>1831</td>\n",
       "      <td>27</td>\n",
       "      <td>550</td>\n",
       "    </tr>\n",
       "    <tr>\n",
       "      <th>2</th>\n",
       "      <td>5 - Crestwood</td>\n",
       "      <td>1,429</td>\n",
       "      <td>77</td>\n",
       "      <td>Chesapeake City</td>\n",
       "      <td>1394</td>\n",
       "      <td>35</td>\n",
       "      <td>550</td>\n",
       "    </tr>\n",
       "    <tr>\n",
       "      <th>3</th>\n",
       "      <td>8 - South Norfolk Recreation</td>\n",
       "      <td>1,482</td>\n",
       "      <td>77</td>\n",
       "      <td>Chesapeake City</td>\n",
       "      <td>1405</td>\n",
       "      <td>77</td>\n",
       "      <td>550</td>\n",
       "    </tr>\n",
       "    <tr>\n",
       "      <th>4</th>\n",
       "      <td>10 - Oscar Smith</td>\n",
       "      <td>694</td>\n",
       "      <td>77</td>\n",
       "      <td>Chesapeake City</td>\n",
       "      <td>647</td>\n",
       "      <td>47</td>\n",
       "      <td>550</td>\n",
       "    </tr>\n",
       "    <tr>\n",
       "      <th>5</th>\n",
       "      <td>12 - Georgetown</td>\n",
       "      <td>1,253</td>\n",
       "      <td>77</td>\n",
       "      <td>Chesapeake City</td>\n",
       "      <td>1217</td>\n",
       "      <td>36</td>\n",
       "      <td>550</td>\n",
       "    </tr>\n",
       "  </tbody>\n",
       "</table>\n",
       "</div>"
      ],
      "text/plain": [
       "                            Pct Total Votes Cast HOD_DIST         LOCALITY  \\\n",
       "1                   3 - Camelot            1,858       77  Chesapeake City   \n",
       "2                 5 - Crestwood            1,429       77  Chesapeake City   \n",
       "3  8 - South Norfolk Recreation            1,482       77  Chesapeake City   \n",
       "4              10 - Oscar Smith              694       77  Chesapeake City   \n",
       "5               12 - Georgetown            1,253       77  Chesapeake City   \n",
       "\n",
       "   S16HODDEM  S16HODWRI COUNTYFP  \n",
       "1       1831         27      550  \n",
       "2       1394         35      550  \n",
       "3       1405         77      550  \n",
       "4        647         47      550  \n",
       "5       1217         36      550  "
      ]
     },
     "execution_count": 37,
     "metadata": {},
     "output_type": "execute_result"
    }
   ],
   "source": [
    "#Create dictionary using VEST's file for county name to county fips to apply to df which by default does not have fips\n",
    "county_dict = pd.Series(final['COUNTYFP'].values, index = final['LOCALITY']).to_dict()\n",
    "#Format df to match VESTs\n",
    "df77 = df77.iloc[1:]\n",
    "df77 = df77.drop(['Ward'], axis = 1)\n",
    "df77['HOD_DIST'] = '77'\n",
    "column_dict = {'County/City': 'LOCALITY', 'Clifton Eugene Hayes, Jr': 'S16HODDEM', \n",
    "               'All Others': 'S16HODWRI',\n",
    "              'Michael Paul Mullin': 'S16HODDEM', 'Heather Lynn Cordasco': 'S16HODREP'\n",
    "              }\n",
    "\n",
    "df77['LOCALITY'] = df77['County/City']\n",
    "df77['S16HODDEM'] = df77['Clifton Eugene Hayes, Jr']\n",
    "df77['S16HODWRI'] = df77['All Others']\n",
    "df77 = df77.drop(['County/City', 'Clifton Eugene Hayes, Jr', 'All Others'], axis = 1)\n",
    "\n",
    "df77['COUNTYFP'] = df77['LOCALITY'].map(county_dict)\n",
    "\n",
    "df77['S16HODDEM'] = df77['S16HODDEM'].map(lambda x: str(x).replace(',', '')).astype(str).astype(float).astype(int)\n",
    "df77['S16HODWRI'] = df77['S16HODWRI'].map(lambda x: str(x).replace(',', '')).astype(str).astype(float).astype(int)\n",
    "\n",
    "df77.head()"
   ]
  },
  {
   "cell_type": "markdown",
   "metadata": {},
   "source": [
    "### District 93"
   ]
  },
  {
   "cell_type": "code",
   "execution_count": 38,
   "metadata": {},
   "outputs": [
    {
     "data": {
      "text/html": [
       "<div>\n",
       "<style scoped>\n",
       "    .dataframe tbody tr th:only-of-type {\n",
       "        vertical-align: middle;\n",
       "    }\n",
       "\n",
       "    .dataframe tbody tr th {\n",
       "        vertical-align: top;\n",
       "    }\n",
       "\n",
       "    .dataframe thead th {\n",
       "        text-align: right;\n",
       "    }\n",
       "</style>\n",
       "<table border=\"1\" class=\"dataframe\">\n",
       "  <thead>\n",
       "    <tr style=\"text-align: right;\">\n",
       "      <th></th>\n",
       "      <th>County/City</th>\n",
       "      <th>Ward</th>\n",
       "      <th>Pct</th>\n",
       "      <th>Michael Paul Mullin</th>\n",
       "      <th>Heather Lynn Cordasco</th>\n",
       "      <th>All Others</th>\n",
       "      <th>Total Votes Cast</th>\n",
       "    </tr>\n",
       "  </thead>\n",
       "  <tbody>\n",
       "    <tr>\n",
       "      <th>0</th>\n",
       "      <td>NaN</td>\n",
       "      <td>NaN</td>\n",
       "      <td>NaN</td>\n",
       "      <td>Democratic</td>\n",
       "      <td>Republican</td>\n",
       "      <td>NaN</td>\n",
       "      <td>NaN</td>\n",
       "    </tr>\n",
       "    <tr>\n",
       "      <th>1</th>\n",
       "      <td>James City County</td>\n",
       "      <td>-</td>\n",
       "      <td>101 - Berkeley A</td>\n",
       "      <td>886</td>\n",
       "      <td>1,383</td>\n",
       "      <td>9.0</td>\n",
       "      <td>2,278</td>\n",
       "    </tr>\n",
       "    <tr>\n",
       "      <th>2</th>\n",
       "      <td>James City County</td>\n",
       "      <td>-</td>\n",
       "      <td>104- Berkeley D</td>\n",
       "      <td>324</td>\n",
       "      <td>341</td>\n",
       "      <td>1.0</td>\n",
       "      <td>666</td>\n",
       "    </tr>\n",
       "    <tr>\n",
       "      <th>3</th>\n",
       "      <td>James City County</td>\n",
       "      <td>-</td>\n",
       "      <td>201 - Jamestown A</td>\n",
       "      <td>391</td>\n",
       "      <td>337</td>\n",
       "      <td>2.0</td>\n",
       "      <td>730</td>\n",
       "    </tr>\n",
       "    <tr>\n",
       "      <th>4</th>\n",
       "      <td>James City County</td>\n",
       "      <td>-</td>\n",
       "      <td>501 - Roberts A</td>\n",
       "      <td>687</td>\n",
       "      <td>500</td>\n",
       "      <td>2.0</td>\n",
       "      <td>1,189</td>\n",
       "    </tr>\n",
       "  </tbody>\n",
       "</table>\n",
       "</div>"
      ],
      "text/plain": [
       "         County/City Ward                Pct Michael Paul Mullin  \\\n",
       "0                NaN  NaN                NaN          Democratic   \n",
       "1  James City County    -   101 - Berkeley A                 886   \n",
       "2  James City County    -    104- Berkeley D                 324   \n",
       "3  James City County    -  201 - Jamestown A                 391   \n",
       "4  James City County    -    501 - Roberts A                 687   \n",
       "\n",
       "  Heather Lynn Cordasco  All Others Total Votes Cast  \n",
       "0            Republican         NaN              NaN  \n",
       "1                 1,383         9.0            2,278  \n",
       "2                   341         1.0              666  \n",
       "3                   337         2.0              730  \n",
       "4                   500         2.0            1,189  "
      ]
     },
     "execution_count": 38,
     "metadata": {},
     "output_type": "execute_result"
    }
   ],
   "source": [
    "df93 = pd.read_csv('./vest_va_2016/Virginia_Elections_Database__2016_House_of_Delegates_General_Election_District_93_including_precincts.csv')\n",
    "df93.head()"
   ]
  },
  {
   "cell_type": "code",
   "execution_count": 39,
   "metadata": {},
   "outputs": [
    {
     "name": "stdout",
     "output_type": "stream",
     "text": [
      "5\n",
      "4\n"
     ]
    }
   ],
   "source": [
    "#Format df to match VESTs\n",
    "print(df93['County/City'].nunique())\n",
    "df93 = df93.iloc[1:]\n",
    "df93['HOD_DIST'] = '93'\n",
    "df93['LOCALITY'] = df93['County/City']\n",
    "df93['S16HODDEM'] = df93['Michael Paul Mullin']\n",
    "df93['S16HODREP'] = df93['Heather Lynn Cordasco']\n",
    "df93['S16HODWRI'] = df93['All Others']\n",
    "df93 = df93.drop(['County/City', 'Michael Paul Mullin', 'Heather Lynn Cordasco', 'All Others', 'Ward'], axis = 1)\n",
    "\n",
    "df93['COUNTYFP'] = df93['LOCALITY'].map(county_dict)\n",
    "print(df93['COUNTYFP'].nunique())\n",
    "\n",
    "df93['S16HODDEM'] = df93['S16HODDEM'].map(lambda x: str(x).replace(',', '')).astype(str).astype(float).astype(int)\n",
    "df93['S16HODREP'] = df93['S16HODREP'].map(lambda x: str(x).replace(',', '')).astype(str).astype(float).astype(int)\n",
    "df93['S16HODWRI'] = df93['S16HODWRI'].map(lambda x: str(x).replace(',', '')).astype(str).astype(float).astype(int)"
   ]
  },
  {
   "cell_type": "markdown",
   "metadata": {},
   "source": [
    "## Districts 77 and 93 together"
   ]
  },
  {
   "cell_type": "code",
   "execution_count": 40,
   "metadata": {},
   "outputs": [],
   "source": [
    "elections = []\n",
    "elections.append(df77)\n",
    "elections.append(df93)\n",
    "df = pd.concat(elections, axis = 0)\n",
    "\n",
    "df = df[df['LOCALITY'] != 'TOTALS']\n",
    "\n",
    "df = df.reset_index()"
   ]
  },
  {
   "cell_type": "markdown",
   "metadata": {},
   "source": [
    "### County vote total check"
   ]
  },
  {
   "cell_type": "code",
   "execution_count": 41,
   "metadata": {},
   "outputs": [
    {
     "name": "stdout",
     "output_type": "stream",
     "text": [
      "S16HODDEM: EQUAL\n",
      "S16HODWRI: EQUAL\n",
      "S16HODREP: EQUAL\n"
     ]
    }
   ],
   "source": [
    "column_list = ['S16HODDEM', 'S16HODWRI', 'S16HODREP']\n",
    "\n",
    "for val in column_list:\n",
    "    vote_dif = df[val].sum()-final[val].sum()\n",
    "    if (vote_dif == 0):\n",
    "        print(val+\": EQUAL\")\n",
    "    else:\n",
    "        print(val+\": DIFFERENCE OF \" + str(vote_dif)+ \" VOTES\")"
   ]
  },
  {
   "cell_type": "code",
   "execution_count": 43,
   "metadata": {},
   "outputs": [
    {
     "name": "stdout",
     "output_type": "stream",
     "text": [
      "Counties with differences printed below:\n",
      "\n",
      "All other races in all counties are equal\n"
     ]
    }
   ],
   "source": [
    "print(\"Counties with differences printed below:\")\n",
    "diff_counties=[]\n",
    "for i in column_list:\n",
    "    diff = df.groupby(['COUNTYFP']).sum()[i]-final.groupby(['COUNTYFP']).sum()[i]\n",
    "    for val in diff[diff != 0].index.values.tolist():\n",
    "        if val not in diff_counties:\n",
    "            diff_counties.append(val)\n",
    "    if len(diff[diff != 0]!=0):\n",
    "        print(diff[diff != 0].to_string(header=False))\n",
    "print(\"\")\n",
    "print(\"All other races in all counties are equal\")"
   ]
  },
  {
   "cell_type": "markdown",
   "metadata": {},
   "source": [
    "## Reallocate Absentee Votes"
   ]
  },
  {
   "cell_type": "code",
   "execution_count": 44,
   "metadata": {},
   "outputs": [],
   "source": [
    "df = df.fillna(0)\n",
    "\n",
    "absentee_and_prov = df[(df['Pct'].map(lambda x: 'Absentee' in str(x))) | (df['Pct'].map(lambda x: 'Provisional' in str(x)))]\n",
    "\n",
    "groupby_absentee_and_prov_tot = absentee_and_prov.groupby(['COUNTYFP']).sum()\n",
    "\n",
    "groupby_county_df_tot = df.groupby(['COUNTYFP']).sum()\n",
    "df_no_absent_or_provisional = df[(df['Pct'].map(lambda x: 'Absentee' not in str(x))) & (df['Pct'].map(lambda x: 'Provisional' not in str(x)))\n",
    "                                & (df['LOCALITY'] != 'TOTALS')]\n",
    "groupby_county_tot_no_absentee = df_no_absent_or_provisional.groupby('COUNTYFP').sum()"
   ]
  },
  {
   "cell_type": "code",
   "execution_count": 45,
   "metadata": {},
   "outputs": [],
   "source": [
    "df_with_absentee_reallocated = df_no_absent_or_provisional.copy()\n",
    "groupby_absentee_and_prov_tot.reset_index(inplace=True,drop=False)\n",
    "groupby_county_tot_no_absentee.reset_index(inplace=True,drop=False)\n",
    "\n",
    "to_dole_out_totals = groupby_absentee_and_prov_tot.copy()\n",
    "precinct_specific_totals = groupby_county_tot_no_absentee.copy()\n",
    "\n",
    "## PH CODE for vote allocation\n",
    "\n",
    "#countyfp_cd\n",
    "#df_no_absent_or_provisional\n",
    "\n",
    "#Create some new columns for each of these races to deal with the allocation\n",
    "for race in column_list:\n",
    "    add_var = race+\"_add\"\n",
    "    rem_var = race+\"_rem\"\n",
    "    floor_var = race+\"_floor\"\n",
    "    df_with_absentee_reallocated.loc[:,add_var]=0.0\n",
    "    df_with_absentee_reallocated.loc[:,rem_var]=0.0\n",
    "    df_with_absentee_reallocated.loc[:,floor_var]=0.0\n",
    "\n",
    "#Iterate over the rows\n",
    "#Note this function iterates over the dataframe two times so the rounded vote totals match the totals to allocate\n",
    "for index, row in df_no_absent_or_provisional.iterrows():\n",
    "    for race in column_list:\n",
    "        add_var = race+\"_add\"\n",
    "        rem_var = race+\"_rem\"\n",
    "        floor_var = race+\"_floor\"\n",
    "        #Grab the district\n",
    "        county_id = row['COUNTYFP']\n",
    "        #Get the denominator for the allocation (the precinct vote totals)\n",
    "        denom = precinct_specific_totals.loc[precinct_specific_totals['COUNTYFP']==county_id][race]\n",
    "        #Get one of the numerators, how many districtwide votes to allocate\n",
    "        numer = to_dole_out_totals.loc[to_dole_out_totals['COUNTYFP']==county_id][race]\n",
    "        #Get the vote totals for this race in this precinct\n",
    "        val = df_with_absentee_reallocated.at[index,race]\n",
    "        #Get the vote share, the precincts % of total precinct votes in the district times votes to allocate\n",
    "        if ((float(denom)==0)):\n",
    "            vote_share = 0\n",
    "        else:\n",
    "            vote_share = (float(val)/float(denom))*float(numer)\n",
    "        df_with_absentee_reallocated.at[index,add_var] = vote_share\n",
    "        #Take the decimal remainder of the allocation\n",
    "        df_with_absentee_reallocated.at[index,rem_var] = vote_share%1\n",
    "        #Take the floor of the allocation\n",
    "        df_with_absentee_reallocated.at[index,floor_var] = np.floor(vote_share)\n",
    "\n",
    "#After the first pass through, get the sums of the races by district to assist in the rounding            \n",
    "first_allocation = pd.DataFrame(df_with_absentee_reallocated.groupby(['COUNTYFP']).sum())\n",
    "\n",
    "#Now we want to iterate district by district to work on rounding\n",
    "county_list = list(to_dole_out_totals['COUNTYFP'].unique()) \n",
    "\n",
    "#Iterate over the district\n",
    "for county in county_list:\n",
    "    for race in column_list:\n",
    "        add_var = race+\"_add\"\n",
    "        rem_var = race+\"_rem\"\n",
    "        floor_var = race+\"_floor\"\n",
    "        #County how many votes still need to be allocated (because we took the floor of all the initial allocations)\n",
    "        to_go = int(np.round((int(to_dole_out_totals.loc[to_dole_out_totals['COUNTYFP']==county][race])-first_allocation.loc[first_allocation.index==county,floor_var])))\n",
    "        #Grab the n precincts with the highest remainders and round these up, where n is the # of votes that still need to be allocated\n",
    "        for index in df_with_absentee_reallocated.loc[df_with_absentee_reallocated['COUNTYFP']==county][rem_var].nlargest(to_go).index:\n",
    "            df_with_absentee_reallocated.at[index,add_var] = np.ceil(df_with_absentee_reallocated.at[index,add_var])\n",
    "\n",
    "#Iterate over every race again\n",
    "for race in column_list:\n",
    "    add_var = race+\"_add\"\n",
    "    #Round every allocation down to not add fractional votes\n",
    "    df_with_absentee_reallocated.loc[:,add_var]=np.floor(df_with_absentee_reallocated.loc[:,add_var])\n",
    "    df_with_absentee_reallocated.loc[:,race]+=df_with_absentee_reallocated.loc[:,add_var]"
   ]
  },
  {
   "cell_type": "code",
   "execution_count": 46,
   "metadata": {},
   "outputs": [
    {
     "name": "stdout",
     "output_type": "stream",
     "text": [
      "S16HODDEM: EQUAL\n",
      "S16HODWRI: EQUAL\n",
      "S16HODREP: EQUAL\n",
      "Counties with differences printed below:\n",
      "\n",
      "All other races in all counties are equal\n"
     ]
    }
   ],
   "source": [
    "for val in column_list:\n",
    "    vote_dif = df_with_absentee_reallocated[val].sum()-final[val].sum()\n",
    "    if (vote_dif == 0):\n",
    "        print(val+\": EQUAL\")\n",
    "    else:\n",
    "        print(val+\": DIFFERENCE OF \" + str(vote_dif)+ \" VOTES\")\n",
    "        \n",
    "        \n",
    "print(\"Counties with differences printed below:\")\n",
    "diff_counties=[]\n",
    "for i in column_list:\n",
    "    diff = df_with_absentee_reallocated.groupby(['LOCALITY']).sum()[i]-final.groupby(['LOCALITY']).sum()[i]\n",
    "    for val in diff[diff != 0].index.values.tolist():\n",
    "        if val not in diff_counties:\n",
    "            diff_counties.append(val)\n",
    "    if len(diff[diff != 0]!=0):\n",
    "        print(diff[diff != 0].to_string(header=False))\n",
    "print(\"\")\n",
    "print(\"All other races in all counties are equal\")"
   ]
  },
  {
   "cell_type": "markdown",
   "metadata": {},
   "source": [
    "### Create unique id to enable merge"
   ]
  },
  {
   "cell_type": "code",
   "execution_count": 47,
   "metadata": {},
   "outputs": [],
   "source": [
    "#Function to format 3 digit VTDST code pulled from df\n",
    "def vtdst_changer(vtdst):\n",
    "    if (vtdst[1:3] == ' -'):\n",
    "        two_lead_zero = '00' + vtdst[:1]\n",
    "        return two_lead_zero\n",
    "    elif (vtdst[1:3] == '- '):\n",
    "        two_lead_zero = '00' + vtdst[:1]\n",
    "        return two_lead_zero\n",
    "    elif (vtdst[-1:] == ' '):\n",
    "        one_lead_zero = '0' + vtdst[:2]\n",
    "        return one_lead_zero\n",
    "    elif (vtdst[-1:] == '-'):\n",
    "        one_lead_zero = '0' + vtdst[:2]\n",
    "        return one_lead_zero\n",
    "    else:\n",
    "        return vtdst"
   ]
  },
  {
   "cell_type": "code",
   "execution_count": 48,
   "metadata": {},
   "outputs": [
    {
     "name": "stdout",
     "output_type": "stream",
     "text": [
      "unique ids in df not in VEST file:  set()\n",
      "unique ids in VEST file not in df:  set()\n"
     ]
    }
   ],
   "source": [
    "df_with_absentee_reallocated['vtdst'] = df_with_absentee_reallocated.Pct.str.slice(stop = 3)\n",
    "df_with_absentee_reallocated['vtdst'] = df_with_absentee_reallocated['vtdst'].apply(vtdst_changer)\n",
    "#Assign unique_id\n",
    "df_with_absentee_reallocated['unique_id'] = df_with_absentee_reallocated['COUNTYFP'] + df_with_absentee_reallocated['vtdst']\n",
    "final['unique_id'] = final.COUNTYFP + final.VTDST.str.slice(start = 3)\n",
    "\n",
    "print('unique ids in df not in VEST file: ', set(df_with_absentee_reallocated.unique_id) - set(final.unique_id))\n",
    "print('unique ids in VEST file not in df: ', set(final.unique_id) - set(df_with_absentee_reallocated.unique_id))"
   ]
  },
  {
   "cell_type": "markdown",
   "metadata": {},
   "source": [
    "# Shapefile"
   ]
  },
  {
   "cell_type": "code",
   "execution_count": 49,
   "metadata": {},
   "outputs": [
    {
     "data": {
      "text/plain": [
       "<AxesSubplot:>"
      ]
     },
     "execution_count": 49,
     "metadata": {},
     "output_type": "execute_result"
    },
    {
     "data": {
      "image/png": "[encoded data removed]",
      "text/plain": [
       "<Figure size 432x288 with 1 Axes>"
      ]
     },
     "metadata": {
      "needs_background": "light"
     },
     "output_type": "display_data"
    },
    {
     "data": {
      "image/png": "[encoded data removed]",
      "text/plain": [
       "<Figure size 432x288 with 1 Axes>"
      ]
     },
     "metadata": {
      "needs_background": "light"
     },
     "output_type": "display_data"
    }
   ],
   "source": [
    "county_fips = []\n",
    "for directory in os.listdir('./vest_va_2016/census_shps_by_county_all_unzip/'):\n",
    "    if not directory[0] == '.':\n",
    "        county_fips.append(directory[-5:])\n",
    "        \n",
    "proj = final.crs   \n",
    "\n",
    "county_vtds = []\n",
    "for i in county_fips: #i dont have fips_codes file\n",
    "    ref = './vest_va_2016/census_shps_by_county_all_unzip/partnership_shapefiles_19v2_'\n",
    "    vtd_ref = ref + i + '/PVS_19_v2_vtd_' + i + '.shp' \n",
    "    vtd_shp = gpd.read_file(vtd_ref)\n",
    "    #print(i, ' added to list')\n",
    "    county_vtds.append(vtd_shp)\n",
    "\n",
    "global shp_vtd\n",
    "shp_vtd = gpd.GeoDataFrame(pd.concat(county_vtds, axis = 0) , crs = proj) \n",
    "\n",
    "county_sldl = []\n",
    "for i in county_fips: #i dont have fips_codes file\n",
    "    ref = './vest_va_2016/census_shps_by_county_all_unzip/partnership_shapefiles_19v2_'\n",
    "    sldl_ref = ref + i + '/PVS_19_v2_sldl_' + i + '.shp' #PVS_19_v2_sldl_51650\n",
    "    sldl_shp = gpd.read_file(sldl_ref)\n",
    "    #print(i, ' added to list')\n",
    "    county_sldl.append(sldl_shp)\n",
    "\n",
    "global shp_sldl\n",
    "shp_sldl = gpd.GeoDataFrame(pd.concat(county_sldl, axis = 0) , crs = proj) \n",
    "\n",
    "overlay = gpd.overlay(shp_sldl, shp_vtd, how='intersection', make_valid=True, keep_geom_type=True)\n",
    "shp = overlay[(overlay.SLDLST == '077') | (overlay.SLDLST == '093')]\n",
    "\n",
    "shp.plot()\n",
    "final.plot()"
   ]
  },
  {
   "cell_type": "code",
   "execution_count": 50,
   "metadata": {},
   "outputs": [
    {
     "name": "stdout",
     "output_type": "stream",
     "text": [
      "unique id in shp not in vest file:  {'095042', '800304', '199201', '550058', '550064', '095041', '550033', '550006'}\n",
      "unique id in vest file not in shp:  {'700211', '095104'}\n"
     ]
    },
    {
     "name": "stderr",
     "output_type": "stream",
     "text": [
      "/Users/lilyfalk/anaconda3/envs/pdv_env/lib/python3.9/site-packages/geopandas/geodataframe.py:1322: SettingWithCopyWarning: \n",
      "A value is trying to be set on a copy of a slice from a DataFrame.\n",
      "Try using .loc[row_indexer,col_indexer] = value instead\n",
      "\n",
      "See the caveats in the documentation: https://pandas.pydata.org/pandas-docs/stable/user_guide/indexing.html#returning-a-view-versus-a-copy\n",
      "  super(GeoDataFrame, self).__setitem__(key, value)\n"
     ]
    },
    {
     "data": {
      "text/plain": [
       "<AxesSubplot:>"
      ]
     },
     "execution_count": 50,
     "metadata": {},
     "output_type": "execute_result"
    },
    {
     "data": {
      "image/png": "[encoded data removed]",
      "text/plain": [
       "<Figure size 432x288 with 1 Axes>"
      ]
     },
     "metadata": {
      "needs_background": "light"
     },
     "output_type": "display_data"
    },
    {
     "data": {
      "image/png": "[encoded data removed]",
      "text/plain": [
       "<Figure size 432x288 with 1 Axes>"
      ]
     },
     "metadata": {
      "needs_background": "light"
     },
     "output_type": "display_data"
    }
   ],
   "source": [
    "print('unique id in shp not in vest file: ', (set(shp.COUNTYFP_1 + shp.VTDST.str.slice(start = 3)) - set(final.COUNTYFP + final.VTDST.str.slice(start = 3))))\n",
    "print('unique id in vest file not in shp: ', (set(final.COUNTYFP + final.VTDST.str.slice(start = 3)) - set(shp.COUNTYFP_1 + shp.VTDST.str.slice(start = 3))))\n",
    "#assign unique id format from above to shp:\n",
    "shp['unique_id'] = shp['COUNTYFP_1'] + shp['VTDST'].str.slice(start = 3)\n",
    "#Check out mismatches that can be matched\n",
    "shp[(shp['unique_id'] == '095041') | (shp['unique_id'] == '095042')].plot()\n",
    "final[final['unique_id'] == '095104'].plot()"
   ]
  },
  {
   "cell_type": "code",
   "execution_count": 51,
   "metadata": {},
   "outputs": [
    {
     "name": "stdout",
     "output_type": "stream",
     "text": [
      "unique id in shp not in vest file:  {'800304', '199201', '550058', '550064', '550033', '550006'}\n",
      "unique id in vest file not in shp:  {'700211'}\n"
     ]
    },
    {
     "name": "stderr",
     "output_type": "stream",
     "text": [
      "/Users/lilyfalk/anaconda3/envs/pdv_env/lib/python3.9/site-packages/pandas/core/indexing.py:1676: SettingWithCopyWarning: \n",
      "A value is trying to be set on a copy of a slice from a DataFrame.\n",
      "Try using .loc[row_indexer,col_indexer] = value instead\n",
      "\n",
      "See the caveats in the documentation: https://pandas.pydata.org/pandas-docs/stable/user_guide/indexing.html#returning-a-view-versus-a-copy\n",
      "  self._setitem_single_column(ilocs[0], value, pi)\n"
     ]
    }
   ],
   "source": [
    "#Dictionary to remedy the above mismatches\n",
    "id_095_dict = {'095041': '095104', '095042': '095104'}\n",
    "\n",
    "shp.loc[shp['unique_id'].isin(id_095_dict.keys()), 'unique_id'] = shp.loc[shp['unique_id'].isin(id_095_dict.keys()), 'unique_id'].map(id_095_dict)\n",
    "#merge geometries that repeat\n",
    "shp = shp.dissolve(by = 'unique_id', as_index = False)\n",
    "\n",
    "print('unique id in shp not in vest file: ', (set(shp.unique_id) - set(final.unique_id)))\n",
    "print('unique id in vest file not in shp: ',(set(final.unique_id) - set(shp.unique_id)))"
   ]
  },
  {
   "cell_type": "code",
   "execution_count": 65,
   "metadata": {},
   "outputs": [
    {
     "data": {
      "text/plain": [
       "7          COVENTRY Voting District\n",
       "13       Deep Creek Voting District\n",
       "27         Westover Voting District\n",
       "31       Expressway Voting District\n",
       "32    Deep Creek II Voting District\n",
       "43                  NANSEMOND RIVER\n",
       "Name: NAMELSAD_2, dtype: object"
      ]
     },
     "execution_count": 65,
     "metadata": {},
     "output_type": "execute_result"
    }
   ],
   "source": [
    "shp['NAMELSAD_2'][shp.unique_id.isin(list(set(shp.unique_id) - set(final.unique_id)))]"
   ]
  },
  {
   "cell_type": "code",
   "execution_count": 52,
   "metadata": {},
   "outputs": [
    {
     "data": {
      "text/html": [
       "<div>\n",
       "<style scoped>\n",
       "    .dataframe tbody tr th:only-of-type {\n",
       "        vertical-align: middle;\n",
       "    }\n",
       "\n",
       "    .dataframe tbody tr th {\n",
       "        vertical-align: top;\n",
       "    }\n",
       "\n",
       "    .dataframe thead th {\n",
       "        text-align: right;\n",
       "    }\n",
       "</style>\n",
       "<table border=\"1\" class=\"dataframe\">\n",
       "  <thead>\n",
       "    <tr style=\"text-align: right;\">\n",
       "      <th></th>\n",
       "      <th>COUNTYFP</th>\n",
       "      <th>LOCALITY</th>\n",
       "      <th>VTDST</th>\n",
       "      <th>PRECINCT</th>\n",
       "      <th>HOD_DIST</th>\n",
       "      <th>S16HODDEM</th>\n",
       "      <th>S16HODREP</th>\n",
       "      <th>S16HODWRI</th>\n",
       "      <th>geometry</th>\n",
       "      <th>unique_id</th>\n",
       "    </tr>\n",
       "  </thead>\n",
       "  <tbody>\n",
       "    <tr>\n",
       "      <th>45</th>\n",
       "      <td>700</td>\n",
       "      <td>Newport News City</td>\n",
       "      <td>000211</td>\n",
       "      <td>Palmer</td>\n",
       "      <td>093</td>\n",
       "      <td>86</td>\n",
       "      <td>65</td>\n",
       "      <td>1</td>\n",
       "      <td>POLYGON Z ((-76.46814 37.11123 0.00000, -76.46...</td>\n",
       "      <td>700211</td>\n",
       "    </tr>\n",
       "  </tbody>\n",
       "</table>\n",
       "</div>"
      ],
      "text/plain": [
       "   COUNTYFP           LOCALITY   VTDST PRECINCT HOD_DIST  S16HODDEM  \\\n",
       "45      700  Newport News City  000211   Palmer      093         86   \n",
       "\n",
       "    S16HODREP  S16HODWRI                                           geometry  \\\n",
       "45         65          1  POLYGON Z ((-76.46814 37.11123 0.00000, -76.46...   \n",
       "\n",
       "   unique_id  \n",
       "45    700211  "
      ]
     },
     "execution_count": 52,
     "metadata": {},
     "output_type": "execute_result"
    }
   ],
   "source": [
    "#See the description of the id in vest file not shp\n",
    "final[final.unique_id == '700211']"
   ]
  },
  {
   "cell_type": "markdown",
   "metadata": {},
   "source": [
    "### Join election results and shapefile"
   ]
  },
  {
   "cell_type": "code",
   "execution_count": 53,
   "metadata": {},
   "outputs": [
    {
     "data": {
      "text/plain": [
       "<AxesSubplot:>"
      ]
     },
     "execution_count": 53,
     "metadata": {},
     "output_type": "execute_result"
    },
    {
     "data": {
      "image/png": "[encoded data removed]",
      "text/plain": [
       "<Figure size 432x288 with 1 Axes>"
      ]
     },
     "metadata": {
      "needs_background": "light"
     },
     "output_type": "display_data"
    },
    {
     "data": {
      "image/png": "[encoded data removed]",
      "text/plain": [
       "<Figure size 432x288 with 1 Axes>"
      ]
     },
     "metadata": {
      "needs_background": "light"
     },
     "output_type": "display_data"
    }
   ],
   "source": [
    "join = gpd.GeoDataFrame(pd.merge(df_with_absentee_reallocated, shp, on = 'unique_id', how = 'outer'), crs = proj)\n",
    "join.plot()\n",
    "final.plot()"
   ]
  },
  {
   "cell_type": "markdown",
   "metadata": {},
   "source": [
    "# Validation"
   ]
  },
  {
   "cell_type": "markdown",
   "metadata": {},
   "source": [
    "## Validating Shapefile"
   ]
  },
  {
   "cell_type": "markdown",
   "metadata": {},
   "source": [
    "Here, I merge the shp joined to the election results to the final vest file to compare"
   ]
  },
  {
   "cell_type": "code",
   "execution_count": 54,
   "metadata": {},
   "outputs": [
    {
     "data": {
      "text/plain": [
       "(46, 10)"
      ]
     },
     "execution_count": 54,
     "metadata": {},
     "output_type": "execute_result"
    }
   ],
   "source": [
    "final.shape"
   ]
  },
  {
   "cell_type": "code",
   "execution_count": 55,
   "metadata": {},
   "outputs": [
    {
     "name": "stderr",
     "output_type": "stream",
     "text": [
      "/Users/lilyfalk/anaconda3/envs/pdv_env/lib/python3.9/site-packages/geopandas/base.py:32: UserWarning: The indices of the two GeoSeries are different.\n",
      "  warn(\"The indices of the two GeoSeries are different.\")\n"
     ]
    }
   ],
   "source": [
    "shp_final_merge = pd.merge(join, final, on = 'unique_id', how = 'outer', suffixes = ['_x', '_y'],indicator=True)\n",
    "\n",
    "join['geometry'].geom_almost_equals(final['geometry'], decimal = 0)\n",
    "\n",
    "shp_shapes = gpd.GeoDataFrame(shp_final_merge, geometry = 'geometry_x')\n",
    "final_shapes = gpd.GeoDataFrame(shp_final_merge, geometry = 'geometry_y')\n",
    "vals = shp_shapes.geom_almost_equals(final_shapes, decimal = 0)"
   ]
  },
  {
   "cell_type": "code",
   "execution_count": 56,
   "metadata": {},
   "outputs": [
    {
     "name": "stdout",
     "output_type": "stream",
     "text": [
      "False    44\n",
      "True      2\n",
      "dtype: int64\n"
     ]
    }
   ],
   "source": [
    "both = shp_final_merge[shp_final_merge[\"_merge\"]==\"both\"]\n",
    "source_geoms = gpd.GeoDataFrame(both,geometry=\"geometry_x\",crs=final.crs)\n",
    "vest_geoms = gpd.GeoDataFrame(both,geometry=\"geometry_y\",crs=final.crs)\n",
    "source_geoms = source_geoms.to_crs(3857)\n",
    "vest_geoms = vest_geoms.to_crs(3857)\n",
    "source_geoms[\"geometry_x\"]=source_geoms.buffer(0)\n",
    "vest_geoms[\"geometry_y\"]=vest_geoms.buffer(0)\n",
    "vals = source_geoms.geom_almost_equals(vest_geoms,decimal=0)\n",
    "print(vals.value_counts())"
   ]
  },
  {
   "cell_type": "code",
   "execution_count": 57,
   "metadata": {},
   "outputs": [],
   "source": [
    "count = 0\n",
    "area_list = []\n",
    "big_diff = pd.DataFrame(columns=[\"area\"])\n",
    "for i in range(0,len(source_geoms)):\n",
    "    diff = source_geoms.iloc[[i]].symmetric_difference(vest_geoms.iloc[[i]])\n",
    "    intersection = source_geoms.iloc[[i]].intersection(vest_geoms.iloc[[i]])\n",
    "    area = float(diff.area/10e6)\n",
    "    area_list.append(area)\n",
    "    #print(\"Area is \" + str(area))\n",
    "\n",
    "    if (area > 1):\n",
    "        count += 1\n",
    "        name = source_geoms.at[i,\"Pct\"]\n",
    "        big_diff.loc[name]=area\n",
    "        print(str(count)+\") For \" + name + \" difference in area is \" + str(area))\n",
    "        if (intersection.iloc[0].is_empty):\n",
    "            base = diff.plot(color=\"red\")\n",
    "            source_geoms.iloc[[i]].plot(color=\"orange\",ax=base)\n",
    "            vest_geoms.iloc[[i]].plot(color=\"blue\",ax=base)\n",
    "            base.set_title(name)\n",
    "        else:\n",
    "            base = diff.plot(color=\"red\")\n",
    "            source_geoms.iloc[[i]].plot(color=\"orange\",ax=base)\n",
    "            vest_geoms.iloc[[i]].plot(color=\"blue\",ax=base)\n",
    "            intersection.plot(color=\"green\",ax=base)\n",
    "            base.set_title(name)"
   ]
  },
  {
   "cell_type": "code",
   "execution_count": 58,
   "metadata": {},
   "outputs": [
    {
     "name": "stdout",
     "output_type": "stream",
     "text": [
      "(46, 1)\n",
      "31 precincts w/ a difference of 0 km^2\n",
      "12 precincts w/ a difference between 0 and .1 km^2\n",
      "2 precincts w/ a difference between .1 and .5 km^2\n",
      "0 precincts w/ a difference between .5 and 1 km^2\n",
      "0 precincts w/ a difference between 1 and 2 km^2\n",
      "0 precincts w/ a difference between 2 and 5 km^2\n",
      "0 precincts w/ a difference greater than 5 km^2\n"
     ]
    }
   ],
   "source": [
    "df = pd.DataFrame(area_list)\n",
    "print(df.shape)\n",
    "\n",
    "print(str(len(df[df[0]==0]))+\" precincts w/ a difference of 0 km^2\")\n",
    "print(str(len(df[(df[0]<.1) & (df[0]>0)]))+ \" precincts w/ a difference between 0 and .1 km^2\")\n",
    "print(str(len(df[(df[0]<.5) & (df[0]>=.1)]))+ \" precincts w/ a difference between .1 and .5 km^2\")\n",
    "print(str(len(df[(df[0]<1) & (df[0]>=.5)]))+ \" precincts w/ a difference between .5 and 1 km^2\")\n",
    "print(str(len(df[(df[0]<2) & (df[0]>=1)]))+ \" precincts w/ a difference between 1 and 2 km^2\")\n",
    "print(str(len(df[(df[0]<5) & (df[0]>=2)]))+ \" precincts w/ a difference between 2 and 5 km^2\")\n",
    "print(str(len(df[(df[0]>=5)]))+ \" precincts w/ a difference greater than 5 km^2\")"
   ]
  },
  {
   "cell_type": "markdown",
   "metadata": {},
   "source": [
    "## Validating Election Results"
   ]
  },
  {
   "cell_type": "code",
   "execution_count": 59,
   "metadata": {},
   "outputs": [],
   "source": [
    "def validater_row (df, column_List):\n",
    "    matching_rows = 0\n",
    "    different_rows = 0\n",
    "    diff_list=[]\n",
    "    diff_values = []\n",
    "    max_diff = 0\n",
    "    for j in range(0,len(df.index)):\n",
    "        same = True\n",
    "        for i in column_List:\n",
    "            left_Data = i + \"_x\"\n",
    "            right_Data = i + \"_y\"\n",
    "            diff = abs(df.iloc[j][left_Data]-df.iloc[j][right_Data])\n",
    "            if(diff >0):\n",
    "                if(diff>0):\n",
    "                    print(i, \"{:.>72}\".format(df.iloc[j][\"unique_id\"]), \"(V)\",\"{:.>5}\".format(int(df.iloc[j][right_Data])),\" (S){:.>5}\".format(int(df.iloc[j][left_Data])),\"(D):{:>5}\".format(int(df.iloc[j][right_Data])-int(df.iloc[j][left_Data])))           \n",
    "                #print(df.iloc[j]['countypct'])\n",
    "                \n",
    "                diff_values.append(abs(diff))\n",
    "                same = False\n",
    "                if(np.isnan(diff)):\n",
    "                    print(\"NaN value at diff is: \", df.iloc[j][\"unique_id\"])\n",
    "                    print(df.iloc[j][left_Data])\n",
    "                    print(df.iloc[j][right_Data])\n",
    "                if (diff>max_diff):\n",
    "                    max_diff = diff\n",
    "                    #print(\"New max diff is: \", str(max_diff))\n",
    "                    #print(df.iloc[j]['cty_pct'])\n",
    "        if(same != True):\n",
    "            different_rows +=1\n",
    "            diff_list.append(df.iloc[j][\"unique_id\"])\n",
    "        else:\n",
    "            matching_rows +=1\n",
    "    print(\"\")\n",
    "    print(\"There are \", len(df.index),\" total rows\")\n",
    "    print(different_rows,\" of these rows have election result differences\")\n",
    "    print(matching_rows,\" of these rows are the same\")\n",
    "    print(\"\")\n",
    "    print(\"The max difference between any one shared column in a row is: \", max_diff)\n",
    "    if(len(diff_values)!=0):\n",
    "        print(\"The average difference is: \", str(sum(diff_values)/len(diff_values)))\n",
    "    count_big_diff = len([i for i in diff_values if i > 10])\n",
    "    print(\"There are \", str(count_big_diff), \"precinct results with a difference greater than 10\")\n",
    "    diff_list.sort()\n",
    "    print(diff_list)"
   ]
  },
  {
   "cell_type": "code",
   "execution_count": 61,
   "metadata": {},
   "outputs": [
    {
     "name": "stdout",
     "output_type": "stream",
     "text": [
      "S16HODDEM ..................................................................550003 (V) .2112  (S).2111 (D):    1\n",
      "S16HODDEM ..................................................................550005 (V) .1607  (S).1608 (D):   -1\n",
      "S16HODDEM ..................................................................550025 (V) ..728  (S)..729 (D):   -1\n",
      "S16HODDEM ..................................................................550026 (V) ..749  (S)..748 (D):    1\n",
      "S16HODDEM ..................................................................550030 (V) ..914  (S)..913 (D):    1\n",
      "S16HODDEM ..................................................................550031 (V) .1766  (S).1767 (D):   -1\n",
      "S16HODDEM ..................................................................550032 (V) .2117  (S).2116 (D):    1\n",
      "S16HODDEM ..................................................................550048 (V) .1795  (S).1796 (D):   -1\n",
      "S16HODDEM ..................................................................800302 (V) .1489  (S).1488 (D):    1\n",
      "S16HODDEM ..................................................................800403 (V) ..681  (S)..682 (D):   -1\n",
      "S16HODDEM ..................................................................800601 (V) ..251  (S)..252 (D):   -1\n",
      "S16HODDEM ..................................................................800605 (V) ..760  (S)..759 (D):    1\n",
      "S16HODWRI ..................................................................095101 (V) ...14  (S)...13 (D):    1\n",
      "S16HODWRI ..................................................................095104 (V) ....1  (S)....2 (D):   -1\n",
      "S16HODREP ..................................................................700106 (V) ..433  (S)..434 (D):   -1\n",
      "S16HODDEM ..................................................................700108 (V) ..505  (S)..506 (D):   -1\n",
      "S16HODDEM ..................................................................700109 (V) ..791  (S)..790 (D):    1\n",
      "S16HODREP ..................................................................700218 (V) .1459  (S).1458 (D):    1\n",
      "S16HODDEM ..................................................................830001 (V) .2362  (S).2361 (D):    1\n",
      "S16HODDEM ..................................................................830002 (V) .2503  (S).2504 (D):   -1\n",
      "\n",
      "There are  52  total rows\n",
      "20  of these rows have election result differences\n",
      "32  of these rows are the same\n",
      "\n",
      "The max difference between any one shared column in a row is:  1.0\n",
      "The average difference is:  1.0\n",
      "There are  0 precinct results with a difference greater than 10\n",
      "['095101', '095104', '550003', '550005', '550025', '550026', '550030', '550031', '550032', '550048', '700106', '700108', '700109', '700218', '800302', '800403', '800601', '800605', '830001', '830002']\n"
     ]
    }
   ],
   "source": [
    "column_list = ['S16HODDEM', 'S16HODREP', 'S16HODWRI']\n",
    "final_join_merge = pd.merge(join, final, on = 'unique_id', how = 'outer', suffixes = ['_x', '_y'])\n",
    "validater_row(final_join_merge, column_list)"
   ]
  },
  {
   "cell_type": "code",
   "execution_count": null,
   "metadata": {},
   "outputs": [],
   "source": []
  }
 ],
 "metadata": {
  "kernelspec": {
   "display_name": "pdv_env",
   "language": "python",
   "name": "pdv_env"
  },
  "language_info": {
   "codemirror_mode": {
    "name": "ipython",
    "version": 3
   },
   "file_extension": ".py",
   "mimetype": "text/x-python",
   "name": "python",
   "nbconvert_exporter": "python",
   "pygments_lexer": "ipython3",
   "version": "3.9.4"
  }
 },
 "nbformat": 4,
 "nbformat_minor": 4
}
