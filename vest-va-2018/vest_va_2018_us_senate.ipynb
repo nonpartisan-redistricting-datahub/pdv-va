{
 "cells": [
  {
   "cell_type": "code",
   "execution_count": 2,
   "metadata": {},
   "outputs": [],
   "source": [
    "import pandas as pd\n",
    "import geopandas as gpd\n",
    "import matplotlib.pyplot as plt\n",
    "import maup\n",
    "from zipfile import ZipFile\n",
    "import numpy as np\n",
    "import os\n",
    "import shutil"
   ]
  },
  {
   "cell_type": "markdown",
   "metadata": {},
   "source": [
    "# US Senate"
   ]
  },
  {
   "cell_type": "code",
   "execution_count": 3,
   "metadata": {},
   "outputs": [],
   "source": [
    "#Read in election results\n",
    "#unzip all county shapefiles\n",
    "#read in all county shapefiles\n",
    "#concatenate all files (same fields should keep it simple) - use a dictionary?"
   ]
  },
  {
   "cell_type": "markdown",
   "metadata": {},
   "source": [
    "### Final File - Load"
   ]
  },
  {
   "cell_type": "code",
   "execution_count": 4,
   "metadata": {},
   "outputs": [],
   "source": [
    "#Check out final file: https://dataverse.harvard.edu/file.xhtml?persistentId=doi:10.7910/DVN/UBKYRU/FQDLOO&version=33.0 \n",
    "final = gpd.read_file('./vest_va/va_2018_senate/va_2018_senate.shp')"
   ]
  },
  {
   "cell_type": "code",
   "execution_count": 5,
   "metadata": {},
   "outputs": [
    {
     "data": {
      "text/html": [
       "<div>\n",
       "<style scoped>\n",
       "    .dataframe tbody tr th:only-of-type {\n",
       "        vertical-align: middle;\n",
       "    }\n",
       "\n",
       "    .dataframe tbody tr th {\n",
       "        vertical-align: top;\n",
       "    }\n",
       "\n",
       "    .dataframe thead th {\n",
       "        text-align: right;\n",
       "    }\n",
       "</style>\n",
       "<table border=\"1\" class=\"dataframe\">\n",
       "  <thead>\n",
       "    <tr style=\"text-align: right;\">\n",
       "      <th></th>\n",
       "      <th>COUNTYFP</th>\n",
       "      <th>LOCALITY</th>\n",
       "      <th>VTDST</th>\n",
       "      <th>PRECINCT</th>\n",
       "      <th>G18USSDKAI</th>\n",
       "      <th>G18USSRSTE</th>\n",
       "      <th>G18USSLWAT</th>\n",
       "      <th>G18USSOWRI</th>\n",
       "      <th>geometry</th>\n",
       "    </tr>\n",
       "  </thead>\n",
       "  <tbody>\n",
       "    <tr>\n",
       "      <th>0</th>\n",
       "      <td>001</td>\n",
       "      <td>Accomack County</td>\n",
       "      <td>000101</td>\n",
       "      <td>Chincoteague</td>\n",
       "      <td>556</td>\n",
       "      <td>994</td>\n",
       "      <td>17</td>\n",
       "      <td>0</td>\n",
       "      <td>POLYGON Z ((-75.42507 37.89957 0.00000, -75.42...</td>\n",
       "    </tr>\n",
       "    <tr>\n",
       "      <th>1</th>\n",
       "      <td>001</td>\n",
       "      <td>Accomack County</td>\n",
       "      <td>000201</td>\n",
       "      <td>Atlantic</td>\n",
       "      <td>182</td>\n",
       "      <td>459</td>\n",
       "      <td>11</td>\n",
       "      <td>0</td>\n",
       "      <td>POLYGON Z ((-75.59978 37.87664 0.00000, -75.59...</td>\n",
       "    </tr>\n",
       "    <tr>\n",
       "      <th>2</th>\n",
       "      <td>001</td>\n",
       "      <td>Accomack County</td>\n",
       "      <td>000202</td>\n",
       "      <td>Greenbackville</td>\n",
       "      <td>316</td>\n",
       "      <td>577</td>\n",
       "      <td>8</td>\n",
       "      <td>1</td>\n",
       "      <td>POLYGON Z ((-75.49919 37.93416 0.00000, -75.49...</td>\n",
       "    </tr>\n",
       "    <tr>\n",
       "      <th>3</th>\n",
       "      <td>001</td>\n",
       "      <td>Accomack County</td>\n",
       "      <td>000301</td>\n",
       "      <td>New Church</td>\n",
       "      <td>588</td>\n",
       "      <td>477</td>\n",
       "      <td>11</td>\n",
       "      <td>0</td>\n",
       "      <td>POLYGON Z ((-75.64987 37.92702 0.00000, -75.64...</td>\n",
       "    </tr>\n",
       "    <tr>\n",
       "      <th>4</th>\n",
       "      <td>001</td>\n",
       "      <td>Accomack County</td>\n",
       "      <td>000401</td>\n",
       "      <td>Bloxom</td>\n",
       "      <td>121</td>\n",
       "      <td>277</td>\n",
       "      <td>4</td>\n",
       "      <td>0</td>\n",
       "      <td>POLYGON Z ((-75.71556 37.87513 0.00000, -75.71...</td>\n",
       "    </tr>\n",
       "  </tbody>\n",
       "</table>\n",
       "</div>"
      ],
      "text/plain": [
       "  COUNTYFP         LOCALITY   VTDST        PRECINCT  G18USSDKAI  G18USSRSTE  \\\n",
       "0      001  Accomack County  000101    Chincoteague         556         994   \n",
       "1      001  Accomack County  000201        Atlantic         182         459   \n",
       "2      001  Accomack County  000202  Greenbackville         316         577   \n",
       "3      001  Accomack County  000301      New Church         588         477   \n",
       "4      001  Accomack County  000401          Bloxom         121         277   \n",
       "\n",
       "   G18USSLWAT  G18USSOWRI                                           geometry  \n",
       "0          17           0  POLYGON Z ((-75.42507 37.89957 0.00000, -75.42...  \n",
       "1          11           0  POLYGON Z ((-75.59978 37.87664 0.00000, -75.59...  \n",
       "2           8           1  POLYGON Z ((-75.49919 37.93416 0.00000, -75.49...  \n",
       "3          11           0  POLYGON Z ((-75.64987 37.92702 0.00000, -75.64...  \n",
       "4           4           0  POLYGON Z ((-75.71556 37.87513 0.00000, -75.71...  "
      ]
     },
     "execution_count": 5,
     "metadata": {},
     "output_type": "execute_result"
    }
   ],
   "source": [
    "final.head() #\tG18USSOWRI = \"Write-in Votes\" from vest documentation"
   ]
  },
  {
   "cell_type": "markdown",
   "metadata": {},
   "source": [
    "# Election Results: US Senate "
   ]
  },
  {
   "cell_type": "code",
   "execution_count": 6,
   "metadata": {},
   "outputs": [],
   "source": [
    "#US senate results from the state: https://historical.elections.virginia.gov/elections/view/134055/ \n",
    "df = pd.read_csv('./vest_va/Virginia_Elections_Database__2018_U_S_Senate_General_Election_including_precincts.csv')"
   ]
  },
  {
   "cell_type": "markdown",
   "metadata": {},
   "source": [
    "- Election race/Candidate name format change to match VEST\n",
    "- precinct identifier change to match"
   ]
  },
  {
   "cell_type": "code",
   "execution_count": 7,
   "metadata": {},
   "outputs": [
    {
     "data": {
      "text/html": [
       "<div>\n",
       "<style scoped>\n",
       "    .dataframe tbody tr th:only-of-type {\n",
       "        vertical-align: middle;\n",
       "    }\n",
       "\n",
       "    .dataframe tbody tr th {\n",
       "        vertical-align: top;\n",
       "    }\n",
       "\n",
       "    .dataframe thead th {\n",
       "        text-align: right;\n",
       "    }\n",
       "</style>\n",
       "<table border=\"1\" class=\"dataframe\">\n",
       "  <thead>\n",
       "    <tr style=\"text-align: right;\">\n",
       "      <th></th>\n",
       "      <th>County/City</th>\n",
       "      <th>Ward</th>\n",
       "      <th>Pct</th>\n",
       "      <th>Timothy Michael Kaine</th>\n",
       "      <th>Corey Alan Stewart</th>\n",
       "      <th>Matthew Joseph Waters</th>\n",
       "      <th>All Others</th>\n",
       "      <th>Total Votes Cast</th>\n",
       "    </tr>\n",
       "  </thead>\n",
       "  <tbody>\n",
       "    <tr>\n",
       "      <th>0</th>\n",
       "      <td>NaN</td>\n",
       "      <td>NaN</td>\n",
       "      <td>NaN</td>\n",
       "      <td>Democratic</td>\n",
       "      <td>Republican</td>\n",
       "      <td>Libertarian</td>\n",
       "      <td>NaN</td>\n",
       "      <td>NaN</td>\n",
       "    </tr>\n",
       "    <tr>\n",
       "      <th>1</th>\n",
       "      <td>Accomack County</td>\n",
       "      <td>-</td>\n",
       "      <td>101 - Chincoteague</td>\n",
       "      <td>487</td>\n",
       "      <td>932</td>\n",
       "      <td>16</td>\n",
       "      <td>0</td>\n",
       "      <td>1,435</td>\n",
       "    </tr>\n",
       "    <tr>\n",
       "      <th>2</th>\n",
       "      <td>Accomack County</td>\n",
       "      <td>-</td>\n",
       "      <td>201 - Atlantic</td>\n",
       "      <td>159</td>\n",
       "      <td>430</td>\n",
       "      <td>10</td>\n",
       "      <td>0</td>\n",
       "      <td>599</td>\n",
       "    </tr>\n",
       "    <tr>\n",
       "      <th>3</th>\n",
       "      <td>Accomack County</td>\n",
       "      <td>-</td>\n",
       "      <td>202 - Greenbackville</td>\n",
       "      <td>277</td>\n",
       "      <td>541</td>\n",
       "      <td>7</td>\n",
       "      <td>1</td>\n",
       "      <td>826</td>\n",
       "    </tr>\n",
       "    <tr>\n",
       "      <th>4</th>\n",
       "      <td>Accomack County</td>\n",
       "      <td>-</td>\n",
       "      <td>301 - New Church</td>\n",
       "      <td>515</td>\n",
       "      <td>447</td>\n",
       "      <td>10</td>\n",
       "      <td>0</td>\n",
       "      <td>972</td>\n",
       "    </tr>\n",
       "  </tbody>\n",
       "</table>\n",
       "</div>"
      ],
      "text/plain": [
       "       County/City Ward                   Pct Timothy Michael Kaine  \\\n",
       "0              NaN  NaN                   NaN            Democratic   \n",
       "1  Accomack County    -    101 - Chincoteague                   487   \n",
       "2  Accomack County    -        201 - Atlantic                   159   \n",
       "3  Accomack County    -  202 - Greenbackville                   277   \n",
       "4  Accomack County    -      301 - New Church                   515   \n",
       "\n",
       "  Corey Alan Stewart Matthew Joseph Waters All Others Total Votes Cast  \n",
       "0         Republican           Libertarian        NaN              NaN  \n",
       "1                932                    16          0            1,435  \n",
       "2                430                    10          0              599  \n",
       "3                541                     7          1              826  \n",
       "4                447                    10          0              972  "
      ]
     },
     "execution_count": 7,
     "metadata": {},
     "output_type": "execute_result"
    }
   ],
   "source": [
    "df.head() #Ward not appearing, should it?"
   ]
  },
  {
   "cell_type": "markdown",
   "metadata": {},
   "source": [
    "## Figure out overlap and rename accordingly to match final file"
   ]
  },
  {
   "cell_type": "code",
   "execution_count": 8,
   "metadata": {},
   "outputs": [
    {
     "data": {
      "text/plain": [
       "{'TOTALS', nan}"
      ]
     },
     "execution_count": 8,
     "metadata": {},
     "output_type": "execute_result"
    }
   ],
   "source": [
    "set(df['County/City']) - set(final['LOCALITY']) #account for totals later"
   ]
  },
  {
   "cell_type": "markdown",
   "metadata": {},
   "source": [
    "RENAME COLUMNS BUT NO CONTENT CHANGE"
   ]
  },
  {
   "cell_type": "code",
   "execution_count": 9,
   "metadata": {},
   "outputs": [
    {
     "data": {
      "text/html": [
       "<div>\n",
       "<style scoped>\n",
       "    .dataframe tbody tr th:only-of-type {\n",
       "        vertical-align: middle;\n",
       "    }\n",
       "\n",
       "    .dataframe tbody tr th {\n",
       "        vertical-align: top;\n",
       "    }\n",
       "\n",
       "    .dataframe thead th {\n",
       "        text-align: right;\n",
       "    }\n",
       "</style>\n",
       "<table border=\"1\" class=\"dataframe\">\n",
       "  <thead>\n",
       "    <tr style=\"text-align: right;\">\n",
       "      <th></th>\n",
       "      <th>Pct</th>\n",
       "      <th>LOCALITY</th>\n",
       "      <th>G18USSDKAI</th>\n",
       "      <th>G18USSRSTE</th>\n",
       "      <th>G18USSLWAT</th>\n",
       "      <th>G18USSOWRI</th>\n",
       "    </tr>\n",
       "  </thead>\n",
       "  <tbody>\n",
       "    <tr>\n",
       "      <th>1</th>\n",
       "      <td>101 - Chincoteague</td>\n",
       "      <td>Accomack County</td>\n",
       "      <td>487</td>\n",
       "      <td>932</td>\n",
       "      <td>16</td>\n",
       "      <td>0</td>\n",
       "    </tr>\n",
       "    <tr>\n",
       "      <th>2</th>\n",
       "      <td>201 - Atlantic</td>\n",
       "      <td>Accomack County</td>\n",
       "      <td>159</td>\n",
       "      <td>430</td>\n",
       "      <td>10</td>\n",
       "      <td>0</td>\n",
       "    </tr>\n",
       "    <tr>\n",
       "      <th>3</th>\n",
       "      <td>202 - Greenbackville</td>\n",
       "      <td>Accomack County</td>\n",
       "      <td>277</td>\n",
       "      <td>541</td>\n",
       "      <td>7</td>\n",
       "      <td>1</td>\n",
       "    </tr>\n",
       "    <tr>\n",
       "      <th>4</th>\n",
       "      <td>301 - New Church</td>\n",
       "      <td>Accomack County</td>\n",
       "      <td>515</td>\n",
       "      <td>447</td>\n",
       "      <td>10</td>\n",
       "      <td>0</td>\n",
       "    </tr>\n",
       "    <tr>\n",
       "      <th>5</th>\n",
       "      <td>401 - Bloxom</td>\n",
       "      <td>Accomack County</td>\n",
       "      <td>106</td>\n",
       "      <td>260</td>\n",
       "      <td>4</td>\n",
       "      <td>0</td>\n",
       "    </tr>\n",
       "  </tbody>\n",
       "</table>\n",
       "</div>"
      ],
      "text/plain": [
       "                    Pct         LOCALITY G18USSDKAI G18USSRSTE G18USSLWAT  \\\n",
       "1    101 - Chincoteague  Accomack County        487        932         16   \n",
       "2        201 - Atlantic  Accomack County        159        430         10   \n",
       "3  202 - Greenbackville  Accomack County        277        541          7   \n",
       "4      301 - New Church  Accomack County        515        447         10   \n",
       "5          401 - Bloxom  Accomack County        106        260          4   \n",
       "\n",
       "  G18USSOWRI  \n",
       "1          0  \n",
       "2          0  \n",
       "3          1  \n",
       "4          0  \n",
       "5          0  "
      ]
     },
     "execution_count": 9,
     "metadata": {},
     "output_type": "execute_result"
    }
   ],
   "source": [
    "df['LOCALITY'] = df['County/City']\n",
    "df['G18USSDKAI'] = df['Timothy Michael Kaine']\n",
    "df['G18USSRSTE'] = df['Corey Alan Stewart']\n",
    "df['G18USSLWAT'] = df['Matthew Joseph Waters']\n",
    "df['G18USSOWRI'] = df['All Others']\n",
    "df = df.iloc[1:]\n",
    "df = df.drop(['County/City', 'Ward', 'Timothy Michael Kaine', 'Corey Alan Stewart', 'Matthew Joseph Waters', 'All Others', 'Total Votes Cast'], axis = 1)\n",
    "df.head()"
   ]
  },
  {
   "cell_type": "code",
   "execution_count": 10,
   "metadata": {},
   "outputs": [
    {
     "data": {
      "text/plain": [
       "2441"
      ]
     },
     "execution_count": 10,
     "metadata": {},
     "output_type": "execute_result"
    }
   ],
   "source": [
    "(final['LOCALITY'] + final['VTDST'].str.slice(start = 3)).nunique()"
   ]
  },
  {
   "cell_type": "markdown",
   "metadata": {},
   "source": [
    "While the first three digits of `VTDST` are not always 0, locality combined with the last three of that code still has the same number of unique values."
   ]
  },
  {
   "cell_type": "markdown",
   "metadata": {},
   "source": [
    "## Format election results"
   ]
  },
  {
   "cell_type": "code",
   "execution_count": 11,
   "metadata": {},
   "outputs": [],
   "source": [
    "#Add in county fips column to raw election results (df)\n",
    "county_dict = pd.Series(final['COUNTYFP'].values, index = final['LOCALITY']).to_dict()\n",
    "df['COUNTYFP'] = df['LOCALITY'].map(county_dict)"
   ]
  },
  {
   "cell_type": "code",
   "execution_count": 12,
   "metadata": {},
   "outputs": [],
   "source": [
    "#Change type of election results so they can be summed, compared etc.\n",
    "df.loc[:,'G18USSDKAI'] = df['G18USSDKAI'].map(lambda x: x.replace(',', ''))\n",
    "df.loc[:,'G18USSRSTE'] = df['G18USSRSTE'].map(lambda x: x.replace(',', ''))\n",
    "df.loc[:,'G18USSLWAT'] = df['G18USSLWAT'].map(lambda x: x.replace(',', ''))\n",
    "df.loc[:,'G18USSOWRI'] = df['G18USSOWRI'].map(lambda x: x.replace(',', ''))\n",
    "#added .loc to account for \"copy\" warning\n",
    "df['G18USSDKAI'] = df['G18USSDKAI'].astype(str).astype(int)\n",
    "df['G18USSRSTE'] = df['G18USSRSTE'].astype(str).astype(int)\n",
    "df['G18USSLWAT'] = df['G18USSLWAT'].astype(str).astype(int)\n",
    "df['G18USSOWRI'] = df['G18USSOWRI'].astype(str).astype(int)"
   ]
  },
  {
   "cell_type": "code",
   "execution_count": 13,
   "metadata": {},
   "outputs": [],
   "source": [
    "#groupby in order to run preliminary sum checker\n",
    "groupby_county_df = df.groupby('COUNTYFP').sum()\n",
    "groupby_county_final = final.groupby(['COUNTYFP']).sum()"
   ]
  },
  {
   "cell_type": "code",
   "execution_count": 14,
   "metadata": {},
   "outputs": [],
   "source": [
    "column_list = ['G18USSDKAI', 'G18USSRSTE', 'G18USSLWAT', 'G18USSOWRI']"
   ]
  },
  {
   "cell_type": "code",
   "execution_count": 15,
   "metadata": {},
   "outputs": [],
   "source": [
    "df_final_groupby = pd.merge(groupby_county_df, groupby_county_final, on = 'COUNTYFP', how = 'inner', suffixes = ('_x', '_y'))"
   ]
  },
  {
   "cell_type": "code",
   "execution_count": 16,
   "metadata": {},
   "outputs": [
    {
     "data": {
      "text/html": [
       "<div>\n",
       "<style scoped>\n",
       "    .dataframe tbody tr th:only-of-type {\n",
       "        vertical-align: middle;\n",
       "    }\n",
       "\n",
       "    .dataframe tbody tr th {\n",
       "        vertical-align: top;\n",
       "    }\n",
       "\n",
       "    .dataframe thead th {\n",
       "        text-align: right;\n",
       "    }\n",
       "</style>\n",
       "<table border=\"1\" class=\"dataframe\">\n",
       "  <thead>\n",
       "    <tr style=\"text-align: right;\">\n",
       "      <th></th>\n",
       "      <th>G18USSDKAI_x</th>\n",
       "      <th>G18USSRSTE_x</th>\n",
       "      <th>G18USSLWAT_x</th>\n",
       "      <th>G18USSOWRI_x</th>\n",
       "      <th>G18USSDKAI_y</th>\n",
       "      <th>G18USSRSTE_y</th>\n",
       "      <th>G18USSLWAT_y</th>\n",
       "      <th>G18USSOWRI_y</th>\n",
       "    </tr>\n",
       "    <tr>\n",
       "      <th>COUNTYFP</th>\n",
       "      <th></th>\n",
       "      <th></th>\n",
       "      <th></th>\n",
       "      <th></th>\n",
       "      <th></th>\n",
       "      <th></th>\n",
       "      <th></th>\n",
       "      <th></th>\n",
       "    </tr>\n",
       "  </thead>\n",
       "  <tbody>\n",
       "    <tr>\n",
       "      <th>001</th>\n",
       "      <td>5997</td>\n",
       "      <td>6605</td>\n",
       "      <td>135</td>\n",
       "      <td>8</td>\n",
       "      <td>5997</td>\n",
       "      <td>6605</td>\n",
       "      <td>135</td>\n",
       "      <td>8</td>\n",
       "    </tr>\n",
       "    <tr>\n",
       "      <th>003</th>\n",
       "      <td>35701</td>\n",
       "      <td>16371</td>\n",
       "      <td>1161</td>\n",
       "      <td>93</td>\n",
       "      <td>35701</td>\n",
       "      <td>16371</td>\n",
       "      <td>1161</td>\n",
       "      <td>93</td>\n",
       "    </tr>\n",
       "    <tr>\n",
       "      <th>005</th>\n",
       "      <td>1952</td>\n",
       "      <td>3433</td>\n",
       "      <td>66</td>\n",
       "      <td>2</td>\n",
       "      <td>1952</td>\n",
       "      <td>3433</td>\n",
       "      <td>66</td>\n",
       "      <td>2</td>\n",
       "    </tr>\n",
       "    <tr>\n",
       "      <th>007</th>\n",
       "      <td>1938</td>\n",
       "      <td>3823</td>\n",
       "      <td>81</td>\n",
       "      <td>7</td>\n",
       "      <td>1938</td>\n",
       "      <td>3823</td>\n",
       "      <td>81</td>\n",
       "      <td>7</td>\n",
       "    </tr>\n",
       "    <tr>\n",
       "      <th>009</th>\n",
       "      <td>4541</td>\n",
       "      <td>7779</td>\n",
       "      <td>215</td>\n",
       "      <td>10</td>\n",
       "      <td>4541</td>\n",
       "      <td>7779</td>\n",
       "      <td>215</td>\n",
       "      <td>10</td>\n",
       "    </tr>\n",
       "  </tbody>\n",
       "</table>\n",
       "</div>"
      ],
      "text/plain": [
       "          G18USSDKAI_x  G18USSRSTE_x  G18USSLWAT_x  G18USSOWRI_x  \\\n",
       "COUNTYFP                                                           \n",
       "001               5997          6605           135             8   \n",
       "003              35701         16371          1161            93   \n",
       "005               1952          3433            66             2   \n",
       "007               1938          3823            81             7   \n",
       "009               4541          7779           215            10   \n",
       "\n",
       "          G18USSDKAI_y  G18USSRSTE_y  G18USSLWAT_y  G18USSOWRI_y  \n",
       "COUNTYFP                                                          \n",
       "001               5997          6605           135             8  \n",
       "003              35701         16371          1161            93  \n",
       "005               1952          3433            66             2  \n",
       "007               1938          3823            81             7  \n",
       "009               4541          7779           215            10  "
      ]
     },
     "execution_count": 16,
     "metadata": {},
     "output_type": "execute_result"
    }
   ],
   "source": [
    "df_final_groupby.head()"
   ]
  },
  {
   "cell_type": "code",
   "execution_count": 17,
   "metadata": {},
   "outputs": [],
   "source": [
    "def sum_checker(df, column_list):\n",
    "    list_max = 0\n",
    "    for i in column_list:\n",
    "        left_sum = df[i+'_x'].sum()\n",
    "        right_sum = df[i+'_y'].sum()\n",
    "        if (left_sum == right_sum):\n",
    "            print('column: ', i, ' have the same sums')\n",
    "        \n",
    "        else:\n",
    "            diff = abs(left_sum - right_sum)\n",
    "            percent = abs(left_sum - right_sum)/left_sum\n",
    "            print('column: ', i)\n",
    "            print('RDH sum is ', str(left_sum))\n",
    "            print('Partner sum is ', str(right_sum))\n",
    "            print('their (absolute) difference is ', str(diff))\n",
    "            print('As a percentage of DF1 this is ', str(round(percent*100,5)) + '%')\n",
    "            if (percent>list_max):\n",
    "                list_max = percent\n",
    "            print('')\n",
    "    print('The max difference (as a percent of the total of on DF column is: ', str(round(list_max,5)))"
   ]
  },
  {
   "cell_type": "code",
   "execution_count": 18,
   "metadata": {},
   "outputs": [
    {
     "name": "stdout",
     "output_type": "stream",
     "text": [
      "column:  G18USSDKAI  have the same sums\n",
      "column:  G18USSRSTE  have the same sums\n",
      "column:  G18USSLWAT  have the same sums\n",
      "column:  G18USSOWRI  have the same sums\n",
      "The max difference (as a percent of the total of on DF column is:  0\n"
     ]
    }
   ],
   "source": [
    "sum_checker(df_final_groupby, column_list)"
   ]
  },
  {
   "cell_type": "markdown",
   "metadata": {},
   "source": [
    "**By county, results match** (great!)\n",
    "Now need to re-allocate absentee/provisional votes to check by precinct"
   ]
  },
  {
   "cell_type": "code",
   "execution_count": 19,
   "metadata": {},
   "outputs": [],
   "source": [
    "def get_absentee_frac(prec_tot, county_tot, absentee_tot):\n",
    "    '''A spec specifies in first line what function will do\n",
    "    Returns fraction of county absentee votes for a precinct for a candidate\n",
    "    \n",
    "    Keyword arguments: (put inputs to funtions and say what they should be)\n",
    "    precinct vote total for given candidate (int)\n",
    "    county vote total for given candidate, absentee and provisional votes not included (int)\n",
    "    absentee vote total for county for given candidate (int)\n",
    "    \n",
    "    \"Pure function\" bc only relies on inputs and outputs - only variables are ones that were passed as arguments\n",
    "    '''\n",
    "    if county_tot != 0:\n",
    "        prec_frac = prec_tot/county_tot\n",
    "        absentee_frac = prec_frac*absentee_tot\n",
    "    else:\n",
    "        absentee_frac = 0\n",
    "    return absentee_frac"
   ]
  },
  {
   "cell_type": "code",
   "execution_count": 20,
   "metadata": {},
   "outputs": [],
   "source": [
    "absentee_and_prov = df[(df['Pct'].map(lambda x: 'Absentee' in str(x))) | (df['Pct'].map(lambda x: 'Provisional' in str(x)))]\n",
    "groupby_absentee_and_prov_tot = absentee_and_prov.groupby(['COUNTYFP']).sum()\n",
    "groupby_county_df_tot = df.groupby(['COUNTYFP']).sum()\n",
    "df_no_absent_or_provisional = df[(df['Pct'].map(lambda x: 'Absentee' not in str(x))) & (df['Pct'].map(lambda x: 'Provisional' not in str(x)))\n",
    "                                & (df['LOCALITY'] != 'TOTALS')]\n",
    "groupby_county_tot_no_absentee = df_no_absent_or_provisional.groupby('COUNTYFP').sum()"
   ]
  },
  {
   "cell_type": "code",
   "execution_count": 21,
   "metadata": {},
   "outputs": [],
   "source": [
    "#NO ROUNDING OF TOTALS\n",
    "df_with_absentee_reallocated = df_no_absent_or_provisional.copy()\n",
    "for index, precinct_total_row_by_candidate in df_no_absent_or_provisional.iterrows():\n",
    "    #print(precinct_total_row_by_candidate)\n",
    "    county_fips = precinct_total_row_by_candidate['COUNTYFP']\n",
    "    county_total_row_by_candidate_no_absentee = groupby_county_tot_no_absentee.loc[county_fips]\n",
    "    county_absentee_and_provisional_by_candidate = groupby_absentee_and_prov_tot.loc[county_fips]\n",
    "    #print(precinct_total_row_by_candidate, county_total_row_by_candidate_no_absentee, county_absentee_and_provisional_by_candidate)\n",
    "    for candidate, votes in county_total_row_by_candidate_no_absentee.to_dict().items():\n",
    "        prec_tot = precinct_total_row_by_candidate[candidate]\n",
    "        #print('precinct total: ', prec_tot)\n",
    "        county_tot = votes\n",
    "        #print('county total: ', county_tot)\n",
    "        absentee_tot = county_absentee_and_provisional_by_candidate[candidate]\n",
    "        #print('absentee total: ', absentee_tot)\n",
    "        absentee_frac = get_absentee_frac(prec_tot, county_tot, absentee_tot)\n",
    "        #print('absentee votes to allocate to precinct: ', absentee_frac)\n",
    "        prec_with_absentee_allocation = prec_tot + absentee_frac\n",
    "        #print('new precinct total: ', prec_with_absentee_allocation)\n",
    "        df_with_absentee_reallocated.loc[index, candidate] = prec_with_absentee_allocation #index is row, candidate is column"
   ]
  },
  {
   "cell_type": "code",
   "execution_count": 22,
   "metadata": {},
   "outputs": [
    {
     "data": {
      "text/html": [
       "<div>\n",
       "<style scoped>\n",
       "    .dataframe tbody tr th:only-of-type {\n",
       "        vertical-align: middle;\n",
       "    }\n",
       "\n",
       "    .dataframe tbody tr th {\n",
       "        vertical-align: top;\n",
       "    }\n",
       "\n",
       "    .dataframe thead th {\n",
       "        text-align: right;\n",
       "    }\n",
       "</style>\n",
       "<table border=\"1\" class=\"dataframe\">\n",
       "  <thead>\n",
       "    <tr style=\"text-align: right;\">\n",
       "      <th></th>\n",
       "      <th>G18USSDKAI_x</th>\n",
       "      <th>G18USSRSTE_x</th>\n",
       "      <th>G18USSLWAT_x</th>\n",
       "      <th>G18USSOWRI_x</th>\n",
       "      <th>G18USSDKAI_y</th>\n",
       "      <th>G18USSRSTE_y</th>\n",
       "      <th>G18USSLWAT_y</th>\n",
       "      <th>G18USSOWRI_y</th>\n",
       "    </tr>\n",
       "    <tr>\n",
       "      <th>COUNTYFP</th>\n",
       "      <th></th>\n",
       "      <th></th>\n",
       "      <th></th>\n",
       "      <th></th>\n",
       "      <th></th>\n",
       "      <th></th>\n",
       "      <th></th>\n",
       "      <th></th>\n",
       "    </tr>\n",
       "  </thead>\n",
       "  <tbody>\n",
       "    <tr>\n",
       "      <th>001</th>\n",
       "      <td>5997.0</td>\n",
       "      <td>6605.0</td>\n",
       "      <td>135.0</td>\n",
       "      <td>8.0</td>\n",
       "      <td>5997</td>\n",
       "      <td>6605</td>\n",
       "      <td>135</td>\n",
       "      <td>8</td>\n",
       "    </tr>\n",
       "    <tr>\n",
       "      <th>003</th>\n",
       "      <td>35701.0</td>\n",
       "      <td>16371.0</td>\n",
       "      <td>1161.0</td>\n",
       "      <td>93.0</td>\n",
       "      <td>35701</td>\n",
       "      <td>16371</td>\n",
       "      <td>1161</td>\n",
       "      <td>93</td>\n",
       "    </tr>\n",
       "    <tr>\n",
       "      <th>005</th>\n",
       "      <td>1952.0</td>\n",
       "      <td>3433.0</td>\n",
       "      <td>66.0</td>\n",
       "      <td>2.0</td>\n",
       "      <td>1952</td>\n",
       "      <td>3433</td>\n",
       "      <td>66</td>\n",
       "      <td>2</td>\n",
       "    </tr>\n",
       "    <tr>\n",
       "      <th>007</th>\n",
       "      <td>1938.0</td>\n",
       "      <td>3823.0</td>\n",
       "      <td>81.0</td>\n",
       "      <td>7.0</td>\n",
       "      <td>1938</td>\n",
       "      <td>3823</td>\n",
       "      <td>81</td>\n",
       "      <td>7</td>\n",
       "    </tr>\n",
       "    <tr>\n",
       "      <th>009</th>\n",
       "      <td>4541.0</td>\n",
       "      <td>7779.0</td>\n",
       "      <td>215.0</td>\n",
       "      <td>10.0</td>\n",
       "      <td>4541</td>\n",
       "      <td>7779</td>\n",
       "      <td>215</td>\n",
       "      <td>10</td>\n",
       "    </tr>\n",
       "    <tr>\n",
       "      <th>...</th>\n",
       "      <td>...</td>\n",
       "      <td>...</td>\n",
       "      <td>...</td>\n",
       "      <td>...</td>\n",
       "      <td>...</td>\n",
       "      <td>...</td>\n",
       "      <td>...</td>\n",
       "      <td>...</td>\n",
       "    </tr>\n",
       "    <tr>\n",
       "      <th>800</th>\n",
       "      <td>21397.0</td>\n",
       "      <td>13397.0</td>\n",
       "      <td>461.0</td>\n",
       "      <td>37.0</td>\n",
       "      <td>21397</td>\n",
       "      <td>13397</td>\n",
       "      <td>461</td>\n",
       "      <td>37</td>\n",
       "    </tr>\n",
       "    <tr>\n",
       "      <th>810</th>\n",
       "      <td>91813.0</td>\n",
       "      <td>73575.0</td>\n",
       "      <td>3851.0</td>\n",
       "      <td>204.0</td>\n",
       "      <td>91813</td>\n",
       "      <td>73575</td>\n",
       "      <td>3851</td>\n",
       "      <td>204</td>\n",
       "    </tr>\n",
       "    <tr>\n",
       "      <th>820</th>\n",
       "      <td>3849.0</td>\n",
       "      <td>3713.0</td>\n",
       "      <td>149.0</td>\n",
       "      <td>7.0</td>\n",
       "      <td>3849</td>\n",
       "      <td>3713</td>\n",
       "      <td>149</td>\n",
       "      <td>7</td>\n",
       "    </tr>\n",
       "    <tr>\n",
       "      <th>830</th>\n",
       "      <td>4530.0</td>\n",
       "      <td>1547.0</td>\n",
       "      <td>114.0</td>\n",
       "      <td>9.0</td>\n",
       "      <td>4530</td>\n",
       "      <td>1547</td>\n",
       "      <td>114</td>\n",
       "      <td>9</td>\n",
       "    </tr>\n",
       "    <tr>\n",
       "      <th>840</th>\n",
       "      <td>5242.0</td>\n",
       "      <td>3657.0</td>\n",
       "      <td>210.0</td>\n",
       "      <td>15.0</td>\n",
       "      <td>5242</td>\n",
       "      <td>3657</td>\n",
       "      <td>210</td>\n",
       "      <td>15</td>\n",
       "    </tr>\n",
       "  </tbody>\n",
       "</table>\n",
       "<p>133 rows × 8 columns</p>\n",
       "</div>"
      ],
      "text/plain": [
       "          G18USSDKAI_x  G18USSRSTE_x  G18USSLWAT_x  G18USSOWRI_x  \\\n",
       "COUNTYFP                                                           \n",
       "001             5997.0        6605.0         135.0           8.0   \n",
       "003            35701.0       16371.0        1161.0          93.0   \n",
       "005             1952.0        3433.0          66.0           2.0   \n",
       "007             1938.0        3823.0          81.0           7.0   \n",
       "009             4541.0        7779.0         215.0          10.0   \n",
       "...                ...           ...           ...           ...   \n",
       "800            21397.0       13397.0         461.0          37.0   \n",
       "810            91813.0       73575.0        3851.0         204.0   \n",
       "820             3849.0        3713.0         149.0           7.0   \n",
       "830             4530.0        1547.0         114.0           9.0   \n",
       "840             5242.0        3657.0         210.0          15.0   \n",
       "\n",
       "          G18USSDKAI_y  G18USSRSTE_y  G18USSLWAT_y  G18USSOWRI_y  \n",
       "COUNTYFP                                                          \n",
       "001               5997          6605           135             8  \n",
       "003              35701         16371          1161            93  \n",
       "005               1952          3433            66             2  \n",
       "007               1938          3823            81             7  \n",
       "009               4541          7779           215            10  \n",
       "...                ...           ...           ...           ...  \n",
       "800              21397         13397           461            37  \n",
       "810              91813         73575          3851           204  \n",
       "820               3849          3713           149             7  \n",
       "830               4530          1547           114             9  \n",
       "840               5242          3657           210            15  \n",
       "\n",
       "[133 rows x 8 columns]"
      ]
     },
     "execution_count": 22,
     "metadata": {},
     "output_type": "execute_result"
    }
   ],
   "source": [
    "groupby_df_with_absentee_reallocated = df_with_absentee_reallocated.groupby('COUNTYFP').sum()\n",
    "df_absentee_reallocate_with_final = pd.merge(groupby_df_with_absentee_reallocated, groupby_county_final, on = 'COUNTYFP', how = 'inner', suffixes = ('_x', '_y'))\n",
    "df_absentee_reallocate_with_final"
   ]
  },
  {
   "cell_type": "code",
   "execution_count": 23,
   "metadata": {},
   "outputs": [
    {
     "name": "stdout",
     "output_type": "stream",
     "text": [
      "column:  G18USSDKAI\n",
      "RDH sum is  1910369.9999999998\n",
      "Partner sum is  1910370\n",
      "their (absolute) difference is  2.3283064365386963e-10\n",
      "As a percentage of DF1 this is  0.0%\n",
      "\n",
      "column:  G18USSRSTE  have the same sums\n",
      "column:  G18USSLWAT  have the same sums\n",
      "column:  G18USSOWRI\n",
      "RDH sum is  5506.999999999998\n",
      "Partner sum is  5509\n",
      "their (absolute) difference is  2.000000000001819\n",
      "As a percentage of DF1 this is  0.03632%\n",
      "\n",
      "The max difference (as a percent of the total of on DF column is:  0.00036\n"
     ]
    }
   ],
   "source": [
    "sum_checker(df_absentee_reallocate_with_final, column_list) #Remember, totals not rounded here"
   ]
  },
  {
   "cell_type": "code",
   "execution_count": 24,
   "metadata": {},
   "outputs": [],
   "source": [
    "#WITH ROUNDING OF TOTALS\n",
    "df_with_absentee_reallocated = df_no_absent_or_provisional.copy()\n",
    "for index, precinct_total_row_by_candidate in df_no_absent_or_provisional.iterrows():\n",
    "    #print(precinct_total_row_by_candidate)\n",
    "    county_fips = precinct_total_row_by_candidate['COUNTYFP']\n",
    "    county_total_row_by_candidate_no_absentee = groupby_county_tot_no_absentee.loc[county_fips]\n",
    "    county_absentee_and_provisional_by_candidate = groupby_absentee_and_prov_tot.loc[county_fips]\n",
    "    #print(precinct_total_row_by_candidate, county_total_row_by_candidate_no_absentee, county_absentee_and_provisional_by_candidate)\n",
    "    for candidate, votes in county_total_row_by_candidate_no_absentee.to_dict().items():\n",
    "        prec_tot = precinct_total_row_by_candidate[candidate]\n",
    "        #print('precinct total: ', prec_tot)\n",
    "        county_tot = votes\n",
    "        #print('county total: ', county_tot)\n",
    "        absentee_tot = county_absentee_and_provisional_by_candidate[candidate]\n",
    "        #print('absentee total: ', absentee_tot)\n",
    "        absentee_frac = get_absentee_frac(prec_tot, county_tot, absentee_tot)\n",
    "        #print('absentee votes to allocate to precinct: ', absentee_frac)\n",
    "        prec_with_absentee_allocation = prec_tot + absentee_frac\n",
    "        #print('new precinct total: ', prec_with_absentee_allocation)\n",
    "        df_with_absentee_reallocated.loc[index, candidate] = round(prec_with_absentee_allocation) #index is row, candidate is column\n",
    "\n",
    "   "
   ]
  },
  {
   "cell_type": "code",
   "execution_count": 25,
   "metadata": {},
   "outputs": [
    {
     "name": "stdout",
     "output_type": "stream",
     "text": [
      "column:  G18USSDKAI  have the same sums\n",
      "column:  G18USSRSTE\n",
      "RDH sum is  1374310.0\n",
      "Partner sum is  1374313\n",
      "their (absolute) difference is  3.0\n",
      "As a percentage of DF1 this is  0.00022%\n",
      "\n",
      "column:  G18USSLWAT\n",
      "RDH sum is  61503.0\n",
      "Partner sum is  61565\n",
      "their (absolute) difference is  62.0\n",
      "As a percentage of DF1 this is  0.10081%\n",
      "\n",
      "column:  G18USSOWRI\n",
      "RDH sum is  5361.0\n",
      "Partner sum is  5509\n",
      "their (absolute) difference is  148.0\n",
      "As a percentage of DF1 this is  2.76068%\n",
      "\n",
      "The max difference (as a percent of the total of on DF column is:  0.02761\n"
     ]
    }
   ],
   "source": [
    "groupby_df_with_absentee_reallocated = df_with_absentee_reallocated.groupby('COUNTYFP').sum()\n",
    "df_absentee_reallocate_with_final = pd.merge(groupby_df_with_absentee_reallocated, groupby_county_final, on = 'COUNTYFP', how = 'inner', suffixes = ('_x', '_y'))\n",
    "sum_checker(df_absentee_reallocate_with_final, column_list) #REMEMBER, TOTALS ARE ROUNDED HERE"
   ]
  },
  {
   "cell_type": "markdown",
   "metadata": {},
   "source": [
    "# Shapefiles: County to Pct"
   ]
  },
  {
   "cell_type": "markdown",
   "metadata": {},
   "source": [
    "## Load, Project"
   ]
  },
  {
   "cell_type": "code",
   "execution_count": 26,
   "metadata": {
    "collapsed": true,
    "jupyter": {
     "outputs_hidden": true
    }
   },
   "outputs": [
    {
     "data": {
      "text/plain": [
       "['partnership_shapefiles_19v2_51580',\n",
       " 'partnership_shapefiles_19v2_51117',\n",
       " 'partnership_shapefiles_19v2_51121',\n",
       " 'partnership_shapefiles_19v2_51119',\n",
       " 'partnership_shapefiles_19v2_51770',\n",
       " 'partnership_shapefiles_19v2_51181',\n",
       " 'partnership_shapefiles_19v2_51175',\n",
       " 'partnership_shapefiles_19v2_51143',\n",
       " 'partnership_shapefiles_19v2_51520',\n",
       " 'partnership_shapefiles_19v2_51127',\n",
       " 'partnership_shapefiles_19v2_51740',\n",
       " 'partnership_shapefiles_19v2_51111',\n",
       " 'partnership_shapefiles_19v2_51145',\n",
       " 'partnership_shapefiles_19v2_51510',\n",
       " 'partnership_shapefiles_19v2_51187',\n",
       " 'partnership_shapefiles_19v2_51173',\n",
       " 'partnership_shapefiles_19v2_51001',\n",
       " 'partnership_shapefiles_19v2_51650',\n",
       " '.DS_Store',\n",
       " 'partnership_shapefiles_19v2_51037',\n",
       " 'partnership_shapefiles_19v2_51063',\n",
       " 'partnership_shapefiles_19v2_51097',\n",
       " 'partnership_shapefiles_19v2_51099',\n",
       " 'partnership_shapefiles_19v2_51009',\n",
       " 'partnership_shapefiles_19v2_51660',\n",
       " 'partnership_shapefiles_19v2_51036',\n",
       " 'partnership_shapefiles_19v2_51031',\n",
       " 'partnership_shapefiles_19v2_51007',\n",
       " 'partnership_shapefiles_19v2_51053',\n",
       " 'partnership_shapefiles_19v2_51065',\n",
       " 'partnership_shapefiles_19v2_51091',\n",
       " 'partnership_shapefiles_19v2_51047',\n",
       " 'partnership_shapefiles_19v2_51071',\n",
       " 'partnership_shapefiles_19v2_51085',\n",
       " 'partnership_shapefiles_19v2_51049',\n",
       " 'partnership_shapefiles_19v2_51620',\n",
       " 'partnership_shapefiles_19v2_51680',\n",
       " 'partnership_shapefiles_19v2_51025',\n",
       " 'partnership_shapefiles_19v2_51013',\n",
       " 'partnership_shapefiles_19v2_51810',\n",
       " 'partnership_shapefiles_19v2_51077',\n",
       " 'partnership_shapefiles_19v2_51083',\n",
       " 'partnership_shapefiles_19v2_51079',\n",
       " 'partnership_shapefiles_19v2_51610',\n",
       " 'partnership_shapefiles_19v2_51041',\n",
       " 'partnership_shapefiles_19v2_51015',\n",
       " 'partnership_shapefiles_19v2_51023',\n",
       " 'partnership_shapefiles_19v2_51820',\n",
       " 'partnership_shapefiles_19v2_51169',\n",
       " 'partnership_shapefiles_19v2_51700',\n",
       " 'partnership_shapefiles_19v2_51193',\n",
       " 'partnership_shapefiles_19v2_51167',\n",
       " 'partnership_shapefiles_19v2_51133',\n",
       " 'partnership_shapefiles_19v2_51550',\n",
       " 'partnership_shapefiles_19v2_51595',\n",
       " 'partnership_shapefiles_19v2_51105',\n",
       " 'partnership_shapefiles_19v2_51159',\n",
       " 'partnership_shapefiles_19v2_51730',\n",
       " 'partnership_shapefiles_19v2_51195',\n",
       " 'partnership_shapefiles_19v2_51161',\n",
       " 'partnership_shapefiles_19v2_51157',\n",
       " 'partnership_shapefiles_19v2_51103',\n",
       " 'partnership_shapefiles_19v2_51135',\n",
       " 'partnership_shapefiles_19v2_51790',\n",
       " 'partnership_shapefiles_19v2_51720',\n",
       " 'partnership_shapefiles_19v2_51149',\n",
       " 'partnership_shapefiles_19v2_51171',\n",
       " 'partnership_shapefiles_19v2_51185',\n",
       " 'partnership_shapefiles_19v2_51147',\n",
       " 'partnership_shapefiles_19v2_51570',\n",
       " 'partnership_shapefiles_19v2_51113',\n",
       " 'partnership_shapefiles_19v2_51125',\n",
       " 'partnership_shapefiles_19v2_51141',\n",
       " 'partnership_shapefiles_19v2_51710',\n",
       " 'partnership_shapefiles_19v2_51179',\n",
       " 'partnership_shapefiles_19v2_51177',\n",
       " 'partnership_shapefiles_19v2_51183',\n",
       " 'partnership_shapefiles_19v2_51775',\n",
       " 'partnership_shapefiles_19v2_51540',\n",
       " 'partnership_shapefiles_19v2_51115',\n",
       " 'partnership_shapefiles_19v2_51093',\n",
       " 'partnership_shapefiles_19v2_51067',\n",
       " 'partnership_shapefiles_19v2_51600',\n",
       " 'partnership_shapefiles_19v2_51069',\n",
       " 'partnership_shapefiles_19v2_51051',\n",
       " 'partnership_shapefiles_19v2_51005',\n",
       " 'partnership_shapefiles_19v2_51830',\n",
       " 'partnership_shapefiles_19v2_51033',\n",
       " 'partnership_shapefiles_19v2_51057',\n",
       " 'partnership_shapefiles_19v2_51095',\n",
       " 'partnership_shapefiles_19v2_51061',\n",
       " 'partnership_shapefiles_19v2_51630',\n",
       " 'partnership_shapefiles_19v2_51059',\n",
       " 'partnership_shapefiles_19v2_51690',\n",
       " 'partnership_shapefiles_19v2_51035',\n",
       " 'partnership_shapefiles_19v2_51800',\n",
       " 'partnership_shapefiles_19v2_51003',\n",
       " 'partnership_shapefiles_19v2_51670',\n",
       " 'partnership_shapefiles_19v2_51019',\n",
       " 'partnership_shapefiles_19v2_51683',\n",
       " 'partnership_shapefiles_19v2_51021',\n",
       " 'partnership_shapefiles_19v2_51017',\n",
       " 'partnership_shapefiles_19v2_51840',\n",
       " 'partnership_shapefiles_19v2_51043',\n",
       " 'partnership_shapefiles_19v2_51081',\n",
       " 'partnership_shapefiles_19v2_51075',\n",
       " 'partnership_shapefiles_19v2_51011',\n",
       " 'partnership_shapefiles_19v2_51678',\n",
       " 'partnership_shapefiles_19v2_51640',\n",
       " 'partnership_shapefiles_19v2_51029',\n",
       " 'partnership_shapefiles_19v2_51685',\n",
       " 'partnership_shapefiles_19v2_51027',\n",
       " 'partnership_shapefiles_19v2_51087',\n",
       " 'partnership_shapefiles_19v2_51073',\n",
       " 'partnership_shapefiles_19v2_51089',\n",
       " 'partnership_shapefiles_19v2_51045',\n",
       " 'partnership_shapefiles_19v2_51137',\n",
       " 'partnership_shapefiles_19v2_51750',\n",
       " 'partnership_shapefiles_19v2_51139',\n",
       " 'partnership_shapefiles_19v2_51101',\n",
       " 'partnership_shapefiles_19v2_51155',\n",
       " 'partnership_shapefiles_19v2_51199',\n",
       " 'partnership_shapefiles_19v2_51163',\n",
       " 'partnership_shapefiles_19v2_51735',\n",
       " 'partnership_shapefiles_19v2_51197',\n",
       " 'partnership_shapefiles_19v2_51590',\n",
       " 'partnership_shapefiles_19v2_51107',\n",
       " 'partnership_shapefiles_19v2_51131',\n",
       " 'partnership_shapefiles_19v2_51760',\n",
       " 'partnership_shapefiles_19v2_51109',\n",
       " 'partnership_shapefiles_19v2_51165',\n",
       " 'partnership_shapefiles_19v2_51191',\n",
       " 'partnership_shapefiles_19v2_51153',\n",
       " 'partnership_shapefiles_19v2_51530']"
      ]
     },
     "execution_count": 26,
     "metadata": {},
     "output_type": "execute_result"
    }
   ],
   "source": [
    "#All counties found: https://www.census.gov/geo/partnerships/pvs/partnership19v2/st51_va.html <-- careful, need to pay close attention to url to makesure get vtds\n",
    "os.listdir('./vest_va/census_shps_by_county_all_unzip/')"
   ]
  },
  {
   "cell_type": "code",
   "execution_count": 27,
   "metadata": {},
   "outputs": [],
   "source": [
    "#unzip file function\n",
    "def unzip(path, src_path, dest_path, zip_file_name, unzipped_file_name):\n",
    "    os.chdir(path)\n",
    "    with ZipFile(zip_file_name, 'r') as zipObj:\n",
    "        zipObj.extractall(unzipped_file_name) \n",
    "        \n",
    "    shutil.move(src_path, dest_path)"
   ]
  },
  {
   "cell_type": "code",
   "execution_count": 28,
   "metadata": {},
   "outputs": [
    {
     "data": {
      "text/plain": [
       "\"\\npath = ('./vest_va/test_dir1/')\\nnew_dir_path = './vest_va/test_dir'\\nunzip_mult_files(path, new_dir_path)\""
      ]
     },
     "execution_count": 28,
     "metadata": {},
     "output_type": "execute_result"
    }
   ],
   "source": [
    "#unzip multiple files in directory\n",
    "def unzip_mult_files(path, new_dir_path):\n",
    "    if not path[0] == '.':\n",
    "        os.chdir(path)\n",
    "        for zipfile in os.listdir():\n",
    "            if not zipfile[0] == '.' and not zipfile == 'partnership_shapefiles_19v2_51.zip':\n",
    "                if zipfile.endswith('.zip'): \n",
    "                    unzipped_file_name = zipfile[:-4]\n",
    "                    src_path = os.path.join(path, unzipped_file_name)\n",
    "                    dest_path = new_dir_path #os.path.join(new_dir_path, unzipped_file_name)\n",
    "                    unzip(path, src_path, dest_path, zipfile, unzipped_file_name)\n",
    "                    \n",
    "'''\n",
    "path = ('./vest_va/test_dir1/')\n",
    "new_dir_path = './vest_va/test_dir'\n",
    "unzip_mult_files(path, new_dir_path)'''"
   ]
  },
  {
   "cell_type": "code",
   "execution_count": 29,
   "metadata": {},
   "outputs": [
    {
     "data": {
      "text/plain": [
       "\"\\npath = './vest_va/census_shps_by_county_dir_unzip/'\\nnew_dir_path = './vest_va/census_shps_by_county_all_unzip'\\nunzip_in_mult_directories(path, new_dir_path)\""
      ]
     },
     "execution_count": 29,
     "metadata": {},
     "output_type": "execute_result"
    }
   ],
   "source": [
    "#unzip files in multiple directories\n",
    "def unzip_in_mult_directories(path, new_dir_path):\n",
    "    os.chdir(path)\n",
    "    for directory in os.listdir():\n",
    "        if not directory[0] == '.':\n",
    "            sub_dir = os.path.join(path, directory)\n",
    "            unzip_mult_files(sub_dir, new_dir_path)\n",
    "            os.chdir(path)\n",
    "            \n",
    "'''\n",
    "path = './vest_va/census_shps_by_county_dir_unzip/'\n",
    "new_dir_path = './vest_va/census_shps_by_county_all_unzip'\n",
    "unzip_in_mult_directories(path, new_dir_path)'''"
   ]
  },
  {
   "cell_type": "code",
   "execution_count": 30,
   "metadata": {},
   "outputs": [],
   "source": [
    "path = ('./vest_va/census_shps_by_county_all_unzip/')\n",
    "os.chdir(path)\n",
    "county_fips = []\n",
    "for directory in os.listdir():\n",
    "    if not directory[0] == '.':\n",
    "        county_fips.append(directory[-5:])"
   ]
  },
  {
   "cell_type": "code",
   "execution_count": 31,
   "metadata": {},
   "outputs": [
    {
     "data": {
      "text/plain": [
       "133"
      ]
     },
     "execution_count": 31,
     "metadata": {},
     "output_type": "execute_result"
    }
   ],
   "source": [
    "len(county_fips) #As expected"
   ]
  },
  {
   "cell_type": "code",
   "execution_count": 32,
   "metadata": {},
   "outputs": [],
   "source": [
    "proj = final.crs"
   ]
  },
  {
   "cell_type": "code",
   "execution_count": 33,
   "metadata": {},
   "outputs": [
    {
     "name": "stdout",
     "output_type": "stream",
     "text": [
      "/Users/lilyfalk/sandbox/pdv-va\n"
     ]
    }
   ],
   "source": [
    "cd ../../"
   ]
  },
  {
   "cell_type": "code",
   "execution_count": 34,
   "metadata": {
    "collapsed": true,
    "jupyter": {
     "outputs_hidden": true
    }
   },
   "outputs": [
    {
     "name": "stdout",
     "output_type": "stream",
     "text": [
      "51580  added to list\n",
      "51117  added to list\n",
      "51121  added to list\n",
      "51119  added to list\n",
      "51770  added to list\n",
      "51181  added to list\n",
      "51175  added to list\n",
      "51143  added to list\n",
      "51520  added to list\n",
      "51127  added to list\n",
      "51740  added to list\n",
      "51111  added to list\n",
      "51145  added to list\n",
      "51510  added to list\n",
      "51187  added to list\n",
      "51173  added to list\n",
      "51001  added to list\n",
      "51650  added to list\n",
      "51037  added to list\n",
      "51063  added to list\n",
      "51097  added to list\n",
      "51099  added to list\n",
      "51009  added to list\n",
      "51660  added to list\n",
      "51036  added to list\n",
      "51031  added to list\n",
      "51007  added to list\n",
      "51053  added to list\n",
      "51065  added to list\n",
      "51091  added to list\n",
      "51047  added to list\n",
      "51071  added to list\n",
      "51085  added to list\n",
      "51049  added to list\n",
      "51620  added to list\n",
      "51680  added to list\n",
      "51025  added to list\n",
      "51013  added to list\n",
      "51810  added to list\n",
      "51077  added to list\n",
      "51083  added to list\n",
      "51079  added to list\n",
      "51610  added to list\n",
      "51041  added to list\n",
      "51015  added to list\n",
      "51023  added to list\n",
      "51820  added to list\n",
      "51169  added to list\n",
      "51700  added to list\n",
      "51193  added to list\n",
      "51167  added to list\n",
      "51133  added to list\n",
      "51550  added to list\n",
      "51595  added to list\n",
      "51105  added to list\n",
      "51159  added to list\n",
      "51730  added to list\n",
      "51195  added to list\n",
      "51161  added to list\n",
      "51157  added to list\n",
      "51103  added to list\n",
      "51135  added to list\n",
      "51790  added to list\n",
      "51720  added to list\n",
      "51149  added to list\n",
      "51171  added to list\n",
      "51185  added to list\n",
      "51147  added to list\n",
      "51570  added to list\n",
      "51113  added to list\n",
      "51125  added to list\n",
      "51141  added to list\n",
      "51710  added to list\n",
      "51179  added to list\n",
      "51177  added to list\n",
      "51183  added to list\n",
      "51775  added to list\n",
      "51540  added to list\n",
      "51115  added to list\n",
      "51093  added to list\n",
      "51067  added to list\n",
      "51600  added to list\n",
      "51069  added to list\n",
      "51051  added to list\n",
      "51005  added to list\n",
      "51830  added to list\n",
      "51033  added to list\n",
      "51057  added to list\n",
      "51095  added to list\n",
      "51061  added to list\n",
      "51630  added to list\n",
      "51059  added to list\n",
      "51690  added to list\n",
      "51035  added to list\n",
      "51800  added to list\n",
      "51003  added to list\n",
      "51670  added to list\n",
      "51019  added to list\n",
      "51683  added to list\n",
      "51021  added to list\n",
      "51017  added to list\n",
      "51840  added to list\n",
      "51043  added to list\n",
      "51081  added to list\n",
      "51075  added to list\n",
      "51011  added to list\n",
      "51678  added to list\n",
      "51640  added to list\n",
      "51029  added to list\n",
      "51685  added to list\n",
      "51027  added to list\n",
      "51087  added to list\n",
      "51073  added to list\n",
      "51089  added to list\n",
      "51045  added to list\n",
      "51137  added to list\n",
      "51750  added to list\n",
      "51139  added to list\n",
      "51101  added to list\n",
      "51155  added to list\n",
      "51199  added to list\n",
      "51163  added to list\n",
      "51735  added to list\n",
      "51197  added to list\n",
      "51590  added to list\n",
      "51107  added to list\n",
      "51131  added to list\n",
      "51760  added to list\n",
      "51109  added to list\n",
      "51165  added to list\n",
      "51191  added to list\n",
      "51153  added to list\n",
      "51530  added to list\n"
     ]
    }
   ],
   "source": [
    "#Now need function that will read in and concatenate all VTD shapefiles\n",
    "#Note that last 5 digits of directory and file are state fip (51) plus county fip (3-digit)\n",
    "path = ('./vest_va/census_shps_by_county_all_unzip/')\n",
    "os.chdir(path)\n",
    "county_vtds = []\n",
    "\n",
    "for i in county_fips: #i dont have fips_codes file\n",
    "    ref = 'partnership_shapefiles_19v2_'\n",
    "    vtd_ref = ref + i + '/PVS_19_v2_vtd_' + i + '.shp' \n",
    "    vtd_shp = gpd.read_file(vtd_ref)\n",
    "    print(i, ' added to list')\n",
    "    county_vtds.append(vtd_shp)"
   ]
  },
  {
   "cell_type": "code",
   "execution_count": 35,
   "metadata": {},
   "outputs": [],
   "source": [
    "global shapefiles_census\n",
    "shapefiles_census = gpd.GeoDataFrame(pd.concat(county_vtds, axis = 0) , crs = proj) "
   ]
  },
  {
   "cell_type": "code",
   "execution_count": 36,
   "metadata": {},
   "outputs": [
    {
     "data": {
      "text/plain": [
       "<matplotlib.axes._subplots.AxesSubplot at 0x7fc61ce6cfa0>"
      ]
     },
     "execution_count": 36,
     "metadata": {},
     "output_type": "execute_result"
    },
    {
     "data": {
      "image/png": "[encoded data removed]",
      "text/plain": [
       "<Figure size 432x288 with 1 Axes>"
      ]
     },
     "metadata": {
      "needs_background": "light"
     },
     "output_type": "display_data"
    }
   ],
   "source": [
    "shapefiles_census.plot()"
   ]
  },
  {
   "cell_type": "code",
   "execution_count": 37,
   "metadata": {},
   "outputs": [
    {
     "data": {
      "text/plain": [
       "<matplotlib.axes._subplots.AxesSubplot at 0x7fc608d7e460>"
      ]
     },
     "execution_count": 37,
     "metadata": {},
     "output_type": "execute_result"
    },
    {
     "data": {
      "image/png": "[encoded data removed]",
      "text/plain": [
       "<Figure size 432x288 with 1 Axes>"
      ]
     },
     "metadata": {
      "needs_background": "light"
     },
     "output_type": "display_data"
    }
   ],
   "source": [
    "final.plot()"
   ]
  },
  {
   "cell_type": "markdown",
   "metadata": {},
   "source": [
    "## Examples of merges noted in documentation"
   ]
  },
  {
   "cell_type": "markdown",
   "metadata": {},
   "source": [
    "Merges noted in documentation are geometry changes that we will not be modifying.\n",
    "\n",
    "**From VEST documentation:**\n",
    "\n",
    "The following modifications were made to recreate the 2018 precinct boundaries.\n",
    "\n",
    "- Albemarle: Add Mechums River to match county GIS shapefile\n",
    "- Arlington: Adjust Gunston/Oakridge to match county GIS shapefile\n",
    "- Bristol City: Adjust Ward 2/Ward 4 to match description in municipal code\n",
    "- Charles City County: Adjust District 1/District 2 boundary to match county code\n",
    "- Covington City: Realign Ward 1, Ward 2, Ward 3 to match city PDF map and municipal code\n",
    "- Culpeper: Adjust East Fairfax/Brandy Station boundary to match county GIS shapefile\n",
    "- Emporia City: Adjust Precincts 1/7, Precincts 2/5 to match municipal code\n",
    "- Essex: Adjust South Precinct/Central Precinct boundary to match county PDF\n",
    "- Fairfax: Adjust Virginia Run/Bull Run to match county GIS shapefile\n",
    "- Fredericksburg City: Adjust District 1/3 boundaries to match municipal code\n",
    "- Galax City: Adjust North/South precinct boundary to match municipal GIS shapefile\n",
    "- Goochland: Adjust Hadensville/Fife boundary to match description in county code\n",
    "- Halifax: Merge South Boston East/West; Adjust Meadville/Republican Grove to match 2011 redistricting PDF map\n",
    "- Hampton City: Add US House District 2 segment of Tyler Precinct to match county PDF\n",
    "- Hanover: Adjust Blunts/Beaverdam boundary to match county PDF\n",
    "- Henry: Adjust 10 precinct boundaries to align VTDs with county GIS shapefile\n",
    "- Loudoun: Adjust Weller/Ashbrook, Evergreen/Sycolin Creek; Add Goshen Post, Buffalo Trail to match county GIS shapefile\n",
    "- Madison: Adjust all precincts to align VTDs with county GIS shapefile\n",
    "- Newport News City: Adjust Sanford/Riverview boundary to match county GIS shapefile\n",
    "- Norfolk City: Merge Bramblewood into Chesterfield/Ruffner Academy; Adjust Granby/Titustown to match county PDF\n",
    "- Prince William: Adjust Ben Lomond/Mullen, Freedom/Leesylvania to match county GIS shapefile\n",
    "- Pulaski: Adjust Dublin/New River to match precinct assignments on county GIS parcel viewer\n",
    "- Rappahanock: Adjust Sperryville/Washington boundary to match county PDF\n",
    "- Richmond City: Add Precinct 115 to match county GIS shapefile\n",
    "- Richmond County: Adjust Precincts 2-1/3-1 boundary to match description in county ordinance\n",
    "- Roanoke County: Adjust 12 precinct boundaries to match county GIS shapefile\n",
    "- Rockingham: Split East/West Bridgewater to match municipal ordinance; Adjust East Bridgewater to match municipal boundary\n",
    "- Russell: Adjust Daugherty/West Lebanon boundary to match county PDF\n",
    "- Tazewell: Merge Abbs Valley/Bossevain, Adria/Gap Store, Pounding Mill/Wardell, Raven/Richlands;  Adjust nearly all precinct boundaries to align VTDs with county GIS shapefile\n",
    "- Virginia Beach City: Adjust Centerville/Colonial to match county GIS shapefile\n",
    "- Williamsburg City: Revise Matoaka/Stryker to match municipal PDF map and municipal code\n",
    "- Wise: Adjust Big Stone Gap/East Stone Gap boundary to match county GIS shapefile\n",
    "- Wythe: Adjust West Wytheville/East Wytheville boundary to match county GIS shapefile"
   ]
  },
  {
   "cell_type": "code",
   "execution_count": 42,
   "metadata": {},
   "outputs": [
    {
     "data": {
      "text/html": [
       "<div>\n",
       "<style scoped>\n",
       "    .dataframe tbody tr th:only-of-type {\n",
       "        vertical-align: middle;\n",
       "    }\n",
       "\n",
       "    .dataframe tbody tr th {\n",
       "        vertical-align: top;\n",
       "    }\n",
       "\n",
       "    .dataframe thead th {\n",
       "        text-align: right;\n",
       "    }\n",
       "</style>\n",
       "<table border=\"1\" class=\"dataframe\">\n",
       "  <thead>\n",
       "    <tr style=\"text-align: right;\">\n",
       "      <th></th>\n",
       "      <th>Pct</th>\n",
       "      <th>LOCALITY</th>\n",
       "      <th>G18USSDKAI</th>\n",
       "      <th>G18USSRSTE</th>\n",
       "      <th>G18USSLWAT</th>\n",
       "      <th>G18USSOWRI</th>\n",
       "      <th>COUNTYFP</th>\n",
       "    </tr>\n",
       "  </thead>\n",
       "  <tbody>\n",
       "    <tr>\n",
       "      <th>48</th>\n",
       "      <td>606 - Mechums River</td>\n",
       "      <td>Albemarle County</td>\n",
       "      <td>1426</td>\n",
       "      <td>695</td>\n",
       "      <td>61</td>\n",
       "      <td>4</td>\n",
       "      <td>003</td>\n",
       "    </tr>\n",
       "  </tbody>\n",
       "</table>\n",
       "</div>"
      ],
      "text/plain": [
       "                    Pct          LOCALITY  G18USSDKAI  G18USSRSTE  G18USSLWAT  \\\n",
       "48  606 - Mechums River  Albemarle County        1426         695          61   \n",
       "\n",
       "    G18USSOWRI COUNTYFP  \n",
       "48           4      003  "
      ]
     },
     "execution_count": 42,
     "metadata": {},
     "output_type": "execute_result"
    }
   ],
   "source": [
    "# 'Albemarle: Add Mechums River to match county GIS shapefile'\n",
    "df[df['LOCALITY'].map(lambda x: 'Albemarle' in str(x)) & df['Pct'].map(lambda x: 'Mechums' in str(x))]"
   ]
  },
  {
   "cell_type": "code",
   "execution_count": 43,
   "metadata": {},
   "outputs": [
    {
     "data": {
      "text/html": [
       "<div>\n",
       "<style scoped>\n",
       "    .dataframe tbody tr th:only-of-type {\n",
       "        vertical-align: middle;\n",
       "    }\n",
       "\n",
       "    .dataframe tbody tr th {\n",
       "        vertical-align: top;\n",
       "    }\n",
       "\n",
       "    .dataframe thead th {\n",
       "        text-align: right;\n",
       "    }\n",
       "</style>\n",
       "<table border=\"1\" class=\"dataframe\">\n",
       "  <thead>\n",
       "    <tr style=\"text-align: right;\">\n",
       "      <th></th>\n",
       "      <th>Pct</th>\n",
       "      <th>LOCALITY</th>\n",
       "      <th>G18USSDKAI</th>\n",
       "      <th>G18USSRSTE</th>\n",
       "      <th>G18USSLWAT</th>\n",
       "      <th>G18USSOWRI</th>\n",
       "      <th>COUNTYFP</th>\n",
       "    </tr>\n",
       "  </thead>\n",
       "  <tbody>\n",
       "    <tr>\n",
       "      <th>177</th>\n",
       "      <td>52 - Gunston</td>\n",
       "      <td>Arlington County</td>\n",
       "      <td>1092</td>\n",
       "      <td>193</td>\n",
       "      <td>41</td>\n",
       "      <td>8</td>\n",
       "      <td>013</td>\n",
       "    </tr>\n",
       "  </tbody>\n",
       "</table>\n",
       "</div>"
      ],
      "text/plain": [
       "              Pct          LOCALITY  G18USSDKAI  G18USSRSTE  G18USSLWAT  \\\n",
       "177  52 - Gunston  Arlington County        1092         193          41   \n",
       "\n",
       "     G18USSOWRI COUNTYFP  \n",
       "177           8      013  "
      ]
     },
     "execution_count": 43,
     "metadata": {},
     "output_type": "execute_result"
    }
   ],
   "source": [
    "# 'Arlington: Adjust Gunston/Oakridge to match county GIS shapefile'\n",
    "df[(df['LOCALITY'].map(lambda x: 'Arlington' in str(x)) & df['Pct'].map(lambda x: 'Gunston' in str(x)))] "
   ]
  },
  {
   "cell_type": "code",
   "execution_count": 44,
   "metadata": {},
   "outputs": [
    {
     "data": {
      "text/html": [
       "<div>\n",
       "<style scoped>\n",
       "    .dataframe tbody tr th:only-of-type {\n",
       "        vertical-align: middle;\n",
       "    }\n",
       "\n",
       "    .dataframe tbody tr th {\n",
       "        vertical-align: top;\n",
       "    }\n",
       "\n",
       "    .dataframe thead th {\n",
       "        text-align: right;\n",
       "    }\n",
       "</style>\n",
       "<table border=\"1\" class=\"dataframe\">\n",
       "  <thead>\n",
       "    <tr style=\"text-align: right;\">\n",
       "      <th></th>\n",
       "      <th>COUNTYFP</th>\n",
       "      <th>LOCALITY</th>\n",
       "      <th>VTDST</th>\n",
       "      <th>PRECINCT</th>\n",
       "      <th>G18USSDKAI</th>\n",
       "      <th>G18USSRSTE</th>\n",
       "      <th>G18USSLWAT</th>\n",
       "      <th>G18USSOWRI</th>\n",
       "      <th>geometry</th>\n",
       "    </tr>\n",
       "  </thead>\n",
       "  <tbody>\n",
       "    <tr>\n",
       "      <th>2418</th>\n",
       "      <td>013</td>\n",
       "      <td>Arlington County</td>\n",
       "      <td>000052</td>\n",
       "      <td>Gunston</td>\n",
       "      <td>1375</td>\n",
       "      <td>224</td>\n",
       "      <td>47</td>\n",
       "      <td>9</td>\n",
       "      <td>POLYGON Z ((-77.08225 38.84343 0.00000, -77.08...</td>\n",
       "    </tr>\n",
       "  </tbody>\n",
       "</table>\n",
       "</div>"
      ],
      "text/plain": [
       "     COUNTYFP          LOCALITY   VTDST PRECINCT  G18USSDKAI  G18USSRSTE  \\\n",
       "2418      013  Arlington County  000052  Gunston        1375         224   \n",
       "\n",
       "      G18USSLWAT  G18USSOWRI  \\\n",
       "2418          47           9   \n",
       "\n",
       "                                               geometry  \n",
       "2418  POLYGON Z ((-77.08225 38.84343 0.00000, -77.08...  "
      ]
     },
     "execution_count": 44,
     "metadata": {},
     "output_type": "execute_result"
    }
   ],
   "source": [
    "final[(final['LOCALITY'].map(lambda x: 'Arlington' in str(x)) & final['PRECINCT'].map(lambda x: 'Gunston' in str(x)))]"
   ]
  },
  {
   "cell_type": "code",
   "execution_count": 45,
   "metadata": {},
   "outputs": [
    {
     "data": {
      "text/html": [
       "<div>\n",
       "<style scoped>\n",
       "    .dataframe tbody tr th:only-of-type {\n",
       "        vertical-align: middle;\n",
       "    }\n",
       "\n",
       "    .dataframe tbody tr th {\n",
       "        vertical-align: top;\n",
       "    }\n",
       "\n",
       "    .dataframe thead th {\n",
       "        text-align: right;\n",
       "    }\n",
       "</style>\n",
       "<table border=\"1\" class=\"dataframe\">\n",
       "  <thead>\n",
       "    <tr style=\"text-align: right;\">\n",
       "      <th></th>\n",
       "      <th>Pct</th>\n",
       "      <th>LOCALITY</th>\n",
       "      <th>G18USSDKAI</th>\n",
       "      <th>G18USSRSTE</th>\n",
       "      <th>G18USSLWAT</th>\n",
       "      <th>G18USSOWRI</th>\n",
       "      <th>COUNTYFP</th>\n",
       "    </tr>\n",
       "  </thead>\n",
       "  <tbody>\n",
       "    <tr>\n",
       "      <th>157</th>\n",
       "      <td>32 - Oakridge</td>\n",
       "      <td>Arlington County</td>\n",
       "      <td>577</td>\n",
       "      <td>179</td>\n",
       "      <td>21</td>\n",
       "      <td>4</td>\n",
       "      <td>013</td>\n",
       "    </tr>\n",
       "  </tbody>\n",
       "</table>\n",
       "</div>"
      ],
      "text/plain": [
       "               Pct          LOCALITY  G18USSDKAI  G18USSRSTE  G18USSLWAT  \\\n",
       "157  32 - Oakridge  Arlington County         577         179          21   \n",
       "\n",
       "     G18USSOWRI COUNTYFP  \n",
       "157           4      013  "
      ]
     },
     "execution_count": 45,
     "metadata": {},
     "output_type": "execute_result"
    }
   ],
   "source": [
    "df[(df['LOCALITY'].map(lambda x: 'Arlington' in str(x)) & df['Pct'].map(lambda x: 'Oakridge' in str(x)))]"
   ]
  },
  {
   "cell_type": "markdown",
   "metadata": {},
   "source": [
    "## Finding Unique Identifier"
   ]
  },
  {
   "cell_type": "code",
   "execution_count": 46,
   "metadata": {},
   "outputs": [
    {
     "data": {
      "text/plain": [
       "(2462, 16)"
      ]
     },
     "execution_count": 46,
     "metadata": {},
     "output_type": "execute_result"
    }
   ],
   "source": [
    "shp = shapefiles_census\n",
    "shp.shape"
   ]
  },
  {
   "cell_type": "code",
   "execution_count": 47,
   "metadata": {},
   "outputs": [
    {
     "data": {
      "text/plain": [
       "(2463, 9)"
      ]
     },
     "execution_count": 47,
     "metadata": {},
     "output_type": "execute_result"
    }
   ],
   "source": [
    "final.shape "
   ]
  },
  {
   "cell_type": "code",
   "execution_count": 48,
   "metadata": {},
   "outputs": [
    {
     "data": {
      "text/plain": [
       "(2462, 7)"
      ]
     },
     "execution_count": 48,
     "metadata": {},
     "output_type": "execute_result"
    }
   ],
   "source": [
    "df_with_absentee_reallocated.shape"
   ]
  },
  {
   "cell_type": "code",
   "execution_count": 49,
   "metadata": {},
   "outputs": [
    {
     "data": {
      "text/plain": [
       "710104    2\n",
       "177703    2\n",
       "177702    2\n",
       "153609    2\n",
       "177103    2\n",
       "         ..\n",
       "1153 -    1\n",
       "760305    1\n",
       "191302    1\n",
       "81022     1\n",
       "029502    1\n",
       "Length: 2440, dtype: int64"
      ]
     },
     "execution_count": 49,
     "metadata": {},
     "output_type": "execute_result"
    }
   ],
   "source": [
    "(df_with_absentee_reallocated.COUNTYFP + df_with_absentee_reallocated.Pct.str.slice(stop = 3)).value_counts()"
   ]
  },
  {
   "cell_type": "code",
   "execution_count": 50,
   "metadata": {},
   "outputs": [
    {
     "data": {
      "text/html": [
       "<div>\n",
       "<style scoped>\n",
       "    .dataframe tbody tr th:only-of-type {\n",
       "        vertical-align: middle;\n",
       "    }\n",
       "\n",
       "    .dataframe tbody tr th {\n",
       "        vertical-align: top;\n",
       "    }\n",
       "\n",
       "    .dataframe thead th {\n",
       "        text-align: right;\n",
       "    }\n",
       "</style>\n",
       "<table border=\"1\" class=\"dataframe\">\n",
       "  <thead>\n",
       "    <tr style=\"text-align: right;\">\n",
       "      <th></th>\n",
       "      <th>Pct</th>\n",
       "      <th>LOCALITY</th>\n",
       "      <th>G18USSDKAI</th>\n",
       "      <th>G18USSRSTE</th>\n",
       "      <th>G18USSLWAT</th>\n",
       "      <th>G18USSOWRI</th>\n",
       "      <th>COUNTYFP</th>\n",
       "    </tr>\n",
       "  </thead>\n",
       "  <tbody>\n",
       "    <tr>\n",
       "      <th>1316</th>\n",
       "      <td>304 - Mount Olivet (CD 5)</td>\n",
       "      <td>Henry County</td>\n",
       "      <td>718.0</td>\n",
       "      <td>564.0</td>\n",
       "      <td>8.0</td>\n",
       "      <td>0.0</td>\n",
       "      <td>089</td>\n",
       "    </tr>\n",
       "    <tr>\n",
       "      <th>1317</th>\n",
       "      <td>304 - Mount Olivet (CD 9)</td>\n",
       "      <td>Henry County</td>\n",
       "      <td>4.0</td>\n",
       "      <td>0.0</td>\n",
       "      <td>0.0</td>\n",
       "      <td>0.0</td>\n",
       "      <td>089</td>\n",
       "    </tr>\n",
       "  </tbody>\n",
       "</table>\n",
       "</div>"
      ],
      "text/plain": [
       "                            Pct      LOCALITY  G18USSDKAI  G18USSRSTE  \\\n",
       "1316  304 - Mount Olivet (CD 5)  Henry County       718.0       564.0   \n",
       "1317  304 - Mount Olivet (CD 9)  Henry County         4.0         0.0   \n",
       "\n",
       "      G18USSLWAT  G18USSOWRI COUNTYFP  \n",
       "1316         8.0         0.0      089  \n",
       "1317         0.0         0.0      089  "
      ]
     },
     "execution_count": 50,
     "metadata": {},
     "output_type": "execute_result"
    }
   ],
   "source": [
    "df_with_absentee_reallocated[(df_with_absentee_reallocated.Pct.str.slice(stop = 3) == '304') & (df_with_absentee_reallocated.COUNTYFP == '089')]"
   ]
  },
  {
   "cell_type": "code",
   "execution_count": 51,
   "metadata": {},
   "outputs": [],
   "source": [
    "df_county_vtdst = set(df_with_absentee_reallocated.COUNTYFP + df_with_absentee_reallocated.Pct.str.slice(stop = 3))"
   ]
  },
  {
   "cell_type": "code",
   "execution_count": 52,
   "metadata": {},
   "outputs": [
    {
     "data": {
      "text/plain": [
       "2462"
      ]
     },
     "execution_count": 52,
     "metadata": {},
     "output_type": "execute_result"
    }
   ],
   "source": [
    "(shp.COUNTYFP + shp.VTDST).nunique()"
   ]
  },
  {
   "cell_type": "markdown",
   "metadata": {},
   "source": [
    "Match rate for final and vtdst pretty good - if get all 2440/2462 to match, that is a 99.1% match rate... Just need to fix final file leading zeros etc with vtdst"
   ]
  },
  {
   "cell_type": "markdown",
   "metadata": {},
   "source": [
    "See below with unique IDs are missing"
   ]
  },
  {
   "cell_type": "code",
   "execution_count": 54,
   "metadata": {},
   "outputs": [],
   "source": [
    "nonunique_id = ['650215', '177703', '089304', '177402', '800602', '153112', '059513',\n",
    "       '800504', '095202', '800404', '550020', '089505', '800302', '153609',\n",
    "       '153210', '177103', '710104', '153110', '177702', '095504', '153312',\n",
    "       '177704']"
   ]
  },
  {
   "cell_type": "code",
   "execution_count": 55,
   "metadata": {},
   "outputs": [],
   "source": [
    "final['unique_id'] = final.COUNTYFP + final.VTDST.str.slice(start = 3)"
   ]
  },
  {
   "cell_type": "code",
   "execution_count": 56,
   "metadata": {},
   "outputs": [
    {
     "data": {
      "text/plain": [
       "44"
      ]
     },
     "execution_count": 56,
     "metadata": {},
     "output_type": "execute_result"
    }
   ],
   "source": [
    "len(final[final['unique_id'].isin(nonunique_id)])"
   ]
  },
  {
   "cell_type": "code",
   "execution_count": 57,
   "metadata": {},
   "outputs": [
    {
     "data": {
      "text/html": [
       "<div>\n",
       "<style scoped>\n",
       "    .dataframe tbody tr th:only-of-type {\n",
       "        vertical-align: middle;\n",
       "    }\n",
       "\n",
       "    .dataframe tbody tr th {\n",
       "        vertical-align: top;\n",
       "    }\n",
       "\n",
       "    .dataframe thead th {\n",
       "        text-align: right;\n",
       "    }\n",
       "</style>\n",
       "<table border=\"1\" class=\"dataframe\">\n",
       "  <thead>\n",
       "    <tr style=\"text-align: right;\">\n",
       "      <th></th>\n",
       "      <th>COUNTYFP</th>\n",
       "      <th>LOCALITY</th>\n",
       "      <th>VTDST</th>\n",
       "      <th>PRECINCT</th>\n",
       "      <th>G18USSDKAI</th>\n",
       "      <th>G18USSRSTE</th>\n",
       "      <th>G18USSLWAT</th>\n",
       "      <th>G18USSOWRI</th>\n",
       "      <th>geometry</th>\n",
       "      <th>unique_id</th>\n",
       "    </tr>\n",
       "  </thead>\n",
       "  <tbody>\n",
       "    <tr>\n",
       "      <th>1803</th>\n",
       "      <td>650</td>\n",
       "      <td>Hampton City</td>\n",
       "      <td>000215</td>\n",
       "      <td>TYLER (CD 3)</td>\n",
       "      <td>363</td>\n",
       "      <td>62</td>\n",
       "      <td>10</td>\n",
       "      <td>5</td>\n",
       "      <td>POLYGON Z ((-76.36283 37.05127 0.00000, -76.36...</td>\n",
       "      <td>650215</td>\n",
       "    </tr>\n",
       "    <tr>\n",
       "      <th>2239</th>\n",
       "      <td>650</td>\n",
       "      <td>Hampton City</td>\n",
       "      <td>000215</td>\n",
       "      <td>TYLER (CD 2)</td>\n",
       "      <td>38</td>\n",
       "      <td>9</td>\n",
       "      <td>1</td>\n",
       "      <td>0</td>\n",
       "      <td>POLYGON Z ((-76.36144 37.05458 0.00000, -76.35...</td>\n",
       "      <td>650215</td>\n",
       "    </tr>\n",
       "  </tbody>\n",
       "</table>\n",
       "</div>"
      ],
      "text/plain": [
       "     COUNTYFP      LOCALITY   VTDST      PRECINCT  G18USSDKAI  G18USSRSTE  \\\n",
       "1803      650  Hampton City  000215  TYLER (CD 3)         363          62   \n",
       "2239      650  Hampton City  000215  TYLER (CD 2)          38           9   \n",
       "\n",
       "      G18USSLWAT  G18USSOWRI  \\\n",
       "1803          10           5   \n",
       "2239           1           0   \n",
       "\n",
       "                                               geometry unique_id  \n",
       "1803  POLYGON Z ((-76.36283 37.05127 0.00000, -76.36...    650215  \n",
       "2239  POLYGON Z ((-76.36144 37.05458 0.00000, -76.35...    650215  "
      ]
     },
     "execution_count": 57,
     "metadata": {},
     "output_type": "execute_result"
    }
   ],
   "source": [
    "final[(final.VTDST.str.slice(start = 3) == '215') & (final.COUNTYFP == '650')]"
   ]
  },
  {
   "cell_type": "code",
   "execution_count": 58,
   "metadata": {},
   "outputs": [],
   "source": [
    "df_with_absentee_reallocated['vtdst'] = df_with_absentee_reallocated.Pct.str.slice(stop = 3)"
   ]
  },
  {
   "cell_type": "code",
   "execution_count": 59,
   "metadata": {},
   "outputs": [],
   "source": [
    "#Now, tackle the case where vtdst messed up in df - add vtdst column\n",
    "def vtdst_changer(vtdst):\n",
    "    if (vtdst[1:3] == ' -'):\n",
    "        two_lead_zero = '00' + vtdst[:1]\n",
    "        return two_lead_zero\n",
    "    elif (vtdst[1:3] == '- '):\n",
    "        two_lead_zero = '00' + vtdst[:1]\n",
    "        return two_lead_zero\n",
    "    elif (vtdst[-1:] == ' '):\n",
    "        one_lead_zero = '0' + vtdst[:2]\n",
    "        return one_lead_zero\n",
    "    elif (vtdst[-1:] == '-'):\n",
    "        one_lead_zero = '0' + vtdst[:2]\n",
    "        return one_lead_zero\n",
    "    else:\n",
    "        return vtdst\n",
    "    "
   ]
  },
  {
   "cell_type": "code",
   "execution_count": 60,
   "metadata": {},
   "outputs": [],
   "source": [
    "df_with_absentee_reallocated['vtdst'] = df_with_absentee_reallocated['vtdst'].apply(vtdst_changer)"
   ]
  },
  {
   "cell_type": "code",
   "execution_count": 61,
   "metadata": {},
   "outputs": [
    {
     "data": {
      "text/plain": [
       "2440"
      ]
     },
     "execution_count": 61,
     "metadata": {},
     "output_type": "execute_result"
    }
   ],
   "source": [
    "((df_with_absentee_reallocated['COUNTYFP']+ df_with_absentee_reallocated['vtdst'])).nunique()"
   ]
  },
  {
   "cell_type": "code",
   "execution_count": 62,
   "metadata": {},
   "outputs": [
    {
     "data": {
      "text/plain": [
       "2440"
      ]
     },
     "execution_count": 62,
     "metadata": {},
     "output_type": "execute_result"
    }
   ],
   "source": [
    "(df_with_absentee_reallocated['COUNTYFP'] + df_with_absentee_reallocated['Pct'].str.slice(stop = 3)).nunique()"
   ]
  },
  {
   "cell_type": "code",
   "execution_count": 63,
   "metadata": {},
   "outputs": [
    {
     "data": {
      "text/html": [
       "<div>\n",
       "<style scoped>\n",
       "    .dataframe tbody tr th:only-of-type {\n",
       "        vertical-align: middle;\n",
       "    }\n",
       "\n",
       "    .dataframe tbody tr th {\n",
       "        vertical-align: top;\n",
       "    }\n",
       "\n",
       "    .dataframe thead th {\n",
       "        text-align: right;\n",
       "    }\n",
       "</style>\n",
       "<table border=\"1\" class=\"dataframe\">\n",
       "  <thead>\n",
       "    <tr style=\"text-align: right;\">\n",
       "      <th></th>\n",
       "      <th>Pct</th>\n",
       "      <th>LOCALITY</th>\n",
       "      <th>G18USSDKAI</th>\n",
       "      <th>G18USSRSTE</th>\n",
       "      <th>G18USSLWAT</th>\n",
       "      <th>G18USSOWRI</th>\n",
       "      <th>COUNTYFP</th>\n",
       "      <th>vtdst</th>\n",
       "    </tr>\n",
       "  </thead>\n",
       "  <tbody>\n",
       "  </tbody>\n",
       "</table>\n",
       "</div>"
      ],
      "text/plain": [
       "Empty DataFrame\n",
       "Columns: [Pct, LOCALITY, G18USSDKAI, G18USSRSTE, G18USSLWAT, G18USSOWRI, COUNTYFP, vtdst]\n",
       "Index: []"
      ]
     },
     "execution_count": 63,
     "metadata": {},
     "output_type": "execute_result"
    }
   ],
   "source": [
    "df_with_absentee_reallocated[df_with_absentee_reallocated['vtdst'].str.slice(start = -1) == '-']"
   ]
  },
  {
   "cell_type": "markdown",
   "metadata": {},
   "source": [
    "Now, with vtdst in each set, make unique ID from the 2440 that do match, then account for the 10/20 that dont afterward."
   ]
  },
  {
   "cell_type": "code",
   "execution_count": 74,
   "metadata": {},
   "outputs": [],
   "source": [
    "df_with_absentee_reallocated['unique_id'] = df_with_absentee_reallocated['COUNTYFP'] + df_with_absentee_reallocated['vtdst']"
   ]
  },
  {
   "cell_type": "code",
   "execution_count": 75,
   "metadata": {},
   "outputs": [],
   "source": [
    "double_in_df = df_with_absentee_reallocated['unique_id'].value_counts()\n",
    "df_double_list = double_in_df[double_in_df > 1].index"
   ]
  },
  {
   "cell_type": "code",
   "execution_count": 77,
   "metadata": {},
   "outputs": [],
   "source": [
    "double_in_final = final['unique_id'].value_counts()\n",
    "final_double_list = double_in_final[double_in_final > 1].index"
   ]
  },
  {
   "cell_type": "code",
   "execution_count": 78,
   "metadata": {},
   "outputs": [
    {
     "data": {
      "text/plain": [
       "set()"
      ]
     },
     "execution_count": 78,
     "metadata": {},
     "output_type": "execute_result"
    }
   ],
   "source": [
    "set(final_double_list) - set(df_double_list)"
   ]
  },
  {
   "cell_type": "code",
   "execution_count": 79,
   "metadata": {
    "collapsed": true,
    "jupyter": {
     "outputs_hidden": true
    }
   },
   "outputs": [
    {
     "data": {
      "text/plain": [
       "1803    (CD 3)\n",
       "2232    (CD 4)\n",
       "2233    (CD 3)\n",
       "2234    (CD 8)\n",
       "2235    CD 11)\n",
       "2239    (CD 2)\n",
       "2241    (CD 1)\n",
       "2242    (CD 2)\n",
       "2267    (CD 2)\n",
       "2268    (CD 3)\n",
       "2270    (CD 1)\n",
       "2271    CD 11)\n",
       "2272    (CD 1)\n",
       "2273    (CD 1)\n",
       "2274    CD 10)\n",
       "2275    CD 10)\n",
       "2276    CD 11)\n",
       "2277    (CD 1)\n",
       "2278    CD 11)\n",
       "2279    (CD 1)\n",
       "2284    (CD 7)\n",
       "2285    (CD 1)\n",
       "2286    (CD 1)\n",
       "2287    (CD 7)\n",
       "2288    (CD 1)\n",
       "2289    (CD 7)\n",
       "2290    (CD 1)\n",
       "2291    (CD 7)\n",
       "2292    (CD 7)\n",
       "2293    (CD 1)\n",
       "2294    (CD 4)\n",
       "2295    (CD 4)\n",
       "2296    (CD 3)\n",
       "2297    (CD 4)\n",
       "2298    (CD 3)\n",
       "2299    (CD 4)\n",
       "2300    (CD 3)\n",
       "2301    (CD 3)\n",
       "2302    (CD 1)\n",
       "2303    (CD 2)\n",
       "2313    (CD 9)\n",
       "2314    (CD 5)\n",
       "2315    (CD 5)\n",
       "2316    (CD 9)\n",
       "Name: PRECINCT, dtype: object"
      ]
     },
     "execution_count": 79,
     "metadata": {},
     "output_type": "execute_result"
    }
   ],
   "source": [
    "final['PRECINCT'].str.slice(start = -6)[final['unique_id'].isin(list(df_double_list))]"
   ]
  },
  {
   "cell_type": "code",
   "execution_count": 80,
   "metadata": {},
   "outputs": [],
   "source": [
    "def vtdst_add_cd(unique_id, precinct):\n",
    "    double_list = ['177702', '153112', '710104', '800602', '095504', '177103', '089505',\n",
    "       '800404', '800504', '153210', '095202', '089304', '800302', '153609',\n",
    "       '177703', '650215', '177402', '153312', '059513', '550020', '177704',\n",
    "       '153110']\n",
    "    if (unique_id in double_list):\n",
    "        unique_id = unique_id + precinct[-6:]\n",
    "        return unique_id\n",
    "    else:\n",
    "        return unique_id"
   ]
  },
  {
   "cell_type": "code",
   "execution_count": 81,
   "metadata": {},
   "outputs": [
    {
     "data": {
      "text/plain": [
       "2462"
      ]
     },
     "execution_count": 81,
     "metadata": {},
     "output_type": "execute_result"
    }
   ],
   "source": [
    "df_with_absentee_reallocated['unique_id_1'] = df_with_absentee_reallocated.apply(lambda row: vtdst_add_cd(row['unique_id'], row['Pct']), axis = 1)\n",
    "df_with_absentee_reallocated['unique_id_1'].nunique()"
   ]
  },
  {
   "cell_type": "code",
   "execution_count": 82,
   "metadata": {},
   "outputs": [],
   "source": [
    "final['unique_id_1'] = final.apply(lambda row: vtdst_add_cd(row['unique_id'], row['PRECINCT']), axis = 1)"
   ]
  },
  {
   "cell_type": "code",
   "execution_count": 83,
   "metadata": {
    "collapsed": true,
    "jupyter": {
     "outputs_hidden": true
    }
   },
   "outputs": [
    {
     "data": {
      "text/plain": [
       "425     550020(CD 3)\n",
       "426     550020(CD 4)\n",
       "787     059513CD 11)\n",
       "788     059513(CD 8)\n",
       "1157    650215(CD 2)\n",
       "1158    650215(CD 3)\n",
       "1316    089304(CD 5)\n",
       "1317    089304(CD 9)\n",
       "1327    089505(CD 5)\n",
       "1328    089505(CD 9)\n",
       "1374    095202(CD 1)\n",
       "1375    095202(CD 2)\n",
       "1388    095504(CD 1)\n",
       "1389    095504(CD 2)\n",
       "1764    710104(CD 2)\n",
       "1765    710104(CD 3)\n",
       "2001    153110(CD 1)\n",
       "2002    153110CD 10)\n",
       "2004    153112(CD 1)\n",
       "2005    153112CD 10)\n",
       "2015    153210(CD 1)\n",
       "2016    153210CD 11)\n",
       "2033    153312(CD 1)\n",
       "2034    153312CD 11)\n",
       "2072    153609(CD 1)\n",
       "2073    153609CD 11)\n",
       "2402    177103(CD 1)\n",
       "2403    177103(CD 7)\n",
       "2413    177402(CD 1)\n",
       "2414    177402(CD 7)\n",
       "2425    177702(CD 1)\n",
       "2426    177702(CD 7)\n",
       "2427    177703(CD 1)\n",
       "2428    177703(CD 7)\n",
       "2429    177704(CD 1)\n",
       "2430    177704(CD 7)\n",
       "2479    800302(CD 3)\n",
       "2480    800302(CD 4)\n",
       "2486    800404(CD 3)\n",
       "2487    800404(CD 4)\n",
       "2491    800504(CD 3)\n",
       "2492    800504(CD 4)\n",
       "2494    800602(CD 3)\n",
       "2495    800602(CD 4)\n",
       "Name: unique_id_1, dtype: object"
      ]
     },
     "execution_count": 83,
     "metadata": {},
     "output_type": "execute_result"
    }
   ],
   "source": [
    "df_with_absentee_reallocated['unique_id_1'][df_with_absentee_reallocated['unique_id'].isin(list(df_double_list))]"
   ]
  },
  {
   "cell_type": "code",
   "execution_count": 84,
   "metadata": {},
   "outputs": [
    {
     "data": {
      "text/plain": [
       "{'003499', '003599', '059700'}"
      ]
     },
     "execution_count": 84,
     "metadata": {},
     "output_type": "execute_result"
    }
   ],
   "source": [
    "set(final['unique_id_1']) - set(df_with_absentee_reallocated['unique_id_1'])"
   ]
  },
  {
   "cell_type": "code",
   "execution_count": 85,
   "metadata": {},
   "outputs": [
    {
     "data": {
      "text/plain": [
       "{'003407', '003507'}"
      ]
     },
     "execution_count": 85,
     "metadata": {},
     "output_type": "execute_result"
    }
   ],
   "source": [
    "set(df_with_absentee_reallocated['unique_id_1']) - set(final['unique_id_1'])"
   ]
  },
  {
   "cell_type": "code",
   "execution_count": 86,
   "metadata": {},
   "outputs": [],
   "source": [
    "df_not_in_final = list(set(df_with_absentee_reallocated['unique_id_1']) - set(final['unique_id_1']))"
   ]
  },
  {
   "cell_type": "code",
   "execution_count": 87,
   "metadata": {},
   "outputs": [
    {
     "data": {
      "text/html": [
       "<div>\n",
       "<style scoped>\n",
       "    .dataframe tbody tr th:only-of-type {\n",
       "        vertical-align: middle;\n",
       "    }\n",
       "\n",
       "    .dataframe tbody tr th {\n",
       "        vertical-align: top;\n",
       "    }\n",
       "\n",
       "    .dataframe thead th {\n",
       "        text-align: right;\n",
       "    }\n",
       "</style>\n",
       "<table border=\"1\" class=\"dataframe\">\n",
       "  <thead>\n",
       "    <tr style=\"text-align: right;\">\n",
       "      <th></th>\n",
       "      <th>Pct</th>\n",
       "      <th>LOCALITY</th>\n",
       "      <th>G18USSDKAI</th>\n",
       "      <th>G18USSRSTE</th>\n",
       "      <th>G18USSLWAT</th>\n",
       "      <th>G18USSOWRI</th>\n",
       "      <th>COUNTYFP</th>\n",
       "      <th>vtdst</th>\n",
       "      <th>unique_id</th>\n",
       "      <th>unique_id_1</th>\n",
       "    </tr>\n",
       "  </thead>\n",
       "  <tbody>\n",
       "    <tr>\n",
       "      <th>37</th>\n",
       "      <td>407 - Biscuit Run</td>\n",
       "      <td>Albemarle County</td>\n",
       "      <td>1083.0</td>\n",
       "      <td>253.0</td>\n",
       "      <td>47.0</td>\n",
       "      <td>2.0</td>\n",
       "      <td>003</td>\n",
       "      <td>407</td>\n",
       "      <td>003407</td>\n",
       "      <td>003407</td>\n",
       "    </tr>\n",
       "    <tr>\n",
       "      <th>43</th>\n",
       "      <td>507 - Pantops</td>\n",
       "      <td>Albemarle County</td>\n",
       "      <td>1055.0</td>\n",
       "      <td>454.0</td>\n",
       "      <td>23.0</td>\n",
       "      <td>2.0</td>\n",
       "      <td>003</td>\n",
       "      <td>507</td>\n",
       "      <td>003507</td>\n",
       "      <td>003507</td>\n",
       "    </tr>\n",
       "  </tbody>\n",
       "</table>\n",
       "</div>"
      ],
      "text/plain": [
       "                  Pct          LOCALITY  G18USSDKAI  G18USSRSTE  G18USSLWAT  \\\n",
       "37  407 - Biscuit Run  Albemarle County      1083.0       253.0        47.0   \n",
       "43      507 - Pantops  Albemarle County      1055.0       454.0        23.0   \n",
       "\n",
       "    G18USSOWRI COUNTYFP vtdst unique_id unique_id_1  \n",
       "37         2.0      003   407    003407      003407  \n",
       "43         2.0      003   507    003507      003507  "
      ]
     },
     "execution_count": 87,
     "metadata": {},
     "output_type": "execute_result"
    }
   ],
   "source": [
    "df_with_absentee_reallocated[df_with_absentee_reallocated['unique_id_1'].isin(df_not_in_final)]"
   ]
  },
  {
   "cell_type": "code",
   "execution_count": 88,
   "metadata": {},
   "outputs": [],
   "source": [
    "final_notin_df = list(set(final['unique_id_1']) - set(df_with_absentee_reallocated['unique_id_1']))"
   ]
  },
  {
   "cell_type": "code",
   "execution_count": 89,
   "metadata": {},
   "outputs": [
    {
     "data": {
      "text/html": [
       "<div>\n",
       "<style scoped>\n",
       "    .dataframe tbody tr th:only-of-type {\n",
       "        vertical-align: middle;\n",
       "    }\n",
       "\n",
       "    .dataframe tbody tr th {\n",
       "        vertical-align: top;\n",
       "    }\n",
       "\n",
       "    .dataframe thead th {\n",
       "        text-align: right;\n",
       "    }\n",
       "</style>\n",
       "<table border=\"1\" class=\"dataframe\">\n",
       "  <thead>\n",
       "    <tr style=\"text-align: right;\">\n",
       "      <th></th>\n",
       "      <th>COUNTYFP</th>\n",
       "      <th>LOCALITY</th>\n",
       "      <th>VTDST</th>\n",
       "      <th>PRECINCT</th>\n",
       "      <th>G18USSDKAI</th>\n",
       "      <th>G18USSRSTE</th>\n",
       "      <th>G18USSLWAT</th>\n",
       "      <th>G18USSOWRI</th>\n",
       "      <th>geometry</th>\n",
       "      <th>unique_id</th>\n",
       "      <th>unique_id_1</th>\n",
       "    </tr>\n",
       "  </thead>\n",
       "  <tbody>\n",
       "    <tr>\n",
       "      <th>29</th>\n",
       "      <td>003</td>\n",
       "      <td>Albemarle County</td>\n",
       "      <td>000499</td>\n",
       "      <td>Biscuit Run</td>\n",
       "      <td>1083</td>\n",
       "      <td>252</td>\n",
       "      <td>47</td>\n",
       "      <td>2</td>\n",
       "      <td>POLYGON Z ((-78.53848 37.98576 0.00000, -78.53...</td>\n",
       "      <td>003499</td>\n",
       "      <td>003499</td>\n",
       "    </tr>\n",
       "    <tr>\n",
       "      <th>600</th>\n",
       "      <td>059</td>\n",
       "      <td>Fairfax County</td>\n",
       "      <td>000700</td>\n",
       "      <td>Fairfax Court</td>\n",
       "      <td>0</td>\n",
       "      <td>0</td>\n",
       "      <td>0</td>\n",
       "      <td>0</td>\n",
       "      <td>POLYGON Z ((-77.31648 38.84615 0.00000, -77.31...</td>\n",
       "      <td>059700</td>\n",
       "      <td>059700</td>\n",
       "    </tr>\n",
       "    <tr>\n",
       "      <th>2332</th>\n",
       "      <td>003</td>\n",
       "      <td>Albemarle County</td>\n",
       "      <td>000599</td>\n",
       "      <td>Pantops</td>\n",
       "      <td>1054</td>\n",
       "      <td>453</td>\n",
       "      <td>23</td>\n",
       "      <td>2</td>\n",
       "      <td>POLYGON Z ((-78.45505 38.04404 0.00000, -78.45...</td>\n",
       "      <td>003599</td>\n",
       "      <td>003599</td>\n",
       "    </tr>\n",
       "  </tbody>\n",
       "</table>\n",
       "</div>"
      ],
      "text/plain": [
       "     COUNTYFP          LOCALITY   VTDST       PRECINCT  G18USSDKAI  \\\n",
       "29        003  Albemarle County  000499    Biscuit Run        1083   \n",
       "600       059    Fairfax County  000700  Fairfax Court           0   \n",
       "2332      003  Albemarle County  000599        Pantops        1054   \n",
       "\n",
       "      G18USSRSTE  G18USSLWAT  G18USSOWRI  \\\n",
       "29           252          47           2   \n",
       "600            0           0           0   \n",
       "2332         453          23           2   \n",
       "\n",
       "                                               geometry unique_id unique_id_1  \n",
       "29    POLYGON Z ((-78.53848 37.98576 0.00000, -78.53...    003499      003499  \n",
       "600   POLYGON Z ((-77.31648 38.84615 0.00000, -77.31...    059700      059700  \n",
       "2332  POLYGON Z ((-78.45505 38.04404 0.00000, -78.45...    003599      003599  "
      ]
     },
     "execution_count": 89,
     "metadata": {},
     "output_type": "execute_result"
    }
   ],
   "source": [
    "final[final['unique_id_1'].isin(final_notin_df)]"
   ]
  },
  {
   "cell_type": "markdown",
   "metadata": {},
   "source": [
    "### Fixing 07 vs 99 problem"
   ]
  },
  {
   "cell_type": "code",
   "execution_count": 90,
   "metadata": {},
   "outputs": [],
   "source": [
    "d = {'003407':'003499', '003507': '003599'}"
   ]
  },
  {
   "cell_type": "code",
   "execution_count": 91,
   "metadata": {},
   "outputs": [],
   "source": [
    "df_with_absentee_reallocated.loc[df_with_absentee_reallocated['unique_id'].isin(d.keys()), 'unique_id_1']=df_with_absentee_reallocated.loc[df_with_absentee_reallocated['unique_id'].isin(d.keys()), 'unique_id_1'].map(d)"
   ]
  },
  {
   "cell_type": "code",
   "execution_count": 92,
   "metadata": {},
   "outputs": [
    {
     "data": {
      "text/html": [
       "<div>\n",
       "<style scoped>\n",
       "    .dataframe tbody tr th:only-of-type {\n",
       "        vertical-align: middle;\n",
       "    }\n",
       "\n",
       "    .dataframe tbody tr th {\n",
       "        vertical-align: top;\n",
       "    }\n",
       "\n",
       "    .dataframe thead th {\n",
       "        text-align: right;\n",
       "    }\n",
       "</style>\n",
       "<table border=\"1\" class=\"dataframe\">\n",
       "  <thead>\n",
       "    <tr style=\"text-align: right;\">\n",
       "      <th></th>\n",
       "      <th>Pct</th>\n",
       "      <th>LOCALITY</th>\n",
       "      <th>G18USSDKAI</th>\n",
       "      <th>G18USSRSTE</th>\n",
       "      <th>G18USSLWAT</th>\n",
       "      <th>G18USSOWRI</th>\n",
       "      <th>COUNTYFP</th>\n",
       "      <th>vtdst</th>\n",
       "      <th>unique_id</th>\n",
       "      <th>unique_id_1</th>\n",
       "    </tr>\n",
       "  </thead>\n",
       "  <tbody>\n",
       "    <tr>\n",
       "      <th>37</th>\n",
       "      <td>407 - Biscuit Run</td>\n",
       "      <td>Albemarle County</td>\n",
       "      <td>1083.0</td>\n",
       "      <td>253.0</td>\n",
       "      <td>47.0</td>\n",
       "      <td>2.0</td>\n",
       "      <td>003</td>\n",
       "      <td>407</td>\n",
       "      <td>003407</td>\n",
       "      <td>003499</td>\n",
       "    </tr>\n",
       "    <tr>\n",
       "      <th>43</th>\n",
       "      <td>507 - Pantops</td>\n",
       "      <td>Albemarle County</td>\n",
       "      <td>1055.0</td>\n",
       "      <td>454.0</td>\n",
       "      <td>23.0</td>\n",
       "      <td>2.0</td>\n",
       "      <td>003</td>\n",
       "      <td>507</td>\n",
       "      <td>003507</td>\n",
       "      <td>003599</td>\n",
       "    </tr>\n",
       "  </tbody>\n",
       "</table>\n",
       "</div>"
      ],
      "text/plain": [
       "                  Pct          LOCALITY  G18USSDKAI  G18USSRSTE  G18USSLWAT  \\\n",
       "37  407 - Biscuit Run  Albemarle County      1083.0       253.0        47.0   \n",
       "43      507 - Pantops  Albemarle County      1055.0       454.0        23.0   \n",
       "\n",
       "    G18USSOWRI COUNTYFP vtdst unique_id unique_id_1  \n",
       "37         2.0      003   407    003407      003499  \n",
       "43         2.0      003   507    003507      003599  "
      ]
     },
     "execution_count": 92,
     "metadata": {},
     "output_type": "execute_result"
    }
   ],
   "source": [
    "df_with_absentee_reallocated.loc[df_with_absentee_reallocated['unique_id'].isin(d.keys())]#, 'unique_id_1']"
   ]
  },
  {
   "cell_type": "code",
   "execution_count": 93,
   "metadata": {},
   "outputs": [
    {
     "data": {
      "text/html": [
       "<div>\n",
       "<style scoped>\n",
       "    .dataframe tbody tr th:only-of-type {\n",
       "        vertical-align: middle;\n",
       "    }\n",
       "\n",
       "    .dataframe tbody tr th {\n",
       "        vertical-align: top;\n",
       "    }\n",
       "\n",
       "    .dataframe thead th {\n",
       "        text-align: right;\n",
       "    }\n",
       "</style>\n",
       "<table border=\"1\" class=\"dataframe\">\n",
       "  <thead>\n",
       "    <tr style=\"text-align: right;\">\n",
       "      <th></th>\n",
       "      <th>COUNTYFP</th>\n",
       "      <th>LOCALITY</th>\n",
       "      <th>VTDST</th>\n",
       "      <th>PRECINCT</th>\n",
       "      <th>G18USSDKAI</th>\n",
       "      <th>G18USSRSTE</th>\n",
       "      <th>G18USSLWAT</th>\n",
       "      <th>G18USSOWRI</th>\n",
       "      <th>geometry</th>\n",
       "      <th>unique_id</th>\n",
       "      <th>unique_id_1</th>\n",
       "    </tr>\n",
       "  </thead>\n",
       "  <tbody>\n",
       "    <tr>\n",
       "      <th>29</th>\n",
       "      <td>003</td>\n",
       "      <td>Albemarle County</td>\n",
       "      <td>000499</td>\n",
       "      <td>Biscuit Run</td>\n",
       "      <td>1083</td>\n",
       "      <td>252</td>\n",
       "      <td>47</td>\n",
       "      <td>2</td>\n",
       "      <td>POLYGON Z ((-78.53848 37.98576 0.00000, -78.53...</td>\n",
       "      <td>003499</td>\n",
       "      <td>003499</td>\n",
       "    </tr>\n",
       "  </tbody>\n",
       "</table>\n",
       "</div>"
      ],
      "text/plain": [
       "   COUNTYFP          LOCALITY   VTDST     PRECINCT  G18USSDKAI  G18USSRSTE  \\\n",
       "29      003  Albemarle County  000499  Biscuit Run        1083         252   \n",
       "\n",
       "    G18USSLWAT  G18USSOWRI                                           geometry  \\\n",
       "29          47           2  POLYGON Z ((-78.53848 37.98576 0.00000, -78.53...   \n",
       "\n",
       "   unique_id unique_id_1  \n",
       "29    003499      003499  "
      ]
     },
     "execution_count": 93,
     "metadata": {},
     "output_type": "execute_result"
    }
   ],
   "source": [
    "final.loc[final['unique_id'] == '003499']"
   ]
  },
  {
   "cell_type": "code",
   "execution_count": 96,
   "metadata": {},
   "outputs": [
    {
     "data": {
      "text/plain": [
       "2463"
      ]
     },
     "execution_count": 96,
     "metadata": {},
     "output_type": "execute_result"
    }
   ],
   "source": [
    "final.unique_id_1.nunique()"
   ]
  },
  {
   "cell_type": "code",
   "execution_count": 97,
   "metadata": {},
   "outputs": [
    {
     "data": {
      "text/plain": [
       "2462"
      ]
     },
     "execution_count": 97,
     "metadata": {},
     "output_type": "execute_result"
    }
   ],
   "source": [
    "df_with_absentee_reallocated.unique_id_1.nunique()"
   ]
  },
  {
   "cell_type": "markdown",
   "metadata": {},
   "source": [
    "### Apply unique id to shp"
   ]
  },
  {
   "cell_type": "code",
   "execution_count": 98,
   "metadata": {},
   "outputs": [],
   "source": [
    "shp['unique_id'] = shp['COUNTYFP'] + shp['VTDST'].str.slice(start = 3)"
   ]
  },
  {
   "cell_type": "code",
   "execution_count": 99,
   "metadata": {},
   "outputs": [
    {
     "data": {
      "text/plain": [
       "(2462, 17)"
      ]
     },
     "execution_count": 99,
     "metadata": {},
     "output_type": "execute_result"
    }
   ],
   "source": [
    "shp.shape"
   ]
  },
  {
   "cell_type": "code",
   "execution_count": 100,
   "metadata": {},
   "outputs": [],
   "source": [
    "df_notin_shp = list(set(df_with_absentee_reallocated['unique_id']) - set(shp['unique_id']))"
   ]
  },
  {
   "cell_type": "code",
   "execution_count": 101,
   "metadata": {},
   "outputs": [
    {
     "data": {
      "text/html": [
       "<div>\n",
       "<style scoped>\n",
       "    .dataframe tbody tr th:only-of-type {\n",
       "        vertical-align: middle;\n",
       "    }\n",
       "\n",
       "    .dataframe tbody tr th {\n",
       "        vertical-align: top;\n",
       "    }\n",
       "\n",
       "    .dataframe thead th {\n",
       "        text-align: right;\n",
       "    }\n",
       "</style>\n",
       "<table border=\"1\" class=\"dataframe\">\n",
       "  <thead>\n",
       "    <tr style=\"text-align: right;\">\n",
       "      <th></th>\n",
       "      <th>Pct</th>\n",
       "      <th>LOCALITY</th>\n",
       "      <th>G18USSDKAI</th>\n",
       "      <th>G18USSRSTE</th>\n",
       "      <th>G18USSLWAT</th>\n",
       "      <th>G18USSOWRI</th>\n",
       "      <th>COUNTYFP</th>\n",
       "      <th>vtdst</th>\n",
       "      <th>unique_id</th>\n",
       "      <th>unique_id_1</th>\n",
       "    </tr>\n",
       "  </thead>\n",
       "  <tbody>\n",
       "    <tr>\n",
       "      <th>278</th>\n",
       "      <td>4 - Fourth Ward</td>\n",
       "      <td>Bristol City</td>\n",
       "      <td>610.0</td>\n",
       "      <td>1581.0</td>\n",
       "      <td>24.0</td>\n",
       "      <td>2.0</td>\n",
       "      <td>520</td>\n",
       "      <td>004</td>\n",
       "      <td>520004</td>\n",
       "      <td>520004</td>\n",
       "    </tr>\n",
       "    <tr>\n",
       "      <th>446</th>\n",
       "      <td>40 - River Birch (CD 3)</td>\n",
       "      <td>Chesapeake City</td>\n",
       "      <td>1235.0</td>\n",
       "      <td>760.0</td>\n",
       "      <td>29.0</td>\n",
       "      <td>3.0</td>\n",
       "      <td>550</td>\n",
       "      <td>040</td>\n",
       "      <td>550040</td>\n",
       "      <td>550040</td>\n",
       "    </tr>\n",
       "    <tr>\n",
       "      <th>453</th>\n",
       "      <td>47 - Green Sea (CD 4)</td>\n",
       "      <td>Chesapeake City</td>\n",
       "      <td>305.0</td>\n",
       "      <td>509.0</td>\n",
       "      <td>15.0</td>\n",
       "      <td>2.0</td>\n",
       "      <td>550</td>\n",
       "      <td>047</td>\n",
       "      <td>550047</td>\n",
       "      <td>550047</td>\n",
       "    </tr>\n",
       "    <tr>\n",
       "      <th>1086</th>\n",
       "      <td>401 - Fries</td>\n",
       "      <td>Grayson County</td>\n",
       "      <td>101.0</td>\n",
       "      <td>224.0</td>\n",
       "      <td>4.0</td>\n",
       "      <td>0.0</td>\n",
       "      <td>077</td>\n",
       "      <td>401</td>\n",
       "      <td>077401</td>\n",
       "      <td>077401</td>\n",
       "    </tr>\n",
       "    <tr>\n",
       "      <th>1372</th>\n",
       "      <td>104- Berkeley D (CD 2)</td>\n",
       "      <td>James City County</td>\n",
       "      <td>457.0</td>\n",
       "      <td>318.0</td>\n",
       "      <td>19.0</td>\n",
       "      <td>1.0</td>\n",
       "      <td>095</td>\n",
       "      <td>104</td>\n",
       "      <td>095104</td>\n",
       "      <td>095104</td>\n",
       "    </tr>\n",
       "    <tr>\n",
       "      <th>1616</th>\n",
       "      <td>3 - Precinct Three</td>\n",
       "      <td>Manassas Park City</td>\n",
       "      <td>953.0</td>\n",
       "      <td>464.0</td>\n",
       "      <td>28.0</td>\n",
       "      <td>0.0</td>\n",
       "      <td>685</td>\n",
       "      <td>003</td>\n",
       "      <td>685003</td>\n",
       "      <td>685003</td>\n",
       "    </tr>\n",
       "    <tr>\n",
       "      <th>1997</th>\n",
       "      <td>106 - Westgate (CD 1)</td>\n",
       "      <td>Prince William County</td>\n",
       "      <td>976.0</td>\n",
       "      <td>265.0</td>\n",
       "      <td>26.0</td>\n",
       "      <td>2.0</td>\n",
       "      <td>153</td>\n",
       "      <td>106</td>\n",
       "      <td>153106</td>\n",
       "      <td>153106</td>\n",
       "    </tr>\n",
       "    <tr>\n",
       "      <th>2681</th>\n",
       "      <td>702 - Wallace</td>\n",
       "      <td>Washington County</td>\n",
       "      <td>132.0</td>\n",
       "      <td>449.0</td>\n",
       "      <td>7.0</td>\n",
       "      <td>1.0</td>\n",
       "      <td>191</td>\n",
       "      <td>702</td>\n",
       "      <td>191702</td>\n",
       "      <td>191702</td>\n",
       "    </tr>\n",
       "  </tbody>\n",
       "</table>\n",
       "</div>"
      ],
      "text/plain": [
       "                          Pct               LOCALITY  G18USSDKAI  G18USSRSTE  \\\n",
       "278           4 - Fourth Ward           Bristol City       610.0      1581.0   \n",
       "446   40 - River Birch (CD 3)        Chesapeake City      1235.0       760.0   \n",
       "453     47 - Green Sea (CD 4)        Chesapeake City       305.0       509.0   \n",
       "1086              401 - Fries         Grayson County       101.0       224.0   \n",
       "1372   104- Berkeley D (CD 2)      James City County       457.0       318.0   \n",
       "1616       3 - Precinct Three     Manassas Park City       953.0       464.0   \n",
       "1997    106 - Westgate (CD 1)  Prince William County       976.0       265.0   \n",
       "2681            702 - Wallace      Washington County       132.0       449.0   \n",
       "\n",
       "      G18USSLWAT  G18USSOWRI COUNTYFP vtdst unique_id unique_id_1  \n",
       "278         24.0         2.0      520   004    520004      520004  \n",
       "446         29.0         3.0      550   040    550040      550040  \n",
       "453         15.0         2.0      550   047    550047      550047  \n",
       "1086         4.0         0.0      077   401    077401      077401  \n",
       "1372        19.0         1.0      095   104    095104      095104  \n",
       "1616        28.0         0.0      685   003    685003      685003  \n",
       "1997        26.0         2.0      153   106    153106      153106  \n",
       "2681         7.0         1.0      191   702    191702      191702  "
      ]
     },
     "execution_count": 101,
     "metadata": {},
     "output_type": "execute_result"
    }
   ],
   "source": [
    "df_with_absentee_reallocated[df_with_absentee_reallocated['unique_id'].isin(df_notin_shp)]"
   ]
  },
  {
   "cell_type": "code",
   "execution_count": 102,
   "metadata": {},
   "outputs": [],
   "source": [
    "shp_notin_df = list(set(shp['unique_id']) - set(df_with_absentee_reallocated['unique_id']))"
   ]
  },
  {
   "cell_type": "code",
   "execution_count": 103,
   "metadata": {},
   "outputs": [
    {
     "data": {
      "text/html": [
       "<div>\n",
       "<style scoped>\n",
       "    .dataframe tbody tr th:only-of-type {\n",
       "        vertical-align: middle;\n",
       "    }\n",
       "\n",
       "    .dataframe tbody tr th {\n",
       "        vertical-align: top;\n",
       "    }\n",
       "\n",
       "    .dataframe thead th {\n",
       "        text-align: right;\n",
       "    }\n",
       "</style>\n",
       "<table border=\"1\" class=\"dataframe\">\n",
       "  <thead>\n",
       "    <tr style=\"text-align: right;\">\n",
       "      <th></th>\n",
       "      <th>STATEFP</th>\n",
       "      <th>COUNTYFP</th>\n",
       "      <th>VTDST</th>\n",
       "      <th>NAMELSAD</th>\n",
       "      <th>VTDI</th>\n",
       "      <th>LSAD</th>\n",
       "      <th>CHNG_TYPE</th>\n",
       "      <th>ORIG_NAME</th>\n",
       "      <th>ORIG_CODE</th>\n",
       "      <th>RELATE</th>\n",
       "      <th>NAME</th>\n",
       "      <th>VINTAGE</th>\n",
       "      <th>FUNCSTAT</th>\n",
       "      <th>JUSTIFY</th>\n",
       "      <th>MTFCC</th>\n",
       "      <th>geometry</th>\n",
       "      <th>unique_id</th>\n",
       "    </tr>\n",
       "  </thead>\n",
       "  <tbody>\n",
       "    <tr>\n",
       "      <th>9</th>\n",
       "      <td>51</td>\n",
       "      <td>153</td>\n",
       "      <td>000112</td>\n",
       "      <td>Burke-Nickens Voting District</td>\n",
       "      <td>A</td>\n",
       "      <td>V2</td>\n",
       "      <td>None</td>\n",
       "      <td>None</td>\n",
       "      <td>None</td>\n",
       "      <td>None</td>\n",
       "      <td>Burke-Nickens</td>\n",
       "      <td>90</td>\n",
       "      <td>N</td>\n",
       "      <td>None</td>\n",
       "      <td>G5240</td>\n",
       "      <td>POLYGON Z ((-77.70994 38.82376 0.00000, -77.70...</td>\n",
       "      <td>153112</td>\n",
       "    </tr>\n",
       "  </tbody>\n",
       "</table>\n",
       "</div>"
      ],
      "text/plain": [
       "  STATEFP COUNTYFP   VTDST                       NAMELSAD VTDI LSAD CHNG_TYPE  \\\n",
       "9      51      153  000112  Burke-Nickens Voting District    A   V2      None   \n",
       "\n",
       "  ORIG_NAME ORIG_CODE RELATE           NAME VINTAGE FUNCSTAT JUSTIFY  MTFCC  \\\n",
       "9      None      None   None  Burke-Nickens      90        N    None  G5240   \n",
       "\n",
       "                                            geometry unique_id  \n",
       "9  POLYGON Z ((-77.70994 38.82376 0.00000, -77.70...    153112  "
      ]
     },
     "execution_count": 103,
     "metadata": {},
     "output_type": "execute_result"
    }
   ],
   "source": [
    "shp[(shp['COUNTYFP'] == '153')  & (shp['VTDST'].str.slice(start = 3) == '112')]"
   ]
  },
  {
   "cell_type": "markdown",
   "metadata": {},
   "source": [
    "## Join election results and shapefile"
   ]
  },
  {
   "cell_type": "code",
   "execution_count": 124,
   "metadata": {},
   "outputs": [
    {
     "data": {
      "text/plain": [
       "<matplotlib.axes._subplots.AxesSubplot at 0x7fc5d8fd68b0>"
      ]
     },
     "execution_count": 124,
     "metadata": {},
     "output_type": "execute_result"
    },
    {
     "data": {
      "image/png": "[encoded data removed]",
      "text/plain": [
       "<Figure size 432x288 with 1 Axes>"
      ]
     },
     "metadata": {
      "needs_background": "light"
     },
     "output_type": "display_data"
    }
   ],
   "source": [
    "join = gpd.GeoDataFrame(pd.merge(df_with_absentee_reallocated, shp, on = 'unique_id', how = 'inner'), crs = proj)\n",
    "join.plot()"
   ]
  },
  {
   "cell_type": "markdown",
   "metadata": {},
   "source": [
    "# Validation"
   ]
  },
  {
   "cell_type": "markdown",
   "metadata": {},
   "source": [
    "## Shapefile comparison:"
   ]
  },
  {
   "cell_type": "code",
   "execution_count": 104,
   "metadata": {},
   "outputs": [
    {
     "data": {
      "text/plain": [
       "<matplotlib.axes._subplots.AxesSubplot at 0x7fc638d332e0>"
      ]
     },
     "execution_count": 104,
     "metadata": {},
     "output_type": "execute_result"
    },
    {
     "data": {
      "image/png": "[encoded data removed]",
      "text/plain": [
       "<Figure size 432x288 with 1 Axes>"
      ]
     },
     "metadata": {
      "needs_background": "light"
     },
     "output_type": "display_data"
    }
   ],
   "source": [
    "final.plot()"
   ]
  },
  {
   "cell_type": "code",
   "execution_count": 105,
   "metadata": {},
   "outputs": [
    {
     "data": {
      "text/plain": [
       "<matplotlib.axes._subplots.AxesSubplot at 0x7fc63921db50>"
      ]
     },
     "execution_count": 105,
     "metadata": {},
     "output_type": "execute_result"
    },
    {
     "data": {
      "image/png": "[encoded data removed]",
      "text/plain": [
       "<Figure size 432x288 with 1 Axes>"
      ]
     },
     "metadata": {
      "needs_background": "light"
     },
     "output_type": "display_data"
    }
   ],
   "source": [
    "shp.plot()"
   ]
  },
  {
   "cell_type": "code",
   "execution_count": 106,
   "metadata": {},
   "outputs": [],
   "source": [
    "shp_final_merge = pd.merge(shp, final, on = 'unique_id', how = 'inner', suffixes = ['_x', '_y'])"
   ]
  },
  {
   "cell_type": "code",
   "execution_count": 107,
   "metadata": {},
   "outputs": [
    {
     "name": "stderr",
     "output_type": "stream",
     "text": [
      "/Users/lilyfalk/anaconda3/lib/python3.8/site-packages/geopandas/base.py:39: UserWarning: The indices of the two GeoSeries are different.\n",
      "  warn(\"The indices of the two GeoSeries are different.\")\n"
     ]
    },
    {
     "data": {
      "text/plain": [
       "0       False\n",
       "0       False\n",
       "0       False\n",
       "0       False\n",
       "0       False\n",
       "        ...  \n",
       "2458    False\n",
       "2459    False\n",
       "2460    False\n",
       "2461    False\n",
       "2462    False\n",
       "Length: 4681, dtype: bool"
      ]
     },
     "execution_count": 107,
     "metadata": {},
     "output_type": "execute_result"
    }
   ],
   "source": [
    "shp['geometry'].geom_almost_equals(final['geometry'], decimal = 0)"
   ]
  },
  {
   "cell_type": "markdown",
   "metadata": {},
   "source": [
    "They should be all in same order row wise because of unique_id - shp and shp final merge should match for all... clearly wrong order happening needs to be fixed"
   ]
  },
  {
   "cell_type": "code",
   "execution_count": 108,
   "metadata": {},
   "outputs": [],
   "source": [
    "shp_shapes = gpd.GeoDataFrame(shp_final_merge, geometry = 'geometry_x')\n",
    "final_shapes = gpd.GeoDataFrame(shp_final_merge, geometry = 'geometry_y')\n",
    "vals = shp_shapes.geom_almost_equals(final_shapes, decimal = 0)"
   ]
  },
  {
   "cell_type": "code",
   "execution_count": 109,
   "metadata": {},
   "outputs": [
    {
     "name": "stdout",
     "output_type": "stream",
     "text": [
      "True     1826\n",
      "False     627\n",
      "dtype: int64\n"
     ]
    }
   ],
   "source": [
    "print(vals.value_counts())"
   ]
  },
  {
   "cell_type": "code",
   "execution_count": 110,
   "metadata": {},
   "outputs": [
    {
     "name": "stdout",
     "output_type": "stream",
     "text": [
      "059    41\n",
      "153    40\n",
      "107    38\n",
      "550    31\n",
      "700    24\n",
      "       ..\n",
      "169     1\n",
      "685     1\n",
      "830     1\n",
      "173     1\n",
      "630     1\n",
      "Name: unique_id, Length: 92, dtype: int64\n"
     ]
    },
    {
     "data": {
      "text/plain": [
       "<matplotlib.axes._subplots.AxesSubplot at 0x7fc629c03c10>"
      ]
     },
     "execution_count": 110,
     "metadata": {},
     "output_type": "execute_result"
    },
    {
     "data": {
      "image/png": "[encoded data removed]",
      "text/plain": [
       "<Figure size 432x288 with 1 Axes>"
      ]
     },
     "metadata": {
      "needs_background": "light"
     },
     "output_type": "display_data"
    }
   ],
   "source": [
    "print(shp_final_merge[~vals]['unique_id'].str[0:3].value_counts())\n",
    "diff_precincts = gpd.GeoDataFrame(shp_final_merge[~vals], geometry = 'geometry_x', crs = proj)\n",
    "\n",
    "shp_difference = gpd.overlay(shp_shapes, final_shapes, how = 'symmetric_difference')\n",
    "shp_difference.plot()"
   ]
  },
  {
   "cell_type": "code",
   "execution_count": 111,
   "metadata": {},
   "outputs": [
    {
     "name": "stdout",
     "output_type": "stream",
     "text": [
      "     STATEFP COUNTYFP_x VTDST_x                              NAMELSAD VTDI  \\\n",
      "0         51        580  000101                          Precinct 1-1    A   \n",
      "1         51        580  000201                          Precinct 2-1    A   \n",
      "2         51        580  000301                          Precinct 3-1    A   \n",
      "14        51        117  000401  American Legion Hall Voting District    A   \n",
      "15        51        117  000501            South Hill Voting District    A   \n",
      "...      ...        ...     ...                                   ...  ...   \n",
      "2445      51        153  000706                Rippon Voting District    A   \n",
      "2447      51        153  000709               Freedom Voting District    A   \n",
      "2450      51        153  000712           Leesylvania Voting District    A   \n",
      "2451      51        530  000001                            First Ward    A   \n",
      "2452      51        530  000002                           Second Ward    A   \n",
      "\n",
      "     LSAD CHNG_TYPE ORIG_NAME ORIG_CODE RELATE  ... COUNTYFP_y  \\\n",
      "0      00      None      None      None   None  ...        580   \n",
      "1      00      None      None      None   None  ...        580   \n",
      "2      00      None      None      None   None  ...        580   \n",
      "14     V2      None      None      None   None  ...        117   \n",
      "15     V2      None      None      None   None  ...        117   \n",
      "...   ...       ...       ...       ...    ...  ...        ...   \n",
      "2445   V2      None      None      None   None  ...        153   \n",
      "2447   V2      None      None      None   None  ...        153   \n",
      "2450   V2      None      None      None   None  ...        153   \n",
      "2451   00      None      None      None   None  ...        530   \n",
      "2452   00      None      None      None   None  ...        530   \n",
      "\n",
      "                   LOCALITY VTDST_y              PRECINCT G18USSDKAI  \\\n",
      "0            Covington City  000101          Precinct 1-1        133   \n",
      "1            Covington City  000201          Precinct 2-1        165   \n",
      "2            Covington City  000301          Precinct 3-1        180   \n",
      "14       Mecklenburg County  000401  American Legion Hall        767   \n",
      "15       Mecklenburg County  000501            South Hill        556   \n",
      "...                     ...     ...                   ...        ...   \n",
      "2445  Prince William County  000706                Rippon       1346   \n",
      "2447  Prince William County  000709               Freedom       1624   \n",
      "2450  Prince William County  000712           Leesylvania       1245   \n",
      "2451       Buena Vista City  000001            First Ward        362   \n",
      "2452       Buena Vista City  000002           Second Ward        304   \n",
      "\n",
      "     G18USSRSTE G18USSLWAT G18USSOWRI  \\\n",
      "0           155          6          0   \n",
      "1           161          6          1   \n",
      "2           110          0          0   \n",
      "14          373          8          0   \n",
      "15          698         20          4   \n",
      "...         ...        ...        ...   \n",
      "2445        470         19          4   \n",
      "2447        227         13          3   \n",
      "2450        525         28          6   \n",
      "2451        609         22          2   \n",
      "2452        438         15          2   \n",
      "\n",
      "                                             geometry_y unique_id_1  \n",
      "0     POLYGON Z ((-80.00136 37.78983 0.00000, -80.00...      580101  \n",
      "1     POLYGON Z ((-79.98944 37.79422 0.00000, -79.98...      580201  \n",
      "2     POLYGON Z ((-79.98965 37.79472 0.00000, -79.98...      580301  \n",
      "14    POLYGON Z ((-78.21522 36.69187 0.00000, -78.21...      117401  \n",
      "15    POLYGON Z ((-78.17153 36.71394 0.00000, -78.17...      117501  \n",
      "...                                                 ...         ...  \n",
      "2445  POLYGON Z ((-77.27018 38.61031 0.00000, -77.27...      153706  \n",
      "2447  POLYGON Z ((-77.29030 38.61095 0.00000, -77.29...      153709  \n",
      "2450  POLYGON Z ((-77.27749 38.60881 0.00000, -77.27...      153712  \n",
      "2451  POLYGON Z ((-79.38080 37.70710 0.00000, -79.38...      530001  \n",
      "2452  POLYGON Z ((-79.38151 37.74215 0.00000, -79.38...      530002  \n",
      "\n",
      "[627 rows x 27 columns]\n"
     ]
    },
    {
     "data": {
      "image/svg+xml": [
       "<svg xmlns=\"http://www.w3.org/2000/svg\" xmlns:xlink=\"http://www.w3.org/1999/xlink\" width=\"100.0\" height=\"100.0\" viewBox=\"-76.1927874 37.5844906 0.46171080000000586 0.10696579999999045\" preserveAspectRatio=\"xMinYMin meet\"><g transform=\"matrix(1,0,0,-1,0,75.275947)\"><path fill-rule=\"evenodd\" fill=\"#66cc99\" stroke=\"#555555\" stroke-width=\"0.009234216000000118\" opacity=\"0.6\" d=\"M -76.175687,37.671625999999996 L -76.09546399999999,37.672126 L -76.092657,37.672295 L -75.999659,37.673035 L -75.950098,37.673429999999996 L -75.890022,37.674302 L -75.884556,37.674347999999995 L -75.869523,37.674355999999996 L -75.869518,37.674324999999996 L -75.865506,37.673998999999995 L -75.860721,37.67361 L -75.857815,37.67342 L -75.85758299999999,37.673404999999995 L -75.857107,37.673474999999996 L -75.856783,37.673539 L -75.846368,37.672878 L -75.84428199999999,37.672942 L -75.8433,37.673003 L -75.842912,37.67303 L -75.842449,37.673064 L -75.84195199999999,37.673119 L -75.841618,37.67315 L -75.840891,37.672928999999996 L -75.839829,37.672691 L -75.839041,37.672511 L -75.838203,37.672208999999995 L -75.838036,37.672143999999996 L -75.836961,37.671729 L -75.836204,37.671411 L -75.836074,37.671348 L -75.835621,37.671127 L -75.83546799999999,37.671053 L -75.83460000000001,37.670566 L -75.833815,37.670023 L -75.833049,37.669495999999995 L -75.832962,37.669441 L -75.832444,37.669114 L -75.830972,37.668383 L -75.829629,37.66787 L -75.828115,37.667307 L -75.827074,37.667021 L -75.825316,37.666537999999996 L -75.823739,37.666201 L -75.82102499999999,37.665565 L -75.820476,37.665437 L -75.820342,37.665405 L -75.819839,37.665337 L -75.818108,37.665106 L -75.817573,37.665019 L -75.815994,37.664764 L -75.815752,37.664725 L -75.814827,37.66462 L -75.814742,37.664609999999996 L -75.814639,37.664598999999995 L -75.814093,37.664549 L -75.81341599999999,37.664296 L -75.81258,37.663841 L -75.811864,37.663499 L -75.810975,37.663247 L -75.810256,37.663228 L -75.81016799999999,37.663221 L -75.809457,37.663168 L -75.809339,37.663159 L -75.80869799999999,37.663115999999995 L -75.808059,37.663226 L -75.80680000000001,37.663768999999995 L -75.806646,37.663851 L -75.803466,37.665561 L -75.802916,37.665914 L -75.801935,37.666644999999995 L -75.801756,37.666779999999996 L -75.80055399999999,37.667773 L -75.799926,37.669125 L -75.799613,37.669512999999995 L -75.799486,37.669672 L -75.799117,37.670234 L -75.79856699999999,37.670635 L -75.797365,37.672281999999996 L -75.797155,37.672571999999995 L -75.796544,37.673094 L -75.795346,37.673483999999995 L -75.7953,37.673542 L -75.79405799999999,37.673840999999996 L -75.793206,37.673974 L -75.792577,37.674181 L -75.79185,37.673904 L -75.791313,37.67391 L -75.79081099999999,37.673932 L -75.789688,37.673817 L -75.78836299999999,37.673817 L -75.78675,37.674 L -75.785973,37.673839 L -75.784503,37.673792999999996 L -75.78343699999999,37.67361 L -75.781998,37.673038 L -75.77995299999999,37.672076 L -75.778658,37.671113999999996 L -75.777823,37.670885 L -75.77698699999999,37.670930999999996 L -75.776296,37.671228 L -75.775835,37.67132 L -75.775029,37.671319 L -75.773704,37.670792 L -75.773186,37.670311 L -75.773157,37.669945 L -75.773273,37.669739 L -75.774079,37.669143999999996 L -75.774396,37.668732 L -75.774425,37.66832 L -75.77431,37.667977 L -75.77408,37.667725 L -75.773692,37.667468 L -75.773279,37.667221999999995 L -75.771373,37.666106 L -75.769001,37.665067 L -75.768064,37.664528 L -75.766081,37.663074 L -75.76644,37.662712 L -75.767489,37.661792 L -75.768306,37.661094999999996 L -75.768367,37.661043 L -75.769245,37.660267999999995 L -75.76935399999999,37.660188999999995 L -75.769421,37.660153 L -75.769511,37.660126999999996 L -75.769588,37.660119 L -75.769697,37.660129999999995 L -75.769813,37.660165 L -75.770515,37.660426 L -75.771581,37.660798 L -75.772181,37.661012 L -75.773414,37.66144 L -75.774649,37.661871999999995 L -75.775038,37.662003 L -75.77570399999999,37.662234999999995 L -75.776031,37.662355 L -75.777176,37.662754 L -75.777517,37.662877 L -75.77788699999999,37.663002 L -75.77838299999999,37.66318 L -75.778869,37.663346 L -75.77919299999999,37.663471 L -75.779322,37.663546 L -75.779696,37.663218 L -75.78029099999999,37.662676 L -75.781104,37.661937 L -75.781812,37.661283 L -75.78226,37.660883 L -75.78356699999999,37.659687 L -75.78391599999999,37.659369 L -75.784139,37.659174 L -75.784429,37.658909 L -75.784813,37.658539999999995 L -75.785181,37.658162 L -75.785401,37.657908 L -75.785488,37.657798 L -75.78491199999999,37.657723 L -75.784855,37.657081999999996 L -75.78451,37.655732 L -75.78390499999999,37.654862 L -75.783186,37.654289 L -75.782581,37.653991 L -75.781458,37.653785 L -75.78088199999999,37.653739 L -75.77889499999999,37.653943999999996 L -75.77860799999999,37.653876 L -75.778176,37.653464 L -75.77811799999999,37.653234999999995 L -75.778234,37.6528 L -75.778263,37.651815 L -75.777832,37.650876 L -75.77766799999999,37.649938 L -75.777401,37.648404 L -75.77731399999999,37.648312 L -75.777315,37.64758 L -75.77748799999999,37.647236 L -75.778093,37.646573 L -75.778122,37.645748 L -75.777518,37.644466 L -75.77651,37.643848 L -75.77616499999999,37.643481 L -75.77610399999999,37.643322999999995 L -75.776738,37.642044999999996 L -75.77707199999999,37.641301999999996 L -75.777112,37.640896999999995 L -75.777148,37.640612 L -75.777616,37.640402 L -75.778202,37.640412 L -75.778662,37.640425 L -75.77935699999999,37.640166 L -75.779487,37.640263 L -75.779787,37.640482 L -75.780193,37.640792 L -75.780418,37.640975999999995 L -75.78072499999999,37.641247 L -75.781261,37.641751 L -75.783552,37.643924999999996 L -75.784122,37.644461 L -75.784357,37.644664999999996 L -75.78462499999999,37.64487 L -75.78473699999999,37.644949 L -75.786124,37.645831 L -75.787155,37.646477 L -75.78863,37.647406 L -75.78918399999999,37.647804 L -75.789735,37.648221 L -75.78992199999999,37.648347 L -75.790021,37.648413999999995 L -75.79027099999999,37.648562999999996 L -75.790502,37.648683999999996 L -75.790826,37.648835 L -75.791114,37.648953 L -75.791562,37.649116 L -75.791822,37.649206 L -75.792097,37.649315 L -75.792416,37.649464 L -75.792519,37.649519999999995 L -75.79267,37.649602 L -75.792994,37.6498 L -75.79390599999999,37.650376 L -75.794242,37.65002 L -75.794428,37.649817 L -75.794871,37.649333999999996 L -75.795557,37.648539 L -75.795887,37.648147 L -75.796194,37.647816999999996 L -75.796371,37.647635 L -75.796605,37.647418 L -75.797101,37.646972999999996 L -75.79742999999999,37.646685999999995 L -75.797859,37.646300000000004 L -75.79905699999999,37.645237 L -75.79950000000001,37.644836999999995 L -75.800741,37.643736 L -75.800921,37.643561999999996 L -75.801048,37.643422 L -75.801132,37.643302 L -75.80119599999999,37.643175 L -75.801242,37.643043 L -75.801262,37.642962 L -75.801327,37.642576 L -75.80149,37.641374 L -75.80162899999999,37.640356 L -75.801689,37.640046999999996 L -75.802007,37.638695 L -75.80206299999999,37.638475 L -75.80232699999999,37.63753 L -75.802559,37.636724 L -75.802588,37.636655999999995 L -75.802638,37.636576999999996 L -75.802703,37.636503999999995 L -75.802724,37.636489 L -75.802779,37.636449999999996 L -75.80268099999999,37.636371 L -75.802601,37.636326 L -75.802425,37.636275999999995 L -75.80237799999999,37.636261999999995 L -75.802149,37.636212 L -75.801526,37.636109999999995 L -75.800977,37.636032 L -75.800332,37.63596 L -75.799964,37.635926 L -75.79950199999999,37.635897 L -75.798957,37.635878999999996 L -75.79875299999999,37.635883 L -75.798549,37.635901 L -75.798389,37.635925 L -75.797985,37.636006 L -75.797778,37.63606 L -75.79732,37.636207 L -75.797212,37.636235 L -75.797056,37.636257 L -75.796936,37.636261999999995 L -75.79686099999999,37.636263 L -75.79674899999999,37.636252999999996 L -75.796352,37.636179999999996 L -75.79619199999999,37.63614 L -75.795953,37.636058 L -75.795535,37.635939 L -75.795249,37.63587 L -75.795062,37.63584 L -75.794957,37.635836999999995 L -75.794827,37.635847 L -75.79458699999999,37.635895 L -75.794431,37.635937999999996 L -75.79316399999999,37.636367 L -75.79290499999999,37.636449 L -75.79263999999999,37.636517 L -75.792433,37.636553 L -75.79204899999999,37.636603 L -75.791204,37.636680999999996 L -75.790117,37.636806 L -75.789808,37.636835999999995 L -75.789599,37.636846999999996 L -75.789379,37.636843999999996 L -75.78916,37.636827 L -75.789014,37.636801999999996 L -75.788905,37.636773 L -75.788647,37.636686 L -75.788397,37.636586 L -75.787216,37.63615 L -75.78714,37.636131 L -75.787016,37.636111 L -75.78687699999999,37.636105 L -75.786609,37.636122 L -75.786344,37.636154 L -75.78504,37.636379 L -75.78368499999999,37.636589 L -75.783525,37.636618 L -75.783305,37.636669 L -75.783,37.636759 L -75.782669,37.636876 L -75.781639,37.637214 L -75.779682,37.637842 L -75.77918799999999,37.638007 L -75.77893499999999,37.638113 L -75.778769,37.638200999999995 L -75.77860199999999,37.638307999999995 L -75.778435,37.638425 L -75.77830999999999,37.638525 L -75.77803999999999,37.638766 L -75.77779,37.639013 L -75.77763999999999,37.638923999999996 L -75.777489,37.638847 L -75.777309,37.63877 L -75.77705999999999,37.638681999999996 L -75.776313,37.638472 L -75.776138,37.638418 L -75.775961,37.638351 L -75.775758,37.638256999999996 L -75.775572,37.638149999999996 L -75.77543,37.638055 L -75.775316,37.637971 L -75.775157,37.637828 L -75.77503999999999,37.637707999999996 L -75.774935,37.637581 L -75.77481,37.637397 L -75.77441999999999,37.636714999999995 L -75.774307,37.636537 L -75.774185,37.636373999999996 L -75.773892,37.636044999999996 L -75.770867,37.632777 L -75.76941699999999,37.631158 L -75.769075,37.630775 L -75.768641,37.630281 L -75.768441,37.630061999999995 L -75.76706899999999,37.628526 L -75.76667599999999,37.628081 L -75.76647799999999,37.627829 L -75.76635499999999,37.627649 L -75.76623599999999,37.627454 L -75.766204,37.627393999999995 L -75.766117,37.627213 L -75.766,37.626937 L -75.765598,37.625824 L -75.76545999999999,37.625395999999995 L -75.764776,37.625364999999995 L -75.764585,37.625371 L -75.764251,37.625397 L -75.76218999999999,37.625575999999995 L -75.761286,37.625647 L -75.76048399999999,37.625703 L -75.76030999999999,37.625715 L -75.760164,37.625721999999996 L -75.758839,37.625772 L -75.758617,37.625772 L -75.758445,37.625771 L -75.75920599999999,37.624629 L -75.759526,37.624123 L -75.759738,37.623745 L -75.760085,37.623200000000004 L -75.761298,37.621365 L -75.76135699999999,37.621277 L -75.761123,37.621261 L -75.760684,37.62123 L -75.760565,37.621221 L -75.758393,37.621063 L -75.75757999999999,37.621002 L -75.757598,37.620452 L -75.757751,37.618719999999996 L -75.757725,37.618713 L -75.757654,37.618694 L -75.755071,37.618004 L -75.754848,37.617948 L -75.754598,37.617892999999995 L -75.754468,37.617881 L -75.75447,37.617861999999995 L -75.754464,37.6178 L -75.754417,37.617627 L -75.75410099999999,37.615843999999996 L -75.753885,37.614692 L -75.753852,37.614571 L -75.753813,37.614477 L -75.75375,37.614363999999995 L -75.75367,37.614258 L -75.753596,37.614179 L -75.75294,37.613614 L -75.752625,37.61333 L -75.75151,37.612328 L -75.749184,37.61004 L -75.749111,37.60995 L -75.749055,37.609854 L -75.749033,37.609769 L -75.74902999999999,37.609665 L -75.74904699999999,37.609579 L -75.74908099999999,37.609496 L -75.749335,37.609097 L -75.74951,37.608807 L -75.750106,37.607822 L -75.750444,37.607284 L -75.750473,37.607247 L -75.750534,37.607147999999995 L -75.75057799999999,37.607043999999995 L -75.750604,37.606936999999995 L -75.75059,37.606882999999996 L -75.75056599999999,37.606843 L -75.750514,37.606792 L -75.750444,37.606757 L -75.75037499999999,37.606736999999995 L -75.750153,37.606687 L -75.749928,37.606652 L -75.74974499999999,37.606634 L -75.749003,37.606525 L -75.74825799999999,37.606431 L -75.748178,37.606425 L -75.748177,37.606389 L -75.748189,37.606362 L -75.74825799999999,37.606300000000005 L -75.74843,37.606176999999995 L -75.748466,37.606134999999995 L -75.748555,37.605987999999996 L -75.748635,37.605813 L -75.748674,37.605682 L -75.748708,37.605613 L -75.748915,37.605284999999995 L -75.749038,37.605115999999995 L -75.749089,37.605073 L -75.749138,37.605047 L -75.750298,37.603209 L -75.75132099999999,37.601591 L -75.75134899999999,37.601701 L -75.751459,37.601865 L -75.751521,37.601942 L -75.751666,37.602058 L -75.751728,37.602084999999995 L -75.751846,37.602184 L -75.751915,37.602267 L -75.75197,37.602421 L -75.75195599999999,37.602596999999996 L -75.751977,37.602706 L -75.75201799999999,37.602767 L -75.752094,37.602821999999996 L -75.752225,37.602866 L -75.752612,37.602903999999995 L -75.75287399999999,37.602877 L -75.752978,37.602821999999996 L -75.753137,37.602657 L -75.75323999999999,37.602575 L -75.753517,37.602509 L -75.753759,37.602328 L -75.753835,37.602301 L -75.753993,37.602191 L -75.754132,37.602136 L -75.754221,37.602131 L -75.754415,37.602142 L -75.754725,37.602289999999996 L -75.755243,37.602494 L -75.755816,37.602790999999996 L -75.755899,37.602796 L -75.756058,37.602868 L -75.756265,37.602993999999995 L -75.756286,37.603044 L -75.756368,37.603131 L -75.75655499999999,37.603406 L -75.75689299999999,37.603775 L -75.75723099999999,37.60406 L -75.75765899999999,37.604495 L -75.75817599999999,37.60494 L -75.758404,37.60516 L -75.758866,37.605824999999996 L -75.75900399999999,37.605934999999995 L -75.75936999999999,37.606023 L -75.759819,37.606159999999996 L -75.760075,37.606215 L -75.760448,37.606254 L -75.76089,37.606276 L -75.76158,37.606189 L -75.761781,37.606183 L -75.762354,37.606204999999996 L -75.762665,37.606193999999995 L -75.76305099999999,37.606096 L -75.76353499999999,37.605903999999995 L -75.764226,37.605712 L -75.764398,37.605629 L -75.764806,37.605354999999996 L -75.764986,37.605256 L -75.765102,37.605221 L -75.765288,37.605506 L -75.76530000000001,37.605563 L -75.765298,37.605633999999995 L -75.76527899999999,37.605703 L -75.765242,37.605768 L -75.76518999999999,37.605826 L -75.765152,37.605855999999996 L -75.764613,37.606228 L -75.76426,37.606482 L -75.763787,37.606806 L -75.76340499999999,37.607082999999996 L -75.763375,37.607124999999996 L -75.763361,37.607171 L -75.763365,37.607219 L -75.763609,37.607774 L -75.763672,37.607960999999996 L -75.763716,37.608151 L -75.763789,37.608686999999996 L -75.76379899999999,37.608906 L -75.763791,37.609125999999996 L -75.76377699999999,37.609257 L -75.763747,37.609356999999996 L -75.763711,37.609434 L -75.763638,37.609542 L -75.763578,37.609609 L -75.763458,37.609727 L -75.763363,37.609843999999995 L -75.763284,37.609967 L -75.763222,37.610096999999996 L -75.76318599999999,37.610199 L -75.763167,37.610338 L -75.763166,37.610478 L -75.763183,37.610617999999995 L -75.76321899999999,37.610755 L -75.76324799999999,37.610836 L -75.76366399999999,37.612342999999996 L -75.763858,37.613020999999996 L -75.764183,37.614236999999996 L -75.764427,37.615105 L -75.76449099999999,37.615293 L -75.764538,37.615399 L -75.76455899999999,37.615446 L -75.76467,37.615612999999996 L -75.764769,37.615736 L -75.764787,37.615758 L -75.76481299999999,37.615719 L -75.765326,37.614941 L -75.76547,37.614723999999995 L -75.765689,37.614779999999996 L -75.76581399999999,37.614768 L -75.765986,37.614754 L -75.76611,37.614742 L -75.766885,37.614599 L -75.767237,37.617348 L -75.767252,37.617492999999996 L -75.767257,37.617537 L -75.767259,37.617553 L -75.767286,37.618528 L -75.76730599999999,37.619279999999996 L -75.767276,37.61942 L -75.767281,37.619471 L -75.767305,37.619704999999996 L -75.76731099999999,37.619772999999995 L -75.76732299999999,37.6199 L -75.767327,37.619951 L -75.767325,37.619966 L -75.76732899999999,37.620017 L -75.767698,37.620034 L -75.76799799999999,37.620048 L -75.768069,37.62005 L -75.768131,37.620051 L -75.768362,37.620056 L -75.76870000000001,37.620053 L -75.769594,37.620021 L -75.76996,37.620008 L -75.77017099999999,37.62 L -75.770515,37.619988 L -75.770843,37.619988 L -75.770929,37.619991 L -75.770971,37.619993 L -75.771202,37.620000999999995 L -75.77173499999999,37.620042999999995 L -75.772224,37.620089 L -75.772311,37.620096 L -75.772582,37.620115999999996 L -75.77292,37.620121999999995 L -75.775639,37.620061 L -75.77608699999999,37.620058 L -75.776532,37.620067999999996 L -75.777686,37.620127 L -75.77806799999999,37.620163 L -75.77845599999999,37.620218 L -75.780065,37.620466 L -75.780309,37.620517 L -75.780529,37.620573 L -75.782052,37.621016999999995 L -75.782724,37.621218 L -75.785031,37.621879 L -75.785224,37.621919 L -75.78536799999999,37.621939 L -75.78549,37.621949 L -75.785634,37.621947 L -75.785776,37.621932 L -75.78600399999999,37.621888999999996 L -75.791252,37.620774999999995 L -75.792276,37.620565 L -75.792659,37.620483 L -75.793238,37.620377 L -75.793369,37.620356 L -75.79432299999999,37.620219 L -75.795318,37.620081 L -75.795645,37.620039999999996 L -75.799173,37.619568 L -75.800572,37.61938 L -75.801399,37.619264 L -75.801542,37.619254999999995 L -75.801683,37.619257 L -75.801751,37.619274 L -75.801797,37.619293 L -75.801862,37.619332 L -75.801919,37.619395 L -75.802662,37.620427 L -75.80318,37.621159 L -75.803347,37.621373999999996 L -75.803428,37.621457 L -75.803522,37.62153 L -75.80363,37.621595 L -75.80372899999999,37.62164 L -75.803893,37.621683 L -75.804026,37.621708 L -75.805373,37.621912 L -75.805632,37.621936999999996 L -75.805892,37.621947999999996 L -75.806269,37.621944 L -75.806604,37.621929 L -75.80680000000001,37.621941 L -75.806961,37.621967 L -75.80711,37.622005 L -75.807226,37.622048 L -75.807334,37.622104 L -75.80743,37.622171 L -75.807555,37.622284 L -75.807599,37.622336 L -75.808039,37.621255999999995 L -75.808499,37.620684 L -75.808902,37.620385999999996 L -75.81011099999999,37.619859999999996 L -75.81088799999999,37.619104 L -75.81106,37.618646 L -75.81106,37.618097 L -75.81099499999999,37.617903999999996 L -75.811666,37.617702 L -75.81228399999999,37.619462 L -75.812341,37.619634999999995 L -75.812651,37.620556 L -75.812693,37.620667 L -75.81278499999999,37.620906 L -75.812816,37.620971 L -75.812908,37.621142 L -75.813025,37.621316 L -75.813107,37.621418999999996 L -75.813217,37.621547 L -75.813371,37.621702 L -75.814154,37.62244 L -75.814706,37.622945 L -75.814961,37.623177999999996 L -75.815652,37.623821 L -75.81687099999999,37.624941 L -75.817494,37.625524999999996 L -75.818562,37.626521 L -75.818896,37.62684 L -75.821292,37.625808 L -75.821775,37.625602 L -75.822221,37.625411 L -75.82340099999999,37.624886 L -75.82365899999999,37.624749 L -75.82382,37.62464 L -75.82423299999999,37.624852 L -75.824468,37.625147999999996 L -75.82503299999999,37.625233 L -75.82606899999999,37.62571 L -75.82637799999999,37.626143 L -75.827479,37.626571 L -75.827663,37.626763 L -75.82772899999999,37.626762 L -75.828153,37.626953 L -75.828779,37.626931 L -75.829585,37.626953 L -75.829708,37.626979999999996 L -75.829701,37.62679 L -75.829482,37.625918 L -75.82929,37.625598 L -75.82897,37.625198 L -75.828395,37.624418999999996 L -75.828208,37.623917 L -75.828294,37.622262 L -75.827659,37.621232 L -75.82744699999999,37.621023 L -75.82767199999999,37.620855 L -75.828116,37.620532 L -75.828805,37.620045 L -75.82967,37.619451999999995 L -75.830355,37.618975999999996 L -75.830591,37.618809999999996 L -75.830963,37.618522999999996 L -75.831327,37.61822 L -75.831503,37.618092 L -75.831622,37.618024 L -75.83174799999999,37.617968 L -75.831998,37.617894 L -75.832538,37.617768999999996 L -75.832747,37.617717999999996 L -75.832769,37.617712 L -75.832888,37.617667999999995 L -75.83301999999999,37.617601 L -75.83309799999999,37.617548 L -75.833185,37.617472 L -75.833236,37.617414 L -75.833546,37.617509 L -75.83372899999999,37.617571999999996 L -75.834621,37.617923 L -75.83480999999999,37.617993 L -75.835225,37.618161 L -75.836243,37.618542 L -75.838009,37.61922 L -75.838756,37.619526 L -75.83895799999999,37.619605 L -75.840429,37.620185 L -75.842683,37.621083999999996 L -75.843249,37.621325 L -75.843696,37.621528 L -75.844728,37.622026 L -75.848294,37.623681999999995 L -75.84996799999999,37.62446 L -75.85049099999999,37.624711 L -75.850946,37.624929 L -75.851112,37.625007 L -75.851316,37.625102 L -75.851699,37.625273 L -75.851843,37.625332 L -75.85194899999999,37.625375 L -75.851934,37.625820999999995 L -75.852127,37.625789999999995 L -75.852485,37.625805 L -75.852716,37.625931 L -75.852874,37.626053 L -75.853011,37.626265 L -75.853113,37.626277 L -75.85337299999999,37.626205999999996 L -75.853278,37.625789999999995 L -75.853263,37.625482999999996 L -75.853298,37.625397 L -75.853263,37.62511 L -75.853369,37.624767999999996 L -75.85351,37.624575 L -75.853589,37.624362999999995 L -75.853734,37.624265 L -75.853836,37.624249 L -75.85389099999999,37.624127 L -75.854072,37.623854 L -75.856132,37.622642 L -75.856852,37.622963 L -75.85741999999999,37.622962 L -75.857829,37.624677 L -75.858193,37.624538 L -75.860495,37.623639 L -75.862434,37.62278 L -75.863726,37.622194 L -75.864837,37.621494 L -75.866553,37.620422 L -75.86837,37.619105 L -75.869642,37.618234 L -75.870167,37.617939 L -75.870632,37.617888 L -75.87158099999999,37.617853 L -75.872834,37.617754 L -75.874066,37.617520999999996 L -75.87465499999999,37.617289 L -75.876024,37.616803999999995 L -75.87705799999999,37.616398 L -75.877397,37.616265999999996 L -75.878892,37.615449999999996 L -75.879881,37.614777 L -75.88099199999999,37.61401 L -75.882708,37.612653 L -75.883657,37.611923 L -75.885717,37.613718 L -75.888927,37.616597999999996 L -75.89026299999999,37.6178 L -75.891217,37.618659 L -75.891735,37.619439 L -75.89336899999999,37.620913 L -75.89536799999999,37.622977999999996 L -75.896998,37.625130999999996 L -75.898236,37.62677 L -75.899205,37.628302 L -75.900104,37.629377 L -75.900679,37.630064 L -75.901811,37.630362999999996 L -75.902768,37.630576999999995 L -75.903083,37.630648 L -75.90473899999999,37.631153 L -75.907404,37.631814 L -75.910675,37.632455 L -75.913462,37.633022 L -75.916854,37.633635999999996 L -75.918813,37.634192999999996 L -75.92166,37.634809 L -75.923901,37.635579 L -75.927455,37.636416 L -75.930948,37.637060999999996 L -75.93773399999999,37.637978 L -75.941591,37.638332 L -75.94419599999999,37.638718 L -75.948981,37.639347 L -75.954211,37.640076 L -75.95946099999999,37.640587 L -75.964288,37.640788 L -75.96798299999999,37.640682999999996 L -75.972627,37.640661 L -75.973173,37.640735 L -75.980846,37.641172999999995 L -75.987792,37.641635 L -75.99427399999999,37.641459999999995 L -75.999659,37.641365 L -76.00005,37.641405999999996 L -76.007622,37.642548999999995 L -76.014628,37.643744999999996 L -76.015892,37.643948 L -76.029765,37.644501999999996 L -76.050005,37.64487 L -76.14714099999999,37.644867999999995 L -76.168125,37.644819 L -76.171731,37.657603 L -76.175687,37.671625999999996 z\" /></g></svg>"
      ],
      "text/plain": [
       "<shapely.geometry.polygon.Polygon at 0x7fc61cef7e50>"
      ]
     },
     "metadata": {},
     "output_type": "display_data"
    },
    {
     "data": {
      "image/svg+xml": [
       "<svg xmlns=\"http://www.w3.org/2000/svg\" xmlns:xlink=\"http://www.w3.org/1999/xlink\" width=\"100.0\" height=\"100.0\" viewBox=\"-76.1927874 37.5844906 0.46171080000000586 0.10696579999999045\" preserveAspectRatio=\"xMinYMin meet\"><g transform=\"matrix(1,0,0,-1,0,75.275947)\"><path fill-rule=\"evenodd\" fill=\"#66cc99\" stroke=\"#555555\" stroke-width=\"0.009234216000000118\" opacity=\"0.6\" d=\"M -76.175687,37.671625999999996 L -76.09546399999999,37.672126 L -76.092657,37.672295 L -75.999659,37.673035 L -75.950098,37.673429999999996 L -75.890022,37.674302 L -75.884556,37.674347999999995 L -75.869523,37.674355999999996 L -75.869518,37.674324999999996 L -75.865506,37.673998999999995 L -75.860721,37.67361 L -75.857815,37.67342 L -75.85758299999999,37.673404999999995 L -75.857107,37.673474999999996 L -75.856783,37.673539 L -75.846368,37.672878 L -75.84428199999999,37.672942 L -75.8433,37.673003 L -75.842912,37.67303 L -75.842449,37.673064 L -75.84195199999999,37.673119 L -75.841618,37.67315 L -75.840891,37.672928999999996 L -75.839829,37.672691 L -75.839041,37.672511 L -75.838203,37.672208999999995 L -75.838036,37.672143999999996 L -75.836961,37.671729 L -75.836204,37.671411 L -75.836074,37.671348 L -75.835621,37.671127 L -75.83546799999999,37.671053 L -75.83460000000001,37.670566 L -75.833815,37.670023 L -75.833049,37.669495999999995 L -75.832962,37.669441 L -75.832444,37.669114 L -75.830972,37.668383 L -75.829629,37.66787 L -75.828115,37.667307 L -75.827074,37.667021 L -75.825316,37.666537999999996 L -75.823739,37.666201 L -75.82102499999999,37.665565 L -75.820476,37.665437 L -75.820342,37.665405 L -75.819839,37.665337 L -75.818108,37.665106 L -75.817573,37.665019 L -75.815994,37.664764 L -75.815752,37.664725 L -75.814827,37.66462 L -75.814742,37.664609999999996 L -75.814639,37.664598999999995 L -75.814093,37.664549 L -75.81341599999999,37.664296 L -75.81258,37.663841 L -75.811864,37.663499 L -75.810975,37.663247 L -75.810256,37.663228 L -75.81016799999999,37.663221 L -75.809457,37.663168 L -75.809339,37.663159 L -75.80869799999999,37.663115999999995 L -75.808059,37.663226 L -75.80680000000001,37.663768999999995 L -75.806646,37.663851 L -75.803466,37.665561 L -75.802916,37.665914 L -75.801935,37.666644999999995 L -75.801756,37.666779999999996 L -75.80055399999999,37.667773 L -75.799926,37.669125 L -75.799613,37.669512999999995 L -75.799486,37.669672 L -75.799117,37.670234 L -75.79856699999999,37.670635 L -75.797365,37.672281999999996 L -75.797155,37.672571999999995 L -75.796544,37.673094 L -75.795346,37.673483999999995 L -75.7953,37.673542 L -75.79405799999999,37.673840999999996 L -75.793206,37.673974 L -75.792577,37.674181 L -75.79185,37.673904 L -75.791313,37.67391 L -75.79081099999999,37.673932 L -75.789688,37.673817 L -75.78836299999999,37.673817 L -75.78675,37.674 L -75.785973,37.673839 L -75.784503,37.673792999999996 L -75.78343699999999,37.67361 L -75.781998,37.673038 L -75.77995299999999,37.672076 L -75.778658,37.671113999999996 L -75.777823,37.670885 L -75.77698699999999,37.670930999999996 L -75.776296,37.671228 L -75.775835,37.67132 L -75.775029,37.671319 L -75.773704,37.670792 L -75.773186,37.670311 L -75.773157,37.669945 L -75.773273,37.669739 L -75.774079,37.669143999999996 L -75.774396,37.668732 L -75.774425,37.66832 L -75.77431,37.667977 L -75.77408,37.667725 L -75.773692,37.667468 L -75.773279,37.667221999999995 L -75.771373,37.666106 L -75.769001,37.665067 L -75.768064,37.664528 L -75.766081,37.663074 L -75.76644,37.662712 L -75.767489,37.661792 L -75.768306,37.661094999999996 L -75.768367,37.661043 L -75.769245,37.660267999999995 L -75.76935399999999,37.660188999999995 L -75.769421,37.660153 L -75.769511,37.660126999999996 L -75.769588,37.660119 L -75.769697,37.660129999999995 L -75.769813,37.660165 L -75.770515,37.660426 L -75.771581,37.660798 L -75.772181,37.661012 L -75.773414,37.66144 L -75.774649,37.661871999999995 L -75.775038,37.662003 L -75.77570399999999,37.662234999999995 L -75.776031,37.662355 L -75.777176,37.662754 L -75.777517,37.662877 L -75.77788699999999,37.663002 L -75.77838299999999,37.66318 L -75.778869,37.663346 L -75.77919299999999,37.663471 L -75.779322,37.663546 L -75.779696,37.663218 L -75.78029099999999,37.662676 L -75.781104,37.661937 L -75.781812,37.661283 L -75.78226,37.660883 L -75.78356699999999,37.659687 L -75.78391599999999,37.659369 L -75.784139,37.659174 L -75.784429,37.658909 L -75.784813,37.658539999999995 L -75.785181,37.658162 L -75.785401,37.657908 L -75.785488,37.657798 L -75.78491199999999,37.657723 L -75.784855,37.657081999999996 L -75.78451,37.655732 L -75.78390499999999,37.654862 L -75.783186,37.654289 L -75.782581,37.653991 L -75.781458,37.653785 L -75.78088199999999,37.653739 L -75.77889499999999,37.653943999999996 L -75.77860799999999,37.653876 L -75.778176,37.653464 L -75.77811799999999,37.653234999999995 L -75.778234,37.6528 L -75.778263,37.651815 L -75.777832,37.650876 L -75.77766799999999,37.649938 L -75.777401,37.648404 L -75.77731399999999,37.648312 L -75.777315,37.64758 L -75.77748799999999,37.647236 L -75.778093,37.646573 L -75.778122,37.645748 L -75.777518,37.644466 L -75.77651,37.643848 L -75.77616499999999,37.643481 L -75.77610399999999,37.643322999999995 L -75.776738,37.642044999999996 L -75.77707199999999,37.641301999999996 L -75.777112,37.640896999999995 L -75.777148,37.640612 L -75.777616,37.640402 L -75.778202,37.640412 L -75.778662,37.640425 L -75.77935699999999,37.640166 L -75.779487,37.640263 L -75.779787,37.640482 L -75.780193,37.640792 L -75.780418,37.640975999999995 L -75.78072499999999,37.641247 L -75.781261,37.641751 L -75.783552,37.643924999999996 L -75.784122,37.644461 L -75.784357,37.644664999999996 L -75.78462499999999,37.64487 L -75.78473699999999,37.644949 L -75.786124,37.645831 L -75.787155,37.646477 L -75.78863,37.647406 L -75.78918399999999,37.647804 L -75.789735,37.648221 L -75.78992199999999,37.648347 L -75.790021,37.648413999999995 L -75.79027099999999,37.648562999999996 L -75.790502,37.648683999999996 L -75.790826,37.648835 L -75.791114,37.648953 L -75.791562,37.649116 L -75.791822,37.649206 L -75.792097,37.649315 L -75.792416,37.649464 L -75.792519,37.649519999999995 L -75.79267,37.649602 L -75.792994,37.6498 L -75.79390599999999,37.650376 L -75.794242,37.65002 L -75.794428,37.649817 L -75.794871,37.649333999999996 L -75.795557,37.648539 L -75.795887,37.648147 L -75.796194,37.647816999999996 L -75.796371,37.647635 L -75.796605,37.647418 L -75.797101,37.646972999999996 L -75.79742999999999,37.646685999999995 L -75.797859,37.646300000000004 L -75.79905699999999,37.645237 L -75.79950000000001,37.644836999999995 L -75.800741,37.643736 L -75.800921,37.643561999999996 L -75.801048,37.643422 L -75.801132,37.643302 L -75.80119599999999,37.643175 L -75.801242,37.643043 L -75.801262,37.642962 L -75.801327,37.642576 L -75.80149,37.641374 L -75.80162899999999,37.640356 L -75.801689,37.640046999999996 L -75.802007,37.638695 L -75.80206299999999,37.638475 L -75.80232699999999,37.63753 L -75.802559,37.636724 L -75.802588,37.636655999999995 L -75.802638,37.636576999999996 L -75.802703,37.636503999999995 L -75.802724,37.636489 L -75.802779,37.636449999999996 L -75.80268099999999,37.636371 L -75.802601,37.636326 L -75.802425,37.636275999999995 L -75.80237799999999,37.636261999999995 L -75.802149,37.636212 L -75.801526,37.636109999999995 L -75.800977,37.636032 L -75.800332,37.63596 L -75.799964,37.635926 L -75.79950199999999,37.635897 L -75.798957,37.635878999999996 L -75.79875299999999,37.635883 L -75.798549,37.635901 L -75.798389,37.635925 L -75.797985,37.636006 L -75.797778,37.63606 L -75.79732,37.636207 L -75.797212,37.636235 L -75.797056,37.636257 L -75.796936,37.636261999999995 L -75.79686099999999,37.636263 L -75.79674899999999,37.636252999999996 L -75.796352,37.636179999999996 L -75.79619199999999,37.63614 L -75.795953,37.636058 L -75.795535,37.635939 L -75.795249,37.63587 L -75.795062,37.63584 L -75.794957,37.635836999999995 L -75.794827,37.635847 L -75.79458699999999,37.635895 L -75.794431,37.635937999999996 L -75.79316399999999,37.636367 L -75.79290499999999,37.636449 L -75.79263999999999,37.636517 L -75.792433,37.636553 L -75.79204899999999,37.636603 L -75.791204,37.636680999999996 L -75.790117,37.636806 L -75.789808,37.636835999999995 L -75.789599,37.636846999999996 L -75.789379,37.636843999999996 L -75.78916,37.636827 L -75.789014,37.636801999999996 L -75.788905,37.636773 L -75.788647,37.636686 L -75.788397,37.636586 L -75.787216,37.63615 L -75.78714,37.636131 L -75.787016,37.636111 L -75.78687699999999,37.636105 L -75.786609,37.636122 L -75.786344,37.636154 L -75.78504,37.636379 L -75.78368499999999,37.636589 L -75.783525,37.636618 L -75.783305,37.636669 L -75.783,37.636759 L -75.782669,37.636876 L -75.781639,37.637214 L -75.779682,37.637842 L -75.77918799999999,37.638007 L -75.77893499999999,37.638113 L -75.778769,37.638200999999995 L -75.77860199999999,37.638307999999995 L -75.778435,37.638425 L -75.77830999999999,37.638525 L -75.77803999999999,37.638766 L -75.77779,37.639013 L -75.77763999999999,37.638923999999996 L -75.777489,37.638847 L -75.777309,37.63877 L -75.77705999999999,37.638681999999996 L -75.776313,37.638472 L -75.776138,37.638418 L -75.775961,37.638351 L -75.775758,37.638256999999996 L -75.775572,37.638149999999996 L -75.77543,37.638055 L -75.775316,37.637971 L -75.775157,37.637828 L -75.77503999999999,37.637707999999996 L -75.774935,37.637581 L -75.77481,37.637397 L -75.77441999999999,37.636714999999995 L -75.774307,37.636537 L -75.774185,37.636373999999996 L -75.773892,37.636044999999996 L -75.770867,37.632777 L -75.76941699999999,37.631158 L -75.769075,37.630775 L -75.768641,37.630281 L -75.768441,37.630061999999995 L -75.76706899999999,37.628526 L -75.76667599999999,37.628081 L -75.76647799999999,37.627829 L -75.76635499999999,37.627649 L -75.76623599999999,37.627454 L -75.766204,37.627393999999995 L -75.766117,37.627213 L -75.766,37.626937 L -75.765598,37.625824 L -75.76545999999999,37.625395999999995 L -75.764776,37.625364999999995 L -75.764585,37.625371 L -75.764251,37.625397 L -75.76218999999999,37.625575999999995 L -75.761286,37.625647 L -75.76048399999999,37.625703 L -75.76030999999999,37.625715 L -75.760164,37.625721999999996 L -75.758839,37.625772 L -75.758617,37.625772 L -75.758445,37.625771 L -75.75920599999999,37.624629 L -75.759526,37.624123 L -75.759738,37.623745 L -75.760085,37.623200000000004 L -75.761298,37.621365 L -75.76135699999999,37.621277 L -75.761123,37.621261 L -75.760684,37.62123 L -75.760565,37.621221 L -75.758393,37.621063 L -75.75757999999999,37.621002 L -75.757598,37.620452 L -75.757751,37.618719999999996 L -75.757725,37.618713 L -75.757654,37.618694 L -75.755071,37.618004 L -75.754848,37.617948 L -75.754598,37.617892999999995 L -75.754468,37.617881 L -75.75447,37.617861999999995 L -75.754464,37.6178 L -75.754417,37.617627 L -75.75410099999999,37.615843999999996 L -75.753885,37.614692 L -75.753852,37.614571 L -75.753813,37.614477 L -75.75375,37.614363999999995 L -75.75367,37.614258 L -75.753596,37.614179 L -75.75294,37.613614 L -75.752625,37.61333 L -75.75151,37.612328 L -75.749184,37.61004 L -75.749111,37.60995 L -75.749055,37.609854 L -75.749033,37.609769 L -75.74902999999999,37.609665 L -75.74904699999999,37.609579 L -75.74908099999999,37.609496 L -75.749335,37.609097 L -75.74951,37.608807 L -75.750106,37.607822 L -75.750444,37.607284 L -75.750473,37.607247 L -75.750534,37.607147999999995 L -75.75057799999999,37.607043999999995 L -75.750604,37.606936999999995 L -75.75059,37.606882999999996 L -75.75056599999999,37.606843 L -75.750514,37.606792 L -75.750444,37.606757 L -75.75037499999999,37.606736999999995 L -75.750153,37.606687 L -75.749928,37.606652 L -75.74974499999999,37.606634 L -75.749003,37.606525 L -75.74825799999999,37.606431 L -75.748178,37.606425 L -75.748177,37.606389 L -75.748189,37.606362 L -75.74825799999999,37.606300000000005 L -75.74843,37.606176999999995 L -75.748466,37.606134999999995 L -75.748555,37.605987999999996 L -75.748635,37.605813 L -75.748674,37.605682 L -75.748708,37.605613 L -75.748915,37.605284999999995 L -75.749038,37.605115999999995 L -75.749089,37.605073 L -75.749138,37.605047 L -75.750298,37.603209 L -75.75132099999999,37.601591 L -75.75134899999999,37.601701 L -75.751459,37.601865 L -75.751521,37.601942 L -75.751666,37.602058 L -75.751728,37.602084999999995 L -75.751846,37.602184 L -75.751915,37.602267 L -75.75197,37.602421 L -75.75195599999999,37.602596999999996 L -75.751977,37.602706 L -75.75201799999999,37.602767 L -75.752094,37.602821999999996 L -75.752225,37.602866 L -75.752612,37.602903999999995 L -75.75287399999999,37.602877 L -75.752978,37.602821999999996 L -75.753137,37.602657 L -75.75323999999999,37.602575 L -75.753517,37.602509 L -75.753759,37.602328 L -75.753835,37.602301 L -75.753993,37.602191 L -75.754132,37.602136 L -75.754221,37.602131 L -75.754415,37.602142 L -75.754725,37.602289999999996 L -75.755243,37.602494 L -75.755816,37.602790999999996 L -75.755899,37.602796 L -75.756058,37.602868 L -75.756265,37.602993999999995 L -75.756286,37.603044 L -75.756368,37.603131 L -75.75655499999999,37.603406 L -75.75689299999999,37.603775 L -75.75723099999999,37.60406 L -75.75765899999999,37.604495 L -75.75817599999999,37.60494 L -75.758404,37.60516 L -75.758866,37.605824999999996 L -75.75900399999999,37.605934999999995 L -75.75936999999999,37.606023 L -75.759819,37.606159999999996 L -75.760075,37.606215 L -75.760448,37.606254 L -75.76089,37.606276 L -75.76158,37.606189 L -75.761781,37.606183 L -75.762354,37.606204999999996 L -75.762665,37.606193999999995 L -75.76305099999999,37.606096 L -75.76353499999999,37.605903999999995 L -75.764226,37.605712 L -75.764398,37.605629 L -75.764806,37.605354999999996 L -75.764986,37.605256 L -75.765102,37.605221 L -75.765288,37.605506 L -75.76530000000001,37.605563 L -75.765298,37.605633999999995 L -75.76527899999999,37.605703 L -75.765242,37.605768 L -75.76518999999999,37.605826 L -75.765152,37.605855999999996 L -75.764613,37.606228 L -75.76426,37.606482 L -75.763787,37.606806 L -75.76340499999999,37.607082999999996 L -75.763375,37.607124999999996 L -75.763361,37.607171 L -75.763365,37.607219 L -75.763609,37.607774 L -75.763672,37.607960999999996 L -75.763716,37.608151 L -75.763789,37.608686999999996 L -75.76379899999999,37.608906 L -75.763791,37.609125999999996 L -75.76377699999999,37.609257 L -75.763747,37.609356999999996 L -75.763711,37.609434 L -75.763638,37.609542 L -75.763578,37.609609 L -75.763458,37.609727 L -75.763363,37.609843999999995 L -75.763284,37.609967 L -75.763222,37.610096999999996 L -75.76318599999999,37.610199 L -75.763167,37.610338 L -75.763166,37.610478 L -75.763183,37.610617999999995 L -75.76321899999999,37.610755 L -75.76324799999999,37.610836 L -75.76366399999999,37.612342999999996 L -75.763858,37.613020999999996 L -75.764183,37.614236999999996 L -75.764427,37.615105 L -75.76449099999999,37.615293 L -75.764538,37.615399 L -75.76455899999999,37.615446 L -75.76467,37.615612999999996 L -75.764769,37.615736 L -75.764787,37.615758 L -75.76481299999999,37.615719 L -75.765326,37.614941 L -75.76547,37.614723999999995 L -75.765689,37.614779999999996 L -75.76581399999999,37.614768 L -75.765986,37.614754 L -75.76611,37.614742 L -75.766885,37.614599 L -75.767237,37.617348 L -75.767252,37.617492999999996 L -75.767257,37.617537 L -75.767259,37.617553 L -75.767286,37.618528 L -75.76730599999999,37.619279999999996 L -75.767276,37.61942 L -75.767281,37.619471 L -75.767305,37.619704999999996 L -75.76731099999999,37.619772999999995 L -75.76732299999999,37.6199 L -75.767327,37.619951 L -75.767325,37.619966 L -75.76732899999999,37.620017 L -75.767698,37.620034 L -75.76799799999999,37.620048 L -75.768069,37.62005 L -75.768131,37.620051 L -75.768362,37.620056 L -75.76870000000001,37.620053 L -75.769594,37.620021 L -75.76996,37.620008 L -75.77017099999999,37.62 L -75.770515,37.619988 L -75.770843,37.619988 L -75.770929,37.619991 L -75.770971,37.619993 L -75.771202,37.620000999999995 L -75.77173499999999,37.620042999999995 L -75.772224,37.620089 L -75.772311,37.620096 L -75.772582,37.620115999999996 L -75.77292,37.620121999999995 L -75.775639,37.620061 L -75.77608699999999,37.620058 L -75.776532,37.620067999999996 L -75.777686,37.620127 L -75.77806799999999,37.620163 L -75.77845599999999,37.620218 L -75.780065,37.620466 L -75.780309,37.620517 L -75.780529,37.620573 L -75.782052,37.621016999999995 L -75.782724,37.621218 L -75.785031,37.621879 L -75.785224,37.621919 L -75.78536799999999,37.621939 L -75.78549,37.621949 L -75.785634,37.621947 L -75.785776,37.621932 L -75.78600399999999,37.621888999999996 L -75.791252,37.620774999999995 L -75.792276,37.620565 L -75.792659,37.620483 L -75.793238,37.620377 L -75.793369,37.620356 L -75.79432299999999,37.620219 L -75.795318,37.620081 L -75.795645,37.620039999999996 L -75.799173,37.619568 L -75.800572,37.61938 L -75.801399,37.619264 L -75.801542,37.619254999999995 L -75.801683,37.619257 L -75.801751,37.619274 L -75.801797,37.619293 L -75.801862,37.619332 L -75.801919,37.619395 L -75.802662,37.620427 L -75.80318,37.621159 L -75.803347,37.621373999999996 L -75.803428,37.621457 L -75.803522,37.62153 L -75.80363,37.621595 L -75.80372899999999,37.62164 L -75.803893,37.621683 L -75.804026,37.621708 L -75.805373,37.621912 L -75.805632,37.621936999999996 L -75.805892,37.621947999999996 L -75.806269,37.621944 L -75.806604,37.621929 L -75.80680000000001,37.621941 L -75.806961,37.621967 L -75.80711,37.622005 L -75.807226,37.622048 L -75.807334,37.622104 L -75.80743,37.622171 L -75.807555,37.622284 L -75.807599,37.622336 L -75.808039,37.621255999999995 L -75.808499,37.620684 L -75.808902,37.620385999999996 L -75.81011099999999,37.619859999999996 L -75.81088799999999,37.619104 L -75.81106,37.618646 L -75.81106,37.618097 L -75.81099499999999,37.617903999999996 L -75.811666,37.617702 L -75.81228399999999,37.619462 L -75.812341,37.619634999999995 L -75.812651,37.620556 L -75.812693,37.620667 L -75.81278499999999,37.620906 L -75.812816,37.620971 L -75.812908,37.621142 L -75.813025,37.621316 L -75.813107,37.621418999999996 L -75.813217,37.621547 L -75.813371,37.621702 L -75.814154,37.62244 L -75.814706,37.622945 L -75.814961,37.623177999999996 L -75.815652,37.623821 L -75.81687099999999,37.624941 L -75.817494,37.625524999999996 L -75.818562,37.626521 L -75.818896,37.62684 L -75.821292,37.625808 L -75.821775,37.625602 L -75.822221,37.625411 L -75.82340099999999,37.624886 L -75.82365899999999,37.624749 L -75.82382,37.62464 L -75.82423299999999,37.624852 L -75.824468,37.625147999999996 L -75.82503299999999,37.625233 L -75.82606899999999,37.62571 L -75.82637799999999,37.626143 L -75.827479,37.626571 L -75.827663,37.626763 L -75.82772899999999,37.626762 L -75.828153,37.626953 L -75.828779,37.626931 L -75.829585,37.626953 L -75.829708,37.626979999999996 L -75.829701,37.62679 L -75.829482,37.625918 L -75.82929,37.625598 L -75.82897,37.625198 L -75.828395,37.624418999999996 L -75.828208,37.623917 L -75.828294,37.622262 L -75.827659,37.621232 L -75.82744699999999,37.621023 L -75.82767199999999,37.620855 L -75.828116,37.620532 L -75.828805,37.620045 L -75.82967,37.619451999999995 L -75.830355,37.618975999999996 L -75.830591,37.618809999999996 L -75.830963,37.618522999999996 L -75.831327,37.61822 L -75.831503,37.618092 L -75.831622,37.618024 L -75.83174799999999,37.617968 L -75.831998,37.617894 L -75.832538,37.617768999999996 L -75.832747,37.617717999999996 L -75.832769,37.617712 L -75.832888,37.617667999999995 L -75.83301999999999,37.617601 L -75.83309799999999,37.617548 L -75.833185,37.617472 L -75.833236,37.617414 L -75.833546,37.617509 L -75.83372899999999,37.617571999999996 L -75.834621,37.617923 L -75.83480999999999,37.617993 L -75.835225,37.618161 L -75.836243,37.618542 L -75.838009,37.61922 L -75.838756,37.619526 L -75.83895799999999,37.619605 L -75.840429,37.620185 L -75.842683,37.621083999999996 L -75.843249,37.621325 L -75.843696,37.621528 L -75.844728,37.622026 L -75.845512,37.622392 L -75.84629699999999,37.622744999999995 L -75.847026,37.623092 L -75.84994499999999,37.624449 L -75.85049099999999,37.624711 L -75.850946,37.624929 L -75.851112,37.625007 L -75.851316,37.625102 L -75.851699,37.625273 L -75.851843,37.625332 L -75.85194899999999,37.625375 L -75.851923,37.626144 L -75.852707,37.62631 L -75.85311,37.626127 L -75.85309699999999,37.625951 L -75.853039,37.625130999999996 L -75.853284,37.624154 L -75.85374399999999,37.623559 L -75.856132,37.622642 L -75.856852,37.622963 L -75.85741999999999,37.622962 L -75.857829,37.624677 L -75.858193,37.624538 L -75.860495,37.623639 L -75.862434,37.62278 L -75.863726,37.622194 L -75.864837,37.621494 L -75.866553,37.620422 L -75.86837,37.619105 L -75.869642,37.618234 L -75.870167,37.617939 L -75.870632,37.617888 L -75.87158099999999,37.617853 L -75.872834,37.617754 L -75.874066,37.617520999999996 L -75.87465499999999,37.617289 L -75.876024,37.616803999999995 L -75.87705799999999,37.616398 L -75.877397,37.616265999999996 L -75.878892,37.615449999999996 L -75.879881,37.614777 L -75.88099199999999,37.61401 L -75.882708,37.612653 L -75.883657,37.611923 L -75.885717,37.613718 L -75.888927,37.616597999999996 L -75.89026299999999,37.6178 L -75.891217,37.618659 L -75.891735,37.619439 L -75.89336899999999,37.620913 L -75.89536799999999,37.622977999999996 L -75.896998,37.625130999999996 L -75.898236,37.62677 L -75.899205,37.628302 L -75.900104,37.629377 L -75.900679,37.630064 L -75.901811,37.630362999999996 L -75.902768,37.630576999999995 L -75.903083,37.630648 L -75.90473899999999,37.631153 L -75.907404,37.631814 L -75.910675,37.632455 L -75.913462,37.633022 L -75.916854,37.633635999999996 L -75.918813,37.634192999999996 L -75.92166,37.634809 L -75.923901,37.635579 L -75.927455,37.636416 L -75.930948,37.637060999999996 L -75.93773399999999,37.637978 L -75.941591,37.638332 L -75.94419599999999,37.638718 L -75.948981,37.639347 L -75.954211,37.640076 L -75.95946099999999,37.640587 L -75.964288,37.640788 L -75.96798299999999,37.640682999999996 L -75.972627,37.640661 L -75.973173,37.640735 L -75.980846,37.641172999999995 L -75.987792,37.641635 L -75.99427399999999,37.641459999999995 L -75.999659,37.641365 L -76.00005,37.641405999999996 L -76.007622,37.642548999999995 L -76.014628,37.643744999999996 L -76.015892,37.643948 L -76.029765,37.644501999999996 L -76.050005,37.64487 L -76.14714099999999,37.644867999999995 L -76.168125,37.644819 L -76.171731,37.657603 L -76.175687,37.671625999999996 z\" /></g></svg>"
      ],
      "text/plain": [
       "<shapely.geometry.polygon.Polygon at 0x7fc61b01eaf0>"
      ]
     },
     "metadata": {},
     "output_type": "display_data"
    },
    {
     "data": {
      "image/svg+xml": [
       "<svg xmlns=\"http://www.w3.org/2000/svg\" xmlns:xlink=\"http://www.w3.org/1999/xlink\" width=\"100.0\" height=\"100.0\" viewBox=\"-77.89011955999999 38.75418344 0.24398711999998568 0.23587312000000082\" preserveAspectRatio=\"xMinYMin meet\"><g transform=\"matrix(1,0,0,-1,0,77.74423999999999)\"><path fill-rule=\"evenodd\" fill=\"#66cc99\" stroke=\"#555555\" stroke-width=\"0.004879742399999713\" opacity=\"0.6\" d=\"M -77.881057,38.875122 L -77.881055,38.875268999999996 L -77.880015,38.877649 L -77.878501,38.880722999999996 L -77.87834699999999,38.881032999999995 L -77.87723799999999,38.882912 L -77.87641099999999,38.883842 L -77.875861,38.884459 L -77.87491,38.885529 L -77.87466599999999,38.885788999999995 L -77.873487,38.887226 L -77.872894,38.887969 L -77.870265,38.892254 L -77.870134,38.892562 L -77.86948,38.894149999999996 L -77.868107,38.896488 L -77.867494,38.897861999999996 L -77.867206,38.899093 L -77.86679699999999,38.900171 L -77.866626,38.901655999999996 L -77.866215,38.902508 L -77.8656,38.903562 L -77.864582,38.904748 L -77.864432,38.90503 L -77.864233,38.905409 L -77.86388199999999,38.905984 L -77.863474,38.907266 L -77.863534,38.907768999999995 L -77.863743,38.908252 L -77.864335,38.909012 L -77.864944,38.909766999999995 L -77.866878,38.911408 L -77.867122,38.911755 L -77.867286,38.912002 L -77.86749499999999,38.912853999999996 L -77.867526,38.913002 L -77.86747199999999,38.914356 L -77.86800199999999,38.915154 L -77.86810799999999,38.915223999999995 L -77.868516,38.91544 L -77.86872699999999,38.915562 L -77.86944799999999,38.915690999999995 L -77.870927,38.915994 L -77.871894,38.91663 L -77.87207599999999,38.916751999999995 L -77.87257,38.917480999999995 L -77.872866,38.918729 L -77.872954,38.920156 L -77.87296099999999,38.920255999999995 L -77.872991,38.920665 L -77.87431,38.923764999999996 L -77.875104,38.924634 L -77.87785099999999,38.926347 L -77.879466,38.926893 L -77.87984,38.92689 L -77.87993399999999,38.926888999999996 L -77.879305,38.928114 L -77.879026,38.92848 L -77.87781799999999,38.929252999999996 L -77.877637,38.929269 L -77.877513,38.929224 L -77.877467,38.929127 L -77.877488,38.928951 L -77.877899,38.927872 L -77.877877,38.927627 L -77.877726,38.927409 L -77.87651199999999,38.926131999999996 L -77.875176,38.925329999999995 L -77.874358,38.924943999999996 L -77.87396,38.924884 L -77.873452,38.925153 L -77.87278599999999,38.925404 L -77.872616,38.925525 L -77.87256699999999,38.925622 L -77.872552,38.92615 L -77.873277,38.927980999999996 L -77.873496,38.928329999999995 L -77.873573,38.928608 L -77.87348899999999,38.929027999999995 L -77.87355699999999,38.929195 L -77.87400199999999,38.929762 L -77.874719,38.93022 L -77.875191,38.930521999999996 L -77.875363,38.93081 L -77.875331,38.930982 L -77.874714,38.931329 L -77.874476,38.931464 L -77.874214,38.931658 L -77.873965,38.931726 L -77.873746,38.931685 L -77.87312899999999,38.931381 L -77.87201999999999,38.931135999999995 L -77.871641,38.930937 L -77.871134,38.930783999999996 L -77.870812,38.930749 L -77.87054599999999,38.930772999999995 L -77.870254,38.93087 L -77.870044,38.931003 L -77.86955499999999,38.931415 L -77.869299,38.931785999999995 L -77.869205,38.932235999999996 L -77.869197,38.932838 L -77.869244,38.933225 L -77.86939199999999,38.933738 L -77.869942,38.935012 L -77.870285,38.935472 L -77.87059599999999,38.935537 L -77.870739,38.935625 L -77.871005,38.935955 L -77.871076,38.936122 L -77.871102,38.93664 L -77.871107,38.936659999999996 L -77.87123799999999,38.93719 L -77.871222,38.937365 L -77.870926,38.937581 L -77.87064099999999,38.937694 L -77.870464,38.937701 L -77.869755,38.937391999999996 L -77.86953199999999,38.937355 L -77.86939799999999,38.937377999999995 L -77.868898,38.937661 L -77.86840099999999,38.937942 L -77.867961,38.938029 L -77.867672,38.938137 L -77.867221,38.938784999999996 L -77.867092,38.938885 L -77.866783,38.938942999999995 L -77.866436,38.938853 L -77.866252,38.938853 L -77.865658,38.939028 L -77.86388199999999,38.940037 L -77.863151,38.940571 L -77.862349,38.940940999999995 L -77.86180999999999,38.941207 L -77.860879,38.941877 L -77.860254,38.942181 L -77.86008799999999,38.942302999999995 L -77.85999,38.942459 L -77.859973,38.942693999999996 L -77.85935099999999,38.943103 L -77.859102,38.943394999999995 L -77.85869199999999,38.944755 L -77.858122,38.945645999999996 L -77.85783599999999,38.946314 L -77.857722,38.946731 L -77.857732,38.946979 L -77.857777,38.947078999999995 L -77.857939,38.947142 L -77.858257,38.94716 L -77.85873099999999,38.947089999999996 L -77.858941,38.947162999999996 L -77.86045,38.948079 L -77.860554,38.948195999999996 L -77.86054,38.948371 L -77.860231,38.94884 L -77.858825,38.950505 L -77.858525,38.950674 L -77.858312,38.950904 L -77.858093,38.951583 L -77.857942,38.951803 L -77.85675599999999,38.952819 L -77.85651899999999,38.95316 L -77.855958,38.953407 L -77.85548399999999,38.953416 L -77.85537099999999,38.953418 L -77.854929,38.953329 L -77.85466,38.953368 L -77.854501,38.953437 L -77.854344,38.953562 L -77.854053,38.954084 L -77.853749,38.954394 L -77.853431,38.95482 L -77.85287799999999,38.955065 L -77.852612,38.955056 L -77.85239899999999,38.955093999999995 L -77.85229199999999,38.95516 L -77.852071,38.955144 L -77.85121,38.955258 L -77.849004,38.955341 L -77.847681,38.955065999999995 L -77.847392,38.954868999999995 L -77.84698499999999,38.95491 L -77.846344,38.954848 L -77.84580299999999,38.954902 L -77.845497,38.955026 L -77.845444,38.955481 L -77.845181,38.955967 L -77.84531799999999,38.957267 L -77.845235,38.957831 L -77.845293,38.958073999999996 L -77.845582,38.958667999999996 L -77.845524,38.959015 L -77.84523999999999,38.959492999999995 L -77.84503099999999,38.959676 L -77.844094,38.960238 L -77.842957,38.960705999999995 L -77.84266099999999,38.960692 L -77.84237,38.960795 L -77.842218,38.961012 L -77.84208699999999,38.96111 L -77.839945,38.961551 L -77.83890699999999,38.961617 L -77.837294,38.961529999999996 L -77.836688,38.961268 L -77.83578899999999,38.961106 L -77.835126,38.960812 L -77.834852,38.960803999999996 L -77.834411,38.960899 L -77.833845,38.961166 L -77.832629,38.962 L -77.832257,38.962205999999995 L -77.831992,38.962261 L -77.83172499999999,38.962247999999995 L -77.830942,38.961901999999995 L -77.830788,38.961925 L -77.830651,38.962019999999995 L -77.83022799999999,38.962545 L -77.829931,38.962806 L -77.829859,38.963045 L -77.829872,38.963702999999995 L -77.82982299999999,38.964012 L -77.829762,38.964104999999996 L -77.829371,38.964369999999995 L -77.829295,38.964497 L -77.829291,38.96467 L -77.829482,38.964862 L -77.83034099999999,38.965317999999996 L -77.83120199999999,38.965728 L -77.831791,38.965933 L -77.83228,38.966037 L -77.832692,38.966052 L -77.833589,38.965803 L -77.833845,38.965861 L -77.833959,38.96597 L -77.833981,38.96611 L -77.83383599999999,38.966662 L -77.833789,38.967082999999995 L -77.83399399999999,38.967693 L -77.83399,38.968008999999995 L -77.833865,38.968233999999995 L -77.833291,38.968818999999996 L -77.83247999999999,38.969274 L -77.83149,38.969425 L -77.831052,38.969614 L -77.830744,38.969595999999996 L -77.829619,38.969781999999995 L -77.829583,38.969788 L -77.828116,38.970149 L -77.82791,38.970136 L -77.827721,38.970231 L -77.826876,38.970318999999996 L -77.826644,38.970431 L -77.82649099999999,38.970605 L -77.826324,38.971368999999996 L -77.826134,38.971804 L -77.82600099999999,38.972570999999995 L -77.82561,38.973244 L -77.82475099999999,38.974365 L -77.824688,38.974499 L -77.824681,38.974744 L -77.82484199999999,38.97497 L -77.824676,38.975133 L -77.82440199999999,38.975769 L -77.82432299999999,38.976113 L -77.824339,38.9765 L -77.824445,38.976648999999995 L -77.824417,38.976835 L -77.824568,38.977056999999995 L -77.82461599999999,38.977264999999996 L -77.824547,38.977716 L -77.824283,38.97815 L -77.82405299999999,38.978415999999996 L -77.823871,38.978521 L -77.823483,38.979039 L -77.82315899999999,38.979290999999996 L -77.8224,38.979686 L -77.822085,38.979724 L -77.821497,38.979672 L -77.82129599999999,38.979757 L -77.820972,38.980094 L -77.820928,38.980202 L -77.82086799999999,38.980349 L -77.820689,38.980787 L -77.82035499999999,38.98102 L -77.82025999999999,38.980998 L -77.820128,38.980967 L -77.818012,38.980478 L -77.81787899999999,38.980447 L -77.81773799999999,38.980413999999996 L -77.817332,38.980320999999996 L -77.81517,38.979821 L -77.812202,38.979133999999995 L -77.81206499999999,38.979102 L -77.810273,38.978687 L -77.809141,38.978426 L -77.806468,38.977807 L -77.804293,38.977304 L -77.804002,38.977236 L -77.803974,38.97723 L -77.801864,38.976741 L -77.801825,38.976732 L -77.800264,38.976371 L -77.799041,38.976088 L -77.797286,38.975681 L -77.797225,38.975667 L -77.794504,38.975038 L -77.79252699999999,38.974579999999996 L -77.792417,38.974554999999995 L -77.791217,38.974275999999996 L -77.791168,38.974266 L -77.789215,38.973813 L -77.787044,38.973309 L -77.78684799999999,38.973264 L -77.784427,38.972702 L -77.78435999999999,38.972688 L -77.78416,38.972642 L -77.78337499999999,38.97246 L -77.78334699999999,38.972453 L -77.782336,38.972218999999996 L -77.78196299999999,38.972131 L -77.781247,38.971967 L -77.781187,38.971952 L -77.78106799999999,38.971925 L -77.781018,38.971914 L -77.78098399999999,38.971906 L -77.780926,38.971892 L -77.779085,38.971466 L -77.77900000000001,38.971446 L -77.778915,38.971426 L -77.778454,38.971319 L -77.77761,38.971123999999996 L -77.777515,38.971103 L -77.77743199999999,38.971083 L -77.776995,38.970982 L -77.77577099999999,38.970698 L -77.774096,38.97031 L -77.771281,38.969657 L -77.77119499999999,38.969637999999996 L -77.771164,38.969629999999995 L -77.771057,38.969605 L -77.769973,38.969353999999996 L -77.769164,38.969167 L -77.76816,38.968934 L -77.76816,38.968923 L -77.768092,38.968917 L -77.768067,38.968911 L -77.767179,38.968706999999995 L -77.766638,38.968581 L -77.766071,38.96845 L -77.76585299999999,38.968399 L -77.765213,38.968250999999995 L -77.76175099999999,38.967448 L -77.760137,38.967074 L -77.760048,38.967053 L -77.760002,38.967043 L -77.759846,38.967006 L -77.75616699999999,38.966153 L -77.755782,38.966063 L -77.75566599999999,38.966037 L -77.755607,38.966023 L -77.751976,38.965181 L -77.749168,38.964529 L -77.747108,38.964051 L -77.747036,38.964034999999996 L -77.74626599999999,38.963856 L -77.745851,38.96376 L -77.745773,38.963741 L -77.74054799999999,38.962528999999996 L -77.740496,38.962517 L -77.740443,38.962505 L -77.740431,38.962502 L -77.739094,38.962191 L -77.738674,38.962094 L -77.737552,38.961833999999996 L -77.73742299999999,38.961802999999996 L -77.73693399999999,38.96169 L -77.73662399999999,38.961617 L -77.734588,38.961144999999995 L -77.73419799999999,38.961055 L -77.734026,38.961014999999996 L -77.73392799999999,38.960992999999995 L -77.731782,38.960494 L -77.731708,38.960477 L -77.728978,38.959843 L -77.728134,38.959648 L -77.727987,38.959613 L -77.726596,38.959289999999996 L -77.72605899999999,38.959165 L -77.723754,38.95863 L -77.723278,38.958518999999995 L -77.72323899999999,38.95851 L -77.72317699999999,38.958496 L -77.723129,38.958484 L -77.71783599999999,38.957254999999996 L -77.71567999999999,38.956754 L -77.713804,38.956317 L -77.713736,38.956303 L -77.707533,38.954861 L -77.706935,38.954722 L -77.705013,38.954274999999996 L -77.700271,38.953173 L -77.696664,38.952334 L -77.696529,38.952303 L -77.694159,38.951751 L -77.690693,38.950945 L -77.688751,38.950494 L -77.684157,38.949425 L -77.68396899999999,38.949380999999995 L -77.677076,38.947776999999995 L -77.674953,38.947283 L -77.673514,38.946948 L -77.67342,38.946926 L -77.673313,38.946901 L -77.671858,38.946562 L -77.67181699999999,38.946553 L -77.666817,38.945389 L -77.66292899999999,38.944483 L -77.658739,38.943508 L -77.657581,38.943231 L -77.655169,38.942656 L -77.65524599999999,38.942535 L -77.655671,38.941880999999995 L -77.655714,38.941812 L -77.655734,38.941767 L -77.655743,38.941749 L -77.655791,38.941687 L -77.65583099999999,38.941624999999995 L -77.655869,38.941572 L -77.65592,38.941461 L -77.655953,38.941387 L -77.65599,38.941299 L -77.656036,38.941192 L -77.656063,38.941142 L -77.65612899999999,38.941033999999995 L -77.65614099999999,38.940979999999996 L -77.656211,38.940794 L -77.656244,38.940735 L -77.656266,38.940658 L -77.656291,38.940591999999995 L -77.656328,38.940501 L -77.65638799999999,38.940363999999995 L -77.656425,38.940281999999996 L -77.656506,38.94012 L -77.656561,38.940021 L -77.656604,38.939955999999995 L -77.65666,38.939862999999995 L -77.656697,38.939806999999995 L -77.656758,38.939673 L -77.65678299999999,38.939558 L -77.656792,38.939471 L -77.656801,38.939403999999996 L -77.656804,38.939343 L -77.656825,38.939229 L -77.656841,38.939157 L -77.65684,38.939108 L -77.656832,38.939023 L -77.65683,38.938998 L -77.65682,38.938888999999996 L -77.65682199999999,38.938749 L -77.65683,38.938629 L -77.656837,38.938483 L -77.65684999999999,38.938320999999995 L -77.65687,38.938221999999996 L -77.656886,38.938102 L -77.656905,38.938022 L -77.656915,38.93792 L -77.656919,38.937858 L -77.656919,38.937812 L -77.65690699999999,38.937765999999996 L -77.656893,38.937708 L -77.65687799999999,38.937655 L -77.656835,38.937597 L -77.656781,38.937528 L -77.656747,38.937470999999995 L -77.65670399999999,38.937388999999996 L -77.656678,38.937315999999996 L -77.656671,38.937269 L -77.656649,38.937169999999995 L -77.65664799999999,38.937107999999995 L -77.656668,38.936935 L -77.656702,38.936859 L -77.65673,38.936786 L -77.656759,38.936734 L -77.656792,38.936699 L -77.656829,38.936659 L -77.656909,38.936574 L -77.656959,38.936532 L -77.65702399999999,38.936454999999995 L -77.65706899999999,38.936401 L -77.657127,38.936327 L -77.65722699999999,38.936217 L -77.657288,38.936142 L -77.657352,38.936054999999996 L -77.65741,38.935987999999995 L -77.65746899999999,38.935914 L -77.657507,38.935857 L -77.657533,38.935815 L -77.657558,38.935772 L -77.657601,38.935671 L -77.657614,38.935621999999995 L -77.65762699999999,38.935567 L -77.65763299999999,38.935514999999995 L -77.657631,38.935448 L -77.657611,38.935404 L -77.65758699999999,38.935352 L -77.657567,38.935300000000005 L -77.657551,38.935246 L -77.65754,38.935192 L -77.657533,38.935137 L -77.657532,38.935083 L -77.657534,38.935027999999996 L -77.65754199999999,38.934976 L -77.657622,38.934723999999996 L -77.657662,38.934689999999996 L -77.65768,38.934664 L -77.657718,38.934618 L -77.657759,38.934573 L -77.657805,38.934532 L -77.657853,38.934492 L -77.657905,38.934455 L -77.65796,38.934419999999996 L -77.658018,38.934388999999996 L -77.658078,38.934360999999996 L -77.65814,38.934335999999995 L -77.658204,38.934312999999996 L -77.658271,38.934295 L -77.658338,38.93428 L -77.658411,38.934267999999996 L -77.658642,38.934213 L -77.65888199999999,38.934168 L -77.65908,38.934121999999995 L -77.659185,38.934093 L -77.659319,38.934052 L -77.659431,38.934000000000005 L -77.659596,38.933915999999996 L -77.659702,38.933834999999995 L -77.659774,38.933762 L -77.65978299999999,38.933752999999996 L -77.65986199999999,38.933673999999996 L -77.659932,38.933594 L -77.66002,38.933461 L -77.66008099999999,38.933358999999996 L -77.660124,38.933279 L -77.660158,38.933240999999995 L -77.66019,38.933144 L -77.66024,38.933033 L -77.660325,38.932851 L -77.660335,38.932829999999996 L -77.660456,38.932593 L -77.66054299999999,38.932441 L -77.660586,38.932386 L -77.660624,38.932324 L -77.660658,38.932262 L -77.660688,38.932167 L -77.660697,38.932112 L -77.660697,38.932047 L -77.660735,38.93193 L -77.660789,38.931832 L -77.660816,38.931788 L -77.66086399999999,38.931715 L -77.660967,38.931560999999995 L -77.661037,38.931467999999995 L -77.661124,38.931359 L -77.66118399999999,38.931301 L -77.661236,38.931245 L -77.66128499999999,38.931177 L -77.66137499999999,38.931056999999996 L -77.661463,38.930955 L -77.66148799999999,38.930928 L -77.661565,38.930816 L -77.661609,38.930752 L -77.661658,38.930672 L -77.66172,38.930597 L -77.66179,38.930505 L -77.661887,38.930377 L -77.662009,38.930234999999996 L -77.662067,38.930169 L -77.662177,38.930039 L -77.662238,38.929972 L -77.66232099999999,38.929888 L -77.66240499999999,38.929801999999995 L -77.662449,38.929761 L -77.662497,38.929683 L -77.662542,38.92959 L -77.66258499999999,38.929494 L -77.662618,38.929404 L -77.662655,38.929249999999996 L -77.662667,38.929193999999995 L -77.662674,38.929161 L -77.66268099999999,38.929131999999996 L -77.662702,38.929046 L -77.662759,38.928906999999995 L -77.662784,38.928827 L -77.662792,38.928805 L -77.66281699999999,38.928723999999995 L -77.662851,38.928629 L -77.66288999999999,38.928539 L -77.662914,38.928492 L -77.66292,38.928481 L -77.662977,38.928346 L -77.663001,38.928281999999996 L -77.66303099999999,38.928205999999996 L -77.663046,38.928121 L -77.66308599999999,38.927987 L -77.66314,38.927901 L -77.663218,38.927792 L -77.663246,38.927757 L -77.6633,38.92769 L -77.663366,38.927623 L -77.663428,38.927564 L -77.663442,38.92755 L -77.66351999999999,38.927468999999995 L -77.663564,38.927409999999995 L -77.663615,38.927323 L -77.663674,38.927229 L -77.663708,38.927116 L -77.66373,38.927042 L -77.663732,38.927022 L -77.663735,38.926984999999995 L -77.663737,38.926912 L -77.66373,38.926836 L -77.663718,38.92676 L -77.66371199999999,38.926682 L -77.663691,38.926576 L -77.663658,38.926513 L -77.66364,38.926497999999995 L -77.66358699999999,38.926454 L -77.66355,38.926404999999995 L -77.663416,38.926293 L -77.66340799999999,38.926286 L -77.663304,38.926196 L -77.663253,38.926138 L -77.663207,38.926092 L -77.663157,38.926064 L -77.66309199999999,38.926049 L -77.663077,38.926044999999995 L -77.663017,38.926048 L -77.66290599999999,38.926034 L -77.662843,38.926010999999995 L -77.66279899999999,38.925974 L -77.662753,38.92593 L -77.662683,38.925865 L -77.66264799999999,38.925822 L -77.662615,38.925764 L -77.662578,38.925697 L -77.662543,38.925639 L -77.662534,38.925618 L -77.662522,38.925592 L -77.662528,38.925526999999995 L -77.66255699999999,38.925478999999996 L -77.662607,38.925428 L -77.66266499999999,38.925374999999995 L -77.66269799999999,38.925335 L -77.662746,38.925281999999996 L -77.662774,38.925239 L -77.662888,38.925055 L -77.66296899999999,38.924918999999996 L -77.663044,38.924786999999995 L -77.663107,38.924665999999995 L -77.66315999999999,38.924589 L -77.66320999999999,38.924515 L -77.663241,38.924468 L -77.663292,38.924381 L -77.66333399999999,38.924318 L -77.663376,38.924233 L -77.663415,38.924163 L -77.66345299999999,38.924068999999996 L -77.66347999999999,38.924001 L -77.663641,38.923477 L -77.663645,38.923458 L -77.66364,38.923369 L -77.663624,38.92331 L -77.66360499999999,38.923251 L -77.66357699999999,38.92319 L -77.66358,38.923103 L -77.663603,38.923027 L -77.663612,38.922967 L -77.66363199999999,38.922867 L -77.663659,38.922779999999996 L -77.66369,38.922666 L -77.66372299999999,38.922561 L -77.66375099999999,38.922452 L -77.663793,38.922317 L -77.66381799999999,38.922247 L -77.66384599999999,38.922184 L -77.663883,38.922097 L -77.663913,38.922039999999996 L -77.66392499999999,38.922017 L -77.663961,38.921946999999996 L -77.66398099999999,38.921909 L -77.663995,38.92188 L -77.66406599999999,38.921729 L -77.66408899999999,38.921648 L -77.664095,38.921624 L -77.664108,38.921552 L -77.66410599999999,38.921496999999995 L -77.664068,38.921441 L -77.664029,38.921423 L -77.66399899999999,38.921408 L -77.66395,38.921389999999995 L -77.66390899999999,38.921374 L -77.663882,38.921358999999995 L -77.663806,38.921316 L -77.663746,38.921276 L -77.663697,38.921228 L -77.663687,38.921202 L -77.663676,38.921172999999996 L -77.663657,38.921113 L -77.663653,38.921036 L -77.663653,38.920949 L -77.66366099999999,38.920874999999995 L -77.66368,38.920815999999995 L -77.663691,38.920758 L -77.663703,38.920691999999995 L -77.66372799999999,38.920629 L -77.663744,38.920587999999995 L -77.663775,38.920503 L -77.663791,38.920459 L -77.663827,38.920384 L -77.66383499999999,38.920365 L -77.66387,38.920288 L -77.66391999999999,38.920198 L -77.66395899999999,38.920114 L -77.66396999999999,38.920089999999995 L -77.664003,38.920024999999995 L -77.664059,38.919959 L -77.66411699999999,38.919906 L -77.66415099999999,38.919866999999996 L -77.66416,38.919857 L -77.66422,38.919739 L -77.664242,38.919666 L -77.664254,38.919612 L -77.664276,38.919542 L -77.664329,38.91945 L -77.66436999999999,38.919408 L -77.66442099999999,38.919366 L -77.66445499999999,38.91934 L -77.664484,38.919319 L -77.664513,38.919306 L -77.66455599999999,38.91928 L -77.664596,38.919244 L -77.664676,38.919191 L -77.66469699999999,38.91917 L -77.664716,38.919152 L -77.664761,38.919107 L -77.664821,38.919027 L -77.66483199999999,38.919013 L -77.66493299999999,38.918942 L -77.664982,38.918884999999996 L -77.665026,38.918839 L -77.66506199999999,38.918800000000005 L -77.665071,38.918776 L -77.665086,38.918735999999996 L -77.66511299999999,38.918673999999996 L -77.665134,38.918625 L -77.665162,38.918576 L -77.66518099999999,38.918534 L -77.665207,38.918487999999996 L -77.665238,38.918425 L -77.665273,38.918329 L -77.665281,38.918279999999996 L -77.665289,38.918217 L -77.66528699999999,38.918155999999996 L -77.665289,38.918112 L -77.66529,38.918065999999996 L -77.665294,38.917989999999996 L -77.665303,38.917942 L -77.66530999999999,38.917905 L -77.665306,38.917848 L -77.66530399999999,38.917788 L -77.66528699999999,38.917708 L -77.665277,38.917671 L -77.665266,38.917632999999995 L -77.66527599999999,38.917570999999995 L -77.665295,38.917515 L -77.66529799999999,38.917442 L -77.66529899999999,38.91739 L -77.6653,38.917361 L -77.66528699999999,38.917294999999996 L -77.665278,38.917227 L -77.665273,38.917179 L -77.66525899999999,38.917100000000005 L -77.665235,38.917021 L -77.665219,38.916945999999996 L -77.665221,38.916897 L -77.665218,38.916813 L -77.665221,38.916736 L -77.665486,38.916454 L -77.66562499999999,38.916315999999995 L -77.665654,38.916241 L -77.665675,38.916185 L -77.665733,38.916035 L -77.665797,38.915867 L -77.666254,38.915735 L -77.66628399999999,38.915721 L -77.666392,38.915529 L -77.666484,38.915365 L -77.666496,38.915344999999995 L -77.666567,38.915217999999996 L -77.66676799999999,38.914911 L -77.66680699999999,38.914842 L -77.66684599999999,38.914812 L -77.666945,38.914738 L -77.66705499999999,38.914662 L -77.667159,38.914572 L -77.667194,38.914545 L -77.667266,38.914488 L -77.66739,38.914387999999995 L -77.667481,38.914314999999995 L -77.667605,38.914211 L -77.66762,38.914197 L -77.667729,38.914097 L -77.66779,38.914032999999996 L -77.667875,38.913948999999995 L -77.66793799999999,38.913880999999996 L -77.668032,38.913775 L -77.66812399999999,38.913678999999995 L -77.668167,38.913627999999996 L -77.66819799999999,38.913589 L -77.668224,38.91355 L -77.668249,38.913499 L -77.668309,38.913419999999995 L -77.66833799999999,38.913376 L -77.66839,38.913305 L -77.66842299999999,38.913264 L -77.66845099999999,38.913213 L -77.668475,38.913171 L -77.668515,38.913137 L -77.66854,38.913086 L -77.66852999999999,38.913032 L -77.668488,38.912988 L -77.668449,38.91297 L -77.66842299999999,38.912957999999996 L -77.668391,38.912912 L -77.668388,38.912856 L -77.668347,38.912816 L -77.66829899999999,38.912774999999996 L -77.668272,38.912725 L -77.668275,38.912670999999996 L -77.668309,38.912622999999996 L -77.668382,38.912600999999995 L -77.668449,38.912569 L -77.668492,38.912529 L -77.668506,38.912475 L -77.66850000000001,38.912396 L -77.66850199999999,38.912375999999995 L -77.668504,38.912346 L -77.668505,38.912329 L -77.66852399999999,38.912262999999996 L -77.668528,38.912251 L -77.668578,38.91218 L -77.668613,38.912137 L -77.66861999999999,38.912127999999996 L -77.66865299999999,38.912078 L -77.668685,38.912017999999996 L -77.668692,38.912006 L -77.668714,38.911957 L -77.66873,38.911908 L -77.66875999999999,38.911851999999996 L -77.668792,38.91177 L -77.668831,38.911679 L -77.668886,38.911564 L -77.66890599999999,38.911508 L -77.668913,38.91149 L -77.668927,38.911435999999995 L -77.66893499999999,38.911387999999995 L -77.668936,38.911324 L -77.668936,38.911274 L -77.668944,38.911229 L -77.66895,38.911184999999996 L -77.668965,38.911093 L -77.668979,38.911016 L -77.668988,38.910959 L -77.66899099999999,38.910944 L -77.669006,38.910848 L -77.66902999999999,38.910775 L -77.669054,38.910719 L -77.669068,38.910689999999995 L -77.669116,38.910588 L -77.66917,38.910483 L -77.669195,38.910435 L -77.669249,38.910334999999996 L -77.669327,38.910193 L -77.669377,38.910112999999996 L -77.669435,38.910016999999996 L -77.669484,38.909938 L -77.66955,38.909832 L -77.669607,38.909746999999996 L -77.669643,38.909697 L -77.669654,38.909683 L -77.66973399999999,38.909585 L -77.66981299999999,38.909486 L -77.669896,38.909394 L -77.669967,38.909312 L -77.670007,38.909264 L -77.670042,38.909223999999995 L -77.67011,38.909138 L -77.670165,38.909065999999996 L -77.670191,38.90903 L -77.670239,38.908964999999995 L -77.670289,38.908893 L -77.670323,38.908839 L -77.670355,38.908788 L -77.670382,38.908747999999996 L -77.670412,38.908698 L -77.67042,38.908649 L -77.670413,38.908587 L -77.670425,38.908499 L -77.670428,38.908473 L -77.670463,38.908358 L -77.67049899999999,38.908263 L -77.670557,38.908153999999996 L -77.670636,38.908015999999996 L -77.670662,38.907978 L -77.67072,38.907894999999996 L -77.670836,38.907737 L -77.670953,38.907592 L -77.67102899999999,38.907509999999995 L -77.67107,38.907467 L -77.671137,38.907394 L -77.67122499999999,38.907312 L -77.671238,38.907298999999995 L -77.671267,38.90727 L -77.671312,38.90724 L -77.67137,38.907207 L -77.671433,38.907174999999995 L -77.671483,38.907143999999995 L -77.67151199999999,38.907114 L -77.672406,38.90591 L -77.672468,38.905792 L -77.672563,38.905604 L -77.67262199999999,38.905476 L -77.67268,38.905333 L -77.672713,38.905274 L -77.67278,38.905229999999996 L -77.672842,38.905221 L -77.67290899999999,38.905198999999996 L -77.67294299999999,38.905147 L -77.672952,38.905122 L -77.672962,38.905091 L -77.67294,38.905032 L -77.672898,38.904973 L -77.672878,38.904914999999995 L -77.67292499999999,38.90484 L -77.67295,38.904814 L -77.672974,38.904787999999996 L -77.673048,38.904742 L -77.673113,38.904697999999996 L -77.673165,38.904669 L -77.673206,38.904624999999996 L -77.673233,38.904596999999995 L -77.67335899999999,38.904478999999995 L -77.67343,38.904404 L -77.67346599999999,38.904367 L -77.67357799999999,38.904236 L -77.673625,38.904191 L -77.673678,38.904139 L -77.673746,38.904069 L -77.673795,38.904008 L -77.673825,38.903973 L -77.673857,38.903936 L -77.673913,38.903864999999996 L -77.673945,38.903779 L -77.673966,38.903726999999996 L -77.67399,38.903672 L -77.67401699999999,38.903617 L -77.674072,38.903535999999995 L -77.674103,38.903479 L -77.67412999999999,38.903428999999996 L -77.674217,38.903269 L -77.674249,38.903220999999995 L -77.67429,38.903158999999995 L -77.67434899999999,38.903085 L -77.674392,38.903044 L -77.674431,38.902983 L -77.674498,38.902885 L -77.674556,38.902815 L -77.674629,38.902722 L -77.674679,38.902646 L -77.674764,38.902547999999996 L -77.674793,38.902508 L -77.674814,38.902479 L -77.67486199999999,38.902405 L -77.674893,38.902339 L -77.67492399999999,38.902282 L -77.674938,38.902257999999996 L -77.67497399999999,38.902195 L -77.67506999999999,38.902035999999995 L -77.675078,38.902018999999996 L -77.675112,38.90195 L -77.675142,38.901876 L -77.675179,38.901779999999995 L -77.675196,38.901748 L -77.675223,38.901695 L -77.67525599999999,38.901627 L -77.675309,38.901516 L -77.675319,38.901488 L -77.67533999999999,38.901427999999996 L -77.675359,38.901348999999996 L -77.675406,38.901271 L -77.675438,38.901213 L -77.67545799999999,38.901177 L -77.675506,38.901098 L -77.675555,38.901018 L -77.67558199999999,38.900957999999996 L -77.675608,38.9009 L -77.67569,38.900788 L -77.67574599999999,38.900707 L -77.675758,38.900689 L -77.675811,38.900619999999996 L -77.675907,38.900513 L -77.675939,38.900476 L -77.675973,38.900436 L -77.67605499999999,38.900329 L -77.67611099999999,38.900245 L -77.676175,38.900172999999995 L -77.676228,38.900107999999996 L -77.676266,38.900062 L -77.67630199999999,38.900013 L -77.676327,38.89998 L -77.676378,38.899910999999996 L -77.676465,38.899823 L -77.676475,38.899809 L -77.67649399999999,38.899784 L -77.676588,38.899656 L -77.676683,38.899546 L -77.676717,38.899501 L -77.676728,38.899485999999996 L -77.676754,38.899452 L -77.67690499999999,38.899262 L -77.676974,38.899186 L -77.677042,38.899111 L -77.67719,38.898897999999996 L -77.677239,38.898804 L -77.677269,38.898722 L -77.677298,38.898652999999996 L -77.677301,38.898621 L -77.677303,38.898588 L -77.677331,38.898469999999996 L -77.677358,38.898317999999996 L -77.677364,38.89828 L -77.677371,38.898243 L -77.677398,38.898179999999996 L -77.677436,38.898116 L -77.67747399999999,38.898071 L -77.67750099999999,38.898039 L -77.67751,38.898027 L -77.677559,38.897985 L -77.677613,38.897957999999996 L -77.677668,38.897926 L -77.677712,38.897895 L -77.677747,38.897870999999995 L -77.67776599999999,38.897847999999996 L -77.677782,38.897829 L -77.677818,38.897777 L -77.67783899999999,38.897723 L -77.677875,38.897633 L -77.67787799999999,38.897624 L -77.677961,38.897448 L -77.677975,38.897419 L -77.67809299999999,38.897194 L -77.678148,38.897106 L -77.678215,38.896997 L -77.678254,38.896924 L -77.67827799999999,38.896876999999996 L -77.67831799999999,38.896800999999996 L -77.67837999999999,38.896688 L -77.678456,38.896542 L -77.678556,38.896352 L -77.67867799999999,38.896124 L -77.67871199999999,38.89607 L -77.678752,38.896003 L -77.678792,38.895967 L -77.678873,38.895906 L -77.678933,38.895869 L -77.678994,38.895832 L -77.67908899999999,38.895772 L -77.67920699999999,38.895683999999996 L -77.679305,38.895607999999996 L -77.679372,38.895537 L -77.67942099999999,38.895478 L -77.67943199999999,38.895455 L -77.679469,38.895385 L -77.67949399999999,38.895303999999996 L -77.67951,38.895233999999995 L -77.679529,38.895174999999995 L -77.679538,38.895088 L -77.67956699999999,38.895008 L -77.679613,38.894921 L -77.67964099999999,38.89488 L -77.67968599999999,38.894824 L -77.679701,38.89474 L -77.679704,38.894670999999995 L -77.67971299999999,38.894627 L -77.679715,38.894574 L -77.67972999999999,38.894501999999996 L -77.679749,38.894451 L -77.67977599999999,38.894407 L -77.67983199999999,38.894335999999996 L -77.679868,38.894284999999996 L -77.679931,38.894213 L -77.679979,38.894148 L -77.680027,38.894112 L -77.68007399999999,38.894076999999996 L -77.680143,38.894011 L -77.68018,38.893971 L -77.680217,38.893919 L -77.680247,38.893876999999996 L -77.680267,38.893786999999996 L -77.68027,38.893727 L -77.680252,38.89366 L -77.68025399999999,38.893609 L -77.680253,38.893547 L -77.68025999999999,38.893476 L -77.680281,38.893425 L -77.68028699999999,38.893409999999996 L -77.680313,38.893363 L -77.68036699999999,38.89329 L -77.680402,38.893235 L -77.680537,38.893167 L -77.680846,38.89301 L -77.684766,38.891020999999995 L -77.685002,38.890901 L -77.688608,38.889058 L -77.688803,38.888957 L -77.689015,38.888849 L -77.689134,38.888788 L -77.689627,38.888535999999995 L -77.692622,38.887004 L -77.693542,38.885086 L -77.694492,38.883106999999995 L -77.69497799999999,38.882093999999995 L -77.69504599999999,38.881921999999996 L -77.69510799999999,38.881783999999996 L -77.695257,38.881529 L -77.695306,38.881397 L -77.695376,38.881263 L -77.695405,38.8812 L -77.69542899999999,38.88115 L -77.695458,38.8811 L -77.695487,38.881049999999995 L -77.69551799999999,38.881 L -77.695533,38.880978999999996 L -77.69555299999999,38.880953 L -77.69558099999999,38.880902999999996 L -77.695607,38.880852 L -77.695634,38.880801 L -77.69565999999999,38.88075 L -77.695686,38.880699 L -77.695712,38.880648 L -77.69573799999999,38.880597 L -77.695763,38.880545999999995 L -77.695791,38.880494999999996 L -77.695821,38.880446 L -77.69585,38.880396 L -77.69588,38.880345999999996 L -77.695909,38.880296 L -77.69593499999999,38.880244999999995 L -77.69596,38.880193999999996 L -77.695984,38.880142 L -77.696005,38.880089999999996 L -77.696024,38.880036 L -77.696047,38.879985 L -77.696068,38.879932 L -77.696086,38.879878999999995 L -77.696102,38.879826 L -77.696113,38.879771999999996 L -77.696111,38.879717 L -77.69609299999999,38.879664999999996 L -77.696043,38.879625999999995 L -77.696024,38.879574999999996 L -77.696027,38.87952 L -77.696038,38.879466 L -77.696051,38.879411999999995 L -77.69606,38.879357 L -77.696078,38.879304 L -77.696106,38.879253999999996 L -77.696134,38.87919 L -77.696148,38.879149 L -77.69615399999999,38.879093999999995 L -77.69614899999999,38.879039999999996 L -77.69614,38.878988 L -77.696129,38.878931 L -77.696117,38.878876999999996 L -77.696103,38.878823 L -77.696092,38.878769 L -77.696092,38.878713999999995 L -77.696105,38.878659999999996 L -77.69612,38.878606 L -77.696139,38.878553 L -77.696159,38.878501 L -77.69618899999999,38.878451 L -77.696224,38.878403999999996 L -77.69626,38.878357 L -77.696293,38.878308 L -77.69632299999999,38.878257999999995 L -77.69635099999999,38.878208 L -77.696371,38.878156 L -77.696398,38.878105 L -77.696423,38.878053 L -77.69644699999999,38.878001999999995 L -77.696472,38.87795 L -77.69649799999999,38.877899 L -77.696525,38.877849 L -77.696553,38.877798 L -77.696584,38.877749 L -77.69661599999999,38.877700000000004 L -77.696648,38.877652 L -77.696679,38.877601999999996 L -77.696708,38.877552 L -77.69673499999999,38.877502 L -77.69676299999999,38.877451 L -77.696786,38.877404 L -77.696814,38.877348999999995 L -77.69684,38.877297999999996 L -77.696866,38.877247 L -77.69689199999999,38.877196 L -77.696929,38.877137 L -77.696953,38.877097 L -77.696967,38.877043 L -77.69698799999999,38.87699 L -77.697003,38.876954999999995 L -77.697009,38.876937999999996 L -77.697032,38.876886 L -77.697057,38.876835 L -77.69708299999999,38.876784 L -77.697109,38.876733 L -77.697135,38.876681999999995 L -77.69716199999999,38.876630999999996 L -77.69718999999999,38.876581 L -77.69722,38.876531 L -77.697249,38.876481 L -77.697279,38.876431 L -77.697311,38.876382 L -77.697344,38.876334 L -77.697374,38.876284 L -77.697401,38.876234 L -77.69743,38.876183999999995 L -77.697458,38.876132999999996 L -77.697484,38.876082 L -77.697514,38.876033 L -77.697544,38.875983 L -77.697561,38.87593 L -77.697577,38.875876 L -77.69759499999999,38.875823 L -77.69761299999999,38.875769999999996 L -77.69763499999999,38.875718 L -77.69765799999999,38.875665999999995 L -77.697676,38.875613 L -77.69770299999999,38.875558 L -77.69772999999999,38.875512 L -77.697758,38.875461 L -77.69778699999999,38.875411 L -77.697816,38.875361 L -77.69784299999999,38.87531 L -77.697865,38.875257999999995 L -77.697889,38.875206999999996 L -77.697913,38.875155 L -77.697931,38.875102 L -77.697941,38.875048 L -77.697951,38.874992999999996 L -77.69795599999999,38.874939 L -77.69795599999999,38.874887 L -77.697947,38.874832 L -77.697938,38.874778 L -77.69793,38.874722999999996 L -77.697924,38.874668 L -77.697919,38.874613 L -77.697914,38.874553 L -77.69791,38.874504 L -77.697906,38.874449 L -77.697901,38.874393999999995 L -77.697897,38.874342 L -77.697895,38.874285 L -77.69789399999999,38.87423 L -77.697893,38.874212 L -77.697892,38.874175 L -77.697892,38.87412 L -77.697892,38.874065 L -77.697891,38.87401 L -77.697892,38.873954999999995 L -77.697897,38.8739 L -77.697902,38.873846 L -77.69791,38.873791 L -77.697921,38.873737 L -77.69793899999999,38.873684 L -77.69796,38.873630999999996 L -77.697988,38.873581 L -77.698021,38.873532999999995 L -77.69805099999999,38.873483 L -77.698088,38.873436 L -77.698128,38.873391 L -77.698179,38.873337 L -77.69821,38.873301999999995 L -77.698239,38.873253 L -77.698234,38.873197999999995 L -77.698206,38.873166 L -77.698196,38.873152999999995 L -77.69814699999999,38.873114 L -77.69809599999999,38.873076 L -77.69805,38.873034 L -77.698016,38.872986999999995 L -77.697976,38.872941 L -77.69794499999999,38.872896 L -77.697937,38.872873 L -77.697926,38.87284 L -77.69791599999999,38.872785 L -77.69791099999999,38.872731 L -77.69791,38.872676 L -77.69791699999999,38.872620999999995 L -77.697938,38.872569 L -77.697974,38.872505 L -77.69797799999999,38.872467 L -77.697974,38.872411 L -77.697969,38.872357 L -77.69796699999999,38.872302 L -77.69796199999999,38.872247 L -77.69795599999999,38.872192 L -77.697953,38.872136999999995 L -77.69794999999999,38.872082 L -77.697948,38.872028 L -77.697947,38.871973 L -77.697947,38.871918 L -77.697947,38.871863 L -77.697949,38.871808 L -77.697952,38.871753 L -77.69795599999999,38.871697999999995 L -77.69796,38.871643 L -77.697966,38.87159 L -77.697972,38.871534 L -77.69798,38.87148 L -77.69798899999999,38.871424999999995 L -77.69800099999999,38.871370999999996 L -77.698017,38.871317 L -77.69803499999999,38.871264 L -77.698054,38.871210999999995 L -77.698071,38.871158 L -77.698088,38.871105 L -77.698112,38.871052999999996 L -77.698138,38.871002 L -77.69816399999999,38.870951 L -77.6982,38.870903999999996 L -77.698218,38.870850999999995 L -77.698241,38.870799 L -77.698251,38.870778 L -77.69826599999999,38.870748 L -77.69828799999999,38.870695999999995 L -77.698308,38.870643 L -77.69832799999999,38.870591 L -77.698346,38.870537 L -77.698363,38.870484 L -77.698379,38.870430999999996 L -77.698394,38.870377 L -77.698407,38.870323 L -77.69841699999999,38.870269 L -77.698433,38.870215 L -77.69845,38.870162 L -77.69846799999999,38.870109 L -77.698486,38.870056 L -77.698505,38.870003 L -77.698526,38.869951 L -77.698543,38.869897 L -77.69855,38.869839 L -77.69855199999999,38.869788 L -77.69856899999999,38.869734 L -77.69858599999999,38.869681 L -77.698602,38.869628 L -77.69861399999999,38.869572999999995 L -77.698628,38.86952 L -77.698645,38.869467 L -77.698661,38.869413 L -77.698677,38.869358999999996 L -77.698697,38.869307 L -77.698726,38.869257 L -77.698756,38.869206999999996 L -77.698773,38.869175 L -77.698782,38.869156 L -77.698802,38.869102999999996 L -77.698816,38.86905 L -77.69883,38.868995999999996 L -77.69885,38.868943 L -77.698875,38.868891999999995 L -77.69888499999999,38.868869 L -77.698899,38.868840999999996 L -77.69892399999999,38.868789 L -77.69895,38.868738 L -77.698976,38.868687 L -77.699,38.868635999999995 L -77.699024,38.868584 L -77.699046,38.868531999999995 L -77.69906999999999,38.86848 L -77.69909299999999,38.868428 L -77.699118,38.868370999999996 L -77.69913799999999,38.868317999999995 L -77.699158,38.868265 L -77.699178,38.868213 L -77.699198,38.868159999999996 L -77.69921699999999,38.868106999999995 L -77.699235,38.868054 L -77.69925099999999,38.868001 L -77.699264,38.867947 L -77.699277,38.867892999999995 L -77.69929499999999,38.86784 L -77.699288,38.867785 L -77.69929499999999,38.867731 L -77.69930000000001,38.867675999999996 L -77.699315,38.867622999999995 L -77.699332,38.867568999999996 L -77.699364,38.867517 L -77.69938599999999,38.867467999999995 L -77.699407,38.867416 L -77.699429,38.867363 L -77.699434,38.867309 L -77.69943599999999,38.867253999999996 L -77.69942999999999,38.867200000000004 L -77.69943099999999,38.867145 L -77.699421,38.867090999999995 L -77.69940799999999,38.867036999999996 L -77.69939,38.866983999999995 L -77.699356,38.866935 L -77.699348,38.866881 L -77.699337,38.866827 L -77.69932299999999,38.866772999999995 L -77.69931199999999,38.866718999999996 L -77.699299,38.866665 L -77.699293,38.866634 L -77.699289,38.866611 L -77.699275,38.866557 L -77.699263,38.866503 L -77.699253,38.866448999999996 L -77.69924499999999,38.8664 L -77.699237,38.86634 L -77.699229,38.866285 L -77.699215,38.866231 L -77.699213,38.866175999999996 L -77.69921,38.866122 L -77.699201,38.866067 L -77.6992,38.866012 L -77.699202,38.865957 L -77.699203,38.865902 L -77.699203,38.865848 L -77.699207,38.865793 L -77.699221,38.865739 L -77.699226,38.865715 L -77.699232,38.865685 L -77.699244,38.865631 L -77.699255,38.865576 L -77.699264,38.865522 L -77.69927,38.865466999999995 L -77.69927799999999,38.865413 L -77.699289,38.865358 L -77.699294,38.865303 L -77.699289,38.865249 L -77.69928,38.865195 L -77.69927,38.865141 L -77.69928,38.865086999999995 L -77.699285,38.865037 L -77.699297,38.864978 L -77.699311,38.864923999999995 L -77.699322,38.864869999999996 L -77.69933,38.864815 L -77.699343,38.864762 L -77.69935699999999,38.864708 L -77.699367,38.864653 L -77.699378,38.864599 L -77.699393,38.864546 L -77.699416,38.864494 L -77.699433,38.864439999999995 L -77.699449,38.864387 L -77.699468,38.864334 L -77.699494,38.864283 L -77.699533,38.864233999999996 L -77.699562,38.864187 L -77.69958799999999,38.864135999999995 L -77.69960999999999,38.864087999999995 L -77.69962799999999,38.864039 L -77.699648,38.863979 L -77.699658,38.863945 L -77.699664,38.863924999999995 L -77.699676,38.863887999999996 L -77.699681,38.863872 L -77.699683,38.863862999999995 L -77.699692,38.863817999999995 L -77.699692,38.863763 L -77.699696,38.863709 L -77.699681,38.863655 L -77.699659,38.863605 L -77.69965499999999,38.863551 L -77.69964,38.863498 L -77.699632,38.863459999999996 L -77.69962799999999,38.863444 L -77.699629,38.863389 L -77.699632,38.863333999999995 L -77.69962799999999,38.863307 L -77.699624,38.863279999999996 L -77.699621,38.863225 L -77.699618,38.86317 L -77.699614,38.863115 L -77.699614,38.86306 L -77.699613,38.863049 L -77.69960999999999,38.863006 L -77.69960499999999,38.862950999999995 L -77.699608,38.862896 L -77.699609,38.862883 L -77.699613,38.862840999999996 L -77.69961599999999,38.86277 L -77.699615,38.862731 L -77.69961599999999,38.862677 L -77.699621,38.862622 L -77.699629,38.862567 L -77.699635,38.862513 L -77.699636,38.862458 L -77.69964499999999,38.862403 L -77.699654,38.862348999999995 L -77.69966699999999,38.862294999999996 L -77.699682,38.862241999999995 L -77.69969499999999,38.862187999999996 L -77.699708,38.862134 L -77.69972299999999,38.86208 L -77.699737,38.862027999999995 L -77.699755,38.861961 L -77.69976799999999,38.861919 L -77.699793,38.861868 L -77.69981899999999,38.861816999999995 L -77.699845,38.861765999999996 L -77.699867,38.861714 L -77.699894,38.861663 L -77.699922,38.861613 L -77.69994799999999,38.861562 L -77.699981,38.861514 L -77.700018,38.861467 L -77.700057,38.861421 L -77.700093,38.861374 L -77.700136,38.861331 L -77.700155,38.861317 L -77.700187,38.861292999999996 L -77.700237,38.861253999999995 L -77.700279,38.861211 L -77.700319,38.861165 L -77.700351,38.861115999999996 L -77.700383,38.861069 L -77.700412,38.861018 L -77.700458,38.860946 L -77.700482,38.860893999999995 L -77.700504,38.860842 L -77.70053,38.860791 L -77.70055099999999,38.860738 L -77.700572,38.860686 L -77.700588,38.860631999999995 L -77.700628,38.860588 L -77.700673,38.860544999999995 L -77.70069699999999,38.860493999999996 L -77.700709,38.86044 L -77.70071899999999,38.860386 L -77.700728,38.860330999999995 L -77.700735,38.860276999999996 L -77.70074199999999,38.860222 L -77.70074799999999,38.860167 L -77.700752,38.860112 L -77.700758,38.860057999999995 L -77.70076999999999,38.860003999999996 L -77.700785,38.85995 L -77.700789,38.859895 L -77.700801,38.859840999999996 L -77.700811,38.859787 L -77.700816,38.859732 L -77.700822,38.859677 L -77.700828,38.859623 L -77.70083199999999,38.859567999999996 L -77.700836,38.859501 L -77.700839,38.859458 L -77.700847,38.859404 L -77.700852,38.859349 L -77.70085399999999,38.859294 L -77.70085399999999,38.859283 L -77.70085399999999,38.859238999999995 L -77.700859,38.859184 L -77.700865,38.85913 L -77.700865,38.85911 L -77.700865,38.859075 L -77.700868,38.85902 L -77.700874,38.858965 L -77.700879,38.85891 L -77.700882,38.858855999999996 L -77.70088299999999,38.858801 L -77.700884,38.858746 L -77.700886,38.858691 L -77.70089,38.858636 L -77.700895,38.858581 L -77.70089899999999,38.858526 L -77.700903,38.858471 L -77.700907,38.858416999999996 L -77.70091,38.858362 L -77.700913,38.858306999999996 L -77.700914,38.858252 L -77.700915,38.858197 L -77.700919,38.858142 L -77.700914,38.858089 L -77.700915,38.858033999999996 L -77.700913,38.85798 L -77.700919,38.857925 L -77.700923,38.85787 L -77.700927,38.857814999999995 L -77.700929,38.85776 L -77.70093299999999,38.857706 L -77.700932,38.857651 L -77.700932,38.857596 L -77.70093,38.857541 L -77.700924,38.857486 L -77.700935,38.857377 L -77.70094,38.857321999999996 L -77.700946,38.857267 L -77.70095599999999,38.857213 L -77.70097,38.857158999999996 L -77.700986,38.857106 L -77.701008,38.857053 L -77.70103,38.857001 L -77.70105099999999,38.856949 L -77.701065,38.856895 L -77.70107399999999,38.856839 L -77.701081,38.856786 L -77.70109,38.856730999999996 L -77.70111,38.856679 L -77.70112499999999,38.856626 L -77.701132,38.856570999999995 L -77.701151,38.856518 L -77.70117499999999,38.856466 L -77.70119199999999,38.856412999999996 L -77.70119199999999,38.856358 L -77.701196,38.856304 L -77.701213,38.856249999999996 L -77.701214,38.856195 L -77.701224,38.856141 L -77.701236,38.856086999999995 L -77.701236,38.856032 L -77.70125399999999,38.855979 L -77.701269,38.855926 L -77.70128199999999,38.855874 L -77.70129899999999,38.855823 L -77.701308,38.855768 L -77.701302,38.855714 L -77.70129899999999,38.855658999999996 L -77.70129899999999,38.855632 L -77.7013,38.855604 L -77.701304,38.855548999999996 L -77.701317,38.855495 L -77.701337,38.855443 L -77.70138,38.855399 L -77.70142,38.855354 L -77.70146,38.855309 L -77.701494,38.855261 L -77.701515,38.8552 L -77.70152499999999,38.855154 L -77.701545,38.855101 L -77.701557,38.855047 L -77.701577,38.854994 L -77.701596,38.854942 L -77.701608,38.854917 L -77.701621,38.854890999999995 L -77.70164799999999,38.854839999999996 L -77.70168,38.854791 L -77.701708,38.854742 L -77.70173299999999,38.854690999999995 L -77.701758,38.854639 L -77.70178299999999,38.854588 L -77.701797,38.854534 L -77.70181,38.854481 L -77.701871,38.854388 L -77.701891,38.854295 L -77.701911,38.854244 L -77.701933,38.854192 L -77.701966,38.854143 L -77.701973,38.854126 L -77.701988,38.854091 L -77.70200899999999,38.854039 L -77.702033,38.853987 L -77.702058,38.853923 L -77.70209299999999,38.85384 L -77.702123,38.85379 L -77.702135,38.853730999999996 L -77.70218299999999,38.853628 L -77.702119,38.853601999999995 L -77.70204799999999,38.853632999999995 L -77.702005,38.853653 L -77.701891,38.853702999999996 L -77.701813,38.853738 L -77.701752,38.853739999999995 L -77.701697,38.853726 L -77.701657,38.853688 L -77.701611,38.853643999999996 L -77.701571,38.853570999999995 L -77.701538,38.853442 L -77.70154,38.853398 L -77.701539,38.853338 L -77.701538,38.853212 L -77.701548,38.853074 L -77.701545,38.85303 L -77.701546,38.852976 L -77.70153499999999,38.852906 L -77.70151,38.852819 L -77.70150199999999,38.852758 L -77.70149599999999,38.852669999999996 L -77.701493,38.852593999999996 L -77.701501,38.852516 L -77.701482,38.852475 L -77.70147899999999,38.852422 L -77.70148999999999,38.852376 L -77.701503,38.852288 L -77.701509,38.852244 L -77.701514,38.852194999999995 L -77.701515,38.852126 L -77.701503,38.852055 L -77.70152399999999,38.852008 L -77.701548,38.851943999999996 L -77.701561,38.851887 L -77.701555,38.851791 L -77.701554,38.851698999999996 L -77.701555,38.851647 L -77.701554,38.851592 L -77.701582,38.851493999999995 L -77.70159799999999,38.851441 L -77.701629,38.851341 L -77.70164299999999,38.851268 L -77.70165399999999,38.851217 L -77.701666,38.851152 L -77.701684,38.851081 L -77.701701,38.850995999999995 L -77.701731,38.850877 L -77.701753,38.85076 L -77.70176599999999,38.850691999999995 L -77.701785,38.850626999999996 L -77.701813,38.850542 L -77.701832,38.850421 L -77.701841,38.850344 L -77.701846,38.850280999999995 L -77.70186199999999,38.850237 L -77.701881,38.850192 L -77.701961,38.850072 L -77.702005,38.850017 L -77.70200299999999,38.849958 L -77.70199699999999,38.849902 L -77.70201399999999,38.849804 L -77.702023,38.849754 L -77.702032,38.849686999999996 L -77.702045,38.849641999999996 L -77.70206999999999,38.849596999999996 L -77.702114,38.849556 L -77.702168,38.849544 L -77.702236,38.849534 L -77.702288,38.849515 L -77.702332,38.849455999999996 L -77.702348,38.849407 L -77.702343,38.849301 L -77.702355,38.849232 L -77.702381,38.849166 L -77.702421,38.84903 L -77.702458,38.848895 L -77.70248,38.848825 L -77.702499,38.848743999999996 L -77.702508,38.848684 L -77.702511,38.848600999999995 L -77.702519,38.848541999999995 L -77.70251999999999,38.848496 L -77.70252599999999,38.848442 L -77.702556,38.848341 L -77.70257699999999,38.848262 L -77.702601,38.848192 L -77.70262699999999,38.848116999999995 L -77.702642,38.848071 L -77.70267299999999,38.847991 L -77.702702,38.847910999999996 L -77.70274599999999,38.847792999999996 L -77.70279099999999,38.847696 L -77.702865,38.847564 L -77.702957,38.847404999999995 L -77.702997,38.847341 L -77.70309499999999,38.847186 L -77.70326399999999,38.846961 L -77.70330299999999,38.846882 L -77.703414,38.846668 L -77.70343799999999,38.846616 L -77.70347199999999,38.846544 L -77.70349399999999,38.846503 L -77.703542,38.84641 L -77.703574,38.846349 L -77.70361199999999,38.84625 L -77.703836,38.845912 L -77.703886,38.845841 L -77.703942,38.845682 L -77.70395599999999,38.845628 L -77.70405199999999,38.845439999999996 L -77.704056,38.845273 L -77.704095,38.845164 L -77.704135,38.845003999999996 L -77.704155,38.844924999999996 L -77.70439499999999,38.844317 L -77.70445099999999,38.844195 L -77.704854,38.84332 L -77.704931,38.843151999999996 L -77.70551499999999,38.843156 L -77.70849799999999,38.843176 L -77.709688,38.843184 L -77.71003499999999,38.843185999999996 L -77.715667,38.843224 L -77.715633,38.843171999999996 L -77.715625,38.843106999999996 L -77.715642,38.843044 L -77.71566,38.842988999999996 L -77.715644,38.842887999999995 L -77.715626,38.842768 L -77.715616,38.842687999999995 L -77.715617,38.84261 L -77.715616,38.842559 L -77.715616,38.842545 L -77.71562,38.842529 L -77.715654,38.842414 L -77.715705,38.842244 L -77.715768,38.842025 L -77.715842,38.841764999999995 L -77.715876,38.841684 L -77.71589,38.841612999999995 L -77.71591,38.841476 L -77.715921,38.841328 L -77.71592299999999,38.84121 L -77.715936,38.841066 L -77.715936,38.840992 L -77.715926,38.840911 L -77.715919,38.840795 L -77.71591699999999,38.84071 L -77.715901,38.840647 L -77.715896,38.840629 L -77.715881,38.840548999999996 L -77.715857,38.840388999999995 L -77.715851,38.840317999999996 L -77.71586099999999,38.840185999999996 L -77.715859,38.840058 L -77.715851,38.840002 L -77.71583199999999,38.839943 L -77.715818,38.839886 L -77.715817,38.839841 L -77.71582599999999,38.839791 L -77.715822,38.839709 L -77.715829,38.839656999999995 L -77.715812,38.839600000000004 L -77.715797,38.839541 L -77.715789,38.839489 L -77.71578099999999,38.83943 L -77.715769,38.839386 L -77.715777,38.839334 L -77.71579,38.839290999999996 L -77.715806,38.839199 L -77.71580399999999,38.839127999999995 L -77.715809,38.839065 L -77.715783,38.838978 L -77.7158,38.838922 L -77.71582,38.83883 L -77.715809,38.838784 L -77.715796,38.838726 L -77.715784,38.838678 L -77.715768,38.838615999999995 L -77.71576999999999,38.838547 L -77.715786,38.838477999999995 L -77.715784,38.838381 L -77.715732,38.838305 L -77.71569,38.838221 L -77.715688,38.838167 L -77.71569099999999,38.838104 L -77.7157,38.838058 L -77.71570899999999,38.837998999999996 L -77.715712,38.837951 L -77.715716,38.83789 L -77.715706,38.837844 L -77.71570299999999,38.83779 L -77.715696,38.837717999999995 L -77.715693,38.837627999999995 L -77.715688,38.837548 L -77.715684,38.837475 L -77.715685,38.837407 L -77.71567399999999,38.837320999999996 L -77.715662,38.837237 L -77.71564099999999,38.837168999999996 L -77.715626,38.837106 L -77.715628,38.837046 L -77.715636,38.836994 L -77.715651,38.836861 L -77.715653,38.836731 L -77.715651,38.836659 L -77.71565799999999,38.836552999999995 L -77.71564599999999,38.836466 L -77.715637,38.836417999999995 L -77.715617,38.836337 L -77.715604,38.836293999999995 L -77.71558399999999,38.836228 L -77.715572,38.836177 L -77.71555599999999,38.836123 L -77.715514,38.836022 L -77.715496,38.83596 L -77.715473,38.835910999999996 L -77.715462,38.835889 L -77.71542199999999,38.835803 L -77.715372,38.835702 L -77.715329,38.835612999999995 L -77.715291,38.835527 L -77.715266,38.835485999999996 L -77.71522,38.835417 L -77.715203,38.835367 L -77.715176,38.83531 L -77.71517399999999,38.835263999999995 L -77.715166,38.835204 L -77.715175,38.835125 L -77.715189,38.835071 L -77.715234,38.835015999999996 L -77.71529699999999,38.834965 L -77.715353,38.834911 L -77.715403,38.834852 L -77.71540999999999,38.834844 L -77.715459,38.834772 L -77.715484,38.834717999999995 L -77.715518,38.834655999999995 L -77.715548,38.834568 L -77.71554499999999,38.834475 L -77.715544,38.834322 L -77.715532,38.834179999999996 L -77.71553399999999,38.834044 L -77.715531,38.833903 L -77.71552799999999,38.833715 L -77.715543,38.833380999999996 L -77.71555699999999,38.833112 L -77.71557399999999,38.83296 L -77.715592,38.832843 L -77.715611,38.832713999999996 L -77.715637,38.832564999999995 L -77.71565,38.832446 L -77.71566899999999,38.832347 L -77.71569199999999,38.832246 L -77.715715,38.832136 L -77.715645,38.832035 L -77.711795,38.826423999999996 L -77.710715,38.824873 L -77.71065899999999,38.824793 L -77.710628,38.824748 L -77.710579,38.824678 L -77.710454,38.824498 L -77.710264,38.824214999999995 L -77.71024,38.824177 L -77.71018,38.824087 L -77.71005099999999,38.823893999999996 L -77.71001199999999,38.823834999999995 L -77.70996199999999,38.823761 L -77.71028199999999,38.823769999999996 L -77.710945,38.823786 L -77.711432,38.823803999999996 L -77.712003,38.823844 L -77.712458,38.823886 L -77.713025,38.823952 L -77.713583,38.824034 L -77.714134,38.824131 L -77.71457099999999,38.824217999999995 L -77.714896,38.824287999999996 L -77.715925,38.824548 L -77.71612499999999,38.82458 L -77.71622599999999,38.824624 L -77.719833,38.825547 L -77.722683,38.826277 L -77.722766,38.825893 L -77.722944,38.824992 L -77.723051,38.824583 L -77.723078,38.824529 L -77.72311599999999,38.824478 L -77.723176,38.824422 L -77.723233,38.824383999999995 L -77.72330000000001,38.824365 L -77.72343099999999,38.824348 L -77.723564,38.824346 L -77.72369599999999,38.824359 L -77.723822,38.824388 L -77.723942,38.824432 L -77.724032,38.824475 L -77.72413499999999,38.824540999999996 L -77.724321,38.824697 L -77.724398,38.824748 L -77.724531,38.824816 L -77.724661,38.824864 L -77.72479799999999,38.824898999999995 L -77.725437,38.824962 L -77.72553099999999,38.824963 L -77.725634,38.824948 L -77.725872,38.824897 L -77.726063,38.82484 L -77.726247,38.824768999999996 L -77.726613,38.824650999999996 L -77.726779,38.824611999999995 L -77.72693,38.824586 L -77.727046,38.824585 L -77.72716199999999,38.824597 L -77.727295,38.82463 L -77.727854,38.824874 L -77.727908,38.824889999999996 L -77.728003,38.824906 L -77.728099,38.824908 L -77.728194,38.824895999999995 L -77.728449,38.824819999999995 L -77.728554,38.824795 L -77.728732,38.824766 L -77.728914,38.824752 L -77.72918299999999,38.82476 L -77.72927899999999,38.824753 L -77.729357,38.824737999999996 L -77.72943699999999,38.824711 L -77.729519,38.824667999999996 L -77.729694,38.824553 L -77.729827,38.824445 L -77.729976,38.824301 L -77.730036,38.824264 L -77.730105,38.824238 L -77.73017999999999,38.824225999999996 L -77.73041099999999,38.824235 L -77.730659,38.824261 L -77.731123,38.824334 L -77.731394,38.82436 L -77.731427,38.824357 L -77.73150799999999,38.82434 L -77.731582,38.82431 L -77.731646,38.824268 L -77.731696,38.824216 L -77.73191899999999,38.823868 L -77.732079,38.823591 L -77.732114,38.823544999999996 L -77.73217,38.823494 L -77.73223899999999,38.823453 L -77.732325,38.823423 L -77.732322,38.823288 L -77.732333,38.823186 L -77.732377,38.823006 L -77.732438,38.822829999999996 L -77.73252,38.822651 L -77.732596,38.822528999999996 L -77.732688,38.822415 L -77.73281899999999,38.822289 L -77.733087,38.822046 L -77.733205,38.821917 L -77.73328599999999,38.8218 L -77.733351,38.821678 L -77.73338199999999,38.821602 L -77.733603,38.820978 L -77.733721,38.820724 L -77.73378,38.820617999999996 L -77.734038,38.820267 L -77.734284,38.819950999999996 L -77.734493,38.819683999999995 L -77.73507599999999,38.818946 L -77.73519399999999,38.818824 L -77.735299,38.818733 L -77.735411,38.818647999999996 L -77.735564,38.818552 L -77.735699,38.818484999999995 L -77.73587599999999,38.818413 L -77.73606099999999,38.818354 L -77.736207,38.818318999999995 L -77.73642,38.818287 L -77.73652799999999,38.818278 L -77.736745,38.818276 L -77.73692799999999,38.81829 L -77.737121,38.818321 L -77.737273,38.818355 L -77.73742,38.818397999999995 L -77.73786,38.818557 L -77.738379,38.818745 L -77.739634,38.819221 L -77.739941,38.819322 L -77.740135,38.819373999999996 L -77.740358,38.819418999999996 L -77.740726,38.819466999999996 L -77.74095899999999,38.81948 L -77.741147,38.819480999999996 L -77.74146999999999,38.819463 L -77.741745,38.819438 L -77.742699,38.819316 L -77.743853,38.819162 L -77.746612,38.818807 L -77.748903,38.818507 L -77.74923199999999,38.81845 L -77.749556,38.818377999999996 L -77.749893,38.818279 L -77.75025099999999,38.81816 L -77.75050399999999,38.818055 L -77.75074699999999,38.817938 L -77.75098,38.817809 L -77.751262,38.817631 L -77.75148999999999,38.817468 L -77.751663,38.817329 L -77.751864,38.817147999999996 L -77.75205199999999,38.816959 L -77.752224,38.816761 L -77.75257599999999,38.816305 L -77.753106,38.815604 L -77.753259,38.815401 L -77.753584,38.814971 L -77.75447199999999,38.813795999999996 L -77.754949,38.813179 L -77.755637,38.812269 L -77.757396,38.80997 L -77.75825999999999,38.808834999999995 L -77.76076499999999,38.805532 L -77.761202,38.804967 L -77.761533,38.804525 L -77.761596,38.804443 L -77.762264,38.803564 L -77.763289,38.802229 L -77.76371499999999,38.801662 L -77.764346,38.800830999999995 L -77.76666,38.797784 L -77.767426,38.796769 L -77.768045,38.795957 L -77.769,38.794694 L -77.76928,38.794334 L -77.76964,38.793897 L -77.769753,38.793768 L -77.76985499999999,38.793655 L -77.77010899999999,38.793393 L -77.77041899999999,38.793099 L -77.770628,38.792913999999996 L -77.770865,38.792721 L -77.771135,38.792518 L -77.77139199999999,38.792335 L -77.771725,38.792116 L -77.77207,38.791909 L -77.772426,38.791714999999996 L -77.772644,38.791612 L -77.773084,38.791413 L -77.773642,38.791176 L -77.77559099999999,38.790408 L -77.776273,38.790147999999995 L -77.77845099999999,38.789283 L -77.779179,38.789001 L -77.779836,38.788741 L -77.780356,38.788523999999995 L -77.780611,38.788398 L -77.78092099999999,38.788229 L -77.781176,38.788076 L -77.781393,38.787935999999995 L -77.781672,38.787738 L -77.78187799999999,38.787576 L -77.782112,38.787371 L -77.782332,38.787155999999996 L -77.78262,38.786820999999996 L -77.782838,38.786546 L -77.783294,38.785827 L -77.783858,38.784893 L -77.784736,38.783452 L -77.785071,38.782886 L -77.78575099999999,38.781766999999995 L -77.785844,38.781613 L -77.78598199999999,38.781379 L -77.786126,38.781152 L -77.786287,38.780932 L -77.786428,38.780761999999996 L -77.78661799999999,38.780556 L -77.786812,38.780378999999996 L -77.787063,38.78018 L -77.787266,38.780037 L -77.78747299999999,38.779907 L -77.78771499999999,38.779772 L -77.78797999999999,38.779641999999996 L -77.788178,38.779548 L -77.78837999999999,38.779455999999996 L -77.78866599999999,38.779326 L -77.789214,38.779087 L -77.791651,38.778022 L -77.792334,38.777721 L -77.79300099999999,38.777418999999995 L -77.793268,38.777297999999995 L -77.79540999999999,38.776348 L -77.79632699999999,38.775943 L -77.79811,38.775147 L -77.799133,38.774696999999996 L -77.799368,38.774594 L -77.800051,38.774283 L -77.800276,38.774183 L -77.801097,38.773823 L -77.802334,38.773281 L -77.802632,38.773146 L -77.803566,38.772726 L -77.804103,38.772492 L -77.804423,38.772349 L -77.804909,38.772124 L -77.805144,38.771997 L -77.80541199999999,38.771831 L -77.805622,38.771679999999996 L -77.805768,38.77156 L -77.805847,38.771495 L -77.805942,38.771411 L -77.806097,38.771262 L -77.806243,38.771108 L -77.806339,38.770995 L -77.80641299999999,38.770908 L -77.80653,38.770752 L -77.806567,38.770700000000005 L -77.806782,38.770351 L -77.807627,38.768902 L -77.808042,38.768203 L -77.80819699999999,38.767934 L -77.80828199999999,38.767797 L -77.808427,38.767587 L -77.808769,38.767143999999995 L -77.808821,38.767071 L -77.80909,38.76676 L -77.809297,38.766492 L -77.809448,38.766314 L -77.809816,38.765865 L -77.809885,38.765777 L -77.810385,38.765124 L -77.810676,38.764725999999996 L -77.81091599999999,38.764415 L -77.81109599999999,38.764202 L -77.81124799999999,38.764041999999996 L -77.811413,38.763889999999996 L -77.811495,38.763825 L -77.81159,38.76375 L -77.811771,38.763625999999995 L -77.81196299999999,38.763514 L -77.81216599999999,38.763413 L -77.812445,38.763296 L -77.81267199999999,38.76322 L -77.812682,38.763307 L -77.812747,38.763594 L -77.812856,38.763928 L -77.81295899999999,38.764195 L -77.812966,38.764212 L -77.81311099999999,38.764489999999995 L -77.813266,38.764748999999995 L -77.813406,38.764949 L -77.813603,38.76519 L -77.813796,38.765404 L -77.813963,38.765569 L -77.814191,38.765772 L -77.814433,38.765964 L -77.81464,38.766110999999995 L -77.814926,38.766289 L -77.815214,38.766447 L -77.815347,38.76652 L -77.81550899999999,38.766597 L -77.81617899999999,38.766909999999996 L -77.818409,38.767924 L -77.81951,38.768437999999996 L -77.819735,38.768552 L -77.820117,38.768769999999996 L -77.82024799999999,38.768854 L -77.820341,38.768919 L -77.820587,38.769095 L -77.82070499999999,38.769188 L -77.820999,38.769431999999995 L -77.821237,38.769667999999996 L -77.82139099999999,38.769830999999996 L -77.821612,38.7701 L -77.82176299999999,38.770308 L -77.821883,38.770482 L -77.822681,38.771733 L -77.82333299999999,38.772757 L -77.823527,38.773084 L -77.82364,38.773312 L -77.823737,38.773545 L -77.82381699999999,38.773781 L -77.824011,38.774606999999996 L -77.82412699999999,38.775127 L -77.824229,38.775518 L -77.82436,38.776109 L -77.82440299999999,38.776323999999995 L -77.82443599999999,38.776491 L -77.824604,38.777235999999995 L -77.824758,38.777919 L -77.824874,38.778473 L -77.82489199999999,38.778563 L -77.824966,38.778839 L -77.825026,38.779136 L -77.825051,38.779376 L -77.825058,38.779616 L -77.825047,38.779855999999995 L -77.825025,38.780046999999996 L -77.824944,38.780364999999996 L -77.824843,38.780679 L -77.824725,38.780989999999996 L -77.82439,38.781757 L -77.824049,38.782571999999995 L -77.82367599999999,38.783442 L -77.823126,38.784749 L -77.82278199999999,38.785553 L -77.822597,38.785979999999995 L -77.82229699999999,38.786696 L -77.82206699999999,38.787237999999995 L -77.821823,38.787785 L -77.821433,38.788584 L -77.821084,38.789280999999995 L -77.820889,38.789659 L -77.820703,38.790040999999995 L -77.82032099999999,38.790803 L -77.820157,38.791226 L -77.820038,38.791568 L -77.819977,38.791795 L -77.819952,38.791889999999995 L -77.819861,38.792289 L -77.819758,38.792742 L -77.819734,38.792871999999996 L -77.819633,38.793336 L -77.819463,38.79399 L -77.819352,38.794374999999995 L -77.81915099999999,38.794965 L -77.81903199999999,38.795291999999996 L -77.818896,38.795614 L -77.818743,38.79593 L -77.818604,38.79625 L -77.818461,38.79654 L -77.818311,38.796797 L -77.818084,38.797216 L -77.817652,38.797894 L -77.81707,38.798778999999996 L -77.816896,38.799043 L -77.81652299999999,38.799593 L -77.816199,38.800086 L -77.81539699999999,38.801314999999995 L -77.81504699999999,38.801839 L -77.814523,38.802648999999995 L -77.814148,38.803211999999995 L -77.813952,38.803523 L -77.813637,38.803982999999995 L -77.813133,38.804781 L -77.81298,38.80508 L -77.812896,38.805275 L -77.81285299999999,38.805386 L -77.812801,38.805538999999996 L -77.812738,38.80579 L -77.81269499999999,38.806044 L -77.812662,38.80656 L -77.812668,38.806671 L -77.81268299999999,38.806979999999996 L -77.81268399999999,38.807013 L -77.81272799999999,38.807891999999995 L -77.812766,38.808361999999995 L -77.812784,38.808671 L -77.81286,38.809975 L -77.812922,38.811054999999996 L -77.812961,38.811668999999995 L -77.81299299999999,38.812295 L -77.813041,38.812961 L -77.813062,38.813384 L -77.813104,38.814053 L -77.813148,38.814748 L -77.813181,38.815365 L -77.813206,38.81583 L -77.813313,38.817447 L -77.81335,38.817727 L -77.813407,38.818005 L -77.813465,38.818225999999996 L -77.813535,38.818445 L -77.813638,38.818725 L -77.81375799999999,38.819004 L -77.814245,38.819970999999995 L -77.814995,38.821418 L -77.815626,38.822651 L -77.815919,38.823212999999996 L -77.816054,38.823507 L -77.816172,38.823805 L -77.816273,38.824107 L -77.816356,38.824411999999995 L -77.816403,38.824656 L -77.816428,38.824853 L -77.816442,38.8251 L -77.816439,38.825404999999996 L -77.816423,38.825661 L -77.81638699999999,38.825919 L -77.816334,38.826176 L -77.81626299999999,38.826429999999995 L -77.816164,38.826746 L -77.81607799999999,38.827081 L -77.81600999999999,38.827419 L -77.815964,38.827737 L -77.81594299999999,38.828023 L -77.81594,38.828309 L -77.815947,38.828437 L -77.81508699999999,38.829204 L -77.814881,38.829266 L -77.81473199999999,38.829328 L -77.81461999999999,38.829387 L -77.814514,38.829451999999996 L -77.814166,38.82971 L -77.81197999999999,38.831354 L -77.811882,38.831429 L -77.81223899999999,38.831554 L -77.812604,38.831666999999996 L -77.813035,38.831790999999996 L -77.814464,38.832212 L -77.815879,38.832629 L -77.81649399999999,38.83282 L -77.817256,38.833068999999995 L -77.818105,38.833361 L -77.81823399999999,38.833391999999996 L -77.818383,38.833418 L -77.818469,38.833422 L -77.81857,38.83341 L -77.818592,38.833404 L -77.818651,38.833383999999995 L -77.81872299999999,38.833346999999996 L -77.818772,38.833309 L -77.818916,38.833155999999995 L -77.819146,38.833293 L -77.820194,38.833891 L -77.82051899999999,38.834083 L -77.820824,38.834281 L -77.821118,38.834489999999995 L -77.821399,38.834708 L -77.821615,38.83489 L -77.821872,38.835125999999995 L -77.822161,38.835412 L -77.822327,38.835592 L -77.822552,38.835859 L -77.82271,38.836065 L -77.82291699999999,38.836366 L -77.82309,38.836650999999996 L -77.823392,38.837182 L -77.823605,38.837578 L -77.823787,38.837934 L -77.824252,38.838805 L -77.824527,38.839331 L -77.825818,38.841754 L -77.826416,38.842884999999995 L -77.826599,38.843205 L -77.82684499999999,38.843599 L -77.82721099999999,38.844141 L -77.827488,38.844522999999995 L -77.827676,38.844767 L -77.827901,38.845045 L -77.828571,38.845836 L -77.829003,38.846316 L -77.82936,38.846694 L -77.829725,38.847066999999996 L -77.83022299999999,38.84755 L -77.83084699999999,38.848124999999996 L -77.832409,38.849511 L -77.833552,38.850514 L -77.834486,38.851329 L -77.83480999999999,38.851596 L -77.835228,38.85192 L -77.83563,38.85221 L -77.835796,38.852334 L -77.836182,38.852638 L -77.836359,38.852784 L -77.836935,38.85329 L -77.838054,38.854278 L -77.838585,38.854723 L -77.83887899999999,38.854957999999996 L -77.839394,38.855343 L -77.839901,38.855702 L -77.840369,38.856017 L -77.841797,38.856972 L -77.84239099999999,38.857369999999996 L -77.843554,38.858149999999995 L -77.844068,38.858497 L -77.842513,38.858584 L -77.840521,38.858683 L -77.839475,38.85872 L -77.838385,38.859395 L -77.836804,38.860375999999995 L -77.836483,38.860527999999995 L -77.833854,38.861534 L -77.833606,38.861568999999996 L -77.83318299999999,38.861672999999996 L -77.83281199999999,38.86182 L -77.832612,38.861928 L -77.832404,38.862088 L -77.832178,38.862297 L -77.83183799999999,38.862597 L -77.831682,38.862755 L -77.831499,38.86296 L -77.831403,38.863158 L -77.831344,38.863323 L -77.831333,38.863361999999995 L -77.83126399999999,38.863867 L -77.831214,38.864346 L -77.83114599999999,38.864836 L -77.831104,38.865148 L -77.83099399999999,38.865775 L -77.830925,38.866243 L -77.830868,38.866704 L -77.830745,38.868403 L -77.83068999999999,38.869335 L -77.830679,38.869521 L -77.830619,38.870123 L -77.830584,38.870399 L -77.830558,38.870746 L -77.830542,38.871264 L -77.830517,38.872261 L -77.83053,38.873109 L -77.830529,38.873649 L -77.83053799999999,38.8738 L -77.83056499999999,38.87395 L -77.83062199999999,38.874086999999996 L -77.830696,38.874218 L -77.830788,38.874342999999996 L -77.830863,38.874421999999996 L -77.831353,38.874915 L -77.83173699999999,38.875341 L -77.83191599999999,38.87554 L -77.832015,38.875637999999995 L -77.832105,38.875741999999995 L -77.83220399999999,38.875878 L -77.832247,38.875952999999996 L -77.83229899999999,38.876075 L -77.83233299999999,38.876200000000004 L -77.832348,38.876326999999996 L -77.832334,38.876474 L -77.832301,38.876618 L -77.832212,38.876883 L -77.831991,38.87755 L -77.831681,38.878457 L -77.831643,38.878551 L -77.831577,38.878741 L -77.83153999999999,38.878879999999995 L -77.831498,38.879109 L -77.831475,38.87934 L -77.831473,38.879501 L -77.831485,38.879636 L -77.83151699999999,38.879802999999995 L -77.83156699999999,38.879967 L -77.831636,38.880128 L -77.831749,38.880337 L -77.83180999999999,38.880413999999995 L -77.831921,38.88051 L -77.83199499999999,38.880555 L -77.832793,38.881085 L -77.832878,38.881136999999995 L -77.83301,38.881234 L -77.833128,38.881341 L -77.833743,38.882024 L -77.834047,38.882351 L -77.834578,38.882901 L -77.83512499999999,38.883441 L -77.83535499999999,38.883649999999996 L -77.835571,38.883866999999995 L -77.835773,38.884093 L -77.836372,38.884662999999996 L -77.837035,38.885251 L -77.837779,38.885892 L -77.83810199999999,38.886154999999995 L -77.838151,38.886210999999996 L -77.838184,38.886272999999996 L -77.838199,38.88634 L -77.838195,38.886407 L -77.838168,38.886493 L -77.83816399999999,38.88655 L -77.838179,38.886604999999996 L -77.83822599999999,38.88668 L -77.838292,38.886759999999995 L -77.83837299999999,38.886832 L -77.838411,38.886856 L -77.838455,38.886873 L -77.838635,38.886900000000004 L -77.83869,38.886917 L -77.83882899999999,38.886975 L -77.83899699999999,38.887056 L -77.839036,38.887074 L -77.839434,38.8873 L -77.84002699999999,38.887667 L -77.840218,38.887775999999995 L -77.840806,38.888115 L -77.841939,38.888767 L -77.842869,38.889325 L -77.843003,38.889401 L -77.84333199999999,38.889601 L -77.843583,38.889768 L -77.843898,38.889969 L -77.84441,38.890228 L -77.844803,38.890433 L -77.845364,38.890746 L -77.84575199999999,38.890988 L -77.845995,38.891116 L -77.846137,38.891208999999996 L -77.84624099999999,38.891298 L -77.84626399999999,38.891332 L -77.846278,38.891379 L -77.846204,38.891996 L -77.846169,38.892427 L -77.846122,38.892916 L -77.846065,38.893173 L -77.846024,38.893361 L -77.84599,38.893636 L -77.84592599999999,38.894269 L -77.84592599999999,38.894307999999995 L -77.845936,38.894385 L -77.845964,38.89448 L -77.84598199999999,38.894507 L -77.84602199999999,38.894546 L -77.846063,38.89457 L -77.84611799999999,38.894588999999996 L -77.84620000000001,38.894594999999995 L -77.846263,38.894585 L -77.846586,38.894456999999996 L -77.849074,38.893429 L -77.85022599999999,38.892976 L -77.850726,38.892770999999996 L -77.850982,38.892666 L -77.85149899999999,38.892444 L -77.851886,38.892303 L -77.85205599999999,38.892253 L -77.85219599999999,38.892224999999996 L -77.852375,38.892202 L -77.852488,38.89187 L -77.852583,38.89165 L -77.852673,38.891478 L -77.852835,38.891213 L -77.85291,38.891113 L -77.853067,38.890903 L -77.853871,38.889876 L -77.854058,38.889647 L -77.854247,38.889379 L -77.854353,38.889209 L -77.85444199999999,38.889033999999995 L -77.854557,38.888768999999996 L -77.85519099999999,38.887104 L -77.85521399999999,38.887032999999995 L -77.85526899999999,38.886829 L -77.855294,38.886691 L -77.855313,38.886462 L -77.855311,38.886252999999996 L -77.855294,38.885965 L -77.855248,38.885432 L -77.855246,38.885267 L -77.855263,38.885059999999996 L -77.85530899999999,38.884741999999996 L -77.85535999999999,38.884465 L -77.85541099999999,38.88418 L -77.855426,38.883975 L -77.85542699999999,38.883852 L -77.855415,38.883646999999996 L -77.855386,38.883493 L -77.855368,38.88343 L -77.85530899999999,38.883269 L -77.855211,38.883068 L -77.854906,38.882567 L -77.854677,38.882208 L -77.85464,38.882138999999995 L -77.854581,38.882028 L -77.854503,38.881844 L -77.854479,38.881769999999996 L -77.85444,38.881647 L -77.854413,38.881504 L -77.854405,38.881296 L -77.85441399999999,38.881127 L -77.854451,38.880922999999996 L -77.854469,38.880857999999996 L -77.85451599999999,38.880728 L -77.854632,38.880438 L -77.854681,38.880331 L -77.855431,38.878698 L -77.855465,38.878616 L -77.85563599999999,38.878184999999995 L -77.85567499999999,38.877946 L -77.855683,38.877796 L -77.85569,38.877646999999996 L -77.85570899999999,38.877258 L -77.857067,38.877219 L -77.85815,38.877058 L -77.858851,38.87676 L -77.859786,38.87605 L -77.861757,38.873954 L -77.862327,38.873348 L -77.863145,38.872844 L -77.864113,38.872332 L -77.86449,38.872133 L -77.86452299999999,38.872129 L -77.864694,38.87211 L -77.866547,38.871237 L -77.867032,38.871009 L -77.871241,38.869312 L -77.87244,38.869012999999995 L -77.873318,38.868989 L -77.87530799999999,38.869398 L -77.876655,38.869945 L -77.87701299999999,38.870134 L -77.87768,38.870492999999996 L -77.880026,38.872296999999996 L -77.88036799999999,38.872845 L -77.880755,38.873456 L -77.88102599999999,38.874383 L -77.88108299999999,38.874586 L -77.881057,38.875122 z\" /></g></svg>"
      ],
      "text/plain": [
       "<shapely.geometry.polygon.Polygon at 0x7fc61cd7c550>"
      ]
     },
     "metadata": {},
     "output_type": "display_data"
    },
    {
     "data": {
      "image/svg+xml": [
       "<svg xmlns=\"http://www.w3.org/2000/svg\" xmlns:xlink=\"http://www.w3.org/1999/xlink\" width=\"100.0\" height=\"100.0\" viewBox=\"-77.89011955999999 38.75418344 0.24398711999998568 0.23587312000000082\" preserveAspectRatio=\"xMinYMin meet\"><g transform=\"matrix(1,0,0,-1,0,77.74423999999999)\"><path fill-rule=\"evenodd\" fill=\"#66cc99\" stroke=\"#555555\" stroke-width=\"0.004879742399999713\" opacity=\"0.6\" d=\"M -77.881057,38.875122 L -77.881055,38.875268999999996 L -77.880015,38.877649 L -77.878501,38.880722999999996 L -77.87834699999999,38.881032999999995 L -77.87723799999999,38.882912 L -77.87641099999999,38.883842 L -77.875861,38.884459 L -77.87491,38.885529 L -77.87466599999999,38.885788999999995 L -77.873487,38.887226 L -77.872894,38.887969 L -77.870265,38.892254 L -77.870134,38.892562 L -77.86948,38.894149999999996 L -77.868107,38.896488 L -77.867494,38.897861999999996 L -77.867206,38.899093 L -77.86679699999999,38.900171 L -77.866626,38.901655999999996 L -77.866215,38.902508 L -77.8656,38.903562 L -77.864582,38.904748 L -77.864432,38.90503 L -77.864233,38.905409 L -77.86388199999999,38.905984 L -77.863474,38.907266 L -77.863534,38.907768999999995 L -77.863743,38.908252 L -77.864335,38.909012 L -77.864944,38.909766999999995 L -77.866878,38.911408 L -77.867122,38.911755 L -77.867286,38.912002 L -77.86749499999999,38.912853999999996 L -77.867526,38.913002 L -77.86747199999999,38.914356 L -77.86800199999999,38.915154 L -77.86810799999999,38.915223999999995 L -77.868516,38.91544 L -77.86872699999999,38.915562 L -77.86944799999999,38.915690999999995 L -77.870927,38.915994 L -77.871894,38.91663 L -77.87207599999999,38.916751999999995 L -77.87257,38.917480999999995 L -77.872866,38.918729 L -77.872954,38.920156 L -77.87296099999999,38.920255999999995 L -77.872991,38.920665 L -77.87431,38.923764999999996 L -77.875104,38.924634 L -77.87785099999999,38.926347 L -77.879466,38.926893 L -77.87984,38.92689 L -77.879784,38.926988 L -77.879637,38.927274 L -77.87948899999999,38.927619 L -77.87941099999999,38.927757 L -77.87938299999999,38.927783999999996 L -77.879235,38.928097 L -77.879081,38.928311 L -77.878954,38.928436999999995 L -77.87867299999999,38.928650999999995 L -77.878188,38.928947 L -77.878012,38.929072999999995 L -77.877808,38.929187999999996 L -77.877759,38.929204999999996 L -77.877653,38.929199 L -77.877569,38.929161 L -77.877541,38.929117 L -77.87754799999999,38.929024 L -77.877844,38.928283 L -77.87796399999999,38.927965 L -77.87799199999999,38.927761 L -77.87795,38.927613 L -77.87785099999999,38.927476 L -77.87739499999999,38.926971 L -77.87671399999999,38.926229 L -77.87657399999999,38.92612 L -77.87563899999999,38.925509999999996 L -77.875394,38.925360999999995 L -77.874715,38.925048 L -77.874715,38.925028 L -77.874476,38.924924 L -77.874371,38.924890999999995 L -77.87418799999999,38.924847 L -77.87392799999999,38.924831 L -77.87396,38.924884 L -77.873452,38.925153 L -77.87278599999999,38.925404 L -77.872616,38.925525 L -77.87256699999999,38.925622 L -77.872552,38.92615 L -77.873277,38.927980999999996 L -77.873496,38.928329999999995 L -77.873573,38.928608 L -77.87348899999999,38.929027999999995 L -77.87355699999999,38.929195 L -77.87400199999999,38.929762 L -77.874719,38.93022 L -77.875191,38.930521999999996 L -77.875363,38.93081 L -77.875331,38.930982 L -77.874714,38.931329 L -77.874476,38.931464 L -77.874214,38.931658 L -77.873965,38.931726 L -77.873746,38.931685 L -77.87312899999999,38.931381 L -77.87201999999999,38.931135999999995 L -77.871641,38.930937 L -77.871134,38.930783999999996 L -77.870812,38.930749 L -77.87054599999999,38.930772999999995 L -77.870254,38.93087 L -77.870044,38.931003 L -77.86955499999999,38.931415 L -77.869299,38.931785999999995 L -77.869205,38.932235999999996 L -77.869197,38.932838 L -77.869244,38.933225 L -77.86939199999999,38.933738 L -77.869942,38.935012 L -77.870285,38.935472 L -77.87059599999999,38.935537 L -77.870739,38.935625 L -77.871005,38.935955 L -77.871076,38.936122 L -77.871102,38.93664 L -77.871107,38.936659999999996 L -77.87123799999999,38.93719 L -77.871222,38.937365 L -77.870926,38.937581 L -77.87064099999999,38.937694 L -77.870464,38.937701 L -77.869755,38.937391999999996 L -77.86953199999999,38.937355 L -77.86939799999999,38.937377999999995 L -77.868898,38.937661 L -77.86840099999999,38.937942 L -77.867961,38.938029 L -77.867672,38.938137 L -77.867221,38.938784999999996 L -77.867092,38.938885 L -77.866783,38.938942999999995 L -77.866436,38.938853 L -77.866252,38.938853 L -77.865658,38.939028 L -77.86388199999999,38.940037 L -77.863151,38.940571 L -77.862349,38.940940999999995 L -77.86180999999999,38.941207 L -77.860879,38.941877 L -77.860254,38.942181 L -77.86008799999999,38.942302999999995 L -77.85999,38.942459 L -77.859973,38.942693999999996 L -77.85935099999999,38.943103 L -77.859102,38.943394999999995 L -77.85869199999999,38.944755 L -77.858122,38.945645999999996 L -77.85783599999999,38.946314 L -77.857722,38.946731 L -77.857732,38.946979 L -77.857777,38.947078999999995 L -77.857939,38.947142 L -77.858257,38.94716 L -77.85873099999999,38.947089999999996 L -77.858941,38.947162999999996 L -77.86045,38.948079 L -77.860554,38.948195999999996 L -77.86054,38.948371 L -77.860231,38.94884 L -77.858825,38.950505 L -77.858525,38.950674 L -77.858312,38.950904 L -77.858093,38.951583 L -77.857942,38.951803 L -77.85675599999999,38.952819 L -77.85651899999999,38.95316 L -77.855958,38.953407 L -77.85548399999999,38.953416 L -77.85537099999999,38.953418 L -77.854929,38.953329 L -77.85466,38.953368 L -77.854501,38.953437 L -77.854344,38.953562 L -77.854053,38.954084 L -77.853749,38.954394 L -77.853431,38.95482 L -77.85287799999999,38.955065 L -77.852612,38.955056 L -77.85239899999999,38.955093999999995 L -77.85229199999999,38.95516 L -77.852071,38.955144 L -77.85121,38.955258 L -77.849004,38.955341 L -77.847681,38.955065999999995 L -77.847392,38.954868999999995 L -77.84698499999999,38.95491 L -77.846344,38.954848 L -77.84580299999999,38.954902 L -77.845497,38.955026 L -77.845444,38.955481 L -77.845181,38.955967 L -77.84531799999999,38.957267 L -77.845235,38.957831 L -77.845293,38.958073999999996 L -77.845582,38.958667999999996 L -77.845524,38.959015 L -77.84523999999999,38.959492999999995 L -77.84503099999999,38.959676 L -77.844094,38.960238 L -77.842957,38.960705999999995 L -77.84266099999999,38.960692 L -77.84237,38.960795 L -77.842218,38.961012 L -77.84208699999999,38.96111 L -77.839945,38.961551 L -77.83890699999999,38.961617 L -77.837294,38.961529999999996 L -77.836688,38.961268 L -77.83578899999999,38.961106 L -77.835126,38.960812 L -77.834852,38.960803999999996 L -77.834411,38.960899 L -77.833845,38.961166 L -77.832629,38.962 L -77.832257,38.962205999999995 L -77.831992,38.962261 L -77.83172499999999,38.962247999999995 L -77.830942,38.961901999999995 L -77.830788,38.961925 L -77.830651,38.962019999999995 L -77.83022799999999,38.962545 L -77.829931,38.962806 L -77.829859,38.963045 L -77.829872,38.963702999999995 L -77.82982299999999,38.964012 L -77.829762,38.964104999999996 L -77.829371,38.964369999999995 L -77.829295,38.964497 L -77.829291,38.96467 L -77.829482,38.964862 L -77.83034099999999,38.965317999999996 L -77.83120199999999,38.965728 L -77.831791,38.965933 L -77.83228,38.966037 L -77.832692,38.966052 L -77.833589,38.965803 L -77.833845,38.965861 L -77.833959,38.96597 L -77.833981,38.96611 L -77.83383599999999,38.966662 L -77.833789,38.967082999999995 L -77.83399399999999,38.967693 L -77.83399,38.968008999999995 L -77.833865,38.968233999999995 L -77.833291,38.968818999999996 L -77.83247999999999,38.969274 L -77.83149,38.969425 L -77.831052,38.969614 L -77.830744,38.969595999999996 L -77.829619,38.969781999999995 L -77.829583,38.969788 L -77.828116,38.970149 L -77.82791,38.970136 L -77.827721,38.970231 L -77.826876,38.970318999999996 L -77.826644,38.970431 L -77.82649099999999,38.970605 L -77.826324,38.971368999999996 L -77.826134,38.971804 L -77.82600099999999,38.972570999999995 L -77.82561,38.973244 L -77.82475099999999,38.974365 L -77.824688,38.974499 L -77.824681,38.974744 L -77.82484199999999,38.97497 L -77.824676,38.975133 L -77.82440199999999,38.975769 L -77.82432299999999,38.976113 L -77.824339,38.9765 L -77.824445,38.976648999999995 L -77.824417,38.976835 L -77.824568,38.977056999999995 L -77.82461599999999,38.977264999999996 L -77.824547,38.977716 L -77.824283,38.97815 L -77.82405299999999,38.978415999999996 L -77.823871,38.978521 L -77.823483,38.979039 L -77.82315899999999,38.979290999999996 L -77.8224,38.979686 L -77.822085,38.979724 L -77.821497,38.979672 L -77.82129599999999,38.979757 L -77.820972,38.980094 L -77.820928,38.980202 L -77.82086799999999,38.980349 L -77.820689,38.980787 L -77.82035499999999,38.98102 L -77.82025999999999,38.980998 L -77.820128,38.980967 L -77.818012,38.980478 L -77.81787899999999,38.980447 L -77.81773799999999,38.980413999999996 L -77.817332,38.980320999999996 L -77.81517,38.979821 L -77.812202,38.979133999999995 L -77.81206499999999,38.979102 L -77.810273,38.978687 L -77.809141,38.978426 L -77.806468,38.977807 L -77.804293,38.977304 L -77.804002,38.977236 L -77.803974,38.97723 L -77.801864,38.976741 L -77.801825,38.976732 L -77.800264,38.976371 L -77.799041,38.976088 L -77.797286,38.975681 L -77.797225,38.975667 L -77.794504,38.975038 L -77.79252699999999,38.974579999999996 L -77.792417,38.974554999999995 L -77.791217,38.974275999999996 L -77.791168,38.974266 L -77.789215,38.973813 L -77.787044,38.973309 L -77.78684799999999,38.973264 L -77.784427,38.972702 L -77.78435999999999,38.972688 L -77.78416,38.972642 L -77.78337499999999,38.97246 L -77.78334699999999,38.972453 L -77.782336,38.972218999999996 L -77.78196299999999,38.972131 L -77.781247,38.971967 L -77.781187,38.971952 L -77.78106799999999,38.971925 L -77.781018,38.971914 L -77.78098399999999,38.971906 L -77.780926,38.971892 L -77.779085,38.971466 L -77.77900000000001,38.971446 L -77.778915,38.971426 L -77.778454,38.971319 L -77.77761,38.971123999999996 L -77.777515,38.971103 L -77.77743199999999,38.971083 L -77.776995,38.970982 L -77.77577099999999,38.970698 L -77.774096,38.97031 L -77.771281,38.969657 L -77.77119499999999,38.969637999999996 L -77.771164,38.969629999999995 L -77.771057,38.969605 L -77.769973,38.969353999999996 L -77.769164,38.969167 L -77.76816,38.968934 L -77.76816,38.968923 L -77.768092,38.968917 L -77.768067,38.968911 L -77.767179,38.968706999999995 L -77.766638,38.968581 L -77.766071,38.96845 L -77.76585299999999,38.968399 L -77.765213,38.968250999999995 L -77.76175099999999,38.967448 L -77.760137,38.967074 L -77.760048,38.967053 L -77.760002,38.967043 L -77.759846,38.967006 L -77.75616699999999,38.966153 L -77.755782,38.966063 L -77.75566599999999,38.966037 L -77.755607,38.966023 L -77.751976,38.965181 L -77.749168,38.964529 L -77.747108,38.964051 L -77.747036,38.964034999999996 L -77.74626599999999,38.963856 L -77.745851,38.96376 L -77.745773,38.963741 L -77.74054799999999,38.962528999999996 L -77.740496,38.962517 L -77.740443,38.962505 L -77.740431,38.962502 L -77.739094,38.962191 L -77.738674,38.962094 L -77.737552,38.961833999999996 L -77.73742299999999,38.961802999999996 L -77.73693399999999,38.96169 L -77.73662399999999,38.961617 L -77.734588,38.961144999999995 L -77.73419799999999,38.961055 L -77.734026,38.961014999999996 L -77.73392799999999,38.960992999999995 L -77.731782,38.960494 L -77.731708,38.960477 L -77.728978,38.959843 L -77.728134,38.959648 L -77.727987,38.959613 L -77.726596,38.959289999999996 L -77.72605899999999,38.959165 L -77.723754,38.95863 L -77.723278,38.958518999999995 L -77.72323899999999,38.95851 L -77.72317699999999,38.958496 L -77.723129,38.958484 L -77.71783599999999,38.957254999999996 L -77.71567999999999,38.956754 L -77.713804,38.956317 L -77.713736,38.956303 L -77.707533,38.954861 L -77.706935,38.954722 L -77.705013,38.954274999999996 L -77.700271,38.953173 L -77.696664,38.952334 L -77.696529,38.952303 L -77.694159,38.951751 L -77.690693,38.950945 L -77.688751,38.950494 L -77.684157,38.949425 L -77.68396899999999,38.949380999999995 L -77.677076,38.947776999999995 L -77.674953,38.947283 L -77.673514,38.946948 L -77.67342,38.946926 L -77.673313,38.946901 L -77.671858,38.946562 L -77.67181699999999,38.946553 L -77.666817,38.945389 L -77.66292899999999,38.944483 L -77.658739,38.943508 L -77.657581,38.943231 L -77.655169,38.942656 L -77.65524599999999,38.942535 L -77.655671,38.941880999999995 L -77.655714,38.941812 L -77.655734,38.941767 L -77.655743,38.941749 L -77.655791,38.941687 L -77.65583099999999,38.941624999999995 L -77.655869,38.941572 L -77.65592,38.941461 L -77.655953,38.941387 L -77.65599,38.941299 L -77.656036,38.941192 L -77.656063,38.941142 L -77.65612899999999,38.941033999999995 L -77.65614099999999,38.940979999999996 L -77.656211,38.940794 L -77.656244,38.940735 L -77.656266,38.940658 L -77.656291,38.940591999999995 L -77.656328,38.940501 L -77.65638799999999,38.940363999999995 L -77.656425,38.940281999999996 L -77.656506,38.94012 L -77.656561,38.940021 L -77.656604,38.939955999999995 L -77.65666,38.939862999999995 L -77.656697,38.939806999999995 L -77.656758,38.939673 L -77.65678299999999,38.939558 L -77.656792,38.939471 L -77.656801,38.939403999999996 L -77.656804,38.939343 L -77.656825,38.939229 L -77.656841,38.939157 L -77.65684,38.939108 L -77.656832,38.939023 L -77.65683,38.938998 L -77.65682,38.938888999999996 L -77.65682199999999,38.938749 L -77.65683,38.938629 L -77.656837,38.938483 L -77.65684999999999,38.938320999999995 L -77.65687,38.938221999999996 L -77.656886,38.938102 L -77.656905,38.938022 L -77.656915,38.93792 L -77.656919,38.937858 L -77.656919,38.937812 L -77.65690699999999,38.937765999999996 L -77.656893,38.937708 L -77.65687799999999,38.937655 L -77.656835,38.937597 L -77.656781,38.937528 L -77.656747,38.937470999999995 L -77.65670399999999,38.937388999999996 L -77.656678,38.937315999999996 L -77.656671,38.937269 L -77.656649,38.937169999999995 L -77.65664799999999,38.937107999999995 L -77.656668,38.936935 L -77.656702,38.936859 L -77.65673,38.936786 L -77.656759,38.936734 L -77.656792,38.936699 L -77.656829,38.936659 L -77.656909,38.936574 L -77.656959,38.936532 L -77.65702399999999,38.936454999999995 L -77.65706899999999,38.936401 L -77.657127,38.936327 L -77.65722699999999,38.936217 L -77.657288,38.936142 L -77.657352,38.936054999999996 L -77.65741,38.935987999999995 L -77.65746899999999,38.935914 L -77.657507,38.935857 L -77.657533,38.935815 L -77.657558,38.935772 L -77.657601,38.935671 L -77.657614,38.935621999999995 L -77.65762699999999,38.935567 L -77.65763299999999,38.935514999999995 L -77.657631,38.935448 L -77.657611,38.935404 L -77.65758699999999,38.935352 L -77.657567,38.935300000000005 L -77.657551,38.935246 L -77.65754,38.935192 L -77.657533,38.935137 L -77.657532,38.935083 L -77.657534,38.935027999999996 L -77.65754199999999,38.934976 L -77.657622,38.934723999999996 L -77.657662,38.934689999999996 L -77.65768,38.934664 L -77.657718,38.934618 L -77.657759,38.934573 L -77.657805,38.934532 L -77.657853,38.934492 L -77.657905,38.934455 L -77.65796,38.934419999999996 L -77.658018,38.934388999999996 L -77.658078,38.934360999999996 L -77.65814,38.934335999999995 L -77.658204,38.934312999999996 L -77.658271,38.934295 L -77.658338,38.93428 L -77.658411,38.934267999999996 L -77.658642,38.934213 L -77.65888199999999,38.934168 L -77.65908,38.934121999999995 L -77.659185,38.934093 L -77.659319,38.934052 L -77.659431,38.934000000000005 L -77.659596,38.933915999999996 L -77.659702,38.933834999999995 L -77.659774,38.933762 L -77.65978299999999,38.933752999999996 L -77.65986199999999,38.933673999999996 L -77.659932,38.933594 L -77.66002,38.933461 L -77.66008099999999,38.933358999999996 L -77.660124,38.933279 L -77.660158,38.933240999999995 L -77.66019,38.933144 L -77.66024,38.933033 L -77.660325,38.932851 L -77.660335,38.932829999999996 L -77.660456,38.932593 L -77.66054299999999,38.932441 L -77.660586,38.932386 L -77.660624,38.932324 L -77.660658,38.932262 L -77.660688,38.932167 L -77.660697,38.932112 L -77.660697,38.932047 L -77.660735,38.93193 L -77.660789,38.931832 L -77.660816,38.931788 L -77.66086399999999,38.931715 L -77.660967,38.931560999999995 L -77.661037,38.931467999999995 L -77.661124,38.931359 L -77.66118399999999,38.931301 L -77.661236,38.931245 L -77.66128499999999,38.931177 L -77.66137499999999,38.931056999999996 L -77.661463,38.930955 L -77.66148799999999,38.930928 L -77.661565,38.930816 L -77.661609,38.930752 L -77.661658,38.930672 L -77.66172,38.930597 L -77.66179,38.930505 L -77.661887,38.930377 L -77.662009,38.930234999999996 L -77.662067,38.930169 L -77.662177,38.930039 L -77.662238,38.929972 L -77.66232099999999,38.929888 L -77.66240499999999,38.929801999999995 L -77.662449,38.929761 L -77.662497,38.929683 L -77.662542,38.92959 L -77.66258499999999,38.929494 L -77.662618,38.929404 L -77.662655,38.929249999999996 L -77.662667,38.929193999999995 L -77.662674,38.929161 L -77.66268099999999,38.929131999999996 L -77.662702,38.929046 L -77.662759,38.928906999999995 L -77.662784,38.928827 L -77.662792,38.928805 L -77.66281699999999,38.928723999999995 L -77.662851,38.928629 L -77.66288999999999,38.928539 L -77.662914,38.928492 L -77.66292,38.928481 L -77.662977,38.928346 L -77.663001,38.928281999999996 L -77.66303099999999,38.928205999999996 L -77.663046,38.928121 L -77.66308599999999,38.927987 L -77.66314,38.927901 L -77.663218,38.927792 L -77.663246,38.927757 L -77.6633,38.92769 L -77.663366,38.927623 L -77.663428,38.927564 L -77.663442,38.92755 L -77.66351999999999,38.927468999999995 L -77.663564,38.927409999999995 L -77.663615,38.927323 L -77.663674,38.927229 L -77.663708,38.927116 L -77.66373,38.927042 L -77.663732,38.927022 L -77.663735,38.926984999999995 L -77.663737,38.926912 L -77.66373,38.926836 L -77.663718,38.92676 L -77.66371199999999,38.926682 L -77.663691,38.926576 L -77.663658,38.926513 L -77.66364,38.926497999999995 L -77.66358699999999,38.926454 L -77.66355,38.926404999999995 L -77.663416,38.926293 L -77.66340799999999,38.926286 L -77.663304,38.926196 L -77.663253,38.926138 L -77.663207,38.926092 L -77.663157,38.926064 L -77.66309199999999,38.926049 L -77.663077,38.926044999999995 L -77.663017,38.926048 L -77.66290599999999,38.926034 L -77.662843,38.926010999999995 L -77.66279899999999,38.925974 L -77.662753,38.92593 L -77.662683,38.925865 L -77.66264799999999,38.925822 L -77.662615,38.925764 L -77.662578,38.925697 L -77.662543,38.925639 L -77.662534,38.925618 L -77.662522,38.925592 L -77.662528,38.925526999999995 L -77.66255699999999,38.925478999999996 L -77.662607,38.925428 L -77.66266499999999,38.925374999999995 L -77.66269799999999,38.925335 L -77.662746,38.925281999999996 L -77.662774,38.925239 L -77.662888,38.925055 L -77.66296899999999,38.924918999999996 L -77.663044,38.924786999999995 L -77.663107,38.924665999999995 L -77.66315999999999,38.924589 L -77.66320999999999,38.924515 L -77.663241,38.924468 L -77.663292,38.924381 L -77.66333399999999,38.924318 L -77.663376,38.924233 L -77.663415,38.924163 L -77.66345299999999,38.924068999999996 L -77.66347999999999,38.924001 L -77.663641,38.923477 L -77.663645,38.923458 L -77.66364,38.923369 L -77.663624,38.92331 L -77.66360499999999,38.923251 L -77.66357699999999,38.92319 L -77.66358,38.923103 L -77.663603,38.923027 L -77.663612,38.922967 L -77.66363199999999,38.922867 L -77.663659,38.922779999999996 L -77.66369,38.922666 L -77.66372299999999,38.922561 L -77.66375099999999,38.922452 L -77.663793,38.922317 L -77.66381799999999,38.922247 L -77.66384599999999,38.922184 L -77.663883,38.922097 L -77.663913,38.922039999999996 L -77.66392499999999,38.922017 L -77.663961,38.921946999999996 L -77.66398099999999,38.921909 L -77.663995,38.92188 L -77.66406599999999,38.921729 L -77.66408899999999,38.921648 L -77.664095,38.921624 L -77.664108,38.921552 L -77.66410599999999,38.921496999999995 L -77.664068,38.921441 L -77.664029,38.921423 L -77.66399899999999,38.921408 L -77.66395,38.921389999999995 L -77.66390899999999,38.921374 L -77.663882,38.921358999999995 L -77.663806,38.921316 L -77.663746,38.921276 L -77.663697,38.921228 L -77.663687,38.921202 L -77.663676,38.921172999999996 L -77.663657,38.921113 L -77.663653,38.921036 L -77.663653,38.920949 L -77.66366099999999,38.920874999999995 L -77.66368,38.920815999999995 L -77.663691,38.920758 L -77.663703,38.920691999999995 L -77.66372799999999,38.920629 L -77.663744,38.920587999999995 L -77.663775,38.920503 L -77.663791,38.920459 L -77.663827,38.920384 L -77.66383499999999,38.920365 L -77.66387,38.920288 L -77.66391999999999,38.920198 L -77.66395899999999,38.920114 L -77.66396999999999,38.920089999999995 L -77.664003,38.920024999999995 L -77.664059,38.919959 L -77.66411699999999,38.919906 L -77.66415099999999,38.919866999999996 L -77.66416,38.919857 L -77.66422,38.919739 L -77.664242,38.919666 L -77.664254,38.919612 L -77.664276,38.919542 L -77.664329,38.91945 L -77.66436999999999,38.919408 L -77.66442099999999,38.919366 L -77.66445499999999,38.91934 L -77.664484,38.919319 L -77.664513,38.919306 L -77.66455599999999,38.91928 L -77.664596,38.919244 L -77.664676,38.919191 L -77.66469699999999,38.91917 L -77.664716,38.919152 L -77.664761,38.919107 L -77.664821,38.919027 L -77.66483199999999,38.919013 L -77.66493299999999,38.918942 L -77.664982,38.918884999999996 L -77.665026,38.918839 L -77.66506199999999,38.918800000000005 L -77.665071,38.918776 L -77.665086,38.918735999999996 L -77.66511299999999,38.918673999999996 L -77.665134,38.918625 L -77.665162,38.918576 L -77.66518099999999,38.918534 L -77.665207,38.918487999999996 L -77.665238,38.918425 L -77.665273,38.918329 L -77.665281,38.918279999999996 L -77.665289,38.918217 L -77.66528699999999,38.918155999999996 L -77.665289,38.918112 L -77.66529,38.918065999999996 L -77.665294,38.917989999999996 L -77.665303,38.917942 L -77.66530999999999,38.917905 L -77.665306,38.917848 L -77.66530399999999,38.917788 L -77.66528699999999,38.917708 L -77.665277,38.917671 L -77.665266,38.917632999999995 L -77.66527599999999,38.917570999999995 L -77.665295,38.917515 L -77.66529799999999,38.917442 L -77.66529899999999,38.91739 L -77.6653,38.917361 L -77.66528699999999,38.917294999999996 L -77.665278,38.917227 L -77.665273,38.917179 L -77.66525899999999,38.917100000000005 L -77.665235,38.917021 L -77.665219,38.916945999999996 L -77.665221,38.916897 L -77.665218,38.916813 L -77.665221,38.916736 L -77.665486,38.916454 L -77.66562499999999,38.916315999999995 L -77.665654,38.916241 L -77.665675,38.916185 L -77.665733,38.916035 L -77.665797,38.915867 L -77.666254,38.915735 L -77.66628399999999,38.915721 L -77.666392,38.915529 L -77.666484,38.915365 L -77.666496,38.915344999999995 L -77.666567,38.915217999999996 L -77.66676799999999,38.914911 L -77.66680699999999,38.914842 L -77.66684599999999,38.914812 L -77.666945,38.914738 L -77.66705499999999,38.914662 L -77.667159,38.914572 L -77.667194,38.914545 L -77.667266,38.914488 L -77.66739,38.914387999999995 L -77.667481,38.914314999999995 L -77.667605,38.914211 L -77.66762,38.914197 L -77.667729,38.914097 L -77.66779,38.914032999999996 L -77.667875,38.913948999999995 L -77.66793799999999,38.913880999999996 L -77.668032,38.913775 L -77.66812399999999,38.913678999999995 L -77.668167,38.913627999999996 L -77.66819799999999,38.913589 L -77.668224,38.91355 L -77.668249,38.913499 L -77.668309,38.913419999999995 L -77.66833799999999,38.913376 L -77.66839,38.913305 L -77.66842299999999,38.913264 L -77.66845099999999,38.913213 L -77.668475,38.913171 L -77.668515,38.913137 L -77.66854,38.913086 L -77.66852999999999,38.913032 L -77.668488,38.912988 L -77.668449,38.91297 L -77.66842299999999,38.912957999999996 L -77.668391,38.912912 L -77.668388,38.912856 L -77.668347,38.912816 L -77.66829899999999,38.912774999999996 L -77.668272,38.912725 L -77.668275,38.912670999999996 L -77.668309,38.912622999999996 L -77.668382,38.912600999999995 L -77.668449,38.912569 L -77.668492,38.912529 L -77.668506,38.912475 L -77.66850000000001,38.912396 L -77.66850199999999,38.912375999999995 L -77.668504,38.912346 L -77.668505,38.912329 L -77.66852399999999,38.912262999999996 L -77.668528,38.912251 L -77.668578,38.91218 L -77.668613,38.912137 L -77.66861999999999,38.912127999999996 L -77.66865299999999,38.912078 L -77.668685,38.912017999999996 L -77.668692,38.912006 L -77.668714,38.911957 L -77.66873,38.911908 L -77.66875999999999,38.911851999999996 L -77.668792,38.91177 L -77.668831,38.911679 L -77.668886,38.911564 L -77.66890599999999,38.911508 L -77.668913,38.91149 L -77.668927,38.911435999999995 L -77.66893499999999,38.911387999999995 L -77.668936,38.911324 L -77.668936,38.911274 L -77.668944,38.911229 L -77.66895,38.911184999999996 L -77.668965,38.911093 L -77.668979,38.911016 L -77.668988,38.910959 L -77.66899099999999,38.910944 L -77.669006,38.910848 L -77.66902999999999,38.910775 L -77.669054,38.910719 L -77.669068,38.910689999999995 L -77.669116,38.910588 L -77.66917,38.910483 L -77.669195,38.910435 L -77.669249,38.910334999999996 L -77.669327,38.910193 L -77.669377,38.910112999999996 L -77.669435,38.910016999999996 L -77.669484,38.909938 L -77.66955,38.909832 L -77.669607,38.909746999999996 L -77.669643,38.909697 L -77.669654,38.909683 L -77.66973399999999,38.909585 L -77.66981299999999,38.909486 L -77.669896,38.909394 L -77.669967,38.909312 L -77.670007,38.909264 L -77.670042,38.909223999999995 L -77.67011,38.909138 L -77.670165,38.909065999999996 L -77.670191,38.90903 L -77.670239,38.908964999999995 L -77.670289,38.908893 L -77.670323,38.908839 L -77.670355,38.908788 L -77.670382,38.908747999999996 L -77.670412,38.908698 L -77.67042,38.908649 L -77.670413,38.908587 L -77.670425,38.908499 L -77.670428,38.908473 L -77.670463,38.908358 L -77.67049899999999,38.908263 L -77.670557,38.908153999999996 L -77.670636,38.908015999999996 L -77.670662,38.907978 L -77.67072,38.907894999999996 L -77.670836,38.907737 L -77.670953,38.907592 L -77.67102899999999,38.907509999999995 L -77.67107,38.907467 L -77.671137,38.907394 L -77.67122499999999,38.907312 L -77.671238,38.907298999999995 L -77.671267,38.90727 L -77.671312,38.90724 L -77.67137,38.907207 L -77.671433,38.907174999999995 L -77.671483,38.907143999999995 L -77.67151199999999,38.907114 L -77.672406,38.90591 L -77.672468,38.905792 L -77.672563,38.905604 L -77.67262199999999,38.905476 L -77.67268,38.905333 L -77.672713,38.905274 L -77.67278,38.905229999999996 L -77.672842,38.905221 L -77.67290899999999,38.905198999999996 L -77.67294299999999,38.905147 L -77.672952,38.905122 L -77.672962,38.905091 L -77.67294,38.905032 L -77.672898,38.904973 L -77.672878,38.904914999999995 L -77.67292499999999,38.90484 L -77.67295,38.904814 L -77.672974,38.904787999999996 L -77.673048,38.904742 L -77.673113,38.904697999999996 L -77.673165,38.904669 L -77.673206,38.904624999999996 L -77.673233,38.904596999999995 L -77.67335899999999,38.904478999999995 L -77.67343,38.904404 L -77.67346599999999,38.904367 L -77.67357799999999,38.904236 L -77.673625,38.904191 L -77.673678,38.904139 L -77.673746,38.904069 L -77.673795,38.904008 L -77.673825,38.903973 L -77.673857,38.903936 L -77.673913,38.903864999999996 L -77.673945,38.903779 L -77.673966,38.903726999999996 L -77.67399,38.903672 L -77.67401699999999,38.903617 L -77.674072,38.903535999999995 L -77.674103,38.903479 L -77.67412999999999,38.903428999999996 L -77.674217,38.903269 L -77.674249,38.903220999999995 L -77.67429,38.903158999999995 L -77.67434899999999,38.903085 L -77.674392,38.903044 L -77.674431,38.902983 L -77.674498,38.902885 L -77.674556,38.902815 L -77.674629,38.902722 L -77.674679,38.902646 L -77.674764,38.902547999999996 L -77.674793,38.902508 L -77.674814,38.902479 L -77.67486199999999,38.902405 L -77.674893,38.902339 L -77.67492399999999,38.902282 L -77.674938,38.902257999999996 L -77.67497399999999,38.902195 L -77.67506999999999,38.902035999999995 L -77.675078,38.902018999999996 L -77.675112,38.90195 L -77.675142,38.901876 L -77.675179,38.901779999999995 L -77.675196,38.901748 L -77.675223,38.901695 L -77.67525599999999,38.901627 L -77.675309,38.901516 L -77.675319,38.901488 L -77.67533999999999,38.901427999999996 L -77.675359,38.901348999999996 L -77.675406,38.901271 L -77.675438,38.901213 L -77.67545799999999,38.901177 L -77.675506,38.901098 L -77.675555,38.901018 L -77.67558199999999,38.900957999999996 L -77.675608,38.9009 L -77.67569,38.900788 L -77.67574599999999,38.900707 L -77.675758,38.900689 L -77.675811,38.900619999999996 L -77.675907,38.900513 L -77.675939,38.900476 L -77.675973,38.900436 L -77.67605499999999,38.900329 L -77.67611099999999,38.900245 L -77.676175,38.900172999999995 L -77.676228,38.900107999999996 L -77.676266,38.900062 L -77.67630199999999,38.900013 L -77.676327,38.89998 L -77.676378,38.899910999999996 L -77.676465,38.899823 L -77.676475,38.899809 L -77.67649399999999,38.899784 L -77.676588,38.899656 L -77.676683,38.899546 L -77.676717,38.899501 L -77.676728,38.899485999999996 L -77.676754,38.899452 L -77.67690499999999,38.899262 L -77.676974,38.899186 L -77.677042,38.899111 L -77.67719,38.898897999999996 L -77.677239,38.898804 L -77.677269,38.898722 L -77.677298,38.898652999999996 L -77.677301,38.898621 L -77.677303,38.898588 L -77.677331,38.898469999999996 L -77.677358,38.898317999999996 L -77.677364,38.89828 L -77.677371,38.898243 L -77.677398,38.898179999999996 L -77.677436,38.898116 L -77.67747399999999,38.898071 L -77.67750099999999,38.898039 L -77.67751,38.898027 L -77.677559,38.897985 L -77.677613,38.897957999999996 L -77.677668,38.897926 L -77.677712,38.897895 L -77.677747,38.897870999999995 L -77.67776599999999,38.897847999999996 L -77.677782,38.897829 L -77.677818,38.897777 L -77.67783899999999,38.897723 L -77.677875,38.897633 L -77.67787799999999,38.897624 L -77.677961,38.897448 L -77.677975,38.897419 L -77.67809299999999,38.897194 L -77.678148,38.897106 L -77.678215,38.896997 L -77.678254,38.896924 L -77.67827799999999,38.896876999999996 L -77.67831799999999,38.896800999999996 L -77.67837999999999,38.896688 L -77.678456,38.896542 L -77.678556,38.896352 L -77.67867799999999,38.896124 L -77.67871199999999,38.89607 L -77.678752,38.896003 L -77.678792,38.895967 L -77.678873,38.895906 L -77.678933,38.895869 L -77.678994,38.895832 L -77.67908899999999,38.895772 L -77.67920699999999,38.895683999999996 L -77.679305,38.895607999999996 L -77.679372,38.895537 L -77.67942099999999,38.895478 L -77.67943199999999,38.895455 L -77.679469,38.895385 L -77.67949399999999,38.895303999999996 L -77.67951,38.895233999999995 L -77.679529,38.895174999999995 L -77.679538,38.895088 L -77.67956699999999,38.895008 L -77.679613,38.894921 L -77.67964099999999,38.89488 L -77.67968599999999,38.894824 L -77.679701,38.89474 L -77.679704,38.894670999999995 L -77.67971299999999,38.894627 L -77.679715,38.894574 L -77.67972999999999,38.894501999999996 L -77.679749,38.894451 L -77.67977599999999,38.894407 L -77.67983199999999,38.894335999999996 L -77.679868,38.894284999999996 L -77.679931,38.894213 L -77.679979,38.894148 L -77.680027,38.894112 L -77.68007399999999,38.894076999999996 L -77.680143,38.894011 L -77.68018,38.893971 L -77.680217,38.893919 L -77.680247,38.893876999999996 L -77.680267,38.893786999999996 L -77.68027,38.893727 L -77.680252,38.89366 L -77.68025399999999,38.893609 L -77.680253,38.893547 L -77.68025999999999,38.893476 L -77.680281,38.893425 L -77.68028699999999,38.893409999999996 L -77.680313,38.893363 L -77.68036699999999,38.89329 L -77.680402,38.893235 L -77.680537,38.893167 L -77.680846,38.89301 L -77.684766,38.891020999999995 L -77.685002,38.890901 L -77.688608,38.889058 L -77.688803,38.888957 L -77.689015,38.888849 L -77.689134,38.888788 L -77.689627,38.888535999999995 L -77.692622,38.887004 L -77.693542,38.885086 L -77.694492,38.883106999999995 L -77.69497799999999,38.882093999999995 L -77.69504599999999,38.881921999999996 L -77.69510799999999,38.881783999999996 L -77.695257,38.881529 L -77.695306,38.881397 L -77.695376,38.881263 L -77.695405,38.8812 L -77.69542899999999,38.88115 L -77.695458,38.8811 L -77.695487,38.881049999999995 L -77.69551799999999,38.881 L -77.695533,38.880978999999996 L -77.69555299999999,38.880953 L -77.69558099999999,38.880902999999996 L -77.695607,38.880852 L -77.695634,38.880801 L -77.69565999999999,38.88075 L -77.695686,38.880699 L -77.695712,38.880648 L -77.69573799999999,38.880597 L -77.695763,38.880545999999995 L -77.695791,38.880494999999996 L -77.695821,38.880446 L -77.69585,38.880396 L -77.69588,38.880345999999996 L -77.695909,38.880296 L -77.69593499999999,38.880244999999995 L -77.69596,38.880193999999996 L -77.695984,38.880142 L -77.696005,38.880089999999996 L -77.696024,38.880036 L -77.696047,38.879985 L -77.696068,38.879932 L -77.696086,38.879878999999995 L -77.696102,38.879826 L -77.696113,38.879771999999996 L -77.696111,38.879717 L -77.69609299999999,38.879664999999996 L -77.696043,38.879625999999995 L -77.696024,38.879574999999996 L -77.696027,38.87952 L -77.696038,38.879466 L -77.696051,38.879411999999995 L -77.69606,38.879357 L -77.696078,38.879304 L -77.696106,38.879253999999996 L -77.696134,38.87919 L -77.696148,38.879149 L -77.69615399999999,38.879093999999995 L -77.69614899999999,38.879039999999996 L -77.69614,38.878988 L -77.696129,38.878931 L -77.696117,38.878876999999996 L -77.696103,38.878823 L -77.696092,38.878769 L -77.696092,38.878713999999995 L -77.696105,38.878659999999996 L -77.69612,38.878606 L -77.696139,38.878553 L -77.696159,38.878501 L -77.69618899999999,38.878451 L -77.696224,38.878403999999996 L -77.69626,38.878357 L -77.696293,38.878308 L -77.69632299999999,38.878257999999995 L -77.69635099999999,38.878208 L -77.696371,38.878156 L -77.696398,38.878105 L -77.696423,38.878053 L -77.69644699999999,38.878001999999995 L -77.696472,38.87795 L -77.69649799999999,38.877899 L -77.696525,38.877849 L -77.696553,38.877798 L -77.696584,38.877749 L -77.69661599999999,38.877700000000004 L -77.696648,38.877652 L -77.696679,38.877601999999996 L -77.696708,38.877552 L -77.69673499999999,38.877502 L -77.69676299999999,38.877451 L -77.696786,38.877404 L -77.696814,38.877348999999995 L -77.69684,38.877297999999996 L -77.696866,38.877247 L -77.69689199999999,38.877196 L -77.696929,38.877137 L -77.696953,38.877097 L -77.696967,38.877043 L -77.69698799999999,38.87699 L -77.697003,38.876954999999995 L -77.697009,38.876937999999996 L -77.697032,38.876886 L -77.697057,38.876835 L -77.69708299999999,38.876784 L -77.697109,38.876733 L -77.697135,38.876681999999995 L -77.69716199999999,38.876630999999996 L -77.69718999999999,38.876581 L -77.69722,38.876531 L -77.697249,38.876481 L -77.697279,38.876431 L -77.697311,38.876382 L -77.697344,38.876334 L -77.697374,38.876284 L -77.697401,38.876234 L -77.69743,38.876183999999995 L -77.697458,38.876132999999996 L -77.697484,38.876082 L -77.697514,38.876033 L -77.697544,38.875983 L -77.697561,38.87593 L -77.697577,38.875876 L -77.69759499999999,38.875823 L -77.69761299999999,38.875769999999996 L -77.69763499999999,38.875718 L -77.69765799999999,38.875665999999995 L -77.697676,38.875613 L -77.69770299999999,38.875558 L -77.69772999999999,38.875512 L -77.697758,38.875461 L -77.69778699999999,38.875411 L -77.697816,38.875361 L -77.69784299999999,38.87531 L -77.697865,38.875257999999995 L -77.697889,38.875206999999996 L -77.697913,38.875155 L -77.697931,38.875102 L -77.697941,38.875048 L -77.697951,38.874992999999996 L -77.69795599999999,38.874939 L -77.69795599999999,38.874887 L -77.697947,38.874832 L -77.697938,38.874778 L -77.69793,38.874722999999996 L -77.697924,38.874668 L -77.697919,38.874613 L -77.697914,38.874553 L -77.69791,38.874504 L -77.697906,38.874449 L -77.697901,38.874393999999995 L -77.697897,38.874342 L -77.697895,38.874285 L -77.69789399999999,38.87423 L -77.697893,38.874212 L -77.697892,38.874175 L -77.697892,38.87412 L -77.697892,38.874065 L -77.697891,38.87401 L -77.697892,38.873954999999995 L -77.697897,38.8739 L -77.697902,38.873846 L -77.69791,38.873791 L -77.697921,38.873737 L -77.69793899999999,38.873684 L -77.69796,38.873630999999996 L -77.697988,38.873581 L -77.698021,38.873532999999995 L -77.69805099999999,38.873483 L -77.698088,38.873436 L -77.698128,38.873391 L -77.698179,38.873337 L -77.69821,38.873301999999995 L -77.698239,38.873253 L -77.698234,38.873197999999995 L -77.698206,38.873166 L -77.698196,38.873152999999995 L -77.69814699999999,38.873114 L -77.69809599999999,38.873076 L -77.69805,38.873034 L -77.698016,38.872986999999995 L -77.697976,38.872941 L -77.69794499999999,38.872896 L -77.697937,38.872873 L -77.697926,38.87284 L -77.69791599999999,38.872785 L -77.69791099999999,38.872731 L -77.69791,38.872676 L -77.69791699999999,38.872620999999995 L -77.697938,38.872569 L -77.697974,38.872505 L -77.69797799999999,38.872467 L -77.697974,38.872411 L -77.697969,38.872357 L -77.69796699999999,38.872302 L -77.69796199999999,38.872247 L -77.69795599999999,38.872192 L -77.697953,38.872136999999995 L -77.69794999999999,38.872082 L -77.697948,38.872028 L -77.697947,38.871973 L -77.697947,38.871918 L -77.697947,38.871863 L -77.697949,38.871808 L -77.697952,38.871753 L -77.69795599999999,38.871697999999995 L -77.69796,38.871643 L -77.697966,38.87159 L -77.697972,38.871534 L -77.69798,38.87148 L -77.69798899999999,38.871424999999995 L -77.69800099999999,38.871370999999996 L -77.698017,38.871317 L -77.69803499999999,38.871264 L -77.698054,38.871210999999995 L -77.698071,38.871158 L -77.698088,38.871105 L -77.698112,38.871052999999996 L -77.698138,38.871002 L -77.69816399999999,38.870951 L -77.6982,38.870903999999996 L -77.698218,38.870850999999995 L -77.698241,38.870799 L -77.698251,38.870778 L -77.69826599999999,38.870748 L -77.69828799999999,38.870695999999995 L -77.698308,38.870643 L -77.69832799999999,38.870591 L -77.698346,38.870537 L -77.698363,38.870484 L -77.698379,38.870430999999996 L -77.698394,38.870377 L -77.698407,38.870323 L -77.69841699999999,38.870269 L -77.698433,38.870215 L -77.69845,38.870162 L -77.69846799999999,38.870109 L -77.698486,38.870056 L -77.698505,38.870003 L -77.698526,38.869951 L -77.698543,38.869897 L -77.69855,38.869839 L -77.69855199999999,38.869788 L -77.69856899999999,38.869734 L -77.69858599999999,38.869681 L -77.698602,38.869628 L -77.69861399999999,38.869572999999995 L -77.698628,38.86952 L -77.698645,38.869467 L -77.698661,38.869413 L -77.698677,38.869358999999996 L -77.698697,38.869307 L -77.698726,38.869257 L -77.698756,38.869206999999996 L -77.698773,38.869175 L -77.698782,38.869156 L -77.698802,38.869102999999996 L -77.698816,38.86905 L -77.69883,38.868995999999996 L -77.69885,38.868943 L -77.698875,38.868891999999995 L -77.69888499999999,38.868869 L -77.698899,38.868840999999996 L -77.69892399999999,38.868789 L -77.69895,38.868738 L -77.698976,38.868687 L -77.699,38.868635999999995 L -77.699024,38.868584 L -77.699046,38.868531999999995 L -77.69906999999999,38.86848 L -77.69909299999999,38.868428 L -77.699118,38.868370999999996 L -77.69913799999999,38.868317999999995 L -77.699158,38.868265 L -77.699178,38.868213 L -77.699198,38.868159999999996 L -77.69921699999999,38.868106999999995 L -77.699235,38.868054 L -77.69925099999999,38.868001 L -77.699264,38.867947 L -77.699277,38.867892999999995 L -77.69929499999999,38.86784 L -77.699288,38.867785 L -77.69929499999999,38.867731 L -77.69930000000001,38.867675999999996 L -77.699315,38.867622999999995 L -77.699332,38.867568999999996 L -77.699364,38.867517 L -77.69938599999999,38.867467999999995 L -77.699407,38.867416 L -77.699429,38.867363 L -77.699434,38.867309 L -77.69943599999999,38.867253999999996 L -77.69942999999999,38.867200000000004 L -77.69943099999999,38.867145 L -77.699421,38.867090999999995 L -77.69940799999999,38.867036999999996 L -77.69939,38.866983999999995 L -77.699356,38.866935 L -77.699348,38.866881 L -77.699337,38.866827 L -77.69932299999999,38.866772999999995 L -77.69931199999999,38.866718999999996 L -77.699299,38.866665 L -77.699293,38.866634 L -77.699289,38.866611 L -77.699275,38.866557 L -77.699263,38.866503 L -77.699253,38.866448999999996 L -77.69924499999999,38.8664 L -77.699237,38.86634 L -77.699229,38.866285 L -77.699215,38.866231 L -77.699213,38.866175999999996 L -77.69921,38.866122 L -77.699201,38.866067 L -77.6992,38.866012 L -77.699202,38.865957 L -77.699203,38.865902 L -77.699203,38.865848 L -77.699207,38.865793 L -77.699221,38.865739 L -77.699226,38.865715 L -77.699232,38.865685 L -77.699244,38.865631 L -77.699255,38.865576 L -77.699264,38.865522 L -77.69927,38.865466999999995 L -77.69927799999999,38.865413 L -77.699289,38.865358 L -77.699294,38.865303 L -77.699289,38.865249 L -77.69928,38.865195 L -77.69927,38.865141 L -77.69928,38.865086999999995 L -77.699285,38.865037 L -77.699297,38.864978 L -77.699311,38.864923999999995 L -77.699322,38.864869999999996 L -77.69933,38.864815 L -77.699343,38.864762 L -77.69935699999999,38.864708 L -77.699367,38.864653 L -77.699378,38.864599 L -77.699393,38.864546 L -77.699416,38.864494 L -77.699433,38.864439999999995 L -77.699449,38.864387 L -77.699468,38.864334 L -77.699494,38.864283 L -77.699533,38.864233999999996 L -77.699562,38.864187 L -77.69958799999999,38.864135999999995 L -77.69960999999999,38.864087999999995 L -77.69962799999999,38.864039 L -77.699648,38.863979 L -77.699658,38.863945 L -77.699664,38.863924999999995 L -77.699676,38.863887999999996 L -77.699681,38.863872 L -77.699683,38.863862999999995 L -77.699692,38.863817999999995 L -77.699692,38.863763 L -77.699696,38.863709 L -77.699681,38.863655 L -77.699659,38.863605 L -77.69965499999999,38.863551 L -77.69964,38.863498 L -77.699632,38.863459999999996 L -77.69962799999999,38.863444 L -77.699629,38.863389 L -77.699632,38.863333999999995 L -77.69962799999999,38.863307 L -77.699624,38.863279999999996 L -77.699621,38.863225 L -77.699618,38.86317 L -77.699614,38.863115 L -77.699614,38.86306 L -77.699613,38.863049 L -77.69960999999999,38.863006 L -77.69960499999999,38.862950999999995 L -77.699608,38.862896 L -77.699609,38.862883 L -77.699613,38.862840999999996 L -77.69961599999999,38.86277 L -77.699615,38.862731 L -77.69961599999999,38.862677 L -77.699621,38.862622 L -77.699629,38.862567 L -77.699635,38.862513 L -77.699636,38.862458 L -77.69964499999999,38.862403 L -77.699654,38.862348999999995 L -77.69966699999999,38.862294999999996 L -77.699682,38.862241999999995 L -77.69969499999999,38.862187999999996 L -77.699708,38.862134 L -77.69972299999999,38.86208 L -77.699737,38.862027999999995 L -77.699755,38.861961 L -77.69976799999999,38.861919 L -77.699793,38.861868 L -77.69981899999999,38.861816999999995 L -77.699845,38.861765999999996 L -77.699867,38.861714 L -77.699894,38.861663 L -77.699922,38.861613 L -77.69994799999999,38.861562 L -77.699981,38.861514 L -77.700018,38.861467 L -77.700057,38.861421 L -77.700093,38.861374 L -77.700136,38.861331 L -77.700155,38.861317 L -77.700187,38.861292999999996 L -77.700237,38.861253999999995 L -77.700279,38.861211 L -77.700319,38.861165 L -77.700351,38.861115999999996 L -77.700383,38.861069 L -77.700412,38.861018 L -77.700458,38.860946 L -77.700482,38.860893999999995 L -77.700504,38.860842 L -77.70053,38.860791 L -77.70055099999999,38.860738 L -77.700572,38.860686 L -77.700588,38.860631999999995 L -77.700628,38.860588 L -77.700673,38.860544999999995 L -77.70069699999999,38.860493999999996 L -77.700709,38.86044 L -77.70071899999999,38.860386 L -77.700728,38.860330999999995 L -77.700735,38.860276999999996 L -77.70074199999999,38.860222 L -77.70074799999999,38.860167 L -77.700752,38.860112 L -77.700758,38.860057999999995 L -77.70076999999999,38.860003999999996 L -77.700785,38.85995 L -77.700789,38.859895 L -77.700801,38.859840999999996 L -77.700811,38.859787 L -77.700816,38.859732 L -77.700822,38.859677 L -77.700828,38.859623 L -77.70083199999999,38.859567999999996 L -77.700836,38.859501 L -77.700839,38.859458 L -77.700847,38.859404 L -77.700852,38.859349 L -77.70085399999999,38.859294 L -77.70085399999999,38.859283 L -77.70085399999999,38.859238999999995 L -77.700859,38.859184 L -77.700865,38.85913 L -77.700865,38.85911 L -77.700865,38.859075 L -77.700868,38.85902 L -77.700874,38.858965 L -77.700879,38.85891 L -77.700882,38.858855999999996 L -77.70088299999999,38.858801 L -77.700884,38.858746 L -77.700886,38.858691 L -77.70089,38.858636 L -77.700895,38.858581 L -77.70089899999999,38.858526 L -77.700903,38.858471 L -77.700907,38.858416999999996 L -77.70091,38.858362 L -77.700913,38.858306999999996 L -77.700914,38.858252 L -77.700915,38.858197 L -77.700919,38.858142 L -77.700914,38.858089 L -77.700915,38.858033999999996 L -77.700913,38.85798 L -77.700919,38.857925 L -77.700923,38.85787 L -77.700927,38.857814999999995 L -77.700929,38.85776 L -77.70093299999999,38.857706 L -77.700932,38.857651 L -77.700932,38.857596 L -77.70093,38.857541 L -77.700924,38.857486 L -77.700935,38.857377 L -77.70094,38.857321999999996 L -77.700946,38.857267 L -77.70095599999999,38.857213 L -77.70097,38.857158999999996 L -77.700986,38.857106 L -77.701008,38.857053 L -77.70103,38.857001 L -77.70105099999999,38.856949 L -77.701065,38.856895 L -77.70107399999999,38.856839 L -77.701081,38.856786 L -77.70109,38.856730999999996 L -77.70111,38.856679 L -77.70112499999999,38.856626 L -77.701132,38.856570999999995 L -77.701151,38.856518 L -77.70117499999999,38.856466 L -77.70119199999999,38.856412999999996 L -77.70119199999999,38.856358 L -77.701196,38.856304 L -77.701213,38.856249999999996 L -77.701214,38.856195 L -77.701224,38.856141 L -77.701236,38.856086999999995 L -77.701236,38.856032 L -77.70125399999999,38.855979 L -77.701269,38.855926 L -77.70128199999999,38.855874 L -77.70129899999999,38.855823 L -77.701308,38.855768 L -77.701302,38.855714 L -77.70129899999999,38.855658999999996 L -77.70129899999999,38.855632 L -77.7013,38.855604 L -77.701304,38.855548999999996 L -77.701317,38.855495 L -77.701337,38.855443 L -77.70138,38.855399 L -77.70142,38.855354 L -77.70146,38.855309 L -77.701494,38.855261 L -77.701515,38.8552 L -77.70152499999999,38.855154 L -77.701545,38.855101 L -77.701557,38.855047 L -77.701577,38.854994 L -77.701596,38.854942 L -77.701608,38.854917 L -77.701621,38.854890999999995 L -77.70164799999999,38.854839999999996 L -77.70168,38.854791 L -77.701708,38.854742 L -77.70173299999999,38.854690999999995 L -77.701758,38.854639 L -77.70178299999999,38.854588 L -77.701797,38.854534 L -77.70181,38.854481 L -77.701871,38.854388 L -77.701891,38.854295 L -77.701911,38.854244 L -77.701933,38.854192 L -77.701966,38.854143 L -77.701973,38.854126 L -77.701988,38.854091 L -77.70200899999999,38.854039 L -77.702033,38.853987 L -77.702058,38.853923 L -77.70209299999999,38.85384 L -77.702123,38.85379 L -77.702135,38.853730999999996 L -77.70218299999999,38.853628 L -77.702119,38.853601999999995 L -77.70204799999999,38.853632999999995 L -77.702005,38.853653 L -77.701891,38.853702999999996 L -77.701813,38.853738 L -77.701752,38.853739999999995 L -77.701697,38.853726 L -77.701657,38.853688 L -77.701611,38.853643999999996 L -77.701571,38.853570999999995 L -77.701538,38.853442 L -77.70154,38.853398 L -77.701539,38.853338 L -77.701538,38.853212 L -77.701548,38.853074 L -77.701545,38.85303 L -77.701546,38.852976 L -77.70153499999999,38.852906 L -77.70151,38.852819 L -77.70150199999999,38.852758 L -77.70149599999999,38.852669999999996 L -77.701493,38.852593999999996 L -77.701501,38.852516 L -77.701482,38.852475 L -77.70147899999999,38.852422 L -77.70148999999999,38.852376 L -77.701503,38.852288 L -77.701509,38.852244 L -77.701514,38.852194999999995 L -77.701515,38.852126 L -77.701503,38.852055 L -77.70152399999999,38.852008 L -77.701548,38.851943999999996 L -77.701561,38.851887 L -77.701555,38.851791 L -77.701554,38.851698999999996 L -77.701555,38.851647 L -77.701554,38.851592 L -77.701582,38.851493999999995 L -77.70159799999999,38.851441 L -77.701629,38.851341 L -77.70164299999999,38.851268 L -77.70165399999999,38.851217 L -77.701666,38.851152 L -77.701684,38.851081 L -77.701701,38.850995999999995 L -77.701731,38.850877 L -77.701753,38.85076 L -77.70176599999999,38.850691999999995 L -77.701785,38.850626999999996 L -77.701813,38.850542 L -77.701832,38.850421 L -77.701841,38.850344 L -77.701846,38.850280999999995 L -77.70186199999999,38.850237 L -77.701881,38.850192 L -77.701961,38.850072 L -77.702005,38.850017 L -77.70200299999999,38.849958 L -77.70199699999999,38.849902 L -77.70201399999999,38.849804 L -77.702023,38.849754 L -77.702032,38.849686999999996 L -77.702045,38.849641999999996 L -77.70206999999999,38.849596999999996 L -77.702114,38.849556 L -77.702168,38.849544 L -77.702236,38.849534 L -77.702288,38.849515 L -77.702332,38.849455999999996 L -77.702348,38.849407 L -77.702343,38.849301 L -77.702355,38.849232 L -77.702381,38.849166 L -77.702421,38.84903 L -77.702458,38.848895 L -77.70248,38.848825 L -77.702499,38.848743999999996 L -77.702508,38.848684 L -77.702511,38.848600999999995 L -77.702519,38.848541999999995 L -77.70251999999999,38.848496 L -77.70252599999999,38.848442 L -77.702556,38.848341 L -77.70257699999999,38.848262 L -77.702601,38.848192 L -77.70262699999999,38.848116999999995 L -77.702642,38.848071 L -77.70267299999999,38.847991 L -77.702702,38.847910999999996 L -77.70274599999999,38.847792999999996 L -77.70279099999999,38.847696 L -77.702865,38.847564 L -77.702957,38.847404999999995 L -77.702997,38.847341 L -77.70309499999999,38.847186 L -77.70326399999999,38.846961 L -77.70330299999999,38.846882 L -77.703414,38.846668 L -77.70343799999999,38.846616 L -77.70347199999999,38.846544 L -77.70349399999999,38.846503 L -77.703542,38.84641 L -77.703574,38.846349 L -77.70361199999999,38.84625 L -77.703836,38.845912 L -77.703886,38.845841 L -77.703942,38.845682 L -77.70395599999999,38.845628 L -77.70405199999999,38.845439999999996 L -77.704056,38.845273 L -77.704095,38.845164 L -77.704135,38.845003999999996 L -77.704155,38.844924999999996 L -77.70439499999999,38.844317 L -77.70445099999999,38.844195 L -77.704854,38.84332 L -77.704931,38.843151999999996 L -77.70551499999999,38.843156 L -77.70849799999999,38.843176 L -77.709688,38.843184 L -77.71003499999999,38.843185999999996 L -77.715667,38.843224 L -77.715633,38.843171999999996 L -77.715625,38.843106999999996 L -77.715642,38.843044 L -77.71566,38.842988999999996 L -77.715644,38.842887999999995 L -77.715626,38.842768 L -77.715616,38.842687999999995 L -77.715617,38.84261 L -77.715616,38.842559 L -77.715616,38.842545 L -77.71562,38.842529 L -77.715654,38.842414 L -77.715705,38.842244 L -77.715768,38.842025 L -77.715842,38.841764999999995 L -77.715876,38.841684 L -77.71589,38.841612999999995 L -77.71591,38.841476 L -77.715921,38.841328 L -77.71592299999999,38.84121 L -77.715936,38.841066 L -77.715936,38.840992 L -77.715926,38.840911 L -77.715919,38.840795 L -77.71591699999999,38.84071 L -77.715901,38.840647 L -77.715896,38.840629 L -77.715881,38.840548999999996 L -77.715857,38.840388999999995 L -77.715851,38.840317999999996 L -77.71586099999999,38.840185999999996 L -77.715859,38.840058 L -77.715851,38.840002 L -77.71583199999999,38.839943 L -77.715818,38.839886 L -77.715817,38.839841 L -77.71582599999999,38.839791 L -77.715822,38.839709 L -77.715829,38.839656999999995 L -77.715812,38.839600000000004 L -77.715797,38.839541 L -77.715789,38.839489 L -77.71578099999999,38.83943 L -77.715769,38.839386 L -77.715777,38.839334 L -77.71579,38.839290999999996 L -77.715806,38.839199 L -77.71580399999999,38.839127999999995 L -77.715809,38.839065 L -77.715783,38.838978 L -77.7158,38.838922 L -77.71582,38.83883 L -77.715809,38.838784 L -77.715796,38.838726 L -77.715784,38.838678 L -77.715768,38.838615999999995 L -77.71576999999999,38.838547 L -77.715786,38.838477999999995 L -77.715784,38.838381 L -77.715732,38.838305 L -77.71569,38.838221 L -77.715688,38.838167 L -77.71569099999999,38.838104 L -77.7157,38.838058 L -77.71570899999999,38.837998999999996 L -77.715712,38.837951 L -77.715716,38.83789 L -77.715706,38.837844 L -77.71570299999999,38.83779 L -77.715696,38.837717999999995 L -77.715693,38.837627999999995 L -77.715688,38.837548 L -77.715684,38.837475 L -77.715685,38.837407 L -77.71567399999999,38.837320999999996 L -77.715662,38.837237 L -77.71564099999999,38.837168999999996 L -77.715626,38.837106 L -77.715628,38.837046 L -77.715636,38.836994 L -77.715651,38.836861 L -77.715653,38.836731 L -77.715651,38.836659 L -77.71565799999999,38.836552999999995 L -77.71564599999999,38.836466 L -77.715637,38.836417999999995 L -77.715617,38.836337 L -77.715604,38.836293999999995 L -77.71558399999999,38.836228 L -77.715572,38.836177 L -77.71555599999999,38.836123 L -77.715514,38.836022 L -77.715496,38.83596 L -77.715473,38.835910999999996 L -77.715462,38.835889 L -77.71542199999999,38.835803 L -77.715372,38.835702 L -77.715329,38.835612999999995 L -77.715291,38.835527 L -77.715266,38.835485999999996 L -77.71522,38.835417 L -77.715203,38.835367 L -77.715176,38.83531 L -77.71517399999999,38.835263999999995 L -77.715166,38.835204 L -77.715175,38.835125 L -77.715189,38.835071 L -77.715234,38.835015999999996 L -77.71529699999999,38.834965 L -77.715353,38.834911 L -77.715403,38.834852 L -77.71540999999999,38.834844 L -77.715459,38.834772 L -77.715484,38.834717999999995 L -77.715518,38.834655999999995 L -77.715548,38.834568 L -77.71554499999999,38.834475 L -77.715544,38.834322 L -77.715532,38.834179999999996 L -77.71553399999999,38.834044 L -77.715531,38.833903 L -77.71552799999999,38.833715 L -77.715543,38.833380999999996 L -77.71555699999999,38.833112 L -77.71557399999999,38.83296 L -77.715592,38.832843 L -77.715611,38.832713999999996 L -77.715637,38.832564999999995 L -77.71565,38.832446 L -77.71566899999999,38.832347 L -77.71569199999999,38.832246 L -77.715715,38.832136 L -77.715645,38.832035 L -77.711795,38.826423999999996 L -77.710715,38.824873 L -77.71065899999999,38.824793 L -77.710628,38.824748 L -77.710579,38.824678 L -77.710454,38.824498 L -77.710264,38.824214999999995 L -77.71024,38.824177 L -77.71018,38.824087 L -77.71005099999999,38.823893999999996 L -77.71001199999999,38.823834999999995 L -77.70996199999999,38.823761 L -77.71028199999999,38.823769999999996 L -77.710945,38.823786 L -77.711432,38.823803999999996 L -77.712003,38.823844 L -77.712458,38.823886 L -77.713025,38.823952 L -77.713583,38.824034 L -77.714134,38.824131 L -77.71457099999999,38.824217999999995 L -77.714896,38.824287999999996 L -77.715925,38.824548 L -77.71612499999999,38.82458 L -77.71622599999999,38.824624 L -77.719833,38.825547 L -77.722683,38.826277 L -77.722766,38.825893 L -77.722944,38.824992 L -77.723051,38.824583 L -77.723078,38.824529 L -77.72311599999999,38.824478 L -77.723176,38.824422 L -77.723233,38.824383999999995 L -77.72330000000001,38.824365 L -77.72343099999999,38.824348 L -77.723564,38.824346 L -77.72369599999999,38.824359 L -77.723822,38.824388 L -77.723942,38.824432 L -77.724032,38.824475 L -77.72413499999999,38.824540999999996 L -77.724321,38.824697 L -77.724398,38.824748 L -77.724531,38.824816 L -77.724661,38.824864 L -77.72479799999999,38.824898999999995 L -77.725437,38.824962 L -77.72553099999999,38.824963 L -77.725634,38.824948 L -77.725872,38.824897 L -77.726063,38.82484 L -77.726247,38.824768999999996 L -77.726613,38.824650999999996 L -77.726779,38.824611999999995 L -77.72693,38.824586 L -77.727046,38.824585 L -77.72716199999999,38.824597 L -77.727295,38.82463 L -77.727854,38.824874 L -77.727908,38.824889999999996 L -77.728003,38.824906 L -77.728099,38.824908 L -77.728194,38.824895999999995 L -77.728449,38.824819999999995 L -77.728554,38.824795 L -77.728732,38.824766 L -77.728914,38.824752 L -77.72918299999999,38.82476 L -77.72927899999999,38.824753 L -77.729357,38.824737999999996 L -77.72943699999999,38.824711 L -77.729519,38.824667999999996 L -77.729694,38.824553 L -77.729827,38.824445 L -77.729976,38.824301 L -77.730036,38.824264 L -77.730105,38.824238 L -77.73017999999999,38.824225999999996 L -77.73041099999999,38.824235 L -77.730659,38.824261 L -77.731123,38.824334 L -77.731394,38.82436 L -77.731427,38.824357 L -77.73150799999999,38.82434 L -77.731582,38.82431 L -77.731646,38.824268 L -77.731696,38.824216 L -77.73191899999999,38.823868 L -77.732079,38.823591 L -77.732114,38.823544999999996 L -77.73217,38.823494 L -77.73223899999999,38.823453 L -77.732325,38.823423 L -77.732322,38.823288 L -77.732333,38.823186 L -77.732377,38.823006 L -77.732438,38.822829999999996 L -77.73252,38.822651 L -77.732596,38.822528999999996 L -77.732688,38.822415 L -77.73281899999999,38.822289 L -77.733087,38.822046 L -77.733205,38.821917 L -77.73328599999999,38.8218 L -77.733351,38.821678 L -77.73338199999999,38.821602 L -77.733603,38.820978 L -77.733721,38.820724 L -77.73378,38.820617999999996 L -77.734038,38.820267 L -77.734284,38.819950999999996 L -77.734493,38.819683999999995 L -77.73507599999999,38.818946 L -77.73519399999999,38.818824 L -77.735299,38.818733 L -77.735411,38.818647999999996 L -77.735564,38.818552 L -77.735699,38.818484999999995 L -77.73587599999999,38.818413 L -77.73606099999999,38.818354 L -77.736207,38.818318999999995 L -77.73642,38.818287 L -77.73652799999999,38.818278 L -77.736745,38.818276 L -77.73692799999999,38.81829 L -77.737121,38.818321 L -77.737273,38.818355 L -77.73742,38.818397999999995 L -77.73786,38.818557 L -77.738379,38.818745 L -77.739634,38.819221 L -77.739941,38.819322 L -77.740135,38.819373999999996 L -77.740358,38.819418999999996 L -77.740726,38.819466999999996 L -77.74095899999999,38.81948 L -77.741147,38.819480999999996 L -77.74146999999999,38.819463 L -77.741745,38.819438 L -77.742699,38.819316 L -77.743853,38.819162 L -77.746612,38.818807 L -77.748903,38.818507 L -77.74923199999999,38.81845 L -77.749556,38.818377999999996 L -77.749893,38.818279 L -77.75025099999999,38.81816 L -77.75050399999999,38.818055 L -77.75074699999999,38.817938 L -77.75098,38.817809 L -77.751262,38.817631 L -77.75148999999999,38.817468 L -77.751663,38.817329 L -77.751864,38.817147999999996 L -77.75205199999999,38.816959 L -77.752224,38.816761 L -77.75257599999999,38.816305 L -77.753106,38.815604 L -77.753259,38.815401 L -77.753584,38.814971 L -77.75447199999999,38.813795999999996 L -77.754949,38.813179 L -77.755637,38.812269 L -77.757396,38.80997 L -77.75825999999999,38.808834999999995 L -77.76076499999999,38.805532 L -77.761202,38.804967 L -77.761533,38.804525 L -77.761596,38.804443 L -77.762264,38.803564 L -77.763289,38.802229 L -77.76371499999999,38.801662 L -77.764346,38.800830999999995 L -77.76666,38.797784 L -77.767426,38.796769 L -77.768045,38.795957 L -77.769,38.794694 L -77.76928,38.794334 L -77.76964,38.793897 L -77.769753,38.793768 L -77.76985499999999,38.793655 L -77.77010899999999,38.793393 L -77.77041899999999,38.793099 L -77.770628,38.792913999999996 L -77.770865,38.792721 L -77.771135,38.792518 L -77.77139199999999,38.792335 L -77.771725,38.792116 L -77.77207,38.791909 L -77.772426,38.791714999999996 L -77.772644,38.791612 L -77.773084,38.791413 L -77.773642,38.791176 L -77.77559099999999,38.790408 L -77.776273,38.790147999999995 L -77.77845099999999,38.789283 L -77.779179,38.789001 L -77.779836,38.788741 L -77.780356,38.788523999999995 L -77.780611,38.788398 L -77.78092099999999,38.788229 L -77.781176,38.788076 L -77.781393,38.787935999999995 L -77.781672,38.787738 L -77.78187799999999,38.787576 L -77.782112,38.787371 L -77.782332,38.787155999999996 L -77.78262,38.786820999999996 L -77.782838,38.786546 L -77.783294,38.785827 L -77.783858,38.784893 L -77.784736,38.783452 L -77.785071,38.782886 L -77.78575099999999,38.781766999999995 L -77.785844,38.781613 L -77.78598199999999,38.781379 L -77.786126,38.781152 L -77.786287,38.780932 L -77.786428,38.780761999999996 L -77.78661799999999,38.780556 L -77.786812,38.780378999999996 L -77.787063,38.78018 L -77.787266,38.780037 L -77.78747299999999,38.779907 L -77.78771499999999,38.779772 L -77.78797999999999,38.779641999999996 L -77.788178,38.779548 L -77.78837999999999,38.779455999999996 L -77.78866599999999,38.779326 L -77.789214,38.779087 L -77.791651,38.778022 L -77.792334,38.777721 L -77.79300099999999,38.777418999999995 L -77.793268,38.777297999999995 L -77.79540999999999,38.776348 L -77.79632699999999,38.775943 L -77.79811,38.775147 L -77.799133,38.774696999999996 L -77.799368,38.774594 L -77.800051,38.774283 L -77.800276,38.774183 L -77.801097,38.773823 L -77.802334,38.773281 L -77.802632,38.773146 L -77.803566,38.772726 L -77.804103,38.772492 L -77.804423,38.772349 L -77.804909,38.772124 L -77.805144,38.771997 L -77.80541199999999,38.771831 L -77.805622,38.771679999999996 L -77.805768,38.77156 L -77.805847,38.771495 L -77.805942,38.771411 L -77.806097,38.771262 L -77.806243,38.771108 L -77.806339,38.770995 L -77.80641299999999,38.770908 L -77.80653,38.770752 L -77.806567,38.770700000000005 L -77.806782,38.770351 L -77.807627,38.768902 L -77.808042,38.768203 L -77.80819699999999,38.767934 L -77.80828199999999,38.767797 L -77.808427,38.767587 L -77.808769,38.767143999999995 L -77.808821,38.767071 L -77.80909,38.76676 L -77.809297,38.766492 L -77.809448,38.766314 L -77.809816,38.765865 L -77.809885,38.765777 L -77.810385,38.765124 L -77.810676,38.764725999999996 L -77.81091599999999,38.764415 L -77.81109599999999,38.764202 L -77.81124799999999,38.764041999999996 L -77.811413,38.763889999999996 L -77.811495,38.763825 L -77.81159,38.76375 L -77.811771,38.763625999999995 L -77.81196299999999,38.763514 L -77.81216599999999,38.763413 L -77.812445,38.763296 L -77.81267199999999,38.76322 L -77.812682,38.763307 L -77.812747,38.763594 L -77.812856,38.763928 L -77.81295899999999,38.764195 L -77.812966,38.764212 L -77.81311099999999,38.764489999999995 L -77.813266,38.764748999999995 L -77.813406,38.764949 L -77.813603,38.76519 L -77.813796,38.765404 L -77.813963,38.765569 L -77.814191,38.765772 L -77.814433,38.765964 L -77.81464,38.766110999999995 L -77.814926,38.766289 L -77.815214,38.766447 L -77.815347,38.76652 L -77.81550899999999,38.766597 L -77.81617899999999,38.766909999999996 L -77.818409,38.767924 L -77.81951,38.768437999999996 L -77.819735,38.768552 L -77.820117,38.768769999999996 L -77.82024799999999,38.768854 L -77.820341,38.768919 L -77.820587,38.769095 L -77.82070499999999,38.769188 L -77.820999,38.769431999999995 L -77.821237,38.769667999999996 L -77.82139099999999,38.769830999999996 L -77.821612,38.7701 L -77.82176299999999,38.770308 L -77.821883,38.770482 L -77.822681,38.771733 L -77.82333299999999,38.772757 L -77.823527,38.773084 L -77.82364,38.773312 L -77.823737,38.773545 L -77.82381699999999,38.773781 L -77.824011,38.774606999999996 L -77.82412699999999,38.775127 L -77.824229,38.775518 L -77.82436,38.776109 L -77.82440299999999,38.776323999999995 L -77.82443599999999,38.776491 L -77.824604,38.777235999999995 L -77.824758,38.777919 L -77.824874,38.778473 L -77.82489199999999,38.778563 L -77.824966,38.778839 L -77.825026,38.779136 L -77.825051,38.779376 L -77.825058,38.779616 L -77.825047,38.779855999999995 L -77.825025,38.780046999999996 L -77.824944,38.780364999999996 L -77.824843,38.780679 L -77.824725,38.780989999999996 L -77.82439,38.781757 L -77.824049,38.782571999999995 L -77.82367599999999,38.783442 L -77.823126,38.784749 L -77.82278199999999,38.785553 L -77.822597,38.785979999999995 L -77.82229699999999,38.786696 L -77.82206699999999,38.787237999999995 L -77.821823,38.787785 L -77.821433,38.788584 L -77.821084,38.789280999999995 L -77.820889,38.789659 L -77.820703,38.790040999999995 L -77.82032099999999,38.790803 L -77.820157,38.791226 L -77.820038,38.791568 L -77.819977,38.791795 L -77.819952,38.791889999999995 L -77.819861,38.792289 L -77.819758,38.792742 L -77.819734,38.792871999999996 L -77.819633,38.793336 L -77.819463,38.79399 L -77.819352,38.794374999999995 L -77.81915099999999,38.794965 L -77.81903199999999,38.795291999999996 L -77.818896,38.795614 L -77.818743,38.79593 L -77.818604,38.79625 L -77.818461,38.79654 L -77.818311,38.796797 L -77.818084,38.797216 L -77.817652,38.797894 L -77.81707,38.798778999999996 L -77.816896,38.799043 L -77.81652299999999,38.799593 L -77.816199,38.800086 L -77.81539699999999,38.801314999999995 L -77.81504699999999,38.801839 L -77.814523,38.802648999999995 L -77.814148,38.803211999999995 L -77.813952,38.803523 L -77.813637,38.803982999999995 L -77.813133,38.804781 L -77.81298,38.80508 L -77.812896,38.805275 L -77.81285299999999,38.805386 L -77.812801,38.805538999999996 L -77.812738,38.80579 L -77.81269499999999,38.806044 L -77.812662,38.80656 L -77.812668,38.806671 L -77.81268299999999,38.806979999999996 L -77.81268399999999,38.807013 L -77.81272799999999,38.807891999999995 L -77.812766,38.808361999999995 L -77.812784,38.808671 L -77.81286,38.809975 L -77.812922,38.811054999999996 L -77.812961,38.811668999999995 L -77.81299299999999,38.812295 L -77.813041,38.812961 L -77.813062,38.813384 L -77.813104,38.814053 L -77.813148,38.814748 L -77.813181,38.815365 L -77.813206,38.81583 L -77.813313,38.817447 L -77.81335,38.817727 L -77.813407,38.818005 L -77.813465,38.818225999999996 L -77.813535,38.818445 L -77.813638,38.818725 L -77.81375799999999,38.819004 L -77.814245,38.819970999999995 L -77.814995,38.821418 L -77.815626,38.822651 L -77.815919,38.823212999999996 L -77.816054,38.823507 L -77.816172,38.823805 L -77.816273,38.824107 L -77.816356,38.824411999999995 L -77.816403,38.824656 L -77.816428,38.824853 L -77.816442,38.8251 L -77.816439,38.825404999999996 L -77.816423,38.825661 L -77.81638699999999,38.825919 L -77.816334,38.826176 L -77.81626299999999,38.826429999999995 L -77.816164,38.826746 L -77.81607799999999,38.827081 L -77.81600999999999,38.827419 L -77.815964,38.827737 L -77.81594299999999,38.828023 L -77.81594,38.828309 L -77.815947,38.828437 L -77.81508699999999,38.829204 L -77.814881,38.829266 L -77.81473199999999,38.829328 L -77.81461999999999,38.829387 L -77.814514,38.829451999999996 L -77.814166,38.82971 L -77.81197999999999,38.831354 L -77.811882,38.831429 L -77.81223899999999,38.831554 L -77.812604,38.831666999999996 L -77.813035,38.831790999999996 L -77.814464,38.832212 L -77.815879,38.832629 L -77.81649399999999,38.83282 L -77.817256,38.833068999999995 L -77.818105,38.833361 L -77.81823399999999,38.833391999999996 L -77.818383,38.833418 L -77.818469,38.833422 L -77.81857,38.83341 L -77.818592,38.833404 L -77.818651,38.833383999999995 L -77.81872299999999,38.833346999999996 L -77.818772,38.833309 L -77.818916,38.833155999999995 L -77.819146,38.833293 L -77.820194,38.833891 L -77.82051899999999,38.834083 L -77.820824,38.834281 L -77.821118,38.834489999999995 L -77.821399,38.834708 L -77.821615,38.83489 L -77.821872,38.835125999999995 L -77.822161,38.835412 L -77.822327,38.835592 L -77.822552,38.835859 L -77.82271,38.836065 L -77.82291699999999,38.836366 L -77.82309,38.836650999999996 L -77.823392,38.837182 L -77.823605,38.837578 L -77.823787,38.837934 L -77.824252,38.838805 L -77.824527,38.839331 L -77.825818,38.841754 L -77.826416,38.842884999999995 L -77.826599,38.843205 L -77.82684499999999,38.843599 L -77.82721099999999,38.844141 L -77.827488,38.844522999999995 L -77.827676,38.844767 L -77.827901,38.845045 L -77.828571,38.845836 L -77.829003,38.846316 L -77.82936,38.846694 L -77.829725,38.847066999999996 L -77.83022299999999,38.84755 L -77.83084699999999,38.848124999999996 L -77.832409,38.849511 L -77.833552,38.850514 L -77.834486,38.851329 L -77.83480999999999,38.851596 L -77.835228,38.85192 L -77.83563,38.85221 L -77.835796,38.852334 L -77.836182,38.852638 L -77.836359,38.852784 L -77.836935,38.85329 L -77.838054,38.854278 L -77.838585,38.854723 L -77.83887899999999,38.854957999999996 L -77.839394,38.855343 L -77.839901,38.855702 L -77.840369,38.856017 L -77.841797,38.856972 L -77.84239099999999,38.857369999999996 L -77.843554,38.858149999999995 L -77.844068,38.858497 L -77.842513,38.858584 L -77.840521,38.858683 L -77.839475,38.85872 L -77.838385,38.859395 L -77.836804,38.860375999999995 L -77.836483,38.860527999999995 L -77.833854,38.861534 L -77.833606,38.861568999999996 L -77.83318299999999,38.861672999999996 L -77.83281199999999,38.86182 L -77.832612,38.861928 L -77.832404,38.862088 L -77.832178,38.862297 L -77.83183799999999,38.862597 L -77.831682,38.862755 L -77.831499,38.86296 L -77.831403,38.863158 L -77.831344,38.863323 L -77.831333,38.863361999999995 L -77.83126399999999,38.863867 L -77.831214,38.864346 L -77.83114599999999,38.864836 L -77.831104,38.865148 L -77.83099399999999,38.865775 L -77.830925,38.866243 L -77.830868,38.866704 L -77.830745,38.868403 L -77.83068999999999,38.869335 L -77.830679,38.869521 L -77.830619,38.870123 L -77.830584,38.870399 L -77.830558,38.870746 L -77.830542,38.871264 L -77.830517,38.872261 L -77.83053,38.873109 L -77.830529,38.873649 L -77.83053799999999,38.8738 L -77.83056499999999,38.87395 L -77.83062199999999,38.874086999999996 L -77.830696,38.874218 L -77.830788,38.874342999999996 L -77.830863,38.874421999999996 L -77.831353,38.874915 L -77.83173699999999,38.875341 L -77.83191599999999,38.87554 L -77.832015,38.875637999999995 L -77.832105,38.875741999999995 L -77.83220399999999,38.875878 L -77.832247,38.875952999999996 L -77.83229899999999,38.876075 L -77.83233299999999,38.876200000000004 L -77.832348,38.876326999999996 L -77.832334,38.876474 L -77.832301,38.876618 L -77.832212,38.876883 L -77.831991,38.87755 L -77.831681,38.878457 L -77.831643,38.878551 L -77.831577,38.878741 L -77.83153999999999,38.878879999999995 L -77.831498,38.879109 L -77.831475,38.87934 L -77.831473,38.879501 L -77.831485,38.879636 L -77.83151699999999,38.879802999999995 L -77.83156699999999,38.879967 L -77.831636,38.880128 L -77.831749,38.880337 L -77.83180999999999,38.880413999999995 L -77.831921,38.88051 L -77.83199499999999,38.880555 L -77.832793,38.881085 L -77.832878,38.881136999999995 L -77.83301,38.881234 L -77.833128,38.881341 L -77.833743,38.882024 L -77.834047,38.882351 L -77.834578,38.882901 L -77.83512499999999,38.883441 L -77.83535499999999,38.883649999999996 L -77.835571,38.883866999999995 L -77.835773,38.884093 L -77.836372,38.884662999999996 L -77.837035,38.885251 L -77.837779,38.885892 L -77.83810199999999,38.886154999999995 L -77.838151,38.886210999999996 L -77.838184,38.886272999999996 L -77.838199,38.88634 L -77.838195,38.886407 L -77.838168,38.886493 L -77.83816399999999,38.88655 L -77.838179,38.886604999999996 L -77.83822599999999,38.88668 L -77.838292,38.886759999999995 L -77.83837299999999,38.886832 L -77.838411,38.886856 L -77.838455,38.886873 L -77.838635,38.886900000000004 L -77.83869,38.886917 L -77.83882899999999,38.886975 L -77.83899699999999,38.887056 L -77.839036,38.887074 L -77.839434,38.8873 L -77.84002699999999,38.887667 L -77.840218,38.887775999999995 L -77.840806,38.888115 L -77.841939,38.888767 L -77.842869,38.889325 L -77.843003,38.889401 L -77.84333199999999,38.889601 L -77.843583,38.889768 L -77.843898,38.889969 L -77.84441,38.890228 L -77.844803,38.890433 L -77.845364,38.890746 L -77.84575199999999,38.890988 L -77.845995,38.891116 L -77.846137,38.891208999999996 L -77.84624099999999,38.891298 L -77.84626399999999,38.891332 L -77.846278,38.891379 L -77.846204,38.891996 L -77.846169,38.892427 L -77.846122,38.892916 L -77.846065,38.893173 L -77.846024,38.893361 L -77.84599,38.893636 L -77.84592599999999,38.894269 L -77.84592599999999,38.894307999999995 L -77.845936,38.894385 L -77.845964,38.89448 L -77.84598199999999,38.894507 L -77.84602199999999,38.894546 L -77.846063,38.89457 L -77.84611799999999,38.894588999999996 L -77.84620000000001,38.894594999999995 L -77.846263,38.894585 L -77.846586,38.894456999999996 L -77.849074,38.893429 L -77.85022599999999,38.892976 L -77.850726,38.892770999999996 L -77.850982,38.892666 L -77.85149899999999,38.892444 L -77.851886,38.892303 L -77.85205599999999,38.892253 L -77.85219599999999,38.892224999999996 L -77.852375,38.892202 L -77.852488,38.89187 L -77.852583,38.89165 L -77.852673,38.891478 L -77.852835,38.891213 L -77.85291,38.891113 L -77.853067,38.890903 L -77.853871,38.889876 L -77.854058,38.889647 L -77.854247,38.889379 L -77.854353,38.889209 L -77.85444199999999,38.889033999999995 L -77.854557,38.888768999999996 L -77.85519099999999,38.887104 L -77.85521399999999,38.887032999999995 L -77.85526899999999,38.886829 L -77.855294,38.886691 L -77.855313,38.886462 L -77.855311,38.886252999999996 L -77.855294,38.885965 L -77.855248,38.885432 L -77.855246,38.885267 L -77.855263,38.885059999999996 L -77.85530899999999,38.884741999999996 L -77.85535999999999,38.884465 L -77.85541099999999,38.88418 L -77.855426,38.883975 L -77.85542699999999,38.883852 L -77.855415,38.883646999999996 L -77.855386,38.883493 L -77.855368,38.88343 L -77.85530899999999,38.883269 L -77.855211,38.883068 L -77.854906,38.882567 L -77.854677,38.882208 L -77.85464,38.882138999999995 L -77.854581,38.882028 L -77.854503,38.881844 L -77.854479,38.881769999999996 L -77.85444,38.881647 L -77.854413,38.881504 L -77.854405,38.881296 L -77.85441399999999,38.881127 L -77.854451,38.880922999999996 L -77.854469,38.880857999999996 L -77.85451599999999,38.880728 L -77.854632,38.880438 L -77.854681,38.880331 L -77.855431,38.878698 L -77.855465,38.878616 L -77.85563599999999,38.878184999999995 L -77.85567499999999,38.877946 L -77.855683,38.877796 L -77.85569,38.877646999999996 L -77.85570899999999,38.877258 L -77.857067,38.877219 L -77.85815,38.877058 L -77.858851,38.87676 L -77.859786,38.87605 L -77.861757,38.873954 L -77.862327,38.873348 L -77.863145,38.872844 L -77.864113,38.872332 L -77.86449,38.872133 L -77.86452299999999,38.872129 L -77.864694,38.87211 L -77.866547,38.871237 L -77.867032,38.871009 L -77.871241,38.869312 L -77.87244,38.869012999999995 L -77.873318,38.868989 L -77.87530799999999,38.869398 L -77.876655,38.869945 L -77.87701299999999,38.870134 L -77.87768,38.870492999999996 L -77.880026,38.872296999999996 L -77.88036799999999,38.872845 L -77.880755,38.873456 L -77.88102599999999,38.874383 L -77.88108299999999,38.874586 L -77.881057,38.875122 z\" /></g></svg>"
      ],
      "text/plain": [
       "<shapely.geometry.polygon.Polygon at 0x7fc6381a6d90>"
      ]
     },
     "metadata": {},
     "output_type": "display_data"
    }
   ],
   "source": [
    "#Show a random difference\n",
    "test = shp_final_merge[~vals].sample(axis = 0, n=1).index[0]\n",
    "print(shp_final_merge[~vals])\n",
    "display(shp_final_merge.iloc[test]['geometry_x'])\n",
    "display(shp_final_merge.iloc[test]['geometry_y'])\n",
    "\n",
    "test = shp_final_merge[~vals].sample(axis = 0).index[0]\n",
    "display(shp_final_merge.iloc[test]['geometry_x'])\n",
    "display(shp_final_merge.iloc[test]['geometry_y'])"
   ]
  },
  {
   "cell_type": "markdown",
   "metadata": {},
   "source": [
    "### Look into county with FIPS 001"
   ]
  },
  {
   "cell_type": "code",
   "execution_count": 112,
   "metadata": {},
   "outputs": [
    {
     "name": "stdout",
     "output_type": "stream",
     "text": [
      "(16, 27)\n"
     ]
    },
    {
     "data": {
      "text/plain": [
       "<matplotlib.axes._subplots.AxesSubplot at 0x7fc62936c070>"
      ]
     },
     "execution_count": 112,
     "metadata": {},
     "output_type": "execute_result"
    },
    {
     "data": {
      "image/png": "[encoded data removed]",
      "text/plain": [
       "<Figure size 432x288 with 1 Axes>"
      ]
     },
     "metadata": {
      "needs_background": "light"
     },
     "output_type": "display_data"
    }
   ],
   "source": [
    "print(shp_final_merge[shp_final_merge['unique_id'].str[0:3] == '001'].shape)\n",
    "ex_x = gpd.GeoDataFrame(shp_final_merge[shp_final_merge['unique_id'].str[0:3]== '001'], geometry = 'geometry_x', crs = proj)\n",
    "ex_y = gpd.GeoDataFrame(shp_final_merge[shp_final_merge['unique_id'].str[0:3]== '001'], geometry = 'geometry_y', crs = proj)\n",
    "\n",
    "gpd.overlay(ex_x, ex_y, how = 'symmetric_difference').plot()"
   ]
  },
  {
   "cell_type": "markdown",
   "metadata": {},
   "source": [
    "### Look into county with FIPS 840"
   ]
  },
  {
   "cell_type": "code",
   "execution_count": 113,
   "metadata": {},
   "outputs": [
    {
     "name": "stdout",
     "output_type": "stream",
     "text": [
      "(6, 27)\n"
     ]
    },
    {
     "data": {
      "text/plain": [
       "<matplotlib.axes._subplots.AxesSubplot at 0x7fc62938c790>"
      ]
     },
     "execution_count": 113,
     "metadata": {},
     "output_type": "execute_result"
    },
    {
     "data": {
      "image/png": "[encoded data removed]",
      "text/plain": [
       "<Figure size 432x288 with 1 Axes>"
      ]
     },
     "metadata": {
      "needs_background": "light"
     },
     "output_type": "display_data"
    }
   ],
   "source": [
    "print(shp_final_merge[shp_final_merge['unique_id'].str[0:3] == '840'].shape)\n",
    "ex_x = gpd.GeoDataFrame(shp_final_merge[shp_final_merge['unique_id'].str[0:3]== '840'], geometry = 'geometry_x', crs = proj)\n",
    "ex_y = gpd.GeoDataFrame(shp_final_merge[shp_final_merge['unique_id'].str[0:3]== '840'], geometry = 'geometry_y', crs = proj)\n",
    "\n",
    "gpd.overlay(ex_x, ex_y, how = 'symmetric_difference').plot()"
   ]
  },
  {
   "cell_type": "markdown",
   "metadata": {},
   "source": [
    "## Election result comparison:"
   ]
  },
  {
   "cell_type": "code",
   "execution_count": 114,
   "metadata": {},
   "outputs": [],
   "source": [
    "column_list = ['G18USSDKAI', 'G18USSRSTE', 'G18USSLWAT', 'G18USSOWRI']"
   ]
  },
  {
   "cell_type": "code",
   "execution_count": 115,
   "metadata": {},
   "outputs": [],
   "source": [
    "final_df_merge = pd.merge(df_with_absentee_reallocated, final, on = 'unique_id_1', how = 'inner', suffixes = ('_x', '_y'))"
   ]
  },
  {
   "cell_type": "code",
   "execution_count": 116,
   "metadata": {},
   "outputs": [],
   "source": [
    "#adapted from PDV training\n",
    "def sum_checker(df, column_list):\n",
    "    list_max = 0\n",
    "    for i in column_list:\n",
    "        left_sum = df[i+'_x'].sum()\n",
    "        right_sum = df[i+'_y'].sum()\n",
    "        if (left_sum == right_sum):\n",
    "            print('column: ', i, ' have the same sums')\n",
    "        \n",
    "        else:\n",
    "            diff = abs(left_sum - right_sum)\n",
    "            percent = abs(left_sum - right_sum)/left_sum\n",
    "            print('column: ', i)\n",
    "            print('RDH sum is ', str(left_sum))\n",
    "            print('Partner sum is ', str(right_sum))\n",
    "            print('their (absolute) difference is ', str(diff))\n",
    "            print('As a percentage of DF1 this is ', str(round(percent*100,5)) + '%')\n",
    "            if (percent>list_max):\n",
    "                list_max = percent\n",
    "            print('')\n",
    "    print('The max difference (as a percent of the total of on DF column is: ', str(round(list_max,5)))"
   ]
  },
  {
   "cell_type": "code",
   "execution_count": 117,
   "metadata": {},
   "outputs": [
    {
     "name": "stdout",
     "output_type": "stream",
     "text": [
      "column:  G18USSDKAI  have the same sums\n",
      "column:  G18USSRSTE\n",
      "RDH sum is  1374310.0\n",
      "Partner sum is  1374313\n",
      "their (absolute) difference is  3.0\n",
      "As a percentage of DF1 this is  0.00022%\n",
      "\n",
      "column:  G18USSLWAT\n",
      "RDH sum is  61503.0\n",
      "Partner sum is  61565\n",
      "their (absolute) difference is  62.0\n",
      "As a percentage of DF1 this is  0.10081%\n",
      "\n",
      "column:  G18USSOWRI\n",
      "RDH sum is  5361.0\n",
      "Partner sum is  5509\n",
      "their (absolute) difference is  148.0\n",
      "As a percentage of DF1 this is  2.76068%\n",
      "\n",
      "The max difference (as a percent of the total of on DF column is:  0.02761\n"
     ]
    }
   ],
   "source": [
    "sum_checker(final_df_merge, column_list)"
   ]
  },
  {
   "cell_type": "markdown",
   "metadata": {},
   "source": [
    "**Bc 1500 off**, would be helpful to know largest amount it is off by - is it truly off bc of rounding?"
   ]
  },
  {
   "cell_type": "code",
   "execution_count": 118,
   "metadata": {},
   "outputs": [],
   "source": [
    "#From Peter's MO\n",
    "def validater_row (df, column_List):\n",
    "    matching_rows = 0\n",
    "    different_rows = 0\n",
    "    diff_list=[]\n",
    "    diff_values = []\n",
    "    max_diff = 0\n",
    "    \n",
    "    for j in range(0,len(df.index)):\n",
    "        same = True\n",
    "        for i in column_List:\n",
    "            left_Data = i + \"_x\"\n",
    "            right_Data = i + \"_y\"\n",
    "            diff = abs(df.iloc[j][left_Data]-df.iloc[j][right_Data])\n",
    "            if(diff != 0):\n",
    "                diff_values.append(abs(diff))\n",
    "                same = False\n",
    "                if(np.isnan(diff)):\n",
    "                    print(\"NaN value at diff is: \", df.iloc[j]['unique_id_1'])\n",
    "                if (diff>max_diff):\n",
    "                    max_diff = diff\n",
    "                    #add line to check percent from total vote difference is\n",
    "                    perc_diff_from_vest = (diff/df.iloc[j][right_Data])*100\n",
    "                    print(\"New max diff is: \", str(max_diff))\n",
    "                    print('% difference from VEST total is: ', str(perc_diff_from_vest))\n",
    "                    print(df.iloc[j]['unique_id_1'])\n",
    "        if(same != True):\n",
    "            different_rows +=1\n",
    "            diff_list.append(df.iloc[j]['unique_id_1'])\n",
    "        else:\n",
    "            matching_rows +=1\n",
    "    print(\"There are \", len(df.index),\" total rows\")\n",
    "    print(different_rows,\" of these rows have election result differences\")\n",
    "    print(matching_rows,\" of these rows are the same\")\n",
    "    print(\"\")\n",
    "    print(\"The max difference between any one shared column in a row is: \", max_diff)\n",
    "    if(len(diff_values)!=0):\n",
    "        print(\"The average difference is: \", str(sum(diff_values)/len(diff_values)))\n",
    "        #add line for % of total vote that difference is\n",
    "    count_big_diff = len([i for i in diff_values if i > 10])\n",
    "    print(\"There are \", str(count_big_diff), \"precinct results with a difference greater than 5\")\n",
    "    diff_list.sort()\n"
   ]
  },
  {
   "cell_type": "code",
   "execution_count": 119,
   "metadata": {},
   "outputs": [
    {
     "name": "stdout",
     "output_type": "stream",
     "text": [
      "New max diff is:  1.0\n",
      "% difference from VEST total is:  0.1798561151079137\n",
      "001101\n",
      "New max diff is:  2.0\n",
      "% difference from VEST total is:  0.17152658662092624\n",
      "019101\n",
      "New max diff is:  3.0\n",
      "% difference from VEST total is:  0.482315112540193\n",
      "019403\n",
      "New max diff is:  4.0\n",
      "% difference from VEST total is:  0.641025641025641\n",
      "019506\n",
      "New max diff is:  12.0\n",
      "% difference from VEST total is:  1.9261637239165328\n",
      "550001\n",
      "New max diff is:  31.0\n",
      "% difference from VEST total is:  1.7136539524599224\n",
      "550003\n",
      "New max diff is:  124.0\n",
      "% difference from VEST total is:  5.115511551155116\n",
      "059229\n",
      "New max diff is:  128.0\n",
      "% difference from VEST total is:  8.66621530128639\n",
      "153112CD 10)\n",
      "New max diff is:  157.0\n",
      "% difference from VEST total is:  8.669243511871894\n",
      "153212\n",
      "There are  2462  total rows\n",
      "1582  of these rows have election result differences\n",
      "880  of these rows are the same\n",
      "\n",
      "The max difference between any one shared column in a row is:  157.0\n",
      "The average difference is:  6.725724637681159\n",
      "There are  479 precinct results with a difference greater than 5\n"
     ]
    }
   ],
   "source": [
    "col_list = column_list\n",
    "validater_row(final_df_merge ,col_list)"
   ]
  },
  {
   "cell_type": "code",
   "execution_count": 120,
   "metadata": {},
   "outputs": [
    {
     "data": {
      "text/html": [
       "<div>\n",
       "<style scoped>\n",
       "    .dataframe tbody tr th:only-of-type {\n",
       "        vertical-align: middle;\n",
       "    }\n",
       "\n",
       "    .dataframe tbody tr th {\n",
       "        vertical-align: top;\n",
       "    }\n",
       "\n",
       "    .dataframe thead th {\n",
       "        text-align: right;\n",
       "    }\n",
       "</style>\n",
       "<table border=\"1\" class=\"dataframe\">\n",
       "  <thead>\n",
       "    <tr style=\"text-align: right;\">\n",
       "      <th></th>\n",
       "      <th>Pct</th>\n",
       "      <th>LOCALITY_x</th>\n",
       "      <th>G18USSDKAI_x</th>\n",
       "      <th>G18USSRSTE_x</th>\n",
       "      <th>G18USSLWAT_x</th>\n",
       "      <th>G18USSOWRI_x</th>\n",
       "      <th>COUNTYFP_x</th>\n",
       "      <th>vtdst</th>\n",
       "      <th>unique_id_x</th>\n",
       "      <th>unique_id_1</th>\n",
       "      <th>COUNTYFP_y</th>\n",
       "      <th>LOCALITY_y</th>\n",
       "      <th>VTDST</th>\n",
       "      <th>PRECINCT</th>\n",
       "      <th>G18USSDKAI_y</th>\n",
       "      <th>G18USSRSTE_y</th>\n",
       "      <th>G18USSLWAT_y</th>\n",
       "      <th>G18USSOWRI_y</th>\n",
       "      <th>geometry</th>\n",
       "      <th>unique_id_y</th>\n",
       "    </tr>\n",
       "  </thead>\n",
       "  <tbody>\n",
       "    <tr>\n",
       "      <th>1800</th>\n",
       "      <td>212 - Yorkshire (CD 10)</td>\n",
       "      <td>Prince William County</td>\n",
       "      <td>1654.0</td>\n",
       "      <td>793.0</td>\n",
       "      <td>46.0</td>\n",
       "      <td>12.0</td>\n",
       "      <td>153</td>\n",
       "      <td>212</td>\n",
       "      <td>153212</td>\n",
       "      <td>153212</td>\n",
       "      <td>153</td>\n",
       "      <td>Prince William County</td>\n",
       "      <td>000212</td>\n",
       "      <td>Yorkshire</td>\n",
       "      <td>1811</td>\n",
       "      <td>842</td>\n",
       "      <td>49</td>\n",
       "      <td>12</td>\n",
       "      <td>POLYGON Z ((-77.47297 38.78839 0.00000, -77.47...</td>\n",
       "      <td>153212</td>\n",
       "    </tr>\n",
       "  </tbody>\n",
       "</table>\n",
       "</div>"
      ],
      "text/plain": [
       "                          Pct             LOCALITY_x  G18USSDKAI_x  \\\n",
       "1800  212 - Yorkshire (CD 10)  Prince William County        1654.0   \n",
       "\n",
       "      G18USSRSTE_x  G18USSLWAT_x  G18USSOWRI_x COUNTYFP_x vtdst unique_id_x  \\\n",
       "1800         793.0          46.0          12.0        153   212      153212   \n",
       "\n",
       "     unique_id_1 COUNTYFP_y             LOCALITY_y   VTDST   PRECINCT  \\\n",
       "1800      153212        153  Prince William County  000212  Yorkshire   \n",
       "\n",
       "      G18USSDKAI_y  G18USSRSTE_y  G18USSLWAT_y  G18USSOWRI_y  \\\n",
       "1800          1811           842            49            12   \n",
       "\n",
       "                                               geometry unique_id_y  \n",
       "1800  POLYGON Z ((-77.47297 38.78839 0.00000, -77.47...      153212  "
      ]
     },
     "execution_count": 120,
     "metadata": {},
     "output_type": "execute_result"
    }
   ],
   "source": [
    "final_df_merge[final_df_merge['unique_id_1'] == '153212']"
   ]
  },
  {
   "cell_type": "code",
   "execution_count": 121,
   "metadata": {},
   "outputs": [
    {
     "data": {
      "text/html": [
       "<div>\n",
       "<style scoped>\n",
       "    .dataframe tbody tr th:only-of-type {\n",
       "        vertical-align: middle;\n",
       "    }\n",
       "\n",
       "    .dataframe tbody tr th {\n",
       "        vertical-align: top;\n",
       "    }\n",
       "\n",
       "    .dataframe thead th {\n",
       "        text-align: right;\n",
       "    }\n",
       "</style>\n",
       "<table border=\"1\" class=\"dataframe\">\n",
       "  <thead>\n",
       "    <tr style=\"text-align: right;\">\n",
       "      <th></th>\n",
       "      <th>Pct</th>\n",
       "      <th>LOCALITY_x</th>\n",
       "      <th>G18USSDKAI_x</th>\n",
       "      <th>G18USSRSTE_x</th>\n",
       "      <th>G18USSLWAT_x</th>\n",
       "      <th>G18USSOWRI_x</th>\n",
       "      <th>COUNTYFP_x</th>\n",
       "      <th>vtdst</th>\n",
       "      <th>unique_id_x</th>\n",
       "      <th>unique_id_1</th>\n",
       "      <th>COUNTYFP_y</th>\n",
       "      <th>LOCALITY_y</th>\n",
       "      <th>VTDST</th>\n",
       "      <th>PRECINCT</th>\n",
       "      <th>G18USSDKAI_y</th>\n",
       "      <th>G18USSRSTE_y</th>\n",
       "      <th>G18USSLWAT_y</th>\n",
       "      <th>G18USSOWRI_y</th>\n",
       "      <th>geometry</th>\n",
       "      <th>unique_id_y</th>\n",
       "    </tr>\n",
       "  </thead>\n",
       "  <tbody>\n",
       "    <tr>\n",
       "      <th>1787</th>\n",
       "      <td>112 - Burke-nickens (CD 10)</td>\n",
       "      <td>Prince William County</td>\n",
       "      <td>1349.0</td>\n",
       "      <td>946.0</td>\n",
       "      <td>45.0</td>\n",
       "      <td>9.0</td>\n",
       "      <td>153</td>\n",
       "      <td>112</td>\n",
       "      <td>153112</td>\n",
       "      <td>153112CD 10)</td>\n",
       "      <td>153</td>\n",
       "      <td>Prince William County</td>\n",
       "      <td>000112</td>\n",
       "      <td>Burke-Nickens (CD 10)</td>\n",
       "      <td>1477</td>\n",
       "      <td>1005</td>\n",
       "      <td>48</td>\n",
       "      <td>10</td>\n",
       "      <td>POLYGON Z ((-77.70994 38.82376 0.00000, -77.70...</td>\n",
       "      <td>153112</td>\n",
       "    </tr>\n",
       "  </tbody>\n",
       "</table>\n",
       "</div>"
      ],
      "text/plain": [
       "                              Pct             LOCALITY_x  G18USSDKAI_x  \\\n",
       "1787  112 - Burke-nickens (CD 10)  Prince William County        1349.0   \n",
       "\n",
       "      G18USSRSTE_x  G18USSLWAT_x  G18USSOWRI_x COUNTYFP_x vtdst unique_id_x  \\\n",
       "1787         946.0          45.0           9.0        153   112      153112   \n",
       "\n",
       "       unique_id_1 COUNTYFP_y             LOCALITY_y   VTDST  \\\n",
       "1787  153112CD 10)        153  Prince William County  000112   \n",
       "\n",
       "                   PRECINCT  G18USSDKAI_y  G18USSRSTE_y  G18USSLWAT_y  \\\n",
       "1787  Burke-Nickens (CD 10)          1477          1005            48   \n",
       "\n",
       "      G18USSOWRI_y                                           geometry  \\\n",
       "1787            10  POLYGON Z ((-77.70994 38.82376 0.00000, -77.70...   \n",
       "\n",
       "     unique_id_y  \n",
       "1787      153112  "
      ]
     },
     "execution_count": 121,
     "metadata": {},
     "output_type": "execute_result"
    }
   ],
   "source": [
    "final_df_merge[final_df_merge['unique_id_1'] == '153112CD 10)']"
   ]
  },
  {
   "cell_type": "code",
   "execution_count": 122,
   "metadata": {},
   "outputs": [
    {
     "data": {
      "text/html": [
       "<div>\n",
       "<style scoped>\n",
       "    .dataframe tbody tr th:only-of-type {\n",
       "        vertical-align: middle;\n",
       "    }\n",
       "\n",
       "    .dataframe tbody tr th {\n",
       "        vertical-align: top;\n",
       "    }\n",
       "\n",
       "    .dataframe thead th {\n",
       "        text-align: right;\n",
       "    }\n",
       "</style>\n",
       "<table border=\"1\" class=\"dataframe\">\n",
       "  <thead>\n",
       "    <tr style=\"text-align: right;\">\n",
       "      <th></th>\n",
       "      <th>Pct</th>\n",
       "      <th>LOCALITY_x</th>\n",
       "      <th>G18USSDKAI_x</th>\n",
       "      <th>G18USSRSTE_x</th>\n",
       "      <th>G18USSLWAT_x</th>\n",
       "      <th>G18USSOWRI_x</th>\n",
       "      <th>COUNTYFP_x</th>\n",
       "      <th>vtdst</th>\n",
       "      <th>unique_id_x</th>\n",
       "      <th>unique_id_1</th>\n",
       "      <th>COUNTYFP_y</th>\n",
       "      <th>LOCALITY_y</th>\n",
       "      <th>VTDST</th>\n",
       "      <th>PRECINCT</th>\n",
       "      <th>G18USSDKAI_y</th>\n",
       "      <th>G18USSRSTE_y</th>\n",
       "      <th>G18USSLWAT_y</th>\n",
       "      <th>G18USSOWRI_y</th>\n",
       "      <th>geometry</th>\n",
       "      <th>unique_id_y</th>\n",
       "    </tr>\n",
       "  </thead>\n",
       "  <tbody>\n",
       "    <tr>\n",
       "      <th>635</th>\n",
       "      <td>229 - Fox Mill (CD 10)</td>\n",
       "      <td>Fairfax County</td>\n",
       "      <td>2300.0</td>\n",
       "      <td>1081.0</td>\n",
       "      <td>62.0</td>\n",
       "      <td>4.0</td>\n",
       "      <td>059</td>\n",
       "      <td>229</td>\n",
       "      <td>059229</td>\n",
       "      <td>059229</td>\n",
       "      <td>059</td>\n",
       "      <td>Fairfax County</td>\n",
       "      <td>000229</td>\n",
       "      <td>Fox Mill</td>\n",
       "      <td>2424</td>\n",
       "      <td>1106</td>\n",
       "      <td>64</td>\n",
       "      <td>4</td>\n",
       "      <td>POLYGON Z ((-77.39645 38.92135 0.00000, -77.39...</td>\n",
       "      <td>059229</td>\n",
       "    </tr>\n",
       "  </tbody>\n",
       "</table>\n",
       "</div>"
      ],
      "text/plain": [
       "                        Pct      LOCALITY_x  G18USSDKAI_x  G18USSRSTE_x  \\\n",
       "635  229 - Fox Mill (CD 10)  Fairfax County        2300.0        1081.0   \n",
       "\n",
       "     G18USSLWAT_x  G18USSOWRI_x COUNTYFP_x vtdst unique_id_x unique_id_1  \\\n",
       "635          62.0           4.0        059   229      059229      059229   \n",
       "\n",
       "    COUNTYFP_y      LOCALITY_y   VTDST  PRECINCT  G18USSDKAI_y  G18USSRSTE_y  \\\n",
       "635        059  Fairfax County  000229  Fox Mill          2424          1106   \n",
       "\n",
       "     G18USSLWAT_y  G18USSOWRI_y  \\\n",
       "635            64             4   \n",
       "\n",
       "                                              geometry unique_id_y  \n",
       "635  POLYGON Z ((-77.39645 38.92135 0.00000, -77.39...      059229  "
      ]
     },
     "execution_count": 122,
     "metadata": {},
     "output_type": "execute_result"
    }
   ],
   "source": [
    "final_df_merge[final_df_merge['unique_id_1'] == '059229']"
   ]
  },
  {
   "cell_type": "code",
   "execution_count": 123,
   "metadata": {},
   "outputs": [
    {
     "data": {
      "text/html": [
       "<div>\n",
       "<style scoped>\n",
       "    .dataframe tbody tr th:only-of-type {\n",
       "        vertical-align: middle;\n",
       "    }\n",
       "\n",
       "    .dataframe tbody tr th {\n",
       "        vertical-align: top;\n",
       "    }\n",
       "\n",
       "    .dataframe thead th {\n",
       "        text-align: right;\n",
       "    }\n",
       "</style>\n",
       "<table border=\"1\" class=\"dataframe\">\n",
       "  <thead>\n",
       "    <tr style=\"text-align: right;\">\n",
       "      <th></th>\n",
       "      <th>Pct</th>\n",
       "      <th>LOCALITY_x</th>\n",
       "      <th>G18USSDKAI_x</th>\n",
       "      <th>G18USSRSTE_x</th>\n",
       "      <th>G18USSLWAT_x</th>\n",
       "      <th>G18USSOWRI_x</th>\n",
       "      <th>COUNTYFP_x</th>\n",
       "      <th>vtdst</th>\n",
       "      <th>unique_id_x</th>\n",
       "      <th>unique_id_1</th>\n",
       "      <th>COUNTYFP_y</th>\n",
       "      <th>LOCALITY_y</th>\n",
       "      <th>VTDST</th>\n",
       "      <th>PRECINCT</th>\n",
       "      <th>G18USSDKAI_y</th>\n",
       "      <th>G18USSRSTE_y</th>\n",
       "      <th>G18USSLWAT_y</th>\n",
       "      <th>G18USSOWRI_y</th>\n",
       "      <th>geometry</th>\n",
       "      <th>unique_id_y</th>\n",
       "    </tr>\n",
       "  </thead>\n",
       "  <tbody>\n",
       "    <tr>\n",
       "      <th>358</th>\n",
       "      <td>3 - Camelot (CD 3)</td>\n",
       "      <td>Chesapeake City</td>\n",
       "      <td>1840.0</td>\n",
       "      <td>117.0</td>\n",
       "      <td>11.0</td>\n",
       "      <td>3.0</td>\n",
       "      <td>550</td>\n",
       "      <td>003</td>\n",
       "      <td>550003</td>\n",
       "      <td>550003</td>\n",
       "      <td>550</td>\n",
       "      <td>Chesapeake City</td>\n",
       "      <td>000003</td>\n",
       "      <td>Camelot</td>\n",
       "      <td>1809</td>\n",
       "      <td>116</td>\n",
       "      <td>11</td>\n",
       "      <td>4</td>\n",
       "      <td>POLYGON Z ((-76.36447 36.77827 0.00000, -76.36...</td>\n",
       "      <td>550003</td>\n",
       "    </tr>\n",
       "  </tbody>\n",
       "</table>\n",
       "</div>"
      ],
      "text/plain": [
       "                    Pct       LOCALITY_x  G18USSDKAI_x  G18USSRSTE_x  \\\n",
       "358  3 - Camelot (CD 3)  Chesapeake City        1840.0         117.0   \n",
       "\n",
       "     G18USSLWAT_x  G18USSOWRI_x COUNTYFP_x vtdst unique_id_x unique_id_1  \\\n",
       "358          11.0           3.0        550   003      550003      550003   \n",
       "\n",
       "    COUNTYFP_y       LOCALITY_y   VTDST PRECINCT  G18USSDKAI_y  G18USSRSTE_y  \\\n",
       "358        550  Chesapeake City  000003  Camelot          1809           116   \n",
       "\n",
       "     G18USSLWAT_y  G18USSOWRI_y  \\\n",
       "358            11             4   \n",
       "\n",
       "                                              geometry unique_id_y  \n",
       "358  POLYGON Z ((-76.36447 36.77827 0.00000, -76.36...      550003  "
      ]
     },
     "execution_count": 123,
     "metadata": {},
     "output_type": "execute_result"
    }
   ],
   "source": [
    "final_df_merge[final_df_merge['unique_id_1'] == '550003']"
   ]
  },
  {
   "cell_type": "code",
   "execution_count": null,
   "metadata": {},
   "outputs": [],
   "source": []
  }
 ],
 "metadata": {
  "kernelspec": {
   "display_name": "Python 3",
   "language": "python",
   "name": "python3"
  },
  "language_info": {
   "codemirror_mode": {
    "name": "ipython",
    "version": 3
   },
   "file_extension": ".py",
   "mimetype": "text/x-python",
   "name": "python",
   "nbconvert_exporter": "python",
   "pygments_lexer": "ipython3",
   "version": "3.8.3"
  }
 },
 "nbformat": 4,
 "nbformat_minor": 4
}
