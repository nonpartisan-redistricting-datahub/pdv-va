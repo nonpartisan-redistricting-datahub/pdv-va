{
 "cells": [
  {
   "cell_type": "code",
   "execution_count": 190,
   "metadata": {},
   "outputs": [],
   "source": [
    "import pandas as pd\n",
    "import geopandas as gpd\n",
    "import matplotlib.pyplot as plt\n",
    "import maup\n",
    "from zipfile import ZipFile\n",
    "import numpy as np\n",
    "import os\n",
    "import shutil"
   ]
  },
  {
   "cell_type": "markdown",
   "metadata": {},
   "source": [
    "# US Senate"
   ]
  },
  {
   "cell_type": "code",
   "execution_count": 191,
   "metadata": {},
   "outputs": [],
   "source": [
    "#Read in election results\n",
    "#unzip all county shapefiles\n",
    "#read in all county shapefiles\n",
    "#concatenate all files (same fields should keep it simple) - use a dictionary?"
   ]
  },
  {
   "cell_type": "markdown",
   "metadata": {},
   "source": [
    "### Final File - Load"
   ]
  },
  {
   "cell_type": "code",
   "execution_count": 196,
   "metadata": {},
   "outputs": [],
   "source": [
    "#Check out final file: https://dataverse.harvard.edu/file.xhtml?persistentId=doi:10.7910/DVN/UBKYRU/FQDLOO&version=33.0 \n",
    "final = gpd.read_file('./vest_va/va_2018_senate/va_2018_senate.shp')"
   ]
  },
  {
   "cell_type": "code",
   "execution_count": 197,
   "metadata": {},
   "outputs": [
    {
     "data": {
      "text/html": [
       "<div>\n",
       "<style scoped>\n",
       "    .dataframe tbody tr th:only-of-type {\n",
       "        vertical-align: middle;\n",
       "    }\n",
       "\n",
       "    .dataframe tbody tr th {\n",
       "        vertical-align: top;\n",
       "    }\n",
       "\n",
       "    .dataframe thead th {\n",
       "        text-align: right;\n",
       "    }\n",
       "</style>\n",
       "<table border=\"1\" class=\"dataframe\">\n",
       "  <thead>\n",
       "    <tr style=\"text-align: right;\">\n",
       "      <th></th>\n",
       "      <th>COUNTYFP</th>\n",
       "      <th>LOCALITY</th>\n",
       "      <th>VTDST</th>\n",
       "      <th>PRECINCT</th>\n",
       "      <th>G18USSDKAI</th>\n",
       "      <th>G18USSRSTE</th>\n",
       "      <th>G18USSLWAT</th>\n",
       "      <th>G18USSOWRI</th>\n",
       "      <th>geometry</th>\n",
       "    </tr>\n",
       "  </thead>\n",
       "  <tbody>\n",
       "    <tr>\n",
       "      <th>0</th>\n",
       "      <td>001</td>\n",
       "      <td>Accomack County</td>\n",
       "      <td>000101</td>\n",
       "      <td>Chincoteague</td>\n",
       "      <td>556</td>\n",
       "      <td>994</td>\n",
       "      <td>17</td>\n",
       "      <td>0</td>\n",
       "      <td>POLYGON Z ((-75.42507 37.89957 0.00000, -75.42...</td>\n",
       "    </tr>\n",
       "    <tr>\n",
       "      <th>1</th>\n",
       "      <td>001</td>\n",
       "      <td>Accomack County</td>\n",
       "      <td>000201</td>\n",
       "      <td>Atlantic</td>\n",
       "      <td>182</td>\n",
       "      <td>459</td>\n",
       "      <td>11</td>\n",
       "      <td>0</td>\n",
       "      <td>POLYGON Z ((-75.59978 37.87664 0.00000, -75.59...</td>\n",
       "    </tr>\n",
       "    <tr>\n",
       "      <th>2</th>\n",
       "      <td>001</td>\n",
       "      <td>Accomack County</td>\n",
       "      <td>000202</td>\n",
       "      <td>Greenbackville</td>\n",
       "      <td>316</td>\n",
       "      <td>577</td>\n",
       "      <td>8</td>\n",
       "      <td>1</td>\n",
       "      <td>POLYGON Z ((-75.49919 37.93416 0.00000, -75.49...</td>\n",
       "    </tr>\n",
       "    <tr>\n",
       "      <th>3</th>\n",
       "      <td>001</td>\n",
       "      <td>Accomack County</td>\n",
       "      <td>000301</td>\n",
       "      <td>New Church</td>\n",
       "      <td>588</td>\n",
       "      <td>477</td>\n",
       "      <td>11</td>\n",
       "      <td>0</td>\n",
       "      <td>POLYGON Z ((-75.64987 37.92702 0.00000, -75.64...</td>\n",
       "    </tr>\n",
       "    <tr>\n",
       "      <th>4</th>\n",
       "      <td>001</td>\n",
       "      <td>Accomack County</td>\n",
       "      <td>000401</td>\n",
       "      <td>Bloxom</td>\n",
       "      <td>121</td>\n",
       "      <td>277</td>\n",
       "      <td>4</td>\n",
       "      <td>0</td>\n",
       "      <td>POLYGON Z ((-75.71556 37.87513 0.00000, -75.71...</td>\n",
       "    </tr>\n",
       "  </tbody>\n",
       "</table>\n",
       "</div>"
      ],
      "text/plain": [
       "  COUNTYFP         LOCALITY   VTDST        PRECINCT  G18USSDKAI  G18USSRSTE  \\\n",
       "0      001  Accomack County  000101    Chincoteague         556         994   \n",
       "1      001  Accomack County  000201        Atlantic         182         459   \n",
       "2      001  Accomack County  000202  Greenbackville         316         577   \n",
       "3      001  Accomack County  000301      New Church         588         477   \n",
       "4      001  Accomack County  000401          Bloxom         121         277   \n",
       "\n",
       "   G18USSLWAT  G18USSOWRI                                           geometry  \n",
       "0          17           0  POLYGON Z ((-75.42507 37.89957 0.00000, -75.42...  \n",
       "1          11           0  POLYGON Z ((-75.59978 37.87664 0.00000, -75.59...  \n",
       "2           8           1  POLYGON Z ((-75.49919 37.93416 0.00000, -75.49...  \n",
       "3          11           0  POLYGON Z ((-75.64987 37.92702 0.00000, -75.64...  \n",
       "4           4           0  POLYGON Z ((-75.71556 37.87513 0.00000, -75.71...  "
      ]
     },
     "execution_count": 197,
     "metadata": {},
     "output_type": "execute_result"
    }
   ],
   "source": [
    "final.head() #\tG18USSOWRI = \"Write-in Votes\" from vest documentation"
   ]
  },
  {
   "cell_type": "markdown",
   "metadata": {},
   "source": [
    "# Election Results: US Senate "
   ]
  },
  {
   "cell_type": "code",
   "execution_count": 198,
   "metadata": {},
   "outputs": [],
   "source": [
    "#US senate results from the state: https://historical.elections.virginia.gov/elections/view/134055/ \n",
    "df = pd.read_csv('./vest_va/Virginia_Elections_Database__2018_U_S_Senate_General_Election_including_precincts.csv')"
   ]
  },
  {
   "cell_type": "markdown",
   "metadata": {},
   "source": [
    "- Election race/Candidate name format change to match VEST\n",
    "- precinct identifier change to match"
   ]
  },
  {
   "cell_type": "code",
   "execution_count": 199,
   "metadata": {},
   "outputs": [
    {
     "data": {
      "text/html": [
       "<div>\n",
       "<style scoped>\n",
       "    .dataframe tbody tr th:only-of-type {\n",
       "        vertical-align: middle;\n",
       "    }\n",
       "\n",
       "    .dataframe tbody tr th {\n",
       "        vertical-align: top;\n",
       "    }\n",
       "\n",
       "    .dataframe thead th {\n",
       "        text-align: right;\n",
       "    }\n",
       "</style>\n",
       "<table border=\"1\" class=\"dataframe\">\n",
       "  <thead>\n",
       "    <tr style=\"text-align: right;\">\n",
       "      <th></th>\n",
       "      <th>County/City</th>\n",
       "      <th>Ward</th>\n",
       "      <th>Pct</th>\n",
       "      <th>Timothy Michael Kaine</th>\n",
       "      <th>Corey Alan Stewart</th>\n",
       "      <th>Matthew Joseph Waters</th>\n",
       "      <th>All Others</th>\n",
       "      <th>Total Votes Cast</th>\n",
       "    </tr>\n",
       "  </thead>\n",
       "  <tbody>\n",
       "    <tr>\n",
       "      <th>0</th>\n",
       "      <td>NaN</td>\n",
       "      <td>NaN</td>\n",
       "      <td>NaN</td>\n",
       "      <td>Democratic</td>\n",
       "      <td>Republican</td>\n",
       "      <td>Libertarian</td>\n",
       "      <td>NaN</td>\n",
       "      <td>NaN</td>\n",
       "    </tr>\n",
       "    <tr>\n",
       "      <th>1</th>\n",
       "      <td>Accomack County</td>\n",
       "      <td>-</td>\n",
       "      <td>101 - Chincoteague</td>\n",
       "      <td>487</td>\n",
       "      <td>932</td>\n",
       "      <td>16</td>\n",
       "      <td>0</td>\n",
       "      <td>1,435</td>\n",
       "    </tr>\n",
       "    <tr>\n",
       "      <th>2</th>\n",
       "      <td>Accomack County</td>\n",
       "      <td>-</td>\n",
       "      <td>201 - Atlantic</td>\n",
       "      <td>159</td>\n",
       "      <td>430</td>\n",
       "      <td>10</td>\n",
       "      <td>0</td>\n",
       "      <td>599</td>\n",
       "    </tr>\n",
       "    <tr>\n",
       "      <th>3</th>\n",
       "      <td>Accomack County</td>\n",
       "      <td>-</td>\n",
       "      <td>202 - Greenbackville</td>\n",
       "      <td>277</td>\n",
       "      <td>541</td>\n",
       "      <td>7</td>\n",
       "      <td>1</td>\n",
       "      <td>826</td>\n",
       "    </tr>\n",
       "    <tr>\n",
       "      <th>4</th>\n",
       "      <td>Accomack County</td>\n",
       "      <td>-</td>\n",
       "      <td>301 - New Church</td>\n",
       "      <td>515</td>\n",
       "      <td>447</td>\n",
       "      <td>10</td>\n",
       "      <td>0</td>\n",
       "      <td>972</td>\n",
       "    </tr>\n",
       "  </tbody>\n",
       "</table>\n",
       "</div>"
      ],
      "text/plain": [
       "       County/City Ward                   Pct Timothy Michael Kaine  \\\n",
       "0              NaN  NaN                   NaN            Democratic   \n",
       "1  Accomack County    -    101 - Chincoteague                   487   \n",
       "2  Accomack County    -        201 - Atlantic                   159   \n",
       "3  Accomack County    -  202 - Greenbackville                   277   \n",
       "4  Accomack County    -      301 - New Church                   515   \n",
       "\n",
       "  Corey Alan Stewart Matthew Joseph Waters All Others Total Votes Cast  \n",
       "0         Republican           Libertarian        NaN              NaN  \n",
       "1                932                    16          0            1,435  \n",
       "2                430                    10          0              599  \n",
       "3                541                     7          1              826  \n",
       "4                447                    10          0              972  "
      ]
     },
     "execution_count": 199,
     "metadata": {},
     "output_type": "execute_result"
    }
   ],
   "source": [
    "df.head() #Ward not appearing, should it?"
   ]
  },
  {
   "cell_type": "markdown",
   "metadata": {},
   "source": [
    "## Figure out overlap and rename accordingly to match final file"
   ]
  },
  {
   "cell_type": "markdown",
   "metadata": {},
   "source": [
    "**From shp**, want columns: ['COUNTYFP', 'VTDST', 'geometry']\n",
    "\n",
    "**From df**, want columns: ['Count/City'] adapted to match ['LOCALITY'], ['Pct'] adapted to ['PRECINCT'], all election/candidate/race formats match final"
   ]
  },
  {
   "cell_type": "code",
   "execution_count": 202,
   "metadata": {},
   "outputs": [
    {
     "data": {
      "text/plain": [
       "{'TOTALS', nan}"
      ]
     },
     "execution_count": 202,
     "metadata": {},
     "output_type": "execute_result"
    }
   ],
   "source": [
    "set(df['County/City']) - set(final['LOCALITY']) #account for totals later"
   ]
  },
  {
   "cell_type": "markdown",
   "metadata": {},
   "source": [
    "RENAME COLUMNS BUT NO CONTENT CHANGE"
   ]
  },
  {
   "cell_type": "code",
   "execution_count": 203,
   "metadata": {},
   "outputs": [
    {
     "data": {
      "text/html": [
       "<div>\n",
       "<style scoped>\n",
       "    .dataframe tbody tr th:only-of-type {\n",
       "        vertical-align: middle;\n",
       "    }\n",
       "\n",
       "    .dataframe tbody tr th {\n",
       "        vertical-align: top;\n",
       "    }\n",
       "\n",
       "    .dataframe thead th {\n",
       "        text-align: right;\n",
       "    }\n",
       "</style>\n",
       "<table border=\"1\" class=\"dataframe\">\n",
       "  <thead>\n",
       "    <tr style=\"text-align: right;\">\n",
       "      <th></th>\n",
       "      <th>Pct</th>\n",
       "      <th>LOCALITY</th>\n",
       "      <th>G18USSDKAI</th>\n",
       "      <th>G18USSRSTE</th>\n",
       "      <th>G18USSLWAT</th>\n",
       "      <th>G18USSOWRI</th>\n",
       "    </tr>\n",
       "  </thead>\n",
       "  <tbody>\n",
       "    <tr>\n",
       "      <th>1</th>\n",
       "      <td>101 - Chincoteague</td>\n",
       "      <td>Accomack County</td>\n",
       "      <td>487</td>\n",
       "      <td>932</td>\n",
       "      <td>16</td>\n",
       "      <td>0</td>\n",
       "    </tr>\n",
       "    <tr>\n",
       "      <th>2</th>\n",
       "      <td>201 - Atlantic</td>\n",
       "      <td>Accomack County</td>\n",
       "      <td>159</td>\n",
       "      <td>430</td>\n",
       "      <td>10</td>\n",
       "      <td>0</td>\n",
       "    </tr>\n",
       "    <tr>\n",
       "      <th>3</th>\n",
       "      <td>202 - Greenbackville</td>\n",
       "      <td>Accomack County</td>\n",
       "      <td>277</td>\n",
       "      <td>541</td>\n",
       "      <td>7</td>\n",
       "      <td>1</td>\n",
       "    </tr>\n",
       "    <tr>\n",
       "      <th>4</th>\n",
       "      <td>301 - New Church</td>\n",
       "      <td>Accomack County</td>\n",
       "      <td>515</td>\n",
       "      <td>447</td>\n",
       "      <td>10</td>\n",
       "      <td>0</td>\n",
       "    </tr>\n",
       "    <tr>\n",
       "      <th>5</th>\n",
       "      <td>401 - Bloxom</td>\n",
       "      <td>Accomack County</td>\n",
       "      <td>106</td>\n",
       "      <td>260</td>\n",
       "      <td>4</td>\n",
       "      <td>0</td>\n",
       "    </tr>\n",
       "  </tbody>\n",
       "</table>\n",
       "</div>"
      ],
      "text/plain": [
       "                    Pct         LOCALITY G18USSDKAI G18USSRSTE G18USSLWAT  \\\n",
       "1    101 - Chincoteague  Accomack County        487        932         16   \n",
       "2        201 - Atlantic  Accomack County        159        430         10   \n",
       "3  202 - Greenbackville  Accomack County        277        541          7   \n",
       "4      301 - New Church  Accomack County        515        447         10   \n",
       "5          401 - Bloxom  Accomack County        106        260          4   \n",
       "\n",
       "  G18USSOWRI  \n",
       "1          0  \n",
       "2          0  \n",
       "3          1  \n",
       "4          0  \n",
       "5          0  "
      ]
     },
     "execution_count": 203,
     "metadata": {},
     "output_type": "execute_result"
    }
   ],
   "source": [
    "df['LOCALITY'] = df['County/City']\n",
    "df['G18USSDKAI'] = df['Timothy Michael Kaine']\n",
    "df['G18USSRSTE'] = df['Corey Alan Stewart']\n",
    "df['G18USSLWAT'] = df['Matthew Joseph Waters']\n",
    "df['G18USSOWRI'] = df['All Others']\n",
    "df = df.iloc[1:]\n",
    "df = df.drop(['County/City', 'Ward', 'Timothy Michael Kaine', 'Corey Alan Stewart', 'Matthew Joseph Waters', 'All Others', 'Total Votes Cast'], axis = 1)\n",
    "df.head()"
   ]
  },
  {
   "cell_type": "code",
   "execution_count": 24,
   "metadata": {},
   "outputs": [
    {
     "data": {
      "text/plain": [
       "2441"
      ]
     },
     "execution_count": 24,
     "metadata": {},
     "output_type": "execute_result"
    }
   ],
   "source": [
    "(final['LOCALITY'] + final['VTDST'].str.slice(start = 3)).nunique()"
   ]
  },
  {
   "cell_type": "markdown",
   "metadata": {},
   "source": [
    "While the first three digits of `VTDST` are not always 0, locality combined with the last three of that code still has the same number of unique values."
   ]
  },
  {
   "cell_type": "markdown",
   "metadata": {},
   "source": [
    "## Look into merges\n",
    "\n",
    "Peter noted that these were likely geometry changes that we will not worry about. Instead, need to focus on re-allocating votes."
   ]
  },
  {
   "cell_type": "code",
   "execution_count": 204,
   "metadata": {},
   "outputs": [
    {
     "data": {
      "text/html": [
       "<div>\n",
       "<style scoped>\n",
       "    .dataframe tbody tr th:only-of-type {\n",
       "        vertical-align: middle;\n",
       "    }\n",
       "\n",
       "    .dataframe tbody tr th {\n",
       "        vertical-align: top;\n",
       "    }\n",
       "\n",
       "    .dataframe thead th {\n",
       "        text-align: right;\n",
       "    }\n",
       "</style>\n",
       "<table border=\"1\" class=\"dataframe\">\n",
       "  <thead>\n",
       "    <tr style=\"text-align: right;\">\n",
       "      <th></th>\n",
       "      <th>Pct</th>\n",
       "      <th>LOCALITY</th>\n",
       "      <th>G18USSDKAI</th>\n",
       "      <th>G18USSRSTE</th>\n",
       "      <th>G18USSLWAT</th>\n",
       "      <th>G18USSOWRI</th>\n",
       "    </tr>\n",
       "  </thead>\n",
       "  <tbody>\n",
       "    <tr>\n",
       "      <th>48</th>\n",
       "      <td>606 - Mechums River</td>\n",
       "      <td>Albemarle County</td>\n",
       "      <td>1,426</td>\n",
       "      <td>695</td>\n",
       "      <td>61</td>\n",
       "      <td>4</td>\n",
       "    </tr>\n",
       "  </tbody>\n",
       "</table>\n",
       "</div>"
      ],
      "text/plain": [
       "                    Pct          LOCALITY G18USSDKAI G18USSRSTE G18USSLWAT  \\\n",
       "48  606 - Mechums River  Albemarle County      1,426        695         61   \n",
       "\n",
       "   G18USSOWRI  \n",
       "48          4  "
      ]
     },
     "execution_count": 204,
     "metadata": {},
     "output_type": "execute_result"
    }
   ],
   "source": [
    "# 'Albemarle: Add Mechums River to match county GIS shapefile'\n",
    "df[df['LOCALITY'].map(lambda x: 'Albemarle' in str(x)) & df['Pct'].map(lambda x: 'Mechums' in str(x))]"
   ]
  },
  {
   "cell_type": "code",
   "execution_count": 205,
   "metadata": {},
   "outputs": [
    {
     "data": {
      "text/html": [
       "<div>\n",
       "<style scoped>\n",
       "    .dataframe tbody tr th:only-of-type {\n",
       "        vertical-align: middle;\n",
       "    }\n",
       "\n",
       "    .dataframe tbody tr th {\n",
       "        vertical-align: top;\n",
       "    }\n",
       "\n",
       "    .dataframe thead th {\n",
       "        text-align: right;\n",
       "    }\n",
       "</style>\n",
       "<table border=\"1\" class=\"dataframe\">\n",
       "  <thead>\n",
       "    <tr style=\"text-align: right;\">\n",
       "      <th></th>\n",
       "      <th>Pct</th>\n",
       "      <th>LOCALITY</th>\n",
       "      <th>G18USSDKAI</th>\n",
       "      <th>G18USSRSTE</th>\n",
       "      <th>G18USSLWAT</th>\n",
       "      <th>G18USSOWRI</th>\n",
       "    </tr>\n",
       "  </thead>\n",
       "  <tbody>\n",
       "    <tr>\n",
       "      <th>177</th>\n",
       "      <td>52 - Gunston</td>\n",
       "      <td>Arlington County</td>\n",
       "      <td>1,092</td>\n",
       "      <td>193</td>\n",
       "      <td>41</td>\n",
       "      <td>8</td>\n",
       "    </tr>\n",
       "  </tbody>\n",
       "</table>\n",
       "</div>"
      ],
      "text/plain": [
       "              Pct          LOCALITY G18USSDKAI G18USSRSTE G18USSLWAT  \\\n",
       "177  52 - Gunston  Arlington County      1,092        193         41   \n",
       "\n",
       "    G18USSOWRI  \n",
       "177          8  "
      ]
     },
     "execution_count": 205,
     "metadata": {},
     "output_type": "execute_result"
    }
   ],
   "source": [
    "# 'Arlington: Adjust Gunston/Oakridge to match county GIS shapefile'\n",
    "df[(df['LOCALITY'].map(lambda x: 'Arlington' in str(x)) & df['Pct'].map(lambda x: 'Gunston' in str(x)))] "
   ]
  },
  {
   "cell_type": "code",
   "execution_count": 206,
   "metadata": {},
   "outputs": [
    {
     "data": {
      "text/html": [
       "<div>\n",
       "<style scoped>\n",
       "    .dataframe tbody tr th:only-of-type {\n",
       "        vertical-align: middle;\n",
       "    }\n",
       "\n",
       "    .dataframe tbody tr th {\n",
       "        vertical-align: top;\n",
       "    }\n",
       "\n",
       "    .dataframe thead th {\n",
       "        text-align: right;\n",
       "    }\n",
       "</style>\n",
       "<table border=\"1\" class=\"dataframe\">\n",
       "  <thead>\n",
       "    <tr style=\"text-align: right;\">\n",
       "      <th></th>\n",
       "      <th>COUNTYFP</th>\n",
       "      <th>LOCALITY</th>\n",
       "      <th>VTDST</th>\n",
       "      <th>PRECINCT</th>\n",
       "      <th>G18USSDKAI</th>\n",
       "      <th>G18USSRSTE</th>\n",
       "      <th>G18USSLWAT</th>\n",
       "      <th>G18USSOWRI</th>\n",
       "      <th>geometry</th>\n",
       "    </tr>\n",
       "  </thead>\n",
       "  <tbody>\n",
       "    <tr>\n",
       "      <th>2418</th>\n",
       "      <td>013</td>\n",
       "      <td>Arlington County</td>\n",
       "      <td>000052</td>\n",
       "      <td>Gunston</td>\n",
       "      <td>1375</td>\n",
       "      <td>224</td>\n",
       "      <td>47</td>\n",
       "      <td>9</td>\n",
       "      <td>POLYGON Z ((-77.08225 38.84343 0.00000, -77.08...</td>\n",
       "    </tr>\n",
       "  </tbody>\n",
       "</table>\n",
       "</div>"
      ],
      "text/plain": [
       "     COUNTYFP          LOCALITY   VTDST PRECINCT  G18USSDKAI  G18USSRSTE  \\\n",
       "2418      013  Arlington County  000052  Gunston        1375         224   \n",
       "\n",
       "      G18USSLWAT  G18USSOWRI  \\\n",
       "2418          47           9   \n",
       "\n",
       "                                               geometry  \n",
       "2418  POLYGON Z ((-77.08225 38.84343 0.00000, -77.08...  "
      ]
     },
     "execution_count": 206,
     "metadata": {},
     "output_type": "execute_result"
    }
   ],
   "source": [
    "final[(final['LOCALITY'].map(lambda x: 'Arlington' in str(x)) & final['PRECINCT'].map(lambda x: 'Gunston' in str(x)))]"
   ]
  },
  {
   "cell_type": "code",
   "execution_count": 31,
   "metadata": {},
   "outputs": [
    {
     "data": {
      "text/html": [
       "<div>\n",
       "<style scoped>\n",
       "    .dataframe tbody tr th:only-of-type {\n",
       "        vertical-align: middle;\n",
       "    }\n",
       "\n",
       "    .dataframe tbody tr th {\n",
       "        vertical-align: top;\n",
       "    }\n",
       "\n",
       "    .dataframe thead th {\n",
       "        text-align: right;\n",
       "    }\n",
       "</style>\n",
       "<table border=\"1\" class=\"dataframe\">\n",
       "  <thead>\n",
       "    <tr style=\"text-align: right;\">\n",
       "      <th></th>\n",
       "      <th>Pct</th>\n",
       "      <th>LOCALITY</th>\n",
       "      <th>G18USSDKAI</th>\n",
       "      <th>G18USSRSTE</th>\n",
       "      <th>G18USSLWAT</th>\n",
       "      <th>G18USSOWRI</th>\n",
       "    </tr>\n",
       "  </thead>\n",
       "  <tbody>\n",
       "    <tr>\n",
       "      <th>157</th>\n",
       "      <td>32 - Oakridge</td>\n",
       "      <td>Arlington County</td>\n",
       "      <td>577</td>\n",
       "      <td>179</td>\n",
       "      <td>21</td>\n",
       "      <td>4</td>\n",
       "    </tr>\n",
       "  </tbody>\n",
       "</table>\n",
       "</div>"
      ],
      "text/plain": [
       "               Pct          LOCALITY G18USSDKAI G18USSRSTE G18USSLWAT  \\\n",
       "157  32 - Oakridge  Arlington County        577        179         21   \n",
       "\n",
       "    G18USSOWRI  \n",
       "157          4  "
      ]
     },
     "execution_count": 31,
     "metadata": {},
     "output_type": "execute_result"
    }
   ],
   "source": [
    "df[(df['LOCALITY'].map(lambda x: 'Arlington' in str(x)) & df['Pct'].map(lambda x: 'Oakridge' in str(x)))]"
   ]
  },
  {
   "cell_type": "code",
   "execution_count": 207,
   "metadata": {},
   "outputs": [],
   "source": [
    "county_dict = pd.Series(final['COUNTYFP'].values, index = final['LOCALITY']).to_dict()\n",
    "df['COUNTYFP'] = df['LOCALITY'].map(county_dict)"
   ]
  },
  {
   "cell_type": "code",
   "execution_count": 208,
   "metadata": {},
   "outputs": [],
   "source": [
    "df.loc[:,'G18USSDKAI'] = df['G18USSDKAI'].map(lambda x: x.replace(',', ''))\n",
    "df.loc[:,'G18USSRSTE'] = df['G18USSRSTE'].map(lambda x: x.replace(',', ''))\n",
    "df.loc[:,'G18USSLWAT'] = df['G18USSLWAT'].map(lambda x: x.replace(',', ''))\n",
    "df.loc[:,'G18USSOWRI'] = df['G18USSOWRI'].map(lambda x: x.replace(',', ''))\n",
    "#added .loc to account for \"copy\" warning\n",
    "df['G18USSDKAI'] = df['G18USSDKAI'].astype(str).astype(int)\n",
    "df['G18USSRSTE'] = df['G18USSRSTE'].astype(str).astype(int)\n",
    "df['G18USSLWAT'] = df['G18USSLWAT'].astype(str).astype(int)\n",
    "df['G18USSOWRI'] = df['G18USSOWRI'].astype(str).astype(int)"
   ]
  },
  {
   "cell_type": "code",
   "execution_count": 210,
   "metadata": {},
   "outputs": [
    {
     "data": {
      "text/html": [
       "<div>\n",
       "<style scoped>\n",
       "    .dataframe tbody tr th:only-of-type {\n",
       "        vertical-align: middle;\n",
       "    }\n",
       "\n",
       "    .dataframe tbody tr th {\n",
       "        vertical-align: top;\n",
       "    }\n",
       "\n",
       "    .dataframe thead th {\n",
       "        text-align: right;\n",
       "    }\n",
       "</style>\n",
       "<table border=\"1\" class=\"dataframe\">\n",
       "  <thead>\n",
       "    <tr style=\"text-align: right;\">\n",
       "      <th></th>\n",
       "      <th>G18USSDKAI</th>\n",
       "      <th>G18USSRSTE</th>\n",
       "      <th>G18USSLWAT</th>\n",
       "      <th>G18USSOWRI</th>\n",
       "    </tr>\n",
       "    <tr>\n",
       "      <th>COUNTYFP</th>\n",
       "      <th></th>\n",
       "      <th></th>\n",
       "      <th></th>\n",
       "      <th></th>\n",
       "    </tr>\n",
       "  </thead>\n",
       "  <tbody>\n",
       "    <tr>\n",
       "      <th>001</th>\n",
       "      <td>5997</td>\n",
       "      <td>6605</td>\n",
       "      <td>135</td>\n",
       "      <td>8</td>\n",
       "    </tr>\n",
       "    <tr>\n",
       "      <th>003</th>\n",
       "      <td>35701</td>\n",
       "      <td>16371</td>\n",
       "      <td>1161</td>\n",
       "      <td>93</td>\n",
       "    </tr>\n",
       "    <tr>\n",
       "      <th>005</th>\n",
       "      <td>1952</td>\n",
       "      <td>3433</td>\n",
       "      <td>66</td>\n",
       "      <td>2</td>\n",
       "    </tr>\n",
       "    <tr>\n",
       "      <th>007</th>\n",
       "      <td>1938</td>\n",
       "      <td>3823</td>\n",
       "      <td>81</td>\n",
       "      <td>7</td>\n",
       "    </tr>\n",
       "    <tr>\n",
       "      <th>009</th>\n",
       "      <td>4541</td>\n",
       "      <td>7779</td>\n",
       "      <td>215</td>\n",
       "      <td>10</td>\n",
       "    </tr>\n",
       "    <tr>\n",
       "      <th>...</th>\n",
       "      <td>...</td>\n",
       "      <td>...</td>\n",
       "      <td>...</td>\n",
       "      <td>...</td>\n",
       "    </tr>\n",
       "    <tr>\n",
       "      <th>800</th>\n",
       "      <td>21397</td>\n",
       "      <td>13397</td>\n",
       "      <td>461</td>\n",
       "      <td>37</td>\n",
       "    </tr>\n",
       "    <tr>\n",
       "      <th>810</th>\n",
       "      <td>91813</td>\n",
       "      <td>73575</td>\n",
       "      <td>3851</td>\n",
       "      <td>204</td>\n",
       "    </tr>\n",
       "    <tr>\n",
       "      <th>820</th>\n",
       "      <td>3849</td>\n",
       "      <td>3713</td>\n",
       "      <td>149</td>\n",
       "      <td>7</td>\n",
       "    </tr>\n",
       "    <tr>\n",
       "      <th>830</th>\n",
       "      <td>4530</td>\n",
       "      <td>1547</td>\n",
       "      <td>114</td>\n",
       "      <td>9</td>\n",
       "    </tr>\n",
       "    <tr>\n",
       "      <th>840</th>\n",
       "      <td>5242</td>\n",
       "      <td>3657</td>\n",
       "      <td>210</td>\n",
       "      <td>15</td>\n",
       "    </tr>\n",
       "  </tbody>\n",
       "</table>\n",
       "<p>133 rows × 4 columns</p>\n",
       "</div>"
      ],
      "text/plain": [
       "          G18USSDKAI  G18USSRSTE  G18USSLWAT  G18USSOWRI\n",
       "COUNTYFP                                                \n",
       "001             5997        6605         135           8\n",
       "003            35701       16371        1161          93\n",
       "005             1952        3433          66           2\n",
       "007             1938        3823          81           7\n",
       "009             4541        7779         215          10\n",
       "...              ...         ...         ...         ...\n",
       "800            21397       13397         461          37\n",
       "810            91813       73575        3851         204\n",
       "820             3849        3713         149           7\n",
       "830             4530        1547         114           9\n",
       "840             5242        3657         210          15\n",
       "\n",
       "[133 rows x 4 columns]"
      ]
     },
     "execution_count": 210,
     "metadata": {},
     "output_type": "execute_result"
    }
   ],
   "source": [
    "groupby_county_df = df.groupby('COUNTYFP').sum()\n",
    "groupby_county_final = final.groupby(['COUNTYFP']).sum()"
   ]
  },
  {
   "cell_type": "code",
   "execution_count": 212,
   "metadata": {},
   "outputs": [],
   "source": [
    "column_list = ['G18USSDKAI', 'G18USSRSTE', 'G18USSLWAT', 'G18USSOWRI']"
   ]
  },
  {
   "cell_type": "code",
   "execution_count": 213,
   "metadata": {},
   "outputs": [],
   "source": [
    "df_final_groupby = pd.merge(groupby_county_df, groupby_county_final, on = 'COUNTYFP', how = 'inner', suffixes = ('_x', '_y'))"
   ]
  },
  {
   "cell_type": "code",
   "execution_count": 214,
   "metadata": {},
   "outputs": [
    {
     "data": {
      "text/html": [
       "<div>\n",
       "<style scoped>\n",
       "    .dataframe tbody tr th:only-of-type {\n",
       "        vertical-align: middle;\n",
       "    }\n",
       "\n",
       "    .dataframe tbody tr th {\n",
       "        vertical-align: top;\n",
       "    }\n",
       "\n",
       "    .dataframe thead th {\n",
       "        text-align: right;\n",
       "    }\n",
       "</style>\n",
       "<table border=\"1\" class=\"dataframe\">\n",
       "  <thead>\n",
       "    <tr style=\"text-align: right;\">\n",
       "      <th></th>\n",
       "      <th>G18USSDKAI_x</th>\n",
       "      <th>G18USSRSTE_x</th>\n",
       "      <th>G18USSLWAT_x</th>\n",
       "      <th>G18USSOWRI_x</th>\n",
       "      <th>G18USSDKAI_y</th>\n",
       "      <th>G18USSRSTE_y</th>\n",
       "      <th>G18USSLWAT_y</th>\n",
       "      <th>G18USSOWRI_y</th>\n",
       "    </tr>\n",
       "    <tr>\n",
       "      <th>COUNTYFP</th>\n",
       "      <th></th>\n",
       "      <th></th>\n",
       "      <th></th>\n",
       "      <th></th>\n",
       "      <th></th>\n",
       "      <th></th>\n",
       "      <th></th>\n",
       "      <th></th>\n",
       "    </tr>\n",
       "  </thead>\n",
       "  <tbody>\n",
       "    <tr>\n",
       "      <th>001</th>\n",
       "      <td>5997</td>\n",
       "      <td>6605</td>\n",
       "      <td>135</td>\n",
       "      <td>8</td>\n",
       "      <td>5997</td>\n",
       "      <td>6605</td>\n",
       "      <td>135</td>\n",
       "      <td>8</td>\n",
       "    </tr>\n",
       "    <tr>\n",
       "      <th>003</th>\n",
       "      <td>35701</td>\n",
       "      <td>16371</td>\n",
       "      <td>1161</td>\n",
       "      <td>93</td>\n",
       "      <td>35701</td>\n",
       "      <td>16371</td>\n",
       "      <td>1161</td>\n",
       "      <td>93</td>\n",
       "    </tr>\n",
       "    <tr>\n",
       "      <th>005</th>\n",
       "      <td>1952</td>\n",
       "      <td>3433</td>\n",
       "      <td>66</td>\n",
       "      <td>2</td>\n",
       "      <td>1952</td>\n",
       "      <td>3433</td>\n",
       "      <td>66</td>\n",
       "      <td>2</td>\n",
       "    </tr>\n",
       "    <tr>\n",
       "      <th>007</th>\n",
       "      <td>1938</td>\n",
       "      <td>3823</td>\n",
       "      <td>81</td>\n",
       "      <td>7</td>\n",
       "      <td>1938</td>\n",
       "      <td>3823</td>\n",
       "      <td>81</td>\n",
       "      <td>7</td>\n",
       "    </tr>\n",
       "    <tr>\n",
       "      <th>009</th>\n",
       "      <td>4541</td>\n",
       "      <td>7779</td>\n",
       "      <td>215</td>\n",
       "      <td>10</td>\n",
       "      <td>4541</td>\n",
       "      <td>7779</td>\n",
       "      <td>215</td>\n",
       "      <td>10</td>\n",
       "    </tr>\n",
       "  </tbody>\n",
       "</table>\n",
       "</div>"
      ],
      "text/plain": [
       "          G18USSDKAI_x  G18USSRSTE_x  G18USSLWAT_x  G18USSOWRI_x  \\\n",
       "COUNTYFP                                                           \n",
       "001               5997          6605           135             8   \n",
       "003              35701         16371          1161            93   \n",
       "005               1952          3433            66             2   \n",
       "007               1938          3823            81             7   \n",
       "009               4541          7779           215            10   \n",
       "\n",
       "          G18USSDKAI_y  G18USSRSTE_y  G18USSLWAT_y  G18USSOWRI_y  \n",
       "COUNTYFP                                                          \n",
       "001               5997          6605           135             8  \n",
       "003              35701         16371          1161            93  \n",
       "005               1952          3433            66             2  \n",
       "007               1938          3823            81             7  \n",
       "009               4541          7779           215            10  "
      ]
     },
     "execution_count": 214,
     "metadata": {},
     "output_type": "execute_result"
    }
   ],
   "source": [
    "df_final_groupby.head()"
   ]
  },
  {
   "cell_type": "code",
   "execution_count": 215,
   "metadata": {},
   "outputs": [],
   "source": [
    "def sum_checker(df, column_list):\n",
    "    list_max = 0\n",
    "    for i in column_list:\n",
    "        left_sum = df[i+'_x'].sum()\n",
    "        right_sum = df[i+'_y'].sum()\n",
    "        if (left_sum == right_sum):\n",
    "            print('column: ', i, ' have the same sums')\n",
    "        \n",
    "        else:\n",
    "            diff = abs(left_sum - right_sum)\n",
    "            percent = abs(left_sum - right_sum)/left_sum\n",
    "            print('column: ', i)\n",
    "            print('RDH sum is ', str(left_sum))\n",
    "            print('Partner sum is ', str(right_sum))\n",
    "            print('their (absolute) difference is ', str(diff))\n",
    "            print('As a percentage of DF1 this is ', str(round(percent*100,5)) + '%')\n",
    "            if (percent>list_max):\n",
    "                list_max = percent\n",
    "            print('')\n",
    "    print('The max difference (as a percent of the total of on DF column is: ', str(round(list_max,5)))"
   ]
  },
  {
   "cell_type": "code",
   "execution_count": 216,
   "metadata": {},
   "outputs": [
    {
     "name": "stdout",
     "output_type": "stream",
     "text": [
      "column:  G18USSDKAI  have the same sums\n",
      "column:  G18USSRSTE  have the same sums\n",
      "column:  G18USSLWAT  have the same sums\n",
      "column:  G18USSOWRI  have the same sums\n",
      "The max difference (as a percent of the total of on DF column is:  0\n"
     ]
    }
   ],
   "source": [
    "sum_checker(df_final_groupby, column_list)"
   ]
  },
  {
   "cell_type": "markdown",
   "metadata": {},
   "source": [
    "**By county, results match** (great!)\n",
    "Now need to re-allocate votes so that it matches by precinct"
   ]
  },
  {
   "cell_type": "markdown",
   "metadata": {},
   "source": [
    "First think about for single county single candidate\n",
    "- tricky thing is rounding - need to update sum checker to be tolerant of rounding\n",
    "- fact that exactly the right number of votes indicates not a consistent rounding method\n",
    "- I can just pick a rounding thing now - pick it and move forward - "
   ]
  },
  {
   "cell_type": "code",
   "execution_count": 217,
   "metadata": {},
   "outputs": [],
   "source": [
    "def get_absentee_frac(prec_tot, county_tot, absentee_tot):\n",
    "    '''A spec specifies in first line what function will do\n",
    "    Returns fraction of county absentee votes for a precinct for a candidate\n",
    "    \n",
    "    Keyword arguments: (put inputs to funtions and say what they should be)\n",
    "    precinct vote total for given candidate (int)\n",
    "    county vote total for given candidate, absentee and provisional votes not included (int)\n",
    "    absentee vote total for county for given candidate (int)\n",
    "    \n",
    "    \"Pure function\" bc only relies on inputs and outputs - only variables are ones that were passed as arguments\n",
    "    '''\n",
    "    if county_tot != 0:\n",
    "        prec_frac = prec_tot/county_tot\n",
    "        absentee_frac = prec_frac*absentee_tot\n",
    "    else:\n",
    "        absentee_frac = 0\n",
    "    return absentee_frac"
   ]
  },
  {
   "cell_type": "code",
   "execution_count": 218,
   "metadata": {},
   "outputs": [],
   "source": [
    "absentee_and_prov = df[(df['Pct'].map(lambda x: 'Absentee' in str(x))) | (df['Pct'].map(lambda x: 'Provisional' in str(x)))]\n",
    "groupby_absentee_and_prov_tot = absentee_and_prov.groupby(['COUNTYFP']).sum()\n",
    "groupby_county_df_tot = df.groupby(['COUNTYFP']).sum()\n",
    "df_no_absent_or_provisional = df[(df['Pct'].map(lambda x: 'Absentee' not in str(x))) & (df['Pct'].map(lambda x: 'Provisional' not in str(x)))\n",
    "                                & (df['LOCALITY'] != 'TOTALS')]\n",
    "groupby_county_tot_no_absentee = df_no_absent_or_provisional.groupby('COUNTYFP').sum()"
   ]
  },
  {
   "cell_type": "code",
   "execution_count": 238,
   "metadata": {},
   "outputs": [],
   "source": [
    "#4/2/21\n",
    "df_with_absentee_reallocated = df_no_absent_or_provisional.copy()\n",
    "for index, precinct_total_row_by_candidate in df_no_absent_or_provisional.iterrows():\n",
    "    #print(precinct_total_row_by_candidate)\n",
    "    county_fips = precinct_total_row_by_candidate['COUNTYFP']\n",
    "    county_total_row_by_candidate_no_absentee = groupby_county_tot_no_absentee.loc[county_fips]\n",
    "    county_absentee_and_provisional_by_candidate = groupby_absentee_and_prov_tot.loc[county_fips]\n",
    "    #print(precinct_total_row_by_candidate, county_total_row_by_candidate_no_absentee, county_absentee_and_provisional_by_candidate)\n",
    "    for candidate, votes in county_total_row_by_candidate_no_absentee.to_dict().items():\n",
    "        prec_tot = precinct_total_row_by_candidate[candidate]\n",
    "        #print('precinct total: ', prec_tot)\n",
    "        county_tot = votes\n",
    "        #print('county total: ', county_tot)\n",
    "        absentee_tot = county_absentee_and_provisional_by_candidate[candidate]\n",
    "        #print('absentee total: ', absentee_tot)\n",
    "        absentee_frac = get_absentee_frac(prec_tot, county_tot, absentee_tot)\n",
    "        #print('absentee votes to allocate to precinct: ', absentee_frac)\n",
    "        prec_with_absentee_allocation = prec_tot + absentee_frac\n",
    "        #print('new precinct total: ', prec_with_absentee_allocation)\n",
    "        df_with_absentee_reallocated.loc[index, candidate] = prec_with_absentee_allocation #index is row, candidate is column\n",
    "\n",
    "   "
   ]
  },
  {
   "cell_type": "code",
   "execution_count": 239,
   "metadata": {},
   "outputs": [],
   "source": [
    "groupby_df_with_absentee_reallocated = df_with_absentee_reallocated.groupby('COUNTYFP').sum()"
   ]
  },
  {
   "cell_type": "code",
   "execution_count": 240,
   "metadata": {},
   "outputs": [],
   "source": [
    "df_absentee_reallocate_with_final = pd.merge(groupby_df_with_absentee_reallocated, groupby_county_final, on = 'COUNTYFP', how = 'inner', suffixes = ('_x', '_y'))"
   ]
  },
  {
   "cell_type": "code",
   "execution_count": 241,
   "metadata": {},
   "outputs": [
    {
     "data": {
      "text/html": [
       "<div>\n",
       "<style scoped>\n",
       "    .dataframe tbody tr th:only-of-type {\n",
       "        vertical-align: middle;\n",
       "    }\n",
       "\n",
       "    .dataframe tbody tr th {\n",
       "        vertical-align: top;\n",
       "    }\n",
       "\n",
       "    .dataframe thead th {\n",
       "        text-align: right;\n",
       "    }\n",
       "</style>\n",
       "<table border=\"1\" class=\"dataframe\">\n",
       "  <thead>\n",
       "    <tr style=\"text-align: right;\">\n",
       "      <th></th>\n",
       "      <th>G18USSDKAI_x</th>\n",
       "      <th>G18USSRSTE_x</th>\n",
       "      <th>G18USSLWAT_x</th>\n",
       "      <th>G18USSOWRI_x</th>\n",
       "      <th>G18USSDKAI_y</th>\n",
       "      <th>G18USSRSTE_y</th>\n",
       "      <th>G18USSLWAT_y</th>\n",
       "      <th>G18USSOWRI_y</th>\n",
       "    </tr>\n",
       "    <tr>\n",
       "      <th>COUNTYFP</th>\n",
       "      <th></th>\n",
       "      <th></th>\n",
       "      <th></th>\n",
       "      <th></th>\n",
       "      <th></th>\n",
       "      <th></th>\n",
       "      <th></th>\n",
       "      <th></th>\n",
       "    </tr>\n",
       "  </thead>\n",
       "  <tbody>\n",
       "    <tr>\n",
       "      <th>001</th>\n",
       "      <td>5997.0</td>\n",
       "      <td>6605.0</td>\n",
       "      <td>135.0</td>\n",
       "      <td>8.0</td>\n",
       "      <td>5997</td>\n",
       "      <td>6605</td>\n",
       "      <td>135</td>\n",
       "      <td>8</td>\n",
       "    </tr>\n",
       "    <tr>\n",
       "      <th>003</th>\n",
       "      <td>35701.0</td>\n",
       "      <td>16371.0</td>\n",
       "      <td>1161.0</td>\n",
       "      <td>93.0</td>\n",
       "      <td>35701</td>\n",
       "      <td>16371</td>\n",
       "      <td>1161</td>\n",
       "      <td>93</td>\n",
       "    </tr>\n",
       "    <tr>\n",
       "      <th>005</th>\n",
       "      <td>1952.0</td>\n",
       "      <td>3433.0</td>\n",
       "      <td>66.0</td>\n",
       "      <td>2.0</td>\n",
       "      <td>1952</td>\n",
       "      <td>3433</td>\n",
       "      <td>66</td>\n",
       "      <td>2</td>\n",
       "    </tr>\n",
       "    <tr>\n",
       "      <th>007</th>\n",
       "      <td>1938.0</td>\n",
       "      <td>3823.0</td>\n",
       "      <td>81.0</td>\n",
       "      <td>7.0</td>\n",
       "      <td>1938</td>\n",
       "      <td>3823</td>\n",
       "      <td>81</td>\n",
       "      <td>7</td>\n",
       "    </tr>\n",
       "    <tr>\n",
       "      <th>009</th>\n",
       "      <td>4541.0</td>\n",
       "      <td>7779.0</td>\n",
       "      <td>215.0</td>\n",
       "      <td>10.0</td>\n",
       "      <td>4541</td>\n",
       "      <td>7779</td>\n",
       "      <td>215</td>\n",
       "      <td>10</td>\n",
       "    </tr>\n",
       "    <tr>\n",
       "      <th>...</th>\n",
       "      <td>...</td>\n",
       "      <td>...</td>\n",
       "      <td>...</td>\n",
       "      <td>...</td>\n",
       "      <td>...</td>\n",
       "      <td>...</td>\n",
       "      <td>...</td>\n",
       "      <td>...</td>\n",
       "    </tr>\n",
       "    <tr>\n",
       "      <th>800</th>\n",
       "      <td>21397.0</td>\n",
       "      <td>13397.0</td>\n",
       "      <td>461.0</td>\n",
       "      <td>37.0</td>\n",
       "      <td>21397</td>\n",
       "      <td>13397</td>\n",
       "      <td>461</td>\n",
       "      <td>37</td>\n",
       "    </tr>\n",
       "    <tr>\n",
       "      <th>810</th>\n",
       "      <td>91813.0</td>\n",
       "      <td>73575.0</td>\n",
       "      <td>3851.0</td>\n",
       "      <td>204.0</td>\n",
       "      <td>91813</td>\n",
       "      <td>73575</td>\n",
       "      <td>3851</td>\n",
       "      <td>204</td>\n",
       "    </tr>\n",
       "    <tr>\n",
       "      <th>820</th>\n",
       "      <td>3849.0</td>\n",
       "      <td>3713.0</td>\n",
       "      <td>149.0</td>\n",
       "      <td>7.0</td>\n",
       "      <td>3849</td>\n",
       "      <td>3713</td>\n",
       "      <td>149</td>\n",
       "      <td>7</td>\n",
       "    </tr>\n",
       "    <tr>\n",
       "      <th>830</th>\n",
       "      <td>4530.0</td>\n",
       "      <td>1547.0</td>\n",
       "      <td>114.0</td>\n",
       "      <td>9.0</td>\n",
       "      <td>4530</td>\n",
       "      <td>1547</td>\n",
       "      <td>114</td>\n",
       "      <td>9</td>\n",
       "    </tr>\n",
       "    <tr>\n",
       "      <th>840</th>\n",
       "      <td>5242.0</td>\n",
       "      <td>3657.0</td>\n",
       "      <td>210.0</td>\n",
       "      <td>15.0</td>\n",
       "      <td>5242</td>\n",
       "      <td>3657</td>\n",
       "      <td>210</td>\n",
       "      <td>15</td>\n",
       "    </tr>\n",
       "  </tbody>\n",
       "</table>\n",
       "<p>133 rows × 8 columns</p>\n",
       "</div>"
      ],
      "text/plain": [
       "          G18USSDKAI_x  G18USSRSTE_x  G18USSLWAT_x  G18USSOWRI_x  \\\n",
       "COUNTYFP                                                           \n",
       "001             5997.0        6605.0         135.0           8.0   \n",
       "003            35701.0       16371.0        1161.0          93.0   \n",
       "005             1952.0        3433.0          66.0           2.0   \n",
       "007             1938.0        3823.0          81.0           7.0   \n",
       "009             4541.0        7779.0         215.0          10.0   \n",
       "...                ...           ...           ...           ...   \n",
       "800            21397.0       13397.0         461.0          37.0   \n",
       "810            91813.0       73575.0        3851.0         204.0   \n",
       "820             3849.0        3713.0         149.0           7.0   \n",
       "830             4530.0        1547.0         114.0           9.0   \n",
       "840             5242.0        3657.0         210.0          15.0   \n",
       "\n",
       "          G18USSDKAI_y  G18USSRSTE_y  G18USSLWAT_y  G18USSOWRI_y  \n",
       "COUNTYFP                                                          \n",
       "001               5997          6605           135             8  \n",
       "003              35701         16371          1161            93  \n",
       "005               1952          3433            66             2  \n",
       "007               1938          3823            81             7  \n",
       "009               4541          7779           215            10  \n",
       "...                ...           ...           ...           ...  \n",
       "800              21397         13397           461            37  \n",
       "810              91813         73575          3851           204  \n",
       "820               3849          3713           149             7  \n",
       "830               4530          1547           114             9  \n",
       "840               5242          3657           210            15  \n",
       "\n",
       "[133 rows x 8 columns]"
      ]
     },
     "execution_count": 241,
     "metadata": {},
     "output_type": "execute_result"
    }
   ],
   "source": [
    "df_absentee_reallocate_with_final"
   ]
  },
  {
   "cell_type": "code",
   "execution_count": 242,
   "metadata": {},
   "outputs": [
    {
     "name": "stdout",
     "output_type": "stream",
     "text": [
      "column:  G18USSDKAI\n",
      "RDH sum is  1910369.9999999998\n",
      "Partner sum is  1910370\n",
      "their (absolute) difference is  2.3283064365386963e-10\n",
      "As a percentage of DF1 this is  0.0%\n",
      "\n",
      "column:  G18USSRSTE  have the same sums\n",
      "column:  G18USSLWAT  have the same sums\n",
      "column:  G18USSOWRI\n",
      "RDH sum is  5506.999999999998\n",
      "Partner sum is  5509\n",
      "their (absolute) difference is  2.000000000001819\n",
      "As a percentage of DF1 this is  0.03632%\n",
      "\n",
      "The max difference (as a percent of the total of on DF column is:  0.00036\n"
     ]
    }
   ],
   "source": [
    "sum_checker(df_absentee_reallocate_with_final, column_list)"
   ]
  },
  {
   "cell_type": "markdown",
   "metadata": {},
   "source": [
    "^ with no rounding"
   ]
  },
  {
   "cell_type": "code",
   "execution_count": 234,
   "metadata": {},
   "outputs": [],
   "source": [
    "#4/2/21\n",
    "df_with_absentee_reallocated = df_no_absent_or_provisional.copy()\n",
    "for index, precinct_total_row_by_candidate in df_no_absent_or_provisional.iterrows():\n",
    "    #print(precinct_total_row_by_candidate)\n",
    "    county_fips = precinct_total_row_by_candidate['COUNTYFP']\n",
    "    county_total_row_by_candidate_no_absentee = groupby_county_tot_no_absentee.loc[county_fips]\n",
    "    county_absentee_and_provisional_by_candidate = groupby_absentee_and_prov_tot.loc[county_fips]\n",
    "    #print(precinct_total_row_by_candidate, county_total_row_by_candidate_no_absentee, county_absentee_and_provisional_by_candidate)\n",
    "    for candidate, votes in county_total_row_by_candidate_no_absentee.to_dict().items():\n",
    "        prec_tot = precinct_total_row_by_candidate[candidate]\n",
    "        #print('precinct total: ', prec_tot)\n",
    "        county_tot = votes\n",
    "        #print('county total: ', county_tot)\n",
    "        absentee_tot = county_absentee_and_provisional_by_candidate[candidate]\n",
    "        #print('absentee total: ', absentee_tot)\n",
    "        absentee_frac = get_absentee_frac(prec_tot, county_tot, absentee_tot)\n",
    "        #print('absentee votes to allocate to precinct: ', absentee_frac)\n",
    "        prec_with_absentee_allocation = prec_tot + absentee_frac\n",
    "        #print('new precinct total: ', prec_with_absentee_allocation)\n",
    "        df_with_absentee_reallocated.loc[index, candidate] = round(prec_with_absentee_allocation) #index is row, candidate is column\n",
    "\n",
    "   "
   ]
  },
  {
   "cell_type": "code",
   "execution_count": 235,
   "metadata": {},
   "outputs": [],
   "source": [
    "groupby_df_with_absentee_reallocated = df_with_absentee_reallocated.groupby('COUNTYFP').sum()"
   ]
  },
  {
   "cell_type": "code",
   "execution_count": 236,
   "metadata": {},
   "outputs": [],
   "source": [
    "df_absentee_reallocate_with_final = pd.merge(groupby_df_with_absentee_reallocated, groupby_county_final, on = 'COUNTYFP', how = 'inner', suffixes = ('_x', '_y'))"
   ]
  },
  {
   "cell_type": "code",
   "execution_count": 237,
   "metadata": {},
   "outputs": [
    {
     "name": "stdout",
     "output_type": "stream",
     "text": [
      "column:  G18USSDKAI  have the same sums\n",
      "column:  G18USSRSTE\n",
      "RDH sum is  1374310.0\n",
      "Partner sum is  1374313\n",
      "their (absolute) difference is  3.0\n",
      "As a percentage of DF1 this is  0.00022%\n",
      "\n",
      "column:  G18USSLWAT\n",
      "RDH sum is  61503.0\n",
      "Partner sum is  61565\n",
      "their (absolute) difference is  62.0\n",
      "As a percentage of DF1 this is  0.10081%\n",
      "\n",
      "column:  G18USSOWRI\n",
      "RDH sum is  5361.0\n",
      "Partner sum is  5509\n",
      "their (absolute) difference is  148.0\n",
      "As a percentage of DF1 this is  2.76068%\n",
      "\n",
      "The max difference (as a percent of the total of on DF column is:  0.02761\n"
     ]
    }
   ],
   "source": [
    "sum_checker(df_absentee_reallocate_with_final, column_list)"
   ]
  },
  {
   "cell_type": "markdown",
   "metadata": {},
   "source": [
    "With rounding^ totals much worse"
   ]
  },
  {
   "cell_type": "markdown",
   "metadata": {},
   "source": [
    "Good totals, but inconsistent rounding in final file in cases where vote total has more than 0.5 and less than 0.7"
   ]
  },
  {
   "cell_type": "markdown",
   "metadata": {},
   "source": [
    "### @ Peter\n",
    "- how did they round? - by county totals? - Peter rounded to nearest whole number, was fine with things that were 2 votes off for purposes of report"
   ]
  },
  {
   "cell_type": "markdown",
   "metadata": {},
   "source": [
    "### From meeting with Spencer:"
   ]
  },
  {
   "cell_type": "markdown",
   "metadata": {},
   "source": [
    "Address geographies before joining with election results\n",
    "can clean election results, but need it all to match first\n",
    "\"Adjust\" might not matter for joining election results, but the geometries would be wrong\n",
    "if not splitting or merging , could check first\n",
    "\n",
    "How many precincts in gdf, how many in vest final file?\n",
    "\n",
    "\n",
    "Assume that changes are for all of the files, but for senate legislative districts arent applicaple\n",
    "but still need to make modifications for precincts to match\n",
    "\n",
    "Need sldl and cd from county files as well - pull legislative boundaries from the census to split them \n",
    "tigerline - didnt list all county shapfiles - use 2018 file \n",
    "\n",
    "for special election, sldl should be fine, just pull out district 8 and 24\n",
    "does the special file have whole state or just those two districts\n",
    "\n",
    "number VTDs from vest and from downloaded files"
   ]
  },
  {
   "cell_type": "code",
   "execution_count": null,
   "metadata": {},
   "outputs": [],
   "source": []
  },
  {
   "cell_type": "markdown",
   "metadata": {},
   "source": [
    "# Shapefiles: County"
   ]
  },
  {
   "cell_type": "markdown",
   "metadata": {},
   "source": [
    "## Load, Project"
   ]
  },
  {
   "cell_type": "code",
   "execution_count": 78,
   "metadata": {
    "collapsed": true,
    "jupyter": {
     "outputs_hidden": true
    }
   },
   "outputs": [
    {
     "data": {
      "text/plain": [
       "['partnership_shapefiles_19v2_51580',\n",
       " 'partnership_shapefiles_19v2_51117',\n",
       " 'partnership_shapefiles_19v2_51121',\n",
       " 'partnership_shapefiles_19v2_51119',\n",
       " 'partnership_shapefiles_19v2_51770',\n",
       " 'partnership_shapefiles_19v2_51181',\n",
       " 'partnership_shapefiles_19v2_51175',\n",
       " 'partnership_shapefiles_19v2_51143',\n",
       " 'partnership_shapefiles_19v2_51520',\n",
       " 'partnership_shapefiles_19v2_51127',\n",
       " 'partnership_shapefiles_19v2_51740',\n",
       " 'partnership_shapefiles_19v2_51111',\n",
       " 'partnership_shapefiles_19v2_51145',\n",
       " 'partnership_shapefiles_19v2_51510',\n",
       " 'partnership_shapefiles_19v2_51187',\n",
       " 'partnership_shapefiles_19v2_51173',\n",
       " 'partnership_shapefiles_19v2_51001',\n",
       " 'partnership_shapefiles_19v2_51650',\n",
       " '.DS_Store',\n",
       " 'partnership_shapefiles_19v2_51037',\n",
       " 'partnership_shapefiles_19v2_51063',\n",
       " 'partnership_shapefiles_19v2_51097',\n",
       " 'partnership_shapefiles_19v2_51099',\n",
       " 'partnership_shapefiles_19v2_51009',\n",
       " 'partnership_shapefiles_19v2_51660',\n",
       " 'partnership_shapefiles_19v2_51036',\n",
       " 'partnership_shapefiles_19v2_51031',\n",
       " 'partnership_shapefiles_19v2_51007',\n",
       " 'partnership_shapefiles_19v2_51053',\n",
       " 'partnership_shapefiles_19v2_51065',\n",
       " 'partnership_shapefiles_19v2_51091',\n",
       " 'partnership_shapefiles_19v2_51047',\n",
       " 'partnership_shapefiles_19v2_51071',\n",
       " 'partnership_shapefiles_19v2_51085',\n",
       " 'partnership_shapefiles_19v2_51049',\n",
       " 'partnership_shapefiles_19v2_51620',\n",
       " 'partnership_shapefiles_19v2_51680',\n",
       " 'partnership_shapefiles_19v2_51025',\n",
       " 'partnership_shapefiles_19v2_51013',\n",
       " 'partnership_shapefiles_19v2_51810',\n",
       " 'partnership_shapefiles_19v2_51077',\n",
       " 'partnership_shapefiles_19v2_51083',\n",
       " 'partnership_shapefiles_19v2_51079',\n",
       " 'partnership_shapefiles_19v2_51610',\n",
       " 'partnership_shapefiles_19v2_51041',\n",
       " 'partnership_shapefiles_19v2_51015',\n",
       " 'partnership_shapefiles_19v2_51023',\n",
       " 'partnership_shapefiles_19v2_51820',\n",
       " 'partnership_shapefiles_19v2_51169',\n",
       " 'partnership_shapefiles_19v2_51700',\n",
       " 'partnership_shapefiles_19v2_51193',\n",
       " 'partnership_shapefiles_19v2_51167',\n",
       " 'partnership_shapefiles_19v2_51133',\n",
       " 'partnership_shapefiles_19v2_51550',\n",
       " 'partnership_shapefiles_19v2_51595',\n",
       " 'partnership_shapefiles_19v2_51105',\n",
       " 'partnership_shapefiles_19v2_51159',\n",
       " 'partnership_shapefiles_19v2_51730',\n",
       " 'partnership_shapefiles_19v2_51195',\n",
       " 'partnership_shapefiles_19v2_51161',\n",
       " 'partnership_shapefiles_19v2_51157',\n",
       " 'partnership_shapefiles_19v2_51103',\n",
       " 'partnership_shapefiles_19v2_51135',\n",
       " 'partnership_shapefiles_19v2_51790',\n",
       " 'partnership_shapefiles_19v2_51720',\n",
       " 'partnership_shapefiles_19v2_51149',\n",
       " 'partnership_shapefiles_19v2_51171',\n",
       " 'partnership_shapefiles_19v2_51185',\n",
       " 'partnership_shapefiles_19v2_51147',\n",
       " 'partnership_shapefiles_19v2_51570',\n",
       " 'partnership_shapefiles_19v2_51113',\n",
       " 'partnership_shapefiles_19v2_51125',\n",
       " 'partnership_shapefiles_19v2_51141',\n",
       " 'partnership_shapefiles_19v2_51710',\n",
       " 'partnership_shapefiles_19v2_51179',\n",
       " 'partnership_shapefiles_19v2_51177',\n",
       " 'partnership_shapefiles_19v2_51183',\n",
       " 'partnership_shapefiles_19v2_51775',\n",
       " 'partnership_shapefiles_19v2_51540',\n",
       " 'partnership_shapefiles_19v2_51115',\n",
       " 'partnership_shapefiles_19v2_51093',\n",
       " 'partnership_shapefiles_19v2_51067',\n",
       " 'partnership_shapefiles_19v2_51600',\n",
       " 'partnership_shapefiles_19v2_51069',\n",
       " 'partnership_shapefiles_19v2_51051',\n",
       " 'partnership_shapefiles_19v2_51005',\n",
       " 'partnership_shapefiles_19v2_51830',\n",
       " 'partnership_shapefiles_19v2_51033',\n",
       " 'partnership_shapefiles_19v2_51057',\n",
       " 'partnership_shapefiles_19v2_51095',\n",
       " 'partnership_shapefiles_19v2_51061',\n",
       " 'partnership_shapefiles_19v2_51630',\n",
       " 'partnership_shapefiles_19v2_51059',\n",
       " 'partnership_shapefiles_19v2_51690',\n",
       " 'partnership_shapefiles_19v2_51035',\n",
       " 'partnership_shapefiles_19v2_51800',\n",
       " 'partnership_shapefiles_19v2_51003',\n",
       " 'partnership_shapefiles_19v2_51670',\n",
       " 'partnership_shapefiles_19v2_51019',\n",
       " 'partnership_shapefiles_19v2_51683',\n",
       " 'partnership_shapefiles_19v2_51021',\n",
       " 'partnership_shapefiles_19v2_51017',\n",
       " 'partnership_shapefiles_19v2_51840',\n",
       " 'partnership_shapefiles_19v2_51043',\n",
       " 'partnership_shapefiles_19v2_51081',\n",
       " 'partnership_shapefiles_19v2_51075',\n",
       " 'partnership_shapefiles_19v2_51011',\n",
       " 'partnership_shapefiles_19v2_51678',\n",
       " 'partnership_shapefiles_19v2_51640',\n",
       " 'partnership_shapefiles_19v2_51029',\n",
       " 'partnership_shapefiles_19v2_51685',\n",
       " 'partnership_shapefiles_19v2_51027',\n",
       " 'partnership_shapefiles_19v2_51087',\n",
       " 'partnership_shapefiles_19v2_51073',\n",
       " 'partnership_shapefiles_19v2_51089',\n",
       " 'partnership_shapefiles_19v2_51045',\n",
       " 'partnership_shapefiles_19v2_51137',\n",
       " 'partnership_shapefiles_19v2_51750',\n",
       " 'partnership_shapefiles_19v2_51139',\n",
       " 'partnership_shapefiles_19v2_51101',\n",
       " 'partnership_shapefiles_19v2_51155',\n",
       " 'partnership_shapefiles_19v2_51199',\n",
       " 'partnership_shapefiles_19v2_51163',\n",
       " 'partnership_shapefiles_19v2_51735',\n",
       " 'partnership_shapefiles_19v2_51197',\n",
       " 'partnership_shapefiles_19v2_51590',\n",
       " 'partnership_shapefiles_19v2_51107',\n",
       " 'partnership_shapefiles_19v2_51131',\n",
       " 'partnership_shapefiles_19v2_51760',\n",
       " 'partnership_shapefiles_19v2_51109',\n",
       " 'partnership_shapefiles_19v2_51165',\n",
       " 'partnership_shapefiles_19v2_51191',\n",
       " 'partnership_shapefiles_19v2_51153',\n",
       " 'partnership_shapefiles_19v2_51530']"
      ]
     },
     "execution_count": 78,
     "metadata": {},
     "output_type": "execute_result"
    }
   ],
   "source": [
    "#All counties found: https://www.census.gov/geo/partnerships/pvs/partnership19v2/st51_va.html <-- careful, need to pay close attention to url to makesure get vtds\n",
    "os.listdir('./vest_va/census_shps_by_county_all_unzip/')"
   ]
  },
  {
   "cell_type": "code",
   "execution_count": 79,
   "metadata": {},
   "outputs": [],
   "source": [
    "#unzip file function\n",
    "def unzip(path, src_path, dest_path, zip_file_name, unzipped_file_name):\n",
    "    os.chdir(path)\n",
    "    with ZipFile(zip_file_name, 'r') as zipObj:\n",
    "        zipObj.extractall(unzipped_file_name) \n",
    "        \n",
    "    shutil.move(src_path, dest_path)"
   ]
  },
  {
   "cell_type": "code",
   "execution_count": 80,
   "metadata": {},
   "outputs": [
    {
     "data": {
      "text/plain": [
       "\"#test out mult file function - I think it is working - I think embedded folders is product of re-zipping folder?\\npath = ('/Users/lilyfalk/sandbox/pdv-va/vest_va/test_dir1/')\\nnew_dir_path = '/Users/lilyfalk/sandbox/pdv-va/vest_va/test_dir'\\nunzip_mult_files(path, new_dir_path)\""
      ]
     },
     "execution_count": 80,
     "metadata": {},
     "output_type": "execute_result"
    }
   ],
   "source": [
    "#unzip multiple files in directory\n",
    "def unzip_mult_files(path, new_dir_path):\n",
    "    if not path[0] == '.':\n",
    "        os.chdir(path)\n",
    "        for zipfile in os.listdir():\n",
    "            if not zipfile[0] == '.' and not zipfile == 'partnership_shapefiles_19v2_51.zip':\n",
    "                if zipfile.endswith('.zip'): \n",
    "                    unzipped_file_name = zipfile[:-4]\n",
    "                    src_path = os.path.join(path, unzipped_file_name)\n",
    "                    dest_path = new_dir_path #os.path.join(new_dir_path, unzipped_file_name)\n",
    "                    unzip(path, src_path, dest_path, zipfile, unzipped_file_name)\n",
    "                    \n",
    "'''#test out mult file function - I think it is working - I think embedded folders is product of re-zipping folder?\n",
    "path = ('/Users/lilyfalk/sandbox/pdv-va/vest_va/test_dir1/')\n",
    "new_dir_path = '/Users/lilyfalk/sandbox/pdv-va/vest_va/test_dir'\n",
    "unzip_mult_files(path, new_dir_path)'''"
   ]
  },
  {
   "cell_type": "code",
   "execution_count": null,
   "metadata": {},
   "outputs": [],
   "source": [
    "#unzip files in multiple directories\n",
    "def unzip_in_mult_directories(path, new_dir_path):\n",
    "    os.chdir(path)\n",
    "    for directory in os.listdir():\n",
    "        if not directory[0] == '.':\n",
    "            sub_dir = os.path.join(path, directory)\n",
    "            unzip_mult_files(sub_dir, new_dir_path)\n",
    "            os.chdir(path)\n",
    "            \n",
    "'''\n",
    "path = '/Users/lilyfalk/sandbox/pdv-va/vest_va/census_shps_by_county_dir_unzip/'\n",
    "new_dir_path = '/Users/lilyfalk/sandbox/pdv-va/vest_va/census_shps_by_county_all_unzip'\n",
    "unzip_in_mult_directories(path, new_dir_path)'''"
   ]
  },
  {
   "cell_type": "markdown",
   "metadata": {},
   "source": [
    "Now consider how to read in all vtd shapefiles:\n",
    "naming convention ex: 'PVS_19_v2_vtd_51650.shp'\n",
    "directory convention: 'partnership_shapefiles_19v2_51650\"\n",
    "\n",
    "So, for directory in os.listdir(), read in 'PVS_19_v2_vtd_' + directory[-5:] + '.shp'\n",
    "then concatenate all of the files read in, maybe add to dictionary first"
   ]
  },
  {
   "cell_type": "code",
   "execution_count": 81,
   "metadata": {},
   "outputs": [],
   "source": [
    "path = ('/Users/lilyfalk/sandbox/pdv-va/vest_va/census_shps_by_county_all_unzip/')\n",
    "os.chdir(path)\n",
    "county_fips = []\n",
    "for directory in os.listdir():\n",
    "    if not directory[0] == '.':\n",
    "        county_fips.append(directory[-5:])"
   ]
  },
  {
   "cell_type": "code",
   "execution_count": 82,
   "metadata": {},
   "outputs": [
    {
     "data": {
      "text/plain": [
       "133"
      ]
     },
     "execution_count": 82,
     "metadata": {},
     "output_type": "execute_result"
    }
   ],
   "source": [
    "len(county_fips) #As expected"
   ]
  },
  {
   "cell_type": "code",
   "execution_count": 83,
   "metadata": {},
   "outputs": [],
   "source": [
    "proj = final.crs"
   ]
  },
  {
   "cell_type": "code",
   "execution_count": 84,
   "metadata": {
    "collapsed": true,
    "jupyter": {
     "outputs_hidden": true
    }
   },
   "outputs": [
    {
     "name": "stdout",
     "output_type": "stream",
     "text": [
      "51580  added to list\n",
      "51117  added to list\n",
      "51121  added to list\n",
      "51119  added to list\n",
      "51770  added to list\n",
      "51181  added to list\n",
      "51175  added to list\n",
      "51143  added to list\n",
      "51520  added to list\n",
      "51127  added to list\n",
      "51740  added to list\n",
      "51111  added to list\n",
      "51145  added to list\n",
      "51510  added to list\n",
      "51187  added to list\n",
      "51173  added to list\n",
      "51001  added to list\n",
      "51650  added to list\n",
      "51037  added to list\n",
      "51063  added to list\n",
      "51097  added to list\n",
      "51099  added to list\n",
      "51009  added to list\n",
      "51660  added to list\n",
      "51036  added to list\n",
      "51031  added to list\n",
      "51007  added to list\n",
      "51053  added to list\n",
      "51065  added to list\n",
      "51091  added to list\n",
      "51047  added to list\n",
      "51071  added to list\n",
      "51085  added to list\n",
      "51049  added to list\n",
      "51620  added to list\n",
      "51680  added to list\n",
      "51025  added to list\n",
      "51013  added to list\n",
      "51810  added to list\n",
      "51077  added to list\n",
      "51083  added to list\n",
      "51079  added to list\n",
      "51610  added to list\n",
      "51041  added to list\n",
      "51015  added to list\n",
      "51023  added to list\n",
      "51820  added to list\n",
      "51169  added to list\n",
      "51700  added to list\n",
      "51193  added to list\n",
      "51167  added to list\n",
      "51133  added to list\n",
      "51550  added to list\n",
      "51595  added to list\n",
      "51105  added to list\n",
      "51159  added to list\n",
      "51730  added to list\n",
      "51195  added to list\n",
      "51161  added to list\n",
      "51157  added to list\n",
      "51103  added to list\n",
      "51135  added to list\n",
      "51790  added to list\n",
      "51720  added to list\n",
      "51149  added to list\n",
      "51171  added to list\n",
      "51185  added to list\n",
      "51147  added to list\n",
      "51570  added to list\n",
      "51113  added to list\n",
      "51125  added to list\n",
      "51141  added to list\n",
      "51710  added to list\n",
      "51179  added to list\n",
      "51177  added to list\n",
      "51183  added to list\n",
      "51775  added to list\n",
      "51540  added to list\n",
      "51115  added to list\n",
      "51093  added to list\n",
      "51067  added to list\n",
      "51600  added to list\n",
      "51069  added to list\n",
      "51051  added to list\n",
      "51005  added to list\n",
      "51830  added to list\n",
      "51033  added to list\n",
      "51057  added to list\n",
      "51095  added to list\n",
      "51061  added to list\n",
      "51630  added to list\n",
      "51059  added to list\n",
      "51690  added to list\n",
      "51035  added to list\n",
      "51800  added to list\n",
      "51003  added to list\n",
      "51670  added to list\n",
      "51019  added to list\n",
      "51683  added to list\n",
      "51021  added to list\n",
      "51017  added to list\n",
      "51840  added to list\n",
      "51043  added to list\n",
      "51081  added to list\n",
      "51075  added to list\n",
      "51011  added to list\n",
      "51678  added to list\n",
      "51640  added to list\n",
      "51029  added to list\n",
      "51685  added to list\n",
      "51027  added to list\n",
      "51087  added to list\n",
      "51073  added to list\n",
      "51089  added to list\n",
      "51045  added to list\n",
      "51137  added to list\n",
      "51750  added to list\n",
      "51139  added to list\n",
      "51101  added to list\n",
      "51155  added to list\n",
      "51199  added to list\n",
      "51163  added to list\n",
      "51735  added to list\n",
      "51197  added to list\n",
      "51590  added to list\n",
      "51107  added to list\n",
      "51131  added to list\n",
      "51760  added to list\n",
      "51109  added to list\n",
      "51165  added to list\n",
      "51191  added to list\n",
      "51153  added to list\n",
      "51530  added to list\n"
     ]
    }
   ],
   "source": [
    "#Now need function that will read in and concatenate all VTD shapefiles\n",
    "#Note that last 5 digits of directory and file are state fip (51) plus county fip (3-digit)\n",
    "path = ('/Users/lilyfalk/sandbox/pdv-va/vest_va/census_shps_by_county_all_unzip/')\n",
    "os.chdir(path)\n",
    "county_vtds = []\n",
    "\n",
    "for i in county_fips: #i dont have fips_codes file\n",
    "    ref = 'partnership_shapefiles_19v2_'\n",
    "    vtd_ref = ref + i + '/PVS_19_v2_vtd_' + i + '.shp' \n",
    "    vtd_shp = gpd.read_file(vtd_ref)\n",
    "    print(i, ' added to list')\n",
    "    county_vtds.append(vtd_shp)"
   ]
  },
  {
   "cell_type": "code",
   "execution_count": 85,
   "metadata": {},
   "outputs": [],
   "source": [
    "global shapefiles_census\n",
    "shapefiles_census = gpd.GeoDataFrame(pd.concat(county_vtds, axis = 0) , crs = proj) "
   ]
  },
  {
   "cell_type": "code",
   "execution_count": 86,
   "metadata": {},
   "outputs": [
    {
     "data": {
      "text/plain": [
       "<matplotlib.axes._subplots.AxesSubplot at 0x7fde2b577a60>"
      ]
     },
     "execution_count": 86,
     "metadata": {},
     "output_type": "execute_result"
    },
    {
     "data": {
      "image/png": "[encoded data removed]",
      "text/plain": [
       "<Figure size 432x288 with 1 Axes>"
      ]
     },
     "metadata": {
      "needs_background": "light"
     },
     "output_type": "display_data"
    }
   ],
   "source": [
    "shapefiles_census.plot()"
   ]
  },
  {
   "cell_type": "code",
   "execution_count": 87,
   "metadata": {},
   "outputs": [
    {
     "data": {
      "text/plain": [
       "<matplotlib.axes._subplots.AxesSubplot at 0x7fde2d2017c0>"
      ]
     },
     "execution_count": 87,
     "metadata": {},
     "output_type": "execute_result"
    },
    {
     "data": {
      "image/png": "[encoded data removed]",
      "text/plain": [
       "<Figure size 432x288 with 1 Axes>"
      ]
     },
     "metadata": {
      "needs_background": "light"
     },
     "output_type": "display_data"
    }
   ],
   "source": [
    "final.plot()"
   ]
  },
  {
   "cell_type": "markdown",
   "metadata": {},
   "source": [
    "## Dealing with merges "
   ]
  },
  {
   "cell_type": "markdown",
   "metadata": {},
   "source": [
    "**From VEST documentation: -- Are these changes to the election result precincts, not to the map?**\n",
    "\n",
    "The following modifications were made to recreate the 2018 precinct boundaries.\n",
    "\n",
    "- Albemarle: Add Mechums River to match county GIS shapefile\n",
    "- Arlington: Adjust Gunston/Oakridge to match county GIS shapefile\n",
    "- Bristol City: Adjust Ward 2/Ward 4 to match description in municipal code\n",
    "- Charles City County: Adjust District 1/District 2 boundary to match county code\n",
    "- Covington City: Realign Ward 1, Ward 2, Ward 3 to match city PDF map and municipal code\n",
    "- Culpeper: Adjust East Fairfax/Brandy Station boundary to match county GIS shapefile\n",
    "- Emporia City: Adjust Precincts 1/7, Precincts 2/5 to match municipal code\n",
    "- Essex: Adjust South Precinct/Central Precinct boundary to match county PDF\n",
    "- Fairfax: Adjust Virginia Run/Bull Run to match county GIS shapefile\n",
    "- Fredericksburg City: Adjust District 1/3 boundaries to match municipal code\n",
    "- Galax City: Adjust North/South precinct boundary to match municipal GIS shapefile\n",
    "- Goochland: Adjust Hadensville/Fife boundary to match description in county code\n",
    "- Halifax: Merge South Boston East/West; Adjust Meadville/Republican Grove to match 2011 redistricting PDF map\n",
    "- Hampton City: Add US House District 2 segment of Tyler Precinct to match county PDF\n",
    "- Hanover: Adjust Blunts/Beaverdam boundary to match county PDF\n",
    "- Henry: Adjust 10 precinct boundaries to align VTDs with county GIS shapefile\n",
    "- Loudoun: Adjust Weller/Ashbrook, Evergreen/Sycolin Creek; Add Goshen Post, Buffalo Trail to match county GIS shapefile\n",
    "- Madison: Adjust all precincts to align VTDs with county GIS shapefile\n",
    "- Newport News City: Adjust Sanford/Riverview boundary to match county GIS shapefile\n",
    "- Norfolk City: Merge Bramblewood into Chesterfield/Ruffner Academy; Adjust Granby/Titustown to match county PDF\n",
    "- Prince William: Adjust Ben Lomond/Mullen, Freedom/Leesylvania to match county GIS shapefile\n",
    "- Pulaski: Adjust Dublin/New River to match precinct assignments on county GIS parcel viewer\n",
    "- Rappahanock: Adjust Sperryville/Washington boundary to match county PDF\n",
    "- Richmond City: Add Precinct 115 to match county GIS shapefile\n",
    "- Richmond County: Adjust Precincts 2-1/3-1 boundary to match description in county ordinance\n",
    "- Roanoke County: Adjust 12 precinct boundaries to match county GIS shapefile\n",
    "- Rockingham: Split East/West Bridgewater to match municipal ordinance; Adjust East Bridgewater to match municipal boundary\n",
    "- Russell: Adjust Daugherty/West Lebanon boundary to match county PDF\n",
    "- Tazewell: Merge Abbs Valley/Bossevain, Adria/Gap Store, Pounding Mill/Wardell, Raven/Richlands;  Adjust nearly all precinct boundaries to align VTDs with county GIS shapefile\n",
    "- Virginia Beach City: Adjust Centerville/Colonial to match county GIS shapefile\n",
    "- Williamsburg City: Revise Matoaka/Stryker to match municipal PDF map and municipal code\n",
    "- Wise: Adjust Big Stone Gap/East Stone Gap boundary to match county GIS shapefile\n",
    "- Wythe: Adjust West Wytheville/East Wytheville boundary to match county GIS shapefile"
   ]
  },
  {
   "cell_type": "code",
   "execution_count": 245,
   "metadata": {},
   "outputs": [],
   "source": [
    "shp = shapefiles_census"
   ]
  },
  {
   "cell_type": "code",
   "execution_count": 246,
   "metadata": {},
   "outputs": [
    {
     "data": {
      "text/plain": [
       "(2462, 17)"
      ]
     },
     "execution_count": 246,
     "metadata": {},
     "output_type": "execute_result"
    }
   ],
   "source": [
    "shp.shape"
   ]
  },
  {
   "cell_type": "code",
   "execution_count": 247,
   "metadata": {},
   "outputs": [
    {
     "data": {
      "text/plain": [
       "(2463, 9)"
      ]
     },
     "execution_count": 247,
     "metadata": {},
     "output_type": "execute_result"
    }
   ],
   "source": [
    "final.shape #Great that they are close!   "
   ]
  },
  {
   "cell_type": "code",
   "execution_count": 248,
   "metadata": {},
   "outputs": [
    {
     "data": {
      "text/plain": [
       "(2462, 7)"
      ]
     },
     "execution_count": 248,
     "metadata": {},
     "output_type": "execute_result"
    }
   ],
   "source": [
    "df_with_absentee_reallocated.shape"
   ]
  },
  {
   "cell_type": "markdown",
   "metadata": {},
   "source": [
    "### Next step - now that df and final data row counts match more closely\n",
    "- need to create unique identifier to match shp, then merge + check geographies...\n",
    "  - should I just join shp and df to final file, not worry about unique ID?"
   ]
  },
  {
   "cell_type": "markdown",
   "metadata": {},
   "source": [
    "Using below method, see that in df, \n",
    "- some first characters are getting cut off (ex:'74017 ICTORY LIFE FELLOWSHIP' vs  '740017VICTORY LIFE FELLOWSHIP')\n",
    "- inconsistent # of number characters \n",
    "- DF some precincts have (CD #) whereas final file does not have this at all\n",
    "- some precincts (GLEN FOREST) in DF, not in final and not noted in documentation"
   ]
  },
  {
   "cell_type": "code",
   "execution_count": 249,
   "metadata": {},
   "outputs": [
    {
     "data": {
      "text/plain": [
       "800404    2\n",
       "153312    2\n",
       "095202    2\n",
       "55020     2\n",
       "177402    2\n",
       "         ..\n",
       "087407    1\n",
       "171601    1\n",
       "089401    1\n",
       "0133 -    1\n",
       "087507    1\n",
       "Length: 2440, dtype: int64"
      ]
     },
     "execution_count": 249,
     "metadata": {},
     "output_type": "execute_result"
    }
   ],
   "source": [
    "(df_with_absentee_reallocated.COUNTYFP + df_with_absentee_reallocated.Pct.str.slice(stop = 3)).value_counts()"
   ]
  },
  {
   "cell_type": "markdown",
   "metadata": {},
   "source": [
    "Peter + Izzy 4/6/21\n",
    "- import congressional shapefiles, assign the overlap as the new shapefile\n",
    "- create list of vtds where not unique\n",
    "- join ones that do work with county and vtdst\n",
    "    - print out ones that dont match and manually match them up\n",
    "    - right now in election and shapefile could create column with county fip, vtdst \n",
    "    filter out ones that repeat entirely\n",
    "    remaining ones join manually in mini df\n",
    "    then join the two dfs - could create a dictionary to map from nonunique to temporary unique one - adding a or b to end of it, \n",
    "- set indicator to true in merge to show whether merged \n",
    "\n",
    "oin_elec_geom1 = pd.merge(wa_geo,revised_df,on='FULLPRC',how='outer',indicator=True)\n",
    "\n",
    "false = join_elec_geom1[join_elec_geom1['_merge']!='both'].copy()"
   ]
  },
  {
   "cell_type": "markdown",
   "metadata": {},
   "source": [
    "See that in case of df, the overlap, value_counts > 1 are result of same precinct name, different CD"
   ]
  },
  {
   "cell_type": "code",
   "execution_count": 250,
   "metadata": {},
   "outputs": [
    {
     "data": {
      "text/html": [
       "<div>\n",
       "<style scoped>\n",
       "    .dataframe tbody tr th:only-of-type {\n",
       "        vertical-align: middle;\n",
       "    }\n",
       "\n",
       "    .dataframe tbody tr th {\n",
       "        vertical-align: top;\n",
       "    }\n",
       "\n",
       "    .dataframe thead th {\n",
       "        text-align: right;\n",
       "    }\n",
       "</style>\n",
       "<table border=\"1\" class=\"dataframe\">\n",
       "  <thead>\n",
       "    <tr style=\"text-align: right;\">\n",
       "      <th></th>\n",
       "      <th>Pct</th>\n",
       "      <th>LOCALITY</th>\n",
       "      <th>G18USSDKAI</th>\n",
       "      <th>G18USSRSTE</th>\n",
       "      <th>G18USSLWAT</th>\n",
       "      <th>G18USSOWRI</th>\n",
       "      <th>COUNTYFP</th>\n",
       "    </tr>\n",
       "  </thead>\n",
       "  <tbody>\n",
       "    <tr>\n",
       "      <th>1316</th>\n",
       "      <td>304 - Mount Olivet (CD 5)</td>\n",
       "      <td>Henry County</td>\n",
       "      <td>718.211857</td>\n",
       "      <td>563.558208</td>\n",
       "      <td>8.444444</td>\n",
       "      <td>0.0</td>\n",
       "      <td>089</td>\n",
       "    </tr>\n",
       "    <tr>\n",
       "      <th>1317</th>\n",
       "      <td>304 - Mount Olivet (CD 9)</td>\n",
       "      <td>Henry County</td>\n",
       "      <td>4.249774</td>\n",
       "      <td>0.000000</td>\n",
       "      <td>0.000000</td>\n",
       "      <td>0.0</td>\n",
       "      <td>089</td>\n",
       "    </tr>\n",
       "  </tbody>\n",
       "</table>\n",
       "</div>"
      ],
      "text/plain": [
       "                            Pct      LOCALITY  G18USSDKAI  G18USSRSTE  \\\n",
       "1316  304 - Mount Olivet (CD 5)  Henry County  718.211857  563.558208   \n",
       "1317  304 - Mount Olivet (CD 9)  Henry County    4.249774    0.000000   \n",
       "\n",
       "      G18USSLWAT  G18USSOWRI COUNTYFP  \n",
       "1316    8.444444         0.0      089  \n",
       "1317    0.000000         0.0      089  "
      ]
     },
     "execution_count": 250,
     "metadata": {},
     "output_type": "execute_result"
    }
   ],
   "source": [
    "df_with_absentee_reallocated[(df_with_absentee_reallocated.Pct.str.slice(stop = 3) == '304') & (df_with_absentee_reallocated.COUNTYFP == '089')]"
   ]
  },
  {
   "cell_type": "code",
   "execution_count": 253,
   "metadata": {},
   "outputs": [],
   "source": [
    "df_county_vtdst = set(df_with_absentee_reallocated.COUNTYFP + df_with_absentee_reallocated.Pct.str.slice(stop = 3))"
   ]
  },
  {
   "cell_type": "code",
   "execution_count": 254,
   "metadata": {},
   "outputs": [
    {
     "data": {
      "text/plain": [
       "2462"
      ]
     },
     "execution_count": 254,
     "metadata": {},
     "output_type": "execute_result"
    }
   ],
   "source": [
    "(shp.COUNTYFP + shp.VTDST).nunique()"
   ]
  },
  {
   "cell_type": "markdown",
   "metadata": {},
   "source": [
    "Match rate for final and vtdst pretty good - if get all 2440/2462 to match, that is a 99.1% match rate... Just need to fix final file leading zeros etc with vtdst"
   ]
  },
  {
   "cell_type": "markdown",
   "metadata": {},
   "source": [
    "See below with unique IDs are missing"
   ]
  },
  {
   "cell_type": "code",
   "execution_count": 257,
   "metadata": {},
   "outputs": [
    {
     "data": {
      "text/plain": [
       "Index(['800302', '800504', '153210', '153112', '177704', '550020', '800602',\n",
       "       '710104', '177103', '800404', '153312', '177703', '177702', '095504',\n",
       "       '177402', '153609', '059513', '153110', '650215', '089505', '089304',\n",
       "       '095202'],\n",
       "      dtype='object')"
      ]
     },
     "execution_count": 257,
     "metadata": {},
     "output_type": "execute_result"
    }
   ],
   "source": [
    "double_vtdst[double_vtdst > 1].index"
   ]
  },
  {
   "cell_type": "code",
   "execution_count": 258,
   "metadata": {},
   "outputs": [],
   "source": [
    "nonunique_id = ['650215', '177703', '089304', '177402', '800602', '153112', '059513',\n",
    "       '800504', '095202', '800404', '550020', '089505', '800302', '153609',\n",
    "       '153210', '177103', '710104', '153110', '177702', '095504', '153312',\n",
    "       '177704']"
   ]
  },
  {
   "cell_type": "code",
   "execution_count": 260,
   "metadata": {},
   "outputs": [],
   "source": [
    "final['unique_id'] = final.COUNTYFP + final.VTDST.str.slice(start = 3)"
   ]
  },
  {
   "cell_type": "code",
   "execution_count": 262,
   "metadata": {},
   "outputs": [
    {
     "data": {
      "text/plain": [
       "44"
      ]
     },
     "execution_count": 262,
     "metadata": {},
     "output_type": "execute_result"
    }
   ],
   "source": [
    "len(final[final['unique_id'].isin(nonunique_id)])"
   ]
  },
  {
   "cell_type": "code",
   "execution_count": 263,
   "metadata": {},
   "outputs": [
    {
     "data": {
      "text/html": [
       "<div>\n",
       "<style scoped>\n",
       "    .dataframe tbody tr th:only-of-type {\n",
       "        vertical-align: middle;\n",
       "    }\n",
       "\n",
       "    .dataframe tbody tr th {\n",
       "        vertical-align: top;\n",
       "    }\n",
       "\n",
       "    .dataframe thead th {\n",
       "        text-align: right;\n",
       "    }\n",
       "</style>\n",
       "<table border=\"1\" class=\"dataframe\">\n",
       "  <thead>\n",
       "    <tr style=\"text-align: right;\">\n",
       "      <th></th>\n",
       "      <th>COUNTYFP</th>\n",
       "      <th>LOCALITY</th>\n",
       "      <th>VTDST</th>\n",
       "      <th>PRECINCT</th>\n",
       "      <th>G18USSDKAI</th>\n",
       "      <th>G18USSRSTE</th>\n",
       "      <th>G18USSLWAT</th>\n",
       "      <th>G18USSOWRI</th>\n",
       "      <th>geometry</th>\n",
       "      <th>unique_id</th>\n",
       "    </tr>\n",
       "  </thead>\n",
       "  <tbody>\n",
       "    <tr>\n",
       "      <th>1803</th>\n",
       "      <td>650</td>\n",
       "      <td>Hampton City</td>\n",
       "      <td>000215</td>\n",
       "      <td>TYLER (CD 3)</td>\n",
       "      <td>363</td>\n",
       "      <td>62</td>\n",
       "      <td>10</td>\n",
       "      <td>5</td>\n",
       "      <td>POLYGON Z ((-76.36283 37.05127 0.00000, -76.36...</td>\n",
       "      <td>650215</td>\n",
       "    </tr>\n",
       "    <tr>\n",
       "      <th>2239</th>\n",
       "      <td>650</td>\n",
       "      <td>Hampton City</td>\n",
       "      <td>000215</td>\n",
       "      <td>TYLER (CD 2)</td>\n",
       "      <td>38</td>\n",
       "      <td>9</td>\n",
       "      <td>1</td>\n",
       "      <td>0</td>\n",
       "      <td>POLYGON Z ((-76.36144 37.05458 0.00000, -76.35...</td>\n",
       "      <td>650215</td>\n",
       "    </tr>\n",
       "  </tbody>\n",
       "</table>\n",
       "</div>"
      ],
      "text/plain": [
       "     COUNTYFP      LOCALITY   VTDST      PRECINCT  G18USSDKAI  G18USSRSTE  \\\n",
       "1803      650  Hampton City  000215  TYLER (CD 3)         363          62   \n",
       "2239      650  Hampton City  000215  TYLER (CD 2)          38           9   \n",
       "\n",
       "      G18USSLWAT  G18USSOWRI  \\\n",
       "1803          10           5   \n",
       "2239           1           0   \n",
       "\n",
       "                                               geometry unique_id  \n",
       "1803  POLYGON Z ((-76.36283 37.05127 0.00000, -76.36...    650215  \n",
       "2239  POLYGON Z ((-76.36144 37.05458 0.00000, -76.35...    650215  "
      ]
     },
     "execution_count": 263,
     "metadata": {},
     "output_type": "execute_result"
    }
   ],
   "source": [
    "final[(final.VTDST.str.slice(start = 3) == '215') & (final.COUNTYFP == '650')]"
   ]
  },
  {
   "cell_type": "code",
   "execution_count": 265,
   "metadata": {},
   "outputs": [],
   "source": [
    "df_with_absentee_reallocated['vtdst'] = df_with_absentee_reallocated.Pct.str.slice(stop = 3)"
   ]
  },
  {
   "cell_type": "code",
   "execution_count": 266,
   "metadata": {},
   "outputs": [],
   "source": [
    "#Now, tackle the case where vtdst messed up in df - add vtdst column\n",
    "def vtdst_changer(vtdst):\n",
    "    if (vtdst[1:3] == ' -'):\n",
    "        two_lead_zero = '00' + vtdst[:1]\n",
    "        return two_lead_zero\n",
    "    elif (vtdst[1:3] == '- '):\n",
    "        two_lead_zero = '00' + vtdst[:1]\n",
    "        return two_lead_zero\n",
    "    elif (vtdst[-1:] == ' '):\n",
    "        one_lead_zero = '0' + vtdst[:2]\n",
    "        return one_lead_zero\n",
    "    elif (vtdst[-1:] == '-'):\n",
    "        one_lead_zero = '0' + vtdst[:2]\n",
    "        return one_lead_zero\n",
    "    else:\n",
    "        return vtdst\n",
    "    "
   ]
  },
  {
   "cell_type": "code",
   "execution_count": 268,
   "metadata": {},
   "outputs": [],
   "source": [
    "df_with_absentee_reallocated['vtdst'] = df_with_absentee_reallocated['vtdst'].apply(vtdst_changer)"
   ]
  },
  {
   "cell_type": "code",
   "execution_count": 269,
   "metadata": {},
   "outputs": [
    {
     "data": {
      "text/plain": [
       "2440"
      ]
     },
     "execution_count": 269,
     "metadata": {},
     "output_type": "execute_result"
    }
   ],
   "source": [
    "((df_with_absentee_reallocated['COUNTYFP']+ df_with_absentee_reallocated['vtdst'])).nunique()"
   ]
  },
  {
   "cell_type": "code",
   "execution_count": 270,
   "metadata": {},
   "outputs": [
    {
     "data": {
      "text/plain": [
       "2440"
      ]
     },
     "execution_count": 270,
     "metadata": {},
     "output_type": "execute_result"
    }
   ],
   "source": [
    "(df_with_absentee_reallocated['COUNTYFP'] + df_with_absentee_reallocated['Pct'].str.slice(stop = 3)).nunique()"
   ]
  },
  {
   "cell_type": "code",
   "execution_count": 271,
   "metadata": {},
   "outputs": [
    {
     "data": {
      "text/html": [
       "<div>\n",
       "<style scoped>\n",
       "    .dataframe tbody tr th:only-of-type {\n",
       "        vertical-align: middle;\n",
       "    }\n",
       "\n",
       "    .dataframe tbody tr th {\n",
       "        vertical-align: top;\n",
       "    }\n",
       "\n",
       "    .dataframe thead th {\n",
       "        text-align: right;\n",
       "    }\n",
       "</style>\n",
       "<table border=\"1\" class=\"dataframe\">\n",
       "  <thead>\n",
       "    <tr style=\"text-align: right;\">\n",
       "      <th></th>\n",
       "      <th>Pct</th>\n",
       "      <th>LOCALITY</th>\n",
       "      <th>G18USSDKAI</th>\n",
       "      <th>G18USSRSTE</th>\n",
       "      <th>G18USSLWAT</th>\n",
       "      <th>G18USSOWRI</th>\n",
       "      <th>COUNTYFP</th>\n",
       "      <th>vtdst</th>\n",
       "    </tr>\n",
       "  </thead>\n",
       "  <tbody>\n",
       "  </tbody>\n",
       "</table>\n",
       "</div>"
      ],
      "text/plain": [
       "Empty DataFrame\n",
       "Columns: [Pct, LOCALITY, G18USSDKAI, G18USSRSTE, G18USSLWAT, G18USSOWRI, COUNTYFP, vtdst]\n",
       "Index: []"
      ]
     },
     "execution_count": 271,
     "metadata": {},
     "output_type": "execute_result"
    }
   ],
   "source": [
    "df_with_absentee_reallocated[df_with_absentee_reallocated['vtdst'].str.slice(start = -1) == '-']"
   ]
  },
  {
   "cell_type": "markdown",
   "metadata": {},
   "source": [
    "Now, with vtdst in each set, make unique ID from the 2440 that do match, then account for the 10/20 that dont afterward."
   ]
  },
  {
   "cell_type": "code",
   "execution_count": 272,
   "metadata": {},
   "outputs": [
    {
     "data": {
      "text/plain": [
       "{'499', '599'}"
      ]
     },
     "execution_count": 272,
     "metadata": {},
     "output_type": "execute_result"
    }
   ],
   "source": [
    "set(final['VTDST'].str.slice(start = 3)) - set(shp['VTDST'].str.slice(start = 3))"
   ]
  },
  {
   "cell_type": "code",
   "execution_count": 273,
   "metadata": {},
   "outputs": [
    {
     "data": {
      "text/plain": [
       "{'499', '599', '700'}"
      ]
     },
     "execution_count": 273,
     "metadata": {},
     "output_type": "execute_result"
    }
   ],
   "source": [
    "set(final['VTDST'].str.slice(start = 3)) - set(df_with_absentee_reallocated['vtdst'])"
   ]
  },
  {
   "cell_type": "code",
   "execution_count": 274,
   "metadata": {},
   "outputs": [
    {
     "data": {
      "text/plain": [
       "{'700'}"
      ]
     },
     "execution_count": 274,
     "metadata": {},
     "output_type": "execute_result"
    }
   ],
   "source": [
    "set(shp['VTDST'].str.slice(start = 3)) - set(df_with_absentee_reallocated['vtdst'])"
   ]
  },
  {
   "cell_type": "code",
   "execution_count": 275,
   "metadata": {},
   "outputs": [
    {
     "data": {
      "text/html": [
       "<div>\n",
       "<style scoped>\n",
       "    .dataframe tbody tr th:only-of-type {\n",
       "        vertical-align: middle;\n",
       "    }\n",
       "\n",
       "    .dataframe tbody tr th {\n",
       "        vertical-align: top;\n",
       "    }\n",
       "\n",
       "    .dataframe thead th {\n",
       "        text-align: right;\n",
       "    }\n",
       "</style>\n",
       "<table border=\"1\" class=\"dataframe\">\n",
       "  <thead>\n",
       "    <tr style=\"text-align: right;\">\n",
       "      <th></th>\n",
       "      <th>COUNTYFP</th>\n",
       "      <th>LOCALITY</th>\n",
       "      <th>VTDST</th>\n",
       "      <th>PRECINCT</th>\n",
       "      <th>G18USSDKAI</th>\n",
       "      <th>G18USSRSTE</th>\n",
       "      <th>G18USSLWAT</th>\n",
       "      <th>G18USSOWRI</th>\n",
       "      <th>geometry</th>\n",
       "      <th>unique_id</th>\n",
       "    </tr>\n",
       "  </thead>\n",
       "  <tbody>\n",
       "    <tr>\n",
       "      <th>600</th>\n",
       "      <td>059</td>\n",
       "      <td>Fairfax County</td>\n",
       "      <td>000700</td>\n",
       "      <td>Fairfax Court</td>\n",
       "      <td>0</td>\n",
       "      <td>0</td>\n",
       "      <td>0</td>\n",
       "      <td>0</td>\n",
       "      <td>POLYGON Z ((-77.31648 38.84615 0.00000, -77.31...</td>\n",
       "      <td>059700</td>\n",
       "    </tr>\n",
       "  </tbody>\n",
       "</table>\n",
       "</div>"
      ],
      "text/plain": [
       "    COUNTYFP        LOCALITY   VTDST       PRECINCT  G18USSDKAI  G18USSRSTE  \\\n",
       "600      059  Fairfax County  000700  Fairfax Court           0           0   \n",
       "\n",
       "     G18USSLWAT  G18USSOWRI  \\\n",
       "600           0           0   \n",
       "\n",
       "                                              geometry unique_id  \n",
       "600  POLYGON Z ((-77.31648 38.84615 0.00000, -77.31...    059700  "
      ]
     },
     "execution_count": 275,
     "metadata": {},
     "output_type": "execute_result"
    }
   ],
   "source": [
    "final[final['VTDST'].str.slice(start = 3) == '700']"
   ]
  },
  {
   "cell_type": "code",
   "execution_count": 276,
   "metadata": {},
   "outputs": [
    {
     "data": {
      "text/html": [
       "<div>\n",
       "<style scoped>\n",
       "    .dataframe tbody tr th:only-of-type {\n",
       "        vertical-align: middle;\n",
       "    }\n",
       "\n",
       "    .dataframe tbody tr th {\n",
       "        vertical-align: top;\n",
       "    }\n",
       "\n",
       "    .dataframe thead th {\n",
       "        text-align: right;\n",
       "    }\n",
       "</style>\n",
       "<table border=\"1\" class=\"dataframe\">\n",
       "  <thead>\n",
       "    <tr style=\"text-align: right;\">\n",
       "      <th></th>\n",
       "      <th>COUNTYFP</th>\n",
       "      <th>LOCALITY</th>\n",
       "      <th>VTDST</th>\n",
       "      <th>PRECINCT</th>\n",
       "      <th>G18USSDKAI</th>\n",
       "      <th>G18USSRSTE</th>\n",
       "      <th>G18USSLWAT</th>\n",
       "      <th>G18USSOWRI</th>\n",
       "      <th>geometry</th>\n",
       "      <th>unique_id</th>\n",
       "    </tr>\n",
       "  </thead>\n",
       "  <tbody>\n",
       "    <tr>\n",
       "      <th>2332</th>\n",
       "      <td>003</td>\n",
       "      <td>Albemarle County</td>\n",
       "      <td>000599</td>\n",
       "      <td>Pantops</td>\n",
       "      <td>1054</td>\n",
       "      <td>453</td>\n",
       "      <td>23</td>\n",
       "      <td>2</td>\n",
       "      <td>POLYGON Z ((-78.45505 38.04404 0.00000, -78.45...</td>\n",
       "      <td>003599</td>\n",
       "    </tr>\n",
       "  </tbody>\n",
       "</table>\n",
       "</div>"
      ],
      "text/plain": [
       "     COUNTYFP          LOCALITY   VTDST PRECINCT  G18USSDKAI  G18USSRSTE  \\\n",
       "2332      003  Albemarle County  000599  Pantops        1054         453   \n",
       "\n",
       "      G18USSLWAT  G18USSOWRI  \\\n",
       "2332          23           2   \n",
       "\n",
       "                                               geometry unique_id  \n",
       "2332  POLYGON Z ((-78.45505 38.04404 0.00000, -78.45...    003599  "
      ]
     },
     "execution_count": 276,
     "metadata": {},
     "output_type": "execute_result"
    }
   ],
   "source": [
    "final[final['VTDST'].str.slice(start = 3) == '599']"
   ]
  },
  {
   "cell_type": "code",
   "execution_count": 277,
   "metadata": {},
   "outputs": [
    {
     "data": {
      "text/html": [
       "<div>\n",
       "<style scoped>\n",
       "    .dataframe tbody tr th:only-of-type {\n",
       "        vertical-align: middle;\n",
       "    }\n",
       "\n",
       "    .dataframe tbody tr th {\n",
       "        vertical-align: top;\n",
       "    }\n",
       "\n",
       "    .dataframe thead th {\n",
       "        text-align: right;\n",
       "    }\n",
       "</style>\n",
       "<table border=\"1\" class=\"dataframe\">\n",
       "  <thead>\n",
       "    <tr style=\"text-align: right;\">\n",
       "      <th></th>\n",
       "      <th>COUNTYFP</th>\n",
       "      <th>LOCALITY</th>\n",
       "      <th>VTDST</th>\n",
       "      <th>PRECINCT</th>\n",
       "      <th>G18USSDKAI</th>\n",
       "      <th>G18USSRSTE</th>\n",
       "      <th>G18USSLWAT</th>\n",
       "      <th>G18USSOWRI</th>\n",
       "      <th>geometry</th>\n",
       "      <th>unique_id</th>\n",
       "    </tr>\n",
       "  </thead>\n",
       "  <tbody>\n",
       "    <tr>\n",
       "      <th>29</th>\n",
       "      <td>003</td>\n",
       "      <td>Albemarle County</td>\n",
       "      <td>000499</td>\n",
       "      <td>Biscuit Run</td>\n",
       "      <td>1083</td>\n",
       "      <td>252</td>\n",
       "      <td>47</td>\n",
       "      <td>2</td>\n",
       "      <td>POLYGON Z ((-78.53848 37.98576 0.00000, -78.53...</td>\n",
       "      <td>003499</td>\n",
       "    </tr>\n",
       "  </tbody>\n",
       "</table>\n",
       "</div>"
      ],
      "text/plain": [
       "   COUNTYFP          LOCALITY   VTDST     PRECINCT  G18USSDKAI  G18USSRSTE  \\\n",
       "29      003  Albemarle County  000499  Biscuit Run        1083         252   \n",
       "\n",
       "    G18USSLWAT  G18USSOWRI                                           geometry  \\\n",
       "29          47           2  POLYGON Z ((-78.53848 37.98576 0.00000, -78.53...   \n",
       "\n",
       "   unique_id  \n",
       "29    003499  "
      ]
     },
     "execution_count": 277,
     "metadata": {},
     "output_type": "execute_result"
    }
   ],
   "source": [
    "final[final['VTDST'].str.slice(start = 3) =='499']"
   ]
  },
  {
   "cell_type": "code",
   "execution_count": 278,
   "metadata": {},
   "outputs": [],
   "source": [
    "df_with_absentee_reallocated['unique_id'] = df_with_absentee_reallocated['COUNTYFP'] + df_with_absentee_reallocated['vtdst']"
   ]
  },
  {
   "cell_type": "code",
   "execution_count": 279,
   "metadata": {},
   "outputs": [],
   "source": [
    "double_in_df = df_with_absentee_reallocated['unique_id'].value_counts()\n",
    "df_double_list = double_in_df[double_in_df > 1].index"
   ]
  },
  {
   "cell_type": "code",
   "execution_count": 280,
   "metadata": {},
   "outputs": [],
   "source": [
    "final_double_list = double_vtdst[double_vtdst > 1].index"
   ]
  },
  {
   "cell_type": "code",
   "execution_count": 281,
   "metadata": {},
   "outputs": [
    {
     "data": {
      "text/plain": [
       "set()"
      ]
     },
     "execution_count": 281,
     "metadata": {},
     "output_type": "execute_result"
    }
   ],
   "source": [
    "set(final_double_list) - set(df_double_list)"
   ]
  },
  {
   "cell_type": "code",
   "execution_count": 283,
   "metadata": {
    "collapsed": true,
    "jupyter": {
     "outputs_hidden": true
    }
   },
   "outputs": [
    {
     "data": {
      "text/plain": [
       "1803    (CD 3)\n",
       "2232    (CD 4)\n",
       "2233    (CD 3)\n",
       "2234    (CD 8)\n",
       "2235    CD 11)\n",
       "2239    (CD 2)\n",
       "2241    (CD 1)\n",
       "2242    (CD 2)\n",
       "2267    (CD 2)\n",
       "2268    (CD 3)\n",
       "2270    (CD 1)\n",
       "2271    CD 11)\n",
       "2272    (CD 1)\n",
       "2273    (CD 1)\n",
       "2274    CD 10)\n",
       "2275    CD 10)\n",
       "2276    CD 11)\n",
       "2277    (CD 1)\n",
       "2278    CD 11)\n",
       "2279    (CD 1)\n",
       "2284    (CD 7)\n",
       "2285    (CD 1)\n",
       "2286    (CD 1)\n",
       "2287    (CD 7)\n",
       "2288    (CD 1)\n",
       "2289    (CD 7)\n",
       "2290    (CD 1)\n",
       "2291    (CD 7)\n",
       "2292    (CD 7)\n",
       "2293    (CD 1)\n",
       "2294    (CD 4)\n",
       "2295    (CD 4)\n",
       "2296    (CD 3)\n",
       "2297    (CD 4)\n",
       "2298    (CD 3)\n",
       "2299    (CD 4)\n",
       "2300    (CD 3)\n",
       "2301    (CD 3)\n",
       "2302    (CD 1)\n",
       "2303    (CD 2)\n",
       "2313    (CD 9)\n",
       "2314    (CD 5)\n",
       "2315    (CD 5)\n",
       "2316    (CD 9)\n",
       "Name: PRECINCT, dtype: object"
      ]
     },
     "execution_count": 283,
     "metadata": {},
     "output_type": "execute_result"
    }
   ],
   "source": [
    "final['PRECINCT'].str.slice(start = -6)[final['unique_id'].isin(list(df_double_list))]"
   ]
  },
  {
   "cell_type": "code",
   "execution_count": 284,
   "metadata": {},
   "outputs": [],
   "source": [
    "def vtdst_add_cd(unique_id, precinct):\n",
    "    double_list = ['177702', '153112', '710104', '800602', '095504', '177103', '089505',\n",
    "       '800404', '800504', '153210', '095202', '089304', '800302', '153609',\n",
    "       '177703', '650215', '177402', '153312', '059513', '550020', '177704',\n",
    "       '153110']\n",
    "    if (unique_id in double_list):\n",
    "        unique_id = unique_id + precinct[-6:]\n",
    "        return unique_id\n",
    "    else:\n",
    "        return unique_id"
   ]
  },
  {
   "cell_type": "code",
   "execution_count": 285,
   "metadata": {},
   "outputs": [],
   "source": [
    "df_with_absentee_reallocated['unique_id_1'] = df_with_absentee_reallocated.apply(lambda row: vtdst_add_cd(row['unique_id'], row['Pct']), axis = 1)\n",
    "df_with_absentee_reallocated['unique_id_1'].nunique()"
   ]
  },
  {
   "cell_type": "code",
   "execution_count": 287,
   "metadata": {},
   "outputs": [],
   "source": [
    "final['unique_id_1'] = final.apply(lambda row: vtdst_add_cd(row['unique_id'], row['PRECINCT']), axis = 1)"
   ]
  },
  {
   "cell_type": "code",
   "execution_count": 288,
   "metadata": {
    "collapsed": true,
    "jupyter": {
     "outputs_hidden": true
    }
   },
   "outputs": [
    {
     "data": {
      "text/plain": [
       "425     550020(CD 3)\n",
       "426     550020(CD 4)\n",
       "787     059513CD 11)\n",
       "788     059513(CD 8)\n",
       "1157    650215(CD 2)\n",
       "1158    650215(CD 3)\n",
       "1316    089304(CD 5)\n",
       "1317    089304(CD 9)\n",
       "1327    089505(CD 5)\n",
       "1328    089505(CD 9)\n",
       "1374    095202(CD 1)\n",
       "1375    095202(CD 2)\n",
       "1388    095504(CD 1)\n",
       "1389    095504(CD 2)\n",
       "1764    710104(CD 2)\n",
       "1765    710104(CD 3)\n",
       "2001    153110(CD 1)\n",
       "2002    153110CD 10)\n",
       "2004    153112(CD 1)\n",
       "2005    153112CD 10)\n",
       "2015    153210(CD 1)\n",
       "2016    153210CD 11)\n",
       "2033    153312(CD 1)\n",
       "2034    153312CD 11)\n",
       "2072    153609(CD 1)\n",
       "2073    153609CD 11)\n",
       "2402    177103(CD 1)\n",
       "2403    177103(CD 7)\n",
       "2413    177402(CD 1)\n",
       "2414    177402(CD 7)\n",
       "2425    177702(CD 1)\n",
       "2426    177702(CD 7)\n",
       "2427    177703(CD 1)\n",
       "2428    177703(CD 7)\n",
       "2429    177704(CD 1)\n",
       "2430    177704(CD 7)\n",
       "2479    800302(CD 3)\n",
       "2480    800302(CD 4)\n",
       "2486    800404(CD 3)\n",
       "2487    800404(CD 4)\n",
       "2491    800504(CD 3)\n",
       "2492    800504(CD 4)\n",
       "2494    800602(CD 3)\n",
       "2495    800602(CD 4)\n",
       "Name: unique_id_1, dtype: object"
      ]
     },
     "execution_count": 288,
     "metadata": {},
     "output_type": "execute_result"
    }
   ],
   "source": [
    "df_with_absentee_reallocated['unique_id_1'][df_with_absentee_reallocated['unique_id'].isin(list(df_double_list))]"
   ]
  },
  {
   "cell_type": "code",
   "execution_count": 289,
   "metadata": {},
   "outputs": [
    {
     "data": {
      "text/plain": [
       "{'003499', '003599', '059700'}"
      ]
     },
     "execution_count": 289,
     "metadata": {},
     "output_type": "execute_result"
    }
   ],
   "source": [
    "set(final['unique_id_1']) - set(df_with_absentee_reallocated['unique_id_1'])"
   ]
  },
  {
   "cell_type": "markdown",
   "metadata": {},
   "source": [
    "Next, apply change to shp file, make unique ids, merge, check results."
   ]
  },
  {
   "cell_type": "code",
   "execution_count": 290,
   "metadata": {},
   "outputs": [],
   "source": [
    "shp['unique_id'] = shp['COUNTYFP'] + shp['VTDST'].str.slice(start = 3)"
   ]
  },
  {
   "cell_type": "code",
   "execution_count": 291,
   "metadata": {},
   "outputs": [
    {
     "data": {
      "text/plain": [
       "(2462, 17)"
      ]
     },
     "execution_count": 291,
     "metadata": {},
     "output_type": "execute_result"
    }
   ],
   "source": [
    "shp.shape"
   ]
  },
  {
   "cell_type": "code",
   "execution_count": 292,
   "metadata": {},
   "outputs": [],
   "source": [
    "df_notin_shp = list(set(df_with_absentee_reallocated['unique_id']) - set(shp['unique_id']))"
   ]
  },
  {
   "cell_type": "code",
   "execution_count": 293,
   "metadata": {},
   "outputs": [
    {
     "data": {
      "text/html": [
       "<div>\n",
       "<style scoped>\n",
       "    .dataframe tbody tr th:only-of-type {\n",
       "        vertical-align: middle;\n",
       "    }\n",
       "\n",
       "    .dataframe tbody tr th {\n",
       "        vertical-align: top;\n",
       "    }\n",
       "\n",
       "    .dataframe thead th {\n",
       "        text-align: right;\n",
       "    }\n",
       "</style>\n",
       "<table border=\"1\" class=\"dataframe\">\n",
       "  <thead>\n",
       "    <tr style=\"text-align: right;\">\n",
       "      <th></th>\n",
       "      <th>Pct</th>\n",
       "      <th>LOCALITY</th>\n",
       "      <th>G18USSDKAI</th>\n",
       "      <th>G18USSRSTE</th>\n",
       "      <th>G18USSLWAT</th>\n",
       "      <th>G18USSOWRI</th>\n",
       "      <th>COUNTYFP</th>\n",
       "      <th>vtdst</th>\n",
       "      <th>unique_id</th>\n",
       "      <th>unique_id_1</th>\n",
       "    </tr>\n",
       "  </thead>\n",
       "  <tbody>\n",
       "    <tr>\n",
       "      <th>278</th>\n",
       "      <td>4 - Fourth Ward</td>\n",
       "      <td>Bristol City</td>\n",
       "      <td>609.962406</td>\n",
       "      <td>1581.277165</td>\n",
       "      <td>24.000000</td>\n",
       "      <td>2.285714</td>\n",
       "      <td>520</td>\n",
       "      <td>004</td>\n",
       "      <td>520004</td>\n",
       "      <td>520004</td>\n",
       "    </tr>\n",
       "    <tr>\n",
       "      <th>446</th>\n",
       "      <td>40 - River Birch (CD 3)</td>\n",
       "      <td>Chesapeake City</td>\n",
       "      <td>1235.126565</td>\n",
       "      <td>759.940189</td>\n",
       "      <td>28.814153</td>\n",
       "      <td>3.300000</td>\n",
       "      <td>550</td>\n",
       "      <td>040</td>\n",
       "      <td>550040</td>\n",
       "      <td>550040</td>\n",
       "    </tr>\n",
       "    <tr>\n",
       "      <th>453</th>\n",
       "      <td>47 - Green Sea (CD 4)</td>\n",
       "      <td>Chesapeake City</td>\n",
       "      <td>304.982922</td>\n",
       "      <td>509.469019</td>\n",
       "      <td>14.940672</td>\n",
       "      <td>2.200000</td>\n",
       "      <td>550</td>\n",
       "      <td>047</td>\n",
       "      <td>550047</td>\n",
       "      <td>550047</td>\n",
       "    </tr>\n",
       "    <tr>\n",
       "      <th>1086</th>\n",
       "      <td>401 - Fries</td>\n",
       "      <td>Grayson County</td>\n",
       "      <td>100.935509</td>\n",
       "      <td>223.971617</td>\n",
       "      <td>4.393443</td>\n",
       "      <td>0.000000</td>\n",
       "      <td>077</td>\n",
       "      <td>401</td>\n",
       "      <td>077401</td>\n",
       "      <td>077401</td>\n",
       "    </tr>\n",
       "    <tr>\n",
       "      <th>1372</th>\n",
       "      <td>104- Berkeley D (CD 2)</td>\n",
       "      <td>James City County</td>\n",
       "      <td>456.971933</td>\n",
       "      <td>318.263637</td>\n",
       "      <td>18.657851</td>\n",
       "      <td>1.160000</td>\n",
       "      <td>095</td>\n",
       "      <td>104</td>\n",
       "      <td>095104</td>\n",
       "      <td>095104</td>\n",
       "    </tr>\n",
       "    <tr>\n",
       "      <th>1616</th>\n",
       "      <td>3 - Precinct Three</td>\n",
       "      <td>Manassas Park City</td>\n",
       "      <td>953.045990</td>\n",
       "      <td>463.726027</td>\n",
       "      <td>28.105263</td>\n",
       "      <td>0.000000</td>\n",
       "      <td>685</td>\n",
       "      <td>003</td>\n",
       "      <td>685003</td>\n",
       "      <td>685003</td>\n",
       "    </tr>\n",
       "    <tr>\n",
       "      <th>1997</th>\n",
       "      <td>106 - Westgate (CD 1)</td>\n",
       "      <td>Prince William County</td>\n",
       "      <td>976.358905</td>\n",
       "      <td>264.999244</td>\n",
       "      <td>26.034368</td>\n",
       "      <td>2.359621</td>\n",
       "      <td>153</td>\n",
       "      <td>106</td>\n",
       "      <td>153106</td>\n",
       "      <td>153106</td>\n",
       "    </tr>\n",
       "    <tr>\n",
       "      <th>2681</th>\n",
       "      <td>702 - Wallace</td>\n",
       "      <td>Washington County</td>\n",
       "      <td>131.670209</td>\n",
       "      <td>448.908477</td>\n",
       "      <td>6.512195</td>\n",
       "      <td>1.153846</td>\n",
       "      <td>191</td>\n",
       "      <td>702</td>\n",
       "      <td>191702</td>\n",
       "      <td>191702</td>\n",
       "    </tr>\n",
       "  </tbody>\n",
       "</table>\n",
       "</div>"
      ],
      "text/plain": [
       "                          Pct               LOCALITY   G18USSDKAI  \\\n",
       "278           4 - Fourth Ward           Bristol City   609.962406   \n",
       "446   40 - River Birch (CD 3)        Chesapeake City  1235.126565   \n",
       "453     47 - Green Sea (CD 4)        Chesapeake City   304.982922   \n",
       "1086              401 - Fries         Grayson County   100.935509   \n",
       "1372   104- Berkeley D (CD 2)      James City County   456.971933   \n",
       "1616       3 - Precinct Three     Manassas Park City   953.045990   \n",
       "1997    106 - Westgate (CD 1)  Prince William County   976.358905   \n",
       "2681            702 - Wallace      Washington County   131.670209   \n",
       "\n",
       "       G18USSRSTE  G18USSLWAT  G18USSOWRI COUNTYFP vtdst unique_id unique_id_1  \n",
       "278   1581.277165   24.000000    2.285714      520   004    520004      520004  \n",
       "446    759.940189   28.814153    3.300000      550   040    550040      550040  \n",
       "453    509.469019   14.940672    2.200000      550   047    550047      550047  \n",
       "1086   223.971617    4.393443    0.000000      077   401    077401      077401  \n",
       "1372   318.263637   18.657851    1.160000      095   104    095104      095104  \n",
       "1616   463.726027   28.105263    0.000000      685   003    685003      685003  \n",
       "1997   264.999244   26.034368    2.359621      153   106    153106      153106  \n",
       "2681   448.908477    6.512195    1.153846      191   702    191702      191702  "
      ]
     },
     "execution_count": 293,
     "metadata": {},
     "output_type": "execute_result"
    }
   ],
   "source": [
    "df_with_absentee_reallocated[df_with_absentee_reallocated['unique_id'].isin(df_notin_shp)]"
   ]
  },
  {
   "cell_type": "code",
   "execution_count": 295,
   "metadata": {},
   "outputs": [],
   "source": [
    "shp_notin_df = list(set(shp['unique_id']) - set(df_with_absentee_reallocated['unique_id']))\n",
    "#shp[shp['unique_id'].isin(shp_notin_df)]"
   ]
  },
  {
   "cell_type": "code",
   "execution_count": 296,
   "metadata": {},
   "outputs": [
    {
     "data": {
      "text/html": [
       "<div>\n",
       "<style scoped>\n",
       "    .dataframe tbody tr th:only-of-type {\n",
       "        vertical-align: middle;\n",
       "    }\n",
       "\n",
       "    .dataframe tbody tr th {\n",
       "        vertical-align: top;\n",
       "    }\n",
       "\n",
       "    .dataframe thead th {\n",
       "        text-align: right;\n",
       "    }\n",
       "</style>\n",
       "<table border=\"1\" class=\"dataframe\">\n",
       "  <thead>\n",
       "    <tr style=\"text-align: right;\">\n",
       "      <th></th>\n",
       "      <th>STATEFP</th>\n",
       "      <th>COUNTYFP</th>\n",
       "      <th>VTDST</th>\n",
       "      <th>NAMELSAD</th>\n",
       "      <th>VTDI</th>\n",
       "      <th>LSAD</th>\n",
       "      <th>CHNG_TYPE</th>\n",
       "      <th>ORIG_NAME</th>\n",
       "      <th>ORIG_CODE</th>\n",
       "      <th>RELATE</th>\n",
       "      <th>NAME</th>\n",
       "      <th>VINTAGE</th>\n",
       "      <th>FUNCSTAT</th>\n",
       "      <th>JUSTIFY</th>\n",
       "      <th>MTFCC</th>\n",
       "      <th>geometry</th>\n",
       "      <th>unique_id</th>\n",
       "    </tr>\n",
       "  </thead>\n",
       "  <tbody>\n",
       "    <tr>\n",
       "      <th>9</th>\n",
       "      <td>51</td>\n",
       "      <td>153</td>\n",
       "      <td>000112</td>\n",
       "      <td>Burke-Nickens Voting District</td>\n",
       "      <td>A</td>\n",
       "      <td>V2</td>\n",
       "      <td>None</td>\n",
       "      <td>None</td>\n",
       "      <td>None</td>\n",
       "      <td>None</td>\n",
       "      <td>Burke-Nickens</td>\n",
       "      <td>90</td>\n",
       "      <td>N</td>\n",
       "      <td>None</td>\n",
       "      <td>G5240</td>\n",
       "      <td>POLYGON Z ((-77.70994 38.82376 0.00000, -77.70...</td>\n",
       "      <td>153112</td>\n",
       "    </tr>\n",
       "  </tbody>\n",
       "</table>\n",
       "</div>"
      ],
      "text/plain": [
       "  STATEFP COUNTYFP   VTDST                       NAMELSAD VTDI LSAD CHNG_TYPE  \\\n",
       "9      51      153  000112  Burke-Nickens Voting District    A   V2      None   \n",
       "\n",
       "  ORIG_NAME ORIG_CODE RELATE           NAME VINTAGE FUNCSTAT JUSTIFY  MTFCC  \\\n",
       "9      None      None   None  Burke-Nickens      90        N    None  G5240   \n",
       "\n",
       "                                            geometry unique_id  \n",
       "9  POLYGON Z ((-77.70994 38.82376 0.00000, -77.70...    153112  "
      ]
     },
     "execution_count": 296,
     "metadata": {},
     "output_type": "execute_result"
    }
   ],
   "source": [
    "#['177702', '153112', '710104', '800602', '095504', '177103', '089505',\n",
    " #      '800404', '800504', '153210', '095202', '089304', '800302', '153609',\n",
    "  #     '177703', '650215', '177402', '153312', '059513', '550020', '177704',\n",
    "   #    '153110']\n",
    "\n",
    "shp[(shp['COUNTYFP'] == '153')  & (shp['VTDST'].str.slice(start = 3) == '112')]"
   ]
  },
  {
   "cell_type": "code",
   "execution_count": 297,
   "metadata": {},
   "outputs": [],
   "source": [
    "df_not_in_final = list(set(df_with_absentee_reallocated['unique_id_1']) - set(final['unique_id_1']))"
   ]
  },
  {
   "cell_type": "code",
   "execution_count": 298,
   "metadata": {},
   "outputs": [
    {
     "data": {
      "text/html": [
       "<div>\n",
       "<style scoped>\n",
       "    .dataframe tbody tr th:only-of-type {\n",
       "        vertical-align: middle;\n",
       "    }\n",
       "\n",
       "    .dataframe tbody tr th {\n",
       "        vertical-align: top;\n",
       "    }\n",
       "\n",
       "    .dataframe thead th {\n",
       "        text-align: right;\n",
       "    }\n",
       "</style>\n",
       "<table border=\"1\" class=\"dataframe\">\n",
       "  <thead>\n",
       "    <tr style=\"text-align: right;\">\n",
       "      <th></th>\n",
       "      <th>Pct</th>\n",
       "      <th>LOCALITY</th>\n",
       "      <th>G18USSDKAI</th>\n",
       "      <th>G18USSRSTE</th>\n",
       "      <th>G18USSLWAT</th>\n",
       "      <th>G18USSOWRI</th>\n",
       "      <th>COUNTYFP</th>\n",
       "      <th>vtdst</th>\n",
       "      <th>unique_id</th>\n",
       "      <th>unique_id_1</th>\n",
       "    </tr>\n",
       "  </thead>\n",
       "  <tbody>\n",
       "    <tr>\n",
       "      <th>37</th>\n",
       "      <td>407 - Biscuit Run</td>\n",
       "      <td>Albemarle County</td>\n",
       "      <td>1082.806509</td>\n",
       "      <td>252.548175</td>\n",
       "      <td>47.475836</td>\n",
       "      <td>2.325</td>\n",
       "      <td>003</td>\n",
       "      <td>407</td>\n",
       "      <td>003407</td>\n",
       "      <td>003407</td>\n",
       "    </tr>\n",
       "    <tr>\n",
       "      <th>43</th>\n",
       "      <td>507 - Pantops</td>\n",
       "      <td>Albemarle County</td>\n",
       "      <td>1054.579019</td>\n",
       "      <td>453.933573</td>\n",
       "      <td>22.658922</td>\n",
       "      <td>2.325</td>\n",
       "      <td>003</td>\n",
       "      <td>507</td>\n",
       "      <td>003507</td>\n",
       "      <td>003507</td>\n",
       "    </tr>\n",
       "  </tbody>\n",
       "</table>\n",
       "</div>"
      ],
      "text/plain": [
       "                  Pct          LOCALITY   G18USSDKAI  G18USSRSTE  G18USSLWAT  \\\n",
       "37  407 - Biscuit Run  Albemarle County  1082.806509  252.548175   47.475836   \n",
       "43      507 - Pantops  Albemarle County  1054.579019  453.933573   22.658922   \n",
       "\n",
       "    G18USSOWRI COUNTYFP vtdst unique_id unique_id_1  \n",
       "37       2.325      003   407    003407      003407  \n",
       "43       2.325      003   507    003507      003507  "
      ]
     },
     "execution_count": 298,
     "metadata": {},
     "output_type": "execute_result"
    }
   ],
   "source": [
    "df_with_absentee_reallocated[df_with_absentee_reallocated['unique_id_1'].isin(df_not_in_final)]"
   ]
  },
  {
   "cell_type": "code",
   "execution_count": 299,
   "metadata": {},
   "outputs": [],
   "source": [
    "final_notin_df = list(set(final['unique_id_1']) - set(df_with_absentee_reallocated['unique_id_1']))"
   ]
  },
  {
   "cell_type": "code",
   "execution_count": 300,
   "metadata": {},
   "outputs": [
    {
     "data": {
      "text/html": [
       "<div>\n",
       "<style scoped>\n",
       "    .dataframe tbody tr th:only-of-type {\n",
       "        vertical-align: middle;\n",
       "    }\n",
       "\n",
       "    .dataframe tbody tr th {\n",
       "        vertical-align: top;\n",
       "    }\n",
       "\n",
       "    .dataframe thead th {\n",
       "        text-align: right;\n",
       "    }\n",
       "</style>\n",
       "<table border=\"1\" class=\"dataframe\">\n",
       "  <thead>\n",
       "    <tr style=\"text-align: right;\">\n",
       "      <th></th>\n",
       "      <th>COUNTYFP</th>\n",
       "      <th>LOCALITY</th>\n",
       "      <th>VTDST</th>\n",
       "      <th>PRECINCT</th>\n",
       "      <th>G18USSDKAI</th>\n",
       "      <th>G18USSRSTE</th>\n",
       "      <th>G18USSLWAT</th>\n",
       "      <th>G18USSOWRI</th>\n",
       "      <th>geometry</th>\n",
       "      <th>unique_id</th>\n",
       "      <th>unique_id_1</th>\n",
       "    </tr>\n",
       "  </thead>\n",
       "  <tbody>\n",
       "    <tr>\n",
       "      <th>29</th>\n",
       "      <td>003</td>\n",
       "      <td>Albemarle County</td>\n",
       "      <td>000499</td>\n",
       "      <td>Biscuit Run</td>\n",
       "      <td>1083</td>\n",
       "      <td>252</td>\n",
       "      <td>47</td>\n",
       "      <td>2</td>\n",
       "      <td>POLYGON Z ((-78.53848 37.98576 0.00000, -78.53...</td>\n",
       "      <td>003499</td>\n",
       "      <td>003499</td>\n",
       "    </tr>\n",
       "    <tr>\n",
       "      <th>600</th>\n",
       "      <td>059</td>\n",
       "      <td>Fairfax County</td>\n",
       "      <td>000700</td>\n",
       "      <td>Fairfax Court</td>\n",
       "      <td>0</td>\n",
       "      <td>0</td>\n",
       "      <td>0</td>\n",
       "      <td>0</td>\n",
       "      <td>POLYGON Z ((-77.31648 38.84615 0.00000, -77.31...</td>\n",
       "      <td>059700</td>\n",
       "      <td>059700</td>\n",
       "    </tr>\n",
       "    <tr>\n",
       "      <th>2332</th>\n",
       "      <td>003</td>\n",
       "      <td>Albemarle County</td>\n",
       "      <td>000599</td>\n",
       "      <td>Pantops</td>\n",
       "      <td>1054</td>\n",
       "      <td>453</td>\n",
       "      <td>23</td>\n",
       "      <td>2</td>\n",
       "      <td>POLYGON Z ((-78.45505 38.04404 0.00000, -78.45...</td>\n",
       "      <td>003599</td>\n",
       "      <td>003599</td>\n",
       "    </tr>\n",
       "  </tbody>\n",
       "</table>\n",
       "</div>"
      ],
      "text/plain": [
       "     COUNTYFP          LOCALITY   VTDST       PRECINCT  G18USSDKAI  \\\n",
       "29        003  Albemarle County  000499    Biscuit Run        1083   \n",
       "600       059    Fairfax County  000700  Fairfax Court           0   \n",
       "2332      003  Albemarle County  000599        Pantops        1054   \n",
       "\n",
       "      G18USSRSTE  G18USSLWAT  G18USSOWRI  \\\n",
       "29           252          47           2   \n",
       "600            0           0           0   \n",
       "2332         453          23           2   \n",
       "\n",
       "                                               geometry unique_id unique_id_1  \n",
       "29    POLYGON Z ((-78.53848 37.98576 0.00000, -78.53...    003499      003499  \n",
       "600   POLYGON Z ((-77.31648 38.84615 0.00000, -77.31...    059700      059700  \n",
       "2332  POLYGON Z ((-78.45505 38.04404 0.00000, -78.45...    003599      003599  "
      ]
     },
     "execution_count": 300,
     "metadata": {},
     "output_type": "execute_result"
    }
   ],
   "source": [
    "final[final['unique_id_1'].isin(final_notin_df)]"
   ]
  },
  {
   "cell_type": "code",
   "execution_count": 301,
   "metadata": {},
   "outputs": [
    {
     "data": {
      "text/plain": [
       "1       001101\n",
       "2       001201\n",
       "3       001202\n",
       "4       001301\n",
       "5       001401\n",
       "         ...  \n",
       "2748    199401\n",
       "2749    199402\n",
       "2750    199403\n",
       "2751    199501\n",
       "2752    199502\n",
       "Name: unique_id_1, Length: 2462, dtype: object"
      ]
     },
     "execution_count": 301,
     "metadata": {},
     "output_type": "execute_result"
    }
   ],
   "source": [
    "df_with_absentee_reallocated['unique_id_1'].replace({'003407':'003499', '003507': '003599'}) # == '003407'"
   ]
  },
  {
   "cell_type": "markdown",
   "metadata": {},
   "source": [
    "Peter ex:\n",
    "cand_name_dict = {\"Trump / Pence\":\"Donald J. Trump\",\"Clinton / Kaine\":\"Hillary R. Clinton\",\n",
    "                 \"Johnson / Weld\":\"Gary Johnson\",\"Stein / Baraka\":\"Jill Stein\",\n",
    "                 \"Write-in\":\"WriteIn\",\"De La Fuente / Steinberg\":\"Roque De La Fuente\",\n",
    "                 \"Castle / Bradley\":\"Darrell L. Castle\",'WriteInVotes':'WriteIn','WriteinVotes':'WriteIn'}\n",
    "\n",
    "#Clean the candidate names\n",
    "filtered_frame[\"CanName\"]=filtered_frame[\"CanName\"].map(cand_name_dict).fillna(filtered_frame[\"CanName\"])"
   ]
  },
  {
   "cell_type": "markdown",
   "metadata": {},
   "source": [
    "# FIX THIS PROBLEM"
   ]
  },
  {
   "cell_type": "code",
   "execution_count": 302,
   "metadata": {},
   "outputs": [
    {
     "data": {
      "text/plain": [
       "{'003407': '003499', '003507': '003599'}"
      ]
     },
     "execution_count": 302,
     "metadata": {},
     "output_type": "execute_result"
    }
   ],
   "source": [
    "{'003407':'003499', '003507': '003599'}"
   ]
  },
  {
   "cell_type": "code",
   "execution_count": 303,
   "metadata": {},
   "outputs": [
    {
     "data": {
      "text/html": [
       "<div>\n",
       "<style scoped>\n",
       "    .dataframe tbody tr th:only-of-type {\n",
       "        vertical-align: middle;\n",
       "    }\n",
       "\n",
       "    .dataframe tbody tr th {\n",
       "        vertical-align: top;\n",
       "    }\n",
       "\n",
       "    .dataframe thead th {\n",
       "        text-align: right;\n",
       "    }\n",
       "</style>\n",
       "<table border=\"1\" class=\"dataframe\">\n",
       "  <thead>\n",
       "    <tr style=\"text-align: right;\">\n",
       "      <th></th>\n",
       "      <th>Pct</th>\n",
       "      <th>LOCALITY</th>\n",
       "      <th>G18USSDKAI</th>\n",
       "      <th>G18USSRSTE</th>\n",
       "      <th>G18USSLWAT</th>\n",
       "      <th>G18USSOWRI</th>\n",
       "      <th>COUNTYFP</th>\n",
       "      <th>vtdst</th>\n",
       "      <th>unique_id</th>\n",
       "      <th>unique_id_1</th>\n",
       "    </tr>\n",
       "  </thead>\n",
       "  <tbody>\n",
       "    <tr>\n",
       "      <th>37</th>\n",
       "      <td>407 - Biscuit Run</td>\n",
       "      <td>Albemarle County</td>\n",
       "      <td>1082.806509</td>\n",
       "      <td>252.548175</td>\n",
       "      <td>47.475836</td>\n",
       "      <td>2.325</td>\n",
       "      <td>003</td>\n",
       "      <td>407</td>\n",
       "      <td>003407</td>\n",
       "      <td>003407</td>\n",
       "    </tr>\n",
       "  </tbody>\n",
       "</table>\n",
       "</div>"
      ],
      "text/plain": [
       "                  Pct          LOCALITY   G18USSDKAI  G18USSRSTE  G18USSLWAT  \\\n",
       "37  407 - Biscuit Run  Albemarle County  1082.806509  252.548175   47.475836   \n",
       "\n",
       "    G18USSOWRI COUNTYFP vtdst unique_id unique_id_1  \n",
       "37       2.325      003   407    003407      003407  "
      ]
     },
     "execution_count": 303,
     "metadata": {},
     "output_type": "execute_result"
    }
   ],
   "source": [
    "df_with_absentee_reallocated[df_with_absentee_reallocated['unique_id'] == '003407']"
   ]
  },
  {
   "cell_type": "code",
   "execution_count": 304,
   "metadata": {},
   "outputs": [
    {
     "data": {
      "text/plain": [
       "(2462, 17)"
      ]
     },
     "execution_count": 304,
     "metadata": {},
     "output_type": "execute_result"
    }
   ],
   "source": [
    "shp.shape"
   ]
  },
  {
   "cell_type": "code",
   "execution_count": 305,
   "metadata": {},
   "outputs": [
    {
     "data": {
      "text/plain": [
       "(2463, 11)"
      ]
     },
     "execution_count": 305,
     "metadata": {},
     "output_type": "execute_result"
    }
   ],
   "source": [
    "final.shape"
   ]
  },
  {
   "cell_type": "code",
   "execution_count": 306,
   "metadata": {},
   "outputs": [
    {
     "data": {
      "text/plain": [
       "(2462, 10)"
      ]
     },
     "execution_count": 306,
     "metadata": {},
     "output_type": "execute_result"
    }
   ],
   "source": [
    "df_with_absentee_reallocated.shape"
   ]
  },
  {
   "cell_type": "markdown",
   "metadata": {},
   "source": [
    "Can do if `unique_id` in `df_double_list`, vtdst = vtdst + CD\n",
    "\n",
    "See that the non unique values are the same in the final file and the election result file...\n",
    "\n",
    "Could merge and see how well matches up\n",
    "\n",
    "could work to see the values that dont match and remedy\n",
    "\n",
    "Then merge and compare results"
   ]
  },
  {
   "cell_type": "markdown",
   "metadata": {},
   "source": [
    "### Above not working with .replace, come back to\n",
    "**In addition to adding** the 22 values that are not unique, will need to add vtdst == 499 and 599 into elections file somehow since there are votes there."
   ]
  },
  {
   "cell_type": "markdown",
   "metadata": {},
   "source": [
    "# Validation"
   ]
  },
  {
   "cell_type": "markdown",
   "metadata": {},
   "source": [
    "### Shapefile comparison:"
   ]
  },
  {
   "cell_type": "code",
   "execution_count": 308,
   "metadata": {},
   "outputs": [
    {
     "data": {
      "text/plain": [
       "<matplotlib.axes._subplots.AxesSubplot at 0x7fde08806400>"
      ]
     },
     "execution_count": 308,
     "metadata": {},
     "output_type": "execute_result"
    },
    {
     "data": {
      "image/png": "[encoded data removed]",
      "text/plain": [
       "<Figure size 432x288 with 1 Axes>"
      ]
     },
     "metadata": {
      "needs_background": "light"
     },
     "output_type": "display_data"
    }
   ],
   "source": [
    "final.plot()"
   ]
  },
  {
   "cell_type": "code",
   "execution_count": null,
   "metadata": {},
   "outputs": [],
   "source": [
    "shp.plot()"
   ]
  },
  {
   "cell_type": "markdown",
   "metadata": {},
   "source": [
    "- Need to run geom almost equals on joined shapefile\n",
    "- geom x and y to compare, -- see how many match and dont, of ones that did not match, can see how big or small changes were"
   ]
  },
  {
   "cell_type": "code",
   "execution_count": null,
   "metadata": {},
   "outputs": [],
   "source": [
    "shp_final_merge = pd.merge(shp, final, on = 'unique_id', how = 'inner', suffixes = ['_x', '_y'])"
   ]
  },
  {
   "cell_type": "code",
   "execution_count": null,
   "metadata": {},
   "outputs": [],
   "source": [
    "shp['geometry'].geom_almost_equals(final['geometry'], decimal = 6)"
   ]
  },
  {
   "cell_type": "code",
   "execution_count": null,
   "metadata": {},
   "outputs": [],
   "source": [
    "(set(shp.unique_id) - set(final['unique_id']))"
   ]
  },
  {
   "cell_type": "code",
   "execution_count": null,
   "metadata": {},
   "outputs": [],
   "source": [
    "shp"
   ]
  },
  {
   "cell_type": "markdown",
   "metadata": {},
   "source": [
    "### Election result comparison:"
   ]
  },
  {
   "cell_type": "code",
   "execution_count": 309,
   "metadata": {},
   "outputs": [],
   "source": [
    "column_list = ['G18USSDKAI', 'G18USSRSTE', 'G18USSLWAT', 'G18USSOWRI']"
   ]
  },
  {
   "cell_type": "code",
   "execution_count": 310,
   "metadata": {},
   "outputs": [],
   "source": [
    "final_df_merge = pd.merge(df_with_absentee_reallocated, final, on = 'unique_id_1', how = 'inner', suffixes = ('_x', '_y'))"
   ]
  },
  {
   "cell_type": "code",
   "execution_count": 311,
   "metadata": {},
   "outputs": [
    {
     "data": {
      "text/html": [
       "<div>\n",
       "<style scoped>\n",
       "    .dataframe tbody tr th:only-of-type {\n",
       "        vertical-align: middle;\n",
       "    }\n",
       "\n",
       "    .dataframe tbody tr th {\n",
       "        vertical-align: top;\n",
       "    }\n",
       "\n",
       "    .dataframe thead th {\n",
       "        text-align: right;\n",
       "    }\n",
       "</style>\n",
       "<table border=\"1\" class=\"dataframe\">\n",
       "  <thead>\n",
       "    <tr style=\"text-align: right;\">\n",
       "      <th></th>\n",
       "      <th>Pct</th>\n",
       "      <th>LOCALITY_x</th>\n",
       "      <th>G18USSDKAI_x</th>\n",
       "      <th>G18USSRSTE_x</th>\n",
       "      <th>G18USSLWAT_x</th>\n",
       "      <th>G18USSOWRI_x</th>\n",
       "      <th>COUNTYFP_x</th>\n",
       "      <th>vtdst</th>\n",
       "      <th>unique_id_x</th>\n",
       "      <th>unique_id_1</th>\n",
       "      <th>COUNTYFP_y</th>\n",
       "      <th>LOCALITY_y</th>\n",
       "      <th>VTDST</th>\n",
       "      <th>PRECINCT</th>\n",
       "      <th>G18USSDKAI_y</th>\n",
       "      <th>G18USSRSTE_y</th>\n",
       "      <th>G18USSLWAT_y</th>\n",
       "      <th>G18USSOWRI_y</th>\n",
       "      <th>geometry</th>\n",
       "      <th>unique_id_y</th>\n",
       "    </tr>\n",
       "  </thead>\n",
       "  <tbody>\n",
       "    <tr>\n",
       "      <th>0</th>\n",
       "      <td>101 - Chincoteague</td>\n",
       "      <td>Accomack County</td>\n",
       "      <td>556.611206</td>\n",
       "      <td>994.002907</td>\n",
       "      <td>17.280000</td>\n",
       "      <td>0.000000</td>\n",
       "      <td>001</td>\n",
       "      <td>101</td>\n",
       "      <td>001101</td>\n",
       "      <td>001101</td>\n",
       "      <td>001</td>\n",
       "      <td>Accomack County</td>\n",
       "      <td>000101</td>\n",
       "      <td>Chincoteague</td>\n",
       "      <td>556</td>\n",
       "      <td>994</td>\n",
       "      <td>17</td>\n",
       "      <td>0</td>\n",
       "      <td>POLYGON Z ((-75.42507 37.89957 0.00000, -75.42...</td>\n",
       "      <td>001101</td>\n",
       "    </tr>\n",
       "    <tr>\n",
       "      <th>1</th>\n",
       "      <td>201 - Atlantic</td>\n",
       "      <td>Accomack County</td>\n",
       "      <td>181.727273</td>\n",
       "      <td>458.606491</td>\n",
       "      <td>10.800000</td>\n",
       "      <td>0.000000</td>\n",
       "      <td>001</td>\n",
       "      <td>201</td>\n",
       "      <td>001201</td>\n",
       "      <td>001201</td>\n",
       "      <td>001</td>\n",
       "      <td>Accomack County</td>\n",
       "      <td>000201</td>\n",
       "      <td>Atlantic</td>\n",
       "      <td>182</td>\n",
       "      <td>459</td>\n",
       "      <td>11</td>\n",
       "      <td>0</td>\n",
       "      <td>POLYGON Z ((-75.59978 37.87664 0.00000, -75.59...</td>\n",
       "      <td>001201</td>\n",
       "    </tr>\n",
       "    <tr>\n",
       "      <th>2</th>\n",
       "      <td>202 - Greenbackville</td>\n",
       "      <td>Accomack County</td>\n",
       "      <td>316.594054</td>\n",
       "      <td>576.990958</td>\n",
       "      <td>7.560000</td>\n",
       "      <td>1.142857</td>\n",
       "      <td>001</td>\n",
       "      <td>202</td>\n",
       "      <td>001202</td>\n",
       "      <td>001202</td>\n",
       "      <td>001</td>\n",
       "      <td>Accomack County</td>\n",
       "      <td>000202</td>\n",
       "      <td>Greenbackville</td>\n",
       "      <td>316</td>\n",
       "      <td>577</td>\n",
       "      <td>8</td>\n",
       "      <td>1</td>\n",
       "      <td>POLYGON Z ((-75.49919 37.93416 0.00000, -75.49...</td>\n",
       "      <td>001202</td>\n",
       "    </tr>\n",
       "    <tr>\n",
       "      <th>3</th>\n",
       "      <td>301 - New Church</td>\n",
       "      <td>Accomack County</td>\n",
       "      <td>588.613493</td>\n",
       "      <td>476.737446</td>\n",
       "      <td>10.800000</td>\n",
       "      <td>0.000000</td>\n",
       "      <td>001</td>\n",
       "      <td>301</td>\n",
       "      <td>001301</td>\n",
       "      <td>001301</td>\n",
       "      <td>001</td>\n",
       "      <td>Accomack County</td>\n",
       "      <td>000301</td>\n",
       "      <td>New Church</td>\n",
       "      <td>588</td>\n",
       "      <td>477</td>\n",
       "      <td>11</td>\n",
       "      <td>0</td>\n",
       "      <td>POLYGON Z ((-75.64987 37.92702 0.00000, -75.64...</td>\n",
       "      <td>001301</td>\n",
       "    </tr>\n",
       "    <tr>\n",
       "      <th>4</th>\n",
       "      <td>401 - Bloxom</td>\n",
       "      <td>Accomack County</td>\n",
       "      <td>121.151515</td>\n",
       "      <td>277.296948</td>\n",
       "      <td>4.320000</td>\n",
       "      <td>0.000000</td>\n",
       "      <td>001</td>\n",
       "      <td>401</td>\n",
       "      <td>001401</td>\n",
       "      <td>001401</td>\n",
       "      <td>001</td>\n",
       "      <td>Accomack County</td>\n",
       "      <td>000401</td>\n",
       "      <td>Bloxom</td>\n",
       "      <td>121</td>\n",
       "      <td>277</td>\n",
       "      <td>4</td>\n",
       "      <td>0</td>\n",
       "      <td>POLYGON Z ((-75.71556 37.87513 0.00000, -75.71...</td>\n",
       "      <td>001401</td>\n",
       "    </tr>\n",
       "    <tr>\n",
       "      <th>...</th>\n",
       "      <td>...</td>\n",
       "      <td>...</td>\n",
       "      <td>...</td>\n",
       "      <td>...</td>\n",
       "      <td>...</td>\n",
       "      <td>...</td>\n",
       "      <td>...</td>\n",
       "      <td>...</td>\n",
       "      <td>...</td>\n",
       "      <td>...</td>\n",
       "      <td>...</td>\n",
       "      <td>...</td>\n",
       "      <td>...</td>\n",
       "      <td>...</td>\n",
       "      <td>...</td>\n",
       "      <td>...</td>\n",
       "      <td>...</td>\n",
       "      <td>...</td>\n",
       "      <td>...</td>\n",
       "      <td>...</td>\n",
       "    </tr>\n",
       "    <tr>\n",
       "      <th>2455</th>\n",
       "      <td>401 - Harwoods Mill</td>\n",
       "      <td>York County</td>\n",
       "      <td>966.784659</td>\n",
       "      <td>1484.418188</td>\n",
       "      <td>49.724696</td>\n",
       "      <td>6.129032</td>\n",
       "      <td>199</td>\n",
       "      <td>401</td>\n",
       "      <td>199401</td>\n",
       "      <td>199401</td>\n",
       "      <td>199</td>\n",
       "      <td>York County</td>\n",
       "      <td>000401</td>\n",
       "      <td>HARWOODS MILL</td>\n",
       "      <td>967</td>\n",
       "      <td>1484</td>\n",
       "      <td>50</td>\n",
       "      <td>6</td>\n",
       "      <td>POLYGON Z ((-76.47686 37.14917 0.00000, -76.47...</td>\n",
       "      <td>199401</td>\n",
       "    </tr>\n",
       "    <tr>\n",
       "      <th>2456</th>\n",
       "      <td>402 - Dare</td>\n",
       "      <td>York County</td>\n",
       "      <td>930.071318</td>\n",
       "      <td>1550.224518</td>\n",
       "      <td>37.834008</td>\n",
       "      <td>4.903226</td>\n",
       "      <td>199</td>\n",
       "      <td>402</td>\n",
       "      <td>199402</td>\n",
       "      <td>199402</td>\n",
       "      <td>199</td>\n",
       "      <td>York County</td>\n",
       "      <td>000402</td>\n",
       "      <td>DARE</td>\n",
       "      <td>930</td>\n",
       "      <td>1550</td>\n",
       "      <td>38</td>\n",
       "      <td>5</td>\n",
       "      <td>POLYGON Z ((-76.46356 37.16058 0.00000, -76.46...</td>\n",
       "      <td>199402</td>\n",
       "    </tr>\n",
       "    <tr>\n",
       "      <th>2457</th>\n",
       "      <td>403 - Grafton</td>\n",
       "      <td>York County</td>\n",
       "      <td>566.275479</td>\n",
       "      <td>736.815133</td>\n",
       "      <td>22.700405</td>\n",
       "      <td>1.225806</td>\n",
       "      <td>199</td>\n",
       "      <td>403</td>\n",
       "      <td>199403</td>\n",
       "      <td>199403</td>\n",
       "      <td>199</td>\n",
       "      <td>York County</td>\n",
       "      <td>000403</td>\n",
       "      <td>GRAFTON</td>\n",
       "      <td>566</td>\n",
       "      <td>737</td>\n",
       "      <td>23</td>\n",
       "      <td>1</td>\n",
       "      <td>POLYGON Z ((-76.48228 37.16839 0.00000, -76.48...</td>\n",
       "      <td>199403</td>\n",
       "    </tr>\n",
       "    <tr>\n",
       "      <th>2458</th>\n",
       "      <td>501 - Tabb</td>\n",
       "      <td>York County</td>\n",
       "      <td>1170.376826</td>\n",
       "      <td>1476.866642</td>\n",
       "      <td>57.291498</td>\n",
       "      <td>7.354839</td>\n",
       "      <td>199</td>\n",
       "      <td>501</td>\n",
       "      <td>199501</td>\n",
       "      <td>199501</td>\n",
       "      <td>199</td>\n",
       "      <td>York County</td>\n",
       "      <td>000501</td>\n",
       "      <td>TABB</td>\n",
       "      <td>1170</td>\n",
       "      <td>1477</td>\n",
       "      <td>58</td>\n",
       "      <td>7</td>\n",
       "      <td>MULTIPOLYGON Z (((-76.42953 37.10608 0.00000, ...</td>\n",
       "      <td>199501</td>\n",
       "    </tr>\n",
       "    <tr>\n",
       "      <th>2459</th>\n",
       "      <td>502 - Bethel</td>\n",
       "      <td>York County</td>\n",
       "      <td>1397.332028</td>\n",
       "      <td>1200.695817</td>\n",
       "      <td>57.291498</td>\n",
       "      <td>2.451613</td>\n",
       "      <td>199</td>\n",
       "      <td>502</td>\n",
       "      <td>199502</td>\n",
       "      <td>199502</td>\n",
       "      <td>199</td>\n",
       "      <td>York County</td>\n",
       "      <td>000502</td>\n",
       "      <td>BETHEL</td>\n",
       "      <td>1397</td>\n",
       "      <td>1201</td>\n",
       "      <td>57</td>\n",
       "      <td>3</td>\n",
       "      <td>POLYGON Z ((-76.42954 37.10728 0.00000, -76.42...</td>\n",
       "      <td>199502</td>\n",
       "    </tr>\n",
       "  </tbody>\n",
       "</table>\n",
       "<p>2460 rows × 20 columns</p>\n",
       "</div>"
      ],
      "text/plain": [
       "                       Pct       LOCALITY_x  G18USSDKAI_x  G18USSRSTE_x  \\\n",
       "0       101 - Chincoteague  Accomack County    556.611206    994.002907   \n",
       "1           201 - Atlantic  Accomack County    181.727273    458.606491   \n",
       "2     202 - Greenbackville  Accomack County    316.594054    576.990958   \n",
       "3         301 - New Church  Accomack County    588.613493    476.737446   \n",
       "4             401 - Bloxom  Accomack County    121.151515    277.296948   \n",
       "...                    ...              ...           ...           ...   \n",
       "2455   401 - Harwoods Mill      York County    966.784659   1484.418188   \n",
       "2456            402 - Dare      York County    930.071318   1550.224518   \n",
       "2457         403 - Grafton      York County    566.275479    736.815133   \n",
       "2458            501 - Tabb      York County   1170.376826   1476.866642   \n",
       "2459          502 - Bethel      York County   1397.332028   1200.695817   \n",
       "\n",
       "      G18USSLWAT_x  G18USSOWRI_x COUNTYFP_x vtdst unique_id_x unique_id_1  \\\n",
       "0        17.280000      0.000000        001   101      001101      001101   \n",
       "1        10.800000      0.000000        001   201      001201      001201   \n",
       "2         7.560000      1.142857        001   202      001202      001202   \n",
       "3        10.800000      0.000000        001   301      001301      001301   \n",
       "4         4.320000      0.000000        001   401      001401      001401   \n",
       "...            ...           ...        ...   ...         ...         ...   \n",
       "2455     49.724696      6.129032        199   401      199401      199401   \n",
       "2456     37.834008      4.903226        199   402      199402      199402   \n",
       "2457     22.700405      1.225806        199   403      199403      199403   \n",
       "2458     57.291498      7.354839        199   501      199501      199501   \n",
       "2459     57.291498      2.451613        199   502      199502      199502   \n",
       "\n",
       "     COUNTYFP_y       LOCALITY_y   VTDST        PRECINCT  G18USSDKAI_y  \\\n",
       "0           001  Accomack County  000101    Chincoteague           556   \n",
       "1           001  Accomack County  000201        Atlantic           182   \n",
       "2           001  Accomack County  000202  Greenbackville           316   \n",
       "3           001  Accomack County  000301      New Church           588   \n",
       "4           001  Accomack County  000401          Bloxom           121   \n",
       "...         ...              ...     ...             ...           ...   \n",
       "2455        199      York County  000401   HARWOODS MILL           967   \n",
       "2456        199      York County  000402            DARE           930   \n",
       "2457        199      York County  000403         GRAFTON           566   \n",
       "2458        199      York County  000501            TABB          1170   \n",
       "2459        199      York County  000502          BETHEL          1397   \n",
       "\n",
       "      G18USSRSTE_y  G18USSLWAT_y  G18USSOWRI_y  \\\n",
       "0              994            17             0   \n",
       "1              459            11             0   \n",
       "2              577             8             1   \n",
       "3              477            11             0   \n",
       "4              277             4             0   \n",
       "...            ...           ...           ...   \n",
       "2455          1484            50             6   \n",
       "2456          1550            38             5   \n",
       "2457           737            23             1   \n",
       "2458          1477            58             7   \n",
       "2459          1201            57             3   \n",
       "\n",
       "                                               geometry unique_id_y  \n",
       "0     POLYGON Z ((-75.42507 37.89957 0.00000, -75.42...      001101  \n",
       "1     POLYGON Z ((-75.59978 37.87664 0.00000, -75.59...      001201  \n",
       "2     POLYGON Z ((-75.49919 37.93416 0.00000, -75.49...      001202  \n",
       "3     POLYGON Z ((-75.64987 37.92702 0.00000, -75.64...      001301  \n",
       "4     POLYGON Z ((-75.71556 37.87513 0.00000, -75.71...      001401  \n",
       "...                                                 ...         ...  \n",
       "2455  POLYGON Z ((-76.47686 37.14917 0.00000, -76.47...      199401  \n",
       "2456  POLYGON Z ((-76.46356 37.16058 0.00000, -76.46...      199402  \n",
       "2457  POLYGON Z ((-76.48228 37.16839 0.00000, -76.48...      199403  \n",
       "2458  MULTIPOLYGON Z (((-76.42953 37.10608 0.00000, ...      199501  \n",
       "2459  POLYGON Z ((-76.42954 37.10728 0.00000, -76.42...      199502  \n",
       "\n",
       "[2460 rows x 20 columns]"
      ]
     },
     "execution_count": 311,
     "metadata": {},
     "output_type": "execute_result"
    }
   ],
   "source": [
    "final_df_merge.dropna()"
   ]
  },
  {
   "cell_type": "code",
   "execution_count": 312,
   "metadata": {},
   "outputs": [],
   "source": [
    "#adapted from PDV training\n",
    "def sum_checker(df, column_list):\n",
    "    list_max = 0\n",
    "    for i in column_list:\n",
    "        left_sum = df[i+'_x'].sum()\n",
    "        right_sum = df[i+'_y'].sum()\n",
    "        if (left_sum == right_sum):\n",
    "            print('column: ', i, ' have the same sums')\n",
    "        \n",
    "        else:\n",
    "            diff = abs(left_sum - right_sum)\n",
    "            percent = abs(left_sum - right_sum)/left_sum\n",
    "            print('column: ', i)\n",
    "            print('RDH sum is ', str(left_sum))\n",
    "            print('Partner sum is ', str(right_sum))\n",
    "            print('their (absolute) difference is ', str(diff))\n",
    "            print('As a percentage of DF1 this is ', str(round(percent*100,5)) + '%')\n",
    "            if (percent>list_max):\n",
    "                list_max = percent\n",
    "            print('')\n",
    "    print('The max difference (as a percent of the total of on DF column is: ', str(round(list_max,5)))"
   ]
  },
  {
   "cell_type": "code",
   "execution_count": 313,
   "metadata": {},
   "outputs": [
    {
     "name": "stdout",
     "output_type": "stream",
     "text": [
      "column:  G18USSDKAI\n",
      "RDH sum is  1908232.614472311\n",
      "Partner sum is  1908233\n",
      "their (absolute) difference is  0.38552768900990486\n",
      "As a percentage of DF1 this is  2e-05%\n",
      "\n",
      "column:  G18USSRSTE\n",
      "RDH sum is  1373606.5182525432\n",
      "Partner sum is  1373608\n",
      "their (absolute) difference is  1.4817474568262696\n",
      "As a percentage of DF1 this is  0.00011%\n",
      "\n",
      "column:  G18USSLWAT\n",
      "RDH sum is  61494.86524163569\n",
      "Partner sum is  61495\n",
      "their (absolute) difference is  0.1347583643073449\n",
      "As a percentage of DF1 this is  0.00022%\n",
      "\n",
      "column:  G18USSOWRI\n",
      "RDH sum is  5502.35\n",
      "Partner sum is  5505\n",
      "their (absolute) difference is  2.649999999999636\n",
      "As a percentage of DF1 this is  0.04816%\n",
      "\n",
      "The max difference (as a percent of the total of on DF column is:  0.00048\n"
     ]
    }
   ],
   "source": [
    "sum_checker(final_df_merge, column_list)"
   ]
  },
  {
   "cell_type": "markdown",
   "metadata": {},
   "source": [
    "**Bc 1500 off**, would be helpful to know largest amount it is off by - is it truly off bc of rounding?"
   ]
  },
  {
   "cell_type": "code",
   "execution_count": 314,
   "metadata": {},
   "outputs": [],
   "source": [
    "#pulled from sam's pdv training\n",
    "def validater_row_vect(df, county_column, join_column, column_List):\n",
    "    matching_rows = 0\n",
    "    different_rows = 0\n",
    "    \n",
    "    county_join_cols = (df[county_column].astype('str') + ' ' + df[join_column].astype('str')).to_numpy()\n",
    "    \n",
    "    # it's because before, we were checking that a row was entirely consistent\n",
    "    # here, we are double checking a lot\n",
    "    # so, let's just keep one track of the rows that are messed up\n",
    "    \n",
    "    wrong_idxs = np.zeros(len(df))\n",
    "    for i in column_List:\n",
    "        left_data = df[i + \"_x\"].to_numpy()\n",
    "        right_data = df[i + \"_y\"].to_numpy()\n",
    "        \n",
    "        local_idxs = np.where(left_data != right_data)\n",
    "        wrong_idxs[local_idxs] = 1\n",
    "        #print(\"Wrong idxs\", wrong_idxs)\n",
    "        \n",
    "    # we are close, we get the same result, but are double adding lots of rows\n",
    "    different_rows += np.sum(wrong_idxs)\n",
    "    matching_rows += len(df) - different_rows\n",
    "    \n",
    "    diff_list = county_join_cols[np.where(wrong_idxs == 1)]\n",
    "            \n",
    "    print(\"There are \", len(df.index),\" total rows\")\n",
    "    print(f\"{int(different_rows)} of these rows have election result differences\")\n",
    "    print(f\"{int(matching_rows)} of these rows are the same\")\n",
    "    print(diff_list)\n",
    "    print(\"\")"
   ]
  },
  {
   "cell_type": "code",
   "execution_count": 315,
   "metadata": {},
   "outputs": [
    {
     "name": "stdout",
     "output_type": "stream",
     "text": [
      "There are  2460  total rows\n",
      "2442 of these rows have election result differences\n",
      "18 of these rows are the same\n",
      "['001 001101' '001 001201' '001 001202' ... '199 199403' '199 199501'\n",
      " '199 199502']\n",
      "\n"
     ]
    }
   ],
   "source": [
    "validater_row_vect(final_df_merge, 'COUNTYFP_x', 'unique_id_1', column_list)"
   ]
  },
  {
   "cell_type": "markdown",
   "metadata": {},
   "source": [
    "**Discrepencies likely due to rounding errors, esp since totals were better before I added in rounding**"
   ]
  },
  {
   "cell_type": "code",
   "execution_count": 316,
   "metadata": {},
   "outputs": [],
   "source": [
    "#From Peter's MO\n",
    "def validater_row (df, column_List):\n",
    "    matching_rows = 0\n",
    "    different_rows = 0\n",
    "    diff_list=[]\n",
    "    diff_values = []\n",
    "    max_diff = 0\n",
    "    \n",
    "    for j in range(0,len(df.index)):\n",
    "        same = True\n",
    "        for i in column_List:\n",
    "            left_Data = i + \"_x\"\n",
    "            right_Data = i + \"_y\"\n",
    "            diff = abs(df.iloc[j][left_Data]-df.iloc[j][right_Data])\n",
    "            if(diff != 0):\n",
    "                diff_values.append(abs(diff))\n",
    "                same = False\n",
    "                if(np.isnan(diff)):\n",
    "                    print(\"NaN value at diff is: \", df.iloc[j]['unique_id_1'])\n",
    "                if (diff>max_diff):\n",
    "                    max_diff = diff\n",
    "                    print(\"New max diff is: \", str(max_diff))\n",
    "                    print(df.iloc[j]['unique_id_1'])\n",
    "        if(same != True):\n",
    "            different_rows +=1\n",
    "            diff_list.append(df.iloc[j]['unique_id_1'])\n",
    "        else:\n",
    "            matching_rows +=1\n",
    "    print(\"There are \", len(df.index),\" total rows\")\n",
    "    print(different_rows,\" of these rows have election result differences\")\n",
    "    print(matching_rows,\" of these rows are the same\")\n",
    "    print(\"\")\n",
    "    print(\"The max difference between any one shared column in a row is: \", max_diff)\n",
    "    if(len(diff_values)!=0):\n",
    "        print(\"The average difference is: \", str(sum(diff_values)/len(diff_values)))\n",
    "        #add line for % of total vote that difference is\n",
    "    count_big_diff = len([i for i in diff_values if i > 10])\n",
    "    print(\"There are \", str(count_big_diff), \"precinct results with a difference greater than 5\")\n",
    "    diff_list.sort()\n"
   ]
  },
  {
   "cell_type": "code",
   "execution_count": 317,
   "metadata": {},
   "outputs": [
    {
     "name": "stdout",
     "output_type": "stream",
     "text": [
      "New max diff is:  0.6112064036592528\n",
      "001101\n",
      "New max diff is:  0.6134934248141235\n",
      "001301\n",
      "New max diff is:  1.0811892510005237\n",
      "001701\n",
      "New max diff is:  1.2310101801096351\n",
      "510108\n",
      "New max diff is:  1.4821591948764876\n",
      "019101\n",
      "New max diff is:  2.0417346896060735\n",
      "019101\n",
      "New max diff is:  2.4060027627779164\n",
      "019203\n",
      "New max diff is:  2.4867337602927932\n",
      "019301\n",
      "New max diff is:  2.9258920402561444\n",
      "019403\n",
      "New max diff is:  3.4958828911253477\n",
      "019505\n",
      "New max diff is:  3.8243366880146823\n",
      "019506\n",
      "New max diff is:  11.948808453730294\n",
      "550001\n",
      "New max diff is:  30.665665490101446\n",
      "550003\n",
      "New max diff is:  31.257514305132418\n",
      "550006\n",
      "New max diff is:  123.56010360494247\n",
      "059229\n",
      "New max diff is:  127.74257392918707\n",
      "153112CD 10)\n",
      "New max diff is:  157.07154223577777\n",
      "153212\n",
      "There are  2460  total rows\n",
      "2442  of these rows have election result differences\n",
      "18  of these rows are the same\n",
      "\n",
      "The max difference between any one shared column in a row is:  157.07154223577777\n",
      "The average difference is:  2.256914418936348\n",
      "There are  504 precinct results with a difference greater than 5\n"
     ]
    }
   ],
   "source": [
    "col_list = column_list\n",
    "validater_row(final_df_merge ,col_list)"
   ]
  },
  {
   "cell_type": "markdown",
   "metadata": {},
   "source": [
    "**THE ABOVE** is based on the non-rounded values. Because of the very low average, it shows that the large discrepency in Prince William County is an anomoly among lower differences. "
   ]
  },
  {
   "cell_type": "code",
   "execution_count": 189,
   "metadata": {},
   "outputs": [
    {
     "data": {
      "text/html": [
       "<div>\n",
       "<style scoped>\n",
       "    .dataframe tbody tr th:only-of-type {\n",
       "        vertical-align: middle;\n",
       "    }\n",
       "\n",
       "    .dataframe tbody tr th {\n",
       "        vertical-align: top;\n",
       "    }\n",
       "\n",
       "    .dataframe thead th {\n",
       "        text-align: right;\n",
       "    }\n",
       "</style>\n",
       "<table border=\"1\" class=\"dataframe\">\n",
       "  <thead>\n",
       "    <tr style=\"text-align: right;\">\n",
       "      <th></th>\n",
       "      <th>Pct</th>\n",
       "      <th>LOCALITY_x</th>\n",
       "      <th>G18USSDKAI_x</th>\n",
       "      <th>G18USSRSTE_x</th>\n",
       "      <th>G18USSLWAT_x</th>\n",
       "      <th>G18USSOWRI_x</th>\n",
       "      <th>COUNTYFP_x</th>\n",
       "      <th>vtdst</th>\n",
       "      <th>unique_id_x</th>\n",
       "      <th>unique_id_1</th>\n",
       "      <th>COUNTYFP_y</th>\n",
       "      <th>LOCALITY_y</th>\n",
       "      <th>VTDST</th>\n",
       "      <th>PRECINCT</th>\n",
       "      <th>G18USSDKAI_y</th>\n",
       "      <th>G18USSRSTE_y</th>\n",
       "      <th>G18USSLWAT_y</th>\n",
       "      <th>G18USSOWRI_y</th>\n",
       "      <th>geometry</th>\n",
       "      <th>unique_id_y</th>\n",
       "    </tr>\n",
       "  </thead>\n",
       "  <tbody>\n",
       "    <tr>\n",
       "      <th>1798</th>\n",
       "      <td>212 - Yorkshire (CD 10)</td>\n",
       "      <td>Prince William County</td>\n",
       "      <td>1654.0</td>\n",
       "      <td>793.0</td>\n",
       "      <td>46.0</td>\n",
       "      <td>12.0</td>\n",
       "      <td>153</td>\n",
       "      <td>212</td>\n",
       "      <td>153212</td>\n",
       "      <td>153212</td>\n",
       "      <td>153</td>\n",
       "      <td>Prince William County</td>\n",
       "      <td>000212</td>\n",
       "      <td>Yorkshire</td>\n",
       "      <td>1811</td>\n",
       "      <td>842</td>\n",
       "      <td>49</td>\n",
       "      <td>12</td>\n",
       "      <td>POLYGON Z ((-77.47297 38.78839 0.00000, -77.47...</td>\n",
       "      <td>153212</td>\n",
       "    </tr>\n",
       "  </tbody>\n",
       "</table>\n",
       "</div>"
      ],
      "text/plain": [
       "                          Pct             LOCALITY_x  G18USSDKAI_x  \\\n",
       "1798  212 - Yorkshire (CD 10)  Prince William County        1654.0   \n",
       "\n",
       "      G18USSRSTE_x  G18USSLWAT_x  G18USSOWRI_x COUNTYFP_x vtdst unique_id_x  \\\n",
       "1798         793.0          46.0          12.0        153   212      153212   \n",
       "\n",
       "     unique_id_1 COUNTYFP_y             LOCALITY_y   VTDST   PRECINCT  \\\n",
       "1798      153212        153  Prince William County  000212  Yorkshire   \n",
       "\n",
       "      G18USSDKAI_y  G18USSRSTE_y  G18USSLWAT_y  G18USSOWRI_y  \\\n",
       "1798          1811           842            49            12   \n",
       "\n",
       "                                               geometry unique_id_y  \n",
       "1798  POLYGON Z ((-77.47297 38.78839 0.00000, -77.47...      153212  "
      ]
     },
     "execution_count": 189,
     "metadata": {},
     "output_type": "execute_result"
    }
   ],
   "source": [
    "final_df_merge[final_df_merge['unique_id_1'] == '153212']"
   ]
  },
  {
   "cell_type": "code",
   "execution_count": null,
   "metadata": {},
   "outputs": [],
   "source": [
    "#Precinct by precinct comparison from pdv training ex\n",
    "def validater_row(df, county_column, join_column, column_list):\n",
    "    matching_rows = 0\n",
    "    different_rows = 0\n",
    "    diff_list = []\n",
    "    \n",
    "    for j in range(0, len(df.index)):\n",
    "        same = True\n",
    "        for i in column_list:\n",
    "            left_data = i + '_x'\n",
    "            right_data = i + '_y'\n",
    "            if(df.iloc[j][left_data] - df.iloc[j][right_data] != 0):\n",
    "                same = False\n",
    "            if(same != True):\n",
    "                different_rows += 1\n",
    "                diff_list.append(str(df.iloc[j][county_column]) + ' ' + str(df.iloc[j][join_column]))\n",
    "            else:\n",
    "                matching_rows += 1\n",
    "        print('There are ', len(df.index), ' total rows')\n",
    "        print(different_rows,\" of these rows have election result differences\")\n",
    "        print(matching_rows,\" of these rows are the same\")\n",
    "        print(diff_list)\n",
    "        print(\"\")"
   ]
  },
  {
   "cell_type": "code",
   "execution_count": null,
   "metadata": {},
   "outputs": [],
   "source": [
    "validater_row(final_df_merge, 'COUNTYFP_x', 'unique_id_1', column_list)"
   ]
  },
  {
   "cell_type": "code",
   "execution_count": null,
   "metadata": {},
   "outputs": [],
   "source": []
  }
 ],
 "metadata": {
  "kernelspec": {
   "display_name": "Python 3",
   "language": "python",
   "name": "python3"
  },
  "language_info": {
   "codemirror_mode": {
    "name": "ipython",
    "version": 3
   },
   "file_extension": ".py",
   "mimetype": "text/x-python",
   "name": "python",
   "nbconvert_exporter": "python",
   "pygments_lexer": "ipython3",
   "version": "3.8.3"
  }
 },
 "nbformat": 4,
 "nbformat_minor": 4
}
