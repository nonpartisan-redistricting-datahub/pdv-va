{
 "cells": [
  {
   "cell_type": "code",
   "execution_count": 198,
   "metadata": {},
   "outputs": [],
   "source": [
    "import pandas as pd\n",
    "import geopandas as gpd\n",
    "import matplotlib.pyplot as plt\n",
    "import maup\n",
    "from zipfile import ZipFile\n",
    "import numpy as np\n",
    "import os\n",
    "import shutil"
   ]
  },
  {
   "cell_type": "markdown",
   "metadata": {},
   "source": [
    "# US House"
   ]
  },
  {
   "cell_type": "markdown",
   "metadata": {},
   "source": [
    "## Final File - Load"
   ]
  },
  {
   "cell_type": "code",
   "execution_count": 203,
   "metadata": {},
   "outputs": [],
   "source": [
    "final = gpd.read_file('./va_2018_ushouse/va_2018_ushouse.shp')"
   ]
  },
  {
   "cell_type": "code",
   "execution_count": 204,
   "metadata": {},
   "outputs": [
    {
     "data": {
      "text/html": [
       "<div>\n",
       "<style scoped>\n",
       "    .dataframe tbody tr th:only-of-type {\n",
       "        vertical-align: middle;\n",
       "    }\n",
       "\n",
       "    .dataframe tbody tr th {\n",
       "        vertical-align: top;\n",
       "    }\n",
       "\n",
       "    .dataframe thead th {\n",
       "        text-align: right;\n",
       "    }\n",
       "</style>\n",
       "<table border=\"1\" class=\"dataframe\">\n",
       "  <thead>\n",
       "    <tr style=\"text-align: right;\">\n",
       "      <th></th>\n",
       "      <th>COUNTYFP</th>\n",
       "      <th>LOCALITY</th>\n",
       "      <th>VTDST</th>\n",
       "      <th>PRECINCT</th>\n",
       "      <th>CON_DIST</th>\n",
       "      <th>G18HORDEM</th>\n",
       "      <th>G18HORREP</th>\n",
       "      <th>G18HORLIB</th>\n",
       "      <th>G18HORWRI</th>\n",
       "      <th>geometry</th>\n",
       "    </tr>\n",
       "  </thead>\n",
       "  <tbody>\n",
       "    <tr>\n",
       "      <th>0</th>\n",
       "      <td>001</td>\n",
       "      <td>Accomack County</td>\n",
       "      <td>000101</td>\n",
       "      <td>Chincoteague</td>\n",
       "      <td>2</td>\n",
       "      <td>533</td>\n",
       "      <td>1039</td>\n",
       "      <td>0</td>\n",
       "      <td>1</td>\n",
       "      <td>POLYGON Z ((-75.42507 37.89957 0.00000, -75.42...</td>\n",
       "    </tr>\n",
       "    <tr>\n",
       "      <th>1</th>\n",
       "      <td>001</td>\n",
       "      <td>Accomack County</td>\n",
       "      <td>000201</td>\n",
       "      <td>Atlantic</td>\n",
       "      <td>2</td>\n",
       "      <td>171</td>\n",
       "      <td>482</td>\n",
       "      <td>0</td>\n",
       "      <td>2</td>\n",
       "      <td>POLYGON Z ((-75.59978 37.87664 0.00000, -75.59...</td>\n",
       "    </tr>\n",
       "    <tr>\n",
       "      <th>2</th>\n",
       "      <td>001</td>\n",
       "      <td>Accomack County</td>\n",
       "      <td>000202</td>\n",
       "      <td>Greenbackville</td>\n",
       "      <td>2</td>\n",
       "      <td>307</td>\n",
       "      <td>595</td>\n",
       "      <td>0</td>\n",
       "      <td>1</td>\n",
       "      <td>POLYGON Z ((-75.49919 37.93416 0.00000, -75.49...</td>\n",
       "    </tr>\n",
       "    <tr>\n",
       "      <th>3</th>\n",
       "      <td>001</td>\n",
       "      <td>Accomack County</td>\n",
       "      <td>000301</td>\n",
       "      <td>New Church</td>\n",
       "      <td>2</td>\n",
       "      <td>583</td>\n",
       "      <td>490</td>\n",
       "      <td>0</td>\n",
       "      <td>0</td>\n",
       "      <td>POLYGON Z ((-75.64987 37.92702 0.00000, -75.64...</td>\n",
       "    </tr>\n",
       "    <tr>\n",
       "      <th>4</th>\n",
       "      <td>001</td>\n",
       "      <td>Accomack County</td>\n",
       "      <td>000401</td>\n",
       "      <td>Bloxom</td>\n",
       "      <td>2</td>\n",
       "      <td>118</td>\n",
       "      <td>286</td>\n",
       "      <td>0</td>\n",
       "      <td>0</td>\n",
       "      <td>POLYGON Z ((-75.71556 37.87513 0.00000, -75.71...</td>\n",
       "    </tr>\n",
       "    <tr>\n",
       "      <th>...</th>\n",
       "      <td>...</td>\n",
       "      <td>...</td>\n",
       "      <td>...</td>\n",
       "      <td>...</td>\n",
       "      <td>...</td>\n",
       "      <td>...</td>\n",
       "      <td>...</td>\n",
       "      <td>...</td>\n",
       "      <td>...</td>\n",
       "      <td>...</td>\n",
       "    </tr>\n",
       "    <tr>\n",
       "      <th>2458</th>\n",
       "      <td>179</td>\n",
       "      <td>Stafford County</td>\n",
       "      <td>000401</td>\n",
       "      <td>AQUIA</td>\n",
       "      <td>1</td>\n",
       "      <td>615</td>\n",
       "      <td>247</td>\n",
       "      <td>0</td>\n",
       "      <td>0</td>\n",
       "      <td>POLYGON Z ((-77.39221 38.48583 0.00000, -77.39...</td>\n",
       "    </tr>\n",
       "    <tr>\n",
       "      <th>2459</th>\n",
       "      <td>195</td>\n",
       "      <td>Wise County</td>\n",
       "      <td>000302</td>\n",
       "      <td>East Stone Gap</td>\n",
       "      <td>9</td>\n",
       "      <td>338</td>\n",
       "      <td>1079</td>\n",
       "      <td>0</td>\n",
       "      <td>3</td>\n",
       "      <td>POLYGON Z ((-82.80429 36.83206 0.00000, -82.80...</td>\n",
       "    </tr>\n",
       "    <tr>\n",
       "      <th>2460</th>\n",
       "      <td>195</td>\n",
       "      <td>Wise County</td>\n",
       "      <td>000301</td>\n",
       "      <td>Big Stone Gap</td>\n",
       "      <td>9</td>\n",
       "      <td>416</td>\n",
       "      <td>954</td>\n",
       "      <td>0</td>\n",
       "      <td>1</td>\n",
       "      <td>POLYGON Z ((-82.77275 36.84962 0.00000, -82.77...</td>\n",
       "    </tr>\n",
       "    <tr>\n",
       "      <th>2461</th>\n",
       "      <td>089</td>\n",
       "      <td>Henry County</td>\n",
       "      <td>000503</td>\n",
       "      <td>Stanleytown</td>\n",
       "      <td>9</td>\n",
       "      <td>201</td>\n",
       "      <td>855</td>\n",
       "      <td>0</td>\n",
       "      <td>1</td>\n",
       "      <td>POLYGON Z ((-79.96638 36.76286 0.00000, -79.96...</td>\n",
       "    </tr>\n",
       "    <tr>\n",
       "      <th>2462</th>\n",
       "      <td>089</td>\n",
       "      <td>Henry County</td>\n",
       "      <td>000501</td>\n",
       "      <td>Bassett #1</td>\n",
       "      <td>9</td>\n",
       "      <td>237</td>\n",
       "      <td>260</td>\n",
       "      <td>0</td>\n",
       "      <td>0</td>\n",
       "      <td>POLYGON Z ((-79.95788 36.73723 0.00000, -79.95...</td>\n",
       "    </tr>\n",
       "  </tbody>\n",
       "</table>\n",
       "<p>2463 rows × 10 columns</p>\n",
       "</div>"
      ],
      "text/plain": [
       "     COUNTYFP         LOCALITY   VTDST        PRECINCT CON_DIST  G18HORDEM  \\\n",
       "0         001  Accomack County  000101    Chincoteague        2        533   \n",
       "1         001  Accomack County  000201        Atlantic        2        171   \n",
       "2         001  Accomack County  000202  Greenbackville        2        307   \n",
       "3         001  Accomack County  000301      New Church        2        583   \n",
       "4         001  Accomack County  000401          Bloxom        2        118   \n",
       "...       ...              ...     ...             ...      ...        ...   \n",
       "2458      179  Stafford County  000401           AQUIA        1        615   \n",
       "2459      195      Wise County  000302  East Stone Gap        9        338   \n",
       "2460      195      Wise County  000301   Big Stone Gap        9        416   \n",
       "2461      089     Henry County  000503     Stanleytown        9        201   \n",
       "2462      089     Henry County  000501      Bassett #1        9        237   \n",
       "\n",
       "      G18HORREP  G18HORLIB  G18HORWRI  \\\n",
       "0          1039          0          1   \n",
       "1           482          0          2   \n",
       "2           595          0          1   \n",
       "3           490          0          0   \n",
       "4           286          0          0   \n",
       "...         ...        ...        ...   \n",
       "2458        247          0          0   \n",
       "2459       1079          0          3   \n",
       "2460        954          0          1   \n",
       "2461        855          0          1   \n",
       "2462        260          0          0   \n",
       "\n",
       "                                               geometry  \n",
       "0     POLYGON Z ((-75.42507 37.89957 0.00000, -75.42...  \n",
       "1     POLYGON Z ((-75.59978 37.87664 0.00000, -75.59...  \n",
       "2     POLYGON Z ((-75.49919 37.93416 0.00000, -75.49...  \n",
       "3     POLYGON Z ((-75.64987 37.92702 0.00000, -75.64...  \n",
       "4     POLYGON Z ((-75.71556 37.87513 0.00000, -75.71...  \n",
       "...                                                 ...  \n",
       "2458  POLYGON Z ((-77.39221 38.48583 0.00000, -77.39...  \n",
       "2459  POLYGON Z ((-82.80429 36.83206 0.00000, -82.80...  \n",
       "2460  POLYGON Z ((-82.77275 36.84962 0.00000, -82.77...  \n",
       "2461  POLYGON Z ((-79.96638 36.76286 0.00000, -79.96...  \n",
       "2462  POLYGON Z ((-79.95788 36.73723 0.00000, -79.95...  \n",
       "\n",
       "[2463 rows x 10 columns]"
      ]
     },
     "execution_count": 204,
     "metadata": {},
     "output_type": "execute_result"
    }
   ],
   "source": [
    "final"
   ]
  },
  {
   "cell_type": "markdown",
   "metadata": {},
   "source": [
    "# Election Results: US Senate"
   ]
  },
  {
   "cell_type": "markdown",
   "metadata": {},
   "source": [
    "### Read in election results and append since files split accross districts"
   ]
  },
  {
   "cell_type": "code",
   "execution_count": 205,
   "metadata": {},
   "outputs": [],
   "source": [
    "district = [str(1), str(2), str(3), str(4), str(5), str(6), str(7), str(8), str(9), str(10), str(11)]"
   ]
  },
  {
   "cell_type": "code",
   "execution_count": 206,
   "metadata": {},
   "outputs": [],
   "source": [
    "#Party info from: https://ballotpedia.org/United_States_House_of_Representatives_elections_in_Virginia,_2018\n",
    "\n",
    "candidate_to_party_dict = {'Robert Joseph Wittman': 'G18HORREP',\n",
    "                           'Lavangelene Aereka Williams': 'G18HORDEM', \n",
    "                           'All Others': 'G18HORWRI',  \n",
    "                           'Elaine Goodman Luria': 'G18HORDEM', \n",
    "                           'Scott William Taylor': 'G18HORREP',\n",
    "                           'Robert Cortez Scott': 'G18HORDEM', \n",
    "                           'A. Donald McEachin': 'G18HORDEM', \n",
    "                           'Ryan Andrew McAdams': 'G18HORREP',\n",
    "                           'Peter Joseph Wells': 'G18HORLIB', \n",
    "                           'Denver Lee Riggleman, III': 'G18HORREP',\n",
    "                           'Leslie Corkill Cockburn': 'G18HORDEM', \n",
    "                           'Benjamin Lee Cline': 'G18HORREP', \n",
    "                           'Jennifer Lynn Lewis': 'G18HORDEM',\n",
    "                           'Abigail Anne Davis Spanberger': 'G18HORDEM', \n",
    "                           'David A. Brat': 'G18HORREP',\n",
    "                           'Joseph Buckler Walton': 'G18HORLIB', \n",
    "                           'Donald Sternoff Beyer, Jr.': 'G18HORDEM',\n",
    "                           'Thomas Siyoung Oh': 'G18HORREP', \n",
    "                           'Howard Morgan Griffith': 'G18HORREP',\n",
    "                           'Anthony Jude Flaccavento': 'G18HORDEM', \n",
    "                           'Jennifer Tosini Wexton': 'G18HORDEM',\n",
    "                           'Barbara Jean Comstock': 'G18HORREP', \n",
    "                           'Gerald Edward Connolly': 'G18HORDEM',\n",
    "                           'Jeffery Anthony Dove, Jr': 'G18HORREP', \n",
    "                           'Stevan Michael Porter': 'G18HORLIB'}\n",
    "\n",
    "#candidate_list = []"
   ]
  },
  {
   "cell_type": "markdown",
   "metadata": {},
   "source": [
    "#### Peter peer coding\n",
    " - if trouble standardizing, just do it by hand\n",
    " - to change the column header names, use .rename()\n",
    " - can use loop to print out the 11 names"
   ]
  },
  {
   "cell_type": "code",
   "execution_count": 207,
   "metadata": {},
   "outputs": [
    {
     "name": "stdout",
     "output_type": "stream",
     "text": [
      "1  added to list\n",
      "2  added to list\n",
      "3  added to list\n",
      "4  added to list\n",
      "5  added to list\n",
      "6  added to list\n",
      "7  added to list\n",
      "8  added to list\n",
      "9  added to list\n",
      "10  added to list\n",
      "11  added to list\n"
     ]
    }
   ],
   "source": [
    "#og:\n",
    "path = ('/Users/lilyfalk/sandbox/pdv-va/vest_va/us_house_results_by_district_2018/')\n",
    "os.chdir(path)\n",
    "elections_by_district = []\n",
    "for i in district:\n",
    "    file_name = 'Virginia_Elections_Database__2018_U_S_House_General_Election_District_'+ i +'_including_precincts.csv'\n",
    "    results = pd.read_csv(file_name)\n",
    "    print(i, ' added to list')\n",
    "    results['CON_DIST'] = i\n",
    "    for col in results.columns:\n",
    "        if col in candidate_to_party_dict.keys():\n",
    "            col_new_name = candidate_to_party_dict.get(col)\n",
    "            results = results.rename(columns = {col:col_new_name})\n",
    "    elections_by_district.append(results)"
   ]
  },
  {
   "cell_type": "code",
   "execution_count": 208,
   "metadata": {},
   "outputs": [
    {
     "name": "stdout",
     "output_type": "stream",
     "text": [
      "1  added to list\n",
      "2  added to list\n",
      "3  added to list\n",
      "4  added to list\n",
      "5  added to list\n",
      "6  added to list\n",
      "7  added to list\n",
      "8  added to list\n",
      "9  added to list\n",
      "10  added to list\n",
      "11  added to list\n"
     ]
    }
   ],
   "source": [
    "#more efficient mod:\n",
    "path = ('/Users/lilyfalk/sandbox/pdv-va/vest_va/us_house_results_by_district_2018/')\n",
    "os.chdir(path)\n",
    "elections_by_district = []\n",
    "for i in range(1, 12):\n",
    "    file_name = 'Virginia_Elections_Database__2018_U_S_House_General_Election_District_'+ str(i) +'_including_precincts.csv'\n",
    "    results = pd.read_csv(file_name)\n",
    "    print(i, ' added to list')\n",
    "    results['CON_DIST'] = i\n",
    "    elections_by_district.append(results.rename(columns = {col: candidate_to_party_dict.get(col) for col in results.columns if col in candidate_to_party_dict.keys()}\n",
    "))"
   ]
  },
  {
   "cell_type": "code",
   "execution_count": 215,
   "metadata": {},
   "outputs": [],
   "source": [
    "df = pd.concat(elections_by_district, axis = 0)\n",
    "df = df.reset_index()\n",
    "df = df[df['County/City'] != 'TOTALS']\n",
    "df['LOCALITY'] = df['County/City']\n",
    "df = df.iloc[1:]\n",
    "df = df.drop(['County/City', 'Ward', 'Total Votes Cast'], axis = 1)\n",
    "df = df.fillna(value = 0)\n",
    "df = df[(df['G18HORDEM'] != 'Democratic') & (df['G18HORREP'] != 'Republican') & (df['G18HORLIB'] != 'Libertarian')]\n",
    "county_dict = pd.Series(final['COUNTYFP'].values, index = final['LOCALITY']).to_dict()\n",
    "df['COUNTYFP'] = df['LOCALITY'].map(county_dict)\n",
    "\n",
    "df['G18HORDEM'] = df['G18HORDEM'].map(lambda x: str(x).replace(',', ''))\n",
    "df['G18HORREP'] = df['G18HORREP'].map(lambda x: str(x).replace(',', ''))\n",
    "df['G18HORLIB'] = df['G18HORLIB'].map(lambda x: str(x).replace(',', ''))\n",
    "df['G18HORWRI'] = df['G18HORWRI'].map(lambda x: str(x).replace(',', ''))\n",
    "\n",
    "df['G18HORDEM'] = df['G18HORDEM'].astype(str).astype(float).astype(int)\n",
    "df['G18HORREP'] = df['G18HORREP'].astype(str).astype(float).astype(int)\n",
    "df['G18HORLIB'] = df['G18HORLIB'].astype(str).astype(float).astype(int)\n",
    "df['G18HORWRI'] = df['G18HORWRI'].astype(str).astype(float).astype(int)\n",
    "\n",
    "df['CON_DIST'] = df['CON_DIST'].astype(str)"
   ]
  },
  {
   "cell_type": "markdown",
   "metadata": {},
   "source": [
    "### Need to re allocate absentee votes"
   ]
  },
  {
   "cell_type": "code",
   "execution_count": 216,
   "metadata": {},
   "outputs": [],
   "source": [
    "def get_absentee_frac(prec_tot, county_tot, absentee_tot):\n",
    "    '''\n",
    "    Keyword arguments: (put inputs to funtions and say what they should be)\n",
    "    precinct vote total for given candidate (int)\n",
    "    county vote total for given candidate, absentee and provisional votes not included (int)\n",
    "    absentee vote total for county for given candidate (int)\n",
    "    '''\n",
    "    if county_tot != 0:\n",
    "        prec_frac = prec_tot/county_tot\n",
    "        absentee_frac = prec_frac*absentee_tot\n",
    "    else:\n",
    "        absentee_frac = 0\n",
    "    return absentee_frac"
   ]
  },
  {
   "cell_type": "code",
   "execution_count": 217,
   "metadata": {},
   "outputs": [],
   "source": [
    "absentee_and_prov = df[(df['Pct'].map(lambda x: 'Absentee' in str(x))) | (df['Pct'].map(lambda x: 'Provisional' in str(x)))]\n",
    "groupby_absentee_and_prov_tot = absentee_and_prov.groupby(['COUNTYFP']).sum()"
   ]
  },
  {
   "cell_type": "code",
   "execution_count": 218,
   "metadata": {},
   "outputs": [
    {
     "data": {
      "text/plain": [
       "333609"
      ]
     },
     "execution_count": 218,
     "metadata": {},
     "output_type": "execute_result"
    }
   ],
   "source": [
    "absentee_and_prov[['G18HORREP', 'G18HORDEM', 'G18HORWRI', 'G18HORLIB']].sum().sum()"
   ]
  },
  {
   "cell_type": "code",
   "execution_count": 225,
   "metadata": {},
   "outputs": [
    {
     "data": {
      "text/html": [
       "<div>\n",
       "<style scoped>\n",
       "    .dataframe tbody tr th:only-of-type {\n",
       "        vertical-align: middle;\n",
       "    }\n",
       "\n",
       "    .dataframe tbody tr th {\n",
       "        vertical-align: top;\n",
       "    }\n",
       "\n",
       "    .dataframe thead th {\n",
       "        text-align: right;\n",
       "    }\n",
       "</style>\n",
       "<table border=\"1\" class=\"dataframe\">\n",
       "  <thead>\n",
       "    <tr style=\"text-align: right;\">\n",
       "      <th></th>\n",
       "      <th>index</th>\n",
       "      <th>G18HORREP</th>\n",
       "      <th>G18HORDEM</th>\n",
       "      <th>G18HORWRI</th>\n",
       "      <th>G18HORLIB</th>\n",
       "    </tr>\n",
       "    <tr>\n",
       "      <th>COUNTYFP</th>\n",
       "      <th></th>\n",
       "      <th></th>\n",
       "      <th></th>\n",
       "      <th></th>\n",
       "      <th></th>\n",
       "    </tr>\n",
       "  </thead>\n",
       "  <tbody>\n",
       "    <tr>\n",
       "      <th>001</th>\n",
       "      <td>35</td>\n",
       "      <td>439</td>\n",
       "      <td>735</td>\n",
       "      <td>0</td>\n",
       "      <td>0</td>\n",
       "    </tr>\n",
       "    <tr>\n",
       "      <th>003</th>\n",
       "      <td>63</td>\n",
       "      <td>1522</td>\n",
       "      <td>3974</td>\n",
       "      <td>11</td>\n",
       "      <td>0</td>\n",
       "    </tr>\n",
       "    <tr>\n",
       "      <th>005</th>\n",
       "      <td>27</td>\n",
       "      <td>162</td>\n",
       "      <td>132</td>\n",
       "      <td>0</td>\n",
       "      <td>0</td>\n",
       "    </tr>\n",
       "    <tr>\n",
       "      <th>007</th>\n",
       "      <td>13</td>\n",
       "      <td>298</td>\n",
       "      <td>186</td>\n",
       "      <td>1</td>\n",
       "      <td>1</td>\n",
       "    </tr>\n",
       "    <tr>\n",
       "      <th>009</th>\n",
       "      <td>25</td>\n",
       "      <td>431</td>\n",
       "      <td>332</td>\n",
       "      <td>0</td>\n",
       "      <td>0</td>\n",
       "    </tr>\n",
       "    <tr>\n",
       "      <th>...</th>\n",
       "      <td>...</td>\n",
       "      <td>...</td>\n",
       "      <td>...</td>\n",
       "      <td>...</td>\n",
       "      <td>...</td>\n",
       "    </tr>\n",
       "    <tr>\n",
       "      <th>800</th>\n",
       "      <td>948</td>\n",
       "      <td>269</td>\n",
       "      <td>2188</td>\n",
       "      <td>110</td>\n",
       "      <td>15</td>\n",
       "    </tr>\n",
       "    <tr>\n",
       "      <th>810</th>\n",
       "      <td>339</td>\n",
       "      <td>6809</td>\n",
       "      <td>8326</td>\n",
       "      <td>16</td>\n",
       "      <td>0</td>\n",
       "    </tr>\n",
       "    <tr>\n",
       "      <th>820</th>\n",
       "      <td>527</td>\n",
       "      <td>253</td>\n",
       "      <td>275</td>\n",
       "      <td>0</td>\n",
       "      <td>0</td>\n",
       "    </tr>\n",
       "    <tr>\n",
       "      <th>830</th>\n",
       "      <td>347</td>\n",
       "      <td>217</td>\n",
       "      <td>460</td>\n",
       "      <td>0</td>\n",
       "      <td>0</td>\n",
       "    </tr>\n",
       "    <tr>\n",
       "      <th>840</th>\n",
       "      <td>441</td>\n",
       "      <td>338</td>\n",
       "      <td>528</td>\n",
       "      <td>0</td>\n",
       "      <td>0</td>\n",
       "    </tr>\n",
       "  </tbody>\n",
       "</table>\n",
       "<p>133 rows × 5 columns</p>\n",
       "</div>"
      ],
      "text/plain": [
       "          index  G18HORREP  G18HORDEM  G18HORWRI  G18HORLIB\n",
       "COUNTYFP                                                   \n",
       "001          35        439        735          0          0\n",
       "003          63       1522       3974         11          0\n",
       "005          27        162        132          0          0\n",
       "007          13        298        186          1          1\n",
       "009          25        431        332          0          0\n",
       "...         ...        ...        ...        ...        ...\n",
       "800         948        269       2188        110         15\n",
       "810         339       6809       8326         16          0\n",
       "820         527        253        275          0          0\n",
       "830         347        217        460          0          0\n",
       "840         441        338        528          0          0\n",
       "\n",
       "[133 rows x 5 columns]"
      ]
     },
     "execution_count": 225,
     "metadata": {},
     "output_type": "execute_result"
    }
   ],
   "source": [
    "groupby_absentee_and_prov_tot"
   ]
  },
  {
   "cell_type": "code",
   "execution_count": 226,
   "metadata": {},
   "outputs": [],
   "source": [
    "groupby_county_df_tot = df.groupby(['COUNTYFP']).sum()\n",
    "df_no_absent_or_provisional = df[(df['Pct'].map(lambda x: 'Absentee' not in str(x))) & (df['Pct'].map(lambda x: 'Provisional' not in str(x)))\n",
    "                                & (df['LOCALITY'] != 'TOTALS')]\n",
    "groupby_county_tot_no_absentee = df_no_absent_or_provisional.groupby('COUNTYFP').sum()"
   ]
  },
  {
   "cell_type": "code",
   "execution_count": 227,
   "metadata": {},
   "outputs": [
    {
     "data": {
      "text/plain": [
       "2979602"
      ]
     },
     "execution_count": 227,
     "metadata": {},
     "output_type": "execute_result"
    }
   ],
   "source": [
    "df_no_absent_or_provisional[['G18HORREP', 'G18HORDEM', 'G18HORWRI', 'G18HORLIB']].sum().sum()"
   ]
  },
  {
   "cell_type": "code",
   "execution_count": 228,
   "metadata": {},
   "outputs": [
    {
     "name": "stdout",
     "output_type": "stream",
     "text": [
      "3684448.999999998\n"
     ]
    },
    {
     "data": {
      "text/plain": [
       "24.0"
      ]
     },
     "execution_count": 228,
     "metadata": {},
     "output_type": "execute_result"
    }
   ],
   "source": [
    "df_with_absentee_reallocated = df_no_absent_or_provisional.copy()\n",
    "sum_allocated = 0\n",
    "prec_sum_w_ab = 0\n",
    "for index, precinct_total_row_by_candidate in df_no_absent_or_provisional.iterrows():\n",
    "    #print(precinct_total_row_by_candidate)\n",
    "    county_fips = precinct_total_row_by_candidate['COUNTYFP']\n",
    "    county_total_row_by_candidate_no_absentee = groupby_county_tot_no_absentee.loc[county_fips]\n",
    "    county_absentee_and_provisional_by_candidate = groupby_absentee_and_prov_tot.loc[county_fips]\n",
    "    #print(precinct_total_row_by_candidate, county_total_row_by_candidate_no_absentee, county_absentee_and_provisional_by_candidate)\n",
    "    for candidate, votes in county_total_row_by_candidate_no_absentee.to_dict().items():\n",
    "        prec_tot = precinct_total_row_by_candidate[candidate]\n",
    "        #print('precinct total: ', prec_tot)\n",
    "        county_tot = votes\n",
    "        #print('county total: ', county_tot)\n",
    "        absentee_tot = county_absentee_and_provisional_by_candidate[candidate]\n",
    "        #print('absentee total: ', absentee_tot)\n",
    "        absentee_frac = get_absentee_frac(prec_tot, county_tot, absentee_tot)\n",
    "        #print('absentee votes to allocate to precinct: ', absentee_frac)\n",
    "        prec_with_absentee_allocation = prec_tot + absentee_frac\n",
    "        #print('new precinct total: ', prec_with_absentee_allocation)\n",
    "       #print(df_with_absentee_reallocated[['G18HORREP', 'G18HORDEM', 'G18HORWRI', 'G18HORLIB']].sum().sum())\n",
    "        df_with_absentee_reallocated.loc[index, candidate] = round(prec_with_absentee_allocation) #index is row, candidate is column\n",
    "\n",
    "        #print(df_with_absentee_reallocated[['G18HORREP', 'G18HORDEM', 'G18HORWRI', 'G18HORLIB']].sum().sum())\n",
    "        sum_allocated = sum_allocated + absentee_frac\n",
    "        prec_sum_w_ab = prec_sum_w_ab + prec_with_absentee_allocation\n",
    "        ##So, the number of absentee reallocated looks right... must be a problem with the sum of the prec_tot and absentee_frac?\n",
    "#print(sum_allocated)\n",
    "#print(prec_tot)\n",
    "print(prec_sum_w_ab)\n",
    "df_with_absentee_reallocated.loc[index, candidate]\n",
    "#df_with_absentee_reallocated.loc[index, candidate]"
   ]
  },
  {
   "cell_type": "code",
   "execution_count": 229,
   "metadata": {},
   "outputs": [
    {
     "data": {
      "text/plain": [
       "24.0"
      ]
     },
     "execution_count": 229,
     "metadata": {},
     "output_type": "execute_result"
    }
   ],
   "source": [
    "df_with_absentee_reallocated.loc[index, candidate]"
   ]
  },
  {
   "cell_type": "code",
   "execution_count": 230,
   "metadata": {},
   "outputs": [
    {
     "data": {
      "text/plain": [
       "2979602"
      ]
     },
     "execution_count": 230,
     "metadata": {},
     "output_type": "execute_result"
    }
   ],
   "source": [
    "df_no_absent_or_provisional[['G18HORREP', 'G18HORDEM', 'G18HORWRI', 'G18HORLIB']].sum().sum()"
   ]
  },
  {
   "cell_type": "code",
   "execution_count": 231,
   "metadata": {},
   "outputs": [
    {
     "data": {
      "text/plain": [
       "3313092.0"
      ]
     },
     "execution_count": 231,
     "metadata": {},
     "output_type": "execute_result"
    }
   ],
   "source": [
    "df_with_absentee_reallocated[['G18HORREP', 'G18HORDEM', 'G18HORWRI', 'G18HORLIB']].sum().sum()"
   ]
  },
  {
   "cell_type": "code",
   "execution_count": 232,
   "metadata": {},
   "outputs": [
    {
     "data": {
      "text/plain": [
       "3313211"
      ]
     },
     "execution_count": 232,
     "metadata": {},
     "output_type": "execute_result"
    }
   ],
   "source": [
    "final[['G18HORREP', 'G18HORDEM', 'G18HORWRI', 'G18HORLIB']].sum().sum()"
   ]
  },
  {
   "cell_type": "code",
   "execution_count": 233,
   "metadata": {},
   "outputs": [],
   "source": [
    "groupby_df_with_absentee_reallocated = df_with_absentee_reallocated.groupby('COUNTYFP').sum()"
   ]
  },
  {
   "cell_type": "code",
   "execution_count": 235,
   "metadata": {},
   "outputs": [
    {
     "data": {
      "text/plain": [
       "3684333.0"
      ]
     },
     "execution_count": 235,
     "metadata": {},
     "output_type": "execute_result"
    }
   ],
   "source": [
    "groupby_df_with_absentee_reallocated.sum().sum()"
   ]
  },
  {
   "cell_type": "code",
   "execution_count": 236,
   "metadata": {},
   "outputs": [],
   "source": [
    "groupby_county_final = final.groupby(['COUNTYFP']).sum()"
   ]
  },
  {
   "cell_type": "code",
   "execution_count": 237,
   "metadata": {},
   "outputs": [
    {
     "data": {
      "text/plain": [
       "3313211"
      ]
     },
     "execution_count": 237,
     "metadata": {},
     "output_type": "execute_result"
    }
   ],
   "source": [
    "groupby_county_final.sum().sum()"
   ]
  },
  {
   "cell_type": "code",
   "execution_count": 238,
   "metadata": {},
   "outputs": [],
   "source": [
    "df_absentee_reallocate_with_final = pd.merge(groupby_df_with_absentee_reallocated, groupby_county_final, on = 'COUNTYFP', how = 'inner', suffixes = ('_x', '_y'))"
   ]
  },
  {
   "cell_type": "code",
   "execution_count": 239,
   "metadata": {},
   "outputs": [
    {
     "data": {
      "text/html": [
       "<div>\n",
       "<style scoped>\n",
       "    .dataframe tbody tr th:only-of-type {\n",
       "        vertical-align: middle;\n",
       "    }\n",
       "\n",
       "    .dataframe tbody tr th {\n",
       "        vertical-align: top;\n",
       "    }\n",
       "\n",
       "    .dataframe thead th {\n",
       "        text-align: right;\n",
       "    }\n",
       "</style>\n",
       "<table border=\"1\" class=\"dataframe\">\n",
       "  <thead>\n",
       "    <tr style=\"text-align: right;\">\n",
       "      <th></th>\n",
       "      <th>index</th>\n",
       "      <th>G18HORREP_x</th>\n",
       "      <th>G18HORDEM_x</th>\n",
       "      <th>G18HORWRI_x</th>\n",
       "      <th>G18HORLIB_x</th>\n",
       "      <th>G18HORDEM_y</th>\n",
       "      <th>G18HORREP_y</th>\n",
       "      <th>G18HORLIB_y</th>\n",
       "      <th>G18HORWRI_y</th>\n",
       "    </tr>\n",
       "    <tr>\n",
       "      <th>COUNTYFP</th>\n",
       "      <th></th>\n",
       "      <th></th>\n",
       "      <th></th>\n",
       "      <th></th>\n",
       "      <th></th>\n",
       "      <th></th>\n",
       "      <th></th>\n",
       "      <th></th>\n",
       "      <th></th>\n",
       "    </tr>\n",
       "  </thead>\n",
       "  <tbody>\n",
       "    <tr>\n",
       "      <th>001</th>\n",
       "      <td>172.0</td>\n",
       "      <td>7025.0</td>\n",
       "      <td>5727.0</td>\n",
       "      <td>12.0</td>\n",
       "      <td>0.0</td>\n",
       "      <td>5729</td>\n",
       "      <td>7025</td>\n",
       "      <td>0</td>\n",
       "      <td>12</td>\n",
       "    </tr>\n",
       "    <tr>\n",
       "      <th>003</th>\n",
       "      <td>528.0</td>\n",
       "      <td>18808.0</td>\n",
       "      <td>34407.0</td>\n",
       "      <td>115.0</td>\n",
       "      <td>0.0</td>\n",
       "      <td>34409</td>\n",
       "      <td>18807</td>\n",
       "      <td>0</td>\n",
       "      <td>117</td>\n",
       "    </tr>\n",
       "    <tr>\n",
       "      <th>005</th>\n",
       "      <td>104.0</td>\n",
       "      <td>3563.0</td>\n",
       "      <td>1893.0</td>\n",
       "      <td>2.0</td>\n",
       "      <td>0.0</td>\n",
       "      <td>1892</td>\n",
       "      <td>3563</td>\n",
       "      <td>0</td>\n",
       "      <td>2</td>\n",
       "    </tr>\n",
       "    <tr>\n",
       "      <th>007</th>\n",
       "      <td>28.0</td>\n",
       "      <td>3879.0</td>\n",
       "      <td>1926.0</td>\n",
       "      <td>4.0</td>\n",
       "      <td>50.0</td>\n",
       "      <td>1926</td>\n",
       "      <td>3879</td>\n",
       "      <td>51</td>\n",
       "      <td>4</td>\n",
       "    </tr>\n",
       "    <tr>\n",
       "      <th>009</th>\n",
       "      <td>91.0</td>\n",
       "      <td>8326.0</td>\n",
       "      <td>4216.0</td>\n",
       "      <td>8.0</td>\n",
       "      <td>0.0</td>\n",
       "      <td>4217</td>\n",
       "      <td>8326</td>\n",
       "      <td>0</td>\n",
       "      <td>8</td>\n",
       "    </tr>\n",
       "    <tr>\n",
       "      <th>...</th>\n",
       "      <td>...</td>\n",
       "      <td>...</td>\n",
       "      <td>...</td>\n",
       "      <td>...</td>\n",
       "      <td>...</td>\n",
       "      <td>...</td>\n",
       "      <td>...</td>\n",
       "      <td>...</td>\n",
       "      <td>...</td>\n",
       "    </tr>\n",
       "    <tr>\n",
       "      <th>800</th>\n",
       "      <td>7914.0</td>\n",
       "      <td>5453.0</td>\n",
       "      <td>23475.0</td>\n",
       "      <td>1920.0</td>\n",
       "      <td>152.0</td>\n",
       "      <td>23477</td>\n",
       "      <td>5453</td>\n",
       "      <td>150</td>\n",
       "      <td>1922</td>\n",
       "    </tr>\n",
       "    <tr>\n",
       "      <th>810</th>\n",
       "      <td>12188.0</td>\n",
       "      <td>82585.0</td>\n",
       "      <td>86818.0</td>\n",
       "      <td>201.0</td>\n",
       "      <td>0.0</td>\n",
       "      <td>86822</td>\n",
       "      <td>82586</td>\n",
       "      <td>0</td>\n",
       "      <td>217</td>\n",
       "    </tr>\n",
       "    <tr>\n",
       "      <th>820</th>\n",
       "      <td>1569.0</td>\n",
       "      <td>3874.0</td>\n",
       "      <td>3840.0</td>\n",
       "      <td>4.0</td>\n",
       "      <td>0.0</td>\n",
       "      <td>3840</td>\n",
       "      <td>3875</td>\n",
       "      <td>0</td>\n",
       "      <td>4</td>\n",
       "    </tr>\n",
       "    <tr>\n",
       "      <th>830</th>\n",
       "      <td>690.0</td>\n",
       "      <td>1787.0</td>\n",
       "      <td>4408.0</td>\n",
       "      <td>16.0</td>\n",
       "      <td>0.0</td>\n",
       "      <td>4408</td>\n",
       "      <td>1787</td>\n",
       "      <td>0</td>\n",
       "      <td>16</td>\n",
       "    </tr>\n",
       "    <tr>\n",
       "      <th>840</th>\n",
       "      <td>1740.0</td>\n",
       "      <td>4209.0</td>\n",
       "      <td>4923.0</td>\n",
       "      <td>10.0</td>\n",
       "      <td>0.0</td>\n",
       "      <td>4924</td>\n",
       "      <td>4209</td>\n",
       "      <td>0</td>\n",
       "      <td>10</td>\n",
       "    </tr>\n",
       "  </tbody>\n",
       "</table>\n",
       "<p>133 rows × 9 columns</p>\n",
       "</div>"
      ],
      "text/plain": [
       "            index  G18HORREP_x  G18HORDEM_x  G18HORWRI_x  G18HORLIB_x  \\\n",
       "COUNTYFP                                                                \n",
       "001         172.0       7025.0       5727.0         12.0          0.0   \n",
       "003         528.0      18808.0      34407.0        115.0          0.0   \n",
       "005         104.0       3563.0       1893.0          2.0          0.0   \n",
       "007          28.0       3879.0       1926.0          4.0         50.0   \n",
       "009          91.0       8326.0       4216.0          8.0          0.0   \n",
       "...           ...          ...          ...          ...          ...   \n",
       "800        7914.0       5453.0      23475.0       1920.0        152.0   \n",
       "810       12188.0      82585.0      86818.0        201.0          0.0   \n",
       "820        1569.0       3874.0       3840.0          4.0          0.0   \n",
       "830         690.0       1787.0       4408.0         16.0          0.0   \n",
       "840        1740.0       4209.0       4923.0         10.0          0.0   \n",
       "\n",
       "          G18HORDEM_y  G18HORREP_y  G18HORLIB_y  G18HORWRI_y  \n",
       "COUNTYFP                                                      \n",
       "001              5729         7025            0           12  \n",
       "003             34409        18807            0          117  \n",
       "005              1892         3563            0            2  \n",
       "007              1926         3879           51            4  \n",
       "009              4217         8326            0            8  \n",
       "...               ...          ...          ...          ...  \n",
       "800             23477         5453          150         1922  \n",
       "810             86822        82586            0          217  \n",
       "820              3840         3875            0            4  \n",
       "830              4408         1787            0           16  \n",
       "840              4924         4209            0           10  \n",
       "\n",
       "[133 rows x 9 columns]"
      ]
     },
     "execution_count": 239,
     "metadata": {},
     "output_type": "execute_result"
    }
   ],
   "source": [
    "df_absentee_reallocate_with_final"
   ]
  },
  {
   "cell_type": "code",
   "execution_count": 240,
   "metadata": {},
   "outputs": [
    {
     "data": {
      "text/plain": [
       "Index(['index', 'Pct', 'G18HORREP', 'G18HORDEM', 'G18HORWRI', 'CON_DIST',\n",
       "       'G18HORLIB', 'LOCALITY', 'COUNTYFP'],\n",
       "      dtype='object')"
      ]
     },
     "execution_count": 240,
     "metadata": {},
     "output_type": "execute_result"
    }
   ],
   "source": [
    "df.columns"
   ]
  },
  {
   "cell_type": "code",
   "execution_count": 241,
   "metadata": {},
   "outputs": [],
   "source": [
    "column_list = ['G18HORREP', 'G18HORDEM', 'G18HORWRI', 'G18HORLIB']"
   ]
  },
  {
   "cell_type": "code",
   "execution_count": 242,
   "metadata": {},
   "outputs": [],
   "source": [
    "def sum_checker(df, column_list):\n",
    "    list_max = 0\n",
    "    for i in column_list:\n",
    "        left_sum = df[i+'_x'].sum()\n",
    "        right_sum = df[i+'_y'].sum()\n",
    "        if (left_sum == right_sum):\n",
    "            print('column: ', i, ' have the same sums')\n",
    "        \n",
    "        else:\n",
    "            diff = abs(left_sum - right_sum)\n",
    "            percent = abs(left_sum - right_sum)/left_sum\n",
    "            print('column: ', i)\n",
    "            print('RDH sum is ', str(left_sum))\n",
    "            print('Partner sum is ', str(right_sum))\n",
    "            print('their (absolute) difference is ', str(diff))\n",
    "            print('As a percentage of DF1 this is ', str(round(percent*100,5)) + '%')\n",
    "            if (percent>list_max):\n",
    "                list_max = percent\n",
    "            print('')\n",
    "    print('The max difference (as a percent of the total of on DF column is: ', str(round(list_max,5)))"
   ]
  },
  {
   "cell_type": "code",
   "execution_count": 243,
   "metadata": {},
   "outputs": [
    {
     "name": "stdout",
     "output_type": "stream",
     "text": [
      "column:  G18HORREP\n",
      "RDH sum is  1408723.0\n",
      "Partner sum is  1408701\n",
      "their (absolute) difference is  22.0\n",
      "As a percentage of DF1 this is  0.00156%\n",
      "\n",
      "column:  G18HORDEM\n",
      "RDH sum is  1867064.0\n",
      "Partner sum is  1867061\n",
      "their (absolute) difference is  3.0\n",
      "As a percentage of DF1 this is  0.00016%\n",
      "\n",
      "column:  G18HORWRI\n",
      "RDH sum is  23323.0\n",
      "Partner sum is  23454\n",
      "their (absolute) difference is  131.0\n",
      "As a percentage of DF1 this is  0.56168%\n",
      "\n",
      "column:  G18HORLIB\n",
      "RDH sum is  13982.0\n",
      "Partner sum is  13995\n",
      "their (absolute) difference is  13.0\n",
      "As a percentage of DF1 this is  0.09298%\n",
      "\n",
      "The max difference (as a percent of the total of on DF column is:  0.00562\n"
     ]
    }
   ],
   "source": [
    "sum_checker(df_absentee_reallocate_with_final, column_list)"
   ]
  },
  {
   "cell_type": "markdown",
   "metadata": {},
   "source": [
    "The above results are pretty good, the percentage off is very low. "
   ]
  },
  {
   "cell_type": "code",
   "execution_count": 269,
   "metadata": {},
   "outputs": [],
   "source": [
    "df_cd_groupby = df.groupby(['CON_DIST']).sum() #method=function"
   ]
  },
  {
   "cell_type": "code",
   "execution_count": 270,
   "metadata": {},
   "outputs": [
    {
     "data": {
      "text/html": [
       "<div>\n",
       "<style scoped>\n",
       "    .dataframe tbody tr th:only-of-type {\n",
       "        vertical-align: middle;\n",
       "    }\n",
       "\n",
       "    .dataframe tbody tr th {\n",
       "        vertical-align: top;\n",
       "    }\n",
       "\n",
       "    .dataframe thead th {\n",
       "        text-align: right;\n",
       "    }\n",
       "</style>\n",
       "<table border=\"1\" class=\"dataframe\">\n",
       "  <thead>\n",
       "    <tr style=\"text-align: right;\">\n",
       "      <th></th>\n",
       "      <th>index</th>\n",
       "      <th>G18HORREP</th>\n",
       "      <th>G18HORDEM</th>\n",
       "      <th>G18HORWRI</th>\n",
       "      <th>G18HORLIB</th>\n",
       "    </tr>\n",
       "    <tr>\n",
       "      <th>CON_DIST</th>\n",
       "      <th></th>\n",
       "      <th></th>\n",
       "      <th></th>\n",
       "      <th></th>\n",
       "      <th></th>\n",
       "    </tr>\n",
       "  </thead>\n",
       "  <tbody>\n",
       "    <tr>\n",
       "      <th>1</th>\n",
       "      <td>34980</td>\n",
       "      <td>183250</td>\n",
       "      <td>148464</td>\n",
       "      <td>413</td>\n",
       "      <td>0</td>\n",
       "    </tr>\n",
       "    <tr>\n",
       "      <th>10</th>\n",
       "      <td>24531</td>\n",
       "      <td>160841</td>\n",
       "      <td>206356</td>\n",
       "      <td>618</td>\n",
       "      <td>0</td>\n",
       "    </tr>\n",
       "    <tr>\n",
       "      <th>11</th>\n",
       "      <td>13861</td>\n",
       "      <td>83023</td>\n",
       "      <td>219191</td>\n",
       "      <td>513</td>\n",
       "      <td>5546</td>\n",
       "    </tr>\n",
       "    <tr>\n",
       "      <th>2</th>\n",
       "      <td>17955</td>\n",
       "      <td>133458</td>\n",
       "      <td>139571</td>\n",
       "      <td>399</td>\n",
       "      <td>0</td>\n",
       "    </tr>\n",
       "    <tr>\n",
       "      <th>3</th>\n",
       "      <td>23653</td>\n",
       "      <td>0</td>\n",
       "      <td>198615</td>\n",
       "      <td>19177</td>\n",
       "      <td>0</td>\n",
       "    </tr>\n",
       "    <tr>\n",
       "      <th>4</th>\n",
       "      <td>39060</td>\n",
       "      <td>107706</td>\n",
       "      <td>187642</td>\n",
       "      <td>288</td>\n",
       "      <td>4233</td>\n",
       "    </tr>\n",
       "    <tr>\n",
       "      <th>5</th>\n",
       "      <td>62481</td>\n",
       "      <td>165339</td>\n",
       "      <td>145040</td>\n",
       "      <td>550</td>\n",
       "      <td>0</td>\n",
       "    </tr>\n",
       "    <tr>\n",
       "      <th>6</th>\n",
       "      <td>34980</td>\n",
       "      <td>167957</td>\n",
       "      <td>113133</td>\n",
       "      <td>318</td>\n",
       "      <td>0</td>\n",
       "    </tr>\n",
       "    <tr>\n",
       "      <th>7</th>\n",
       "      <td>28441</td>\n",
       "      <td>169295</td>\n",
       "      <td>176079</td>\n",
       "      <td>241</td>\n",
       "      <td>4216</td>\n",
       "    </tr>\n",
       "    <tr>\n",
       "      <th>8</th>\n",
       "      <td>15051</td>\n",
       "      <td>76899</td>\n",
       "      <td>247137</td>\n",
       "      <td>714</td>\n",
       "      <td>0</td>\n",
       "    </tr>\n",
       "    <tr>\n",
       "      <th>9</th>\n",
       "      <td>76245</td>\n",
       "      <td>160933</td>\n",
       "      <td>85833</td>\n",
       "      <td>223</td>\n",
       "      <td>0</td>\n",
       "    </tr>\n",
       "  </tbody>\n",
       "</table>\n",
       "</div>"
      ],
      "text/plain": [
       "          index  G18HORREP  G18HORDEM  G18HORWRI  G18HORLIB\n",
       "CON_DIST                                                   \n",
       "1         34980     183250     148464        413          0\n",
       "10        24531     160841     206356        618          0\n",
       "11        13861      83023     219191        513       5546\n",
       "2         17955     133458     139571        399          0\n",
       "3         23653          0     198615      19177          0\n",
       "4         39060     107706     187642        288       4233\n",
       "5         62481     165339     145040        550          0\n",
       "6         34980     167957     113133        318          0\n",
       "7         28441     169295     176079        241       4216\n",
       "8         15051      76899     247137        714          0\n",
       "9         76245     160933      85833        223          0"
      ]
     },
     "execution_count": 270,
     "metadata": {},
     "output_type": "execute_result"
    }
   ],
   "source": [
    "df_cd_groupby"
   ]
  },
  {
   "cell_type": "code",
   "execution_count": 271,
   "metadata": {},
   "outputs": [
    {
     "data": {
      "text/plain": [
       "3684449"
      ]
     },
     "execution_count": 271,
     "metadata": {},
     "output_type": "execute_result"
    }
   ],
   "source": [
    "df_cd_groupby.sum().sum()"
   ]
  },
  {
   "cell_type": "code",
   "execution_count": 272,
   "metadata": {},
   "outputs": [],
   "source": [
    "final_cd_groupby = final.groupby(['CON_DIST']).sum()"
   ]
  },
  {
   "cell_type": "code",
   "execution_count": 273,
   "metadata": {},
   "outputs": [
    {
     "data": {
      "text/html": [
       "<div>\n",
       "<style scoped>\n",
       "    .dataframe tbody tr th:only-of-type {\n",
       "        vertical-align: middle;\n",
       "    }\n",
       "\n",
       "    .dataframe tbody tr th {\n",
       "        vertical-align: top;\n",
       "    }\n",
       "\n",
       "    .dataframe thead th {\n",
       "        text-align: right;\n",
       "    }\n",
       "</style>\n",
       "<table border=\"1\" class=\"dataframe\">\n",
       "  <thead>\n",
       "    <tr style=\"text-align: right;\">\n",
       "      <th></th>\n",
       "      <th>G18HORDEM</th>\n",
       "      <th>G18HORREP</th>\n",
       "      <th>G18HORLIB</th>\n",
       "      <th>G18HORWRI</th>\n",
       "    </tr>\n",
       "    <tr>\n",
       "      <th>CON_DIST</th>\n",
       "      <th></th>\n",
       "      <th></th>\n",
       "      <th></th>\n",
       "      <th></th>\n",
       "    </tr>\n",
       "  </thead>\n",
       "  <tbody>\n",
       "    <tr>\n",
       "      <th>1</th>\n",
       "      <td>148464</td>\n",
       "      <td>183250</td>\n",
       "      <td>0</td>\n",
       "      <td>413</td>\n",
       "    </tr>\n",
       "    <tr>\n",
       "      <th>10</th>\n",
       "      <td>206356</td>\n",
       "      <td>160841</td>\n",
       "      <td>0</td>\n",
       "      <td>618</td>\n",
       "    </tr>\n",
       "    <tr>\n",
       "      <th>11</th>\n",
       "      <td>219191</td>\n",
       "      <td>83023</td>\n",
       "      <td>5546</td>\n",
       "      <td>513</td>\n",
       "    </tr>\n",
       "    <tr>\n",
       "      <th>2</th>\n",
       "      <td>139571</td>\n",
       "      <td>133458</td>\n",
       "      <td>0</td>\n",
       "      <td>399</td>\n",
       "    </tr>\n",
       "    <tr>\n",
       "      <th>3</th>\n",
       "      <td>198615</td>\n",
       "      <td>0</td>\n",
       "      <td>0</td>\n",
       "      <td>19177</td>\n",
       "    </tr>\n",
       "    <tr>\n",
       "      <th>4</th>\n",
       "      <td>187642</td>\n",
       "      <td>107706</td>\n",
       "      <td>4233</td>\n",
       "      <td>288</td>\n",
       "    </tr>\n",
       "    <tr>\n",
       "      <th>5</th>\n",
       "      <td>145040</td>\n",
       "      <td>165339</td>\n",
       "      <td>0</td>\n",
       "      <td>550</td>\n",
       "    </tr>\n",
       "    <tr>\n",
       "      <th>6</th>\n",
       "      <td>113133</td>\n",
       "      <td>167957</td>\n",
       "      <td>0</td>\n",
       "      <td>318</td>\n",
       "    </tr>\n",
       "    <tr>\n",
       "      <th>7</th>\n",
       "      <td>176079</td>\n",
       "      <td>169295</td>\n",
       "      <td>4216</td>\n",
       "      <td>241</td>\n",
       "    </tr>\n",
       "    <tr>\n",
       "      <th>8</th>\n",
       "      <td>247137</td>\n",
       "      <td>76899</td>\n",
       "      <td>0</td>\n",
       "      <td>714</td>\n",
       "    </tr>\n",
       "    <tr>\n",
       "      <th>9</th>\n",
       "      <td>85833</td>\n",
       "      <td>160933</td>\n",
       "      <td>0</td>\n",
       "      <td>223</td>\n",
       "    </tr>\n",
       "  </tbody>\n",
       "</table>\n",
       "</div>"
      ],
      "text/plain": [
       "          G18HORDEM  G18HORREP  G18HORLIB  G18HORWRI\n",
       "CON_DIST                                            \n",
       "1            148464     183250          0        413\n",
       "10           206356     160841          0        618\n",
       "11           219191      83023       5546        513\n",
       "2            139571     133458          0        399\n",
       "3            198615          0          0      19177\n",
       "4            187642     107706       4233        288\n",
       "5            145040     165339          0        550\n",
       "6            113133     167957          0        318\n",
       "7            176079     169295       4216        241\n",
       "8            247137      76899          0        714\n",
       "9             85833     160933          0        223"
      ]
     },
     "execution_count": 273,
     "metadata": {},
     "output_type": "execute_result"
    }
   ],
   "source": [
    "final_cd_groupby"
   ]
  },
  {
   "cell_type": "code",
   "execution_count": 274,
   "metadata": {},
   "outputs": [
    {
     "data": {
      "text/plain": [
       "3313211"
      ]
     },
     "execution_count": 274,
     "metadata": {},
     "output_type": "execute_result"
    }
   ],
   "source": [
    "final_cd_groupby.sum().sum()"
   ]
  },
  {
   "cell_type": "code",
   "execution_count": 275,
   "metadata": {},
   "outputs": [],
   "source": [
    "join_df_cd_groupby_with_final = pd.merge(df_cd_groupby, final_cd_groupby, on = 'CON_DIST')"
   ]
  },
  {
   "cell_type": "code",
   "execution_count": 276,
   "metadata": {},
   "outputs": [
    {
     "name": "stdout",
     "output_type": "stream",
     "text": [
      "column:  G18HORREP  have the same sums\n",
      "column:  G18HORDEM  have the same sums\n",
      "column:  G18HORWRI  have the same sums\n",
      "column:  G18HORLIB  have the same sums\n",
      "The max difference (as a percent of the total of on DF column is:  0\n"
     ]
    }
   ],
   "source": [
    "sum_checker(join_df_cd_groupby_with_final, column_list)"
   ]
  },
  {
   "cell_type": "markdown",
   "metadata": {},
   "source": [
    "Just shows that totals match before votes reallocated"
   ]
  },
  {
   "cell_type": "code",
   "execution_count": 281,
   "metadata": {},
   "outputs": [],
   "source": [
    "final['unique_id'] = final['COUNTYFP'] + final['VTDST'].str.slice(start = 3)"
   ]
  },
  {
   "cell_type": "code",
   "execution_count": 282,
   "metadata": {},
   "outputs": [
    {
     "data": {
      "text/plain": [
       "2441"
      ]
     },
     "execution_count": 282,
     "metadata": {},
     "output_type": "execute_result"
    }
   ],
   "source": [
    "final['unique_id'].nunique()"
   ]
  },
  {
   "cell_type": "code",
   "execution_count": 286,
   "metadata": {},
   "outputs": [],
   "source": [
    "df_with_absentee_reallocated['vtdst'] = df_with_absentee_reallocated.Pct.str.slice(stop = 3)"
   ]
  },
  {
   "cell_type": "code",
   "execution_count": 292,
   "metadata": {},
   "outputs": [],
   "source": [
    "def vtdst_changer(vtdst):\n",
    "    if (vtdst[1:3] == ' -'):\n",
    "        two_lead_zero = '00' + vtdst[:1]\n",
    "        return two_lead_zero\n",
    "    elif (vtdst[1:3] == '- '):\n",
    "        two_lead_zero = '00' + vtdst[:1]\n",
    "        return two_lead_zero\n",
    "    elif (vtdst[-1:] == ' '):\n",
    "        one_lead_zero = '0' + vtdst[:2]\n",
    "        return one_lead_zero\n",
    "    elif (vtdst[-1:] == '-'):\n",
    "        one_lead_zero = '0' + vtdst[:2]\n",
    "        return one_lead_zero\n",
    "    else:\n",
    "        return vtdst"
   ]
  },
  {
   "cell_type": "code",
   "execution_count": 293,
   "metadata": {},
   "outputs": [],
   "source": [
    "df_with_absentee_reallocated['vtdst'] = df_with_absentee_reallocated['vtdst'].apply(vtdst_changer)"
   ]
  },
  {
   "cell_type": "code",
   "execution_count": 294,
   "metadata": {},
   "outputs": [
    {
     "data": {
      "text/html": [
       "<div>\n",
       "<style scoped>\n",
       "    .dataframe tbody tr th:only-of-type {\n",
       "        vertical-align: middle;\n",
       "    }\n",
       "\n",
       "    .dataframe tbody tr th {\n",
       "        vertical-align: top;\n",
       "    }\n",
       "\n",
       "    .dataframe thead th {\n",
       "        text-align: right;\n",
       "    }\n",
       "</style>\n",
       "<table border=\"1\" class=\"dataframe\">\n",
       "  <thead>\n",
       "    <tr style=\"text-align: right;\">\n",
       "      <th></th>\n",
       "      <th>index</th>\n",
       "      <th>Pct</th>\n",
       "      <th>G18HORREP</th>\n",
       "      <th>G18HORDEM</th>\n",
       "      <th>G18HORWRI</th>\n",
       "      <th>CON_DIST</th>\n",
       "      <th>G18HORLIB</th>\n",
       "      <th>LOCALITY</th>\n",
       "      <th>COUNTYFP</th>\n",
       "      <th>unique_id</th>\n",
       "      <th>vtdst</th>\n",
       "    </tr>\n",
       "  </thead>\n",
       "  <tbody>\n",
       "  </tbody>\n",
       "</table>\n",
       "</div>"
      ],
      "text/plain": [
       "Empty DataFrame\n",
       "Columns: [index, Pct, G18HORREP, G18HORDEM, G18HORWRI, CON_DIST, G18HORLIB, LOCALITY, COUNTYFP, unique_id, vtdst]\n",
       "Index: []"
      ]
     },
     "execution_count": 294,
     "metadata": {},
     "output_type": "execute_result"
    }
   ],
   "source": [
    "df_with_absentee_reallocated[df_with_absentee_reallocated['vtdst'].str.slice(start = -1) == '-']"
   ]
  },
  {
   "cell_type": "code",
   "execution_count": 295,
   "metadata": {},
   "outputs": [],
   "source": [
    "df_with_absentee_reallocated['unique_id'] = df_with_absentee_reallocated['COUNTYFP'] + df_with_absentee_reallocated['vtdst']"
   ]
  },
  {
   "cell_type": "code",
   "execution_count": 296,
   "metadata": {},
   "outputs": [
    {
     "data": {
      "text/plain": [
       "{'003407', '003507'}"
      ]
     },
     "execution_count": 296,
     "metadata": {},
     "output_type": "execute_result"
    }
   ],
   "source": [
    "set(df_with_absentee_reallocated.unique_id) - set(final.unique_id)"
   ]
  },
  {
   "cell_type": "code",
   "execution_count": 297,
   "metadata": {},
   "outputs": [
    {
     "data": {
      "text/plain": [
       "{'003499', '003599', '059700'}"
      ]
     },
     "execution_count": 297,
     "metadata": {},
     "output_type": "execute_result"
    }
   ],
   "source": [
    "set(final.unique_id) - set(df_with_absentee_reallocated.unique_id)"
   ]
  },
  {
   "cell_type": "code",
   "execution_count": 300,
   "metadata": {},
   "outputs": [],
   "source": [
    "double_in_df = df_with_absentee_reallocated['unique_id'].value_counts()\n",
    "df_double_list = double_in_df[double_in_df > 1].index"
   ]
  },
  {
   "cell_type": "code",
   "execution_count": 302,
   "metadata": {},
   "outputs": [],
   "source": [
    "double_vtdst = (final.COUNTYFP + final.VTDST.str.slice(start = 3)).value_counts()"
   ]
  },
  {
   "cell_type": "code",
   "execution_count": 304,
   "metadata": {},
   "outputs": [
    {
     "data": {
      "text/plain": [
       "Index(['800404', '153609', '059513', '089505', '177402', '550020', '177702',\n",
       "       '153210', '089304', '095504', '800602', '153312', '153112', '650215',\n",
       "       '153110', '800504', '177103', '710104', '177704', '095202', '800302',\n",
       "       '177703'],\n",
       "      dtype='object')"
      ]
     },
     "execution_count": 304,
     "metadata": {},
     "output_type": "execute_result"
    }
   ],
   "source": [
    "double_vtdst[double_vtdst > 1].index"
   ]
  },
  {
   "cell_type": "code",
   "execution_count": 303,
   "metadata": {},
   "outputs": [],
   "source": [
    "final_double_list = double_vtdst[double_vtdst > 1].index"
   ]
  },
  {
   "cell_type": "code",
   "execution_count": null,
   "metadata": {},
   "outputs": [],
   "source": []
  }
 ],
 "metadata": {
  "kernelspec": {
   "display_name": "Python 3",
   "language": "python",
   "name": "python3"
  },
  "language_info": {
   "codemirror_mode": {
    "name": "ipython",
    "version": 3
   },
   "file_extension": ".py",
   "mimetype": "text/x-python",
   "name": "python",
   "nbconvert_exporter": "python",
   "pygments_lexer": "ipython3",
   "version": "3.8.3"
  }
 },
 "nbformat": 4,
 "nbformat_minor": 4
}
