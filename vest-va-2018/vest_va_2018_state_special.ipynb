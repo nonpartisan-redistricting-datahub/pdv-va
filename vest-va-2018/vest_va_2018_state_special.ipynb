{
 "cells": [
  {
   "cell_type": "code",
   "execution_count": 407,
   "metadata": {},
   "outputs": [],
   "source": [
    "import pandas as pd\n",
    "import geopandas as gpd\n",
    "import matplotlib.pyplot as plt\n",
    "import maup\n",
    "from zipfile import ZipFile\n",
    "import numpy as np\n",
    "import os\n",
    "import shutil"
   ]
  },
  {
   "cell_type": "markdown",
   "metadata": {},
   "source": [
    "# State House Special Election"
   ]
  },
  {
   "cell_type": "code",
   "execution_count": 3,
   "metadata": {},
   "outputs": [
    {
     "data": {
      "text/plain": [
       "'/Users/lilyfalk/sandbox/pdv-va/vest_va'"
      ]
     },
     "execution_count": 3,
     "metadata": {},
     "output_type": "execute_result"
    }
   ],
   "source": [
    "pwd"
   ]
  },
  {
   "cell_type": "code",
   "execution_count": 408,
   "metadata": {},
   "outputs": [],
   "source": [
    "final = gpd.read_file('./va_2018_statehouse_special/va_2018_statehouse_special.shp')"
   ]
  },
  {
   "cell_type": "code",
   "execution_count": 409,
   "metadata": {},
   "outputs": [
    {
     "data": {
      "text/html": [
       "<div>\n",
       "<style scoped>\n",
       "    .dataframe tbody tr th:only-of-type {\n",
       "        vertical-align: middle;\n",
       "    }\n",
       "\n",
       "    .dataframe tbody tr th {\n",
       "        vertical-align: top;\n",
       "    }\n",
       "\n",
       "    .dataframe thead th {\n",
       "        text-align: right;\n",
       "    }\n",
       "</style>\n",
       "<table border=\"1\" class=\"dataframe\">\n",
       "  <thead>\n",
       "    <tr style=\"text-align: right;\">\n",
       "      <th></th>\n",
       "      <th>COUNTYFP</th>\n",
       "      <th>LOCALITY</th>\n",
       "      <th>VTDST</th>\n",
       "      <th>PRECINCT</th>\n",
       "      <th>HOD_DIST</th>\n",
       "      <th>S18HODDEM</th>\n",
       "      <th>S18HODREP</th>\n",
       "      <th>S18HODWRI</th>\n",
       "      <th>geometry</th>\n",
       "    </tr>\n",
       "  </thead>\n",
       "  <tbody>\n",
       "    <tr>\n",
       "      <th>0</th>\n",
       "      <td>009</td>\n",
       "      <td>Amherst County</td>\n",
       "      <td>000102</td>\n",
       "      <td>New Glasgow</td>\n",
       "      <td>024</td>\n",
       "      <td>117</td>\n",
       "      <td>168</td>\n",
       "      <td>2</td>\n",
       "      <td>POLYGON Z ((-79.04809 37.53463 0.00000, -79.04...</td>\n",
       "    </tr>\n",
       "    <tr>\n",
       "      <th>1</th>\n",
       "      <td>009</td>\n",
       "      <td>Amherst County</td>\n",
       "      <td>000103</td>\n",
       "      <td>Coolwell</td>\n",
       "      <td>024</td>\n",
       "      <td>21</td>\n",
       "      <td>84</td>\n",
       "      <td>1</td>\n",
       "      <td>POLYGON Z ((-79.08422 37.51334 0.00000, -79.08...</td>\n",
       "    </tr>\n",
       "    <tr>\n",
       "      <th>2</th>\n",
       "      <td>009</td>\n",
       "      <td>Amherst County</td>\n",
       "      <td>000201</td>\n",
       "      <td>Court House</td>\n",
       "      <td>024</td>\n",
       "      <td>270</td>\n",
       "      <td>408</td>\n",
       "      <td>14</td>\n",
       "      <td>POLYGON Z ((-79.15210 37.57883 0.00000, -79.15...</td>\n",
       "    </tr>\n",
       "    <tr>\n",
       "      <th>3</th>\n",
       "      <td>009</td>\n",
       "      <td>Amherst County</td>\n",
       "      <td>000202</td>\n",
       "      <td>Temperance</td>\n",
       "      <td>024</td>\n",
       "      <td>61</td>\n",
       "      <td>140</td>\n",
       "      <td>3</td>\n",
       "      <td>POLYGON Z ((-79.30301 37.74092 0.00000, -79.30...</td>\n",
       "    </tr>\n",
       "    <tr>\n",
       "      <th>4</th>\n",
       "      <td>009</td>\n",
       "      <td>Amherst County</td>\n",
       "      <td>000301</td>\n",
       "      <td>Monroe</td>\n",
       "      <td>024</td>\n",
       "      <td>68</td>\n",
       "      <td>163</td>\n",
       "      <td>5</td>\n",
       "      <td>POLYGON Z ((-79.19354 37.57677 0.00000, -79.19...</td>\n",
       "    </tr>\n",
       "    <tr>\n",
       "      <th>...</th>\n",
       "      <td>...</td>\n",
       "      <td>...</td>\n",
       "      <td>...</td>\n",
       "      <td>...</td>\n",
       "      <td>...</td>\n",
       "      <td>...</td>\n",
       "      <td>...</td>\n",
       "      <td>...</td>\n",
       "      <td>...</td>\n",
       "    </tr>\n",
       "    <tr>\n",
       "      <th>74</th>\n",
       "      <td>161</td>\n",
       "      <td>Roanoke County</td>\n",
       "      <td>000108</td>\n",
       "      <td>WILDWOOD</td>\n",
       "      <td>008</td>\n",
       "      <td>335</td>\n",
       "      <td>664</td>\n",
       "      <td>3</td>\n",
       "      <td>POLYGON Z ((-80.08046 37.32419 0.00000, -80.08...</td>\n",
       "    </tr>\n",
       "    <tr>\n",
       "      <th>75</th>\n",
       "      <td>161</td>\n",
       "      <td>Roanoke County</td>\n",
       "      <td>000106</td>\n",
       "      <td>GREEN HILL</td>\n",
       "      <td>008</td>\n",
       "      <td>643</td>\n",
       "      <td>1271</td>\n",
       "      <td>3</td>\n",
       "      <td>POLYGON Z ((-80.08835 37.28149 0.00000, -80.08...</td>\n",
       "    </tr>\n",
       "    <tr>\n",
       "      <th>76</th>\n",
       "      <td>161</td>\n",
       "      <td>Roanoke County</td>\n",
       "      <td>000103</td>\n",
       "      <td>GLENVAR</td>\n",
       "      <td>008</td>\n",
       "      <td>374</td>\n",
       "      <td>835</td>\n",
       "      <td>2</td>\n",
       "      <td>POLYGON Z ((-80.21886 37.26382 0.00000, -80.21...</td>\n",
       "    </tr>\n",
       "    <tr>\n",
       "      <th>77</th>\n",
       "      <td>121</td>\n",
       "      <td>Montgomery County</td>\n",
       "      <td>000304</td>\n",
       "      <td>Precinct C-4</td>\n",
       "      <td>008</td>\n",
       "      <td>599</td>\n",
       "      <td>810</td>\n",
       "      <td>3</td>\n",
       "      <td>POLYGON Z ((-80.30263 37.16025 0.00000, -80.30...</td>\n",
       "    </tr>\n",
       "    <tr>\n",
       "      <th>78</th>\n",
       "      <td>015</td>\n",
       "      <td>Augusta County</td>\n",
       "      <td>000602</td>\n",
       "      <td>Ridgeview</td>\n",
       "      <td>024</td>\n",
       "      <td>162</td>\n",
       "      <td>443</td>\n",
       "      <td>0</td>\n",
       "      <td>POLYGON Z ((-79.04959 38.01807 0.00000, -79.04...</td>\n",
       "    </tr>\n",
       "  </tbody>\n",
       "</table>\n",
       "<p>79 rows × 9 columns</p>\n",
       "</div>"
      ],
      "text/plain": [
       "   COUNTYFP           LOCALITY   VTDST      PRECINCT HOD_DIST  S18HODDEM  \\\n",
       "0       009     Amherst County  000102   New Glasgow      024        117   \n",
       "1       009     Amherst County  000103      Coolwell      024         21   \n",
       "2       009     Amherst County  000201   Court House      024        270   \n",
       "3       009     Amherst County  000202    Temperance      024         61   \n",
       "4       009     Amherst County  000301        Monroe      024         68   \n",
       "..      ...                ...     ...           ...      ...        ...   \n",
       "74      161     Roanoke County  000108      WILDWOOD      008        335   \n",
       "75      161     Roanoke County  000106    GREEN HILL      008        643   \n",
       "76      161     Roanoke County  000103       GLENVAR      008        374   \n",
       "77      121  Montgomery County  000304  Precinct C-4      008        599   \n",
       "78      015     Augusta County  000602     Ridgeview      024        162   \n",
       "\n",
       "    S18HODREP  S18HODWRI                                           geometry  \n",
       "0         168          2  POLYGON Z ((-79.04809 37.53463 0.00000, -79.04...  \n",
       "1          84          1  POLYGON Z ((-79.08422 37.51334 0.00000, -79.08...  \n",
       "2         408         14  POLYGON Z ((-79.15210 37.57883 0.00000, -79.15...  \n",
       "3         140          3  POLYGON Z ((-79.30301 37.74092 0.00000, -79.30...  \n",
       "4         163          5  POLYGON Z ((-79.19354 37.57677 0.00000, -79.19...  \n",
       "..        ...        ...                                                ...  \n",
       "74        664          3  POLYGON Z ((-80.08046 37.32419 0.00000, -80.08...  \n",
       "75       1271          3  POLYGON Z ((-80.08835 37.28149 0.00000, -80.08...  \n",
       "76        835          2  POLYGON Z ((-80.21886 37.26382 0.00000, -80.21...  \n",
       "77        810          3  POLYGON Z ((-80.30263 37.16025 0.00000, -80.30...  \n",
       "78        443          0  POLYGON Z ((-79.04959 38.01807 0.00000, -79.04...  \n",
       "\n",
       "[79 rows x 9 columns]"
      ]
     },
     "execution_count": 409,
     "metadata": {},
     "output_type": "execute_result"
    }
   ],
   "source": [
    "final"
   ]
  },
  {
   "cell_type": "code",
   "execution_count": 410,
   "metadata": {},
   "outputs": [],
   "source": [
    "county_dict = pd.Series(final['COUNTYFP'].values, index = final['LOCALITY']).to_dict()"
   ]
  },
  {
   "cell_type": "markdown",
   "metadata": {},
   "source": [
    "## Election results"
   ]
  },
  {
   "cell_type": "markdown",
   "metadata": {},
   "source": [
    "### District 8"
   ]
  },
  {
   "cell_type": "code",
   "execution_count": 470,
   "metadata": {},
   "outputs": [],
   "source": [
    "df8 = pd.read_csv('./Virginia_Elections_Database__2018_House_of_Delegates_General_Election_District_8_including_precincts.csv')"
   ]
  },
  {
   "cell_type": "code",
   "execution_count": 471,
   "metadata": {},
   "outputs": [
    {
     "data": {
      "text/html": [
       "<div>\n",
       "<style scoped>\n",
       "    .dataframe tbody tr th:only-of-type {\n",
       "        vertical-align: middle;\n",
       "    }\n",
       "\n",
       "    .dataframe tbody tr th {\n",
       "        vertical-align: top;\n",
       "    }\n",
       "\n",
       "    .dataframe thead th {\n",
       "        text-align: right;\n",
       "    }\n",
       "</style>\n",
       "<table border=\"1\" class=\"dataframe\">\n",
       "  <thead>\n",
       "    <tr style=\"text-align: right;\">\n",
       "      <th></th>\n",
       "      <th>County/City</th>\n",
       "      <th>Ward</th>\n",
       "      <th>Pct</th>\n",
       "      <th>Joseph P. McNamara</th>\n",
       "      <th>Edward Carter Turner, III</th>\n",
       "      <th>All Others</th>\n",
       "      <th>Total Votes Cast</th>\n",
       "    </tr>\n",
       "  </thead>\n",
       "  <tbody>\n",
       "    <tr>\n",
       "      <th>0</th>\n",
       "      <td>NaN</td>\n",
       "      <td>NaN</td>\n",
       "      <td>NaN</td>\n",
       "      <td>Republican</td>\n",
       "      <td>Democratic</td>\n",
       "      <td>NaN</td>\n",
       "      <td>NaN</td>\n",
       "    </tr>\n",
       "    <tr>\n",
       "      <th>1</th>\n",
       "      <td>Craig County</td>\n",
       "      <td>-</td>\n",
       "      <td>101 - Court House</td>\n",
       "      <td>300</td>\n",
       "      <td>80</td>\n",
       "      <td>1.0</td>\n",
       "      <td>381</td>\n",
       "    </tr>\n",
       "    <tr>\n",
       "      <th>2</th>\n",
       "      <td>Craig County</td>\n",
       "      <td>-</td>\n",
       "      <td>201 - Ammendale Precinct</td>\n",
       "      <td>402</td>\n",
       "      <td>90</td>\n",
       "      <td>0.0</td>\n",
       "      <td>492</td>\n",
       "    </tr>\n",
       "    <tr>\n",
       "      <th>3</th>\n",
       "      <td>Craig County</td>\n",
       "      <td>-</td>\n",
       "      <td>301 - Givens &amp; Reynolds Store</td>\n",
       "      <td>188</td>\n",
       "      <td>92</td>\n",
       "      <td>0.0</td>\n",
       "      <td>280</td>\n",
       "    </tr>\n",
       "    <tr>\n",
       "      <th>4</th>\n",
       "      <td>Craig County</td>\n",
       "      <td>-</td>\n",
       "      <td>303 - Marshalls Store</td>\n",
       "      <td>160</td>\n",
       "      <td>77</td>\n",
       "      <td>0.0</td>\n",
       "      <td>237</td>\n",
       "    </tr>\n",
       "  </tbody>\n",
       "</table>\n",
       "</div>"
      ],
      "text/plain": [
       "    County/City Ward                            Pct Joseph P. McNamara  \\\n",
       "0           NaN  NaN                            NaN         Republican   \n",
       "1  Craig County    -              101 - Court House                300   \n",
       "2  Craig County    -       201 - Ammendale Precinct                402   \n",
       "3  Craig County    -  301 - Givens & Reynolds Store                188   \n",
       "4  Craig County    -          303 - Marshalls Store                160   \n",
       "\n",
       "  Edward Carter Turner, III  All Others Total Votes Cast  \n",
       "0                Democratic         NaN              NaN  \n",
       "1                        80         1.0              381  \n",
       "2                        90         0.0              492  \n",
       "3                        92         0.0              280  \n",
       "4                        77         0.0              237  "
      ]
     },
     "execution_count": 471,
     "metadata": {},
     "output_type": "execute_result"
    }
   ],
   "source": [
    "df8.head()"
   ]
  },
  {
   "cell_type": "code",
   "execution_count": 472,
   "metadata": {},
   "outputs": [
    {
     "data": {
      "text/plain": [
       "5"
      ]
     },
     "execution_count": 472,
     "metadata": {},
     "output_type": "execute_result"
    }
   ],
   "source": [
    "df8['County/City'].nunique()"
   ]
  },
  {
   "cell_type": "code",
   "execution_count": 473,
   "metadata": {},
   "outputs": [
    {
     "data": {
      "text/plain": [
       "(46, 7)"
      ]
     },
     "execution_count": 473,
     "metadata": {},
     "output_type": "execute_result"
    }
   ],
   "source": [
    "df8.shape"
   ]
  },
  {
   "cell_type": "code",
   "execution_count": 474,
   "metadata": {},
   "outputs": [],
   "source": [
    "df8 = df8.iloc[1:]"
   ]
  },
  {
   "cell_type": "code",
   "execution_count": 475,
   "metadata": {},
   "outputs": [],
   "source": [
    "df8 = df8.drop(['Ward'], axis = 1)"
   ]
  },
  {
   "cell_type": "code",
   "execution_count": 476,
   "metadata": {},
   "outputs": [],
   "source": [
    "df8['HOD_DIST'] = '8'"
   ]
  },
  {
   "cell_type": "code",
   "execution_count": 477,
   "metadata": {},
   "outputs": [],
   "source": [
    "#dont actually need this since function rename didnt work\n",
    "column_dict = {'County/City': 'LOCALITY', 'Joseph P. McNamara': 'S18HODREP', 'Edward Carter Turner, III': 'S18HODDEM',\n",
    "              'All Others': 'S18HODWRI',\n",
    "              'Ronnie Ray Campbell': 'S18HODREP', 'Christian Renau Worth': 'S18HODDEM'}"
   ]
  },
  {
   "cell_type": "code",
   "execution_count": 478,
   "metadata": {},
   "outputs": [],
   "source": [
    "df8['LOCALITY'] = df8['County/City'].rename(column_dict.get('County/City'))\n",
    "df8['S18HODREP'] = df8['Joseph P. McNamara']\n",
    "df8['S18HODDEM'] = df8['Edward Carter Turner, III']\n",
    "df8['S18HODWRI'] = df8['All Others']\n",
    "df8 = df8.drop(['County/City', 'Joseph P. McNamara', 'Edward Carter Turner, III', 'All Others'], axis = 1)"
   ]
  },
  {
   "cell_type": "code",
   "execution_count": 479,
   "metadata": {},
   "outputs": [
    {
     "data": {
      "text/html": [
       "<div>\n",
       "<style scoped>\n",
       "    .dataframe tbody tr th:only-of-type {\n",
       "        vertical-align: middle;\n",
       "    }\n",
       "\n",
       "    .dataframe tbody tr th {\n",
       "        vertical-align: top;\n",
       "    }\n",
       "\n",
       "    .dataframe thead th {\n",
       "        text-align: right;\n",
       "    }\n",
       "</style>\n",
       "<table border=\"1\" class=\"dataframe\">\n",
       "  <thead>\n",
       "    <tr style=\"text-align: right;\">\n",
       "      <th></th>\n",
       "      <th>Pct</th>\n",
       "      <th>Total Votes Cast</th>\n",
       "      <th>HOD_DIST</th>\n",
       "      <th>LOCALITY</th>\n",
       "      <th>S18HODREP</th>\n",
       "      <th>S18HODDEM</th>\n",
       "      <th>S18HODWRI</th>\n",
       "    </tr>\n",
       "  </thead>\n",
       "  <tbody>\n",
       "    <tr>\n",
       "      <th>1</th>\n",
       "      <td>101 - Court House</td>\n",
       "      <td>381</td>\n",
       "      <td>8</td>\n",
       "      <td>Craig County</td>\n",
       "      <td>300</td>\n",
       "      <td>80</td>\n",
       "      <td>1.0</td>\n",
       "    </tr>\n",
       "    <tr>\n",
       "      <th>2</th>\n",
       "      <td>201 - Ammendale Precinct</td>\n",
       "      <td>492</td>\n",
       "      <td>8</td>\n",
       "      <td>Craig County</td>\n",
       "      <td>402</td>\n",
       "      <td>90</td>\n",
       "      <td>0.0</td>\n",
       "    </tr>\n",
       "    <tr>\n",
       "      <th>3</th>\n",
       "      <td>301 - Givens &amp; Reynolds Store</td>\n",
       "      <td>280</td>\n",
       "      <td>8</td>\n",
       "      <td>Craig County</td>\n",
       "      <td>188</td>\n",
       "      <td>92</td>\n",
       "      <td>0.0</td>\n",
       "    </tr>\n",
       "    <tr>\n",
       "      <th>4</th>\n",
       "      <td>303 - Marshalls Store</td>\n",
       "      <td>237</td>\n",
       "      <td>8</td>\n",
       "      <td>Craig County</td>\n",
       "      <td>160</td>\n",
       "      <td>77</td>\n",
       "      <td>0.0</td>\n",
       "    </tr>\n",
       "    <tr>\n",
       "      <th>5</th>\n",
       "      <td>401 - Barbours Creek</td>\n",
       "      <td>198</td>\n",
       "      <td>8</td>\n",
       "      <td>Craig County</td>\n",
       "      <td>149</td>\n",
       "      <td>49</td>\n",
       "      <td>0.0</td>\n",
       "    </tr>\n",
       "  </tbody>\n",
       "</table>\n",
       "</div>"
      ],
      "text/plain": [
       "                             Pct Total Votes Cast HOD_DIST      LOCALITY  \\\n",
       "1              101 - Court House              381        8  Craig County   \n",
       "2       201 - Ammendale Precinct              492        8  Craig County   \n",
       "3  301 - Givens & Reynolds Store              280        8  Craig County   \n",
       "4          303 - Marshalls Store              237        8  Craig County   \n",
       "5           401 - Barbours Creek              198        8  Craig County   \n",
       "\n",
       "  S18HODREP S18HODDEM  S18HODWRI  \n",
       "1       300        80        1.0  \n",
       "2       402        90        0.0  \n",
       "3       188        92        0.0  \n",
       "4       160        77        0.0  \n",
       "5       149        49        0.0  "
      ]
     },
     "execution_count": 479,
     "metadata": {},
     "output_type": "execute_result"
    }
   ],
   "source": [
    "df8.head()"
   ]
  },
  {
   "cell_type": "code",
   "execution_count": 480,
   "metadata": {},
   "outputs": [
    {
     "data": {
      "text/plain": [
       "5"
      ]
     },
     "execution_count": 480,
     "metadata": {},
     "output_type": "execute_result"
    }
   ],
   "source": [
    "df8.LOCALITY.nunique()"
   ]
  },
  {
   "cell_type": "code",
   "execution_count": 422,
   "metadata": {},
   "outputs": [
    {
     "data": {
      "text/plain": [
       "'\\nBelow code messing up the locality, so stop useing it\\n\\ndef rename_columns(results, column_dict):\\n    for col in results.columns:\\n        print(col)\\n        if col in column_dict.keys():\\n            col_new_name = column_dict.get(col)\\n            results = results.rename(columns = {col:col_new_name})\\n            print(col_new_name)\\n    return results.head()\\n'"
      ]
     },
     "execution_count": 422,
     "metadata": {},
     "output_type": "execute_result"
    }
   ],
   "source": [
    "'''\n",
    "Below code messing up the locality, so stop useing it\n",
    "\n",
    "def rename_columns(results, column_dict):\n",
    "    for col in results.columns:\n",
    "        print(col)\n",
    "        if col in column_dict.keys():\n",
    "            col_new_name = column_dict.get(col)\n",
    "            results = results.rename(columns = {col:col_new_name})\n",
    "            print(col_new_name)\n",
    "    return results.head()\n",
    "'''"
   ]
  },
  {
   "cell_type": "code",
   "execution_count": 481,
   "metadata": {},
   "outputs": [],
   "source": [
    "county_dict = pd.Series(final['COUNTYFP'].values, index = final['LOCALITY']).to_dict()"
   ]
  },
  {
   "cell_type": "code",
   "execution_count": 482,
   "metadata": {},
   "outputs": [
    {
     "data": {
      "text/plain": [
       "{'Amherst County': '009',\n",
       " 'Augusta County': '015',\n",
       " 'Bath County': '017',\n",
       " 'Rockbridge County': '163',\n",
       " 'Buena Vista City': '530',\n",
       " 'Lexington City': '678',\n",
       " 'Craig County': '045',\n",
       " 'Montgomery County': '121',\n",
       " 'Roanoke County': '161',\n",
       " 'Salem City': '775'}"
      ]
     },
     "execution_count": 482,
     "metadata": {},
     "output_type": "execute_result"
    }
   ],
   "source": [
    "county_dict"
   ]
  },
  {
   "cell_type": "code",
   "execution_count": 425,
   "metadata": {},
   "outputs": [
    {
     "data": {
      "text/plain": [
       "Roanoke County       15\n",
       "Salem City           12\n",
       "Craig County          9\n",
       "Montgomery County     8\n",
       "TOTALS                1\n",
       "Name: LOCALITY, dtype: int64"
      ]
     },
     "execution_count": 425,
     "metadata": {},
     "output_type": "execute_result"
    }
   ],
   "source": [
    "df8['LOCALITY'].value_counts()"
   ]
  },
  {
   "cell_type": "code",
   "execution_count": 483,
   "metadata": {},
   "outputs": [],
   "source": [
    "df8['COUNTYFP'] = df8['LOCALITY'].map(county_dict)"
   ]
  },
  {
   "cell_type": "code",
   "execution_count": 484,
   "metadata": {},
   "outputs": [
    {
     "data": {
      "text/plain": [
       "4"
      ]
     },
     "execution_count": 484,
     "metadata": {},
     "output_type": "execute_result"
    }
   ],
   "source": [
    "df8.COUNTYFP.nunique()"
   ]
  },
  {
   "cell_type": "code",
   "execution_count": 485,
   "metadata": {},
   "outputs": [
    {
     "data": {
      "text/plain": [
       "5"
      ]
     },
     "execution_count": 485,
     "metadata": {},
     "output_type": "execute_result"
    }
   ],
   "source": [
    "df8.LOCALITY.nunique()"
   ]
  },
  {
   "cell_type": "code",
   "execution_count": 486,
   "metadata": {},
   "outputs": [],
   "source": [
    "column_list = ['S18HODREP', 'S18HODDEM', 'S18HODWRI']"
   ]
  },
  {
   "cell_type": "code",
   "execution_count": 487,
   "metadata": {},
   "outputs": [],
   "source": [
    "df8['S18HODREP'] = df8['S18HODREP'].map(lambda x: str(x).replace(',', ''))\n",
    "df8['S18HODDEM'] = df8['S18HODDEM'].map(lambda x: str(x).replace(',', '')) \n",
    "df8['S18HODWRI'] = df8['S18HODWRI'].map(lambda x: str(x).replace(',', ''))"
   ]
  },
  {
   "cell_type": "code",
   "execution_count": 488,
   "metadata": {},
   "outputs": [],
   "source": [
    "df8['S18HODREP'] = df8['S18HODREP'].astype(str).astype(float).astype(int)\n",
    "df8['S18HODDEM'] = df8['S18HODDEM'].astype(str).astype(float).astype(int)\n",
    "df8['S18HODWRI'] = df8['S18HODWRI'].astype(str).astype(float).astype(int)"
   ]
  },
  {
   "cell_type": "code",
   "execution_count": 489,
   "metadata": {},
   "outputs": [
    {
     "data": {
      "text/html": [
       "<div>\n",
       "<style scoped>\n",
       "    .dataframe tbody tr th:only-of-type {\n",
       "        vertical-align: middle;\n",
       "    }\n",
       "\n",
       "    .dataframe tbody tr th {\n",
       "        vertical-align: top;\n",
       "    }\n",
       "\n",
       "    .dataframe thead th {\n",
       "        text-align: right;\n",
       "    }\n",
       "</style>\n",
       "<table border=\"1\" class=\"dataframe\">\n",
       "  <thead>\n",
       "    <tr style=\"text-align: right;\">\n",
       "      <th></th>\n",
       "      <th>S18HODREP</th>\n",
       "      <th>S18HODDEM</th>\n",
       "      <th>S18HODWRI</th>\n",
       "    </tr>\n",
       "    <tr>\n",
       "      <th>COUNTYFP</th>\n",
       "      <th></th>\n",
       "      <th></th>\n",
       "      <th></th>\n",
       "    </tr>\n",
       "  </thead>\n",
       "  <tbody>\n",
       "    <tr>\n",
       "      <th>045</th>\n",
       "      <td>1666</td>\n",
       "      <td>519</td>\n",
       "      <td>1</td>\n",
       "    </tr>\n",
       "    <tr>\n",
       "      <th>121</th>\n",
       "      <td>3706</td>\n",
       "      <td>2955</td>\n",
       "      <td>16</td>\n",
       "    </tr>\n",
       "    <tr>\n",
       "      <th>161</th>\n",
       "      <td>10487</td>\n",
       "      <td>5912</td>\n",
       "      <td>23</td>\n",
       "    </tr>\n",
       "    <tr>\n",
       "      <th>775</th>\n",
       "      <td>5942</td>\n",
       "      <td>3906</td>\n",
       "      <td>10</td>\n",
       "    </tr>\n",
       "  </tbody>\n",
       "</table>\n",
       "</div>"
      ],
      "text/plain": [
       "          S18HODREP  S18HODDEM  S18HODWRI\n",
       "COUNTYFP                                 \n",
       "045            1666        519          1\n",
       "121            3706       2955         16\n",
       "161           10487       5912         23\n",
       "775            5942       3906         10"
      ]
     },
     "execution_count": 489,
     "metadata": {},
     "output_type": "execute_result"
    }
   ],
   "source": [
    "df8.groupby(['COUNTYFP']).sum()"
   ]
  },
  {
   "cell_type": "markdown",
   "metadata": {},
   "source": [
    "### District 24"
   ]
  },
  {
   "cell_type": "code",
   "execution_count": 490,
   "metadata": {},
   "outputs": [],
   "source": [
    "df24 = pd.read_csv('./Virginia_Elections_Database__2018_House_of_Delegates_Special_General_Election_District_24_including_precincts.csv')"
   ]
  },
  {
   "cell_type": "code",
   "execution_count": 491,
   "metadata": {},
   "outputs": [
    {
     "data": {
      "text/html": [
       "<div>\n",
       "<style scoped>\n",
       "    .dataframe tbody tr th:only-of-type {\n",
       "        vertical-align: middle;\n",
       "    }\n",
       "\n",
       "    .dataframe tbody tr th {\n",
       "        vertical-align: top;\n",
       "    }\n",
       "\n",
       "    .dataframe thead th {\n",
       "        text-align: right;\n",
       "    }\n",
       "</style>\n",
       "<table border=\"1\" class=\"dataframe\">\n",
       "  <thead>\n",
       "    <tr style=\"text-align: right;\">\n",
       "      <th></th>\n",
       "      <th>County/City</th>\n",
       "      <th>Ward</th>\n",
       "      <th>Pct</th>\n",
       "      <th>Ronnie Ray Campbell</th>\n",
       "      <th>Christian Renau Worth</th>\n",
       "      <th>All Others</th>\n",
       "      <th>Total Votes Cast</th>\n",
       "    </tr>\n",
       "  </thead>\n",
       "  <tbody>\n",
       "    <tr>\n",
       "      <th>0</th>\n",
       "      <td>NaN</td>\n",
       "      <td>NaN</td>\n",
       "      <td>NaN</td>\n",
       "      <td>Republican</td>\n",
       "      <td>Democratic</td>\n",
       "      <td>NaN</td>\n",
       "      <td>NaN</td>\n",
       "    </tr>\n",
       "    <tr>\n",
       "      <th>1</th>\n",
       "      <td>Amherst County</td>\n",
       "      <td>-</td>\n",
       "      <td>102 - New Glasgow</td>\n",
       "      <td>164</td>\n",
       "      <td>114</td>\n",
       "      <td>2.0</td>\n",
       "      <td>280</td>\n",
       "    </tr>\n",
       "    <tr>\n",
       "      <th>2</th>\n",
       "      <td>Amherst County</td>\n",
       "      <td>-</td>\n",
       "      <td>103 - Coolwell</td>\n",
       "      <td>82</td>\n",
       "      <td>20</td>\n",
       "      <td>1.0</td>\n",
       "      <td>103</td>\n",
       "    </tr>\n",
       "    <tr>\n",
       "      <th>3</th>\n",
       "      <td>Amherst County</td>\n",
       "      <td>-</td>\n",
       "      <td>201 - Court House</td>\n",
       "      <td>397</td>\n",
       "      <td>261</td>\n",
       "      <td>13.0</td>\n",
       "      <td>671</td>\n",
       "    </tr>\n",
       "    <tr>\n",
       "      <th>4</th>\n",
       "      <td>Amherst County</td>\n",
       "      <td>-</td>\n",
       "      <td>202 - Temperance</td>\n",
       "      <td>137</td>\n",
       "      <td>59</td>\n",
       "      <td>3.0</td>\n",
       "      <td>199</td>\n",
       "    </tr>\n",
       "  </tbody>\n",
       "</table>\n",
       "</div>"
      ],
      "text/plain": [
       "      County/City Ward                Pct Ronnie Ray Campbell  \\\n",
       "0             NaN  NaN                NaN          Republican   \n",
       "1  Amherst County    -  102 - New Glasgow                 164   \n",
       "2  Amherst County    -     103 - Coolwell                  82   \n",
       "3  Amherst County    -  201 - Court House                 397   \n",
       "4  Amherst County    -   202 - Temperance                 137   \n",
       "\n",
       "  Christian Renau Worth  All Others Total Votes Cast  \n",
       "0            Democratic         NaN              NaN  \n",
       "1                   114         2.0              280  \n",
       "2                    20         1.0              103  \n",
       "3                   261        13.0              671  \n",
       "4                    59         3.0              199  "
      ]
     },
     "execution_count": 491,
     "metadata": {},
     "output_type": "execute_result"
    }
   ],
   "source": [
    "df24.head()"
   ]
  },
  {
   "cell_type": "code",
   "execution_count": 492,
   "metadata": {},
   "outputs": [
    {
     "data": {
      "text/plain": [
       "7"
      ]
     },
     "execution_count": 492,
     "metadata": {},
     "output_type": "execute_result"
    }
   ],
   "source": [
    "df24['County/City'].nunique()"
   ]
  },
  {
   "cell_type": "code",
   "execution_count": 493,
   "metadata": {},
   "outputs": [
    {
     "data": {
      "text/plain": [
       "(55, 7)"
      ]
     },
     "execution_count": 493,
     "metadata": {},
     "output_type": "execute_result"
    }
   ],
   "source": [
    "df24.shape"
   ]
  },
  {
   "cell_type": "code",
   "execution_count": 494,
   "metadata": {},
   "outputs": [],
   "source": [
    "df24 = df24.iloc[1:]"
   ]
  },
  {
   "cell_type": "code",
   "execution_count": 495,
   "metadata": {},
   "outputs": [],
   "source": [
    "df24 = df24.drop(['Ward'], axis = 1)"
   ]
  },
  {
   "cell_type": "code",
   "execution_count": 496,
   "metadata": {},
   "outputs": [],
   "source": [
    "df24['HOD_DIST'] = '24'"
   ]
  },
  {
   "cell_type": "code",
   "execution_count": 497,
   "metadata": {},
   "outputs": [
    {
     "data": {
      "text/plain": [
       "7"
      ]
     },
     "execution_count": 497,
     "metadata": {},
     "output_type": "execute_result"
    }
   ],
   "source": [
    "df24['County/City'].nunique()"
   ]
  },
  {
   "cell_type": "code",
   "execution_count": 498,
   "metadata": {},
   "outputs": [],
   "source": [
    "df24['LOCALITY'] = df24['County/City']\n",
    "df24['S18HODREP'] = df24['Ronnie Ray Campbell']\n",
    "df24['S18HODDEM'] = df24['Christian Renau Worth']\n",
    "df24['S18HODWRI'] = df24['All Others']\n",
    "df24 = df24.drop(['County/City', 'Ronnie Ray Campbell', 'Christian Renau Worth', 'All Others'], axis = 1)"
   ]
  },
  {
   "cell_type": "code",
   "execution_count": 442,
   "metadata": {},
   "outputs": [],
   "source": [
    "#df24 = rename_columns(df24, column_dict)"
   ]
  },
  {
   "cell_type": "code",
   "execution_count": 499,
   "metadata": {},
   "outputs": [],
   "source": [
    "df24['COUNTYFP'] = df24['LOCALITY'].map(county_dict)"
   ]
  },
  {
   "cell_type": "code",
   "execution_count": 500,
   "metadata": {},
   "outputs": [
    {
     "data": {
      "text/plain": [
       "7"
      ]
     },
     "execution_count": 500,
     "metadata": {},
     "output_type": "execute_result"
    }
   ],
   "source": [
    "df24['LOCALITY'].nunique()"
   ]
  },
  {
   "cell_type": "code",
   "execution_count": 501,
   "metadata": {},
   "outputs": [
    {
     "data": {
      "text/plain": [
       "6"
      ]
     },
     "execution_count": 501,
     "metadata": {},
     "output_type": "execute_result"
    }
   ],
   "source": [
    "df24['COUNTYFP'].nunique()"
   ]
  },
  {
   "cell_type": "code",
   "execution_count": 502,
   "metadata": {},
   "outputs": [
    {
     "data": {
      "text/plain": [
       "163    19\n",
       "009    11\n",
       "017     9\n",
       "015     8\n",
       "530     3\n",
       "678     3\n",
       "Name: COUNTYFP, dtype: int64"
      ]
     },
     "execution_count": 502,
     "metadata": {},
     "output_type": "execute_result"
    }
   ],
   "source": [
    "df24['COUNTYFP'].value_counts()"
   ]
  },
  {
   "cell_type": "code",
   "execution_count": 447,
   "metadata": {},
   "outputs": [
    {
     "data": {
      "text/plain": [
       "161    15\n",
       "775    12\n",
       "045     9\n",
       "121     8\n",
       "Name: COUNTYFP, dtype: int64"
      ]
     },
     "execution_count": 447,
     "metadata": {},
     "output_type": "execute_result"
    }
   ],
   "source": [
    "df8.COUNTYFP.value_counts()"
   ]
  },
  {
   "cell_type": "code",
   "execution_count": 503,
   "metadata": {},
   "outputs": [],
   "source": [
    "df24['S18HODREP'] = df24['S18HODREP'].map(lambda x: str(x).replace(',', ''))\n",
    "df24['S18HODDEM'] = df24['S18HODDEM'].map(lambda x: str(x).replace(',', '')) \n",
    "df24['S18HODWRI'] = df24['S18HODWRI'].map(lambda x: str(x).replace(',', ''))\n",
    "df24['S18HODREP'] = df24['S18HODREP'].astype(str).astype(float).astype(int)\n",
    "df24['S18HODDEM'] = df24['S18HODDEM'].astype(str).astype(float).astype(int)\n",
    "df24['S18HODWRI'] = df24['S18HODWRI'].astype(str).astype(float).astype(int)"
   ]
  },
  {
   "cell_type": "code",
   "execution_count": 505,
   "metadata": {},
   "outputs": [
    {
     "data": {
      "text/html": [
       "<div>\n",
       "<style scoped>\n",
       "    .dataframe tbody tr th:only-of-type {\n",
       "        vertical-align: middle;\n",
       "    }\n",
       "\n",
       "    .dataframe tbody tr th {\n",
       "        vertical-align: top;\n",
       "    }\n",
       "\n",
       "    .dataframe thead th {\n",
       "        text-align: right;\n",
       "    }\n",
       "</style>\n",
       "<table border=\"1\" class=\"dataframe\">\n",
       "  <thead>\n",
       "    <tr style=\"text-align: right;\">\n",
       "      <th></th>\n",
       "      <th>S18HODREP</th>\n",
       "      <th>S18HODDEM</th>\n",
       "      <th>S18HODWRI</th>\n",
       "    </tr>\n",
       "    <tr>\n",
       "      <th>COUNTYFP</th>\n",
       "      <th></th>\n",
       "      <th></th>\n",
       "      <th></th>\n",
       "    </tr>\n",
       "  </thead>\n",
       "  <tbody>\n",
       "    <tr>\n",
       "      <th>009</th>\n",
       "      <td>1659</td>\n",
       "      <td>844</td>\n",
       "      <td>45</td>\n",
       "    </tr>\n",
       "    <tr>\n",
       "      <th>015</th>\n",
       "      <td>1369</td>\n",
       "      <td>465</td>\n",
       "      <td>1</td>\n",
       "    </tr>\n",
       "    <tr>\n",
       "      <th>017</th>\n",
       "      <td>360</td>\n",
       "      <td>227</td>\n",
       "      <td>0</td>\n",
       "    </tr>\n",
       "    <tr>\n",
       "      <th>163</th>\n",
       "      <td>2560</td>\n",
       "      <td>1861</td>\n",
       "      <td>17</td>\n",
       "    </tr>\n",
       "    <tr>\n",
       "      <th>530</th>\n",
       "      <td>385</td>\n",
       "      <td>236</td>\n",
       "      <td>0</td>\n",
       "    </tr>\n",
       "    <tr>\n",
       "      <th>678</th>\n",
       "      <td>287</td>\n",
       "      <td>853</td>\n",
       "      <td>4</td>\n",
       "    </tr>\n",
       "  </tbody>\n",
       "</table>\n",
       "</div>"
      ],
      "text/plain": [
       "          S18HODREP  S18HODDEM  S18HODWRI\n",
       "COUNTYFP                                 \n",
       "009            1659        844         45\n",
       "015            1369        465          1\n",
       "017             360        227          0\n",
       "163            2560       1861         17\n",
       "530             385        236          0\n",
       "678             287        853          4"
      ]
     },
     "execution_count": 505,
     "metadata": {},
     "output_type": "execute_result"
    }
   ],
   "source": [
    "df24.groupby(['COUNTYFP']).sum()"
   ]
  },
  {
   "cell_type": "code",
   "execution_count": 506,
   "metadata": {},
   "outputs": [
    {
     "data": {
      "text/plain": [
       "10"
      ]
     },
     "execution_count": 506,
     "metadata": {},
     "output_type": "execute_result"
    }
   ],
   "source": [
    "df8.COUNTYFP.nunique() + df24.COUNTYFP.nunique()"
   ]
  },
  {
   "cell_type": "code",
   "execution_count": 507,
   "metadata": {},
   "outputs": [
    {
     "data": {
      "text/plain": [
       "161    15\n",
       "775    12\n",
       "045     9\n",
       "121     8\n",
       "Name: COUNTYFP, dtype: int64"
      ]
     },
     "execution_count": 507,
     "metadata": {},
     "output_type": "execute_result"
    }
   ],
   "source": [
    "df8.COUNTYFP.value_counts()"
   ]
  },
  {
   "cell_type": "code",
   "execution_count": 508,
   "metadata": {},
   "outputs": [
    {
     "data": {
      "text/plain": [
       "10"
      ]
     },
     "execution_count": 508,
     "metadata": {},
     "output_type": "execute_result"
    }
   ],
   "source": [
    "final.COUNTYFP.nunique()"
   ]
  },
  {
   "cell_type": "code",
   "execution_count": 509,
   "metadata": {},
   "outputs": [
    {
     "data": {
      "text/plain": [
       "024    42\n",
       "008    37\n",
       "Name: HOD_DIST, dtype: int64"
      ]
     },
     "execution_count": 509,
     "metadata": {},
     "output_type": "execute_result"
    }
   ],
   "source": [
    "final.HOD_DIST.value_counts()"
   ]
  },
  {
   "cell_type": "markdown",
   "metadata": {},
   "source": [
    "### Districts 24 and 8 together"
   ]
  },
  {
   "cell_type": "code",
   "execution_count": 510,
   "metadata": {},
   "outputs": [],
   "source": [
    "elections = []\n",
    "elections.append(df24)\n",
    "elections.append(df8)"
   ]
  },
  {
   "cell_type": "code",
   "execution_count": 516,
   "metadata": {},
   "outputs": [],
   "source": [
    "df = pd.concat(elections, axis = 0)"
   ]
  },
  {
   "cell_type": "code",
   "execution_count": 517,
   "metadata": {},
   "outputs": [],
   "source": [
    "df = df[df['LOCALITY'] != 'TOTALS']"
   ]
  },
  {
   "cell_type": "code",
   "execution_count": 534,
   "metadata": {},
   "outputs": [],
   "source": [
    "df = df.reset_index()"
   ]
  },
  {
   "cell_type": "markdown",
   "metadata": {},
   "source": [
    "## Reallocate absentee votes"
   ]
  },
  {
   "cell_type": "code",
   "execution_count": 535,
   "metadata": {},
   "outputs": [],
   "source": [
    "def get_absentee_frac(prec_tot, county_tot, absentee_tot):\n",
    "    '''A spec specifies in first line what function will do\n",
    "    Returns fraction of county absentee votes for a precinct for a candidate\n",
    "    \n",
    "    Keyword arguments: (put inputs to funtions and say what they should be)\n",
    "    precinct vote total for given candidate (int)\n",
    "    county vote total for given candidate, absentee and provisional votes not included (int)\n",
    "    absentee vote total for county for given candidate (int)\n",
    "    \n",
    "    \"Pure function\" bc only relies on inputs and outputs - only variables are ones that were passed as arguments\n",
    "    '''\n",
    "    if county_tot != 0:\n",
    "        prec_frac = prec_tot/county_tot\n",
    "        absentee_frac = prec_frac*absentee_tot\n",
    "    else:\n",
    "        absentee_frac = 0\n",
    "    return absentee_frac"
   ]
  },
  {
   "cell_type": "code",
   "execution_count": 536,
   "metadata": {},
   "outputs": [
    {
     "data": {
      "text/html": [
       "<div>\n",
       "<style scoped>\n",
       "    .dataframe tbody tr th:only-of-type {\n",
       "        vertical-align: middle;\n",
       "    }\n",
       "\n",
       "    .dataframe tbody tr th {\n",
       "        vertical-align: top;\n",
       "    }\n",
       "\n",
       "    .dataframe thead th {\n",
       "        text-align: right;\n",
       "    }\n",
       "</style>\n",
       "<table border=\"1\" class=\"dataframe\">\n",
       "  <thead>\n",
       "    <tr style=\"text-align: right;\">\n",
       "      <th></th>\n",
       "      <th>level_0</th>\n",
       "      <th>index</th>\n",
       "      <th>Pct</th>\n",
       "      <th>Total Votes Cast</th>\n",
       "      <th>HOD_DIST</th>\n",
       "      <th>LOCALITY</th>\n",
       "      <th>S18HODREP</th>\n",
       "      <th>S18HODDEM</th>\n",
       "      <th>S18HODWRI</th>\n",
       "      <th>COUNTYFP</th>\n",
       "    </tr>\n",
       "  </thead>\n",
       "  <tbody>\n",
       "    <tr>\n",
       "      <th>9</th>\n",
       "      <td>9</td>\n",
       "      <td>10</td>\n",
       "      <td>Ab - Central Absentee Precinct</td>\n",
       "      <td>66</td>\n",
       "      <td>24</td>\n",
       "      <td>Amherst County</td>\n",
       "      <td>40</td>\n",
       "      <td>25</td>\n",
       "      <td>1</td>\n",
       "      <td>009</td>\n",
       "    </tr>\n",
       "    <tr>\n",
       "      <th>10</th>\n",
       "      <td>10</td>\n",
       "      <td>11</td>\n",
       "      <td>Provisional</td>\n",
       "      <td>2</td>\n",
       "      <td>24</td>\n",
       "      <td>Amherst County</td>\n",
       "      <td>1</td>\n",
       "      <td>1</td>\n",
       "      <td>0</td>\n",
       "      <td>009</td>\n",
       "    </tr>\n",
       "    <tr>\n",
       "      <th>17</th>\n",
       "      <td>17</td>\n",
       "      <td>18</td>\n",
       "      <td>Ab - Central Absentee Precinct</td>\n",
       "      <td>24</td>\n",
       "      <td>24</td>\n",
       "      <td>Augusta County</td>\n",
       "      <td>18</td>\n",
       "      <td>6</td>\n",
       "      <td>0</td>\n",
       "      <td>015</td>\n",
       "    </tr>\n",
       "    <tr>\n",
       "      <th>18</th>\n",
       "      <td>18</td>\n",
       "      <td>19</td>\n",
       "      <td>Provisional</td>\n",
       "      <td>1</td>\n",
       "      <td>24</td>\n",
       "      <td>Augusta County</td>\n",
       "      <td>1</td>\n",
       "      <td>0</td>\n",
       "      <td>0</td>\n",
       "      <td>015</td>\n",
       "    </tr>\n",
       "    <tr>\n",
       "      <th>26</th>\n",
       "      <td>26</td>\n",
       "      <td>27</td>\n",
       "      <td>Ab - Central Absentee Precinct</td>\n",
       "      <td>20</td>\n",
       "      <td>24</td>\n",
       "      <td>Bath County</td>\n",
       "      <td>7</td>\n",
       "      <td>13</td>\n",
       "      <td>0</td>\n",
       "      <td>017</td>\n",
       "    </tr>\n",
       "    <tr>\n",
       "      <th>27</th>\n",
       "      <td>27</td>\n",
       "      <td>28</td>\n",
       "      <td>Provisional</td>\n",
       "      <td>0</td>\n",
       "      <td>24</td>\n",
       "      <td>Bath County</td>\n",
       "      <td>0</td>\n",
       "      <td>0</td>\n",
       "      <td>0</td>\n",
       "      <td>017</td>\n",
       "    </tr>\n",
       "    <tr>\n",
       "      <th>30</th>\n",
       "      <td>30</td>\n",
       "      <td>31</td>\n",
       "      <td>Provisional</td>\n",
       "      <td>0</td>\n",
       "      <td>24</td>\n",
       "      <td>Buena Vista City</td>\n",
       "      <td>0</td>\n",
       "      <td>0</td>\n",
       "      <td>0</td>\n",
       "      <td>530</td>\n",
       "    </tr>\n",
       "    <tr>\n",
       "      <th>32</th>\n",
       "      <td>32</td>\n",
       "      <td>33</td>\n",
       "      <td>Ab - Central Absentee Precinct</td>\n",
       "      <td>91</td>\n",
       "      <td>24</td>\n",
       "      <td>Lexington City</td>\n",
       "      <td>27</td>\n",
       "      <td>62</td>\n",
       "      <td>2</td>\n",
       "      <td>678</td>\n",
       "    </tr>\n",
       "    <tr>\n",
       "      <th>33</th>\n",
       "      <td>33</td>\n",
       "      <td>34</td>\n",
       "      <td>Provisional</td>\n",
       "      <td>0</td>\n",
       "      <td>24</td>\n",
       "      <td>Lexington City</td>\n",
       "      <td>0</td>\n",
       "      <td>0</td>\n",
       "      <td>0</td>\n",
       "      <td>678</td>\n",
       "    </tr>\n",
       "    <tr>\n",
       "      <th>51</th>\n",
       "      <td>51</td>\n",
       "      <td>52</td>\n",
       "      <td>Ab - Central Absentee Precinct</td>\n",
       "      <td>151</td>\n",
       "      <td>24</td>\n",
       "      <td>Rockbridge County</td>\n",
       "      <td>78</td>\n",
       "      <td>73</td>\n",
       "      <td>0</td>\n",
       "      <td>163</td>\n",
       "    </tr>\n",
       "    <tr>\n",
       "      <th>52</th>\n",
       "      <td>52</td>\n",
       "      <td>53</td>\n",
       "      <td>Provisional</td>\n",
       "      <td>2</td>\n",
       "      <td>24</td>\n",
       "      <td>Rockbridge County</td>\n",
       "      <td>0</td>\n",
       "      <td>2</td>\n",
       "      <td>0</td>\n",
       "      <td>163</td>\n",
       "    </tr>\n",
       "    <tr>\n",
       "      <th>61</th>\n",
       "      <td>61</td>\n",
       "      <td>9</td>\n",
       "      <td>Provisional</td>\n",
       "      <td>0</td>\n",
       "      <td>8</td>\n",
       "      <td>Craig County</td>\n",
       "      <td>0</td>\n",
       "      <td>0</td>\n",
       "      <td>0</td>\n",
       "      <td>045</td>\n",
       "    </tr>\n",
       "    <tr>\n",
       "      <th>68</th>\n",
       "      <td>68</td>\n",
       "      <td>16</td>\n",
       "      <td>Ab - Central Absentee Precinct</td>\n",
       "      <td>386</td>\n",
       "      <td>8</td>\n",
       "      <td>Montgomery County</td>\n",
       "      <td>169</td>\n",
       "      <td>217</td>\n",
       "      <td>0</td>\n",
       "      <td>121</td>\n",
       "    </tr>\n",
       "    <tr>\n",
       "      <th>69</th>\n",
       "      <td>69</td>\n",
       "      <td>17</td>\n",
       "      <td>Provisional</td>\n",
       "      <td>1</td>\n",
       "      <td>8</td>\n",
       "      <td>Montgomery County</td>\n",
       "      <td>1</td>\n",
       "      <td>0</td>\n",
       "      <td>0</td>\n",
       "      <td>121</td>\n",
       "    </tr>\n",
       "    <tr>\n",
       "      <th>83</th>\n",
       "      <td>83</td>\n",
       "      <td>31</td>\n",
       "      <td>Ab - Central Absentee Precinct</td>\n",
       "      <td>1,278</td>\n",
       "      <td>8</td>\n",
       "      <td>Roanoke County</td>\n",
       "      <td>715</td>\n",
       "      <td>562</td>\n",
       "      <td>1</td>\n",
       "      <td>161</td>\n",
       "    </tr>\n",
       "    <tr>\n",
       "      <th>84</th>\n",
       "      <td>84</td>\n",
       "      <td>32</td>\n",
       "      <td>Provisional</td>\n",
       "      <td>9</td>\n",
       "      <td>8</td>\n",
       "      <td>Roanoke County</td>\n",
       "      <td>7</td>\n",
       "      <td>2</td>\n",
       "      <td>0</td>\n",
       "      <td>161</td>\n",
       "    </tr>\n",
       "    <tr>\n",
       "      <th>95</th>\n",
       "      <td>95</td>\n",
       "      <td>43</td>\n",
       "      <td>Ab - Central Absentee Precinct</td>\n",
       "      <td>729</td>\n",
       "      <td>8</td>\n",
       "      <td>Salem City</td>\n",
       "      <td>424</td>\n",
       "      <td>304</td>\n",
       "      <td>1</td>\n",
       "      <td>775</td>\n",
       "    </tr>\n",
       "    <tr>\n",
       "      <th>96</th>\n",
       "      <td>96</td>\n",
       "      <td>44</td>\n",
       "      <td>Provisional</td>\n",
       "      <td>5</td>\n",
       "      <td>8</td>\n",
       "      <td>Salem City</td>\n",
       "      <td>4</td>\n",
       "      <td>1</td>\n",
       "      <td>0</td>\n",
       "      <td>775</td>\n",
       "    </tr>\n",
       "  </tbody>\n",
       "</table>\n",
       "</div>"
      ],
      "text/plain": [
       "    level_0  index                             Pct Total Votes Cast HOD_DIST  \\\n",
       "9         9     10  Ab - Central Absentee Precinct               66       24   \n",
       "10       10     11                     Provisional                2       24   \n",
       "17       17     18  Ab - Central Absentee Precinct               24       24   \n",
       "18       18     19                     Provisional                1       24   \n",
       "26       26     27  Ab - Central Absentee Precinct               20       24   \n",
       "27       27     28                     Provisional                0       24   \n",
       "30       30     31                     Provisional                0       24   \n",
       "32       32     33  Ab - Central Absentee Precinct               91       24   \n",
       "33       33     34                     Provisional                0       24   \n",
       "51       51     52  Ab - Central Absentee Precinct              151       24   \n",
       "52       52     53                     Provisional                2       24   \n",
       "61       61      9                     Provisional                0        8   \n",
       "68       68     16  Ab - Central Absentee Precinct              386        8   \n",
       "69       69     17                     Provisional                1        8   \n",
       "83       83     31  Ab - Central Absentee Precinct            1,278        8   \n",
       "84       84     32                     Provisional                9        8   \n",
       "95       95     43  Ab - Central Absentee Precinct              729        8   \n",
       "96       96     44                     Provisional                5        8   \n",
       "\n",
       "             LOCALITY  S18HODREP  S18HODDEM  S18HODWRI COUNTYFP  \n",
       "9      Amherst County         40         25          1      009  \n",
       "10     Amherst County          1          1          0      009  \n",
       "17     Augusta County         18          6          0      015  \n",
       "18     Augusta County          1          0          0      015  \n",
       "26        Bath County          7         13          0      017  \n",
       "27        Bath County          0          0          0      017  \n",
       "30   Buena Vista City          0          0          0      530  \n",
       "32     Lexington City         27         62          2      678  \n",
       "33     Lexington City          0          0          0      678  \n",
       "51  Rockbridge County         78         73          0      163  \n",
       "52  Rockbridge County          0          2          0      163  \n",
       "61       Craig County          0          0          0      045  \n",
       "68  Montgomery County        169        217          0      121  \n",
       "69  Montgomery County          1          0          0      121  \n",
       "83     Roanoke County        715        562          1      161  \n",
       "84     Roanoke County          7          2          0      161  \n",
       "95         Salem City        424        304          1      775  \n",
       "96         Salem City          4          1          0      775  "
      ]
     },
     "execution_count": 536,
     "metadata": {},
     "output_type": "execute_result"
    }
   ],
   "source": [
    "absentee_and_prov = df[(df['Pct'].map(lambda x: 'Absentee' in str(x))) | (df['Pct'].map(lambda x: 'Provisional' in str(x)))]\n",
    "absentee_and_prov"
   ]
  },
  {
   "cell_type": "code",
   "execution_count": 662,
   "metadata": {},
   "outputs": [
    {
     "data": {
      "text/plain": [
       "10"
      ]
     },
     "execution_count": 662,
     "metadata": {},
     "output_type": "execute_result"
    }
   ],
   "source": [
    "absentee_and_prov.COUNTYFP.nunique()"
   ]
  },
  {
   "cell_type": "code",
   "execution_count": 663,
   "metadata": {},
   "outputs": [
    {
     "data": {
      "text/plain": [
       "10"
      ]
     },
     "execution_count": 663,
     "metadata": {},
     "output_type": "execute_result"
    }
   ],
   "source": [
    "final.COUNTYFP.nunique()"
   ]
  },
  {
   "cell_type": "code",
   "execution_count": 537,
   "metadata": {},
   "outputs": [
    {
     "data": {
      "text/plain": [
       "2765"
      ]
     },
     "execution_count": 537,
     "metadata": {},
     "output_type": "execute_result"
    }
   ],
   "source": [
    "absentee_and_prov[column_list].sum().sum()"
   ]
  },
  {
   "cell_type": "code",
   "execution_count": 538,
   "metadata": {},
   "outputs": [
    {
     "data": {
      "text/html": [
       "<div>\n",
       "<style scoped>\n",
       "    .dataframe tbody tr th:only-of-type {\n",
       "        vertical-align: middle;\n",
       "    }\n",
       "\n",
       "    .dataframe tbody tr th {\n",
       "        vertical-align: top;\n",
       "    }\n",
       "\n",
       "    .dataframe thead th {\n",
       "        text-align: right;\n",
       "    }\n",
       "</style>\n",
       "<table border=\"1\" class=\"dataframe\">\n",
       "  <thead>\n",
       "    <tr style=\"text-align: right;\">\n",
       "      <th></th>\n",
       "      <th>level_0</th>\n",
       "      <th>index</th>\n",
       "      <th>S18HODREP</th>\n",
       "      <th>S18HODDEM</th>\n",
       "      <th>S18HODWRI</th>\n",
       "    </tr>\n",
       "    <tr>\n",
       "      <th>COUNTYFP</th>\n",
       "      <th></th>\n",
       "      <th></th>\n",
       "      <th></th>\n",
       "      <th></th>\n",
       "      <th></th>\n",
       "    </tr>\n",
       "  </thead>\n",
       "  <tbody>\n",
       "    <tr>\n",
       "      <th>009</th>\n",
       "      <td>19</td>\n",
       "      <td>21</td>\n",
       "      <td>41</td>\n",
       "      <td>26</td>\n",
       "      <td>1</td>\n",
       "    </tr>\n",
       "    <tr>\n",
       "      <th>015</th>\n",
       "      <td>35</td>\n",
       "      <td>37</td>\n",
       "      <td>19</td>\n",
       "      <td>6</td>\n",
       "      <td>0</td>\n",
       "    </tr>\n",
       "    <tr>\n",
       "      <th>017</th>\n",
       "      <td>53</td>\n",
       "      <td>55</td>\n",
       "      <td>7</td>\n",
       "      <td>13</td>\n",
       "      <td>0</td>\n",
       "    </tr>\n",
       "    <tr>\n",
       "      <th>045</th>\n",
       "      <td>61</td>\n",
       "      <td>9</td>\n",
       "      <td>0</td>\n",
       "      <td>0</td>\n",
       "      <td>0</td>\n",
       "    </tr>\n",
       "    <tr>\n",
       "      <th>121</th>\n",
       "      <td>137</td>\n",
       "      <td>33</td>\n",
       "      <td>170</td>\n",
       "      <td>217</td>\n",
       "      <td>0</td>\n",
       "    </tr>\n",
       "    <tr>\n",
       "      <th>161</th>\n",
       "      <td>167</td>\n",
       "      <td>63</td>\n",
       "      <td>722</td>\n",
       "      <td>564</td>\n",
       "      <td>1</td>\n",
       "    </tr>\n",
       "    <tr>\n",
       "      <th>163</th>\n",
       "      <td>103</td>\n",
       "      <td>105</td>\n",
       "      <td>78</td>\n",
       "      <td>75</td>\n",
       "      <td>0</td>\n",
       "    </tr>\n",
       "    <tr>\n",
       "      <th>530</th>\n",
       "      <td>30</td>\n",
       "      <td>31</td>\n",
       "      <td>0</td>\n",
       "      <td>0</td>\n",
       "      <td>0</td>\n",
       "    </tr>\n",
       "    <tr>\n",
       "      <th>678</th>\n",
       "      <td>65</td>\n",
       "      <td>67</td>\n",
       "      <td>27</td>\n",
       "      <td>62</td>\n",
       "      <td>2</td>\n",
       "    </tr>\n",
       "    <tr>\n",
       "      <th>775</th>\n",
       "      <td>191</td>\n",
       "      <td>87</td>\n",
       "      <td>428</td>\n",
       "      <td>305</td>\n",
       "      <td>1</td>\n",
       "    </tr>\n",
       "  </tbody>\n",
       "</table>\n",
       "</div>"
      ],
      "text/plain": [
       "          level_0  index  S18HODREP  S18HODDEM  S18HODWRI\n",
       "COUNTYFP                                                 \n",
       "009            19     21         41         26          1\n",
       "015            35     37         19          6          0\n",
       "017            53     55          7         13          0\n",
       "045            61      9          0          0          0\n",
       "121           137     33        170        217          0\n",
       "161           167     63        722        564          1\n",
       "163           103    105         78         75          0\n",
       "530            30     31          0          0          0\n",
       "678            65     67         27         62          2\n",
       "775           191     87        428        305          1"
      ]
     },
     "execution_count": 538,
     "metadata": {},
     "output_type": "execute_result"
    }
   ],
   "source": [
    "groupby_absentee_and_prov_tot = absentee_and_prov.groupby(['COUNTYFP']).sum()\n",
    "groupby_absentee_and_prov_tot"
   ]
  },
  {
   "cell_type": "code",
   "execution_count": 664,
   "metadata": {},
   "outputs": [],
   "source": [
    "groupby_county_df_tot = df.groupby(['COUNTYFP']).sum()\n",
    "df_no_absent_or_provisional = df[(df['Pct'].map(lambda x: 'Absentee' not in str(x))) & (df['Pct'].map(lambda x: 'Provisional' not in str(x)))\n",
    "                                & (df['LOCALITY'] != 'TOTALS')] #NOT SURE WHY I HAD THIS IN HERE BEFORE???: & (df['COUNTYFP'] != '009')]\n",
    "groupby_county_tot_no_absentee = df_no_absent_or_provisional.groupby('COUNTYFP').sum()"
   ]
  },
  {
   "cell_type": "code",
   "execution_count": 665,
   "metadata": {},
   "outputs": [
    {
     "data": {
      "text/plain": [
       "43551"
      ]
     },
     "execution_count": 665,
     "metadata": {},
     "output_type": "execute_result"
    }
   ],
   "source": [
    "df_no_absent_or_provisional[column_list].sum().sum()"
   ]
  },
  {
   "cell_type": "code",
   "execution_count": 666,
   "metadata": {},
   "outputs": [
    {
     "data": {
      "text/html": [
       "<div>\n",
       "<style scoped>\n",
       "    .dataframe tbody tr th:only-of-type {\n",
       "        vertical-align: middle;\n",
       "    }\n",
       "\n",
       "    .dataframe tbody tr th {\n",
       "        vertical-align: top;\n",
       "    }\n",
       "\n",
       "    .dataframe thead th {\n",
       "        text-align: right;\n",
       "    }\n",
       "</style>\n",
       "<table border=\"1\" class=\"dataframe\">\n",
       "  <thead>\n",
       "    <tr style=\"text-align: right;\">\n",
       "      <th></th>\n",
       "      <th>level_0</th>\n",
       "      <th>index</th>\n",
       "      <th>S18HODREP</th>\n",
       "      <th>S18HODDEM</th>\n",
       "      <th>S18HODWRI</th>\n",
       "    </tr>\n",
       "    <tr>\n",
       "      <th>COUNTYFP</th>\n",
       "      <th></th>\n",
       "      <th></th>\n",
       "      <th></th>\n",
       "      <th></th>\n",
       "      <th></th>\n",
       "    </tr>\n",
       "  </thead>\n",
       "  <tbody>\n",
       "    <tr>\n",
       "      <th>009</th>\n",
       "      <td>36</td>\n",
       "      <td>45</td>\n",
       "      <td>1618</td>\n",
       "      <td>818</td>\n",
       "      <td>44</td>\n",
       "    </tr>\n",
       "    <tr>\n",
       "      <th>015</th>\n",
       "      <td>81</td>\n",
       "      <td>87</td>\n",
       "      <td>1350</td>\n",
       "      <td>459</td>\n",
       "      <td>1</td>\n",
       "    </tr>\n",
       "    <tr>\n",
       "      <th>017</th>\n",
       "      <td>154</td>\n",
       "      <td>161</td>\n",
       "      <td>353</td>\n",
       "      <td>214</td>\n",
       "      <td>0</td>\n",
       "    </tr>\n",
       "    <tr>\n",
       "      <th>045</th>\n",
       "      <td>452</td>\n",
       "      <td>36</td>\n",
       "      <td>1666</td>\n",
       "      <td>519</td>\n",
       "      <td>1</td>\n",
       "    </tr>\n",
       "    <tr>\n",
       "      <th>121</th>\n",
       "      <td>387</td>\n",
       "      <td>75</td>\n",
       "      <td>3536</td>\n",
       "      <td>2738</td>\n",
       "      <td>16</td>\n",
       "    </tr>\n",
       "    <tr>\n",
       "      <th>161</th>\n",
       "      <td>988</td>\n",
       "      <td>312</td>\n",
       "      <td>9765</td>\n",
       "      <td>5348</td>\n",
       "      <td>22</td>\n",
       "    </tr>\n",
       "    <tr>\n",
       "      <th>163</th>\n",
       "      <td>714</td>\n",
       "      <td>731</td>\n",
       "      <td>2482</td>\n",
       "      <td>1786</td>\n",
       "      <td>17</td>\n",
       "    </tr>\n",
       "    <tr>\n",
       "      <th>530</th>\n",
       "      <td>57</td>\n",
       "      <td>59</td>\n",
       "      <td>385</td>\n",
       "      <td>236</td>\n",
       "      <td>0</td>\n",
       "    </tr>\n",
       "    <tr>\n",
       "      <th>678</th>\n",
       "      <td>31</td>\n",
       "      <td>32</td>\n",
       "      <td>260</td>\n",
       "      <td>791</td>\n",
       "      <td>2</td>\n",
       "    </tr>\n",
       "    <tr>\n",
       "      <th>775</th>\n",
       "      <td>895</td>\n",
       "      <td>375</td>\n",
       "      <td>5514</td>\n",
       "      <td>3601</td>\n",
       "      <td>9</td>\n",
       "    </tr>\n",
       "  </tbody>\n",
       "</table>\n",
       "</div>"
      ],
      "text/plain": [
       "          level_0  index  S18HODREP  S18HODDEM  S18HODWRI\n",
       "COUNTYFP                                                 \n",
       "009            36     45       1618        818         44\n",
       "015            81     87       1350        459          1\n",
       "017           154    161        353        214          0\n",
       "045           452     36       1666        519          1\n",
       "121           387     75       3536       2738         16\n",
       "161           988    312       9765       5348         22\n",
       "163           714    731       2482       1786         17\n",
       "530            57     59        385        236          0\n",
       "678            31     32        260        791          2\n",
       "775           895    375       5514       3601          9"
      ]
     },
     "execution_count": 666,
     "metadata": {},
     "output_type": "execute_result"
    }
   ],
   "source": [
    "groupby_county_tot_no_absentee"
   ]
  },
  {
   "cell_type": "code",
   "execution_count": 667,
   "metadata": {},
   "outputs": [
    {
     "data": {
      "text/html": [
       "<div>\n",
       "<style scoped>\n",
       "    .dataframe tbody tr th:only-of-type {\n",
       "        vertical-align: middle;\n",
       "    }\n",
       "\n",
       "    .dataframe tbody tr th {\n",
       "        vertical-align: top;\n",
       "    }\n",
       "\n",
       "    .dataframe thead th {\n",
       "        text-align: right;\n",
       "    }\n",
       "</style>\n",
       "<table border=\"1\" class=\"dataframe\">\n",
       "  <thead>\n",
       "    <tr style=\"text-align: right;\">\n",
       "      <th></th>\n",
       "      <th>level_0</th>\n",
       "      <th>index</th>\n",
       "      <th>Pct</th>\n",
       "      <th>Total Votes Cast</th>\n",
       "      <th>HOD_DIST</th>\n",
       "      <th>LOCALITY</th>\n",
       "      <th>S18HODREP</th>\n",
       "      <th>S18HODDEM</th>\n",
       "      <th>S18HODWRI</th>\n",
       "      <th>COUNTYFP</th>\n",
       "    </tr>\n",
       "  </thead>\n",
       "  <tbody>\n",
       "    <tr>\n",
       "      <th>0</th>\n",
       "      <td>0</td>\n",
       "      <td>1</td>\n",
       "      <td>102 - New Glasgow</td>\n",
       "      <td>280</td>\n",
       "      <td>24</td>\n",
       "      <td>Amherst County</td>\n",
       "      <td>164</td>\n",
       "      <td>114</td>\n",
       "      <td>2</td>\n",
       "      <td>009</td>\n",
       "    </tr>\n",
       "    <tr>\n",
       "      <th>1</th>\n",
       "      <td>1</td>\n",
       "      <td>2</td>\n",
       "      <td>103 - Coolwell</td>\n",
       "      <td>103</td>\n",
       "      <td>24</td>\n",
       "      <td>Amherst County</td>\n",
       "      <td>82</td>\n",
       "      <td>20</td>\n",
       "      <td>1</td>\n",
       "      <td>009</td>\n",
       "    </tr>\n",
       "    <tr>\n",
       "      <th>2</th>\n",
       "      <td>2</td>\n",
       "      <td>3</td>\n",
       "      <td>201 - Court House</td>\n",
       "      <td>671</td>\n",
       "      <td>24</td>\n",
       "      <td>Amherst County</td>\n",
       "      <td>397</td>\n",
       "      <td>261</td>\n",
       "      <td>13</td>\n",
       "      <td>009</td>\n",
       "    </tr>\n",
       "    <tr>\n",
       "      <th>3</th>\n",
       "      <td>3</td>\n",
       "      <td>4</td>\n",
       "      <td>202 - Temperance</td>\n",
       "      <td>199</td>\n",
       "      <td>24</td>\n",
       "      <td>Amherst County</td>\n",
       "      <td>137</td>\n",
       "      <td>59</td>\n",
       "      <td>3</td>\n",
       "      <td>009</td>\n",
       "    </tr>\n",
       "    <tr>\n",
       "      <th>4</th>\n",
       "      <td>4</td>\n",
       "      <td>5</td>\n",
       "      <td>301 - Monroe</td>\n",
       "      <td>230</td>\n",
       "      <td>24</td>\n",
       "      <td>Amherst County</td>\n",
       "      <td>159</td>\n",
       "      <td>66</td>\n",
       "      <td>5</td>\n",
       "      <td>009</td>\n",
       "    </tr>\n",
       "    <tr>\n",
       "      <th>...</th>\n",
       "      <td>...</td>\n",
       "      <td>...</td>\n",
       "      <td>...</td>\n",
       "      <td>...</td>\n",
       "      <td>...</td>\n",
       "      <td>...</td>\n",
       "      <td>...</td>\n",
       "      <td>...</td>\n",
       "      <td>...</td>\n",
       "      <td>...</td>\n",
       "    </tr>\n",
       "    <tr>\n",
       "      <th>92</th>\n",
       "      <td>92</td>\n",
       "      <td>40</td>\n",
       "      <td>8 - East Salem</td>\n",
       "      <td>334</td>\n",
       "      <td>8</td>\n",
       "      <td>Salem City</td>\n",
       "      <td>198</td>\n",
       "      <td>136</td>\n",
       "      <td>0</td>\n",
       "      <td>775</td>\n",
       "    </tr>\n",
       "    <tr>\n",
       "      <th>93</th>\n",
       "      <td>93</td>\n",
       "      <td>41</td>\n",
       "      <td>9 - South Side Hills</td>\n",
       "      <td>1,247</td>\n",
       "      <td>8</td>\n",
       "      <td>Salem City</td>\n",
       "      <td>834</td>\n",
       "      <td>413</td>\n",
       "      <td>0</td>\n",
       "      <td>775</td>\n",
       "    </tr>\n",
       "    <tr>\n",
       "      <th>94</th>\n",
       "      <td>94</td>\n",
       "      <td>42</td>\n",
       "      <td>10 - Hidden Valley</td>\n",
       "      <td>1,367</td>\n",
       "      <td>8</td>\n",
       "      <td>Salem City</td>\n",
       "      <td>830</td>\n",
       "      <td>536</td>\n",
       "      <td>1</td>\n",
       "      <td>775</td>\n",
       "    </tr>\n",
       "    <tr>\n",
       "      <th>95</th>\n",
       "      <td>95</td>\n",
       "      <td>43</td>\n",
       "      <td>Ab - Central Absentee Precinct</td>\n",
       "      <td>729</td>\n",
       "      <td>8</td>\n",
       "      <td>Salem City</td>\n",
       "      <td>424</td>\n",
       "      <td>304</td>\n",
       "      <td>1</td>\n",
       "      <td>775</td>\n",
       "    </tr>\n",
       "    <tr>\n",
       "      <th>96</th>\n",
       "      <td>96</td>\n",
       "      <td>44</td>\n",
       "      <td>Provisional</td>\n",
       "      <td>5</td>\n",
       "      <td>8</td>\n",
       "      <td>Salem City</td>\n",
       "      <td>4</td>\n",
       "      <td>1</td>\n",
       "      <td>0</td>\n",
       "      <td>775</td>\n",
       "    </tr>\n",
       "  </tbody>\n",
       "</table>\n",
       "<p>97 rows × 10 columns</p>\n",
       "</div>"
      ],
      "text/plain": [
       "    level_0  index                             Pct Total Votes Cast HOD_DIST  \\\n",
       "0         0      1               102 - New Glasgow              280       24   \n",
       "1         1      2                  103 - Coolwell              103       24   \n",
       "2         2      3               201 - Court House              671       24   \n",
       "3         3      4                202 - Temperance              199       24   \n",
       "4         4      5                    301 - Monroe              230       24   \n",
       "..      ...    ...                             ...              ...      ...   \n",
       "92       92     40                  8 - East Salem              334        8   \n",
       "93       93     41            9 - South Side Hills            1,247        8   \n",
       "94       94     42              10 - Hidden Valley            1,367        8   \n",
       "95       95     43  Ab - Central Absentee Precinct              729        8   \n",
       "96       96     44                     Provisional                5        8   \n",
       "\n",
       "          LOCALITY  S18HODREP  S18HODDEM  S18HODWRI COUNTYFP  \n",
       "0   Amherst County        164        114          2      009  \n",
       "1   Amherst County         82         20          1      009  \n",
       "2   Amherst County        397        261         13      009  \n",
       "3   Amherst County        137         59          3      009  \n",
       "4   Amherst County        159         66          5      009  \n",
       "..             ...        ...        ...        ...      ...  \n",
       "92      Salem City        198        136          0      775  \n",
       "93      Salem City        834        413          0      775  \n",
       "94      Salem City        830        536          1      775  \n",
       "95      Salem City        424        304          1      775  \n",
       "96      Salem City          4          1          0      775  \n",
       "\n",
       "[97 rows x 10 columns]"
      ]
     },
     "execution_count": 667,
     "metadata": {},
     "output_type": "execute_result"
    }
   ],
   "source": [
    "df.fillna(0)"
   ]
  },
  {
   "cell_type": "code",
   "execution_count": 668,
   "metadata": {},
   "outputs": [],
   "source": [
    "df_with_absentee_reallocated = df_no_absent_or_provisional.copy()\n",
    "for index, precinct_total_row_by_candidate in df_no_absent_or_provisional.iterrows():\n",
    "    #print(precinct_total_row_by_candidate)\n",
    "    county_fips = precinct_total_row_by_candidate['COUNTYFP']\n",
    "    county_total_row_by_candidate_no_absentee = groupby_county_tot_no_absentee.loc[county_fips]\n",
    "    county_absentee_and_provisional_by_candidate = groupby_absentee_and_prov_tot.loc[county_fips]\n",
    "    #print(precinct_total_row_by_candidate, county_total_row_by_candidate_no_absentee, county_absentee_and_provisional_by_candidate)\n",
    "    for candidate, votes in county_total_row_by_candidate_no_absentee.to_dict().items():\n",
    "        prec_tot = precinct_total_row_by_candidate[candidate]\n",
    "        #print('precinct total: ', prec_tot)\n",
    "        county_tot = votes\n",
    "        #print('county total: ', county_tot)\n",
    "        absentee_tot = county_absentee_and_provisional_by_candidate[candidate]\n",
    "        #print('absentee total: ', absentee_tot)\n",
    "        absentee_frac = get_absentee_frac(prec_tot, county_tot, absentee_tot)\n",
    "        #print('absentee votes to allocate to precinct: ', absentee_frac)\n",
    "        prec_with_absentee_allocation = prec_tot + absentee_frac\n",
    "        #print('new precinct total: ', prec_with_absentee_allocation)\n",
    "        df_with_absentee_reallocated.loc[index, candidate] = round(prec_with_absentee_allocation) #index is row, candidate is column"
   ]
  },
  {
   "cell_type": "code",
   "execution_count": 669,
   "metadata": {},
   "outputs": [
    {
     "data": {
      "text/plain": [
       "(79, 10)"
      ]
     },
     "execution_count": 669,
     "metadata": {},
     "output_type": "execute_result"
    }
   ],
   "source": [
    "df_with_absentee_reallocated.shape"
   ]
  },
  {
   "cell_type": "code",
   "execution_count": 670,
   "metadata": {},
   "outputs": [
    {
     "data": {
      "text/plain": [
       "163    17\n",
       "161    13\n",
       "775    10\n",
       "009     9\n",
       "045     8\n",
       "017     7\n",
       "015     6\n",
       "121     6\n",
       "530     2\n",
       "678     1\n",
       "Name: COUNTYFP, dtype: int64"
      ]
     },
     "execution_count": 670,
     "metadata": {},
     "output_type": "execute_result"
    }
   ],
   "source": [
    "df_with_absentee_reallocated.COUNTYFP.value_counts()"
   ]
  },
  {
   "cell_type": "code",
   "execution_count": 672,
   "metadata": {},
   "outputs": [
    {
     "data": {
      "text/plain": [
       "(79, 10)"
      ]
     },
     "execution_count": 672,
     "metadata": {},
     "output_type": "execute_result"
    }
   ],
   "source": [
    "final.shape"
   ]
  },
  {
   "cell_type": "markdown",
   "metadata": {},
   "source": [
    "## Check columns sums"
   ]
  },
  {
   "cell_type": "code",
   "execution_count": 673,
   "metadata": {},
   "outputs": [],
   "source": [
    "groupby_county_final = final.groupby('COUNTYFP').sum()\n",
    "groupby_df_with_absentee_reallocated = df_with_absentee_reallocated.groupby('COUNTYFP').sum()\n",
    "df_absentee_reallocate_with_final = pd.merge(groupby_df_with_absentee_reallocated, groupby_county_final, on = 'COUNTYFP', how = 'inner', suffixes = ('_x', '_y'))"
   ]
  },
  {
   "cell_type": "code",
   "execution_count": 676,
   "metadata": {},
   "outputs": [],
   "source": [
    "def sum_checker(df, column_list):\n",
    "    list_max = 0\n",
    "    for i in column_list:\n",
    "        left_sum = df[i+'_x'].sum()\n",
    "        right_sum = df[i+'_y'].sum()\n",
    "        if (left_sum == right_sum):\n",
    "            print('column: ', i, ' have the same sums')\n",
    "        \n",
    "        else:\n",
    "            diff = abs(left_sum - right_sum)\n",
    "            percent = abs(left_sum - right_sum)/left_sum\n",
    "            print('column: ', i)\n",
    "            print('RDH sum is ', str(left_sum))\n",
    "            print('Partner sum is ', str(right_sum))\n",
    "            print('their (absolute) difference is ', str(diff))\n",
    "            print('As a percentage of DF1 this is ', str(round(percent*100,5)) + '%')\n",
    "            if (percent>list_max):\n",
    "                list_max = percent\n",
    "            print('')\n",
    "    print('The max difference (as a percent of the total of on DF column is: ', str(round(list_max,5)))"
   ]
  },
  {
   "cell_type": "code",
   "execution_count": 677,
   "metadata": {},
   "outputs": [
    {
     "name": "stdout",
     "output_type": "stream",
     "text": [
      "column:  S18HODDEM\n",
      "RDH sum is  17779.0\n",
      "Partner sum is  17778\n",
      "their (absolute) difference is  1.0\n",
      "As a percentage of DF1 this is  0.00562%\n",
      "\n",
      "column:  S18HODREP\n",
      "RDH sum is  28418.0\n",
      "Partner sum is  28421\n",
      "their (absolute) difference is  3.0\n",
      "As a percentage of DF1 this is  0.01056%\n",
      "\n",
      "column:  S18HODWRI\n",
      "RDH sum is  114.0\n",
      "Partner sum is  117\n",
      "their (absolute) difference is  3.0\n",
      "As a percentage of DF1 this is  2.63158%\n",
      "\n",
      "The max difference (as a percent of the total of on DF column is:  0.02632\n"
     ]
    }
   ],
   "source": [
    "sum_checker(df_absentee_reallocate_with_final, column_list)"
   ]
  },
  {
   "cell_type": "code",
   "execution_count": 680,
   "metadata": {},
   "outputs": [
    {
     "data": {
      "text/plain": [
       "79"
      ]
     },
     "execution_count": 680,
     "metadata": {},
     "output_type": "execute_result"
    }
   ],
   "source": [
    "(df_with_absentee_reallocated.COUNTYFP + df_with_absentee_reallocated.Pct.str.slice(stop = 3)).nunique()"
   ]
  },
  {
   "cell_type": "code",
   "execution_count": 681,
   "metadata": {},
   "outputs": [
    {
     "data": {
      "text/plain": [
       "(79, 10)"
      ]
     },
     "execution_count": 681,
     "metadata": {},
     "output_type": "execute_result"
    }
   ],
   "source": [
    "df_with_absentee_reallocated.shape"
   ]
  },
  {
   "cell_type": "code",
   "execution_count": 682,
   "metadata": {},
   "outputs": [
    {
     "data": {
      "text/plain": [
       "79"
      ]
     },
     "execution_count": 682,
     "metadata": {},
     "output_type": "execute_result"
    }
   ],
   "source": [
    "(final.COUNTYFP + final.VTDST.str.slice(start = 3)).nunique()"
   ]
  },
  {
   "cell_type": "markdown",
   "metadata": {},
   "source": [
    "### Create unique ID to enable merge"
   ]
  },
  {
   "cell_type": "code",
   "execution_count": 683,
   "metadata": {},
   "outputs": [
    {
     "data": {
      "text/plain": [
       "{'5301 -',\n",
       " '5302 -',\n",
       " '6781 -',\n",
       " '7751 -',\n",
       " '77510 ',\n",
       " '7752 -',\n",
       " '7753 -',\n",
       " '7754 -',\n",
       " '7755 -',\n",
       " '7756 -',\n",
       " '7757 -',\n",
       " '7758 -',\n",
       " '7759 -'}"
      ]
     },
     "execution_count": 683,
     "metadata": {},
     "output_type": "execute_result"
    }
   ],
   "source": [
    "set(df_with_absentee_reallocated.COUNTYFP + df_with_absentee_reallocated.Pct.str.slice(stop = 3)) - set(final.COUNTYFP + final.VTDST.str.slice(start = 3))"
   ]
  },
  {
   "cell_type": "code",
   "execution_count": 684,
   "metadata": {},
   "outputs": [],
   "source": [
    "def vtdst_changer(vtdst):\n",
    "    if (vtdst[1:3] == ' -'):\n",
    "        two_lead_zero = '00' + vtdst[:1]\n",
    "        return two_lead_zero\n",
    "    elif (vtdst[1:3] == '- '):\n",
    "        two_lead_zero = '00' + vtdst[:1]\n",
    "        return two_lead_zero\n",
    "    elif (vtdst[-1:] == ' '):\n",
    "        one_lead_zero = '0' + vtdst[:2]\n",
    "        return one_lead_zero\n",
    "    elif (vtdst[-1:] == '-'):\n",
    "        one_lead_zero = '0' + vtdst[:2]\n",
    "        return one_lead_zero\n",
    "    else:\n",
    "        return vtdst"
   ]
  },
  {
   "cell_type": "code",
   "execution_count": 685,
   "metadata": {},
   "outputs": [],
   "source": [
    "df_with_absentee_reallocated['vtdst'] = df_with_absentee_reallocated.Pct.str.slice(stop = 3)\n",
    "df_with_absentee_reallocated['vtdst'] = df_with_absentee_reallocated['vtdst'].apply(vtdst_changer)\n",
    "df_with_absentee_reallocated.head()"
   ]
  },
  {
   "cell_type": "code",
   "execution_count": 688,
   "metadata": {},
   "outputs": [],
   "source": [
    "df_with_absentee_reallocated['unique_id'] = df_with_absentee_reallocated.COUNTYFP + df_with_absentee_reallocated.vtdst\n",
    "df_with_absentee_reallocated.head()"
   ]
  },
  {
   "cell_type": "code",
   "execution_count": 690,
   "metadata": {},
   "outputs": [],
   "source": [
    "final['unique_id'] = final.COUNTYFP + final.VTDST.str.slice(start = 3)"
   ]
  },
  {
   "cell_type": "code",
   "execution_count": 691,
   "metadata": {},
   "outputs": [
    {
     "data": {
      "text/plain": [
       "set()"
      ]
     },
     "execution_count": 691,
     "metadata": {},
     "output_type": "execute_result"
    }
   ],
   "source": [
    "set(df_with_absentee_reallocated.unique_id) - set(final.unique_id)"
   ]
  },
  {
   "cell_type": "code",
   "execution_count": 692,
   "metadata": {},
   "outputs": [
    {
     "data": {
      "text/plain": [
       "set()"
      ]
     },
     "execution_count": 692,
     "metadata": {},
     "output_type": "execute_result"
    }
   ],
   "source": [
    "set(final.unique_id) - set(df_with_absentee_reallocated.unique_id)"
   ]
  },
  {
   "cell_type": "markdown",
   "metadata": {},
   "source": [
    "# Shapefile"
   ]
  },
  {
   "cell_type": "code",
   "execution_count": 735,
   "metadata": {},
   "outputs": [
    {
     "name": "stdout",
     "output_type": "stream",
     "text": [
      "/Users/lilyfalk/sandbox/pdv-va\n"
     ]
    }
   ],
   "source": [
    "cd ../"
   ]
  },
  {
   "cell_type": "code",
   "execution_count": 731,
   "metadata": {},
   "outputs": [],
   "source": [
    "path = ('./vest_va/census_shps_by_county_all_unzip/')\n",
    "os.chdir(path)\n",
    "county_fips = []\n",
    "for directory in os.listdir():\n",
    "    if not directory[0] == '.':\n",
    "        county_fips.append(directory[-5:])"
   ]
  },
  {
   "cell_type": "code",
   "execution_count": 732,
   "metadata": {},
   "outputs": [],
   "source": [
    "proj = final.crs"
   ]
  },
  {
   "cell_type": "code",
   "execution_count": 736,
   "metadata": {
    "collapsed": true,
    "jupyter": {
     "outputs_hidden": true
    }
   },
   "outputs": [
    {
     "name": "stdout",
     "output_type": "stream",
     "text": [
      "51580  added to list\n",
      "51117  added to list\n",
      "51121  added to list\n",
      "51119  added to list\n",
      "51770  added to list\n",
      "51181  added to list\n",
      "51175  added to list\n",
      "51143  added to list\n",
      "51520  added to list\n",
      "51127  added to list\n",
      "51740  added to list\n",
      "51111  added to list\n",
      "51145  added to list\n",
      "51510  added to list\n",
      "51187  added to list\n",
      "51173  added to list\n",
      "51001  added to list\n",
      "51650  added to list\n",
      "51037  added to list\n",
      "51063  added to list\n",
      "51097  added to list\n",
      "51099  added to list\n",
      "51009  added to list\n",
      "51660  added to list\n",
      "51036  added to list\n",
      "51031  added to list\n",
      "51007  added to list\n",
      "51053  added to list\n",
      "51065  added to list\n",
      "51091  added to list\n",
      "51047  added to list\n",
      "51071  added to list\n",
      "51085  added to list\n",
      "51049  added to list\n",
      "51620  added to list\n",
      "51680  added to list\n",
      "51025  added to list\n",
      "51013  added to list\n",
      "51810  added to list\n",
      "51077  added to list\n",
      "51083  added to list\n",
      "51079  added to list\n",
      "51610  added to list\n",
      "51041  added to list\n",
      "51015  added to list\n",
      "51023  added to list\n",
      "51820  added to list\n",
      "51169  added to list\n",
      "51700  added to list\n",
      "51193  added to list\n",
      "51167  added to list\n",
      "51133  added to list\n",
      "51550  added to list\n",
      "51595  added to list\n",
      "51105  added to list\n",
      "51159  added to list\n",
      "51730  added to list\n",
      "51195  added to list\n",
      "51161  added to list\n",
      "51157  added to list\n",
      "51103  added to list\n",
      "51135  added to list\n",
      "51790  added to list\n",
      "51720  added to list\n",
      "51149  added to list\n",
      "51171  added to list\n",
      "51185  added to list\n",
      "51147  added to list\n",
      "51570  added to list\n",
      "51113  added to list\n",
      "51125  added to list\n",
      "51141  added to list\n",
      "51710  added to list\n",
      "51179  added to list\n",
      "51177  added to list\n",
      "51183  added to list\n",
      "51775  added to list\n",
      "51540  added to list\n",
      "51115  added to list\n",
      "51093  added to list\n",
      "51067  added to list\n",
      "51600  added to list\n",
      "51069  added to list\n",
      "51051  added to list\n",
      "51005  added to list\n",
      "51830  added to list\n",
      "51033  added to list\n",
      "51057  added to list\n",
      "51095  added to list\n",
      "51061  added to list\n",
      "51630  added to list\n",
      "51059  added to list\n",
      "51690  added to list\n",
      "51035  added to list\n",
      "51800  added to list\n",
      "51003  added to list\n",
      "51670  added to list\n",
      "51019  added to list\n",
      "51683  added to list\n",
      "51021  added to list\n",
      "51017  added to list\n",
      "51840  added to list\n",
      "51043  added to list\n",
      "51081  added to list\n",
      "51075  added to list\n",
      "51011  added to list\n",
      "51678  added to list\n",
      "51640  added to list\n",
      "51029  added to list\n",
      "51685  added to list\n",
      "51027  added to list\n",
      "51087  added to list\n",
      "51073  added to list\n",
      "51089  added to list\n",
      "51045  added to list\n",
      "51137  added to list\n",
      "51750  added to list\n",
      "51139  added to list\n",
      "51101  added to list\n",
      "51155  added to list\n",
      "51199  added to list\n",
      "51163  added to list\n",
      "51735  added to list\n",
      "51197  added to list\n",
      "51590  added to list\n",
      "51107  added to list\n",
      "51131  added to list\n",
      "51760  added to list\n",
      "51109  added to list\n",
      "51165  added to list\n",
      "51191  added to list\n",
      "51153  added to list\n",
      "51530  added to list\n"
     ]
    }
   ],
   "source": [
    "path = ('./vest_va/census_shps_by_county_all_unzip/')\n",
    "os.chdir(path)\n",
    "county_vtds = []\n",
    "\n",
    "for i in county_fips: #i dont have fips_codes file\n",
    "    ref = 'partnership_shapefiles_19v2_'\n",
    "    vtd_ref = ref + i + '/PVS_19_v2_vtd_' + i + '.shp' \n",
    "    vtd_shp = gpd.read_file(vtd_ref)\n",
    "    print(i, ' added to list')\n",
    "    county_vtds.append(vtd_shp)"
   ]
  },
  {
   "cell_type": "code",
   "execution_count": 737,
   "metadata": {},
   "outputs": [],
   "source": [
    "global shp_vtd\n",
    "shp_vtd = gpd.GeoDataFrame(pd.concat(county_vtds, axis = 0) , crs = proj) "
   ]
  },
  {
   "cell_type": "code",
   "execution_count": 739,
   "metadata": {},
   "outputs": [
    {
     "name": "stdout",
     "output_type": "stream",
     "text": [
      "/Users/lilyfalk/sandbox/pdv-va\n"
     ]
    }
   ],
   "source": [
    "cd ../"
   ]
  },
  {
   "cell_type": "code",
   "execution_count": 740,
   "metadata": {
    "collapsed": true,
    "jupyter": {
     "outputs_hidden": true
    }
   },
   "outputs": [
    {
     "name": "stdout",
     "output_type": "stream",
     "text": [
      "51580  added to list\n",
      "51117  added to list\n",
      "51121  added to list\n",
      "51119  added to list\n",
      "51770  added to list\n",
      "51181  added to list\n",
      "51175  added to list\n",
      "51143  added to list\n",
      "51520  added to list\n",
      "51127  added to list\n",
      "51740  added to list\n",
      "51111  added to list\n",
      "51145  added to list\n",
      "51510  added to list\n",
      "51187  added to list\n",
      "51173  added to list\n",
      "51001  added to list\n",
      "51650  added to list\n",
      "51037  added to list\n",
      "51063  added to list\n",
      "51097  added to list\n",
      "51099  added to list\n",
      "51009  added to list\n",
      "51660  added to list\n",
      "51036  added to list\n",
      "51031  added to list\n",
      "51007  added to list\n",
      "51053  added to list\n",
      "51065  added to list\n",
      "51091  added to list\n",
      "51047  added to list\n",
      "51071  added to list\n",
      "51085  added to list\n",
      "51049  added to list\n",
      "51620  added to list\n",
      "51680  added to list\n",
      "51025  added to list\n",
      "51013  added to list\n",
      "51810  added to list\n",
      "51077  added to list\n",
      "51083  added to list\n",
      "51079  added to list\n",
      "51610  added to list\n",
      "51041  added to list\n",
      "51015  added to list\n",
      "51023  added to list\n",
      "51820  added to list\n",
      "51169  added to list\n",
      "51700  added to list\n",
      "51193  added to list\n",
      "51167  added to list\n",
      "51133  added to list\n",
      "51550  added to list\n",
      "51595  added to list\n",
      "51105  added to list\n",
      "51159  added to list\n",
      "51730  added to list\n",
      "51195  added to list\n",
      "51161  added to list\n",
      "51157  added to list\n",
      "51103  added to list\n",
      "51135  added to list\n",
      "51790  added to list\n",
      "51720  added to list\n",
      "51149  added to list\n",
      "51171  added to list\n",
      "51185  added to list\n",
      "51147  added to list\n",
      "51570  added to list\n",
      "51113  added to list\n",
      "51125  added to list\n",
      "51141  added to list\n",
      "51710  added to list\n",
      "51179  added to list\n",
      "51177  added to list\n",
      "51183  added to list\n",
      "51775  added to list\n",
      "51540  added to list\n",
      "51115  added to list\n",
      "51093  added to list\n",
      "51067  added to list\n",
      "51600  added to list\n",
      "51069  added to list\n",
      "51051  added to list\n",
      "51005  added to list\n",
      "51830  added to list\n",
      "51033  added to list\n",
      "51057  added to list\n",
      "51095  added to list\n",
      "51061  added to list\n",
      "51630  added to list\n",
      "51059  added to list\n",
      "51690  added to list\n",
      "51035  added to list\n",
      "51800  added to list\n",
      "51003  added to list\n",
      "51670  added to list\n",
      "51019  added to list\n",
      "51683  added to list\n",
      "51021  added to list\n",
      "51017  added to list\n",
      "51840  added to list\n",
      "51043  added to list\n",
      "51081  added to list\n",
      "51075  added to list\n",
      "51011  added to list\n",
      "51678  added to list\n",
      "51640  added to list\n",
      "51029  added to list\n",
      "51685  added to list\n",
      "51027  added to list\n",
      "51087  added to list\n",
      "51073  added to list\n",
      "51089  added to list\n",
      "51045  added to list\n",
      "51137  added to list\n",
      "51750  added to list\n",
      "51139  added to list\n",
      "51101  added to list\n",
      "51155  added to list\n",
      "51199  added to list\n",
      "51163  added to list\n",
      "51735  added to list\n",
      "51197  added to list\n",
      "51590  added to list\n",
      "51107  added to list\n",
      "51131  added to list\n",
      "51760  added to list\n",
      "51109  added to list\n",
      "51165  added to list\n",
      "51191  added to list\n",
      "51153  added to list\n",
      "51530  added to list\n"
     ]
    }
   ],
   "source": [
    "path = ('./vest_va/census_shps_by_county_all_unzip/')\n",
    "os.chdir(path)\n",
    "county_sldl = []\n",
    "\n",
    "for i in county_fips: #i dont have fips_codes file\n",
    "    ref = 'partnership_shapefiles_19v2_'\n",
    "    sldl_ref = ref + i + '/PVS_19_v2_sldl_' + i + '.shp' #PVS_19_v2_sldl_51650\n",
    "    sldl_shp = gpd.read_file(sldl_ref)\n",
    "    print(i, ' added to list')\n",
    "    county_sldl.append(sldl_shp)"
   ]
  },
  {
   "cell_type": "code",
   "execution_count": 741,
   "metadata": {},
   "outputs": [],
   "source": [
    "global shp_sldl\n",
    "shp_sldl = gpd.GeoDataFrame(pd.concat(county_sldl, axis = 0) , crs = proj) "
   ]
  },
  {
   "cell_type": "code",
   "execution_count": null,
   "metadata": {},
   "outputs": [],
   "source": [
    "two_files_readin = gpd.read_file(vtd_sldl)"
   ]
  },
  {
   "cell_type": "code",
   "execution_count": 742,
   "metadata": {},
   "outputs": [
    {
     "data": {
      "text/plain": [
       "<matplotlib.axes._subplots.AxesSubplot at 0x7f8b844089a0>"
      ]
     },
     "execution_count": 742,
     "metadata": {},
     "output_type": "execute_result"
    },
    {
     "data": {
      "image/png": "[encoded data removed]",
      "text/plain": [
       "<Figure size 432x288 with 1 Axes>"
      ]
     },
     "metadata": {
      "needs_background": "light"
     },
     "output_type": "display_data"
    }
   ],
   "source": [
    "shp_sldl.plot()"
   ]
  },
  {
   "cell_type": "code",
   "execution_count": 745,
   "metadata": {},
   "outputs": [],
   "source": [
    "overlay = gpd.overlay(shp_sldl, shp_vtd, how='intersection', make_valid=True, keep_geom_type=True)"
   ]
  },
  {
   "cell_type": "code",
   "execution_count": 746,
   "metadata": {},
   "outputs": [
    {
     "data": {
      "text/plain": [
       "<matplotlib.axes._subplots.AxesSubplot at 0x7f8b926d6580>"
      ]
     },
     "execution_count": 746,
     "metadata": {},
     "output_type": "execute_result"
    },
    {
     "data": {
      "image/png": "[encoded data removed]",
      "text/plain": [
       "<Figure size 432x288 with 1 Axes>"
      ]
     },
     "metadata": {
      "needs_background": "light"
     },
     "output_type": "display_data"
    }
   ],
   "source": [
    "overlay.plot()"
   ]
  },
  {
   "cell_type": "code",
   "execution_count": 747,
   "metadata": {},
   "outputs": [
    {
     "data": {
      "text/plain": [
       "Index(['STATEFP_1', 'COUNTYFP_1', 'SLDLST', 'NAMELSAD_1', 'LSAD_1', 'PARTFLG',\n",
       "       'CHNG_TYPE_1', 'EFF_DATE', 'NEW_NAME', 'NEW_CODE', 'RELTYPE1',\n",
       "       'RELTYPE2', 'RELTYPE3', 'RELTYPE4', 'RELTYPE5', 'REL_ENT1', 'REL_ENT2',\n",
       "       'REL_ENT3', 'REL_ENT4', 'REL_ENT5', 'RELATE_1', 'JUSTIFY_1', 'LSY',\n",
       "       'NAME_1', 'VINTAGE_1', 'FUNCSTAT_1', 'STATEFP_2', 'COUNTYFP_2', 'VTDST',\n",
       "       'NAMELSAD_2', 'VTDI', 'LSAD_2', 'CHNG_TYPE_2', 'ORIG_NAME', 'ORIG_CODE',\n",
       "       'RELATE_2', 'NAME_2', 'VINTAGE_2', 'FUNCSTAT_2', 'JUSTIFY_2', 'MTFCC',\n",
       "       'geometry'],\n",
       "      dtype='object')"
      ]
     },
     "execution_count": 747,
     "metadata": {},
     "output_type": "execute_result"
    }
   ],
   "source": [
    "overlay.columns"
   ]
  },
  {
   "cell_type": "code",
   "execution_count": 751,
   "metadata": {},
   "outputs": [],
   "source": [
    "shp = overlay[(overlay.SLDLST == '008') | (overlay.SLDLST == '024')]"
   ]
  },
  {
   "cell_type": "code",
   "execution_count": 752,
   "metadata": {},
   "outputs": [
    {
     "data": {
      "text/plain": [
       "<matplotlib.axes._subplots.AxesSubplot at 0x7f8b36bf8880>"
      ]
     },
     "execution_count": 752,
     "metadata": {},
     "output_type": "execute_result"
    },
    {
     "data": {
      "image/png": "[encoded data removed]",
      "text/plain": [
       "<Figure size 432x288 with 1 Axes>"
      ]
     },
     "metadata": {
      "needs_background": "light"
     },
     "output_type": "display_data"
    }
   ],
   "source": [
    "shp.plot()"
   ]
  },
  {
   "cell_type": "code",
   "execution_count": 749,
   "metadata": {},
   "outputs": [
    {
     "data": {
      "text/plain": [
       "<matplotlib.axes._subplots.AxesSubplot at 0x7f8b926f4df0>"
      ]
     },
     "execution_count": 749,
     "metadata": {},
     "output_type": "execute_result"
    },
    {
     "data": {
      "image/png": "[encoded data removed]",
      "text/plain": [
       "<Figure size 432x288 with 1 Axes>"
      ]
     },
     "metadata": {
      "needs_background": "light"
     },
     "output_type": "display_data"
    }
   ],
   "source": [
    "final.plot()"
   ]
  },
  {
   "cell_type": "code",
   "execution_count": 753,
   "metadata": {},
   "outputs": [
    {
     "data": {
      "text/plain": [
       "(74, 42)"
      ]
     },
     "execution_count": 753,
     "metadata": {},
     "output_type": "execute_result"
    }
   ],
   "source": [
    "shp.shape"
   ]
  },
  {
   "cell_type": "code",
   "execution_count": 754,
   "metadata": {},
   "outputs": [
    {
     "data": {
      "text/plain": [
       "(79, 10)"
      ]
     },
     "execution_count": 754,
     "metadata": {},
     "output_type": "execute_result"
    }
   ],
   "source": [
    "final.shape"
   ]
  },
  {
   "cell_type": "code",
   "execution_count": 755,
   "metadata": {
    "collapsed": true,
    "jupyter": {
     "outputs_hidden": true
    }
   },
   "outputs": [
    {
     "data": {
      "text/html": [
       "<div>\n",
       "<style scoped>\n",
       "    .dataframe tbody tr th:only-of-type {\n",
       "        vertical-align: middle;\n",
       "    }\n",
       "\n",
       "    .dataframe tbody tr th {\n",
       "        vertical-align: top;\n",
       "    }\n",
       "\n",
       "    .dataframe thead th {\n",
       "        text-align: right;\n",
       "    }\n",
       "</style>\n",
       "<table border=\"1\" class=\"dataframe\">\n",
       "  <thead>\n",
       "    <tr style=\"text-align: right;\">\n",
       "      <th></th>\n",
       "      <th>STATEFP_1</th>\n",
       "      <th>COUNTYFP_1</th>\n",
       "      <th>SLDLST</th>\n",
       "      <th>NAMELSAD_1</th>\n",
       "      <th>LSAD_1</th>\n",
       "      <th>PARTFLG</th>\n",
       "      <th>CHNG_TYPE_1</th>\n",
       "      <th>EFF_DATE</th>\n",
       "      <th>NEW_NAME</th>\n",
       "      <th>NEW_CODE</th>\n",
       "      <th>...</th>\n",
       "      <th>CHNG_TYPE_2</th>\n",
       "      <th>ORIG_NAME</th>\n",
       "      <th>ORIG_CODE</th>\n",
       "      <th>RELATE_2</th>\n",
       "      <th>NAME_2</th>\n",
       "      <th>VINTAGE_2</th>\n",
       "      <th>FUNCSTAT_2</th>\n",
       "      <th>JUSTIFY_2</th>\n",
       "      <th>MTFCC</th>\n",
       "      <th>geometry</th>\n",
       "    </tr>\n",
       "  </thead>\n",
       "  <tbody>\n",
       "    <tr>\n",
       "      <th>44</th>\n",
       "      <td>51</td>\n",
       "      <td>121</td>\n",
       "      <td>008</td>\n",
       "      <td>State House District 8</td>\n",
       "      <td>LL</td>\n",
       "      <td>Y</td>\n",
       "      <td>None</td>\n",
       "      <td>None</td>\n",
       "      <td>None</td>\n",
       "      <td>None</td>\n",
       "      <td>...</td>\n",
       "      <td>None</td>\n",
       "      <td>None</td>\n",
       "      <td>None</td>\n",
       "      <td>None</td>\n",
       "      <td>A-1</td>\n",
       "      <td>90</td>\n",
       "      <td>N</td>\n",
       "      <td>None</td>\n",
       "      <td>G5240</td>\n",
       "      <td>POLYGON Z ((-80.33488 37.22841 0.00000, -80.33...</td>\n",
       "    </tr>\n",
       "    <tr>\n",
       "      <th>48</th>\n",
       "      <td>51</td>\n",
       "      <td>121</td>\n",
       "      <td>008</td>\n",
       "      <td>State House District 8</td>\n",
       "      <td>LL</td>\n",
       "      <td>Y</td>\n",
       "      <td>None</td>\n",
       "      <td>None</td>\n",
       "      <td>None</td>\n",
       "      <td>None</td>\n",
       "      <td>...</td>\n",
       "      <td>None</td>\n",
       "      <td>None</td>\n",
       "      <td>None</td>\n",
       "      <td>None</td>\n",
       "      <td>B-2</td>\n",
       "      <td>90</td>\n",
       "      <td>N</td>\n",
       "      <td>None</td>\n",
       "      <td>G5240</td>\n",
       "      <td>POLYGON Z ((-80.40190 37.12351 0.00000, -80.40...</td>\n",
       "    </tr>\n",
       "    <tr>\n",
       "      <th>50</th>\n",
       "      <td>51</td>\n",
       "      <td>121</td>\n",
       "      <td>008</td>\n",
       "      <td>State House District 8</td>\n",
       "      <td>LL</td>\n",
       "      <td>Y</td>\n",
       "      <td>None</td>\n",
       "      <td>None</td>\n",
       "      <td>None</td>\n",
       "      <td>None</td>\n",
       "      <td>...</td>\n",
       "      <td>None</td>\n",
       "      <td>None</td>\n",
       "      <td>None</td>\n",
       "      <td>None</td>\n",
       "      <td>C-3</td>\n",
       "      <td>90</td>\n",
       "      <td>N</td>\n",
       "      <td>None</td>\n",
       "      <td>G5240</td>\n",
       "      <td>POLYGON Z ((-80.31228 37.20136 0.00000, -80.31...</td>\n",
       "    </tr>\n",
       "    <tr>\n",
       "      <th>70</th>\n",
       "      <td>51</td>\n",
       "      <td>161</td>\n",
       "      <td>008</td>\n",
       "      <td>State House District 8</td>\n",
       "      <td>LL</td>\n",
       "      <td>Y</td>\n",
       "      <td>None</td>\n",
       "      <td>None</td>\n",
       "      <td>None</td>\n",
       "      <td>None</td>\n",
       "      <td>...</td>\n",
       "      <td>None</td>\n",
       "      <td>None</td>\n",
       "      <td>None</td>\n",
       "      <td>None</td>\n",
       "      <td>CATAWBA</td>\n",
       "      <td>90</td>\n",
       "      <td>N</td>\n",
       "      <td>None</td>\n",
       "      <td>G5240</td>\n",
       "      <td>POLYGON Z ((-80.25185 37.30107 0.00000, -80.25...</td>\n",
       "    </tr>\n",
       "    <tr>\n",
       "      <th>71</th>\n",
       "      <td>51</td>\n",
       "      <td>161</td>\n",
       "      <td>008</td>\n",
       "      <td>State House District 8</td>\n",
       "      <td>LL</td>\n",
       "      <td>Y</td>\n",
       "      <td>None</td>\n",
       "      <td>None</td>\n",
       "      <td>None</td>\n",
       "      <td>None</td>\n",
       "      <td>...</td>\n",
       "      <td>None</td>\n",
       "      <td>None</td>\n",
       "      <td>None</td>\n",
       "      <td>None</td>\n",
       "      <td>MASONS VALLEY</td>\n",
       "      <td>90</td>\n",
       "      <td>N</td>\n",
       "      <td>None</td>\n",
       "      <td>G5240</td>\n",
       "      <td>POLYGON Z ((-80.21898 37.26371 0.00000, -80.21...</td>\n",
       "    </tr>\n",
       "  </tbody>\n",
       "</table>\n",
       "<p>5 rows × 42 columns</p>\n",
       "</div>"
      ],
      "text/plain": [
       "   STATEFP_1 COUNTYFP_1 SLDLST              NAMELSAD_1 LSAD_1 PARTFLG  \\\n",
       "44        51        121    008  State House District 8     LL       Y   \n",
       "48        51        121    008  State House District 8     LL       Y   \n",
       "50        51        121    008  State House District 8     LL       Y   \n",
       "70        51        161    008  State House District 8     LL       Y   \n",
       "71        51        161    008  State House District 8     LL       Y   \n",
       "\n",
       "   CHNG_TYPE_1 EFF_DATE NEW_NAME NEW_CODE  ... CHNG_TYPE_2 ORIG_NAME  \\\n",
       "44        None     None     None     None  ...        None      None   \n",
       "48        None     None     None     None  ...        None      None   \n",
       "50        None     None     None     None  ...        None      None   \n",
       "70        None     None     None     None  ...        None      None   \n",
       "71        None     None     None     None  ...        None      None   \n",
       "\n",
       "   ORIG_CODE RELATE_2         NAME_2 VINTAGE_2 FUNCSTAT_2 JUSTIFY_2  MTFCC  \\\n",
       "44      None     None            A-1        90          N      None  G5240   \n",
       "48      None     None            B-2        90          N      None  G5240   \n",
       "50      None     None            C-3        90          N      None  G5240   \n",
       "70      None     None        CATAWBA        90          N      None  G5240   \n",
       "71      None     None  MASONS VALLEY        90          N      None  G5240   \n",
       "\n",
       "                                             geometry  \n",
       "44  POLYGON Z ((-80.33488 37.22841 0.00000, -80.33...  \n",
       "48  POLYGON Z ((-80.40190 37.12351 0.00000, -80.40...  \n",
       "50  POLYGON Z ((-80.31228 37.20136 0.00000, -80.31...  \n",
       "70  POLYGON Z ((-80.25185 37.30107 0.00000, -80.25...  \n",
       "71  POLYGON Z ((-80.21898 37.26371 0.00000, -80.21...  \n",
       "\n",
       "[5 rows x 42 columns]"
      ]
     },
     "execution_count": 755,
     "metadata": {},
     "output_type": "execute_result"
    }
   ],
   "source": [
    "shp.head()"
   ]
  },
  {
   "cell_type": "code",
   "execution_count": 757,
   "metadata": {},
   "outputs": [
    {
     "data": {
      "text/plain": [
       "Index(['STATEFP_1', 'COUNTYFP_1', 'SLDLST', 'NAMELSAD_1', 'LSAD_1', 'PARTFLG',\n",
       "       'CHNG_TYPE_1', 'EFF_DATE', 'NEW_NAME', 'NEW_CODE', 'RELTYPE1',\n",
       "       'RELTYPE2', 'RELTYPE3', 'RELTYPE4', 'RELTYPE5', 'REL_ENT1', 'REL_ENT2',\n",
       "       'REL_ENT3', 'REL_ENT4', 'REL_ENT5', 'RELATE_1', 'JUSTIFY_1', 'LSY',\n",
       "       'NAME_1', 'VINTAGE_1', 'FUNCSTAT_1', 'STATEFP_2', 'COUNTYFP_2', 'VTDST',\n",
       "       'NAMELSAD_2', 'VTDI', 'LSAD_2', 'CHNG_TYPE_2', 'ORIG_NAME', 'ORIG_CODE',\n",
       "       'RELATE_2', 'NAME_2', 'VINTAGE_2', 'FUNCSTAT_2', 'JUSTIFY_2', 'MTFCC',\n",
       "       'geometry'],\n",
       "      dtype='object')"
      ]
     },
     "execution_count": 757,
     "metadata": {},
     "output_type": "execute_result"
    }
   ],
   "source": [
    "shp.columns"
   ]
  },
  {
   "cell_type": "code",
   "execution_count": 761,
   "metadata": {},
   "outputs": [
    {
     "data": {
      "text/plain": [
       "0"
      ]
     },
     "execution_count": 761,
     "metadata": {},
     "output_type": "execute_result"
    }
   ],
   "source": [
    "len(set(shp.COUNTYFP_1 + shp.VTDST.str.slice(start = 3)) - set(final.COUNTYFP + final.VTDST.str.slice(start = 3)))"
   ]
  },
  {
   "cell_type": "code",
   "execution_count": 762,
   "metadata": {},
   "outputs": [
    {
     "data": {
      "text/plain": [
       "5"
      ]
     },
     "execution_count": 762,
     "metadata": {},
     "output_type": "execute_result"
    }
   ],
   "source": [
    "len(set(final.COUNTYFP + final.VTDST.str.slice(start = 3)) - set(shp.COUNTYFP_1 + shp.VTDST.str.slice(start = 3)))"
   ]
  },
  {
   "cell_type": "code",
   "execution_count": 764,
   "metadata": {},
   "outputs": [],
   "source": [
    "shp['unique_id'] = shp['COUNTYFP_1'] + shp['VTDST'].str.slice(start = 3)"
   ]
  },
  {
   "cell_type": "markdown",
   "metadata": {},
   "source": [
    "# Validation"
   ]
  },
  {
   "cell_type": "markdown",
   "metadata": {},
   "source": [
    "## Validating Shapfile"
   ]
  },
  {
   "cell_type": "code",
   "execution_count": 768,
   "metadata": {},
   "outputs": [
    {
     "name": "stderr",
     "output_type": "stream",
     "text": [
      "/Users/lilyfalk/anaconda3/lib/python3.8/site-packages/geopandas/base.py:39: UserWarning: The indices of the two GeoSeries are different.\n",
      "  warn(\"The indices of the two GeoSeries are different.\")\n"
     ]
    }
   ],
   "source": [
    "shp_final_merge = pd.merge(shp, final, on = 'unique_id', how = 'inner', suffixes = ['_x', '_y'])\n",
    "\n",
    "shp['geometry'].geom_almost_equals(final['geometry'], decimal = 0)\n",
    "\n",
    "shp_shapes = gpd.GeoDataFrame(shp_final_merge, geometry = 'geometry_x')\n",
    "final_shapes = gpd.GeoDataFrame(shp_final_merge, geometry = 'geometry_y')\n",
    "vals = shp_shapes.geom_almost_equals(final_shapes, decimal = 0)"
   ]
  },
  {
   "cell_type": "code",
   "execution_count": 769,
   "metadata": {},
   "outputs": [
    {
     "name": "stdout",
     "output_type": "stream",
     "text": [
      "True     57\n",
      "False    17\n",
      "dtype: int64\n"
     ]
    }
   ],
   "source": [
    "print(vals.value_counts())"
   ]
  },
  {
   "cell_type": "code",
   "execution_count": 771,
   "metadata": {},
   "outputs": [
    {
     "name": "stdout",
     "output_type": "stream",
     "text": [
      "161    7\n",
      "163    6\n",
      "530    2\n",
      "015    1\n",
      "121    1\n",
      "Name: unique_id, dtype: int64\n"
     ]
    },
    {
     "data": {
      "text/plain": [
       "<matplotlib.axes._subplots.AxesSubplot at 0x7f8b31f5b7f0>"
      ]
     },
     "execution_count": 771,
     "metadata": {},
     "output_type": "execute_result"
    },
    {
     "data": {
      "image/png": "[encoded data removed]",
      "text/plain": [
       "<Figure size 432x288 with 1 Axes>"
      ]
     },
     "metadata": {
      "needs_background": "light"
     },
     "output_type": "display_data"
    }
   ],
   "source": [
    "print(shp_final_merge[~vals]['unique_id'].str[0:3].value_counts())\n",
    "diff_precincts = gpd.GeoDataFrame(shp_final_merge[~vals], geometry = 'geometry_x', crs = proj)\n",
    "\n",
    "shp_difference = gpd.overlay(shp_shapes, final_shapes, how = 'symmetric_difference')\n",
    "shp_difference.plot()"
   ]
  },
  {
   "cell_type": "code",
   "execution_count": 772,
   "metadata": {},
   "outputs": [
    {
     "name": "stdout",
     "output_type": "stream",
     "text": [
      "   STATEFP_1 COUNTYFP_1 SLDLST               NAMELSAD_1 LSAD_1 PARTFLG  \\\n",
      "0         51        121    008   State House District 8     LL       Y   \n",
      "4         51        161    008   State House District 8     LL       Y   \n",
      "5         51        161    008   State House District 8     LL       Y   \n",
      "6         51        161    008   State House District 8     LL       Y   \n",
      "8         51        161    008   State House District 8     LL       Y   \n",
      "11        51        161    008   State House District 8     LL       Y   \n",
      "36        51        015    024  State House District 24     LL       Y   \n",
      "39        51        163    024  State House District 24     LL       Y   \n",
      "42        51        163    024  State House District 24     LL       Y   \n",
      "43        51        161    008   State House District 8     LL       Y   \n",
      "44        51        161    008   State House District 8     LL       Y   \n",
      "59        51        163    024  State House District 24     LL       Y   \n",
      "60        51        163    024  State House District 24     LL       Y   \n",
      "63        51        163    024  State House District 24     LL       Y   \n",
      "70        51        163    024  State House District 24     LL       Y   \n",
      "72        51        530    024  State House District 24     LL       Y   \n",
      "73        51        530    024  State House District 24     LL       Y   \n",
      "\n",
      "   CHNG_TYPE_1 EFF_DATE NEW_NAME NEW_CODE  ... unique_id COUNTYFP  \\\n",
      "0         None     None     None     None  ...    121101      121   \n",
      "4         None     None     None     None  ...    161102      161   \n",
      "5         None     None     None     None  ...    161103      161   \n",
      "6         None     None     None     None  ...    161106      161   \n",
      "8         None     None     None     None  ...    161301      161   \n",
      "11        None     None     None     None  ...    161304      161   \n",
      "36        None     None     None     None  ...    015602      015   \n",
      "39        None     None     None     None  ...    163504      163   \n",
      "42        None     None     None     None  ...    163104      163   \n",
      "43        None     None     None     None  ...    161108      161   \n",
      "44        None     None     None     None  ...    161302      161   \n",
      "59        None     None     None     None  ...    163201      163   \n",
      "60        None     None     None     None  ...    163202      163   \n",
      "63        None     None     None     None  ...    163101      163   \n",
      "70        None     None     None     None  ...    163401      163   \n",
      "72        None     None     None     None  ...    530001      530   \n",
      "73        None     None     None     None  ...    530002      530   \n",
      "\n",
      "             LOCALITY VTDST_y        PRECINCT HOD_DIST S18HODDEM S18HODREP  \\\n",
      "0   Montgomery County  000101    Precinct A-1      008       815       578   \n",
      "4      Roanoke County  000102    MASON VALLEY      008       124       356   \n",
      "5      Roanoke County  000103         GLENVAR      008       374       835   \n",
      "6      Roanoke County  000106      GREEN HILL      008       643      1271   \n",
      "8      Roanoke County  000301   BENT MOUNTAIN      008       191       300   \n",
      "11     Roanoke County  000304       OAK GROVE      008       842      1310   \n",
      "36     Augusta County  000602       Ridgeview      024       162       443   \n",
      "39  Rockbridge County  000504      Rockbridge      024       144       233   \n",
      "42  Rockbridge County  000104        Effinger      024        77       133   \n",
      "43     Roanoke County  000108        WILDWOOD      008       335       664   \n",
      "44     Roanoke County  000302     POAGES MILL      008       706      1409   \n",
      "59  Rockbridge County  000201    Collierstown      024       167       153   \n",
      "60  Rockbridge County  000202  Highland Belle      024       297       342   \n",
      "63  Rockbridge County  000101         Airport      024       267       232   \n",
      "70  Rockbridge County  000401       Fairfield      024        96       202   \n",
      "72   Buena Vista City  000001      First Ward      024       135       233   \n",
      "73   Buena Vista City  000002     Second Ward      024       101       152   \n",
      "\n",
      "   S18HODWRI                                         geometry_y  \n",
      "0          1  POLYGON Z ((-80.47909 37.28532 0.00000, -80.47...  \n",
      "4          1  POLYGON Z ((-80.23894 37.28622 0.00000, -80.23...  \n",
      "5          2  POLYGON Z ((-80.21886 37.26382 0.00000, -80.21...  \n",
      "6          3  POLYGON Z ((-80.08835 37.28149 0.00000, -80.08...  \n",
      "8          1  POLYGON Z ((-80.17409 37.18758 0.00000, -80.17...  \n",
      "11         7  POLYGON Z ((-80.07914 37.25324 0.00000, -80.07...  \n",
      "36         0  POLYGON Z ((-79.04959 38.01807 0.00000, -79.04...  \n",
      "39         2  POLYGON Z ((-79.37075 37.89679 0.00000, -79.37...  \n",
      "42         1  POLYGON Z ((-79.68866 37.73482 0.00000, -79.68...  \n",
      "43         3  POLYGON Z ((-80.08046 37.32419 0.00000, -80.08...  \n",
      "44         1  POLYGON Z ((-80.08172 37.24170 0.00000, -80.08...  \n",
      "59         2  POLYGON Z ((-79.63783 37.80898 0.00000, -79.63...  \n",
      "60         1  MULTIPOLYGON Z (((-79.58483 37.84870 0.00000, ...  \n",
      "63         1  POLYGON Z ((-79.55506 37.71710 0.00000, -79.55...  \n",
      "70         0  POLYGON Z ((-79.36903 37.84085 0.00000, -79.36...  \n",
      "72         0  POLYGON Z ((-79.38080 37.70710 0.00000, -79.38...  \n",
      "73         0  POLYGON Z ((-79.38151 37.74215 0.00000, -79.38...  \n",
      "\n",
      "[17 rows x 52 columns]\n"
     ]
    },
    {
     "data": {
      "image/svg+xml": [
       "<svg xmlns=\"http://www.w3.org/2000/svg\" xmlns:xlink=\"http://www.w3.org/1999/xlink\" width=\"100.0\" height=\"100.0\" viewBox=\"-79.37661899999999 37.864962 0.15854399999999202 0.13091000000000008\" preserveAspectRatio=\"xMinYMin meet\"><g transform=\"matrix(1,0,0,-1,0,75.860834)\"><path fill-rule=\"evenodd\" fill=\"#66cc99\" stroke=\"#555555\" stroke-width=\"0.0031708799999998405\" opacity=\"0.6\" d=\"M -79.319385,37.99 L -79.307904,37.983633 L -79.306743,37.982993 L -79.306449,37.982828999999995 L -79.301515,37.98009 L -79.298178,37.978238999999995 L -79.293264,37.97549 L -79.29024799999999,37.973802 L -79.290044,37.97369 L -79.286288,37.971587 L -79.28513099999999,37.970939 L -79.282065,37.969223 L -79.27351,37.964431999999995 L -79.271091,37.963077999999996 L -79.268371,37.961552999999995 L -79.26489699999999,37.95961 L -79.261228,37.957555 L -79.259773,37.956739999999996 L -79.25551899999999,37.954358 L -79.250984,37.95182 L -79.24984599999999,37.951181999999996 L -79.245723,37.948867 L -79.24333299999999,37.947525999999996 L -79.24065,37.946019 L -79.23124299999999,37.940736 L -79.231019,37.940619 L -79.230582,37.94039 L -79.230539,37.940363999999995 L -79.229897,37.939979 L -79.22777599999999,37.938775 L -79.22455,37.936963999999996 L -79.223947,37.936631999999996 L -79.224069,37.936509 L -79.22451199999999,37.936084 L -79.225044,37.935597 L -79.225285,37.935385 L -79.225959,37.934779 L -79.22598099999999,37.93476 L -79.226877,37.933965 L -79.227288,37.933591 L -79.228302,37.932742999999995 L -79.228611,37.932491 L -79.228927,37.932241 L -79.229214,37.932027 L -79.22934099999999,37.931920999999996 L -79.22958799999999,37.931717 L -79.22974599999999,37.931585999999996 L -79.230172,37.931250999999996 L -79.230572,37.930945 L -79.23138999999999,37.930332 L -79.231832,37.930020999999996 L -79.231985,37.929918 L -79.23266199999999,37.929432999999996 L -79.233567,37.928807 L -79.234853,37.927926 L -79.23568499999999,37.927386999999996 L -79.236111,37.927116 L -79.23814399999999,37.92582 L -79.238333,37.925692999999995 L -79.23975999999999,37.924789 L -79.240301,37.924447 L -79.24160599999999,37.923604999999995 L -79.24310299999999,37.922616 L -79.244064,37.921968 L -79.246256,37.920426 L -79.24709299999999,37.919827 L -79.248012,37.919156 L -79.248742,37.918607 L -79.24914299999999,37.918305 L -79.249549,37.918009999999995 L -79.250524,37.917269999999995 L -79.25076,37.917091 L -79.250965,37.91692 L -79.25144,37.916551999999996 L -79.25196,37.916149 L -79.253148,37.915206999999995 L -79.254323,37.91424 L -79.255292,37.913426 L -79.256152,37.912693 L -79.258121,37.910973999999996 L -79.25967,37.909569999999995 L -79.26050599999999,37.908809999999995 L -79.260789,37.908547999999996 L -79.261794,37.907641 L -79.262152,37.907308 L -79.262528,37.906976 L -79.26257,37.906937 L -79.263249,37.906318999999996 L -79.263787,37.905820999999996 L -79.26398999999999,37.905636 L -79.264619,37.905062 L -79.265346,37.904406 L -79.265622,37.904162 L -79.267001,37.902908 L -79.267291,37.902637999999996 L -79.268025,37.901982 L -79.269041,37.901053 L -79.26939899999999,37.900718999999995 L -79.26984999999999,37.90031 L -79.270425,37.899766 L -79.270856,37.899335 L -79.27112799999999,37.899057 L -79.271812,37.898322 L -79.272204,37.897881999999996 L -79.272521,37.897518 L -79.272633,37.89738 L -79.272804,37.89718 L -79.273365,37.896477999999995 L -79.273642,37.896107 L -79.274543,37.894874 L -79.275351,37.893733999999995 L -79.276006,37.892829 L -79.276753,37.891945 L -79.27766199999999,37.890993 L -79.278094,37.890578999999995 L -79.278463,37.890254 L -79.278866,37.889913 L -79.279704,37.88926 L -79.280118,37.888947 L -79.281022,37.888331 L -79.28143399999999,37.888065999999995 L -79.281808,37.887828 L -79.282652,37.887321 L -79.283098,37.887071 L -79.283644,37.8868 L -79.284533,37.886378 L -79.285608,37.885888 L -79.28612,37.885659 L -79.286717,37.885391 L -79.287117,37.885218 L -79.288299,37.884692 L -79.288618,37.884541999999996 L -79.28893599999999,37.884392 L -79.28962,37.884084 L -79.290728,37.883604999999996 L -79.290934,37.883511999999996 L -79.29135699999999,37.883322 L -79.291941,37.883046 L -79.292538,37.882774 L -79.292991,37.882556 L -79.293154,37.88248 L -79.29445799999999,37.881879 L -79.295577,37.881378999999995 L -79.296537,37.880939999999995 L -79.29807699999999,37.880244 L -79.29900599999999,37.879825 L -79.299489,37.8796 L -79.301851,37.878524 L -79.303062,37.87798 L -79.30418,37.877497999999996 L -79.305695,37.876809 L -79.306589,37.876385 L -79.306947,37.876207 L -79.30813599999999,37.875667 L -79.309921,37.874863 L -79.311159,37.874293 L -79.312058,37.873905 L -79.31218,37.873849 L -79.31385,37.873098 L -79.315473,37.872349 L -79.315765,37.87222 L -79.316347,37.871964 L -79.316617,37.871856 L -79.31693899999999,37.872313999999996 L -79.31702899999999,37.872440999999995 L -79.317094,37.872519 L -79.317253,37.872673999999996 L -79.317369,37.872769 L -79.31755799999999,37.872901 L -79.31769299999999,37.87298 L -79.317894,37.873076999999995 L -79.31806999999999,37.873143999999996 L -79.318253,37.873197999999995 L -79.31844199999999,37.873239 L -79.31870099999999,37.873277 L -79.31891999999999,37.873289 L -79.31906599999999,37.873286 L -79.319248,37.87327 L -79.31943199999999,37.873239 L -79.319632,37.873191 L -79.319825,37.873129999999996 L -79.320047,37.873039 L -79.320222,37.872949 L -79.320494,37.872765 L -79.32079499999999,37.872479 L -79.321523,37.871818999999995 L -79.322017,37.871435999999996 L -79.322142,37.871359999999996 L -79.322277,37.871296 L -79.32283,37.871128999999996 L -79.323014,37.87108 L -79.323419,37.87097 L -79.32381,37.870874 L -79.323957,37.870844 L -79.324083,37.870833999999995 L -79.32421,37.870837 L -79.32433499999999,37.870854 L -79.324455,37.870884 L -79.324612,37.870942 L -79.324731,37.870996999999996 L -79.324899,37.871094 L -79.32538799999999,37.871494 L -79.325665,37.87169 L -79.325805,37.87179 L -79.325863,37.871825 L -79.325968,37.871874999999996 L -79.326082,37.87191 L -79.326255,37.871945 L -79.32651299999999,37.871987 L -79.326875,37.872025 L -79.327012,37.872031 L -79.327474,37.872009999999996 L -79.327828,37.872006999999996 L -79.328949,37.872056 L -79.329725,37.872104 L -79.33030099999999,37.8721 L -79.330761,37.872109 L -79.330788,37.872112 L -79.331288,37.872175 L -79.33153999999999,37.87223 L -79.33194999999999,37.87243 L -79.332424,37.872668 L -79.333007,37.872969 L -79.333818,37.873394 L -79.33392599999999,37.873450999999996 L -79.33466899999999,37.873861999999995 L -79.335073,37.874086 L -79.33541799999999,37.874286 L -79.335894,37.874595 L -79.336145,37.874763 L -79.336506,37.874932 L -79.336551,37.874953 L -79.33669499999999,37.875031 L -79.336964,37.875211 L -79.3369,37.875313999999996 L -79.33677399999999,37.875498 L -79.336747,37.875537 L -79.336556,37.87574 L -79.336306,37.875969 L -79.3361,37.876138 L -79.336027,37.876213 L -79.335968,37.876295999999996 L -79.335955,37.876343999999996 L -79.335948,37.876369 L -79.33594599999999,37.876436 L -79.33595799999999,37.876501 L -79.33600299999999,37.876605999999995 L -79.336559,37.877704 L -79.336612,37.877763 L -79.336693,37.877812 L -79.336795,37.877832 L -79.337065,37.877829999999996 L -79.337397,37.877838 L -79.337716,37.877887 L -79.338072,37.877975 L -79.33836699999999,37.878105 L -79.338698,37.878309 L -79.33872,37.878329 L -79.338892,37.878482999999996 L -79.33908699999999,37.878747 L -79.33922299999999,37.878999 L -79.339327,37.879259 L -79.33943,37.879473 L -79.33945,37.879523999999996 L -79.339466,37.879593 L -79.339469,37.879681 L -79.339458,37.879751 L -79.339427,37.879836999999995 L -79.339378,37.879922 L -79.339314,37.880001 L -79.339252,37.880058999999996 L -79.33899799999999,37.880237 L -79.33897499999999,37.880268 L -79.33895,37.880324 L -79.338943,37.880372 L -79.338951,37.880431 L -79.339012,37.880548999999995 L -79.339322,37.881088 L -79.33939699999999,37.881178 L -79.33946399999999,37.881271999999996 L -79.33959899999999,37.881505 L -79.339641,37.881568 L -79.339717,37.881658 L -79.339787,37.881724 L -79.33990899999999,37.881811 L -79.340088,37.881876999999996 L -79.340245,37.881917 L -79.340498,37.881955 L -79.340649,37.881969999999995 L -79.340801,37.881971 L -79.340953,37.881955999999995 L -79.34124,37.881903 L -79.34158699999999,37.88183 L -79.34178399999999,37.881775999999995 L -79.341921,37.88175 L -79.342049,37.881746 L -79.342135,37.881752999999996 L -79.34235,37.881783 L -79.342561,37.881828999999996 L -79.342699,37.881872 L -79.342792,37.881912 L -79.342899,37.881972 L -79.34299399999999,37.882042999999996 L -79.343093,37.882141 L -79.34340399999999,37.882419 L -79.34351199999999,37.882522 L -79.34365799999999,37.882643 L -79.343817,37.882754 L -79.34402899999999,37.882867999999995 L -79.344218,37.882985999999995 L -79.344342,37.883084 L -79.34445199999999,37.883191 L -79.344548,37.883306999999995 L -79.344608,37.883417 L -79.34466599999999,37.883559999999996 L -79.34470499999999,37.883707 L -79.34472199999999,37.883825 L -79.344751,37.883967999999996 L -79.344765,37.884008 L -79.34478399999999,37.884063999999995 L -79.344799,37.884108999999995 L -79.344867,37.884246999999995 L -79.34493499999999,37.884356 L -79.345058,37.884515 L -79.345126,37.884582 L -79.345208,37.88464 L -79.34530099999999,37.884685999999995 L -79.345477,37.88476 L -79.346319,37.885165 L -79.34664,37.885303 L -79.347351,37.885563 L -79.34746,37.885597 L -79.347503,37.885608999999995 L -79.34765999999999,37.885639999999995 L -79.34794699999999,37.885673 L -79.348303,37.88572 L -79.348495,37.885754 L -79.348794,37.885829 L -79.34889199999999,37.885863 L -79.34906099999999,37.885908 L -79.349165,37.885928 L -79.349285,37.885939 L -79.349406,37.885940999999995 L -79.34992199999999,37.885895999999995 L -79.35028799999999,37.885856 L -79.35086,37.885782 L -79.351134,37.885757 L -79.351519,37.885753 L -79.352063,37.885766 L -79.352248,37.885763 L -79.353098,37.885752 L -79.353188,37.885765 L -79.353218,37.885774999999995 L -79.353273,37.885791999999995 L -79.353349,37.885833 L -79.353492,37.885936 L -79.353596,37.886030999999996 L -79.35377299999999,37.886238999999996 L -79.354083,37.886624999999995 L -79.354186,37.886731 L -79.35424499999999,37.886779 L -79.35513399999999,37.887366 L -79.355904,37.887861 L -79.356144,37.888031 L -79.35631699999999,37.888137 L -79.35649099999999,37.888251 L -79.356706,37.888382 L -79.35713799999999,37.88863 L -79.357328,37.888726999999996 L -79.357542,37.888844 L -79.35775799999999,37.888971 L -79.35790899999999,37.889074 L -79.358047,37.889187 L -79.358172,37.88931 L -79.35830299999999,37.88948 L -79.35848399999999,37.889747 L -79.358549,37.889806 L -79.358612,37.889846999999996 L -79.358696,37.889883999999995 L -79.359292,37.890045 L -79.35951899999999,37.890102999999996 L -79.359752,37.890149 L -79.35998,37.890187 L -79.36054,37.890293 L -79.36079699999999,37.89035 L -79.36101599999999,37.890406999999996 L -79.36120199999999,37.890462 L -79.361524,37.890578 L -79.362489,37.890896 L -79.362944,37.891056 L -79.36323399999999,37.891196 L -79.363436,37.891318 L -79.363653,37.891469 L -79.363891,37.891652 L -79.364133,37.891858 L -79.364317,37.892030999999996 L -79.364352,37.89208 L -79.364373,37.892134999999996 L -79.364412,37.892716 L -79.364446,37.892882 L -79.364543,37.893217 L -79.364581,37.893321 L -79.364627,37.893406 L -79.364654,37.893428 L -79.364693,37.893451 L -79.364755,37.893479 L -79.364839,37.893502 L -79.36492199999999,37.893508 L -79.36536799999999,37.893542 L -79.36547499999999,37.893544 L -79.365617,37.893556 L -79.365676,37.893572999999996 L -79.365819,37.893625 L -79.36614399999999,37.893786999999996 L -79.36735,37.894349 L -79.367694,37.89452 L -79.36850799999999,37.894971999999996 L -79.368811,37.895145 L -79.368878,37.895284 L -79.368933,37.895361 L -79.369098,37.895514 L -79.369222,37.895599 L -79.369365,37.895725999999996 L -79.369632,37.895973999999995 L -79.369807,37.896149 L -79.369967,37.896287 L -79.370058,37.896345 L -79.37016899999999,37.896395999999996 L -79.370544,37.896538 L -79.37062999999999,37.896586 L -79.37070299999999,37.896646 L -79.370728,37.896679 L -79.370747,37.896736 L -79.370747,37.896794 L -79.370729,37.896851 L -79.37069199999999,37.896907999999996 L -79.370637,37.89696 L -79.370569,37.897000999999996 L -79.370402,37.897067 L -79.36924599999999,37.897411999999996 L -79.369063,37.897472 L -79.368957,37.897523 L -79.368833,37.897597999999995 L -79.368787,37.897631 L -79.368659,37.897735 L -79.36842999999999,37.897946999999995 L -79.368089,37.898292 L -79.367397,37.899052 L -79.36707899999999,37.899415 L -79.366755,37.899775 L -79.36654999999999,37.899995 L -79.36639799999999,37.900166999999996 L -79.36610999999999,37.900447 L -79.365825,37.900701999999995 L -79.365406,37.901106999999996 L -79.36525,37.901229 L -79.365128,37.901305 L -79.365049,37.901345 L -79.364587,37.901556 L -79.364265,37.901688 L -79.364188,37.901734 L -79.364136,37.901778 L -79.364085,37.901841999999995 L -79.36406199999999,37.901883999999995 L -79.364051,37.901962 L -79.364055,37.90206 L -79.364116,37.902375 L -79.364177,37.902598 L -79.36419599999999,37.902743 L -79.364189,37.902820999999996 L -79.364167,37.902926 L -79.364138,37.903008 L -79.364109,37.903067 L -79.364054,37.903211999999996 L -79.363974,37.903397999999996 L -79.36373999999999,37.904077 L -79.363711,37.904182 L -79.363683,37.904311 L -79.363631,37.904430999999995 L -79.36360499999999,37.904471 L -79.363558,37.904520999999995 L -79.363361,37.904681 L -79.362878,37.905052999999995 L -79.36268,37.905214 L -79.36242899999999,37.905435 L -79.362273,37.905605 L -79.36193,37.906005 L -79.361663,37.906282999999995 L -79.36128699999999,37.906687999999995 L -79.361194,37.90681 L -79.361074,37.906987 L -79.361006,37.90712 L -79.360973,37.907202999999996 L -79.36089,37.907455999999996 L -79.360866,37.90755 L -79.360818,37.907786 L -79.36077999999999,37.907908 L -79.36066,37.908254 L -79.360641,37.908363 L -79.360637,37.908524 L -79.36065599999999,37.908634 L -79.360716,37.908808 L -79.360801,37.909115 L -79.36082499999999,37.909267 L -79.36082999999999,37.909465999999995 L -79.360811,37.909724 L -79.36078599999999,37.909869 L -79.36074099999999,37.910012 L -79.360714,37.910067 L -79.36062199999999,37.910202 L -79.360536,37.910304 L -79.360489,37.910353 L -79.360424,37.910433 L -79.360081,37.910817 L -79.359937,37.910945999999996 L -79.359686,37.911131999999995 L -79.359589,37.911223 L -79.359492,37.911334 L -79.359256,37.911662 L -79.359169,37.911798 L -79.359093,37.911988 L -79.359003,37.91215 L -79.358976,37.912191 L -79.358902,37.912307 L -79.35874199999999,37.912538 L -79.35856,37.912765 L -79.358374,37.912986 L -79.358295,37.913067999999996 L -79.358262,37.913101999999995 L -79.35813,37.913202999999996 L -79.358009,37.913278 L -79.357663,37.913513 L -79.357484,37.913626 L -79.35707099999999,37.913906 L -79.356949,37.913996 L -79.35681799999999,37.914100999999995 L -79.356652,37.914256 L -79.356551,37.914339 L -79.356312,37.914515 L -79.355916,37.914764 L -79.35580499999999,37.914854 L -79.355727,37.914933 L -79.35550599999999,37.915177 L -79.355284,37.915389 L -79.355177,37.915481 L -79.355032,37.915586 L -79.354964,37.915625999999996 L -79.35447099999999,37.915915 L -79.354325,37.916018 L -79.354192,37.916132 L -79.353743,37.91654 L -79.352947,37.917229 L -79.35287799999999,37.917304 L -79.35280499999999,37.917404999999995 L -79.352676,37.917642 L -79.352368,37.918321 L -79.352198,37.918786 L -79.352114,37.918988999999996 L -79.35195,37.919354 L -79.351685,37.919896 L -79.35158899999999,37.920108 L -79.351468,37.920477999999996 L -79.3514,37.920625 L -79.351317,37.920764999999996 L -79.35124499999999,37.92085 L -79.350977,37.921096999999996 L -79.35056999999999,37.921445999999996 L -79.34996,37.921985 L -79.349719,37.922191999999995 L -79.34958499999999,37.922328 L -79.349434,37.922495 L -79.349193,37.922757 L -79.348968,37.923002 L -79.348863,37.923124 L -79.34832,37.923671999999996 L -79.348075,37.92391 L -79.347836,37.924155999999996 L -79.34768199999999,37.924330999999995 L -79.34721499999999,37.924893 L -79.347168,37.924962 L -79.347109,37.925075 L -79.347081,37.925148 L -79.34700000000001,37.925394 L -79.346919,37.925661 L -79.346831,37.925999 L -79.346806,37.926077 L -79.346701,37.926407 L -79.34663599999999,37.926556 L -79.346555,37.926700000000004 L -79.346231,37.927181999999995 L -79.346143,37.927293 L -79.34607,37.927372 L -79.345908,37.927493 L -79.345466,37.927782 L -79.345169,37.927997 L -79.34498099999999,37.928149999999995 L -79.344909,37.928214 L -79.344529,37.928641 L -79.343895,37.929322 L -79.34363599999999,37.929570999999996 L -79.34317899999999,37.930001 L -79.34255999999999,37.930557 L -79.342503,37.930614999999996 L -79.34243599999999,37.930707 L -79.342387,37.930806 L -79.34235699999999,37.930909 L -79.34235799999999,37.931166 L -79.342377,37.931551999999996 L -79.342373,37.932055 L -79.342337,37.93224 L -79.342242,37.93261 L -79.34201999999999,37.933347 L -79.341901,37.93372 L -79.34187299999999,37.933879 L -79.341859,37.934055 L -79.341859,37.934138 L -79.341859,37.93429 L -79.341897,37.934698 L -79.34198099999999,37.934698 L -79.342061,37.934712999999995 L -79.342098,37.934728 L -79.34225599999999,37.93485 L -79.342553,37.935133 L -79.343015,37.935511 L -79.343251,37.935652 L -79.343363,37.935742 L -79.3434,37.935781 L -79.34346599999999,37.935859 L -79.343518,37.935949 L -79.343623,37.936185 L -79.343718,37.936375 L -79.343831,37.936637 L -79.34396199999999,37.936876 L -79.344008,37.936955999999995 L -79.343801,37.937111 L -79.343502,37.937315 L -79.343003,37.937771 L -79.342726,37.937991 L -79.34235799999999,37.938458 L -79.342345,37.938551 L -79.342379,37.938677 L -79.342345,37.938798 L -79.342255,37.938897 L -79.342153,37.938987 L -79.342067,37.939062 L -79.342081,37.939161 L -79.34217199999999,37.93938 L -79.34217199999999,37.939474 L -79.342137,37.939628 L -79.342186,37.939765 L -79.342241,37.939875 L -79.342151,37.940104999999996 L -79.342186,37.940188 L -79.34217199999999,37.940298 L -79.34208199999999,37.940463 L -79.341999,37.940534 L -79.34186,37.9406 L -79.341804,37.940671 L -79.34177,37.940765 L -79.341701,37.940891 L -79.34125,37.94144 L -79.341111,37.941578 L -79.341111,37.94166 L -79.34118099999999,37.94188 L -79.341146,37.941962 L -79.341077,37.942060999999995 L -79.340959,37.942144 L -79.340924,37.942265 L -79.340959,37.942402 L -79.340938,37.942473 L -79.34085499999999,37.942539 L -79.34052199999999,37.942622 L -79.340418,37.942665999999996 L -79.340279,37.942748 L -79.340002,37.942814 L -79.339829,37.942913 L -79.33968999999999,37.94305 L -79.339607,37.943188 L -79.33948199999999,37.943225999999996 L -79.339364,37.943276 L -79.33932899999999,37.943335999999995 L -79.339468,37.943517 L -79.339433,37.9436 L -79.33944699999999,37.943670999999995 L -79.33948199999999,37.943737 L -79.339586,37.943781 L -79.339621,37.943808 L -79.339607,37.943863 L -79.339517,37.943973 L -79.339378,37.944193 L -79.339309,37.944258999999995 L -79.33923899999999,37.944248 L -79.339191,37.944258999999995 L -79.339135,37.944341 L -79.339191,37.944369 L -79.33926,37.944369 L -79.339309,37.94433 L -79.339364,37.944314 L -79.339399,37.944396 L -79.339385,37.944437 L -79.339364,37.944494999999996 L -79.339274,37.944576999999995 L -79.338948,37.944935 L -79.338858,37.945099 L -79.33878899999999,37.945209 L -79.338706,37.945412 L -79.33865,37.945594 L -79.338359,37.946104999999996 L -79.338061,37.94672 L -79.337957,37.947010999999996 L -79.337874,37.947286 L -79.337853,37.947434 L -79.337943,37.947928 L -79.337957,37.948066 L -79.33792299999999,37.94822 L -79.337819,37.948384 L -79.337701,37.948494 L -79.337285,37.948769 L -79.337195,37.948906 L -79.337181,37.949099 L -79.337125,37.949262999999995 L -79.33705599999999,37.949401 L -79.336883,37.949636999999996 L -79.336848,37.949719 L -79.336883,37.949813 L -79.337008,37.949965999999996 L -79.337042,37.950075999999996 L -79.337008,37.950159 L -79.336934,37.950311 L -79.336626,37.950944 L -79.33579399999999,37.952163999999996 L -79.335656,37.95229 L -79.335503,37.952373 L -79.33546799999999,37.952466 L -79.335448,37.952602999999996 L -79.335503,37.952867 L -79.335503,37.953021 L -79.335469,37.953157999999995 L -79.335413,37.953278999999995 L -79.335261,37.953514999999996 L -79.335157,37.953828 L -79.335066,37.95401 L -79.33496199999999,37.954119 L -79.334789,37.954201999999995 L -79.334685,37.954322999999995 L -79.334637,37.954422 L -79.334616,37.954625 L -79.334581,37.954778999999995 L -79.334498,37.954955 L -79.33435899999999,37.955135999999996 L -79.33429,37.955427 L -79.33426899999999,37.955684999999995 L -79.334229,37.955847 L -79.334221,37.955877 L -79.33411699999999,37.956015 L -79.333978,37.956125 L -79.33390899999999,37.956207 L -79.333923,37.95702 L -79.333978,37.957707 L -79.334096,37.958518999999995 L -79.333854,37.9593 L -79.33384,37.959492 L -79.33390899999999,37.959783 L -79.33387499999999,37.95992 L -79.333681,37.960128999999995 L -79.33361099999999,37.960249999999995 L -79.33361099999999,37.96036 L -79.333736,37.960705999999995 L -79.333771,37.960898 L -79.333702,37.961183999999996 L -79.333681,37.961431 L -79.33372299999999,37.96176 L -79.333702,37.961914 L -79.33345899999999,37.962288 L -79.33339,37.962453 L -79.33339,37.962617 L -79.33345899999999,37.962711 L -79.333619,37.962863999999996 L -79.333702,37.96293 L -79.333827,37.963178 L -79.33470899999999,37.964677 L -79.334813,37.965007 L -79.33483199999999,37.965025 L -79.33491699999999,37.965105 L -79.334903,37.965188 L -79.33479899999999,37.965226 L -79.33470899999999,37.965309 L -79.33466,37.965418 L -79.334744,37.965655 L -79.334744,37.965803 L -79.334688,37.965928999999996 L -79.334626,37.966038999999995 L -79.334633,37.966231 L -79.33455599999999,37.966468 L -79.334223,37.967072 L -79.334244,37.967182 L -79.33434799999999,37.967303 L -79.334487,37.967495 L -79.334487,37.967621 L -79.334453,37.967786 L -79.334245,37.968072 L -79.33421,37.968374 L -79.333933,37.968939999999996 L -79.333586,37.970082 L -79.33357199999999,37.97023 L -79.333642,37.970586999999995 L -79.333621,37.97067 L -79.33357199999999,37.970714 L -79.333468,37.970769 L -79.333433,37.970824 L -79.33344699999999,37.970867999999996 L -79.333503,37.970934 L -79.333503,37.970973 L -79.333503,37.971032 L -79.333468,37.971098 L -79.333343,37.97117 L -79.333225,37.97117 L -79.333066,37.971225 L -79.332233,37.971472 L -79.331761,37.971565 L -79.331715,37.971576999999996 L -79.33124099999999,37.971703 L -79.33095,37.971747 L -79.33058199999999,37.971773999999996 L -79.330131,37.971785 L -79.33008199999999,37.971802 L -79.329843,37.971848 L -79.32895099999999,37.972021999999996 L -79.328396,37.972088 L -79.32817399999999,37.972104 L -79.327737,37.972214 L -79.32742499999999,37.97239 L -79.327272,37.972527 L -79.327043,37.972819 L -79.326841,37.973057 L -79.326731,37.973186999999996 L -79.326523,37.973285 L -79.32602299999999,37.973313 L -79.325676,37.973351 L -79.325295,37.973434 L -79.32521799999999,37.973462999999995 L -79.323819,37.979855 L -79.323117,37.983270999999995 L -79.323167,37.983311 L -79.323217,37.983368999999996 L -79.323252,37.983433999999995 L -79.323268,37.983489 L -79.32327099999999,37.983559 L -79.323341,37.984144 L -79.323421,37.984759 L -79.32343999999999,37.984874 L -79.323582,37.985726 L -79.32371599999999,37.986309 L -79.323776,37.986816999999995 L -79.323805,37.987265 L -79.323835,37.987407 L -79.323882,37.987547 L -79.32394699999999,37.987682 L -79.32399199999999,37.98775 L -79.324062,37.987826999999996 L -79.323926,37.987857999999996 L -79.323792,37.987961999999996 L -79.323589,37.988158 L -79.323296,37.988378 L -79.322818,37.988735 L -79.321725,37.989311 L -79.320787,37.989816 L -79.32057999999999,37.989906 L -79.320218,37.989945 L -79.31975899999999,37.989976999999996 L -79.319572,37.989964 L -79.319464,37.989982999999995 L -79.319406,37.989993 L -79.319385,37.99 z\" /></g></svg>"
      ],
      "text/plain": [
       "<shapely.geometry.polygon.Polygon at 0x7f8b93f9ef40>"
      ]
     },
     "metadata": {},
     "output_type": "display_data"
    },
    {
     "data": {
      "image/svg+xml": [
       "<svg xmlns=\"http://www.w3.org/2000/svg\" xmlns:xlink=\"http://www.w3.org/1999/xlink\" width=\"100.0\" height=\"100.0\" viewBox=\"-79.37661899999999 37.864962 0.15854399999999202 0.13091000000000008\" preserveAspectRatio=\"xMinYMin meet\"><g transform=\"matrix(1,0,0,-1,0,75.860834)\"><path fill-rule=\"evenodd\" fill=\"#66cc99\" stroke=\"#555555\" stroke-width=\"0.0031708799999998405\" opacity=\"0.6\" d=\"M -79.370747,37.896794 L -79.370729,37.896851 L -79.37069199999999,37.896907999999996 L -79.370637,37.89696 L -79.370569,37.897000999999996 L -79.370402,37.897067 L -79.36924599999999,37.897411999999996 L -79.369063,37.897472 L -79.368957,37.897523 L -79.368833,37.897597999999995 L -79.368787,37.897631 L -79.368659,37.897735 L -79.36842999999999,37.897946999999995 L -79.368089,37.898292 L -79.367397,37.899052 L -79.36707899999999,37.899415 L -79.366755,37.899775 L -79.36654999999999,37.899995 L -79.36639799999999,37.900166999999996 L -79.36610999999999,37.900447 L -79.365825,37.900701999999995 L -79.365406,37.901106999999996 L -79.36525,37.901229 L -79.365128,37.901305 L -79.365049,37.901345 L -79.364587,37.901556 L -79.364265,37.901688 L -79.364188,37.901734 L -79.364136,37.901778 L -79.364085,37.901841999999995 L -79.36406199999999,37.901883999999995 L -79.364051,37.901962 L -79.364055,37.90206 L -79.364116,37.902375 L -79.364177,37.902598 L -79.36419599999999,37.902743 L -79.364189,37.902820999999996 L -79.364167,37.902926 L -79.364138,37.903008 L -79.364109,37.903067 L -79.364054,37.903211999999996 L -79.363974,37.903397999999996 L -79.36373999999999,37.904077 L -79.363711,37.904182 L -79.363683,37.904311 L -79.363631,37.904430999999995 L -79.36360499999999,37.904471 L -79.363558,37.904520999999995 L -79.363361,37.904681 L -79.362878,37.905052999999995 L -79.36268,37.905214 L -79.36242899999999,37.905435 L -79.362273,37.905605 L -79.36193,37.906005 L -79.361663,37.906282999999995 L -79.36128699999999,37.906687999999995 L -79.361194,37.90681 L -79.361074,37.906987 L -79.361006,37.90712 L -79.360973,37.907202999999996 L -79.36089,37.907455999999996 L -79.360866,37.90755 L -79.360818,37.907786 L -79.36077999999999,37.907908 L -79.36066,37.908254 L -79.360641,37.908363 L -79.360637,37.908524 L -79.36065599999999,37.908634 L -79.360716,37.908808 L -79.360801,37.909115 L -79.36082499999999,37.909267 L -79.36082999999999,37.909465999999995 L -79.360811,37.909724 L -79.36078599999999,37.909869 L -79.36074099999999,37.910012 L -79.360714,37.910067 L -79.36062199999999,37.910202 L -79.360536,37.910304 L -79.360489,37.910353 L -79.360424,37.910433 L -79.360081,37.910817 L -79.359937,37.910945999999996 L -79.359686,37.911131999999995 L -79.359589,37.911223 L -79.359492,37.911334 L -79.359256,37.911662 L -79.359169,37.911798 L -79.359093,37.911988 L -79.359003,37.91215 L -79.358976,37.912191 L -79.358902,37.912307 L -79.35874199999999,37.912538 L -79.35856,37.912765 L -79.358374,37.912986 L -79.358295,37.913067999999996 L -79.358262,37.913101999999995 L -79.35813,37.913202999999996 L -79.358009,37.913278 L -79.357663,37.913513 L -79.357484,37.913626 L -79.35707099999999,37.913906 L -79.356949,37.913996 L -79.35681799999999,37.914100999999995 L -79.356652,37.914256 L -79.356551,37.914339 L -79.356312,37.914515 L -79.355916,37.914764 L -79.35580499999999,37.914854 L -79.355727,37.914933 L -79.35550599999999,37.915177 L -79.355284,37.915389 L -79.355177,37.915481 L -79.355032,37.915586 L -79.354964,37.915625999999996 L -79.35447099999999,37.915915 L -79.354325,37.916018 L -79.354192,37.916132 L -79.353743,37.91654 L -79.352947,37.917229 L -79.35287799999999,37.917304 L -79.35280499999999,37.917404999999995 L -79.352676,37.917642 L -79.352368,37.918321 L -79.352198,37.918786 L -79.352114,37.918988999999996 L -79.35195,37.919354 L -79.351685,37.919896 L -79.35158899999999,37.920108 L -79.351468,37.920477999999996 L -79.3514,37.920625 L -79.351317,37.920764999999996 L -79.35124499999999,37.92085 L -79.350977,37.921096999999996 L -79.35056999999999,37.921445999999996 L -79.34996,37.921985 L -79.349719,37.922191999999995 L -79.34958499999999,37.922328 L -79.349434,37.922495 L -79.349193,37.922757 L -79.348968,37.923002 L -79.348863,37.923124 L -79.34832,37.923671999999996 L -79.348075,37.92391 L -79.347836,37.924155999999996 L -79.34768199999999,37.924330999999995 L -79.34721499999999,37.924893 L -79.347168,37.924962 L -79.347109,37.925075 L -79.347081,37.925148 L -79.34700000000001,37.925394 L -79.346919,37.925661 L -79.346831,37.925999 L -79.346806,37.926077 L -79.346701,37.926407 L -79.34663599999999,37.926556 L -79.346555,37.926700000000004 L -79.346231,37.927181999999995 L -79.346143,37.927293 L -79.34607,37.927372 L -79.345908,37.927493 L -79.345466,37.927782 L -79.345169,37.927997 L -79.34498099999999,37.928149999999995 L -79.344909,37.928214 L -79.344529,37.928641 L -79.343895,37.929322 L -79.34363599999999,37.929570999999996 L -79.34317899999999,37.930001 L -79.34255999999999,37.930557 L -79.342503,37.930614999999996 L -79.34243599999999,37.930707 L -79.342387,37.930806 L -79.34235699999999,37.930909 L -79.34235799999999,37.931166 L -79.342377,37.931551999999996 L -79.342373,37.932055 L -79.342337,37.93224 L -79.342242,37.93261 L -79.34201999999999,37.933347 L -79.341901,37.93372 L -79.34187299999999,37.933879 L -79.341859,37.934055 L -79.341859,37.934138 L -79.341859,37.93429 L -79.341897,37.934698 L -79.34198099999999,37.934698 L -79.342061,37.934712999999995 L -79.342098,37.934728 L -79.34225599999999,37.93485 L -79.342553,37.935133 L -79.343015,37.935511 L -79.343251,37.935652 L -79.343363,37.935742 L -79.3434,37.935781 L -79.34346599999999,37.935859 L -79.343518,37.935949 L -79.343623,37.936185 L -79.343718,37.936375 L -79.343831,37.936637 L -79.34396199999999,37.936876 L -79.344008,37.936955999999995 L -79.343801,37.937111 L -79.343502,37.937315 L -79.343003,37.937771 L -79.342726,37.937991 L -79.34235799999999,37.938458 L -79.342345,37.938551 L -79.342379,37.938677 L -79.342345,37.938798 L -79.342255,37.938897 L -79.342153,37.938987 L -79.342067,37.939062 L -79.342081,37.939161 L -79.34217199999999,37.93938 L -79.34217199999999,37.939474 L -79.342137,37.939628 L -79.342186,37.939765 L -79.342241,37.939875 L -79.342151,37.940104999999996 L -79.342186,37.940188 L -79.34217199999999,37.940298 L -79.34208199999999,37.940463 L -79.341999,37.940534 L -79.34186,37.9406 L -79.341804,37.940671 L -79.34177,37.940765 L -79.341701,37.940891 L -79.34125,37.94144 L -79.341111,37.941578 L -79.341111,37.94166 L -79.34118099999999,37.94188 L -79.341146,37.941962 L -79.341077,37.942060999999995 L -79.340959,37.942144 L -79.340924,37.942265 L -79.340959,37.942402 L -79.340938,37.942473 L -79.34085499999999,37.942539 L -79.34052199999999,37.942622 L -79.340418,37.942665999999996 L -79.340279,37.942748 L -79.340002,37.942814 L -79.339829,37.942913 L -79.33968999999999,37.94305 L -79.339607,37.943188 L -79.33948199999999,37.943225999999996 L -79.339364,37.943276 L -79.33932899999999,37.943335999999995 L -79.339468,37.943517 L -79.339433,37.9436 L -79.33944699999999,37.943670999999995 L -79.33948199999999,37.943737 L -79.339586,37.943781 L -79.339621,37.943808 L -79.339607,37.943863 L -79.339517,37.943973 L -79.339378,37.944193 L -79.339309,37.944258999999995 L -79.33923899999999,37.944248 L -79.339191,37.944258999999995 L -79.339135,37.944341 L -79.339191,37.944369 L -79.33926,37.944369 L -79.339309,37.94433 L -79.339364,37.944314 L -79.339399,37.944396 L -79.339385,37.944437 L -79.339364,37.944494999999996 L -79.339274,37.944576999999995 L -79.338948,37.944935 L -79.338858,37.945099 L -79.33878899999999,37.945209 L -79.338706,37.945412 L -79.33865,37.945594 L -79.338359,37.946104999999996 L -79.338061,37.94672 L -79.337957,37.947010999999996 L -79.337874,37.947286 L -79.337853,37.947434 L -79.337943,37.947928 L -79.337957,37.948066 L -79.33792299999999,37.94822 L -79.337819,37.948384 L -79.337701,37.948494 L -79.337285,37.948769 L -79.337195,37.948906 L -79.337181,37.949099 L -79.337125,37.949262999999995 L -79.33705599999999,37.949401 L -79.336883,37.949636999999996 L -79.336848,37.949719 L -79.336883,37.949813 L -79.337008,37.949965999999996 L -79.337042,37.950075999999996 L -79.337008,37.950159 L -79.336934,37.950311 L -79.336626,37.950944 L -79.33579399999999,37.952163999999996 L -79.335656,37.95229 L -79.335503,37.952373 L -79.33546799999999,37.952466 L -79.335448,37.952602999999996 L -79.335503,37.952867 L -79.335503,37.953021 L -79.335469,37.953157999999995 L -79.335413,37.953278999999995 L -79.335261,37.953514999999996 L -79.335157,37.953828 L -79.335066,37.95401 L -79.33496199999999,37.954119 L -79.334789,37.954201999999995 L -79.334685,37.954322999999995 L -79.334637,37.954422 L -79.334616,37.954625 L -79.334581,37.954778999999995 L -79.334498,37.954955 L -79.33435899999999,37.955135999999996 L -79.33429,37.955427 L -79.33426899999999,37.955684999999995 L -79.334229,37.955847 L -79.334221,37.955877 L -79.33411699999999,37.956015 L -79.333978,37.956125 L -79.33390899999999,37.956207 L -79.333923,37.95702 L -79.333978,37.957707 L -79.334096,37.958518999999995 L -79.333854,37.9593 L -79.33384,37.959492 L -79.33390899999999,37.959783 L -79.33387499999999,37.95992 L -79.333681,37.960128999999995 L -79.33361099999999,37.960249999999995 L -79.33361099999999,37.96036 L -79.333736,37.960705999999995 L -79.333771,37.960898 L -79.333702,37.961183999999996 L -79.333681,37.961431 L -79.33372299999999,37.96176 L -79.333702,37.961914 L -79.33345899999999,37.962288 L -79.33339,37.962453 L -79.33339,37.962617 L -79.33345899999999,37.962711 L -79.333619,37.962863999999996 L -79.333702,37.96293 L -79.333827,37.963178 L -79.33470899999999,37.964677 L -79.334813,37.965007 L -79.33483199999999,37.965025 L -79.33491699999999,37.965105 L -79.334903,37.965188 L -79.33479899999999,37.965226 L -79.33470899999999,37.965309 L -79.33466,37.965418 L -79.334744,37.965655 L -79.334744,37.965803 L -79.334688,37.965928999999996 L -79.334626,37.966038999999995 L -79.334633,37.966231 L -79.33455599999999,37.966468 L -79.334223,37.967072 L -79.334244,37.967182 L -79.33434799999999,37.967303 L -79.334487,37.967495 L -79.334487,37.967621 L -79.334453,37.967786 L -79.334245,37.968072 L -79.33421,37.968374 L -79.333933,37.968939999999996 L -79.333586,37.970082 L -79.33357199999999,37.97023 L -79.333642,37.970586999999995 L -79.333621,37.97067 L -79.33357199999999,37.970714 L -79.333468,37.970769 L -79.333433,37.970824 L -79.33344699999999,37.970867999999996 L -79.333503,37.970934 L -79.333503,37.970973 L -79.333503,37.971032 L -79.333468,37.971098 L -79.333343,37.97117 L -79.333225,37.97117 L -79.333066,37.971225 L -79.332233,37.971472 L -79.331761,37.971565 L -79.331715,37.971576999999996 L -79.33124099999999,37.971703 L -79.33095,37.971747 L -79.33058199999999,37.971773999999996 L -79.330131,37.971785 L -79.33008199999999,37.971802 L -79.329843,37.971848 L -79.32895099999999,37.972021999999996 L -79.328396,37.972088 L -79.32817399999999,37.972104 L -79.327737,37.972214 L -79.32742499999999,37.97239 L -79.327272,37.972527 L -79.327043,37.972819 L -79.326841,37.973057 L -79.326731,37.973186999999996 L -79.326523,37.973285 L -79.32602299999999,37.973313 L -79.325676,37.973351 L -79.325295,37.973434 L -79.32521799999999,37.973462999999995 L -79.323819,37.979855 L -79.323117,37.983270999999995 L -79.323167,37.983311 L -79.323217,37.983368999999996 L -79.323252,37.983433999999995 L -79.323268,37.983489 L -79.32327099999999,37.983559 L -79.323341,37.984144 L -79.323421,37.984759 L -79.32343999999999,37.984874 L -79.323582,37.985726 L -79.32371599999999,37.986309 L -79.323776,37.986816999999995 L -79.323805,37.987265 L -79.323835,37.987407 L -79.323882,37.987547 L -79.32394699999999,37.987682 L -79.32399199999999,37.98775 L -79.324062,37.987826999999996 L -79.323926,37.987857999999996 L -79.323792,37.987961999999996 L -79.323589,37.988158 L -79.323296,37.988378 L -79.322818,37.988735 L -79.321725,37.989311 L -79.320787,37.989816 L -79.32057999999999,37.989906 L -79.320218,37.989945 L -79.31975899999999,37.989976999999996 L -79.319572,37.989964 L -79.319464,37.989982999999995 L -79.319406,37.989993 L -79.319385,37.99 L -79.307904,37.983633 L -79.306743,37.982993 L -79.306449,37.982828999999995 L -79.301515,37.98009 L -79.298178,37.978238999999995 L -79.293264,37.97549 L -79.29024799999999,37.973802 L -79.290044,37.97369 L -79.286288,37.971587 L -79.28513099999999,37.970939 L -79.282065,37.969223 L -79.27351,37.964431999999995 L -79.271091,37.963077999999996 L -79.268371,37.961552999999995 L -79.26489699999999,37.95961 L -79.261228,37.957555 L -79.259773,37.956739999999996 L -79.25551899999999,37.954358 L -79.250984,37.95182 L -79.24984599999999,37.951181999999996 L -79.245723,37.948867 L -79.24333299999999,37.947525999999996 L -79.24065,37.946019 L -79.23124299999999,37.940736 L -79.231019,37.940619 L -79.230582,37.94039 L -79.230539,37.940363999999995 L -79.229897,37.939979 L -79.22777599999999,37.938775 L -79.22455,37.936963999999996 L -79.223947,37.936631999999996 L -79.224069,37.936509 L -79.22451199999999,37.936084 L -79.225044,37.935597 L -79.225285,37.935385 L -79.225959,37.934779 L -79.22598099999999,37.93476 L -79.226877,37.933965 L -79.227288,37.933591 L -79.228302,37.932742999999995 L -79.228611,37.932491 L -79.228927,37.932241 L -79.229214,37.932027 L -79.22934099999999,37.931920999999996 L -79.22958799999999,37.931717 L -79.22974599999999,37.931585999999996 L -79.230172,37.931250999999996 L -79.230572,37.930945 L -79.23138999999999,37.930332 L -79.231832,37.930020999999996 L -79.231985,37.929918 L -79.23266199999999,37.929432999999996 L -79.233567,37.928807 L -79.234853,37.927926 L -79.23568499999999,37.927386999999996 L -79.236111,37.927116 L -79.23814399999999,37.92582 L -79.238333,37.925692999999995 L -79.23975999999999,37.924789 L -79.240301,37.924447 L -79.24160599999999,37.923604999999995 L -79.24310299999999,37.922616 L -79.244064,37.921968 L -79.246256,37.920426 L -79.24709299999999,37.919827 L -79.248012,37.919156 L -79.248742,37.918607 L -79.24914299999999,37.918305 L -79.249549,37.918009999999995 L -79.250524,37.917269999999995 L -79.25076,37.917091 L -79.250965,37.91692 L -79.25144,37.916551999999996 L -79.25196,37.916149 L -79.253148,37.915206999999995 L -79.254323,37.91424 L -79.255292,37.913426 L -79.256152,37.912693 L -79.258121,37.910973999999996 L -79.25967,37.909569999999995 L -79.26050599999999,37.908809999999995 L -79.260789,37.908547999999996 L -79.261794,37.907641 L -79.262152,37.907308 L -79.262528,37.906976 L -79.26257,37.906937 L -79.263249,37.906318999999996 L -79.263787,37.905820999999996 L -79.26398999999999,37.905636 L -79.264619,37.905062 L -79.265346,37.904406 L -79.265622,37.904162 L -79.267001,37.902908 L -79.267291,37.902637999999996 L -79.268025,37.901982 L -79.269041,37.901053 L -79.26939899999999,37.900718999999995 L -79.26984999999999,37.90031 L -79.270425,37.899766 L -79.270856,37.899335 L -79.27112799999999,37.899057 L -79.271812,37.898322 L -79.272204,37.897881999999996 L -79.272521,37.897518 L -79.272633,37.89738 L -79.272804,37.89718 L -79.273365,37.896477999999995 L -79.273642,37.896107 L -79.274543,37.894874 L -79.275351,37.893733999999995 L -79.276006,37.892829 L -79.276753,37.891945 L -79.27766199999999,37.890993 L -79.278094,37.890578999999995 L -79.278463,37.890254 L -79.278866,37.889913 L -79.279704,37.88926 L -79.280118,37.888947 L -79.281022,37.888331 L -79.281808,37.887828 L -79.282652,37.887321 L -79.283098,37.887071 L -79.283644,37.8868 L -79.284533,37.886378 L -79.285608,37.885888 L -79.28612,37.885659 L -79.286717,37.885391 L -79.287117,37.885218 L -79.288299,37.884692 L -79.288618,37.884541999999996 L -79.28893599999999,37.884392 L -79.28962,37.884084 L -79.290728,37.883604999999996 L -79.290934,37.883511999999996 L -79.29135699999999,37.883322 L -79.291941,37.883046 L -79.292538,37.882774 L -79.292991,37.882556 L -79.293154,37.88248 L -79.29445799999999,37.881879 L -79.295577,37.881378999999995 L -79.296537,37.880939999999995 L -79.29900599999999,37.879825 L -79.299489,37.8796 L -79.301851,37.878524 L -79.303062,37.87798 L -79.30418,37.877497999999996 L -79.305695,37.876809 L -79.306589,37.876385 L -79.306947,37.876207 L -79.30813599999999,37.875667 L -79.309921,37.874863 L -79.311159,37.874293 L -79.312058,37.873905 L -79.31218,37.873849 L -79.31385,37.873098 L -79.315473,37.872349 L -79.315765,37.87222 L -79.316347,37.871964 L -79.316617,37.871856 L -79.31693899999999,37.872313999999996 L -79.31702899999999,37.872440999999995 L -79.317094,37.872519 L -79.317253,37.872673999999996 L -79.317369,37.872769 L -79.31755799999999,37.872901 L -79.31769299999999,37.87298 L -79.317894,37.873076999999995 L -79.31806999999999,37.873143999999996 L -79.318253,37.873197999999995 L -79.31844199999999,37.873239 L -79.31870099999999,37.873277 L -79.31891999999999,37.873289 L -79.31906599999999,37.873286 L -79.319248,37.87327 L -79.31943199999999,37.873239 L -79.319632,37.873191 L -79.319825,37.873129999999996 L -79.320047,37.873039 L -79.320222,37.872949 L -79.320494,37.872765 L -79.32079499999999,37.872479 L -79.321523,37.871818999999995 L -79.322017,37.871435999999996 L -79.322142,37.871359999999996 L -79.322277,37.871296 L -79.32283,37.871128999999996 L -79.323014,37.87108 L -79.323419,37.87097 L -79.32381,37.870874 L -79.323957,37.870844 L -79.324083,37.870833999999995 L -79.32421,37.870837 L -79.32433499999999,37.870854 L -79.324455,37.870884 L -79.324612,37.870942 L -79.324731,37.870996999999996 L -79.324899,37.871094 L -79.32538799999999,37.871494 L -79.325665,37.87169 L -79.325805,37.87179 L -79.325863,37.871825 L -79.325968,37.871874999999996 L -79.326082,37.87191 L -79.326255,37.871945 L -79.32651299999999,37.871987 L -79.326875,37.872025 L -79.327012,37.872031 L -79.327474,37.872009999999996 L -79.327828,37.872006999999996 L -79.328949,37.872056 L -79.329725,37.872104 L -79.33030099999999,37.8721 L -79.330761,37.872109 L -79.330788,37.872112 L -79.331288,37.872175 L -79.33153999999999,37.87223 L -79.33194999999999,37.87243 L -79.332424,37.872668 L -79.333007,37.872969 L -79.333818,37.873394 L -79.33392599999999,37.873450999999996 L -79.33466899999999,37.873861999999995 L -79.335073,37.874086 L -79.33541799999999,37.874286 L -79.335894,37.874595 L -79.336145,37.874763 L -79.336506,37.874932 L -79.336551,37.874953 L -79.33669499999999,37.875031 L -79.336964,37.875211 L -79.3369,37.875313999999996 L -79.33677399999999,37.875498 L -79.336747,37.875537 L -79.336556,37.87574 L -79.336306,37.875969 L -79.3361,37.876138 L -79.336027,37.876213 L -79.335968,37.876295999999996 L -79.335955,37.876343999999996 L -79.335948,37.876369 L -79.33594599999999,37.876436 L -79.33595799999999,37.876501 L -79.33600299999999,37.876605999999995 L -79.336559,37.877704 L -79.336612,37.877763 L -79.336693,37.877812 L -79.336795,37.877832 L -79.337065,37.877829999999996 L -79.337397,37.877838 L -79.337716,37.877887 L -79.338072,37.877975 L -79.33836699999999,37.878105 L -79.338698,37.878309 L -79.33872,37.878329 L -79.338892,37.878482999999996 L -79.33908699999999,37.878747 L -79.33922299999999,37.878999 L -79.339327,37.879259 L -79.33943,37.879473 L -79.33945,37.879523999999996 L -79.339466,37.879593 L -79.339469,37.879681 L -79.339458,37.879751 L -79.339427,37.879836999999995 L -79.339378,37.879922 L -79.339314,37.880001 L -79.339252,37.880058999999996 L -79.33899799999999,37.880237 L -79.33897499999999,37.880268 L -79.33895,37.880324 L -79.338943,37.880372 L -79.338951,37.880431 L -79.339012,37.880548999999995 L -79.339322,37.881088 L -79.33939699999999,37.881178 L -79.33946399999999,37.881271999999996 L -79.33959899999999,37.881505 L -79.339641,37.881568 L -79.339717,37.881658 L -79.339787,37.881724 L -79.33990899999999,37.881811 L -79.340088,37.881876999999996 L -79.340245,37.881917 L -79.340498,37.881955 L -79.340649,37.881969999999995 L -79.340801,37.881971 L -79.340953,37.881955999999995 L -79.34124,37.881903 L -79.34158699999999,37.88183 L -79.34178399999999,37.881775999999995 L -79.341921,37.88175 L -79.342049,37.881746 L -79.342135,37.881752999999996 L -79.34235,37.881783 L -79.342561,37.881828999999996 L -79.342699,37.881872 L -79.342792,37.881912 L -79.342899,37.881972 L -79.34299399999999,37.882042999999996 L -79.343093,37.882141 L -79.34340399999999,37.882419 L -79.34351199999999,37.882522 L -79.34365799999999,37.882643 L -79.343817,37.882754 L -79.34402899999999,37.882867999999995 L -79.344218,37.882985999999995 L -79.344342,37.883084 L -79.34445199999999,37.883191 L -79.344548,37.883306999999995 L -79.344608,37.883417 L -79.34466599999999,37.883559999999996 L -79.34470499999999,37.883707 L -79.34472199999999,37.883825 L -79.344751,37.883967999999996 L -79.344765,37.884008 L -79.34478399999999,37.884063999999995 L -79.344799,37.884108999999995 L -79.344867,37.884246999999995 L -79.34493499999999,37.884356 L -79.345058,37.884515 L -79.345126,37.884582 L -79.345208,37.88464 L -79.34530099999999,37.884685999999995 L -79.345477,37.88476 L -79.346319,37.885165 L -79.34664,37.885303 L -79.347351,37.885563 L -79.34746,37.885597 L -79.347503,37.885608999999995 L -79.34765999999999,37.885639999999995 L -79.34794699999999,37.885673 L -79.348303,37.88572 L -79.348495,37.885754 L -79.348794,37.885829 L -79.34889199999999,37.885863 L -79.34906099999999,37.885908 L -79.349165,37.885928 L -79.349285,37.885939 L -79.349406,37.885940999999995 L -79.34992199999999,37.885895999999995 L -79.35028799999999,37.885856 L -79.35086,37.885782 L -79.351134,37.885757 L -79.351519,37.885753 L -79.352063,37.885766 L -79.352248,37.885763 L -79.353098,37.885752 L -79.353188,37.885765 L -79.353218,37.885774999999995 L -79.353273,37.885791999999995 L -79.353349,37.885833 L -79.353492,37.885936 L -79.353596,37.886030999999996 L -79.35377299999999,37.886238999999996 L -79.354083,37.886624999999995 L -79.354186,37.886731 L -79.35424499999999,37.886779 L -79.35513399999999,37.887366 L -79.355904,37.887861 L -79.356144,37.888031 L -79.35631699999999,37.888137 L -79.35649099999999,37.888251 L -79.356706,37.888382 L -79.35713799999999,37.88863 L -79.357328,37.888726999999996 L -79.357542,37.888844 L -79.35775799999999,37.888971 L -79.35790899999999,37.889074 L -79.358047,37.889187 L -79.358172,37.88931 L -79.35830299999999,37.88948 L -79.35848399999999,37.889747 L -79.358549,37.889806 L -79.358612,37.889846999999996 L -79.358696,37.889883999999995 L -79.359292,37.890045 L -79.35951899999999,37.890102999999996 L -79.359752,37.890149 L -79.35998,37.890187 L -79.36054,37.890293 L -79.36079699999999,37.89035 L -79.36101599999999,37.890406999999996 L -79.36120199999999,37.890462 L -79.361524,37.890578 L -79.362489,37.890896 L -79.362944,37.891056 L -79.36323399999999,37.891196 L -79.363436,37.891318 L -79.363653,37.891469 L -79.363891,37.891652 L -79.364133,37.891858 L -79.364317,37.892030999999996 L -79.364352,37.89208 L -79.364373,37.892134999999996 L -79.364412,37.892716 L -79.364446,37.892882 L -79.364543,37.893217 L -79.364581,37.893321 L -79.364627,37.893406 L -79.364654,37.893428 L -79.364693,37.893451 L -79.364755,37.893479 L -79.364839,37.893502 L -79.36492199999999,37.893508 L -79.36536799999999,37.893542 L -79.36547499999999,37.893544 L -79.365617,37.893556 L -79.365676,37.893572999999996 L -79.365819,37.893625 L -79.36614399999999,37.893786999999996 L -79.36735,37.894349 L -79.367694,37.89452 L -79.36850799999999,37.894971999999996 L -79.368811,37.895145 L -79.368878,37.895284 L -79.368933,37.895361 L -79.369098,37.895514 L -79.369222,37.895599 L -79.369365,37.895725999999996 L -79.369632,37.895973999999995 L -79.369807,37.896149 L -79.369967,37.896287 L -79.370058,37.896345 L -79.37016899999999,37.896395999999996 L -79.370544,37.896538 L -79.37062999999999,37.896586 L -79.37070299999999,37.896646 L -79.370728,37.896679 L -79.370747,37.896736 L -79.370747,37.896794 z\" /></g></svg>"
      ],
      "text/plain": [
       "<shapely.geometry.polygon.Polygon at 0x7f8b400e2cd0>"
      ]
     },
     "metadata": {},
     "output_type": "display_data"
    },
    {
     "data": {
      "image/svg+xml": [
       "<svg xmlns=\"http://www.w3.org/2000/svg\" xmlns:xlink=\"http://www.w3.org/1999/xlink\" width=\"100.0\" height=\"100.0\" viewBox=\"-80.48830016 37.21699784 0.24586632000000463 0.16094131999999917\" preserveAspectRatio=\"xMinYMin meet\"><g transform=\"matrix(1,0,0,-1,0,74.59493699999999)\"><path fill-rule=\"evenodd\" fill=\"#66cc99\" stroke=\"#555555\" stroke-width=\"0.004917326400000093\" opacity=\"0.6\" d=\"M -80.33488,37.228407 L -80.33861399999999,37.228321 L -80.339474,37.228319 L -80.339747,37.228276 L -80.34000499999999,37.228254 L -80.34015699999999,37.228231 L -80.340643,37.228213 L -80.34112499999999,37.228212 L -80.34174399999999,37.228231 L -80.34230000000001,37.228156 L -80.342449,37.228105 L -80.34252,37.22806 L -80.342603,37.228029 L -80.342919,37.227944 L -80.34308399999999,37.227891 L -80.343503,37.227812 L -80.34365199999999,37.227772 L -80.34378699999999,37.227743 L -80.344167,37.227641 L -80.34431699999999,37.227539 L -80.34438999999999,37.227509 L -80.34475499999999,37.227423 L -80.34551599999999,37.227348 L -80.345609,37.227362 L -80.345688,37.227382 L -80.34584799999999,37.227392 L -80.345989,37.227381 L -80.346075,37.227381 L -80.346462,37.227312 L -80.346617,37.227242 L -80.346694,37.227201 L -80.346908,37.227036 L -80.347037,37.22697 L -80.34707999999999,37.226942 L -80.34714,37.226863 L -80.347157,37.226828999999995 L -80.347183,37.226801 L -80.3472,37.226746 L -80.347225,37.226712 L -80.347268,37.226608999999996 L -80.347302,37.22656 L -80.347319,37.226512 L -80.34741799999999,37.226411 L -80.34751399999999,37.226343 L -80.34767699999999,37.226262 L -80.347731,37.226243 L -80.34794099999999,37.226188 L -80.34803099999999,37.226157 L -80.3481,37.226124999999996 L -80.348298,37.226104 L -80.34872399999999,37.226113 L -80.348952,37.226109 L -80.34910599999999,37.226123 L -80.349175,37.226136 L -80.349218,37.226157 L -80.349614,37.226273 L -80.349666,37.226293 L -80.35016499999999,37.226333 L -80.350447,37.226317 L -80.35062099999999,37.226372999999995 L -80.35076699999999,37.22641 L -80.350914,37.226482 L -80.35105999999999,37.226523 L -80.35122,37.226557 L -80.35163899999999,37.226611999999996 L -80.351753,37.226645999999995 L -80.351899,37.226665 L -80.351925,37.226684999999996 L -80.352007,37.226713 L -80.35206699999999,37.226726 L -80.352171,37.22674 L -80.352386,37.226698 L -80.352592,37.22667 L -80.352674,37.22668 L -80.352876,37.226738 L -80.35294499999999,37.226769 L -80.353332,37.226915 L -80.353427,37.226963 L -80.353522,37.227039 L -80.353583,37.227152 L -80.353652,37.227227 L -80.353712,37.227281999999995 L -80.353838,37.227422 L -80.35394099999999,37.227587 L -80.354095,37.227733 L -80.354179,37.227827 L -80.354343,37.227956999999996 L -80.354464,37.228038999999995 L -80.35484199999999,37.228072 L -80.35515199999999,37.228023 L -80.355289,37.227982 L -80.355328,37.227961 L -80.355437,37.227882 L -80.35547799999999,37.227837 L -80.35551199999999,37.227816 L -80.355632,37.227775 L -80.35569699999999,37.227733 L -80.35580999999999,37.22768 L -80.35610899999999,37.227561 L -80.35619,37.227533 L -80.35632799999999,37.227498 L -80.35636199999999,37.227477 L -80.356431,37.227457 L -80.35652499999999,37.227443 L -80.35722299999999,37.227243 L -80.357423,37.227202999999996 L -80.357681,37.227196 L -80.357952,37.227212 L -80.358111,37.227278999999996 L -80.358193,37.227328 L -80.358323,37.227393 L -80.358547,37.227526 L -80.358749,37.227591 L -80.358863,37.227604 L -80.3589,37.227608 L -80.358943,37.227608 L -80.359055,37.227627999999996 L -80.359332,37.227696 L -80.359515,37.227754 L -80.359993,37.227838999999996 L -80.360264,37.227848 L -80.360496,37.227875 L -80.36065599999999,37.227911999999996 L -80.360716,37.227933 L -80.36075,37.227953 L -80.360828,37.227973999999996 L -80.360905,37.228015 L -80.36103,37.228068 L -80.361181,37.22811 L -80.36125799999999,37.228151 L -80.361362,37.22822 L -80.36144,37.228246999999996 L -80.361508,37.22826 L -80.362173,37.228243 L -80.362293,37.22824 L -80.36242,37.228237 L -80.36251,37.228209 L -80.36260899999999,37.228201999999996 L -80.362669,37.228223 L -80.36299199999999,37.228232 L -80.363056,37.228229 L -80.363119,37.228213 L -80.363159,37.228209 L -80.363404,37.228138 L -80.363469,37.228145 L -80.363547,37.228187999999996 L -80.363123,37.228750999999995 L -80.363023,37.228947999999995 L -80.36300899999999,37.229155999999996 L -80.36302599999999,37.229191 L -80.363056,37.229227 L -80.363091,37.229321 L -80.363095,37.229334 L -80.363113,37.229397 L -80.36313,37.229431 L -80.36308799999999,37.229548 L -80.363045,37.22961 L -80.362993,37.229665 L -80.36290799999999,37.229734 L -80.362865,37.229754 L -80.362706,37.229863 L -80.362616,37.229948 L -80.362556,37.230036999999996 L -80.362535,37.230115999999995 L -80.36251,37.230177999999995 L -80.362488,37.230264 L -80.36246799999999,37.230481 L -80.362438,37.230663 L -80.362448,37.230848 L -80.36242,37.231345999999995 L -80.362382,37.231501 L -80.362348,37.231597 L -80.362237,37.231851999999996 L -80.362228,37.231893 L -80.362177,37.232019 L -80.362135,37.232197 L -80.362127,37.23234 L -80.36216,37.232541 L -80.362206,37.232704 L -80.362189,37.232848 L -80.362157,37.232927 L -80.362104,37.233117 L -80.36200199999999,37.233337 L -80.3619,37.233607 L -80.36186599999999,37.233751 L -80.361841,37.233900999999996 L -80.361841,37.233982999999995 L -80.361824,37.234058999999995 L -80.361713,37.23422 L -80.361645,37.234279 L -80.361511,37.234305 L -80.36112899999999,37.234411 L -80.36098299999999,37.234487 L -80.36094899999999,37.234515 L -80.360906,37.23457 L -80.360838,37.234687 L -80.360709,37.234826 L -80.360598,37.234944999999996 L -80.360367,37.235231 L -80.360315,37.235258 L -80.36013899999999,37.235392999999995 L -80.36012699999999,37.235403 L -80.36005,37.235465 L -80.35994699999999,37.235507 L -80.359878,37.235548 L -80.35967,37.235616 L -80.35960999999999,37.235642 L -80.359535,37.235714 L -80.35942399999999,37.235969 L -80.359398,37.235996 L -80.359381,37.236036999999996 L -80.359338,37.236098999999996 L -80.35922699999999,37.236196 L -80.359158,37.23623 L -80.359107,37.236244 L -80.358995,37.236231 L -80.358836,37.236171 L -80.358706,37.236132 L -80.358582,37.236115 L -80.358539,37.236115 L -80.35840499999999,37.236143 L -80.358244,37.236208999999995 L -80.358186,37.236247 L -80.35815199999999,37.236288 L -80.358122,37.236353 L -80.35809499999999,37.236430999999996 L -80.358117,37.236565 L -80.358136,37.236625 L -80.358415,37.236866 L -80.358464,37.236947 L -80.35849,37.236974 L -80.358525,37.237041 L -80.35855099999999,37.237145999999996 L -80.358645,37.237373999999996 L -80.358654,37.237401 L -80.358695,37.237527 L -80.358711,37.237747999999996 L -80.35866399999999,37.237895 L -80.35865799999999,37.237984 L -80.358684,37.238073 L -80.358745,37.238174 L -80.358775,37.238276 L -80.358797,37.238403 L -80.358789,37.238526 L -80.358747,37.238642999999996 L -80.35863599999999,37.238842999999996 L -80.35843,37.239028999999995 L -80.358404,37.239077 L -80.358353,37.239125 L -80.358154,37.239274 L -80.357984,37.23938 L -80.35775699999999,37.239501 L -80.357598,37.239598 L -80.357469,37.239657 L -80.357401,37.239698 L -80.357366,37.239739 L -80.357275,37.239985 L -80.357295,37.240097 L -80.35736399999999,37.240234 L -80.35739,37.240299 L -80.357394,37.240344 L -80.357427,37.240473 L -80.357359,37.240717 L -80.357353,37.240804 L -80.357388,37.240961999999996 L -80.35741,37.241006999999996 L -80.357415,37.241071999999996 L -80.35736399999999,37.241431 L -80.35731799999999,37.241690999999996 L -80.357289,37.241856 L -80.357255,37.241924999999995 L -80.35735799999999,37.241945 L -80.35741,37.241945 L -80.35753799999999,37.241917 L -80.357599,37.241917 L -80.357907,37.241997 L -80.358128,37.241980999999996 L -80.358175,37.241983999999995 L -80.35828099999999,37.24201 L -80.35867499999999,37.242270999999995 L -80.358757,37.242309 L -80.358839,37.242367 L -80.358908,37.24248 L -80.35896,37.242532 L -80.359053,37.242585 L -80.359158,37.242616999999996 L -80.35922699999999,37.242661 L -80.359253,37.242695999999995 L -80.35927099999999,37.242771 L -80.359245,37.242883 L -80.359203,37.242993 L -80.35922,37.243091 L -80.359264,37.243128999999996 L -80.359376,37.243196999999995 L -80.359455,37.243227999999995 L -80.35964299999999,37.243279 L -80.359905,37.243336 L -80.36012,37.243365 L -80.360185,37.243379999999995 L -80.360435,37.243421 L -80.36062799999999,37.243437 L -80.360761,37.243434 L -80.360908,37.243460999999996 L -80.36102,37.243514999999995 L -80.361158,37.243611 L -80.36125299999999,37.243687 L -80.361404,37.243781999999996 L -80.361684,37.244001 L -80.361839,37.244111 L -80.361903,37.244143 L -80.362124,37.244282 L -80.362533,37.244458 L -80.362865,37.244582 L -80.362934,37.244623 L -80.363203,37.244811999999996 L -80.363331,37.244883 L -80.363477,37.244938 L -80.36373499999999,37.245014999999995 L -80.363908,37.245067 L -80.364063,37.245104999999995 L -80.364162,37.245135 L -80.364284,37.245173 L -80.364502,37.245258 L -80.364597,37.245306 L -80.36473,37.245343 L -80.364954,37.245362 L -80.365055,37.245334 L -80.365267,37.245249 L -80.36536199999999,37.245228 L -80.36545199999999,37.245197 L -80.36554699999999,37.245183 L -80.365882,37.245160999999996 L -80.36614399999999,37.245163999999995 L -80.366446,37.245225 L -80.366627,37.245293 L -80.366872,37.245416 L -80.36692,37.245450999999996 L -80.367012,37.245504 L -80.36715199999999,37.24556 L -80.367318,37.245613 L -80.367583,37.245661999999996 L -80.36762999999999,37.245678999999996 L -80.367678,37.245681999999995 L -80.367722,37.245689999999996 L -80.367858,37.245716 L -80.367919,37.245764 L -80.367988,37.245853 L -80.368023,37.245915 L -80.368085,37.245992 L -80.368118,37.246044999999995 L -80.368161,37.246092999999995 L -80.368178,37.246127 L -80.36831699999999,37.246285 L -80.368403,37.246415 L -80.368507,37.246552 L -80.368585,37.246614 L -80.368645,37.246648 L -80.368916,37.246705999999996 L -80.36898099999999,37.246708999999996 L -80.369321,37.24676 L -80.369562,37.24678 L -80.370379,37.246822 L -80.37056799999999,37.246854 L -80.370693,37.246893 L -80.37108099999999,37.247122 L -80.371116,37.24715 L -80.371239,37.247268 L -80.371297,37.247355 L -80.371375,37.247513 L -80.371393,37.247616 L -80.371415,37.247668 L -80.371494,37.248258 L -80.371521,37.248402999999996 L -80.371484,37.248827 L -80.371467,37.248942 L -80.37148499999999,37.248996999999996 L -80.371571,37.249086 L -80.371605,37.249113 L -80.371709,37.249154 L -80.371881,37.249235999999996 L -80.372069,37.249342 L -80.372286,37.249455 L -80.37245899999999,37.24951 L -80.372592,37.249537 L -80.372855,37.249556999999996 L -80.372928,37.249553 L -80.373087,37.249531999999995 L -80.373341,37.249545 L -80.373457,37.249569 L -80.37371499999999,37.249568 L -80.373882,37.24955 L -80.374093,37.249511999999996 L -80.37453099999999,37.249449 L -80.374566,37.249428 L -80.374652,37.249414 L -80.374729,37.249386 L -80.37477,37.249331 L -80.374935,37.249272 L -80.37521,37.249195 L -80.375348,37.249173 L -80.375616,37.249106999999995 L -80.375671,37.249106999999995 L -80.375753,37.249085 L -80.376001,37.249063 L -80.376035,37.249052 L -80.376578,37.249052999999996 L -80.37674299999999,37.249064 L -80.376778,37.249075 L -80.376943,37.249069 L -80.376998,37.24908 L -80.37748599999999,37.249092 L -80.377513,37.249081 L -80.377596,37.249078 L -80.377712,37.249075 L -80.37779499999999,37.249052999999996 L -80.37785699999999,37.249052999999996 L -80.378125,37.249009 L -80.378475,37.248971 L -80.378503,37.24896 L -80.37866799999999,37.24896 L -80.378695,37.248948999999996 L -80.37913499999999,37.248948999999996 L -80.37917,37.248961 L -80.37928,37.248961 L -80.37939,37.248982999999996 L -80.37944499999999,37.248982999999996 L -80.379582,37.249016 L -80.37969199999999,37.249027 L -80.37971999999999,37.249038 L -80.379775,37.249038 L -80.379802,37.249049 L -80.379857,37.249049 L -80.380022,37.249082 L -80.380077,37.249082 L -80.380104,37.249092999999995 L -80.38015899999999,37.249092999999995 L -80.380324,37.249126 L -80.38037899999999,37.249126 L -80.380462,37.249148 L -80.380544,37.249148 L -80.380819,37.249181 L -80.38090199999999,37.249181 L -80.380929,37.249192 L -80.381067,37.249192 L -80.38109399999999,37.249203 L -80.381314,37.249203 L -80.38134199999999,37.249192 L -80.381588,37.249192 L -80.381659,37.249192 L -80.381699,37.249192 L -80.381727,37.249203 L -80.38180899999999,37.249203 L -80.382139,37.249280999999996 L -80.382221,37.249314 L -80.382249,37.249314 L -80.382331,37.249347 L -80.382441,37.249369 L -80.382503,37.249396 L -80.382826,37.24949 L -80.383156,37.249545 L -80.383403,37.24955 L -80.383596,37.249534 L -80.38370599999999,37.249534 L -80.38376099999999,37.249522999999996 L -80.384256,37.249522999999996 L -80.384311,37.249511999999996 L -80.384338,37.249522999999996 L -80.384421,37.249522999999996 L -80.38444799999999,37.249534 L -80.384778,37.249545 L -80.384964,37.249569 L -80.384967,37.249582 L -80.384992,37.249638 L -80.385018,37.249677999999996 L -80.38502799999999,37.249691999999996 L -80.38506199999999,37.249728 L -80.38510000000001,37.249762 L -80.38521399999999,37.249835999999995 L -80.385663,37.250083 L -80.385789,37.250136999999995 L -80.385952,37.250192999999996 L -80.386087,37.250228 L -80.386263,37.250261 L -80.38662699999999,37.250310999999996 L -80.38735199999999,37.25038 L -80.387551,37.250402 L -80.387748,37.250428 L -80.387928,37.250448 L -80.38814599999999,37.250465999999996 L -80.38849499999999,37.250482 L -80.388579,37.25049 L -80.388661,37.250507 L -80.388778,37.250547999999995 L -80.388882,37.250606999999995 L -80.38895699999999,37.250667 L -80.389028,37.250744999999995 L -80.389185,37.250943 L -80.38927799999999,37.251084999999996 L -80.389387,37.251279 L -80.389485,37.251425 L -80.38962699999999,37.251599 L -80.389753,37.251767 L -80.389855,37.251886 L -80.389996,37.252016999999995 L -80.390171,37.252142 L -80.390517,37.252364 L -80.390653,37.252468 L -80.390776,37.252582 L -80.391036,37.252797 L -80.391235,37.252939999999995 L -80.391494,37.253141 L -80.391644,37.253277 L -80.391781,37.253422 L -80.391892,37.253565 L -80.39198499999999,37.253713 L -80.39206,37.253867 L -80.39214,37.254098 L -80.392241,37.254474 L -80.392325,37.254706 L -80.392395,37.254861999999996 L -80.392495,37.255043 L -80.39260999999999,37.255217 L -80.39298,37.255691 L -80.393018,37.255728 L -80.393169,37.255900000000004 L -80.393249,37.256012999999996 L -80.39330799999999,37.256116 L -80.393363,37.256245 L -80.3934,37.256378 L -80.393438,37.256668 L -80.39346499999999,37.256825 L -80.393512,37.257036 L -80.393552,37.257158 L -80.393637,37.257366 L -80.393649,37.257391 L -80.39375199999999,37.257596 L -80.39383699999999,37.257723999999996 L -80.393937,37.257844999999996 L -80.394161,37.258071 L -80.394378,37.258265 L -80.394482,37.258342999999996 L -80.39459,37.258407999999996 L -80.394673,37.258448 L -80.394742,37.258477 L -80.395298,37.258649999999996 L -80.395361,37.258666 L -80.39551399999999,37.258716 L -80.39565999999999,37.25878 L -80.39579599999999,37.258855 L -80.395968,37.258973 L -80.39607699999999,37.259068 L -80.396171,37.259170999999995 L -80.396248,37.259282 L -80.396481,37.259614 L -80.396647,37.25982 L -80.39672499999999,37.259893 L -80.39680899999999,37.259951 L -80.39689899999999,37.259997 L -80.397367,37.260172 L -80.397487,37.260227 L -80.39756799999999,37.260275 L -80.397618,37.260309 L -80.397714,37.260388 L -80.3981,37.26079 L -80.398174,37.26087 L -80.398246,37.260948 L -80.399394,37.262192999999996 L -80.399457,37.262260999999995 L -80.399425,37.26228 L -80.398845,37.262619 L -80.39855399999999,37.262789 L -80.398477,37.262834999999995 L -80.398004,37.263110999999995 L -80.397745,37.263262999999995 L -80.39767499999999,37.263203 L -80.397318,37.262933 L -80.397149,37.263691 L -80.39714599999999,37.263777999999995 L -80.397125,37.263861999999996 L -80.397075,37.263965999999996 L -80.396733,37.265383 L -80.39685,37.265412999999995 L -80.396779,37.265983999999996 L -80.396849,37.266 L -80.396999,37.26604 L -80.39721999999999,37.266096999999995 L -80.39731499999999,37.266121999999996 L -80.397655,37.266213 L -80.397971,37.266297 L -80.398242,37.266369 L -80.398704,37.266492 L -80.398859,37.266532999999995 L -80.399613,37.266723 L -80.39962899999999,37.266759 L -80.399653,37.266812 L -80.399672,37.266856 L -80.399688,37.266891 L -80.39978099999999,37.267016999999996 L -80.400249,37.267647 L -80.403566,37.271125999999995 L -80.403933,37.271511 L -80.40472299999999,37.272258 L -80.405431,37.272966 L -80.40590399999999,37.273201 L -80.406486,37.273692 L -80.407454,37.27451 L -80.40805499999999,37.275017 L -80.40814499999999,37.275248999999995 L -80.408198,37.275138 L -80.409278,37.274724 L -80.40964699999999,37.27467 L -80.410155,37.274595999999995 L -80.410298,37.274679 L -80.410364,37.274653 L -80.410451,37.274626 L -80.410539,37.274604 L -80.410635,37.274591 L -80.410726,37.27458 L -80.410809,37.274567 L -80.410957,37.27455 L -80.41102599999999,37.274567999999995 L -80.41106599999999,37.274563 L -80.41131,37.274530999999996 L -80.411575,37.274437 L -80.411597,37.274421 L -80.41205,37.274429 L -80.413185,37.274446 L -80.413906,37.275348 L -80.416615,37.275745 L -80.417807,37.276188 L -80.418987,37.276629 L -80.419304,37.276744 L -80.419401,37.276779999999995 L -80.41981,37.276933 L -80.41994799999999,37.276602 L -80.420002,37.276474 L -80.42004899999999,37.276508 L -80.4201,37.276545 L -80.42026899999999,37.276661 L -80.42045,37.276773999999996 L -80.42062399999999,37.276874 L -80.420721,37.276927 L -80.420799,37.276969 L -80.42106,37.277094999999996 L -80.421257,37.277181999999996 L -80.42138,37.277232 L -80.421756,37.277363 L -80.42204,37.277443999999996 L -80.422401,37.27753 L -80.422668,37.277581 L -80.423034,37.277628 L -80.423621,37.277693 L -80.424802,37.277816 L -80.425703,37.277908 L -80.427719,37.278115 L -80.432389,37.278596 L -80.432486,37.278605999999996 L -80.432763,37.278634 L -80.435064,37.278870999999995 L -80.438101,37.279177 L -80.438448,37.279212 L -80.439213,37.279297 L -80.439514,37.27935 L -80.439752,37.279402 L -80.440045,37.27948 L -80.440331,37.279572 L -80.440539,37.279648 L -80.440713,37.279720999999995 L -80.44097,37.27984 L -80.441289,37.280018999999996 L -80.441589,37.280214 L -80.441724,37.280311999999995 L -80.441806,37.280373999999995 L -80.442087,37.280608 L -80.442342,37.280826999999995 L -80.442779,37.281203999999995 L -80.442837,37.281255 L -80.443122,37.281479 L -80.443367,37.281642999999995 L -80.443624,37.281797 L -80.443851,37.281917 L -80.44386999999999,37.281928 L -80.444172,37.282064999999996 L -80.44443299999999,37.282164 L -80.444751,37.282269 L -80.44502,37.282340999999995 L -80.445295,37.282399 L -80.44546199999999,37.282426 L -80.445852,37.282477 L -80.446073,37.282495 L -80.446412,37.282509 L -80.447807,37.282471 L -80.44857499999999,37.282455999999996 L -80.448869,37.282466 L -80.449133,37.282486 L -80.44934099999999,37.282511 L -80.449584,37.28255 L -80.449884,37.282613 L -80.450003,37.282641 L -80.45004399999999,37.282652999999996 L -80.450064,37.282654 L -80.45029699999999,37.282727 L -80.45047,37.282786 L -80.45064099999999,37.282849 L -80.45092,37.282962999999995 L -80.45124299999999,37.283117 L -80.45138399999999,37.283196 L -80.45173199999999,37.283409 L -80.452592,37.283946 L -80.452871,37.284126 L -80.453181,37.284304999999996 L -80.453502,37.284472 L -80.453768,37.284586 L -80.454042,37.284687 L -80.454323,37.284774999999996 L -80.454663,37.284862 L -80.45488999999999,37.284908 L -80.45512,37.284945 L -80.45612,37.285053 L -80.460346,37.285492999999995 L -80.461421,37.285602 L -80.46390199999999,37.28586 L -80.464474,37.285911999999996 L -80.464871,37.285934 L -80.465418,37.285942999999996 L -80.46571399999999,37.285938 L -80.466084,37.28592 L -80.467269,37.285817 L -80.4708,37.285485 L -80.471336,37.285430999999996 L -80.472826,37.285294 L -80.473501,37.285213 L -80.47406699999999,37.285133 L -80.474632,37.285044 L -80.47645899999999,37.284731 L -80.47665099999999,37.284707999999995 L -80.47689199999999,37.284692 L -80.47713499999999,37.284689 L -80.47737699999999,37.2847 L -80.477617,37.284725 L -80.477864,37.284765 L -80.478112,37.284819999999996 L -80.478248,37.284859 L -80.478355,37.284889 L -80.478511,37.284942 L -80.47872799999999,37.285028 L -80.47886299999999,37.285088 L -80.47919399999999,37.285258 L -80.479094,37.285317 L -80.47906499999999,37.285334 L -80.479036,37.285351 L -80.47842899999999,37.285705 L -80.477086,37.286764 L -80.475051,37.288193 L -80.474865,37.288353 L -80.473737,37.289325999999996 L -80.47304799999999,37.289922 L -80.47118499999999,37.291072 L -80.469396,37.292358 L -80.46743599999999,37.293831 L -80.466645,37.294332 L -80.465094,37.295317 L -80.464753,37.295522 L -80.46257,37.296841 L -80.461074,37.297526 L -80.459587,37.298421999999995 L -80.45915699999999,37.298660999999996 L -80.458569,37.298921 L -80.45674799999999,37.300005999999996 L -80.455879,37.300618 L -80.45197499999999,37.302626 L -80.45182899999999,37.302732 L -80.451217,37.303111 L -80.449789,37.304043 L -80.449451,37.304288 L -80.448698,37.304834 L -80.44653699999999,37.306180999999995 L -80.444672,37.307683 L -80.443703,37.308382 L -80.44309,37.308824 L -80.441987,37.309702 L -80.43993999999999,37.311037 L -80.439302,37.311465999999996 L -80.438289,37.312143 L -80.437061,37.312897 L -80.436077,37.313387999999996 L -80.434679,37.314192999999996 L -80.434623,37.314257 L -80.434564,37.314319999999995 L -80.434502,37.314381 L -80.434437,37.31444 L -80.43437,37.314496999999996 L -80.43430099999999,37.314552 L -80.434229,37.314606 L -80.43415499999999,37.314657 L -80.434078,37.314706 L -80.434022,37.31474 L -80.433463,37.315062999999995 L -80.430943,37.316378 L -80.430696,37.316496 L -80.429841,37.316885 L -80.425556,37.318779 L -80.42549,37.318816999999996 L -80.424397,37.319348 L -80.424278,37.319406 L -80.424174,37.319485 L -80.42406299999999,37.319556999999996 L -80.423954,37.31963 L -80.423846,37.319704 L -80.42374,37.31978 L -80.423636,37.319857999999996 L -80.42353299999999,37.319936999999996 L -80.423433,37.320017 L -80.423312,37.320116 L -80.419275,37.322601999999996 L -80.416578,37.323975 L -80.41623899999999,37.324128 L -80.415897,37.324276 L -80.415759,37.324334 L -80.414399,37.325026 L -80.411982,37.325612 L -80.411188,37.325753 L -80.41081799999999,37.325829 L -80.41031799999999,37.325922999999996 L -80.404664,37.327393 L -80.40223999999999,37.327954999999996 L -80.402074,37.32798 L -80.401909,37.328007 L -80.401744,37.328036 L -80.40158,37.328068 L -80.401416,37.328102 L -80.401254,37.328137999999996 L -80.40109199999999,37.328176 L -80.400931,37.328216999999995 L -80.40077099999999,37.32826 L -80.400612,37.328305 L -80.400453,37.328351999999995 L -80.400296,37.328402 L -80.40014,37.328454 L -80.399986,37.328506999999995 L -80.39983199999999,37.328564 L -80.399642,37.328637 L -80.395692,37.330099 L -80.39389899999999,37.330853999999995 L -80.39142199999999,37.331821 L -80.390412,37.332343 L -80.388361,37.333188 L -80.38815,37.333264 L -80.38793799999999,37.333338 L -80.387723,37.333408 L -80.387508,37.333475 L -80.38729099999999,37.33354 L -80.38716099999999,37.333574999999996 L -80.387029,37.333695999999996 L -80.386197,37.334126999999995 L -80.385932,37.334382999999995 L -80.38555199999999,37.334919 L -80.384924,37.335156 L -80.38413899999999,37.335454 L -80.38277599999999,37.336141 L -80.382328,37.336425999999996 L -80.38110999999999,37.337021 L -80.380431,37.337289999999996 L -80.377825,37.338552 L -80.376691,37.338906 L -80.375901,37.339199 L -80.374774,37.339639999999996 L -80.374027,37.339802999999996 L -80.369529,37.341668999999996 L -80.36541799999999,37.343105 L -80.36267,37.344263 L -80.358944,37.345942 L -80.357722,37.346502 L -80.357509,37.346593999999996 L -80.351522,37.349193 L -80.344629,37.352872999999995 L -80.341599,37.354658 L -80.339483,37.356079 L -80.337492,37.357675 L -80.335391,37.359699 L -80.333148,37.361855999999996 L -80.33218699999999,37.362842 L -80.330652,37.364436 L -80.329122,37.365885 L -80.32780000000001,37.366752999999996 L -80.32484,37.368832999999995 L -80.323622,37.368093 L -80.316754,37.363915 L -80.315703,37.363278 L -80.311489,37.360717 L -80.30972799999999,37.359640999999996 L -80.3088,37.359276 L -80.30866,37.359221 L -80.308583,37.359190999999996 L -80.308343,37.359105 L -80.308157,37.359023 L -80.30525999999999,37.357883 L -80.300377,37.355912 L -80.29312999999999,37.352987999999996 L -80.292023,37.352548999999996 L -80.291862,37.352477 L -80.29175599999999,37.35243 L -80.291715,37.352411 L -80.291671,37.352391 L -80.291415,37.352288 L -80.29133499999999,37.352253999999995 L -80.289197,37.351391 L -80.285037,37.349709 L -80.283823,37.349227 L -80.283362,37.349042 L -80.28304299999999,37.348914 L -80.282448,37.348673999999995 L -80.27235,37.344595 L -80.270878,37.344015 L -80.269933,37.34374 L -80.264146,37.342088 L -80.26218399999999,37.341526 L -80.262165,37.341322999999996 L -80.262158,37.341285 L -80.262097,37.340734 L -80.261921,37.339174 L -80.26186899999999,37.338691 L -80.261859,37.338598999999995 L -80.26161599999999,37.336344 L -80.261558,37.335809999999995 L -80.261185,37.332434 L -80.26117599999999,37.332355 L -80.26106399999999,37.331334999999996 L -80.261051,37.331213999999996 L -80.260909,37.329926 L -80.260868,37.329553 L -80.260858,37.329464 L -80.260849,37.32938 L -80.26081599999999,37.329074 L -80.260802,37.328947 L -80.260781,37.328753 L -80.260702,37.328039 L -80.260673,37.327781 L -80.260623,37.327329 L -80.260617,37.327265 L -80.260609,37.327199 L -80.260607,37.327163 L -80.260244,37.323876999999996 L -80.260243,37.323864 L -80.260161,37.323122 L -80.26011799999999,37.322728999999995 L -80.259804,37.319872 L -80.25963,37.318289 L -80.259616,37.318159 L -80.259293,37.315244 L -80.259177,37.314164999999996 L -80.258749,37.310272 L -80.258746,37.310241999999995 L -80.258595,37.308861 L -80.258577,37.308702 L -80.258335,37.308427 L -80.25827,37.308354 L -80.258203,37.308278 L -80.25812599999999,37.308191 L -80.255742,37.30549 L -80.255539,37.305259 L -80.25550799999999,37.305223999999995 L -80.253265,37.302682 L -80.251847,37.301075 L -80.25153999999999,37.300726999999995 L -80.252753,37.299987 L -80.267121,37.291207 L -80.267431,37.290912999999996 L -80.267888,37.290732999999996 L -80.268237,37.290335 L -80.268485,37.289677 L -80.268552,37.289363 L -80.26879199999999,37.288616 L -80.269331,37.288277 L -80.269641,37.287966 L -80.27094,37.286744 L -80.2731,37.284937 L -80.273473,37.284617 L -80.275307,37.283541 L -80.275499,37.283342999999995 L -80.277582,37.282256 L -80.27888,37.280788 L -80.28031399999999,37.278745 L -80.280889,37.277017 L -80.280233,37.274968 L -80.28014399999999,37.273112 L -80.280956,37.270936999999996 L -80.28213199999999,37.269726 L -80.28332999999999,37.269179 L -80.285147,37.268902 L -80.28751,37.268084 L -80.288448,37.267762 L -80.290179,37.266928 L -80.291809,37.266403 L -80.293526,37.265633 L -80.29418199999999,37.264863 L -80.29543,37.264583 L -80.297274,37.263639 L -80.299567,37.262819 L -80.301963,37.262114 L -80.30248,37.261658 L -80.305647,37.258654 L -80.30773599999999,37.257926 L -80.310478,37.257301999999996 L -80.31295899999999,37.256678 L -80.314526,37.255846 L -80.31530699999999,37.254076999999995 L -80.315975,37.252673 L -80.31696099999999,37.251357999999996 L -80.3186,37.250417999999996 L -80.32122199999999,37.249547 L -80.32296,37.248655 L -80.324719,37.247498 L -80.32677199999999,37.246213 L -80.329234,37.244263 L -80.329689,37.243623 L -80.330343,37.242706999999996 L -80.33106699999999,37.24061 L -80.331307,37.239532 L -80.33167399999999,37.239019 L -80.33252399999999,37.238459999999996 L -80.335487,37.236754 L -80.33722499999999,37.235621 L -80.338242,37.234451 L -80.338456,37.233019 L -80.337482,37.231773 L -80.335849,37.229968 L -80.33488,37.228407 z\" /></g></svg>"
      ],
      "text/plain": [
       "<shapely.geometry.polygon.Polygon at 0x7f8b7155c7f0>"
      ]
     },
     "metadata": {},
     "output_type": "display_data"
    },
    {
     "data": {
      "image/svg+xml": [
       "<svg xmlns=\"http://www.w3.org/2000/svg\" xmlns:xlink=\"http://www.w3.org/1999/xlink\" width=\"100.0\" height=\"100.0\" viewBox=\"-80.48830016 37.21699784 0.24586632000000463 0.16094131999999917\" preserveAspectRatio=\"xMinYMin meet\"><g transform=\"matrix(1,0,0,-1,0,74.59493699999999)\"><path fill-rule=\"evenodd\" fill=\"#66cc99\" stroke=\"#555555\" stroke-width=\"0.004917326400000093\" opacity=\"0.6\" d=\"M -80.479094,37.285317 L -80.47906499999999,37.285334 L -80.479036,37.285351 L -80.47842899999999,37.285705 L -80.477086,37.286764 L -80.475051,37.288193 L -80.474865,37.288353 L -80.473737,37.289325999999996 L -80.47304799999999,37.289922 L -80.47118499999999,37.291072 L -80.469396,37.292358 L -80.46743599999999,37.293831 L -80.466645,37.294332 L -80.465094,37.295317 L -80.464753,37.295522 L -80.46257,37.296841 L -80.461074,37.297526 L -80.459587,37.298421999999995 L -80.45915699999999,37.298660999999996 L -80.458569,37.298921 L -80.45674799999999,37.300005999999996 L -80.455879,37.300618 L -80.45197499999999,37.302626 L -80.45182899999999,37.302732 L -80.451217,37.303111 L -80.449789,37.304043 L -80.449451,37.304288 L -80.448698,37.304834 L -80.44653699999999,37.306180999999995 L -80.444672,37.307683 L -80.443703,37.308382 L -80.44309,37.308824 L -80.441987,37.309702 L -80.43993999999999,37.311037 L -80.439302,37.311465999999996 L -80.438289,37.312143 L -80.437061,37.312897 L -80.436077,37.313387999999996 L -80.434679,37.314192999999996 L -80.434623,37.314257 L -80.434564,37.314319999999995 L -80.434502,37.314381 L -80.434437,37.31444 L -80.43437,37.314496999999996 L -80.43430099999999,37.314552 L -80.434229,37.314606 L -80.43415499999999,37.314657 L -80.434078,37.314706 L -80.434022,37.31474 L -80.433463,37.315062999999995 L -80.430943,37.316378 L -80.430696,37.316496 L -80.429841,37.316885 L -80.425556,37.318779 L -80.42549,37.318816999999996 L -80.424397,37.319348 L -80.424278,37.319406 L -80.424174,37.319485 L -80.42406299999999,37.319556999999996 L -80.423954,37.31963 L -80.423846,37.319704 L -80.42374,37.31978 L -80.423636,37.319857999999996 L -80.42353299999999,37.319936999999996 L -80.423433,37.320017 L -80.423312,37.320116 L -80.419275,37.322601999999996 L -80.416578,37.323975 L -80.41623899999999,37.324128 L -80.415897,37.324276 L -80.415759,37.324334 L -80.414399,37.325026 L -80.411982,37.325612 L -80.411188,37.325753 L -80.41081799999999,37.325829 L -80.41031799999999,37.325922999999996 L -80.404664,37.327393 L -80.40223999999999,37.327954999999996 L -80.402074,37.32798 L -80.401909,37.328007 L -80.401744,37.328036 L -80.40158,37.328068 L -80.401416,37.328102 L -80.401254,37.328137999999996 L -80.40109199999999,37.328176 L -80.400931,37.328216999999995 L -80.40077099999999,37.32826 L -80.400612,37.328305 L -80.400453,37.328351999999995 L -80.400296,37.328402 L -80.40014,37.328454 L -80.399986,37.328506999999995 L -80.39983199999999,37.328564 L -80.399642,37.328637 L -80.395692,37.330099 L -80.39389899999999,37.330853999999995 L -80.39142199999999,37.331821 L -80.390412,37.332343 L -80.388361,37.333188 L -80.38815,37.333264 L -80.38793799999999,37.333338 L -80.387723,37.333408 L -80.387508,37.333475 L -80.38729099999999,37.33354 L -80.38716099999999,37.333574999999996 L -80.387029,37.333695999999996 L -80.386197,37.334126999999995 L -80.385932,37.334382999999995 L -80.38555199999999,37.334919 L -80.384924,37.335156 L -80.38413899999999,37.335454 L -80.38277599999999,37.336141 L -80.382328,37.336425999999996 L -80.38110999999999,37.337021 L -80.380431,37.337289999999996 L -80.377825,37.338552 L -80.376691,37.338906 L -80.375901,37.339199 L -80.374774,37.339639999999996 L -80.374027,37.339802999999996 L -80.369529,37.341668999999996 L -80.36541799999999,37.343105 L -80.36267,37.344263 L -80.358944,37.345942 L -80.357722,37.346502 L -80.357509,37.346593999999996 L -80.351522,37.349193 L -80.344629,37.352872999999995 L -80.341599,37.354658 L -80.339483,37.356079 L -80.337492,37.357675 L -80.335391,37.359699 L -80.333148,37.361855999999996 L -80.33218699999999,37.362842 L -80.330652,37.364436 L -80.329122,37.365885 L -80.32780000000001,37.366752999999996 L -80.32484,37.368832999999995 L -80.323622,37.368093 L -80.316754,37.363915 L -80.315703,37.363278 L -80.311489,37.360717 L -80.30972799999999,37.359640999999996 L -80.3088,37.359276 L -80.30866,37.359221 L -80.308583,37.359190999999996 L -80.308343,37.359105 L -80.308157,37.359023 L -80.30525999999999,37.357883 L -80.300377,37.355912 L -80.29312999999999,37.352987999999996 L -80.292023,37.352548999999996 L -80.291862,37.352477 L -80.29175599999999,37.35243 L -80.291715,37.352411 L -80.291671,37.352391 L -80.291415,37.352288 L -80.29133499999999,37.352253999999995 L -80.289197,37.351391 L -80.285037,37.349709 L -80.283823,37.349227 L -80.283362,37.349042 L -80.28304299999999,37.348914 L -80.282448,37.348673999999995 L -80.27235,37.344595 L -80.270878,37.344015 L -80.269933,37.34374 L -80.264146,37.342088 L -80.26218399999999,37.341526 L -80.262165,37.341322999999996 L -80.262158,37.341285 L -80.262097,37.340734 L -80.261921,37.339174 L -80.26186899999999,37.338691 L -80.261859,37.338598999999995 L -80.26161599999999,37.336344 L -80.261558,37.335809999999995 L -80.261185,37.332434 L -80.26117599999999,37.332355 L -80.26106399999999,37.331334999999996 L -80.261051,37.331213999999996 L -80.260909,37.329926 L -80.260868,37.329553 L -80.260858,37.329464 L -80.260849,37.32938 L -80.26081599999999,37.329074 L -80.260802,37.328947 L -80.260781,37.328753 L -80.260702,37.328039 L -80.260673,37.327781 L -80.260623,37.327329 L -80.260617,37.327265 L -80.260609,37.327199 L -80.260607,37.327163 L -80.260244,37.323876999999996 L -80.260243,37.323864 L -80.260161,37.323122 L -80.26011799999999,37.322728999999995 L -80.259804,37.319872 L -80.25963,37.318289 L -80.259616,37.318159 L -80.259293,37.315244 L -80.259177,37.314164999999996 L -80.258749,37.310272 L -80.258746,37.310241999999995 L -80.258595,37.308861 L -80.258577,37.308702 L -80.258335,37.308427 L -80.25827,37.308354 L -80.258203,37.308278 L -80.25812599999999,37.308191 L -80.255742,37.30549 L -80.255539,37.305259 L -80.25550799999999,37.305223999999995 L -80.253265,37.302682 L -80.251847,37.301075 L -80.25153999999999,37.300726999999995 L -80.252753,37.299987 L -80.267121,37.291207 L -80.267431,37.290912999999996 L -80.267888,37.290732999999996 L -80.268237,37.290335 L -80.268485,37.289677 L -80.268552,37.289363 L -80.26879199999999,37.288616 L -80.269331,37.288277 L -80.269641,37.287966 L -80.27094,37.286744 L -80.2731,37.284937 L -80.273473,37.284617 L -80.275307,37.283541 L -80.275499,37.283342999999995 L -80.277582,37.282256 L -80.27888,37.280788 L -80.28031399999999,37.278745 L -80.280889,37.277017 L -80.280233,37.274968 L -80.28014399999999,37.273112 L -80.280956,37.270936999999996 L -80.28213199999999,37.269726 L -80.28332999999999,37.269179 L -80.285147,37.268902 L -80.28751,37.268084 L -80.288448,37.267762 L -80.290179,37.266928 L -80.291809,37.266403 L -80.293526,37.265633 L -80.29418199999999,37.264863 L -80.29543,37.264583 L -80.297274,37.263639 L -80.299567,37.262819 L -80.301963,37.262114 L -80.30248,37.261658 L -80.305647,37.258654 L -80.30773599999999,37.257926 L -80.310478,37.257301999999996 L -80.31295899999999,37.256678 L -80.314526,37.255846 L -80.31530699999999,37.254076999999995 L -80.315975,37.252673 L -80.31696099999999,37.251357999999996 L -80.3186,37.250417999999996 L -80.32122199999999,37.249547 L -80.32296,37.248655 L -80.324719,37.247498 L -80.32677199999999,37.246213 L -80.329234,37.244263 L -80.329689,37.243623 L -80.330343,37.242706999999996 L -80.33106699999999,37.24061 L -80.331307,37.239532 L -80.33167399999999,37.239019 L -80.33252399999999,37.238459999999996 L -80.335487,37.236754 L -80.33722499999999,37.235621 L -80.338242,37.234451 L -80.338456,37.233019 L -80.337482,37.231773 L -80.335849,37.229968 L -80.33488,37.228407 L -80.33861399999999,37.228321 L -80.339474,37.228319 L -80.339747,37.228276 L -80.34000499999999,37.228254 L -80.34015699999999,37.228231 L -80.340643,37.228213 L -80.34112499999999,37.228212 L -80.34174399999999,37.228231 L -80.34230000000001,37.228156 L -80.342449,37.228105 L -80.34252,37.22806 L -80.342603,37.228029 L -80.342919,37.227944 L -80.34308399999999,37.227891 L -80.343503,37.227812 L -80.34365199999999,37.227772 L -80.34378699999999,37.227743 L -80.344167,37.227641 L -80.34431699999999,37.227539 L -80.34438999999999,37.227509 L -80.34475499999999,37.227423 L -80.34551599999999,37.227348 L -80.345609,37.227362 L -80.345688,37.227382 L -80.34584799999999,37.227392 L -80.345989,37.227381 L -80.346075,37.227381 L -80.346462,37.227312 L -80.346617,37.227242 L -80.346694,37.227201 L -80.346908,37.227036 L -80.347037,37.22697 L -80.34707999999999,37.226942 L -80.34714,37.226863 L -80.347157,37.226828999999995 L -80.347183,37.226801 L -80.3472,37.226746 L -80.347225,37.226712 L -80.347268,37.226608999999996 L -80.347302,37.22656 L -80.347319,37.226512 L -80.34741799999999,37.226411 L -80.34751399999999,37.226343 L -80.34767699999999,37.226262 L -80.347731,37.226243 L -80.34794099999999,37.226188 L -80.34803099999999,37.226157 L -80.3481,37.226124999999996 L -80.348298,37.226104 L -80.34872399999999,37.226113 L -80.348952,37.226109 L -80.34910599999999,37.226123 L -80.349175,37.226136 L -80.349218,37.226157 L -80.349614,37.226273 L -80.349666,37.226293 L -80.35016499999999,37.226333 L -80.350447,37.226317 L -80.35062099999999,37.226372999999995 L -80.35076699999999,37.22641 L -80.350914,37.226482 L -80.35105999999999,37.226523 L -80.35122,37.226557 L -80.35163899999999,37.226611999999996 L -80.351753,37.226645999999995 L -80.351899,37.226665 L -80.351925,37.226684999999996 L -80.352007,37.226713 L -80.35206699999999,37.226726 L -80.352171,37.22674 L -80.352386,37.226698 L -80.352592,37.22667 L -80.352674,37.22668 L -80.352876,37.226738 L -80.35294499999999,37.226769 L -80.353332,37.226915 L -80.353427,37.226963 L -80.353522,37.227039 L -80.353583,37.227152 L -80.353652,37.227227 L -80.353712,37.227281999999995 L -80.353838,37.227422 L -80.35394099999999,37.227587 L -80.354095,37.227733 L -80.354179,37.227827 L -80.354343,37.227956999999996 L -80.354464,37.228038999999995 L -80.35484199999999,37.228072 L -80.35515199999999,37.228023 L -80.355289,37.227982 L -80.355328,37.227961 L -80.355437,37.227882 L -80.35547799999999,37.227837 L -80.35551199999999,37.227816 L -80.355632,37.227775 L -80.35569699999999,37.227733 L -80.35580999999999,37.22768 L -80.35610899999999,37.227561 L -80.35619,37.227533 L -80.35632799999999,37.227498 L -80.35636199999999,37.227477 L -80.356431,37.227457 L -80.35652499999999,37.227443 L -80.35722299999999,37.227243 L -80.357423,37.227202999999996 L -80.357681,37.227196 L -80.357952,37.227212 L -80.358111,37.227278999999996 L -80.358193,37.227328 L -80.358323,37.227393 L -80.358547,37.227526 L -80.358749,37.227591 L -80.358863,37.227604 L -80.3589,37.227608 L -80.358943,37.227608 L -80.359055,37.227627999999996 L -80.359332,37.227696 L -80.359515,37.227754 L -80.359993,37.227838999999996 L -80.360264,37.227848 L -80.360496,37.227875 L -80.36065599999999,37.227911999999996 L -80.360716,37.227933 L -80.36075,37.227953 L -80.360828,37.227973999999996 L -80.360905,37.228015 L -80.36103,37.228068 L -80.361181,37.22811 L -80.36125799999999,37.228151 L -80.361362,37.22822 L -80.36144,37.228246999999996 L -80.361508,37.22826 L -80.362173,37.228243 L -80.362104,37.228389 L -80.362149,37.228411 L -80.36218,37.228437 L -80.362246,37.228505999999996 L -80.362296,37.228583 L -80.362324,37.22865 L -80.362358,37.228865 L -80.362376,37.229113999999996 L -80.362397,37.229166 L -80.362434,37.229212 L -80.36248499999999,37.229248 L -80.362563,37.229278 L -80.36265,37.2293 L -80.362763,37.229316 L -80.363091,37.229321 L -80.363095,37.229334 L -80.363113,37.229397 L -80.36313,37.229431 L -80.36308799999999,37.229548 L -80.363045,37.22961 L -80.362993,37.229665 L -80.36290799999999,37.229734 L -80.362865,37.229754 L -80.362706,37.229863 L -80.362616,37.229948 L -80.362556,37.230036999999996 L -80.362535,37.230115999999995 L -80.36251,37.230177999999995 L -80.362488,37.230264 L -80.36246799999999,37.230481 L -80.362438,37.230663 L -80.362448,37.230848 L -80.36242,37.231345999999995 L -80.362382,37.231501 L -80.362348,37.231597 L -80.362237,37.231851999999996 L -80.362228,37.231893 L -80.362177,37.232019 L -80.362135,37.232197 L -80.362127,37.23234 L -80.36216,37.232541 L -80.362206,37.232704 L -80.362189,37.232848 L -80.362157,37.232927 L -80.362104,37.233117 L -80.36200199999999,37.233337 L -80.3619,37.233607 L -80.36186599999999,37.233751 L -80.361841,37.233900999999996 L -80.361841,37.233982999999995 L -80.361824,37.234058999999995 L -80.361713,37.23422 L -80.361645,37.234279 L -80.361511,37.234305 L -80.36112899999999,37.234411 L -80.36098299999999,37.234487 L -80.36094899999999,37.234515 L -80.360906,37.23457 L -80.360838,37.234687 L -80.360709,37.234826 L -80.360598,37.234944999999996 L -80.360367,37.235231 L -80.360315,37.235258 L -80.36013899999999,37.235392999999995 L -80.36012699999999,37.235403 L -80.36005,37.235465 L -80.35994699999999,37.235507 L -80.359878,37.235548 L -80.35967,37.235616 L -80.35960999999999,37.235642 L -80.359535,37.235714 L -80.35942399999999,37.235969 L -80.359398,37.235996 L -80.359381,37.236036999999996 L -80.359338,37.236098999999996 L -80.35922699999999,37.236196 L -80.359158,37.23623 L -80.359107,37.236244 L -80.358995,37.236231 L -80.358836,37.236171 L -80.358706,37.236132 L -80.358582,37.236115 L -80.358539,37.236115 L -80.35840499999999,37.236143 L -80.358244,37.236208999999995 L -80.358186,37.236247 L -80.35815199999999,37.236288 L -80.358122,37.236353 L -80.35809499999999,37.236430999999996 L -80.358117,37.236565 L -80.358136,37.236625 L -80.358415,37.236866 L -80.358464,37.236947 L -80.35849,37.236974 L -80.358525,37.237041 L -80.35855099999999,37.237145999999996 L -80.358645,37.237373999999996 L -80.358654,37.237401 L -80.358695,37.237527 L -80.358711,37.237747999999996 L -80.35866399999999,37.237895 L -80.35865799999999,37.237984 L -80.358684,37.238073 L -80.358745,37.238174 L -80.358775,37.238276 L -80.358797,37.238403 L -80.358789,37.238526 L -80.358747,37.238642999999996 L -80.35863599999999,37.238842999999996 L -80.35843,37.239028999999995 L -80.358404,37.239077 L -80.358353,37.239125 L -80.358154,37.239274 L -80.357984,37.23938 L -80.35775699999999,37.239501 L -80.357598,37.239598 L -80.357469,37.239657 L -80.357401,37.239698 L -80.357366,37.239739 L -80.357275,37.239985 L -80.357295,37.240097 L -80.35736399999999,37.240234 L -80.35739,37.240299 L -80.357394,37.240344 L -80.357427,37.240473 L -80.357359,37.240717 L -80.357353,37.240804 L -80.357388,37.240961999999996 L -80.35741,37.241006999999996 L -80.357415,37.241071999999996 L -80.35736399999999,37.241431 L -80.35731799999999,37.241690999999996 L -80.357289,37.241856 L -80.357255,37.241924999999995 L -80.35735799999999,37.241945 L -80.35741,37.241945 L -80.35753799999999,37.241917 L -80.357599,37.241917 L -80.357907,37.241997 L -80.358128,37.241980999999996 L -80.358175,37.241983999999995 L -80.35828099999999,37.24201 L -80.35867499999999,37.242270999999995 L -80.358757,37.242309 L -80.358839,37.242367 L -80.358908,37.24248 L -80.35896,37.242532 L -80.359053,37.242585 L -80.359158,37.242616999999996 L -80.35922699999999,37.242661 L -80.359253,37.242695999999995 L -80.35927099999999,37.242771 L -80.359245,37.242883 L -80.359203,37.242993 L -80.35922,37.243091 L -80.359264,37.243128999999996 L -80.359376,37.243196999999995 L -80.359455,37.243227999999995 L -80.35964299999999,37.243279 L -80.359905,37.243336 L -80.36012,37.243365 L -80.360185,37.243379999999995 L -80.360435,37.243421 L -80.36062799999999,37.243437 L -80.360761,37.243434 L -80.360908,37.243460999999996 L -80.36102,37.243514999999995 L -80.361158,37.243611 L -80.36125299999999,37.243687 L -80.361404,37.243781999999996 L -80.361684,37.244001 L -80.361839,37.244111 L -80.361903,37.244143 L -80.362124,37.244282 L -80.362533,37.244458 L -80.362865,37.244582 L -80.362934,37.244623 L -80.363203,37.244811999999996 L -80.363331,37.244883 L -80.363477,37.244938 L -80.36373499999999,37.245014999999995 L -80.363908,37.245067 L -80.364063,37.245104999999995 L -80.364162,37.245135 L -80.364284,37.245173 L -80.364502,37.245258 L -80.364597,37.245306 L -80.36473,37.245343 L -80.364954,37.245362 L -80.365055,37.245334 L -80.365267,37.245249 L -80.36536199999999,37.245228 L -80.36545199999999,37.245197 L -80.36554699999999,37.245183 L -80.365882,37.245160999999996 L -80.36614399999999,37.245163999999995 L -80.366446,37.245225 L -80.366627,37.245293 L -80.366872,37.245416 L -80.36692,37.245450999999996 L -80.367012,37.245504 L -80.36715199999999,37.24556 L -80.367318,37.245613 L -80.367583,37.245661999999996 L -80.36762999999999,37.245678999999996 L -80.367678,37.245681999999995 L -80.367722,37.245689999999996 L -80.367858,37.245716 L -80.367919,37.245764 L -80.367988,37.245853 L -80.368023,37.245915 L -80.368085,37.245992 L -80.368118,37.246044999999995 L -80.368161,37.246092999999995 L -80.368178,37.246127 L -80.36831699999999,37.246285 L -80.368403,37.246415 L -80.368507,37.246552 L -80.368585,37.246614 L -80.368645,37.246648 L -80.368916,37.246705999999996 L -80.36898099999999,37.246708999999996 L -80.369321,37.24676 L -80.369562,37.24678 L -80.370379,37.246822 L -80.37056799999999,37.246854 L -80.370693,37.246893 L -80.37108099999999,37.247122 L -80.371116,37.24715 L -80.371239,37.247268 L -80.371297,37.247355 L -80.371375,37.247513 L -80.371393,37.247616 L -80.371415,37.247668 L -80.371494,37.248258 L -80.371521,37.248402999999996 L -80.371484,37.248827 L -80.371467,37.248942 L -80.37148499999999,37.248996999999996 L -80.371571,37.249086 L -80.371605,37.249113 L -80.371709,37.249154 L -80.371881,37.249235999999996 L -80.372069,37.249342 L -80.372286,37.249455 L -80.37245899999999,37.24951 L -80.372592,37.249537 L -80.372855,37.249556999999996 L -80.372928,37.249553 L -80.373087,37.249531999999995 L -80.373341,37.249545 L -80.373457,37.249569 L -80.37371499999999,37.249568 L -80.373882,37.24955 L -80.374093,37.249511999999996 L -80.37453099999999,37.249449 L -80.374566,37.249428 L -80.374652,37.249414 L -80.374729,37.249386 L -80.37477,37.249331 L -80.374935,37.249272 L -80.37521,37.249195 L -80.375348,37.249173 L -80.375616,37.249106999999995 L -80.375671,37.249106999999995 L -80.375753,37.249085 L -80.376001,37.249063 L -80.376035,37.249052 L -80.376578,37.249052999999996 L -80.37674299999999,37.249064 L -80.376778,37.249075 L -80.376943,37.249069 L -80.376998,37.24908 L -80.37748599999999,37.249092 L -80.377513,37.249081 L -80.377596,37.249078 L -80.377712,37.249075 L -80.37779499999999,37.249052999999996 L -80.37785699999999,37.249052999999996 L -80.378125,37.249009 L -80.378475,37.248971 L -80.378503,37.24896 L -80.37866799999999,37.24896 L -80.378695,37.248948999999996 L -80.37913499999999,37.248948999999996 L -80.37917,37.248961 L -80.37928,37.248961 L -80.37939,37.248982999999996 L -80.37944499999999,37.248982999999996 L -80.379582,37.249016 L -80.37969199999999,37.249027 L -80.37971999999999,37.249038 L -80.379775,37.249038 L -80.379802,37.249049 L -80.379857,37.249049 L -80.380022,37.249082 L -80.380077,37.249082 L -80.380104,37.249092999999995 L -80.38015899999999,37.249092999999995 L -80.380324,37.249126 L -80.38037899999999,37.249126 L -80.380462,37.249148 L -80.380544,37.249148 L -80.380819,37.249181 L -80.38090199999999,37.249181 L -80.380929,37.249192 L -80.381067,37.249192 L -80.38109399999999,37.249203 L -80.381314,37.249203 L -80.38134199999999,37.249192 L -80.381588,37.249192 L -80.381659,37.249192 L -80.381699,37.249192 L -80.381727,37.249203 L -80.38180899999999,37.249203 L -80.382139,37.249280999999996 L -80.382221,37.249314 L -80.382249,37.249314 L -80.382331,37.249347 L -80.382441,37.249369 L -80.382503,37.249396 L -80.382826,37.24949 L -80.383156,37.249545 L -80.383403,37.24955 L -80.383596,37.249534 L -80.38370599999999,37.249534 L -80.38376099999999,37.249522999999996 L -80.384256,37.249522999999996 L -80.384311,37.249511999999996 L -80.384338,37.249522999999996 L -80.384421,37.249522999999996 L -80.38444799999999,37.249534 L -80.384778,37.249545 L -80.384964,37.249569 L -80.384967,37.249582 L -80.384992,37.249638 L -80.385018,37.249677999999996 L -80.38502799999999,37.249691999999996 L -80.38506199999999,37.249728 L -80.38510000000001,37.249762 L -80.38521399999999,37.249835999999995 L -80.385663,37.250083 L -80.385789,37.250136999999995 L -80.385952,37.250192999999996 L -80.386087,37.250228 L -80.386263,37.250261 L -80.38662699999999,37.250310999999996 L -80.38735199999999,37.25038 L -80.387551,37.250402 L -80.387748,37.250428 L -80.387928,37.250448 L -80.38814599999999,37.250465999999996 L -80.38849499999999,37.250482 L -80.388579,37.25049 L -80.388661,37.250507 L -80.388778,37.250547999999995 L -80.388882,37.250606999999995 L -80.38895699999999,37.250667 L -80.389028,37.250744999999995 L -80.389185,37.250943 L -80.38927799999999,37.251084999999996 L -80.389387,37.251279 L -80.389485,37.251425 L -80.38962699999999,37.251599 L -80.389753,37.251767 L -80.389855,37.251886 L -80.389996,37.252016999999995 L -80.390171,37.252142 L -80.390517,37.252364 L -80.390653,37.252468 L -80.390776,37.252582 L -80.391036,37.252797 L -80.391235,37.252939999999995 L -80.391494,37.253141 L -80.391644,37.253277 L -80.391781,37.253422 L -80.391892,37.253565 L -80.39198499999999,37.253713 L -80.39206,37.253867 L -80.39214,37.254098 L -80.392241,37.254474 L -80.392325,37.254706 L -80.392395,37.254861999999996 L -80.392495,37.255043 L -80.39260999999999,37.255217 L -80.39298,37.255691 L -80.393018,37.255728 L -80.393169,37.255900000000004 L -80.393249,37.256012999999996 L -80.39330799999999,37.256116 L -80.393363,37.256245 L -80.3934,37.256378 L -80.393438,37.256668 L -80.39346499999999,37.256825 L -80.393512,37.257036 L -80.393552,37.257158 L -80.393637,37.257366 L -80.39375199999999,37.257596 L -80.39383699999999,37.257723999999996 L -80.393937,37.257844999999996 L -80.394161,37.258071 L -80.394378,37.258265 L -80.394482,37.258342999999996 L -80.39459,37.258407999999996 L -80.394673,37.258448 L -80.394742,37.258477 L -80.395298,37.258649999999996 L -80.395361,37.258666 L -80.39551399999999,37.258716 L -80.39565999999999,37.25878 L -80.39579599999999,37.258855 L -80.395968,37.258973 L -80.39607699999999,37.259068 L -80.396171,37.259170999999995 L -80.396248,37.259282 L -80.396481,37.259614 L -80.396647,37.25982 L -80.39672499999999,37.259893 L -80.39680899999999,37.259951 L -80.39689899999999,37.259997 L -80.397367,37.260172 L -80.397487,37.260227 L -80.39756799999999,37.260275 L -80.397618,37.260309 L -80.397714,37.260388 L -80.3981,37.26079 L -80.398174,37.26087 L -80.398246,37.260948 L -80.399394,37.262192999999996 L -80.399457,37.262260999999995 L -80.399425,37.26228 L -80.398845,37.262619 L -80.39855399999999,37.262789 L -80.398477,37.262834999999995 L -80.398004,37.263110999999995 L -80.397745,37.263262999999995 L -80.39767499999999,37.263203 L -80.397318,37.262933 L -80.397149,37.263691 L -80.39714599999999,37.263777999999995 L -80.397125,37.263861999999996 L -80.397075,37.263965999999996 L -80.396733,37.265383 L -80.39685,37.265412999999995 L -80.396779,37.265983999999996 L -80.396849,37.266 L -80.396999,37.26604 L -80.39721999999999,37.266096999999995 L -80.39731499999999,37.266121999999996 L -80.397655,37.266213 L -80.397971,37.266297 L -80.398242,37.266369 L -80.398704,37.266492 L -80.398859,37.266532999999995 L -80.399613,37.266723 L -80.39962899999999,37.266759 L -80.399653,37.266812 L -80.399672,37.266856 L -80.399688,37.266891 L -80.39978099999999,37.267016999999996 L -80.400249,37.267647 L -80.403566,37.271125999999995 L -80.403933,37.271511 L -80.40472299999999,37.272258 L -80.405431,37.272966 L -80.40590399999999,37.273201 L -80.406486,37.273692 L -80.407454,37.27451 L -80.40805499999999,37.275017 L -80.40814499999999,37.275248999999995 L -80.408198,37.275138 L -80.409278,37.274724 L -80.40964699999999,37.27467 L -80.410155,37.274595999999995 L -80.410298,37.274679 L -80.410364,37.274653 L -80.410451,37.274626 L -80.410539,37.274604 L -80.410635,37.274591 L -80.410726,37.27458 L -80.410809,37.274567 L -80.410957,37.27455 L -80.41102599999999,37.274567999999995 L -80.41106599999999,37.274563 L -80.41131,37.274530999999996 L -80.411575,37.274437 L -80.411597,37.274421 L -80.41205,37.274429 L -80.413185,37.274446 L -80.413906,37.275348 L -80.416615,37.275745 L -80.417807,37.276188 L -80.418987,37.276629 L -80.419304,37.276744 L -80.419401,37.276779999999995 L -80.41981,37.276933 L -80.41994799999999,37.276602 L -80.420002,37.276474 L -80.42004899999999,37.276508 L -80.4201,37.276545 L -80.42026899999999,37.276661 L -80.42045,37.276773999999996 L -80.42062399999999,37.276874 L -80.420721,37.276927 L -80.420799,37.276969 L -80.42106,37.277094999999996 L -80.421257,37.277181999999996 L -80.42138,37.277232 L -80.421756,37.277363 L -80.42204,37.277443999999996 L -80.422401,37.27753 L -80.422668,37.277581 L -80.423034,37.277628 L -80.423621,37.277693 L -80.424802,37.277816 L -80.425703,37.277908 L -80.427719,37.278115 L -80.432389,37.278596 L -80.432486,37.278605999999996 L -80.432763,37.278634 L -80.435064,37.278870999999995 L -80.438101,37.279177 L -80.438448,37.279212 L -80.439213,37.279297 L -80.439514,37.27935 L -80.439752,37.279402 L -80.440045,37.27948 L -80.440331,37.279572 L -80.440539,37.279648 L -80.440713,37.279720999999995 L -80.44097,37.27984 L -80.441289,37.280018999999996 L -80.441589,37.280214 L -80.441724,37.280311999999995 L -80.441806,37.280373999999995 L -80.442087,37.280608 L -80.442342,37.280826999999995 L -80.442779,37.281203999999995 L -80.442837,37.281255 L -80.443122,37.281479 L -80.443367,37.281642999999995 L -80.443624,37.281797 L -80.443851,37.281917 L -80.44386999999999,37.281928 L -80.444172,37.282064999999996 L -80.44443299999999,37.282164 L -80.444751,37.282269 L -80.44502,37.282340999999995 L -80.445295,37.282399 L -80.44546199999999,37.282426 L -80.445852,37.282477 L -80.446073,37.282495 L -80.446412,37.282509 L -80.447807,37.282471 L -80.44857499999999,37.282455999999996 L -80.448869,37.282466 L -80.449133,37.282486 L -80.44934099999999,37.282511 L -80.449584,37.28255 L -80.449884,37.282613 L -80.450003,37.282641 L -80.45004399999999,37.282652999999996 L -80.450064,37.282654 L -80.45029699999999,37.282727 L -80.45047,37.282786 L -80.45064099999999,37.282849 L -80.45092,37.282962999999995 L -80.45124299999999,37.283117 L -80.45138399999999,37.283196 L -80.45173199999999,37.283409 L -80.452592,37.283946 L -80.452871,37.284126 L -80.453181,37.284304999999996 L -80.453502,37.284472 L -80.453768,37.284586 L -80.454042,37.284687 L -80.454323,37.284774999999996 L -80.454663,37.284862 L -80.45488999999999,37.284908 L -80.45512,37.284945 L -80.45612,37.285053 L -80.460346,37.285492999999995 L -80.461421,37.285602 L -80.46390199999999,37.28586 L -80.464474,37.285911999999996 L -80.464871,37.285934 L -80.465418,37.285942999999996 L -80.46571399999999,37.285938 L -80.466084,37.28592 L -80.467269,37.285817 L -80.4708,37.285485 L -80.471336,37.285430999999996 L -80.472826,37.285294 L -80.473501,37.285213 L -80.47406699999999,37.285133 L -80.474632,37.285044 L -80.47645899999999,37.284731 L -80.47665099999999,37.284707999999995 L -80.47689199999999,37.284692 L -80.47713499999999,37.284689 L -80.47737699999999,37.2847 L -80.477617,37.284725 L -80.477864,37.284765 L -80.478112,37.284819999999996 L -80.478248,37.284859 L -80.478355,37.284889 L -80.478511,37.284942 L -80.47872799999999,37.285028 L -80.47886299999999,37.285088 L -80.47919399999999,37.285258 L -80.479094,37.285317 z\" /></g></svg>"
      ],
      "text/plain": [
       "<shapely.geometry.polygon.Polygon at 0x7f8b501c0f10>"
      ]
     },
     "metadata": {},
     "output_type": "display_data"
    }
   ],
   "source": [
    "#Show a random difference\n",
    "test = shp_final_merge[~vals].sample(axis = 0, n=1).index[0]\n",
    "print(shp_final_merge[~vals])\n",
    "display(shp_final_merge.iloc[test]['geometry_x'])\n",
    "display(shp_final_merge.iloc[test]['geometry_y'])\n",
    "\n",
    "test = shp_final_merge[~vals].sample(axis = 0).index[0]\n",
    "display(shp_final_merge.iloc[test]['geometry_x'])\n",
    "display(shp_final_merge.iloc[test]['geometry_y'])"
   ]
  },
  {
   "cell_type": "markdown",
   "metadata": {},
   "source": [
    "### County 121 ex"
   ]
  },
  {
   "cell_type": "code",
   "execution_count": 774,
   "metadata": {},
   "outputs": [
    {
     "name": "stdout",
     "output_type": "stream",
     "text": [
      "(3, 52)\n"
     ]
    },
    {
     "data": {
      "text/plain": [
       "<matplotlib.axes._subplots.AxesSubplot at 0x7f8b31f5a3d0>"
      ]
     },
     "execution_count": 774,
     "metadata": {},
     "output_type": "execute_result"
    },
    {
     "data": {
      "image/png": "[encoded data removed]",
      "text/plain": [
       "<Figure size 432x288 with 1 Axes>"
      ]
     },
     "metadata": {
      "needs_background": "light"
     },
     "output_type": "display_data"
    }
   ],
   "source": [
    "print(shp_final_merge[shp_final_merge['unique_id'].str[0:3] == '121'].shape)\n",
    "ex_x = gpd.GeoDataFrame(shp_final_merge[shp_final_merge['unique_id'].str[0:3]== '121'], geometry = 'geometry_x', crs = proj)\n",
    "ex_y = gpd.GeoDataFrame(shp_final_merge[shp_final_merge['unique_id'].str[0:3]== '121'], geometry = 'geometry_y', crs = proj)\n",
    "\n",
    "gpd.overlay(ex_x, ex_y, how = 'symmetric_difference').plot()"
   ]
  },
  {
   "cell_type": "markdown",
   "metadata": {},
   "source": [
    "## Validating election results"
   ]
  },
  {
   "cell_type": "code",
   "execution_count": 693,
   "metadata": {},
   "outputs": [],
   "source": [
    "final_df_merge = pd.merge(df_with_absentee_reallocated, final, on = 'unique_id', how = 'inner', suffixes = ['_x', '_y'])"
   ]
  },
  {
   "cell_type": "code",
   "execution_count": 694,
   "metadata": {},
   "outputs": [
    {
     "data": {
      "text/plain": [
       "Index(['COUNTYFP', 'LOCALITY', 'VTDST', 'PRECINCT', 'HOD_DIST', 'S18HODDEM',\n",
       "       'S18HODREP', 'S18HODWRI', 'geometry', 'unique_id'],\n",
       "      dtype='object')"
      ]
     },
     "execution_count": 694,
     "metadata": {},
     "output_type": "execute_result"
    }
   ],
   "source": [
    "final.columns"
   ]
  },
  {
   "cell_type": "code",
   "execution_count": 695,
   "metadata": {},
   "outputs": [],
   "source": [
    "column_list = ['S18HODDEM', 'S18HODREP', 'S18HODWRI']"
   ]
  },
  {
   "cell_type": "code",
   "execution_count": 696,
   "metadata": {},
   "outputs": [],
   "source": [
    "#From Peter's MO\n",
    "def validater_row (df, column_List):\n",
    "    matching_rows = 0\n",
    "    different_rows = 0\n",
    "    diff_list=[]\n",
    "    diff_values = []\n",
    "    max_diff = 0\n",
    "    \n",
    "    for j in range(0,len(df.index)):\n",
    "        same = True\n",
    "        for i in column_List:\n",
    "            left_Data = i + \"_x\"\n",
    "            right_Data = i + \"_y\"\n",
    "            diff = abs(df.iloc[j][left_Data]-df.iloc[j][right_Data])\n",
    "            \n",
    "            if(diff != 0):\n",
    "                diff_values.append(abs(diff))\n",
    "                same = False\n",
    "                if(np.isnan(diff)):\n",
    "                    print(\"NaN value at diff is: \", df.iloc[j]['unique_id'])\n",
    "                if (diff>max_diff):\n",
    "                    max_diff = diff\n",
    "                    #add line to check percent from total vote difference is\n",
    "                    perc_diff_from_vest = (diff/df.iloc[j][right_Data])*100\n",
    "                    print(\"New max diff is: \", str(max_diff))\n",
    "                    print('% difference from VEST total is: ', str(perc_diff_from_vest))\n",
    "                    print(df.iloc[j]['unique_id'])\n",
    "        if(same != True):\n",
    "            different_rows +=1\n",
    "            diff_list.append(df.iloc[j]['unique_id'])\n",
    "        else:\n",
    "            matching_rows +=1\n",
    "    print(\"There are \", len(df.index),\" total rows\")\n",
    "    print(different_rows,\" of these rows have election result differences\")\n",
    "    print(matching_rows,\" of these rows are the same\")\n",
    "    print(\"\")\n",
    "    print(\"The max difference between any one shared column in a row is: \", max_diff)\n",
    "    if(len(diff_values)!=0):\n",
    "        print(\"The average difference is: \", str(sum(diff_values)/len(diff_values)))\n",
    "        #add line for % of total vote that difference is\n",
    "    count_big_diff = len([i for i in diff_values if i > 10])\n",
    "    print(\"There are \", str(count_big_diff), \"precinct results with a difference greater than 5\")\n",
    "    diff_list.sort()"
   ]
  },
  {
   "cell_type": "code",
   "execution_count": 697,
   "metadata": {},
   "outputs": [
    {
     "name": "stdout",
     "output_type": "stream",
     "text": [
      "New max diff is:  1.0\n",
      "% difference from VEST total is:  0.8547008547008548\n",
      "009102\n",
      "There are  79  total rows\n",
      "30  of these rows have election result differences\n",
      "49  of these rows are the same\n",
      "\n",
      "The max difference between any one shared column in a row is:  1.0\n",
      "The average difference is:  1.0\n",
      "There are  0 precinct results with a difference greater than 5\n"
     ]
    }
   ],
   "source": [
    "validater_row(final_df_merge, column_list)"
   ]
  },
  {
   "cell_type": "markdown",
   "metadata": {},
   "source": [
    "Great results! +/- 1 vote is easily accounted for by rounding error"
   ]
  },
  {
   "cell_type": "code",
   "execution_count": null,
   "metadata": {},
   "outputs": [],
   "source": []
  }
 ],
 "metadata": {
  "kernelspec": {
   "display_name": "Python 3",
   "language": "python",
   "name": "python3"
  },
  "language_info": {
   "codemirror_mode": {
    "name": "ipython",
    "version": 3
   },
   "file_extension": ".py",
   "mimetype": "text/x-python",
   "name": "python",
   "nbconvert_exporter": "python",
   "pygments_lexer": "ipython3",
   "version": "3.8.3"
  }
 },
 "nbformat": 4,
 "nbformat_minor": 4
}
