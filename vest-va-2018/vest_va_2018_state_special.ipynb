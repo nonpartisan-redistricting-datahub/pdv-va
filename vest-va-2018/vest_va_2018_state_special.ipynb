{
 "cells": [
  {
   "cell_type": "code",
   "execution_count": 1,
   "metadata": {},
   "outputs": [],
   "source": [
    "import pandas as pd\n",
    "import geopandas as gpd\n",
    "import matplotlib.pyplot as plt\n",
    "import maup\n",
    "from zipfile import ZipFile\n",
    "import numpy as np\n",
    "import os\n",
    "import shutil"
   ]
  },
  {
   "cell_type": "markdown",
   "metadata": {},
   "source": [
    "# State House Special Election"
   ]
  },
  {
   "cell_type": "code",
   "execution_count": 4,
   "metadata": {},
   "outputs": [
    {
     "data": {
      "text/plain": [
       "'/Users/lilyfalk/sandbox/pdv-va'"
      ]
     },
     "execution_count": 4,
     "metadata": {},
     "output_type": "execute_result"
    }
   ],
   "source": [
    "pwd"
   ]
  },
  {
   "cell_type": "code",
   "execution_count": 5,
   "metadata": {},
   "outputs": [],
   "source": [
    "final = gpd.read_file('./vest_va/va_2018_statehouse_special/va_2018_statehouse_special.shp')"
   ]
  },
  {
   "cell_type": "code",
   "execution_count": 6,
   "metadata": {},
   "outputs": [
    {
     "data": {
      "text/html": [
       "<div>\n",
       "<style scoped>\n",
       "    .dataframe tbody tr th:only-of-type {\n",
       "        vertical-align: middle;\n",
       "    }\n",
       "\n",
       "    .dataframe tbody tr th {\n",
       "        vertical-align: top;\n",
       "    }\n",
       "\n",
       "    .dataframe thead th {\n",
       "        text-align: right;\n",
       "    }\n",
       "</style>\n",
       "<table border=\"1\" class=\"dataframe\">\n",
       "  <thead>\n",
       "    <tr style=\"text-align: right;\">\n",
       "      <th></th>\n",
       "      <th>COUNTYFP</th>\n",
       "      <th>LOCALITY</th>\n",
       "      <th>VTDST</th>\n",
       "      <th>PRECINCT</th>\n",
       "      <th>HOD_DIST</th>\n",
       "      <th>S18HODDEM</th>\n",
       "      <th>S18HODREP</th>\n",
       "      <th>S18HODWRI</th>\n",
       "      <th>geometry</th>\n",
       "    </tr>\n",
       "  </thead>\n",
       "  <tbody>\n",
       "    <tr>\n",
       "      <th>0</th>\n",
       "      <td>009</td>\n",
       "      <td>Amherst County</td>\n",
       "      <td>000102</td>\n",
       "      <td>New Glasgow</td>\n",
       "      <td>024</td>\n",
       "      <td>117</td>\n",
       "      <td>168</td>\n",
       "      <td>2</td>\n",
       "      <td>POLYGON Z ((-79.04809 37.53463 0.00000, -79.04...</td>\n",
       "    </tr>\n",
       "    <tr>\n",
       "      <th>1</th>\n",
       "      <td>009</td>\n",
       "      <td>Amherst County</td>\n",
       "      <td>000103</td>\n",
       "      <td>Coolwell</td>\n",
       "      <td>024</td>\n",
       "      <td>21</td>\n",
       "      <td>84</td>\n",
       "      <td>1</td>\n",
       "      <td>POLYGON Z ((-79.08422 37.51334 0.00000, -79.08...</td>\n",
       "    </tr>\n",
       "    <tr>\n",
       "      <th>2</th>\n",
       "      <td>009</td>\n",
       "      <td>Amherst County</td>\n",
       "      <td>000201</td>\n",
       "      <td>Court House</td>\n",
       "      <td>024</td>\n",
       "      <td>270</td>\n",
       "      <td>408</td>\n",
       "      <td>14</td>\n",
       "      <td>POLYGON Z ((-79.15210 37.57883 0.00000, -79.15...</td>\n",
       "    </tr>\n",
       "    <tr>\n",
       "      <th>3</th>\n",
       "      <td>009</td>\n",
       "      <td>Amherst County</td>\n",
       "      <td>000202</td>\n",
       "      <td>Temperance</td>\n",
       "      <td>024</td>\n",
       "      <td>61</td>\n",
       "      <td>140</td>\n",
       "      <td>3</td>\n",
       "      <td>POLYGON Z ((-79.30301 37.74092 0.00000, -79.30...</td>\n",
       "    </tr>\n",
       "    <tr>\n",
       "      <th>4</th>\n",
       "      <td>009</td>\n",
       "      <td>Amherst County</td>\n",
       "      <td>000301</td>\n",
       "      <td>Monroe</td>\n",
       "      <td>024</td>\n",
       "      <td>68</td>\n",
       "      <td>163</td>\n",
       "      <td>5</td>\n",
       "      <td>POLYGON Z ((-79.19354 37.57677 0.00000, -79.19...</td>\n",
       "    </tr>\n",
       "    <tr>\n",
       "      <th>...</th>\n",
       "      <td>...</td>\n",
       "      <td>...</td>\n",
       "      <td>...</td>\n",
       "      <td>...</td>\n",
       "      <td>...</td>\n",
       "      <td>...</td>\n",
       "      <td>...</td>\n",
       "      <td>...</td>\n",
       "      <td>...</td>\n",
       "    </tr>\n",
       "    <tr>\n",
       "      <th>74</th>\n",
       "      <td>161</td>\n",
       "      <td>Roanoke County</td>\n",
       "      <td>000108</td>\n",
       "      <td>WILDWOOD</td>\n",
       "      <td>008</td>\n",
       "      <td>335</td>\n",
       "      <td>664</td>\n",
       "      <td>3</td>\n",
       "      <td>POLYGON Z ((-80.08046 37.32419 0.00000, -80.08...</td>\n",
       "    </tr>\n",
       "    <tr>\n",
       "      <th>75</th>\n",
       "      <td>161</td>\n",
       "      <td>Roanoke County</td>\n",
       "      <td>000106</td>\n",
       "      <td>GREEN HILL</td>\n",
       "      <td>008</td>\n",
       "      <td>643</td>\n",
       "      <td>1271</td>\n",
       "      <td>3</td>\n",
       "      <td>POLYGON Z ((-80.08835 37.28149 0.00000, -80.08...</td>\n",
       "    </tr>\n",
       "    <tr>\n",
       "      <th>76</th>\n",
       "      <td>161</td>\n",
       "      <td>Roanoke County</td>\n",
       "      <td>000103</td>\n",
       "      <td>GLENVAR</td>\n",
       "      <td>008</td>\n",
       "      <td>374</td>\n",
       "      <td>835</td>\n",
       "      <td>2</td>\n",
       "      <td>POLYGON Z ((-80.21886 37.26382 0.00000, -80.21...</td>\n",
       "    </tr>\n",
       "    <tr>\n",
       "      <th>77</th>\n",
       "      <td>121</td>\n",
       "      <td>Montgomery County</td>\n",
       "      <td>000304</td>\n",
       "      <td>Precinct C-4</td>\n",
       "      <td>008</td>\n",
       "      <td>599</td>\n",
       "      <td>810</td>\n",
       "      <td>3</td>\n",
       "      <td>POLYGON Z ((-80.30263 37.16025 0.00000, -80.30...</td>\n",
       "    </tr>\n",
       "    <tr>\n",
       "      <th>78</th>\n",
       "      <td>015</td>\n",
       "      <td>Augusta County</td>\n",
       "      <td>000602</td>\n",
       "      <td>Ridgeview</td>\n",
       "      <td>024</td>\n",
       "      <td>162</td>\n",
       "      <td>443</td>\n",
       "      <td>0</td>\n",
       "      <td>POLYGON Z ((-79.04959 38.01807 0.00000, -79.04...</td>\n",
       "    </tr>\n",
       "  </tbody>\n",
       "</table>\n",
       "<p>79 rows × 9 columns</p>\n",
       "</div>"
      ],
      "text/plain": [
       "   COUNTYFP           LOCALITY   VTDST      PRECINCT HOD_DIST  S18HODDEM  \\\n",
       "0       009     Amherst County  000102   New Glasgow      024        117   \n",
       "1       009     Amherst County  000103      Coolwell      024         21   \n",
       "2       009     Amherst County  000201   Court House      024        270   \n",
       "3       009     Amherst County  000202    Temperance      024         61   \n",
       "4       009     Amherst County  000301        Monroe      024         68   \n",
       "..      ...                ...     ...           ...      ...        ...   \n",
       "74      161     Roanoke County  000108      WILDWOOD      008        335   \n",
       "75      161     Roanoke County  000106    GREEN HILL      008        643   \n",
       "76      161     Roanoke County  000103       GLENVAR      008        374   \n",
       "77      121  Montgomery County  000304  Precinct C-4      008        599   \n",
       "78      015     Augusta County  000602     Ridgeview      024        162   \n",
       "\n",
       "    S18HODREP  S18HODWRI                                           geometry  \n",
       "0         168          2  POLYGON Z ((-79.04809 37.53463 0.00000, -79.04...  \n",
       "1          84          1  POLYGON Z ((-79.08422 37.51334 0.00000, -79.08...  \n",
       "2         408         14  POLYGON Z ((-79.15210 37.57883 0.00000, -79.15...  \n",
       "3         140          3  POLYGON Z ((-79.30301 37.74092 0.00000, -79.30...  \n",
       "4         163          5  POLYGON Z ((-79.19354 37.57677 0.00000, -79.19...  \n",
       "..        ...        ...                                                ...  \n",
       "74        664          3  POLYGON Z ((-80.08046 37.32419 0.00000, -80.08...  \n",
       "75       1271          3  POLYGON Z ((-80.08835 37.28149 0.00000, -80.08...  \n",
       "76        835          2  POLYGON Z ((-80.21886 37.26382 0.00000, -80.21...  \n",
       "77        810          3  POLYGON Z ((-80.30263 37.16025 0.00000, -80.30...  \n",
       "78        443          0  POLYGON Z ((-79.04959 38.01807 0.00000, -79.04...  \n",
       "\n",
       "[79 rows x 9 columns]"
      ]
     },
     "execution_count": 6,
     "metadata": {},
     "output_type": "execute_result"
    }
   ],
   "source": [
    "final"
   ]
  },
  {
   "cell_type": "code",
   "execution_count": 7,
   "metadata": {},
   "outputs": [],
   "source": [
    "county_dict = pd.Series(final['COUNTYFP'].values, index = final['LOCALITY']).to_dict()"
   ]
  },
  {
   "cell_type": "markdown",
   "metadata": {},
   "source": [
    "## Election results"
   ]
  },
  {
   "cell_type": "markdown",
   "metadata": {},
   "source": [
    "### District 8"
   ]
  },
  {
   "cell_type": "code",
   "execution_count": 8,
   "metadata": {},
   "outputs": [],
   "source": [
    "df8 = pd.read_csv('./vest_va/Virginia_Elections_Database__2018_House_of_Delegates_General_Election_District_8_including_precincts.csv')"
   ]
  },
  {
   "cell_type": "code",
   "execution_count": 9,
   "metadata": {},
   "outputs": [
    {
     "data": {
      "text/html": [
       "<div>\n",
       "<style scoped>\n",
       "    .dataframe tbody tr th:only-of-type {\n",
       "        vertical-align: middle;\n",
       "    }\n",
       "\n",
       "    .dataframe tbody tr th {\n",
       "        vertical-align: top;\n",
       "    }\n",
       "\n",
       "    .dataframe thead th {\n",
       "        text-align: right;\n",
       "    }\n",
       "</style>\n",
       "<table border=\"1\" class=\"dataframe\">\n",
       "  <thead>\n",
       "    <tr style=\"text-align: right;\">\n",
       "      <th></th>\n",
       "      <th>County/City</th>\n",
       "      <th>Ward</th>\n",
       "      <th>Pct</th>\n",
       "      <th>Joseph P. McNamara</th>\n",
       "      <th>Edward Carter Turner, III</th>\n",
       "      <th>All Others</th>\n",
       "      <th>Total Votes Cast</th>\n",
       "    </tr>\n",
       "  </thead>\n",
       "  <tbody>\n",
       "    <tr>\n",
       "      <th>0</th>\n",
       "      <td>NaN</td>\n",
       "      <td>NaN</td>\n",
       "      <td>NaN</td>\n",
       "      <td>Republican</td>\n",
       "      <td>Democratic</td>\n",
       "      <td>NaN</td>\n",
       "      <td>NaN</td>\n",
       "    </tr>\n",
       "    <tr>\n",
       "      <th>1</th>\n",
       "      <td>Craig County</td>\n",
       "      <td>-</td>\n",
       "      <td>101 - Court House</td>\n",
       "      <td>300</td>\n",
       "      <td>80</td>\n",
       "      <td>1.0</td>\n",
       "      <td>381</td>\n",
       "    </tr>\n",
       "    <tr>\n",
       "      <th>2</th>\n",
       "      <td>Craig County</td>\n",
       "      <td>-</td>\n",
       "      <td>201 - Ammendale Precinct</td>\n",
       "      <td>402</td>\n",
       "      <td>90</td>\n",
       "      <td>0.0</td>\n",
       "      <td>492</td>\n",
       "    </tr>\n",
       "    <tr>\n",
       "      <th>3</th>\n",
       "      <td>Craig County</td>\n",
       "      <td>-</td>\n",
       "      <td>301 - Givens &amp; Reynolds Store</td>\n",
       "      <td>188</td>\n",
       "      <td>92</td>\n",
       "      <td>0.0</td>\n",
       "      <td>280</td>\n",
       "    </tr>\n",
       "    <tr>\n",
       "      <th>4</th>\n",
       "      <td>Craig County</td>\n",
       "      <td>-</td>\n",
       "      <td>303 - Marshalls Store</td>\n",
       "      <td>160</td>\n",
       "      <td>77</td>\n",
       "      <td>0.0</td>\n",
       "      <td>237</td>\n",
       "    </tr>\n",
       "  </tbody>\n",
       "</table>\n",
       "</div>"
      ],
      "text/plain": [
       "    County/City Ward                            Pct Joseph P. McNamara  \\\n",
       "0           NaN  NaN                            NaN         Republican   \n",
       "1  Craig County    -              101 - Court House                300   \n",
       "2  Craig County    -       201 - Ammendale Precinct                402   \n",
       "3  Craig County    -  301 - Givens & Reynolds Store                188   \n",
       "4  Craig County    -          303 - Marshalls Store                160   \n",
       "\n",
       "  Edward Carter Turner, III  All Others Total Votes Cast  \n",
       "0                Democratic         NaN              NaN  \n",
       "1                        80         1.0              381  \n",
       "2                        90         0.0              492  \n",
       "3                        92         0.0              280  \n",
       "4                        77         0.0              237  "
      ]
     },
     "execution_count": 9,
     "metadata": {},
     "output_type": "execute_result"
    }
   ],
   "source": [
    "df8.head()"
   ]
  },
  {
   "cell_type": "code",
   "execution_count": 10,
   "metadata": {},
   "outputs": [
    {
     "data": {
      "text/plain": [
       "5"
      ]
     },
     "execution_count": 10,
     "metadata": {},
     "output_type": "execute_result"
    }
   ],
   "source": [
    "df8['County/City'].nunique()"
   ]
  },
  {
   "cell_type": "code",
   "execution_count": 11,
   "metadata": {},
   "outputs": [
    {
     "data": {
      "text/plain": [
       "(46, 7)"
      ]
     },
     "execution_count": 11,
     "metadata": {},
     "output_type": "execute_result"
    }
   ],
   "source": [
    "df8.shape"
   ]
  },
  {
   "cell_type": "code",
   "execution_count": 12,
   "metadata": {},
   "outputs": [],
   "source": [
    "df8 = df8.iloc[1:]"
   ]
  },
  {
   "cell_type": "code",
   "execution_count": 13,
   "metadata": {},
   "outputs": [],
   "source": [
    "df8 = df8.drop(['Ward'], axis = 1)"
   ]
  },
  {
   "cell_type": "code",
   "execution_count": 14,
   "metadata": {},
   "outputs": [],
   "source": [
    "df8['HOD_DIST'] = '8'"
   ]
  },
  {
   "cell_type": "code",
   "execution_count": 15,
   "metadata": {},
   "outputs": [],
   "source": [
    "#dont actually need this since function rename didnt work\n",
    "column_dict = {'County/City': 'LOCALITY', 'Joseph P. McNamara': 'S18HODREP', 'Edward Carter Turner, III': 'S18HODDEM',\n",
    "              'All Others': 'S18HODWRI',\n",
    "              'Ronnie Ray Campbell': 'S18HODREP', 'Christian Renau Worth': 'S18HODDEM'}"
   ]
  },
  {
   "cell_type": "code",
   "execution_count": 16,
   "metadata": {},
   "outputs": [],
   "source": [
    "df8['LOCALITY'] = df8['County/City']\n",
    "df8['S18HODREP'] = df8['Joseph P. McNamara']\n",
    "df8['S18HODDEM'] = df8['Edward Carter Turner, III']\n",
    "df8['S18HODWRI'] = df8['All Others']\n",
    "df8 = df8.drop(['County/City', 'Joseph P. McNamara', 'Edward Carter Turner, III', 'All Others'], axis = 1)"
   ]
  },
  {
   "cell_type": "code",
   "execution_count": 17,
   "metadata": {},
   "outputs": [
    {
     "data": {
      "text/html": [
       "<div>\n",
       "<style scoped>\n",
       "    .dataframe tbody tr th:only-of-type {\n",
       "        vertical-align: middle;\n",
       "    }\n",
       "\n",
       "    .dataframe tbody tr th {\n",
       "        vertical-align: top;\n",
       "    }\n",
       "\n",
       "    .dataframe thead th {\n",
       "        text-align: right;\n",
       "    }\n",
       "</style>\n",
       "<table border=\"1\" class=\"dataframe\">\n",
       "  <thead>\n",
       "    <tr style=\"text-align: right;\">\n",
       "      <th></th>\n",
       "      <th>Pct</th>\n",
       "      <th>Total Votes Cast</th>\n",
       "      <th>HOD_DIST</th>\n",
       "      <th>LOCALITY</th>\n",
       "      <th>S18HODREP</th>\n",
       "      <th>S18HODDEM</th>\n",
       "      <th>S18HODWRI</th>\n",
       "    </tr>\n",
       "  </thead>\n",
       "  <tbody>\n",
       "    <tr>\n",
       "      <th>1</th>\n",
       "      <td>101 - Court House</td>\n",
       "      <td>381</td>\n",
       "      <td>8</td>\n",
       "      <td>Craig County</td>\n",
       "      <td>300</td>\n",
       "      <td>80</td>\n",
       "      <td>1.0</td>\n",
       "    </tr>\n",
       "    <tr>\n",
       "      <th>2</th>\n",
       "      <td>201 - Ammendale Precinct</td>\n",
       "      <td>492</td>\n",
       "      <td>8</td>\n",
       "      <td>Craig County</td>\n",
       "      <td>402</td>\n",
       "      <td>90</td>\n",
       "      <td>0.0</td>\n",
       "    </tr>\n",
       "    <tr>\n",
       "      <th>3</th>\n",
       "      <td>301 - Givens &amp; Reynolds Store</td>\n",
       "      <td>280</td>\n",
       "      <td>8</td>\n",
       "      <td>Craig County</td>\n",
       "      <td>188</td>\n",
       "      <td>92</td>\n",
       "      <td>0.0</td>\n",
       "    </tr>\n",
       "    <tr>\n",
       "      <th>4</th>\n",
       "      <td>303 - Marshalls Store</td>\n",
       "      <td>237</td>\n",
       "      <td>8</td>\n",
       "      <td>Craig County</td>\n",
       "      <td>160</td>\n",
       "      <td>77</td>\n",
       "      <td>0.0</td>\n",
       "    </tr>\n",
       "    <tr>\n",
       "      <th>5</th>\n",
       "      <td>401 - Barbours Creek</td>\n",
       "      <td>198</td>\n",
       "      <td>8</td>\n",
       "      <td>Craig County</td>\n",
       "      <td>149</td>\n",
       "      <td>49</td>\n",
       "      <td>0.0</td>\n",
       "    </tr>\n",
       "  </tbody>\n",
       "</table>\n",
       "</div>"
      ],
      "text/plain": [
       "                             Pct Total Votes Cast HOD_DIST      LOCALITY  \\\n",
       "1              101 - Court House              381        8  Craig County   \n",
       "2       201 - Ammendale Precinct              492        8  Craig County   \n",
       "3  301 - Givens & Reynolds Store              280        8  Craig County   \n",
       "4          303 - Marshalls Store              237        8  Craig County   \n",
       "5           401 - Barbours Creek              198        8  Craig County   \n",
       "\n",
       "  S18HODREP S18HODDEM  S18HODWRI  \n",
       "1       300        80        1.0  \n",
       "2       402        90        0.0  \n",
       "3       188        92        0.0  \n",
       "4       160        77        0.0  \n",
       "5       149        49        0.0  "
      ]
     },
     "execution_count": 17,
     "metadata": {},
     "output_type": "execute_result"
    }
   ],
   "source": [
    "df8.head()"
   ]
  },
  {
   "cell_type": "code",
   "execution_count": 18,
   "metadata": {},
   "outputs": [
    {
     "data": {
      "text/plain": [
       "5"
      ]
     },
     "execution_count": 18,
     "metadata": {},
     "output_type": "execute_result"
    }
   ],
   "source": [
    "df8.LOCALITY.nunique()"
   ]
  },
  {
   "cell_type": "code",
   "execution_count": 35,
   "metadata": {},
   "outputs": [],
   "source": [
    "county_dict = pd.Series(final['COUNTYFP'].values, index = final['LOCALITY']).to_dict()"
   ]
  },
  {
   "cell_type": "code",
   "execution_count": 21,
   "metadata": {},
   "outputs": [
    {
     "data": {
      "text/plain": [
       "{'Amherst County': '009',\n",
       " 'Augusta County': '015',\n",
       " 'Bath County': '017',\n",
       " 'Rockbridge County': '163',\n",
       " 'Buena Vista City': '530',\n",
       " 'Lexington City': '678',\n",
       " 'Craig County': '045',\n",
       " 'Montgomery County': '121',\n",
       " 'Roanoke County': '161',\n",
       " 'Salem City': '775'}"
      ]
     },
     "execution_count": 21,
     "metadata": {},
     "output_type": "execute_result"
    }
   ],
   "source": [
    "county_dict"
   ]
  },
  {
   "cell_type": "code",
   "execution_count": 22,
   "metadata": {},
   "outputs": [
    {
     "data": {
      "text/plain": [
       "Roanoke County       15\n",
       "Salem City           12\n",
       "Craig County          9\n",
       "Montgomery County     8\n",
       "TOTALS                1\n",
       "Name: LOCALITY, dtype: int64"
      ]
     },
     "execution_count": 22,
     "metadata": {},
     "output_type": "execute_result"
    }
   ],
   "source": [
    "df8['LOCALITY'].value_counts()"
   ]
  },
  {
   "cell_type": "code",
   "execution_count": 23,
   "metadata": {},
   "outputs": [],
   "source": [
    "df8['COUNTYFP'] = df8['LOCALITY'].map(county_dict)"
   ]
  },
  {
   "cell_type": "code",
   "execution_count": 36,
   "metadata": {},
   "outputs": [
    {
     "data": {
      "text/plain": [
       "4"
      ]
     },
     "execution_count": 36,
     "metadata": {},
     "output_type": "execute_result"
    }
   ],
   "source": [
    "df8.COUNTYFP.nunique()"
   ]
  },
  {
   "cell_type": "code",
   "execution_count": 37,
   "metadata": {},
   "outputs": [
    {
     "data": {
      "text/plain": [
       "5"
      ]
     },
     "execution_count": 37,
     "metadata": {},
     "output_type": "execute_result"
    }
   ],
   "source": [
    "df8.LOCALITY.nunique()"
   ]
  },
  {
   "cell_type": "code",
   "execution_count": 38,
   "metadata": {},
   "outputs": [],
   "source": [
    "column_list = ['S18HODREP', 'S18HODDEM', 'S18HODWRI']"
   ]
  },
  {
   "cell_type": "code",
   "execution_count": 39,
   "metadata": {},
   "outputs": [],
   "source": [
    "df8['S18HODREP'] = df8['S18HODREP'].map(lambda x: str(x).replace(',', ''))\n",
    "df8['S18HODDEM'] = df8['S18HODDEM'].map(lambda x: str(x).replace(',', '')) \n",
    "df8['S18HODWRI'] = df8['S18HODWRI'].map(lambda x: str(x).replace(',', ''))"
   ]
  },
  {
   "cell_type": "code",
   "execution_count": 40,
   "metadata": {},
   "outputs": [],
   "source": [
    "df8['S18HODREP'] = df8['S18HODREP'].astype(str).astype(float).astype(int)\n",
    "df8['S18HODDEM'] = df8['S18HODDEM'].astype(str).astype(float).astype(int)\n",
    "df8['S18HODWRI'] = df8['S18HODWRI'].astype(str).astype(float).astype(int)"
   ]
  },
  {
   "cell_type": "code",
   "execution_count": 41,
   "metadata": {},
   "outputs": [
    {
     "data": {
      "text/html": [
       "<div>\n",
       "<style scoped>\n",
       "    .dataframe tbody tr th:only-of-type {\n",
       "        vertical-align: middle;\n",
       "    }\n",
       "\n",
       "    .dataframe tbody tr th {\n",
       "        vertical-align: top;\n",
       "    }\n",
       "\n",
       "    .dataframe thead th {\n",
       "        text-align: right;\n",
       "    }\n",
       "</style>\n",
       "<table border=\"1\" class=\"dataframe\">\n",
       "  <thead>\n",
       "    <tr style=\"text-align: right;\">\n",
       "      <th></th>\n",
       "      <th>S18HODREP</th>\n",
       "      <th>S18HODDEM</th>\n",
       "      <th>S18HODWRI</th>\n",
       "    </tr>\n",
       "    <tr>\n",
       "      <th>COUNTYFP</th>\n",
       "      <th></th>\n",
       "      <th></th>\n",
       "      <th></th>\n",
       "    </tr>\n",
       "  </thead>\n",
       "  <tbody>\n",
       "    <tr>\n",
       "      <th>045</th>\n",
       "      <td>1666</td>\n",
       "      <td>519</td>\n",
       "      <td>1</td>\n",
       "    </tr>\n",
       "    <tr>\n",
       "      <th>121</th>\n",
       "      <td>3706</td>\n",
       "      <td>2955</td>\n",
       "      <td>16</td>\n",
       "    </tr>\n",
       "    <tr>\n",
       "      <th>161</th>\n",
       "      <td>10487</td>\n",
       "      <td>5912</td>\n",
       "      <td>23</td>\n",
       "    </tr>\n",
       "    <tr>\n",
       "      <th>775</th>\n",
       "      <td>5942</td>\n",
       "      <td>3906</td>\n",
       "      <td>10</td>\n",
       "    </tr>\n",
       "  </tbody>\n",
       "</table>\n",
       "</div>"
      ],
      "text/plain": [
       "          S18HODREP  S18HODDEM  S18HODWRI\n",
       "COUNTYFP                                 \n",
       "045            1666        519          1\n",
       "121            3706       2955         16\n",
       "161           10487       5912         23\n",
       "775            5942       3906         10"
      ]
     },
     "execution_count": 41,
     "metadata": {},
     "output_type": "execute_result"
    }
   ],
   "source": [
    "df8.groupby(['COUNTYFP']).sum()"
   ]
  },
  {
   "cell_type": "markdown",
   "metadata": {},
   "source": [
    "### District 24"
   ]
  },
  {
   "cell_type": "code",
   "execution_count": 42,
   "metadata": {},
   "outputs": [],
   "source": [
    "df24 = pd.read_csv('./vest_va/Virginia_Elections_Database__2018_House_of_Delegates_Special_General_Election_District_24_including_precincts.csv')"
   ]
  },
  {
   "cell_type": "code",
   "execution_count": 43,
   "metadata": {},
   "outputs": [
    {
     "data": {
      "text/html": [
       "<div>\n",
       "<style scoped>\n",
       "    .dataframe tbody tr th:only-of-type {\n",
       "        vertical-align: middle;\n",
       "    }\n",
       "\n",
       "    .dataframe tbody tr th {\n",
       "        vertical-align: top;\n",
       "    }\n",
       "\n",
       "    .dataframe thead th {\n",
       "        text-align: right;\n",
       "    }\n",
       "</style>\n",
       "<table border=\"1\" class=\"dataframe\">\n",
       "  <thead>\n",
       "    <tr style=\"text-align: right;\">\n",
       "      <th></th>\n",
       "      <th>County/City</th>\n",
       "      <th>Ward</th>\n",
       "      <th>Pct</th>\n",
       "      <th>Ronnie Ray Campbell</th>\n",
       "      <th>Christian Renau Worth</th>\n",
       "      <th>All Others</th>\n",
       "      <th>Total Votes Cast</th>\n",
       "    </tr>\n",
       "  </thead>\n",
       "  <tbody>\n",
       "    <tr>\n",
       "      <th>0</th>\n",
       "      <td>NaN</td>\n",
       "      <td>NaN</td>\n",
       "      <td>NaN</td>\n",
       "      <td>Republican</td>\n",
       "      <td>Democratic</td>\n",
       "      <td>NaN</td>\n",
       "      <td>NaN</td>\n",
       "    </tr>\n",
       "    <tr>\n",
       "      <th>1</th>\n",
       "      <td>Amherst County</td>\n",
       "      <td>-</td>\n",
       "      <td>102 - New Glasgow</td>\n",
       "      <td>164</td>\n",
       "      <td>114</td>\n",
       "      <td>2.0</td>\n",
       "      <td>280</td>\n",
       "    </tr>\n",
       "    <tr>\n",
       "      <th>2</th>\n",
       "      <td>Amherst County</td>\n",
       "      <td>-</td>\n",
       "      <td>103 - Coolwell</td>\n",
       "      <td>82</td>\n",
       "      <td>20</td>\n",
       "      <td>1.0</td>\n",
       "      <td>103</td>\n",
       "    </tr>\n",
       "    <tr>\n",
       "      <th>3</th>\n",
       "      <td>Amherst County</td>\n",
       "      <td>-</td>\n",
       "      <td>201 - Court House</td>\n",
       "      <td>397</td>\n",
       "      <td>261</td>\n",
       "      <td>13.0</td>\n",
       "      <td>671</td>\n",
       "    </tr>\n",
       "    <tr>\n",
       "      <th>4</th>\n",
       "      <td>Amherst County</td>\n",
       "      <td>-</td>\n",
       "      <td>202 - Temperance</td>\n",
       "      <td>137</td>\n",
       "      <td>59</td>\n",
       "      <td>3.0</td>\n",
       "      <td>199</td>\n",
       "    </tr>\n",
       "  </tbody>\n",
       "</table>\n",
       "</div>"
      ],
      "text/plain": [
       "      County/City Ward                Pct Ronnie Ray Campbell  \\\n",
       "0             NaN  NaN                NaN          Republican   \n",
       "1  Amherst County    -  102 - New Glasgow                 164   \n",
       "2  Amherst County    -     103 - Coolwell                  82   \n",
       "3  Amherst County    -  201 - Court House                 397   \n",
       "4  Amherst County    -   202 - Temperance                 137   \n",
       "\n",
       "  Christian Renau Worth  All Others Total Votes Cast  \n",
       "0            Democratic         NaN              NaN  \n",
       "1                   114         2.0              280  \n",
       "2                    20         1.0              103  \n",
       "3                   261        13.0              671  \n",
       "4                    59         3.0              199  "
      ]
     },
     "execution_count": 43,
     "metadata": {},
     "output_type": "execute_result"
    }
   ],
   "source": [
    "df24.head()"
   ]
  },
  {
   "cell_type": "code",
   "execution_count": 44,
   "metadata": {},
   "outputs": [
    {
     "data": {
      "text/plain": [
       "7"
      ]
     },
     "execution_count": 44,
     "metadata": {},
     "output_type": "execute_result"
    }
   ],
   "source": [
    "df24['County/City'].nunique()"
   ]
  },
  {
   "cell_type": "code",
   "execution_count": 45,
   "metadata": {},
   "outputs": [
    {
     "data": {
      "text/plain": [
       "(55, 7)"
      ]
     },
     "execution_count": 45,
     "metadata": {},
     "output_type": "execute_result"
    }
   ],
   "source": [
    "df24.shape"
   ]
  },
  {
   "cell_type": "code",
   "execution_count": 46,
   "metadata": {},
   "outputs": [],
   "source": [
    "df24 = df24.iloc[1:]"
   ]
  },
  {
   "cell_type": "code",
   "execution_count": 47,
   "metadata": {},
   "outputs": [],
   "source": [
    "df24 = df24.drop(['Ward'], axis = 1)"
   ]
  },
  {
   "cell_type": "code",
   "execution_count": 48,
   "metadata": {},
   "outputs": [],
   "source": [
    "df24['HOD_DIST'] = '24'"
   ]
  },
  {
   "cell_type": "code",
   "execution_count": 49,
   "metadata": {},
   "outputs": [],
   "source": [
    "df24['LOCALITY'] = df24['County/City']\n",
    "df24['S18HODREP'] = df24['Ronnie Ray Campbell']\n",
    "df24['S18HODDEM'] = df24['Christian Renau Worth']\n",
    "df24['S18HODWRI'] = df24['All Others']\n",
    "df24 = df24.drop(['County/City', 'Ronnie Ray Campbell', 'Christian Renau Worth', 'All Others'], axis = 1)"
   ]
  },
  {
   "cell_type": "code",
   "execution_count": 50,
   "metadata": {},
   "outputs": [],
   "source": [
    "#df24 = rename_columns(df24, column_dict)"
   ]
  },
  {
   "cell_type": "code",
   "execution_count": 51,
   "metadata": {},
   "outputs": [],
   "source": [
    "df24['COUNTYFP'] = df24['LOCALITY'].map(county_dict)"
   ]
  },
  {
   "cell_type": "code",
   "execution_count": 52,
   "metadata": {},
   "outputs": [
    {
     "data": {
      "text/plain": [
       "7"
      ]
     },
     "execution_count": 52,
     "metadata": {},
     "output_type": "execute_result"
    }
   ],
   "source": [
    "df24['LOCALITY'].nunique()"
   ]
  },
  {
   "cell_type": "code",
   "execution_count": 53,
   "metadata": {},
   "outputs": [
    {
     "data": {
      "text/plain": [
       "6"
      ]
     },
     "execution_count": 53,
     "metadata": {},
     "output_type": "execute_result"
    }
   ],
   "source": [
    "df24['COUNTYFP'].nunique()"
   ]
  },
  {
   "cell_type": "code",
   "execution_count": 54,
   "metadata": {},
   "outputs": [
    {
     "data": {
      "text/plain": [
       "163    19\n",
       "009    11\n",
       "017     9\n",
       "015     8\n",
       "678     3\n",
       "530     3\n",
       "Name: COUNTYFP, dtype: int64"
      ]
     },
     "execution_count": 54,
     "metadata": {},
     "output_type": "execute_result"
    }
   ],
   "source": [
    "df24['COUNTYFP'].value_counts()"
   ]
  },
  {
   "cell_type": "code",
   "execution_count": 55,
   "metadata": {},
   "outputs": [
    {
     "data": {
      "text/plain": [
       "161    15\n",
       "775    12\n",
       "045     9\n",
       "121     8\n",
       "Name: COUNTYFP, dtype: int64"
      ]
     },
     "execution_count": 55,
     "metadata": {},
     "output_type": "execute_result"
    }
   ],
   "source": [
    "df8.COUNTYFP.value_counts()"
   ]
  },
  {
   "cell_type": "code",
   "execution_count": 56,
   "metadata": {},
   "outputs": [],
   "source": [
    "df24['S18HODREP'] = df24['S18HODREP'].map(lambda x: str(x).replace(',', ''))\n",
    "df24['S18HODDEM'] = df24['S18HODDEM'].map(lambda x: str(x).replace(',', '')) \n",
    "df24['S18HODWRI'] = df24['S18HODWRI'].map(lambda x: str(x).replace(',', ''))\n",
    "df24['S18HODREP'] = df24['S18HODREP'].astype(str).astype(float).astype(int)\n",
    "df24['S18HODDEM'] = df24['S18HODDEM'].astype(str).astype(float).astype(int)\n",
    "df24['S18HODWRI'] = df24['S18HODWRI'].astype(str).astype(float).astype(int)"
   ]
  },
  {
   "cell_type": "code",
   "execution_count": 57,
   "metadata": {},
   "outputs": [
    {
     "data": {
      "text/html": [
       "<div>\n",
       "<style scoped>\n",
       "    .dataframe tbody tr th:only-of-type {\n",
       "        vertical-align: middle;\n",
       "    }\n",
       "\n",
       "    .dataframe tbody tr th {\n",
       "        vertical-align: top;\n",
       "    }\n",
       "\n",
       "    .dataframe thead th {\n",
       "        text-align: right;\n",
       "    }\n",
       "</style>\n",
       "<table border=\"1\" class=\"dataframe\">\n",
       "  <thead>\n",
       "    <tr style=\"text-align: right;\">\n",
       "      <th></th>\n",
       "      <th>S18HODREP</th>\n",
       "      <th>S18HODDEM</th>\n",
       "      <th>S18HODWRI</th>\n",
       "    </tr>\n",
       "    <tr>\n",
       "      <th>COUNTYFP</th>\n",
       "      <th></th>\n",
       "      <th></th>\n",
       "      <th></th>\n",
       "    </tr>\n",
       "  </thead>\n",
       "  <tbody>\n",
       "    <tr>\n",
       "      <th>009</th>\n",
       "      <td>1659</td>\n",
       "      <td>844</td>\n",
       "      <td>45</td>\n",
       "    </tr>\n",
       "    <tr>\n",
       "      <th>015</th>\n",
       "      <td>1369</td>\n",
       "      <td>465</td>\n",
       "      <td>1</td>\n",
       "    </tr>\n",
       "    <tr>\n",
       "      <th>017</th>\n",
       "      <td>360</td>\n",
       "      <td>227</td>\n",
       "      <td>0</td>\n",
       "    </tr>\n",
       "    <tr>\n",
       "      <th>163</th>\n",
       "      <td>2560</td>\n",
       "      <td>1861</td>\n",
       "      <td>17</td>\n",
       "    </tr>\n",
       "    <tr>\n",
       "      <th>530</th>\n",
       "      <td>385</td>\n",
       "      <td>236</td>\n",
       "      <td>0</td>\n",
       "    </tr>\n",
       "    <tr>\n",
       "      <th>678</th>\n",
       "      <td>287</td>\n",
       "      <td>853</td>\n",
       "      <td>4</td>\n",
       "    </tr>\n",
       "  </tbody>\n",
       "</table>\n",
       "</div>"
      ],
      "text/plain": [
       "          S18HODREP  S18HODDEM  S18HODWRI\n",
       "COUNTYFP                                 \n",
       "009            1659        844         45\n",
       "015            1369        465          1\n",
       "017             360        227          0\n",
       "163            2560       1861         17\n",
       "530             385        236          0\n",
       "678             287        853          4"
      ]
     },
     "execution_count": 57,
     "metadata": {},
     "output_type": "execute_result"
    }
   ],
   "source": [
    "df24.groupby(['COUNTYFP']).sum()"
   ]
  },
  {
   "cell_type": "code",
   "execution_count": 58,
   "metadata": {},
   "outputs": [
    {
     "data": {
      "text/plain": [
       "10"
      ]
     },
     "execution_count": 58,
     "metadata": {},
     "output_type": "execute_result"
    }
   ],
   "source": [
    "df8.COUNTYFP.nunique() + df24.COUNTYFP.nunique()"
   ]
  },
  {
   "cell_type": "code",
   "execution_count": 59,
   "metadata": {},
   "outputs": [
    {
     "data": {
      "text/plain": [
       "161    15\n",
       "775    12\n",
       "045     9\n",
       "121     8\n",
       "Name: COUNTYFP, dtype: int64"
      ]
     },
     "execution_count": 59,
     "metadata": {},
     "output_type": "execute_result"
    }
   ],
   "source": [
    "df8.COUNTYFP.value_counts()"
   ]
  },
  {
   "cell_type": "code",
   "execution_count": 60,
   "metadata": {},
   "outputs": [
    {
     "data": {
      "text/plain": [
       "10"
      ]
     },
     "execution_count": 60,
     "metadata": {},
     "output_type": "execute_result"
    }
   ],
   "source": [
    "final.COUNTYFP.nunique()"
   ]
  },
  {
   "cell_type": "code",
   "execution_count": 61,
   "metadata": {},
   "outputs": [
    {
     "data": {
      "text/plain": [
       "024    42\n",
       "008    37\n",
       "Name: HOD_DIST, dtype: int64"
      ]
     },
     "execution_count": 61,
     "metadata": {},
     "output_type": "execute_result"
    }
   ],
   "source": [
    "final.HOD_DIST.value_counts()"
   ]
  },
  {
   "cell_type": "markdown",
   "metadata": {},
   "source": [
    "### Districts 24 and 8 together"
   ]
  },
  {
   "cell_type": "code",
   "execution_count": 62,
   "metadata": {},
   "outputs": [],
   "source": [
    "elections = []\n",
    "elections.append(df24)\n",
    "elections.append(df8)"
   ]
  },
  {
   "cell_type": "code",
   "execution_count": 63,
   "metadata": {},
   "outputs": [],
   "source": [
    "df = pd.concat(elections, axis = 0)"
   ]
  },
  {
   "cell_type": "code",
   "execution_count": 64,
   "metadata": {},
   "outputs": [],
   "source": [
    "df = df[df['LOCALITY'] != 'TOTALS']"
   ]
  },
  {
   "cell_type": "code",
   "execution_count": 65,
   "metadata": {},
   "outputs": [],
   "source": [
    "df = df.reset_index()\n",
    "df = df.fillna(0)"
   ]
  },
  {
   "cell_type": "markdown",
   "metadata": {},
   "source": [
    "## Reallocate absentee votes"
   ]
  },
  {
   "cell_type": "code",
   "execution_count": 66,
   "metadata": {},
   "outputs": [],
   "source": [
    "def get_absentee_frac(prec_tot, county_tot, absentee_tot):\n",
    "    '''A spec specifies in first line what function will do\n",
    "    Returns fraction of county absentee votes for a precinct for a candidate\n",
    "    \n",
    "    Keyword arguments: (put inputs to funtions and say what they should be)\n",
    "    precinct vote total for given candidate (int)\n",
    "    county vote total for given candidate, absentee and provisional votes not included (int)\n",
    "    absentee vote total for county for given candidate (int)\n",
    "    \n",
    "    \"Pure function\" bc only relies on inputs and outputs - only variables are ones that were passed as arguments\n",
    "    '''\n",
    "    if county_tot != 0:\n",
    "        prec_frac = prec_tot/county_tot\n",
    "        absentee_frac = prec_frac*absentee_tot\n",
    "    else:\n",
    "        absentee_frac = 0\n",
    "    return absentee_frac"
   ]
  },
  {
   "cell_type": "code",
   "execution_count": 67,
   "metadata": {},
   "outputs": [
    {
     "data": {
      "text/html": [
       "<div>\n",
       "<style scoped>\n",
       "    .dataframe tbody tr th:only-of-type {\n",
       "        vertical-align: middle;\n",
       "    }\n",
       "\n",
       "    .dataframe tbody tr th {\n",
       "        vertical-align: top;\n",
       "    }\n",
       "\n",
       "    .dataframe thead th {\n",
       "        text-align: right;\n",
       "    }\n",
       "</style>\n",
       "<table border=\"1\" class=\"dataframe\">\n",
       "  <thead>\n",
       "    <tr style=\"text-align: right;\">\n",
       "      <th></th>\n",
       "      <th>index</th>\n",
       "      <th>Pct</th>\n",
       "      <th>Total Votes Cast</th>\n",
       "      <th>HOD_DIST</th>\n",
       "      <th>LOCALITY</th>\n",
       "      <th>S18HODREP</th>\n",
       "      <th>S18HODDEM</th>\n",
       "      <th>S18HODWRI</th>\n",
       "      <th>COUNTYFP</th>\n",
       "    </tr>\n",
       "  </thead>\n",
       "  <tbody>\n",
       "    <tr>\n",
       "      <th>9</th>\n",
       "      <td>10</td>\n",
       "      <td>Ab - Central Absentee Precinct</td>\n",
       "      <td>66</td>\n",
       "      <td>24</td>\n",
       "      <td>Amherst County</td>\n",
       "      <td>40</td>\n",
       "      <td>25</td>\n",
       "      <td>1</td>\n",
       "      <td>009</td>\n",
       "    </tr>\n",
       "    <tr>\n",
       "      <th>10</th>\n",
       "      <td>11</td>\n",
       "      <td>Provisional</td>\n",
       "      <td>2</td>\n",
       "      <td>24</td>\n",
       "      <td>Amherst County</td>\n",
       "      <td>1</td>\n",
       "      <td>1</td>\n",
       "      <td>0</td>\n",
       "      <td>009</td>\n",
       "    </tr>\n",
       "    <tr>\n",
       "      <th>17</th>\n",
       "      <td>18</td>\n",
       "      <td>Ab - Central Absentee Precinct</td>\n",
       "      <td>24</td>\n",
       "      <td>24</td>\n",
       "      <td>Augusta County</td>\n",
       "      <td>18</td>\n",
       "      <td>6</td>\n",
       "      <td>0</td>\n",
       "      <td>015</td>\n",
       "    </tr>\n",
       "    <tr>\n",
       "      <th>18</th>\n",
       "      <td>19</td>\n",
       "      <td>Provisional</td>\n",
       "      <td>1</td>\n",
       "      <td>24</td>\n",
       "      <td>Augusta County</td>\n",
       "      <td>1</td>\n",
       "      <td>0</td>\n",
       "      <td>0</td>\n",
       "      <td>015</td>\n",
       "    </tr>\n",
       "    <tr>\n",
       "      <th>26</th>\n",
       "      <td>27</td>\n",
       "      <td>Ab - Central Absentee Precinct</td>\n",
       "      <td>20</td>\n",
       "      <td>24</td>\n",
       "      <td>Bath County</td>\n",
       "      <td>7</td>\n",
       "      <td>13</td>\n",
       "      <td>0</td>\n",
       "      <td>017</td>\n",
       "    </tr>\n",
       "    <tr>\n",
       "      <th>27</th>\n",
       "      <td>28</td>\n",
       "      <td>Provisional</td>\n",
       "      <td>0</td>\n",
       "      <td>24</td>\n",
       "      <td>Bath County</td>\n",
       "      <td>0</td>\n",
       "      <td>0</td>\n",
       "      <td>0</td>\n",
       "      <td>017</td>\n",
       "    </tr>\n",
       "    <tr>\n",
       "      <th>30</th>\n",
       "      <td>31</td>\n",
       "      <td>Provisional</td>\n",
       "      <td>0</td>\n",
       "      <td>24</td>\n",
       "      <td>Buena Vista City</td>\n",
       "      <td>0</td>\n",
       "      <td>0</td>\n",
       "      <td>0</td>\n",
       "      <td>530</td>\n",
       "    </tr>\n",
       "    <tr>\n",
       "      <th>32</th>\n",
       "      <td>33</td>\n",
       "      <td>Ab - Central Absentee Precinct</td>\n",
       "      <td>91</td>\n",
       "      <td>24</td>\n",
       "      <td>Lexington City</td>\n",
       "      <td>27</td>\n",
       "      <td>62</td>\n",
       "      <td>2</td>\n",
       "      <td>678</td>\n",
       "    </tr>\n",
       "    <tr>\n",
       "      <th>33</th>\n",
       "      <td>34</td>\n",
       "      <td>Provisional</td>\n",
       "      <td>0</td>\n",
       "      <td>24</td>\n",
       "      <td>Lexington City</td>\n",
       "      <td>0</td>\n",
       "      <td>0</td>\n",
       "      <td>0</td>\n",
       "      <td>678</td>\n",
       "    </tr>\n",
       "    <tr>\n",
       "      <th>51</th>\n",
       "      <td>52</td>\n",
       "      <td>Ab - Central Absentee Precinct</td>\n",
       "      <td>151</td>\n",
       "      <td>24</td>\n",
       "      <td>Rockbridge County</td>\n",
       "      <td>78</td>\n",
       "      <td>73</td>\n",
       "      <td>0</td>\n",
       "      <td>163</td>\n",
       "    </tr>\n",
       "    <tr>\n",
       "      <th>52</th>\n",
       "      <td>53</td>\n",
       "      <td>Provisional</td>\n",
       "      <td>2</td>\n",
       "      <td>24</td>\n",
       "      <td>Rockbridge County</td>\n",
       "      <td>0</td>\n",
       "      <td>2</td>\n",
       "      <td>0</td>\n",
       "      <td>163</td>\n",
       "    </tr>\n",
       "    <tr>\n",
       "      <th>61</th>\n",
       "      <td>9</td>\n",
       "      <td>Provisional</td>\n",
       "      <td>0</td>\n",
       "      <td>8</td>\n",
       "      <td>Craig County</td>\n",
       "      <td>0</td>\n",
       "      <td>0</td>\n",
       "      <td>0</td>\n",
       "      <td>045</td>\n",
       "    </tr>\n",
       "    <tr>\n",
       "      <th>68</th>\n",
       "      <td>16</td>\n",
       "      <td>Ab - Central Absentee Precinct</td>\n",
       "      <td>386</td>\n",
       "      <td>8</td>\n",
       "      <td>Montgomery County</td>\n",
       "      <td>169</td>\n",
       "      <td>217</td>\n",
       "      <td>0</td>\n",
       "      <td>121</td>\n",
       "    </tr>\n",
       "    <tr>\n",
       "      <th>69</th>\n",
       "      <td>17</td>\n",
       "      <td>Provisional</td>\n",
       "      <td>1</td>\n",
       "      <td>8</td>\n",
       "      <td>Montgomery County</td>\n",
       "      <td>1</td>\n",
       "      <td>0</td>\n",
       "      <td>0</td>\n",
       "      <td>121</td>\n",
       "    </tr>\n",
       "    <tr>\n",
       "      <th>83</th>\n",
       "      <td>31</td>\n",
       "      <td>Ab - Central Absentee Precinct</td>\n",
       "      <td>1,278</td>\n",
       "      <td>8</td>\n",
       "      <td>Roanoke County</td>\n",
       "      <td>715</td>\n",
       "      <td>562</td>\n",
       "      <td>1</td>\n",
       "      <td>161</td>\n",
       "    </tr>\n",
       "    <tr>\n",
       "      <th>84</th>\n",
       "      <td>32</td>\n",
       "      <td>Provisional</td>\n",
       "      <td>9</td>\n",
       "      <td>8</td>\n",
       "      <td>Roanoke County</td>\n",
       "      <td>7</td>\n",
       "      <td>2</td>\n",
       "      <td>0</td>\n",
       "      <td>161</td>\n",
       "    </tr>\n",
       "    <tr>\n",
       "      <th>95</th>\n",
       "      <td>43</td>\n",
       "      <td>Ab - Central Absentee Precinct</td>\n",
       "      <td>729</td>\n",
       "      <td>8</td>\n",
       "      <td>Salem City</td>\n",
       "      <td>424</td>\n",
       "      <td>304</td>\n",
       "      <td>1</td>\n",
       "      <td>775</td>\n",
       "    </tr>\n",
       "    <tr>\n",
       "      <th>96</th>\n",
       "      <td>44</td>\n",
       "      <td>Provisional</td>\n",
       "      <td>5</td>\n",
       "      <td>8</td>\n",
       "      <td>Salem City</td>\n",
       "      <td>4</td>\n",
       "      <td>1</td>\n",
       "      <td>0</td>\n",
       "      <td>775</td>\n",
       "    </tr>\n",
       "  </tbody>\n",
       "</table>\n",
       "</div>"
      ],
      "text/plain": [
       "    index                             Pct Total Votes Cast HOD_DIST  \\\n",
       "9      10  Ab - Central Absentee Precinct               66       24   \n",
       "10     11                     Provisional                2       24   \n",
       "17     18  Ab - Central Absentee Precinct               24       24   \n",
       "18     19                     Provisional                1       24   \n",
       "26     27  Ab - Central Absentee Precinct               20       24   \n",
       "27     28                     Provisional                0       24   \n",
       "30     31                     Provisional                0       24   \n",
       "32     33  Ab - Central Absentee Precinct               91       24   \n",
       "33     34                     Provisional                0       24   \n",
       "51     52  Ab - Central Absentee Precinct              151       24   \n",
       "52     53                     Provisional                2       24   \n",
       "61      9                     Provisional                0        8   \n",
       "68     16  Ab - Central Absentee Precinct              386        8   \n",
       "69     17                     Provisional                1        8   \n",
       "83     31  Ab - Central Absentee Precinct            1,278        8   \n",
       "84     32                     Provisional                9        8   \n",
       "95     43  Ab - Central Absentee Precinct              729        8   \n",
       "96     44                     Provisional                5        8   \n",
       "\n",
       "             LOCALITY  S18HODREP  S18HODDEM  S18HODWRI COUNTYFP  \n",
       "9      Amherst County         40         25          1      009  \n",
       "10     Amherst County          1          1          0      009  \n",
       "17     Augusta County         18          6          0      015  \n",
       "18     Augusta County          1          0          0      015  \n",
       "26        Bath County          7         13          0      017  \n",
       "27        Bath County          0          0          0      017  \n",
       "30   Buena Vista City          0          0          0      530  \n",
       "32     Lexington City         27         62          2      678  \n",
       "33     Lexington City          0          0          0      678  \n",
       "51  Rockbridge County         78         73          0      163  \n",
       "52  Rockbridge County          0          2          0      163  \n",
       "61       Craig County          0          0          0      045  \n",
       "68  Montgomery County        169        217          0      121  \n",
       "69  Montgomery County          1          0          0      121  \n",
       "83     Roanoke County        715        562          1      161  \n",
       "84     Roanoke County          7          2          0      161  \n",
       "95         Salem City        424        304          1      775  \n",
       "96         Salem City          4          1          0      775  "
      ]
     },
     "execution_count": 67,
     "metadata": {},
     "output_type": "execute_result"
    }
   ],
   "source": [
    "absentee_and_prov = df[(df['Pct'].map(lambda x: 'Absentee' in str(x))) | (df['Pct'].map(lambda x: 'Provisional' in str(x)))]\n",
    "absentee_and_prov"
   ]
  },
  {
   "cell_type": "code",
   "execution_count": 68,
   "metadata": {},
   "outputs": [
    {
     "data": {
      "text/plain": [
       "10"
      ]
     },
     "execution_count": 68,
     "metadata": {},
     "output_type": "execute_result"
    }
   ],
   "source": [
    "absentee_and_prov.COUNTYFP.nunique()"
   ]
  },
  {
   "cell_type": "code",
   "execution_count": 69,
   "metadata": {},
   "outputs": [
    {
     "data": {
      "text/plain": [
       "10"
      ]
     },
     "execution_count": 69,
     "metadata": {},
     "output_type": "execute_result"
    }
   ],
   "source": [
    "final.COUNTYFP.nunique()"
   ]
  },
  {
   "cell_type": "code",
   "execution_count": 70,
   "metadata": {},
   "outputs": [
    {
     "data": {
      "text/plain": [
       "2765"
      ]
     },
     "execution_count": 70,
     "metadata": {},
     "output_type": "execute_result"
    }
   ],
   "source": [
    "absentee_and_prov[column_list].sum().sum()"
   ]
  },
  {
   "cell_type": "code",
   "execution_count": 71,
   "metadata": {},
   "outputs": [
    {
     "data": {
      "text/html": [
       "<div>\n",
       "<style scoped>\n",
       "    .dataframe tbody tr th:only-of-type {\n",
       "        vertical-align: middle;\n",
       "    }\n",
       "\n",
       "    .dataframe tbody tr th {\n",
       "        vertical-align: top;\n",
       "    }\n",
       "\n",
       "    .dataframe thead th {\n",
       "        text-align: right;\n",
       "    }\n",
       "</style>\n",
       "<table border=\"1\" class=\"dataframe\">\n",
       "  <thead>\n",
       "    <tr style=\"text-align: right;\">\n",
       "      <th></th>\n",
       "      <th>index</th>\n",
       "      <th>S18HODREP</th>\n",
       "      <th>S18HODDEM</th>\n",
       "      <th>S18HODWRI</th>\n",
       "    </tr>\n",
       "    <tr>\n",
       "      <th>COUNTYFP</th>\n",
       "      <th></th>\n",
       "      <th></th>\n",
       "      <th></th>\n",
       "      <th></th>\n",
       "    </tr>\n",
       "  </thead>\n",
       "  <tbody>\n",
       "    <tr>\n",
       "      <th>009</th>\n",
       "      <td>21</td>\n",
       "      <td>41</td>\n",
       "      <td>26</td>\n",
       "      <td>1</td>\n",
       "    </tr>\n",
       "    <tr>\n",
       "      <th>015</th>\n",
       "      <td>37</td>\n",
       "      <td>19</td>\n",
       "      <td>6</td>\n",
       "      <td>0</td>\n",
       "    </tr>\n",
       "    <tr>\n",
       "      <th>017</th>\n",
       "      <td>55</td>\n",
       "      <td>7</td>\n",
       "      <td>13</td>\n",
       "      <td>0</td>\n",
       "    </tr>\n",
       "    <tr>\n",
       "      <th>045</th>\n",
       "      <td>9</td>\n",
       "      <td>0</td>\n",
       "      <td>0</td>\n",
       "      <td>0</td>\n",
       "    </tr>\n",
       "    <tr>\n",
       "      <th>121</th>\n",
       "      <td>33</td>\n",
       "      <td>170</td>\n",
       "      <td>217</td>\n",
       "      <td>0</td>\n",
       "    </tr>\n",
       "    <tr>\n",
       "      <th>161</th>\n",
       "      <td>63</td>\n",
       "      <td>722</td>\n",
       "      <td>564</td>\n",
       "      <td>1</td>\n",
       "    </tr>\n",
       "    <tr>\n",
       "      <th>163</th>\n",
       "      <td>105</td>\n",
       "      <td>78</td>\n",
       "      <td>75</td>\n",
       "      <td>0</td>\n",
       "    </tr>\n",
       "    <tr>\n",
       "      <th>530</th>\n",
       "      <td>31</td>\n",
       "      <td>0</td>\n",
       "      <td>0</td>\n",
       "      <td>0</td>\n",
       "    </tr>\n",
       "    <tr>\n",
       "      <th>678</th>\n",
       "      <td>67</td>\n",
       "      <td>27</td>\n",
       "      <td>62</td>\n",
       "      <td>2</td>\n",
       "    </tr>\n",
       "    <tr>\n",
       "      <th>775</th>\n",
       "      <td>87</td>\n",
       "      <td>428</td>\n",
       "      <td>305</td>\n",
       "      <td>1</td>\n",
       "    </tr>\n",
       "  </tbody>\n",
       "</table>\n",
       "</div>"
      ],
      "text/plain": [
       "          index  S18HODREP  S18HODDEM  S18HODWRI\n",
       "COUNTYFP                                        \n",
       "009          21         41         26          1\n",
       "015          37         19          6          0\n",
       "017          55          7         13          0\n",
       "045           9          0          0          0\n",
       "121          33        170        217          0\n",
       "161          63        722        564          1\n",
       "163         105         78         75          0\n",
       "530          31          0          0          0\n",
       "678          67         27         62          2\n",
       "775          87        428        305          1"
      ]
     },
     "execution_count": 71,
     "metadata": {},
     "output_type": "execute_result"
    }
   ],
   "source": [
    "groupby_absentee_and_prov_tot = absentee_and_prov.groupby(['COUNTYFP']).sum()\n",
    "groupby_absentee_and_prov_tot"
   ]
  },
  {
   "cell_type": "code",
   "execution_count": 72,
   "metadata": {},
   "outputs": [],
   "source": [
    "groupby_county_df_tot = df.groupby(['COUNTYFP']).sum()\n",
    "df_no_absent_or_provisional = df[(df['Pct'].map(lambda x: 'Absentee' not in str(x))) & (df['Pct'].map(lambda x: 'Provisional' not in str(x)))\n",
    "                                & (df['LOCALITY'] != 'TOTALS')]\n",
    "groupby_county_tot_no_absentee = df_no_absent_or_provisional.groupby('COUNTYFP').sum()"
   ]
  },
  {
   "cell_type": "code",
   "execution_count": 73,
   "metadata": {},
   "outputs": [
    {
     "data": {
      "text/plain": [
       "43551"
      ]
     },
     "execution_count": 73,
     "metadata": {},
     "output_type": "execute_result"
    }
   ],
   "source": [
    "df_no_absent_or_provisional[column_list].sum().sum()"
   ]
  },
  {
   "cell_type": "code",
   "execution_count": 74,
   "metadata": {},
   "outputs": [
    {
     "data": {
      "text/html": [
       "<div>\n",
       "<style scoped>\n",
       "    .dataframe tbody tr th:only-of-type {\n",
       "        vertical-align: middle;\n",
       "    }\n",
       "\n",
       "    .dataframe tbody tr th {\n",
       "        vertical-align: top;\n",
       "    }\n",
       "\n",
       "    .dataframe thead th {\n",
       "        text-align: right;\n",
       "    }\n",
       "</style>\n",
       "<table border=\"1\" class=\"dataframe\">\n",
       "  <thead>\n",
       "    <tr style=\"text-align: right;\">\n",
       "      <th></th>\n",
       "      <th>index</th>\n",
       "      <th>S18HODREP</th>\n",
       "      <th>S18HODDEM</th>\n",
       "      <th>S18HODWRI</th>\n",
       "    </tr>\n",
       "    <tr>\n",
       "      <th>COUNTYFP</th>\n",
       "      <th></th>\n",
       "      <th></th>\n",
       "      <th></th>\n",
       "      <th></th>\n",
       "    </tr>\n",
       "  </thead>\n",
       "  <tbody>\n",
       "    <tr>\n",
       "      <th>009</th>\n",
       "      <td>45</td>\n",
       "      <td>1618</td>\n",
       "      <td>818</td>\n",
       "      <td>44</td>\n",
       "    </tr>\n",
       "    <tr>\n",
       "      <th>015</th>\n",
       "      <td>87</td>\n",
       "      <td>1350</td>\n",
       "      <td>459</td>\n",
       "      <td>1</td>\n",
       "    </tr>\n",
       "    <tr>\n",
       "      <th>017</th>\n",
       "      <td>161</td>\n",
       "      <td>353</td>\n",
       "      <td>214</td>\n",
       "      <td>0</td>\n",
       "    </tr>\n",
       "    <tr>\n",
       "      <th>045</th>\n",
       "      <td>36</td>\n",
       "      <td>1666</td>\n",
       "      <td>519</td>\n",
       "      <td>1</td>\n",
       "    </tr>\n",
       "    <tr>\n",
       "      <th>121</th>\n",
       "      <td>75</td>\n",
       "      <td>3536</td>\n",
       "      <td>2738</td>\n",
       "      <td>16</td>\n",
       "    </tr>\n",
       "    <tr>\n",
       "      <th>161</th>\n",
       "      <td>312</td>\n",
       "      <td>9765</td>\n",
       "      <td>5348</td>\n",
       "      <td>22</td>\n",
       "    </tr>\n",
       "    <tr>\n",
       "      <th>163</th>\n",
       "      <td>731</td>\n",
       "      <td>2482</td>\n",
       "      <td>1786</td>\n",
       "      <td>17</td>\n",
       "    </tr>\n",
       "    <tr>\n",
       "      <th>530</th>\n",
       "      <td>59</td>\n",
       "      <td>385</td>\n",
       "      <td>236</td>\n",
       "      <td>0</td>\n",
       "    </tr>\n",
       "    <tr>\n",
       "      <th>678</th>\n",
       "      <td>32</td>\n",
       "      <td>260</td>\n",
       "      <td>791</td>\n",
       "      <td>2</td>\n",
       "    </tr>\n",
       "    <tr>\n",
       "      <th>775</th>\n",
       "      <td>375</td>\n",
       "      <td>5514</td>\n",
       "      <td>3601</td>\n",
       "      <td>9</td>\n",
       "    </tr>\n",
       "  </tbody>\n",
       "</table>\n",
       "</div>"
      ],
      "text/plain": [
       "          index  S18HODREP  S18HODDEM  S18HODWRI\n",
       "COUNTYFP                                        \n",
       "009          45       1618        818         44\n",
       "015          87       1350        459          1\n",
       "017         161        353        214          0\n",
       "045          36       1666        519          1\n",
       "121          75       3536       2738         16\n",
       "161         312       9765       5348         22\n",
       "163         731       2482       1786         17\n",
       "530          59        385        236          0\n",
       "678          32        260        791          2\n",
       "775         375       5514       3601          9"
      ]
     },
     "execution_count": 74,
     "metadata": {},
     "output_type": "execute_result"
    }
   ],
   "source": [
    "groupby_county_tot_no_absentee"
   ]
  },
  {
   "cell_type": "code",
   "execution_count": 75,
   "metadata": {},
   "outputs": [],
   "source": [
    "df_with_absentee_reallocated = df_no_absent_or_provisional.copy()\n",
    "for index, precinct_total_row_by_candidate in df_no_absent_or_provisional.iterrows():\n",
    "    #print(precinct_total_row_by_candidate)\n",
    "    county_fips = precinct_total_row_by_candidate['COUNTYFP']\n",
    "    county_total_row_by_candidate_no_absentee = groupby_county_tot_no_absentee.loc[county_fips]\n",
    "    county_absentee_and_provisional_by_candidate = groupby_absentee_and_prov_tot.loc[county_fips]\n",
    "    #print(precinct_total_row_by_candidate, county_total_row_by_candidate_no_absentee, county_absentee_and_provisional_by_candidate)\n",
    "    for candidate, votes in county_total_row_by_candidate_no_absentee.to_dict().items():\n",
    "        prec_tot = precinct_total_row_by_candidate[candidate]\n",
    "        #print('precinct total: ', prec_tot)\n",
    "        county_tot = votes\n",
    "        #print('county total: ', county_tot)\n",
    "        absentee_tot = county_absentee_and_provisional_by_candidate[candidate]\n",
    "        #print('absentee total: ', absentee_tot)\n",
    "        absentee_frac = get_absentee_frac(prec_tot, county_tot, absentee_tot)\n",
    "        #print('absentee votes to allocate to precinct: ', absentee_frac)\n",
    "        prec_with_absentee_allocation = round(prec_tot + absentee_frac)\n",
    "        #print('new precinct total: ', prec_with_absentee_allocation)\n",
    "        df_with_absentee_reallocated.loc[index, candidate] = round(prec_with_absentee_allocation) #index is row, candidate is column"
   ]
  },
  {
   "cell_type": "code",
   "execution_count": 76,
   "metadata": {},
   "outputs": [
    {
     "data": {
      "text/plain": [
       "(79, 9)"
      ]
     },
     "execution_count": 76,
     "metadata": {},
     "output_type": "execute_result"
    }
   ],
   "source": [
    "df_with_absentee_reallocated.shape"
   ]
  },
  {
   "cell_type": "code",
   "execution_count": 77,
   "metadata": {},
   "outputs": [
    {
     "data": {
      "text/plain": [
       "163    17\n",
       "161    13\n",
       "775    10\n",
       "009     9\n",
       "045     8\n",
       "017     7\n",
       "121     6\n",
       "015     6\n",
       "530     2\n",
       "678     1\n",
       "Name: COUNTYFP, dtype: int64"
      ]
     },
     "execution_count": 77,
     "metadata": {},
     "output_type": "execute_result"
    }
   ],
   "source": [
    "df_with_absentee_reallocated.COUNTYFP.value_counts()"
   ]
  },
  {
   "cell_type": "code",
   "execution_count": 78,
   "metadata": {},
   "outputs": [
    {
     "data": {
      "text/plain": [
       "(79, 9)"
      ]
     },
     "execution_count": 78,
     "metadata": {},
     "output_type": "execute_result"
    }
   ],
   "source": [
    "final.shape"
   ]
  },
  {
   "cell_type": "markdown",
   "metadata": {},
   "source": [
    "## Check columns sums"
   ]
  },
  {
   "cell_type": "code",
   "execution_count": 79,
   "metadata": {},
   "outputs": [],
   "source": [
    "groupby_county_final = final.groupby('COUNTYFP').sum()\n",
    "groupby_df_with_absentee_reallocated = df_with_absentee_reallocated.groupby('COUNTYFP').sum()\n",
    "df_absentee_reallocate_with_final = pd.merge(groupby_df_with_absentee_reallocated, groupby_county_final, on = 'COUNTYFP', how = 'inner', suffixes = ('_x', '_y'))"
   ]
  },
  {
   "cell_type": "code",
   "execution_count": 80,
   "metadata": {},
   "outputs": [],
   "source": [
    "def sum_checker(df, column_list):\n",
    "    list_max = 0\n",
    "    for i in column_list:\n",
    "        left_sum = df[i+'_x'].sum()\n",
    "        right_sum = df[i+'_y'].sum()\n",
    "        if (left_sum == right_sum):\n",
    "            print('column: ', i, ' have the same sums')\n",
    "        \n",
    "        else:\n",
    "            diff = abs(left_sum - right_sum)\n",
    "            percent = abs(left_sum - right_sum)/left_sum\n",
    "            print('column: ', i)\n",
    "            print('RDH sum is ', str(left_sum))\n",
    "            print('Partner sum is ', str(right_sum))\n",
    "            print('their (absolute) difference is ', str(diff))\n",
    "            print('As a percentage of DF1 this is ', str(round(percent*100,5)) + '%')\n",
    "            if (percent>list_max):\n",
    "                list_max = percent\n",
    "            print('')\n",
    "    print('The max difference (as a percent of the total of on DF column is: ', str(round(list_max,5)))"
   ]
  },
  {
   "cell_type": "code",
   "execution_count": 81,
   "metadata": {},
   "outputs": [
    {
     "name": "stdout",
     "output_type": "stream",
     "text": [
      "column:  S18HODREP\n",
      "RDH sum is  28418.0\n",
      "Partner sum is  28421\n",
      "their (absolute) difference is  3.0\n",
      "As a percentage of DF1 this is  0.01056%\n",
      "\n",
      "column:  S18HODDEM\n",
      "RDH sum is  17779.0\n",
      "Partner sum is  17778\n",
      "their (absolute) difference is  1.0\n",
      "As a percentage of DF1 this is  0.00562%\n",
      "\n",
      "column:  S18HODWRI\n",
      "RDH sum is  114.0\n",
      "Partner sum is  117\n",
      "their (absolute) difference is  3.0\n",
      "As a percentage of DF1 this is  2.63158%\n",
      "\n",
      "The max difference (as a percent of the total of on DF column is:  0.02632\n"
     ]
    }
   ],
   "source": [
    "sum_checker(df_absentee_reallocate_with_final, column_list)"
   ]
  },
  {
   "cell_type": "code",
   "execution_count": 82,
   "metadata": {},
   "outputs": [
    {
     "data": {
      "text/plain": [
       "79"
      ]
     },
     "execution_count": 82,
     "metadata": {},
     "output_type": "execute_result"
    }
   ],
   "source": [
    "(df_with_absentee_reallocated.COUNTYFP + df_with_absentee_reallocated.Pct.str.slice(stop = 3)).nunique()"
   ]
  },
  {
   "cell_type": "code",
   "execution_count": 83,
   "metadata": {},
   "outputs": [
    {
     "data": {
      "text/plain": [
       "(79, 9)"
      ]
     },
     "execution_count": 83,
     "metadata": {},
     "output_type": "execute_result"
    }
   ],
   "source": [
    "df_with_absentee_reallocated.shape"
   ]
  },
  {
   "cell_type": "code",
   "execution_count": 84,
   "metadata": {},
   "outputs": [
    {
     "data": {
      "text/plain": [
       "79"
      ]
     },
     "execution_count": 84,
     "metadata": {},
     "output_type": "execute_result"
    }
   ],
   "source": [
    "(final.COUNTYFP + final.VTDST.str.slice(start = 3)).nunique()"
   ]
  },
  {
   "cell_type": "markdown",
   "metadata": {},
   "source": [
    "### Create unique ID to enable merge"
   ]
  },
  {
   "cell_type": "code",
   "execution_count": 85,
   "metadata": {},
   "outputs": [
    {
     "data": {
      "text/plain": [
       "{'5301 -',\n",
       " '5302 -',\n",
       " '6781 -',\n",
       " '7751 -',\n",
       " '77510 ',\n",
       " '7752 -',\n",
       " '7753 -',\n",
       " '7754 -',\n",
       " '7755 -',\n",
       " '7756 -',\n",
       " '7757 -',\n",
       " '7758 -',\n",
       " '7759 -'}"
      ]
     },
     "execution_count": 85,
     "metadata": {},
     "output_type": "execute_result"
    }
   ],
   "source": [
    "set(df_with_absentee_reallocated.COUNTYFP + df_with_absentee_reallocated.Pct.str.slice(stop = 3)) - set(final.COUNTYFP + final.VTDST.str.slice(start = 3))"
   ]
  },
  {
   "cell_type": "code",
   "execution_count": 86,
   "metadata": {},
   "outputs": [],
   "source": [
    "def vtdst_changer(vtdst):\n",
    "    if (vtdst[1:3] == ' -'):\n",
    "        two_lead_zero = '00' + vtdst[:1]\n",
    "        return two_lead_zero\n",
    "    elif (vtdst[1:3] == '- '):\n",
    "        two_lead_zero = '00' + vtdst[:1]\n",
    "        return two_lead_zero\n",
    "    elif (vtdst[-1:] == ' '):\n",
    "        one_lead_zero = '0' + vtdst[:2]\n",
    "        return one_lead_zero\n",
    "    elif (vtdst[-1:] == '-'):\n",
    "        one_lead_zero = '0' + vtdst[:2]\n",
    "        return one_lead_zero\n",
    "    else:\n",
    "        return vtdst"
   ]
  },
  {
   "cell_type": "code",
   "execution_count": 87,
   "metadata": {},
   "outputs": [
    {
     "data": {
      "text/html": [
       "<div>\n",
       "<style scoped>\n",
       "    .dataframe tbody tr th:only-of-type {\n",
       "        vertical-align: middle;\n",
       "    }\n",
       "\n",
       "    .dataframe tbody tr th {\n",
       "        vertical-align: top;\n",
       "    }\n",
       "\n",
       "    .dataframe thead th {\n",
       "        text-align: right;\n",
       "    }\n",
       "</style>\n",
       "<table border=\"1\" class=\"dataframe\">\n",
       "  <thead>\n",
       "    <tr style=\"text-align: right;\">\n",
       "      <th></th>\n",
       "      <th>index</th>\n",
       "      <th>Pct</th>\n",
       "      <th>Total Votes Cast</th>\n",
       "      <th>HOD_DIST</th>\n",
       "      <th>LOCALITY</th>\n",
       "      <th>S18HODREP</th>\n",
       "      <th>S18HODDEM</th>\n",
       "      <th>S18HODWRI</th>\n",
       "      <th>COUNTYFP</th>\n",
       "      <th>vtdst</th>\n",
       "    </tr>\n",
       "  </thead>\n",
       "  <tbody>\n",
       "    <tr>\n",
       "      <th>0</th>\n",
       "      <td>1.0</td>\n",
       "      <td>102 - New Glasgow</td>\n",
       "      <td>280</td>\n",
       "      <td>24</td>\n",
       "      <td>Amherst County</td>\n",
       "      <td>168.0</td>\n",
       "      <td>118.0</td>\n",
       "      <td>2.0</td>\n",
       "      <td>009</td>\n",
       "      <td>102</td>\n",
       "    </tr>\n",
       "    <tr>\n",
       "      <th>1</th>\n",
       "      <td>3.0</td>\n",
       "      <td>103 - Coolwell</td>\n",
       "      <td>103</td>\n",
       "      <td>24</td>\n",
       "      <td>Amherst County</td>\n",
       "      <td>84.0</td>\n",
       "      <td>21.0</td>\n",
       "      <td>1.0</td>\n",
       "      <td>009</td>\n",
       "      <td>103</td>\n",
       "    </tr>\n",
       "    <tr>\n",
       "      <th>2</th>\n",
       "      <td>4.0</td>\n",
       "      <td>201 - Court House</td>\n",
       "      <td>671</td>\n",
       "      <td>24</td>\n",
       "      <td>Amherst County</td>\n",
       "      <td>407.0</td>\n",
       "      <td>269.0</td>\n",
       "      <td>13.0</td>\n",
       "      <td>009</td>\n",
       "      <td>201</td>\n",
       "    </tr>\n",
       "    <tr>\n",
       "      <th>3</th>\n",
       "      <td>6.0</td>\n",
       "      <td>202 - Temperance</td>\n",
       "      <td>199</td>\n",
       "      <td>24</td>\n",
       "      <td>Amherst County</td>\n",
       "      <td>140.0</td>\n",
       "      <td>61.0</td>\n",
       "      <td>3.0</td>\n",
       "      <td>009</td>\n",
       "      <td>202</td>\n",
       "    </tr>\n",
       "    <tr>\n",
       "      <th>4</th>\n",
       "      <td>7.0</td>\n",
       "      <td>301 - Monroe</td>\n",
       "      <td>230</td>\n",
       "      <td>24</td>\n",
       "      <td>Amherst County</td>\n",
       "      <td>163.0</td>\n",
       "      <td>68.0</td>\n",
       "      <td>5.0</td>\n",
       "      <td>009</td>\n",
       "      <td>301</td>\n",
       "    </tr>\n",
       "  </tbody>\n",
       "</table>\n",
       "</div>"
      ],
      "text/plain": [
       "   index                Pct Total Votes Cast HOD_DIST        LOCALITY  \\\n",
       "0    1.0  102 - New Glasgow              280       24  Amherst County   \n",
       "1    3.0     103 - Coolwell              103       24  Amherst County   \n",
       "2    4.0  201 - Court House              671       24  Amherst County   \n",
       "3    6.0   202 - Temperance              199       24  Amherst County   \n",
       "4    7.0       301 - Monroe              230       24  Amherst County   \n",
       "\n",
       "   S18HODREP  S18HODDEM  S18HODWRI COUNTYFP vtdst  \n",
       "0      168.0      118.0        2.0      009   102  \n",
       "1       84.0       21.0        1.0      009   103  \n",
       "2      407.0      269.0       13.0      009   201  \n",
       "3      140.0       61.0        3.0      009   202  \n",
       "4      163.0       68.0        5.0      009   301  "
      ]
     },
     "execution_count": 87,
     "metadata": {},
     "output_type": "execute_result"
    }
   ],
   "source": [
    "df_with_absentee_reallocated['vtdst'] = df_with_absentee_reallocated.Pct.str.slice(stop = 3)\n",
    "df_with_absentee_reallocated['vtdst'] = df_with_absentee_reallocated['vtdst'].apply(vtdst_changer)\n",
    "df_with_absentee_reallocated.head()"
   ]
  },
  {
   "cell_type": "code",
   "execution_count": 88,
   "metadata": {},
   "outputs": [
    {
     "data": {
      "text/html": [
       "<div>\n",
       "<style scoped>\n",
       "    .dataframe tbody tr th:only-of-type {\n",
       "        vertical-align: middle;\n",
       "    }\n",
       "\n",
       "    .dataframe tbody tr th {\n",
       "        vertical-align: top;\n",
       "    }\n",
       "\n",
       "    .dataframe thead th {\n",
       "        text-align: right;\n",
       "    }\n",
       "</style>\n",
       "<table border=\"1\" class=\"dataframe\">\n",
       "  <thead>\n",
       "    <tr style=\"text-align: right;\">\n",
       "      <th></th>\n",
       "      <th>index</th>\n",
       "      <th>Pct</th>\n",
       "      <th>Total Votes Cast</th>\n",
       "      <th>HOD_DIST</th>\n",
       "      <th>LOCALITY</th>\n",
       "      <th>S18HODREP</th>\n",
       "      <th>S18HODDEM</th>\n",
       "      <th>S18HODWRI</th>\n",
       "      <th>COUNTYFP</th>\n",
       "      <th>vtdst</th>\n",
       "      <th>unique_id</th>\n",
       "    </tr>\n",
       "  </thead>\n",
       "  <tbody>\n",
       "    <tr>\n",
       "      <th>0</th>\n",
       "      <td>1.0</td>\n",
       "      <td>102 - New Glasgow</td>\n",
       "      <td>280</td>\n",
       "      <td>24</td>\n",
       "      <td>Amherst County</td>\n",
       "      <td>168.0</td>\n",
       "      <td>118.0</td>\n",
       "      <td>2.0</td>\n",
       "      <td>009</td>\n",
       "      <td>102</td>\n",
       "      <td>009102</td>\n",
       "    </tr>\n",
       "    <tr>\n",
       "      <th>1</th>\n",
       "      <td>3.0</td>\n",
       "      <td>103 - Coolwell</td>\n",
       "      <td>103</td>\n",
       "      <td>24</td>\n",
       "      <td>Amherst County</td>\n",
       "      <td>84.0</td>\n",
       "      <td>21.0</td>\n",
       "      <td>1.0</td>\n",
       "      <td>009</td>\n",
       "      <td>103</td>\n",
       "      <td>009103</td>\n",
       "    </tr>\n",
       "    <tr>\n",
       "      <th>2</th>\n",
       "      <td>4.0</td>\n",
       "      <td>201 - Court House</td>\n",
       "      <td>671</td>\n",
       "      <td>24</td>\n",
       "      <td>Amherst County</td>\n",
       "      <td>407.0</td>\n",
       "      <td>269.0</td>\n",
       "      <td>13.0</td>\n",
       "      <td>009</td>\n",
       "      <td>201</td>\n",
       "      <td>009201</td>\n",
       "    </tr>\n",
       "    <tr>\n",
       "      <th>3</th>\n",
       "      <td>6.0</td>\n",
       "      <td>202 - Temperance</td>\n",
       "      <td>199</td>\n",
       "      <td>24</td>\n",
       "      <td>Amherst County</td>\n",
       "      <td>140.0</td>\n",
       "      <td>61.0</td>\n",
       "      <td>3.0</td>\n",
       "      <td>009</td>\n",
       "      <td>202</td>\n",
       "      <td>009202</td>\n",
       "    </tr>\n",
       "    <tr>\n",
       "      <th>4</th>\n",
       "      <td>7.0</td>\n",
       "      <td>301 - Monroe</td>\n",
       "      <td>230</td>\n",
       "      <td>24</td>\n",
       "      <td>Amherst County</td>\n",
       "      <td>163.0</td>\n",
       "      <td>68.0</td>\n",
       "      <td>5.0</td>\n",
       "      <td>009</td>\n",
       "      <td>301</td>\n",
       "      <td>009301</td>\n",
       "    </tr>\n",
       "  </tbody>\n",
       "</table>\n",
       "</div>"
      ],
      "text/plain": [
       "   index                Pct Total Votes Cast HOD_DIST        LOCALITY  \\\n",
       "0    1.0  102 - New Glasgow              280       24  Amherst County   \n",
       "1    3.0     103 - Coolwell              103       24  Amherst County   \n",
       "2    4.0  201 - Court House              671       24  Amherst County   \n",
       "3    6.0   202 - Temperance              199       24  Amherst County   \n",
       "4    7.0       301 - Monroe              230       24  Amherst County   \n",
       "\n",
       "   S18HODREP  S18HODDEM  S18HODWRI COUNTYFP vtdst unique_id  \n",
       "0      168.0      118.0        2.0      009   102    009102  \n",
       "1       84.0       21.0        1.0      009   103    009103  \n",
       "2      407.0      269.0       13.0      009   201    009201  \n",
       "3      140.0       61.0        3.0      009   202    009202  \n",
       "4      163.0       68.0        5.0      009   301    009301  "
      ]
     },
     "execution_count": 88,
     "metadata": {},
     "output_type": "execute_result"
    }
   ],
   "source": [
    "df_with_absentee_reallocated['unique_id'] = df_with_absentee_reallocated.COUNTYFP + df_with_absentee_reallocated.vtdst\n",
    "df_with_absentee_reallocated.head()"
   ]
  },
  {
   "cell_type": "code",
   "execution_count": 89,
   "metadata": {},
   "outputs": [],
   "source": [
    "final['unique_id'] = final.COUNTYFP + final.VTDST.str.slice(start = 3)"
   ]
  },
  {
   "cell_type": "code",
   "execution_count": 90,
   "metadata": {},
   "outputs": [
    {
     "data": {
      "text/plain": [
       "set()"
      ]
     },
     "execution_count": 90,
     "metadata": {},
     "output_type": "execute_result"
    }
   ],
   "source": [
    "set(df_with_absentee_reallocated.unique_id) - set(final.unique_id)"
   ]
  },
  {
   "cell_type": "code",
   "execution_count": 91,
   "metadata": {},
   "outputs": [
    {
     "data": {
      "text/plain": [
       "set()"
      ]
     },
     "execution_count": 91,
     "metadata": {},
     "output_type": "execute_result"
    }
   ],
   "source": [
    "set(final.unique_id) - set(df_with_absentee_reallocated.unique_id)"
   ]
  },
  {
   "cell_type": "markdown",
   "metadata": {},
   "source": [
    "# Shapefile"
   ]
  },
  {
   "cell_type": "code",
   "execution_count": 92,
   "metadata": {},
   "outputs": [
    {
     "data": {
      "text/plain": [
       "'/Users/lilyfalk/sandbox/pdv-va'"
      ]
     },
     "execution_count": 92,
     "metadata": {},
     "output_type": "execute_result"
    }
   ],
   "source": [
    "pwd"
   ]
  },
  {
   "cell_type": "code",
   "execution_count": 93,
   "metadata": {},
   "outputs": [],
   "source": [
    "county_fips = []\n",
    "for directory in os.listdir('./vest_va/census_shps_by_county_all_unzip/'):\n",
    "    if not directory[0] == '.':\n",
    "        county_fips.append(directory[-5:])"
   ]
  },
  {
   "cell_type": "code",
   "execution_count": 94,
   "metadata": {},
   "outputs": [],
   "source": [
    "proj = final.crs"
   ]
  },
  {
   "cell_type": "code",
   "execution_count": 95,
   "metadata": {
    "collapsed": true,
    "jupyter": {
     "outputs_hidden": true
    }
   },
   "outputs": [
    {
     "name": "stdout",
     "output_type": "stream",
     "text": [
      "51580  added to list\n",
      "51117  added to list\n",
      "51121  added to list\n",
      "51119  added to list\n",
      "51770  added to list\n",
      "51181  added to list\n",
      "51175  added to list\n",
      "51143  added to list\n",
      "51520  added to list\n",
      "51127  added to list\n",
      "51740  added to list\n",
      "51111  added to list\n",
      "51145  added to list\n",
      "51510  added to list\n",
      "51187  added to list\n",
      "51173  added to list\n",
      "51001  added to list\n",
      "51650  added to list\n",
      "51037  added to list\n",
      "51063  added to list\n",
      "51097  added to list\n",
      "51099  added to list\n",
      "51009  added to list\n",
      "51660  added to list\n",
      "51036  added to list\n",
      "51031  added to list\n",
      "51007  added to list\n",
      "51053  added to list\n",
      "51065  added to list\n",
      "51091  added to list\n",
      "51047  added to list\n",
      "51071  added to list\n",
      "51085  added to list\n",
      "51049  added to list\n",
      "51620  added to list\n",
      "51680  added to list\n",
      "51025  added to list\n",
      "51013  added to list\n",
      "51810  added to list\n",
      "51077  added to list\n",
      "51083  added to list\n",
      "51079  added to list\n",
      "51610  added to list\n",
      "51041  added to list\n",
      "51015  added to list\n",
      "51023  added to list\n",
      "51820  added to list\n",
      "51169  added to list\n",
      "51700  added to list\n",
      "51193  added to list\n",
      "51167  added to list\n",
      "51133  added to list\n",
      "51550  added to list\n",
      "51595  added to list\n",
      "51105  added to list\n",
      "51159  added to list\n",
      "51730  added to list\n",
      "51195  added to list\n",
      "51161  added to list\n",
      "51157  added to list\n",
      "51103  added to list\n",
      "51135  added to list\n",
      "51790  added to list\n",
      "51720  added to list\n",
      "51149  added to list\n",
      "51171  added to list\n",
      "51185  added to list\n",
      "51147  added to list\n",
      "51570  added to list\n",
      "51113  added to list\n",
      "51125  added to list\n",
      "51141  added to list\n",
      "51710  added to list\n",
      "51179  added to list\n",
      "51177  added to list\n",
      "51183  added to list\n",
      "51775  added to list\n",
      "51540  added to list\n",
      "51115  added to list\n",
      "51093  added to list\n",
      "51067  added to list\n",
      "51600  added to list\n",
      "51069  added to list\n",
      "51051  added to list\n",
      "51005  added to list\n",
      "51830  added to list\n",
      "51033  added to list\n",
      "51057  added to list\n",
      "51095  added to list\n",
      "51061  added to list\n",
      "51630  added to list\n",
      "51059  added to list\n",
      "51690  added to list\n",
      "51035  added to list\n",
      "51800  added to list\n",
      "51003  added to list\n",
      "51670  added to list\n",
      "51019  added to list\n",
      "51683  added to list\n",
      "51021  added to list\n",
      "51017  added to list\n",
      "51840  added to list\n",
      "51043  added to list\n",
      "51081  added to list\n",
      "51075  added to list\n",
      "51011  added to list\n",
      "51678  added to list\n",
      "51640  added to list\n",
      "51029  added to list\n",
      "51685  added to list\n",
      "51027  added to list\n",
      "51087  added to list\n",
      "51073  added to list\n",
      "51089  added to list\n",
      "51045  added to list\n",
      "51137  added to list\n",
      "51750  added to list\n",
      "51139  added to list\n",
      "51101  added to list\n",
      "51155  added to list\n",
      "51199  added to list\n",
      "51163  added to list\n",
      "51735  added to list\n",
      "51197  added to list\n",
      "51590  added to list\n",
      "51107  added to list\n",
      "51131  added to list\n",
      "51760  added to list\n",
      "51109  added to list\n",
      "51165  added to list\n",
      "51191  added to list\n",
      "51153  added to list\n",
      "51530  added to list\n"
     ]
    }
   ],
   "source": [
    "county_vtds = []\n",
    "\n",
    "for i in county_fips: #i dont have fips_codes file\n",
    "    ref = './vest_va/census_shps_by_county_all_unzip/partnership_shapefiles_19v2_'\n",
    "    vtd_ref = ref + i + '/PVS_19_v2_vtd_' + i + '.shp' \n",
    "    vtd_shp = gpd.read_file(vtd_ref)\n",
    "    print(i, ' added to list')\n",
    "    county_vtds.append(vtd_shp)"
   ]
  },
  {
   "cell_type": "code",
   "execution_count": 98,
   "metadata": {},
   "outputs": [],
   "source": [
    "global shp_vtd\n",
    "shp_vtd = gpd.GeoDataFrame(pd.concat(county_vtds, axis = 0) , crs = proj) "
   ]
  },
  {
   "cell_type": "code",
   "execution_count": 99,
   "metadata": {},
   "outputs": [
    {
     "data": {
      "text/plain": [
       "'/Users/lilyfalk/sandbox/pdv-va'"
      ]
     },
     "execution_count": 99,
     "metadata": {},
     "output_type": "execute_result"
    }
   ],
   "source": [
    "pwd"
   ]
  },
  {
   "cell_type": "code",
   "execution_count": 100,
   "metadata": {
    "collapsed": true,
    "jupyter": {
     "outputs_hidden": true
    }
   },
   "outputs": [
    {
     "name": "stdout",
     "output_type": "stream",
     "text": [
      "51580  added to list\n",
      "51117  added to list\n",
      "51121  added to list\n",
      "51119  added to list\n",
      "51770  added to list\n",
      "51181  added to list\n",
      "51175  added to list\n",
      "51143  added to list\n",
      "51520  added to list\n",
      "51127  added to list\n",
      "51740  added to list\n",
      "51111  added to list\n",
      "51145  added to list\n",
      "51510  added to list\n",
      "51187  added to list\n",
      "51173  added to list\n",
      "51001  added to list\n",
      "51650  added to list\n",
      "51037  added to list\n",
      "51063  added to list\n",
      "51097  added to list\n",
      "51099  added to list\n",
      "51009  added to list\n",
      "51660  added to list\n",
      "51036  added to list\n",
      "51031  added to list\n",
      "51007  added to list\n",
      "51053  added to list\n",
      "51065  added to list\n",
      "51091  added to list\n",
      "51047  added to list\n",
      "51071  added to list\n",
      "51085  added to list\n",
      "51049  added to list\n",
      "51620  added to list\n",
      "51680  added to list\n",
      "51025  added to list\n",
      "51013  added to list\n",
      "51810  added to list\n",
      "51077  added to list\n",
      "51083  added to list\n",
      "51079  added to list\n",
      "51610  added to list\n",
      "51041  added to list\n",
      "51015  added to list\n",
      "51023  added to list\n",
      "51820  added to list\n",
      "51169  added to list\n",
      "51700  added to list\n",
      "51193  added to list\n",
      "51167  added to list\n",
      "51133  added to list\n",
      "51550  added to list\n",
      "51595  added to list\n",
      "51105  added to list\n",
      "51159  added to list\n",
      "51730  added to list\n",
      "51195  added to list\n",
      "51161  added to list\n",
      "51157  added to list\n",
      "51103  added to list\n",
      "51135  added to list\n",
      "51790  added to list\n",
      "51720  added to list\n",
      "51149  added to list\n",
      "51171  added to list\n",
      "51185  added to list\n",
      "51147  added to list\n",
      "51570  added to list\n",
      "51113  added to list\n",
      "51125  added to list\n",
      "51141  added to list\n",
      "51710  added to list\n",
      "51179  added to list\n",
      "51177  added to list\n",
      "51183  added to list\n",
      "51775  added to list\n",
      "51540  added to list\n",
      "51115  added to list\n",
      "51093  added to list\n",
      "51067  added to list\n",
      "51600  added to list\n",
      "51069  added to list\n",
      "51051  added to list\n",
      "51005  added to list\n",
      "51830  added to list\n",
      "51033  added to list\n",
      "51057  added to list\n",
      "51095  added to list\n",
      "51061  added to list\n",
      "51630  added to list\n",
      "51059  added to list\n",
      "51690  added to list\n",
      "51035  added to list\n",
      "51800  added to list\n",
      "51003  added to list\n",
      "51670  added to list\n",
      "51019  added to list\n",
      "51683  added to list\n",
      "51021  added to list\n",
      "51017  added to list\n",
      "51840  added to list\n",
      "51043  added to list\n",
      "51081  added to list\n",
      "51075  added to list\n",
      "51011  added to list\n",
      "51678  added to list\n",
      "51640  added to list\n",
      "51029  added to list\n",
      "51685  added to list\n",
      "51027  added to list\n",
      "51087  added to list\n",
      "51073  added to list\n",
      "51089  added to list\n",
      "51045  added to list\n",
      "51137  added to list\n",
      "51750  added to list\n",
      "51139  added to list\n",
      "51101  added to list\n",
      "51155  added to list\n",
      "51199  added to list\n",
      "51163  added to list\n",
      "51735  added to list\n",
      "51197  added to list\n",
      "51590  added to list\n",
      "51107  added to list\n",
      "51131  added to list\n",
      "51760  added to list\n",
      "51109  added to list\n",
      "51165  added to list\n",
      "51191  added to list\n",
      "51153  added to list\n",
      "51530  added to list\n"
     ]
    }
   ],
   "source": [
    "county_sldl = []\n",
    "\n",
    "for i in county_fips: #i dont have fips_codes file\n",
    "    ref = './vest_va/census_shps_by_county_all_unzip/partnership_shapefiles_19v2_'\n",
    "    sldl_ref = ref + i + '/PVS_19_v2_sldl_' + i + '.shp' #PVS_19_v2_sldl_51650\n",
    "    sldl_shp = gpd.read_file(sldl_ref)\n",
    "    print(i, ' added to list')\n",
    "    county_sldl.append(sldl_shp)"
   ]
  },
  {
   "cell_type": "code",
   "execution_count": 102,
   "metadata": {},
   "outputs": [],
   "source": [
    "global shp_sldl\n",
    "shp_sldl = gpd.GeoDataFrame(pd.concat(county_sldl, axis = 0) , crs = proj) "
   ]
  },
  {
   "cell_type": "code",
   "execution_count": 103,
   "metadata": {},
   "outputs": [
    {
     "data": {
      "text/plain": [
       "<matplotlib.axes._subplots.AxesSubplot at 0x7fd8d4cb5f40>"
      ]
     },
     "execution_count": 103,
     "metadata": {},
     "output_type": "execute_result"
    },
    {
     "data": {
      "image/png": "[encoded data removed]",
      "text/plain": [
       "<Figure size 432x288 with 1 Axes>"
      ]
     },
     "metadata": {
      "needs_background": "light"
     },
     "output_type": "display_data"
    }
   ],
   "source": [
    "shp_sldl.plot()"
   ]
  },
  {
   "cell_type": "code",
   "execution_count": 104,
   "metadata": {},
   "outputs": [],
   "source": [
    "overlay = gpd.overlay(shp_sldl, shp_vtd, how='intersection', make_valid=True, keep_geom_type=True)"
   ]
  },
  {
   "cell_type": "code",
   "execution_count": 105,
   "metadata": {},
   "outputs": [
    {
     "data": {
      "text/plain": [
       "<matplotlib.axes._subplots.AxesSubplot at 0x7fd8b07483d0>"
      ]
     },
     "execution_count": 105,
     "metadata": {},
     "output_type": "execute_result"
    },
    {
     "data": {
      "image/png": "[encoded data removed]",
      "text/plain": [
       "<Figure size 432x288 with 1 Axes>"
      ]
     },
     "metadata": {
      "needs_background": "light"
     },
     "output_type": "display_data"
    }
   ],
   "source": [
    "overlay.plot()"
   ]
  },
  {
   "cell_type": "code",
   "execution_count": 106,
   "metadata": {},
   "outputs": [
    {
     "data": {
      "text/plain": [
       "Index(['STATEFP_1', 'COUNTYFP_1', 'SLDLST', 'NAMELSAD_1', 'LSAD_1', 'PARTFLG',\n",
       "       'CHNG_TYPE_1', 'EFF_DATE', 'NEW_NAME', 'NEW_CODE', 'RELTYPE1',\n",
       "       'RELTYPE2', 'RELTYPE3', 'RELTYPE4', 'RELTYPE5', 'REL_ENT1', 'REL_ENT2',\n",
       "       'REL_ENT3', 'REL_ENT4', 'REL_ENT5', 'RELATE_1', 'JUSTIFY_1', 'LSY',\n",
       "       'NAME_1', 'VINTAGE_1', 'FUNCSTAT_1', 'STATEFP_2', 'COUNTYFP_2', 'VTDST',\n",
       "       'NAMELSAD_2', 'VTDI', 'LSAD_2', 'CHNG_TYPE_2', 'ORIG_NAME', 'ORIG_CODE',\n",
       "       'RELATE_2', 'NAME_2', 'VINTAGE_2', 'FUNCSTAT_2', 'JUSTIFY_2', 'MTFCC',\n",
       "       'geometry'],\n",
       "      dtype='object')"
      ]
     },
     "execution_count": 106,
     "metadata": {},
     "output_type": "execute_result"
    }
   ],
   "source": [
    "overlay.columns"
   ]
  },
  {
   "cell_type": "code",
   "execution_count": 107,
   "metadata": {},
   "outputs": [],
   "source": [
    "shp = overlay[(overlay.SLDLST == '008') | (overlay.SLDLST == '024')]"
   ]
  },
  {
   "cell_type": "code",
   "execution_count": 108,
   "metadata": {},
   "outputs": [
    {
     "data": {
      "text/plain": [
       "<matplotlib.axes._subplots.AxesSubplot at 0x7fd8c2d13a90>"
      ]
     },
     "execution_count": 108,
     "metadata": {},
     "output_type": "execute_result"
    },
    {
     "data": {
      "image/png": "[encoded data removed]",
      "text/plain": [
       "<Figure size 432x288 with 1 Axes>"
      ]
     },
     "metadata": {
      "needs_background": "light"
     },
     "output_type": "display_data"
    }
   ],
   "source": [
    "shp.plot()"
   ]
  },
  {
   "cell_type": "code",
   "execution_count": 109,
   "metadata": {},
   "outputs": [
    {
     "data": {
      "text/plain": [
       "<matplotlib.axes._subplots.AxesSubplot at 0x7fd8c26ef760>"
      ]
     },
     "execution_count": 109,
     "metadata": {},
     "output_type": "execute_result"
    },
    {
     "data": {
      "image/png": "[encoded data removed]",
      "text/plain": [
       "<Figure size 432x288 with 1 Axes>"
      ]
     },
     "metadata": {
      "needs_background": "light"
     },
     "output_type": "display_data"
    }
   ],
   "source": [
    "final.plot()"
   ]
  },
  {
   "cell_type": "code",
   "execution_count": 110,
   "metadata": {},
   "outputs": [
    {
     "data": {
      "text/plain": [
       "(74, 42)"
      ]
     },
     "execution_count": 110,
     "metadata": {},
     "output_type": "execute_result"
    }
   ],
   "source": [
    "shp.shape"
   ]
  },
  {
   "cell_type": "code",
   "execution_count": 111,
   "metadata": {},
   "outputs": [
    {
     "data": {
      "text/plain": [
       "(79, 10)"
      ]
     },
     "execution_count": 111,
     "metadata": {},
     "output_type": "execute_result"
    }
   ],
   "source": [
    "final.shape"
   ]
  },
  {
   "cell_type": "code",
   "execution_count": 112,
   "metadata": {},
   "outputs": [
    {
     "data": {
      "text/html": [
       "<div>\n",
       "<style scoped>\n",
       "    .dataframe tbody tr th:only-of-type {\n",
       "        vertical-align: middle;\n",
       "    }\n",
       "\n",
       "    .dataframe tbody tr th {\n",
       "        vertical-align: top;\n",
       "    }\n",
       "\n",
       "    .dataframe thead th {\n",
       "        text-align: right;\n",
       "    }\n",
       "</style>\n",
       "<table border=\"1\" class=\"dataframe\">\n",
       "  <thead>\n",
       "    <tr style=\"text-align: right;\">\n",
       "      <th></th>\n",
       "      <th>STATEFP_1</th>\n",
       "      <th>COUNTYFP_1</th>\n",
       "      <th>SLDLST</th>\n",
       "      <th>NAMELSAD_1</th>\n",
       "      <th>LSAD_1</th>\n",
       "      <th>PARTFLG</th>\n",
       "      <th>CHNG_TYPE_1</th>\n",
       "      <th>EFF_DATE</th>\n",
       "      <th>NEW_NAME</th>\n",
       "      <th>NEW_CODE</th>\n",
       "      <th>...</th>\n",
       "      <th>CHNG_TYPE_2</th>\n",
       "      <th>ORIG_NAME</th>\n",
       "      <th>ORIG_CODE</th>\n",
       "      <th>RELATE_2</th>\n",
       "      <th>NAME_2</th>\n",
       "      <th>VINTAGE_2</th>\n",
       "      <th>FUNCSTAT_2</th>\n",
       "      <th>JUSTIFY_2</th>\n",
       "      <th>MTFCC</th>\n",
       "      <th>geometry</th>\n",
       "    </tr>\n",
       "  </thead>\n",
       "  <tbody>\n",
       "    <tr>\n",
       "      <th>44</th>\n",
       "      <td>51</td>\n",
       "      <td>121</td>\n",
       "      <td>008</td>\n",
       "      <td>State House District 8</td>\n",
       "      <td>LL</td>\n",
       "      <td>Y</td>\n",
       "      <td>None</td>\n",
       "      <td>None</td>\n",
       "      <td>None</td>\n",
       "      <td>None</td>\n",
       "      <td>...</td>\n",
       "      <td>None</td>\n",
       "      <td>None</td>\n",
       "      <td>None</td>\n",
       "      <td>None</td>\n",
       "      <td>A-1</td>\n",
       "      <td>90</td>\n",
       "      <td>N</td>\n",
       "      <td>None</td>\n",
       "      <td>G5240</td>\n",
       "      <td>POLYGON Z ((-80.33488 37.22841 0.00000, -80.33...</td>\n",
       "    </tr>\n",
       "    <tr>\n",
       "      <th>48</th>\n",
       "      <td>51</td>\n",
       "      <td>121</td>\n",
       "      <td>008</td>\n",
       "      <td>State House District 8</td>\n",
       "      <td>LL</td>\n",
       "      <td>Y</td>\n",
       "      <td>None</td>\n",
       "      <td>None</td>\n",
       "      <td>None</td>\n",
       "      <td>None</td>\n",
       "      <td>...</td>\n",
       "      <td>None</td>\n",
       "      <td>None</td>\n",
       "      <td>None</td>\n",
       "      <td>None</td>\n",
       "      <td>B-2</td>\n",
       "      <td>90</td>\n",
       "      <td>N</td>\n",
       "      <td>None</td>\n",
       "      <td>G5240</td>\n",
       "      <td>POLYGON Z ((-80.40190 37.12351 0.00000, -80.40...</td>\n",
       "    </tr>\n",
       "    <tr>\n",
       "      <th>50</th>\n",
       "      <td>51</td>\n",
       "      <td>121</td>\n",
       "      <td>008</td>\n",
       "      <td>State House District 8</td>\n",
       "      <td>LL</td>\n",
       "      <td>Y</td>\n",
       "      <td>None</td>\n",
       "      <td>None</td>\n",
       "      <td>None</td>\n",
       "      <td>None</td>\n",
       "      <td>...</td>\n",
       "      <td>None</td>\n",
       "      <td>None</td>\n",
       "      <td>None</td>\n",
       "      <td>None</td>\n",
       "      <td>C-3</td>\n",
       "      <td>90</td>\n",
       "      <td>N</td>\n",
       "      <td>None</td>\n",
       "      <td>G5240</td>\n",
       "      <td>POLYGON Z ((-80.31228 37.20136 0.00000, -80.31...</td>\n",
       "    </tr>\n",
       "    <tr>\n",
       "      <th>70</th>\n",
       "      <td>51</td>\n",
       "      <td>161</td>\n",
       "      <td>008</td>\n",
       "      <td>State House District 8</td>\n",
       "      <td>LL</td>\n",
       "      <td>Y</td>\n",
       "      <td>None</td>\n",
       "      <td>None</td>\n",
       "      <td>None</td>\n",
       "      <td>None</td>\n",
       "      <td>...</td>\n",
       "      <td>None</td>\n",
       "      <td>None</td>\n",
       "      <td>None</td>\n",
       "      <td>None</td>\n",
       "      <td>CATAWBA</td>\n",
       "      <td>90</td>\n",
       "      <td>N</td>\n",
       "      <td>None</td>\n",
       "      <td>G5240</td>\n",
       "      <td>POLYGON Z ((-80.25185 37.30107 0.00000, -80.25...</td>\n",
       "    </tr>\n",
       "    <tr>\n",
       "      <th>71</th>\n",
       "      <td>51</td>\n",
       "      <td>161</td>\n",
       "      <td>008</td>\n",
       "      <td>State House District 8</td>\n",
       "      <td>LL</td>\n",
       "      <td>Y</td>\n",
       "      <td>None</td>\n",
       "      <td>None</td>\n",
       "      <td>None</td>\n",
       "      <td>None</td>\n",
       "      <td>...</td>\n",
       "      <td>None</td>\n",
       "      <td>None</td>\n",
       "      <td>None</td>\n",
       "      <td>None</td>\n",
       "      <td>MASONS VALLEY</td>\n",
       "      <td>90</td>\n",
       "      <td>N</td>\n",
       "      <td>None</td>\n",
       "      <td>G5240</td>\n",
       "      <td>POLYGON Z ((-80.21898 37.26371 0.00000, -80.21...</td>\n",
       "    </tr>\n",
       "  </tbody>\n",
       "</table>\n",
       "<p>5 rows × 42 columns</p>\n",
       "</div>"
      ],
      "text/plain": [
       "   STATEFP_1 COUNTYFP_1 SLDLST              NAMELSAD_1 LSAD_1 PARTFLG  \\\n",
       "44        51        121    008  State House District 8     LL       Y   \n",
       "48        51        121    008  State House District 8     LL       Y   \n",
       "50        51        121    008  State House District 8     LL       Y   \n",
       "70        51        161    008  State House District 8     LL       Y   \n",
       "71        51        161    008  State House District 8     LL       Y   \n",
       "\n",
       "   CHNG_TYPE_1 EFF_DATE NEW_NAME NEW_CODE  ... CHNG_TYPE_2 ORIG_NAME  \\\n",
       "44        None     None     None     None  ...        None      None   \n",
       "48        None     None     None     None  ...        None      None   \n",
       "50        None     None     None     None  ...        None      None   \n",
       "70        None     None     None     None  ...        None      None   \n",
       "71        None     None     None     None  ...        None      None   \n",
       "\n",
       "   ORIG_CODE RELATE_2         NAME_2 VINTAGE_2 FUNCSTAT_2 JUSTIFY_2  MTFCC  \\\n",
       "44      None     None            A-1        90          N      None  G5240   \n",
       "48      None     None            B-2        90          N      None  G5240   \n",
       "50      None     None            C-3        90          N      None  G5240   \n",
       "70      None     None        CATAWBA        90          N      None  G5240   \n",
       "71      None     None  MASONS VALLEY        90          N      None  G5240   \n",
       "\n",
       "                                             geometry  \n",
       "44  POLYGON Z ((-80.33488 37.22841 0.00000, -80.33...  \n",
       "48  POLYGON Z ((-80.40190 37.12351 0.00000, -80.40...  \n",
       "50  POLYGON Z ((-80.31228 37.20136 0.00000, -80.31...  \n",
       "70  POLYGON Z ((-80.25185 37.30107 0.00000, -80.25...  \n",
       "71  POLYGON Z ((-80.21898 37.26371 0.00000, -80.21...  \n",
       "\n",
       "[5 rows x 42 columns]"
      ]
     },
     "execution_count": 112,
     "metadata": {},
     "output_type": "execute_result"
    }
   ],
   "source": [
    "shp.head()"
   ]
  },
  {
   "cell_type": "code",
   "execution_count": 113,
   "metadata": {},
   "outputs": [
    {
     "data": {
      "text/plain": [
       "Index(['STATEFP_1', 'COUNTYFP_1', 'SLDLST', 'NAMELSAD_1', 'LSAD_1', 'PARTFLG',\n",
       "       'CHNG_TYPE_1', 'EFF_DATE', 'NEW_NAME', 'NEW_CODE', 'RELTYPE1',\n",
       "       'RELTYPE2', 'RELTYPE3', 'RELTYPE4', 'RELTYPE5', 'REL_ENT1', 'REL_ENT2',\n",
       "       'REL_ENT3', 'REL_ENT4', 'REL_ENT5', 'RELATE_1', 'JUSTIFY_1', 'LSY',\n",
       "       'NAME_1', 'VINTAGE_1', 'FUNCSTAT_1', 'STATEFP_2', 'COUNTYFP_2', 'VTDST',\n",
       "       'NAMELSAD_2', 'VTDI', 'LSAD_2', 'CHNG_TYPE_2', 'ORIG_NAME', 'ORIG_CODE',\n",
       "       'RELATE_2', 'NAME_2', 'VINTAGE_2', 'FUNCSTAT_2', 'JUSTIFY_2', 'MTFCC',\n",
       "       'geometry'],\n",
       "      dtype='object')"
      ]
     },
     "execution_count": 113,
     "metadata": {},
     "output_type": "execute_result"
    }
   ],
   "source": [
    "shp.columns"
   ]
  },
  {
   "cell_type": "code",
   "execution_count": 114,
   "metadata": {},
   "outputs": [
    {
     "data": {
      "text/plain": [
       "0"
      ]
     },
     "execution_count": 114,
     "metadata": {},
     "output_type": "execute_result"
    }
   ],
   "source": [
    "len(set(shp.COUNTYFP_1 + shp.VTDST.str.slice(start = 3)) - set(final.COUNTYFP + final.VTDST.str.slice(start = 3)))"
   ]
  },
  {
   "cell_type": "code",
   "execution_count": 115,
   "metadata": {},
   "outputs": [
    {
     "data": {
      "text/plain": [
       "5"
      ]
     },
     "execution_count": 115,
     "metadata": {},
     "output_type": "execute_result"
    }
   ],
   "source": [
    "len(set(final.COUNTYFP + final.VTDST.str.slice(start = 3)) - set(shp.COUNTYFP_1 + shp.VTDST.str.slice(start = 3)))"
   ]
  },
  {
   "cell_type": "code",
   "execution_count": 116,
   "metadata": {},
   "outputs": [
    {
     "name": "stderr",
     "output_type": "stream",
     "text": [
      "/Users/lilyfalk/anaconda3/lib/python3.8/site-packages/geopandas/geodataframe.py:853: SettingWithCopyWarning: \n",
      "A value is trying to be set on a copy of a slice from a DataFrame.\n",
      "Try using .loc[row_indexer,col_indexer] = value instead\n",
      "\n",
      "See the caveats in the documentation: https://pandas.pydata.org/pandas-docs/stable/user_guide/indexing.html#returning-a-view-versus-a-copy\n",
      "  super(GeoDataFrame, self).__setitem__(key, value)\n"
     ]
    }
   ],
   "source": [
    "shp['unique_id'] = shp['COUNTYFP_1'] + shp['VTDST'].str.slice(start = 3)"
   ]
  },
  {
   "cell_type": "markdown",
   "metadata": {},
   "source": [
    "## Join election results and shapefile"
   ]
  },
  {
   "cell_type": "code",
   "execution_count": 117,
   "metadata": {},
   "outputs": [
    {
     "data": {
      "text/plain": [
       "<matplotlib.axes._subplots.AxesSubplot at 0x7fd8c2bedc10>"
      ]
     },
     "execution_count": 117,
     "metadata": {},
     "output_type": "execute_result"
    },
    {
     "data": {
      "image/png": "[encoded data removed]",
      "text/plain": [
       "<Figure size 432x288 with 1 Axes>"
      ]
     },
     "metadata": {
      "needs_background": "light"
     },
     "output_type": "display_data"
    }
   ],
   "source": [
    "join = gpd.GeoDataFrame(pd.merge(df_with_absentee_reallocated, shp, on = 'unique_id', how = 'inner'), crs = proj)\n",
    "join.plot()"
   ]
  },
  {
   "cell_type": "code",
   "execution_count": 118,
   "metadata": {},
   "outputs": [
    {
     "data": {
      "text/html": [
       "<div>\n",
       "<style scoped>\n",
       "    .dataframe tbody tr th:only-of-type {\n",
       "        vertical-align: middle;\n",
       "    }\n",
       "\n",
       "    .dataframe tbody tr th {\n",
       "        vertical-align: top;\n",
       "    }\n",
       "\n",
       "    .dataframe thead th {\n",
       "        text-align: right;\n",
       "    }\n",
       "</style>\n",
       "<table border=\"1\" class=\"dataframe\">\n",
       "  <thead>\n",
       "    <tr style=\"text-align: right;\">\n",
       "      <th></th>\n",
       "      <th>STATEFP_1</th>\n",
       "      <th>COUNTYFP_1</th>\n",
       "      <th>SLDLST</th>\n",
       "      <th>NAMELSAD_1</th>\n",
       "      <th>LSAD_1</th>\n",
       "      <th>PARTFLG</th>\n",
       "      <th>CHNG_TYPE_1</th>\n",
       "      <th>EFF_DATE</th>\n",
       "      <th>NEW_NAME</th>\n",
       "      <th>NEW_CODE</th>\n",
       "      <th>...</th>\n",
       "      <th>ORIG_NAME</th>\n",
       "      <th>ORIG_CODE</th>\n",
       "      <th>RELATE_2</th>\n",
       "      <th>NAME_2</th>\n",
       "      <th>VINTAGE_2</th>\n",
       "      <th>FUNCSTAT_2</th>\n",
       "      <th>JUSTIFY_2</th>\n",
       "      <th>MTFCC</th>\n",
       "      <th>geometry</th>\n",
       "      <th>unique_id</th>\n",
       "    </tr>\n",
       "  </thead>\n",
       "  <tbody>\n",
       "    <tr>\n",
       "      <th>44</th>\n",
       "      <td>51</td>\n",
       "      <td>121</td>\n",
       "      <td>008</td>\n",
       "      <td>State House District 8</td>\n",
       "      <td>LL</td>\n",
       "      <td>Y</td>\n",
       "      <td>None</td>\n",
       "      <td>None</td>\n",
       "      <td>None</td>\n",
       "      <td>None</td>\n",
       "      <td>...</td>\n",
       "      <td>None</td>\n",
       "      <td>None</td>\n",
       "      <td>None</td>\n",
       "      <td>A-1</td>\n",
       "      <td>90</td>\n",
       "      <td>N</td>\n",
       "      <td>None</td>\n",
       "      <td>G5240</td>\n",
       "      <td>POLYGON Z ((-80.33488 37.22841 0.00000, -80.33...</td>\n",
       "      <td>121101</td>\n",
       "    </tr>\n",
       "    <tr>\n",
       "      <th>48</th>\n",
       "      <td>51</td>\n",
       "      <td>121</td>\n",
       "      <td>008</td>\n",
       "      <td>State House District 8</td>\n",
       "      <td>LL</td>\n",
       "      <td>Y</td>\n",
       "      <td>None</td>\n",
       "      <td>None</td>\n",
       "      <td>None</td>\n",
       "      <td>None</td>\n",
       "      <td>...</td>\n",
       "      <td>None</td>\n",
       "      <td>None</td>\n",
       "      <td>None</td>\n",
       "      <td>B-2</td>\n",
       "      <td>90</td>\n",
       "      <td>N</td>\n",
       "      <td>None</td>\n",
       "      <td>G5240</td>\n",
       "      <td>POLYGON Z ((-80.40190 37.12351 0.00000, -80.40...</td>\n",
       "      <td>121202</td>\n",
       "    </tr>\n",
       "    <tr>\n",
       "      <th>50</th>\n",
       "      <td>51</td>\n",
       "      <td>121</td>\n",
       "      <td>008</td>\n",
       "      <td>State House District 8</td>\n",
       "      <td>LL</td>\n",
       "      <td>Y</td>\n",
       "      <td>None</td>\n",
       "      <td>None</td>\n",
       "      <td>None</td>\n",
       "      <td>None</td>\n",
       "      <td>...</td>\n",
       "      <td>None</td>\n",
       "      <td>None</td>\n",
       "      <td>None</td>\n",
       "      <td>C-3</td>\n",
       "      <td>90</td>\n",
       "      <td>N</td>\n",
       "      <td>None</td>\n",
       "      <td>G5240</td>\n",
       "      <td>POLYGON Z ((-80.31228 37.20136 0.00000, -80.31...</td>\n",
       "      <td>121303</td>\n",
       "    </tr>\n",
       "    <tr>\n",
       "      <th>70</th>\n",
       "      <td>51</td>\n",
       "      <td>161</td>\n",
       "      <td>008</td>\n",
       "      <td>State House District 8</td>\n",
       "      <td>LL</td>\n",
       "      <td>Y</td>\n",
       "      <td>None</td>\n",
       "      <td>None</td>\n",
       "      <td>None</td>\n",
       "      <td>None</td>\n",
       "      <td>...</td>\n",
       "      <td>None</td>\n",
       "      <td>None</td>\n",
       "      <td>None</td>\n",
       "      <td>CATAWBA</td>\n",
       "      <td>90</td>\n",
       "      <td>N</td>\n",
       "      <td>None</td>\n",
       "      <td>G5240</td>\n",
       "      <td>POLYGON Z ((-80.25185 37.30107 0.00000, -80.25...</td>\n",
       "      <td>161101</td>\n",
       "    </tr>\n",
       "    <tr>\n",
       "      <th>71</th>\n",
       "      <td>51</td>\n",
       "      <td>161</td>\n",
       "      <td>008</td>\n",
       "      <td>State House District 8</td>\n",
       "      <td>LL</td>\n",
       "      <td>Y</td>\n",
       "      <td>None</td>\n",
       "      <td>None</td>\n",
       "      <td>None</td>\n",
       "      <td>None</td>\n",
       "      <td>...</td>\n",
       "      <td>None</td>\n",
       "      <td>None</td>\n",
       "      <td>None</td>\n",
       "      <td>MASONS VALLEY</td>\n",
       "      <td>90</td>\n",
       "      <td>N</td>\n",
       "      <td>None</td>\n",
       "      <td>G5240</td>\n",
       "      <td>POLYGON Z ((-80.21898 37.26371 0.00000, -80.21...</td>\n",
       "      <td>161102</td>\n",
       "    </tr>\n",
       "    <tr>\n",
       "      <th>...</th>\n",
       "      <td>...</td>\n",
       "      <td>...</td>\n",
       "      <td>...</td>\n",
       "      <td>...</td>\n",
       "      <td>...</td>\n",
       "      <td>...</td>\n",
       "      <td>...</td>\n",
       "      <td>...</td>\n",
       "      <td>...</td>\n",
       "      <td>...</td>\n",
       "      <td>...</td>\n",
       "      <td>...</td>\n",
       "      <td>...</td>\n",
       "      <td>...</td>\n",
       "      <td>...</td>\n",
       "      <td>...</td>\n",
       "      <td>...</td>\n",
       "      <td>...</td>\n",
       "      <td>...</td>\n",
       "      <td>...</td>\n",
       "      <td>...</td>\n",
       "    </tr>\n",
       "    <tr>\n",
       "      <th>2207</th>\n",
       "      <td>51</td>\n",
       "      <td>163</td>\n",
       "      <td>024</td>\n",
       "      <td>State House District 24</td>\n",
       "      <td>LL</td>\n",
       "      <td>Y</td>\n",
       "      <td>None</td>\n",
       "      <td>None</td>\n",
       "      <td>None</td>\n",
       "      <td>None</td>\n",
       "      <td>...</td>\n",
       "      <td>None</td>\n",
       "      <td>None</td>\n",
       "      <td>None</td>\n",
       "      <td>Falling Spring</td>\n",
       "      <td>90</td>\n",
       "      <td>N</td>\n",
       "      <td>None</td>\n",
       "      <td>G5240</td>\n",
       "      <td>POLYGON Z ((-79.53721 37.65503 0.00000, -79.53...</td>\n",
       "      <td>163303</td>\n",
       "    </tr>\n",
       "    <tr>\n",
       "      <th>2208</th>\n",
       "      <td>51</td>\n",
       "      <td>163</td>\n",
       "      <td>024</td>\n",
       "      <td>State House District 24</td>\n",
       "      <td>LL</td>\n",
       "      <td>Y</td>\n",
       "      <td>None</td>\n",
       "      <td>None</td>\n",
       "      <td>None</td>\n",
       "      <td>None</td>\n",
       "      <td>...</td>\n",
       "      <td>None</td>\n",
       "      <td>None</td>\n",
       "      <td>None</td>\n",
       "      <td>Fairfield</td>\n",
       "      <td>90</td>\n",
       "      <td>N</td>\n",
       "      <td>None</td>\n",
       "      <td>G5240</td>\n",
       "      <td>POLYGON Z ((-79.36903 37.84085 0.00000, -79.36...</td>\n",
       "      <td>163401</td>\n",
       "    </tr>\n",
       "    <tr>\n",
       "      <th>2209</th>\n",
       "      <td>51</td>\n",
       "      <td>163</td>\n",
       "      <td>024</td>\n",
       "      <td>State House District 24</td>\n",
       "      <td>LL</td>\n",
       "      <td>Y</td>\n",
       "      <td>None</td>\n",
       "      <td>None</td>\n",
       "      <td>None</td>\n",
       "      <td>None</td>\n",
       "      <td>...</td>\n",
       "      <td>None</td>\n",
       "      <td>None</td>\n",
       "      <td>None</td>\n",
       "      <td>Meadowview</td>\n",
       "      <td>90</td>\n",
       "      <td>N</td>\n",
       "      <td>None</td>\n",
       "      <td>G5240</td>\n",
       "      <td>POLYGON Z ((-79.42563 37.81657 0.00000, -79.42...</td>\n",
       "      <td>163502</td>\n",
       "    </tr>\n",
       "    <tr>\n",
       "      <th>2210</th>\n",
       "      <td>51</td>\n",
       "      <td>530</td>\n",
       "      <td>024</td>\n",
       "      <td>State House District 24</td>\n",
       "      <td>LL</td>\n",
       "      <td>Y</td>\n",
       "      <td>None</td>\n",
       "      <td>None</td>\n",
       "      <td>None</td>\n",
       "      <td>None</td>\n",
       "      <td>...</td>\n",
       "      <td>None</td>\n",
       "      <td>None</td>\n",
       "      <td>None</td>\n",
       "      <td>First Ward</td>\n",
       "      <td>90</td>\n",
       "      <td>N</td>\n",
       "      <td>None</td>\n",
       "      <td>G5240</td>\n",
       "      <td>POLYGON Z ((-79.34014 37.73195 0.00000, -79.33...</td>\n",
       "      <td>530001</td>\n",
       "    </tr>\n",
       "    <tr>\n",
       "      <th>2211</th>\n",
       "      <td>51</td>\n",
       "      <td>530</td>\n",
       "      <td>024</td>\n",
       "      <td>State House District 24</td>\n",
       "      <td>LL</td>\n",
       "      <td>Y</td>\n",
       "      <td>None</td>\n",
       "      <td>None</td>\n",
       "      <td>None</td>\n",
       "      <td>None</td>\n",
       "      <td>...</td>\n",
       "      <td>None</td>\n",
       "      <td>None</td>\n",
       "      <td>None</td>\n",
       "      <td>Second Ward</td>\n",
       "      <td>90</td>\n",
       "      <td>N</td>\n",
       "      <td>None</td>\n",
       "      <td>G5240</td>\n",
       "      <td>POLYGON Z ((-79.38151 37.74215 0.00000, -79.38...</td>\n",
       "      <td>530002</td>\n",
       "    </tr>\n",
       "  </tbody>\n",
       "</table>\n",
       "<p>74 rows × 43 columns</p>\n",
       "</div>"
      ],
      "text/plain": [
       "     STATEFP_1 COUNTYFP_1 SLDLST               NAMELSAD_1 LSAD_1 PARTFLG  \\\n",
       "44          51        121    008   State House District 8     LL       Y   \n",
       "48          51        121    008   State House District 8     LL       Y   \n",
       "50          51        121    008   State House District 8     LL       Y   \n",
       "70          51        161    008   State House District 8     LL       Y   \n",
       "71          51        161    008   State House District 8     LL       Y   \n",
       "...        ...        ...    ...                      ...    ...     ...   \n",
       "2207        51        163    024  State House District 24     LL       Y   \n",
       "2208        51        163    024  State House District 24     LL       Y   \n",
       "2209        51        163    024  State House District 24     LL       Y   \n",
       "2210        51        530    024  State House District 24     LL       Y   \n",
       "2211        51        530    024  State House District 24     LL       Y   \n",
       "\n",
       "     CHNG_TYPE_1 EFF_DATE NEW_NAME NEW_CODE  ... ORIG_NAME ORIG_CODE RELATE_2  \\\n",
       "44          None     None     None     None  ...      None      None     None   \n",
       "48          None     None     None     None  ...      None      None     None   \n",
       "50          None     None     None     None  ...      None      None     None   \n",
       "70          None     None     None     None  ...      None      None     None   \n",
       "71          None     None     None     None  ...      None      None     None   \n",
       "...          ...      ...      ...      ...  ...       ...       ...      ...   \n",
       "2207        None     None     None     None  ...      None      None     None   \n",
       "2208        None     None     None     None  ...      None      None     None   \n",
       "2209        None     None     None     None  ...      None      None     None   \n",
       "2210        None     None     None     None  ...      None      None     None   \n",
       "2211        None     None     None     None  ...      None      None     None   \n",
       "\n",
       "              NAME_2 VINTAGE_2 FUNCSTAT_2 JUSTIFY_2  MTFCC  \\\n",
       "44               A-1        90          N      None  G5240   \n",
       "48               B-2        90          N      None  G5240   \n",
       "50               C-3        90          N      None  G5240   \n",
       "70           CATAWBA        90          N      None  G5240   \n",
       "71     MASONS VALLEY        90          N      None  G5240   \n",
       "...              ...       ...        ...       ...    ...   \n",
       "2207  Falling Spring        90          N      None  G5240   \n",
       "2208       Fairfield        90          N      None  G5240   \n",
       "2209      Meadowview        90          N      None  G5240   \n",
       "2210      First Ward        90          N      None  G5240   \n",
       "2211     Second Ward        90          N      None  G5240   \n",
       "\n",
       "                                               geometry unique_id  \n",
       "44    POLYGON Z ((-80.33488 37.22841 0.00000, -80.33...    121101  \n",
       "48    POLYGON Z ((-80.40190 37.12351 0.00000, -80.40...    121202  \n",
       "50    POLYGON Z ((-80.31228 37.20136 0.00000, -80.31...    121303  \n",
       "70    POLYGON Z ((-80.25185 37.30107 0.00000, -80.25...    161101  \n",
       "71    POLYGON Z ((-80.21898 37.26371 0.00000, -80.21...    161102  \n",
       "...                                                 ...       ...  \n",
       "2207  POLYGON Z ((-79.53721 37.65503 0.00000, -79.53...    163303  \n",
       "2208  POLYGON Z ((-79.36903 37.84085 0.00000, -79.36...    163401  \n",
       "2209  POLYGON Z ((-79.42563 37.81657 0.00000, -79.42...    163502  \n",
       "2210  POLYGON Z ((-79.34014 37.73195 0.00000, -79.33...    530001  \n",
       "2211  POLYGON Z ((-79.38151 37.74215 0.00000, -79.38...    530002  \n",
       "\n",
       "[74 rows x 43 columns]"
      ]
     },
     "execution_count": 118,
     "metadata": {},
     "output_type": "execute_result"
    }
   ],
   "source": [
    "shp"
   ]
  },
  {
   "cell_type": "markdown",
   "metadata": {},
   "source": [
    "### Refining shp match"
   ]
  },
  {
   "cell_type": "code",
   "execution_count": 120,
   "metadata": {},
   "outputs": [],
   "source": [
    "shp_id_list = list(set(shp['unique_id']) - set(df_with_absentee_reallocated['unique_id']))\n",
    "df_id_list = list(set(df_with_absentee_reallocated['unique_id']) - set(shp['unique_id']))"
   ]
  },
  {
   "cell_type": "code",
   "execution_count": 121,
   "metadata": {},
   "outputs": [
    {
     "name": "stdout",
     "output_type": "stream",
     "text": [
      "74\n",
      "0\n",
      "79\n"
     ]
    },
    {
     "data": {
      "text/plain": [
       "5"
      ]
     },
     "execution_count": 121,
     "metadata": {},
     "output_type": "execute_result"
    }
   ],
   "source": [
    "print(shp.shape[0])\n",
    "print(len(shp_id_list))\n",
    "print(df_with_absentee_reallocated.shape[0])\n",
    "len(df_id_list)"
   ]
  },
  {
   "cell_type": "code",
   "execution_count": 122,
   "metadata": {},
   "outputs": [
    {
     "data": {
      "text/plain": [
       "set()"
      ]
     },
     "execution_count": 122,
     "metadata": {},
     "output_type": "execute_result"
    }
   ],
   "source": [
    "set(final.unique_id) - set(df_with_absentee_reallocated.unique_id)"
   ]
  },
  {
   "cell_type": "code",
   "execution_count": 123,
   "metadata": {},
   "outputs": [
    {
     "data": {
      "text/plain": [
       "<matplotlib.axes._subplots.AxesSubplot at 0x7fd8c26d5190>"
      ]
     },
     "execution_count": 123,
     "metadata": {},
     "output_type": "execute_result"
    },
    {
     "data": {
      "image/png": "[encoded data removed]",
      "text/plain": [
       "<Figure size 432x288 with 1 Axes>"
      ]
     },
     "metadata": {
      "needs_background": "light"
     },
     "output_type": "display_data"
    }
   ],
   "source": [
    "final[final.unique_id.isin(df_id_list)].plot()"
   ]
  },
  {
   "cell_type": "markdown",
   "metadata": {},
   "source": [
    "# Validation"
   ]
  },
  {
   "cell_type": "code",
   "execution_count": 124,
   "metadata": {},
   "outputs": [
    {
     "data": {
      "text/plain": [
       "<matplotlib.axes._subplots.AxesSubplot at 0x7fd8c2f420d0>"
      ]
     },
     "execution_count": 124,
     "metadata": {},
     "output_type": "execute_result"
    },
    {
     "data": {
      "image/png": "[encoded data removed]",
      "text/plain": [
       "<Figure size 432x288 with 1 Axes>"
      ]
     },
     "metadata": {
      "needs_background": "light"
     },
     "output_type": "display_data"
    }
   ],
   "source": [
    "join = gpd.GeoDataFrame(pd.merge(df_with_absentee_reallocated, shp, on = 'unique_id', how = 'inner'), crs = proj)\n",
    "join.plot()"
   ]
  },
  {
   "cell_type": "markdown",
   "metadata": {},
   "source": [
    "## Validating Shapfile"
   ]
  },
  {
   "cell_type": "code",
   "execution_count": 125,
   "metadata": {},
   "outputs": [
    {
     "data": {
      "text/plain": [
       "<matplotlib.axes._subplots.AxesSubplot at 0x7fd8d5c4a940>"
      ]
     },
     "execution_count": 125,
     "metadata": {},
     "output_type": "execute_result"
    },
    {
     "data": {
      "image/png": "[encoded data removed]",
      "text/plain": [
       "<Figure size 432x288 with 1 Axes>"
      ]
     },
     "metadata": {
      "needs_background": "light"
     },
     "output_type": "display_data"
    },
    {
     "data": {
      "image/png": "[encoded data removed]",
      "text/plain": [
       "<Figure size 432x288 with 1 Axes>"
      ]
     },
     "metadata": {
      "needs_background": "light"
     },
     "output_type": "display_data"
    }
   ],
   "source": [
    "shp.plot()\n",
    "final.plot()"
   ]
  },
  {
   "cell_type": "code",
   "execution_count": 126,
   "metadata": {},
   "outputs": [
    {
     "name": "stderr",
     "output_type": "stream",
     "text": [
      "/Users/lilyfalk/anaconda3/lib/python3.8/site-packages/geopandas/base.py:39: UserWarning: The indices of the two GeoSeries are different.\n",
      "  warn(\"The indices of the two GeoSeries are different.\")\n"
     ]
    }
   ],
   "source": [
    "shp_final_merge = pd.merge(join, final, on = 'unique_id', how = 'outer', suffixes = ['_x', '_y'])\n",
    "\n",
    "join['geometry'].geom_almost_equals(final['geometry'], decimal = 0)\n",
    "\n",
    "shp_shapes = gpd.GeoDataFrame(shp_final_merge, geometry = 'geometry_x')\n",
    "final_shapes = gpd.GeoDataFrame(shp_final_merge, geometry = 'geometry_y')\n",
    "vals = shp_shapes.geom_almost_equals(final_shapes, decimal = 0)"
   ]
  },
  {
   "cell_type": "code",
   "execution_count": 127,
   "metadata": {},
   "outputs": [
    {
     "name": "stdout",
     "output_type": "stream",
     "text": [
      "True     57\n",
      "False    22\n",
      "dtype: int64\n"
     ]
    }
   ],
   "source": [
    "print(vals.value_counts())"
   ]
  },
  {
   "cell_type": "code",
   "execution_count": 128,
   "metadata": {},
   "outputs": [
    {
     "name": "stdout",
     "output_type": "stream",
     "text": [
      "161    7\n",
      "163    6\n",
      "121    4\n",
      "015    2\n",
      "530    2\n",
      "009    1\n",
      "Name: unique_id, dtype: int64\n"
     ]
    },
    {
     "data": {
      "text/plain": [
       "<matplotlib.axes._subplots.AxesSubplot at 0x7fd8b0a54df0>"
      ]
     },
     "execution_count": 128,
     "metadata": {},
     "output_type": "execute_result"
    },
    {
     "data": {
      "image/png": "[encoded data removed]",
      "text/plain": [
       "<Figure size 432x288 with 1 Axes>"
      ]
     },
     "metadata": {
      "needs_background": "light"
     },
     "output_type": "display_data"
    }
   ],
   "source": [
    "print(shp_final_merge[~vals]['unique_id'].str[0:3].value_counts())\n",
    "diff_precincts = gpd.GeoDataFrame(shp_final_merge[~vals], geometry = 'geometry_x', crs = proj)\n",
    "\n",
    "shp_difference = gpd.overlay(shp_shapes, final_shapes, how = 'symmetric_difference')\n",
    "shp_difference.plot()"
   ]
  },
  {
   "cell_type": "code",
   "execution_count": 129,
   "metadata": {},
   "outputs": [
    {
     "name": "stdout",
     "output_type": "stream",
     "text": [
      "    index                   Pct Total Votes Cast HOD_DIST_x  \\\n",
      "12   24.0       602 - Ridgeview              596         24   \n",
      "20   44.0        1 - First Ward              368         24   \n",
      "21   46.0       2 - Second Ward              253         24   \n",
      "23   40.0         101 - Airport              482         24   \n",
      "26   43.0        104 - Effinger              204         24   \n",
      "27   45.0    201 - Collierstown              310         24   \n",
      "28   46.0  202 - Highland Belle              617         24   \n",
      "33   51.0       401 - Fairfield              288         24   \n",
      "39   58.0      504 - Rockbridge              366         24   \n",
      "48   14.0    101 - Precinct A-1            1,308          8   \n",
      "52   23.0    102 - Mason Valley              445          8   \n",
      "53   24.0         103 - Glenvar            1,117          8   \n",
      "54   25.0      106 - Green Hill            1,768          8   \n",
      "56   28.0        108 - Wildwood              925          8   \n",
      "57   29.0   301 - Bent Mountain              454          8   \n",
      "58   30.0     302 - Poages Mill            1,952          8   \n",
      "59   31.0       304 - Oak Grove            1,987          8   \n",
      "74    NaN                   NaN              NaN        NaN   \n",
      "75    NaN                   NaN              NaN        NaN   \n",
      "76    NaN                   NaN              NaN        NaN   \n",
      "77    NaN                   NaN              NaN        NaN   \n",
      "78    NaN                   NaN              NaN        NaN   \n",
      "\n",
      "           LOCALITY_x  S18HODREP_x  S18HODDEM_x  S18HODWRI_x COUNTYFP_x vtdst  \\\n",
      "12     Augusta County        442.0        162.0          0.0        015   602   \n",
      "20   Buena Vista City        233.0        135.0          0.0        530   001   \n",
      "21   Buena Vista City        152.0        101.0          0.0        530   002   \n",
      "23  Rockbridge County        232.0        267.0          1.0        163   101   \n",
      "26  Rockbridge County        133.0         77.0          1.0        163   104   \n",
      "27  Rockbridge County        153.0        167.0          2.0        163   201   \n",
      "28  Rockbridge County        342.0        296.0          1.0        163   202   \n",
      "33  Rockbridge County        202.0         96.0          0.0        163   401   \n",
      "39  Rockbridge County        233.0        144.0          2.0        163   504   \n",
      "48  Montgomery County        579.0        815.0          1.0        121   101   \n",
      "52     Roanoke County        357.0        124.0          1.0        161   102   \n",
      "53     Roanoke County        834.0        374.0          2.0        161   103   \n",
      "54     Roanoke County       1270.0        643.0          3.0        161   106   \n",
      "56     Roanoke County        665.0        335.0          3.0        161   108   \n",
      "57     Roanoke County        301.0        191.0          1.0        161   301   \n",
      "58     Roanoke County       1409.0        706.0          1.0        161   302   \n",
      "59     Roanoke County       1310.0        841.0          6.0        161   304   \n",
      "74                NaN          NaN          NaN          NaN        NaN   NaN   \n",
      "75                NaN          NaN          NaN          NaN        NaN   NaN   \n",
      "76                NaN          NaN          NaN          NaN        NaN   NaN   \n",
      "77                NaN          NaN          NaN          NaN        NaN   NaN   \n",
      "78                NaN          NaN          NaN          NaN        NaN   NaN   \n",
      "\n",
      "    ...                                         geometry_x COUNTYFP_y  \\\n",
      "12  ...  POLYGON Z ((-79.03484 38.03462 0.00000, -79.03...        015   \n",
      "20  ...  POLYGON Z ((-79.34014 37.73195 0.00000, -79.33...        530   \n",
      "21  ...  POLYGON Z ((-79.38151 37.74215 0.00000, -79.38...        530   \n",
      "23  ...  POLYGON Z ((-79.45665 37.77841 0.00000, -79.45...        163   \n",
      "26  ...  POLYGON Z ((-79.63882 37.63499 0.00000, -79.65...        163   \n",
      "27  ...  POLYGON Z ((-79.63473 37.81933 0.00000, -79.63...        163   \n",
      "28  ...  POLYGON Z ((-79.43165 37.79356 0.00000, -79.43...        163   \n",
      "33  ...  POLYGON Z ((-79.36903 37.84085 0.00000, -79.36...        163   \n",
      "39  ...  POLYGON Z ((-79.31938 37.99000 0.00000, -79.30...        163   \n",
      "48  ...  POLYGON Z ((-80.33488 37.22841 0.00000, -80.33...        121   \n",
      "52  ...  POLYGON Z ((-80.21898 37.26371 0.00000, -80.21...        161   \n",
      "53  ...  POLYGON Z ((-80.19254 37.23438 0.00000, -80.19...        161   \n",
      "54  ...  POLYGON Z ((-80.18355 37.17590 0.00000, -80.18...        161   \n",
      "56  ...  POLYGON Z ((-80.08023 37.32609 0.00000, -80.08...        161   \n",
      "57  ...  POLYGON Z ((-80.08276 37.16091 0.00000, -80.08...        161   \n",
      "58  ...  POLYGON Z ((-80.04042 37.16820 0.00000, -80.04...        161   \n",
      "59  ...  POLYGON Z ((-80.02878 37.24369 0.00000, -80.02...        161   \n",
      "74  ...                                               None        009   \n",
      "75  ...                                               None        015   \n",
      "76  ...                                               None        121   \n",
      "77  ...                                               None        121   \n",
      "78  ...                                               None        121   \n",
      "\n",
      "           LOCALITY_y VTDST_y        PRECINCT HOD_DIST_y S18HODDEM_y  \\\n",
      "12     Augusta County  000602       Ridgeview        024         162   \n",
      "20   Buena Vista City  000001      First Ward        024         135   \n",
      "21   Buena Vista City  000002     Second Ward        024         101   \n",
      "23  Rockbridge County  000101         Airport        024         267   \n",
      "26  Rockbridge County  000104        Effinger        024          77   \n",
      "27  Rockbridge County  000201    Collierstown        024         167   \n",
      "28  Rockbridge County  000202  Highland Belle        024         297   \n",
      "33  Rockbridge County  000401       Fairfield        024          96   \n",
      "39  Rockbridge County  000504      Rockbridge        024         144   \n",
      "48  Montgomery County  000101    Precinct A-1        008         815   \n",
      "52     Roanoke County  000102    MASON VALLEY        008         124   \n",
      "53     Roanoke County  000103         GLENVAR        008         374   \n",
      "54     Roanoke County  000106      GREEN HILL        008         643   \n",
      "56     Roanoke County  000108        WILDWOOD        008         335   \n",
      "57     Roanoke County  000301   BENT MOUNTAIN        008         191   \n",
      "58     Roanoke County  000302     POAGES MILL        008         706   \n",
      "59     Roanoke County  000304       OAK GROVE        008         842   \n",
      "74     Amherst County  000302            Elon        024         102   \n",
      "75     Augusta County  000504      White Hill        024          57   \n",
      "76  Montgomery County  000301    Precinct C-1        008         388   \n",
      "77  Montgomery County  000701    Precinct G-1        008          59   \n",
      "78  Montgomery County  000304    Precinct C-4        008         599   \n",
      "\n",
      "   S18HODREP_y S18HODWRI_y                                         geometry_y  \n",
      "12         443           0  POLYGON Z ((-79.04959 38.01807 0.00000, -79.04...  \n",
      "20         233           0  POLYGON Z ((-79.38080 37.70710 0.00000, -79.38...  \n",
      "21         152           0  POLYGON Z ((-79.38151 37.74215 0.00000, -79.38...  \n",
      "23         232           1  POLYGON Z ((-79.55506 37.71710 0.00000, -79.55...  \n",
      "26         133           1  POLYGON Z ((-79.68866 37.73482 0.00000, -79.68...  \n",
      "27         153           2  POLYGON Z ((-79.63783 37.80898 0.00000, -79.63...  \n",
      "28         342           1  MULTIPOLYGON Z (((-79.58483 37.84870 0.00000, ...  \n",
      "33         202           0  POLYGON Z ((-79.36903 37.84085 0.00000, -79.36...  \n",
      "39         233           2  POLYGON Z ((-79.37075 37.89679 0.00000, -79.37...  \n",
      "48         578           1  POLYGON Z ((-80.47909 37.28532 0.00000, -80.47...  \n",
      "52         356           1  POLYGON Z ((-80.23894 37.28622 0.00000, -80.23...  \n",
      "53         835           2  POLYGON Z ((-80.21886 37.26382 0.00000, -80.21...  \n",
      "54        1271           3  POLYGON Z ((-80.08835 37.28149 0.00000, -80.08...  \n",
      "56         664           3  POLYGON Z ((-80.08046 37.32419 0.00000, -80.08...  \n",
      "57         300           1  POLYGON Z ((-80.17409 37.18758 0.00000, -80.17...  \n",
      "58        1409           1  POLYGON Z ((-80.08172 37.24170 0.00000, -80.08...  \n",
      "59        1310           7  POLYGON Z ((-80.07914 37.25324 0.00000, -80.07...  \n",
      "74         276           8  POLYGON Z ((-79.43695 37.61706 0.00000, -79.43...  \n",
      "75         190           0  POLYGON Z ((-79.13818 37.98621 0.00000, -79.13...  \n",
      "76         937           2  POLYGON Z ((-80.31228 37.20136 0.00000, -80.31...  \n",
      "77          31           0  POLYGON Z ((-80.41821 37.27339 0.00000, -80.41...  \n",
      "78         810           3  POLYGON Z ((-80.30263 37.16025 0.00000, -80.30...  \n",
      "\n",
      "[22 rows x 62 columns]\n"
     ]
    },
    {
     "data": {
      "image/svg+xml": [
       "<svg xmlns=\"http://www.w3.org/2000/svg\" xmlns:xlink=\"http://www.w3.org/1999/xlink\" width=\"100.0\" height=\"100.0\" viewBox=\"-80.12946464 37.28541636 0.06030828000000099 0.04291227999999592\" preserveAspectRatio=\"xMinYMin meet\"><g transform=\"matrix(1,0,0,-1,0,74.613745)\"><path fill-rule=\"evenodd\" fill=\"#66cc99\" stroke=\"#555555\" stroke-width=\"0.0012061656000000199\" opacity=\"0.6\" d=\"M -80.08023299999999,37.326094999999995 L -80.080255,37.325886 L -80.080241,37.325396999999995 L -80.08017199999999,37.324897 L -80.080186,37.324776 L -80.08026799999999,37.324600000000004 L -80.08038599999999,37.324346999999996 L -80.080461,37.324188 L -80.08053,37.323864 L -80.080524,37.323764 L -80.08051499999999,37.323619 L -80.080495,37.323248 L -80.080399,37.322869 L -80.080248,37.3226 L -80.08004799999999,37.322413 L -80.07976599999999,37.322221 L -80.079546,37.322089 L -80.079257,37.322012 L -80.079043,37.32193 L -80.078823,37.321748 L -80.078589,37.32149 L -80.07843799999999,37.321227 L -80.078355,37.321132999999996 L -80.078121,37.320968 L -80.07766,37.320732 L -80.077282,37.320611 L -80.07691,37.320451999999996 L -80.076745,37.320347999999996 L -80.076601,37.320177 L -80.076284,37.319688 L -80.07568599999999,37.319182999999995 L -80.075225,37.319002 L -80.07497699999999,37.318836999999995 L -80.074702,37.318678 L -80.074392,37.318441 L -80.073979,37.318062 L -80.07386199999999,37.317881 L -80.073787,37.317656 L -80.073786,37.317073 L -80.073718,37.316914 L -80.073608,37.316744 L -80.07340099999999,37.316556999999996 L -80.07327699999999,37.316381 L -80.07316,37.316106 L -80.07302299999999,37.315622999999995 L -80.073016,37.315298999999996 L -80.072954,37.314952999999996 L -80.072906,37.314326 L -80.07293299999999,37.314183 L -80.072844,37.314101 L -80.07261,37.313638999999995 L -80.072245,37.312964 L -80.072087,37.312733 L -80.071928,37.312475 L -80.07171199999999,37.311952 L -80.072002,37.311952 L -80.071738,37.311484 L -80.071691,37.311399 L -80.071544,37.310854 L -80.07139,37.310283999999996 L -80.071461,37.310204999999996 L -80.071568,37.310086 L -80.071732,37.309902 L -80.071877,37.309560999999995 L -80.071961,37.309368 L -80.071575,37.309236 L -80.07154799999999,37.309227 L -80.071488,37.309205999999996 L -80.071505,37.309193 L -80.071615,37.309115999999996 L -80.071691,37.309061 L -80.071901,37.308910999999995 L -80.071754,37.308800999999995 L -80.071716,37.308772999999995 L -80.07179699999999,37.308671 L -80.071874,37.308572999999996 L -80.07189,37.30855 L -80.072102,37.308451 L -80.07244,37.308192 L -80.07252299999999,37.308358999999996 L -80.072599,37.3084 L -80.072836,37.308529 L -80.07319799999999,37.308606 L -80.073516,37.308673 L -80.07383399999999,37.30874 L -80.074086,37.308793 L -80.074168,37.308786999999995 L -80.074893,37.308741 L -80.074933,37.308693999999996 L -80.075306,37.308279 L -80.075288,37.308233 L -80.07508399999999,37.307676 L -80.075299,37.307437 L -80.075319,37.307415999999996 L -80.075333,37.307404 L -80.07524599999999,37.307351 L -80.07502,37.307201 L -80.074885,37.307139 L -80.074829,37.307105 L -80.074789,37.307075 L -80.07473499999999,37.307023 L -80.07471199999999,37.306996999999996 L -80.073957,37.305975 L -80.073618,37.305434999999996 L -80.073561,37.305352 L -80.073407,37.305130999999996 L -80.073296,37.304998999999995 L -80.07328199999999,37.304981999999995 L -80.07314199999999,37.304840999999996 L -80.07289399999999,37.304623 L -80.072718,37.304475 L -80.07294399999999,37.30433 L -80.073433,37.304007 L -80.074163,37.303523999999996 L -80.07631099999999,37.302102999999995 L -80.07737,37.301401999999996 L -80.07759,37.301257 L -80.078724,37.3005 L -80.080218,37.299517 L -80.08054,37.299313 L -80.08107299999999,37.298989999999996 L -80.08161,37.298691 L -80.08192,37.298527 L -80.082284,37.298342999999996 L -80.082953,37.298027999999995 L -80.083162,37.297936 L -80.083795,37.297669 L -80.08422399999999,37.297498999999995 L -80.08452299999999,37.29739 L -80.08517499999999,37.297163999999995 L -80.08586799999999,37.296949 L -80.086606,37.296746 L -80.088573,37.296251 L -80.088757,37.296205 L -80.089986,37.295897 L -80.090638,37.295719999999996 L -80.091132,37.295593 L -80.09154099999999,37.295508999999996 L -80.09216599999999,37.295293 L -80.092534,37.295173999999996 L -80.09295999999999,37.295043 L -80.093936,37.29476 L -80.094844,37.294483 L -80.097033,37.293825999999996 L -80.097703,37.293625 L -80.09778,37.293594999999996 L -80.097835,37.293572999999995 L -80.097961,37.293513 L -80.097993,37.293496999999995 L -80.09810399999999,37.293431999999996 L -80.098297,37.293302 L -80.098631,37.293020999999996 L -80.098851,37.292862 L -80.099272,37.293200999999996 L -80.099544,37.293408 L -80.099611,37.293459 L -80.09977099999999,37.293597999999996 L -80.099885,37.293697 L -80.10009,37.293863 L -80.10022699999999,37.293980999999995 L -80.100594,37.294326999999996 L -80.100961,37.294700999999996 L -80.101008,37.294751999999995 L -80.101046,37.294792 L -80.101089,37.294837 L -80.10142599999999,37.295197 L -80.101484,37.295263999999996 L -80.101584,37.29538 L -80.102034,37.295874 L -80.10254599999999,37.296375999999995 L -80.10260799999999,37.296436 L -80.102757,37.296599 L -80.102852,37.296717 L -80.102901,37.296695 L -80.103252,37.296546 L -80.103382,37.296490999999996 L -80.103974,37.296237999999995 L -80.104924,37.296108 L -80.105329,37.295941 L -80.10548299999999,37.295879 L -80.105865,37.295719 L -80.106246,37.295556999999995 L -80.10653599999999,37.295429 L -80.10700299999999,37.295232999999996 L -80.107456,37.295041 L -80.10760599999999,37.294978 L -80.107912,37.294848 L -80.108144,37.294751 L -80.108234,37.294713 L -80.10825799999999,37.294703999999996 L -80.10825299999999,37.294684 L -80.108227,37.294630999999995 L -80.10819599999999,37.294565 L -80.108181,37.294492999999996 L -80.108164,37.294415 L -80.10815699999999,37.294306 L -80.10813999999999,37.294214 L -80.108087,37.294049 L -80.10808,37.293974 L -80.108065,37.293901 L -80.108065,37.293867 L -80.108063,37.293833 L -80.108032,37.293457 L -80.107793,37.293023 L -80.107292,37.292570999999995 L -80.106528,37.292055 L -80.106402,37.29191 L -80.106366,37.291868 L -80.106358,37.291858 L -80.106324,37.291819 L -80.10611899999999,37.291578 L -80.106258,37.291537 L -80.110265,37.290422 L -80.111502,37.290077 L -80.11290699999999,37.289685999999996 L -80.115617,37.288931999999996 L -80.11652,37.288675 L -80.116902,37.288554999999995 L -80.117532,37.288345 L -80.118049,37.288157 L -80.11855899999999,37.287956 L -80.119157,37.2877 L -80.119266,37.28765 L -80.119417,37.287774 L -80.119629,37.287924 L -80.119698,37.287971999999996 L -80.119945,37.28812 L -80.12042699999999,37.288477 L -80.120626,37.288602999999995 L -80.120853,37.288696 L -80.121116,37.288855999999996 L -80.12116999999999,37.288889 L -80.121342,37.289048 L -80.121438,37.289162999999995 L -80.121494,37.289294999999996 L -80.12160999999999,37.289432 L -80.122024,37.289811 L -80.122602,37.290498 L -80.122877,37.290777999999996 L -80.12311799999999,37.291069 L -80.123143,37.291487 L -80.123154,37.291667 L -80.123172,37.291809 L -80.123206,37.291926 L -80.123271,37.292059 L -80.123299,37.292102 L -80.123384,37.292214 L -80.123685,37.292632 L -80.12385499999999,37.292873 L -80.12438399999999,37.293589 L -80.124494,37.29374 L -80.12485199999999,37.294291 L -80.12494199999999,37.294455 L -80.124988,37.294551 L -80.124997,37.294607 L -80.12498099999999,37.294672999999996 L -80.12495299999999,37.29472 L -80.12489099999999,37.294779 L -80.124827,37.294816999999995 L -80.124723,37.294854 L -80.124629,37.294877 L -80.123875,37.295016 L -80.123587,37.295055999999995 L -80.123237,37.295091 L -80.12306,37.295093 L -80.122849,37.295076 L -80.12221199999999,37.294928 L -80.122101,37.294916 L -80.121989,37.294913 L -80.12189,37.294926 L -80.12177199999999,37.294953 L -80.121376,37.295093 L -80.12103599999999,37.295221999999995 L -80.120881,37.29528 L -80.120267,37.29551 L -80.11958,37.295761999999996 L -80.119137,37.295915 L -80.11903199999999,37.29597 L -80.118984,37.296 L -80.119056,37.296144 L -80.119292,37.296651 L -80.119429,37.296878 L -80.119588,37.297101999999995 L -80.119776,37.29735 L -80.119823,37.297402999999996 L -80.119937,37.297523999999996 L -80.120012,37.297593 L -80.120328,37.297854 L -80.12140000000001,37.298738 L -80.12185699999999,37.299135 L -80.122129,37.299381 L -80.122304,37.299568 L -80.122468,37.29976 L -80.122546,37.299858 L -80.122714,37.300047 L -80.12274099999999,37.300077 L -80.122782,37.300112999999996 L -80.12289299999999,37.300196 L -80.122992,37.300253 L -80.123195,37.300346999999995 L -80.12326999999999,37.300394 L -80.123353,37.300461999999996 L -80.12360799999999,37.300758 L -80.123757,37.300916 L -80.123937,37.301083 L -80.12413099999999,37.30124 L -80.124391,37.30141 L -80.124467,37.301469999999995 L -80.124528,37.301539999999996 L -80.124574,37.301617 L -80.124599,37.301683 L -80.12461499999999,37.301767 L -80.124612,37.301853 L -80.124617,37.301897 L -80.124641,37.302006 L -80.124665,37.30207 L -80.12468299999999,37.302111 L -80.124865,37.302423 L -80.124901,37.302493 L -80.124921,37.302515 L -80.124949,37.302530999999995 L -80.124948,37.302571 L -80.12517199999999,37.303024 L -80.125176,37.303047 L -80.12518299999999,37.303096 L -80.126048,37.30429 L -80.127162,37.305671 L -80.127004,37.305929 L -80.126936,37.306097 L -80.126887,37.306269 L -80.12687799999999,37.306534 L -80.12691699999999,37.306931 L -80.126938,37.307232 L -80.126953,37.307354 L -80.12696199999999,37.307379 L -80.126998,37.307438 L -80.127049,37.307489 L -80.127113,37.30753 L -80.127161,37.307566 L -80.12719,37.307601999999996 L -80.12721499999999,37.307662 L -80.127231,37.30788 L -80.127231,37.307964999999996 L -80.127218,37.308105 L -80.12720399999999,37.308147999999996 L -80.127051,37.308462 L -80.126987,37.308614999999996 L -80.126948,37.30867 L -80.126746,37.308881 L -80.12671399999999,37.308927 L -80.12669799999999,37.308988 L -80.126727,37.309173 L -80.126719,37.309359 L -80.126695,37.309388 L -80.12668,37.309415 L -80.126678,37.309470999999995 L -80.126693,37.309512999999995 L -80.126725,37.309549 L -80.12691199999999,37.309649 L -80.126992,37.309712 L -80.127027,37.309754999999996 L -80.12424,37.310798 L -80.120949,37.31203 L -80.120623,37.312159 L -80.116609,37.313656 L -80.115552,37.314052 L -80.110991,37.315767 L -80.108786,37.316609 L -80.107215,37.317243 L -80.106459,37.317487 L -80.10562999999999,37.317800999999996 L -80.102351,37.319072 L -80.100161,37.319869 L -80.099476,37.320099 L -80.09692,37.320963 L -80.093268,37.322196 L -80.09304399999999,37.322292999999995 L -80.090279,37.323054 L -80.086086,37.324298999999996 L -80.084846,37.324677 L -80.08097099999999,37.325857 L -80.08023299999999,37.326094999999995 z\" /></g></svg>"
      ],
      "text/plain": [
       "<shapely.geometry.polygon.Polygon at 0x7fd8a2150220>"
      ]
     },
     "metadata": {},
     "output_type": "display_data"
    },
    {
     "data": {
      "image/svg+xml": [
       "<svg xmlns=\"http://www.w3.org/2000/svg\" xmlns:xlink=\"http://www.w3.org/1999/xlink\" width=\"100.0\" height=\"100.0\" viewBox=\"-80.12829640506762 37.285461292112785 0.05909511295483583 0.041068152187200724\" preserveAspectRatio=\"xMinYMin meet\"><g transform=\"matrix(1,0,0,-1,0,74.61199073641276)\"><path fill-rule=\"evenodd\" fill=\"#66cc99\" stroke=\"#555555\" stroke-width=\"0.0011819022590967166\" opacity=\"0.6\" d=\"M -80.080461,37.324188 L -80.08053,37.323864 L -80.080524,37.323764 L -80.08051499999999,37.323619 L -80.080495,37.323248 L -80.080399,37.322869 L -80.080248,37.3226 L -80.08004799999999,37.322413 L -80.07976599999999,37.322221 L -80.079546,37.322089 L -80.079257,37.322012 L -80.079043,37.32193 L -80.078823,37.321748 L -80.078589,37.32149 L -80.07843799999999,37.321227 L -80.078355,37.321132999999996 L -80.078121,37.320968 L -80.07766,37.320732 L -80.077282,37.320611 L -80.07691,37.320451999999996 L -80.076745,37.320347999999996 L -80.076601,37.320177 L -80.076284,37.319688 L -80.07568599999999,37.319182999999995 L -80.075225,37.319002 L -80.07497699999999,37.318836999999995 L -80.074702,37.318678 L -80.074392,37.318441 L -80.073979,37.318062 L -80.07386199999999,37.317881 L -80.073787,37.317656 L -80.073786,37.317073 L -80.073718,37.316914 L -80.073608,37.316744 L -80.07340099999999,37.316556999999996 L -80.07327699999999,37.316381 L -80.07316,37.316106 L -80.07302299999999,37.315622999999995 L -80.073016,37.315298999999996 L -80.072954,37.314952999999996 L -80.072906,37.314326 L -80.07293299999999,37.314183 L -80.072844,37.314101 L -80.07261,37.313638999999995 L -80.072245,37.312964 L -80.072087,37.312733 L -80.071928,37.312475 L -80.07171199999999,37.311952 L -80.072002,37.311952 L -80.071738,37.311484 L -80.071691,37.311399 L -80.071544,37.310854 L -80.07139,37.310283999999996 L -80.071461,37.310204999999996 L -80.071568,37.310086 L -80.071732,37.309902 L -80.071877,37.309560999999995 L -80.071961,37.309368 L -80.071575,37.309236 L -80.07154799999999,37.309227 L -80.071488,37.309205999999996 L -80.071505,37.309193 L -80.071615,37.309115999999996 L -80.071691,37.309061 L -80.071901,37.308910999999995 L -80.071754,37.308800999999995 L -80.071716,37.308772999999995 L -80.07179699999999,37.308671 L -80.071874,37.308572999999996 L -80.07189,37.30855 L -80.072102,37.308451 L -80.07244,37.308192 L -80.07252299999999,37.308358999999996 L -80.072599,37.3084 L -80.072836,37.308529 L -80.07319799999999,37.308606 L -80.073516,37.308673 L -80.07383399999999,37.30874 L -80.074086,37.308793 L -80.074168,37.308786999999995 L -80.074893,37.308741 L -80.074933,37.308693999999996 L -80.075306,37.308279 L -80.075288,37.308233 L -80.07508399999999,37.307676 L -80.075299,37.307437 L -80.075319,37.307415999999996 L -80.075333,37.307404 L -80.07524599999999,37.307351 L -80.07502,37.307201 L -80.074885,37.307139 L -80.074829,37.307105 L -80.074789,37.307075 L -80.07473499999999,37.307023 L -80.07471199999999,37.306996999999996 L -80.073957,37.305975 L -80.073618,37.305434999999996 L -80.073561,37.305352 L -80.073407,37.305130999999996 L -80.073296,37.304998999999995 L -80.07328199999999,37.304981999999995 L -80.07314199999999,37.304840999999996 L -80.07289399999999,37.304623 L -80.072718,37.304475 L -80.07294399999999,37.30433 L -80.073433,37.304007 L -80.074163,37.303523999999996 L -80.07631099999999,37.302102999999995 L -80.07737,37.301401999999996 L -80.07759,37.301257 L -80.078724,37.3005 L -80.080218,37.299517 L -80.08054,37.299313 L -80.08107299999999,37.298989999999996 L -80.08161,37.298691 L -80.08192,37.298527 L -80.082284,37.298342999999996 L -80.082953,37.298027999999995 L -80.083162,37.297936 L -80.083795,37.297669 L -80.08422399999999,37.297498999999995 L -80.08452299999999,37.29739 L -80.08517499999999,37.297163999999995 L -80.08586799999999,37.296949 L -80.086606,37.296746 L -80.088573,37.296251 L -80.088757,37.296205 L -80.089986,37.295897 L -80.090638,37.295719999999996 L -80.091132,37.295593 L -80.09154099999999,37.295508999999996 L -80.09216599999999,37.295293 L -80.092534,37.295173999999996 L -80.09295999999999,37.295043 L -80.093936,37.29476 L -80.094844,37.294483 L -80.097033,37.293825999999996 L -80.097703,37.293625 L -80.09778,37.293594999999996 L -80.097835,37.293572999999995 L -80.097961,37.293513 L -80.097993,37.293496999999995 L -80.09810399999999,37.293431999999996 L -80.098297,37.293302 L -80.098631,37.293020999999996 L -80.098851,37.292862 L -80.099272,37.293200999999996 L -80.099544,37.293408 L -80.099611,37.293459 L -80.09977099999999,37.293597999999996 L -80.099885,37.293697 L -80.10009,37.293863 L -80.10022699999999,37.293980999999995 L -80.100594,37.294326999999996 L -80.100961,37.294700999999996 L -80.101008,37.294751999999995 L -80.101046,37.294792 L -80.101089,37.294837 L -80.10142599999999,37.295197 L -80.101484,37.295263999999996 L -80.101584,37.29538 L -80.102034,37.295874 L -80.10254599999999,37.296375999999995 L -80.10260799999999,37.296436 L -80.102757,37.296599 L -80.102852,37.296717 L -80.102901,37.296695 L -80.103252,37.296546 L -80.103382,37.296490999999996 L -80.103974,37.296237999999995 L -80.104924,37.296108 L -80.105329,37.295941 L -80.10548299999999,37.295879 L -80.105865,37.295719 L -80.106246,37.295556999999995 L -80.10653599999999,37.295429 L -80.10700299999999,37.295232999999996 L -80.107456,37.295041 L -80.10760599999999,37.294978 L -80.107912,37.294848 L -80.108144,37.294751 L -80.108234,37.294713 L -80.10825799999999,37.294703999999996 L -80.10825299999999,37.294684 L -80.108227,37.294630999999995 L -80.10819599999999,37.294565 L -80.108181,37.294492999999996 L -80.108164,37.294415 L -80.10815699999999,37.294306 L -80.10813999999999,37.294214 L -80.108087,37.294049 L -80.10808,37.293974 L -80.108065,37.293901 L -80.108065,37.293867 L -80.108063,37.293833 L -80.108032,37.293457 L -80.107793,37.293023 L -80.107292,37.292570999999995 L -80.106528,37.292055 L -80.106402,37.29191 L -80.106366,37.291868 L -80.106358,37.291858 L -80.106324,37.291819 L -80.10611899999999,37.291578 L -80.106258,37.291537 L -80.110265,37.290422 L -80.111502,37.290077 L -80.11290699999999,37.289685999999996 L -80.115617,37.288931999999996 L -80.11652,37.288675 L -80.116902,37.288554999999995 L -80.117532,37.288345 L -80.118049,37.288157 L -80.11855899999999,37.287956 L -80.119157,37.2877 L -80.119266,37.28765 L -80.119417,37.287774 L -80.119629,37.287924 L -80.119698,37.287971999999996 L -80.119945,37.28812 L -80.12042699999999,37.288477 L -80.120626,37.288602999999995 L -80.120853,37.288696 L -80.121116,37.288855999999996 L -80.12116999999999,37.288889 L -80.121342,37.289048 L -80.121438,37.289162999999995 L -80.121494,37.289294999999996 L -80.12160999999999,37.289432 L -80.122024,37.289811 L -80.122602,37.290498 L -80.122877,37.290777999999996 L -80.12311799999999,37.291069 L -80.123143,37.291487 L -80.123154,37.291667 L -80.123172,37.291809 L -80.123206,37.291926 L -80.123271,37.292059 L -80.123299,37.292102 L -80.123384,37.292214 L -80.123685,37.292632 L -80.12385499999999,37.292873 L -80.12438399999999,37.293589 L -80.124494,37.29374 L -80.12485199999999,37.294291 L -80.12494199999999,37.294455 L -80.124988,37.294551 L -80.124997,37.294607 L -80.12498099999999,37.294672999999996 L -80.12495299999999,37.29472 L -80.12489099999999,37.294779 L -80.124827,37.294816999999995 L -80.124723,37.294854 L -80.124629,37.294877 L -80.123875,37.295016 L -80.123587,37.295055999999995 L -80.123237,37.295091 L -80.12306,37.295093 L -80.122849,37.295076 L -80.12221199999999,37.294928 L -80.122101,37.294916 L -80.121989,37.294913 L -80.12189,37.294926 L -80.12177199999999,37.294953 L -80.121376,37.295093 L -80.12103599999999,37.295221999999995 L -80.120881,37.29528 L -80.120267,37.29551 L -80.11958,37.295761999999996 L -80.119137,37.295915 L -80.11903199999999,37.29597 L -80.118984,37.296 L -80.119056,37.296144 L -80.119292,37.296651 L -80.119429,37.296878 L -80.119588,37.297101999999995 L -80.119776,37.29735 L -80.119823,37.297402999999996 L -80.119937,37.297523999999996 L -80.120012,37.297593 L -80.120328,37.297854 L -80.12140000000001,37.298738 L -80.12185699999999,37.299135 L -80.122129,37.299381 L -80.122304,37.299568 L -80.122468,37.29976 L -80.122546,37.299858 L -80.122714,37.300047 L -80.12274099999999,37.300077 L -80.122782,37.300112999999996 L -80.12289299999999,37.300196 L -80.122992,37.300253 L -80.123195,37.300346999999995 L -80.12326999999999,37.300394 L -80.123353,37.300461999999996 L -80.12360799999999,37.300758 L -80.123757,37.300916 L -80.123937,37.301083 L -80.12413099999999,37.30124 L -80.124391,37.30141 L -80.124467,37.301469999999995 L -80.124528,37.301539999999996 L -80.124574,37.301617 L -80.124599,37.301683 L -80.12461499999999,37.301767 L -80.124612,37.301853 L -80.124617,37.301897 L -80.124641,37.302006 L -80.124665,37.30207 L -80.12468299999999,37.302111 L -80.124865,37.302423 L -80.124901,37.302493 L -80.124921,37.302515 L -80.124949,37.302530999999995 L -80.124948,37.302571 L -80.12517199999999,37.303024 L -80.125176,37.303047 L -80.12517264830004,37.30302772772524 L -80.12517369662203,37.30303090421755 L -80.12517724525205,37.303042392811776 L -80.12517937037204,37.303054834646574 L -80.12518238190901,37.303059723794206 L -80.12538073609394,37.303330657793474 L -80.1257883143938,37.30392517045115 L -80.1261076971804,37.30430927220044 L -80.12595113886574,37.30438452164481 L -80.1251985325521,37.3047463987728 L -80.12519145353691,37.30474981982589 L -80.12511708556933,37.30478386054198 L -80.1242606857086,37.305175890684275 L -80.12140699194562,37.30648220658165 L -80.12139456178271,37.306487898893884 L -80.12070209080252,37.30680486015026 L -80.11980103628711,37.307217302733896 L -80.11558255271329,37.30919569253238 L -80.11212814467322,37.31081555630807 L -80.10792717654162,37.312785598499715 L -80.10791896298521,37.31278911593981 L -80.10688165265262,37.31320495979666 L -80.10631699122872,37.31343131741427 L -80.10485347716329,37.31401807914134 L -80.10400890555125,37.314356673756826 L -80.10325121113186,37.31473619379038 L -80.10307898869931,37.31482244827709 L -80.1029057319756,37.31490863362256 L -80.10219278817713,37.315266333292755 L -80.10189182700607,37.315417070060526 L -80.10077767613504,37.31597506398756 L -80.10050983933276,37.31610194488916 L -80.10050541320882,37.31610403796504 L -80.10043104741919,37.31613927128094 L -80.1000733850534,37.316308680914275 L -80.10006459984638,37.31631283818714 L -80.09987252252617,37.31640383300913 L -80.09733746935541,37.31760453878712 L -80.09644398870142,37.318027712278784 L -80.09182565309129,37.32012710252105 L -80.08852658208163,37.32162660058661 L -80.08851632707574,37.32163127149903 L -80.08825093264231,37.3217518827018 L -80.0878973322673,37.32191260249109 L -80.08637355376388,37.32260511844893 L -80.08631413677841,37.32263212127107 L -80.08575611017389,37.322885730429874 L -80.08417326277599,37.323501026425944 L -80.08415828644053,37.3235068579031 L -80.0834684370074,37.323774996467876 L -80.08307937023183,37.32390532827761 L -80.08225627079774,37.32404270708019 L -80.08212427530411,37.32406474573997 L -80.08161438588473,37.324149855843494 L -80.08117603057056,37.32422301929038 L -80.08105764142267,37.32424278753519 L -80.0807526170469,37.324293674180744 L -80.08047062784297,37.32434073641277 L -80.08044917576915,37.324213067369406 L -80.080461,37.324188 z\" /></g></svg>"
      ],
      "text/plain": [
       "<shapely.geometry.polygon.Polygon at 0x7fd8a01f5550>"
      ]
     },
     "metadata": {},
     "output_type": "display_data"
    },
    {
     "data": {
      "image/svg+xml": [
       "<svg xmlns=\"http://www.w3.org/2000/svg\" xmlns:xlink=\"http://www.w3.org/1999/xlink\" width=\"100.0\" height=\"100.0\" viewBox=\"-80.12946464 37.28541636 0.06030828000000099 0.04291227999999592\" preserveAspectRatio=\"xMinYMin meet\"><g transform=\"matrix(1,0,0,-1,0,74.613745)\"><path fill-rule=\"evenodd\" fill=\"#66cc99\" stroke=\"#555555\" stroke-width=\"0.0012061656000000199\" opacity=\"0.6\" d=\"M -80.08023299999999,37.326094999999995 L -80.080255,37.325886 L -80.080241,37.325396999999995 L -80.08017199999999,37.324897 L -80.080186,37.324776 L -80.08026799999999,37.324600000000004 L -80.08038599999999,37.324346999999996 L -80.080461,37.324188 L -80.08053,37.323864 L -80.080524,37.323764 L -80.08051499999999,37.323619 L -80.080495,37.323248 L -80.080399,37.322869 L -80.080248,37.3226 L -80.08004799999999,37.322413 L -80.07976599999999,37.322221 L -80.079546,37.322089 L -80.079257,37.322012 L -80.079043,37.32193 L -80.078823,37.321748 L -80.078589,37.32149 L -80.07843799999999,37.321227 L -80.078355,37.321132999999996 L -80.078121,37.320968 L -80.07766,37.320732 L -80.077282,37.320611 L -80.07691,37.320451999999996 L -80.076745,37.320347999999996 L -80.076601,37.320177 L -80.076284,37.319688 L -80.07568599999999,37.319182999999995 L -80.075225,37.319002 L -80.07497699999999,37.318836999999995 L -80.074702,37.318678 L -80.074392,37.318441 L -80.073979,37.318062 L -80.07386199999999,37.317881 L -80.073787,37.317656 L -80.073786,37.317073 L -80.073718,37.316914 L -80.073608,37.316744 L -80.07340099999999,37.316556999999996 L -80.07327699999999,37.316381 L -80.07316,37.316106 L -80.07302299999999,37.315622999999995 L -80.073016,37.315298999999996 L -80.072954,37.314952999999996 L -80.072906,37.314326 L -80.07293299999999,37.314183 L -80.072844,37.314101 L -80.07261,37.313638999999995 L -80.072245,37.312964 L -80.072087,37.312733 L -80.071928,37.312475 L -80.07171199999999,37.311952 L -80.072002,37.311952 L -80.071738,37.311484 L -80.071691,37.311399 L -80.071544,37.310854 L -80.07139,37.310283999999996 L -80.071461,37.310204999999996 L -80.071568,37.310086 L -80.071732,37.309902 L -80.071877,37.309560999999995 L -80.071961,37.309368 L -80.071575,37.309236 L -80.07154799999999,37.309227 L -80.071488,37.309205999999996 L -80.071505,37.309193 L -80.071615,37.309115999999996 L -80.071691,37.309061 L -80.071901,37.308910999999995 L -80.071754,37.308800999999995 L -80.071716,37.308772999999995 L -80.07179699999999,37.308671 L -80.071874,37.308572999999996 L -80.07189,37.30855 L -80.072102,37.308451 L -80.07244,37.308192 L -80.07252299999999,37.308358999999996 L -80.072599,37.3084 L -80.072836,37.308529 L -80.07319799999999,37.308606 L -80.073516,37.308673 L -80.07383399999999,37.30874 L -80.074086,37.308793 L -80.074168,37.308786999999995 L -80.074893,37.308741 L -80.074933,37.308693999999996 L -80.075306,37.308279 L -80.075288,37.308233 L -80.07508399999999,37.307676 L -80.075299,37.307437 L -80.075319,37.307415999999996 L -80.075333,37.307404 L -80.07524599999999,37.307351 L -80.07502,37.307201 L -80.074885,37.307139 L -80.074829,37.307105 L -80.074789,37.307075 L -80.07473499999999,37.307023 L -80.07471199999999,37.306996999999996 L -80.073957,37.305975 L -80.073618,37.305434999999996 L -80.073561,37.305352 L -80.073407,37.305130999999996 L -80.073296,37.304998999999995 L -80.07328199999999,37.304981999999995 L -80.07314199999999,37.304840999999996 L -80.07289399999999,37.304623 L -80.072718,37.304475 L -80.07294399999999,37.30433 L -80.073433,37.304007 L -80.074163,37.303523999999996 L -80.07631099999999,37.302102999999995 L -80.07737,37.301401999999996 L -80.07759,37.301257 L -80.078724,37.3005 L -80.080218,37.299517 L -80.08054,37.299313 L -80.08107299999999,37.298989999999996 L -80.08161,37.298691 L -80.08192,37.298527 L -80.082284,37.298342999999996 L -80.082953,37.298027999999995 L -80.083162,37.297936 L -80.083795,37.297669 L -80.08422399999999,37.297498999999995 L -80.08452299999999,37.29739 L -80.08517499999999,37.297163999999995 L -80.08586799999999,37.296949 L -80.086606,37.296746 L -80.088573,37.296251 L -80.088757,37.296205 L -80.089986,37.295897 L -80.090638,37.295719999999996 L -80.091132,37.295593 L -80.09154099999999,37.295508999999996 L -80.09216599999999,37.295293 L -80.092534,37.295173999999996 L -80.09295999999999,37.295043 L -80.093936,37.29476 L -80.094844,37.294483 L -80.097033,37.293825999999996 L -80.097703,37.293625 L -80.09778,37.293594999999996 L -80.097835,37.293572999999995 L -80.097961,37.293513 L -80.097993,37.293496999999995 L -80.09810399999999,37.293431999999996 L -80.098297,37.293302 L -80.098631,37.293020999999996 L -80.098851,37.292862 L -80.099272,37.293200999999996 L -80.099544,37.293408 L -80.099611,37.293459 L -80.09977099999999,37.293597999999996 L -80.099885,37.293697 L -80.10009,37.293863 L -80.10022699999999,37.293980999999995 L -80.100594,37.294326999999996 L -80.100961,37.294700999999996 L -80.101008,37.294751999999995 L -80.101046,37.294792 L -80.101089,37.294837 L -80.10142599999999,37.295197 L -80.101484,37.295263999999996 L -80.101584,37.29538 L -80.102034,37.295874 L -80.10254599999999,37.296375999999995 L -80.10260799999999,37.296436 L -80.102757,37.296599 L -80.102852,37.296717 L -80.102901,37.296695 L -80.103252,37.296546 L -80.103382,37.296490999999996 L -80.103974,37.296237999999995 L -80.104924,37.296108 L -80.105329,37.295941 L -80.10548299999999,37.295879 L -80.105865,37.295719 L -80.106246,37.295556999999995 L -80.10653599999999,37.295429 L -80.10700299999999,37.295232999999996 L -80.107456,37.295041 L -80.10760599999999,37.294978 L -80.107912,37.294848 L -80.108144,37.294751 L -80.108234,37.294713 L -80.10825799999999,37.294703999999996 L -80.10825299999999,37.294684 L -80.108227,37.294630999999995 L -80.10819599999999,37.294565 L -80.108181,37.294492999999996 L -80.108164,37.294415 L -80.10815699999999,37.294306 L -80.10813999999999,37.294214 L -80.108087,37.294049 L -80.10808,37.293974 L -80.108065,37.293901 L -80.108065,37.293867 L -80.108063,37.293833 L -80.108032,37.293457 L -80.107793,37.293023 L -80.107292,37.292570999999995 L -80.106528,37.292055 L -80.106402,37.29191 L -80.106366,37.291868 L -80.106358,37.291858 L -80.106324,37.291819 L -80.10611899999999,37.291578 L -80.106258,37.291537 L -80.110265,37.290422 L -80.111502,37.290077 L -80.11290699999999,37.289685999999996 L -80.115617,37.288931999999996 L -80.11652,37.288675 L -80.116902,37.288554999999995 L -80.117532,37.288345 L -80.118049,37.288157 L -80.11855899999999,37.287956 L -80.119157,37.2877 L -80.119266,37.28765 L -80.119417,37.287774 L -80.119629,37.287924 L -80.119698,37.287971999999996 L -80.119945,37.28812 L -80.12042699999999,37.288477 L -80.120626,37.288602999999995 L -80.120853,37.288696 L -80.121116,37.288855999999996 L -80.12116999999999,37.288889 L -80.121342,37.289048 L -80.121438,37.289162999999995 L -80.121494,37.289294999999996 L -80.12160999999999,37.289432 L -80.122024,37.289811 L -80.122602,37.290498 L -80.122877,37.290777999999996 L -80.12311799999999,37.291069 L -80.123143,37.291487 L -80.123154,37.291667 L -80.123172,37.291809 L -80.123206,37.291926 L -80.123271,37.292059 L -80.123299,37.292102 L -80.123384,37.292214 L -80.123685,37.292632 L -80.12385499999999,37.292873 L -80.12438399999999,37.293589 L -80.124494,37.29374 L -80.12485199999999,37.294291 L -80.12494199999999,37.294455 L -80.124988,37.294551 L -80.124997,37.294607 L -80.12498099999999,37.294672999999996 L -80.12495299999999,37.29472 L -80.12489099999999,37.294779 L -80.124827,37.294816999999995 L -80.124723,37.294854 L -80.124629,37.294877 L -80.123875,37.295016 L -80.123587,37.295055999999995 L -80.123237,37.295091 L -80.12306,37.295093 L -80.122849,37.295076 L -80.12221199999999,37.294928 L -80.122101,37.294916 L -80.121989,37.294913 L -80.12189,37.294926 L -80.12177199999999,37.294953 L -80.121376,37.295093 L -80.12103599999999,37.295221999999995 L -80.120881,37.29528 L -80.120267,37.29551 L -80.11958,37.295761999999996 L -80.119137,37.295915 L -80.11903199999999,37.29597 L -80.118984,37.296 L -80.119056,37.296144 L -80.119292,37.296651 L -80.119429,37.296878 L -80.119588,37.297101999999995 L -80.119776,37.29735 L -80.119823,37.297402999999996 L -80.119937,37.297523999999996 L -80.120012,37.297593 L -80.120328,37.297854 L -80.12140000000001,37.298738 L -80.12185699999999,37.299135 L -80.122129,37.299381 L -80.122304,37.299568 L -80.122468,37.29976 L -80.122546,37.299858 L -80.122714,37.300047 L -80.12274099999999,37.300077 L -80.122782,37.300112999999996 L -80.12289299999999,37.300196 L -80.122992,37.300253 L -80.123195,37.300346999999995 L -80.12326999999999,37.300394 L -80.123353,37.300461999999996 L -80.12360799999999,37.300758 L -80.123757,37.300916 L -80.123937,37.301083 L -80.12413099999999,37.30124 L -80.124391,37.30141 L -80.124467,37.301469999999995 L -80.124528,37.301539999999996 L -80.124574,37.301617 L -80.124599,37.301683 L -80.12461499999999,37.301767 L -80.124612,37.301853 L -80.124617,37.301897 L -80.124641,37.302006 L -80.124665,37.30207 L -80.12468299999999,37.302111 L -80.124865,37.302423 L -80.124901,37.302493 L -80.124921,37.302515 L -80.124949,37.302530999999995 L -80.124948,37.302571 L -80.12517199999999,37.303024 L -80.125176,37.303047 L -80.12518299999999,37.303096 L -80.126048,37.30429 L -80.127162,37.305671 L -80.127004,37.305929 L -80.126936,37.306097 L -80.126887,37.306269 L -80.12687799999999,37.306534 L -80.12691699999999,37.306931 L -80.126938,37.307232 L -80.126953,37.307354 L -80.12696199999999,37.307379 L -80.126998,37.307438 L -80.127049,37.307489 L -80.127113,37.30753 L -80.127161,37.307566 L -80.12719,37.307601999999996 L -80.12721499999999,37.307662 L -80.127231,37.30788 L -80.127231,37.307964999999996 L -80.127218,37.308105 L -80.12720399999999,37.308147999999996 L -80.127051,37.308462 L -80.126987,37.308614999999996 L -80.126948,37.30867 L -80.126746,37.308881 L -80.12671399999999,37.308927 L -80.12669799999999,37.308988 L -80.126727,37.309173 L -80.126719,37.309359 L -80.126695,37.309388 L -80.12668,37.309415 L -80.126678,37.309470999999995 L -80.126693,37.309512999999995 L -80.126725,37.309549 L -80.12691199999999,37.309649 L -80.126992,37.309712 L -80.127027,37.309754999999996 L -80.12424,37.310798 L -80.120949,37.31203 L -80.120623,37.312159 L -80.116609,37.313656 L -80.115552,37.314052 L -80.110991,37.315767 L -80.108786,37.316609 L -80.107215,37.317243 L -80.106459,37.317487 L -80.10562999999999,37.317800999999996 L -80.102351,37.319072 L -80.100161,37.319869 L -80.099476,37.320099 L -80.09692,37.320963 L -80.093268,37.322196 L -80.09304399999999,37.322292999999995 L -80.090279,37.323054 L -80.086086,37.324298999999996 L -80.084846,37.324677 L -80.08097099999999,37.325857 L -80.08023299999999,37.326094999999995 z\" /></g></svg>"
      ],
      "text/plain": [
       "<shapely.geometry.polygon.Polygon at 0x7fd8a2150220>"
      ]
     },
     "metadata": {},
     "output_type": "display_data"
    },
    {
     "data": {
      "image/svg+xml": [
       "<svg xmlns=\"http://www.w3.org/2000/svg\" xmlns:xlink=\"http://www.w3.org/1999/xlink\" width=\"100.0\" height=\"100.0\" viewBox=\"-80.12829640506762 37.285461292112785 0.05909511295483583 0.041068152187200724\" preserveAspectRatio=\"xMinYMin meet\"><g transform=\"matrix(1,0,0,-1,0,74.61199073641276)\"><path fill-rule=\"evenodd\" fill=\"#66cc99\" stroke=\"#555555\" stroke-width=\"0.0011819022590967166\" opacity=\"0.6\" d=\"M -80.080461,37.324188 L -80.08053,37.323864 L -80.080524,37.323764 L -80.08051499999999,37.323619 L -80.080495,37.323248 L -80.080399,37.322869 L -80.080248,37.3226 L -80.08004799999999,37.322413 L -80.07976599999999,37.322221 L -80.079546,37.322089 L -80.079257,37.322012 L -80.079043,37.32193 L -80.078823,37.321748 L -80.078589,37.32149 L -80.07843799999999,37.321227 L -80.078355,37.321132999999996 L -80.078121,37.320968 L -80.07766,37.320732 L -80.077282,37.320611 L -80.07691,37.320451999999996 L -80.076745,37.320347999999996 L -80.076601,37.320177 L -80.076284,37.319688 L -80.07568599999999,37.319182999999995 L -80.075225,37.319002 L -80.07497699999999,37.318836999999995 L -80.074702,37.318678 L -80.074392,37.318441 L -80.073979,37.318062 L -80.07386199999999,37.317881 L -80.073787,37.317656 L -80.073786,37.317073 L -80.073718,37.316914 L -80.073608,37.316744 L -80.07340099999999,37.316556999999996 L -80.07327699999999,37.316381 L -80.07316,37.316106 L -80.07302299999999,37.315622999999995 L -80.073016,37.315298999999996 L -80.072954,37.314952999999996 L -80.072906,37.314326 L -80.07293299999999,37.314183 L -80.072844,37.314101 L -80.07261,37.313638999999995 L -80.072245,37.312964 L -80.072087,37.312733 L -80.071928,37.312475 L -80.07171199999999,37.311952 L -80.072002,37.311952 L -80.071738,37.311484 L -80.071691,37.311399 L -80.071544,37.310854 L -80.07139,37.310283999999996 L -80.071461,37.310204999999996 L -80.071568,37.310086 L -80.071732,37.309902 L -80.071877,37.309560999999995 L -80.071961,37.309368 L -80.071575,37.309236 L -80.07154799999999,37.309227 L -80.071488,37.309205999999996 L -80.071505,37.309193 L -80.071615,37.309115999999996 L -80.071691,37.309061 L -80.071901,37.308910999999995 L -80.071754,37.308800999999995 L -80.071716,37.308772999999995 L -80.07179699999999,37.308671 L -80.071874,37.308572999999996 L -80.07189,37.30855 L -80.072102,37.308451 L -80.07244,37.308192 L -80.07252299999999,37.308358999999996 L -80.072599,37.3084 L -80.072836,37.308529 L -80.07319799999999,37.308606 L -80.073516,37.308673 L -80.07383399999999,37.30874 L -80.074086,37.308793 L -80.074168,37.308786999999995 L -80.074893,37.308741 L -80.074933,37.308693999999996 L -80.075306,37.308279 L -80.075288,37.308233 L -80.07508399999999,37.307676 L -80.075299,37.307437 L -80.075319,37.307415999999996 L -80.075333,37.307404 L -80.07524599999999,37.307351 L -80.07502,37.307201 L -80.074885,37.307139 L -80.074829,37.307105 L -80.074789,37.307075 L -80.07473499999999,37.307023 L -80.07471199999999,37.306996999999996 L -80.073957,37.305975 L -80.073618,37.305434999999996 L -80.073561,37.305352 L -80.073407,37.305130999999996 L -80.073296,37.304998999999995 L -80.07328199999999,37.304981999999995 L -80.07314199999999,37.304840999999996 L -80.07289399999999,37.304623 L -80.072718,37.304475 L -80.07294399999999,37.30433 L -80.073433,37.304007 L -80.074163,37.303523999999996 L -80.07631099999999,37.302102999999995 L -80.07737,37.301401999999996 L -80.07759,37.301257 L -80.078724,37.3005 L -80.080218,37.299517 L -80.08054,37.299313 L -80.08107299999999,37.298989999999996 L -80.08161,37.298691 L -80.08192,37.298527 L -80.082284,37.298342999999996 L -80.082953,37.298027999999995 L -80.083162,37.297936 L -80.083795,37.297669 L -80.08422399999999,37.297498999999995 L -80.08452299999999,37.29739 L -80.08517499999999,37.297163999999995 L -80.08586799999999,37.296949 L -80.086606,37.296746 L -80.088573,37.296251 L -80.088757,37.296205 L -80.089986,37.295897 L -80.090638,37.295719999999996 L -80.091132,37.295593 L -80.09154099999999,37.295508999999996 L -80.09216599999999,37.295293 L -80.092534,37.295173999999996 L -80.09295999999999,37.295043 L -80.093936,37.29476 L -80.094844,37.294483 L -80.097033,37.293825999999996 L -80.097703,37.293625 L -80.09778,37.293594999999996 L -80.097835,37.293572999999995 L -80.097961,37.293513 L -80.097993,37.293496999999995 L -80.09810399999999,37.293431999999996 L -80.098297,37.293302 L -80.098631,37.293020999999996 L -80.098851,37.292862 L -80.099272,37.293200999999996 L -80.099544,37.293408 L -80.099611,37.293459 L -80.09977099999999,37.293597999999996 L -80.099885,37.293697 L -80.10009,37.293863 L -80.10022699999999,37.293980999999995 L -80.100594,37.294326999999996 L -80.100961,37.294700999999996 L -80.101008,37.294751999999995 L -80.101046,37.294792 L -80.101089,37.294837 L -80.10142599999999,37.295197 L -80.101484,37.295263999999996 L -80.101584,37.29538 L -80.102034,37.295874 L -80.10254599999999,37.296375999999995 L -80.10260799999999,37.296436 L -80.102757,37.296599 L -80.102852,37.296717 L -80.102901,37.296695 L -80.103252,37.296546 L -80.103382,37.296490999999996 L -80.103974,37.296237999999995 L -80.104924,37.296108 L -80.105329,37.295941 L -80.10548299999999,37.295879 L -80.105865,37.295719 L -80.106246,37.295556999999995 L -80.10653599999999,37.295429 L -80.10700299999999,37.295232999999996 L -80.107456,37.295041 L -80.10760599999999,37.294978 L -80.107912,37.294848 L -80.108144,37.294751 L -80.108234,37.294713 L -80.10825799999999,37.294703999999996 L -80.10825299999999,37.294684 L -80.108227,37.294630999999995 L -80.10819599999999,37.294565 L -80.108181,37.294492999999996 L -80.108164,37.294415 L -80.10815699999999,37.294306 L -80.10813999999999,37.294214 L -80.108087,37.294049 L -80.10808,37.293974 L -80.108065,37.293901 L -80.108065,37.293867 L -80.108063,37.293833 L -80.108032,37.293457 L -80.107793,37.293023 L -80.107292,37.292570999999995 L -80.106528,37.292055 L -80.106402,37.29191 L -80.106366,37.291868 L -80.106358,37.291858 L -80.106324,37.291819 L -80.10611899999999,37.291578 L -80.106258,37.291537 L -80.110265,37.290422 L -80.111502,37.290077 L -80.11290699999999,37.289685999999996 L -80.115617,37.288931999999996 L -80.11652,37.288675 L -80.116902,37.288554999999995 L -80.117532,37.288345 L -80.118049,37.288157 L -80.11855899999999,37.287956 L -80.119157,37.2877 L -80.119266,37.28765 L -80.119417,37.287774 L -80.119629,37.287924 L -80.119698,37.287971999999996 L -80.119945,37.28812 L -80.12042699999999,37.288477 L -80.120626,37.288602999999995 L -80.120853,37.288696 L -80.121116,37.288855999999996 L -80.12116999999999,37.288889 L -80.121342,37.289048 L -80.121438,37.289162999999995 L -80.121494,37.289294999999996 L -80.12160999999999,37.289432 L -80.122024,37.289811 L -80.122602,37.290498 L -80.122877,37.290777999999996 L -80.12311799999999,37.291069 L -80.123143,37.291487 L -80.123154,37.291667 L -80.123172,37.291809 L -80.123206,37.291926 L -80.123271,37.292059 L -80.123299,37.292102 L -80.123384,37.292214 L -80.123685,37.292632 L -80.12385499999999,37.292873 L -80.12438399999999,37.293589 L -80.124494,37.29374 L -80.12485199999999,37.294291 L -80.12494199999999,37.294455 L -80.124988,37.294551 L -80.124997,37.294607 L -80.12498099999999,37.294672999999996 L -80.12495299999999,37.29472 L -80.12489099999999,37.294779 L -80.124827,37.294816999999995 L -80.124723,37.294854 L -80.124629,37.294877 L -80.123875,37.295016 L -80.123587,37.295055999999995 L -80.123237,37.295091 L -80.12306,37.295093 L -80.122849,37.295076 L -80.12221199999999,37.294928 L -80.122101,37.294916 L -80.121989,37.294913 L -80.12189,37.294926 L -80.12177199999999,37.294953 L -80.121376,37.295093 L -80.12103599999999,37.295221999999995 L -80.120881,37.29528 L -80.120267,37.29551 L -80.11958,37.295761999999996 L -80.119137,37.295915 L -80.11903199999999,37.29597 L -80.118984,37.296 L -80.119056,37.296144 L -80.119292,37.296651 L -80.119429,37.296878 L -80.119588,37.297101999999995 L -80.119776,37.29735 L -80.119823,37.297402999999996 L -80.119937,37.297523999999996 L -80.120012,37.297593 L -80.120328,37.297854 L -80.12140000000001,37.298738 L -80.12185699999999,37.299135 L -80.122129,37.299381 L -80.122304,37.299568 L -80.122468,37.29976 L -80.122546,37.299858 L -80.122714,37.300047 L -80.12274099999999,37.300077 L -80.122782,37.300112999999996 L -80.12289299999999,37.300196 L -80.122992,37.300253 L -80.123195,37.300346999999995 L -80.12326999999999,37.300394 L -80.123353,37.300461999999996 L -80.12360799999999,37.300758 L -80.123757,37.300916 L -80.123937,37.301083 L -80.12413099999999,37.30124 L -80.124391,37.30141 L -80.124467,37.301469999999995 L -80.124528,37.301539999999996 L -80.124574,37.301617 L -80.124599,37.301683 L -80.12461499999999,37.301767 L -80.124612,37.301853 L -80.124617,37.301897 L -80.124641,37.302006 L -80.124665,37.30207 L -80.12468299999999,37.302111 L -80.124865,37.302423 L -80.124901,37.302493 L -80.124921,37.302515 L -80.124949,37.302530999999995 L -80.124948,37.302571 L -80.12517199999999,37.303024 L -80.125176,37.303047 L -80.12517264830004,37.30302772772524 L -80.12517369662203,37.30303090421755 L -80.12517724525205,37.303042392811776 L -80.12517937037204,37.303054834646574 L -80.12518238190901,37.303059723794206 L -80.12538073609394,37.303330657793474 L -80.1257883143938,37.30392517045115 L -80.1261076971804,37.30430927220044 L -80.12595113886574,37.30438452164481 L -80.1251985325521,37.3047463987728 L -80.12519145353691,37.30474981982589 L -80.12511708556933,37.30478386054198 L -80.1242606857086,37.305175890684275 L -80.12140699194562,37.30648220658165 L -80.12139456178271,37.306487898893884 L -80.12070209080252,37.30680486015026 L -80.11980103628711,37.307217302733896 L -80.11558255271329,37.30919569253238 L -80.11212814467322,37.31081555630807 L -80.10792717654162,37.312785598499715 L -80.10791896298521,37.31278911593981 L -80.10688165265262,37.31320495979666 L -80.10631699122872,37.31343131741427 L -80.10485347716329,37.31401807914134 L -80.10400890555125,37.314356673756826 L -80.10325121113186,37.31473619379038 L -80.10307898869931,37.31482244827709 L -80.1029057319756,37.31490863362256 L -80.10219278817713,37.315266333292755 L -80.10189182700607,37.315417070060526 L -80.10077767613504,37.31597506398756 L -80.10050983933276,37.31610194488916 L -80.10050541320882,37.31610403796504 L -80.10043104741919,37.31613927128094 L -80.1000733850534,37.316308680914275 L -80.10006459984638,37.31631283818714 L -80.09987252252617,37.31640383300913 L -80.09733746935541,37.31760453878712 L -80.09644398870142,37.318027712278784 L -80.09182565309129,37.32012710252105 L -80.08852658208163,37.32162660058661 L -80.08851632707574,37.32163127149903 L -80.08825093264231,37.3217518827018 L -80.0878973322673,37.32191260249109 L -80.08637355376388,37.32260511844893 L -80.08631413677841,37.32263212127107 L -80.08575611017389,37.322885730429874 L -80.08417326277599,37.323501026425944 L -80.08415828644053,37.3235068579031 L -80.0834684370074,37.323774996467876 L -80.08307937023183,37.32390532827761 L -80.08225627079774,37.32404270708019 L -80.08212427530411,37.32406474573997 L -80.08161438588473,37.324149855843494 L -80.08117603057056,37.32422301929038 L -80.08105764142267,37.32424278753519 L -80.0807526170469,37.324293674180744 L -80.08047062784297,37.32434073641277 L -80.08044917576915,37.324213067369406 L -80.080461,37.324188 z\" /></g></svg>"
      ],
      "text/plain": [
       "<shapely.geometry.polygon.Polygon at 0x7fd8a01f5550>"
      ]
     },
     "metadata": {},
     "output_type": "display_data"
    }
   ],
   "source": [
    "#Show a random difference\n",
    "test = shp_final_merge[~vals].sample(axis = 0, n=1).index[0]\n",
    "print(shp_final_merge[~vals])\n",
    "display(shp_final_merge.iloc[test]['geometry_x'])\n",
    "display(shp_final_merge.iloc[test]['geometry_y'])\n",
    "\n",
    "test = shp_final_merge[~vals].sample(axis = 0).index[0]\n",
    "display(shp_final_merge.iloc[test]['geometry_x'])\n",
    "display(shp_final_merge.iloc[test]['geometry_y'])"
   ]
  },
  {
   "cell_type": "markdown",
   "metadata": {},
   "source": [
    "### County 121 ex"
   ]
  },
  {
   "cell_type": "code",
   "execution_count": 130,
   "metadata": {},
   "outputs": [
    {
     "name": "stdout",
     "output_type": "stream",
     "text": [
      "(6, 62)\n"
     ]
    },
    {
     "data": {
      "text/plain": [
       "<matplotlib.axes._subplots.AxesSubplot at 0x7fd8b0bc6520>"
      ]
     },
     "execution_count": 130,
     "metadata": {},
     "output_type": "execute_result"
    },
    {
     "data": {
      "image/png": "[encoded data removed]",
      "text/plain": [
       "<Figure size 432x288 with 1 Axes>"
      ]
     },
     "metadata": {
      "needs_background": "light"
     },
     "output_type": "display_data"
    }
   ],
   "source": [
    "print(shp_final_merge[shp_final_merge['unique_id'].str[0:3] == '121'].shape)\n",
    "ex_x = gpd.GeoDataFrame(shp_final_merge[shp_final_merge['unique_id'].str[0:3]== '121'], geometry = 'geometry_x', crs = proj)\n",
    "ex_y = gpd.GeoDataFrame(shp_final_merge[shp_final_merge['unique_id'].str[0:3]== '121'], geometry = 'geometry_y', crs = proj)\n",
    "\n",
    "gpd.overlay(ex_x, ex_y, how = 'symmetric_difference').plot()"
   ]
  },
  {
   "cell_type": "markdown",
   "metadata": {},
   "source": [
    "## Validating election results"
   ]
  },
  {
   "cell_type": "code",
   "execution_count": 131,
   "metadata": {},
   "outputs": [],
   "source": [
    "final_df_merge = pd.merge(df_with_absentee_reallocated, final, on = 'unique_id', how = 'inner', suffixes = ['_x', '_y'])"
   ]
  },
  {
   "cell_type": "code",
   "execution_count": 132,
   "metadata": {},
   "outputs": [
    {
     "data": {
      "text/plain": [
       "Index(['COUNTYFP', 'LOCALITY', 'VTDST', 'PRECINCT', 'HOD_DIST', 'S18HODDEM',\n",
       "       'S18HODREP', 'S18HODWRI', 'geometry', 'unique_id'],\n",
       "      dtype='object')"
      ]
     },
     "execution_count": 132,
     "metadata": {},
     "output_type": "execute_result"
    }
   ],
   "source": [
    "final.columns"
   ]
  },
  {
   "cell_type": "code",
   "execution_count": 133,
   "metadata": {},
   "outputs": [],
   "source": [
    "column_list = ['S18HODDEM', 'S18HODREP', 'S18HODWRI']"
   ]
  },
  {
   "cell_type": "code",
   "execution_count": 134,
   "metadata": {},
   "outputs": [],
   "source": [
    "#From Peter's MO\n",
    "def validater_row (df, column_List):\n",
    "    matching_rows = 0\n",
    "    different_rows = 0\n",
    "    diff_list=[]\n",
    "    diff_values = []\n",
    "    max_diff = 0\n",
    "    \n",
    "    for j in range(0,len(df.index)):\n",
    "        same = True\n",
    "        for i in column_List:\n",
    "            left_Data = i + \"_x\"\n",
    "            right_Data = i + \"_y\"\n",
    "            diff = abs(df.iloc[j][left_Data]-df.iloc[j][right_Data])\n",
    "            \n",
    "            if(diff != 0):\n",
    "                diff_values.append(abs(diff))\n",
    "                same = False\n",
    "                if(np.isnan(diff)):\n",
    "                    print(\"NaN value at diff is: \", df.iloc[j]['unique_id'])\n",
    "                if (diff>max_diff):\n",
    "                    max_diff = diff\n",
    "                    #add line to check percent from total vote difference is\n",
    "                    perc_diff_from_vest = (diff/df.iloc[j][right_Data])*100\n",
    "                    print(\"New max diff is: \", str(max_diff))\n",
    "                    print('% difference from VEST total is: ', str(perc_diff_from_vest))\n",
    "                    print(df.iloc[j]['unique_id'])\n",
    "        if(same != True):\n",
    "            different_rows +=1\n",
    "            diff_list.append(df.iloc[j]['unique_id'])\n",
    "        else:\n",
    "            matching_rows +=1\n",
    "    print(\"There are \", len(df.index),\" total rows\")\n",
    "    print(different_rows,\" of these rows have election result differences\")\n",
    "    print(matching_rows,\" of these rows are the same\")\n",
    "    print(\"\")\n",
    "    print(\"The max difference between any one shared column in a row is: \", max_diff)\n",
    "    if(len(diff_values)!=0):\n",
    "        print(\"The average difference is: \", str(sum(diff_values)/len(diff_values)))\n",
    "        #add line for % of total vote that difference is\n",
    "    count_big_diff = len([i for i in diff_values if i > 10])\n",
    "    print(\"There are \", str(count_big_diff), \"precinct results with a difference greater than 5\")\n",
    "    diff_list.sort()"
   ]
  },
  {
   "cell_type": "code",
   "execution_count": 135,
   "metadata": {},
   "outputs": [
    {
     "name": "stdout",
     "output_type": "stream",
     "text": [
      "New max diff is:  1.0\n",
      "% difference from VEST total is:  0.8547008547008548\n",
      "009102\n",
      "There are  79  total rows\n",
      "30  of these rows have election result differences\n",
      "49  of these rows are the same\n",
      "\n",
      "The max difference between any one shared column in a row is:  1.0\n",
      "The average difference is:  1.0\n",
      "There are  0 precinct results with a difference greater than 5\n"
     ]
    }
   ],
   "source": [
    "validater_row(final_df_merge, column_list)"
   ]
  },
  {
   "cell_type": "markdown",
   "metadata": {},
   "source": [
    "Great results! +/- 1 vote is easily accounted for by rounding error"
   ]
  },
  {
   "cell_type": "code",
   "execution_count": null,
   "metadata": {},
   "outputs": [],
   "source": []
  }
 ],
 "metadata": {
  "kernelspec": {
   "display_name": "Python 3",
   "language": "python",
   "name": "python3"
  },
  "language_info": {
   "codemirror_mode": {
    "name": "ipython",
    "version": 3
   },
   "file_extension": ".py",
   "mimetype": "text/x-python",
   "name": "python",
   "nbconvert_exporter": "python",
   "pygments_lexer": "ipython3",
   "version": "3.8.3"
  }
 },
 "nbformat": 4,
 "nbformat_minor": 4
}
