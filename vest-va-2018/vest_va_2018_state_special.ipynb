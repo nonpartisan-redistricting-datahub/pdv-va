{
 "cells": [
  {
   "cell_type": "code",
   "execution_count": 1,
   "metadata": {},
   "outputs": [],
   "source": [
    "import pandas as pd\n",
    "import geopandas as gpd\n",
    "import matplotlib.pyplot as plt\n",
    "#import maup\n",
    "from zipfile import ZipFile\n",
    "import numpy as np\n",
    "import os\n",
    "import shutil"
   ]
  },
  {
   "cell_type": "markdown",
   "metadata": {},
   "source": [
    "# State House Special Election"
   ]
  },
  {
   "cell_type": "code",
   "execution_count": 2,
   "metadata": {},
   "outputs": [
    {
     "data": {
      "text/plain": [
       "'/Users/peterhorton/Documents/RDH/pdv/pdv-va/vest-va-2018'"
      ]
     },
     "execution_count": 2,
     "metadata": {},
     "output_type": "execute_result"
    }
   ],
   "source": [
    "pwd"
   ]
  },
  {
   "cell_type": "code",
   "execution_count": 3,
   "metadata": {},
   "outputs": [],
   "source": [
    "final = gpd.read_file('./vest_va/va_2018_statehouse_special/va_2018_statehouse_special.shp')"
   ]
  },
  {
   "cell_type": "code",
   "execution_count": 4,
   "metadata": {},
   "outputs": [
    {
     "data": {
      "text/html": [
       "<div>\n",
       "<style scoped>\n",
       "    .dataframe tbody tr th:only-of-type {\n",
       "        vertical-align: middle;\n",
       "    }\n",
       "\n",
       "    .dataframe tbody tr th {\n",
       "        vertical-align: top;\n",
       "    }\n",
       "\n",
       "    .dataframe thead th {\n",
       "        text-align: right;\n",
       "    }\n",
       "</style>\n",
       "<table border=\"1\" class=\"dataframe\">\n",
       "  <thead>\n",
       "    <tr style=\"text-align: right;\">\n",
       "      <th></th>\n",
       "      <th>COUNTYFP</th>\n",
       "      <th>LOCALITY</th>\n",
       "      <th>VTDST</th>\n",
       "      <th>PRECINCT</th>\n",
       "      <th>HOD_DIST</th>\n",
       "      <th>S18HODDEM</th>\n",
       "      <th>S18HODREP</th>\n",
       "      <th>S18HODWRI</th>\n",
       "      <th>geometry</th>\n",
       "    </tr>\n",
       "  </thead>\n",
       "  <tbody>\n",
       "    <tr>\n",
       "      <th>0</th>\n",
       "      <td>009</td>\n",
       "      <td>Amherst County</td>\n",
       "      <td>000102</td>\n",
       "      <td>New Glasgow</td>\n",
       "      <td>024</td>\n",
       "      <td>117</td>\n",
       "      <td>168</td>\n",
       "      <td>2</td>\n",
       "      <td>POLYGON Z ((-79.04809 37.53463 0.00000, -79.04...</td>\n",
       "    </tr>\n",
       "    <tr>\n",
       "      <th>1</th>\n",
       "      <td>009</td>\n",
       "      <td>Amherst County</td>\n",
       "      <td>000103</td>\n",
       "      <td>Coolwell</td>\n",
       "      <td>024</td>\n",
       "      <td>21</td>\n",
       "      <td>84</td>\n",
       "      <td>1</td>\n",
       "      <td>POLYGON Z ((-79.08422 37.51334 0.00000, -79.08...</td>\n",
       "    </tr>\n",
       "    <tr>\n",
       "      <th>2</th>\n",
       "      <td>009</td>\n",
       "      <td>Amherst County</td>\n",
       "      <td>000201</td>\n",
       "      <td>Court House</td>\n",
       "      <td>024</td>\n",
       "      <td>270</td>\n",
       "      <td>408</td>\n",
       "      <td>14</td>\n",
       "      <td>POLYGON Z ((-79.15210 37.57883 0.00000, -79.15...</td>\n",
       "    </tr>\n",
       "    <tr>\n",
       "      <th>3</th>\n",
       "      <td>009</td>\n",
       "      <td>Amherst County</td>\n",
       "      <td>000202</td>\n",
       "      <td>Temperance</td>\n",
       "      <td>024</td>\n",
       "      <td>61</td>\n",
       "      <td>140</td>\n",
       "      <td>3</td>\n",
       "      <td>POLYGON Z ((-79.30301 37.74092 0.00000, -79.30...</td>\n",
       "    </tr>\n",
       "    <tr>\n",
       "      <th>4</th>\n",
       "      <td>009</td>\n",
       "      <td>Amherst County</td>\n",
       "      <td>000301</td>\n",
       "      <td>Monroe</td>\n",
       "      <td>024</td>\n",
       "      <td>68</td>\n",
       "      <td>163</td>\n",
       "      <td>5</td>\n",
       "      <td>POLYGON Z ((-79.19354 37.57677 0.00000, -79.19...</td>\n",
       "    </tr>\n",
       "    <tr>\n",
       "      <th>...</th>\n",
       "      <td>...</td>\n",
       "      <td>...</td>\n",
       "      <td>...</td>\n",
       "      <td>...</td>\n",
       "      <td>...</td>\n",
       "      <td>...</td>\n",
       "      <td>...</td>\n",
       "      <td>...</td>\n",
       "      <td>...</td>\n",
       "    </tr>\n",
       "    <tr>\n",
       "      <th>74</th>\n",
       "      <td>161</td>\n",
       "      <td>Roanoke County</td>\n",
       "      <td>000108</td>\n",
       "      <td>WILDWOOD</td>\n",
       "      <td>008</td>\n",
       "      <td>335</td>\n",
       "      <td>664</td>\n",
       "      <td>3</td>\n",
       "      <td>POLYGON Z ((-80.08046 37.32419 0.00000, -80.08...</td>\n",
       "    </tr>\n",
       "    <tr>\n",
       "      <th>75</th>\n",
       "      <td>161</td>\n",
       "      <td>Roanoke County</td>\n",
       "      <td>000106</td>\n",
       "      <td>GREEN HILL</td>\n",
       "      <td>008</td>\n",
       "      <td>643</td>\n",
       "      <td>1271</td>\n",
       "      <td>3</td>\n",
       "      <td>POLYGON Z ((-80.08835 37.28149 0.00000, -80.08...</td>\n",
       "    </tr>\n",
       "    <tr>\n",
       "      <th>76</th>\n",
       "      <td>161</td>\n",
       "      <td>Roanoke County</td>\n",
       "      <td>000103</td>\n",
       "      <td>GLENVAR</td>\n",
       "      <td>008</td>\n",
       "      <td>374</td>\n",
       "      <td>835</td>\n",
       "      <td>2</td>\n",
       "      <td>POLYGON Z ((-80.21886 37.26382 0.00000, -80.21...</td>\n",
       "    </tr>\n",
       "    <tr>\n",
       "      <th>77</th>\n",
       "      <td>121</td>\n",
       "      <td>Montgomery County</td>\n",
       "      <td>000304</td>\n",
       "      <td>Precinct C-4</td>\n",
       "      <td>008</td>\n",
       "      <td>599</td>\n",
       "      <td>810</td>\n",
       "      <td>3</td>\n",
       "      <td>POLYGON Z ((-80.30263 37.16025 0.00000, -80.30...</td>\n",
       "    </tr>\n",
       "    <tr>\n",
       "      <th>78</th>\n",
       "      <td>015</td>\n",
       "      <td>Augusta County</td>\n",
       "      <td>000602</td>\n",
       "      <td>Ridgeview</td>\n",
       "      <td>024</td>\n",
       "      <td>162</td>\n",
       "      <td>443</td>\n",
       "      <td>0</td>\n",
       "      <td>POLYGON Z ((-79.04959 38.01807 0.00000, -79.04...</td>\n",
       "    </tr>\n",
       "  </tbody>\n",
       "</table>\n",
       "<p>79 rows × 9 columns</p>\n",
       "</div>"
      ],
      "text/plain": [
       "   COUNTYFP           LOCALITY   VTDST      PRECINCT HOD_DIST  S18HODDEM  \\\n",
       "0       009     Amherst County  000102   New Glasgow      024        117   \n",
       "1       009     Amherst County  000103      Coolwell      024         21   \n",
       "2       009     Amherst County  000201   Court House      024        270   \n",
       "3       009     Amherst County  000202    Temperance      024         61   \n",
       "4       009     Amherst County  000301        Monroe      024         68   \n",
       "..      ...                ...     ...           ...      ...        ...   \n",
       "74      161     Roanoke County  000108      WILDWOOD      008        335   \n",
       "75      161     Roanoke County  000106    GREEN HILL      008        643   \n",
       "76      161     Roanoke County  000103       GLENVAR      008        374   \n",
       "77      121  Montgomery County  000304  Precinct C-4      008        599   \n",
       "78      015     Augusta County  000602     Ridgeview      024        162   \n",
       "\n",
       "    S18HODREP  S18HODWRI                                           geometry  \n",
       "0         168          2  POLYGON Z ((-79.04809 37.53463 0.00000, -79.04...  \n",
       "1          84          1  POLYGON Z ((-79.08422 37.51334 0.00000, -79.08...  \n",
       "2         408         14  POLYGON Z ((-79.15210 37.57883 0.00000, -79.15...  \n",
       "3         140          3  POLYGON Z ((-79.30301 37.74092 0.00000, -79.30...  \n",
       "4         163          5  POLYGON Z ((-79.19354 37.57677 0.00000, -79.19...  \n",
       "..        ...        ...                                                ...  \n",
       "74        664          3  POLYGON Z ((-80.08046 37.32419 0.00000, -80.08...  \n",
       "75       1271          3  POLYGON Z ((-80.08835 37.28149 0.00000, -80.08...  \n",
       "76        835          2  POLYGON Z ((-80.21886 37.26382 0.00000, -80.21...  \n",
       "77        810          3  POLYGON Z ((-80.30263 37.16025 0.00000, -80.30...  \n",
       "78        443          0  POLYGON Z ((-79.04959 38.01807 0.00000, -79.04...  \n",
       "\n",
       "[79 rows x 9 columns]"
      ]
     },
     "execution_count": 4,
     "metadata": {},
     "output_type": "execute_result"
    }
   ],
   "source": [
    "final"
   ]
  },
  {
   "cell_type": "code",
   "execution_count": 5,
   "metadata": {},
   "outputs": [],
   "source": [
    "county_dict = pd.Series(final['COUNTYFP'].values, index = final['LOCALITY']).to_dict()"
   ]
  },
  {
   "cell_type": "markdown",
   "metadata": {},
   "source": [
    "## Election results"
   ]
  },
  {
   "cell_type": "markdown",
   "metadata": {},
   "source": [
    "### District 8"
   ]
  },
  {
   "cell_type": "code",
   "execution_count": 6,
   "metadata": {},
   "outputs": [],
   "source": [
    "df8 = pd.read_csv('./vest_va/Virginia_Elections_Database__2018_House_of_Delegates_General_Election_District_8_including_precincts.csv')"
   ]
  },
  {
   "cell_type": "code",
   "execution_count": 7,
   "metadata": {},
   "outputs": [
    {
     "data": {
      "text/html": [
       "<div>\n",
       "<style scoped>\n",
       "    .dataframe tbody tr th:only-of-type {\n",
       "        vertical-align: middle;\n",
       "    }\n",
       "\n",
       "    .dataframe tbody tr th {\n",
       "        vertical-align: top;\n",
       "    }\n",
       "\n",
       "    .dataframe thead th {\n",
       "        text-align: right;\n",
       "    }\n",
       "</style>\n",
       "<table border=\"1\" class=\"dataframe\">\n",
       "  <thead>\n",
       "    <tr style=\"text-align: right;\">\n",
       "      <th></th>\n",
       "      <th>County/City</th>\n",
       "      <th>Ward</th>\n",
       "      <th>Pct</th>\n",
       "      <th>Joseph P. McNamara</th>\n",
       "      <th>Edward Carter Turner, III</th>\n",
       "      <th>All Others</th>\n",
       "      <th>Total Votes Cast</th>\n",
       "    </tr>\n",
       "  </thead>\n",
       "  <tbody>\n",
       "    <tr>\n",
       "      <th>0</th>\n",
       "      <td>NaN</td>\n",
       "      <td>NaN</td>\n",
       "      <td>NaN</td>\n",
       "      <td>Republican</td>\n",
       "      <td>Democratic</td>\n",
       "      <td>NaN</td>\n",
       "      <td>NaN</td>\n",
       "    </tr>\n",
       "    <tr>\n",
       "      <th>1</th>\n",
       "      <td>Craig County</td>\n",
       "      <td>-</td>\n",
       "      <td>101 - Court House</td>\n",
       "      <td>300</td>\n",
       "      <td>80</td>\n",
       "      <td>1.0</td>\n",
       "      <td>381</td>\n",
       "    </tr>\n",
       "    <tr>\n",
       "      <th>2</th>\n",
       "      <td>Craig County</td>\n",
       "      <td>-</td>\n",
       "      <td>201 - Ammendale Precinct</td>\n",
       "      <td>402</td>\n",
       "      <td>90</td>\n",
       "      <td>0.0</td>\n",
       "      <td>492</td>\n",
       "    </tr>\n",
       "    <tr>\n",
       "      <th>3</th>\n",
       "      <td>Craig County</td>\n",
       "      <td>-</td>\n",
       "      <td>301 - Givens &amp; Reynolds Store</td>\n",
       "      <td>188</td>\n",
       "      <td>92</td>\n",
       "      <td>0.0</td>\n",
       "      <td>280</td>\n",
       "    </tr>\n",
       "    <tr>\n",
       "      <th>4</th>\n",
       "      <td>Craig County</td>\n",
       "      <td>-</td>\n",
       "      <td>303 - Marshalls Store</td>\n",
       "      <td>160</td>\n",
       "      <td>77</td>\n",
       "      <td>0.0</td>\n",
       "      <td>237</td>\n",
       "    </tr>\n",
       "  </tbody>\n",
       "</table>\n",
       "</div>"
      ],
      "text/plain": [
       "    County/City Ward                            Pct Joseph P. McNamara  \\\n",
       "0           NaN  NaN                            NaN         Republican   \n",
       "1  Craig County    -              101 - Court House                300   \n",
       "2  Craig County    -       201 - Ammendale Precinct                402   \n",
       "3  Craig County    -  301 - Givens & Reynolds Store                188   \n",
       "4  Craig County    -          303 - Marshalls Store                160   \n",
       "\n",
       "  Edward Carter Turner, III  All Others Total Votes Cast  \n",
       "0                Democratic         NaN              NaN  \n",
       "1                        80         1.0              381  \n",
       "2                        90         0.0              492  \n",
       "3                        92         0.0              280  \n",
       "4                        77         0.0              237  "
      ]
     },
     "execution_count": 7,
     "metadata": {},
     "output_type": "execute_result"
    }
   ],
   "source": [
    "df8.head()"
   ]
  },
  {
   "cell_type": "code",
   "execution_count": 8,
   "metadata": {},
   "outputs": [
    {
     "data": {
      "text/plain": [
       "5"
      ]
     },
     "execution_count": 8,
     "metadata": {},
     "output_type": "execute_result"
    }
   ],
   "source": [
    "df8['County/City'].nunique()"
   ]
  },
  {
   "cell_type": "code",
   "execution_count": 9,
   "metadata": {},
   "outputs": [
    {
     "data": {
      "text/plain": [
       "(46, 7)"
      ]
     },
     "execution_count": 9,
     "metadata": {},
     "output_type": "execute_result"
    }
   ],
   "source": [
    "df8.shape"
   ]
  },
  {
   "cell_type": "code",
   "execution_count": 10,
   "metadata": {},
   "outputs": [],
   "source": [
    "df8 = df8.iloc[1:]"
   ]
  },
  {
   "cell_type": "code",
   "execution_count": 11,
   "metadata": {},
   "outputs": [],
   "source": [
    "df8 = df8.drop(['Ward'], axis = 1)"
   ]
  },
  {
   "cell_type": "code",
   "execution_count": 12,
   "metadata": {},
   "outputs": [],
   "source": [
    "df8['HOD_DIST'] = '8'"
   ]
  },
  {
   "cell_type": "code",
   "execution_count": 13,
   "metadata": {},
   "outputs": [],
   "source": [
    "#dont actually need this since function rename didnt work\n",
    "column_dict = {'County/City': 'LOCALITY', 'Joseph P. McNamara': 'S18HODREP', 'Edward Carter Turner, III': 'S18HODDEM',\n",
    "              'All Others': 'S18HODWRI',\n",
    "              'Ronnie Ray Campbell': 'S18HODREP', 'Christian Renau Worth': 'S18HODDEM'}"
   ]
  },
  {
   "cell_type": "code",
   "execution_count": 14,
   "metadata": {},
   "outputs": [],
   "source": [
    "df8['LOCALITY'] = df8['County/City']\n",
    "df8['S18HODREP'] = df8['Joseph P. McNamara']\n",
    "df8['S18HODDEM'] = df8['Edward Carter Turner, III']\n",
    "df8['S18HODWRI'] = df8['All Others']\n",
    "df8 = df8.drop(['County/City', 'Joseph P. McNamara', 'Edward Carter Turner, III', 'All Others'], axis = 1)"
   ]
  },
  {
   "cell_type": "code",
   "execution_count": 15,
   "metadata": {},
   "outputs": [
    {
     "data": {
      "text/html": [
       "<div>\n",
       "<style scoped>\n",
       "    .dataframe tbody tr th:only-of-type {\n",
       "        vertical-align: middle;\n",
       "    }\n",
       "\n",
       "    .dataframe tbody tr th {\n",
       "        vertical-align: top;\n",
       "    }\n",
       "\n",
       "    .dataframe thead th {\n",
       "        text-align: right;\n",
       "    }\n",
       "</style>\n",
       "<table border=\"1\" class=\"dataframe\">\n",
       "  <thead>\n",
       "    <tr style=\"text-align: right;\">\n",
       "      <th></th>\n",
       "      <th>Pct</th>\n",
       "      <th>Total Votes Cast</th>\n",
       "      <th>HOD_DIST</th>\n",
       "      <th>LOCALITY</th>\n",
       "      <th>S18HODREP</th>\n",
       "      <th>S18HODDEM</th>\n",
       "      <th>S18HODWRI</th>\n",
       "    </tr>\n",
       "  </thead>\n",
       "  <tbody>\n",
       "    <tr>\n",
       "      <th>1</th>\n",
       "      <td>101 - Court House</td>\n",
       "      <td>381</td>\n",
       "      <td>8</td>\n",
       "      <td>Craig County</td>\n",
       "      <td>300</td>\n",
       "      <td>80</td>\n",
       "      <td>1.0</td>\n",
       "    </tr>\n",
       "    <tr>\n",
       "      <th>2</th>\n",
       "      <td>201 - Ammendale Precinct</td>\n",
       "      <td>492</td>\n",
       "      <td>8</td>\n",
       "      <td>Craig County</td>\n",
       "      <td>402</td>\n",
       "      <td>90</td>\n",
       "      <td>0.0</td>\n",
       "    </tr>\n",
       "    <tr>\n",
       "      <th>3</th>\n",
       "      <td>301 - Givens &amp; Reynolds Store</td>\n",
       "      <td>280</td>\n",
       "      <td>8</td>\n",
       "      <td>Craig County</td>\n",
       "      <td>188</td>\n",
       "      <td>92</td>\n",
       "      <td>0.0</td>\n",
       "    </tr>\n",
       "    <tr>\n",
       "      <th>4</th>\n",
       "      <td>303 - Marshalls Store</td>\n",
       "      <td>237</td>\n",
       "      <td>8</td>\n",
       "      <td>Craig County</td>\n",
       "      <td>160</td>\n",
       "      <td>77</td>\n",
       "      <td>0.0</td>\n",
       "    </tr>\n",
       "    <tr>\n",
       "      <th>5</th>\n",
       "      <td>401 - Barbours Creek</td>\n",
       "      <td>198</td>\n",
       "      <td>8</td>\n",
       "      <td>Craig County</td>\n",
       "      <td>149</td>\n",
       "      <td>49</td>\n",
       "      <td>0.0</td>\n",
       "    </tr>\n",
       "  </tbody>\n",
       "</table>\n",
       "</div>"
      ],
      "text/plain": [
       "                             Pct Total Votes Cast HOD_DIST      LOCALITY  \\\n",
       "1              101 - Court House              381        8  Craig County   \n",
       "2       201 - Ammendale Precinct              492        8  Craig County   \n",
       "3  301 - Givens & Reynolds Store              280        8  Craig County   \n",
       "4          303 - Marshalls Store              237        8  Craig County   \n",
       "5           401 - Barbours Creek              198        8  Craig County   \n",
       "\n",
       "  S18HODREP S18HODDEM  S18HODWRI  \n",
       "1       300        80        1.0  \n",
       "2       402        90        0.0  \n",
       "3       188        92        0.0  \n",
       "4       160        77        0.0  \n",
       "5       149        49        0.0  "
      ]
     },
     "execution_count": 15,
     "metadata": {},
     "output_type": "execute_result"
    }
   ],
   "source": [
    "df8.head()"
   ]
  },
  {
   "cell_type": "code",
   "execution_count": 16,
   "metadata": {},
   "outputs": [
    {
     "data": {
      "text/plain": [
       "5"
      ]
     },
     "execution_count": 16,
     "metadata": {},
     "output_type": "execute_result"
    }
   ],
   "source": [
    "df8.LOCALITY.nunique()"
   ]
  },
  {
   "cell_type": "code",
   "execution_count": 17,
   "metadata": {},
   "outputs": [],
   "source": [
    "county_dict = pd.Series(final['COUNTYFP'].values, index = final['LOCALITY']).to_dict()"
   ]
  },
  {
   "cell_type": "code",
   "execution_count": 18,
   "metadata": {},
   "outputs": [
    {
     "data": {
      "text/plain": [
       "{'Amherst County': '009',\n",
       " 'Augusta County': '015',\n",
       " 'Bath County': '017',\n",
       " 'Rockbridge County': '163',\n",
       " 'Buena Vista City': '530',\n",
       " 'Lexington City': '678',\n",
       " 'Craig County': '045',\n",
       " 'Montgomery County': '121',\n",
       " 'Roanoke County': '161',\n",
       " 'Salem City': '775'}"
      ]
     },
     "execution_count": 18,
     "metadata": {},
     "output_type": "execute_result"
    }
   ],
   "source": [
    "county_dict"
   ]
  },
  {
   "cell_type": "code",
   "execution_count": 19,
   "metadata": {},
   "outputs": [
    {
     "data": {
      "text/plain": [
       "Roanoke County       15\n",
       "Salem City           12\n",
       "Craig County          9\n",
       "Montgomery County     8\n",
       "TOTALS                1\n",
       "Name: LOCALITY, dtype: int64"
      ]
     },
     "execution_count": 19,
     "metadata": {},
     "output_type": "execute_result"
    }
   ],
   "source": [
    "df8['LOCALITY'].value_counts()"
   ]
  },
  {
   "cell_type": "code",
   "execution_count": 20,
   "metadata": {},
   "outputs": [],
   "source": [
    "df8['COUNTYFP'] = df8['LOCALITY'].map(county_dict)"
   ]
  },
  {
   "cell_type": "code",
   "execution_count": 21,
   "metadata": {},
   "outputs": [
    {
     "data": {
      "text/plain": [
       "4"
      ]
     },
     "execution_count": 21,
     "metadata": {},
     "output_type": "execute_result"
    }
   ],
   "source": [
    "df8.COUNTYFP.nunique()"
   ]
  },
  {
   "cell_type": "code",
   "execution_count": 22,
   "metadata": {},
   "outputs": [
    {
     "data": {
      "text/plain": [
       "5"
      ]
     },
     "execution_count": 22,
     "metadata": {},
     "output_type": "execute_result"
    }
   ],
   "source": [
    "df8.LOCALITY.nunique()"
   ]
  },
  {
   "cell_type": "code",
   "execution_count": 23,
   "metadata": {},
   "outputs": [],
   "source": [
    "column_list = ['S18HODREP', 'S18HODDEM', 'S18HODWRI']"
   ]
  },
  {
   "cell_type": "code",
   "execution_count": 24,
   "metadata": {},
   "outputs": [],
   "source": [
    "df8['S18HODREP'] = df8['S18HODREP'].map(lambda x: str(x).replace(',', ''))\n",
    "df8['S18HODDEM'] = df8['S18HODDEM'].map(lambda x: str(x).replace(',', '')) \n",
    "df8['S18HODWRI'] = df8['S18HODWRI'].map(lambda x: str(x).replace(',', ''))"
   ]
  },
  {
   "cell_type": "code",
   "execution_count": 25,
   "metadata": {},
   "outputs": [],
   "source": [
    "df8['S18HODREP'] = df8['S18HODREP'].astype(str).astype(float).astype(int)\n",
    "df8['S18HODDEM'] = df8['S18HODDEM'].astype(str).astype(float).astype(int)\n",
    "df8['S18HODWRI'] = df8['S18HODWRI'].astype(str).astype(float).astype(int)"
   ]
  },
  {
   "cell_type": "code",
   "execution_count": 26,
   "metadata": {},
   "outputs": [
    {
     "data": {
      "text/html": [
       "<div>\n",
       "<style scoped>\n",
       "    .dataframe tbody tr th:only-of-type {\n",
       "        vertical-align: middle;\n",
       "    }\n",
       "\n",
       "    .dataframe tbody tr th {\n",
       "        vertical-align: top;\n",
       "    }\n",
       "\n",
       "    .dataframe thead th {\n",
       "        text-align: right;\n",
       "    }\n",
       "</style>\n",
       "<table border=\"1\" class=\"dataframe\">\n",
       "  <thead>\n",
       "    <tr style=\"text-align: right;\">\n",
       "      <th></th>\n",
       "      <th>S18HODREP</th>\n",
       "      <th>S18HODDEM</th>\n",
       "      <th>S18HODWRI</th>\n",
       "    </tr>\n",
       "    <tr>\n",
       "      <th>COUNTYFP</th>\n",
       "      <th></th>\n",
       "      <th></th>\n",
       "      <th></th>\n",
       "    </tr>\n",
       "  </thead>\n",
       "  <tbody>\n",
       "    <tr>\n",
       "      <th>045</th>\n",
       "      <td>1666</td>\n",
       "      <td>519</td>\n",
       "      <td>1</td>\n",
       "    </tr>\n",
       "    <tr>\n",
       "      <th>121</th>\n",
       "      <td>3706</td>\n",
       "      <td>2955</td>\n",
       "      <td>16</td>\n",
       "    </tr>\n",
       "    <tr>\n",
       "      <th>161</th>\n",
       "      <td>10487</td>\n",
       "      <td>5912</td>\n",
       "      <td>23</td>\n",
       "    </tr>\n",
       "    <tr>\n",
       "      <th>775</th>\n",
       "      <td>5942</td>\n",
       "      <td>3906</td>\n",
       "      <td>10</td>\n",
       "    </tr>\n",
       "  </tbody>\n",
       "</table>\n",
       "</div>"
      ],
      "text/plain": [
       "          S18HODREP  S18HODDEM  S18HODWRI\n",
       "COUNTYFP                                 \n",
       "045            1666        519          1\n",
       "121            3706       2955         16\n",
       "161           10487       5912         23\n",
       "775            5942       3906         10"
      ]
     },
     "execution_count": 26,
     "metadata": {},
     "output_type": "execute_result"
    }
   ],
   "source": [
    "df8.groupby(['COUNTYFP']).sum()"
   ]
  },
  {
   "cell_type": "markdown",
   "metadata": {},
   "source": [
    "### District 24"
   ]
  },
  {
   "cell_type": "code",
   "execution_count": 27,
   "metadata": {},
   "outputs": [],
   "source": [
    "df24 = pd.read_csv('./vest_va/Virginia_Elections_Database__2018_House_of_Delegates_Special_General_Election_District_24_including_precincts.csv')"
   ]
  },
  {
   "cell_type": "code",
   "execution_count": 28,
   "metadata": {},
   "outputs": [
    {
     "data": {
      "text/html": [
       "<div>\n",
       "<style scoped>\n",
       "    .dataframe tbody tr th:only-of-type {\n",
       "        vertical-align: middle;\n",
       "    }\n",
       "\n",
       "    .dataframe tbody tr th {\n",
       "        vertical-align: top;\n",
       "    }\n",
       "\n",
       "    .dataframe thead th {\n",
       "        text-align: right;\n",
       "    }\n",
       "</style>\n",
       "<table border=\"1\" class=\"dataframe\">\n",
       "  <thead>\n",
       "    <tr style=\"text-align: right;\">\n",
       "      <th></th>\n",
       "      <th>County/City</th>\n",
       "      <th>Ward</th>\n",
       "      <th>Pct</th>\n",
       "      <th>Ronnie Ray Campbell</th>\n",
       "      <th>Christian Renau Worth</th>\n",
       "      <th>All Others</th>\n",
       "      <th>Total Votes Cast</th>\n",
       "    </tr>\n",
       "  </thead>\n",
       "  <tbody>\n",
       "    <tr>\n",
       "      <th>0</th>\n",
       "      <td>NaN</td>\n",
       "      <td>NaN</td>\n",
       "      <td>NaN</td>\n",
       "      <td>Republican</td>\n",
       "      <td>Democratic</td>\n",
       "      <td>NaN</td>\n",
       "      <td>NaN</td>\n",
       "    </tr>\n",
       "    <tr>\n",
       "      <th>1</th>\n",
       "      <td>Amherst County</td>\n",
       "      <td>-</td>\n",
       "      <td>102 - New Glasgow</td>\n",
       "      <td>164</td>\n",
       "      <td>114</td>\n",
       "      <td>2.0</td>\n",
       "      <td>280</td>\n",
       "    </tr>\n",
       "    <tr>\n",
       "      <th>2</th>\n",
       "      <td>Amherst County</td>\n",
       "      <td>-</td>\n",
       "      <td>103 - Coolwell</td>\n",
       "      <td>82</td>\n",
       "      <td>20</td>\n",
       "      <td>1.0</td>\n",
       "      <td>103</td>\n",
       "    </tr>\n",
       "    <tr>\n",
       "      <th>3</th>\n",
       "      <td>Amherst County</td>\n",
       "      <td>-</td>\n",
       "      <td>201 - Court House</td>\n",
       "      <td>397</td>\n",
       "      <td>261</td>\n",
       "      <td>13.0</td>\n",
       "      <td>671</td>\n",
       "    </tr>\n",
       "    <tr>\n",
       "      <th>4</th>\n",
       "      <td>Amherst County</td>\n",
       "      <td>-</td>\n",
       "      <td>202 - Temperance</td>\n",
       "      <td>137</td>\n",
       "      <td>59</td>\n",
       "      <td>3.0</td>\n",
       "      <td>199</td>\n",
       "    </tr>\n",
       "  </tbody>\n",
       "</table>\n",
       "</div>"
      ],
      "text/plain": [
       "      County/City Ward                Pct Ronnie Ray Campbell  \\\n",
       "0             NaN  NaN                NaN          Republican   \n",
       "1  Amherst County    -  102 - New Glasgow                 164   \n",
       "2  Amherst County    -     103 - Coolwell                  82   \n",
       "3  Amherst County    -  201 - Court House                 397   \n",
       "4  Amherst County    -   202 - Temperance                 137   \n",
       "\n",
       "  Christian Renau Worth  All Others Total Votes Cast  \n",
       "0            Democratic         NaN              NaN  \n",
       "1                   114         2.0              280  \n",
       "2                    20         1.0              103  \n",
       "3                   261        13.0              671  \n",
       "4                    59         3.0              199  "
      ]
     },
     "execution_count": 28,
     "metadata": {},
     "output_type": "execute_result"
    }
   ],
   "source": [
    "df24.head()"
   ]
  },
  {
   "cell_type": "code",
   "execution_count": 29,
   "metadata": {},
   "outputs": [
    {
     "data": {
      "text/plain": [
       "7"
      ]
     },
     "execution_count": 29,
     "metadata": {},
     "output_type": "execute_result"
    }
   ],
   "source": [
    "df24['County/City'].nunique()"
   ]
  },
  {
   "cell_type": "code",
   "execution_count": 30,
   "metadata": {},
   "outputs": [
    {
     "data": {
      "text/plain": [
       "(55, 7)"
      ]
     },
     "execution_count": 30,
     "metadata": {},
     "output_type": "execute_result"
    }
   ],
   "source": [
    "df24.shape"
   ]
  },
  {
   "cell_type": "code",
   "execution_count": 31,
   "metadata": {},
   "outputs": [],
   "source": [
    "df24 = df24.iloc[1:]"
   ]
  },
  {
   "cell_type": "code",
   "execution_count": 32,
   "metadata": {},
   "outputs": [],
   "source": [
    "df24 = df24.drop(['Ward'], axis = 1)"
   ]
  },
  {
   "cell_type": "code",
   "execution_count": 33,
   "metadata": {},
   "outputs": [],
   "source": [
    "df24['HOD_DIST'] = '24'"
   ]
  },
  {
   "cell_type": "code",
   "execution_count": 34,
   "metadata": {},
   "outputs": [],
   "source": [
    "df24['LOCALITY'] = df24['County/City']\n",
    "df24['S18HODREP'] = df24['Ronnie Ray Campbell']\n",
    "df24['S18HODDEM'] = df24['Christian Renau Worth']\n",
    "df24['S18HODWRI'] = df24['All Others']\n",
    "df24 = df24.drop(['County/City', 'Ronnie Ray Campbell', 'Christian Renau Worth', 'All Others'], axis = 1)"
   ]
  },
  {
   "cell_type": "code",
   "execution_count": 35,
   "metadata": {},
   "outputs": [],
   "source": [
    "#df24 = rename_columns(df24, column_dict)"
   ]
  },
  {
   "cell_type": "code",
   "execution_count": 36,
   "metadata": {},
   "outputs": [],
   "source": [
    "df24['COUNTYFP'] = df24['LOCALITY'].map(county_dict)"
   ]
  },
  {
   "cell_type": "code",
   "execution_count": 37,
   "metadata": {},
   "outputs": [
    {
     "data": {
      "text/plain": [
       "7"
      ]
     },
     "execution_count": 37,
     "metadata": {},
     "output_type": "execute_result"
    }
   ],
   "source": [
    "df24['LOCALITY'].nunique()"
   ]
  },
  {
   "cell_type": "code",
   "execution_count": 38,
   "metadata": {},
   "outputs": [
    {
     "data": {
      "text/plain": [
       "6"
      ]
     },
     "execution_count": 38,
     "metadata": {},
     "output_type": "execute_result"
    }
   ],
   "source": [
    "df24['COUNTYFP'].nunique()"
   ]
  },
  {
   "cell_type": "code",
   "execution_count": 39,
   "metadata": {},
   "outputs": [
    {
     "data": {
      "text/plain": [
       "163    19\n",
       "009    11\n",
       "017     9\n",
       "015     8\n",
       "530     3\n",
       "678     3\n",
       "Name: COUNTYFP, dtype: int64"
      ]
     },
     "execution_count": 39,
     "metadata": {},
     "output_type": "execute_result"
    }
   ],
   "source": [
    "df24['COUNTYFP'].value_counts()"
   ]
  },
  {
   "cell_type": "code",
   "execution_count": 40,
   "metadata": {},
   "outputs": [
    {
     "data": {
      "text/plain": [
       "161    15\n",
       "775    12\n",
       "045     9\n",
       "121     8\n",
       "Name: COUNTYFP, dtype: int64"
      ]
     },
     "execution_count": 40,
     "metadata": {},
     "output_type": "execute_result"
    }
   ],
   "source": [
    "df8.COUNTYFP.value_counts()"
   ]
  },
  {
   "cell_type": "code",
   "execution_count": 41,
   "metadata": {},
   "outputs": [],
   "source": [
    "df24['S18HODREP'] = df24['S18HODREP'].map(lambda x: str(x).replace(',', ''))\n",
    "df24['S18HODDEM'] = df24['S18HODDEM'].map(lambda x: str(x).replace(',', '')) \n",
    "df24['S18HODWRI'] = df24['S18HODWRI'].map(lambda x: str(x).replace(',', ''))\n",
    "df24['S18HODREP'] = df24['S18HODREP'].astype(str).astype(float).astype(int)\n",
    "df24['S18HODDEM'] = df24['S18HODDEM'].astype(str).astype(float).astype(int)\n",
    "df24['S18HODWRI'] = df24['S18HODWRI'].astype(str).astype(float).astype(int)"
   ]
  },
  {
   "cell_type": "code",
   "execution_count": 42,
   "metadata": {},
   "outputs": [
    {
     "data": {
      "text/html": [
       "<div>\n",
       "<style scoped>\n",
       "    .dataframe tbody tr th:only-of-type {\n",
       "        vertical-align: middle;\n",
       "    }\n",
       "\n",
       "    .dataframe tbody tr th {\n",
       "        vertical-align: top;\n",
       "    }\n",
       "\n",
       "    .dataframe thead th {\n",
       "        text-align: right;\n",
       "    }\n",
       "</style>\n",
       "<table border=\"1\" class=\"dataframe\">\n",
       "  <thead>\n",
       "    <tr style=\"text-align: right;\">\n",
       "      <th></th>\n",
       "      <th>S18HODREP</th>\n",
       "      <th>S18HODDEM</th>\n",
       "      <th>S18HODWRI</th>\n",
       "    </tr>\n",
       "    <tr>\n",
       "      <th>COUNTYFP</th>\n",
       "      <th></th>\n",
       "      <th></th>\n",
       "      <th></th>\n",
       "    </tr>\n",
       "  </thead>\n",
       "  <tbody>\n",
       "    <tr>\n",
       "      <th>009</th>\n",
       "      <td>1659</td>\n",
       "      <td>844</td>\n",
       "      <td>45</td>\n",
       "    </tr>\n",
       "    <tr>\n",
       "      <th>015</th>\n",
       "      <td>1369</td>\n",
       "      <td>465</td>\n",
       "      <td>1</td>\n",
       "    </tr>\n",
       "    <tr>\n",
       "      <th>017</th>\n",
       "      <td>360</td>\n",
       "      <td>227</td>\n",
       "      <td>0</td>\n",
       "    </tr>\n",
       "    <tr>\n",
       "      <th>163</th>\n",
       "      <td>2560</td>\n",
       "      <td>1861</td>\n",
       "      <td>17</td>\n",
       "    </tr>\n",
       "    <tr>\n",
       "      <th>530</th>\n",
       "      <td>385</td>\n",
       "      <td>236</td>\n",
       "      <td>0</td>\n",
       "    </tr>\n",
       "    <tr>\n",
       "      <th>678</th>\n",
       "      <td>287</td>\n",
       "      <td>853</td>\n",
       "      <td>4</td>\n",
       "    </tr>\n",
       "  </tbody>\n",
       "</table>\n",
       "</div>"
      ],
      "text/plain": [
       "          S18HODREP  S18HODDEM  S18HODWRI\n",
       "COUNTYFP                                 \n",
       "009            1659        844         45\n",
       "015            1369        465          1\n",
       "017             360        227          0\n",
       "163            2560       1861         17\n",
       "530             385        236          0\n",
       "678             287        853          4"
      ]
     },
     "execution_count": 42,
     "metadata": {},
     "output_type": "execute_result"
    }
   ],
   "source": [
    "df24.groupby(['COUNTYFP']).sum()"
   ]
  },
  {
   "cell_type": "code",
   "execution_count": 43,
   "metadata": {},
   "outputs": [
    {
     "data": {
      "text/plain": [
       "10"
      ]
     },
     "execution_count": 43,
     "metadata": {},
     "output_type": "execute_result"
    }
   ],
   "source": [
    "df8.COUNTYFP.nunique() + df24.COUNTYFP.nunique()"
   ]
  },
  {
   "cell_type": "code",
   "execution_count": 44,
   "metadata": {},
   "outputs": [
    {
     "data": {
      "text/plain": [
       "161    15\n",
       "775    12\n",
       "045     9\n",
       "121     8\n",
       "Name: COUNTYFP, dtype: int64"
      ]
     },
     "execution_count": 44,
     "metadata": {},
     "output_type": "execute_result"
    }
   ],
   "source": [
    "df8.COUNTYFP.value_counts()"
   ]
  },
  {
   "cell_type": "code",
   "execution_count": 45,
   "metadata": {},
   "outputs": [
    {
     "data": {
      "text/plain": [
       "10"
      ]
     },
     "execution_count": 45,
     "metadata": {},
     "output_type": "execute_result"
    }
   ],
   "source": [
    "final.COUNTYFP.nunique()"
   ]
  },
  {
   "cell_type": "code",
   "execution_count": 46,
   "metadata": {},
   "outputs": [
    {
     "data": {
      "text/plain": [
       "024    42\n",
       "008    37\n",
       "Name: HOD_DIST, dtype: int64"
      ]
     },
     "execution_count": 46,
     "metadata": {},
     "output_type": "execute_result"
    }
   ],
   "source": [
    "final.HOD_DIST.value_counts()"
   ]
  },
  {
   "cell_type": "markdown",
   "metadata": {},
   "source": [
    "### Districts 24 and 8 together"
   ]
  },
  {
   "cell_type": "code",
   "execution_count": 47,
   "metadata": {},
   "outputs": [],
   "source": [
    "elections = []\n",
    "elections.append(df24)\n",
    "elections.append(df8)"
   ]
  },
  {
   "cell_type": "code",
   "execution_count": 48,
   "metadata": {},
   "outputs": [],
   "source": [
    "df = pd.concat(elections, axis = 0)"
   ]
  },
  {
   "cell_type": "code",
   "execution_count": 49,
   "metadata": {},
   "outputs": [],
   "source": [
    "df = df[df['LOCALITY'] != 'TOTALS']"
   ]
  },
  {
   "cell_type": "code",
   "execution_count": 50,
   "metadata": {},
   "outputs": [],
   "source": [
    "df = df.reset_index()\n",
    "df = df.fillna(0)"
   ]
  },
  {
   "cell_type": "markdown",
   "metadata": {},
   "source": [
    "## Check various totals"
   ]
  },
  {
   "cell_type": "code",
   "execution_count": 51,
   "metadata": {
    "scrolled": true
   },
   "outputs": [
    {
     "name": "stdout",
     "output_type": "stream",
     "text": [
      "S18HODREP: EQUAL\n",
      "S18HODDEM: EQUAL\n",
      "S18HODWRI: EQUAL\n"
     ]
    }
   ],
   "source": [
    "for val in column_list:\n",
    "    vote_dif = df[val].sum()-final[val].sum()\n",
    "    if (vote_dif == 0):\n",
    "        print(val+\": EQUAL\")\n",
    "    else:\n",
    "        print(val+\": DIFFERENCE OF \" + str(vote_dif)+ \" VOTES\")"
   ]
  },
  {
   "cell_type": "code",
   "execution_count": 52,
   "metadata": {},
   "outputs": [
    {
     "name": "stdout",
     "output_type": "stream",
     "text": [
      "Counties with differences printed below:\n",
      "\n",
      "All other races in all counties are equal\n"
     ]
    }
   ],
   "source": [
    "print(\"Counties with differences printed below:\")\n",
    "diff_counties=[]\n",
    "for i in column_list:\n",
    "    diff = df.groupby([\"COUNTYFP\"]).sum()[i]-final.groupby([\"COUNTYFP\"]).sum()[i]\n",
    "    for val in diff[diff != 0].index.values.tolist():\n",
    "        if val not in diff_counties:\n",
    "            diff_counties.append(val)\n",
    "    if len(diff[diff != 0]!=0):\n",
    "        print(i)\n",
    "        print(diff[diff != 0].to_string(header=False))\n",
    "print(\"\")\n",
    "print(\"All other races in all counties are equal\")"
   ]
  },
  {
   "cell_type": "markdown",
   "metadata": {},
   "source": [
    "## Reallocate absentee votes"
   ]
  },
  {
   "cell_type": "code",
   "execution_count": 53,
   "metadata": {},
   "outputs": [],
   "source": [
    "absentee_and_prov = df[(df['Pct'].map(lambda x: 'Absentee' in str(x))) | (df['Pct'].map(lambda x: 'Provisional' in str(x)))]\n",
    "groupby_absentee_and_prov_tot = absentee_and_prov.groupby(['COUNTYFP']).sum()\n",
    "\n",
    "groupby_county_df_tot = df.groupby(['COUNTYFP']).sum()\n",
    "df_no_absent_or_provisional = df[(df['Pct'].map(lambda x: 'Absentee' not in str(x))) & (df['Pct'].map(lambda x: 'Provisional' not in str(x)))\n",
    "                                & (df['LOCALITY'] != 'TOTALS')]\n",
    "groupby_county_tot_no_absentee = df_no_absent_or_provisional.groupby('COUNTYFP').sum()"
   ]
  },
  {
   "cell_type": "code",
   "execution_count": 54,
   "metadata": {},
   "outputs": [],
   "source": [
    "df_with_absentee_reallocated = df_no_absent_or_provisional.copy()\n",
    "groupby_absentee_and_prov_tot.reset_index(inplace=True,drop=False)\n",
    "groupby_county_tot_no_absentee.reset_index(inplace=True,drop=False)\n",
    "\n",
    "to_dole_out_totals = groupby_absentee_and_prov_tot.copy()\n",
    "precinct_specific_totals = groupby_county_tot_no_absentee.copy()\n",
    "\n",
    "column_list = ['S18HODREP', 'S18HODDEM', 'S18HODWRI']"
   ]
  },
  {
   "cell_type": "code",
   "execution_count": 55,
   "metadata": {},
   "outputs": [],
   "source": [
    "#Create some new columns for each of these races to deal with the allocation\n",
    "for race in column_list:\n",
    "    add_var = race+\"_add\"\n",
    "    rem_var = race+\"_rem\"\n",
    "    floor_var = race+\"_floor\"\n",
    "    df_with_absentee_reallocated.loc[:,add_var]=0.0\n",
    "    df_with_absentee_reallocated.loc[:,rem_var]=0.0\n",
    "    df_with_absentee_reallocated.loc[:,floor_var]=0.0\n",
    "\n",
    "#Iterate over the rows\n",
    "#Note this function iterates over the dataframe two times so the rounded vote totals match the totals to allocate\n",
    "for index, row in df_no_absent_or_provisional.iterrows():\n",
    "    for race in column_list:\n",
    "        add_var = race+\"_add\"\n",
    "        rem_var = race+\"_rem\"\n",
    "        floor_var = race+\"_floor\"\n",
    "        #Grab the district\n",
    "        county_id = row['COUNTYFP']\n",
    "        #Get the denominator for the allocation (the precinct vote totals)\n",
    "        denom = precinct_specific_totals.loc[precinct_specific_totals['COUNTYFP']==county_id][race]\n",
    "        #Get one of the numerators, how many districtwide votes to allocate\n",
    "        numer = to_dole_out_totals.loc[to_dole_out_totals['COUNTYFP']==county_id][race]\n",
    "        #Get the vote totals for this race in this precinct\n",
    "        val = df_with_absentee_reallocated.at[index,race]\n",
    "        #Get the vote share, the precincts % of total precinct votes in the district times votes to allocate\n",
    "        if ((float(denom)==0)):\n",
    "            vote_share = 0\n",
    "        else:\n",
    "            vote_share = (float(val)/float(denom))*float(numer)\n",
    "        df_with_absentee_reallocated.at[index,add_var] = vote_share\n",
    "        #Take the decimal remainder of the allocation\n",
    "        df_with_absentee_reallocated.at[index,rem_var] = vote_share%1\n",
    "        #Take the floor of the allocation\n",
    "        df_with_absentee_reallocated.at[index,floor_var] = np.floor(vote_share)\n",
    "\n",
    "#After the first pass through, get the sums of the races by district to assist in the rounding            \n",
    "first_allocation = pd.DataFrame(df_with_absentee_reallocated.groupby(['COUNTYFP']).sum())\n",
    "\n",
    "#Now we want to iterate district by district to work on rounding\n",
    "county_list = list(to_dole_out_totals['COUNTYFP'].unique()) \n",
    "\n",
    "#Iterate over the district\n",
    "for county in county_list:\n",
    "    for race in column_list:\n",
    "        add_var = race+\"_add\"\n",
    "        rem_var = race+\"_rem\"\n",
    "        floor_var = race+\"_floor\"\n",
    "        #County how many votes still need to be allocated (because we took the floor of all the initial allocations)\n",
    "        to_go = int(np.round((int(to_dole_out_totals.loc[to_dole_out_totals['COUNTYFP']==county][race])-first_allocation.loc[first_allocation.index==county,floor_var])))\n",
    "        #Grab the n precincts with the highest remainders and round these up, where n is the # of votes that still need to be allocated\n",
    "        for index in df_with_absentee_reallocated.loc[df_with_absentee_reallocated['COUNTYFP']==county][rem_var].nlargest(to_go).index:\n",
    "            df_with_absentee_reallocated.at[index,add_var] = np.ceil(df_with_absentee_reallocated.at[index,add_var])\n",
    "\n",
    "#Iterate over every race again\n",
    "for race in column_list:\n",
    "    add_var = race+\"_add\"\n",
    "    #Round every allocation down to not add fractional votes\n",
    "    df_with_absentee_reallocated.loc[:,add_var]=np.floor(df_with_absentee_reallocated.loc[:,add_var])\n",
    "    df_with_absentee_reallocated.loc[:,race]+=df_with_absentee_reallocated.loc[:,add_var]"
   ]
  },
  {
   "cell_type": "markdown",
   "metadata": {},
   "source": [
    "## Check Totals after Vote Allocation"
   ]
  },
  {
   "cell_type": "code",
   "execution_count": 56,
   "metadata": {},
   "outputs": [
    {
     "name": "stdout",
     "output_type": "stream",
     "text": [
      "S18HODREP: EQUAL\n",
      "S18HODDEM: EQUAL\n",
      "S18HODWRI: EQUAL\n"
     ]
    }
   ],
   "source": [
    "for val in column_list:\n",
    "    vote_dif = df_with_absentee_reallocated[val].sum()-final[val].sum()\n",
    "    if (vote_dif == 0):\n",
    "        print(val+\": EQUAL\")\n",
    "    else:\n",
    "        print(val+\": DIFFERENCE OF \" + str(vote_dif)+ \" VOTES\")"
   ]
  },
  {
   "cell_type": "code",
   "execution_count": 57,
   "metadata": {},
   "outputs": [
    {
     "name": "stdout",
     "output_type": "stream",
     "text": [
      "Counties with differences printed below:\n",
      "\n",
      "All other races in all counties are equal\n"
     ]
    }
   ],
   "source": [
    "print(\"Counties with differences printed below:\")\n",
    "diff_counties=[]\n",
    "for i in column_list:\n",
    "    diff = df_with_absentee_reallocated.groupby([\"COUNTYFP\"]).sum()[i]-final.groupby([\"COUNTYFP\"]).sum()[i]\n",
    "    for val in diff[diff != 0].index.values.tolist():\n",
    "        if val not in diff_counties:\n",
    "            diff_counties.append(val)\n",
    "    if len(diff[diff != 0]!=0):\n",
    "        print(i)\n",
    "        print(diff[diff != 0].to_string(header=False))\n",
    "print(\"\")\n",
    "print(\"All other races in all counties are equal\")"
   ]
  },
  {
   "cell_type": "markdown",
   "metadata": {},
   "source": [
    "### Create unique ID to enable merge"
   ]
  },
  {
   "cell_type": "code",
   "execution_count": 58,
   "metadata": {},
   "outputs": [
    {
     "data": {
      "text/plain": [
       "{'5301 -',\n",
       " '5302 -',\n",
       " '6781 -',\n",
       " '7751 -',\n",
       " '77510 ',\n",
       " '7752 -',\n",
       " '7753 -',\n",
       " '7754 -',\n",
       " '7755 -',\n",
       " '7756 -',\n",
       " '7757 -',\n",
       " '7758 -',\n",
       " '7759 -'}"
      ]
     },
     "execution_count": 58,
     "metadata": {},
     "output_type": "execute_result"
    }
   ],
   "source": [
    "set(df_with_absentee_reallocated.COUNTYFP + df_with_absentee_reallocated.Pct.str.slice(stop = 3)) - set(final.COUNTYFP + final.VTDST.str.slice(start = 3))"
   ]
  },
  {
   "cell_type": "code",
   "execution_count": 59,
   "metadata": {},
   "outputs": [],
   "source": [
    "def vtdst_changer(vtdst):\n",
    "    if (vtdst[1:3] == ' -'):\n",
    "        two_lead_zero = '00' + vtdst[:1]\n",
    "        return two_lead_zero\n",
    "    elif (vtdst[1:3] == '- '):\n",
    "        two_lead_zero = '00' + vtdst[:1]\n",
    "        return two_lead_zero\n",
    "    elif (vtdst[-1:] == ' '):\n",
    "        one_lead_zero = '0' + vtdst[:2]\n",
    "        return one_lead_zero\n",
    "    elif (vtdst[-1:] == '-'):\n",
    "        one_lead_zero = '0' + vtdst[:2]\n",
    "        return one_lead_zero\n",
    "    else:\n",
    "        return vtdst"
   ]
  },
  {
   "cell_type": "code",
   "execution_count": 60,
   "metadata": {},
   "outputs": [
    {
     "data": {
      "text/html": [
       "<div>\n",
       "<style scoped>\n",
       "    .dataframe tbody tr th:only-of-type {\n",
       "        vertical-align: middle;\n",
       "    }\n",
       "\n",
       "    .dataframe tbody tr th {\n",
       "        vertical-align: top;\n",
       "    }\n",
       "\n",
       "    .dataframe thead th {\n",
       "        text-align: right;\n",
       "    }\n",
       "</style>\n",
       "<table border=\"1\" class=\"dataframe\">\n",
       "  <thead>\n",
       "    <tr style=\"text-align: right;\">\n",
       "      <th></th>\n",
       "      <th>index</th>\n",
       "      <th>Pct</th>\n",
       "      <th>Total Votes Cast</th>\n",
       "      <th>HOD_DIST</th>\n",
       "      <th>LOCALITY</th>\n",
       "      <th>S18HODREP</th>\n",
       "      <th>S18HODDEM</th>\n",
       "      <th>S18HODWRI</th>\n",
       "      <th>COUNTYFP</th>\n",
       "      <th>S18HODREP_add</th>\n",
       "      <th>S18HODREP_rem</th>\n",
       "      <th>S18HODREP_floor</th>\n",
       "      <th>S18HODDEM_add</th>\n",
       "      <th>S18HODDEM_rem</th>\n",
       "      <th>S18HODDEM_floor</th>\n",
       "      <th>S18HODWRI_add</th>\n",
       "      <th>S18HODWRI_rem</th>\n",
       "      <th>S18HODWRI_floor</th>\n",
       "      <th>vtdst</th>\n",
       "    </tr>\n",
       "  </thead>\n",
       "  <tbody>\n",
       "    <tr>\n",
       "      <th>0</th>\n",
       "      <td>1</td>\n",
       "      <td>102 - New Glasgow</td>\n",
       "      <td>280</td>\n",
       "      <td>24</td>\n",
       "      <td>Amherst County</td>\n",
       "      <td>168.0</td>\n",
       "      <td>118.0</td>\n",
       "      <td>2.0</td>\n",
       "      <td>009</td>\n",
       "      <td>4.0</td>\n",
       "      <td>0.155748</td>\n",
       "      <td>4.0</td>\n",
       "      <td>4.0</td>\n",
       "      <td>0.623472</td>\n",
       "      <td>3.0</td>\n",
       "      <td>0.0</td>\n",
       "      <td>0.045455</td>\n",
       "      <td>0.0</td>\n",
       "      <td>102</td>\n",
       "    </tr>\n",
       "    <tr>\n",
       "      <th>1</th>\n",
       "      <td>2</td>\n",
       "      <td>103 - Coolwell</td>\n",
       "      <td>103</td>\n",
       "      <td>24</td>\n",
       "      <td>Amherst County</td>\n",
       "      <td>84.0</td>\n",
       "      <td>21.0</td>\n",
       "      <td>1.0</td>\n",
       "      <td>009</td>\n",
       "      <td>2.0</td>\n",
       "      <td>0.077874</td>\n",
       "      <td>2.0</td>\n",
       "      <td>1.0</td>\n",
       "      <td>0.635697</td>\n",
       "      <td>0.0</td>\n",
       "      <td>0.0</td>\n",
       "      <td>0.022727</td>\n",
       "      <td>0.0</td>\n",
       "      <td>103</td>\n",
       "    </tr>\n",
       "    <tr>\n",
       "      <th>2</th>\n",
       "      <td>3</td>\n",
       "      <td>201 - Court House</td>\n",
       "      <td>671</td>\n",
       "      <td>24</td>\n",
       "      <td>Amherst County</td>\n",
       "      <td>407.0</td>\n",
       "      <td>269.0</td>\n",
       "      <td>14.0</td>\n",
       "      <td>009</td>\n",
       "      <td>10.0</td>\n",
       "      <td>0.059951</td>\n",
       "      <td>10.0</td>\n",
       "      <td>8.0</td>\n",
       "      <td>0.295844</td>\n",
       "      <td>8.0</td>\n",
       "      <td>1.0</td>\n",
       "      <td>0.295455</td>\n",
       "      <td>0.0</td>\n",
       "      <td>201</td>\n",
       "    </tr>\n",
       "    <tr>\n",
       "      <th>3</th>\n",
       "      <td>4</td>\n",
       "      <td>202 - Temperance</td>\n",
       "      <td>199</td>\n",
       "      <td>24</td>\n",
       "      <td>Amherst County</td>\n",
       "      <td>140.0</td>\n",
       "      <td>61.0</td>\n",
       "      <td>3.0</td>\n",
       "      <td>009</td>\n",
       "      <td>3.0</td>\n",
       "      <td>0.471570</td>\n",
       "      <td>3.0</td>\n",
       "      <td>2.0</td>\n",
       "      <td>0.875306</td>\n",
       "      <td>1.0</td>\n",
       "      <td>0.0</td>\n",
       "      <td>0.068182</td>\n",
       "      <td>0.0</td>\n",
       "      <td>202</td>\n",
       "    </tr>\n",
       "    <tr>\n",
       "      <th>4</th>\n",
       "      <td>5</td>\n",
       "      <td>301 - Monroe</td>\n",
       "      <td>230</td>\n",
       "      <td>24</td>\n",
       "      <td>Amherst County</td>\n",
       "      <td>163.0</td>\n",
       "      <td>68.0</td>\n",
       "      <td>5.0</td>\n",
       "      <td>009</td>\n",
       "      <td>4.0</td>\n",
       "      <td>0.029048</td>\n",
       "      <td>4.0</td>\n",
       "      <td>2.0</td>\n",
       "      <td>0.097800</td>\n",
       "      <td>2.0</td>\n",
       "      <td>0.0</td>\n",
       "      <td>0.113636</td>\n",
       "      <td>0.0</td>\n",
       "      <td>301</td>\n",
       "    </tr>\n",
       "  </tbody>\n",
       "</table>\n",
       "</div>"
      ],
      "text/plain": [
       "   index                Pct Total Votes Cast HOD_DIST        LOCALITY  \\\n",
       "0      1  102 - New Glasgow              280       24  Amherst County   \n",
       "1      2     103 - Coolwell              103       24  Amherst County   \n",
       "2      3  201 - Court House              671       24  Amherst County   \n",
       "3      4   202 - Temperance              199       24  Amherst County   \n",
       "4      5       301 - Monroe              230       24  Amherst County   \n",
       "\n",
       "   S18HODREP  S18HODDEM  S18HODWRI COUNTYFP  S18HODREP_add  S18HODREP_rem  \\\n",
       "0      168.0      118.0        2.0      009            4.0       0.155748   \n",
       "1       84.0       21.0        1.0      009            2.0       0.077874   \n",
       "2      407.0      269.0       14.0      009           10.0       0.059951   \n",
       "3      140.0       61.0        3.0      009            3.0       0.471570   \n",
       "4      163.0       68.0        5.0      009            4.0       0.029048   \n",
       "\n",
       "   S18HODREP_floor  S18HODDEM_add  S18HODDEM_rem  S18HODDEM_floor  \\\n",
       "0              4.0            4.0       0.623472              3.0   \n",
       "1              2.0            1.0       0.635697              0.0   \n",
       "2             10.0            8.0       0.295844              8.0   \n",
       "3              3.0            2.0       0.875306              1.0   \n",
       "4              4.0            2.0       0.097800              2.0   \n",
       "\n",
       "   S18HODWRI_add  S18HODWRI_rem  S18HODWRI_floor vtdst  \n",
       "0            0.0       0.045455              0.0   102  \n",
       "1            0.0       0.022727              0.0   103  \n",
       "2            1.0       0.295455              0.0   201  \n",
       "3            0.0       0.068182              0.0   202  \n",
       "4            0.0       0.113636              0.0   301  "
      ]
     },
     "execution_count": 60,
     "metadata": {},
     "output_type": "execute_result"
    }
   ],
   "source": [
    "df_with_absentee_reallocated['vtdst'] = df_with_absentee_reallocated.Pct.str.slice(stop = 3)\n",
    "df_with_absentee_reallocated['vtdst'] = df_with_absentee_reallocated['vtdst'].apply(vtdst_changer)\n",
    "df_with_absentee_reallocated.head()"
   ]
  },
  {
   "cell_type": "code",
   "execution_count": 61,
   "metadata": {},
   "outputs": [
    {
     "data": {
      "text/html": [
       "<div>\n",
       "<style scoped>\n",
       "    .dataframe tbody tr th:only-of-type {\n",
       "        vertical-align: middle;\n",
       "    }\n",
       "\n",
       "    .dataframe tbody tr th {\n",
       "        vertical-align: top;\n",
       "    }\n",
       "\n",
       "    .dataframe thead th {\n",
       "        text-align: right;\n",
       "    }\n",
       "</style>\n",
       "<table border=\"1\" class=\"dataframe\">\n",
       "  <thead>\n",
       "    <tr style=\"text-align: right;\">\n",
       "      <th></th>\n",
       "      <th>index</th>\n",
       "      <th>Pct</th>\n",
       "      <th>Total Votes Cast</th>\n",
       "      <th>HOD_DIST</th>\n",
       "      <th>LOCALITY</th>\n",
       "      <th>S18HODREP</th>\n",
       "      <th>S18HODDEM</th>\n",
       "      <th>S18HODWRI</th>\n",
       "      <th>COUNTYFP</th>\n",
       "      <th>S18HODREP_add</th>\n",
       "      <th>S18HODREP_rem</th>\n",
       "      <th>S18HODREP_floor</th>\n",
       "      <th>S18HODDEM_add</th>\n",
       "      <th>S18HODDEM_rem</th>\n",
       "      <th>S18HODDEM_floor</th>\n",
       "      <th>S18HODWRI_add</th>\n",
       "      <th>S18HODWRI_rem</th>\n",
       "      <th>S18HODWRI_floor</th>\n",
       "      <th>vtdst</th>\n",
       "      <th>unique_id</th>\n",
       "    </tr>\n",
       "  </thead>\n",
       "  <tbody>\n",
       "    <tr>\n",
       "      <th>0</th>\n",
       "      <td>1</td>\n",
       "      <td>102 - New Glasgow</td>\n",
       "      <td>280</td>\n",
       "      <td>24</td>\n",
       "      <td>Amherst County</td>\n",
       "      <td>168.0</td>\n",
       "      <td>118.0</td>\n",
       "      <td>2.0</td>\n",
       "      <td>009</td>\n",
       "      <td>4.0</td>\n",
       "      <td>0.155748</td>\n",
       "      <td>4.0</td>\n",
       "      <td>4.0</td>\n",
       "      <td>0.623472</td>\n",
       "      <td>3.0</td>\n",
       "      <td>0.0</td>\n",
       "      <td>0.045455</td>\n",
       "      <td>0.0</td>\n",
       "      <td>102</td>\n",
       "      <td>009102</td>\n",
       "    </tr>\n",
       "    <tr>\n",
       "      <th>1</th>\n",
       "      <td>2</td>\n",
       "      <td>103 - Coolwell</td>\n",
       "      <td>103</td>\n",
       "      <td>24</td>\n",
       "      <td>Amherst County</td>\n",
       "      <td>84.0</td>\n",
       "      <td>21.0</td>\n",
       "      <td>1.0</td>\n",
       "      <td>009</td>\n",
       "      <td>2.0</td>\n",
       "      <td>0.077874</td>\n",
       "      <td>2.0</td>\n",
       "      <td>1.0</td>\n",
       "      <td>0.635697</td>\n",
       "      <td>0.0</td>\n",
       "      <td>0.0</td>\n",
       "      <td>0.022727</td>\n",
       "      <td>0.0</td>\n",
       "      <td>103</td>\n",
       "      <td>009103</td>\n",
       "    </tr>\n",
       "    <tr>\n",
       "      <th>2</th>\n",
       "      <td>3</td>\n",
       "      <td>201 - Court House</td>\n",
       "      <td>671</td>\n",
       "      <td>24</td>\n",
       "      <td>Amherst County</td>\n",
       "      <td>407.0</td>\n",
       "      <td>269.0</td>\n",
       "      <td>14.0</td>\n",
       "      <td>009</td>\n",
       "      <td>10.0</td>\n",
       "      <td>0.059951</td>\n",
       "      <td>10.0</td>\n",
       "      <td>8.0</td>\n",
       "      <td>0.295844</td>\n",
       "      <td>8.0</td>\n",
       "      <td>1.0</td>\n",
       "      <td>0.295455</td>\n",
       "      <td>0.0</td>\n",
       "      <td>201</td>\n",
       "      <td>009201</td>\n",
       "    </tr>\n",
       "    <tr>\n",
       "      <th>3</th>\n",
       "      <td>4</td>\n",
       "      <td>202 - Temperance</td>\n",
       "      <td>199</td>\n",
       "      <td>24</td>\n",
       "      <td>Amherst County</td>\n",
       "      <td>140.0</td>\n",
       "      <td>61.0</td>\n",
       "      <td>3.0</td>\n",
       "      <td>009</td>\n",
       "      <td>3.0</td>\n",
       "      <td>0.471570</td>\n",
       "      <td>3.0</td>\n",
       "      <td>2.0</td>\n",
       "      <td>0.875306</td>\n",
       "      <td>1.0</td>\n",
       "      <td>0.0</td>\n",
       "      <td>0.068182</td>\n",
       "      <td>0.0</td>\n",
       "      <td>202</td>\n",
       "      <td>009202</td>\n",
       "    </tr>\n",
       "    <tr>\n",
       "      <th>4</th>\n",
       "      <td>5</td>\n",
       "      <td>301 - Monroe</td>\n",
       "      <td>230</td>\n",
       "      <td>24</td>\n",
       "      <td>Amherst County</td>\n",
       "      <td>163.0</td>\n",
       "      <td>68.0</td>\n",
       "      <td>5.0</td>\n",
       "      <td>009</td>\n",
       "      <td>4.0</td>\n",
       "      <td>0.029048</td>\n",
       "      <td>4.0</td>\n",
       "      <td>2.0</td>\n",
       "      <td>0.097800</td>\n",
       "      <td>2.0</td>\n",
       "      <td>0.0</td>\n",
       "      <td>0.113636</td>\n",
       "      <td>0.0</td>\n",
       "      <td>301</td>\n",
       "      <td>009301</td>\n",
       "    </tr>\n",
       "  </tbody>\n",
       "</table>\n",
       "</div>"
      ],
      "text/plain": [
       "   index                Pct Total Votes Cast HOD_DIST        LOCALITY  \\\n",
       "0      1  102 - New Glasgow              280       24  Amherst County   \n",
       "1      2     103 - Coolwell              103       24  Amherst County   \n",
       "2      3  201 - Court House              671       24  Amherst County   \n",
       "3      4   202 - Temperance              199       24  Amherst County   \n",
       "4      5       301 - Monroe              230       24  Amherst County   \n",
       "\n",
       "   S18HODREP  S18HODDEM  S18HODWRI COUNTYFP  S18HODREP_add  S18HODREP_rem  \\\n",
       "0      168.0      118.0        2.0      009            4.0       0.155748   \n",
       "1       84.0       21.0        1.0      009            2.0       0.077874   \n",
       "2      407.0      269.0       14.0      009           10.0       0.059951   \n",
       "3      140.0       61.0        3.0      009            3.0       0.471570   \n",
       "4      163.0       68.0        5.0      009            4.0       0.029048   \n",
       "\n",
       "   S18HODREP_floor  S18HODDEM_add  S18HODDEM_rem  S18HODDEM_floor  \\\n",
       "0              4.0            4.0       0.623472              3.0   \n",
       "1              2.0            1.0       0.635697              0.0   \n",
       "2             10.0            8.0       0.295844              8.0   \n",
       "3              3.0            2.0       0.875306              1.0   \n",
       "4              4.0            2.0       0.097800              2.0   \n",
       "\n",
       "   S18HODWRI_add  S18HODWRI_rem  S18HODWRI_floor vtdst unique_id  \n",
       "0            0.0       0.045455              0.0   102    009102  \n",
       "1            0.0       0.022727              0.0   103    009103  \n",
       "2            1.0       0.295455              0.0   201    009201  \n",
       "3            0.0       0.068182              0.0   202    009202  \n",
       "4            0.0       0.113636              0.0   301    009301  "
      ]
     },
     "execution_count": 61,
     "metadata": {},
     "output_type": "execute_result"
    }
   ],
   "source": [
    "df_with_absentee_reallocated['unique_id'] = df_with_absentee_reallocated.COUNTYFP + df_with_absentee_reallocated.vtdst\n",
    "df_with_absentee_reallocated.head()"
   ]
  },
  {
   "cell_type": "code",
   "execution_count": 62,
   "metadata": {},
   "outputs": [],
   "source": [
    "final['unique_id'] = final.COUNTYFP + final.VTDST.str.slice(start = 3)"
   ]
  },
  {
   "cell_type": "code",
   "execution_count": 63,
   "metadata": {},
   "outputs": [
    {
     "data": {
      "text/plain": [
       "set()"
      ]
     },
     "execution_count": 63,
     "metadata": {},
     "output_type": "execute_result"
    }
   ],
   "source": [
    "set(df_with_absentee_reallocated.unique_id) - set(final.unique_id)"
   ]
  },
  {
   "cell_type": "code",
   "execution_count": 64,
   "metadata": {},
   "outputs": [
    {
     "data": {
      "text/plain": [
       "set()"
      ]
     },
     "execution_count": 64,
     "metadata": {},
     "output_type": "execute_result"
    }
   ],
   "source": [
    "set(final.unique_id) - set(df_with_absentee_reallocated.unique_id)"
   ]
  },
  {
   "cell_type": "markdown",
   "metadata": {},
   "source": [
    "# Shapefile"
   ]
  },
  {
   "cell_type": "code",
   "execution_count": 65,
   "metadata": {},
   "outputs": [
    {
     "data": {
      "text/plain": [
       "'/Users/peterhorton/Documents/RDH/pdv/pdv-va/vest-va-2018'"
      ]
     },
     "execution_count": 65,
     "metadata": {},
     "output_type": "execute_result"
    }
   ],
   "source": [
    "pwd"
   ]
  },
  {
   "cell_type": "code",
   "execution_count": 66,
   "metadata": {},
   "outputs": [],
   "source": [
    "county_fips = []\n",
    "for directory in os.listdir('./vest_va/census_shps_by_county_all_unzip/'):\n",
    "    if not directory[0] == '.':\n",
    "        county_fips.append(directory[-5:])"
   ]
  },
  {
   "cell_type": "code",
   "execution_count": 67,
   "metadata": {},
   "outputs": [],
   "source": [
    "proj = final.crs"
   ]
  },
  {
   "cell_type": "code",
   "execution_count": 68,
   "metadata": {
    "jupyter": {
     "outputs_hidden": true
    }
   },
   "outputs": [
    {
     "name": "stdout",
     "output_type": "stream",
     "text": [
      "51580  added to list\n",
      "51117  added to list\n",
      "51121  added to list\n",
      "51119  added to list\n",
      "51770  added to list\n",
      "51181  added to list\n",
      "51175  added to list\n",
      "51143  added to list\n",
      "51520  added to list\n",
      "51127  added to list\n",
      "51740  added to list\n",
      "51111  added to list\n",
      "51145  added to list\n",
      "51510  added to list\n",
      "51187  added to list\n",
      "51173  added to list\n",
      "51001  added to list\n",
      "51650  added to list\n",
      "51037  added to list\n",
      "51063  added to list\n",
      "51097  added to list\n",
      "51099  added to list\n",
      "51009  added to list\n",
      "51660  added to list\n",
      "51036  added to list\n",
      "51031  added to list\n",
      "51007  added to list\n",
      "51053  added to list\n",
      "51065  added to list\n",
      "51091  added to list\n",
      "51047  added to list\n",
      "51071  added to list\n",
      "51085  added to list\n",
      "51049  added to list\n",
      "51620  added to list\n",
      "51680  added to list\n",
      "51025  added to list\n",
      "51013  added to list\n",
      "51810  added to list\n",
      "51077  added to list\n",
      "51083  added to list\n",
      "51079  added to list\n",
      "51610  added to list\n",
      "51041  added to list\n",
      "51015  added to list\n",
      "51023  added to list\n",
      "51820  added to list\n",
      "51169  added to list\n",
      "51700  added to list\n",
      "51193  added to list\n",
      "51167  added to list\n",
      "51133  added to list\n",
      "51550  added to list\n",
      "51595  added to list\n",
      "51105  added to list\n",
      "51159  added to list\n",
      "51730  added to list\n",
      "51195  added to list\n",
      "51161  added to list\n",
      "51157  added to list\n",
      "51103  added to list\n",
      "51135  added to list\n",
      "51790  added to list\n",
      "51720  added to list\n",
      "51149  added to list\n",
      "51171  added to list\n",
      "51185  added to list\n",
      "51147  added to list\n",
      "51570  added to list\n",
      "51113  added to list\n",
      "51125  added to list\n",
      "51141  added to list\n",
      "51710  added to list\n",
      "51179  added to list\n",
      "51177  added to list\n",
      "51183  added to list\n",
      "51775  added to list\n",
      "51540  added to list\n",
      "51115  added to list\n",
      "51093  added to list\n",
      "51067  added to list\n",
      "51600  added to list\n",
      "51069  added to list\n",
      "51051  added to list\n",
      "51005  added to list\n",
      "51830  added to list\n",
      "51033  added to list\n",
      "51057  added to list\n",
      "51095  added to list\n",
      "51061  added to list\n",
      "51630  added to list\n",
      "51059  added to list\n",
      "51690  added to list\n",
      "51035  added to list\n",
      "51800  added to list\n",
      "51003  added to list\n",
      "51670  added to list\n",
      "51019  added to list\n",
      "51683  added to list\n",
      "51021  added to list\n",
      "51017  added to list\n",
      "51840  added to list\n",
      "51043  added to list\n",
      "51081  added to list\n",
      "51075  added to list\n",
      "51011  added to list\n",
      "51678  added to list\n",
      "51640  added to list\n",
      "51029  added to list\n",
      "51685  added to list\n",
      "51027  added to list\n",
      "51087  added to list\n",
      "51073  added to list\n",
      "51089  added to list\n",
      "51045  added to list\n",
      "51137  added to list\n",
      "51750  added to list\n",
      "51139  added to list\n",
      "51101  added to list\n",
      "51155  added to list\n",
      "51199  added to list\n",
      "51163  added to list\n",
      "51735  added to list\n",
      "51197  added to list\n",
      "51590  added to list\n",
      "51107  added to list\n",
      "51131  added to list\n",
      "51760  added to list\n",
      "51109  added to list\n",
      "51165  added to list\n",
      "51191  added to list\n",
      "51153  added to list\n",
      "51530  added to list\n"
     ]
    }
   ],
   "source": [
    "county_vtds = []\n",
    "\n",
    "for i in county_fips: #i dont have fips_codes file\n",
    "    ref = './vest_va/census_shps_by_county_all_unzip/partnership_shapefiles_19v2_'\n",
    "    vtd_ref = ref + i + '/PVS_19_v2_vtd_' + i + '.shp' \n",
    "    vtd_shp = gpd.read_file(vtd_ref)\n",
    "    print(i, ' added to list')\n",
    "    county_vtds.append(vtd_shp)"
   ]
  },
  {
   "cell_type": "code",
   "execution_count": 69,
   "metadata": {},
   "outputs": [],
   "source": [
    "global shp_vtd\n",
    "shp_vtd = gpd.GeoDataFrame(pd.concat(county_vtds, axis = 0) , crs = proj) "
   ]
  },
  {
   "cell_type": "code",
   "execution_count": 70,
   "metadata": {},
   "outputs": [
    {
     "data": {
      "text/plain": [
       "'/Users/peterhorton/Documents/RDH/pdv/pdv-va/vest-va-2018'"
      ]
     },
     "execution_count": 70,
     "metadata": {},
     "output_type": "execute_result"
    }
   ],
   "source": [
    "pwd"
   ]
  },
  {
   "cell_type": "code",
   "execution_count": 71,
   "metadata": {
    "jupyter": {
     "outputs_hidden": true
    }
   },
   "outputs": [
    {
     "name": "stdout",
     "output_type": "stream",
     "text": [
      "51580  added to list\n",
      "51117  added to list\n",
      "51121  added to list\n",
      "51119  added to list\n",
      "51770  added to list\n",
      "51181  added to list\n",
      "51175  added to list\n",
      "51143  added to list\n",
      "51520  added to list\n",
      "51127  added to list\n",
      "51740  added to list\n",
      "51111  added to list\n",
      "51145  added to list\n",
      "51510  added to list\n",
      "51187  added to list\n",
      "51173  added to list\n",
      "51001  added to list\n",
      "51650  added to list\n",
      "51037  added to list\n",
      "51063  added to list\n",
      "51097  added to list\n",
      "51099  added to list\n",
      "51009  added to list\n",
      "51660  added to list\n",
      "51036  added to list\n",
      "51031  added to list\n",
      "51007  added to list\n",
      "51053  added to list\n",
      "51065  added to list\n",
      "51091  added to list\n",
      "51047  added to list\n",
      "51071  added to list\n",
      "51085  added to list\n",
      "51049  added to list\n",
      "51620  added to list\n",
      "51680  added to list\n",
      "51025  added to list\n",
      "51013  added to list\n",
      "51810  added to list\n",
      "51077  added to list\n",
      "51083  added to list\n",
      "51079  added to list\n",
      "51610  added to list\n",
      "51041  added to list\n",
      "51015  added to list\n",
      "51023  added to list\n",
      "51820  added to list\n",
      "51169  added to list\n",
      "51700  added to list\n",
      "51193  added to list\n",
      "51167  added to list\n",
      "51133  added to list\n",
      "51550  added to list\n",
      "51595  added to list\n",
      "51105  added to list\n",
      "51159  added to list\n",
      "51730  added to list\n",
      "51195  added to list\n",
      "51161  added to list\n",
      "51157  added to list\n",
      "51103  added to list\n",
      "51135  added to list\n",
      "51790  added to list\n",
      "51720  added to list\n",
      "51149  added to list\n",
      "51171  added to list\n",
      "51185  added to list\n",
      "51147  added to list\n",
      "51570  added to list\n",
      "51113  added to list\n",
      "51125  added to list\n",
      "51141  added to list\n",
      "51710  added to list\n",
      "51179  added to list\n",
      "51177  added to list\n",
      "51183  added to list\n",
      "51775  added to list\n",
      "51540  added to list\n",
      "51115  added to list\n",
      "51093  added to list\n",
      "51067  added to list\n",
      "51600  added to list\n",
      "51069  added to list\n",
      "51051  added to list\n",
      "51005  added to list\n",
      "51830  added to list\n",
      "51033  added to list\n",
      "51057  added to list\n",
      "51095  added to list\n",
      "51061  added to list\n",
      "51630  added to list\n",
      "51059  added to list\n",
      "51690  added to list\n",
      "51035  added to list\n",
      "51800  added to list\n",
      "51003  added to list\n",
      "51670  added to list\n",
      "51019  added to list\n",
      "51683  added to list\n",
      "51021  added to list\n",
      "51017  added to list\n",
      "51840  added to list\n",
      "51043  added to list\n",
      "51081  added to list\n",
      "51075  added to list\n",
      "51011  added to list\n",
      "51678  added to list\n",
      "51640  added to list\n",
      "51029  added to list\n",
      "51685  added to list\n",
      "51027  added to list\n",
      "51087  added to list\n",
      "51073  added to list\n",
      "51089  added to list\n",
      "51045  added to list\n",
      "51137  added to list\n",
      "51750  added to list\n",
      "51139  added to list\n",
      "51101  added to list\n",
      "51155  added to list\n",
      "51199  added to list\n",
      "51163  added to list\n",
      "51735  added to list\n",
      "51197  added to list\n",
      "51590  added to list\n",
      "51107  added to list\n",
      "51131  added to list\n",
      "51760  added to list\n",
      "51109  added to list\n",
      "51165  added to list\n",
      "51191  added to list\n",
      "51153  added to list\n",
      "51530  added to list\n"
     ]
    }
   ],
   "source": [
    "county_sldl = []\n",
    "\n",
    "for i in county_fips: #i dont have fips_codes file\n",
    "    ref = './vest_va/census_shps_by_county_all_unzip/partnership_shapefiles_19v2_'\n",
    "    sldl_ref = ref + i + '/PVS_19_v2_sldl_' + i + '.shp' #PVS_19_v2_sldl_51650\n",
    "    sldl_shp = gpd.read_file(sldl_ref)\n",
    "    print(i, ' added to list')\n",
    "    county_sldl.append(sldl_shp)"
   ]
  },
  {
   "cell_type": "code",
   "execution_count": 72,
   "metadata": {},
   "outputs": [],
   "source": [
    "global shp_sldl\n",
    "shp_sldl = gpd.GeoDataFrame(pd.concat(county_sldl, axis = 0) , crs = proj) "
   ]
  },
  {
   "cell_type": "code",
   "execution_count": 73,
   "metadata": {},
   "outputs": [
    {
     "data": {
      "text/plain": [
       "<AxesSubplot:>"
      ]
     },
     "execution_count": 73,
     "metadata": {},
     "output_type": "execute_result"
    },
    {
     "data": {
      "image/png": "[encoded data removed]",
      "text/plain": [
       "<Figure size 432x288 with 1 Axes>"
      ]
     },
     "metadata": {
      "needs_background": "light"
     },
     "output_type": "display_data"
    }
   ],
   "source": [
    "shp_sldl.plot()"
   ]
  },
  {
   "cell_type": "code",
   "execution_count": 74,
   "metadata": {},
   "outputs": [],
   "source": [
    "overlay = gpd.overlay(shp_sldl, shp_vtd, how='intersection', make_valid=True, keep_geom_type=True)"
   ]
  },
  {
   "cell_type": "code",
   "execution_count": 75,
   "metadata": {},
   "outputs": [
    {
     "data": {
      "text/plain": [
       "<AxesSubplot:>"
      ]
     },
     "execution_count": 75,
     "metadata": {},
     "output_type": "execute_result"
    },
    {
     "data": {
      "image/png": "[encoded data removed]",
      "text/plain": [
       "<Figure size 432x288 with 1 Axes>"
      ]
     },
     "metadata": {
      "needs_background": "light"
     },
     "output_type": "display_data"
    }
   ],
   "source": [
    "overlay.plot()"
   ]
  },
  {
   "cell_type": "code",
   "execution_count": 76,
   "metadata": {},
   "outputs": [
    {
     "data": {
      "text/plain": [
       "Index(['STATEFP_1', 'COUNTYFP_1', 'SLDLST', 'NAMELSAD_1', 'LSAD_1', 'PARTFLG',\n",
       "       'CHNG_TYPE_1', 'EFF_DATE', 'NEW_NAME', 'NEW_CODE', 'RELTYPE1',\n",
       "       'RELTYPE2', 'RELTYPE3', 'RELTYPE4', 'RELTYPE5', 'REL_ENT1', 'REL_ENT2',\n",
       "       'REL_ENT3', 'REL_ENT4', 'REL_ENT5', 'RELATE_1', 'JUSTIFY_1', 'LSY',\n",
       "       'NAME_1', 'VINTAGE_1', 'FUNCSTAT_1', 'STATEFP_2', 'COUNTYFP_2', 'VTDST',\n",
       "       'NAMELSAD_2', 'VTDI', 'LSAD_2', 'CHNG_TYPE_2', 'ORIG_NAME', 'ORIG_CODE',\n",
       "       'RELATE_2', 'NAME_2', 'VINTAGE_2', 'FUNCSTAT_2', 'JUSTIFY_2', 'MTFCC',\n",
       "       'geometry'],\n",
       "      dtype='object')"
      ]
     },
     "execution_count": 76,
     "metadata": {},
     "output_type": "execute_result"
    }
   ],
   "source": [
    "overlay.columns"
   ]
  },
  {
   "cell_type": "code",
   "execution_count": 77,
   "metadata": {},
   "outputs": [],
   "source": [
    "shp = overlay[(overlay.SLDLST == '008') | (overlay.SLDLST == '024')]"
   ]
  },
  {
   "cell_type": "code",
   "execution_count": 78,
   "metadata": {},
   "outputs": [
    {
     "data": {
      "text/plain": [
       "<AxesSubplot:>"
      ]
     },
     "execution_count": 78,
     "metadata": {},
     "output_type": "execute_result"
    },
    {
     "data": {
      "image/png": "[encoded data removed]",
      "text/plain": [
       "<Figure size 432x288 with 1 Axes>"
      ]
     },
     "metadata": {
      "needs_background": "light"
     },
     "output_type": "display_data"
    }
   ],
   "source": [
    "shp.plot()"
   ]
  },
  {
   "cell_type": "code",
   "execution_count": 79,
   "metadata": {},
   "outputs": [
    {
     "data": {
      "text/plain": [
       "<AxesSubplot:>"
      ]
     },
     "execution_count": 79,
     "metadata": {},
     "output_type": "execute_result"
    },
    {
     "data": {
      "image/png": "[encoded data removed]",
      "text/plain": [
       "<Figure size 432x288 with 1 Axes>"
      ]
     },
     "metadata": {
      "needs_background": "light"
     },
     "output_type": "display_data"
    }
   ],
   "source": [
    "final.plot()"
   ]
  },
  {
   "cell_type": "code",
   "execution_count": 80,
   "metadata": {},
   "outputs": [
    {
     "data": {
      "text/plain": [
       "(80, 42)"
      ]
     },
     "execution_count": 80,
     "metadata": {},
     "output_type": "execute_result"
    }
   ],
   "source": [
    "shp.shape"
   ]
  },
  {
   "cell_type": "code",
   "execution_count": 81,
   "metadata": {},
   "outputs": [
    {
     "data": {
      "text/plain": [
       "(79, 10)"
      ]
     },
     "execution_count": 81,
     "metadata": {},
     "output_type": "execute_result"
    }
   ],
   "source": [
    "final.shape"
   ]
  },
  {
   "cell_type": "code",
   "execution_count": 82,
   "metadata": {},
   "outputs": [
    {
     "data": {
      "text/html": [
       "<div>\n",
       "<style scoped>\n",
       "    .dataframe tbody tr th:only-of-type {\n",
       "        vertical-align: middle;\n",
       "    }\n",
       "\n",
       "    .dataframe tbody tr th {\n",
       "        vertical-align: top;\n",
       "    }\n",
       "\n",
       "    .dataframe thead th {\n",
       "        text-align: right;\n",
       "    }\n",
       "</style>\n",
       "<table border=\"1\" class=\"dataframe\">\n",
       "  <thead>\n",
       "    <tr style=\"text-align: right;\">\n",
       "      <th></th>\n",
       "      <th>STATEFP_1</th>\n",
       "      <th>COUNTYFP_1</th>\n",
       "      <th>SLDLST</th>\n",
       "      <th>NAMELSAD_1</th>\n",
       "      <th>LSAD_1</th>\n",
       "      <th>PARTFLG</th>\n",
       "      <th>CHNG_TYPE_1</th>\n",
       "      <th>EFF_DATE</th>\n",
       "      <th>NEW_NAME</th>\n",
       "      <th>NEW_CODE</th>\n",
       "      <th>...</th>\n",
       "      <th>CHNG_TYPE_2</th>\n",
       "      <th>ORIG_NAME</th>\n",
       "      <th>ORIG_CODE</th>\n",
       "      <th>RELATE_2</th>\n",
       "      <th>NAME_2</th>\n",
       "      <th>VINTAGE_2</th>\n",
       "      <th>FUNCSTAT_2</th>\n",
       "      <th>JUSTIFY_2</th>\n",
       "      <th>MTFCC</th>\n",
       "      <th>geometry</th>\n",
       "    </tr>\n",
       "  </thead>\n",
       "  <tbody>\n",
       "    <tr>\n",
       "      <th>47</th>\n",
       "      <td>51</td>\n",
       "      <td>121</td>\n",
       "      <td>008</td>\n",
       "      <td>State House District 8</td>\n",
       "      <td>LL</td>\n",
       "      <td>Y</td>\n",
       "      <td>None</td>\n",
       "      <td>None</td>\n",
       "      <td>None</td>\n",
       "      <td>None</td>\n",
       "      <td>...</td>\n",
       "      <td>None</td>\n",
       "      <td>None</td>\n",
       "      <td>None</td>\n",
       "      <td>None</td>\n",
       "      <td>A-1</td>\n",
       "      <td>90</td>\n",
       "      <td>N</td>\n",
       "      <td>None</td>\n",
       "      <td>G5240</td>\n",
       "      <td>POLYGON Z ((-80.33861 37.22832 0.00000, -80.33...</td>\n",
       "    </tr>\n",
       "    <tr>\n",
       "      <th>54</th>\n",
       "      <td>51</td>\n",
       "      <td>121</td>\n",
       "      <td>008</td>\n",
       "      <td>State House District 8</td>\n",
       "      <td>LL</td>\n",
       "      <td>Y</td>\n",
       "      <td>None</td>\n",
       "      <td>None</td>\n",
       "      <td>None</td>\n",
       "      <td>None</td>\n",
       "      <td>...</td>\n",
       "      <td>None</td>\n",
       "      <td>None</td>\n",
       "      <td>None</td>\n",
       "      <td>None</td>\n",
       "      <td>B-2</td>\n",
       "      <td>90</td>\n",
       "      <td>N</td>\n",
       "      <td>None</td>\n",
       "      <td>G5240</td>\n",
       "      <td>POLYGON Z ((-80.40208 37.12368 0.00000, -80.40...</td>\n",
       "    </tr>\n",
       "    <tr>\n",
       "      <th>56</th>\n",
       "      <td>51</td>\n",
       "      <td>121</td>\n",
       "      <td>008</td>\n",
       "      <td>State House District 8</td>\n",
       "      <td>LL</td>\n",
       "      <td>Y</td>\n",
       "      <td>None</td>\n",
       "      <td>None</td>\n",
       "      <td>None</td>\n",
       "      <td>None</td>\n",
       "      <td>...</td>\n",
       "      <td>None</td>\n",
       "      <td>None</td>\n",
       "      <td>None</td>\n",
       "      <td>None</td>\n",
       "      <td>C-1</td>\n",
       "      <td>90</td>\n",
       "      <td>N</td>\n",
       "      <td>None</td>\n",
       "      <td>G5240</td>\n",
       "      <td>POLYGON Z ((-80.19748 37.10620 0.00000, -80.19...</td>\n",
       "    </tr>\n",
       "    <tr>\n",
       "      <th>57</th>\n",
       "      <td>51</td>\n",
       "      <td>121</td>\n",
       "      <td>008</td>\n",
       "      <td>State House District 8</td>\n",
       "      <td>LL</td>\n",
       "      <td>Y</td>\n",
       "      <td>None</td>\n",
       "      <td>None</td>\n",
       "      <td>None</td>\n",
       "      <td>None</td>\n",
       "      <td>...</td>\n",
       "      <td>None</td>\n",
       "      <td>None</td>\n",
       "      <td>None</td>\n",
       "      <td>None</td>\n",
       "      <td>C-3</td>\n",
       "      <td>90</td>\n",
       "      <td>N</td>\n",
       "      <td>None</td>\n",
       "      <td>G5240</td>\n",
       "      <td>POLYGON Z ((-80.31232 37.20143 0.00000, -80.31...</td>\n",
       "    </tr>\n",
       "    <tr>\n",
       "      <th>59</th>\n",
       "      <td>51</td>\n",
       "      <td>121</td>\n",
       "      <td>008</td>\n",
       "      <td>State House District 8</td>\n",
       "      <td>LL</td>\n",
       "      <td>Y</td>\n",
       "      <td>None</td>\n",
       "      <td>None</td>\n",
       "      <td>None</td>\n",
       "      <td>None</td>\n",
       "      <td>...</td>\n",
       "      <td>None</td>\n",
       "      <td>None</td>\n",
       "      <td>None</td>\n",
       "      <td>None</td>\n",
       "      <td>C-4</td>\n",
       "      <td>90</td>\n",
       "      <td>N</td>\n",
       "      <td>None</td>\n",
       "      <td>G5240</td>\n",
       "      <td>POLYGON Z ((-80.29725 37.16324 0.00000, -80.29...</td>\n",
       "    </tr>\n",
       "  </tbody>\n",
       "</table>\n",
       "<p>5 rows × 42 columns</p>\n",
       "</div>"
      ],
      "text/plain": [
       "   STATEFP_1 COUNTYFP_1 SLDLST              NAMELSAD_1 LSAD_1 PARTFLG  \\\n",
       "47        51        121    008  State House District 8     LL       Y   \n",
       "54        51        121    008  State House District 8     LL       Y   \n",
       "56        51        121    008  State House District 8     LL       Y   \n",
       "57        51        121    008  State House District 8     LL       Y   \n",
       "59        51        121    008  State House District 8     LL       Y   \n",
       "\n",
       "   CHNG_TYPE_1 EFF_DATE NEW_NAME NEW_CODE  ... CHNG_TYPE_2 ORIG_NAME  \\\n",
       "47        None     None     None     None  ...        None      None   \n",
       "54        None     None     None     None  ...        None      None   \n",
       "56        None     None     None     None  ...        None      None   \n",
       "57        None     None     None     None  ...        None      None   \n",
       "59        None     None     None     None  ...        None      None   \n",
       "\n",
       "   ORIG_CODE RELATE_2 NAME_2 VINTAGE_2 FUNCSTAT_2 JUSTIFY_2  MTFCC  \\\n",
       "47      None     None    A-1        90          N      None  G5240   \n",
       "54      None     None    B-2        90          N      None  G5240   \n",
       "56      None     None    C-1        90          N      None  G5240   \n",
       "57      None     None    C-3        90          N      None  G5240   \n",
       "59      None     None    C-4        90          N      None  G5240   \n",
       "\n",
       "                                             geometry  \n",
       "47  POLYGON Z ((-80.33861 37.22832 0.00000, -80.33...  \n",
       "54  POLYGON Z ((-80.40208 37.12368 0.00000, -80.40...  \n",
       "56  POLYGON Z ((-80.19748 37.10620 0.00000, -80.19...  \n",
       "57  POLYGON Z ((-80.31232 37.20143 0.00000, -80.31...  \n",
       "59  POLYGON Z ((-80.29725 37.16324 0.00000, -80.29...  \n",
       "\n",
       "[5 rows x 42 columns]"
      ]
     },
     "execution_count": 82,
     "metadata": {},
     "output_type": "execute_result"
    }
   ],
   "source": [
    "shp.head()"
   ]
  },
  {
   "cell_type": "code",
   "execution_count": 83,
   "metadata": {},
   "outputs": [
    {
     "data": {
      "text/plain": [
       "Index(['STATEFP_1', 'COUNTYFP_1', 'SLDLST', 'NAMELSAD_1', 'LSAD_1', 'PARTFLG',\n",
       "       'CHNG_TYPE_1', 'EFF_DATE', 'NEW_NAME', 'NEW_CODE', 'RELTYPE1',\n",
       "       'RELTYPE2', 'RELTYPE3', 'RELTYPE4', 'RELTYPE5', 'REL_ENT1', 'REL_ENT2',\n",
       "       'REL_ENT3', 'REL_ENT4', 'REL_ENT5', 'RELATE_1', 'JUSTIFY_1', 'LSY',\n",
       "       'NAME_1', 'VINTAGE_1', 'FUNCSTAT_1', 'STATEFP_2', 'COUNTYFP_2', 'VTDST',\n",
       "       'NAMELSAD_2', 'VTDI', 'LSAD_2', 'CHNG_TYPE_2', 'ORIG_NAME', 'ORIG_CODE',\n",
       "       'RELATE_2', 'NAME_2', 'VINTAGE_2', 'FUNCSTAT_2', 'JUSTIFY_2', 'MTFCC',\n",
       "       'geometry'],\n",
       "      dtype='object')"
      ]
     },
     "execution_count": 83,
     "metadata": {},
     "output_type": "execute_result"
    }
   ],
   "source": [
    "shp.columns"
   ]
  },
  {
   "cell_type": "code",
   "execution_count": 84,
   "metadata": {},
   "outputs": [
    {
     "data": {
      "text/plain": [
       "1"
      ]
     },
     "execution_count": 84,
     "metadata": {},
     "output_type": "execute_result"
    }
   ],
   "source": [
    "len(set(shp.COUNTYFP_1 + shp.VTDST.str.slice(start = 3)) - set(final.COUNTYFP + final.VTDST.str.slice(start = 3)))"
   ]
  },
  {
   "cell_type": "code",
   "execution_count": 85,
   "metadata": {},
   "outputs": [
    {
     "data": {
      "text/plain": [
       "0"
      ]
     },
     "execution_count": 85,
     "metadata": {},
     "output_type": "execute_result"
    }
   ],
   "source": [
    "len(set(final.COUNTYFP + final.VTDST.str.slice(start = 3)) - set(shp.COUNTYFP_1 + shp.VTDST.str.slice(start = 3)))"
   ]
  },
  {
   "cell_type": "code",
   "execution_count": 86,
   "metadata": {},
   "outputs": [
    {
     "name": "stderr",
     "output_type": "stream",
     "text": [
      "/Users/peterhorton/opt/anaconda3/envs/geo_env/lib/python3.9/site-packages/geopandas/geodataframe.py:1322: SettingWithCopyWarning: \n",
      "A value is trying to be set on a copy of a slice from a DataFrame.\n",
      "Try using .loc[row_indexer,col_indexer] = value instead\n",
      "\n",
      "See the caveats in the documentation: https://pandas.pydata.org/pandas-docs/stable/user_guide/indexing.html#returning-a-view-versus-a-copy\n",
      "  super(GeoDataFrame, self).__setitem__(key, value)\n"
     ]
    }
   ],
   "source": [
    "shp['unique_id'] = shp['COUNTYFP_1'] + shp['VTDST'].str.slice(start = 3)"
   ]
  },
  {
   "cell_type": "markdown",
   "metadata": {},
   "source": [
    "## Join election results and shapefile"
   ]
  },
  {
   "cell_type": "code",
   "execution_count": 87,
   "metadata": {},
   "outputs": [
    {
     "data": {
      "text/plain": [
       "<AxesSubplot:>"
      ]
     },
     "execution_count": 87,
     "metadata": {},
     "output_type": "execute_result"
    },
    {
     "data": {
      "image/png": "[encoded data removed]",
      "text/plain": [
       "<Figure size 432x288 with 1 Axes>"
      ]
     },
     "metadata": {
      "needs_background": "light"
     },
     "output_type": "display_data"
    }
   ],
   "source": [
    "join = gpd.GeoDataFrame(pd.merge(df_with_absentee_reallocated, shp, on = 'unique_id', how = 'inner'), crs = proj)\n",
    "join.plot()"
   ]
  },
  {
   "cell_type": "code",
   "execution_count": 88,
   "metadata": {},
   "outputs": [
    {
     "data": {
      "text/html": [
       "<div>\n",
       "<style scoped>\n",
       "    .dataframe tbody tr th:only-of-type {\n",
       "        vertical-align: middle;\n",
       "    }\n",
       "\n",
       "    .dataframe tbody tr th {\n",
       "        vertical-align: top;\n",
       "    }\n",
       "\n",
       "    .dataframe thead th {\n",
       "        text-align: right;\n",
       "    }\n",
       "</style>\n",
       "<table border=\"1\" class=\"dataframe\">\n",
       "  <thead>\n",
       "    <tr style=\"text-align: right;\">\n",
       "      <th></th>\n",
       "      <th>STATEFP_1</th>\n",
       "      <th>COUNTYFP_1</th>\n",
       "      <th>SLDLST</th>\n",
       "      <th>NAMELSAD_1</th>\n",
       "      <th>LSAD_1</th>\n",
       "      <th>PARTFLG</th>\n",
       "      <th>CHNG_TYPE_1</th>\n",
       "      <th>EFF_DATE</th>\n",
       "      <th>NEW_NAME</th>\n",
       "      <th>NEW_CODE</th>\n",
       "      <th>...</th>\n",
       "      <th>ORIG_NAME</th>\n",
       "      <th>ORIG_CODE</th>\n",
       "      <th>RELATE_2</th>\n",
       "      <th>NAME_2</th>\n",
       "      <th>VINTAGE_2</th>\n",
       "      <th>FUNCSTAT_2</th>\n",
       "      <th>JUSTIFY_2</th>\n",
       "      <th>MTFCC</th>\n",
       "      <th>geometry</th>\n",
       "      <th>unique_id</th>\n",
       "    </tr>\n",
       "  </thead>\n",
       "  <tbody>\n",
       "    <tr>\n",
       "      <th>47</th>\n",
       "      <td>51</td>\n",
       "      <td>121</td>\n",
       "      <td>008</td>\n",
       "      <td>State House District 8</td>\n",
       "      <td>LL</td>\n",
       "      <td>Y</td>\n",
       "      <td>None</td>\n",
       "      <td>None</td>\n",
       "      <td>None</td>\n",
       "      <td>None</td>\n",
       "      <td>...</td>\n",
       "      <td>None</td>\n",
       "      <td>None</td>\n",
       "      <td>None</td>\n",
       "      <td>A-1</td>\n",
       "      <td>90</td>\n",
       "      <td>N</td>\n",
       "      <td>None</td>\n",
       "      <td>G5240</td>\n",
       "      <td>POLYGON Z ((-80.33861 37.22832 0.00000, -80.33...</td>\n",
       "      <td>121101</td>\n",
       "    </tr>\n",
       "    <tr>\n",
       "      <th>54</th>\n",
       "      <td>51</td>\n",
       "      <td>121</td>\n",
       "      <td>008</td>\n",
       "      <td>State House District 8</td>\n",
       "      <td>LL</td>\n",
       "      <td>Y</td>\n",
       "      <td>None</td>\n",
       "      <td>None</td>\n",
       "      <td>None</td>\n",
       "      <td>None</td>\n",
       "      <td>...</td>\n",
       "      <td>None</td>\n",
       "      <td>None</td>\n",
       "      <td>None</td>\n",
       "      <td>B-2</td>\n",
       "      <td>90</td>\n",
       "      <td>N</td>\n",
       "      <td>None</td>\n",
       "      <td>G5240</td>\n",
       "      <td>POLYGON Z ((-80.40208 37.12368 0.00000, -80.40...</td>\n",
       "      <td>121202</td>\n",
       "    </tr>\n",
       "    <tr>\n",
       "      <th>56</th>\n",
       "      <td>51</td>\n",
       "      <td>121</td>\n",
       "      <td>008</td>\n",
       "      <td>State House District 8</td>\n",
       "      <td>LL</td>\n",
       "      <td>Y</td>\n",
       "      <td>None</td>\n",
       "      <td>None</td>\n",
       "      <td>None</td>\n",
       "      <td>None</td>\n",
       "      <td>...</td>\n",
       "      <td>None</td>\n",
       "      <td>None</td>\n",
       "      <td>None</td>\n",
       "      <td>C-1</td>\n",
       "      <td>90</td>\n",
       "      <td>N</td>\n",
       "      <td>None</td>\n",
       "      <td>G5240</td>\n",
       "      <td>POLYGON Z ((-80.19748 37.10620 0.00000, -80.19...</td>\n",
       "      <td>121301</td>\n",
       "    </tr>\n",
       "    <tr>\n",
       "      <th>57</th>\n",
       "      <td>51</td>\n",
       "      <td>121</td>\n",
       "      <td>008</td>\n",
       "      <td>State House District 8</td>\n",
       "      <td>LL</td>\n",
       "      <td>Y</td>\n",
       "      <td>None</td>\n",
       "      <td>None</td>\n",
       "      <td>None</td>\n",
       "      <td>None</td>\n",
       "      <td>...</td>\n",
       "      <td>None</td>\n",
       "      <td>None</td>\n",
       "      <td>None</td>\n",
       "      <td>C-3</td>\n",
       "      <td>90</td>\n",
       "      <td>N</td>\n",
       "      <td>None</td>\n",
       "      <td>G5240</td>\n",
       "      <td>POLYGON Z ((-80.31232 37.20143 0.00000, -80.31...</td>\n",
       "      <td>121303</td>\n",
       "    </tr>\n",
       "    <tr>\n",
       "      <th>59</th>\n",
       "      <td>51</td>\n",
       "      <td>121</td>\n",
       "      <td>008</td>\n",
       "      <td>State House District 8</td>\n",
       "      <td>LL</td>\n",
       "      <td>Y</td>\n",
       "      <td>None</td>\n",
       "      <td>None</td>\n",
       "      <td>None</td>\n",
       "      <td>None</td>\n",
       "      <td>...</td>\n",
       "      <td>None</td>\n",
       "      <td>None</td>\n",
       "      <td>None</td>\n",
       "      <td>C-4</td>\n",
       "      <td>90</td>\n",
       "      <td>N</td>\n",
       "      <td>None</td>\n",
       "      <td>G5240</td>\n",
       "      <td>POLYGON Z ((-80.29725 37.16324 0.00000, -80.29...</td>\n",
       "      <td>121304</td>\n",
       "    </tr>\n",
       "    <tr>\n",
       "      <th>...</th>\n",
       "      <td>...</td>\n",
       "      <td>...</td>\n",
       "      <td>...</td>\n",
       "      <td>...</td>\n",
       "      <td>...</td>\n",
       "      <td>...</td>\n",
       "      <td>...</td>\n",
       "      <td>...</td>\n",
       "      <td>...</td>\n",
       "      <td>...</td>\n",
       "      <td>...</td>\n",
       "      <td>...</td>\n",
       "      <td>...</td>\n",
       "      <td>...</td>\n",
       "      <td>...</td>\n",
       "      <td>...</td>\n",
       "      <td>...</td>\n",
       "      <td>...</td>\n",
       "      <td>...</td>\n",
       "      <td>...</td>\n",
       "      <td>...</td>\n",
       "    </tr>\n",
       "    <tr>\n",
       "      <th>2573</th>\n",
       "      <td>51</td>\n",
       "      <td>163</td>\n",
       "      <td>024</td>\n",
       "      <td>State House District 24</td>\n",
       "      <td>LL</td>\n",
       "      <td>Y</td>\n",
       "      <td>None</td>\n",
       "      <td>None</td>\n",
       "      <td>None</td>\n",
       "      <td>None</td>\n",
       "      <td>...</td>\n",
       "      <td>None</td>\n",
       "      <td>None</td>\n",
       "      <td>None</td>\n",
       "      <td>Falling Spring</td>\n",
       "      <td>90</td>\n",
       "      <td>N</td>\n",
       "      <td>None</td>\n",
       "      <td>G5240</td>\n",
       "      <td>POLYGON Z ((-79.53720 37.65510 0.00000, -79.53...</td>\n",
       "      <td>163303</td>\n",
       "    </tr>\n",
       "    <tr>\n",
       "      <th>2574</th>\n",
       "      <td>51</td>\n",
       "      <td>163</td>\n",
       "      <td>024</td>\n",
       "      <td>State House District 24</td>\n",
       "      <td>LL</td>\n",
       "      <td>Y</td>\n",
       "      <td>None</td>\n",
       "      <td>None</td>\n",
       "      <td>None</td>\n",
       "      <td>None</td>\n",
       "      <td>...</td>\n",
       "      <td>None</td>\n",
       "      <td>None</td>\n",
       "      <td>None</td>\n",
       "      <td>Fairfield</td>\n",
       "      <td>90</td>\n",
       "      <td>N</td>\n",
       "      <td>None</td>\n",
       "      <td>G5240</td>\n",
       "      <td>POLYGON Z ((-79.36851 37.84122 0.00000, -79.36...</td>\n",
       "      <td>163401</td>\n",
       "    </tr>\n",
       "    <tr>\n",
       "      <th>2575</th>\n",
       "      <td>51</td>\n",
       "      <td>163</td>\n",
       "      <td>024</td>\n",
       "      <td>State House District 24</td>\n",
       "      <td>LL</td>\n",
       "      <td>Y</td>\n",
       "      <td>None</td>\n",
       "      <td>None</td>\n",
       "      <td>None</td>\n",
       "      <td>None</td>\n",
       "      <td>...</td>\n",
       "      <td>None</td>\n",
       "      <td>None</td>\n",
       "      <td>None</td>\n",
       "      <td>Meadowview</td>\n",
       "      <td>90</td>\n",
       "      <td>N</td>\n",
       "      <td>None</td>\n",
       "      <td>G5240</td>\n",
       "      <td>POLYGON Z ((-79.42562 37.81665 0.00000, -79.42...</td>\n",
       "      <td>163502</td>\n",
       "    </tr>\n",
       "    <tr>\n",
       "      <th>2576</th>\n",
       "      <td>51</td>\n",
       "      <td>530</td>\n",
       "      <td>024</td>\n",
       "      <td>State House District 24</td>\n",
       "      <td>LL</td>\n",
       "      <td>Y</td>\n",
       "      <td>None</td>\n",
       "      <td>None</td>\n",
       "      <td>None</td>\n",
       "      <td>None</td>\n",
       "      <td>...</td>\n",
       "      <td>None</td>\n",
       "      <td>None</td>\n",
       "      <td>None</td>\n",
       "      <td>First Ward</td>\n",
       "      <td>90</td>\n",
       "      <td>N</td>\n",
       "      <td>None</td>\n",
       "      <td>G5240</td>\n",
       "      <td>POLYGON Z ((-79.33977 37.73184 0.00000, -79.33...</td>\n",
       "      <td>530001</td>\n",
       "    </tr>\n",
       "    <tr>\n",
       "      <th>2577</th>\n",
       "      <td>51</td>\n",
       "      <td>530</td>\n",
       "      <td>024</td>\n",
       "      <td>State House District 24</td>\n",
       "      <td>LL</td>\n",
       "      <td>Y</td>\n",
       "      <td>None</td>\n",
       "      <td>None</td>\n",
       "      <td>None</td>\n",
       "      <td>None</td>\n",
       "      <td>...</td>\n",
       "      <td>None</td>\n",
       "      <td>None</td>\n",
       "      <td>None</td>\n",
       "      <td>Second Ward</td>\n",
       "      <td>90</td>\n",
       "      <td>N</td>\n",
       "      <td>None</td>\n",
       "      <td>G5240</td>\n",
       "      <td>POLYGON Z ((-79.38113 37.74235 0.00000, -79.38...</td>\n",
       "      <td>530002</td>\n",
       "    </tr>\n",
       "  </tbody>\n",
       "</table>\n",
       "<p>80 rows × 43 columns</p>\n",
       "</div>"
      ],
      "text/plain": [
       "     STATEFP_1 COUNTYFP_1 SLDLST               NAMELSAD_1 LSAD_1 PARTFLG  \\\n",
       "47          51        121    008   State House District 8     LL       Y   \n",
       "54          51        121    008   State House District 8     LL       Y   \n",
       "56          51        121    008   State House District 8     LL       Y   \n",
       "57          51        121    008   State House District 8     LL       Y   \n",
       "59          51        121    008   State House District 8     LL       Y   \n",
       "...        ...        ...    ...                      ...    ...     ...   \n",
       "2573        51        163    024  State House District 24     LL       Y   \n",
       "2574        51        163    024  State House District 24     LL       Y   \n",
       "2575        51        163    024  State House District 24     LL       Y   \n",
       "2576        51        530    024  State House District 24     LL       Y   \n",
       "2577        51        530    024  State House District 24     LL       Y   \n",
       "\n",
       "     CHNG_TYPE_1 EFF_DATE NEW_NAME NEW_CODE  ... ORIG_NAME ORIG_CODE RELATE_2  \\\n",
       "47          None     None     None     None  ...      None      None     None   \n",
       "54          None     None     None     None  ...      None      None     None   \n",
       "56          None     None     None     None  ...      None      None     None   \n",
       "57          None     None     None     None  ...      None      None     None   \n",
       "59          None     None     None     None  ...      None      None     None   \n",
       "...          ...      ...      ...      ...  ...       ...       ...      ...   \n",
       "2573        None     None     None     None  ...      None      None     None   \n",
       "2574        None     None     None     None  ...      None      None     None   \n",
       "2575        None     None     None     None  ...      None      None     None   \n",
       "2576        None     None     None     None  ...      None      None     None   \n",
       "2577        None     None     None     None  ...      None      None     None   \n",
       "\n",
       "              NAME_2 VINTAGE_2 FUNCSTAT_2 JUSTIFY_2  MTFCC  \\\n",
       "47               A-1        90          N      None  G5240   \n",
       "54               B-2        90          N      None  G5240   \n",
       "56               C-1        90          N      None  G5240   \n",
       "57               C-3        90          N      None  G5240   \n",
       "59               C-4        90          N      None  G5240   \n",
       "...              ...       ...        ...       ...    ...   \n",
       "2573  Falling Spring        90          N      None  G5240   \n",
       "2574       Fairfield        90          N      None  G5240   \n",
       "2575      Meadowview        90          N      None  G5240   \n",
       "2576      First Ward        90          N      None  G5240   \n",
       "2577     Second Ward        90          N      None  G5240   \n",
       "\n",
       "                                               geometry unique_id  \n",
       "47    POLYGON Z ((-80.33861 37.22832 0.00000, -80.33...    121101  \n",
       "54    POLYGON Z ((-80.40208 37.12368 0.00000, -80.40...    121202  \n",
       "56    POLYGON Z ((-80.19748 37.10620 0.00000, -80.19...    121301  \n",
       "57    POLYGON Z ((-80.31232 37.20143 0.00000, -80.31...    121303  \n",
       "59    POLYGON Z ((-80.29725 37.16324 0.00000, -80.29...    121304  \n",
       "...                                                 ...       ...  \n",
       "2573  POLYGON Z ((-79.53720 37.65510 0.00000, -79.53...    163303  \n",
       "2574  POLYGON Z ((-79.36851 37.84122 0.00000, -79.36...    163401  \n",
       "2575  POLYGON Z ((-79.42562 37.81665 0.00000, -79.42...    163502  \n",
       "2576  POLYGON Z ((-79.33977 37.73184 0.00000, -79.33...    530001  \n",
       "2577  POLYGON Z ((-79.38113 37.74235 0.00000, -79.38...    530002  \n",
       "\n",
       "[80 rows x 43 columns]"
      ]
     },
     "execution_count": 88,
     "metadata": {},
     "output_type": "execute_result"
    }
   ],
   "source": [
    "shp"
   ]
  },
  {
   "cell_type": "markdown",
   "metadata": {},
   "source": [
    "### Refining shp match"
   ]
  },
  {
   "cell_type": "code",
   "execution_count": 89,
   "metadata": {},
   "outputs": [],
   "source": [
    "shp_id_list = list(set(shp['unique_id']) - set(df_with_absentee_reallocated['unique_id']))\n",
    "df_id_list = list(set(df_with_absentee_reallocated['unique_id']) - set(shp['unique_id']))"
   ]
  },
  {
   "cell_type": "code",
   "execution_count": 90,
   "metadata": {},
   "outputs": [
    {
     "name": "stdout",
     "output_type": "stream",
     "text": [
      "80\n",
      "1\n",
      "79\n"
     ]
    },
    {
     "data": {
      "text/plain": [
       "0"
      ]
     },
     "execution_count": 90,
     "metadata": {},
     "output_type": "execute_result"
    }
   ],
   "source": [
    "print(shp.shape[0])\n",
    "print(len(shp_id_list))\n",
    "print(df_with_absentee_reallocated.shape[0])\n",
    "len(df_id_list)"
   ]
  },
  {
   "cell_type": "code",
   "execution_count": 91,
   "metadata": {},
   "outputs": [
    {
     "data": {
      "text/plain": [
       "set()"
      ]
     },
     "execution_count": 91,
     "metadata": {},
     "output_type": "execute_result"
    }
   ],
   "source": [
    "set(final.unique_id) - set(df_with_absentee_reallocated.unique_id)"
   ]
  },
  {
   "cell_type": "markdown",
   "metadata": {},
   "source": [
    "# Validation"
   ]
  },
  {
   "cell_type": "code",
   "execution_count": 93,
   "metadata": {},
   "outputs": [
    {
     "data": {
      "text/plain": [
       "<AxesSubplot:>"
      ]
     },
     "execution_count": 93,
     "metadata": {},
     "output_type": "execute_result"
    },
    {
     "data": {
      "image/png": "[encoded data removed]",
      "text/plain": [
       "<Figure size 432x288 with 1 Axes>"
      ]
     },
     "metadata": {
      "needs_background": "light"
     },
     "output_type": "display_data"
    }
   ],
   "source": [
    "join = gpd.GeoDataFrame(pd.merge(df_with_absentee_reallocated, shp, on = 'unique_id', how = 'inner'), crs = proj)\n",
    "join.plot()"
   ]
  },
  {
   "cell_type": "markdown",
   "metadata": {},
   "source": [
    "## Validating Shapfile"
   ]
  },
  {
   "cell_type": "code",
   "execution_count": 94,
   "metadata": {},
   "outputs": [
    {
     "data": {
      "text/plain": [
       "<AxesSubplot:>"
      ]
     },
     "execution_count": 94,
     "metadata": {},
     "output_type": "execute_result"
    },
    {
     "data": {
      "image/png": "[encoded data removed]",
      "text/plain": [
       "<Figure size 432x288 with 1 Axes>"
      ]
     },
     "metadata": {
      "needs_background": "light"
     },
     "output_type": "display_data"
    },
    {
     "data": {
      "image/png": "[encoded data removed]",
      "text/plain": [
       "<Figure size 432x288 with 1 Axes>"
      ]
     },
     "metadata": {
      "needs_background": "light"
     },
     "output_type": "display_data"
    }
   ],
   "source": [
    "shp.plot()\n",
    "final.plot()"
   ]
  },
  {
   "cell_type": "code",
   "execution_count": 95,
   "metadata": {},
   "outputs": [
    {
     "name": "stdout",
     "output_type": "stream",
     "text": [
      "False    77\n",
      "True      2\n",
      "dtype: int64\n"
     ]
    }
   ],
   "source": [
    "shp_final_merge = pd.merge(join, final, on = 'unique_id', how = 'outer', suffixes = ['_x', '_y'],indicator=True)\n",
    "\n",
    "both = shp_final_merge[shp_final_merge[\"_merge\"]==\"both\"]\n",
    "source_geoms = gpd.GeoDataFrame(both,geometry=\"geometry_x\",crs=final.crs)\n",
    "vest_geoms = gpd.GeoDataFrame(both,geometry=\"geometry_y\",crs=final.crs)\n",
    "source_geoms = source_geoms.to_crs(3857)\n",
    "vest_geoms = vest_geoms.to_crs(3857)\n",
    "source_geoms[\"geometry_x\"]=source_geoms.buffer(0)\n",
    "vest_geoms[\"geometry_y\"]=vest_geoms.buffer(0)\n",
    "vals = source_geoms.geom_almost_equals(vest_geoms,decimal=0)\n",
    "print(vals.value_counts())"
   ]
  },
  {
   "cell_type": "code",
   "execution_count": 96,
   "metadata": {},
   "outputs": [
    {
     "name": "stdout",
     "output_type": "stream",
     "text": [
      "1) For 103 - Glenvar difference in area is 1.142864239662663\n"
     ]
    },
    {
     "data": {
      "image/png": "[encoded data removed]",
      "text/plain": [
       "<Figure size 432x288 with 1 Axes>"
      ]
     },
     "metadata": {
      "needs_background": "light"
     },
     "output_type": "display_data"
    }
   ],
   "source": [
    "count = 0\n",
    "area_list = []\n",
    "big_diff = pd.DataFrame(columns=[\"area\"])\n",
    "for i in range(0,len(source_geoms)):\n",
    "    diff = source_geoms.iloc[[i]].symmetric_difference(vest_geoms.iloc[[i]])\n",
    "    intersection = source_geoms.iloc[[i]].intersection(vest_geoms.iloc[[i]])\n",
    "    area = float(diff.area/10e6)\n",
    "    area_list.append(area)\n",
    "    #print(\"Area is \" + str(area))\n",
    "\n",
    "    if (area > 1):\n",
    "        count += 1\n",
    "        name = source_geoms.at[i,\"Pct\"]\n",
    "        big_diff.loc[name]=area\n",
    "        print(str(count)+\") For \" + name + \" difference in area is \" + str(area))\n",
    "        if (intersection.iloc[0].is_empty):\n",
    "            base = diff.plot(color=\"red\")\n",
    "            source_geoms.iloc[[i]].plot(color=\"orange\",ax=base)\n",
    "            vest_geoms.iloc[[i]].plot(color=\"blue\",ax=base)\n",
    "            base.set_title(name)\n",
    "        else:\n",
    "            base = diff.plot(color=\"red\")\n",
    "            source_geoms.iloc[[i]].plot(color=\"orange\",ax=base)\n",
    "            vest_geoms.iloc[[i]].plot(color=\"blue\",ax=base)\n",
    "            intersection.plot(color=\"green\",ax=base)\n",
    "            base.set_title(name)"
   ]
  },
  {
   "cell_type": "code",
   "execution_count": 97,
   "metadata": {},
   "outputs": [
    {
     "name": "stdout",
     "output_type": "stream",
     "text": [
      "(79, 1)\n",
      "61 precincts w/ a difference of 0 km^2\n",
      "11 precincts w/ a difference between 0 and .1 km^2\n",
      "5 precincts w/ a difference between .1 and .5 km^2\n",
      "1 precincts w/ a difference between .5 and 1 km^2\n",
      "1 precincts w/ a difference between 1 and 2 km^2\n",
      "0 precincts w/ a difference between 2 and 5 km^2\n",
      "0 precincts w/ a difference greater than 5 km^2\n"
     ]
    }
   ],
   "source": [
    "df = pd.DataFrame(area_list)\n",
    "print(df.shape)\n",
    "\n",
    "print(str(len(df[df[0]==0]))+\" precincts w/ a difference of 0 km^2\")\n",
    "print(str(len(df[(df[0]<.1) & (df[0]>0)]))+ \" precincts w/ a difference between 0 and .1 km^2\")\n",
    "print(str(len(df[(df[0]<.5) & (df[0]>=.1)]))+ \" precincts w/ a difference between .1 and .5 km^2\")\n",
    "print(str(len(df[(df[0]<1) & (df[0]>=.5)]))+ \" precincts w/ a difference between .5 and 1 km^2\")\n",
    "print(str(len(df[(df[0]<2) & (df[0]>=1)]))+ \" precincts w/ a difference between 1 and 2 km^2\")\n",
    "print(str(len(df[(df[0]<5) & (df[0]>=2)]))+ \" precincts w/ a difference between 2 and 5 km^2\")\n",
    "print(str(len(df[(df[0]>=5)]))+ \" precincts w/ a difference greater than 5 km^2\")"
   ]
  },
  {
   "cell_type": "markdown",
   "metadata": {},
   "source": [
    "### County 121 ex"
   ]
  },
  {
   "cell_type": "code",
   "execution_count": 98,
   "metadata": {},
   "outputs": [
    {
     "name": "stdout",
     "output_type": "stream",
     "text": [
      "(6, 72)\n"
     ]
    },
    {
     "data": {
      "text/plain": [
       "<AxesSubplot:>"
      ]
     },
     "execution_count": 98,
     "metadata": {},
     "output_type": "execute_result"
    },
    {
     "data": {
      "image/png": "[encoded data removed]",
      "text/plain": [
       "<Figure size 432x288 with 1 Axes>"
      ]
     },
     "metadata": {
      "needs_background": "light"
     },
     "output_type": "display_data"
    }
   ],
   "source": [
    "print(shp_final_merge[shp_final_merge['unique_id'].str[0:3] == '121'].shape)\n",
    "ex_x = gpd.GeoDataFrame(shp_final_merge[shp_final_merge['unique_id'].str[0:3]== '121'], geometry = 'geometry_x', crs = proj)\n",
    "ex_y = gpd.GeoDataFrame(shp_final_merge[shp_final_merge['unique_id'].str[0:3]== '121'], geometry = 'geometry_y', crs = proj)\n",
    "\n",
    "gpd.overlay(ex_x, ex_y, how = 'symmetric_difference').plot()"
   ]
  },
  {
   "cell_type": "markdown",
   "metadata": {},
   "source": [
    "## Validating election results"
   ]
  },
  {
   "cell_type": "code",
   "execution_count": 99,
   "metadata": {},
   "outputs": [],
   "source": [
    "final_df_merge = pd.merge(df_with_absentee_reallocated, final, on = 'unique_id', how = 'inner', suffixes = ['_x', '_y'])"
   ]
  },
  {
   "cell_type": "code",
   "execution_count": 100,
   "metadata": {},
   "outputs": [
    {
     "data": {
      "text/plain": [
       "Index(['COUNTYFP', 'LOCALITY', 'VTDST', 'PRECINCT', 'HOD_DIST', 'S18HODDEM',\n",
       "       'S18HODREP', 'S18HODWRI', 'geometry', 'unique_id'],\n",
       "      dtype='object')"
      ]
     },
     "execution_count": 100,
     "metadata": {},
     "output_type": "execute_result"
    }
   ],
   "source": [
    "final.columns"
   ]
  },
  {
   "cell_type": "code",
   "execution_count": 101,
   "metadata": {},
   "outputs": [],
   "source": [
    "column_list = ['S18HODDEM', 'S18HODREP', 'S18HODWRI']"
   ]
  },
  {
   "cell_type": "code",
   "execution_count": 102,
   "metadata": {},
   "outputs": [],
   "source": [
    "def validater_row (df, column_List):\n",
    "    matching_rows = 0\n",
    "    different_rows = 0\n",
    "    diff_list=[]\n",
    "    diff_values = []\n",
    "    max_diff = 0\n",
    "    for j in range(0,len(df.index)):\n",
    "        same = True\n",
    "        for i in column_List:\n",
    "            left_Data = i + \"_x\"\n",
    "            right_Data = i + \"_y\"\n",
    "            diff = abs(df.iloc[j][left_Data]-df.iloc[j][right_Data])\n",
    "            if(diff >0):\n",
    "                if(diff>0):\n",
    "                    print(i, \"{:.>72}\".format(df.iloc[j][\"Pct\"]), \"(V)\",\"{:.>5}\".format(int(df.iloc[j][left_Data])),\" (S){:.>5}\".format(int(df.iloc[j][right_Data])),\"(D):{:>5}\".format(int(df.iloc[j][right_Data])-int(df.iloc[j][left_Data])))           \n",
    "                #print(df.iloc[j]['countypct'])\n",
    "                \n",
    "                diff_values.append(abs(diff))\n",
    "                same = False\n",
    "                if(np.isnan(diff)):\n",
    "                    print(\"NaN value at diff is: \", df.iloc[j][\"Pct\"])\n",
    "                    print(df.iloc[j][left_Data])\n",
    "                    print(df.iloc[j][right_Data])\n",
    "                if (diff>max_diff):\n",
    "                    max_diff = diff\n",
    "                    #print(\"New max diff is: \", str(max_diff))\n",
    "                    #print(df.iloc[j]['cty_pct'])\n",
    "        if(same != True):\n",
    "            different_rows +=1\n",
    "            diff_list.append(df.iloc[j][\"Pct\"])\n",
    "        else:\n",
    "            matching_rows +=1\n",
    "    print(\"\")\n",
    "    print(\"There are \", len(df.index),\" total rows\")\n",
    "    print(different_rows,\" of these rows have election result differences\")\n",
    "    print(matching_rows,\" of these rows are the same\")\n",
    "    print(\"\")\n",
    "    print(\"The max difference between any one shared column in a row is: \", max_diff)\n",
    "    if(len(diff_values)!=0):\n",
    "        print(\"The average difference is: \", str(sum(diff_values)/len(diff_values)))\n",
    "    count_big_diff = len([i for i in diff_values if i > 10])\n",
    "    print(\"There are \", str(count_big_diff), \"precinct results with a difference greater than 10\")\n",
    "    diff_list.sort()\n",
    "    print(diff_list)"
   ]
  },
  {
   "cell_type": "code",
   "execution_count": 103,
   "metadata": {},
   "outputs": [
    {
     "name": "stdout",
     "output_type": "stream",
     "text": [
      "S18HODDEM .......................................................102 - New Glasgow (V) ..118  (S)..117 (D):   -1\n",
      "S18HODDEM .......................................................201 - Court House (V) ..269  (S)..270 (D):    1\n",
      "S18HODREP .......................................................201 - Court House (V) ..407  (S)..408 (D):    1\n",
      "S18HODREP .....................................................303 - Pleasant View (V) ..102  (S)..101 (D):   -1\n",
      "S18HODREP ........................................................504 - White Hill (V) ..191  (S)..190 (D):   -1\n",
      "S18HODREP .........................................................602 - Ridgeview (V) ..442  (S)..443 (D):    1\n",
      "S18HODDEM ....................................................202 - Highland Belle (V) ..296  (S)..297 (D):    1\n",
      "S18HODDEM ........................................................502 - Meadowview (V) ..141  (S)..140 (D):   -1\n",
      "S18HODREP ......................................................101 - Precinct A-1 (V) ..579  (S)..578 (D):   -1\n",
      "S18HODREP ......................................................202 - Precinct B-2 (V) ..982  (S)..983 (D):    1\n",
      "S18HODREP ......................................................102 - Mason Valley (V) ..357  (S)..356 (D):   -1\n",
      "S18HODREP ...........................................................103 - Glenvar (V) ..834  (S)..835 (D):    1\n",
      "S18HODREP ........................................................106 - Green Hill (V) .1270  (S).1271 (D):    1\n",
      "S18HODREP ..........................................................108 - Wildwood (V) ..665  (S)..664 (D):   -1\n",
      "S18HODREP .....................................................301 - Bent Mountain (V) ..301  (S)..300 (D):   -1\n",
      "S18HODDEM .........................................................304 - Oak Grove (V) ..841  (S)..842 (D):    1\n",
      "S18HODREP .......................................................501 - Cotton Hill (V) ..731  (S)..732 (D):    1\n",
      "S18HODDEM .......................................................503 - Cave Spring (V) ..552  (S)..551 (D):   -1\n",
      "S18HODREP ....................................................5 - North Salem No 1 (V) ..723  (S)..724 (D):    1\n",
      "S18HODREP ....................................................6 - South Salem No 1 (V) ..386  (S)..385 (D):   -1\n",
      "S18HODREP ....................................................7 - South Salem No 2 (V) ..607  (S)..606 (D):   -1\n",
      "S18HODREP ......................................................10 - Hidden Valley (V) ..894  (S)..895 (D):    1\n",
      "\n",
      "There are  79  total rows\n",
      "21  of these rows have election result differences\n",
      "58  of these rows are the same\n",
      "\n",
      "The max difference between any one shared column in a row is:  1.0\n",
      "The average difference is:  1.0\n",
      "There are  0 precinct results with a difference greater than 10\n",
      "['10 - Hidden Valley', '101 - Precinct A-1', '102 - Mason Valley', '102 - New Glasgow', '103 - Glenvar', '106 - Green Hill', '108 - Wildwood', '201 - Court House', '202 - Highland Belle', '202 - Precinct B-2', '301 - Bent Mountain', '303 - Pleasant View', '304 - Oak Grove', '5 - North Salem No 1', '501 - Cotton Hill', '502 - Meadowview', '503 - Cave Spring', '504 - White Hill', '6 - South Salem No 1', '602 - Ridgeview', '7 - South Salem No 2']\n"
     ]
    }
   ],
   "source": [
    "validater_row(final_df_merge, column_list)"
   ]
  }
 ],
 "metadata": {
  "kernelspec": {
   "display_name": "Python 3",
   "language": "python",
   "name": "python3"
  },
  "language_info": {
   "codemirror_mode": {
    "name": "ipython",
    "version": 3
   },
   "file_extension": ".py",
   "mimetype": "text/x-python",
   "name": "python",
   "nbconvert_exporter": "python",
   "pygments_lexer": "ipython3",
   "version": "3.9.2"
  }
 },
 "nbformat": 4,
 "nbformat_minor": 4
}
