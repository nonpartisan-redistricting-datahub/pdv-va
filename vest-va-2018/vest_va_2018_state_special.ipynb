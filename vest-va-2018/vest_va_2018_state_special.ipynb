{
 "cells": [
  {
   "cell_type": "code",
   "execution_count": 1,
   "metadata": {},
   "outputs": [],
   "source": [
    "import pandas as pd\n",
    "import geopandas as gpd\n",
    "import matplotlib.pyplot as plt\n",
    "import numpy as np\n",
    "import os"
   ]
  },
  {
   "cell_type": "markdown",
   "metadata": {},
   "source": [
    "# State House Special Election"
   ]
  },
  {
   "cell_type": "code",
   "execution_count": 4,
   "metadata": {},
   "outputs": [
    {
     "data": {
      "text/plain": [
       "'/Users/lilyfalk/sandbox/pdv-va'"
      ]
     },
     "execution_count": 4,
     "metadata": {},
     "output_type": "execute_result"
    }
   ],
   "source": [
    "pwd"
   ]
  },
  {
   "cell_type": "code",
   "execution_count": 5,
   "metadata": {},
   "outputs": [
    {
     "name": "stdout",
     "output_type": "stream",
     "text": [
      "(79, 9)\n"
     ]
    }
   ],
   "source": [
    "final = gpd.read_file('./vest_va/va_2018_statehouse_special/va_2018_statehouse_special.shp')\n",
    "print(final.shape)"
   ]
  },
  {
   "cell_type": "markdown",
   "metadata": {},
   "source": [
    "## Election results"
   ]
  },
  {
   "cell_type": "markdown",
   "metadata": {},
   "source": [
    "### District 8\n",
    "\n",
    "State House Special elections took place in 2018 in Districts 8 and 24. Here we load in solely these two districts where the elections took place."
   ]
  },
  {
   "cell_type": "code",
   "execution_count": 6,
   "metadata": {},
   "outputs": [
    {
     "data": {
      "text/html": [
       "<div>\n",
       "<style scoped>\n",
       "    .dataframe tbody tr th:only-of-type {\n",
       "        vertical-align: middle;\n",
       "    }\n",
       "\n",
       "    .dataframe tbody tr th {\n",
       "        vertical-align: top;\n",
       "    }\n",
       "\n",
       "    .dataframe thead th {\n",
       "        text-align: right;\n",
       "    }\n",
       "</style>\n",
       "<table border=\"1\" class=\"dataframe\">\n",
       "  <thead>\n",
       "    <tr style=\"text-align: right;\">\n",
       "      <th></th>\n",
       "      <th>County/City</th>\n",
       "      <th>Ward</th>\n",
       "      <th>Pct</th>\n",
       "      <th>Joseph P. McNamara</th>\n",
       "      <th>Edward Carter Turner, III</th>\n",
       "      <th>All Others</th>\n",
       "      <th>Total Votes Cast</th>\n",
       "    </tr>\n",
       "  </thead>\n",
       "  <tbody>\n",
       "    <tr>\n",
       "      <th>0</th>\n",
       "      <td>NaN</td>\n",
       "      <td>NaN</td>\n",
       "      <td>NaN</td>\n",
       "      <td>Republican</td>\n",
       "      <td>Democratic</td>\n",
       "      <td>NaN</td>\n",
       "      <td>NaN</td>\n",
       "    </tr>\n",
       "    <tr>\n",
       "      <th>1</th>\n",
       "      <td>Craig County</td>\n",
       "      <td>-</td>\n",
       "      <td>101 - Court House</td>\n",
       "      <td>300</td>\n",
       "      <td>80</td>\n",
       "      <td>1.0</td>\n",
       "      <td>381</td>\n",
       "    </tr>\n",
       "    <tr>\n",
       "      <th>2</th>\n",
       "      <td>Craig County</td>\n",
       "      <td>-</td>\n",
       "      <td>201 - Ammendale Precinct</td>\n",
       "      <td>402</td>\n",
       "      <td>90</td>\n",
       "      <td>0.0</td>\n",
       "      <td>492</td>\n",
       "    </tr>\n",
       "    <tr>\n",
       "      <th>3</th>\n",
       "      <td>Craig County</td>\n",
       "      <td>-</td>\n",
       "      <td>301 - Givens &amp; Reynolds Store</td>\n",
       "      <td>188</td>\n",
       "      <td>92</td>\n",
       "      <td>0.0</td>\n",
       "      <td>280</td>\n",
       "    </tr>\n",
       "    <tr>\n",
       "      <th>4</th>\n",
       "      <td>Craig County</td>\n",
       "      <td>-</td>\n",
       "      <td>303 - Marshalls Store</td>\n",
       "      <td>160</td>\n",
       "      <td>77</td>\n",
       "      <td>0.0</td>\n",
       "      <td>237</td>\n",
       "    </tr>\n",
       "  </tbody>\n",
       "</table>\n",
       "</div>"
      ],
      "text/plain": [
       "    County/City Ward                            Pct Joseph P. McNamara  \\\n",
       "0           NaN  NaN                            NaN         Republican   \n",
       "1  Craig County    -              101 - Court House                300   \n",
       "2  Craig County    -       201 - Ammendale Precinct                402   \n",
       "3  Craig County    -  301 - Givens & Reynolds Store                188   \n",
       "4  Craig County    -          303 - Marshalls Store                160   \n",
       "\n",
       "  Edward Carter Turner, III  All Others Total Votes Cast  \n",
       "0                Democratic         NaN              NaN  \n",
       "1                        80         1.0              381  \n",
       "2                        90         0.0              492  \n",
       "3                        92         0.0              280  \n",
       "4                        77         0.0              237  "
      ]
     },
     "execution_count": 6,
     "metadata": {},
     "output_type": "execute_result"
    }
   ],
   "source": [
    "df8 = pd.read_csv('./vest_va/Virginia_Elections_Database__2018_House_of_Delegates_General_Election_District_8_including_precincts.csv')\n",
    "df8.head()"
   ]
  },
  {
   "cell_type": "code",
   "execution_count": 7,
   "metadata": {},
   "outputs": [
    {
     "name": "stdout",
     "output_type": "stream",
     "text": [
      "district 8 number of county/city ids before modifications:  5\n",
      "district 8 df shape:  (46, 7)\n",
      "district 8 number of county/city ids after modifications:  5\n"
     ]
    },
    {
     "data": {
      "text/html": [
       "<div>\n",
       "<style scoped>\n",
       "    .dataframe tbody tr th:only-of-type {\n",
       "        vertical-align: middle;\n",
       "    }\n",
       "\n",
       "    .dataframe tbody tr th {\n",
       "        vertical-align: top;\n",
       "    }\n",
       "\n",
       "    .dataframe thead th {\n",
       "        text-align: right;\n",
       "    }\n",
       "</style>\n",
       "<table border=\"1\" class=\"dataframe\">\n",
       "  <thead>\n",
       "    <tr style=\"text-align: right;\">\n",
       "      <th></th>\n",
       "      <th>Pct</th>\n",
       "      <th>Total Votes Cast</th>\n",
       "      <th>HOD_DIST</th>\n",
       "      <th>LOCALITY</th>\n",
       "      <th>S18HODREP</th>\n",
       "      <th>S18HODDEM</th>\n",
       "      <th>S18HODWRI</th>\n",
       "    </tr>\n",
       "  </thead>\n",
       "  <tbody>\n",
       "    <tr>\n",
       "      <th>1</th>\n",
       "      <td>101 - Court House</td>\n",
       "      <td>381</td>\n",
       "      <td>8</td>\n",
       "      <td>Craig County</td>\n",
       "      <td>300</td>\n",
       "      <td>80</td>\n",
       "      <td>1.0</td>\n",
       "    </tr>\n",
       "    <tr>\n",
       "      <th>2</th>\n",
       "      <td>201 - Ammendale Precinct</td>\n",
       "      <td>492</td>\n",
       "      <td>8</td>\n",
       "      <td>Craig County</td>\n",
       "      <td>402</td>\n",
       "      <td>90</td>\n",
       "      <td>0.0</td>\n",
       "    </tr>\n",
       "    <tr>\n",
       "      <th>3</th>\n",
       "      <td>301 - Givens &amp; Reynolds Store</td>\n",
       "      <td>280</td>\n",
       "      <td>8</td>\n",
       "      <td>Craig County</td>\n",
       "      <td>188</td>\n",
       "      <td>92</td>\n",
       "      <td>0.0</td>\n",
       "    </tr>\n",
       "    <tr>\n",
       "      <th>4</th>\n",
       "      <td>303 - Marshalls Store</td>\n",
       "      <td>237</td>\n",
       "      <td>8</td>\n",
       "      <td>Craig County</td>\n",
       "      <td>160</td>\n",
       "      <td>77</td>\n",
       "      <td>0.0</td>\n",
       "    </tr>\n",
       "    <tr>\n",
       "      <th>5</th>\n",
       "      <td>401 - Barbours Creek</td>\n",
       "      <td>198</td>\n",
       "      <td>8</td>\n",
       "      <td>Craig County</td>\n",
       "      <td>149</td>\n",
       "      <td>49</td>\n",
       "      <td>0.0</td>\n",
       "    </tr>\n",
       "  </tbody>\n",
       "</table>\n",
       "</div>"
      ],
      "text/plain": [
       "                             Pct Total Votes Cast HOD_DIST      LOCALITY  \\\n",
       "1              101 - Court House              381        8  Craig County   \n",
       "2       201 - Ammendale Precinct              492        8  Craig County   \n",
       "3  301 - Givens & Reynolds Store              280        8  Craig County   \n",
       "4          303 - Marshalls Store              237        8  Craig County   \n",
       "5           401 - Barbours Creek              198        8  Craig County   \n",
       "\n",
       "  S18HODREP S18HODDEM  S18HODWRI  \n",
       "1       300        80        1.0  \n",
       "2       402        90        0.0  \n",
       "3       188        92        0.0  \n",
       "4       160        77        0.0  \n",
       "5       149        49        0.0  "
      ]
     },
     "execution_count": 7,
     "metadata": {},
     "output_type": "execute_result"
    }
   ],
   "source": [
    "print('district 8 number of county/city ids before modifications: ', df8['County/City'].nunique())\n",
    "print('district 8 df shape: ', df8.shape)\n",
    "\n",
    "#Remove first row from df where it is NaN values and replace column headers to match VEST's formatting\n",
    "df8 = df8.iloc[1:]\n",
    "df8 = df8.drop(['Ward'], axis = 1)\n",
    "df8['HOD_DIST'] = '8'\n",
    "\n",
    "df8['LOCALITY'] = df8['County/City']\n",
    "df8['S18HODREP'] = df8['Joseph P. McNamara']\n",
    "df8['S18HODDEM'] = df8['Edward Carter Turner, III']\n",
    "df8['S18HODWRI'] = df8['All Others']\n",
    "df8 = df8.drop(['County/City', 'Joseph P. McNamara', 'Edward Carter Turner, III', 'All Others'], axis = 1)\n",
    "\n",
    "print('district 8 number of county/city ids after modifications: ', df8['LOCALITY'].nunique())\n",
    "df8.head()"
   ]
  },
  {
   "cell_type": "code",
   "execution_count": 8,
   "metadata": {},
   "outputs": [
    {
     "name": "stdout",
     "output_type": "stream",
     "text": [
      "dict:  {'Amherst County': '009', 'Augusta County': '015', 'Bath County': '017', 'Rockbridge County': '163', 'Buena Vista City': '530', 'Lexington City': '678', 'Craig County': '045', 'Montgomery County': '121', 'Roanoke County': '161', 'Salem City': '775'}\n",
      "value counts, notice totals:  Roanoke County       15\n",
      "Salem City           12\n",
      "Craig County          9\n",
      "Montgomery County     8\n",
      "TOTALS                1\n",
      "Name: LOCALITY, dtype: int64\n",
      "district 8 number of county fips codes:  4\n"
     ]
    }
   ],
   "source": [
    "# District 8 County manipulations\n",
    "county_dict = pd.Series(final['COUNTYFP'].values, index = final['LOCALITY']).to_dict()\n",
    "print('dict: ',county_dict)\n",
    "print('value counts, notice totals: ', df8['LOCALITY'].value_counts())\n",
    "#Use county dict to get county fips code from county name\n",
    "df8['COUNTYFP'] = df8['LOCALITY'].map(county_dict)\n",
    "#See that totals did not map, so 4 instead of 5 unique county fips\n",
    "print('district 8 number of county fips codes: ', df8.COUNTYFP.nunique())"
   ]
  },
  {
   "cell_type": "code",
   "execution_count": 9,
   "metadata": {},
   "outputs": [
    {
     "data": {
      "text/html": [
       "<div>\n",
       "<style scoped>\n",
       "    .dataframe tbody tr th:only-of-type {\n",
       "        vertical-align: middle;\n",
       "    }\n",
       "\n",
       "    .dataframe tbody tr th {\n",
       "        vertical-align: top;\n",
       "    }\n",
       "\n",
       "    .dataframe thead th {\n",
       "        text-align: right;\n",
       "    }\n",
       "</style>\n",
       "<table border=\"1\" class=\"dataframe\">\n",
       "  <thead>\n",
       "    <tr style=\"text-align: right;\">\n",
       "      <th></th>\n",
       "      <th>S18HODREP</th>\n",
       "      <th>S18HODDEM</th>\n",
       "      <th>S18HODWRI</th>\n",
       "    </tr>\n",
       "    <tr>\n",
       "      <th>COUNTYFP</th>\n",
       "      <th></th>\n",
       "      <th></th>\n",
       "      <th></th>\n",
       "    </tr>\n",
       "  </thead>\n",
       "  <tbody>\n",
       "    <tr>\n",
       "      <th>045</th>\n",
       "      <td>1666</td>\n",
       "      <td>519</td>\n",
       "      <td>1</td>\n",
       "    </tr>\n",
       "    <tr>\n",
       "      <th>121</th>\n",
       "      <td>3706</td>\n",
       "      <td>2955</td>\n",
       "      <td>16</td>\n",
       "    </tr>\n",
       "    <tr>\n",
       "      <th>161</th>\n",
       "      <td>10487</td>\n",
       "      <td>5912</td>\n",
       "      <td>23</td>\n",
       "    </tr>\n",
       "    <tr>\n",
       "      <th>775</th>\n",
       "      <td>5942</td>\n",
       "      <td>3906</td>\n",
       "      <td>10</td>\n",
       "    </tr>\n",
       "  </tbody>\n",
       "</table>\n",
       "</div>"
      ],
      "text/plain": [
       "          S18HODREP  S18HODDEM  S18HODWRI\n",
       "COUNTYFP                                 \n",
       "045            1666        519          1\n",
       "121            3706       2955         16\n",
       "161           10487       5912         23\n",
       "775            5942       3906         10"
      ]
     },
     "execution_count": 9,
     "metadata": {},
     "output_type": "execute_result"
    }
   ],
   "source": [
    "# Change types for votes to int to enable total checks\n",
    "df8['S18HODREP'] = df8['S18HODREP'].map(lambda x: str(x).replace(',', ''))\n",
    "df8['S18HODDEM'] = df8['S18HODDEM'].map(lambda x: str(x).replace(',', '')) \n",
    "df8['S18HODWRI'] = df8['S18HODWRI'].map(lambda x: str(x).replace(',', ''))\n",
    "\n",
    "df8['S18HODREP'] = df8['S18HODREP'].astype(str).astype(float).astype(int)\n",
    "df8['S18HODDEM'] = df8['S18HODDEM'].astype(str).astype(float).astype(int)\n",
    "df8['S18HODWRI'] = df8['S18HODWRI'].astype(str).astype(float).astype(int)\n",
    "\n",
    "#Check groupby to compare totals below:\n",
    "df8.groupby(['COUNTYFP']).sum()"
   ]
  },
  {
   "cell_type": "code",
   "execution_count": 23,
   "metadata": {},
   "outputs": [],
   "source": [
    "df8 = df8[df8['LOCALITY'] != 'TOTALS']"
   ]
  },
  {
   "cell_type": "code",
   "execution_count": 24,
   "metadata": {},
   "outputs": [
    {
     "name": "stdout",
     "output_type": "stream",
     "text": [
      "S18HODREP :  21801\n",
      "S18HODDEM :  13292\n",
      "S18HODWRI :  50\n"
     ]
    }
   ],
   "source": [
    "column_list = ['S18HODREP', 'S18HODDEM', 'S18HODWRI']\n",
    "for val in column_list:\n",
    "    print(val, ': ', df8[val].sum())"
   ]
  },
  {
   "cell_type": "code",
   "execution_count": 30,
   "metadata": {},
   "outputs": [
    {
     "name": "stdout",
     "output_type": "stream",
     "text": [
      "S18HODREP :  21801\n",
      "S18HODDEM :  13292\n",
      "S18HODWRI :  50\n"
     ]
    }
   ],
   "source": [
    "final8 = final[final['HOD_DIST'] == '008']\n",
    "column_list = ['S18HODREP', 'S18HODDEM', 'S18HODWRI']\n",
    "for val in column_list:\n",
    "    print(val, ': ', final8[val].sum())"
   ]
  },
  {
   "cell_type": "code",
   "execution_count": 32,
   "metadata": {},
   "outputs": [
    {
     "name": "stdout",
     "output_type": "stream",
     "text": [
      "S18HODREP :  6620\n",
      "S18HODDEM :  4486\n",
      "S18HODWRI :  67\n"
     ]
    }
   ],
   "source": [
    "#Used to compare with VA Department of Elections\n",
    "final24 = final[final['HOD_DIST'] == '024']\n",
    "column_list = ['S18HODREP', 'S18HODDEM', 'S18HODWRI']\n",
    "for val in column_list:\n",
    "    print(val, ': ', final24[val].sum())"
   ]
  },
  {
   "cell_type": "markdown",
   "metadata": {},
   "source": [
    "### District 24"
   ]
  },
  {
   "cell_type": "code",
   "execution_count": 10,
   "metadata": {},
   "outputs": [
    {
     "data": {
      "text/html": [
       "<div>\n",
       "<style scoped>\n",
       "    .dataframe tbody tr th:only-of-type {\n",
       "        vertical-align: middle;\n",
       "    }\n",
       "\n",
       "    .dataframe tbody tr th {\n",
       "        vertical-align: top;\n",
       "    }\n",
       "\n",
       "    .dataframe thead th {\n",
       "        text-align: right;\n",
       "    }\n",
       "</style>\n",
       "<table border=\"1\" class=\"dataframe\">\n",
       "  <thead>\n",
       "    <tr style=\"text-align: right;\">\n",
       "      <th></th>\n",
       "      <th>County/City</th>\n",
       "      <th>Ward</th>\n",
       "      <th>Pct</th>\n",
       "      <th>Ronnie Ray Campbell</th>\n",
       "      <th>Christian Renau Worth</th>\n",
       "      <th>All Others</th>\n",
       "      <th>Total Votes Cast</th>\n",
       "    </tr>\n",
       "  </thead>\n",
       "  <tbody>\n",
       "    <tr>\n",
       "      <th>0</th>\n",
       "      <td>NaN</td>\n",
       "      <td>NaN</td>\n",
       "      <td>NaN</td>\n",
       "      <td>Republican</td>\n",
       "      <td>Democratic</td>\n",
       "      <td>NaN</td>\n",
       "      <td>NaN</td>\n",
       "    </tr>\n",
       "    <tr>\n",
       "      <th>1</th>\n",
       "      <td>Amherst County</td>\n",
       "      <td>-</td>\n",
       "      <td>102 - New Glasgow</td>\n",
       "      <td>164</td>\n",
       "      <td>114</td>\n",
       "      <td>2.0</td>\n",
       "      <td>280</td>\n",
       "    </tr>\n",
       "    <tr>\n",
       "      <th>2</th>\n",
       "      <td>Amherst County</td>\n",
       "      <td>-</td>\n",
       "      <td>103 - Coolwell</td>\n",
       "      <td>82</td>\n",
       "      <td>20</td>\n",
       "      <td>1.0</td>\n",
       "      <td>103</td>\n",
       "    </tr>\n",
       "    <tr>\n",
       "      <th>3</th>\n",
       "      <td>Amherst County</td>\n",
       "      <td>-</td>\n",
       "      <td>201 - Court House</td>\n",
       "      <td>397</td>\n",
       "      <td>261</td>\n",
       "      <td>13.0</td>\n",
       "      <td>671</td>\n",
       "    </tr>\n",
       "    <tr>\n",
       "      <th>4</th>\n",
       "      <td>Amherst County</td>\n",
       "      <td>-</td>\n",
       "      <td>202 - Temperance</td>\n",
       "      <td>137</td>\n",
       "      <td>59</td>\n",
       "      <td>3.0</td>\n",
       "      <td>199</td>\n",
       "    </tr>\n",
       "  </tbody>\n",
       "</table>\n",
       "</div>"
      ],
      "text/plain": [
       "      County/City Ward                Pct Ronnie Ray Campbell  \\\n",
       "0             NaN  NaN                NaN          Republican   \n",
       "1  Amherst County    -  102 - New Glasgow                 164   \n",
       "2  Amherst County    -     103 - Coolwell                  82   \n",
       "3  Amherst County    -  201 - Court House                 397   \n",
       "4  Amherst County    -   202 - Temperance                 137   \n",
       "\n",
       "  Christian Renau Worth  All Others Total Votes Cast  \n",
       "0            Democratic         NaN              NaN  \n",
       "1                   114         2.0              280  \n",
       "2                    20         1.0              103  \n",
       "3                   261        13.0              671  \n",
       "4                    59         3.0              199  "
      ]
     },
     "execution_count": 10,
     "metadata": {},
     "output_type": "execute_result"
    }
   ],
   "source": [
    "df24 = pd.read_csv('./vest_va/Virginia_Elections_Database__2018_House_of_Delegates_Special_General_Election_District_24_including_precincts.csv')\n",
    "df24.head()"
   ]
  },
  {
   "cell_type": "code",
   "execution_count": 11,
   "metadata": {},
   "outputs": [
    {
     "name": "stdout",
     "output_type": "stream",
     "text": [
      "district 24 number of county/city ids before modifications:  7\n",
      "district 24 df shape:  (55, 7)\n",
      "district 24 number of county/city ids after modifications:  7\n",
      "district 24 number of county fips codes:  6\n",
      "county fips value counts:  163    19\n",
      "009    11\n",
      "017     9\n",
      "015     8\n",
      "530     3\n",
      "678     3\n",
      "Name: COUNTYFP, dtype: int64\n"
     ]
    },
    {
     "data": {
      "text/html": [
       "<div>\n",
       "<style scoped>\n",
       "    .dataframe tbody tr th:only-of-type {\n",
       "        vertical-align: middle;\n",
       "    }\n",
       "\n",
       "    .dataframe tbody tr th {\n",
       "        vertical-align: top;\n",
       "    }\n",
       "\n",
       "    .dataframe thead th {\n",
       "        text-align: right;\n",
       "    }\n",
       "</style>\n",
       "<table border=\"1\" class=\"dataframe\">\n",
       "  <thead>\n",
       "    <tr style=\"text-align: right;\">\n",
       "      <th></th>\n",
       "      <th>S18HODREP</th>\n",
       "      <th>S18HODDEM</th>\n",
       "      <th>S18HODWRI</th>\n",
       "    </tr>\n",
       "    <tr>\n",
       "      <th>COUNTYFP</th>\n",
       "      <th></th>\n",
       "      <th></th>\n",
       "      <th></th>\n",
       "    </tr>\n",
       "  </thead>\n",
       "  <tbody>\n",
       "    <tr>\n",
       "      <th>009</th>\n",
       "      <td>1659</td>\n",
       "      <td>844</td>\n",
       "      <td>45</td>\n",
       "    </tr>\n",
       "    <tr>\n",
       "      <th>015</th>\n",
       "      <td>1369</td>\n",
       "      <td>465</td>\n",
       "      <td>1</td>\n",
       "    </tr>\n",
       "    <tr>\n",
       "      <th>017</th>\n",
       "      <td>360</td>\n",
       "      <td>227</td>\n",
       "      <td>0</td>\n",
       "    </tr>\n",
       "    <tr>\n",
       "      <th>163</th>\n",
       "      <td>2560</td>\n",
       "      <td>1861</td>\n",
       "      <td>17</td>\n",
       "    </tr>\n",
       "    <tr>\n",
       "      <th>530</th>\n",
       "      <td>385</td>\n",
       "      <td>236</td>\n",
       "      <td>0</td>\n",
       "    </tr>\n",
       "    <tr>\n",
       "      <th>678</th>\n",
       "      <td>287</td>\n",
       "      <td>853</td>\n",
       "      <td>4</td>\n",
       "    </tr>\n",
       "  </tbody>\n",
       "</table>\n",
       "</div>"
      ],
      "text/plain": [
       "          S18HODREP  S18HODDEM  S18HODWRI\n",
       "COUNTYFP                                 \n",
       "009            1659        844         45\n",
       "015            1369        465          1\n",
       "017             360        227          0\n",
       "163            2560       1861         17\n",
       "530             385        236          0\n",
       "678             287        853          4"
      ]
     },
     "execution_count": 11,
     "metadata": {},
     "output_type": "execute_result"
    }
   ],
   "source": [
    "print('district 24 number of county/city ids before modifications: ', df24['County/City'].nunique())\n",
    "print('district 24 df shape: ', df24.shape)\n",
    "\n",
    "#Remove first row from df where it is NaN values and replace column headers to match VEST's formatting\n",
    "df24 = df24.iloc[1:]\n",
    "df24 = df24.drop(['Ward'], axis = 1)\n",
    "df24['HOD_DIST'] = '24'\n",
    "\n",
    "df24['LOCALITY'] = df24['County/City']\n",
    "df24['S18HODREP'] = df24['Ronnie Ray Campbell']\n",
    "df24['S18HODDEM'] = df24['Christian Renau Worth']\n",
    "df24['S18HODWRI'] = df24['All Others']\n",
    "df24 = df24.drop(['County/City', 'Ronnie Ray Campbell', 'Christian Renau Worth', 'All Others'], axis = 1)\n",
    "\n",
    "print('district 24 number of county/city ids after modifications: ', df24['LOCALITY'].nunique())\n",
    "\n",
    "#District 24 County manipulations, use same dict as for district 24:\n",
    "df24['COUNTYFP'] = df24['LOCALITY'].map(county_dict)\n",
    "#See that totals row did not map, so 6 instead of 7 unique county fips:\n",
    "print('district 24 number of county fips codes: ', df24.COUNTYFP.nunique())\n",
    "print('county fips value counts: ', df24['COUNTYFP'].value_counts())\n",
    "\n",
    "#Change vote type to int from str:\n",
    "df24['S18HODREP'] = df24['S18HODREP'].map(lambda x: str(x).replace(',', ''))\n",
    "df24['S18HODDEM'] = df24['S18HODDEM'].map(lambda x: str(x).replace(',', '')) \n",
    "df24['S18HODWRI'] = df24['S18HODWRI'].map(lambda x: str(x).replace(',', ''))\n",
    "df24['S18HODREP'] = df24['S18HODREP'].astype(str).astype(float).astype(int)\n",
    "df24['S18HODDEM'] = df24['S18HODDEM'].astype(str).astype(float).astype(int)\n",
    "df24['S18HODWRI'] = df24['S18HODWRI'].astype(str).astype(float).astype(int)\n",
    "#See groupby in prep for below comparison:\n",
    "df24.groupby(['COUNTYFP']).sum()"
   ]
  },
  {
   "cell_type": "markdown",
   "metadata": {},
   "source": [
    "### Districts 24 and 8 together\n",
    "\n",
    "Merge districts into one dataframe now that each is processed to compare with VEST's file."
   ]
  },
  {
   "cell_type": "code",
   "execution_count": 12,
   "metadata": {},
   "outputs": [],
   "source": [
    "elections = []\n",
    "elections.append(df24)\n",
    "elections.append(df8)\n",
    "\n",
    "df = pd.concat(elections, axis = 0)\n",
    "df = df[df['LOCALITY'] != 'TOTALS']\n",
    "df = df.reset_index()\n",
    "df = df.fillna(0)"
   ]
  },
  {
   "cell_type": "markdown",
   "metadata": {},
   "source": [
    "## Check Column & County totals"
   ]
  },
  {
   "cell_type": "code",
   "execution_count": 13,
   "metadata": {
    "scrolled": true
   },
   "outputs": [
    {
     "name": "stdout",
     "output_type": "stream",
     "text": [
      "S18HODREP: EQUAL\n",
      "S18HODDEM: EQUAL\n",
      "S18HODWRI: EQUAL\n"
     ]
    }
   ],
   "source": [
    "column_list = ['S18HODREP', 'S18HODDEM', 'S18HODWRI']\n",
    "\n",
    "for val in column_list:\n",
    "    vote_dif = df[val].sum()-final[val].sum()\n",
    "    if (vote_dif == 0):\n",
    "        print(val+\": EQUAL\")\n",
    "    else:\n",
    "        print(val+\": DIFFERENCE OF \" + str(vote_dif)+ \" VOTES\")"
   ]
  },
  {
   "cell_type": "code",
   "execution_count": 14,
   "metadata": {},
   "outputs": [
    {
     "name": "stdout",
     "output_type": "stream",
     "text": [
      "Counties with differences printed below:\n",
      "\n",
      "All other races in all counties are equal\n"
     ]
    }
   ],
   "source": [
    "print(\"Counties with differences printed below:\")\n",
    "diff_counties=[]\n",
    "for i in column_list:\n",
    "    diff = df.groupby([\"COUNTYFP\"]).sum()[i]-final.groupby([\"COUNTYFP\"]).sum()[i]\n",
    "    for val in diff[diff != 0].index.values.tolist():\n",
    "        if val not in diff_counties:\n",
    "            diff_counties.append(val)\n",
    "    if len(diff[diff != 0]!=0):\n",
    "        print(i)\n",
    "        print(diff[diff != 0].to_string(header=False))\n",
    "print(\"\")\n",
    "print(\"All other races in all counties are equal\")"
   ]
  },
  {
   "cell_type": "markdown",
   "metadata": {},
   "source": [
    "## Reallocate absentee votes"
   ]
  },
  {
   "cell_type": "code",
   "execution_count": 15,
   "metadata": {},
   "outputs": [],
   "source": [
    "#Create df that are groupbys based on needed categories for comparison - with and without absentee\n",
    "absentee_and_prov = df[(df['Pct'].map(lambda x: 'Absentee' in str(x))) | (df['Pct'].map(lambda x: 'Provisional' in str(x)))]\n",
    "groupby_absentee_and_prov_tot = absentee_and_prov.groupby(['COUNTYFP']).sum()\n",
    "\n",
    "groupby_county_df_tot = df.groupby(['COUNTYFP']).sum()\n",
    "df_no_absent_or_provisional = df[(df['Pct'].map(lambda x: 'Absentee' not in str(x))) & (df['Pct'].map(lambda x: 'Provisional' not in str(x)))\n",
    "                                & (df['LOCALITY'] != 'TOTALS')]\n",
    "groupby_county_tot_no_absentee = df_no_absent_or_provisional.groupby('COUNTYFP').sum()\n",
    "\n",
    "#Copy dfs to set up for reallocation to create new df\n",
    "df_with_absentee_reallocated = df_no_absent_or_provisional.copy()\n",
    "groupby_absentee_and_prov_tot.reset_index(inplace=True,drop=False)\n",
    "groupby_county_tot_no_absentee.reset_index(inplace=True,drop=False)\n",
    "\n",
    "to_dole_out_totals = groupby_absentee_and_prov_tot.copy()\n",
    "precinct_specific_totals = groupby_county_tot_no_absentee.copy()\n",
    "\n",
    "column_list = ['S18HODREP', 'S18HODDEM', 'S18HODWRI']\n",
    "\n",
    "#Reallocation:\n",
    "\n",
    "#Create some new columns for each of these races to deal with the allocation\n",
    "for race in column_list:\n",
    "    add_var = race+\"_add\"\n",
    "    rem_var = race+\"_rem\"\n",
    "    floor_var = race+\"_floor\"\n",
    "    df_with_absentee_reallocated.loc[:,add_var]=0.0\n",
    "    df_with_absentee_reallocated.loc[:,rem_var]=0.0\n",
    "    df_with_absentee_reallocated.loc[:,floor_var]=0.0\n",
    "\n",
    "#Iterate over the rows\n",
    "#Note this function iterates over the dataframe two times so the rounded vote totals match the totals to allocate\n",
    "for index, row in df_no_absent_or_provisional.iterrows():\n",
    "    for race in column_list:\n",
    "        add_var = race+\"_add\"\n",
    "        rem_var = race+\"_rem\"\n",
    "        floor_var = race+\"_floor\"\n",
    "        #Grab the district\n",
    "        county_id = row['COUNTYFP']\n",
    "        #Get the denominator for the allocation (the precinct vote totals)\n",
    "        denom = precinct_specific_totals.loc[precinct_specific_totals['COUNTYFP']==county_id][race]\n",
    "        #Get one of the numerators, how many districtwide votes to allocate\n",
    "        numer = to_dole_out_totals.loc[to_dole_out_totals['COUNTYFP']==county_id][race]\n",
    "        #Get the vote totals for this race in this precinct\n",
    "        val = df_with_absentee_reallocated.at[index,race]\n",
    "        #Get the vote share, the precincts % of total precinct votes in the district times votes to allocate\n",
    "        if ((float(denom)==0)):\n",
    "            vote_share = 0\n",
    "        else:\n",
    "            vote_share = (float(val)/float(denom))*float(numer)\n",
    "        df_with_absentee_reallocated.at[index,add_var] = vote_share\n",
    "        #Take the decimal remainder of the allocation\n",
    "        df_with_absentee_reallocated.at[index,rem_var] = vote_share%1\n",
    "        #Take the floor of the allocation\n",
    "        df_with_absentee_reallocated.at[index,floor_var] = np.floor(vote_share)\n",
    "\n",
    "#After the first pass through, get the sums of the races by district to assist in the rounding            \n",
    "first_allocation = pd.DataFrame(df_with_absentee_reallocated.groupby(['COUNTYFP']).sum())\n",
    "\n",
    "#Now we want to iterate district by district to work on rounding\n",
    "county_list = list(to_dole_out_totals['COUNTYFP'].unique()) \n",
    "\n",
    "#Iterate over the district\n",
    "for county in county_list:\n",
    "    for race in column_list:\n",
    "        add_var = race+\"_add\"\n",
    "        rem_var = race+\"_rem\"\n",
    "        floor_var = race+\"_floor\"\n",
    "        #County how many votes still need to be allocated (because we took the floor of all the initial allocations)\n",
    "        to_go = int(np.round((int(to_dole_out_totals.loc[to_dole_out_totals['COUNTYFP']==county][race])-first_allocation.loc[first_allocation.index==county,floor_var])))\n",
    "        #Grab the n precincts with the highest remainders and round these up, where n is the # of votes that still need to be allocated\n",
    "        for index in df_with_absentee_reallocated.loc[df_with_absentee_reallocated['COUNTYFP']==county][rem_var].nlargest(to_go).index:\n",
    "            df_with_absentee_reallocated.at[index,add_var] = np.ceil(df_with_absentee_reallocated.at[index,add_var])\n",
    "\n",
    "#Iterate over every race again\n",
    "for race in column_list:\n",
    "    add_var = race+\"_add\"\n",
    "    #Round every allocation down to not add fractional votes\n",
    "    df_with_absentee_reallocated.loc[:,add_var]=np.floor(df_with_absentee_reallocated.loc[:,add_var])\n",
    "    df_with_absentee_reallocated.loc[:,race]+=df_with_absentee_reallocated.loc[:,add_var]"
   ]
  },
  {
   "cell_type": "markdown",
   "metadata": {},
   "source": [
    "## Check Totals after Vote Allocation"
   ]
  },
  {
   "cell_type": "code",
   "execution_count": 16,
   "metadata": {},
   "outputs": [
    {
     "name": "stdout",
     "output_type": "stream",
     "text": [
      "S18HODREP: EQUAL\n",
      "S18HODDEM: EQUAL\n",
      "S18HODWRI: EQUAL\n"
     ]
    }
   ],
   "source": [
    "for val in column_list:\n",
    "    vote_dif = df_with_absentee_reallocated[val].sum()-final[val].sum()\n",
    "    if (vote_dif == 0):\n",
    "        print(val+\": EQUAL\")\n",
    "    else:\n",
    "        print(val+\": DIFFERENCE OF \" + str(vote_dif)+ \" VOTES\")"
   ]
  },
  {
   "cell_type": "code",
   "execution_count": 18,
   "metadata": {},
   "outputs": [
    {
     "name": "stdout",
     "output_type": "stream",
     "text": [
      "S18HODREP:  28421.0\n",
      "S18HODDEM:  17778.0\n",
      "S18HODWRI:  117.0\n"
     ]
    }
   ],
   "source": [
    "for val in column_list:\n",
    "    vote_tot = df_with_absentee_reallocated[val].sum()\n",
    "    print(val+ ': ',vote_tot)"
   ]
  },
  {
   "cell_type": "code",
   "execution_count": 20,
   "metadata": {},
   "outputs": [
    {
     "name": "stdout",
     "output_type": "stream",
     "text": [
      "61.36324380343726 38.38414370843769 0.252612488125054\n"
     ]
    }
   ],
   "source": [
    "t = 28421.0+17778.0+ 117.0\n",
    "r = 28421.0*100/t\n",
    "d = 17778.0*100/t\n",
    "w = 117.0*100/t\n",
    "print(r, d, w)"
   ]
  },
  {
   "cell_type": "code",
   "execution_count": 17,
   "metadata": {},
   "outputs": [
    {
     "name": "stdout",
     "output_type": "stream",
     "text": [
      "Counties with differences printed below:\n",
      "\n",
      "All other races in all counties are equal\n"
     ]
    }
   ],
   "source": [
    "print(\"Counties with differences printed below:\")\n",
    "diff_counties=[]\n",
    "for i in column_list:\n",
    "    diff = df_with_absentee_reallocated.groupby([\"COUNTYFP\"]).sum()[i]-final.groupby([\"COUNTYFP\"]).sum()[i]\n",
    "    for val in diff[diff != 0].index.values.tolist():\n",
    "        if val not in diff_counties:\n",
    "            diff_counties.append(val)\n",
    "    if len(diff[diff != 0]!=0):\n",
    "        print(i)\n",
    "        print(diff[diff != 0].to_string(header=False))\n",
    "print(\"\")\n",
    "print(\"All other races in all counties are equal\")"
   ]
  },
  {
   "cell_type": "markdown",
   "metadata": {},
   "source": [
    "### Create unique ID to enable merge"
   ]
  },
  {
   "cell_type": "code",
   "execution_count": 18,
   "metadata": {},
   "outputs": [
    {
     "data": {
      "text/plain": [
       "{'5301 -',\n",
       " '5302 -',\n",
       " '6781 -',\n",
       " '7751 -',\n",
       " '77510 ',\n",
       " '7752 -',\n",
       " '7753 -',\n",
       " '7754 -',\n",
       " '7755 -',\n",
       " '7756 -',\n",
       " '7757 -',\n",
       " '7758 -',\n",
       " '7759 -'}"
      ]
     },
     "execution_count": 18,
     "metadata": {},
     "output_type": "execute_result"
    }
   ],
   "source": [
    "#Notice the '-' creating discrepency\n",
    "set(df_with_absentee_reallocated.COUNTYFP + df_with_absentee_reallocated.Pct.str.slice(stop = 3)) - set(final.COUNTYFP + final.VTDST.str.slice(start = 3))"
   ]
  },
  {
   "cell_type": "code",
   "execution_count": 19,
   "metadata": {},
   "outputs": [
    {
     "data": {
      "text/html": [
       "<div>\n",
       "<style scoped>\n",
       "    .dataframe tbody tr th:only-of-type {\n",
       "        vertical-align: middle;\n",
       "    }\n",
       "\n",
       "    .dataframe tbody tr th {\n",
       "        vertical-align: top;\n",
       "    }\n",
       "\n",
       "    .dataframe thead th {\n",
       "        text-align: right;\n",
       "    }\n",
       "</style>\n",
       "<table border=\"1\" class=\"dataframe\">\n",
       "  <thead>\n",
       "    <tr style=\"text-align: right;\">\n",
       "      <th></th>\n",
       "      <th>index</th>\n",
       "      <th>Pct</th>\n",
       "      <th>Total Votes Cast</th>\n",
       "      <th>HOD_DIST</th>\n",
       "      <th>LOCALITY</th>\n",
       "      <th>S18HODREP</th>\n",
       "      <th>S18HODDEM</th>\n",
       "      <th>S18HODWRI</th>\n",
       "      <th>COUNTYFP</th>\n",
       "      <th>S18HODREP_add</th>\n",
       "      <th>S18HODREP_rem</th>\n",
       "      <th>S18HODREP_floor</th>\n",
       "      <th>S18HODDEM_add</th>\n",
       "      <th>S18HODDEM_rem</th>\n",
       "      <th>S18HODDEM_floor</th>\n",
       "      <th>S18HODWRI_add</th>\n",
       "      <th>S18HODWRI_rem</th>\n",
       "      <th>S18HODWRI_floor</th>\n",
       "      <th>vtdst</th>\n",
       "      <th>unique_id</th>\n",
       "    </tr>\n",
       "  </thead>\n",
       "  <tbody>\n",
       "    <tr>\n",
       "      <th>0</th>\n",
       "      <td>1</td>\n",
       "      <td>102 - New Glasgow</td>\n",
       "      <td>280</td>\n",
       "      <td>24</td>\n",
       "      <td>Amherst County</td>\n",
       "      <td>168.0</td>\n",
       "      <td>118.0</td>\n",
       "      <td>2.0</td>\n",
       "      <td>009</td>\n",
       "      <td>4.0</td>\n",
       "      <td>0.155748</td>\n",
       "      <td>4.0</td>\n",
       "      <td>4.0</td>\n",
       "      <td>0.623472</td>\n",
       "      <td>3.0</td>\n",
       "      <td>0.0</td>\n",
       "      <td>0.045455</td>\n",
       "      <td>0.0</td>\n",
       "      <td>102</td>\n",
       "      <td>009102</td>\n",
       "    </tr>\n",
       "    <tr>\n",
       "      <th>1</th>\n",
       "      <td>2</td>\n",
       "      <td>103 - Coolwell</td>\n",
       "      <td>103</td>\n",
       "      <td>24</td>\n",
       "      <td>Amherst County</td>\n",
       "      <td>84.0</td>\n",
       "      <td>21.0</td>\n",
       "      <td>1.0</td>\n",
       "      <td>009</td>\n",
       "      <td>2.0</td>\n",
       "      <td>0.077874</td>\n",
       "      <td>2.0</td>\n",
       "      <td>1.0</td>\n",
       "      <td>0.635697</td>\n",
       "      <td>0.0</td>\n",
       "      <td>0.0</td>\n",
       "      <td>0.022727</td>\n",
       "      <td>0.0</td>\n",
       "      <td>103</td>\n",
       "      <td>009103</td>\n",
       "    </tr>\n",
       "    <tr>\n",
       "      <th>2</th>\n",
       "      <td>3</td>\n",
       "      <td>201 - Court House</td>\n",
       "      <td>671</td>\n",
       "      <td>24</td>\n",
       "      <td>Amherst County</td>\n",
       "      <td>407.0</td>\n",
       "      <td>269.0</td>\n",
       "      <td>14.0</td>\n",
       "      <td>009</td>\n",
       "      <td>10.0</td>\n",
       "      <td>0.059951</td>\n",
       "      <td>10.0</td>\n",
       "      <td>8.0</td>\n",
       "      <td>0.295844</td>\n",
       "      <td>8.0</td>\n",
       "      <td>1.0</td>\n",
       "      <td>0.295455</td>\n",
       "      <td>0.0</td>\n",
       "      <td>201</td>\n",
       "      <td>009201</td>\n",
       "    </tr>\n",
       "    <tr>\n",
       "      <th>3</th>\n",
       "      <td>4</td>\n",
       "      <td>202 - Temperance</td>\n",
       "      <td>199</td>\n",
       "      <td>24</td>\n",
       "      <td>Amherst County</td>\n",
       "      <td>140.0</td>\n",
       "      <td>61.0</td>\n",
       "      <td>3.0</td>\n",
       "      <td>009</td>\n",
       "      <td>3.0</td>\n",
       "      <td>0.471570</td>\n",
       "      <td>3.0</td>\n",
       "      <td>2.0</td>\n",
       "      <td>0.875306</td>\n",
       "      <td>1.0</td>\n",
       "      <td>0.0</td>\n",
       "      <td>0.068182</td>\n",
       "      <td>0.0</td>\n",
       "      <td>202</td>\n",
       "      <td>009202</td>\n",
       "    </tr>\n",
       "    <tr>\n",
       "      <th>4</th>\n",
       "      <td>5</td>\n",
       "      <td>301 - Monroe</td>\n",
       "      <td>230</td>\n",
       "      <td>24</td>\n",
       "      <td>Amherst County</td>\n",
       "      <td>163.0</td>\n",
       "      <td>68.0</td>\n",
       "      <td>5.0</td>\n",
       "      <td>009</td>\n",
       "      <td>4.0</td>\n",
       "      <td>0.029048</td>\n",
       "      <td>4.0</td>\n",
       "      <td>2.0</td>\n",
       "      <td>0.097800</td>\n",
       "      <td>2.0</td>\n",
       "      <td>0.0</td>\n",
       "      <td>0.113636</td>\n",
       "      <td>0.0</td>\n",
       "      <td>301</td>\n",
       "      <td>009301</td>\n",
       "    </tr>\n",
       "  </tbody>\n",
       "</table>\n",
       "</div>"
      ],
      "text/plain": [
       "   index                Pct Total Votes Cast HOD_DIST        LOCALITY  \\\n",
       "0      1  102 - New Glasgow              280       24  Amherst County   \n",
       "1      2     103 - Coolwell              103       24  Amherst County   \n",
       "2      3  201 - Court House              671       24  Amherst County   \n",
       "3      4   202 - Temperance              199       24  Amherst County   \n",
       "4      5       301 - Monroe              230       24  Amherst County   \n",
       "\n",
       "   S18HODREP  S18HODDEM  S18HODWRI COUNTYFP  S18HODREP_add  S18HODREP_rem  \\\n",
       "0      168.0      118.0        2.0      009            4.0       0.155748   \n",
       "1       84.0       21.0        1.0      009            2.0       0.077874   \n",
       "2      407.0      269.0       14.0      009           10.0       0.059951   \n",
       "3      140.0       61.0        3.0      009            3.0       0.471570   \n",
       "4      163.0       68.0        5.0      009            4.0       0.029048   \n",
       "\n",
       "   S18HODREP_floor  S18HODDEM_add  S18HODDEM_rem  S18HODDEM_floor  \\\n",
       "0              4.0            4.0       0.623472              3.0   \n",
       "1              2.0            1.0       0.635697              0.0   \n",
       "2             10.0            8.0       0.295844              8.0   \n",
       "3              3.0            2.0       0.875306              1.0   \n",
       "4              4.0            2.0       0.097800              2.0   \n",
       "\n",
       "   S18HODWRI_add  S18HODWRI_rem  S18HODWRI_floor vtdst unique_id  \n",
       "0            0.0       0.045455              0.0   102    009102  \n",
       "1            0.0       0.022727              0.0   103    009103  \n",
       "2            1.0       0.295455              0.0   201    009201  \n",
       "3            0.0       0.068182              0.0   202    009202  \n",
       "4            0.0       0.113636              0.0   301    009301  "
      ]
     },
     "execution_count": 19,
     "metadata": {},
     "output_type": "execute_result"
    }
   ],
   "source": [
    "#Function that creates the necessary consistency:\n",
    "def vtdst_changer(vtdst):\n",
    "    if (vtdst[1:3] == ' -'):\n",
    "        two_lead_zero = '00' + vtdst[:1]\n",
    "        return two_lead_zero\n",
    "    elif (vtdst[1:3] == '- '):\n",
    "        two_lead_zero = '00' + vtdst[:1]\n",
    "        return two_lead_zero\n",
    "    elif (vtdst[-1:] == ' '):\n",
    "        one_lead_zero = '0' + vtdst[:2]\n",
    "        return one_lead_zero\n",
    "    elif (vtdst[-1:] == '-'):\n",
    "        one_lead_zero = '0' + vtdst[:2]\n",
    "        return one_lead_zero\n",
    "    else:\n",
    "        return vtdst\n",
    "\n",
    "#Apply the above function to the df\n",
    "df_with_absentee_reallocated['vtdst'] = df_with_absentee_reallocated.Pct.str.slice(stop = 3)\n",
    "df_with_absentee_reallocated['vtdst'] = df_with_absentee_reallocated['vtdst'].apply(vtdst_changer)\n",
    "#Create unique id\n",
    "df_with_absentee_reallocated['unique_id'] = df_with_absentee_reallocated.COUNTYFP + df_with_absentee_reallocated.vtdst\n",
    "df_with_absentee_reallocated.head()"
   ]
  },
  {
   "cell_type": "code",
   "execution_count": 20,
   "metadata": {},
   "outputs": [
    {
     "name": "stdout",
     "output_type": "stream",
     "text": [
      "values in df unique id not in vest file unique id column:  set()\n",
      "values in vest file unique id not in df unique id column:  set()\n"
     ]
    }
   ],
   "source": [
    "#Create matching unique id in final file\n",
    "final['unique_id'] = final.COUNTYFP + final.VTDST.str.slice(start = 3)\n",
    "print('values in df unique id not in vest file unique id column: ', set(df_with_absentee_reallocated.unique_id) - set(final.unique_id))\n",
    "print('values in vest file unique id not in df unique id column: ', set(final.unique_id) - set(df_with_absentee_reallocated.unique_id))"
   ]
  },
  {
   "cell_type": "markdown",
   "metadata": {},
   "source": [
    "# Shapefile"
   ]
  },
  {
   "cell_type": "code",
   "execution_count": 22,
   "metadata": {},
   "outputs": [
    {
     "name": "stdout",
     "output_type": "stream",
     "text": [
      "precinct shapefile:\n"
     ]
    },
    {
     "data": {
      "text/plain": [
       "<AxesSubplot:>"
      ]
     },
     "execution_count": 22,
     "metadata": {},
     "output_type": "execute_result"
    },
    {
     "data": {
      "image/png": "[encoded data removed]",
      "text/plain": [
       "<Figure size 432x288 with 1 Axes>"
      ]
     },
     "metadata": {
      "needs_background": "light"
     },
     "output_type": "display_data"
    }
   ],
   "source": [
    "#Load in shapefiles from the census at precinct level\n",
    "proj = final.crs\n",
    "county_fips = []\n",
    "for directory in os.listdir('./vest_va/census_shps_by_county_all_unzip/'):\n",
    "    if not directory[0] == '.':\n",
    "        county_fips.append(directory[-5:])\n",
    "\n",
    "county_vtds = []\n",
    "\n",
    "for i in county_fips: #i dont have fips_codes file\n",
    "    ref = './vest_va/census_shps_by_county_all_unzip/partnership_shapefiles_19v2_'\n",
    "    vtd_ref = ref + i + '/PVS_19_v2_vtd_' + i + '.shp' \n",
    "    vtd_shp = gpd.read_file(vtd_ref)\n",
    "    #print(i, ' added to list')\n",
    "    county_vtds.append(vtd_shp)\n",
    "\n",
    "\n",
    "global shp_vtd\n",
    "shp_vtd = gpd.GeoDataFrame(pd.concat(county_vtds, axis = 0) , crs = proj) \n",
    "\n",
    "print('precinct shapefile:')\n",
    "shp_vtd.plot()"
   ]
  },
  {
   "cell_type": "code",
   "execution_count": 23,
   "metadata": {},
   "outputs": [
    {
     "name": "stdout",
     "output_type": "stream",
     "text": [
      "district shapefile: \n"
     ]
    },
    {
     "data": {
      "text/plain": [
       "<AxesSubplot:>"
      ]
     },
     "execution_count": 23,
     "metadata": {},
     "output_type": "execute_result"
    },
    {
     "data": {
      "image/png": "[encoded data removed]",
      "text/plain": [
       "<Figure size 432x288 with 1 Axes>"
      ]
     },
     "metadata": {
      "needs_background": "light"
     },
     "output_type": "display_data"
    }
   ],
   "source": [
    "#Load in shapefiles from the census at district level\n",
    "county_sldl = []\n",
    "\n",
    "for i in county_fips: #i dont have fips_codes file\n",
    "    ref = './vest_va/census_shps_by_county_all_unzip/partnership_shapefiles_19v2_'\n",
    "    sldl_ref = ref + i + '/PVS_19_v2_sldl_' + i + '.shp' #PVS_19_v2_sldl_51650\n",
    "    sldl_shp = gpd.read_file(sldl_ref)\n",
    "    #print(i, ' added to list')\n",
    "    county_sldl.append(sldl_shp)\n",
    "    \n",
    "global shp_sldl\n",
    "shp_sldl = gpd.GeoDataFrame(pd.concat(county_sldl, axis = 0) , crs = proj) \n",
    "\n",
    "print('district shapefile: ')\n",
    "shp_sldl.plot()"
   ]
  },
  {
   "cell_type": "code",
   "execution_count": 24,
   "metadata": {},
   "outputs": [
    {
     "name": "stdout",
     "output_type": "stream",
     "text": [
      "precinct and district shapefile, only districts 8 and 24, and VEST final shapefile for comparison \n"
     ]
    },
    {
     "data": {
      "text/plain": [
       "<AxesSubplot:>"
      ]
     },
     "execution_count": 24,
     "metadata": {},
     "output_type": "execute_result"
    },
    {
     "data": {
      "image/png": "[encoded data removed]",
      "text/plain": [
       "<Figure size 432x288 with 1 Axes>"
      ]
     },
     "metadata": {
      "needs_background": "light"
     },
     "output_type": "display_data"
    },
    {
     "data": {
      "image/png": "[encoded data removed]",
      "text/plain": [
       "<Figure size 432x288 with 1 Axes>"
      ]
     },
     "metadata": {
      "needs_background": "light"
     },
     "output_type": "display_data"
    },
    {
     "data": {
      "image/png": "[encoded data removed]",
      "text/plain": [
       "<Figure size 432x288 with 1 Axes>"
      ]
     },
     "metadata": {
      "needs_background": "light"
     },
     "output_type": "display_data"
    }
   ],
   "source": [
    "#Combine the precinct and district shapefiles into one:\n",
    "overlay = gpd.overlay(shp_sldl, shp_vtd, how='intersection', make_valid=False, keep_geom_type=True)\n",
    "print('precinct and district shapefile, only districts 8 and 24, and VEST final shapefile for comparison ')\n",
    "overlay.plot()\n",
    "shp = overlay[(overlay.SLDLST == '008') | (overlay.SLDLST == '024')]\n",
    "shp.plot()\n",
    "final.plot()"
   ]
  },
  {
   "cell_type": "code",
   "execution_count": 25,
   "metadata": {},
   "outputs": [
    {
     "name": "stdout",
     "output_type": "stream",
     "text": [
      "unique id in shapefile not in vest final file:  {'121302'}\n",
      "unique id in vest file not in shapefile:  set()\n"
     ]
    },
    {
     "name": "stderr",
     "output_type": "stream",
     "text": [
      "/Users/lilyfalk/anaconda3/envs/pdv_env/lib/python3.9/site-packages/geopandas/geodataframe.py:1322: SettingWithCopyWarning: \n",
      "A value is trying to be set on a copy of a slice from a DataFrame.\n",
      "Try using .loc[row_indexer,col_indexer] = value instead\n",
      "\n",
      "See the caveats in the documentation: https://pandas.pydata.org/pandas-docs/stable/user_guide/indexing.html#returning-a-view-versus-a-copy\n",
      "  super(GeoDataFrame, self).__setitem__(key, value)\n"
     ]
    }
   ],
   "source": [
    "print('unique id in shapefile not in vest final file: ', set(shp.COUNTYFP_1 + shp.VTDST.str.slice(start = 3)) - set(final.COUNTYFP + final.VTDST.str.slice(start = 3)))\n",
    "print('unique id in vest file not in shapefile: ', set(final.COUNTYFP + final.VTDST.str.slice(start = 3)) - set(shp.COUNTYFP_1 + shp.VTDST.str.slice(start = 3)))\n",
    "#Assign unique id to column in shapefile\n",
    "shp['unique_id'] = shp['COUNTYFP_1'] + shp['VTDST'].str.slice(start = 3)"
   ]
  },
  {
   "cell_type": "markdown",
   "metadata": {},
   "source": [
    "## Join election results and shapefile"
   ]
  },
  {
   "cell_type": "code",
   "execution_count": 26,
   "metadata": {},
   "outputs": [
    {
     "data": {
      "text/plain": [
       "<AxesSubplot:>"
      ]
     },
     "execution_count": 26,
     "metadata": {},
     "output_type": "execute_result"
    },
    {
     "data": {
      "image/png": "[encoded data removed]",
      "text/plain": [
       "<Figure size 432x288 with 1 Axes>"
      ]
     },
     "metadata": {
      "needs_background": "light"
     },
     "output_type": "display_data"
    }
   ],
   "source": [
    "join = gpd.GeoDataFrame(pd.merge(df_with_absentee_reallocated, shp, on = 'unique_id', how = 'outer'), crs = proj)\n",
    "join.plot()"
   ]
  },
  {
   "cell_type": "markdown",
   "metadata": {},
   "source": [
    "### Refining shp match"
   ]
  },
  {
   "cell_type": "code",
   "execution_count": 27,
   "metadata": {},
   "outputs": [
    {
     "name": "stdout",
     "output_type": "stream",
     "text": [
      "80\n",
      "1\n",
      "79\n",
      "0\n",
      "set()\n"
     ]
    }
   ],
   "source": [
    "shp_id_list = list(set(shp['unique_id']) - set(df_with_absentee_reallocated['unique_id']))\n",
    "df_id_list = list(set(df_with_absentee_reallocated['unique_id']) - set(shp['unique_id']))\n",
    "\n",
    "print(shp.shape[0])\n",
    "print(len(shp_id_list))\n",
    "print(df_with_absentee_reallocated.shape[0])\n",
    "print(len(df_id_list))\n",
    "\n",
    "print(set(final.unique_id) - set(df_with_absentee_reallocated.unique_id))"
   ]
  },
  {
   "cell_type": "code",
   "execution_count": 34,
   "metadata": {},
   "outputs": [
    {
     "data": {
      "text/plain": [
       "(80, 43)"
      ]
     },
     "execution_count": 34,
     "metadata": {},
     "output_type": "execute_result"
    }
   ],
   "source": [
    "shp.shape"
   ]
  },
  {
   "cell_type": "code",
   "execution_count": 35,
   "metadata": {},
   "outputs": [
    {
     "data": {
      "text/plain": [
       "(79, 10)"
      ]
     },
     "execution_count": 35,
     "metadata": {},
     "output_type": "execute_result"
    }
   ],
   "source": [
    "final.shape"
   ]
  },
  {
   "cell_type": "markdown",
   "metadata": {},
   "source": [
    "# Validation"
   ]
  },
  {
   "cell_type": "markdown",
   "metadata": {},
   "source": [
    "## Validating Shapfile"
   ]
  },
  {
   "cell_type": "code",
   "execution_count": 28,
   "metadata": {},
   "outputs": [
    {
     "data": {
      "text/plain": [
       "<AxesSubplot:>"
      ]
     },
     "execution_count": 28,
     "metadata": {},
     "output_type": "execute_result"
    },
    {
     "data": {
      "image/png": "[encoded data removed]",
      "text/plain": [
       "<Figure size 432x288 with 1 Axes>"
      ]
     },
     "metadata": {
      "needs_background": "light"
     },
     "output_type": "display_data"
    },
    {
     "data": {
      "image/png": "[encoded data removed]",
      "text/plain": [
       "<Figure size 432x288 with 1 Axes>"
      ]
     },
     "metadata": {
      "needs_background": "light"
     },
     "output_type": "display_data"
    }
   ],
   "source": [
    "shp.plot()\n",
    "final.plot()"
   ]
  },
  {
   "cell_type": "code",
   "execution_count": 29,
   "metadata": {},
   "outputs": [
    {
     "name": "stdout",
     "output_type": "stream",
     "text": [
      "False    77\n",
      "True      2\n",
      "dtype: int64\n"
     ]
    }
   ],
   "source": [
    "shp_final_merge = pd.merge(join, final, on = 'unique_id', how = 'outer', suffixes = ['_x', '_y'],indicator=True)\n",
    "\n",
    "both = shp_final_merge[shp_final_merge[\"_merge\"]==\"both\"]\n",
    "source_geoms = gpd.GeoDataFrame(both,geometry=\"geometry_x\",crs=proj)\n",
    "vest_geoms = gpd.GeoDataFrame(both,geometry=\"geometry_y\",crs=proj)\n",
    "source_geoms = source_geoms.to_crs(3857)\n",
    "vest_geoms = vest_geoms.to_crs(3857)\n",
    "source_geoms[\"geometry_x\"]=source_geoms.buffer(0)\n",
    "vest_geoms[\"geometry_y\"]=vest_geoms.buffer(0)\n",
    "vals = source_geoms.geom_almost_equals(vest_geoms,decimal=0)\n",
    "print(vals.value_counts())"
   ]
  },
  {
   "cell_type": "code",
   "execution_count": 32,
   "metadata": {},
   "outputs": [
    {
     "name": "stdout",
     "output_type": "stream",
     "text": [
      "1) For 103 - Glenvar difference in area is 1.1428572469198468\n"
     ]
    },
    {
     "data": {
      "image/png": "[encoded data removed]",
      "text/plain": [
       "<Figure size 432x288 with 1 Axes>"
      ]
     },
     "metadata": {
      "needs_background": "light"
     },
     "output_type": "display_data"
    }
   ],
   "source": [
    "count = 0\n",
    "area_list = []\n",
    "big_diff = pd.DataFrame(columns=[\"area\"])\n",
    "for i in range(0,len(source_geoms)):\n",
    "    diff = source_geoms.iloc[[i]].symmetric_difference(vest_geoms.iloc[[i]])\n",
    "    intersection = source_geoms.iloc[[i]].intersection(vest_geoms.iloc[[i]])\n",
    "    area = float(diff.area/10e6)\n",
    "    area_list.append(area)\n",
    "    #print(\"Area is \" + str(area))\n",
    "\n",
    "    if (area > 1):\n",
    "        count += 1\n",
    "        name = source_geoms.at[i,\"Pct\"]\n",
    "        big_diff.loc[name]=area\n",
    "        print(str(count)+\") For \" + name + \" difference in area is \" + str(area))\n",
    "        if (intersection.iloc[0].is_empty):\n",
    "            base = diff.plot(color=\"red\")\n",
    "            source_geoms.iloc[[i]].plot(color=\"orange\",ax=base)\n",
    "            vest_geoms.iloc[[i]].plot(color=\"blue\",ax=base)\n",
    "            base.set_title(name)\n",
    "        else:\n",
    "            base = diff.plot(color=\"red\")\n",
    "            source_geoms.iloc[[i]].plot(color=\"orange\",ax=base)\n",
    "            vest_geoms.iloc[[i]].plot(color=\"blue\",ax=base)\n",
    "            intersection.plot(color=\"green\",ax=base)\n",
    "            base.set_title(name)"
   ]
  },
  {
   "cell_type": "code",
   "execution_count": 33,
   "metadata": {},
   "outputs": [
    {
     "name": "stdout",
     "output_type": "stream",
     "text": [
      "(79, 1)\n",
      "61 precincts w/ a difference of 0 km^2\n",
      "11 precincts w/ a difference between 0 and .1 km^2\n",
      "5 precincts w/ a difference between .1 and .5 km^2\n",
      "1 precincts w/ a difference between .5 and 1 km^2\n",
      "1 precincts w/ a difference between 1 and 2 km^2\n",
      "0 precincts w/ a difference between 2 and 5 km^2\n",
      "0 precincts w/ a difference greater than 5 km^2\n"
     ]
    }
   ],
   "source": [
    "df = pd.DataFrame(area_list)\n",
    "print(df.shape)\n",
    "\n",
    "print(str(len(df[df[0]==0]))+\" precincts w/ a difference of 0 km^2\")\n",
    "print(str(len(df[(df[0]<.1) & (df[0]>0)]))+ \" precincts w/ a difference between 0 and .1 km^2\")\n",
    "print(str(len(df[(df[0]<.5) & (df[0]>=.1)]))+ \" precincts w/ a difference between .1 and .5 km^2\")\n",
    "print(str(len(df[(df[0]<1) & (df[0]>=.5)]))+ \" precincts w/ a difference between .5 and 1 km^2\")\n",
    "print(str(len(df[(df[0]<2) & (df[0]>=1)]))+ \" precincts w/ a difference between 1 and 2 km^2\")\n",
    "print(str(len(df[(df[0]<5) & (df[0]>=2)]))+ \" precincts w/ a difference between 2 and 5 km^2\")\n",
    "print(str(len(df[(df[0]>=5)]))+ \" precincts w/ a difference greater than 5 km^2\")"
   ]
  },
  {
   "cell_type": "code",
   "execution_count": 38,
   "metadata": {},
   "outputs": [
    {
     "data": {
      "text/plain": [
       "<AxesSubplot:>"
      ]
     },
     "execution_count": 38,
     "metadata": {},
     "output_type": "execute_result"
    },
    {
     "data": {
      "image/png": "[encoded data removed]",
      "text/plain": [
       "<Figure size 432x288 with 1 Axes>"
      ]
     },
     "metadata": {
      "needs_background": "light"
     },
     "output_type": "display_data"
    }
   ],
   "source": [
    "shp[shp.unique_id.isin(list(set(shp.unique_id) - set(final.unique_id)))].plot()"
   ]
  },
  {
   "cell_type": "code",
   "execution_count": 39,
   "metadata": {},
   "outputs": [
    {
     "data": {
      "text/html": [
       "<div>\n",
       "<style scoped>\n",
       "    .dataframe tbody tr th:only-of-type {\n",
       "        vertical-align: middle;\n",
       "    }\n",
       "\n",
       "    .dataframe tbody tr th {\n",
       "        vertical-align: top;\n",
       "    }\n",
       "\n",
       "    .dataframe thead th {\n",
       "        text-align: right;\n",
       "    }\n",
       "</style>\n",
       "<table border=\"1\" class=\"dataframe\">\n",
       "  <thead>\n",
       "    <tr style=\"text-align: right;\">\n",
       "      <th></th>\n",
       "      <th>STATEFP_1</th>\n",
       "      <th>COUNTYFP_1</th>\n",
       "      <th>SLDLST</th>\n",
       "      <th>NAMELSAD_1</th>\n",
       "      <th>LSAD_1</th>\n",
       "      <th>PARTFLG</th>\n",
       "      <th>CHNG_TYPE_1</th>\n",
       "      <th>EFF_DATE</th>\n",
       "      <th>NEW_NAME</th>\n",
       "      <th>NEW_CODE</th>\n",
       "      <th>...</th>\n",
       "      <th>ORIG_NAME</th>\n",
       "      <th>ORIG_CODE</th>\n",
       "      <th>RELATE_2</th>\n",
       "      <th>NAME_2</th>\n",
       "      <th>VINTAGE_2</th>\n",
       "      <th>FUNCSTAT_2</th>\n",
       "      <th>JUSTIFY_2</th>\n",
       "      <th>MTFCC</th>\n",
       "      <th>geometry</th>\n",
       "      <th>unique_id</th>\n",
       "    </tr>\n",
       "  </thead>\n",
       "  <tbody>\n",
       "    <tr>\n",
       "      <th>85</th>\n",
       "      <td>51</td>\n",
       "      <td>121</td>\n",
       "      <td>008</td>\n",
       "      <td>State House District 8</td>\n",
       "      <td>LL</td>\n",
       "      <td>Y</td>\n",
       "      <td>None</td>\n",
       "      <td>None</td>\n",
       "      <td>None</td>\n",
       "      <td>None</td>\n",
       "      <td>...</td>\n",
       "      <td>None</td>\n",
       "      <td>None</td>\n",
       "      <td>None</td>\n",
       "      <td>C-2</td>\n",
       "      <td>90</td>\n",
       "      <td>N</td>\n",
       "      <td>None</td>\n",
       "      <td>G5240</td>\n",
       "      <td>MULTIPOLYGON Z (((-80.29621 37.11317 0.00000, ...</td>\n",
       "      <td>121302</td>\n",
       "    </tr>\n",
       "  </tbody>\n",
       "</table>\n",
       "<p>1 rows × 43 columns</p>\n",
       "</div>"
      ],
      "text/plain": [
       "   STATEFP_1 COUNTYFP_1 SLDLST              NAMELSAD_1 LSAD_1 PARTFLG  \\\n",
       "85        51        121    008  State House District 8     LL       Y   \n",
       "\n",
       "   CHNG_TYPE_1 EFF_DATE NEW_NAME NEW_CODE  ... ORIG_NAME ORIG_CODE RELATE_2  \\\n",
       "85        None     None     None     None  ...      None      None     None   \n",
       "\n",
       "   NAME_2 VINTAGE_2 FUNCSTAT_2 JUSTIFY_2  MTFCC  \\\n",
       "85    C-2        90          N      None  G5240   \n",
       "\n",
       "                                             geometry unique_id  \n",
       "85  MULTIPOLYGON Z (((-80.29621 37.11317 0.00000, ...    121302  \n",
       "\n",
       "[1 rows x 43 columns]"
      ]
     },
     "execution_count": 39,
     "metadata": {},
     "output_type": "execute_result"
    }
   ],
   "source": [
    "shp[shp.unique_id.isin(list(set(shp.unique_id) - set(final.unique_id)))]"
   ]
  },
  {
   "cell_type": "markdown",
   "metadata": {},
   "source": [
    "## Validating election results"
   ]
  },
  {
   "cell_type": "code",
   "execution_count": 40,
   "metadata": {},
   "outputs": [
    {
     "name": "stdout",
     "output_type": "stream",
     "text": [
      "121304    1\n",
      "163101    1\n",
      "161103    1\n",
      "045402    1\n",
      "163104    1\n",
      "         ..\n",
      "009301    1\n",
      "009103    1\n",
      "163502    1\n",
      "045301    1\n",
      "045201    1\n",
      "Name: unique_id, Length: 79, dtype: int64\n",
      "775010    1\n",
      "163102    1\n",
      "121304    1\n",
      "161107    1\n",
      "161103    1\n",
      "         ..\n",
      "015504    1\n",
      "009302    1\n",
      "009301    1\n",
      "009103    1\n",
      "045201    1\n",
      "Name: unique_id, Length: 79, dtype: int64\n",
      "(79, 20)\n",
      "(79, 10)\n",
      "Empty GeoDataFrame\n",
      "Columns: [COUNTYFP, LOCALITY, VTDST, PRECINCT, HOD_DIST, S18HODDEM, S18HODREP, S18HODWRI, geometry, unique_id]\n",
      "Index: []\n"
     ]
    }
   ],
   "source": [
    "print(df_with_absentee_reallocated[\"unique_id\"].value_counts())\n",
    "print(final[\"unique_id\"].value_counts())\n",
    "print(df_with_absentee_reallocated.shape)\n",
    "print(final.shape)\n",
    "print(final[~(final[\"unique_id\"].isin(list(df_with_absentee_reallocated[\"unique_id\"])))])"
   ]
  },
  {
   "cell_type": "code",
   "execution_count": 41,
   "metadata": {},
   "outputs": [],
   "source": [
    "final_df_merge = pd.merge(join, final, on = 'unique_id', how = 'outer', suffixes = ['_x', '_y'])"
   ]
  },
  {
   "cell_type": "code",
   "execution_count": 42,
   "metadata": {},
   "outputs": [
    {
     "data": {
      "text/plain": [
       "Index(['COUNTYFP', 'LOCALITY', 'VTDST', 'PRECINCT', 'HOD_DIST', 'S18HODDEM',\n",
       "       'S18HODREP', 'S18HODWRI', 'geometry', 'unique_id'],\n",
       "      dtype='object')"
      ]
     },
     "execution_count": 42,
     "metadata": {},
     "output_type": "execute_result"
    }
   ],
   "source": [
    "final.columns"
   ]
  },
  {
   "cell_type": "code",
   "execution_count": 43,
   "metadata": {},
   "outputs": [],
   "source": [
    "column_list = ['S18HODDEM', 'S18HODREP', 'S18HODWRI']"
   ]
  },
  {
   "cell_type": "code",
   "execution_count": 44,
   "metadata": {},
   "outputs": [],
   "source": [
    "def validater_row (df, column_List):\n",
    "    matching_rows = 0\n",
    "    different_rows = 0\n",
    "    diff_list=[]\n",
    "    diff_values = []\n",
    "    max_diff = 0\n",
    "    for j in range(0,len(df.index)):\n",
    "        same = True\n",
    "        for i in column_List:\n",
    "            left_Data = i + \"_x\"\n",
    "            right_Data = i + \"_y\"\n",
    "            diff = abs(df.iloc[j][left_Data]-df.iloc[j][right_Data])\n",
    "            if(diff >0):\n",
    "                if(diff>0):\n",
    "                    print(i, \"{:.>72}\".format(df.iloc[j][\"Pct\"]), \"(V)\",\"{:.>5}\".format(int(df.iloc[j][right_Data])),\" (S){:.>5}\".format(int(df.iloc[j][left_Data])),\"(D):{:>5}\".format(int(df.iloc[j][right_Data])-int(df.iloc[j][left_Data])))           \n",
    "                #print(df.iloc[j]['countypct'])\n",
    "                \n",
    "                diff_values.append(abs(diff))\n",
    "                same = False\n",
    "                if(np.isnan(diff)):\n",
    "                    print(\"NaN value at diff is: \", df.iloc[j][\"Pct\"])\n",
    "                    print(df.iloc[j][left_Data])\n",
    "                    print(df.iloc[j][right_Data])\n",
    "                if (diff>max_diff):\n",
    "                    max_diff = diff\n",
    "                    #print(\"New max diff is: \", str(max_diff))\n",
    "                    #print(df.iloc[j]['cty_pct'])\n",
    "        if(same != True):\n",
    "            different_rows +=1\n",
    "            diff_list.append(df.iloc[j][\"Pct\"])\n",
    "        else:\n",
    "            matching_rows +=1\n",
    "    print(\"\")\n",
    "    print(\"There are \", len(df.index),\" total rows\")\n",
    "    print(different_rows,\" of these rows have election result differences\")\n",
    "    print(matching_rows,\" of these rows are the same\")\n",
    "    print(\"\")\n",
    "    print(\"The max difference between any one shared column in a row is: \", max_diff)\n",
    "    if(len(diff_values)!=0):\n",
    "        print(\"The average difference is: \", str(sum(diff_values)/len(diff_values)))\n",
    "    count_big_diff = len([i for i in diff_values if i > 10])\n",
    "    print(\"There are \", str(count_big_diff), \"precinct results with a difference greater than 10\")\n",
    "    diff_list.sort()\n",
    "    print(diff_list)"
   ]
  },
  {
   "cell_type": "code",
   "execution_count": 45,
   "metadata": {},
   "outputs": [
    {
     "name": "stdout",
     "output_type": "stream",
     "text": [
      "S18HODDEM .......................................................102 - New Glasgow (V) ..117  (S)..118 (D):   -1\n",
      "S18HODDEM .......................................................201 - Court House (V) ..270  (S)..269 (D):    1\n",
      "S18HODREP .......................................................201 - Court House (V) ..408  (S)..407 (D):    1\n",
      "S18HODREP .....................................................303 - Pleasant View (V) ..101  (S)..102 (D):   -1\n",
      "S18HODREP ........................................................504 - White Hill (V) ..190  (S)..191 (D):   -1\n",
      "S18HODREP .........................................................602 - Ridgeview (V) ..443  (S)..442 (D):    1\n",
      "S18HODDEM ....................................................202 - Highland Belle (V) ..297  (S)..296 (D):    1\n",
      "S18HODDEM ........................................................502 - Meadowview (V) ..140  (S)..141 (D):   -1\n",
      "S18HODREP ......................................................101 - Precinct A-1 (V) ..578  (S)..579 (D):   -1\n",
      "S18HODREP ......................................................202 - Precinct B-2 (V) ..983  (S)..982 (D):    1\n",
      "S18HODREP ......................................................102 - Mason Valley (V) ..356  (S)..357 (D):   -1\n",
      "S18HODREP ...........................................................103 - Glenvar (V) ..835  (S)..834 (D):    1\n",
      "S18HODREP ........................................................106 - Green Hill (V) .1271  (S).1270 (D):    1\n",
      "S18HODREP ..........................................................108 - Wildwood (V) ..664  (S)..665 (D):   -1\n",
      "S18HODREP .....................................................301 - Bent Mountain (V) ..300  (S)..301 (D):   -1\n",
      "S18HODDEM .........................................................304 - Oak Grove (V) ..842  (S)..841 (D):    1\n",
      "S18HODREP .......................................................501 - Cotton Hill (V) ..732  (S)..731 (D):    1\n",
      "S18HODDEM .......................................................503 - Cave Spring (V) ..551  (S)..552 (D):   -1\n",
      "S18HODREP ....................................................5 - North Salem No 1 (V) ..724  (S)..723 (D):    1\n",
      "S18HODREP ....................................................6 - South Salem No 1 (V) ..385  (S)..386 (D):   -1\n",
      "S18HODREP ....................................................7 - South Salem No 2 (V) ..606  (S)..607 (D):   -1\n",
      "S18HODREP ......................................................10 - Hidden Valley (V) ..895  (S)..894 (D):    1\n",
      "\n",
      "There are  80  total rows\n",
      "21  of these rows have election result differences\n",
      "59  of these rows are the same\n",
      "\n",
      "The max difference between any one shared column in a row is:  1.0\n",
      "The average difference is:  1.0\n",
      "There are  0 precinct results with a difference greater than 10\n",
      "['10 - Hidden Valley', '101 - Precinct A-1', '102 - Mason Valley', '102 - New Glasgow', '103 - Glenvar', '106 - Green Hill', '108 - Wildwood', '201 - Court House', '202 - Highland Belle', '202 - Precinct B-2', '301 - Bent Mountain', '303 - Pleasant View', '304 - Oak Grove', '5 - North Salem No 1', '501 - Cotton Hill', '502 - Meadowview', '503 - Cave Spring', '504 - White Hill', '6 - South Salem No 1', '602 - Ridgeview', '7 - South Salem No 2']\n"
     ]
    }
   ],
   "source": [
    "validater_row(final_df_merge, column_list)"
   ]
  },
  {
   "cell_type": "code",
   "execution_count": null,
   "metadata": {},
   "outputs": [],
   "source": []
  }
 ],
 "metadata": {
  "kernelspec": {
   "display_name": "pdv_env",
   "language": "python",
   "name": "pdv_env"
  },
  "language_info": {
   "codemirror_mode": {
    "name": "ipython",
    "version": 3
   },
   "file_extension": ".py",
   "mimetype": "text/x-python",
   "name": "python",
   "nbconvert_exporter": "python",
   "pygments_lexer": "ipython3",
   "version": "3.9.4"
  }
 },
 "nbformat": 4,
 "nbformat_minor": 4
}
