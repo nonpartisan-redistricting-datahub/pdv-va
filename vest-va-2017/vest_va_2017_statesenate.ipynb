{
 "cells": [
  {
   "cell_type": "markdown",
   "metadata": {},
   "source": [
    "# VEST VA 2017 Senate of Virginia  Special Election - Districts "
   ]
  },
  {
   "cell_type": "code",
   "execution_count": 1,
   "metadata": {},
   "outputs": [],
   "source": [
    "import pandas as pd\n",
    "import geopandas as gp\n",
    "import matplotlib.pyplot as plt\n",
    "import numpy as np\n",
    "import os"
   ]
  },
  {
   "cell_type": "code",
   "execution_count": 2,
   "metadata": {},
   "outputs": [],
   "source": [
    "pd.set_option('display.max_columns', None)"
   ]
  },
  {
   "cell_type": "markdown",
   "metadata": {},
   "source": [
    "## Load VEST file"
   ]
  },
  {
   "cell_type": "code",
   "execution_count": 4,
   "metadata": {},
   "outputs": [
    {
     "data": {
      "text/html": [
       "<div>\n",
       "<style scoped>\n",
       "    .dataframe tbody tr th:only-of-type {\n",
       "        vertical-align: middle;\n",
       "    }\n",
       "\n",
       "    .dataframe tbody tr th {\n",
       "        vertical-align: top;\n",
       "    }\n",
       "\n",
       "    .dataframe thead th {\n",
       "        text-align: right;\n",
       "    }\n",
       "</style>\n",
       "<table border=\"1\" class=\"dataframe\">\n",
       "  <thead>\n",
       "    <tr style=\"text-align: right;\">\n",
       "      <th></th>\n",
       "      <th>COUNTYFP</th>\n",
       "      <th>LOCALITY</th>\n",
       "      <th>VTDST</th>\n",
       "      <th>PRECINCT</th>\n",
       "      <th>SOV_DIST</th>\n",
       "      <th>S17SOVDEM</th>\n",
       "      <th>S17SOVREP</th>\n",
       "      <th>S17SOVIND</th>\n",
       "      <th>S17SOVLIB</th>\n",
       "      <th>S17SOVWRI</th>\n",
       "      <th>geometry</th>\n",
       "    </tr>\n",
       "  </thead>\n",
       "  <tbody>\n",
       "    <tr>\n",
       "      <th>0</th>\n",
       "      <td>036</td>\n",
       "      <td>Charles City County</td>\n",
       "      <td>000301</td>\n",
       "      <td>Precinct 3-1</td>\n",
       "      <td>009</td>\n",
       "      <td>148</td>\n",
       "      <td>0</td>\n",
       "      <td>0</td>\n",
       "      <td>33</td>\n",
       "      <td>1</td>\n",
       "      <td>POLYGON ((-77.03838 37.42918, -77.03800 37.429...</td>\n",
       "    </tr>\n",
       "    <tr>\n",
       "      <th>1</th>\n",
       "      <td>085</td>\n",
       "      <td>Hanover County</td>\n",
       "      <td>000101</td>\n",
       "      <td>Ashland</td>\n",
       "      <td>009</td>\n",
       "      <td>223</td>\n",
       "      <td>0</td>\n",
       "      <td>0</td>\n",
       "      <td>18</td>\n",
       "      <td>4</td>\n",
       "      <td>POLYGON ((-77.44853 37.76165, -77.44839 37.761...</td>\n",
       "    </tr>\n",
       "    <tr>\n",
       "      <th>2</th>\n",
       "      <td>085</td>\n",
       "      <td>Hanover County</td>\n",
       "      <td>000105</td>\n",
       "      <td>Berkley</td>\n",
       "      <td>009</td>\n",
       "      <td>140</td>\n",
       "      <td>0</td>\n",
       "      <td>0</td>\n",
       "      <td>12</td>\n",
       "      <td>2</td>\n",
       "      <td>POLYGON ((-77.49963 37.77219, -77.49882 37.772...</td>\n",
       "    </tr>\n",
       "    <tr>\n",
       "      <th>3</th>\n",
       "      <td>085</td>\n",
       "      <td>Hanover County</td>\n",
       "      <td>000210</td>\n",
       "      <td>Oak Hill</td>\n",
       "      <td>009</td>\n",
       "      <td>32</td>\n",
       "      <td>0</td>\n",
       "      <td>0</td>\n",
       "      <td>7</td>\n",
       "      <td>1</td>\n",
       "      <td>POLYGON ((-77.54274 37.74420, -77.54270 37.744...</td>\n",
       "    </tr>\n",
       "    <tr>\n",
       "      <th>4</th>\n",
       "      <td>085</td>\n",
       "      <td>Hanover County</td>\n",
       "      <td>000704</td>\n",
       "      <td>Elmont</td>\n",
       "      <td>009</td>\n",
       "      <td>78</td>\n",
       "      <td>0</td>\n",
       "      <td>0</td>\n",
       "      <td>23</td>\n",
       "      <td>1</td>\n",
       "      <td>POLYGON ((-77.55298 37.73593, -77.55279 37.735...</td>\n",
       "    </tr>\n",
       "  </tbody>\n",
       "</table>\n",
       "</div>"
      ],
      "text/plain": [
       "  COUNTYFP             LOCALITY   VTDST      PRECINCT SOV_DIST  S17SOVDEM  \\\n",
       "0      036  Charles City County  000301  Precinct 3-1      009        148   \n",
       "1      085       Hanover County  000101       Ashland      009        223   \n",
       "2      085       Hanover County  000105       Berkley      009        140   \n",
       "3      085       Hanover County  000210      Oak Hill      009         32   \n",
       "4      085       Hanover County  000704        Elmont      009         78   \n",
       "\n",
       "   S17SOVREP  S17SOVIND  S17SOVLIB  S17SOVWRI  \\\n",
       "0          0          0         33          1   \n",
       "1          0          0         18          4   \n",
       "2          0          0         12          2   \n",
       "3          0          0          7          1   \n",
       "4          0          0         23          1   \n",
       "\n",
       "                                            geometry  \n",
       "0  POLYGON ((-77.03838 37.42918, -77.03800 37.429...  \n",
       "1  POLYGON ((-77.44853 37.76165, -77.44839 37.761...  \n",
       "2  POLYGON ((-77.49963 37.77219, -77.49882 37.772...  \n",
       "3  POLYGON ((-77.54274 37.74420, -77.54270 37.744...  \n",
       "4  POLYGON ((-77.55298 37.73593, -77.55279 37.735...  "
      ]
     },
     "execution_count": 4,
     "metadata": {},
     "output_type": "execute_result"
    }
   ],
   "source": [
    "gdfv = gp.read_file('./raw_from_source/va_2017_statesenate_special/va_2017_statesenate_special.shp')\n",
    "gdfv.head()"
   ]
  },
  {
   "cell_type": "code",
   "execution_count": 5,
   "metadata": {},
   "outputs": [],
   "source": [
    "county_dict = pd.Series(gdfv['COUNTYFP'].values, index = gdfv['LOCALITY']).to_dict()"
   ]
  },
  {
   "cell_type": "markdown",
   "metadata": {},
   "source": [
    "## Load election results"
   ]
  },
  {
   "cell_type": "markdown",
   "metadata": {},
   "source": [
    "### **District 9**"
   ]
  },
  {
   "cell_type": "code",
   "execution_count": 6,
   "metadata": {},
   "outputs": [
    {
     "data": {
      "text/html": [
       "<div>\n",
       "<style scoped>\n",
       "    .dataframe tbody tr th:only-of-type {\n",
       "        vertical-align: middle;\n",
       "    }\n",
       "\n",
       "    .dataframe tbody tr th {\n",
       "        vertical-align: top;\n",
       "    }\n",
       "\n",
       "    .dataframe thead th {\n",
       "        text-align: right;\n",
       "    }\n",
       "</style>\n",
       "<table border=\"1\" class=\"dataframe\">\n",
       "  <thead>\n",
       "    <tr style=\"text-align: right;\">\n",
       "      <th></th>\n",
       "      <th>County/City</th>\n",
       "      <th>Ward</th>\n",
       "      <th>Pct</th>\n",
       "      <th>Jennifer Leigh McClellan</th>\n",
       "      <th>Corey Maurice Fauconier</th>\n",
       "      <th>All Others</th>\n",
       "      <th>Total Votes Cast</th>\n",
       "    </tr>\n",
       "  </thead>\n",
       "  <tbody>\n",
       "    <tr>\n",
       "      <th>0</th>\n",
       "      <td>NaN</td>\n",
       "      <td>NaN</td>\n",
       "      <td>NaN</td>\n",
       "      <td>Democratic</td>\n",
       "      <td>Libertarian</td>\n",
       "      <td>NaN</td>\n",
       "      <td>NaN</td>\n",
       "    </tr>\n",
       "    <tr>\n",
       "      <th>1</th>\n",
       "      <td>Charles City County</td>\n",
       "      <td>-</td>\n",
       "      <td>101 - Precinct 1-1</td>\n",
       "      <td>88</td>\n",
       "      <td>17</td>\n",
       "      <td>1.0</td>\n",
       "      <td>106</td>\n",
       "    </tr>\n",
       "    <tr>\n",
       "      <th>2</th>\n",
       "      <td>Charles City County</td>\n",
       "      <td>-</td>\n",
       "      <td>201 - Precinct 2-1</td>\n",
       "      <td>90</td>\n",
       "      <td>10</td>\n",
       "      <td>0.0</td>\n",
       "      <td>100</td>\n",
       "    </tr>\n",
       "    <tr>\n",
       "      <th>3</th>\n",
       "      <td>Charles City County</td>\n",
       "      <td>-</td>\n",
       "      <td>301 - Precinct 3-1</td>\n",
       "      <td>140</td>\n",
       "      <td>32</td>\n",
       "      <td>1.0</td>\n",
       "      <td>173</td>\n",
       "    </tr>\n",
       "    <tr>\n",
       "      <th>4</th>\n",
       "      <td>Charles City County</td>\n",
       "      <td>-</td>\n",
       "      <td>Ab - Central Absentee Precinct</td>\n",
       "      <td>19</td>\n",
       "      <td>1</td>\n",
       "      <td>1.0</td>\n",
       "      <td>21</td>\n",
       "    </tr>\n",
       "  </tbody>\n",
       "</table>\n",
       "</div>"
      ],
      "text/plain": [
       "           County/City Ward                             Pct  \\\n",
       "0                  NaN  NaN                             NaN   \n",
       "1  Charles City County    -              101 - Precinct 1-1   \n",
       "2  Charles City County    -              201 - Precinct 2-1   \n",
       "3  Charles City County    -              301 - Precinct 3-1   \n",
       "4  Charles City County    -  Ab - Central Absentee Precinct   \n",
       "\n",
       "  Jennifer Leigh McClellan Corey Maurice Fauconier  All Others  \\\n",
       "0               Democratic             Libertarian         NaN   \n",
       "1                       88                      17         1.0   \n",
       "2                       90                      10         0.0   \n",
       "3                      140                      32         1.0   \n",
       "4                       19                       1         1.0   \n",
       "\n",
       "  Total Votes Cast  \n",
       "0              NaN  \n",
       "1              106  \n",
       "2              100  \n",
       "3              173  \n",
       "4               21  "
      ]
     },
     "execution_count": 6,
     "metadata": {},
     "output_type": "execute_result"
    }
   ],
   "source": [
    "df9 = pd.read_csv('./raw_from_source/Virginia_Elections_Database__2017_Senate_of_Virginia_Special_General_Election_District_9_including_precincts.csv')\n",
    "df9.head()"
   ]
  },
  {
   "cell_type": "code",
   "execution_count": 7,
   "metadata": {},
   "outputs": [
    {
     "name": "stdout",
     "output_type": "stream",
     "text": [
      "5\n",
      "4\n"
     ]
    }
   ],
   "source": [
    "df9 = df9.iloc[1:]\n",
    "df9['SOV_DIST'] = '009'\n",
    "df9['LOCALITY'] = df9['County/City']\n",
    "df9['S17SOVDEM'] = df9['Jennifer Leigh McClellan'].map(lambda x: str(x).replace(',', '')).astype(str).astype(float).astype(int)\n",
    "df9['S17SOVLIB'] = df9['Corey Maurice Fauconier'].map(lambda x: str(x).replace(',', '')).astype(str).astype(float).astype(int)\n",
    "df9['S17SOVWRI'] = df9['All Others'].map(lambda x: str(x).replace(',', '')).astype(str).astype(float).astype(int)\n",
    "df9 = df9.drop(['County/City', 'Jennifer Leigh McClellan', 'Corey Maurice Fauconier', 'All Others', 'Ward'], axis = 1)\n",
    "\n",
    "print(df9.LOCALITY.nunique())\n",
    "df9['COUNTYFP'] = df9['LOCALITY'].map(county_dict)\n",
    "print(df9.COUNTYFP.nunique())"
   ]
  },
  {
   "cell_type": "code",
   "execution_count": 8,
   "metadata": {},
   "outputs": [
    {
     "data": {
      "text/html": [
       "<div>\n",
       "<style scoped>\n",
       "    .dataframe tbody tr th:only-of-type {\n",
       "        vertical-align: middle;\n",
       "    }\n",
       "\n",
       "    .dataframe tbody tr th {\n",
       "        vertical-align: top;\n",
       "    }\n",
       "\n",
       "    .dataframe thead th {\n",
       "        text-align: right;\n",
       "    }\n",
       "</style>\n",
       "<table border=\"1\" class=\"dataframe\">\n",
       "  <thead>\n",
       "    <tr style=\"text-align: right;\">\n",
       "      <th></th>\n",
       "      <th>Pct</th>\n",
       "      <th>Total Votes Cast</th>\n",
       "      <th>SOV_DIST</th>\n",
       "      <th>LOCALITY</th>\n",
       "      <th>S17SOVDEM</th>\n",
       "      <th>S17SOVLIB</th>\n",
       "      <th>S17SOVWRI</th>\n",
       "      <th>COUNTYFP</th>\n",
       "    </tr>\n",
       "  </thead>\n",
       "  <tbody>\n",
       "    <tr>\n",
       "      <th>1</th>\n",
       "      <td>101 - Precinct 1-1</td>\n",
       "      <td>106</td>\n",
       "      <td>009</td>\n",
       "      <td>Charles City County</td>\n",
       "      <td>88</td>\n",
       "      <td>17</td>\n",
       "      <td>1</td>\n",
       "      <td>036</td>\n",
       "    </tr>\n",
       "    <tr>\n",
       "      <th>2</th>\n",
       "      <td>201 - Precinct 2-1</td>\n",
       "      <td>100</td>\n",
       "      <td>009</td>\n",
       "      <td>Charles City County</td>\n",
       "      <td>90</td>\n",
       "      <td>10</td>\n",
       "      <td>0</td>\n",
       "      <td>036</td>\n",
       "    </tr>\n",
       "    <tr>\n",
       "      <th>3</th>\n",
       "      <td>301 - Precinct 3-1</td>\n",
       "      <td>173</td>\n",
       "      <td>009</td>\n",
       "      <td>Charles City County</td>\n",
       "      <td>140</td>\n",
       "      <td>32</td>\n",
       "      <td>1</td>\n",
       "      <td>036</td>\n",
       "    </tr>\n",
       "    <tr>\n",
       "      <th>4</th>\n",
       "      <td>Ab - Central Absentee Precinct</td>\n",
       "      <td>21</td>\n",
       "      <td>009</td>\n",
       "      <td>Charles City County</td>\n",
       "      <td>19</td>\n",
       "      <td>1</td>\n",
       "      <td>1</td>\n",
       "      <td>036</td>\n",
       "    </tr>\n",
       "    <tr>\n",
       "      <th>5</th>\n",
       "      <td>Provisional</td>\n",
       "      <td>0</td>\n",
       "      <td>009</td>\n",
       "      <td>Charles City County</td>\n",
       "      <td>0</td>\n",
       "      <td>0</td>\n",
       "      <td>0</td>\n",
       "      <td>036</td>\n",
       "    </tr>\n",
       "    <tr>\n",
       "      <th>...</th>\n",
       "      <td>...</td>\n",
       "      <td>...</td>\n",
       "      <td>...</td>\n",
       "      <td>...</td>\n",
       "      <td>...</td>\n",
       "      <td>...</td>\n",
       "      <td>...</td>\n",
       "      <td>...</td>\n",
       "    </tr>\n",
       "    <tr>\n",
       "      <th>76</th>\n",
       "      <td>607 - Six Hundred Seven</td>\n",
       "      <td>77</td>\n",
       "      <td>009</td>\n",
       "      <td>Richmond City</td>\n",
       "      <td>74</td>\n",
       "      <td>3</td>\n",
       "      <td>0</td>\n",
       "      <td>760</td>\n",
       "    </tr>\n",
       "    <tr>\n",
       "      <th>77</th>\n",
       "      <td>708 - Seven Hundred Eight</td>\n",
       "      <td>27</td>\n",
       "      <td>009</td>\n",
       "      <td>Richmond City</td>\n",
       "      <td>25</td>\n",
       "      <td>2</td>\n",
       "      <td>0</td>\n",
       "      <td>760</td>\n",
       "    </tr>\n",
       "    <tr>\n",
       "      <th>78</th>\n",
       "      <td>Ab - Central Absentee Precinct</td>\n",
       "      <td>57</td>\n",
       "      <td>009</td>\n",
       "      <td>Richmond City</td>\n",
       "      <td>57</td>\n",
       "      <td>0</td>\n",
       "      <td>0</td>\n",
       "      <td>760</td>\n",
       "    </tr>\n",
       "    <tr>\n",
       "      <th>79</th>\n",
       "      <td>Provisional</td>\n",
       "      <td>1</td>\n",
       "      <td>009</td>\n",
       "      <td>Richmond City</td>\n",
       "      <td>1</td>\n",
       "      <td>0</td>\n",
       "      <td>0</td>\n",
       "      <td>760</td>\n",
       "    </tr>\n",
       "    <tr>\n",
       "      <th>80</th>\n",
       "      <td>NaN</td>\n",
       "      <td>8,596</td>\n",
       "      <td>009</td>\n",
       "      <td>TOTALS</td>\n",
       "      <td>7849</td>\n",
       "      <td>692</td>\n",
       "      <td>55</td>\n",
       "      <td>NaN</td>\n",
       "    </tr>\n",
       "  </tbody>\n",
       "</table>\n",
       "<p>80 rows × 8 columns</p>\n",
       "</div>"
      ],
      "text/plain": [
       "                               Pct Total Votes Cast SOV_DIST  \\\n",
       "1               101 - Precinct 1-1              106      009   \n",
       "2               201 - Precinct 2-1              100      009   \n",
       "3               301 - Precinct 3-1              173      009   \n",
       "4   Ab - Central Absentee Precinct               21      009   \n",
       "5                      Provisional                0      009   \n",
       "..                             ...              ...      ...   \n",
       "76         607 - Six Hundred Seven               77      009   \n",
       "77       708 - Seven Hundred Eight               27      009   \n",
       "78  Ab - Central Absentee Precinct               57      009   \n",
       "79                     Provisional                1      009   \n",
       "80                             NaN            8,596      009   \n",
       "\n",
       "               LOCALITY  S17SOVDEM  S17SOVLIB  S17SOVWRI COUNTYFP  \n",
       "1   Charles City County         88         17          1      036  \n",
       "2   Charles City County         90         10          0      036  \n",
       "3   Charles City County        140         32          1      036  \n",
       "4   Charles City County         19          1          1      036  \n",
       "5   Charles City County          0          0          0      036  \n",
       "..                  ...        ...        ...        ...      ...  \n",
       "76        Richmond City         74          3          0      760  \n",
       "77        Richmond City         25          2          0      760  \n",
       "78        Richmond City         57          0          0      760  \n",
       "79        Richmond City          1          0          0      760  \n",
       "80               TOTALS       7849        692         55      NaN  \n",
       "\n",
       "[80 rows x 8 columns]"
      ]
     },
     "execution_count": 8,
     "metadata": {},
     "output_type": "execute_result"
    }
   ],
   "source": [
    "df9"
   ]
  },
  {
   "cell_type": "markdown",
   "metadata": {},
   "source": [
    "### **District 22**"
   ]
  },
  {
   "cell_type": "code",
   "execution_count": 9,
   "metadata": {},
   "outputs": [
    {
     "data": {
      "text/html": [
       "<div>\n",
       "<style scoped>\n",
       "    .dataframe tbody tr th:only-of-type {\n",
       "        vertical-align: middle;\n",
       "    }\n",
       "\n",
       "    .dataframe tbody tr th {\n",
       "        vertical-align: top;\n",
       "    }\n",
       "\n",
       "    .dataframe thead th {\n",
       "        text-align: right;\n",
       "    }\n",
       "</style>\n",
       "<table border=\"1\" class=\"dataframe\">\n",
       "  <thead>\n",
       "    <tr style=\"text-align: right;\">\n",
       "      <th></th>\n",
       "      <th>County/City</th>\n",
       "      <th>Ward</th>\n",
       "      <th>Pct</th>\n",
       "      <th>Mark Joseph Peake</th>\n",
       "      <th>Ryant Lenard Washington</th>\n",
       "      <th>Joseph Cornwell Hines</th>\n",
       "      <th>All Others</th>\n",
       "      <th>Total Votes Cast</th>\n",
       "    </tr>\n",
       "  </thead>\n",
       "  <tbody>\n",
       "    <tr>\n",
       "      <th>0</th>\n",
       "      <td>NaN</td>\n",
       "      <td>NaN</td>\n",
       "      <td>NaN</td>\n",
       "      <td>Republican</td>\n",
       "      <td>Democratic</td>\n",
       "      <td>Independent</td>\n",
       "      <td>NaN</td>\n",
       "      <td>NaN</td>\n",
       "    </tr>\n",
       "    <tr>\n",
       "      <th>1</th>\n",
       "      <td>Amherst County</td>\n",
       "      <td>-</td>\n",
       "      <td>101 - Wright Shop</td>\n",
       "      <td>108</td>\n",
       "      <td>176</td>\n",
       "      <td>3</td>\n",
       "      <td>0.0</td>\n",
       "      <td>287</td>\n",
       "    </tr>\n",
       "    <tr>\n",
       "      <th>2</th>\n",
       "      <td>Amherst County</td>\n",
       "      <td>-</td>\n",
       "      <td>102 - New Glasgow</td>\n",
       "      <td>174</td>\n",
       "      <td>89</td>\n",
       "      <td>5</td>\n",
       "      <td>0.0</td>\n",
       "      <td>268</td>\n",
       "    </tr>\n",
       "    <tr>\n",
       "      <th>3</th>\n",
       "      <td>Amherst County</td>\n",
       "      <td>-</td>\n",
       "      <td>103 - Coolwell</td>\n",
       "      <td>110</td>\n",
       "      <td>24</td>\n",
       "      <td>2</td>\n",
       "      <td>0.0</td>\n",
       "      <td>136</td>\n",
       "    </tr>\n",
       "    <tr>\n",
       "      <th>4</th>\n",
       "      <td>Amherst County</td>\n",
       "      <td>-</td>\n",
       "      <td>201 - Court House</td>\n",
       "      <td>418</td>\n",
       "      <td>215</td>\n",
       "      <td>26</td>\n",
       "      <td>0.0</td>\n",
       "      <td>659</td>\n",
       "    </tr>\n",
       "  </tbody>\n",
       "</table>\n",
       "</div>"
      ],
      "text/plain": [
       "      County/City Ward                Pct Mark Joseph Peake  \\\n",
       "0             NaN  NaN                NaN        Republican   \n",
       "1  Amherst County    -  101 - Wright Shop               108   \n",
       "2  Amherst County    -  102 - New Glasgow               174   \n",
       "3  Amherst County    -     103 - Coolwell               110   \n",
       "4  Amherst County    -  201 - Court House               418   \n",
       "\n",
       "  Ryant Lenard Washington Joseph Cornwell Hines  All Others Total Votes Cast  \n",
       "0              Democratic           Independent         NaN              NaN  \n",
       "1                     176                     3         0.0              287  \n",
       "2                      89                     5         0.0              268  \n",
       "3                      24                     2         0.0              136  \n",
       "4                     215                    26         0.0              659  "
      ]
     },
     "execution_count": 9,
     "metadata": {},
     "output_type": "execute_result"
    }
   ],
   "source": [
    "df22 = pd.read_csv('./raw_from_source/Virginia_Elections_Database__2017_Senate_of_Virginia_Special_General_Election_District_22_including_precincts.csv')\n",
    "df22.head()"
   ]
  },
  {
   "cell_type": "code",
   "execution_count": 10,
   "metadata": {},
   "outputs": [
    {
     "name": "stdout",
     "output_type": "stream",
     "text": [
      "10\n",
      "9\n"
     ]
    }
   ],
   "source": [
    "df22 = df22.iloc[1:]\n",
    "df22['SOV_DIST'] = '022'\n",
    "df22['LOCALITY'] = df22['County/City']\n",
    "df22['S17SOVDEM'] = df22['Ryant Lenard Washington'].map(lambda x: str(x).replace(',', '')).astype(str).astype(float).astype(int)\n",
    "df22['S17SOVREP'] = df22['Mark Joseph Peake'].map(lambda x: str(x).replace(',', '')).astype(str).astype(float).astype(int)\n",
    "df22['S17SOVIND'] = df22['Joseph Cornwell Hines'].map(lambda x: str(x).replace(',', '')).astype(str).astype(float).astype(int)\n",
    "df22['S17SOVWRI'] = df22['All Others'].map(lambda x: str(x).replace(',', '')).astype(str).astype(float).astype(int)\n",
    "df22 = df22.drop(['County/City', 'Ryant Lenard Washington', 'Mark Joseph Peake', 'Joseph Cornwell Hines', 'All Others', 'Ward'], axis = 1)\n",
    "\n",
    "print(df22.LOCALITY.nunique())\n",
    "df22['COUNTYFP'] = df22['LOCALITY'].map(county_dict)\n",
    "print(df22.COUNTYFP.nunique())"
   ]
  },
  {
   "cell_type": "code",
   "execution_count": 11,
   "metadata": {},
   "outputs": [
    {
     "data": {
      "text/html": [
       "<div>\n",
       "<style scoped>\n",
       "    .dataframe tbody tr th:only-of-type {\n",
       "        vertical-align: middle;\n",
       "    }\n",
       "\n",
       "    .dataframe tbody tr th {\n",
       "        vertical-align: top;\n",
       "    }\n",
       "\n",
       "    .dataframe thead th {\n",
       "        text-align: right;\n",
       "    }\n",
       "</style>\n",
       "<table border=\"1\" class=\"dataframe\">\n",
       "  <thead>\n",
       "    <tr style=\"text-align: right;\">\n",
       "      <th></th>\n",
       "      <th>Pct</th>\n",
       "      <th>Total Votes Cast</th>\n",
       "      <th>SOV_DIST</th>\n",
       "      <th>LOCALITY</th>\n",
       "      <th>S17SOVDEM</th>\n",
       "      <th>S17SOVREP</th>\n",
       "      <th>S17SOVIND</th>\n",
       "      <th>S17SOVWRI</th>\n",
       "      <th>COUNTYFP</th>\n",
       "    </tr>\n",
       "  </thead>\n",
       "  <tbody>\n",
       "    <tr>\n",
       "      <th>1</th>\n",
       "      <td>101 - Wright Shop</td>\n",
       "      <td>287</td>\n",
       "      <td>022</td>\n",
       "      <td>Amherst County</td>\n",
       "      <td>176</td>\n",
       "      <td>108</td>\n",
       "      <td>3</td>\n",
       "      <td>0</td>\n",
       "      <td>009</td>\n",
       "    </tr>\n",
       "    <tr>\n",
       "      <th>2</th>\n",
       "      <td>102 - New Glasgow</td>\n",
       "      <td>268</td>\n",
       "      <td>022</td>\n",
       "      <td>Amherst County</td>\n",
       "      <td>89</td>\n",
       "      <td>174</td>\n",
       "      <td>5</td>\n",
       "      <td>0</td>\n",
       "      <td>009</td>\n",
       "    </tr>\n",
       "    <tr>\n",
       "      <th>3</th>\n",
       "      <td>103 - Coolwell</td>\n",
       "      <td>136</td>\n",
       "      <td>022</td>\n",
       "      <td>Amherst County</td>\n",
       "      <td>24</td>\n",
       "      <td>110</td>\n",
       "      <td>2</td>\n",
       "      <td>0</td>\n",
       "      <td>009</td>\n",
       "    </tr>\n",
       "    <tr>\n",
       "      <th>4</th>\n",
       "      <td>201 - Court House</td>\n",
       "      <td>659</td>\n",
       "      <td>022</td>\n",
       "      <td>Amherst County</td>\n",
       "      <td>215</td>\n",
       "      <td>418</td>\n",
       "      <td>26</td>\n",
       "      <td>0</td>\n",
       "      <td>009</td>\n",
       "    </tr>\n",
       "    <tr>\n",
       "      <th>5</th>\n",
       "      <td>202 - Temperance</td>\n",
       "      <td>199</td>\n",
       "      <td>022</td>\n",
       "      <td>Amherst County</td>\n",
       "      <td>40</td>\n",
       "      <td>155</td>\n",
       "      <td>4</td>\n",
       "      <td>0</td>\n",
       "      <td>009</td>\n",
       "    </tr>\n",
       "  </tbody>\n",
       "</table>\n",
       "</div>"
      ],
      "text/plain": [
       "                 Pct Total Votes Cast SOV_DIST        LOCALITY  S17SOVDEM  \\\n",
       "1  101 - Wright Shop              287      022  Amherst County        176   \n",
       "2  102 - New Glasgow              268      022  Amherst County         89   \n",
       "3     103 - Coolwell              136      022  Amherst County         24   \n",
       "4  201 - Court House              659      022  Amherst County        215   \n",
       "5   202 - Temperance              199      022  Amherst County         40   \n",
       "\n",
       "   S17SOVREP  S17SOVIND  S17SOVWRI COUNTYFP  \n",
       "1        108          3          0      009  \n",
       "2        174          5          0      009  \n",
       "3        110          2          0      009  \n",
       "4        418         26          0      009  \n",
       "5        155          4          0      009  "
      ]
     },
     "execution_count": 11,
     "metadata": {},
     "output_type": "execute_result"
    }
   ],
   "source": [
    "df22.head()"
   ]
  },
  {
   "cell_type": "markdown",
   "metadata": {},
   "source": [
    "### **Districts 9 and 22 together**"
   ]
  },
  {
   "cell_type": "code",
   "execution_count": 12,
   "metadata": {},
   "outputs": [],
   "source": [
    "elections = []\n",
    "elections.append(df9)\n",
    "elections.append(df22)\n",
    "\n",
    "df = pd.concat(elections, axis = 0)\n",
    "df = df[df['LOCALITY'] != 'TOTALS']\n",
    "df = df.reset_index()\n",
    "df = df.fillna(0)"
   ]
  },
  {
   "cell_type": "markdown",
   "metadata": {},
   "source": [
    "## Check race totals and county-by-county totals"
   ]
  },
  {
   "cell_type": "code",
   "execution_count": 13,
   "metadata": {},
   "outputs": [],
   "source": [
    "#Function to check column/race totals\n",
    "def colum_total_check(column_list, elections_df, vest_df):\n",
    "    for val in column_list:\n",
    "        vote_dif = elections_df[val].sum()-vest_df[val].sum()\n",
    "        if (vote_dif == 0):\n",
    "            print(val+\": EQUAL\", ' - total: ', str(elections_df[val].sum()))\n",
    "        else:\n",
    "            print(val+\": DIFFERENCE OF \" + str(vote_dif)+ \" VOTES\", ' - rdh total: ', str(elections_df[val].sum()), ', vest total: ', str(vest_df[val].sum()))\n",
    "            \n",
    "#Function to check county totals\n",
    "def county_total_check(column_list, elections_df, vest_df):\n",
    "    print(\"Counties with differences printed below:\")\n",
    "    diff_counties=[]\n",
    "    for i in column_list:\n",
    "        diff = elections_df.groupby([\"COUNTYFP\"]).sum()[i]-vest_df.groupby([\"COUNTYFP\"]).sum()[i]\n",
    "        for val in diff[diff != 0].index.values.tolist():\n",
    "            if val not in diff_counties:\n",
    "                diff_counties.append(val)\n",
    "        if len(diff[diff != 0]!=0):\n",
    "            print(i)\n",
    "            print(diff[diff != 0].to_string(header=False))\n",
    "    print(\"\")\n",
    "    print(\"All other races in all counties are equal\")"
   ]
  },
  {
   "cell_type": "code",
   "execution_count": 14,
   "metadata": {},
   "outputs": [],
   "source": [
    "column_list = ['S17SOVDEM','S17SOVREP', 'S17SOVIND', 'S17SOVLIB', 'S17SOVWRI']"
   ]
  },
  {
   "cell_type": "code",
   "execution_count": 15,
   "metadata": {},
   "outputs": [
    {
     "name": "stdout",
     "output_type": "stream",
     "text": [
      "S17SOVDEM: EQUAL  - total:  18075\n",
      "S17SOVREP: EQUAL  - total:  13713.0\n",
      "S17SOVIND: EQUAL  - total:  1884.0\n",
      "S17SOVLIB: EQUAL  - total:  692.0\n",
      "S17SOVWRI: EQUAL  - total:  74\n"
     ]
    }
   ],
   "source": [
    "colum_total_check(column_list, df, gdfv)"
   ]
  },
  {
   "cell_type": "code",
   "execution_count": 16,
   "metadata": {},
   "outputs": [
    {
     "name": "stdout",
     "output_type": "stream",
     "text": [
      "Counties with differences printed below:\n",
      "\n",
      "All other races in all counties are equal\n"
     ]
    }
   ],
   "source": [
    "county_total_check(column_list, df, gdfv)"
   ]
  },
  {
   "cell_type": "markdown",
   "metadata": {},
   "source": [
    "## Absentee Vote Reallocation"
   ]
  },
  {
   "cell_type": "code",
   "execution_count": 17,
   "metadata": {},
   "outputs": [],
   "source": [
    "#Create dfs that are groupbys based on needed categories for comparison - with and without absentee - to set up for reallocation fxn\n",
    "df = df.reset_index()\n",
    "\n",
    "absentee_and_prov = df[(df['Pct'].map(lambda x: 'Absentee' in str(x))) | (df['Pct'].map(lambda x: 'Provisional' in str(x)))]\n",
    "groupby_absentee_and_prov_tot = absentee_and_prov.groupby(['COUNTYFP']).sum()\n",
    "groupby_county_df_tot = df.groupby(['COUNTYFP']).sum()\n",
    "df_no_absent_or_provisional = df[(df['Pct'].map(lambda x: 'Absentee' not in str(x))) & (df['Pct'].map(lambda x: 'Provisional' not in str(x)))\n",
    "                                & (df['LOCALITY'] != 'TOTALS')]\n",
    "groupby_county_tot_no_absentee = df_no_absent_or_provisional.groupby('COUNTYFP').sum()\n",
    "\n",
    "#Copy dfs to set up for reallocation to create new df\n",
    "df_with_absentee_reallocated = df_no_absent_or_provisional.copy()\n",
    "groupby_absentee_and_prov_tot.reset_index(inplace=True,drop=False)\n",
    "groupby_county_tot_no_absentee.reset_index(inplace=True,drop=False)\n",
    "\n",
    "to_dole_out_totals = groupby_absentee_and_prov_tot.copy()\n",
    "precinct_specific_totals = groupby_county_tot_no_absentee.copy()"
   ]
  },
  {
   "cell_type": "code",
   "execution_count": 18,
   "metadata": {},
   "outputs": [],
   "source": [
    "## PH CODE for vote allocation adapted by LF to be functions\n",
    "\n",
    "#Create some new columns for each of these races to deal with the allocation\n",
    "def rounding_columns_creation(column_list, elections_df):\n",
    "    for race in column_list:\n",
    "        add_var = race+\"_add\"\n",
    "        rem_var = race+\"_rem\"\n",
    "        floor_var = race+\"_floor\"\n",
    "        elections_df.loc[:,add_var]=0.0\n",
    "        elections_df.loc[:,rem_var]=0.0\n",
    "        elections_df.loc[:,floor_var]=0.0\n",
    "\n",
    "#Iterate over the rows\n",
    "#Note this function iterates over the dataframe two times so the rounded vote totals match the totals to allocate\n",
    "def iterate_df_to_add_rounding(column_list, df_no_absent_or_provisional, elections_df, precinct_specific_totals, to_dole_out_totals, county_id_column):\n",
    "    for index, row in df_no_absent_or_provisional.iterrows():\n",
    "        for race in column_list:\n",
    "            add_var = race+\"_add\"\n",
    "            rem_var = race+\"_rem\"\n",
    "            floor_var = race+\"_floor\"\n",
    "            #Grab the district(/county)\n",
    "            county_id = row[county_id_column]\n",
    "            #Get the denominator for the allocation (the precinct vote totals)\n",
    "            denom = precinct_specific_totals.loc[precinct_specific_totals[county_id_column]==county_id][race]\n",
    "            #Get one of the numerators, how many districtwide votes to allocate\n",
    "            numer = to_dole_out_totals.loc[to_dole_out_totals[county_id_column]==county_id][race]\n",
    "            #Get the vote totals for this race in this precinct\n",
    "            val = elections_df.at[index,race]\n",
    "            #Get the vote share, the precincts % of total precinct votes in the district times votes to allocate\n",
    "            if ((float(denom)==0)):\n",
    "                vote_share = 0\n",
    "            else:\n",
    "                vote_share = (float(val)/float(denom))*float(numer)\n",
    "            elections_df.at[index,add_var] = vote_share\n",
    "            #Take the decimal remainder of the allocation\n",
    "            elections_df.at[index,rem_var] = vote_share%1\n",
    "            #Take the floor of the allocation\n",
    "            elections_df.at[index,floor_var] = np.floor(vote_share)\n",
    "\n",
    "    #After the first pass through, get the sums of the races by district to assist in the rounding            \n",
    "    first_allocation = pd.DataFrame(elections_df.groupby([county_id_column]).sum())\n",
    "\n",
    "    #Now we want to iterate district by district to work on rounding\n",
    "    county_list = list(to_dole_out_totals[county_id_column].unique()) \n",
    "\n",
    "    #Iterate over the county/district\n",
    "    for county in county_list:\n",
    "        for race in column_list:\n",
    "            add_var = race+\"_add\"\n",
    "            rem_var = race+\"_rem\"\n",
    "            floor_var = race+\"_floor\"\n",
    "            #County how many votes still need to be allocated (because we took the floor of all the initial allocations)\n",
    "            to_go = int(np.round((int(to_dole_out_totals.loc[to_dole_out_totals[county_id_column]==county][race])-first_allocation.loc[first_allocation.index==county,floor_var])))\n",
    "            #Grab the n precincts with the highest remainders and round these up, where n is the # of votes that still need to be allocated\n",
    "            for index in elections_df.loc[elections_df[county_id_column]==county][rem_var].nlargest(to_go).index:\n",
    "                elections_df.at[index,add_var] = np.ceil(elections_df.at[index,add_var])\n",
    "\n",
    "    #Iterate over every race again\n",
    "    for race in column_list:\n",
    "        add_var = race+\"_add\"\n",
    "        #Round every allocation down to not add fractional votes\n",
    "        elections_df.loc[:,add_var]=np.floor(elections_df.loc[:,add_var])\n",
    "        elections_df.loc[:,race]+=elections_df.loc[:,add_var]\n",
    "        \n",
    "def absentee_reallocation(column_list, elections_df, df_no_absent_or_provisional, precinct_specific_totals, to_dole_out_totals, county_id_column):\n",
    "    rounding_columns_creation(column_list, elections_df)\n",
    "    iterate_df_to_add_rounding(column_list, df_no_absent_or_provisional, elections_df, precinct_specific_totals, to_dole_out_totals, county_id_column)\n",
    "    print(\"Absentee reallocation complete!\")"
   ]
  },
  {
   "cell_type": "code",
   "execution_count": 19,
   "metadata": {},
   "outputs": [
    {
     "name": "stdout",
     "output_type": "stream",
     "text": [
      "Absentee reallocation complete!\n"
     ]
    }
   ],
   "source": [
    "#call absentee reallocation fxn\n",
    "absentee_reallocation(column_list, df_with_absentee_reallocated, df_no_absent_or_provisional, precinct_specific_totals, to_dole_out_totals, \"COUNTYFP\")"
   ]
  },
  {
   "cell_type": "markdown",
   "metadata": {},
   "source": [
    "### re-check vote totals post reallocation"
   ]
  },
  {
   "cell_type": "code",
   "execution_count": 20,
   "metadata": {},
   "outputs": [
    {
     "name": "stdout",
     "output_type": "stream",
     "text": [
      "S17SOVDEM: EQUAL  - total:  18075.0\n",
      "S17SOVREP: EQUAL  - total:  13713.0\n",
      "S17SOVIND: EQUAL  - total:  1884.0\n",
      "S17SOVLIB: EQUAL  - total:  692.0\n",
      "S17SOVWRI: EQUAL  - total:  74.0\n"
     ]
    }
   ],
   "source": [
    "#Run function to check race tots\n",
    "colum_total_check(column_list, df_with_absentee_reallocated, gdfv)"
   ]
  },
  {
   "cell_type": "code",
   "execution_count": 21,
   "metadata": {},
   "outputs": [
    {
     "name": "stdout",
     "output_type": "stream",
     "text": [
      "Counties with differences printed below:\n",
      "\n",
      "All other races in all counties are equal\n"
     ]
    }
   ],
   "source": [
    "#Run function to check county tots\n",
    "county_total_check(column_list, df_with_absentee_reallocated, gdfv)"
   ]
  },
  {
   "cell_type": "markdown",
   "metadata": {},
   "source": [
    "## Create unique id"
   ]
  },
  {
   "cell_type": "code",
   "execution_count": 23,
   "metadata": {},
   "outputs": [],
   "source": [
    "#Function to fix/account for above differences\n",
    "def vtdst_changer(vtdst):\n",
    "    if (vtdst[1:3] == ' -'):\n",
    "        two_lead_zero = '00' + vtdst[:1]\n",
    "        return two_lead_zero\n",
    "    elif (vtdst[1:3] == '- '):\n",
    "        two_lead_zero = '00' + vtdst[:1]\n",
    "        return two_lead_zero\n",
    "    elif (vtdst[-1:] == ' '):\n",
    "        one_lead_zero = '0' + vtdst[:2]\n",
    "        return one_lead_zero\n",
    "    elif (vtdst[-1:] == '-'):\n",
    "        one_lead_zero = '0' + vtdst[:2]\n",
    "        return one_lead_zero\n",
    "    else:\n",
    "        return vtdst"
   ]
  },
  {
   "cell_type": "code",
   "execution_count": 24,
   "metadata": {},
   "outputs": [
    {
     "name": "stdout",
     "output_type": "stream",
     "text": [
      "unique ids in df not in vest file:  {'109501'}\n",
      "unique ids in vest file not in df:  set()\n"
     ]
    }
   ],
   "source": [
    "df_with_absentee_reallocated['vtdst'] = df_with_absentee_reallocated.Pct.str.slice(stop = 3).apply(vtdst_changer)\n",
    "\n",
    "df_with_absentee_reallocated['unique_id'] = df_with_absentee_reallocated.COUNTYFP + df_with_absentee_reallocated.vtdst\n",
    "gdfv['unique_id'] = gdfv.COUNTYFP + gdfv.VTDST.str.slice(start = 3)\n",
    "print('unique ids in df not in vest file: ', set(df_with_absentee_reallocated.unique_id) - set(gdfv.unique_id))\n",
    "print('unique ids in vest file not in df: ', set(gdfv.unique_id) - set(df_with_absentee_reallocated.unique_id))"
   ]
  },
  {
   "cell_type": "code",
   "execution_count": 25,
   "metadata": {},
   "outputs": [
    {
     "data": {
      "text/html": [
       "<div>\n",
       "<style scoped>\n",
       "    .dataframe tbody tr th:only-of-type {\n",
       "        vertical-align: middle;\n",
       "    }\n",
       "\n",
       "    .dataframe tbody tr th {\n",
       "        vertical-align: top;\n",
       "    }\n",
       "\n",
       "    .dataframe thead th {\n",
       "        text-align: right;\n",
       "    }\n",
       "</style>\n",
       "<table border=\"1\" class=\"dataframe\">\n",
       "  <thead>\n",
       "    <tr style=\"text-align: right;\">\n",
       "      <th></th>\n",
       "      <th>level_0</th>\n",
       "      <th>index</th>\n",
       "      <th>Pct</th>\n",
       "      <th>Total Votes Cast</th>\n",
       "      <th>SOV_DIST</th>\n",
       "      <th>LOCALITY</th>\n",
       "      <th>S17SOVDEM</th>\n",
       "      <th>S17SOVLIB</th>\n",
       "      <th>S17SOVWRI</th>\n",
       "      <th>COUNTYFP</th>\n",
       "      <th>S17SOVREP</th>\n",
       "      <th>S17SOVIND</th>\n",
       "      <th>S17SOVDEM_add</th>\n",
       "      <th>S17SOVDEM_rem</th>\n",
       "      <th>S17SOVDEM_floor</th>\n",
       "      <th>S17SOVREP_add</th>\n",
       "      <th>S17SOVREP_rem</th>\n",
       "      <th>S17SOVREP_floor</th>\n",
       "      <th>S17SOVIND_add</th>\n",
       "      <th>S17SOVIND_rem</th>\n",
       "      <th>S17SOVIND_floor</th>\n",
       "      <th>S17SOVLIB_add</th>\n",
       "      <th>S17SOVLIB_rem</th>\n",
       "      <th>S17SOVLIB_floor</th>\n",
       "      <th>S17SOVWRI_add</th>\n",
       "      <th>S17SOVWRI_rem</th>\n",
       "      <th>S17SOVWRI_floor</th>\n",
       "      <th>vtdst</th>\n",
       "      <th>unique_id</th>\n",
       "    </tr>\n",
       "  </thead>\n",
       "  <tbody>\n",
       "    <tr>\n",
       "      <th>141</th>\n",
       "      <td>141</td>\n",
       "      <td>63</td>\n",
       "      <td>501 - Fredericks Hall</td>\n",
       "      <td>0</td>\n",
       "      <td>022</td>\n",
       "      <td>Louisa County</td>\n",
       "      <td>0.0</td>\n",
       "      <td>0.0</td>\n",
       "      <td>0.0</td>\n",
       "      <td>109</td>\n",
       "      <td>0.0</td>\n",
       "      <td>0.0</td>\n",
       "      <td>0.0</td>\n",
       "      <td>0.0</td>\n",
       "      <td>0.0</td>\n",
       "      <td>0.0</td>\n",
       "      <td>0.0</td>\n",
       "      <td>0.0</td>\n",
       "      <td>0.0</td>\n",
       "      <td>0.0</td>\n",
       "      <td>0.0</td>\n",
       "      <td>0.0</td>\n",
       "      <td>0.0</td>\n",
       "      <td>0.0</td>\n",
       "      <td>0.0</td>\n",
       "      <td>0.0</td>\n",
       "      <td>0.0</td>\n",
       "      <td>501</td>\n",
       "      <td>109501</td>\n",
       "    </tr>\n",
       "  </tbody>\n",
       "</table>\n",
       "</div>"
      ],
      "text/plain": [
       "     level_0  index                    Pct Total Votes Cast SOV_DIST  \\\n",
       "141      141     63  501 - Fredericks Hall                0      022   \n",
       "\n",
       "          LOCALITY  S17SOVDEM  S17SOVLIB  S17SOVWRI COUNTYFP  S17SOVREP  \\\n",
       "141  Louisa County        0.0        0.0        0.0      109        0.0   \n",
       "\n",
       "     S17SOVIND  S17SOVDEM_add  S17SOVDEM_rem  S17SOVDEM_floor  S17SOVREP_add  \\\n",
       "141        0.0            0.0            0.0              0.0            0.0   \n",
       "\n",
       "     S17SOVREP_rem  S17SOVREP_floor  S17SOVIND_add  S17SOVIND_rem  \\\n",
       "141            0.0              0.0            0.0            0.0   \n",
       "\n",
       "     S17SOVIND_floor  S17SOVLIB_add  S17SOVLIB_rem  S17SOVLIB_floor  \\\n",
       "141              0.0            0.0            0.0              0.0   \n",
       "\n",
       "     S17SOVWRI_add  S17SOVWRI_rem  S17SOVWRI_floor vtdst unique_id  \n",
       "141            0.0            0.0              0.0   501    109501  "
      ]
     },
     "execution_count": 25,
     "metadata": {},
     "output_type": "execute_result"
    }
   ],
   "source": [
    "#The one id in df not in vest file is zero vote precinct, so can be ignored for election results validation\n",
    "df_with_absentee_reallocated[df_with_absentee_reallocated['unique_id'] == '109501']"
   ]
  },
  {
   "cell_type": "markdown",
   "metadata": {},
   "source": [
    "### Join attempt 1 - election results to vest to check precinct totals"
   ]
  },
  {
   "cell_type": "code",
   "execution_count": 26,
   "metadata": {},
   "outputs": [
    {
     "name": "stdout",
     "output_type": "stream",
     "text": [
      "both          147\n",
      "left_only       1\n",
      "right_only      0\n",
      "Name: _merge, dtype: int64\n"
     ]
    }
   ],
   "source": [
    "join_1_df_vest = pd.merge(df_with_absentee_reallocated, gdfv, on = 'unique_id', how = 'outer', indicator = True)\n",
    "print(join_1_df_vest[\"_merge\"].value_counts())"
   ]
  },
  {
   "cell_type": "markdown",
   "metadata": {},
   "source": [
    "## Preliminary precinct level election result comparison"
   ]
  },
  {
   "cell_type": "code",
   "execution_count": 27,
   "metadata": {},
   "outputs": [],
   "source": [
    "def validater_row (df, column_list, precinct_id):\n",
    "    matching_rows = 0\n",
    "    different_rows = 0\n",
    "    diff_list=[]\n",
    "    diff_values = []\n",
    "    max_diff = 0\n",
    "    for j in range(0,len(df.index)):\n",
    "        same = True\n",
    "        for i in column_list:\n",
    "            left_Data = i + \"_x\"\n",
    "            right_Data = i + \"_y\"\n",
    "            diff = abs(df.iloc[j][left_Data]-df.iloc[j][right_Data])\n",
    "            if(diff >0):\n",
    "                if(diff>1): #7/12/21 LF mod to be >1 instead of >0 to print fewer results\n",
    "                    print(i, \"{:.>72}\".format(df.iloc[j][precinct_id]), \"(V)\",\"{:.>5}\".format(int(df.iloc[j][left_Data])),\" (S){:.>5}\".format(int(df.iloc[j][right_Data])),\"(D):{:>5}\".format(int(df.iloc[j][right_Data])-int(df.iloc[j][left_Data])))           \n",
    "                #print(df.iloc[j]['countypct'])\n",
    "                \n",
    "                diff_values.append(abs(diff))\n",
    "                same = False\n",
    "                if(np.isnan(diff)):\n",
    "                    print(\"NaN value at diff is: \", df.iloc[j][precinct_id])\n",
    "                    print(df.iloc[j][left_Data])\n",
    "                    print(df.iloc[j][right_Data])\n",
    "                if (diff>max_diff):\n",
    "                    max_diff = diff\n",
    "                    #print(\"New max diff is: \", str(max_diff))\n",
    "                    #print(df.iloc[j]['cty_pct'])\n",
    "        if(same != True):\n",
    "            different_rows +=1\n",
    "            diff_list.append(df.iloc[j][precinct_id])\n",
    "        else:\n",
    "            matching_rows +=1\n",
    "    print(\"\")\n",
    "    print(\"There are \", len(df.index),\" total rows\")\n",
    "    print(different_rows,\" of these rows have election result differences\")\n",
    "    print(matching_rows,\" of these rows are the same\")\n",
    "    print(\"\")\n",
    "    print(\"The max difference between any one shared column in a row is: \", max_diff)\n",
    "    if(len(diff_values)!=0):\n",
    "        print(\"The average difference is: \", str(sum(diff_values)/len(diff_values)))\n",
    "    count_big_diff = len([i for i in diff_values if i > 10])\n",
    "    print(\"There are \", str(count_big_diff), \"precinct results with a difference greater than 10\")\n",
    "    diff_list.sort()"
   ]
  },
  {
   "cell_type": "code",
   "execution_count": 28,
   "metadata": {},
   "outputs": [
    {
     "name": "stdout",
     "output_type": "stream",
     "text": [
      "\n",
      "There are  147  total rows\n",
      "19  of these rows have election result differences\n",
      "128  of these rows are the same\n",
      "\n",
      "The max difference between any one shared column in a row is:  1.0\n",
      "The average difference is:  1.0\n",
      "There are  0 precinct results with a difference greater than 10\n"
     ]
    }
   ],
   "source": [
    "validater_row(join_1_df_vest[join_1_df_vest['_merge'] == 'both'].sort_values('unique_id'), column_list, \"unique_id\")"
   ]
  },
  {
   "cell_type": "markdown",
   "metadata": {},
   "source": [
    "## Shapefile"
   ]
  },
  {
   "cell_type": "code",
   "execution_count": 29,
   "metadata": {},
   "outputs": [],
   "source": [
    "def load_in_census_phase_2_release_shp(parent_directory, geog_level, vest_gdf):\n",
    "    '''geog_level usually equal 'vtd' for rdh purposes, and needs to be in quotes. Check string for other geog levels. '''\n",
    "    #Collect county fips to iterate over\n",
    "    county_fips = []\n",
    "    for directory in os.listdir(parent_directory):\n",
    "        if not directory[0] == '.':\n",
    "            county_fips.append(directory[-5:])\n",
    "    #load in geographies\n",
    "    county_geog = []\n",
    "    for i in county_fips:\n",
    "        ref = parent_directory + 'partnership_shapefiles_19v2_'\n",
    "        geog_ref = ref + i + '/PVS_19_v2_' + geog_level +'_' + i + '.shp' \n",
    "        geog_shp = gp.read_file(geog_ref)\n",
    "        #print(i, ' added to list')\n",
    "        county_geog.append(geog_shp)\n",
    "    \n",
    "    global proj\n",
    "    proj = vest_gdf.crs\n",
    "    global shp_geog_name\n",
    "    shp_geog_name = gp.GeoDataFrame(pd.concat(county_geog, axis = 0) , crs = proj) "
   ]
  },
  {
   "cell_type": "code",
   "execution_count": 30,
   "metadata": {},
   "outputs": [],
   "source": [
    "parent_directory = './raw_from_source/census_shps_by_county_all_unzip/'\n",
    "#Load in precinct shapefile\n",
    "load_in_census_phase_2_release_shp(parent_directory, 'vtd', gdfv)\n",
    "vtd_shp = shp_geog_name\n",
    "#Load in state senate district shapefile\n",
    "load_in_census_phase_2_release_shp(parent_directory, 'sldu', gdfv)\n",
    "#filter for relevant districts\n",
    "sldu_shp = shp_geog_name[(shp_geog_name.SLDUST == '009')|(shp_geog_name.SLDUST == '022')]\n",
    "#overlay precinct and senate districts\n",
    "shp = gp.overlay(sldu_shp, vtd_shp, how = 'intersection', make_valid=True, keep_geom_type=True)"
   ]
  },
  {
   "cell_type": "code",
   "execution_count": 31,
   "metadata": {},
   "outputs": [
    {
     "name": "stdout",
     "output_type": "stream",
     "text": [
      "virginia precincts:\n",
      "senate districts 9 and 22:\n",
      "senate districts/precinct overlay:\n"
     ]
    },
    {
     "data": {
      "text/plain": [
       "<AxesSubplot:>"
      ]
     },
     "execution_count": 31,
     "metadata": {},
     "output_type": "execute_result"
    },
    {
     "data": {
      "image/png": "[encoded data removed]",
      "text/plain": [
       "<Figure size 432x288 with 1 Axes>"
      ]
     },
     "metadata": {
      "needs_background": "light"
     },
     "output_type": "display_data"
    },
    {
     "data": {
      "image/png": "[encoded data removed]",
      "text/plain": [
       "<Figure size 432x288 with 1 Axes>"
      ]
     },
     "metadata": {
      "needs_background": "light"
     },
     "output_type": "display_data"
    },
    {
     "data": {
      "image/png": "[encoded data removed]",
      "text/plain": [
       "<Figure size 432x288 with 1 Axes>"
      ]
     },
     "metadata": {
      "needs_background": "light"
     },
     "output_type": "display_data"
    }
   ],
   "source": [
    "print(\"virginia precincts:\")\n",
    "vtd_shp.plot()\n",
    "print(\"senate districts 9 and 22:\")\n",
    "sldu_shp.plot()\n",
    "print('senate districts/precinct overlay:')\n",
    "shp.plot()"
   ]
  },
  {
   "cell_type": "markdown",
   "metadata": {},
   "source": [
    "### SHP unique id"
   ]
  },
  {
   "cell_type": "code",
   "execution_count": 33,
   "metadata": {},
   "outputs": [
    {
     "name": "stdout",
     "output_type": "stream",
     "text": [
      "unique_id in shp not in vest file {'680101', '760706'}\n",
      "unique_id in vest file not shp set()\n"
     ]
    }
   ],
   "source": [
    "#assign shp unique id\n",
    "shp['unique_id'] = shp['COUNTYFP_1'] + shp['VTDST'].str.slice(start = 3)\n",
    "print('unique_id in shp not in vest file',set(shp.unique_id) - set(gdfv.unique_id))\n",
    "print('unique_id in vest file not shp',set(gdfv.unique_id) - set(shp.unique_id))"
   ]
  },
  {
   "cell_type": "code",
   "execution_count": 64,
   "metadata": {},
   "outputs": [
    {
     "name": "stdout",
     "output_type": "stream",
     "text": [
      "unique_id in shp not in vest file {'680101', '760706'} shp shape:  (149, 43)\n",
      "unique_id in vest file not shp {'109501'} df shape:  (148, 29)\n"
     ]
    }
   ],
   "source": [
    "print('unique_id in shp not in vest file',set(shp.unique_id) - set(df_with_absentee_reallocated.unique_id), \"shp shape: \", shp.shape)\n",
    "print('unique_id in vest file not shp',set(df_with_absentee_reallocated.unique_id) - set(shp.unique_id), \"df shape: \", df_with_absentee_reallocated.shape)"
   ]
  },
  {
   "cell_type": "code",
   "execution_count": 34,
   "metadata": {},
   "outputs": [
    {
     "data": {
      "text/plain": [
       "(149, 43)"
      ]
     },
     "execution_count": 34,
     "metadata": {},
     "output_type": "execute_result"
    }
   ],
   "source": [
    "shp.shape"
   ]
  },
  {
   "cell_type": "code",
   "execution_count": 35,
   "metadata": {},
   "outputs": [
    {
     "data": {
      "text/plain": [
       "<AxesSubplot:>"
      ]
     },
     "execution_count": 35,
     "metadata": {},
     "output_type": "execute_result"
    },
    {
     "data": {
      "image/png": "[encoded data removed]",
      "text/plain": [
       "<Figure size 432x288 with 1 Axes>"
      ]
     },
     "metadata": {
      "needs_background": "light"
     },
     "output_type": "display_data"
    }
   ],
   "source": [
    "shp[(shp['unique_id'] == '680101')|(shp['unique_id'] == '760706')].plot()"
   ]
  },
  {
   "cell_type": "code",
   "execution_count": 65,
   "metadata": {},
   "outputs": [
    {
     "data": {
      "text/html": [
       "<div>\n",
       "<style scoped>\n",
       "    .dataframe tbody tr th:only-of-type {\n",
       "        vertical-align: middle;\n",
       "    }\n",
       "\n",
       "    .dataframe tbody tr th {\n",
       "        vertical-align: top;\n",
       "    }\n",
       "\n",
       "    .dataframe thead th {\n",
       "        text-align: right;\n",
       "    }\n",
       "</style>\n",
       "<table border=\"1\" class=\"dataframe\">\n",
       "  <thead>\n",
       "    <tr style=\"text-align: right;\">\n",
       "      <th></th>\n",
       "      <th>STATEFP_1</th>\n",
       "      <th>COUNTYFP_1</th>\n",
       "      <th>SLDUST</th>\n",
       "      <th>NAMELSAD_1</th>\n",
       "      <th>LSAD_1</th>\n",
       "      <th>PARTFLG</th>\n",
       "      <th>CHNG_TYPE_1</th>\n",
       "      <th>EFF_DATE</th>\n",
       "      <th>NEW_NAME</th>\n",
       "      <th>NEW_CODE</th>\n",
       "      <th>RELTYPE1</th>\n",
       "      <th>RELTYPE2</th>\n",
       "      <th>RELTYPE3</th>\n",
       "      <th>RELTYPE4</th>\n",
       "      <th>RELTYPE5</th>\n",
       "      <th>REL_ENT1</th>\n",
       "      <th>REL_ENT2</th>\n",
       "      <th>REL_ENT3</th>\n",
       "      <th>REL_ENT4</th>\n",
       "      <th>REL_ENT5</th>\n",
       "      <th>RELATE_1</th>\n",
       "      <th>JUSTIFY_1</th>\n",
       "      <th>LSY</th>\n",
       "      <th>NAME_1</th>\n",
       "      <th>VINTAGE_1</th>\n",
       "      <th>FUNCSTAT_1</th>\n",
       "      <th>STATEFP_2</th>\n",
       "      <th>COUNTYFP_2</th>\n",
       "      <th>VTDST</th>\n",
       "      <th>NAMELSAD_2</th>\n",
       "      <th>VTDI</th>\n",
       "      <th>LSAD_2</th>\n",
       "      <th>CHNG_TYPE_2</th>\n",
       "      <th>ORIG_NAME</th>\n",
       "      <th>ORIG_CODE</th>\n",
       "      <th>RELATE_2</th>\n",
       "      <th>NAME_2</th>\n",
       "      <th>VINTAGE_2</th>\n",
       "      <th>FUNCSTAT_2</th>\n",
       "      <th>JUSTIFY_2</th>\n",
       "      <th>MTFCC</th>\n",
       "      <th>geometry</th>\n",
       "      <th>unique_id</th>\n",
       "    </tr>\n",
       "  </thead>\n",
       "  <tbody>\n",
       "    <tr>\n",
       "      <th>51</th>\n",
       "      <td>51</td>\n",
       "      <td>680</td>\n",
       "      <td>022</td>\n",
       "      <td>State Senate District 22</td>\n",
       "      <td>LU</td>\n",
       "      <td>Y</td>\n",
       "      <td>None</td>\n",
       "      <td>None</td>\n",
       "      <td>None</td>\n",
       "      <td>None</td>\n",
       "      <td>None</td>\n",
       "      <td>None</td>\n",
       "      <td>None</td>\n",
       "      <td>None</td>\n",
       "      <td>None</td>\n",
       "      <td>None</td>\n",
       "      <td>None</td>\n",
       "      <td>None</td>\n",
       "      <td>None</td>\n",
       "      <td>None</td>\n",
       "      <td>None</td>\n",
       "      <td>None</td>\n",
       "      <td>2018</td>\n",
       "      <td>22</td>\n",
       "      <td>None</td>\n",
       "      <td>N</td>\n",
       "      <td>51</td>\n",
       "      <td>680</td>\n",
       "      <td>000101</td>\n",
       "      <td>First Ward First Precinct</td>\n",
       "      <td>A</td>\n",
       "      <td>00</td>\n",
       "      <td>None</td>\n",
       "      <td>None</td>\n",
       "      <td>None</td>\n",
       "      <td>None</td>\n",
       "      <td>First Ward First Precinct</td>\n",
       "      <td>90</td>\n",
       "      <td>N</td>\n",
       "      <td>None</td>\n",
       "      <td>G5240</td>\n",
       "      <td>POLYGON Z ((-79.24483 37.42084 0.00000, -79.24...</td>\n",
       "      <td>680101</td>\n",
       "    </tr>\n",
       "    <tr>\n",
       "      <th>127</th>\n",
       "      <td>51</td>\n",
       "      <td>760</td>\n",
       "      <td>009</td>\n",
       "      <td>State Senate District 9</td>\n",
       "      <td>LU</td>\n",
       "      <td>Y</td>\n",
       "      <td>None</td>\n",
       "      <td>None</td>\n",
       "      <td>None</td>\n",
       "      <td>None</td>\n",
       "      <td>None</td>\n",
       "      <td>None</td>\n",
       "      <td>None</td>\n",
       "      <td>None</td>\n",
       "      <td>None</td>\n",
       "      <td>None</td>\n",
       "      <td>None</td>\n",
       "      <td>None</td>\n",
       "      <td>None</td>\n",
       "      <td>None</td>\n",
       "      <td>None</td>\n",
       "      <td>None</td>\n",
       "      <td>2018</td>\n",
       "      <td>9</td>\n",
       "      <td>None</td>\n",
       "      <td>N</td>\n",
       "      <td>51</td>\n",
       "      <td>760</td>\n",
       "      <td>000706</td>\n",
       "      <td>706</td>\n",
       "      <td>A</td>\n",
       "      <td>00</td>\n",
       "      <td>None</td>\n",
       "      <td>None</td>\n",
       "      <td>None</td>\n",
       "      <td>None</td>\n",
       "      <td>706</td>\n",
       "      <td>90</td>\n",
       "      <td>N</td>\n",
       "      <td>None</td>\n",
       "      <td>G5240</td>\n",
       "      <td>POLYGON Z ((-77.38760 37.51748 0.00000, -77.38...</td>\n",
       "      <td>760706</td>\n",
       "    </tr>\n",
       "  </tbody>\n",
       "</table>\n",
       "</div>"
      ],
      "text/plain": [
       "    STATEFP_1 COUNTYFP_1 SLDUST                NAMELSAD_1 LSAD_1 PARTFLG  \\\n",
       "51         51        680    022  State Senate District 22     LU       Y   \n",
       "127        51        760    009   State Senate District 9     LU       Y   \n",
       "\n",
       "    CHNG_TYPE_1 EFF_DATE NEW_NAME NEW_CODE RELTYPE1 RELTYPE2 RELTYPE3  \\\n",
       "51         None     None     None     None     None     None     None   \n",
       "127        None     None     None     None     None     None     None   \n",
       "\n",
       "    RELTYPE4 RELTYPE5 REL_ENT1 REL_ENT2 REL_ENT3 REL_ENT4 REL_ENT5 RELATE_1  \\\n",
       "51      None     None     None     None     None     None     None     None   \n",
       "127     None     None     None     None     None     None     None     None   \n",
       "\n",
       "    JUSTIFY_1   LSY NAME_1 VINTAGE_1 FUNCSTAT_1 STATEFP_2 COUNTYFP_2   VTDST  \\\n",
       "51       None  2018     22      None          N        51        680  000101   \n",
       "127      None  2018      9      None          N        51        760  000706   \n",
       "\n",
       "                    NAMELSAD_2 VTDI LSAD_2 CHNG_TYPE_2 ORIG_NAME ORIG_CODE  \\\n",
       "51   First Ward First Precinct    A     00        None      None      None   \n",
       "127                        706    A     00        None      None      None   \n",
       "\n",
       "    RELATE_2                     NAME_2 VINTAGE_2 FUNCSTAT_2 JUSTIFY_2  MTFCC  \\\n",
       "51      None  First Ward First Precinct        90          N      None  G5240   \n",
       "127     None                        706        90          N      None  G5240   \n",
       "\n",
       "                                              geometry unique_id  \n",
       "51   POLYGON Z ((-79.24483 37.42084 0.00000, -79.24...    680101  \n",
       "127  POLYGON Z ((-77.38760 37.51748 0.00000, -77.38...    760706  "
      ]
     },
     "execution_count": 65,
     "metadata": {},
     "output_type": "execute_result"
    }
   ],
   "source": [
    "shp[(shp['unique_id'] == '680101')|(shp['unique_id'] == '760706')]"
   ]
  },
  {
   "cell_type": "markdown",
   "metadata": {},
   "source": [
    "shp has two extra precincts compared to vest file. "
   ]
  },
  {
   "cell_type": "markdown",
   "metadata": {},
   "source": [
    "## Validation"
   ]
  },
  {
   "cell_type": "markdown",
   "metadata": {},
   "source": [
    "### Shapefile"
   ]
  },
  {
   "cell_type": "code",
   "execution_count": 62,
   "metadata": {},
   "outputs": [
    {
     "name": "stdout",
     "output_type": "stream",
     "text": [
      "both          147\n",
      "left_only       3\n",
      "right_only      0\n",
      "Name: _merge, dtype: int64\n"
     ]
    }
   ],
   "source": [
    "print(shp_gdfv_merge['_merge'].value_counts())"
   ]
  },
  {
   "cell_type": "code",
   "execution_count": 59,
   "metadata": {},
   "outputs": [],
   "source": [
    "def shp_validation_variable_defining_and_geom_almost_equals_check(elections_df, source_shp, vest_gdf, precinct_id_column):\n",
    "    join = gp.GeoDataFrame(pd.merge(elections_df, source_shp, on = precinct_id_column, how = 'outer'), crs = proj)\n",
    "    global shp_gdfv_merge\n",
    "    shp_gdfv_merge = pd.merge(join, vest_gdf, on = precinct_id_column, how = 'outer', suffixes = ['_x', '_y'], indicator = True)\n",
    "    #shp_gdfv_merge = shp_gdfv_merge.reset_index()\n",
    "\n",
    "    both = shp_gdfv_merge[shp_gdfv_merge[\"_merge\"]==\"both\"]\n",
    "    #both.reset_index(drop=True,inplace=True)\n",
    "    global source_geoms\n",
    "    source_geoms = gp.GeoDataFrame(both,geometry=\"geometry_x\",crs=gdfv.crs)\n",
    "    global vest_geoms\n",
    "    vest_geoms = gp.GeoDataFrame(both,geometry=\"geometry_y\",crs=gdfv.crs)\n",
    "    source_geoms = source_geoms.to_crs(3857)\n",
    "    vest_geoms = vest_geoms.to_crs(3857)\n",
    "    source_geoms[\"geometry_x\"]=source_geoms.buffer(0)\n",
    "    vest_geoms[\"geometry_y\"]=vest_geoms.buffer(0)\n",
    "    vals = source_geoms.geom_almost_equals(vest_geoms,decimal=0)\n",
    "    print('geom_almost_equals value counts: ', vals.value_counts())\n",
    "\n",
    "def geog_area_difference_plot(source_geoms, vest_geoms, precinct_id_column):\n",
    "    count = 0\n",
    "    global area_list\n",
    "    area_list = []\n",
    "    big_diff = pd.DataFrame(columns=[\"area\"])\n",
    "    print('AREA DIFFERENCES PLOTTED BELOW')\n",
    "    for i in range(0,len(source_geoms)):\n",
    "        diff = source_geoms.iloc[[i]].symmetric_difference(vest_geoms.iloc[[i]])\n",
    "        intersection = source_geoms.iloc[[i]].intersection(vest_geoms.iloc[[i]])\n",
    "        area = float(diff.area/10e6)\n",
    "        area_list.append(area)\n",
    "        #print(\"Area is \" + str(area))\n",
    "\n",
    "        if (area > 1):\n",
    "            count += 1\n",
    "            name = source_geoms.at[i,precinct_id_column]\n",
    "            big_diff.loc[name]=area\n",
    "            print(str(count)+\") For SOURCE: \" + name + ', VEST: '+ vest_geoms.at[i,precinct_id_column]+ \" difference in area is \" + str(area))\n",
    "            if (intersection.iloc[0].is_empty):\n",
    "                base = diff.plot(color=\"red\")\n",
    "                source_geoms.iloc[[i]].plot(color=\"orange\",ax=base)\n",
    "                vest_geoms.iloc[[i]].plot(color=\"blue\",ax=base)\n",
    "                base.set_title(name)\n",
    "            else:\n",
    "                base = diff.plot(color=\"red\")\n",
    "                source_geoms.iloc[[i]].plot(color=\"orange\",ax=base)\n",
    "                vest_geoms.iloc[[i]].plot(color=\"blue\",ax=base)\n",
    "                intersection.plot(color=\"green\",ax=base)\n",
    "                base.set_title(name)\n",
    "                \n",
    "def geog_area_difference_list(area_list):\n",
    "    df = pd.DataFrame(area_list)\n",
    "    print('AREA DIFFERENCES PRINTED BELOW')\n",
    "    print(df.shape)\n",
    "\n",
    "    print(str(len(df[df[0]==0]))+\" precincts w/ a difference of 0 km^2\")\n",
    "    print(str(len(df[(df[0]<.1) & (df[0]>0)]))+ \" precincts w/ a difference between 0 and 0.1 km^2\")\n",
    "    print(str(len(df[(df[0]<.5) & (df[0]>=.1)]))+ \" precincts w/ a difference between 0.1 and 0.5 km^2\")\n",
    "    print(str(len(df[(df[0]<1) & (df[0]>=.5)]))+ \" precincts w/ a difference between 0.5 and 1 km^2\")\n",
    "    print(str(len(df[(df[0]<2) & (df[0]>=1)]))+ \" precincts w/ a difference between 1 and 2 km^2\")\n",
    "    print(str(len(df[(df[0]<5) & (df[0]>=2)]))+ \" precincts w/ a difference between 2 and 5 km^2\")\n",
    "    print(str(len(df[(df[0]>=5)]))+ \" precincts w/ a difference greater than 5 km^2\")\n",
    "\n",
    "def shp_total_validation(elections_df, source_shp, vest_gdf, precinct_id_column):\n",
    "    shp_validation_variable_defining_and_geom_almost_equals_check(elections_df, source_shp, vest_gdf, precinct_id_column)\n",
    "    geog_area_difference_plot(source_geoms, vest_geoms, precinct_id_column)\n",
    "    geog_area_difference_list(area_list)"
   ]
  },
  {
   "cell_type": "code",
   "execution_count": 60,
   "metadata": {},
   "outputs": [
    {
     "name": "stdout",
     "output_type": "stream",
     "text": [
      "geom_almost_equals value counts:  False    147\n",
      "dtype: int64\n",
      "AREA DIFFERENCES PLOTTED BELOW\n",
      "1) For SOURCE: 075202, VEST: 075202 difference in area is 1.0661417587320714\n",
      "2) For SOURCE: 075401, VEST: 075401 difference in area is 2.6975778668525776\n",
      "3) For SOURCE: 075402, VEST: 075402 difference in area is 2.698646356341485\n",
      "4) For SOURCE: 109701, VEST: 109701 difference in area is 1.1547347316847512\n",
      "5) For SOURCE: 680403, VEST: 680403 difference in area is 2.4946745290011005\n",
      "6) For SOURCE: 147101, VEST: 147101 difference in area is 2.936365936002648\n",
      "7) For SOURCE: 147201, VEST: 147201 difference in area is 2.93229544033087\n",
      "8) For SOURCE: 147501, VEST: 147501 difference in area is 2.293644305239482\n",
      "9) For SOURCE: 147502, VEST: 147502 difference in area is 1.1636920314767547\n",
      "AREA DIFFERENCES PRINTED BELOW\n",
      "(147, 1)\n",
      "114 precincts w/ a difference of 0 km^2\n",
      "12 precincts w/ a difference between 0 and 0.1 km^2\n",
      "6 precincts w/ a difference between 0.1 and 0.5 km^2\n",
      "6 precincts w/ a difference between 0.5 and 1 km^2\n",
      "3 precincts w/ a difference between 1 and 2 km^2\n",
      "6 precincts w/ a difference between 2 and 5 km^2\n",
      "0 precincts w/ a difference greater than 5 km^2\n"
     ]
    },
    {
     "data": {
      "image/png": "[encoded data removed]",
      "text/plain": [
       "<Figure size 432x288 with 1 Axes>"
      ]
     },
     "metadata": {
      "needs_background": "light"
     },
     "output_type": "display_data"
    },
    {
     "data": {
      "image/png": "[encoded data removed]",
      "text/plain": [
       "<Figure size 432x288 with 1 Axes>"
      ]
     },
     "metadata": {
      "needs_background": "light"
     },
     "output_type": "display_data"
    },
    {
     "data": {
      "image/png": "[encoded data removed]",
      "text/plain": [
       "<Figure size 432x288 with 1 Axes>"
      ]
     },
     "metadata": {
      "needs_background": "light"
     },
     "output_type": "display_data"
    },
    {
     "data": {
      "image/png": "[encoded data removed]",
      "text/plain": [
       "<Figure size 432x288 with 1 Axes>"
      ]
     },
     "metadata": {
      "needs_background": "light"
     },
     "output_type": "display_data"
    },
    {
     "data": {
      "image/png": "[encoded data removed]",
      "text/plain": [
       "<Figure size 432x288 with 1 Axes>"
      ]
     },
     "metadata": {
      "needs_background": "light"
     },
     "output_type": "display_data"
    },
    {
     "data": {
      "image/png": "[encoded data removed]",
      "text/plain": [
       "<Figure size 432x288 with 1 Axes>"
      ]
     },
     "metadata": {
      "needs_background": "light"
     },
     "output_type": "display_data"
    },
    {
     "data": {
      "image/png": "[encoded data removed]",
      "text/plain": [
       "<Figure size 432x288 with 1 Axes>"
      ]
     },
     "metadata": {
      "needs_background": "light"
     },
     "output_type": "display_data"
    },
    {
     "data": {
      "image/png": "[encoded data removed]",
      "text/plain": [
       "<Figure size 432x288 with 1 Axes>"
      ]
     },
     "metadata": {
      "needs_background": "light"
     },
     "output_type": "display_data"
    },
    {
     "data": {
      "image/png": "[encoded data removed]",
      "text/plain": [
       "<Figure size 432x288 with 1 Axes>"
      ]
     },
     "metadata": {
      "needs_background": "light"
     },
     "output_type": "display_data"
    }
   ],
   "source": [
    "shp_total_validation(df_with_absentee_reallocated, shp, gdfv, \"unique_id\")"
   ]
  },
  {
   "cell_type": "markdown",
   "metadata": {},
   "source": [
    "## Election Results"
   ]
  },
  {
   "cell_type": "code",
   "execution_count": 58,
   "metadata": {},
   "outputs": [
    {
     "name": "stdout",
     "output_type": "stream",
     "text": [
      "\n",
      "There are  150  total rows\n",
      "19  of these rows have election result differences\n",
      "131  of these rows are the same\n",
      "\n",
      "The max difference between any one shared column in a row is:  1.0\n",
      "The average difference is:  1.0\n",
      "There are  0 precinct results with a difference greater than 10\n"
     ]
    }
   ],
   "source": [
    "validater_row(shp_gdfv_merge,column_list, \"unique_id\")"
   ]
  },
  {
   "cell_type": "code",
   "execution_count": null,
   "metadata": {},
   "outputs": [],
   "source": []
  }
 ],
 "metadata": {
  "kernelspec": {
   "display_name": "pdv_env",
   "language": "python",
   "name": "pdv_env"
  },
  "language_info": {
   "codemirror_mode": {
    "name": "ipython",
    "version": 3
   },
   "file_extension": ".py",
   "mimetype": "text/x-python",
   "name": "python",
   "nbconvert_exporter": "python",
   "pygments_lexer": "ipython3",
   "version": "3.9.4"
  }
 },
 "nbformat": 4,
 "nbformat_minor": 4
}
